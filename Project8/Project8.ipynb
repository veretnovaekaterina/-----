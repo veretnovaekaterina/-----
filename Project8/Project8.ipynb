{
 "cells": [
  {
   "cell_type": "markdown",
   "metadata": {},
   "source": [
    "# Выбор локации для скважины"
   ]
  },
  {
   "cell_type": "markdown",
   "metadata": {},
   "source": [
    "# Введение и описание данных\n",
    "Условия задачи:\n",
    "Для обучения модели нам подходит только линейная регрессия (остальные — недостаточно предсказуемые).\n",
    "При разведке региона исследуют 500 точек, из которых с помощью машинного обучения выбирают 200 лучших для разработки.\n",
    "Бюджет на разработку скважин в регионе — 10 млрд рублей.\n",
    "При нынешних ценах один баррель сырья приносит 450 рублей дохода. Доход с каждой единицы продукта составляет 450 тыс. рублей, поскольку объём указан в тысячах баррелей.\n",
    "После оценки рисков оставим лишь те регионы, в которых вероятность убытков меньше 2.5%. Среди них выберем регион с наибольшей средней прибылью.\n",
    "Данные синтетические: детали контрактов и характеристики месторождений не разглашаются.\n",
    "Значения столбцов:\n",
    "id — уникальный идентификатор скважины;\n",
    "f0, f1, f2 — три признака точек (неважно, что они означают, но сами признаки значимы);\n",
    "product — объём запасов в скважине (тыс. баррелей)."
   ]
  },
  {
   "cell_type": "code",
   "execution_count": 1,
   "metadata": {},
   "outputs": [
    {
     "name": "stdout",
     "output_type": "stream",
     "text": [
      "      id        f0        f1        f2     product\n",
      "0  txEyH  0.705745 -0.497823  1.221170  105.280062\n",
      "1  2acmU  1.334711 -0.340164  4.365080   73.037750\n",
      "2  409Wp  1.022732  0.151990  1.419926   85.265647\n",
      "3  iJLyR -0.032172  0.139033  2.978566  168.620776\n",
      "4  Xdl7t  1.988431  0.155413  4.751769  154.036647\n",
      "      id         f0         f1        f2     product\n",
      "0  kBEdx -15.001348  -8.276000 -0.005876    3.179103\n",
      "1  62mP7  14.272088  -3.475083  0.999183   26.953261\n",
      "2  vyE1P   6.263187  -5.948386  5.001160  134.766305\n",
      "3  KcrkZ -13.081196 -11.506057  4.999415  137.945408\n",
      "4  AHL4O  12.702195  -8.147433  5.004363  134.766305\n",
      "      id        f0        f1        f2     product\n",
      "0  fwXo0 -1.146987  0.963328 -0.828965   27.758673\n",
      "1  WJtFt  0.262778  0.269839 -2.530187   56.069697\n",
      "2  ovLUW  0.194587  0.289035 -5.586433   62.871910\n",
      "3  q6cA6  2.236060 -0.553760  0.930038  114.572842\n",
      "4  WPMUX -0.515993  1.716266  5.899011  149.600746\n"
     ]
    }
   ],
   "source": [
    "import pandas as pd\n",
    "from sklearn.preprocessing import StandardScaler \n",
    "from sklearn.linear_model import LinearRegression\n",
    "from sklearn.model_selection import train_test_split\n",
    "from sklearn.metrics import mean_squared_error\n",
    "from sklearn.metrics import accuracy_score\n",
    "from joblib import dump\n",
    "from sklearn.linear_model import LogisticRegression \n",
    "import numpy as np\n",
    "from scipy import stats as st\n",
    "import warnings\n",
    "warnings.filterwarnings(\"ignore\")\n",
    "\n",
    "geo_data_0 = pd.read_csv('/datasets/geo_data_0.csv')\n",
    "geo_data_1 = pd.read_csv('/datasets/geo_data_1.csv')\n",
    "geo_data_2 = pd.read_csv('/datasets/geo_data_2.csv')\n",
    "\n",
    "\n",
    "print(geo_data_0.head()) \n",
    "\n",
    "print(geo_data_1.head()) \n",
    "\n",
    "print(geo_data_2.head()) "
   ]
  },
  {
   "cell_type": "code",
   "execution_count": 2,
   "metadata": {},
   "outputs": [
    {
     "data": {
      "text/plain": [
       "id         0\n",
       "f0         0\n",
       "f1         0\n",
       "f2         0\n",
       "product    0\n",
       "dtype: int64"
      ]
     },
     "execution_count": 2,
     "metadata": {},
     "output_type": "execute_result"
    }
   ],
   "source": [
    "geo_data_0.isna().sum()\n"
   ]
  },
  {
   "cell_type": "code",
   "execution_count": 3,
   "metadata": {},
   "outputs": [
    {
     "data": {
      "text/plain": [
       "id         0\n",
       "f0         0\n",
       "f1         0\n",
       "f2         0\n",
       "product    0\n",
       "dtype: int64"
      ]
     },
     "execution_count": 3,
     "metadata": {},
     "output_type": "execute_result"
    }
   ],
   "source": [
    "geo_data_1.isna().sum()"
   ]
  },
  {
   "cell_type": "code",
   "execution_count": 4,
   "metadata": {},
   "outputs": [
    {
     "data": {
      "text/plain": [
       "id         0\n",
       "f0         0\n",
       "f1         0\n",
       "f2         0\n",
       "product    0\n",
       "dtype: int64"
      ]
     },
     "execution_count": 4,
     "metadata": {},
     "output_type": "execute_result"
    }
   ],
   "source": [
    "geo_data_2.isna().sum()"
   ]
  },
  {
   "cell_type": "code",
   "execution_count": 5,
   "metadata": {},
   "outputs": [
    {
     "data": {
      "text/plain": [
       "0"
      ]
     },
     "execution_count": 5,
     "metadata": {},
     "output_type": "execute_result"
    }
   ],
   "source": [
    "geo_data_0.duplicated().sum()"
   ]
  },
  {
   "cell_type": "code",
   "execution_count": 6,
   "metadata": {},
   "outputs": [
    {
     "data": {
      "text/plain": [
       "0"
      ]
     },
     "execution_count": 6,
     "metadata": {},
     "output_type": "execute_result"
    }
   ],
   "source": [
    "geo_data_1.duplicated().sum()"
   ]
  },
  {
   "cell_type": "code",
   "execution_count": 7,
   "metadata": {},
   "outputs": [
    {
     "data": {
      "text/plain": [
       "0"
      ]
     },
     "execution_count": 7,
     "metadata": {},
     "output_type": "execute_result"
    }
   ],
   "source": [
    "geo_data_2.duplicated().sum()"
   ]
  },
  {
   "cell_type": "code",
   "execution_count": 8,
   "metadata": {},
   "outputs": [],
   "source": [
    "# Столбец ID не несет смысловой нагрузки на наше исследование, удалим его.\n",
    "geo_data_0 = geo_data_0.drop(['id'], axis=1)\n",
    "geo_data_1 = geo_data_1.drop(['id'], axis=1)\n",
    "geo_data_2 = geo_data_2.drop(['id'], axis=1)"
   ]
  },
  {
   "cell_type": "code",
   "execution_count": 9,
   "metadata": {},
   "outputs": [
    {
     "name": "stdout",
     "output_type": "stream",
     "text": [
      "         f0        f1        f2     product\n",
      "0  0.705745 -0.497823  1.221170  105.280062\n",
      "1  1.334711 -0.340164  4.365080   73.037750\n",
      "2  1.022732  0.151990  1.419926   85.265647\n",
      "3 -0.032172  0.139033  2.978566  168.620776\n",
      "4  1.988431  0.155413  4.751769  154.036647\n",
      "          f0         f1        f2     product\n",
      "0 -15.001348  -8.276000 -0.005876    3.179103\n",
      "1  14.272088  -3.475083  0.999183   26.953261\n",
      "2   6.263187  -5.948386  5.001160  134.766305\n",
      "3 -13.081196 -11.506057  4.999415  137.945408\n",
      "4  12.702195  -8.147433  5.004363  134.766305\n",
      "         f0        f1        f2     product\n",
      "0 -1.146987  0.963328 -0.828965   27.758673\n",
      "1  0.262778  0.269839 -2.530187   56.069697\n",
      "2  0.194587  0.289035 -5.586433   62.871910\n",
      "3  2.236060 -0.553760  0.930038  114.572842\n",
      "4 -0.515993  1.716266  5.899011  149.600746\n"
     ]
    }
   ],
   "source": [
    "print(geo_data_0.head()) \n",
    "\n",
    "print(geo_data_1.head()) \n",
    "\n",
    "print(geo_data_2.head()) "
   ]
  },
  {
   "cell_type": "code",
   "execution_count": 10,
   "metadata": {},
   "outputs": [
    {
     "name": "stdout",
     "output_type": "stream",
     "text": [
      "                  f0             f1             f2        product\n",
      "count  100000.000000  100000.000000  100000.000000  100000.000000\n",
      "mean        0.500419       0.250143       2.502647      92.500000\n",
      "std         0.871832       0.504433       3.248248      44.288691\n",
      "min        -1.408605      -0.848218     -12.088328       0.000000\n",
      "25%        -0.072580      -0.200881       0.287748      56.497507\n",
      "50%         0.502360       0.250252       2.515969      91.849972\n",
      "75%         1.073581       0.700646       4.715088     128.564089\n",
      "max         2.362331       1.343769      16.003790     185.364347\n",
      "                  f0             f1             f2        product\n",
      "count  100000.000000  100000.000000  100000.000000  100000.000000\n",
      "mean        1.141296      -4.796579       2.494541      68.825000\n",
      "std         8.965932       5.119872       1.703572      45.944423\n",
      "min       -31.609576     -26.358598      -0.018144       0.000000\n",
      "25%        -6.298551      -8.267985       1.000021      26.953261\n",
      "50%         1.153055      -4.813172       2.011479      57.085625\n",
      "75%         8.621015      -1.332816       3.999904     107.813044\n",
      "max        29.421755      18.734063       5.019721     137.945408\n",
      "                  f0             f1             f2        product\n",
      "count  100000.000000  100000.000000  100000.000000  100000.000000\n",
      "mean        0.002023      -0.002081       2.495128      95.000000\n",
      "std         1.732045       1.730417       3.473445      44.749921\n",
      "min        -8.760004      -7.084020     -11.970335       0.000000\n",
      "25%        -1.162288      -1.174820       0.130359      59.450441\n",
      "50%         0.009424      -0.009482       2.484236      94.925613\n",
      "75%         1.158535       1.163678       4.858794     130.595027\n",
      "max         7.238262       7.844801      16.739402     190.029838\n"
     ]
    }
   ],
   "source": [
    "print(geo_data_0.describe())\n",
    "\n",
    "print(geo_data_1.describe()) \n",
    "\n",
    "print(geo_data_2.describe()) "
   ]
  },
  {
   "cell_type": "markdown",
   "metadata": {},
   "source": [
    "В первой части нашего исследования мы изучили и подготовили данные для дальнейшей работы. Проверили на наличие дубликатов и удалили столбцы в данных, которые не нужны для дальнейшего исследования."
   ]
  },
  {
   "cell_type": "markdown",
   "metadata": {},
   "source": [
    "## Обучение и проверка модели"
   ]
  },
  {
   "cell_type": "markdown",
   "metadata": {},
   "source": [
    "Преобразуем датафрейм техникой OHE. Чтобы не попасть в дамми-ловушку, применим аргумент drop_first функции pd.get_dummies(). \n",
    "Разобьем данные на выборки: Обучающую, валидационную, тестовую в соотношении 75-25 соотвественно. \n",
    "Сначала стандартизируем численные признаки. Импортируем StandardScaler из модуля sklearn.preprocessing. \n",
    "Создадим объект структуры StandardScaler() и настроим его на обучающих данных. Поместим все это в функцию.\n"
   ]
  },
  {
   "cell_type": "code",
   "execution_count": 11,
   "metadata": {},
   "outputs": [
    {
     "name": "stdout",
     "output_type": "stream",
     "text": [
      "(75000, 3) (75000,)\n",
      "(25000, 3) (25000,)\n",
      "(75000, 3) (75000,)\n",
      "(25000, 3) (25000,)\n",
      "(75000, 3) (75000,)\n",
      "(25000, 3) (25000,)\n"
     ]
    }
   ],
   "source": [
    "\n",
    "def i(geo_data):\n",
    "   \n",
    "    target = geo_data['product']\n",
    "    features = geo_data.drop('product', axis=1)\n",
    "    features_train, features_valid, target_train, target_valid = train_test_split(\n",
    "    features, target, test_size=0.25, random_state=12345)\n",
    "    \n",
    "    \n",
    "    numeric = ['f0', 'f1', 'f2']\n",
    "    scaler = StandardScaler()\n",
    "    scaler.fit(features_train[numeric])\n",
    "\n",
    "    features_train[numeric] = scaler.transform(features_train[numeric])\n",
    "    features_valid[numeric] = scaler.transform(features_valid[numeric])\n",
    "    \n",
    "    return features_train, features_valid, target_train, target_valid\n",
    "\n",
    "features_train_0, features_valid_0, target_train_0, target_valid_0 = i(geo_data_0) \n",
    "features_train_1, features_valid_1, target_train_1, target_valid_1 = i(geo_data_1)\n",
    "features_train_2, features_valid_2, target_train_2, target_valid_2 = i(geo_data_2)\n",
    "\n",
    "print(features_train_0.shape,  target_train_0.shape)\n",
    "print(features_valid_0.shape, target_valid_0.shape) \n",
    "\n",
    "print(features_train_1.shape,  target_train_1.shape)\n",
    "print(features_valid_1.shape, target_valid_1.shape) \n",
    "\n",
    "print(features_train_2.shape,  target_train_2.shape)\n",
    "print(features_valid_2.shape, target_valid_2.shape) \n",
    "\n"
   ]
  },
  {
   "cell_type": "markdown",
   "metadata": {},
   "source": [
    "Обучим модель и сделаем предсказания на валидационной выборке. для обучения модели подходит только линейная регрессия(остальные недостаточно предсказуемые). Сохраним предсказания и ответы по каждому региону и выведем средний запас и RMSE модели по каждому региону."
   ]
  },
  {
   "cell_type": "code",
   "execution_count": 12,
   "metadata": {},
   "outputs": [
    {
     "name": "stdout",
     "output_type": "stream",
     "text": [
      "Linear Regression 0\n",
      "Mean = 92.59256778438035\n",
      "RMSE = 37.5794217150813\n"
     ]
    }
   ],
   "source": [
    "model = LinearRegression()\n",
    "model.fit(features_train_0, target_train_0)\n",
    "predictions_valid_0 = pd.Series(model.predict(features_valid_0))\n",
    "mse = mean_squared_error(target_valid_0, predictions_valid_0)\n",
    "RMSE_0=mse**0.5\n",
    "mean_predictions_valid_0 =predictions_valid_0.mean()\n",
    "\n",
    "print(\"Linear Regression 0\")\n",
    "print(\"Mean =\", mean_predictions_valid_0)\n",
    "print(\"RMSE =\", RMSE_0)"
   ]
  },
  {
   "cell_type": "code",
   "execution_count": 13,
   "metadata": {},
   "outputs": [
    {
     "name": "stdout",
     "output_type": "stream",
     "text": [
      "Linear Regression 1\n",
      "Mean = 68.728546895446\n",
      "RMSE = 0.893099286775617\n"
     ]
    }
   ],
   "source": [
    "model = LinearRegression()\n",
    "model.fit(features_train_1, target_train_1)\n",
    "predictions_valid_1 = pd.Series(model.predict(features_valid_1))\n",
    "mse = mean_squared_error(target_valid_1, predictions_valid_1)\n",
    "RMSE_1=mse**0.5\n",
    "mean_predictions_valid_1 =predictions_valid_1.mean()\n",
    "\n",
    "print(\"Linear Regression 1\")\n",
    "print(\"Mean =\", mean_predictions_valid_1)\n",
    "print(\"RMSE =\", RMSE_1)"
   ]
  },
  {
   "cell_type": "code",
   "execution_count": 14,
   "metadata": {},
   "outputs": [
    {
     "name": "stdout",
     "output_type": "stream",
     "text": [
      "Linear Regression 2\n",
      "Mean = 94.96504596800489\n",
      "RMSE = 40.02970873393434\n"
     ]
    }
   ],
   "source": [
    "model = LinearRegression()\n",
    "model.fit(features_train_2, target_train_2)\n",
    "predictions_valid_2 = pd.Series(model.predict(features_valid_2))\n",
    "mse = mean_squared_error(target_valid_2, predictions_valid_2)\n",
    "RMSE_2=mse**0.5\n",
    "mean_predictions_valid_2 =predictions_valid_2.mean()\n",
    "\n",
    "print(\"Linear Regression 2\")\n",
    "print(\"Mean =\", mean_predictions_valid_2)\n",
    "print(\"RMSE =\", RMSE_2)"
   ]
  },
  {
   "cell_type": "markdown",
   "metadata": {},
   "source": [
    "Один из способов оценить, насколько хорошо регрессионная модель соответствует набору данных, — вычислить среднеквадратичную которая сообщает нам среднее расстояние между прогнозируемыми значениями из модели и фактическими значениями в наборе данных.Формула для нахождения среднеквадратичной ошибки, часто обозначаемая аббревиатурой RMSE.Чем ниже RMSE, тем лучше данная модель может «соответствовать» набору данных. В нашем случае самый низкий показатель RMSE у второй модели."
   ]
  },
  {
   "cell_type": "markdown",
   "metadata": {},
   "source": [
    "## Подготовка к расчёту прибыли"
   ]
  },
  {
   "cell_type": "markdown",
   "metadata": {},
   "source": [
    "Условия задачи: Для обучения модели нам подходит только линейная регрессия (остальные — недостаточно предсказуемые).\n",
    " При разведке региона исследуют 500 точек, из которых с помощью машинного обучения выбирают 200 лучших для разработки. \n",
    "Бюджет на разработку скважин в регионе — 10 млрд рублей. При нынешних ценах один баррель сырья приносит 450 рублей дохода. \n",
    "Доход с каждой единицы продукта составляет 450 тыс. рублей, поскольку объём указан в тысячах баррелей.\n",
    " После оценки рисков оставим лишь те регионы, в которых вероятность убытков меньше 2.5%. Среди них выберем регион с наибольшей средней прибылью."
   ]
  },
  {
   "cell_type": "code",
   "execution_count": 15,
   "metadata": {},
   "outputs": [],
   "source": [
    "# Сохраним все ключевые значения для расчетов в отдельных переменных\n",
    "research_point = 500  # количество точек исследования\n",
    "learning_point = 200 # количество точек для обучения\n",
    "budget = 10000 # бюджет на разработку скважин млн.р.\n",
    "bootstrap_sample = 1000 # количество выборок по заданию\n",
    "income_per_unit = 0.45 # доход с каждой единицы продукта млн.р\n",
    "probability_losses = 0.025 # вероятность убытков не меньше 2,5%"
   ]
  },
  {
   "cell_type": "markdown",
   "metadata": {},
   "source": [
    "Нам нужно рассчитать достаточный объем сырья для безубыточной разработки новой скважины. Сначала посмотрим на бюджет на одну скважину"
   ]
  },
  {
   "cell_type": "code",
   "execution_count": 16,
   "metadata": {},
   "outputs": [
    {
     "name": "stdout",
     "output_type": "stream",
     "text": [
      "Бюджет на разработку 1 скважины в млн.р 50.0\n"
     ]
    }
   ],
   "source": [
    "budget_for_well = budget/learning_point\n",
    "print('Бюджет на разработку 1 скважины в млн.р',budget_for_well)"
   ]
  },
  {
   "cell_type": "markdown",
   "metadata": {},
   "source": [
    "Теперь, если мы разделим бюджет на 1 скважину на доход с каждой единицы продукта мы увидим сколько баррелей должна давать скважина."
   ]
  },
  {
   "cell_type": "code",
   "execution_count": 17,
   "metadata": {},
   "outputs": [
    {
     "name": "stdout",
     "output_type": "stream",
     "text": [
      "Сколько баррелей должна двавать скважина чтобы быть доходной 111.11111111111111\n"
     ]
    }
   ],
   "source": [
    "minimum_well_income = budget_for_well/income_per_unit\n",
    "print('Сколько баррелей должна двавать скважина чтобы быть доходной', minimum_well_income )"
   ]
  },
  {
   "cell_type": "markdown",
   "metadata": {},
   "source": [
    "В нашем выбранном регионе среднее значение 68, что намного меньше. Интересно, сможет ли вообще в этом регионе окупиться добыча. Первый и второй регион по средней добыче на скважину немного выше, но все равно не дотягивают до нужного нам значения."
   ]
  },
  {
   "cell_type": "markdown",
   "metadata": {},
   "source": [
    "Напишем функцию для расчета прибыли по выбранным скважинам и предсказаниям модели. Сначала выберем скважины с 200 максимальными значениями предсказаний, просуммируем целевое значение объема сырья и рассчитаем прибыль для полученного объема сырья."
   ]
  },
  {
   "cell_type": "code",
   "execution_count": 18,
   "metadata": {},
   "outputs": [
    {
     "name": "stdout",
     "output_type": "stream",
     "text": [
      "Регион 1, млн. руб. 3320.8260431398503\n",
      "Регион 2, млн. руб. 2415.086696681512\n",
      "Регион 3, млн. руб. 2710.3499635998323\n"
     ]
    }
   ],
   "source": [
    "\n",
    "def revenue(target_valid, predictions_valid):\n",
    "    probs_sorted = predictions_valid.sort_values(ascending=False).head(200)\n",
    "    selected = target_valid.reset_index(drop=True)[probs_sorted.index]\n",
    "    return (selected.sum() * income_per_unit-budget)\n",
    "\n",
    "\n",
    "print('Регион 1, млн. руб.', revenue(target_valid_0, predictions_valid_0))\n",
    "print('Регион 2, млн. руб.', revenue(target_valid_1, predictions_valid_1))\n",
    "print('Регион 3, млн. руб.', revenue(target_valid_2, predictions_valid_2))"
   ]
  },
  {
   "cell_type": "markdown",
   "metadata": {},
   "source": [
    "Данные прибыли по всем трем регионам очень велики. Мы посчитали прибыль, если все скважины в каждом регионе разраватывать и выбирать 200 самых прибыльных. В реальности на разработку всех скважин у нас не хватит бюджета. Так что далее по заданию мы возьмем 500 точек разработки и выберем из них 200 самых прибыльных и посмотрим как изменится прибыль после этого."
   ]
  },
  {
   "cell_type": "markdown",
   "metadata": {},
   "source": [
    "## Расчет прибыли и рисков для каждого региона\n"
   ]
  },
  {
   "cell_type": "markdown",
   "metadata": {},
   "source": [
    "Изменим нашу функццию по расчету прибыли и возьмем значения по количеству точек исследования -500, количество точек для обучения 200"
   ]
  },
  {
   "cell_type": "code",
   "execution_count": 19,
   "metadata": {},
   "outputs": [],
   "source": [
    "def revenue(target_valid, predictions_valid, learning_point):\n",
    "    probs_sorted = predictions_valid.sort_values(ascending=False)\n",
    "    selected = target_valid[probs_sorted.index][:learning_point]\n",
    "    return (selected.sum() * income_per_unit-budget)\n",
    "\n",
    "\n",
    "\n"
   ]
  },
  {
   "cell_type": "markdown",
   "metadata": {},
   "source": [
    "Применим технику bootstrap с 1000 выборок и надем распределение прибыли"
   ]
  },
  {
   "cell_type": "code",
   "execution_count": 28,
   "metadata": {},
   "outputs": [],
   "source": [
    "\n",
    "\n",
    "def bootstrap(target_valid, predictions_valid,bootstrap_sample, research_point ): \n",
    "    state = np.random.RandomState(12345)   \n",
    "    values = []\n",
    "  \n",
    "    for i in range(bootstrap_sample):\n",
    "        target_subsample = target_valid.reset_index(drop=True).sample(research_point, replace=True, random_state=state)\n",
    "        probs_subsample = predictions_valid[target_subsample.index] \n",
    "        rev = revenue(target_subsample, probs_subsample,learning_point)\n",
    "        values.append(rev)\n",
    "\n",
    "    \n",
    "\n",
    "    values = pd.Series(values)\n",
    "    lower = values.quantile(.025)\n",
    "    upper = values.quantile(.975)\n",
    "    risk = display(pd.Series(values))\n",
    "\n",
    "    mean = values.mean()\n",
    "    \n",
    "    print(\"Средняя выручка:\", mean)\n",
    "    print(\"2.5%-квантиль:\", lower)\n",
    "    print(\"97.5%-квантиль:\", upper)\n",
    "   \n",
    "    print('Риск убытков = {:.2%} '.format((pd.Series(values)<0).mean()))\n",
    "  \n",
    "    return (lower, upper,  mean, risk)\n"
   ]
  },
  {
   "cell_type": "code",
   "execution_count": 29,
   "metadata": {},
   "outputs": [
    {
     "data": {
      "text/plain": [
       "0   -2\n",
       "1   -1\n",
       "2    4\n",
       "3    5\n",
       "dtype: int64"
      ]
     },
     "metadata": {},
     "output_type": "display_data"
    },
    {
     "data": {
      "text/plain": [
       "'Риск убытков = 50.00% '"
      ]
     },
     "execution_count": 29,
     "metadata": {},
     "output_type": "execute_result"
    }
   ],
   "source": [
    "\n",
    "\n",
    "display(pd.Series([-2, -1, 4, 5]))\n",
    "'Риск убытков = {:.2%} '.format((pd.Series([-2, -1, 4, 5])<0).mean())"
   ]
  },
  {
   "cell_type": "markdown",
   "metadata": {},
   "source": [
    "Посмотрим на среднюю прибыль, 95% доверительный интервал и возможный риск убытков по каждому региону и выберем наиболее нам подходящий."
   ]
  },
  {
   "cell_type": "code",
   "execution_count": 30,
   "metadata": {},
   "outputs": [
    {
     "data": {
      "text/plain": [
       "0      585.088996\n",
       "1      536.393431\n",
       "2      211.079359\n",
       "3      265.280252\n",
       "4      271.992922\n",
       "          ...    \n",
       "995    474.095510\n",
       "996    855.997177\n",
       "997    785.994755\n",
       "998    354.221504\n",
       "999    198.820277\n",
       "Length: 1000, dtype: float64"
      ]
     },
     "metadata": {},
     "output_type": "display_data"
    },
    {
     "name": "stdout",
     "output_type": "stream",
     "text": [
      "Средняя выручка: 425.9385269105927\n",
      "2.5%-квантиль: -102.09009483793592\n",
      "97.5%-квантиль: 947.976353358369\n",
      "Риск убытков = 6.00% \n",
      "Регион 1\n"
     ]
    }
   ],
   "source": [
    "bootstrap(target_valid_0, predictions_valid_0,bootstrap_sample, research_point)\n",
    "print('Регион 1')\n",
    "\n"
   ]
  },
  {
   "cell_type": "code",
   "execution_count": 31,
   "metadata": {},
   "outputs": [
    {
     "data": {
      "text/plain": [
       "0      299.359372\n",
       "1      382.831548\n",
       "2      303.651161\n",
       "3      658.190210\n",
       "4      358.573613\n",
       "          ...    \n",
       "995    755.968347\n",
       "996    766.728918\n",
       "997    358.511413\n",
       "998    509.843607\n",
       "999    174.524307\n",
       "Length: 1000, dtype: float64"
      ]
     },
     "metadata": {},
     "output_type": "display_data"
    },
    {
     "name": "stdout",
     "output_type": "stream",
     "text": [
      "Средняя выручка: 515.2227734432902\n",
      "2.5%-квантиль: 68.87322537050254\n",
      "97.5%-квантиль: 931.547591257049\n",
      "Риск убытков = 1.00% \n",
      "Регион 2\n"
     ]
    }
   ],
   "source": [
    "bootstrap(target_valid_1, predictions_valid_1,bootstrap_sample, research_point)\n",
    "print('Регион 2')\n"
   ]
  },
  {
   "cell_type": "code",
   "execution_count": 32,
   "metadata": {},
   "outputs": [
    {
     "data": {
      "text/plain": [
       "0      -95.044177\n",
       "1      728.210597\n",
       "2      611.217813\n",
       "3      582.754149\n",
       "4       25.014579\n",
       "          ...    \n",
       "995    566.865968\n",
       "996    -11.648065\n",
       "997    645.595218\n",
       "998    536.735982\n",
       "999    121.270210\n",
       "Length: 1000, dtype: float64"
      ]
     },
     "metadata": {},
     "output_type": "display_data"
    },
    {
     "name": "stdout",
     "output_type": "stream",
     "text": [
      "Средняя выручка: 435.00836278275585\n",
      "2.5%-квантиль: -128.88054732978893\n",
      "97.5%-квантиль: 969.7069541802657\n",
      "Риск убытков = 6.40% \n",
      "Регион 3\n"
     ]
    }
   ],
   "source": [
    "bootstrap(target_valid_2, predictions_valid_2,bootstrap_sample, research_point)\n",
    "print('Регион 3')\n"
   ]
  },
  {
   "cell_type": "markdown",
   "metadata": {},
   "source": [
    "# Вывод\n",
    "По всем трем регионам показатели средней выручки сильно уменьшились по сравнению с предвдущим расчетом. Но по нашим расчетам показатели средней выручки во всех трех регионах подходят нам для дальнейших разработок, так как минимальная граница прибыльности сильно ниже. чем прогнозируемая прибыль по всем трем регионам. Отсутствие прогнозируемых убытков мы видим только во втором регионе, что видно по значениям 2,5% квантиля. Левая граница, которая отделяет 2.5 % данных для 1-го и 3-го регионов принимает отрицательное значение, что говорит о том, что более 2.5 % выборок имеют отрицательную прибыль. По  заданию нашего исследования нам нужно оставить лишь те регионы, в которых вероятность убытков меньше 2,5%. В нашем случае это 2 регион.\n",
    " В связи с этим для дальнейшей работы рекомендуется оставить только второй регион."
   ]
  }
 ],
 "metadata": {
  "ExecuteTimeLog": [
   {
    "duration": 1357,
    "start_time": "2022-12-01T10:34:52.665Z"
   },
   {
    "duration": 1696,
    "start_time": "2022-12-01T10:35:53.295Z"
   },
   {
    "duration": 26,
    "start_time": "2022-12-01T10:37:11.513Z"
   },
   {
    "duration": 9,
    "start_time": "2022-12-01T10:37:53.225Z"
   },
   {
    "duration": 10,
    "start_time": "2022-12-01T10:37:55.149Z"
   },
   {
    "duration": 10,
    "start_time": "2022-12-01T10:37:56.103Z"
   },
   {
    "duration": 46,
    "start_time": "2022-12-01T10:38:39.880Z"
   },
   {
    "duration": 45,
    "start_time": "2022-12-01T10:38:40.691Z"
   },
   {
    "duration": 45,
    "start_time": "2022-12-01T10:38:41.307Z"
   },
   {
    "duration": 15,
    "start_time": "2022-12-01T10:42:49.914Z"
   },
   {
    "duration": 10,
    "start_time": "2022-12-01T10:44:09.812Z"
   },
   {
    "duration": 84,
    "start_time": "2022-12-01T10:45:16.246Z"
   },
   {
    "duration": 18,
    "start_time": "2022-12-01T10:48:16.205Z"
   },
   {
    "duration": 15,
    "start_time": "2022-12-01T10:49:28.913Z"
   },
   {
    "duration": 1475,
    "start_time": "2022-12-01T10:54:19.133Z"
   },
   {
    "duration": 13,
    "start_time": "2022-12-01T10:54:20.611Z"
   },
   {
    "duration": 8,
    "start_time": "2022-12-01T10:54:20.626Z"
   },
   {
    "duration": 27,
    "start_time": "2022-12-01T10:54:20.636Z"
   },
   {
    "duration": 50,
    "start_time": "2022-12-01T10:54:20.665Z"
   },
   {
    "duration": 53,
    "start_time": "2022-12-01T10:54:20.717Z"
   },
   {
    "duration": 49,
    "start_time": "2022-12-01T10:54:20.772Z"
   },
   {
    "duration": 38,
    "start_time": "2022-12-01T10:54:20.823Z"
   },
   {
    "duration": 14,
    "start_time": "2022-12-01T10:54:20.863Z"
   },
   {
    "duration": 95,
    "start_time": "2022-12-01T10:54:20.880Z"
   },
   {
    "duration": 20,
    "start_time": "2022-12-01T10:54:20.978Z"
   },
   {
    "duration": 1353,
    "start_time": "2022-12-01T10:54:21.000Z"
   },
   {
    "duration": 334,
    "start_time": "2022-12-01T10:55:09.191Z"
   },
   {
    "duration": 11,
    "start_time": "2022-12-01T10:56:35.742Z"
   },
   {
    "duration": 13,
    "start_time": "2022-12-01T11:02:11.340Z"
   },
   {
    "duration": 16,
    "start_time": "2022-12-01T11:04:28.313Z"
   },
   {
    "duration": 20,
    "start_time": "2022-12-01T11:05:00.320Z"
   },
   {
    "duration": 22,
    "start_time": "2022-12-01T11:08:30.493Z"
   },
   {
    "duration": 1368,
    "start_time": "2022-12-01T11:09:09.097Z"
   },
   {
    "duration": 12,
    "start_time": "2022-12-01T11:09:10.467Z"
   },
   {
    "duration": 8,
    "start_time": "2022-12-01T11:09:10.481Z"
   },
   {
    "duration": 9,
    "start_time": "2022-12-01T11:09:10.491Z"
   },
   {
    "duration": 62,
    "start_time": "2022-12-01T11:09:10.501Z"
   },
   {
    "duration": 42,
    "start_time": "2022-12-01T11:09:10.564Z"
   },
   {
    "duration": 58,
    "start_time": "2022-12-01T11:09:10.607Z"
   },
   {
    "duration": 15,
    "start_time": "2022-12-01T11:09:10.667Z"
   },
   {
    "duration": 16,
    "start_time": "2022-12-01T11:09:10.685Z"
   },
   {
    "duration": 98,
    "start_time": "2022-12-01T11:09:10.703Z"
   },
   {
    "duration": 21,
    "start_time": "2022-12-01T11:09:10.803Z"
   },
   {
    "duration": 47,
    "start_time": "2022-12-01T11:09:10.826Z"
   },
   {
    "duration": 12,
    "start_time": "2022-12-01T11:09:10.875Z"
   },
   {
    "duration": 108,
    "start_time": "2022-12-01T11:13:08.068Z"
   },
   {
    "duration": 13,
    "start_time": "2022-12-01T11:16:00.371Z"
   },
   {
    "duration": 12,
    "start_time": "2022-12-01T11:17:01.515Z"
   },
   {
    "duration": 16,
    "start_time": "2022-12-01T11:17:22.372Z"
   },
   {
    "duration": 18,
    "start_time": "2022-12-01T11:19:17.408Z"
   },
   {
    "duration": 24,
    "start_time": "2022-12-01T11:19:17.994Z"
   },
   {
    "duration": 17,
    "start_time": "2022-12-01T11:19:18.563Z"
   },
   {
    "duration": 23,
    "start_time": "2022-12-01T11:24:54.858Z"
   },
   {
    "duration": 30,
    "start_time": "2022-12-01T11:25:21.555Z"
   },
   {
    "duration": 30,
    "start_time": "2022-12-01T11:25:29.703Z"
   },
   {
    "duration": 18,
    "start_time": "2022-12-01T11:26:48.765Z"
   },
   {
    "duration": 15,
    "start_time": "2022-12-01T11:26:53.210Z"
   },
   {
    "duration": 44,
    "start_time": "2022-12-01T11:31:38.463Z"
   },
   {
    "duration": 120,
    "start_time": "2022-12-02T10:08:25.243Z"
   },
   {
    "duration": 43,
    "start_time": "2022-12-02T10:08:53.334Z"
   },
   {
    "duration": 2835,
    "start_time": "2022-12-02T10:09:12.018Z"
   },
   {
    "duration": 16,
    "start_time": "2022-12-02T10:09:16.727Z"
   },
   {
    "duration": 10,
    "start_time": "2022-12-02T10:09:17.397Z"
   },
   {
    "duration": 10,
    "start_time": "2022-12-02T10:09:17.593Z"
   },
   {
    "duration": 55,
    "start_time": "2022-12-02T10:09:17.781Z"
   },
   {
    "duration": 49,
    "start_time": "2022-12-02T10:09:17.959Z"
   },
   {
    "duration": 55,
    "start_time": "2022-12-02T10:09:18.131Z"
   },
   {
    "duration": 22,
    "start_time": "2022-12-02T10:09:18.343Z"
   },
   {
    "duration": 11,
    "start_time": "2022-12-02T10:09:19.551Z"
   },
   {
    "duration": 96,
    "start_time": "2022-12-02T10:09:20.719Z"
   },
   {
    "duration": 103,
    "start_time": "2022-12-02T10:09:25.851Z"
   },
   {
    "duration": 15,
    "start_time": "2022-12-02T10:10:11.353Z"
   },
   {
    "duration": 21,
    "start_time": "2022-12-02T10:10:29.852Z"
   },
   {
    "duration": 15,
    "start_time": "2022-12-02T10:10:50.060Z"
   },
   {
    "duration": 3,
    "start_time": "2022-12-02T10:29:09.215Z"
   },
   {
    "duration": 2,
    "start_time": "2022-12-02T10:40:39.917Z"
   },
   {
    "duration": 4,
    "start_time": "2022-12-02T10:41:39.800Z"
   },
   {
    "duration": 6,
    "start_time": "2022-12-02T10:48:21.080Z"
   },
   {
    "duration": 3,
    "start_time": "2022-12-02T10:53:12.534Z"
   },
   {
    "duration": 87,
    "start_time": "2022-12-02T11:24:21.371Z"
   },
   {
    "duration": 1641,
    "start_time": "2022-12-02T11:25:15.544Z"
   },
   {
    "duration": 14,
    "start_time": "2022-12-02T11:25:17.187Z"
   },
   {
    "duration": 13,
    "start_time": "2022-12-02T11:25:17.203Z"
   },
   {
    "duration": 27,
    "start_time": "2022-12-02T11:25:17.220Z"
   },
   {
    "duration": 69,
    "start_time": "2022-12-02T11:25:17.249Z"
   },
   {
    "duration": 56,
    "start_time": "2022-12-02T11:25:17.321Z"
   },
   {
    "duration": 69,
    "start_time": "2022-12-02T11:25:17.379Z"
   },
   {
    "duration": 19,
    "start_time": "2022-12-02T11:25:17.451Z"
   },
   {
    "duration": 20,
    "start_time": "2022-12-02T11:25:17.472Z"
   },
   {
    "duration": 97,
    "start_time": "2022-12-02T11:25:17.496Z"
   },
   {
    "duration": 114,
    "start_time": "2022-12-02T11:25:17.596Z"
   },
   {
    "duration": 34,
    "start_time": "2022-12-02T11:25:17.712Z"
   },
   {
    "duration": 194,
    "start_time": "2022-12-02T11:25:17.747Z"
   },
   {
    "duration": 116,
    "start_time": "2022-12-02T11:25:17.944Z"
   },
   {
    "duration": 77,
    "start_time": "2022-12-02T11:25:18.063Z"
   },
   {
    "duration": 115,
    "start_time": "2022-12-02T11:25:18.142Z"
   },
   {
    "duration": 7,
    "start_time": "2022-12-02T11:25:18.259Z"
   },
   {
    "duration": 115,
    "start_time": "2022-12-02T11:25:18.268Z"
   },
   {
    "duration": 14,
    "start_time": "2022-12-02T11:28:05.249Z"
   },
   {
    "duration": 14,
    "start_time": "2022-12-02T11:29:26.748Z"
   },
   {
    "duration": 12,
    "start_time": "2022-12-02T11:30:03.109Z"
   },
   {
    "duration": 1524,
    "start_time": "2022-12-02T11:30:09.657Z"
   },
   {
    "duration": 13,
    "start_time": "2022-12-02T11:30:11.183Z"
   },
   {
    "duration": 9,
    "start_time": "2022-12-02T11:30:11.198Z"
   },
   {
    "duration": 29,
    "start_time": "2022-12-02T11:30:11.209Z"
   },
   {
    "duration": 50,
    "start_time": "2022-12-02T11:30:11.240Z"
   },
   {
    "duration": 63,
    "start_time": "2022-12-02T11:30:11.292Z"
   },
   {
    "duration": 47,
    "start_time": "2022-12-02T11:30:11.357Z"
   },
   {
    "duration": 31,
    "start_time": "2022-12-02T11:30:11.406Z"
   },
   {
    "duration": 11,
    "start_time": "2022-12-02T11:30:11.439Z"
   },
   {
    "duration": 108,
    "start_time": "2022-12-02T11:30:11.453Z"
   },
   {
    "duration": 116,
    "start_time": "2022-12-02T11:30:11.563Z"
   },
   {
    "duration": 62,
    "start_time": "2022-12-02T11:30:11.680Z"
   },
   {
    "duration": 107,
    "start_time": "2022-12-02T11:30:11.744Z"
   },
   {
    "duration": 185,
    "start_time": "2022-12-02T11:30:11.856Z"
   },
   {
    "duration": 105,
    "start_time": "2022-12-02T11:30:12.044Z"
   },
   {
    "duration": 90,
    "start_time": "2022-12-02T11:30:12.152Z"
   },
   {
    "duration": 5,
    "start_time": "2022-12-02T11:30:12.243Z"
   },
   {
    "duration": 114,
    "start_time": "2022-12-02T11:30:12.250Z"
   },
   {
    "duration": 14,
    "start_time": "2022-12-02T11:35:00.682Z"
   },
   {
    "duration": 13,
    "start_time": "2022-12-02T11:35:10.033Z"
   },
   {
    "duration": 15,
    "start_time": "2022-12-02T11:52:48.556Z"
   },
   {
    "duration": 16,
    "start_time": "2022-12-02T12:39:08.937Z"
   },
   {
    "duration": 48,
    "start_time": "2022-12-05T08:26:13.330Z"
   },
   {
    "duration": 1753,
    "start_time": "2022-12-05T08:26:28.864Z"
   },
   {
    "duration": 17,
    "start_time": "2022-12-05T08:26:30.619Z"
   },
   {
    "duration": 26,
    "start_time": "2022-12-05T08:26:30.638Z"
   },
   {
    "duration": 19,
    "start_time": "2022-12-05T08:26:30.667Z"
   },
   {
    "duration": 68,
    "start_time": "2022-12-05T08:26:30.688Z"
   },
   {
    "duration": 49,
    "start_time": "2022-12-05T08:26:30.758Z"
   },
   {
    "duration": 66,
    "start_time": "2022-12-05T08:26:30.809Z"
   },
   {
    "duration": 17,
    "start_time": "2022-12-05T08:26:30.877Z"
   },
   {
    "duration": 36,
    "start_time": "2022-12-05T08:26:30.895Z"
   },
   {
    "duration": 134,
    "start_time": "2022-12-05T08:26:30.933Z"
   },
   {
    "duration": 105,
    "start_time": "2022-12-05T08:26:31.069Z"
   },
   {
    "duration": 81,
    "start_time": "2022-12-05T08:26:31.176Z"
   },
   {
    "duration": 110,
    "start_time": "2022-12-05T08:26:31.259Z"
   },
   {
    "duration": 188,
    "start_time": "2022-12-05T08:26:31.371Z"
   },
   {
    "duration": 109,
    "start_time": "2022-12-05T08:26:31.561Z"
   },
   {
    "duration": 13,
    "start_time": "2022-12-05T08:26:31.671Z"
   },
   {
    "duration": 26,
    "start_time": "2022-12-05T08:26:31.685Z"
   },
   {
    "duration": 138,
    "start_time": "2022-12-05T08:26:31.712Z"
   },
   {
    "duration": 0,
    "start_time": "2022-12-05T08:26:31.852Z"
   },
   {
    "duration": 24,
    "start_time": "2022-12-05T08:27:17.556Z"
   },
   {
    "duration": 3,
    "start_time": "2022-12-05T09:13:48.875Z"
   },
   {
    "duration": 4,
    "start_time": "2022-12-05T09:22:32.982Z"
   },
   {
    "duration": 49,
    "start_time": "2022-12-05T09:24:18.441Z"
   },
   {
    "duration": 9,
    "start_time": "2022-12-05T09:24:30.779Z"
   },
   {
    "duration": 3,
    "start_time": "2022-12-05T09:24:45.142Z"
   },
   {
    "duration": 32,
    "start_time": "2022-12-05T09:24:46.942Z"
   },
   {
    "duration": 9,
    "start_time": "2022-12-05T09:25:47.842Z"
   },
   {
    "duration": 3,
    "start_time": "2022-12-05T09:26:37.954Z"
   },
   {
    "duration": 4,
    "start_time": "2022-12-05T09:27:04.135Z"
   },
   {
    "duration": 21,
    "start_time": "2022-12-05T09:27:05.243Z"
   },
   {
    "duration": 3,
    "start_time": "2022-12-05T09:42:48.242Z"
   },
   {
    "duration": 9,
    "start_time": "2022-12-05T09:44:21.002Z"
   },
   {
    "duration": 20,
    "start_time": "2022-12-05T09:44:38.669Z"
   },
   {
    "duration": 12,
    "start_time": "2022-12-05T09:45:12.374Z"
   },
   {
    "duration": 3,
    "start_time": "2022-12-05T09:50:22.993Z"
   },
   {
    "duration": 34,
    "start_time": "2022-12-05T09:50:27.862Z"
   },
   {
    "duration": 3,
    "start_time": "2022-12-05T09:52:41.595Z"
   },
   {
    "duration": 13,
    "start_time": "2022-12-05T09:52:47.119Z"
   },
   {
    "duration": 4,
    "start_time": "2022-12-05T09:53:39.714Z"
   },
   {
    "duration": 15,
    "start_time": "2022-12-05T09:53:41.069Z"
   },
   {
    "duration": 4,
    "start_time": "2022-12-05T09:54:48.457Z"
   },
   {
    "duration": 12,
    "start_time": "2022-12-05T09:54:49.869Z"
   },
   {
    "duration": 4,
    "start_time": "2022-12-05T10:01:04.140Z"
   },
   {
    "duration": 9,
    "start_time": "2022-12-05T10:01:05.045Z"
   },
   {
    "duration": 9,
    "start_time": "2022-12-05T10:15:25.233Z"
   },
   {
    "duration": 10,
    "start_time": "2022-12-05T10:16:08.837Z"
   },
   {
    "duration": 10,
    "start_time": "2022-12-05T10:16:37.945Z"
   },
   {
    "duration": 1548,
    "start_time": "2022-12-05T10:16:43.870Z"
   },
   {
    "duration": 15,
    "start_time": "2022-12-05T10:16:45.420Z"
   },
   {
    "duration": 10,
    "start_time": "2022-12-05T10:16:45.436Z"
   },
   {
    "duration": 10,
    "start_time": "2022-12-05T10:16:45.456Z"
   },
   {
    "duration": 49,
    "start_time": "2022-12-05T10:16:45.468Z"
   },
   {
    "duration": 69,
    "start_time": "2022-12-05T10:16:45.519Z"
   },
   {
    "duration": 48,
    "start_time": "2022-12-05T10:16:45.589Z"
   },
   {
    "duration": 30,
    "start_time": "2022-12-05T10:16:45.639Z"
   },
   {
    "duration": 17,
    "start_time": "2022-12-05T10:16:45.671Z"
   },
   {
    "duration": 109,
    "start_time": "2022-12-05T10:16:45.691Z"
   },
   {
    "duration": 112,
    "start_time": "2022-12-05T10:16:45.802Z"
   },
   {
    "duration": 48,
    "start_time": "2022-12-05T10:16:45.915Z"
   },
   {
    "duration": 97,
    "start_time": "2022-12-05T10:16:45.966Z"
   },
   {
    "duration": 198,
    "start_time": "2022-12-05T10:16:46.064Z"
   },
   {
    "duration": 100,
    "start_time": "2022-12-05T10:16:46.264Z"
   },
   {
    "duration": 7,
    "start_time": "2022-12-05T10:16:46.456Z"
   },
   {
    "duration": 7,
    "start_time": "2022-12-05T10:16:46.465Z"
   },
   {
    "duration": 112,
    "start_time": "2022-12-05T10:16:46.474Z"
   },
   {
    "duration": 0,
    "start_time": "2022-12-05T10:16:46.588Z"
   },
   {
    "duration": 0,
    "start_time": "2022-12-05T10:16:46.589Z"
   },
   {
    "duration": 0,
    "start_time": "2022-12-05T10:16:46.591Z"
   },
   {
    "duration": 0,
    "start_time": "2022-12-05T10:16:46.592Z"
   },
   {
    "duration": 4,
    "start_time": "2022-12-05T10:17:09.599Z"
   },
   {
    "duration": 17,
    "start_time": "2022-12-05T10:22:19.209Z"
   },
   {
    "duration": 18,
    "start_time": "2022-12-05T10:22:30.081Z"
   },
   {
    "duration": 17,
    "start_time": "2022-12-05T10:22:39.999Z"
   },
   {
    "duration": 3,
    "start_time": "2022-12-05T10:25:48.482Z"
   },
   {
    "duration": 10,
    "start_time": "2022-12-05T10:25:49.253Z"
   },
   {
    "duration": 28,
    "start_time": "2022-12-05T10:26:03.694Z"
   },
   {
    "duration": 4,
    "start_time": "2022-12-05T10:26:54.991Z"
   },
   {
    "duration": 15,
    "start_time": "2022-12-05T10:26:58.099Z"
   },
   {
    "duration": 3,
    "start_time": "2022-12-05T10:27:16.853Z"
   },
   {
    "duration": 7,
    "start_time": "2022-12-05T10:27:17.609Z"
   },
   {
    "duration": 21,
    "start_time": "2022-12-05T10:27:48.231Z"
   },
   {
    "duration": 3,
    "start_time": "2022-12-05T10:35:31.407Z"
   },
   {
    "duration": 12,
    "start_time": "2022-12-05T10:35:32.296Z"
   },
   {
    "duration": 17,
    "start_time": "2022-12-05T10:47:15.010Z"
   },
   {
    "duration": 4,
    "start_time": "2022-12-05T10:48:05.036Z"
   },
   {
    "duration": 5,
    "start_time": "2022-12-05T10:53:51.630Z"
   },
   {
    "duration": 6,
    "start_time": "2022-12-05T10:54:18.690Z"
   },
   {
    "duration": 4,
    "start_time": "2022-12-05T11:02:49.802Z"
   },
   {
    "duration": 7,
    "start_time": "2022-12-05T11:10:50.840Z"
   },
   {
    "duration": 13,
    "start_time": "2022-12-05T11:12:12.479Z"
   },
   {
    "duration": 4,
    "start_time": "2022-12-05T11:12:38.391Z"
   },
   {
    "duration": 19,
    "start_time": "2022-12-05T11:12:41.138Z"
   },
   {
    "duration": 9,
    "start_time": "2022-12-05T11:13:07.737Z"
   },
   {
    "duration": 9,
    "start_time": "2022-12-05T11:13:48.871Z"
   },
   {
    "duration": 15,
    "start_time": "2022-12-05T11:13:53.685Z"
   },
   {
    "duration": 6,
    "start_time": "2022-12-05T11:14:01.594Z"
   },
   {
    "duration": 27,
    "start_time": "2022-12-05T11:14:02.452Z"
   },
   {
    "duration": 6,
    "start_time": "2022-12-05T11:15:13.738Z"
   },
   {
    "duration": 19,
    "start_time": "2022-12-05T11:15:16.077Z"
   },
   {
    "duration": 7,
    "start_time": "2022-12-05T11:15:54.933Z"
   },
   {
    "duration": 25,
    "start_time": "2022-12-05T11:15:56.082Z"
   },
   {
    "duration": 6,
    "start_time": "2022-12-05T11:16:34.810Z"
   },
   {
    "duration": 24,
    "start_time": "2022-12-05T11:16:35.543Z"
   },
   {
    "duration": 9,
    "start_time": "2022-12-05T11:18:22.495Z"
   },
   {
    "duration": 24,
    "start_time": "2022-12-05T11:18:23.525Z"
   },
   {
    "duration": 5,
    "start_time": "2022-12-05T11:23:12.439Z"
   },
   {
    "duration": 6,
    "start_time": "2022-12-05T11:24:00.747Z"
   },
   {
    "duration": 8,
    "start_time": "2022-12-05T11:24:01.964Z"
   },
   {
    "duration": 1556,
    "start_time": "2022-12-05T11:29:01.257Z"
   },
   {
    "duration": 5,
    "start_time": "2022-12-05T11:31:24.458Z"
   },
   {
    "duration": 1542,
    "start_time": "2022-12-05T11:31:25.553Z"
   },
   {
    "duration": 4,
    "start_time": "2022-12-05T11:32:12.984Z"
   },
   {
    "duration": 5,
    "start_time": "2022-12-05T11:32:13.563Z"
   },
   {
    "duration": 1646,
    "start_time": "2022-12-05T11:32:14.310Z"
   },
   {
    "duration": 5,
    "start_time": "2022-12-05T11:33:50.610Z"
   },
   {
    "duration": 1488,
    "start_time": "2022-12-05T11:33:51.374Z"
   },
   {
    "duration": 7,
    "start_time": "2022-12-05T11:34:19.216Z"
   },
   {
    "duration": 1530,
    "start_time": "2022-12-05T11:34:20.120Z"
   },
   {
    "duration": 5,
    "start_time": "2022-12-05T11:34:48.702Z"
   },
   {
    "duration": 1480,
    "start_time": "2022-12-05T11:34:49.505Z"
   },
   {
    "duration": 1588,
    "start_time": "2022-12-05T11:35:24.177Z"
   },
   {
    "duration": 7,
    "start_time": "2022-12-05T11:36:44.104Z"
   },
   {
    "duration": 1729,
    "start_time": "2022-12-05T11:36:44.737Z"
   },
   {
    "duration": 431,
    "start_time": "2022-12-05T11:38:06.081Z"
   },
   {
    "duration": 1599,
    "start_time": "2022-12-05T11:38:11.044Z"
   },
   {
    "duration": 23,
    "start_time": "2022-12-05T11:38:12.646Z"
   },
   {
    "duration": 14,
    "start_time": "2022-12-05T11:38:12.671Z"
   },
   {
    "duration": 11,
    "start_time": "2022-12-05T11:38:12.688Z"
   },
   {
    "duration": 85,
    "start_time": "2022-12-05T11:38:12.701Z"
   },
   {
    "duration": 48,
    "start_time": "2022-12-05T11:38:12.789Z"
   },
   {
    "duration": 68,
    "start_time": "2022-12-05T11:38:12.839Z"
   },
   {
    "duration": 17,
    "start_time": "2022-12-05T11:38:12.909Z"
   },
   {
    "duration": 33,
    "start_time": "2022-12-05T11:38:12.929Z"
   },
   {
    "duration": 138,
    "start_time": "2022-12-05T11:38:12.967Z"
   },
   {
    "duration": 119,
    "start_time": "2022-12-05T11:38:13.107Z"
   },
   {
    "duration": 127,
    "start_time": "2022-12-05T11:38:13.227Z"
   },
   {
    "duration": 105,
    "start_time": "2022-12-05T11:38:13.357Z"
   },
   {
    "duration": 207,
    "start_time": "2022-12-05T11:38:13.464Z"
   },
   {
    "duration": 182,
    "start_time": "2022-12-05T11:38:13.674Z"
   },
   {
    "duration": 8,
    "start_time": "2022-12-05T11:38:13.859Z"
   },
   {
    "duration": 12,
    "start_time": "2022-12-05T11:38:13.869Z"
   },
   {
    "duration": 33,
    "start_time": "2022-12-05T11:38:13.883Z"
   },
   {
    "duration": 16,
    "start_time": "2022-12-05T11:38:13.918Z"
   },
   {
    "duration": 16,
    "start_time": "2022-12-05T11:38:13.936Z"
   },
   {
    "duration": 1673,
    "start_time": "2022-12-05T11:38:13.954Z"
   },
   {
    "duration": 1567,
    "start_time": "2022-12-05T11:38:22.122Z"
   },
   {
    "duration": 1520,
    "start_time": "2022-12-05T11:38:52.152Z"
   },
   {
    "duration": 5,
    "start_time": "2022-12-05T11:39:29.313Z"
   },
   {
    "duration": 1550,
    "start_time": "2022-12-05T11:39:30.505Z"
   },
   {
    "duration": 122,
    "start_time": "2022-12-05T11:41:15.947Z"
   },
   {
    "duration": 1565,
    "start_time": "2022-12-05T11:41:26.211Z"
   },
   {
    "duration": 1556,
    "start_time": "2022-12-05T11:41:37.937Z"
   },
   {
    "duration": 46,
    "start_time": "2022-12-05T12:44:40.150Z"
   },
   {
    "duration": 48,
    "start_time": "2022-12-05T12:44:46.811Z"
   },
   {
    "duration": 1690,
    "start_time": "2022-12-05T12:45:03.215Z"
   },
   {
    "duration": 1631,
    "start_time": "2022-12-05T12:45:26.928Z"
   },
   {
    "duration": 1543,
    "start_time": "2022-12-05T12:45:47.005Z"
   },
   {
    "duration": 10,
    "start_time": "2022-12-06T07:06:55.718Z"
   },
   {
    "duration": 45,
    "start_time": "2022-12-06T07:06:58.075Z"
   },
   {
    "duration": 1928,
    "start_time": "2022-12-06T07:07:05.982Z"
   },
   {
    "duration": 15,
    "start_time": "2022-12-06T07:07:07.911Z"
   },
   {
    "duration": 15,
    "start_time": "2022-12-06T07:07:07.928Z"
   },
   {
    "duration": 14,
    "start_time": "2022-12-06T07:07:07.947Z"
   },
   {
    "duration": 78,
    "start_time": "2022-12-06T07:07:07.963Z"
   },
   {
    "duration": 48,
    "start_time": "2022-12-06T07:07:08.043Z"
   },
   {
    "duration": 74,
    "start_time": "2022-12-06T07:07:08.092Z"
   },
   {
    "duration": 17,
    "start_time": "2022-12-06T07:07:08.168Z"
   },
   {
    "duration": 35,
    "start_time": "2022-12-06T07:07:08.187Z"
   },
   {
    "duration": 108,
    "start_time": "2022-12-06T07:07:08.225Z"
   },
   {
    "duration": 116,
    "start_time": "2022-12-06T07:07:08.335Z"
   },
   {
    "duration": 64,
    "start_time": "2022-12-06T07:07:08.453Z"
   },
   {
    "duration": 106,
    "start_time": "2022-12-06T07:07:08.519Z"
   },
   {
    "duration": 198,
    "start_time": "2022-12-06T07:07:08.627Z"
   },
   {
    "duration": 87,
    "start_time": "2022-12-06T07:07:08.827Z"
   },
   {
    "duration": 103,
    "start_time": "2022-12-06T07:07:08.916Z"
   },
   {
    "duration": 7,
    "start_time": "2022-12-06T07:07:09.021Z"
   },
   {
    "duration": 21,
    "start_time": "2022-12-06T07:07:09.030Z"
   },
   {
    "duration": 4,
    "start_time": "2022-12-06T07:07:09.054Z"
   },
   {
    "duration": 12,
    "start_time": "2022-12-06T07:07:09.060Z"
   },
   {
    "duration": 1704,
    "start_time": "2022-12-06T07:07:09.074Z"
   },
   {
    "duration": 1597,
    "start_time": "2022-12-06T07:07:10.780Z"
   },
   {
    "duration": 1595,
    "start_time": "2022-12-06T07:07:12.379Z"
   },
   {
    "duration": 1544,
    "start_time": "2022-12-06T07:16:20.592Z"
   },
   {
    "duration": 15,
    "start_time": "2022-12-06T07:16:22.138Z"
   },
   {
    "duration": 10,
    "start_time": "2022-12-06T07:16:22.154Z"
   },
   {
    "duration": 14,
    "start_time": "2022-12-06T07:16:22.166Z"
   },
   {
    "duration": 83,
    "start_time": "2022-12-06T07:16:22.182Z"
   },
   {
    "duration": 56,
    "start_time": "2022-12-06T07:16:22.267Z"
   },
   {
    "duration": 52,
    "start_time": "2022-12-06T07:16:22.325Z"
   },
   {
    "duration": 33,
    "start_time": "2022-12-06T07:16:22.379Z"
   },
   {
    "duration": 16,
    "start_time": "2022-12-06T07:16:22.414Z"
   },
   {
    "duration": 109,
    "start_time": "2022-12-06T07:16:22.433Z"
   },
   {
    "duration": 117,
    "start_time": "2022-12-06T07:16:22.544Z"
   },
   {
    "duration": 49,
    "start_time": "2022-12-06T07:16:22.664Z"
   },
   {
    "duration": 101,
    "start_time": "2022-12-06T07:16:22.715Z"
   },
   {
    "duration": 196,
    "start_time": "2022-12-06T07:16:22.818Z"
   },
   {
    "duration": 97,
    "start_time": "2022-12-06T07:16:23.021Z"
   },
   {
    "duration": 12,
    "start_time": "2022-12-06T07:16:23.121Z"
   },
   {
    "duration": 7,
    "start_time": "2022-12-06T07:16:23.135Z"
   },
   {
    "duration": 20,
    "start_time": "2022-12-06T07:16:23.144Z"
   },
   {
    "duration": 4,
    "start_time": "2022-12-06T07:16:23.166Z"
   },
   {
    "duration": 7,
    "start_time": "2022-12-06T07:16:23.172Z"
   },
   {
    "duration": 1585,
    "start_time": "2022-12-06T07:16:23.182Z"
   },
   {
    "duration": 1677,
    "start_time": "2022-12-06T07:16:24.769Z"
   },
   {
    "duration": 1586,
    "start_time": "2022-12-06T07:16:26.448Z"
   },
   {
    "duration": 66,
    "start_time": "2022-12-06T09:55:17.011Z"
   },
   {
    "duration": 3611,
    "start_time": "2022-12-06T09:55:31.240Z"
   },
   {
    "duration": 14,
    "start_time": "2022-12-06T09:55:34.853Z"
   },
   {
    "duration": 30,
    "start_time": "2022-12-06T09:55:34.869Z"
   },
   {
    "duration": 13,
    "start_time": "2022-12-06T09:55:34.902Z"
   },
   {
    "duration": 55,
    "start_time": "2022-12-06T09:55:34.916Z"
   },
   {
    "duration": 53,
    "start_time": "2022-12-06T09:55:34.972Z"
   },
   {
    "duration": 55,
    "start_time": "2022-12-06T09:55:35.027Z"
   },
   {
    "duration": 25,
    "start_time": "2022-12-06T09:55:35.084Z"
   },
   {
    "duration": 41,
    "start_time": "2022-12-06T09:55:35.111Z"
   },
   {
    "duration": 116,
    "start_time": "2022-12-06T09:55:35.155Z"
   },
   {
    "duration": 98,
    "start_time": "2022-12-06T09:55:35.273Z"
   },
   {
    "duration": 115,
    "start_time": "2022-12-06T09:55:35.373Z"
   },
   {
    "duration": 120,
    "start_time": "2022-12-06T09:55:35.491Z"
   },
   {
    "duration": 194,
    "start_time": "2022-12-06T09:55:35.613Z"
   },
   {
    "duration": 183,
    "start_time": "2022-12-06T09:55:35.811Z"
   },
   {
    "duration": 36,
    "start_time": "2022-12-06T09:55:35.996Z"
   },
   {
    "duration": 38,
    "start_time": "2022-12-06T09:55:36.034Z"
   },
   {
    "duration": 36,
    "start_time": "2022-12-06T09:55:36.073Z"
   },
   {
    "duration": 16,
    "start_time": "2022-12-06T09:55:36.110Z"
   },
   {
    "duration": 31,
    "start_time": "2022-12-06T09:55:36.127Z"
   },
   {
    "duration": 1515,
    "start_time": "2022-12-06T09:55:36.160Z"
   },
   {
    "duration": 1535,
    "start_time": "2022-12-06T09:55:37.678Z"
   },
   {
    "duration": 1427,
    "start_time": "2022-12-06T09:55:39.214Z"
   },
   {
    "duration": 9,
    "start_time": "2022-12-06T09:55:48.000Z"
   },
   {
    "duration": 2700,
    "start_time": "2022-12-06T10:14:13.893Z"
   },
   {
    "duration": 13,
    "start_time": "2022-12-06T10:14:16.594Z"
   },
   {
    "duration": 1427,
    "start_time": "2022-12-06T10:14:20.110Z"
   },
   {
    "duration": 17,
    "start_time": "2022-12-06T10:14:21.539Z"
   },
   {
    "duration": 8,
    "start_time": "2022-12-06T10:14:21.558Z"
   },
   {
    "duration": 15,
    "start_time": "2022-12-06T10:14:21.568Z"
   },
   {
    "duration": 75,
    "start_time": "2022-12-06T10:14:21.584Z"
   },
   {
    "duration": 37,
    "start_time": "2022-12-06T10:14:21.661Z"
   },
   {
    "duration": 56,
    "start_time": "2022-12-06T10:14:21.699Z"
   },
   {
    "duration": 13,
    "start_time": "2022-12-06T10:14:21.757Z"
   },
   {
    "duration": 13,
    "start_time": "2022-12-06T10:14:21.771Z"
   },
   {
    "duration": 93,
    "start_time": "2022-12-06T10:14:21.786Z"
   },
   {
    "duration": 97,
    "start_time": "2022-12-06T10:14:21.880Z"
   },
   {
    "duration": 13,
    "start_time": "2022-12-06T10:14:21.979Z"
   },
   {
    "duration": 100,
    "start_time": "2022-12-06T10:14:22.027Z"
   },
   {
    "duration": 100,
    "start_time": "2022-12-06T10:14:22.129Z"
   },
   {
    "duration": 5,
    "start_time": "2022-12-06T10:14:22.231Z"
   },
   {
    "duration": 120,
    "start_time": "2022-12-06T10:14:22.238Z"
   },
   {
    "duration": 34,
    "start_time": "2022-12-06T10:14:22.359Z"
   },
   {
    "duration": 43,
    "start_time": "2022-12-06T10:14:22.396Z"
   },
   {
    "duration": 8,
    "start_time": "2022-12-06T10:14:22.441Z"
   },
   {
    "duration": 14,
    "start_time": "2022-12-06T10:14:22.450Z"
   },
   {
    "duration": 11,
    "start_time": "2022-12-06T10:14:22.466Z"
   },
   {
    "duration": 1353,
    "start_time": "2022-12-06T10:14:22.478Z"
   },
   {
    "duration": 1374,
    "start_time": "2022-12-06T10:14:23.832Z"
   },
   {
    "duration": 1359,
    "start_time": "2022-12-06T10:14:25.207Z"
   },
   {
    "duration": 60,
    "start_time": "2022-12-06T10:14:43.711Z"
   },
   {
    "duration": 5,
    "start_time": "2022-12-06T10:20:44.007Z"
   },
   {
    "duration": 7,
    "start_time": "2022-12-06T10:20:51.293Z"
   },
   {
    "duration": 1405,
    "start_time": "2022-12-06T10:20:55.403Z"
   },
   {
    "duration": 1439,
    "start_time": "2022-12-06T10:21:04.722Z"
   },
   {
    "duration": 1372,
    "start_time": "2022-12-06T10:21:20.433Z"
   },
   {
    "duration": 6,
    "start_time": "2022-12-06T10:24:03.994Z"
   },
   {
    "duration": 7,
    "start_time": "2022-12-06T10:24:07.021Z"
   },
   {
    "duration": 1418,
    "start_time": "2022-12-06T10:24:09.503Z"
   },
   {
    "duration": 6,
    "start_time": "2022-12-06T10:25:03.684Z"
   },
   {
    "duration": 5,
    "start_time": "2022-12-06T10:25:14.324Z"
   },
   {
    "duration": 7,
    "start_time": "2022-12-06T10:25:19.437Z"
   },
   {
    "duration": 1345,
    "start_time": "2022-12-06T10:25:25.486Z"
   },
   {
    "duration": 5,
    "start_time": "2022-12-06T10:25:39.948Z"
   },
   {
    "duration": 7,
    "start_time": "2022-12-06T10:25:43.969Z"
   },
   {
    "duration": 1301,
    "start_time": "2022-12-06T10:25:47.350Z"
   },
   {
    "duration": 1354,
    "start_time": "2022-12-06T10:25:56.712Z"
   },
   {
    "duration": 1381,
    "start_time": "2022-12-06T10:26:00.337Z"
   },
   {
    "duration": 5,
    "start_time": "2022-12-06T10:27:59.165Z"
   },
   {
    "duration": 7,
    "start_time": "2022-12-06T10:28:01.234Z"
   },
   {
    "duration": 1656,
    "start_time": "2022-12-06T10:28:03.826Z"
   },
   {
    "duration": 1331,
    "start_time": "2022-12-06T10:28:48.580Z"
   },
   {
    "duration": 16,
    "start_time": "2022-12-06T10:28:49.913Z"
   },
   {
    "duration": 20,
    "start_time": "2022-12-06T10:28:49.931Z"
   },
   {
    "duration": 39,
    "start_time": "2022-12-06T10:28:49.953Z"
   },
   {
    "duration": 52,
    "start_time": "2022-12-06T10:28:49.994Z"
   },
   {
    "duration": 40,
    "start_time": "2022-12-06T10:28:50.048Z"
   },
   {
    "duration": 53,
    "start_time": "2022-12-06T10:28:50.090Z"
   },
   {
    "duration": 13,
    "start_time": "2022-12-06T10:28:50.144Z"
   },
   {
    "duration": 30,
    "start_time": "2022-12-06T10:28:50.159Z"
   },
   {
    "duration": 101,
    "start_time": "2022-12-06T10:28:50.191Z"
   },
   {
    "duration": 65,
    "start_time": "2022-12-06T10:28:50.294Z"
   },
   {
    "duration": 12,
    "start_time": "2022-12-06T10:28:50.361Z"
   },
   {
    "duration": 177,
    "start_time": "2022-12-06T10:28:50.374Z"
   },
   {
    "duration": 179,
    "start_time": "2022-12-06T10:28:50.552Z"
   },
   {
    "duration": 95,
    "start_time": "2022-12-06T10:28:50.733Z"
   },
   {
    "duration": 114,
    "start_time": "2022-12-06T10:28:50.830Z"
   },
   {
    "duration": 21,
    "start_time": "2022-12-06T10:28:50.946Z"
   },
   {
    "duration": 41,
    "start_time": "2022-12-06T10:28:50.968Z"
   },
   {
    "duration": 19,
    "start_time": "2022-12-06T10:28:51.010Z"
   },
   {
    "duration": 24,
    "start_time": "2022-12-06T10:28:51.031Z"
   },
   {
    "duration": 16,
    "start_time": "2022-12-06T10:28:51.057Z"
   },
   {
    "duration": 1788,
    "start_time": "2022-12-06T10:28:51.075Z"
   },
   {
    "duration": 0,
    "start_time": "2022-12-06T10:28:52.865Z"
   },
   {
    "duration": 0,
    "start_time": "2022-12-06T10:28:52.866Z"
   },
   {
    "duration": 5,
    "start_time": "2022-12-06T10:29:39.261Z"
   },
   {
    "duration": 6,
    "start_time": "2022-12-06T10:29:41.201Z"
   },
   {
    "duration": 1324,
    "start_time": "2022-12-06T10:29:43.193Z"
   },
   {
    "duration": 1347,
    "start_time": "2022-12-06T10:29:46.791Z"
   },
   {
    "duration": 1385,
    "start_time": "2022-12-06T10:29:53.973Z"
   },
   {
    "duration": 7,
    "start_time": "2022-12-06T10:32:12.726Z"
   },
   {
    "duration": 8,
    "start_time": "2022-12-06T10:32:13.731Z"
   },
   {
    "duration": 1432,
    "start_time": "2022-12-06T10:32:15.122Z"
   },
   {
    "duration": 1346,
    "start_time": "2022-12-06T10:32:22.892Z"
   },
   {
    "duration": 1358,
    "start_time": "2022-12-06T10:32:24.240Z"
   }
  ],
  "kernelspec": {
   "display_name": "Python 3 (ipykernel)",
   "language": "python",
   "name": "python3"
  },
  "language_info": {
   "codemirror_mode": {
    "name": "ipython",
    "version": 3
   },
   "file_extension": ".py",
   "mimetype": "text/x-python",
   "name": "python",
   "nbconvert_exporter": "python",
   "pygments_lexer": "ipython3",
   "version": "3.9.5"
  },
  "toc": {
   "base_numbering": 1,
   "nav_menu": {},
   "number_sections": true,
   "sideBar": true,
   "skip_h1_title": true,
   "title_cell": "Table of Contents",
   "title_sidebar": "Contents",
   "toc_cell": false,
   "toc_position": {},
   "toc_section_display": true,
   "toc_window_display": true
  }
 },
 "nbformat": 4,
 "nbformat_minor": 2
}
