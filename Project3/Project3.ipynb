{
 "cells": [
  {
   "cell_type": "markdown",
   "metadata": {},
   "source": [
    "### Откройте файл с данными и изучите общую информацию. "
   ]
  },
  {
   "cell_type": "code",
   "execution_count": 2,
   "metadata": {},
   "outputs": [],
   "source": [
    "import pandas as pd\n",
    "import datetime\n",
    "import matplotlib.pyplot as plt"
   ]
  },
  {
   "cell_type": "markdown",
   "metadata": {},
   "source": [
    "Вызовем Pandas, загрузим таблицу. Чтобы разделять колонки в таблице используем параметр разделения колонок sep = '\\t'"
   ]
  },
  {
   "cell_type": "code",
   "execution_count": 3,
   "metadata": {},
   "outputs": [],
   "source": [
    "data = pd.read_csv('/datasets/real_estate_data.csv', sep=\"\\t\")"
   ]
  },
  {
   "cell_type": "code",
   "execution_count": 4,
   "metadata": {},
   "outputs": [
    {
     "name": "stdout",
     "output_type": "stream",
     "text": [
      "   total_images  last_price  total_area first_day_exposition  rooms  \\\n",
      "0            20  13000000.0       108.0  2019-03-07T00:00:00      3   \n",
      "1             7   3350000.0        40.4  2018-12-04T00:00:00      1   \n",
      "2            10   5196000.0        56.0  2015-08-20T00:00:00      2   \n",
      "3             0  64900000.0       159.0  2015-07-24T00:00:00      3   \n",
      "4             2  10000000.0       100.0  2018-06-19T00:00:00      2   \n",
      "\n",
      "   ceiling_height  floors_total  living_area  floor is_apartment  ...  \\\n",
      "0            2.70          16.0         51.0      8          NaN  ...   \n",
      "1             NaN          11.0         18.6      1          NaN  ...   \n",
      "2             NaN           5.0         34.3      4          NaN  ...   \n",
      "3             NaN          14.0          NaN      9          NaN  ...   \n",
      "4            3.03          14.0         32.0     13          NaN  ...   \n",
      "\n",
      "   kitchen_area  balcony    locality_name  airports_nearest  \\\n",
      "0          25.0      NaN  Санкт-Петербург           18863.0   \n",
      "1          11.0      2.0   посёлок Шушары           12817.0   \n",
      "2           8.3      0.0  Санкт-Петербург           21741.0   \n",
      "3           NaN      0.0  Санкт-Петербург           28098.0   \n",
      "4          41.0      NaN  Санкт-Петербург           31856.0   \n",
      "\n",
      "  cityCenters_nearest  parks_around3000  parks_nearest  ponds_around3000  \\\n",
      "0             16028.0               1.0          482.0               2.0   \n",
      "1             18603.0               0.0            NaN               0.0   \n",
      "2             13933.0               1.0           90.0               2.0   \n",
      "3              6800.0               2.0           84.0               3.0   \n",
      "4              8098.0               2.0          112.0               1.0   \n",
      "\n",
      "   ponds_nearest  days_exposition  \n",
      "0          755.0              NaN  \n",
      "1            NaN             81.0  \n",
      "2          574.0            558.0  \n",
      "3          234.0            424.0  \n",
      "4           48.0            121.0  \n",
      "\n",
      "[5 rows x 22 columns]\n"
     ]
    }
   ],
   "source": [
    "print(data.head())"
   ]
  },
  {
   "cell_type": "markdown",
   "metadata": {},
   "source": [
    "Посмотрим на первые пять строк таблицы. У нас имеется архив объявлений о продаже квартир в Санкт-Петербурге и соседних населённых пунктов за несколько лет. "
   ]
  },
  {
   "cell_type": "code",
   "execution_count": 5,
   "metadata": {},
   "outputs": [
    {
     "name": "stdout",
     "output_type": "stream",
     "text": [
      "<class 'pandas.core.frame.DataFrame'>\n",
      "RangeIndex: 23699 entries, 0 to 23698\n",
      "Data columns (total 22 columns):\n",
      " #   Column                Non-Null Count  Dtype  \n",
      "---  ------                --------------  -----  \n",
      " 0   total_images          23699 non-null  int64  \n",
      " 1   last_price            23699 non-null  float64\n",
      " 2   total_area            23699 non-null  float64\n",
      " 3   first_day_exposition  23699 non-null  object \n",
      " 4   rooms                 23699 non-null  int64  \n",
      " 5   ceiling_height        14504 non-null  float64\n",
      " 6   floors_total          23613 non-null  float64\n",
      " 7   living_area           21796 non-null  float64\n",
      " 8   floor                 23699 non-null  int64  \n",
      " 9   is_apartment          2775 non-null   object \n",
      " 10  studio                23699 non-null  bool   \n",
      " 11  open_plan             23699 non-null  bool   \n",
      " 12  kitchen_area          21421 non-null  float64\n",
      " 13  balcony               12180 non-null  float64\n",
      " 14  locality_name         23650 non-null  object \n",
      " 15  airports_nearest      18157 non-null  float64\n",
      " 16  cityCenters_nearest   18180 non-null  float64\n",
      " 17  parks_around3000      18181 non-null  float64\n",
      " 18  parks_nearest         8079 non-null   float64\n",
      " 19  ponds_around3000      18181 non-null  float64\n",
      " 20  ponds_nearest         9110 non-null   float64\n",
      " 21  days_exposition       20518 non-null  float64\n",
      "dtypes: bool(2), float64(14), int64(3), object(3)\n",
      "memory usage: 3.7+ MB\n"
     ]
    }
   ],
   "source": [
    "data.info()"
   ]
  },
  {
   "cell_type": "markdown",
   "metadata": {},
   "source": [
    "Посмотрим на общую информицию о таблице. Изучим столбцы.\n",
    "total_images - число фотографий квартиры в объявлении.\n",
    "last_price  - цена на момент снятия с публикации.\n",
    "total_area - общая площадь квартиры в м.кв.\n",
    "first_day_exposition - дата публикации. Видим, что тип у этого столбца = object, значит нужно перевести его в формат Datetime.\n",
    "rooms - число комнат.\n",
    "ceiling_height - высота полотков в метрах.\n",
    "floors_total - всего этажей в доме. Видим, что тип у этого столбца = float64, переведем его в тип int64, так как обычно этажи                  это целое число.\n",
    "is_apartment - апартаменты. Видим, что тип у этого столбца = object, переведем его в тип bool (так как студии в этом типе, пока                предположим, что и в этом столбце будут значения 1 и 0.\n",
    "studio - квартира-студия.\n",
    "open_plan - квартиры со свободной планировкой.\n",
    "kitchen_area - площадь кухни м.кв.\n",
    "balcony - число балконов. Видим, что тип у этого столбца = float64, переведем его в тип int64, так как обычно балконы                 это целое число.\n",
    "locality_name - название населенного пункта.\n",
    "airports_nearest - расстояние до ближайшего аэропорта в метрах.\n",
    "cityCenters_nearest - расстояние до центра города в метрах.\n",
    "parks_around3000 - расстояние до ближайшего парка в метрах.\n",
    "ponds_around3000 - число водоемов в радиусе трех км. Видим, что тип у этого столбца = float64, переведем его в тип int64, так  \n",
    "                   как обычно число водоемов это целое число.\n",
    "ponds_nearest - расстояние до ближайшего водоема в метрах.\n",
    "days_exposition - количество дней публикации обЪявления. Видим, что тип у этого столбца = float64, переведем его в тип int64,                     так как обычно количество дней это целое число.\n",
    "\n",
    "На этапе знакомства с данными у нас появились предположения, как можно улучшить данные таблицы. Посмотрим как выглядят данные на гистограмме."
   ]
  },
  {
   "cell_type": "code",
   "execution_count": 6,
   "metadata": {},
   "outputs": [
    {
     "data": {
      "image/png": "[encoded data removed]",
      "text/plain": [
       "<Figure size 1080x1440 with 20 Axes>"
      ]
     },
     "metadata": {
      "needs_background": "light"
     },
     "output_type": "display_data"
    }
   ],
   "source": [
    "data.hist(figsize=(15,20))\n",
    "plt.show()"
   ]
  },
  {
   "cell_type": "markdown",
   "metadata": {},
   "source": [
    "total_images - мы видим нормальное распределение. Фотографий примерно от 0 до 20. Самое большое количество обЪявлений\n",
    "           содержит от 7-14 фотографий примерно. Пока нас ничего не настораживает.\n",
    "last_price - не совсем понятно, что показано на графике. Стоит задуматься и проверить значения этого столбца.\n",
    "total_area - основная масса объявлений лежит в диапазоне от 0 до 200 метров. В этом столбце нужно проверить метраж самых \n",
    "             больших и маленьких квартир. И отбросить аномально большие значения, так как они будут искажать результаты.\n",
    "rooms - количество комнат варьирует от 0 и до 7. 0 скорее всего это студии. Посмотрим на строки с большим количеством комнат, если их мало, уберем, так как они сильно будут искажать результаты исследования.\n",
    "ceiling_height - у некоторых квартир высота потолков достигает 10 метнов посмотрим значения этого столбца.\n",
    "floors_total, living_area - не вызывает вопросов, при небольших значениях распределение смещено влево, с увеличением значения\n",
    "       вправо.\n",
    "floor - количество квартир на самы высоких этажах, от 10 и выше очень маленькое. Может стоит в дальнейшем объединить их в одну\n",
    "       группу\n",
    "kitchen_area - стоить аномально большой метраж кухнонь и убрать эти значения, так как они будут искажать результаты.\n",
    "balcony - посторим на квартиры с балконами больше 4 шт, уберем, если их количество минимально.\n",
    "airports_nearest, cityCenters_nearest, parks_around3000,parks_nearest,ponds_nearest, days_exposition - не вызывает вопросов, при небольших значениях распределение смещено влево, с увеличением значения вправо.\n",
    "ponds_nearest - мы видим нормальное распределение."
   ]
  },
  {
   "cell_type": "markdown",
   "metadata": {},
   "source": [
    "В этой части исследования мы открыли файл, познакомились с данными таблицы и наметили изменения, которые будем выполнять с данными во второй часои исследования."
   ]
  },
  {
   "cell_type": "markdown",
   "metadata": {},
   "source": [
    "### Предобработка данных"
   ]
  },
  {
   "cell_type": "markdown",
   "metadata": {},
   "source": [
    "В предыдущей части мы познакомились с данными и наметили первые вопросы и необходимость предобработки данных. Чем мы и займемся в этой части исследования."
   ]
  },
  {
   "cell_type": "markdown",
   "metadata": {},
   "source": [
    "Для начала определим в каких столбцах есть пропуски. Выведем количество пропущенных значений для каждого столбца \n",
    "используя методы isna() и sum()"
   ]
  },
  {
   "cell_type": "code",
   "execution_count": 7,
   "metadata": {},
   "outputs": [
    {
     "data": {
      "text/html": [
       "<style  type=\"text/css\" >\n",
       "#T_cc185_row0_col0,#T_cc185_row1_col0,#T_cc185_row2_col0,#T_cc185_row3_col0,#T_cc185_row4_col0,#T_cc185_row5_col0,#T_cc185_row6_col0,#T_cc185_row7_col0,#T_cc185_row8_col0{\n",
       "            background-color:  #3b4cc0;\n",
       "            color:  #f1f1f1;\n",
       "        }#T_cc185_row9_col0{\n",
       "            background-color:  #3c4ec2;\n",
       "            color:  #f1f1f1;\n",
       "        }#T_cc185_row10_col0{\n",
       "            background-color:  #5673e0;\n",
       "            color:  #000000;\n",
       "        }#T_cc185_row11_col0{\n",
       "            background-color:  #5b7ae5;\n",
       "            color:  #000000;\n",
       "        }#T_cc185_row12_col0{\n",
       "            background-color:  #6a8bef;\n",
       "            color:  #000000;\n",
       "        }#T_cc185_row13_col0,#T_cc185_row14_col0,#T_cc185_row15_col0,#T_cc185_row16_col0{\n",
       "            background-color:  #92b4fe;\n",
       "            color:  #000000;\n",
       "        }#T_cc185_row17_col0{\n",
       "            background-color:  #ccd9ed;\n",
       "            color:  #000000;\n",
       "        }#T_cc185_row18_col0{\n",
       "            background-color:  #e9d5cb;\n",
       "            color:  #000000;\n",
       "        }#T_cc185_row19_col0{\n",
       "            background-color:  #f7ad90;\n",
       "            color:  #000000;\n",
       "        }#T_cc185_row20_col0{\n",
       "            background-color:  #f49a7b;\n",
       "            color:  #000000;\n",
       "        }#T_cc185_row21_col0{\n",
       "            background-color:  #b40426;\n",
       "            color:  #f1f1f1;\n",
       "        }</style><table id=\"T_cc185_\" ><thead>    <tr>        <th class=\"blank level0\" ></th>        <th class=\"col_heading level0 col0\" >0</th>    </tr></thead><tbody>\n",
       "                <tr>\n",
       "                        <th id=\"T_cc185_level0_row0\" class=\"row_heading level0 row0\" >total_images</th>\n",
       "                        <td id=\"T_cc185_row0_col0\" class=\"data row0 col0\" >0.00%</td>\n",
       "            </tr>\n",
       "            <tr>\n",
       "                        <th id=\"T_cc185_level0_row1\" class=\"row_heading level0 row1\" >open_plan</th>\n",
       "                        <td id=\"T_cc185_row1_col0\" class=\"data row1 col0\" >0.00%</td>\n",
       "            </tr>\n",
       "            <tr>\n",
       "                        <th id=\"T_cc185_level0_row2\" class=\"row_heading level0 row2\" >floor</th>\n",
       "                        <td id=\"T_cc185_row2_col0\" class=\"data row2 col0\" >0.00%</td>\n",
       "            </tr>\n",
       "            <tr>\n",
       "                        <th id=\"T_cc185_level0_row3\" class=\"row_heading level0 row3\" >rooms</th>\n",
       "                        <td id=\"T_cc185_row3_col0\" class=\"data row3 col0\" >0.00%</td>\n",
       "            </tr>\n",
       "            <tr>\n",
       "                        <th id=\"T_cc185_level0_row4\" class=\"row_heading level0 row4\" >studio</th>\n",
       "                        <td id=\"T_cc185_row4_col0\" class=\"data row4 col0\" >0.00%</td>\n",
       "            </tr>\n",
       "            <tr>\n",
       "                        <th id=\"T_cc185_level0_row5\" class=\"row_heading level0 row5\" >total_area</th>\n",
       "                        <td id=\"T_cc185_row5_col0\" class=\"data row5 col0\" >0.00%</td>\n",
       "            </tr>\n",
       "            <tr>\n",
       "                        <th id=\"T_cc185_level0_row6\" class=\"row_heading level0 row6\" >last_price</th>\n",
       "                        <td id=\"T_cc185_row6_col0\" class=\"data row6 col0\" >0.00%</td>\n",
       "            </tr>\n",
       "            <tr>\n",
       "                        <th id=\"T_cc185_level0_row7\" class=\"row_heading level0 row7\" >first_day_exposition</th>\n",
       "                        <td id=\"T_cc185_row7_col0\" class=\"data row7 col0\" >0.00%</td>\n",
       "            </tr>\n",
       "            <tr>\n",
       "                        <th id=\"T_cc185_level0_row8\" class=\"row_heading level0 row8\" >locality_name</th>\n",
       "                        <td id=\"T_cc185_row8_col0\" class=\"data row8 col0\" >0.21%</td>\n",
       "            </tr>\n",
       "            <tr>\n",
       "                        <th id=\"T_cc185_level0_row9\" class=\"row_heading level0 row9\" >floors_total</th>\n",
       "                        <td id=\"T_cc185_row9_col0\" class=\"data row9 col0\" >0.36%</td>\n",
       "            </tr>\n",
       "            <tr>\n",
       "                        <th id=\"T_cc185_level0_row10\" class=\"row_heading level0 row10\" >living_area</th>\n",
       "                        <td id=\"T_cc185_row10_col0\" class=\"data row10 col0\" >8.03%</td>\n",
       "            </tr>\n",
       "            <tr>\n",
       "                        <th id=\"T_cc185_level0_row11\" class=\"row_heading level0 row11\" >kitchen_area</th>\n",
       "                        <td id=\"T_cc185_row11_col0\" class=\"data row11 col0\" >9.61%</td>\n",
       "            </tr>\n",
       "            <tr>\n",
       "                        <th id=\"T_cc185_level0_row12\" class=\"row_heading level0 row12\" >days_exposition</th>\n",
       "                        <td id=\"T_cc185_row12_col0\" class=\"data row12 col0\" >13.42%</td>\n",
       "            </tr>\n",
       "            <tr>\n",
       "                        <th id=\"T_cc185_level0_row13\" class=\"row_heading level0 row13\" >ponds_around3000</th>\n",
       "                        <td id=\"T_cc185_row13_col0\" class=\"data row13 col0\" >23.28%</td>\n",
       "            </tr>\n",
       "            <tr>\n",
       "                        <th id=\"T_cc185_level0_row14\" class=\"row_heading level0 row14\" >parks_around3000</th>\n",
       "                        <td id=\"T_cc185_row14_col0\" class=\"data row14 col0\" >23.28%</td>\n",
       "            </tr>\n",
       "            <tr>\n",
       "                        <th id=\"T_cc185_level0_row15\" class=\"row_heading level0 row15\" >cityCenters_nearest</th>\n",
       "                        <td id=\"T_cc185_row15_col0\" class=\"data row15 col0\" >23.29%</td>\n",
       "            </tr>\n",
       "            <tr>\n",
       "                        <th id=\"T_cc185_level0_row16\" class=\"row_heading level0 row16\" >airports_nearest</th>\n",
       "                        <td id=\"T_cc185_row16_col0\" class=\"data row16 col0\" >23.38%</td>\n",
       "            </tr>\n",
       "            <tr>\n",
       "                        <th id=\"T_cc185_level0_row17\" class=\"row_heading level0 row17\" >ceiling_height</th>\n",
       "                        <td id=\"T_cc185_row17_col0\" class=\"data row17 col0\" >38.80%</td>\n",
       "            </tr>\n",
       "            <tr>\n",
       "                        <th id=\"T_cc185_level0_row18\" class=\"row_heading level0 row18\" >balcony</th>\n",
       "                        <td id=\"T_cc185_row18_col0\" class=\"data row18 col0\" >48.61%</td>\n",
       "            </tr>\n",
       "            <tr>\n",
       "                        <th id=\"T_cc185_level0_row19\" class=\"row_heading level0 row19\" >ponds_nearest</th>\n",
       "                        <td id=\"T_cc185_row19_col0\" class=\"data row19 col0\" >61.56%</td>\n",
       "            </tr>\n",
       "            <tr>\n",
       "                        <th id=\"T_cc185_level0_row20\" class=\"row_heading level0 row20\" >parks_nearest</th>\n",
       "                        <td id=\"T_cc185_row20_col0\" class=\"data row20 col0\" >65.91%</td>\n",
       "            </tr>\n",
       "            <tr>\n",
       "                        <th id=\"T_cc185_level0_row21\" class=\"row_heading level0 row21\" >is_apartment</th>\n",
       "                        <td id=\"T_cc185_row21_col0\" class=\"data row21 col0\" >88.29%</td>\n",
       "            </tr>\n",
       "    </tbody></table>"
      ],
      "text/plain": [
       "<pandas.io.formats.style.Styler at 0x7f9dacbe1910>"
      ]
     },
     "execution_count": 7,
     "metadata": {},
     "output_type": "execute_result"
    }
   ],
   "source": [
    "data.isna().mean().round(4).to_frame().sort_values(by=0).style.format('{:.2%}').background_gradient('coolwarm')"
   ]
  },
  {
   "cell_type": "markdown",
   "metadata": {},
   "source": [
    "Мы видим огромное количество пропущенных значений. \n",
    "Будем действовать попорядку.\n",
    "В столбце ceiling_height  высота пололков заполним медианным значением. Посмотрим сначала уникальные значения."
   ]
  },
  {
   "cell_type": "code",
   "execution_count": 8,
   "metadata": {},
   "outputs": [
    {
     "data": {
      "text/plain": [
       "array([  2.7 ,    nan,   3.03,   2.5 ,   2.67,   2.56,   3.05,   2.75,\n",
       "         2.6 ,   2.9 ,   2.8 ,   2.55,   3.  ,   2.65,   3.2 ,   2.61,\n",
       "         3.25,   3.45,   2.77,   2.85,   2.64,   2.57,   4.15,   3.5 ,\n",
       "         3.3 ,   2.71,   4.  ,   2.47,   2.73,   2.84,   3.1 ,   2.34,\n",
       "         3.4 ,   3.06,   2.72,   2.54,   2.51,   2.78,   2.76,  25.  ,\n",
       "         2.58,   3.7 ,   2.52,   5.2 ,   2.87,   2.66,   2.59,   2.  ,\n",
       "         2.45,   3.6 ,   2.92,   3.11,   3.13,   3.8 ,   3.15,   3.55,\n",
       "         3.16,   3.62,   3.12,   2.53,   2.74,   2.96,   2.46,   5.3 ,\n",
       "         5.  ,   2.79,   2.95,   4.06,   2.94,   3.82,   3.54,   3.53,\n",
       "         2.83,   4.7 ,   2.4 ,   3.38,   3.01,   5.6 ,   3.65,   3.9 ,\n",
       "         3.18,   3.35,   2.3 ,   3.57,   2.48,   2.62,   2.82,   3.98,\n",
       "         2.63,   3.83,   3.52,   3.95,   3.75,   2.88,   3.67,   3.87,\n",
       "         3.66,   3.85,   3.86,   4.19,   3.24,   4.8 ,   4.5 ,   4.2 ,\n",
       "         3.36,  32.  ,   3.08,   3.68,   3.07,   3.37,   3.09,   8.  ,\n",
       "         3.26,   3.34,   2.81,   3.44,   2.97,   3.14,   4.37,   2.68,\n",
       "         3.22,   3.27,  27.  ,   4.1 ,   2.93,   3.46,  24.  ,   3.47,\n",
       "         3.33,   3.63,   3.32,  26.  ,   1.2 ,   8.3 ,   2.98,   2.86,\n",
       "         3.17,   4.4 ,   3.28,   3.04,   4.45,   5.5 ,   3.84,   3.23,\n",
       "         3.02,   3.21,   3.43,   3.78,   4.3 ,   3.39,   2.69,   3.31,\n",
       "         4.65,   3.56,   2.2 ,   3.51,   3.93,   3.42,   2.99,   3.49,\n",
       "        14.  ,   4.14,   2.91,   3.88,   1.75,   4.25,   3.29,  20.  ,\n",
       "         2.25,   3.76,   3.69,   6.  ,  22.6 ,   2.89,   3.58,   5.8 ,\n",
       "        27.5 ,   2.49,   4.9 ,   3.48,  10.3 ,   1.  , 100.  ,   3.59])"
      ]
     },
     "execution_count": 8,
     "metadata": {},
     "output_type": "execute_result"
    }
   ],
   "source": [
    "data['ceiling_height'].unique()"
   ]
  },
  {
   "cell_type": "markdown",
   "metadata": {},
   "source": [
    "Поищем явные дубликаты"
   ]
  },
  {
   "cell_type": "code",
   "execution_count": 9,
   "metadata": {},
   "outputs": [
    {
     "data": {
      "text/plain": [
       "0"
      ]
     },
     "execution_count": 9,
     "metadata": {},
     "output_type": "execute_result"
    }
   ],
   "source": [
    "data.duplicated().sum()"
   ]
  },
  {
   "cell_type": "markdown",
   "metadata": {},
   "source": [
    "Для начала заменим значения 27,26 и т.д на более подходящие к примеру 25 можно предположить, что потеряна запятая 2,5"
   ]
  },
  {
   "cell_type": "code",
   "execution_count": 10,
   "metadata": {},
   "outputs": [],
   "source": [
    "data['ceiling_height']= data['ceiling_height'].replace({27.5:2.75, 32.:3.2, 27.:2.7, 26.:2.6, 22.6:2.6, 24.:2.4, 25.:2.5, 20.:2.0,})\n"
   ]
  },
  {
   "cell_type": "markdown",
   "metadata": {},
   "source": [
    "Найдем медиану по столбцу 'ceiling_height' и заменим нулевые значения значением медианы"
   ]
  },
  {
   "cell_type": "code",
   "execution_count": 11,
   "metadata": {},
   "outputs": [
    {
     "data": {
      "text/plain": [
       "2.65"
      ]
     },
     "execution_count": 11,
     "metadata": {},
     "output_type": "execute_result"
    }
   ],
   "source": [
    "data['ceiling_height'].median()\n",
    "    "
   ]
  },
  {
   "cell_type": "code",
   "execution_count": 12,
   "metadata": {},
   "outputs": [],
   "source": [
    "data['ceiling_height']= data['ceiling_height'].fillna(2.65)"
   ]
  },
  {
   "cell_type": "code",
   "execution_count": 13,
   "metadata": {},
   "outputs": [
    {
     "data": {
      "text/plain": [
       "array([  2.7 ,   2.65,   3.03,   2.5 ,   2.67,   2.56,   3.05,   2.75,\n",
       "         2.6 ,   2.9 ,   2.8 ,   2.55,   3.  ,   3.2 ,   2.61,   3.25,\n",
       "         3.45,   2.77,   2.85,   2.64,   2.57,   4.15,   3.5 ,   3.3 ,\n",
       "         2.71,   4.  ,   2.47,   2.73,   2.84,   3.1 ,   2.34,   3.4 ,\n",
       "         3.06,   2.72,   2.54,   2.51,   2.78,   2.76,   2.58,   3.7 ,\n",
       "         2.52,   5.2 ,   2.87,   2.66,   2.59,   2.  ,   2.45,   3.6 ,\n",
       "         2.92,   3.11,   3.13,   3.8 ,   3.15,   3.55,   3.16,   3.62,\n",
       "         3.12,   2.53,   2.74,   2.96,   2.46,   5.3 ,   5.  ,   2.79,\n",
       "         2.95,   4.06,   2.94,   3.82,   3.54,   3.53,   2.83,   4.7 ,\n",
       "         2.4 ,   3.38,   3.01,   5.6 ,   3.65,   3.9 ,   3.18,   3.35,\n",
       "         2.3 ,   3.57,   2.48,   2.62,   2.82,   3.98,   2.63,   3.83,\n",
       "         3.52,   3.95,   3.75,   2.88,   3.67,   3.87,   3.66,   3.85,\n",
       "         3.86,   4.19,   3.24,   4.8 ,   4.5 ,   4.2 ,   3.36,   3.08,\n",
       "         3.68,   3.07,   3.37,   3.09,   8.  ,   3.26,   3.34,   2.81,\n",
       "         3.44,   2.97,   3.14,   4.37,   2.68,   3.22,   3.27,   4.1 ,\n",
       "         2.93,   3.46,   3.47,   3.33,   3.63,   3.32,   1.2 ,   8.3 ,\n",
       "         2.98,   2.86,   3.17,   4.4 ,   3.28,   3.04,   4.45,   5.5 ,\n",
       "         3.84,   3.23,   3.02,   3.21,   3.43,   3.78,   4.3 ,   3.39,\n",
       "         2.69,   3.31,   4.65,   3.56,   2.2 ,   3.51,   3.93,   3.42,\n",
       "         2.99,   3.49,  14.  ,   4.14,   2.91,   3.88,   1.75,   4.25,\n",
       "         3.29,   2.25,   3.76,   3.69,   6.  ,   2.89,   3.58,   5.8 ,\n",
       "         2.49,   4.9 ,   3.48,  10.3 ,   1.  , 100.  ,   3.59])"
      ]
     },
     "execution_count": 13,
     "metadata": {},
     "output_type": "execute_result"
    }
   ],
   "source": [
    "\n",
    "data['ceiling_height'].unique()"
   ]
  },
  {
   "cell_type": "markdown",
   "metadata": {},
   "source": [
    "Заменим типы в столбцах, что нашли в процессе изучения данных:"
   ]
  },
  {
   "cell_type": "markdown",
   "metadata": {},
   "source": [
    "Подумаем, почему появляются пропуски в данных. Все объявления разные, кто-то не считал расстояние до центра, ктоло не знает о наличии парков около квариры. Ктоло по ошибке или невнимательности не указал какую-то информацию. Может при переносе данных и формировании базы потерялись какие-либо значения. Отсутствие балкона может быть пустым значением и при замене nan на 0 пропуски уйдут. То же самое со значениями в булевых типах строк."
   ]
  },
  {
   "cell_type": "code",
   "execution_count": 14,
   "metadata": {},
   "outputs": [
    {
     "name": "stdout",
     "output_type": "stream",
     "text": [
      "<class 'pandas.core.frame.DataFrame'>\n",
      "RangeIndex: 23699 entries, 0 to 23698\n",
      "Data columns (total 22 columns):\n",
      " #   Column                Non-Null Count  Dtype         \n",
      "---  ------                --------------  -----         \n",
      " 0   total_images          23699 non-null  int64         \n",
      " 1   last_price            23699 non-null  float64       \n",
      " 2   total_area            23699 non-null  float64       \n",
      " 3   first_day_exposition  23699 non-null  datetime64[ns]\n",
      " 4   rooms                 23699 non-null  int64         \n",
      " 5   ceiling_height        23699 non-null  float64       \n",
      " 6   floors_total          23699 non-null  int64         \n",
      " 7   living_area           21796 non-null  float64       \n",
      " 8   floor                 23699 non-null  int64         \n",
      " 9   is_apartment          23699 non-null  bool          \n",
      " 10  studio                23699 non-null  bool          \n",
      " 11  open_plan             23699 non-null  bool          \n",
      " 12  kitchen_area          21421 non-null  float64       \n",
      " 13  balcony               23699 non-null  int64         \n",
      " 14  locality_name         23650 non-null  object        \n",
      " 15  airports_nearest      18157 non-null  float64       \n",
      " 16  cityCenters_nearest   18180 non-null  float64       \n",
      " 17  parks_around3000      18181 non-null  float64       \n",
      " 18  parks_nearest         8079 non-null   float64       \n",
      " 19  ponds_around3000      23699 non-null  int64         \n",
      " 20  ponds_nearest         9110 non-null   float64       \n",
      " 21  days_exposition       23699 non-null  int64         \n",
      "dtypes: bool(3), datetime64[ns](1), float64(10), int64(7), object(1)\n",
      "memory usage: 3.5+ MB\n"
     ]
    }
   ],
   "source": [
    "data['first_day_exposition'] = pd.to_datetime(data['first_day_exposition'], format='%Y-%m-%dT%H:%M:%S')  #переведем в тип Datetime\n",
    "data['floors_total'] = data['floors_total'].fillna(0).astype(int) #переведем в тип int64.\n",
    "data['is_apartment'] = data['is_apartment'].fillna(False) #заменим значения nan на 0, предположив, что 0 это не апартаменты, 1 апартаменты  \n",
    "data['balcony'] = data['balcony'].fillna(0).astype(int) #переведем в тип int64.\n",
    "data['ponds_around3000'] = data['ponds_around3000'].fillna(9999).astype(int)   #переведем в тип int64.\n",
    "data['days_exposition'] = data['days_exposition'].fillna(0).astype(int)   #переведем в тип int64.   \n",
    "data.info()\n",
    "\n",
    "\n"
   ]
  },
  {
   "cell_type": "markdown",
   "metadata": {},
   "source": [
    "Заменим пустые значения жилой площади и площади кухни"
   ]
  },
  {
   "cell_type": "code",
   "execution_count": 15,
   "metadata": {},
   "outputs": [],
   "source": [
    "living_ratio = data['living_area'].mean() / data['total_area'].mean()\n",
    "kitchen_ratio = data['kitchen_area'].mean() / data['total_area'].mean()\n",
    "data['living_area'].fillna(living_ratio * data['total_area'], inplace=True)\n",
    "data['kitchen_area'].fillna(kitchen_ratio * data['total_area'], inplace=True)"
   ]
  },
  {
   "cell_type": "markdown",
   "metadata": {},
   "source": [
    "Заменим пустые значения в  столбцах на no_data\n"
   ]
  },
  {
   "cell_type": "code",
   "execution_count": 16,
   "metadata": {},
   "outputs": [
    {
     "data": {
      "text/plain": [
       "total_images                0\n",
       "last_price                  0\n",
       "total_area                  0\n",
       "first_day_exposition        0\n",
       "rooms                       0\n",
       "ceiling_height              0\n",
       "floors_total                0\n",
       "living_area                 0\n",
       "floor                       0\n",
       "is_apartment                0\n",
       "studio                      0\n",
       "open_plan                   0\n",
       "kitchen_area                0\n",
       "balcony                     0\n",
       "locality_name               0\n",
       "airports_nearest         5542\n",
       "cityCenters_nearest      5519\n",
       "parks_around3000            0\n",
       "parks_nearest           15620\n",
       "ponds_around3000            0\n",
       "ponds_nearest           14589\n",
       "days_exposition             0\n",
       "dtype: int64"
      ]
     },
     "execution_count": 16,
     "metadata": {},
     "output_type": "execute_result"
    }
   ],
   "source": [
    "data['parks_around3000'] = data['parks_around3000'].fillna(value = 'no_data')\n",
    "data['ponds_around3000'] = data['ponds_around3000'].fillna(value = 'no_data')\n",
    "data['locality_name'] = data['locality_name'].fillna(value = 'no_data')\n",
    "\n",
    "data.isna().sum()\n"
   ]
  },
  {
   "cell_type": "markdown",
   "metadata": {},
   "source": [
    "Поищем неявные дубликаты в столбце locality_name "
   ]
  },
  {
   "cell_type": "code",
   "execution_count": 17,
   "metadata": {},
   "outputs": [
    {
     "data": {
      "text/plain": [
       "array(['Санкт-Петербург', 'посёлок Шушары', 'городской посёлок Янино-1',\n",
       "       'посёлок Парголово', 'посёлок Мурино', 'Ломоносов', 'Сертолово',\n",
       "       'Петергоф', 'Пушкин', 'деревня Кудрово', 'Коммунар', 'Колпино',\n",
       "       'поселок городского типа Красный Бор', 'Гатчина', 'поселок Мурино',\n",
       "       'деревня Фёдоровское', 'Выборг', 'Кронштадт', 'Кировск',\n",
       "       'деревня Новое Девяткино', 'посёлок Металлострой',\n",
       "       'посёлок городского типа Лебяжье',\n",
       "       'посёлок городского типа Сиверский', 'поселок Молодцово',\n",
       "       'поселок городского типа Кузьмоловский',\n",
       "       'садовое товарищество Новая Ропша', 'Павловск',\n",
       "       'деревня Пикколово', 'Всеволожск', 'Волхов', 'Кингисепп',\n",
       "       'Приозерск', 'Сестрорецк', 'деревня Куттузи', 'посёлок Аннино',\n",
       "       'поселок городского типа Ефимовский', 'посёлок Плодовое',\n",
       "       'деревня Заклинье', 'поселок Торковичи', 'поселок Первомайское',\n",
       "       'Красное Село', 'посёлок Понтонный', 'Сясьстрой', 'деревня Старая',\n",
       "       'деревня Лесколово', 'посёлок Новый Свет', 'Сланцы',\n",
       "       'село Путилово', 'Ивангород', 'Мурино', 'Шлиссельбург',\n",
       "       'Никольское', 'Зеленогорск', 'Сосновый Бор', 'поселок Новый Свет',\n",
       "       'деревня Оржицы', 'деревня Кальтино', 'Кудрово',\n",
       "       'поселок Романовка', 'посёлок Бугры', 'поселок Бугры',\n",
       "       'поселок городского типа Рощино', 'Кириши', 'Луга', 'Волосово',\n",
       "       'Отрадное', 'село Павлово', 'поселок Оредеж', 'село Копорье',\n",
       "       'посёлок городского типа Красный Бор', 'посёлок Молодёжное',\n",
       "       'Тихвин', 'посёлок Победа', 'деревня Нурма',\n",
       "       'поселок городского типа Синявино', 'Тосно',\n",
       "       'посёлок городского типа Кузьмоловский', 'посёлок Стрельна',\n",
       "       'Бокситогорск', 'посёлок Александровская', 'деревня Лопухинка',\n",
       "       'Пикалёво', 'поселок Терволово',\n",
       "       'поселок городского типа Советский', 'Подпорожье',\n",
       "       'посёлок Петровское', 'посёлок городского типа Токсово',\n",
       "       'поселок Сельцо', 'посёлок городского типа Вырица',\n",
       "       'деревня Кипень', 'деревня Келози', 'деревня Вартемяги',\n",
       "       'посёлок Тельмана', 'поселок Севастьяново',\n",
       "       'городской поселок Большая Ижора', 'no_data',\n",
       "       'городской посёлок Павлово', 'деревня Агалатово',\n",
       "       'посёлок Новогорелово', 'городской посёлок Лесогорский',\n",
       "       'деревня Лаголово', 'поселок Цвелодубово',\n",
       "       'поселок городского типа Рахья', 'поселок городского типа Вырица',\n",
       "       'деревня Белогорка', 'поселок Заводской',\n",
       "       'городской посёлок Новоселье', 'деревня Большие Колпаны',\n",
       "       'деревня Горбунки', 'деревня Батово', 'деревня Заневка',\n",
       "       'деревня Иссад', 'Приморск', 'городской посёлок Фёдоровское',\n",
       "       'деревня Мистолово', 'Новая Ладога', 'поселок Зимитицы',\n",
       "       'поселок Барышево', 'деревня Разметелево',\n",
       "       'поселок городского типа имени Свердлова', 'деревня Пеники',\n",
       "       'поселок Рябово', 'деревня Пудомяги', 'поселок станции Корнево',\n",
       "       'деревня Низино', 'деревня Бегуницы', 'посёлок Поляны',\n",
       "       'городской посёлок Мга', 'поселок Елизаветино',\n",
       "       'посёлок городского типа Кузнечное', 'деревня Колтуши',\n",
       "       'поселок Запорожское', 'посёлок городского типа Рощино',\n",
       "       'деревня Гостилицы', 'деревня Малое Карлино',\n",
       "       'посёлок Мичуринское', 'посёлок городского типа имени Морозова',\n",
       "       'посёлок Песочный', 'посёлок Сосново', 'деревня Аро',\n",
       "       'поселок Ильичёво', 'посёлок городского типа Тайцы',\n",
       "       'деревня Малое Верево', 'деревня Извара', 'поселок станции Вещево',\n",
       "       'село Паша', 'деревня Калитино',\n",
       "       'посёлок городского типа Ульяновка', 'деревня Чудской Бор',\n",
       "       'поселок городского типа Дубровка', 'деревня Мины',\n",
       "       'поселок Войсковицы', 'посёлок городского типа имени Свердлова',\n",
       "       'деревня Коркино', 'посёлок Ропша',\n",
       "       'поселок городского типа Приладожский', 'посёлок Щеглово',\n",
       "       'посёлок Гаврилово', 'Лодейное Поле', 'деревня Рабитицы',\n",
       "       'поселок городского типа Никольский', 'деревня Кузьмолово',\n",
       "       'деревня Малые Колпаны', 'поселок Тельмана',\n",
       "       'посёлок Петро-Славянка', 'городской посёлок Назия',\n",
       "       'посёлок Репино', 'посёлок Ильичёво', 'поселок Углово',\n",
       "       'поселок Старая Малукса', 'садовое товарищество Рахья',\n",
       "       'поселок Аннино', 'поселок Победа', 'деревня Меньково',\n",
       "       'деревня Старые Бегуницы', 'посёлок Сапёрный', 'поселок Семрино',\n",
       "       'поселок Гаврилово', 'поселок Глажево', 'поселок Кобринское',\n",
       "       'деревня Гарболово', 'деревня Юкки',\n",
       "       'поселок станции Приветнинское', 'деревня Мануйлово',\n",
       "       'деревня Пчева', 'поселок Поляны', 'поселок Цвылёво',\n",
       "       'поселок Мельниково', 'посёлок Пудость', 'посёлок Усть-Луга',\n",
       "       'Светогорск', 'Любань', 'поселок Селезнёво',\n",
       "       'поселок городского типа Рябово', 'Каменногорск', 'деревня Кривко',\n",
       "       'поселок Глебычево', 'деревня Парицы', 'поселок Жилпосёлок',\n",
       "       'посёлок городского типа Мга', 'городской поселок Янино-1',\n",
       "       'посёлок Войскорово', 'село Никольское', 'посёлок Терволово',\n",
       "       'поселок Стеклянный', 'посёлок городского типа Важины',\n",
       "       'посёлок Мыза-Ивановка', 'село Русско-Высоцкое',\n",
       "       'поселок городского типа Лебяжье',\n",
       "       'поселок городского типа Форносово', 'село Старая Ладога',\n",
       "       'поселок Житково', 'городской посёлок Виллози', 'деревня Лампово',\n",
       "       'деревня Шпаньково', 'деревня Лаврики', 'посёлок Сумино',\n",
       "       'посёлок Возрождение', 'деревня Старосиверская',\n",
       "       'посёлок Кикерино', 'поселок Возрождение',\n",
       "       'деревня Старое Хинколово', 'посёлок Пригородный',\n",
       "       'посёлок Торфяное', 'городской посёлок Будогощь',\n",
       "       'поселок Суходолье', 'поселок Красная Долина', 'деревня Хапо-Ое',\n",
       "       'поселок городского типа Дружная Горка', 'поселок Лисий Нос',\n",
       "       'деревня Яльгелево', 'посёлок Стеклянный', 'село Рождествено',\n",
       "       'деревня Старополье', 'посёлок Левашово', 'деревня Сяськелево',\n",
       "       'деревня Камышовка',\n",
       "       'садоводческое некоммерческое товарищество Лесная Поляна',\n",
       "       'деревня Хязельки', 'поселок Жилгородок',\n",
       "       'посёлок городского типа Павлово', 'деревня Ялгино',\n",
       "       'поселок Новый Учхоз', 'городской посёлок Рощино',\n",
       "       'поселок Гончарово', 'поселок Почап', 'посёлок Сапёрное',\n",
       "       'посёлок Платформа 69-й километр', 'поселок Каложицы',\n",
       "       'деревня Фалилеево', 'деревня Пельгора',\n",
       "       'поселок городского типа Лесогорский', 'деревня Торошковичи',\n",
       "       'посёлок Белоостров', 'посёлок Алексеевка', 'поселок Серебрянский',\n",
       "       'поселок Лукаши', 'поселок Петровское', 'деревня Щеглово',\n",
       "       'поселок Мичуринское', 'деревня Тарасово', 'поселок Кингисеппский',\n",
       "       'посёлок при железнодорожной станции Вещево', 'поселок Ушаки',\n",
       "       'деревня Котлы', 'деревня Сижно', 'деревня Торосово',\n",
       "       'посёлок Форт Красная Горка', 'поселок городского типа Токсово',\n",
       "       'деревня Новолисино', 'посёлок станции Громово', 'деревня Глинка',\n",
       "       'посёлок Мельниково', 'поселок городского типа Назия',\n",
       "       'деревня Старая Пустошь', 'поселок Коммунары', 'поселок Починок',\n",
       "       'посёлок городского типа Вознесенье', 'деревня Разбегаево',\n",
       "       'посёлок городского типа Рябово', 'поселок Гладкое',\n",
       "       'посёлок при железнодорожной станции Приветнинское',\n",
       "       'поселок Тёсово-4', 'посёлок Жилгородок', 'деревня Бор',\n",
       "       'посёлок Коробицыно', 'деревня Большая Вруда', 'деревня Курковицы',\n",
       "       'посёлок Лисий Нос', 'городской посёлок Советский',\n",
       "       'посёлок Кобралово', 'деревня Суоранда', 'поселок Кобралово',\n",
       "       'поселок городского типа Кондратьево',\n",
       "       'коттеджный поселок Счастье', 'поселок Любань', 'деревня Реброво',\n",
       "       'деревня Зимитицы', 'деревня Тойворово', 'поселок Семиозерье',\n",
       "       'поселок Лесное', 'поселок Совхозный', 'поселок Усть-Луга',\n",
       "       'посёлок Ленинское', 'посёлок Суйда',\n",
       "       'посёлок городского типа Форносово', 'деревня Нижние Осельки',\n",
       "       'посёлок станции Свирь', 'поселок Перово', 'Высоцк',\n",
       "       'поселок Гарболово', 'село Шум', 'поселок Котельский',\n",
       "       'поселок станции Лужайка', 'деревня Большая Пустомержа',\n",
       "       'поселок Красносельское', 'деревня Вахнова Кара', 'деревня Пижма',\n",
       "       'коттеджный поселок Кивеннапа Север', 'поселок Коробицыно',\n",
       "       'поселок Ромашки', 'посёлок Перово', 'деревня Каськово',\n",
       "       'деревня Куровицы', 'посёлок Плоское', 'поселок Сумино',\n",
       "       'поселок городского типа Большая Ижора', 'поселок Кирпичное',\n",
       "       'деревня Ям-Тесово', 'деревня Раздолье', 'деревня Терпилицы',\n",
       "       'посёлок Шугозеро', 'деревня Ваганово', 'поселок Пушное',\n",
       "       'садовое товарищество Садко', 'посёлок Усть-Ижора',\n",
       "       'деревня Выскатка', 'городской посёлок Свирьстрой',\n",
       "       'поселок Громово', 'деревня Кисельня', 'посёлок Старая Малукса',\n",
       "       'деревня Трубников Бор', 'поселок Калитино',\n",
       "       'посёлок Высокоключевой', 'садовое товарищество Приладожский',\n",
       "       'посёлок Пансионат Зелёный Бор', 'деревня Ненимяки',\n",
       "       'поселок Пансионат Зелёный Бор', 'деревня Снегирёвка',\n",
       "       'деревня Рапполово', 'деревня Пустынка', 'поселок Рабитицы',\n",
       "       'деревня Большой Сабск', 'деревня Русско', 'деревня Лупполово',\n",
       "       'деревня Большое Рейзино', 'деревня Малая Романовка',\n",
       "       'поселок Дружноселье', 'поселок Пчевжа', 'поселок Володарское',\n",
       "       'деревня Нижняя', 'коттеджный посёлок Лесное', 'деревня Тихковицы',\n",
       "       'деревня Борисова Грива', 'посёлок Дзержинского'], dtype=object)"
      ]
     },
     "execution_count": 17,
     "metadata": {},
     "output_type": "execute_result"
    }
   ],
   "source": [
    "data['locality_name'].unique()"
   ]
  },
  {
   "cell_type": "markdown",
   "metadata": {},
   "source": [
    "Данных очень много. На первый взгляд видны совпадения с буквами е и ё. Так же есть совпадения с \"поселок городского типа \" и \"городской поселок\". Заменим ё на е, поселок Рябово на поселок городского типа Рябово и городской поселок на поселок городского типа."
   ]
  },
  {
   "cell_type": "code",
   "execution_count": 8,
   "metadata": {},
   "outputs": [
    {
     "data": {
      "text/plain": [
       "array(['Санкт-Петербург', 'поселок Шушары', 'городской поселок Янино-1',\n",
       "       'поселок Парголово', 'поселок Мурино', 'Ломоносов', 'Сертолово',\n",
       "       'Петергоф', 'Пушкин', 'деревня Кудрово', 'Коммунар', 'Колпино',\n",
       "       'поселок Красный Бор', 'Гатчина', 'деревня Федоровское', 'Выборг',\n",
       "       'Кронштадт', 'Кировск', 'деревня Новое Девяткино',\n",
       "       'поселок Металлострой', 'поселок городского типа Лебяжье',\n",
       "       'поселок городского типа Сиверский', 'поселок Молодцово',\n",
       "       'поселок Кузьмоловский', 'садовое товарищество Новая Ропша',\n",
       "       'Павловск', 'деревня Пикколово', 'Всеволожск', 'Волхов',\n",
       "       'Кингисепп', 'Приозерск', 'Сестрорецк', 'деревня Куттузи',\n",
       "       'поселок Аннино', 'поселок Ефимовский', 'поселок Плодовое',\n",
       "       'деревня Заклинье', 'поселок Торковичи', 'поселок Первомайское',\n",
       "       'Красное Село', 'поселок Понтонный', 'Сясьстрой', 'деревня Старая',\n",
       "       'деревня Лесколово', 'поселок Новый Свет', 'Сланцы',\n",
       "       'село Путилово', 'Ивангород', 'Мурино', 'Шлиссельбург',\n",
       "       'Никольское', 'Зеленогорск', 'Сосновый Бор', 'деревня Оржицы',\n",
       "       'деревня Кальтино', 'Кудрово', 'поселок Романовка',\n",
       "       'поселок Бугры', 'поселок Рощино', 'Кириши', 'Луга', 'Волосово',\n",
       "       'Отрадное', 'село Павлово', 'поселок Оредеж', 'село Копорье',\n",
       "       'поселок городского типа Красный Бор', 'поселок Молодежное',\n",
       "       'Тихвин', 'поселок Победа', 'деревня Нурма', 'поселок Синявино',\n",
       "       'Тосно', 'поселок городского типа Кузьмоловский',\n",
       "       'поселок Стрельна', 'Бокситогорск', 'поселок Александровская',\n",
       "       'деревня Лопухинка', 'Пикалево', 'поселок Терволово',\n",
       "       'поселок Советский', 'Подпорожье', 'поселок Петровское',\n",
       "       'поселок городского типа Токсово', 'поселок Сельцо',\n",
       "       'поселок городского типа Вырица', 'деревня Кипень',\n",
       "       'деревня Келози', 'деревня Вартемяги', 'поселок Тельмана',\n",
       "       'поселок Севастьяново', 'поселок Большая Ижора', nan,\n",
       "       'городской поселок Павлово', 'деревня Агалатово',\n",
       "       'поселок Новогорелово', 'городской поселок Лесогорский',\n",
       "       'деревня Лаголово', 'поселок Цвелодубово', 'поселок Рахья',\n",
       "       'поселок Вырица', 'деревня Белогорка', 'поселок Заводской',\n",
       "       'городской поселок Новоселье', 'деревня Большие Колпаны',\n",
       "       'деревня Горбунки', 'деревня Батово', 'деревня Заневка',\n",
       "       'деревня Иссад', 'Приморск', 'городской поселок Федоровское',\n",
       "       'деревня Мистолово', 'Новая Ладога', 'поселок Зимитицы',\n",
       "       'поселок Барышево', 'деревня Разметелево',\n",
       "       'поселок имени Свердлова', 'деревня Пеники', 'поселок Рябово',\n",
       "       'деревня Пудомяги', 'поселок станции Корнево', 'деревня Низино',\n",
       "       'деревня Бегуницы', 'поселок Поляны', 'городской поселок Мга',\n",
       "       'поселок Елизаветино', 'поселок городского типа Кузнечное',\n",
       "       'деревня Колтуши', 'поселок Запорожское',\n",
       "       'поселок городского типа Рощино', 'деревня Гостилицы',\n",
       "       'деревня Малое Карлино', 'поселок Мичуринское',\n",
       "       'поселок городского типа имени Морозова', 'поселок Песочный',\n",
       "       'поселок Сосново', 'деревня Аро', 'поселок Ильичево',\n",
       "       'поселок городского типа Тайцы', 'деревня Малое Верево',\n",
       "       'деревня Извара', 'поселок станции Вещево', 'село Паша',\n",
       "       'деревня Калитино', 'поселок городского типа Ульяновка',\n",
       "       'деревня Чудской Бор', 'поселок Дубровка', 'деревня Мины',\n",
       "       'поселок Войсковицы', 'поселок городского типа имени Свердлова',\n",
       "       'деревня Коркино', 'поселок Ропша', 'поселок Приладожский',\n",
       "       'поселок Щеглово', 'поселок Гаврилово', 'Лодейное Поле',\n",
       "       'деревня Рабитицы', 'поселок Никольский', 'деревня Кузьмолово',\n",
       "       'деревня Малые Колпаны', 'поселок Петро-Славянка',\n",
       "       'городской поселок Назия', 'поселок Репино', 'поселок Углово',\n",
       "       'поселок Старая Малукса', 'садовое товарищество Рахья',\n",
       "       'деревня Меньково', 'деревня Старые Бегуницы', 'поселок Саперный',\n",
       "       'поселок Семрино', 'поселок Глажево', 'поселок Кобринское',\n",
       "       'деревня Гарболово', 'деревня Юкки',\n",
       "       'поселок станции Приветнинское', 'деревня Мануйлово',\n",
       "       'деревня Пчева', 'поселок Цвылево', 'поселок Мельниково',\n",
       "       'поселок Пудость', 'поселок Усть-Луга', 'Светогорск', 'Любань',\n",
       "       'поселок Селезнево', 'Каменногорск', 'деревня Кривко',\n",
       "       'поселок Глебычево', 'деревня Парицы', 'поселок Жилпоселок',\n",
       "       'поселок городского типа Мга', 'поселок Янино-1',\n",
       "       'поселок Войскорово', 'село Никольское', 'поселок Стеклянный',\n",
       "       'поселок городского типа Важины', 'поселок Мыза-Ивановка',\n",
       "       'село Русско-Высоцкое', 'поселок Лебяжье', 'поселок Форносово',\n",
       "       'село Старая Ладога', 'поселок Житково',\n",
       "       'городской поселок Виллози', 'деревня Лампово',\n",
       "       'деревня Шпаньково', 'деревня Лаврики', 'поселок Сумино',\n",
       "       'поселок Возрождение', 'деревня Старосиверская',\n",
       "       'поселок Кикерино', 'деревня Старое Хинколово',\n",
       "       'поселок Пригородный', 'поселок Торфяное',\n",
       "       'городской поселок Будогощь', 'поселок Суходолье',\n",
       "       'поселок Красная Долина', 'деревня Хапо-Ое',\n",
       "       'поселок Дружная Горка', 'поселок Лисий Нос', 'деревня Яльгелево',\n",
       "       'село Рождествено', 'деревня Старополье', 'поселок Левашово',\n",
       "       'деревня Сяськелево', 'деревня Камышовка',\n",
       "       'садоводческое некоммерческое товарищество Лесная Поляна',\n",
       "       'деревня Хязельки', 'поселок Жилгородок',\n",
       "       'поселок городского типа Павлово', 'деревня Ялгино',\n",
       "       'поселок Новый Учхоз', 'городской поселок Рощино',\n",
       "       'поселок Гончарово', 'поселок Почап', 'поселок Саперное',\n",
       "       'поселок Платформа 69-й километр', 'поселок Каложицы',\n",
       "       'деревня Фалилеево', 'деревня Пельгора', 'поселок Лесогорский',\n",
       "       'деревня Торошковичи', 'поселок Белоостров', 'поселок Алексеевка',\n",
       "       'поселок Серебрянский', 'поселок Лукаши', 'деревня Щеглово',\n",
       "       'деревня Тарасово', 'поселок Кингисеппский',\n",
       "       'поселок при железнодорожной станции Вещево', 'поселок Ушаки',\n",
       "       'деревня Котлы', 'деревня Сижно', 'деревня Торосово',\n",
       "       'поселок Форт Красная Горка', 'поселок Токсово',\n",
       "       'деревня Новолисино', 'поселок станции Громово', 'деревня Глинка',\n",
       "       'поселок Назия', 'деревня Старая Пустошь', 'поселок Коммунары',\n",
       "       'поселок Починок', 'поселок городского типа Вознесенье',\n",
       "       'деревня Разбегаево', 'поселок городского типа Рябово',\n",
       "       'поселок Гладкое',\n",
       "       'поселок при железнодорожной станции Приветнинское',\n",
       "       'поселок Тесово-4', 'деревня Бор', 'поселок Коробицыно',\n",
       "       'деревня Большая Вруда', 'деревня Курковицы',\n",
       "       'городской поселок Советский', 'поселок Кобралово',\n",
       "       'деревня Суоранда', 'поселок Кондратьево',\n",
       "       'коттеджный поселок Счастье', 'поселок Любань', 'деревня Реброво',\n",
       "       'деревня Зимитицы', 'деревня Тойворово', 'поселок Семиозерье',\n",
       "       'поселок Лесное', 'поселок Совхозный', 'поселок Ленинское',\n",
       "       'поселок Суйда', 'поселок городского типа Форносово',\n",
       "       'деревня Нижние Осельки', 'поселок станции Свирь',\n",
       "       'поселок Перово', 'Высоцк', 'поселок Гарболово', 'село Шум',\n",
       "       'поселок Котельский', 'поселок станции Лужайка',\n",
       "       'деревня Большая Пустомержа', 'поселок Красносельское',\n",
       "       'деревня Вахнова Кара', 'деревня Пижма',\n",
       "       'коттеджный поселок Кивеннапа Север', 'поселок Ромашки',\n",
       "       'деревня Каськово', 'деревня Куровицы', 'поселок Плоское',\n",
       "       'поселок Кирпичное', 'деревня Ям-Тесово', 'деревня Раздолье',\n",
       "       'деревня Терпилицы', 'поселок Шугозеро', 'деревня Ваганово',\n",
       "       'поселок Пушное', 'садовое товарищество Садко',\n",
       "       'поселок Усть-Ижора', 'деревня Выскатка',\n",
       "       'городской поселок Свирьстрой', 'поселок Громово',\n",
       "       'деревня Кисельня', 'деревня Трубников Бор', 'поселок Калитино',\n",
       "       'поселок Высокоключевой', 'садовое товарищество Приладожский',\n",
       "       'поселок Пансионат Зеленый Бор', 'деревня Ненимяки',\n",
       "       'деревня Снегиревка', 'деревня Рапполово', 'деревня Пустынка',\n",
       "       'поселок Рабитицы', 'деревня Большой Сабск', 'деревня Русско',\n",
       "       'деревня Лупполово', 'деревня Большое Рейзино',\n",
       "       'деревня Малая Романовка', 'поселок Дружноселье', 'поселок Пчевжа',\n",
       "       'поселок Володарское', 'деревня Нижняя',\n",
       "       'коттеджный поселок Лесное', 'деревня Тихковицы',\n",
       "       'деревня Борисова Грива', 'поселок Дзержинского'], dtype=object)"
      ]
     },
     "execution_count": 8,
     "metadata": {},
     "output_type": "execute_result"
    }
   ],
   "source": [
    "to_replace = {'ё':'е', \\\n",
    "              'поселок городского типа':'поселок', \\\n",
    "              'городской поселок':'поселок'\n",
    "             }\n",
    "data['locality_name'] = data['locality_name'].replace(to_replace, regex=True)\n",
    "\n",
    "\n",
    "data['locality_name'].unique()"
   ]
  },
  {
   "cell_type": "markdown",
   "metadata": {},
   "source": [
    "Найдем и устраним редкие и выбивающиеся значения. Ранее мы уже заменили аномалии в столбце 'ceiling_height', логично предположив, что значения 25,23 и тд на самом деле это вещественные значения 2,5, 2,3 и тд соответственно. На данном этапе мы убираем редкие и выбивающиеся значения.\n",
    "Изучив уникальные значения столбца 'ceiling_height' мы увидели, что потолки могут быть очень низкими и очень высокими, приняв эти значения за ошибочные мы поставили условие, что потоли нас интересую в диапазоне от 3-5 метров.\n",
    "Изучит данные по столбцу 'floors_total' мы увидели, что в данных есть нулевые значения, не бывает нулевая этажность. Значит будем рассматривать квартиры в домах, где от 1 этажа и выше.\n",
    "Изучив данные по столбцу 'kitchen_area' мы увидели аномально маленькие и аномально большие кухни, не может быть кухня 1 кв.м, поставим за минимальную площадь кухни 3 кв.м, а максимальную 30 кв.м.\n",
    "Ограничим также данные по жилым площадям и по общей площади квартиры."
   ]
  },
  {
   "cell_type": "code",
   "execution_count": 20,
   "metadata": {},
   "outputs": [],
   "source": [
    "data = data.loc[(data['ceiling_height'] <=5) & (data['ceiling_height'] >=2)] \n",
    "\n",
    "data = data.loc[(data['kitchen_area'] <=30) & (data['kitchen_area'] >=3)] \n",
    "data = data.loc[(data['living_area'] <=200) & (data['living_area'] >=10)]\n",
    "data = data.loc[(data['total_area'] <=200) & (data['total_area'] >=15)]\n"
   ]
  },
  {
   "cell_type": "code",
   "execution_count": 21,
   "metadata": {},
   "outputs": [
    {
     "data": {
      "text/html": [
       "<div>\n",
       "<style scoped>\n",
       "    .dataframe tbody tr th:only-of-type {\n",
       "        vertical-align: middle;\n",
       "    }\n",
       "\n",
       "    .dataframe tbody tr th {\n",
       "        vertical-align: top;\n",
       "    }\n",
       "\n",
       "    .dataframe thead th {\n",
       "        text-align: right;\n",
       "    }\n",
       "</style>\n",
       "<table border=\"1\" class=\"dataframe\">\n",
       "  <thead>\n",
       "    <tr style=\"text-align: right;\">\n",
       "      <th></th>\n",
       "      <th>total_images</th>\n",
       "      <th>last_price</th>\n",
       "      <th>total_area</th>\n",
       "      <th>rooms</th>\n",
       "      <th>ceiling_height</th>\n",
       "      <th>floors_total</th>\n",
       "      <th>living_area</th>\n",
       "      <th>floor</th>\n",
       "      <th>kitchen_area</th>\n",
       "      <th>balcony</th>\n",
       "      <th>airports_nearest</th>\n",
       "      <th>cityCenters_nearest</th>\n",
       "      <th>parks_nearest</th>\n",
       "      <th>ponds_around3000</th>\n",
       "      <th>ponds_nearest</th>\n",
       "      <th>days_exposition</th>\n",
       "    </tr>\n",
       "  </thead>\n",
       "  <tbody>\n",
       "    <tr>\n",
       "      <th>count</th>\n",
       "      <td>23144.000000</td>\n",
       "      <td>2.314400e+04</td>\n",
       "      <td>23144.000000</td>\n",
       "      <td>23144.000000</td>\n",
       "      <td>23144.000000</td>\n",
       "      <td>23144.000000</td>\n",
       "      <td>23144.000000</td>\n",
       "      <td>23144.000000</td>\n",
       "      <td>23144.000000</td>\n",
       "      <td>23144.000000</td>\n",
       "      <td>17629.000000</td>\n",
       "      <td>17649.000000</td>\n",
       "      <td>7744.000000</td>\n",
       "      <td>23144.000000</td>\n",
       "      <td>8758.000000</td>\n",
       "      <td>23144.000000</td>\n",
       "    </tr>\n",
       "    <tr>\n",
       "      <th>mean</th>\n",
       "      <td>9.799473</td>\n",
       "      <td>5.815901e+06</td>\n",
       "      <td>57.452250</td>\n",
       "      <td>2.025622</td>\n",
       "      <td>2.689377</td>\n",
       "      <td>10.679226</td>\n",
       "      <td>33.078400</td>\n",
       "      <td>5.896474</td>\n",
       "      <td>9.942886</td>\n",
       "      <td>0.593329</td>\n",
       "      <td>28820.764422</td>\n",
       "      <td>14358.011502</td>\n",
       "      <td>492.367123</td>\n",
       "      <td>2374.173349</td>\n",
       "      <td>521.851108</td>\n",
       "      <td>155.134160</td>\n",
       "    </tr>\n",
       "    <tr>\n",
       "      <th>std</th>\n",
       "      <td>5.648983</td>\n",
       "      <td>5.003905e+06</td>\n",
       "      <td>25.358682</td>\n",
       "      <td>0.990509</td>\n",
       "      <td>0.203918</td>\n",
       "      <td>6.626571</td>\n",
       "      <td>16.949959</td>\n",
       "      <td>4.892960</td>\n",
       "      <td>4.138059</td>\n",
       "      <td>0.957698</td>\n",
       "      <td>12717.573714</td>\n",
       "      <td>8593.763963</td>\n",
       "      <td>340.895217</td>\n",
       "      <td>4254.135687</td>\n",
       "      <td>276.898305</td>\n",
       "      <td>210.949824</td>\n",
       "    </tr>\n",
       "    <tr>\n",
       "      <th>min</th>\n",
       "      <td>0.000000</td>\n",
       "      <td>4.300000e+05</td>\n",
       "      <td>17.000000</td>\n",
       "      <td>0.000000</td>\n",
       "      <td>2.000000</td>\n",
       "      <td>0.000000</td>\n",
       "      <td>10.000000</td>\n",
       "      <td>1.000000</td>\n",
       "      <td>3.000000</td>\n",
       "      <td>0.000000</td>\n",
       "      <td>0.000000</td>\n",
       "      <td>181.000000</td>\n",
       "      <td>1.000000</td>\n",
       "      <td>0.000000</td>\n",
       "      <td>13.000000</td>\n",
       "      <td>0.000000</td>\n",
       "    </tr>\n",
       "    <tr>\n",
       "      <th>25%</th>\n",
       "      <td>6.000000</td>\n",
       "      <td>3.400000e+06</td>\n",
       "      <td>40.000000</td>\n",
       "      <td>1.000000</td>\n",
       "      <td>2.600000</td>\n",
       "      <td>5.000000</td>\n",
       "      <td>19.000000</td>\n",
       "      <td>2.000000</td>\n",
       "      <td>7.000000</td>\n",
       "      <td>0.000000</td>\n",
       "      <td>18475.000000</td>\n",
       "      <td>9556.000000</td>\n",
       "      <td>288.000000</td>\n",
       "      <td>0.000000</td>\n",
       "      <td>303.000000</td>\n",
       "      <td>23.000000</td>\n",
       "    </tr>\n",
       "    <tr>\n",
       "      <th>50%</th>\n",
       "      <td>9.000000</td>\n",
       "      <td>4.600000e+06</td>\n",
       "      <td>51.200000</td>\n",
       "      <td>2.000000</td>\n",
       "      <td>2.650000</td>\n",
       "      <td>9.000000</td>\n",
       "      <td>30.000000</td>\n",
       "      <td>4.000000</td>\n",
       "      <td>9.000000</td>\n",
       "      <td>0.000000</td>\n",
       "      <td>26791.000000</td>\n",
       "      <td>13216.000000</td>\n",
       "      <td>456.000000</td>\n",
       "      <td>1.000000</td>\n",
       "      <td>506.000000</td>\n",
       "      <td>73.000000</td>\n",
       "    </tr>\n",
       "    <tr>\n",
       "      <th>75%</th>\n",
       "      <td>14.000000</td>\n",
       "      <td>6.582500e+06</td>\n",
       "      <td>68.000000</td>\n",
       "      <td>3.000000</td>\n",
       "      <td>2.700000</td>\n",
       "      <td>16.000000</td>\n",
       "      <td>41.900000</td>\n",
       "      <td>8.000000</td>\n",
       "      <td>11.600000</td>\n",
       "      <td>1.000000</td>\n",
       "      <td>37407.000000</td>\n",
       "      <td>16399.000000</td>\n",
       "      <td>613.000000</td>\n",
       "      <td>3.000000</td>\n",
       "      <td>733.000000</td>\n",
       "      <td>197.000000</td>\n",
       "    </tr>\n",
       "    <tr>\n",
       "      <th>max</th>\n",
       "      <td>50.000000</td>\n",
       "      <td>1.240000e+08</td>\n",
       "      <td>200.000000</td>\n",
       "      <td>11.000000</td>\n",
       "      <td>5.000000</td>\n",
       "      <td>60.000000</td>\n",
       "      <td>164.700000</td>\n",
       "      <td>33.000000</td>\n",
       "      <td>30.000000</td>\n",
       "      <td>5.000000</td>\n",
       "      <td>84869.000000</td>\n",
       "      <td>65968.000000</td>\n",
       "      <td>3190.000000</td>\n",
       "      <td>9999.000000</td>\n",
       "      <td>1344.000000</td>\n",
       "      <td>1580.000000</td>\n",
       "    </tr>\n",
       "  </tbody>\n",
       "</table>\n",
       "</div>"
      ],
      "text/plain": [
       "       total_images    last_price    total_area         rooms  ceiling_height  \\\n",
       "count  23144.000000  2.314400e+04  23144.000000  23144.000000    23144.000000   \n",
       "mean       9.799473  5.815901e+06     57.452250      2.025622        2.689377   \n",
       "std        5.648983  5.003905e+06     25.358682      0.990509        0.203918   \n",
       "min        0.000000  4.300000e+05     17.000000      0.000000        2.000000   \n",
       "25%        6.000000  3.400000e+06     40.000000      1.000000        2.600000   \n",
       "50%        9.000000  4.600000e+06     51.200000      2.000000        2.650000   \n",
       "75%       14.000000  6.582500e+06     68.000000      3.000000        2.700000   \n",
       "max       50.000000  1.240000e+08    200.000000     11.000000        5.000000   \n",
       "\n",
       "       floors_total   living_area         floor  kitchen_area       balcony  \\\n",
       "count  23144.000000  23144.000000  23144.000000  23144.000000  23144.000000   \n",
       "mean      10.679226     33.078400      5.896474      9.942886      0.593329   \n",
       "std        6.626571     16.949959      4.892960      4.138059      0.957698   \n",
       "min        0.000000     10.000000      1.000000      3.000000      0.000000   \n",
       "25%        5.000000     19.000000      2.000000      7.000000      0.000000   \n",
       "50%        9.000000     30.000000      4.000000      9.000000      0.000000   \n",
       "75%       16.000000     41.900000      8.000000     11.600000      1.000000   \n",
       "max       60.000000    164.700000     33.000000     30.000000      5.000000   \n",
       "\n",
       "       airports_nearest  cityCenters_nearest  parks_nearest  ponds_around3000  \\\n",
       "count      17629.000000         17649.000000    7744.000000      23144.000000   \n",
       "mean       28820.764422         14358.011502     492.367123       2374.173349   \n",
       "std        12717.573714          8593.763963     340.895217       4254.135687   \n",
       "min            0.000000           181.000000       1.000000          0.000000   \n",
       "25%        18475.000000          9556.000000     288.000000          0.000000   \n",
       "50%        26791.000000         13216.000000     456.000000          1.000000   \n",
       "75%        37407.000000         16399.000000     613.000000          3.000000   \n",
       "max        84869.000000         65968.000000    3190.000000       9999.000000   \n",
       "\n",
       "       ponds_nearest  days_exposition  \n",
       "count    8758.000000     23144.000000  \n",
       "mean      521.851108       155.134160  \n",
       "std       276.898305       210.949824  \n",
       "min        13.000000         0.000000  \n",
       "25%       303.000000        23.000000  \n",
       "50%       506.000000        73.000000  \n",
       "75%       733.000000       197.000000  \n",
       "max      1344.000000      1580.000000  "
      ]
     },
     "execution_count": 21,
     "metadata": {},
     "output_type": "execute_result"
    }
   ],
   "source": [
    "data.describe()"
   ]
  },
  {
   "cell_type": "code",
   "execution_count": 22,
   "metadata": {},
   "outputs": [],
   "source": [
    "data['floors_total']= data['floors_total'].replace({0:1})"
   ]
  },
  {
   "cell_type": "markdown",
   "metadata": {},
   "source": [
    "Скорее всего 0 этажей это дома без этажности (то есть одноэтажные дома в деревнях), заменим 0 на 1. Так как фактически 1 этаж все-таки есть."
   ]
  },
  {
   "cell_type": "markdown",
   "metadata": {},
   "source": [
    "В этой части исследования мы более подробно изучили данные. Нашли пропуски в столбцах и заменили их либо медианным значением, либо значением NO-DATA. Поменяли в некоторых столбцах там где это необходимо,типы данных. Изучили уникальные значения в столбце с названиями и устранили неявные дубликаты. Нашли и устранили редкие и выбивающиеся значения, обработали аномалии и удалили то, что не получилось обработать."
   ]
  },
  {
   "cell_type": "markdown",
   "metadata": {},
   "source": [
    "### Посчитайте и добавьте в таблицу новые столбцы"
   ]
  },
  {
   "cell_type": "markdown",
   "metadata": {},
   "source": [
    "Добавим в таблицу и посчитаем столбец цена одного квадратного метра 'price_sq_m'"
   ]
  },
  {
   "cell_type": "code",
   "execution_count": 27,
   "metadata": {},
   "outputs": [],
   "source": [
    "data['price_sq_m'] = data['last_price']/data['total_area']\n"
   ]
  },
  {
   "cell_type": "markdown",
   "metadata": {},
   "source": [
    "Добавим в таблицу и посчитаем столбец день публикации объявления day_publication"
   ]
  },
  {
   "cell_type": "code",
   "execution_count": 28,
   "metadata": {},
   "outputs": [],
   "source": [
    "data['day_publication'] = data['first_day_exposition'].dt.weekday"
   ]
  },
  {
   "cell_type": "markdown",
   "metadata": {},
   "source": [
    "Добавим в таблицу и посчитаем столбец месяц публикации объявления month_publication"
   ]
  },
  {
   "cell_type": "code",
   "execution_count": 29,
   "metadata": {},
   "outputs": [],
   "source": [
    "data['month_publication'] = data['first_day_exposition'].dt.month"
   ]
  },
  {
   "cell_type": "markdown",
   "metadata": {},
   "source": [
    "Добавим в таблицу и посчитаем столбец год публикации объявления year_publication"
   ]
  },
  {
   "cell_type": "code",
   "execution_count": 30,
   "metadata": {},
   "outputs": [],
   "source": [
    "data['year_publication'] = data['first_day_exposition'].dt.year"
   ]
  },
  {
   "cell_type": "markdown",
   "metadata": {},
   "source": [
    "Посчитаем и добавим в таблицу: тип этажа квартиры (значения — «первый», «последний», «другой»)"
   ]
  },
  {
   "cell_type": "code",
   "execution_count": 31,
   "metadata": {},
   "outputs": [],
   "source": [
    "def floor_group(row):\n",
    "    if row['floor'] == 1:\n",
    "        return 'первый'\n",
    "    elif row['floor'] == row['floors_total']:\n",
    "        return 'последний'\n",
    "    else:\n",
    "        return 'средний'\n",
    "data['floor_type'] = data.apply(floor_group, axis=1)\n"
   ]
  },
  {
   "cell_type": "markdown",
   "metadata": {},
   "source": [
    "Посчитаем и добавим в таблицу: расстояние в км до центра города. "
   ]
  },
  {
   "cell_type": "code",
   "execution_count": 32,
   "metadata": {},
   "outputs": [],
   "source": [
    "data['center_km'] = data['cityCenters_nearest'] / 1000\n",
    "data['center_km'] = data['center_km'].fillna(value=0).astype(int)"
   ]
  },
  {
   "cell_type": "markdown",
   "metadata": {},
   "source": [
    "Посмотрим, что получилось"
   ]
  },
  {
   "cell_type": "code",
   "execution_count": 33,
   "metadata": {},
   "outputs": [
    {
     "data": {
      "text/html": [
       "<div>\n",
       "<style scoped>\n",
       "    .dataframe tbody tr th:only-of-type {\n",
       "        vertical-align: middle;\n",
       "    }\n",
       "\n",
       "    .dataframe tbody tr th {\n",
       "        vertical-align: top;\n",
       "    }\n",
       "\n",
       "    .dataframe thead th {\n",
       "        text-align: right;\n",
       "    }\n",
       "</style>\n",
       "<table border=\"1\" class=\"dataframe\">\n",
       "  <thead>\n",
       "    <tr style=\"text-align: right;\">\n",
       "      <th></th>\n",
       "      <th>total_images</th>\n",
       "      <th>last_price</th>\n",
       "      <th>total_area</th>\n",
       "      <th>first_day_exposition</th>\n",
       "      <th>rooms</th>\n",
       "      <th>ceiling_height</th>\n",
       "      <th>floors_total</th>\n",
       "      <th>living_area</th>\n",
       "      <th>floor</th>\n",
       "      <th>is_apartment</th>\n",
       "      <th>...</th>\n",
       "      <th>parks_nearest</th>\n",
       "      <th>ponds_around3000</th>\n",
       "      <th>ponds_nearest</th>\n",
       "      <th>days_exposition</th>\n",
       "      <th>price_sq_m</th>\n",
       "      <th>day_publication</th>\n",
       "      <th>month_publication</th>\n",
       "      <th>year_publication</th>\n",
       "      <th>floor_type</th>\n",
       "      <th>center_km</th>\n",
       "    </tr>\n",
       "  </thead>\n",
       "  <tbody>\n",
       "    <tr>\n",
       "      <th>0</th>\n",
       "      <td>20</td>\n",
       "      <td>13000000.0</td>\n",
       "      <td>108.0</td>\n",
       "      <td>2019-03-07</td>\n",
       "      <td>3</td>\n",
       "      <td>2.70</td>\n",
       "      <td>16</td>\n",
       "      <td>51.000000</td>\n",
       "      <td>8</td>\n",
       "      <td>False</td>\n",
       "      <td>...</td>\n",
       "      <td>482.0</td>\n",
       "      <td>2</td>\n",
       "      <td>755.0</td>\n",
       "      <td>0</td>\n",
       "      <td>120370.370370</td>\n",
       "      <td>3</td>\n",
       "      <td>3</td>\n",
       "      <td>2019</td>\n",
       "      <td>средний</td>\n",
       "      <td>16</td>\n",
       "    </tr>\n",
       "    <tr>\n",
       "      <th>1</th>\n",
       "      <td>7</td>\n",
       "      <td>3350000.0</td>\n",
       "      <td>40.4</td>\n",
       "      <td>2018-12-04</td>\n",
       "      <td>1</td>\n",
       "      <td>2.65</td>\n",
       "      <td>11</td>\n",
       "      <td>18.600000</td>\n",
       "      <td>1</td>\n",
       "      <td>False</td>\n",
       "      <td>...</td>\n",
       "      <td>NaN</td>\n",
       "      <td>0</td>\n",
       "      <td>NaN</td>\n",
       "      <td>81</td>\n",
       "      <td>82920.792079</td>\n",
       "      <td>1</td>\n",
       "      <td>12</td>\n",
       "      <td>2018</td>\n",
       "      <td>первый</td>\n",
       "      <td>18</td>\n",
       "    </tr>\n",
       "    <tr>\n",
       "      <th>2</th>\n",
       "      <td>10</td>\n",
       "      <td>5196000.0</td>\n",
       "      <td>56.0</td>\n",
       "      <td>2015-08-20</td>\n",
       "      <td>2</td>\n",
       "      <td>2.65</td>\n",
       "      <td>5</td>\n",
       "      <td>34.300000</td>\n",
       "      <td>4</td>\n",
       "      <td>False</td>\n",
       "      <td>...</td>\n",
       "      <td>90.0</td>\n",
       "      <td>2</td>\n",
       "      <td>574.0</td>\n",
       "      <td>558</td>\n",
       "      <td>92785.714286</td>\n",
       "      <td>3</td>\n",
       "      <td>8</td>\n",
       "      <td>2015</td>\n",
       "      <td>средний</td>\n",
       "      <td>13</td>\n",
       "    </tr>\n",
       "    <tr>\n",
       "      <th>3</th>\n",
       "      <td>0</td>\n",
       "      <td>64900000.0</td>\n",
       "      <td>159.0</td>\n",
       "      <td>2015-07-24</td>\n",
       "      <td>3</td>\n",
       "      <td>2.65</td>\n",
       "      <td>14</td>\n",
       "      <td>90.785766</td>\n",
       "      <td>9</td>\n",
       "      <td>False</td>\n",
       "      <td>...</td>\n",
       "      <td>84.0</td>\n",
       "      <td>3</td>\n",
       "      <td>234.0</td>\n",
       "      <td>424</td>\n",
       "      <td>408176.100629</td>\n",
       "      <td>4</td>\n",
       "      <td>7</td>\n",
       "      <td>2015</td>\n",
       "      <td>средний</td>\n",
       "      <td>6</td>\n",
       "    </tr>\n",
       "    <tr>\n",
       "      <th>5</th>\n",
       "      <td>10</td>\n",
       "      <td>2890000.0</td>\n",
       "      <td>30.4</td>\n",
       "      <td>2018-09-10</td>\n",
       "      <td>1</td>\n",
       "      <td>2.65</td>\n",
       "      <td>12</td>\n",
       "      <td>14.400000</td>\n",
       "      <td>5</td>\n",
       "      <td>False</td>\n",
       "      <td>...</td>\n",
       "      <td>NaN</td>\n",
       "      <td>9999</td>\n",
       "      <td>NaN</td>\n",
       "      <td>55</td>\n",
       "      <td>95065.789474</td>\n",
       "      <td>0</td>\n",
       "      <td>9</td>\n",
       "      <td>2018</td>\n",
       "      <td>средний</td>\n",
       "      <td>0</td>\n",
       "    </tr>\n",
       "  </tbody>\n",
       "</table>\n",
       "<p>5 rows × 28 columns</p>\n",
       "</div>"
      ],
      "text/plain": [
       "   total_images  last_price  total_area first_day_exposition  rooms  \\\n",
       "0            20  13000000.0       108.0           2019-03-07      3   \n",
       "1             7   3350000.0        40.4           2018-12-04      1   \n",
       "2            10   5196000.0        56.0           2015-08-20      2   \n",
       "3             0  64900000.0       159.0           2015-07-24      3   \n",
       "5            10   2890000.0        30.4           2018-09-10      1   \n",
       "\n",
       "   ceiling_height  floors_total  living_area  floor  is_apartment  ...  \\\n",
       "0            2.70            16    51.000000      8         False  ...   \n",
       "1            2.65            11    18.600000      1         False  ...   \n",
       "2            2.65             5    34.300000      4         False  ...   \n",
       "3            2.65            14    90.785766      9         False  ...   \n",
       "5            2.65            12    14.400000      5         False  ...   \n",
       "\n",
       "   parks_nearest  ponds_around3000  ponds_nearest  days_exposition  \\\n",
       "0          482.0                 2          755.0                0   \n",
       "1            NaN                 0            NaN               81   \n",
       "2           90.0                 2          574.0              558   \n",
       "3           84.0                 3          234.0              424   \n",
       "5            NaN              9999            NaN               55   \n",
       "\n",
       "      price_sq_m  day_publication  month_publication year_publication  \\\n",
       "0  120370.370370                3                  3             2019   \n",
       "1   82920.792079                1                 12             2018   \n",
       "2   92785.714286                3                  8             2015   \n",
       "3  408176.100629                4                  7             2015   \n",
       "5   95065.789474                0                  9             2018   \n",
       "\n",
       "   floor_type  center_km  \n",
       "0     средний         16  \n",
       "1      первый         18  \n",
       "2     средний         13  \n",
       "3     средний          6  \n",
       "5     средний          0  \n",
       "\n",
       "[5 rows x 28 columns]"
      ]
     },
     "execution_count": 33,
     "metadata": {},
     "output_type": "execute_result"
    }
   ],
   "source": [
    "data.head()"
   ]
  },
  {
   "cell_type": "code",
   "execution_count": 34,
   "metadata": {},
   "outputs": [
    {
     "data": {
      "text/html": [
       "<div>\n",
       "<style scoped>\n",
       "    .dataframe tbody tr th:only-of-type {\n",
       "        vertical-align: middle;\n",
       "    }\n",
       "\n",
       "    .dataframe tbody tr th {\n",
       "        vertical-align: top;\n",
       "    }\n",
       "\n",
       "    .dataframe thead th {\n",
       "        text-align: right;\n",
       "    }\n",
       "</style>\n",
       "<table border=\"1\" class=\"dataframe\">\n",
       "  <thead>\n",
       "    <tr style=\"text-align: right;\">\n",
       "      <th></th>\n",
       "      <th>total_images</th>\n",
       "      <th>last_price</th>\n",
       "      <th>total_area</th>\n",
       "      <th>rooms</th>\n",
       "      <th>ceiling_height</th>\n",
       "      <th>floors_total</th>\n",
       "      <th>living_area</th>\n",
       "      <th>floor</th>\n",
       "      <th>kitchen_area</th>\n",
       "      <th>balcony</th>\n",
       "      <th>...</th>\n",
       "      <th>cityCenters_nearest</th>\n",
       "      <th>parks_nearest</th>\n",
       "      <th>ponds_around3000</th>\n",
       "      <th>ponds_nearest</th>\n",
       "      <th>days_exposition</th>\n",
       "      <th>price_sq_m</th>\n",
       "      <th>day_publication</th>\n",
       "      <th>month_publication</th>\n",
       "      <th>year_publication</th>\n",
       "      <th>center_km</th>\n",
       "    </tr>\n",
       "  </thead>\n",
       "  <tbody>\n",
       "    <tr>\n",
       "      <th>count</th>\n",
       "      <td>23144.000000</td>\n",
       "      <td>2.314400e+04</td>\n",
       "      <td>23144.000000</td>\n",
       "      <td>23144.000000</td>\n",
       "      <td>23144.000000</td>\n",
       "      <td>23144.000000</td>\n",
       "      <td>23144.000000</td>\n",
       "      <td>23144.000000</td>\n",
       "      <td>23144.000000</td>\n",
       "      <td>23144.000000</td>\n",
       "      <td>...</td>\n",
       "      <td>17649.000000</td>\n",
       "      <td>7744.000000</td>\n",
       "      <td>23144.000000</td>\n",
       "      <td>8758.000000</td>\n",
       "      <td>23144.000000</td>\n",
       "      <td>23144.000000</td>\n",
       "      <td>23144.000000</td>\n",
       "      <td>23144.000000</td>\n",
       "      <td>23144.000000</td>\n",
       "      <td>23144.000000</td>\n",
       "    </tr>\n",
       "    <tr>\n",
       "      <th>mean</th>\n",
       "      <td>9.799473</td>\n",
       "      <td>5.815901e+06</td>\n",
       "      <td>57.452250</td>\n",
       "      <td>2.025622</td>\n",
       "      <td>2.689377</td>\n",
       "      <td>10.682855</td>\n",
       "      <td>33.078400</td>\n",
       "      <td>5.896474</td>\n",
       "      <td>9.942886</td>\n",
       "      <td>0.593329</td>\n",
       "      <td>...</td>\n",
       "      <td>14358.011502</td>\n",
       "      <td>492.367123</td>\n",
       "      <td>2374.173349</td>\n",
       "      <td>521.851108</td>\n",
       "      <td>155.134160</td>\n",
       "      <td>97337.585608</td>\n",
       "      <td>2.571552</td>\n",
       "      <td>6.405159</td>\n",
       "      <td>2017.372191</td>\n",
       "      <td>10.570472</td>\n",
       "    </tr>\n",
       "    <tr>\n",
       "      <th>std</th>\n",
       "      <td>5.648983</td>\n",
       "      <td>5.003905e+06</td>\n",
       "      <td>25.358682</td>\n",
       "      <td>0.990509</td>\n",
       "      <td>0.203918</td>\n",
       "      <td>6.620992</td>\n",
       "      <td>16.949959</td>\n",
       "      <td>4.892960</td>\n",
       "      <td>4.138059</td>\n",
       "      <td>0.957698</td>\n",
       "      <td>...</td>\n",
       "      <td>8593.763963</td>\n",
       "      <td>340.895217</td>\n",
       "      <td>4254.135687</td>\n",
       "      <td>276.898305</td>\n",
       "      <td>210.949824</td>\n",
       "      <td>41220.468630</td>\n",
       "      <td>1.790423</td>\n",
       "      <td>3.490952</td>\n",
       "      <td>1.034803</td>\n",
       "      <td>9.546718</td>\n",
       "    </tr>\n",
       "    <tr>\n",
       "      <th>min</th>\n",
       "      <td>0.000000</td>\n",
       "      <td>4.300000e+05</td>\n",
       "      <td>17.000000</td>\n",
       "      <td>0.000000</td>\n",
       "      <td>2.000000</td>\n",
       "      <td>1.000000</td>\n",
       "      <td>10.000000</td>\n",
       "      <td>1.000000</td>\n",
       "      <td>3.000000</td>\n",
       "      <td>0.000000</td>\n",
       "      <td>...</td>\n",
       "      <td>181.000000</td>\n",
       "      <td>1.000000</td>\n",
       "      <td>0.000000</td>\n",
       "      <td>13.000000</td>\n",
       "      <td>0.000000</td>\n",
       "      <td>7962.962963</td>\n",
       "      <td>0.000000</td>\n",
       "      <td>1.000000</td>\n",
       "      <td>2014.000000</td>\n",
       "      <td>0.000000</td>\n",
       "    </tr>\n",
       "    <tr>\n",
       "      <th>25%</th>\n",
       "      <td>6.000000</td>\n",
       "      <td>3.400000e+06</td>\n",
       "      <td>40.000000</td>\n",
       "      <td>1.000000</td>\n",
       "      <td>2.600000</td>\n",
       "      <td>5.000000</td>\n",
       "      <td>19.000000</td>\n",
       "      <td>2.000000</td>\n",
       "      <td>7.000000</td>\n",
       "      <td>0.000000</td>\n",
       "      <td>...</td>\n",
       "      <td>9556.000000</td>\n",
       "      <td>288.000000</td>\n",
       "      <td>0.000000</td>\n",
       "      <td>303.000000</td>\n",
       "      <td>23.000000</td>\n",
       "      <td>76158.351205</td>\n",
       "      <td>1.000000</td>\n",
       "      <td>3.000000</td>\n",
       "      <td>2017.000000</td>\n",
       "      <td>2.000000</td>\n",
       "    </tr>\n",
       "    <tr>\n",
       "      <th>50%</th>\n",
       "      <td>9.000000</td>\n",
       "      <td>4.600000e+06</td>\n",
       "      <td>51.200000</td>\n",
       "      <td>2.000000</td>\n",
       "      <td>2.650000</td>\n",
       "      <td>9.000000</td>\n",
       "      <td>30.000000</td>\n",
       "      <td>4.000000</td>\n",
       "      <td>9.000000</td>\n",
       "      <td>0.000000</td>\n",
       "      <td>...</td>\n",
       "      <td>13216.000000</td>\n",
       "      <td>456.000000</td>\n",
       "      <td>1.000000</td>\n",
       "      <td>506.000000</td>\n",
       "      <td>73.000000</td>\n",
       "      <td>94500.506497</td>\n",
       "      <td>3.000000</td>\n",
       "      <td>6.000000</td>\n",
       "      <td>2017.000000</td>\n",
       "      <td>11.000000</td>\n",
       "    </tr>\n",
       "    <tr>\n",
       "      <th>75%</th>\n",
       "      <td>14.000000</td>\n",
       "      <td>6.582500e+06</td>\n",
       "      <td>68.000000</td>\n",
       "      <td>3.000000</td>\n",
       "      <td>2.700000</td>\n",
       "      <td>16.000000</td>\n",
       "      <td>41.900000</td>\n",
       "      <td>8.000000</td>\n",
       "      <td>11.600000</td>\n",
       "      <td>1.000000</td>\n",
       "      <td>...</td>\n",
       "      <td>16399.000000</td>\n",
       "      <td>613.000000</td>\n",
       "      <td>3.000000</td>\n",
       "      <td>733.000000</td>\n",
       "      <td>197.000000</td>\n",
       "      <td>113207.547170</td>\n",
       "      <td>4.000000</td>\n",
       "      <td>10.000000</td>\n",
       "      <td>2018.000000</td>\n",
       "      <td>15.000000</td>\n",
       "    </tr>\n",
       "    <tr>\n",
       "      <th>max</th>\n",
       "      <td>50.000000</td>\n",
       "      <td>1.240000e+08</td>\n",
       "      <td>200.000000</td>\n",
       "      <td>11.000000</td>\n",
       "      <td>5.000000</td>\n",
       "      <td>60.000000</td>\n",
       "      <td>164.700000</td>\n",
       "      <td>33.000000</td>\n",
       "      <td>30.000000</td>\n",
       "      <td>5.000000</td>\n",
       "      <td>...</td>\n",
       "      <td>65968.000000</td>\n",
       "      <td>3190.000000</td>\n",
       "      <td>9999.000000</td>\n",
       "      <td>1344.000000</td>\n",
       "      <td>1580.000000</td>\n",
       "      <td>995983.935743</td>\n",
       "      <td>6.000000</td>\n",
       "      <td>12.000000</td>\n",
       "      <td>2019.000000</td>\n",
       "      <td>65.000000</td>\n",
       "    </tr>\n",
       "  </tbody>\n",
       "</table>\n",
       "<p>8 rows × 21 columns</p>\n",
       "</div>"
      ],
      "text/plain": [
       "       total_images    last_price    total_area         rooms  ceiling_height  \\\n",
       "count  23144.000000  2.314400e+04  23144.000000  23144.000000    23144.000000   \n",
       "mean       9.799473  5.815901e+06     57.452250      2.025622        2.689377   \n",
       "std        5.648983  5.003905e+06     25.358682      0.990509        0.203918   \n",
       "min        0.000000  4.300000e+05     17.000000      0.000000        2.000000   \n",
       "25%        6.000000  3.400000e+06     40.000000      1.000000        2.600000   \n",
       "50%        9.000000  4.600000e+06     51.200000      2.000000        2.650000   \n",
       "75%       14.000000  6.582500e+06     68.000000      3.000000        2.700000   \n",
       "max       50.000000  1.240000e+08    200.000000     11.000000        5.000000   \n",
       "\n",
       "       floors_total   living_area         floor  kitchen_area       balcony  \\\n",
       "count  23144.000000  23144.000000  23144.000000  23144.000000  23144.000000   \n",
       "mean      10.682855     33.078400      5.896474      9.942886      0.593329   \n",
       "std        6.620992     16.949959      4.892960      4.138059      0.957698   \n",
       "min        1.000000     10.000000      1.000000      3.000000      0.000000   \n",
       "25%        5.000000     19.000000      2.000000      7.000000      0.000000   \n",
       "50%        9.000000     30.000000      4.000000      9.000000      0.000000   \n",
       "75%       16.000000     41.900000      8.000000     11.600000      1.000000   \n",
       "max       60.000000    164.700000     33.000000     30.000000      5.000000   \n",
       "\n",
       "       ...  cityCenters_nearest  parks_nearest  ponds_around3000  \\\n",
       "count  ...         17649.000000    7744.000000      23144.000000   \n",
       "mean   ...         14358.011502     492.367123       2374.173349   \n",
       "std    ...          8593.763963     340.895217       4254.135687   \n",
       "min    ...           181.000000       1.000000          0.000000   \n",
       "25%    ...          9556.000000     288.000000          0.000000   \n",
       "50%    ...         13216.000000     456.000000          1.000000   \n",
       "75%    ...         16399.000000     613.000000          3.000000   \n",
       "max    ...         65968.000000    3190.000000       9999.000000   \n",
       "\n",
       "       ponds_nearest  days_exposition     price_sq_m  day_publication  \\\n",
       "count    8758.000000     23144.000000   23144.000000     23144.000000   \n",
       "mean      521.851108       155.134160   97337.585608         2.571552   \n",
       "std       276.898305       210.949824   41220.468630         1.790423   \n",
       "min        13.000000         0.000000    7962.962963         0.000000   \n",
       "25%       303.000000        23.000000   76158.351205         1.000000   \n",
       "50%       506.000000        73.000000   94500.506497         3.000000   \n",
       "75%       733.000000       197.000000  113207.547170         4.000000   \n",
       "max      1344.000000      1580.000000  995983.935743         6.000000   \n",
       "\n",
       "       month_publication  year_publication     center_km  \n",
       "count       23144.000000      23144.000000  23144.000000  \n",
       "mean            6.405159       2017.372191     10.570472  \n",
       "std             3.490952          1.034803      9.546718  \n",
       "min             1.000000       2014.000000      0.000000  \n",
       "25%             3.000000       2017.000000      2.000000  \n",
       "50%             6.000000       2017.000000     11.000000  \n",
       "75%            10.000000       2018.000000     15.000000  \n",
       "max            12.000000       2019.000000     65.000000  \n",
       "\n",
       "[8 rows x 21 columns]"
      ]
     },
     "execution_count": 34,
     "metadata": {},
     "output_type": "execute_result"
    }
   ],
   "source": [
    "data.describe()"
   ]
  },
  {
   "cell_type": "markdown",
   "metadata": {},
   "source": [
    "Выводы:\n",
    "Новые параметры посчитаны на основе имевшихся ранее данных и помогут детальнее рассмотреть информацию об объектах. "
   ]
  },
  {
   "cell_type": "markdown",
   "metadata": {},
   "source": [
    "### Проведите исследовательский анализ данных"
   ]
  },
  {
   "cell_type": "markdown",
   "metadata": {},
   "source": [
    "Изучение общих параметров"
   ]
  },
  {
   "cell_type": "markdown",
   "metadata": {},
   "source": [
    "Общая площадь"
   ]
  },
  {
   "cell_type": "code",
   "execution_count": 35,
   "metadata": {},
   "outputs": [
    {
     "data": {
      "image/png": "[encoded data removed]",
      "text/plain": [
       "<Figure size 432x288 with 1 Axes>"
      ]
     },
     "metadata": {
      "needs_background": "light"
     },
     "output_type": "display_data"
    }
   ],
   "source": [
    "plt.hist(data['total_area'], bins=30)\n",
    "plt.title('Площадь квартир')\n",
    "plt.xlabel('Квадратные метры')\n",
    "plt.ylabel('Количество квартир')\n",
    "plt.show()\n",
    "\n"
   ]
  },
  {
   "cell_type": "markdown",
   "metadata": {},
   "source": [
    "Большинство квартир - менее 100 квадратных метров, больше площадь практически не встречается. В подборке есть несколько очень больших и странных вариантов с площадью более 200 квадратных метров. Ранее мы установили параметр площади не больше 200 метров. Будем считать что такие квартиры есть, но мало."
   ]
  },
  {
   "cell_type": "markdown",
   "metadata": {},
   "source": [
    "Жилая площадь"
   ]
  },
  {
   "cell_type": "code",
   "execution_count": 36,
   "metadata": {},
   "outputs": [
    {
     "data": {
      "image/png": "[encoded data removed]",
      "text/plain": [
       "<Figure size 432x288 with 1 Axes>"
      ]
     },
     "metadata": {
      "needs_background": "light"
     },
     "output_type": "display_data"
    }
   ],
   "source": [
    "plt.hist(data['living_area'], bins=70)\n",
    "plt.title('Жилая площадь')\n",
    "plt.xlabel('Квадратные метры')\n",
    "plt.ylabel('Количество квартир')\n",
    "plt.show()\n",
    "\n"
   ]
  },
  {
   "cell_type": "markdown",
   "metadata": {},
   "source": [
    "Большинство квартир с жилой площадью от 15-25 квадратных метров. Мы убирали аномально большие и аномально маленькие значения. Но все равно тяжело представить квартиры с жилой площадью 10 метров. Возможно это квартиры студии."
   ]
  },
  {
   "cell_type": "markdown",
   "metadata": {},
   "source": [
    "Площадь кухни"
   ]
  },
  {
   "cell_type": "code",
   "execution_count": 37,
   "metadata": {},
   "outputs": [
    {
     "data": {
      "image/png": "[encoded data removed]",
      "text/plain": [
       "<Figure size 432x288 with 1 Axes>"
      ]
     },
     "metadata": {
      "needs_background": "light"
     },
     "output_type": "display_data"
    }
   ],
   "source": [
    "plt.hist(data['kitchen_area'], bins=70)\n",
    "plt.title('Площадь кухни')\n",
    "plt.xlabel('Квадратные метры')\n",
    "plt.ylabel('Количество квартир')\n",
    "plt.show()\n"
   ]
  },
  {
   "cell_type": "raw",
   "metadata": {},
   "source": [
    " Большинство квартир имеет мебольшую площадь кухни от 5 кв.м."
   ]
  },
  {
   "cell_type": "markdown",
   "metadata": {},
   "source": [
    "Цена обекта"
   ]
  },
  {
   "cell_type": "code",
   "execution_count": 38,
   "metadata": {},
   "outputs": [
    {
     "data": {
      "image/png": "[encoded data removed]",
      "text/plain": [
       "<Figure size 432x288 with 1 Axes>"
      ]
     },
     "metadata": {
      "needs_background": "light"
     },
     "output_type": "display_data"
    }
   ],
   "source": [
    "plt.hist(data['last_price'], bins=30, range=(0,20000000))\n",
    "plt.title('Стоимость квартир')\n",
    "plt.xlabel('Стоимость')\n",
    "plt.ylabel('Количество квартир')\n",
    "plt.show()"
   ]
  },
  {
   "cell_type": "markdown",
   "metadata": {},
   "source": [
    "Большинство квартир стоят в районе 3-4 миллионов. Присутствует некоторое количество квартир с аномально низкой стоимостью."
   ]
  },
  {
   "cell_type": "markdown",
   "metadata": {},
   "source": [
    "Количество комнат"
   ]
  },
  {
   "cell_type": "code",
   "execution_count": 39,
   "metadata": {},
   "outputs": [
    {
     "data": {
      "image/png": "[encoded data removed]",
      "text/plain": [
       "<Figure size 432x288 with 1 Axes>"
      ]
     },
     "metadata": {
      "needs_background": "light"
     },
     "output_type": "display_data"
    }
   ],
   "source": [
    "plt.hist(data['rooms'], bins=7)\n",
    "plt.title('Комнаты')\n",
    "plt.xlabel('Количество комнат')\n",
    "plt.ylabel('Количество квартир')\n",
    "plt.show()"
   ]
  },
  {
   "cell_type": "markdown",
   "metadata": {},
   "source": [
    "Большинство квартир имеют от нуля до трех комнат. Студии, вероятно, имеют 0 количество комнат."
   ]
  },
  {
   "cell_type": "markdown",
   "metadata": {},
   "source": [
    "Высота потолков"
   ]
  },
  {
   "cell_type": "code",
   "execution_count": 40,
   "metadata": {},
   "outputs": [
    {
     "data": {
      "image/png": "[encoded data removed]",
      "text/plain": [
       "<Figure size 432x288 with 1 Axes>"
      ]
     },
     "metadata": {
      "needs_background": "light"
     },
     "output_type": "display_data"
    }
   ],
   "source": [
    "plt.hist(data['ceiling_height'])\n",
    "plt.title('Высота потолков')\n",
    "plt.xlabel('Метры')\n",
    "plt.ylabel('Количество квартир')\n",
    "plt.show()"
   ]
  },
  {
   "cell_type": "markdown",
   "metadata": {},
   "source": [
    "Высота потолков в большинстве квартир 2,2-2,8 метра. "
   ]
  },
  {
   "cell_type": "markdown",
   "metadata": {},
   "source": [
    "Этаж квартиры"
   ]
  },
  {
   "cell_type": "code",
   "execution_count": 41,
   "metadata": {},
   "outputs": [
    {
     "data": {
      "image/png": "[encoded data removed]",
      "text/plain": [
       "<Figure size 432x288 with 1 Axes>"
      ]
     },
     "metadata": {
      "needs_background": "light"
     },
     "output_type": "display_data"
    }
   ],
   "source": [
    "plt.hist(data['floor'])\n",
    "plt.title('Этаж квартиры')\n",
    "plt.xlabel('Этаж')\n",
    "plt.ylabel('Количество квартир')\n",
    "plt.show()"
   ]
  },
  {
   "cell_type": "markdown",
   "metadata": {},
   "source": [
    "Большинство квартир располагаются на 1-5 этажах"
   ]
  },
  {
   "cell_type": "markdown",
   "metadata": {},
   "source": [
    "Тип этажа квартиры"
   ]
  },
  {
   "cell_type": "code",
   "execution_count": 42,
   "metadata": {},
   "outputs": [
    {
     "data": {
      "image/png": "[encoded data removed]",
      "text/plain": [
       "<Figure size 432x288 with 1 Axes>"
      ]
     },
     "metadata": {
      "needs_background": "light"
     },
     "output_type": "display_data"
    }
   ],
   "source": [
    "plt.hist(data['floor_type'])\n",
    "plt.title('Тип этажа квартиры')\n",
    "plt.xlabel('Тип этажа')\n",
    "plt.ylabel('Количество квартир')\n",
    "plt.show()"
   ]
  },
  {
   "cell_type": "markdown",
   "metadata": {},
   "source": [
    "Квартир на первом и последнем этаже примерно одинаково"
   ]
  },
  {
   "cell_type": "markdown",
   "metadata": {},
   "source": [
    "Общее количество этажей в доме"
   ]
  },
  {
   "cell_type": "code",
   "execution_count": 43,
   "metadata": {},
   "outputs": [
    {
     "data": {
      "image/png": "[encoded data removed]",
      "text/plain": [
       "<Figure size 432x288 with 1 Axes>"
      ]
     },
     "metadata": {
      "needs_background": "light"
     },
     "output_type": "display_data"
    }
   ],
   "source": [
    "plt.hist(data['floors_total'])\n",
    "plt.title('Количество этажей в доме')\n",
    "plt.xlabel('Количество этажей')\n",
    "plt.ylabel('Количество квартир')\n",
    "plt.show()"
   ]
  },
  {
   "cell_type": "markdown",
   "metadata": {},
   "source": [
    "Большинство квартир располагаются в домах с низкой этажностью. Скорее всего это связанно с тем, что большинство квартир находятся за пределами центральных городов."
   ]
  },
  {
   "cell_type": "markdown",
   "metadata": {},
   "source": [
    "Расстояние до центра города в метрах"
   ]
  },
  {
   "cell_type": "code",
   "execution_count": 44,
   "metadata": {},
   "outputs": [
    {
     "data": {
      "image/png": "[encoded data removed]",
      "text/plain": [
       "<Figure size 432x288 with 1 Axes>"
      ]
     },
     "metadata": {
      "needs_background": "light"
     },
     "output_type": "display_data"
    }
   ],
   "source": [
    "plt.hist(data['cityCenters_nearest'])\n",
    "plt.title('Расстояние до центра города в метрах')\n",
    "plt.xlabel('Метры')\n",
    "plt.ylabel('Количество квартир')\n",
    "plt.show()"
   ]
  },
  {
   "cell_type": "markdown",
   "metadata": {},
   "source": [
    "Большинство квартир располагается на расстоянии до 10 км от центра города. Есть квартиры и за 60 км от центра"
   ]
  },
  {
   "cell_type": "markdown",
   "metadata": {},
   "source": [
    "Расстояние до ближайшего аэропорта"
   ]
  },
  {
   "cell_type": "code",
   "execution_count": 45,
   "metadata": {},
   "outputs": [
    {
     "data": {
      "image/png": "[encoded data removed]",
      "text/plain": [
       "<Figure size 432x288 with 1 Axes>"
      ]
     },
     "metadata": {
      "needs_background": "light"
     },
     "output_type": "display_data"
    }
   ],
   "source": [
    "plt.hist(data['airports_nearest'])\n",
    "plt.title('Расстояние до ближайшего аэропорта')\n",
    "plt.xlabel('Метры')\n",
    "plt.ylabel('Количество квартир')\n",
    "plt.show()"
   ]
  },
  {
   "cell_type": "raw",
   "metadata": {},
   "source": [
    "Большинство квартир находятся на расстоянии 20 км до ближайшего аэропорта"
   ]
  },
  {
   "cell_type": "markdown",
   "metadata": {},
   "source": [
    "Расстояние до ближайшего парка"
   ]
  },
  {
   "cell_type": "code",
   "execution_count": 46,
   "metadata": {},
   "outputs": [
    {
     "data": {
      "image/png": "[encoded data removed]",
      "text/plain": [
       "<Figure size 432x288 with 1 Axes>"
      ]
     },
     "metadata": {
      "needs_background": "light"
     },
     "output_type": "display_data"
    }
   ],
   "source": [
    "plt.hist(data['ponds_nearest'])\n",
    "plt.title('Расстояние до ближайшего парка')\n",
    "plt.xlabel('Метры')\n",
    "plt.ylabel('Количество квартир')\n",
    "plt.show()"
   ]
  },
  {
   "cell_type": "markdown",
   "metadata": {},
   "source": [
    "Большинство квартир находятся недалеко от парков, а дальние расстояния это скорее всего загород."
   ]
  },
  {
   "cell_type": "markdown",
   "metadata": {},
   "source": [
    "День публикации объявления"
   ]
  },
  {
   "cell_type": "code",
   "execution_count": 47,
   "metadata": {},
   "outputs": [
    {
     "data": {
      "image/png": "[encoded data removed]",
      "text/plain": [
       "<Figure size 432x288 with 1 Axes>"
      ]
     },
     "metadata": {
      "needs_background": "light"
     },
     "output_type": "display_data"
    }
   ],
   "source": [
    "plt.hist(data['day_publication'])\n",
    "plt.title('День публикации объявления')\n",
    "plt.xlabel('Дни')\n",
    "plt.ylabel('Количество квартир')\n",
    "plt.show()"
   ]
  },
  {
   "cell_type": "markdown",
   "metadata": {},
   "source": [
    "Большинство объявлений опубликовано в будние дни."
   ]
  },
  {
   "cell_type": "markdown",
   "metadata": {},
   "source": [
    "Месяц публикации объявления"
   ]
  },
  {
   "cell_type": "code",
   "execution_count": 48,
   "metadata": {},
   "outputs": [
    {
     "data": {
      "image/png": "[encoded data removed]",
      "text/plain": [
       "<Figure size 432x288 with 1 Axes>"
      ]
     },
     "metadata": {
      "needs_background": "light"
     },
     "output_type": "display_data"
    }
   ],
   "source": [
    "plt.hist(data['month_publication'])\n",
    "plt.title('Месяц публикации объявления')\n",
    "plt.xlabel('Месяц')\n",
    "plt.ylabel('Количество квартир')\n",
    "plt.show()"
   ]
  },
  {
   "cell_type": "markdown",
   "metadata": {},
   "source": [
    "Публикации распределены по году практически равномерно. Больше всего публикаций приходится на зимние месяцы. Спад виден в мае, видимо за счет праздничного периода."
   ]
  },
  {
   "cell_type": "markdown",
   "metadata": {},
   "source": [
    "### Изучение времени продажи квартиры"
   ]
  },
  {
   "cell_type": "markdown",
   "metadata": {},
   "source": [
    "Посчитаем среднее и медиану."
   ]
  },
  {
   "cell_type": "code",
   "execution_count": 49,
   "metadata": {},
   "outputs": [
    {
     "name": "stdout",
     "output_type": "stream",
     "text": [
      "Время продажи (медиана): 94.0\n",
      "Время продажи (среднее): 178.6903399193749\n"
     ]
    }
   ],
   "source": [
    "print('Время продажи (медиана):', data.query('days_exposition != 0')['days_exposition'].median())\n",
    "print('Время продажи (среднее):', data.query('days_exposition != 0')['days_exposition'].mean())"
   ]
  },
  {
   "cell_type": "markdown",
   "metadata": {},
   "source": [
    "Построим гистограмму"
   ]
  },
  {
   "cell_type": "code",
   "execution_count": 50,
   "metadata": {},
   "outputs": [
    {
     "data": {
      "image/png": "[encoded data removed]",
      "text/plain": [
       "<Figure size 432x288 with 1 Axes>"
      ]
     },
     "metadata": {
      "needs_background": "light"
     },
     "output_type": "display_data"
    }
   ],
   "source": [
    "plt.hist(data.query('days_exposition != 0')['days_exposition'])\n",
    "plt.title('Время продажи')\n",
    "plt.xlabel('Дни')\n",
    "plt.ylabel('Количество квартир')\n",
    "plt.show()"
   ]
  },
  {
   "cell_type": "code",
   "execution_count": 51,
   "metadata": {},
   "outputs": [
    {
     "data": {
      "text/plain": [
       "count    20093.000000\n",
       "mean       178.690340\n",
       "std        216.904868\n",
       "min          1.000000\n",
       "25%         45.000000\n",
       "50%         94.000000\n",
       "75%        228.000000\n",
       "max       1580.000000\n",
       "Name: days_exposition, dtype: float64"
      ]
     },
     "execution_count": 51,
     "metadata": {},
     "output_type": "execute_result"
    }
   ],
   "source": [
    "data.query('days_exposition != 0')['days_exposition'].describe()"
   ]
  },
  {
   "cell_type": "markdown",
   "metadata": {},
   "source": [
    "Среднее время продажи 178 дней. Медианное время продажи 94 дня. Некоторые квартиры продавались сразу после публикации,  а некоторые квартиры  \"висели\" в публикации до четырех лет. \n",
    "Быстрыми продажами можно считать квартиры, которые продавались в течение 45 дней. Медленными - 228 дней."
   ]
  },
  {
   "cell_type": "markdown",
   "metadata": {},
   "source": [
    "###  Изучение влияния определенных факторов на цену"
   ]
  },
  {
   "cell_type": "markdown",
   "metadata": {},
   "source": [
    "1.Зависимость цены от общей площади"
   ]
  },
  {
   "cell_type": "code",
   "execution_count": 52,
   "metadata": {},
   "outputs": [
    {
     "data": {
      "text/html": [
       "<div>\n",
       "<style scoped>\n",
       "    .dataframe tbody tr th:only-of-type {\n",
       "        vertical-align: middle;\n",
       "    }\n",
       "\n",
       "    .dataframe tbody tr th {\n",
       "        vertical-align: top;\n",
       "    }\n",
       "\n",
       "    .dataframe thead th {\n",
       "        text-align: right;\n",
       "    }\n",
       "</style>\n",
       "<table border=\"1\" class=\"dataframe\">\n",
       "  <thead>\n",
       "    <tr style=\"text-align: right;\">\n",
       "      <th></th>\n",
       "      <th>last_price</th>\n",
       "    </tr>\n",
       "    <tr>\n",
       "      <th>total_area</th>\n",
       "      <th></th>\n",
       "    </tr>\n",
       "  </thead>\n",
       "  <tbody>\n",
       "    <tr>\n",
       "      <th>17.00</th>\n",
       "      <td>1900000.0</td>\n",
       "    </tr>\n",
       "    <tr>\n",
       "      <th>17.60</th>\n",
       "      <td>3400000.0</td>\n",
       "    </tr>\n",
       "    <tr>\n",
       "      <th>17.78</th>\n",
       "      <td>1737000.0</td>\n",
       "    </tr>\n",
       "    <tr>\n",
       "      <th>18.00</th>\n",
       "      <td>1515000.0</td>\n",
       "    </tr>\n",
       "    <tr>\n",
       "      <th>18.50</th>\n",
       "      <td>1500000.0</td>\n",
       "    </tr>\n",
       "    <tr>\n",
       "      <th>...</th>\n",
       "      <td>...</td>\n",
       "    </tr>\n",
       "    <tr>\n",
       "      <th>197.90</th>\n",
       "      <td>32238780.0</td>\n",
       "    </tr>\n",
       "    <tr>\n",
       "      <th>198.00</th>\n",
       "      <td>30489500.0</td>\n",
       "    </tr>\n",
       "    <tr>\n",
       "      <th>198.10</th>\n",
       "      <td>20000000.0</td>\n",
       "    </tr>\n",
       "    <tr>\n",
       "      <th>198.90</th>\n",
       "      <td>30000000.0</td>\n",
       "    </tr>\n",
       "    <tr>\n",
       "      <th>200.00</th>\n",
       "      <td>37644950.0</td>\n",
       "    </tr>\n",
       "  </tbody>\n",
       "</table>\n",
       "<p>1969 rows × 1 columns</p>\n",
       "</div>"
      ],
      "text/plain": [
       "            last_price\n",
       "total_area            \n",
       "17.00        1900000.0\n",
       "17.60        3400000.0\n",
       "17.78        1737000.0\n",
       "18.00        1515000.0\n",
       "18.50        1500000.0\n",
       "...                ...\n",
       "197.90      32238780.0\n",
       "198.00      30489500.0\n",
       "198.10      20000000.0\n",
       "198.90      30000000.0\n",
       "200.00      37644950.0\n",
       "\n",
       "[1969 rows x 1 columns]"
      ]
     },
     "execution_count": 52,
     "metadata": {},
     "output_type": "execute_result"
    }
   ],
   "source": [
    "data.pivot_table(index='total_area', values='last_price')\n"
   ]
  },
  {
   "cell_type": "code",
   "execution_count": 53,
   "metadata": {},
   "outputs": [
    {
     "data": {
      "text/html": [
       "<div>\n",
       "<style scoped>\n",
       "    .dataframe tbody tr th:only-of-type {\n",
       "        vertical-align: middle;\n",
       "    }\n",
       "\n",
       "    .dataframe tbody tr th {\n",
       "        vertical-align: top;\n",
       "    }\n",
       "\n",
       "    .dataframe thead th {\n",
       "        text-align: right;\n",
       "    }\n",
       "</style>\n",
       "<table border=\"1\" class=\"dataframe\">\n",
       "  <thead>\n",
       "    <tr style=\"text-align: right;\">\n",
       "      <th></th>\n",
       "      <th>last_price</th>\n",
       "      <th>total_area</th>\n",
       "    </tr>\n",
       "  </thead>\n",
       "  <tbody>\n",
       "    <tr>\n",
       "      <th>last_price</th>\n",
       "      <td>1.000000</td>\n",
       "      <td>0.804021</td>\n",
       "    </tr>\n",
       "    <tr>\n",
       "      <th>total_area</th>\n",
       "      <td>0.804021</td>\n",
       "      <td>1.000000</td>\n",
       "    </tr>\n",
       "  </tbody>\n",
       "</table>\n",
       "</div>"
      ],
      "text/plain": [
       "            last_price  total_area\n",
       "last_price    1.000000    0.804021\n",
       "total_area    0.804021    1.000000"
      ]
     },
     "execution_count": 53,
     "metadata": {},
     "output_type": "execute_result"
    }
   ],
   "source": [
    "data.pivot_table(index='floor_type', values=['total_area', 'last_price']).corr()    "
   ]
  },
  {
   "cell_type": "code",
   "execution_count": 54,
   "metadata": {},
   "outputs": [
    {
     "data": {
      "image/png": "[encoded data removed]",
      "text/plain": [
       "<Figure size 360x360 with 1 Axes>"
      ]
     },
     "metadata": {
      "needs_background": "light"
     },
     "output_type": "display_data"
    }
   ],
   "source": [
    "data.pivot_table(index='total_area', values='last_price').plot(grid=True, style='o', figsize=(5, 5))\n",
    "plt.show()\n"
   ]
  },
  {
   "cell_type": "markdown",
   "metadata": {},
   "source": [
    "Чем больше общая площадь, тем выше стоимость."
   ]
  },
  {
   "cell_type": "markdown",
   "metadata": {},
   "source": [
    "2.Зависимость цены от жилой площади"
   ]
  },
  {
   "cell_type": "code",
   "execution_count": 55,
   "metadata": {},
   "outputs": [],
   "source": [
    "data['last_price']=data['last_price']/1000"
   ]
  },
  {
   "cell_type": "code",
   "execution_count": 56,
   "metadata": {},
   "outputs": [
    {
     "data": {
      "text/html": [
       "<div>\n",
       "<style scoped>\n",
       "    .dataframe tbody tr th:only-of-type {\n",
       "        vertical-align: middle;\n",
       "    }\n",
       "\n",
       "    .dataframe tbody tr th {\n",
       "        vertical-align: top;\n",
       "    }\n",
       "\n",
       "    .dataframe thead th {\n",
       "        text-align: right;\n",
       "    }\n",
       "</style>\n",
       "<table border=\"1\" class=\"dataframe\">\n",
       "  <thead>\n",
       "    <tr style=\"text-align: right;\">\n",
       "      <th></th>\n",
       "      <th>last_price</th>\n",
       "    </tr>\n",
       "    <tr>\n",
       "      <th>living_area</th>\n",
       "      <th></th>\n",
       "    </tr>\n",
       "  </thead>\n",
       "  <tbody>\n",
       "    <tr>\n",
       "      <th>10.000000</th>\n",
       "      <td>3544.759533</td>\n",
       "    </tr>\n",
       "    <tr>\n",
       "      <th>10.080000</th>\n",
       "      <td>3250.000000</td>\n",
       "    </tr>\n",
       "    <tr>\n",
       "      <th>10.277634</th>\n",
       "      <td>1200.000000</td>\n",
       "    </tr>\n",
       "    <tr>\n",
       "      <th>10.300000</th>\n",
       "      <td>6050.000000</td>\n",
       "    </tr>\n",
       "    <tr>\n",
       "      <th>10.400000</th>\n",
       "      <td>3941.666667</td>\n",
       "    </tr>\n",
       "    <tr>\n",
       "      <th>...</th>\n",
       "      <td>...</td>\n",
       "    </tr>\n",
       "    <tr>\n",
       "      <th>147.000000</th>\n",
       "      <td>34979.000000</td>\n",
       "    </tr>\n",
       "    <tr>\n",
       "      <th>147.200000</th>\n",
       "      <td>20295.200000</td>\n",
       "    </tr>\n",
       "    <tr>\n",
       "      <th>150.800000</th>\n",
       "      <td>19500.000000</td>\n",
       "    </tr>\n",
       "    <tr>\n",
       "      <th>159.600000</th>\n",
       "      <td>19500.000000</td>\n",
       "    </tr>\n",
       "    <tr>\n",
       "      <th>164.700000</th>\n",
       "      <td>23600.000000</td>\n",
       "    </tr>\n",
       "  </tbody>\n",
       "</table>\n",
       "<p>2236 rows × 1 columns</p>\n",
       "</div>"
      ],
      "text/plain": [
       "               last_price\n",
       "living_area              \n",
       "10.000000     3544.759533\n",
       "10.080000     3250.000000\n",
       "10.277634     1200.000000\n",
       "10.300000     6050.000000\n",
       "10.400000     3941.666667\n",
       "...                   ...\n",
       "147.000000   34979.000000\n",
       "147.200000   20295.200000\n",
       "150.800000   19500.000000\n",
       "159.600000   19500.000000\n",
       "164.700000   23600.000000\n",
       "\n",
       "[2236 rows x 1 columns]"
      ]
     },
     "execution_count": 56,
     "metadata": {},
     "output_type": "execute_result"
    }
   ],
   "source": [
    "data.pivot_table(index='living_area', values='last_price')"
   ]
  },
  {
   "cell_type": "code",
   "execution_count": 57,
   "metadata": {},
   "outputs": [
    {
     "data": {
      "text/html": [
       "<div>\n",
       "<style scoped>\n",
       "    .dataframe tbody tr th:only-of-type {\n",
       "        vertical-align: middle;\n",
       "    }\n",
       "\n",
       "    .dataframe tbody tr th {\n",
       "        vertical-align: top;\n",
       "    }\n",
       "\n",
       "    .dataframe thead th {\n",
       "        text-align: right;\n",
       "    }\n",
       "</style>\n",
       "<table border=\"1\" class=\"dataframe\">\n",
       "  <thead>\n",
       "    <tr style=\"text-align: right;\">\n",
       "      <th></th>\n",
       "      <th>last_price</th>\n",
       "      <th>living_area</th>\n",
       "    </tr>\n",
       "  </thead>\n",
       "  <tbody>\n",
       "    <tr>\n",
       "      <th>last_price</th>\n",
       "      <td>1.000000</td>\n",
       "      <td>0.122342</td>\n",
       "    </tr>\n",
       "    <tr>\n",
       "      <th>living_area</th>\n",
       "      <td>0.122342</td>\n",
       "      <td>1.000000</td>\n",
       "    </tr>\n",
       "  </tbody>\n",
       "</table>\n",
       "</div>"
      ],
      "text/plain": [
       "             last_price  living_area\n",
       "last_price     1.000000     0.122342\n",
       "living_area    0.122342     1.000000"
      ]
     },
     "execution_count": 57,
     "metadata": {},
     "output_type": "execute_result"
    }
   ],
   "source": [
    "data.pivot_table(index='floor_type', values=['living_area', 'last_price']).corr()    "
   ]
  },
  {
   "cell_type": "code",
   "execution_count": 58,
   "metadata": {},
   "outputs": [
    {
     "data": {
      "image/png": "[encoded data removed]",
      "text/plain": [
       "<Figure size 360x360 with 1 Axes>"
      ]
     },
     "metadata": {
      "needs_background": "light"
     },
     "output_type": "display_data"
    }
   ],
   "source": [
    "data.pivot_table(index='living_area', values='last_price').plot(grid=True, style='o', figsize=(5, 5))\n",
    "plt.show()"
   ]
  },
  {
   "cell_type": "markdown",
   "metadata": {},
   "source": [
    "По графику видим, что тут тоже прямая корреляция. От возрастания жилой площади растет цена квартиры."
   ]
  },
  {
   "cell_type": "markdown",
   "metadata": {},
   "source": [
    "3. Зависимость цены и площади кухни"
   ]
  },
  {
   "cell_type": "code",
   "execution_count": 59,
   "metadata": {},
   "outputs": [
    {
     "data": {
      "text/html": [
       "<div>\n",
       "<style scoped>\n",
       "    .dataframe tbody tr th:only-of-type {\n",
       "        vertical-align: middle;\n",
       "    }\n",
       "\n",
       "    .dataframe tbody tr th {\n",
       "        vertical-align: top;\n",
       "    }\n",
       "\n",
       "    .dataframe thead th {\n",
       "        text-align: right;\n",
       "    }\n",
       "</style>\n",
       "<table border=\"1\" class=\"dataframe\">\n",
       "  <thead>\n",
       "    <tr style=\"text-align: right;\">\n",
       "      <th></th>\n",
       "      <th>last_price</th>\n",
       "    </tr>\n",
       "    <tr>\n",
       "      <th>kitchen_area</th>\n",
       "      <th></th>\n",
       "    </tr>\n",
       "  </thead>\n",
       "  <tbody>\n",
       "    <tr>\n",
       "      <th>3.000000</th>\n",
       "      <td>2735.714286</td>\n",
       "    </tr>\n",
       "    <tr>\n",
       "      <th>3.082564</th>\n",
       "      <td>3400.000000</td>\n",
       "    </tr>\n",
       "    <tr>\n",
       "      <th>3.114091</th>\n",
       "      <td>1737.000000</td>\n",
       "    </tr>\n",
       "    <tr>\n",
       "      <th>3.152623</th>\n",
       "      <td>1763.333333</td>\n",
       "    </tr>\n",
       "    <tr>\n",
       "      <th>3.200000</th>\n",
       "      <td>6000.000000</td>\n",
       "    </tr>\n",
       "    <tr>\n",
       "      <th>...</th>\n",
       "      <td>...</td>\n",
       "    </tr>\n",
       "    <tr>\n",
       "      <th>29.700000</th>\n",
       "      <td>5886.750000</td>\n",
       "    </tr>\n",
       "    <tr>\n",
       "      <th>29.774770</th>\n",
       "      <td>19095.000000</td>\n",
       "    </tr>\n",
       "    <tr>\n",
       "      <th>29.800000</th>\n",
       "      <td>7000.000000</td>\n",
       "    </tr>\n",
       "    <tr>\n",
       "      <th>29.900000</th>\n",
       "      <td>25248.976000</td>\n",
       "    </tr>\n",
       "    <tr>\n",
       "      <th>30.000000</th>\n",
       "      <td>14872.358792</td>\n",
       "    </tr>\n",
       "  </tbody>\n",
       "</table>\n",
       "<p>1492 rows × 1 columns</p>\n",
       "</div>"
      ],
      "text/plain": [
       "                last_price\n",
       "kitchen_area              \n",
       "3.000000       2735.714286\n",
       "3.082564       3400.000000\n",
       "3.114091       1737.000000\n",
       "3.152623       1763.333333\n",
       "3.200000       6000.000000\n",
       "...                    ...\n",
       "29.700000      5886.750000\n",
       "29.774770     19095.000000\n",
       "29.800000      7000.000000\n",
       "29.900000     25248.976000\n",
       "30.000000     14872.358792\n",
       "\n",
       "[1492 rows x 1 columns]"
      ]
     },
     "execution_count": 59,
     "metadata": {},
     "output_type": "execute_result"
    }
   ],
   "source": [
    "data.pivot_table(index='kitchen_area', values='last_price')"
   ]
  },
  {
   "cell_type": "code",
   "execution_count": 60,
   "metadata": {},
   "outputs": [
    {
     "data": {
      "text/html": [
       "<div>\n",
       "<style scoped>\n",
       "    .dataframe tbody tr th:only-of-type {\n",
       "        vertical-align: middle;\n",
       "    }\n",
       "\n",
       "    .dataframe tbody tr th {\n",
       "        vertical-align: top;\n",
       "    }\n",
       "\n",
       "    .dataframe thead th {\n",
       "        text-align: right;\n",
       "    }\n",
       "</style>\n",
       "<table border=\"1\" class=\"dataframe\">\n",
       "  <thead>\n",
       "    <tr style=\"text-align: right;\">\n",
       "      <th></th>\n",
       "      <th>kitchen_area</th>\n",
       "      <th>last_price</th>\n",
       "    </tr>\n",
       "  </thead>\n",
       "  <tbody>\n",
       "    <tr>\n",
       "      <th>kitchen_area</th>\n",
       "      <td>1.000000</td>\n",
       "      <td>0.982511</td>\n",
       "    </tr>\n",
       "    <tr>\n",
       "      <th>last_price</th>\n",
       "      <td>0.982511</td>\n",
       "      <td>1.000000</td>\n",
       "    </tr>\n",
       "  </tbody>\n",
       "</table>\n",
       "</div>"
      ],
      "text/plain": [
       "              kitchen_area  last_price\n",
       "kitchen_area      1.000000    0.982511\n",
       "last_price        0.982511    1.000000"
      ]
     },
     "execution_count": 60,
     "metadata": {},
     "output_type": "execute_result"
    }
   ],
   "source": [
    "data.pivot_table(index='floor_type', values=['kitchen_area', 'last_price']).corr()    "
   ]
  },
  {
   "cell_type": "code",
   "execution_count": 61,
   "metadata": {},
   "outputs": [
    {
     "data": {
      "image/png": "[encoded data removed]",
      "text/plain": [
       "<Figure size 360x360 with 1 Axes>"
      ]
     },
     "metadata": {
      "needs_background": "light"
     },
     "output_type": "display_data"
    }
   ],
   "source": [
    "data.pivot_table(index='kitchen_area', values='last_price').plot(grid=True, style='o', figsize=(5, 5))\n",
    "plt.show()"
   ]
  },
  {
   "cell_type": "markdown",
   "metadata": {},
   "source": [
    "Здесь тоже видим прямую зависимость. Видимо любое увеличение площади ведет за собой увеличение цены."
   ]
  },
  {
   "cell_type": "markdown",
   "metadata": {},
   "source": [
    "4. Зависимость цены от количества комнат"
   ]
  },
  {
   "cell_type": "code",
   "execution_count": 62,
   "metadata": {},
   "outputs": [
    {
     "data": {
      "text/html": [
       "<div>\n",
       "<style scoped>\n",
       "    .dataframe tbody tr th:only-of-type {\n",
       "        vertical-align: middle;\n",
       "    }\n",
       "\n",
       "    .dataframe tbody tr th {\n",
       "        vertical-align: top;\n",
       "    }\n",
       "\n",
       "    .dataframe thead th {\n",
       "        text-align: right;\n",
       "    }\n",
       "</style>\n",
       "<table border=\"1\" class=\"dataframe\">\n",
       "  <thead>\n",
       "    <tr style=\"text-align: right;\">\n",
       "      <th></th>\n",
       "      <th>last_price</th>\n",
       "    </tr>\n",
       "    <tr>\n",
       "      <th>rooms</th>\n",
       "      <th></th>\n",
       "    </tr>\n",
       "  </thead>\n",
       "  <tbody>\n",
       "    <tr>\n",
       "      <th>0</th>\n",
       "      <td>2985.640263</td>\n",
       "    </tr>\n",
       "    <tr>\n",
       "      <th>1</th>\n",
       "      <td>3819.368962</td>\n",
       "    </tr>\n",
       "    <tr>\n",
       "      <th>2</th>\n",
       "      <td>5446.729483</td>\n",
       "    </tr>\n",
       "    <tr>\n",
       "      <th>3</th>\n",
       "      <td>7647.416671</td>\n",
       "    </tr>\n",
       "    <tr>\n",
       "      <th>4</th>\n",
       "      <td>11195.132654</td>\n",
       "    </tr>\n",
       "    <tr>\n",
       "      <th>5</th>\n",
       "      <td>14693.015189</td>\n",
       "    </tr>\n",
       "    <tr>\n",
       "      <th>6</th>\n",
       "      <td>16021.740351</td>\n",
       "    </tr>\n",
       "    <tr>\n",
       "      <th>7</th>\n",
       "      <td>18682.000000</td>\n",
       "    </tr>\n",
       "    <tr>\n",
       "      <th>8</th>\n",
       "      <td>19145.000000</td>\n",
       "    </tr>\n",
       "    <tr>\n",
       "      <th>11</th>\n",
       "      <td>25250.000000</td>\n",
       "    </tr>\n",
       "  </tbody>\n",
       "</table>\n",
       "</div>"
      ],
      "text/plain": [
       "         last_price\n",
       "rooms              \n",
       "0       2985.640263\n",
       "1       3819.368962\n",
       "2       5446.729483\n",
       "3       7647.416671\n",
       "4      11195.132654\n",
       "5      14693.015189\n",
       "6      16021.740351\n",
       "7      18682.000000\n",
       "8      19145.000000\n",
       "11     25250.000000"
      ]
     },
     "execution_count": 62,
     "metadata": {},
     "output_type": "execute_result"
    }
   ],
   "source": [
    "data.pivot_table(index='rooms', values='last_price')"
   ]
  },
  {
   "cell_type": "code",
   "execution_count": 63,
   "metadata": {},
   "outputs": [
    {
     "data": {
      "text/html": [
       "<div>\n",
       "<style scoped>\n",
       "    .dataframe tbody tr th:only-of-type {\n",
       "        vertical-align: middle;\n",
       "    }\n",
       "\n",
       "    .dataframe tbody tr th {\n",
       "        vertical-align: top;\n",
       "    }\n",
       "\n",
       "    .dataframe thead th {\n",
       "        text-align: right;\n",
       "    }\n",
       "</style>\n",
       "<table border=\"1\" class=\"dataframe\">\n",
       "  <thead>\n",
       "    <tr style=\"text-align: right;\">\n",
       "      <th></th>\n",
       "      <th>kitchen_area</th>\n",
       "      <th>last_price</th>\n",
       "    </tr>\n",
       "  </thead>\n",
       "  <tbody>\n",
       "    <tr>\n",
       "      <th>kitchen_area</th>\n",
       "      <td>1.000000</td>\n",
       "      <td>0.487158</td>\n",
       "    </tr>\n",
       "    <tr>\n",
       "      <th>last_price</th>\n",
       "      <td>0.487158</td>\n",
       "      <td>1.000000</td>\n",
       "    </tr>\n",
       "  </tbody>\n",
       "</table>\n",
       "</div>"
      ],
      "text/plain": [
       "              kitchen_area  last_price\n",
       "kitchen_area      1.000000    0.487158\n",
       "last_price        0.487158    1.000000"
      ]
     },
     "execution_count": 63,
     "metadata": {},
     "output_type": "execute_result"
    }
   ],
   "source": [
    "data.pivot_table(index='rooms', values=['kitchen_area', 'last_price']).corr()    "
   ]
  },
  {
   "cell_type": "code",
   "execution_count": 64,
   "metadata": {},
   "outputs": [
    {
     "data": {
      "image/png": "[encoded data removed]",
      "text/plain": [
       "<Figure size 360x360 with 1 Axes>"
      ]
     },
     "metadata": {
      "needs_background": "light"
     },
     "output_type": "display_data"
    }
   ],
   "source": [
    "data.pivot_table(index='rooms', values='last_price').plot(grid=True, style='o', figsize=(5, 5))\n",
    "plt.show()"
   ]
  },
  {
   "cell_type": "markdown",
   "metadata": {},
   "source": [
    "Самая низкая цена у студий. С возрастание количества комнат цена растет."
   ]
  },
  {
   "cell_type": "markdown",
   "metadata": {},
   "source": [
    "5. Зависимость цены от типа этажа"
   ]
  },
  {
   "cell_type": "code",
   "execution_count": 65,
   "metadata": {},
   "outputs": [
    {
     "data": {
      "text/html": [
       "<div>\n",
       "<style scoped>\n",
       "    .dataframe tbody tr th:only-of-type {\n",
       "        vertical-align: middle;\n",
       "    }\n",
       "\n",
       "    .dataframe tbody tr th {\n",
       "        vertical-align: top;\n",
       "    }\n",
       "\n",
       "    .dataframe thead th {\n",
       "        text-align: right;\n",
       "    }\n",
       "</style>\n",
       "<table border=\"1\" class=\"dataframe\">\n",
       "  <thead>\n",
       "    <tr style=\"text-align: right;\">\n",
       "      <th></th>\n",
       "      <th>last_price</th>\n",
       "    </tr>\n",
       "    <tr>\n",
       "      <th>floor_type</th>\n",
       "      <th></th>\n",
       "    </tr>\n",
       "  </thead>\n",
       "  <tbody>\n",
       "    <tr>\n",
       "      <th>первый</th>\n",
       "      <td>4541.598371</td>\n",
       "    </tr>\n",
       "    <tr>\n",
       "      <th>последний</th>\n",
       "      <td>5531.420814</td>\n",
       "    </tr>\n",
       "    <tr>\n",
       "      <th>средний</th>\n",
       "      <td>6084.045497</td>\n",
       "    </tr>\n",
       "  </tbody>\n",
       "</table>\n",
       "</div>"
      ],
      "text/plain": [
       "             last_price\n",
       "floor_type             \n",
       "первый      4541.598371\n",
       "последний   5531.420814\n",
       "средний     6084.045497"
      ]
     },
     "execution_count": 65,
     "metadata": {},
     "output_type": "execute_result"
    }
   ],
   "source": [
    "data.pivot_table(index='floor_type', values='last_price')"
   ]
  },
  {
   "cell_type": "code",
   "execution_count": 66,
   "metadata": {},
   "outputs": [
    {
     "data": {
      "text/html": [
       "<div>\n",
       "<style scoped>\n",
       "    .dataframe tbody tr th:only-of-type {\n",
       "        vertical-align: middle;\n",
       "    }\n",
       "\n",
       "    .dataframe tbody tr th {\n",
       "        vertical-align: top;\n",
       "    }\n",
       "\n",
       "    .dataframe thead th {\n",
       "        text-align: right;\n",
       "    }\n",
       "</style>\n",
       "<table border=\"1\" class=\"dataframe\">\n",
       "  <thead>\n",
       "    <tr style=\"text-align: right;\">\n",
       "      <th></th>\n",
       "      <th>last_price</th>\n",
       "    </tr>\n",
       "  </thead>\n",
       "  <tbody>\n",
       "    <tr>\n",
       "      <th>last_price</th>\n",
       "      <td>1.0</td>\n",
       "    </tr>\n",
       "  </tbody>\n",
       "</table>\n",
       "</div>"
      ],
      "text/plain": [
       "            last_price\n",
       "last_price         1.0"
      ]
     },
     "execution_count": 66,
     "metadata": {},
     "output_type": "execute_result"
    }
   ],
   "source": [
    "data.pivot_table(index='rooms', values=['floor_type', 'last_price']).corr()    "
   ]
  },
  {
   "cell_type": "code",
   "execution_count": 67,
   "metadata": {},
   "outputs": [
    {
     "data": {
      "image/png": "[encoded data removed]",
      "text/plain": [
       "<Figure size 360x360 with 1 Axes>"
      ]
     },
     "metadata": {
      "needs_background": "light"
     },
     "output_type": "display_data"
    }
   ],
   "source": [
    "data.pivot_table(index='floor_type', values='last_price').plot(grid=True, style='o', figsize=(5, 5))\n",
    "plt.show()"
   ]
  },
  {
   "cell_type": "markdown",
   "metadata": {},
   "source": [
    "Самые дешевые квартиры на первом этаже. Квартиры на средних этажах дороже, чем на последних."
   ]
  },
  {
   "cell_type": "markdown",
   "metadata": {},
   "source": [
    "6. Зависимость цены квартиры от дня недели размещения объявления"
   ]
  },
  {
   "cell_type": "code",
   "execution_count": 68,
   "metadata": {},
   "outputs": [
    {
     "data": {
      "text/html": [
       "<div>\n",
       "<style scoped>\n",
       "    .dataframe tbody tr th:only-of-type {\n",
       "        vertical-align: middle;\n",
       "    }\n",
       "\n",
       "    .dataframe tbody tr th {\n",
       "        vertical-align: top;\n",
       "    }\n",
       "\n",
       "    .dataframe thead th {\n",
       "        text-align: right;\n",
       "    }\n",
       "</style>\n",
       "<table border=\"1\" class=\"dataframe\">\n",
       "  <thead>\n",
       "    <tr style=\"text-align: right;\">\n",
       "      <th></th>\n",
       "      <th>last_price</th>\n",
       "    </tr>\n",
       "    <tr>\n",
       "      <th>day_publication</th>\n",
       "      <th></th>\n",
       "    </tr>\n",
       "  </thead>\n",
       "  <tbody>\n",
       "    <tr>\n",
       "      <th>0</th>\n",
       "      <td>5806.051183</td>\n",
       "    </tr>\n",
       "    <tr>\n",
       "      <th>1</th>\n",
       "      <td>5823.659762</td>\n",
       "    </tr>\n",
       "    <tr>\n",
       "      <th>2</th>\n",
       "      <td>5811.762525</td>\n",
       "    </tr>\n",
       "    <tr>\n",
       "      <th>3</th>\n",
       "      <td>6028.061538</td>\n",
       "    </tr>\n",
       "    <tr>\n",
       "      <th>4</th>\n",
       "      <td>5698.781683</td>\n",
       "    </tr>\n",
       "    <tr>\n",
       "      <th>5</th>\n",
       "      <td>5755.429097</td>\n",
       "    </tr>\n",
       "    <tr>\n",
       "      <th>6</th>\n",
       "      <td>5638.138901</td>\n",
       "    </tr>\n",
       "  </tbody>\n",
       "</table>\n",
       "</div>"
      ],
      "text/plain": [
       "                  last_price\n",
       "day_publication             \n",
       "0                5806.051183\n",
       "1                5823.659762\n",
       "2                5811.762525\n",
       "3                6028.061538\n",
       "4                5698.781683\n",
       "5                5755.429097\n",
       "6                5638.138901"
      ]
     },
     "execution_count": 68,
     "metadata": {},
     "output_type": "execute_result"
    }
   ],
   "source": [
    "data.pivot_table(index='day_publication', values='last_price')"
   ]
  },
  {
   "cell_type": "code",
   "execution_count": 69,
   "metadata": {},
   "outputs": [
    {
     "data": {
      "text/html": [
       "<div>\n",
       "<style scoped>\n",
       "    .dataframe tbody tr th:only-of-type {\n",
       "        vertical-align: middle;\n",
       "    }\n",
       "\n",
       "    .dataframe tbody tr th {\n",
       "        vertical-align: top;\n",
       "    }\n",
       "\n",
       "    .dataframe thead th {\n",
       "        text-align: right;\n",
       "    }\n",
       "</style>\n",
       "<table border=\"1\" class=\"dataframe\">\n",
       "  <thead>\n",
       "    <tr style=\"text-align: right;\">\n",
       "      <th></th>\n",
       "      <th>day_publication</th>\n",
       "      <th>last_price</th>\n",
       "    </tr>\n",
       "  </thead>\n",
       "  <tbody>\n",
       "    <tr>\n",
       "      <th>day_publication</th>\n",
       "      <td>1.000000</td>\n",
       "      <td>0.051608</td>\n",
       "    </tr>\n",
       "    <tr>\n",
       "      <th>last_price</th>\n",
       "      <td>0.051608</td>\n",
       "      <td>1.000000</td>\n",
       "    </tr>\n",
       "  </tbody>\n",
       "</table>\n",
       "</div>"
      ],
      "text/plain": [
       "                 day_publication  last_price\n",
       "day_publication         1.000000    0.051608\n",
       "last_price              0.051608    1.000000"
      ]
     },
     "execution_count": 69,
     "metadata": {},
     "output_type": "execute_result"
    }
   ],
   "source": [
    "data.pivot_table(index='rooms', values=['day_publication', 'last_price']).corr()    "
   ]
  },
  {
   "cell_type": "code",
   "execution_count": 70,
   "metadata": {},
   "outputs": [
    {
     "data": {
      "image/png": "[encoded data removed]",
      "text/plain": [
       "<Figure size 360x360 with 1 Axes>"
      ]
     },
     "metadata": {
      "needs_background": "light"
     },
     "output_type": "display_data"
    }
   ],
   "source": [
    "data.pivot_table(index='day_publication', values='last_price').plot(grid=True, style='o', figsize=(5, 5))\n",
    "plt.show()"
   ]
  },
  {
   "cell_type": "code",
   "execution_count": 71,
   "metadata": {},
   "outputs": [
    {
     "data": {
      "text/html": [
       "<div>\n",
       "<style scoped>\n",
       "    .dataframe tbody tr th:only-of-type {\n",
       "        vertical-align: middle;\n",
       "    }\n",
       "\n",
       "    .dataframe tbody tr th {\n",
       "        vertical-align: top;\n",
       "    }\n",
       "\n",
       "    .dataframe thead th {\n",
       "        text-align: right;\n",
       "    }\n",
       "</style>\n",
       "<table border=\"1\" class=\"dataframe\">\n",
       "  <thead>\n",
       "    <tr style=\"text-align: right;\">\n",
       "      <th></th>\n",
       "      <th>last_price</th>\n",
       "    </tr>\n",
       "    <tr>\n",
       "      <th>month_publication</th>\n",
       "      <th></th>\n",
       "    </tr>\n",
       "  </thead>\n",
       "  <tbody>\n",
       "    <tr>\n",
       "      <th>1</th>\n",
       "      <td>5740.968402</td>\n",
       "    </tr>\n",
       "    <tr>\n",
       "      <th>2</th>\n",
       "      <td>5854.234743</td>\n",
       "    </tr>\n",
       "    <tr>\n",
       "      <th>3</th>\n",
       "      <td>5696.317798</td>\n",
       "    </tr>\n",
       "    <tr>\n",
       "      <th>4</th>\n",
       "      <td>5716.818210</td>\n",
       "    </tr>\n",
       "    <tr>\n",
       "      <th>5</th>\n",
       "      <td>5808.615284</td>\n",
       "    </tr>\n",
       "    <tr>\n",
       "      <th>6</th>\n",
       "      <td>5723.253666</td>\n",
       "    </tr>\n",
       "    <tr>\n",
       "      <th>7</th>\n",
       "      <td>5752.754586</td>\n",
       "    </tr>\n",
       "    <tr>\n",
       "      <th>8</th>\n",
       "      <td>5955.412905</td>\n",
       "    </tr>\n",
       "    <tr>\n",
       "      <th>9</th>\n",
       "      <td>5963.628760</td>\n",
       "    </tr>\n",
       "    <tr>\n",
       "      <th>10</th>\n",
       "      <td>5671.899236</td>\n",
       "    </tr>\n",
       "    <tr>\n",
       "      <th>11</th>\n",
       "      <td>5881.626147</td>\n",
       "    </tr>\n",
       "    <tr>\n",
       "      <th>12</th>\n",
       "      <td>6088.095221</td>\n",
       "    </tr>\n",
       "  </tbody>\n",
       "</table>\n",
       "</div>"
      ],
      "text/plain": [
       "                    last_price\n",
       "month_publication             \n",
       "1                  5740.968402\n",
       "2                  5854.234743\n",
       "3                  5696.317798\n",
       "4                  5716.818210\n",
       "5                  5808.615284\n",
       "6                  5723.253666\n",
       "7                  5752.754586\n",
       "8                  5955.412905\n",
       "9                  5963.628760\n",
       "10                 5671.899236\n",
       "11                 5881.626147\n",
       "12                 6088.095221"
      ]
     },
     "execution_count": 71,
     "metadata": {},
     "output_type": "execute_result"
    }
   ],
   "source": [
    "data.pivot_table(index='month_publication', values='last_price')"
   ]
  },
  {
   "cell_type": "code",
   "execution_count": 72,
   "metadata": {},
   "outputs": [
    {
     "data": {
      "text/html": [
       "<div>\n",
       "<style scoped>\n",
       "    .dataframe tbody tr th:only-of-type {\n",
       "        vertical-align: middle;\n",
       "    }\n",
       "\n",
       "    .dataframe tbody tr th {\n",
       "        vertical-align: top;\n",
       "    }\n",
       "\n",
       "    .dataframe thead th {\n",
       "        text-align: right;\n",
       "    }\n",
       "</style>\n",
       "<table border=\"1\" class=\"dataframe\">\n",
       "  <thead>\n",
       "    <tr style=\"text-align: right;\">\n",
       "      <th></th>\n",
       "      <th>last_price</th>\n",
       "      <th>month_publication</th>\n",
       "    </tr>\n",
       "  </thead>\n",
       "  <tbody>\n",
       "    <tr>\n",
       "      <th>last_price</th>\n",
       "      <td>1.000000</td>\n",
       "      <td>-0.193618</td>\n",
       "    </tr>\n",
       "    <tr>\n",
       "      <th>month_publication</th>\n",
       "      <td>-0.193618</td>\n",
       "      <td>1.000000</td>\n",
       "    </tr>\n",
       "  </tbody>\n",
       "</table>\n",
       "</div>"
      ],
      "text/plain": [
       "                   last_price  month_publication\n",
       "last_price           1.000000          -0.193618\n",
       "month_publication   -0.193618           1.000000"
      ]
     },
     "execution_count": 72,
     "metadata": {},
     "output_type": "execute_result"
    }
   ],
   "source": [
    "data.pivot_table(index='rooms', values=['month_publication', 'last_price']).corr()    "
   ]
  },
  {
   "cell_type": "code",
   "execution_count": 73,
   "metadata": {},
   "outputs": [
    {
     "data": {
      "image/png": "[encoded data removed]",
      "text/plain": [
       "<Figure size 360x360 with 1 Axes>"
      ]
     },
     "metadata": {
      "needs_background": "light"
     },
     "output_type": "display_data"
    }
   ],
   "source": [
    "data.pivot_table(index='month_publication', values='last_price').plot(grid=True, style='o', figsize=(5, 5))\n",
    "plt.show()"
   ]
  },
  {
   "cell_type": "code",
   "execution_count": 74,
   "metadata": {},
   "outputs": [
    {
     "data": {
      "text/html": [
       "<div>\n",
       "<style scoped>\n",
       "    .dataframe tbody tr th:only-of-type {\n",
       "        vertical-align: middle;\n",
       "    }\n",
       "\n",
       "    .dataframe tbody tr th {\n",
       "        vertical-align: top;\n",
       "    }\n",
       "\n",
       "    .dataframe thead th {\n",
       "        text-align: right;\n",
       "    }\n",
       "</style>\n",
       "<table border=\"1\" class=\"dataframe\">\n",
       "  <thead>\n",
       "    <tr style=\"text-align: right;\">\n",
       "      <th></th>\n",
       "      <th>last_price</th>\n",
       "    </tr>\n",
       "    <tr>\n",
       "      <th>year_publication</th>\n",
       "      <th></th>\n",
       "    </tr>\n",
       "  </thead>\n",
       "  <tbody>\n",
       "    <tr>\n",
       "      <th>2014</th>\n",
       "      <td>10548.756992</td>\n",
       "    </tr>\n",
       "    <tr>\n",
       "      <th>2015</th>\n",
       "      <td>6959.898106</td>\n",
       "    </tr>\n",
       "    <tr>\n",
       "      <th>2016</th>\n",
       "      <td>5968.381708</td>\n",
       "    </tr>\n",
       "    <tr>\n",
       "      <th>2017</th>\n",
       "      <td>5733.410697</td>\n",
       "    </tr>\n",
       "    <tr>\n",
       "      <th>2018</th>\n",
       "      <td>5509.963431</td>\n",
       "    </tr>\n",
       "    <tr>\n",
       "      <th>2019</th>\n",
       "      <td>6140.134610</td>\n",
       "    </tr>\n",
       "  </tbody>\n",
       "</table>\n",
       "</div>"
      ],
      "text/plain": [
       "                    last_price\n",
       "year_publication              \n",
       "2014              10548.756992\n",
       "2015               6959.898106\n",
       "2016               5968.381708\n",
       "2017               5733.410697\n",
       "2018               5509.963431\n",
       "2019               6140.134610"
      ]
     },
     "execution_count": 74,
     "metadata": {},
     "output_type": "execute_result"
    }
   ],
   "source": [
    "data.pivot_table(index='year_publication', values='last_price')"
   ]
  },
  {
   "cell_type": "code",
   "execution_count": 75,
   "metadata": {},
   "outputs": [
    {
     "data": {
      "text/html": [
       "<div>\n",
       "<style scoped>\n",
       "    .dataframe tbody tr th:only-of-type {\n",
       "        vertical-align: middle;\n",
       "    }\n",
       "\n",
       "    .dataframe tbody tr th {\n",
       "        vertical-align: top;\n",
       "    }\n",
       "\n",
       "    .dataframe thead th {\n",
       "        text-align: right;\n",
       "    }\n",
       "</style>\n",
       "<table border=\"1\" class=\"dataframe\">\n",
       "  <thead>\n",
       "    <tr style=\"text-align: right;\">\n",
       "      <th></th>\n",
       "      <th>last_price</th>\n",
       "      <th>year_publication</th>\n",
       "    </tr>\n",
       "  </thead>\n",
       "  <tbody>\n",
       "    <tr>\n",
       "      <th>last_price</th>\n",
       "      <td>1.000000</td>\n",
       "      <td>0.255397</td>\n",
       "    </tr>\n",
       "    <tr>\n",
       "      <th>year_publication</th>\n",
       "      <td>0.255397</td>\n",
       "      <td>1.000000</td>\n",
       "    </tr>\n",
       "  </tbody>\n",
       "</table>\n",
       "</div>"
      ],
      "text/plain": [
       "                  last_price  year_publication\n",
       "last_price          1.000000          0.255397\n",
       "year_publication    0.255397          1.000000"
      ]
     },
     "execution_count": 75,
     "metadata": {},
     "output_type": "execute_result"
    }
   ],
   "source": [
    "data.pivot_table(index='rooms', values=['year_publication', 'last_price']).corr()   "
   ]
  },
  {
   "cell_type": "code",
   "execution_count": 76,
   "metadata": {},
   "outputs": [
    {
     "data": {
      "image/png": "[encoded data removed]",
      "text/plain": [
       "<Figure size 360x360 with 1 Axes>"
      ]
     },
     "metadata": {
      "needs_background": "light"
     },
     "output_type": "display_data"
    }
   ],
   "source": [
    "data.pivot_table(index='year_publication', values='last_price').plot(grid=True, style='o', figsize=(5, 5))\n",
    "plt.show()"
   ]
  },
  {
   "cell_type": "markdown",
   "metadata": {},
   "source": [
    "День недели, месяц и год не имеют большого влияния на цену квартиры. "
   ]
  },
  {
   "cell_type": "markdown",
   "metadata": {},
   "source": [
    "### Рассчет средней цены одного квадратного метра в 10 населенных пунктах с наибольшим числом объявлений"
   ]
  },
  {
   "cell_type": "code",
   "execution_count": 77,
   "metadata": {},
   "outputs": [
    {
     "data": {
      "text/html": [
       "<div>\n",
       "<style scoped>\n",
       "    .dataframe tbody tr th:only-of-type {\n",
       "        vertical-align: middle;\n",
       "    }\n",
       "\n",
       "    .dataframe tbody tr th {\n",
       "        vertical-align: top;\n",
       "    }\n",
       "\n",
       "    .dataframe thead th {\n",
       "        text-align: right;\n",
       "    }\n",
       "</style>\n",
       "<table border=\"1\" class=\"dataframe\">\n",
       "  <thead>\n",
       "    <tr style=\"text-align: right;\">\n",
       "      <th></th>\n",
       "      <th>count</th>\n",
       "      <th>price_sq_m</th>\n",
       "    </tr>\n",
       "    <tr>\n",
       "      <th>locality_name</th>\n",
       "      <th></th>\n",
       "      <th></th>\n",
       "    </tr>\n",
       "  </thead>\n",
       "  <tbody>\n",
       "    <tr>\n",
       "      <th>no_data</th>\n",
       "      <td>48</td>\n",
       "      <td>94274.161610</td>\n",
       "    </tr>\n",
       "    <tr>\n",
       "      <th>Бокситогорск</th>\n",
       "      <td>16</td>\n",
       "      <td>17551.591819</td>\n",
       "    </tr>\n",
       "    <tr>\n",
       "      <th>Волосово</th>\n",
       "      <td>36</td>\n",
       "      <td>40183.325974</td>\n",
       "    </tr>\n",
       "    <tr>\n",
       "      <th>Волхов</th>\n",
       "      <td>111</td>\n",
       "      <td>35087.679877</td>\n",
       "    </tr>\n",
       "    <tr>\n",
       "      <th>Всеволожск</th>\n",
       "      <td>397</td>\n",
       "      <td>68614.270181</td>\n",
       "    </tr>\n",
       "    <tr>\n",
       "      <th>...</th>\n",
       "      <td>...</td>\n",
       "      <td>...</td>\n",
       "    </tr>\n",
       "    <tr>\n",
       "      <th>село Путилово</th>\n",
       "      <td>2</td>\n",
       "      <td>39921.758208</td>\n",
       "    </tr>\n",
       "    <tr>\n",
       "      <th>село Рождествено</th>\n",
       "      <td>3</td>\n",
       "      <td>37733.159586</td>\n",
       "    </tr>\n",
       "    <tr>\n",
       "      <th>село Русско-Высоцкое</th>\n",
       "      <td>9</td>\n",
       "      <td>54833.726028</td>\n",
       "    </tr>\n",
       "    <tr>\n",
       "      <th>село Старая Ладога</th>\n",
       "      <td>2</td>\n",
       "      <td>34696.969697</td>\n",
       "    </tr>\n",
       "    <tr>\n",
       "      <th>село Шум</th>\n",
       "      <td>1</td>\n",
       "      <td>33898.305085</td>\n",
       "    </tr>\n",
       "  </tbody>\n",
       "</table>\n",
       "<p>322 rows × 2 columns</p>\n",
       "</div>"
      ],
      "text/plain": [
       "                      count    price_sq_m\n",
       "locality_name                            \n",
       "no_data                  48  94274.161610\n",
       "Бокситогорск             16  17551.591819\n",
       "Волосово                 36  40183.325974\n",
       "Волхов                  111  35087.679877\n",
       "Всеволожск              397  68614.270181\n",
       "...                     ...           ...\n",
       "село Путилово             2  39921.758208\n",
       "село Рождествено          3  37733.159586\n",
       "село Русско-Высоцкое      9  54833.726028\n",
       "село Старая Ладога        2  34696.969697\n",
       "село Шум                  1  33898.305085\n",
       "\n",
       "[322 rows x 2 columns]"
      ]
     },
     "execution_count": 77,
     "metadata": {},
     "output_type": "execute_result"
    }
   ],
   "source": [
    "city_sm_price = data.pivot_table(values='price_sq_m', index='locality_name', aggfunc =['count', 'mean'])\n",
    "city_sm_price.columns = ['count','price_sq_m'] \n",
    "city_sm_price"
   ]
  },
  {
   "cell_type": "code",
   "execution_count": 78,
   "metadata": {},
   "outputs": [
    {
     "data": {
      "text/html": [
       "<div>\n",
       "<style scoped>\n",
       "    .dataframe tbody tr th:only-of-type {\n",
       "        vertical-align: middle;\n",
       "    }\n",
       "\n",
       "    .dataframe tbody tr th {\n",
       "        vertical-align: top;\n",
       "    }\n",
       "\n",
       "    .dataframe thead th {\n",
       "        text-align: right;\n",
       "    }\n",
       "</style>\n",
       "<table border=\"1\" class=\"dataframe\">\n",
       "  <thead>\n",
       "    <tr style=\"text-align: right;\">\n",
       "      <th></th>\n",
       "      <th>count</th>\n",
       "      <th>price_sq_m</th>\n",
       "    </tr>\n",
       "    <tr>\n",
       "      <th>locality_name</th>\n",
       "      <th></th>\n",
       "      <th></th>\n",
       "    </tr>\n",
       "  </thead>\n",
       "  <tbody>\n",
       "    <tr>\n",
       "      <th>Зеленогорск</th>\n",
       "      <td>24</td>\n",
       "      <td>115122.799198</td>\n",
       "    </tr>\n",
       "    <tr>\n",
       "      <th>Санкт-Петербург</th>\n",
       "      <td>15214</td>\n",
       "      <td>112155.524483</td>\n",
       "    </tr>\n",
       "    <tr>\n",
       "      <th>поселок Репино</th>\n",
       "      <td>4</td>\n",
       "      <td>104238.614786</td>\n",
       "    </tr>\n",
       "    <tr>\n",
       "      <th>Пушкин</th>\n",
       "      <td>357</td>\n",
       "      <td>102708.990895</td>\n",
       "    </tr>\n",
       "    <tr>\n",
       "      <th>Сестрорецк</th>\n",
       "      <td>178</td>\n",
       "      <td>102011.619333</td>\n",
       "    </tr>\n",
       "    <tr>\n",
       "      <th>...</th>\n",
       "      <td>...</td>\n",
       "      <td>...</td>\n",
       "    </tr>\n",
       "    <tr>\n",
       "      <th>поселок Совхозный</th>\n",
       "      <td>2</td>\n",
       "      <td>12629.129129</td>\n",
       "    </tr>\n",
       "    <tr>\n",
       "      <th>деревня Выскатка</th>\n",
       "      <td>2</td>\n",
       "      <td>12335.480902</td>\n",
       "    </tr>\n",
       "    <tr>\n",
       "      <th>деревня Вахнова Кара</th>\n",
       "      <td>1</td>\n",
       "      <td>11688.311688</td>\n",
       "    </tr>\n",
       "    <tr>\n",
       "      <th>поселок станции Свирь</th>\n",
       "      <td>2</td>\n",
       "      <td>11481.481481</td>\n",
       "    </tr>\n",
       "    <tr>\n",
       "      <th>деревня Старополье</th>\n",
       "      <td>3</td>\n",
       "      <td>11206.221198</td>\n",
       "    </tr>\n",
       "  </tbody>\n",
       "</table>\n",
       "<p>322 rows × 2 columns</p>\n",
       "</div>"
      ],
      "text/plain": [
       "                       count     price_sq_m\n",
       "locality_name                              \n",
       "Зеленогорск               24  115122.799198\n",
       "Санкт-Петербург        15214  112155.524483\n",
       "поселок Репино             4  104238.614786\n",
       "Пушкин                   357  102708.990895\n",
       "Сестрорецк               178  102011.619333\n",
       "...                      ...            ...\n",
       "поселок Совхозный          2   12629.129129\n",
       "деревня Выскатка           2   12335.480902\n",
       "деревня Вахнова Кара       1   11688.311688\n",
       "поселок станции Свирь      2   11481.481481\n",
       "деревня Старополье         3   11206.221198\n",
       "\n",
       "[322 rows x 2 columns]"
      ]
     },
     "execution_count": 78,
     "metadata": {},
     "output_type": "execute_result"
    }
   ],
   "source": [
    "city_sm_price.sort_values('price_sq_m', ascending=False)"
   ]
  },
  {
   "cell_type": "markdown",
   "metadata": {},
   "source": [
    "Самая высокая стоимость квадратного метра в Зеленогорске, самая низкая в деревне Старополье."
   ]
  },
  {
   "cell_type": "code",
   "execution_count": 79,
   "metadata": {},
   "outputs": [
    {
     "data": {
      "text/html": [
       "<div>\n",
       "<style scoped>\n",
       "    .dataframe tbody tr th:only-of-type {\n",
       "        vertical-align: middle;\n",
       "    }\n",
       "\n",
       "    .dataframe tbody tr th {\n",
       "        vertical-align: top;\n",
       "    }\n",
       "\n",
       "    .dataframe thead th {\n",
       "        text-align: right;\n",
       "    }\n",
       "</style>\n",
       "<table border=\"1\" class=\"dataframe\">\n",
       "  <thead>\n",
       "    <tr style=\"text-align: right;\">\n",
       "      <th></th>\n",
       "      <th>count</th>\n",
       "      <th>price_sq_m</th>\n",
       "    </tr>\n",
       "    <tr>\n",
       "      <th>locality_name</th>\n",
       "      <th></th>\n",
       "      <th></th>\n",
       "    </tr>\n",
       "  </thead>\n",
       "  <tbody>\n",
       "    <tr>\n",
       "      <th>Санкт-Петербург</th>\n",
       "      <td>15214</td>\n",
       "      <td>112155.524483</td>\n",
       "    </tr>\n",
       "    <tr>\n",
       "      <th>поселок Мурино</th>\n",
       "      <td>553</td>\n",
       "      <td>85654.245117</td>\n",
       "    </tr>\n",
       "    <tr>\n",
       "      <th>поселок Шушары</th>\n",
       "      <td>437</td>\n",
       "      <td>78732.831279</td>\n",
       "    </tr>\n",
       "    <tr>\n",
       "      <th>Всеволожск</th>\n",
       "      <td>397</td>\n",
       "      <td>68614.270181</td>\n",
       "    </tr>\n",
       "    <tr>\n",
       "      <th>Пушкин</th>\n",
       "      <td>357</td>\n",
       "      <td>102708.990895</td>\n",
       "    </tr>\n",
       "    <tr>\n",
       "      <th>Колпино</th>\n",
       "      <td>337</td>\n",
       "      <td>75333.295801</td>\n",
       "    </tr>\n",
       "    <tr>\n",
       "      <th>поселок Парголово</th>\n",
       "      <td>326</td>\n",
       "      <td>90332.263023</td>\n",
       "    </tr>\n",
       "    <tr>\n",
       "      <th>Гатчина</th>\n",
       "      <td>306</td>\n",
       "      <td>68676.457955</td>\n",
       "    </tr>\n",
       "    <tr>\n",
       "      <th>деревня Кудрово</th>\n",
       "      <td>298</td>\n",
       "      <td>92542.250756</td>\n",
       "    </tr>\n",
       "    <tr>\n",
       "      <th>Выборг</th>\n",
       "      <td>235</td>\n",
       "      <td>57841.910665</td>\n",
       "    </tr>\n",
       "  </tbody>\n",
       "</table>\n",
       "</div>"
      ],
      "text/plain": [
       "                   count     price_sq_m\n",
       "locality_name                          \n",
       "Санкт-Петербург    15214  112155.524483\n",
       "поселок Мурино       553   85654.245117\n",
       "поселок Шушары       437   78732.831279\n",
       "Всеволожск           397   68614.270181\n",
       "Пушкин               357  102708.990895\n",
       "Колпино              337   75333.295801\n",
       "поселок Парголово    326   90332.263023\n",
       "Гатчина              306   68676.457955\n",
       "деревня Кудрово      298   92542.250756\n",
       "Выборг               235   57841.910665"
      ]
     },
     "execution_count": 79,
     "metadata": {},
     "output_type": "execute_result"
    }
   ],
   "source": [
    "city_sm_price.sort_values('count', ascending=False).head(10)"
   ]
  },
  {
   "cell_type": "markdown",
   "metadata": {},
   "source": [
    "В десяти населенных пунктах с  наибольшим числом объявлений самый дорогой квадратный метр жилья в Санкт-Петербурге, самый дешевый в Выборге."
   ]
  },
  {
   "cell_type": "code",
   "execution_count": 80,
   "metadata": {},
   "outputs": [
    {
     "data": {
      "image/png": "[encoded data removed]",
      "text/plain": [
       "<Figure size 576x432 with 1 Axes>"
      ]
     },
     "metadata": {
      "needs_background": "light"
     },
     "output_type": "display_data"
    }
   ],
   "source": [
    "\n",
    "\n",
    "locality_plot = city_sm_price.sort_values('count', ascending=False).head(10).reset_index()\n",
    "\n",
    "locality_plot.sort_values(by='price_sq_m').plot(x='locality_name', y='price_sq_m', kind='barh', figsize=(8,6), legend=False)\n",
    "plt.xlabel('Средняя цена кв м')\n",
    "plt.ylabel('Населенный пункт')\n",
    "plt.title('Стоимость недвижимости в 10 крупнейших населённых пунктах по количеству объявлений\\n')\n",
    "plt.show()"
   ]
  },
  {
   "cell_type": "markdown",
   "metadata": {},
   "source": [
    "### Рассчитаем зависимость стоимости объектов от расстояния до центра города."
   ]
  },
  {
   "cell_type": "code",
   "execution_count": 81,
   "metadata": {},
   "outputs": [
    {
     "data": {
      "text/html": [
       "<div>\n",
       "<style scoped>\n",
       "    .dataframe tbody tr th:only-of-type {\n",
       "        vertical-align: middle;\n",
       "    }\n",
       "\n",
       "    .dataframe tbody tr th {\n",
       "        vertical-align: top;\n",
       "    }\n",
       "\n",
       "    .dataframe thead th {\n",
       "        text-align: right;\n",
       "    }\n",
       "</style>\n",
       "<table border=\"1\" class=\"dataframe\">\n",
       "  <thead>\n",
       "    <tr style=\"text-align: right;\">\n",
       "      <th></th>\n",
       "      <th>last_price</th>\n",
       "    </tr>\n",
       "    <tr>\n",
       "      <th>center_km</th>\n",
       "      <th></th>\n",
       "    </tr>\n",
       "  </thead>\n",
       "  <tbody>\n",
       "    <tr>\n",
       "      <th>0</th>\n",
       "      <td>13552.736928</td>\n",
       "    </tr>\n",
       "    <tr>\n",
       "      <th>1</th>\n",
       "      <td>12846.507104</td>\n",
       "    </tr>\n",
       "    <tr>\n",
       "      <th>2</th>\n",
       "      <td>12026.034370</td>\n",
       "    </tr>\n",
       "    <tr>\n",
       "      <th>3</th>\n",
       "      <td>10305.902966</td>\n",
       "    </tr>\n",
       "    <tr>\n",
       "      <th>4</th>\n",
       "      <td>11061.970960</td>\n",
       "    </tr>\n",
       "    <tr>\n",
       "      <th>5</th>\n",
       "      <td>11178.076932</td>\n",
       "    </tr>\n",
       "    <tr>\n",
       "      <th>6</th>\n",
       "      <td>12020.327915</td>\n",
       "    </tr>\n",
       "    <tr>\n",
       "      <th>7</th>\n",
       "      <td>10094.867761</td>\n",
       "    </tr>\n",
       "    <tr>\n",
       "      <th>8</th>\n",
       "      <td>7944.255872</td>\n",
       "    </tr>\n",
       "    <tr>\n",
       "      <th>9</th>\n",
       "      <td>6278.950016</td>\n",
       "    </tr>\n",
       "    <tr>\n",
       "      <th>10</th>\n",
       "      <td>6097.822125</td>\n",
       "    </tr>\n",
       "    <tr>\n",
       "      <th>11</th>\n",
       "      <td>5863.977221</td>\n",
       "    </tr>\n",
       "    <tr>\n",
       "      <th>12</th>\n",
       "      <td>5926.904734</td>\n",
       "    </tr>\n",
       "    <tr>\n",
       "      <th>13</th>\n",
       "      <td>5875.506018</td>\n",
       "    </tr>\n",
       "    <tr>\n",
       "      <th>14</th>\n",
       "      <td>5587.924290</td>\n",
       "    </tr>\n",
       "    <tr>\n",
       "      <th>15</th>\n",
       "      <td>5390.861155</td>\n",
       "    </tr>\n",
       "    <tr>\n",
       "      <th>16</th>\n",
       "      <td>5392.071360</td>\n",
       "    </tr>\n",
       "    <tr>\n",
       "      <th>17</th>\n",
       "      <td>4798.453275</td>\n",
       "    </tr>\n",
       "    <tr>\n",
       "      <th>18</th>\n",
       "      <td>5012.280059</td>\n",
       "    </tr>\n",
       "    <tr>\n",
       "      <th>19</th>\n",
       "      <td>4678.755671</td>\n",
       "    </tr>\n",
       "    <tr>\n",
       "      <th>20</th>\n",
       "      <td>6321.098237</td>\n",
       "    </tr>\n",
       "    <tr>\n",
       "      <th>21</th>\n",
       "      <td>5157.379655</td>\n",
       "    </tr>\n",
       "    <tr>\n",
       "      <th>22</th>\n",
       "      <td>5252.893080</td>\n",
       "    </tr>\n",
       "    <tr>\n",
       "      <th>23</th>\n",
       "      <td>4126.866667</td>\n",
       "    </tr>\n",
       "    <tr>\n",
       "      <th>24</th>\n",
       "      <td>3862.235000</td>\n",
       "    </tr>\n",
       "    <tr>\n",
       "      <th>25</th>\n",
       "      <td>4014.913347</td>\n",
       "    </tr>\n",
       "    <tr>\n",
       "      <th>26</th>\n",
       "      <td>3575.000000</td>\n",
       "    </tr>\n",
       "    <tr>\n",
       "      <th>27</th>\n",
       "      <td>8300.000000</td>\n",
       "    </tr>\n",
       "    <tr>\n",
       "      <th>28</th>\n",
       "      <td>4910.500000</td>\n",
       "    </tr>\n",
       "    <tr>\n",
       "      <th>29</th>\n",
       "      <td>3833.333333</td>\n",
       "    </tr>\n",
       "  </tbody>\n",
       "</table>\n",
       "</div>"
      ],
      "text/plain": [
       "             last_price\n",
       "center_km              \n",
       "0          13552.736928\n",
       "1          12846.507104\n",
       "2          12026.034370\n",
       "3          10305.902966\n",
       "4          11061.970960\n",
       "5          11178.076932\n",
       "6          12020.327915\n",
       "7          10094.867761\n",
       "8           7944.255872\n",
       "9           6278.950016\n",
       "10          6097.822125\n",
       "11          5863.977221\n",
       "12          5926.904734\n",
       "13          5875.506018\n",
       "14          5587.924290\n",
       "15          5390.861155\n",
       "16          5392.071360\n",
       "17          4798.453275\n",
       "18          5012.280059\n",
       "19          4678.755671\n",
       "20          6321.098237\n",
       "21          5157.379655\n",
       "22          5252.893080\n",
       "23          4126.866667\n",
       "24          3862.235000\n",
       "25          4014.913347\n",
       "26          3575.000000\n",
       "27          8300.000000\n",
       "28          4910.500000\n",
       "29          3833.333333"
      ]
     },
     "execution_count": 81,
     "metadata": {},
     "output_type": "execute_result"
    }
   ],
   "source": [
    " data.query('locality_name == \"Санкт-Петербург\"').pivot_table(index='center_km', values='last_price')\n"
   ]
  },
  {
   "cell_type": "markdown",
   "metadata": {},
   "source": [
    "Чем квартира в объявлении находится ближе к центру, тем цена ее будет выше."
   ]
  },
  {
   "cell_type": "markdown",
   "metadata": {},
   "source": [
    "### Общий вывод"
   ]
  },
  {
   "cell_type": "markdown",
   "metadata": {},
   "source": [
    "В ходе исследования мы провели изучение и обработку данных: \n",
    "нашли и изучили пропущенные значения в столбцах, \n",
    "устранили некоторые пропуски,\n",
    "заполнили пропущенные значения там, где это возможно, \n",
    "рассмотрели типы данных в столбцах и зпреобразовали их там, где это было необходимо.\n",
    "Изучили уникальные значения в столбце с названиями населенных пунктов и исправили неявные дубликаты (поменяли ё на е и городской поселок на поселок городского типа).\n",
    "\n",
    "В итоге нашего исследования можно сделать следующие выводы:\n",
    "в центре санкт-Петербурга квартиры дороже, чем в других населенных пунктах. \n",
    "И чем дальше от центра, тем ниже цена.\n",
    "Так же общая цена растет на квартиры с большей площадью, а цена квадратного метра выше на квартиры студии. \n",
    "Но они быстрее всего продаются. Среднее время продажи 178 дней. Медианное время продажи 94 дня.\n",
    "Некоторые квартиры продавались сразу после публикации, а некоторые квартиры \"висели\" в публикации до четырех лет.\n",
    "Быстрыми продажами можно считать квартиры, которые продавались в течение 45 дней. Медленными - 228 дней. \n",
    "В десяти населенных пунктах с наибольшим числом объявлений самый дорогой квадратный метр жилья в Санкт-Петербурге, самый дешевый в Выборге.\n",
    "Самая высокая стоимость квадратного метра в Зеленогорске, самая низкая в деревне Старополье.\n",
    "\n",
    "\n"
   ]
  }
 ],
 "metadata": {
  "ExecuteTimeLog": [
   {
    "duration": 374,
    "start_time": "2022-09-26T10:22:26.871Z"
   },
   {
    "duration": 103,
    "start_time": "2022-09-26T10:22:28.384Z"
   },
   {
    "duration": 320,
    "start_time": "2022-09-26T10:23:07.956Z"
   },
   {
    "duration": 20,
    "start_time": "2022-09-26T10:23:52.918Z"
   },
   {
    "duration": 14,
    "start_time": "2022-09-26T10:24:04.882Z"
   },
   {
    "duration": 15,
    "start_time": "2022-09-26T10:24:33.692Z"
   },
   {
    "duration": 2522,
    "start_time": "2022-09-26T10:59:31.685Z"
   },
   {
    "duration": 235,
    "start_time": "2022-09-26T11:04:41.178Z"
   },
   {
    "duration": 2047,
    "start_time": "2022-09-26T11:04:59.155Z"
   },
   {
    "duration": 10,
    "start_time": "2022-09-26T11:35:14.127Z"
   },
   {
    "duration": 7,
    "start_time": "2022-09-26T11:44:25.701Z"
   },
   {
    "duration": 7,
    "start_time": "2022-09-26T11:52:38.186Z"
   },
   {
    "duration": 8,
    "start_time": "2022-09-26T11:52:50.522Z"
   },
   {
    "duration": 9,
    "start_time": "2022-09-26T11:57:22.078Z"
   },
   {
    "duration": 259,
    "start_time": "2022-09-26T12:00:15.941Z"
   },
   {
    "duration": 286,
    "start_time": "2022-09-26T12:00:19.387Z"
   },
   {
    "duration": 263,
    "start_time": "2022-09-26T12:01:07.884Z"
   },
   {
    "duration": 8,
    "start_time": "2022-09-26T12:01:42.931Z"
   },
   {
    "duration": 12,
    "start_time": "2022-09-26T12:03:32.920Z"
   },
   {
    "duration": 259,
    "start_time": "2022-09-26T12:03:34.234Z"
   },
   {
    "duration": 6,
    "start_time": "2022-09-26T12:03:35.298Z"
   },
   {
    "duration": 7,
    "start_time": "2022-09-26T12:03:39.864Z"
   },
   {
    "duration": 6,
    "start_time": "2022-09-26T12:05:11.250Z"
   },
   {
    "duration": 6,
    "start_time": "2022-09-26T12:05:24.777Z"
   },
   {
    "duration": 256,
    "start_time": "2022-09-26T12:05:26.216Z"
   },
   {
    "duration": 8,
    "start_time": "2022-09-26T12:05:32.933Z"
   },
   {
    "duration": 65,
    "start_time": "2022-09-26T12:06:51.622Z"
   },
   {
    "duration": 56,
    "start_time": "2022-09-26T12:07:30.246Z"
   },
   {
    "duration": 17,
    "start_time": "2022-09-26T12:07:41.944Z"
   },
   {
    "duration": 7,
    "start_time": "2022-09-26T12:18:09.861Z"
   },
   {
    "duration": 7,
    "start_time": "2022-09-26T12:18:57.048Z"
   },
   {
    "duration": 8,
    "start_time": "2022-09-26T12:20:09.382Z"
   },
   {
    "duration": 248,
    "start_time": "2022-09-26T12:20:41.923Z"
   },
   {
    "duration": 6,
    "start_time": "2022-09-26T12:20:50.664Z"
   },
   {
    "duration": 6,
    "start_time": "2022-09-26T12:21:10.706Z"
   },
   {
    "duration": 6,
    "start_time": "2022-09-26T12:21:12.058Z"
   },
   {
    "duration": 10,
    "start_time": "2022-09-26T12:21:57.285Z"
   },
   {
    "duration": 5,
    "start_time": "2022-09-26T12:22:10.641Z"
   },
   {
    "duration": 7,
    "start_time": "2022-09-26T12:22:50.686Z"
   },
   {
    "duration": 6,
    "start_time": "2022-09-26T12:22:52.325Z"
   },
   {
    "duration": 5,
    "start_time": "2022-09-26T12:23:24.815Z"
   },
   {
    "duration": 7,
    "start_time": "2022-09-26T12:28:23.199Z"
   },
   {
    "duration": 7,
    "start_time": "2022-09-26T12:28:44.286Z"
   },
   {
    "duration": 245,
    "start_time": "2022-09-26T12:30:02.743Z"
   },
   {
    "duration": 5,
    "start_time": "2022-09-26T12:30:12.166Z"
   },
   {
    "duration": 275,
    "start_time": "2022-09-26T12:31:06.921Z"
   },
   {
    "duration": 6,
    "start_time": "2022-09-26T12:31:08.103Z"
   },
   {
    "duration": 295,
    "start_time": "2022-09-26T12:31:21.003Z"
   },
   {
    "duration": 6,
    "start_time": "2022-09-26T12:31:21.661Z"
   },
   {
    "duration": 5,
    "start_time": "2022-09-26T12:34:53.279Z"
   },
   {
    "duration": 4,
    "start_time": "2022-09-26T12:35:41.656Z"
   },
   {
    "duration": 8,
    "start_time": "2022-09-26T12:35:53.019Z"
   },
   {
    "duration": 7,
    "start_time": "2022-09-26T12:44:47.274Z"
   },
   {
    "duration": 58,
    "start_time": "2022-09-26T12:45:56.080Z"
   },
   {
    "duration": 6,
    "start_time": "2022-09-26T12:46:03.041Z"
   },
   {
    "duration": 53,
    "start_time": "2022-09-26T13:05:20.396Z"
   },
   {
    "duration": 52,
    "start_time": "2022-09-26T13:05:34.771Z"
   },
   {
    "duration": 106,
    "start_time": "2022-09-26T13:06:56.631Z"
   },
   {
    "duration": 26,
    "start_time": "2022-09-26T13:40:41.588Z"
   },
   {
    "duration": 15,
    "start_time": "2022-09-26T13:40:46.516Z"
   },
   {
    "duration": 14,
    "start_time": "2022-09-26T13:41:20.567Z"
   },
   {
    "duration": 453,
    "start_time": "2022-09-26T13:44:16.857Z"
   },
   {
    "duration": 46,
    "start_time": "2022-09-26T13:44:37.147Z"
   },
   {
    "duration": 13,
    "start_time": "2022-09-26T13:44:44.490Z"
   },
   {
    "duration": 8,
    "start_time": "2022-09-26T13:46:29.384Z"
   },
   {
    "duration": 6,
    "start_time": "2022-09-26T13:46:53.590Z"
   },
   {
    "duration": 7,
    "start_time": "2022-09-26T13:47:24.995Z"
   },
   {
    "duration": 6,
    "start_time": "2022-09-26T13:47:44.185Z"
   },
   {
    "duration": 6,
    "start_time": "2022-09-26T13:47:48.914Z"
   },
   {
    "duration": 6,
    "start_time": "2022-09-26T13:48:02.154Z"
   },
   {
    "duration": 7,
    "start_time": "2022-09-26T13:48:02.901Z"
   },
   {
    "duration": 4,
    "start_time": "2022-09-26T13:51:27.998Z"
   },
   {
    "duration": 17,
    "start_time": "2022-09-26T13:52:35.244Z"
   },
   {
    "duration": 12,
    "start_time": "2022-09-26T13:54:09.483Z"
   },
   {
    "duration": 9,
    "start_time": "2022-09-26T13:54:25.846Z"
   },
   {
    "duration": 11,
    "start_time": "2022-09-26T13:54:37.433Z"
   },
   {
    "duration": 57,
    "start_time": "2022-09-26T13:54:46.581Z"
   },
   {
    "duration": 8,
    "start_time": "2022-09-26T13:55:04.881Z"
   },
   {
    "duration": 8,
    "start_time": "2022-09-26T13:55:20.240Z"
   },
   {
    "duration": 10,
    "start_time": "2022-09-26T13:55:33.983Z"
   },
   {
    "duration": 17,
    "start_time": "2022-09-26T13:56:42.541Z"
   },
   {
    "duration": 5,
    "start_time": "2022-09-26T13:57:31.280Z"
   },
   {
    "duration": 11,
    "start_time": "2022-09-26T13:58:04.488Z"
   },
   {
    "duration": 6,
    "start_time": "2022-09-26T13:58:16.660Z"
   },
   {
    "duration": 4,
    "start_time": "2022-09-26T13:58:19.990Z"
   },
   {
    "duration": 11,
    "start_time": "2022-09-26T13:58:49.075Z"
   },
   {
    "duration": 18,
    "start_time": "2022-09-26T13:58:59.350Z"
   },
   {
    "duration": 6,
    "start_time": "2022-09-26T14:00:10.834Z"
   },
   {
    "duration": 4,
    "start_time": "2022-09-26T14:01:23.398Z"
   },
   {
    "duration": 5,
    "start_time": "2022-09-26T14:01:36.949Z"
   },
   {
    "duration": 6,
    "start_time": "2022-09-26T14:01:49.418Z"
   },
   {
    "duration": 6,
    "start_time": "2022-09-26T14:02:06.456Z"
   },
   {
    "duration": 4,
    "start_time": "2022-09-26T14:02:07.388Z"
   },
   {
    "duration": 4,
    "start_time": "2022-09-26T14:02:08.301Z"
   },
   {
    "duration": 4,
    "start_time": "2022-09-26T14:02:09.567Z"
   },
   {
    "duration": 4,
    "start_time": "2022-09-26T14:02:10.538Z"
   },
   {
    "duration": 15,
    "start_time": "2022-09-26T14:02:48.354Z"
   },
   {
    "duration": 5,
    "start_time": "2022-09-26T14:10:33.098Z"
   },
   {
    "duration": 15,
    "start_time": "2022-09-26T14:10:35.886Z"
   },
   {
    "duration": 8,
    "start_time": "2022-09-26T14:12:18.391Z"
   },
   {
    "duration": 11,
    "start_time": "2022-09-26T14:17:38.510Z"
   },
   {
    "duration": 14,
    "start_time": "2022-09-26T14:17:49.342Z"
   },
   {
    "duration": 14,
    "start_time": "2022-09-26T14:17:54.187Z"
   },
   {
    "duration": 8,
    "start_time": "2022-09-26T14:23:21.900Z"
   },
   {
    "duration": 7,
    "start_time": "2022-09-26T14:23:40.641Z"
   },
   {
    "duration": 5,
    "start_time": "2022-09-26T14:23:58.033Z"
   },
   {
    "duration": 8,
    "start_time": "2022-09-26T14:27:36.936Z"
   },
   {
    "duration": 12,
    "start_time": "2022-09-26T14:27:39.881Z"
   },
   {
    "duration": 5,
    "start_time": "2022-09-26T14:27:41.800Z"
   },
   {
    "duration": 7,
    "start_time": "2022-09-26T14:27:44.659Z"
   },
   {
    "duration": 17,
    "start_time": "2022-09-26T14:28:05.737Z"
   },
   {
    "duration": 10,
    "start_time": "2022-09-26T14:30:37.691Z"
   },
   {
    "duration": 5,
    "start_time": "2022-09-26T14:33:58.567Z"
   },
   {
    "duration": 12,
    "start_time": "2022-09-26T14:34:46.968Z"
   },
   {
    "duration": 796,
    "start_time": "2022-09-26T14:35:49.203Z"
   },
   {
    "duration": 7,
    "start_time": "2022-09-26T14:35:57.885Z"
   },
   {
    "duration": 27,
    "start_time": "2022-09-26T14:38:55.931Z"
   },
   {
    "duration": 11,
    "start_time": "2022-09-26T14:40:33.594Z"
   },
   {
    "duration": 6,
    "start_time": "2022-09-26T14:40:58.682Z"
   },
   {
    "duration": 6,
    "start_time": "2022-09-26T14:41:04.738Z"
   },
   {
    "duration": 8,
    "start_time": "2022-09-26T14:45:03.347Z"
   },
   {
    "duration": 6,
    "start_time": "2022-09-26T14:45:10.413Z"
   },
   {
    "duration": 26,
    "start_time": "2022-09-26T14:48:34.316Z"
   },
   {
    "duration": 36,
    "start_time": "2022-09-26T14:51:04.461Z"
   },
   {
    "duration": 12,
    "start_time": "2022-09-26T14:58:13.216Z"
   },
   {
    "duration": 56,
    "start_time": "2022-09-26T14:58:25.191Z"
   },
   {
    "duration": 7,
    "start_time": "2022-09-26T15:00:28.681Z"
   },
   {
    "duration": 184,
    "start_time": "2022-09-27T10:02:21.959Z"
   },
   {
    "duration": 45,
    "start_time": "2022-09-27T10:02:32.180Z"
   },
   {
    "duration": 406,
    "start_time": "2022-09-27T10:02:40.703Z"
   },
   {
    "duration": 311,
    "start_time": "2022-09-27T10:02:41.412Z"
   },
   {
    "duration": 16,
    "start_time": "2022-09-27T10:02:41.725Z"
   },
   {
    "duration": 15,
    "start_time": "2022-09-27T10:02:42.435Z"
   },
   {
    "duration": 2202,
    "start_time": "2022-09-27T10:02:43.922Z"
   },
   {
    "duration": 68,
    "start_time": "2022-09-27T10:02:48.634Z"
   },
   {
    "duration": 9,
    "start_time": "2022-09-27T10:02:57.589Z"
   },
   {
    "duration": 6,
    "start_time": "2022-09-27T10:03:01.919Z"
   },
   {
    "duration": 12,
    "start_time": "2022-09-27T10:03:07.432Z"
   },
   {
    "duration": 6,
    "start_time": "2022-09-27T10:03:10.534Z"
   },
   {
    "duration": 7,
    "start_time": "2022-09-27T10:03:16.731Z"
   },
   {
    "duration": 27,
    "start_time": "2022-09-27T10:03:23.803Z"
   },
   {
    "duration": 8,
    "start_time": "2022-09-27T10:03:30.045Z"
   },
   {
    "duration": 189,
    "start_time": "2022-09-27T10:05:55.769Z"
   },
   {
    "duration": 7,
    "start_time": "2022-09-27T10:06:29.233Z"
   },
   {
    "duration": 35,
    "start_time": "2022-09-27T10:06:38.733Z"
   },
   {
    "duration": 7,
    "start_time": "2022-09-27T10:06:53.314Z"
   },
   {
    "duration": 26,
    "start_time": "2022-09-27T10:06:55.618Z"
   },
   {
    "duration": 11,
    "start_time": "2022-09-27T10:07:16.907Z"
   },
   {
    "duration": 12,
    "start_time": "2022-09-27T10:07:42.790Z"
   },
   {
    "duration": 26,
    "start_time": "2022-09-27T10:07:49.948Z"
   },
   {
    "duration": 8,
    "start_time": "2022-09-27T10:07:57.009Z"
   },
   {
    "duration": 6,
    "start_time": "2022-09-27T10:36:06.340Z"
   },
   {
    "duration": 10,
    "start_time": "2022-09-27T10:36:22.655Z"
   },
   {
    "duration": 11,
    "start_time": "2022-09-27T10:36:51.019Z"
   },
   {
    "duration": 13,
    "start_time": "2022-09-27T10:38:31.454Z"
   },
   {
    "duration": 14,
    "start_time": "2022-09-27T10:39:04.901Z"
   },
   {
    "duration": 45,
    "start_time": "2022-09-27T10:40:24.362Z"
   },
   {
    "duration": 9,
    "start_time": "2022-09-27T10:41:00.661Z"
   },
   {
    "duration": 54,
    "start_time": "2022-09-27T10:41:32.614Z"
   },
   {
    "duration": 567,
    "start_time": "2022-09-27T10:47:03.694Z"
   },
   {
    "duration": 84,
    "start_time": "2022-09-27T10:47:26.802Z"
   },
   {
    "duration": 93,
    "start_time": "2022-09-27T10:47:37.535Z"
   },
   {
    "duration": 58,
    "start_time": "2022-09-27T10:47:52.276Z"
   },
   {
    "duration": 10,
    "start_time": "2022-09-27T10:48:16.897Z"
   },
   {
    "duration": 9,
    "start_time": "2022-09-27T10:49:50.288Z"
   },
   {
    "duration": 8,
    "start_time": "2022-09-27T10:50:20.217Z"
   },
   {
    "duration": 9,
    "start_time": "2022-09-27T10:50:24.860Z"
   },
   {
    "duration": 9,
    "start_time": "2022-09-27T10:52:15.462Z"
   },
   {
    "duration": 14,
    "start_time": "2022-09-27T11:00:39.083Z"
   },
   {
    "duration": 52,
    "start_time": "2022-09-27T11:01:53.613Z"
   },
   {
    "duration": 36,
    "start_time": "2022-09-27T11:01:59.513Z"
   },
   {
    "duration": 29,
    "start_time": "2022-09-27T11:02:16.436Z"
   },
   {
    "duration": 33,
    "start_time": "2022-09-27T11:02:54.117Z"
   },
   {
    "duration": 36,
    "start_time": "2022-09-27T11:03:05.792Z"
   },
   {
    "duration": 38,
    "start_time": "2022-09-27T11:03:33.161Z"
   },
   {
    "duration": 4,
    "start_time": "2022-09-27T11:14:29.083Z"
   },
   {
    "duration": 5,
    "start_time": "2022-09-27T11:14:50.650Z"
   },
   {
    "duration": 51,
    "start_time": "2022-09-27T11:18:03.054Z"
   },
   {
    "duration": 15,
    "start_time": "2022-09-27T11:18:40.766Z"
   },
   {
    "duration": 32,
    "start_time": "2022-09-27T11:19:01.223Z"
   },
   {
    "duration": 32,
    "start_time": "2022-09-27T11:21:17.275Z"
   },
   {
    "duration": 7,
    "start_time": "2022-09-27T11:21:28.515Z"
   },
   {
    "duration": 12,
    "start_time": "2022-09-27T11:21:39.317Z"
   },
   {
    "duration": 6,
    "start_time": "2022-09-27T11:23:14.835Z"
   },
   {
    "duration": 11,
    "start_time": "2022-09-27T11:23:28.570Z"
   },
   {
    "duration": 36,
    "start_time": "2022-09-27T11:24:04.479Z"
   },
   {
    "duration": 8,
    "start_time": "2022-09-27T11:24:07.303Z"
   },
   {
    "duration": 45,
    "start_time": "2022-09-27T11:24:11.707Z"
   },
   {
    "duration": 36,
    "start_time": "2022-09-27T11:24:21.501Z"
   },
   {
    "duration": 5,
    "start_time": "2022-09-27T11:26:25.670Z"
   },
   {
    "duration": 7,
    "start_time": "2022-09-27T11:27:05.841Z"
   },
   {
    "duration": 6,
    "start_time": "2022-09-27T11:27:15.667Z"
   },
   {
    "duration": 5,
    "start_time": "2022-09-27T11:28:17.136Z"
   },
   {
    "duration": 5,
    "start_time": "2022-09-27T11:28:18.658Z"
   },
   {
    "duration": 9,
    "start_time": "2022-09-27T11:28:19.756Z"
   },
   {
    "duration": 5,
    "start_time": "2022-09-27T11:28:40.350Z"
   },
   {
    "duration": 5,
    "start_time": "2022-09-27T11:32:32.061Z"
   },
   {
    "duration": 4,
    "start_time": "2022-09-27T11:33:02.938Z"
   },
   {
    "duration": 10,
    "start_time": "2022-09-27T11:33:55.278Z"
   },
   {
    "duration": 7,
    "start_time": "2022-09-27T11:34:59.285Z"
   },
   {
    "duration": 15,
    "start_time": "2022-09-27T11:35:25.865Z"
   },
   {
    "duration": 12,
    "start_time": "2022-09-27T11:36:26.950Z"
   },
   {
    "duration": 11,
    "start_time": "2022-09-27T11:37:05.971Z"
   },
   {
    "duration": 9,
    "start_time": "2022-09-27T11:38:30.643Z"
   },
   {
    "duration": 10,
    "start_time": "2022-09-27T11:39:04.706Z"
   },
   {
    "duration": 8,
    "start_time": "2022-09-27T11:41:10.189Z"
   },
   {
    "duration": 6,
    "start_time": "2022-09-27T11:41:32.079Z"
   },
   {
    "duration": 5,
    "start_time": "2022-09-27T11:41:43.600Z"
   },
   {
    "duration": 5,
    "start_time": "2022-09-27T11:41:48.415Z"
   },
   {
    "duration": 8,
    "start_time": "2022-09-27T11:43:02.612Z"
   },
   {
    "duration": 16,
    "start_time": "2022-09-27T11:43:09.307Z"
   },
   {
    "duration": 16,
    "start_time": "2022-09-27T11:44:21.687Z"
   },
   {
    "duration": 3,
    "start_time": "2022-09-27T11:44:39.646Z"
   },
   {
    "duration": 93,
    "start_time": "2022-09-27T11:44:39.964Z"
   },
   {
    "duration": 15,
    "start_time": "2022-09-27T11:44:40.128Z"
   },
   {
    "duration": 14,
    "start_time": "2022-09-27T11:44:40.444Z"
   },
   {
    "duration": 1797,
    "start_time": "2022-09-27T11:44:40.761Z"
   },
   {
    "duration": 8,
    "start_time": "2022-09-27T11:44:42.560Z"
   },
   {
    "duration": 12,
    "start_time": "2022-09-27T11:44:42.569Z"
   },
   {
    "duration": 5,
    "start_time": "2022-09-27T11:44:42.583Z"
   },
   {
    "duration": 4,
    "start_time": "2022-09-27T11:44:42.744Z"
   },
   {
    "duration": 7,
    "start_time": "2022-09-27T11:44:42.890Z"
   },
   {
    "duration": 31,
    "start_time": "2022-09-27T11:44:43.406Z"
   },
   {
    "duration": 4,
    "start_time": "2022-09-27T11:44:43.782Z"
   },
   {
    "duration": 11,
    "start_time": "2022-09-27T11:44:47.105Z"
   },
   {
    "duration": 29,
    "start_time": "2022-09-27T11:44:49.510Z"
   },
   {
    "duration": 9,
    "start_time": "2022-09-27T11:44:52.053Z"
   },
   {
    "duration": 39,
    "start_time": "2022-09-27T11:44:54.005Z"
   },
   {
    "duration": 1394,
    "start_time": "2022-09-27T11:48:05.099Z"
   },
   {
    "duration": 6,
    "start_time": "2022-09-27T11:48:55.464Z"
   },
   {
    "duration": 6,
    "start_time": "2022-09-27T11:49:14.466Z"
   },
   {
    "duration": 6,
    "start_time": "2022-09-27T11:49:15.249Z"
   },
   {
    "duration": 9,
    "start_time": "2022-09-27T11:51:34.099Z"
   },
   {
    "duration": 17,
    "start_time": "2022-09-27T11:51:41.676Z"
   },
   {
    "duration": 8,
    "start_time": "2022-09-27T11:51:52.688Z"
   },
   {
    "duration": 7,
    "start_time": "2022-09-27T11:51:57.878Z"
   },
   {
    "duration": 6,
    "start_time": "2022-09-27T11:52:02.519Z"
   },
   {
    "duration": 8,
    "start_time": "2022-09-27T11:52:03.955Z"
   },
   {
    "duration": 16,
    "start_time": "2022-09-27T11:52:05.236Z"
   },
   {
    "duration": 39,
    "start_time": "2022-09-27T11:52:16.991Z"
   },
   {
    "duration": 9,
    "start_time": "2022-09-27T11:52:21.072Z"
   },
   {
    "duration": 52,
    "start_time": "2022-09-27T11:52:24.818Z"
   },
   {
    "duration": 30,
    "start_time": "2022-09-27T11:53:16.830Z"
   },
   {
    "duration": 12,
    "start_time": "2022-09-27T11:54:41.287Z"
   },
   {
    "duration": 8,
    "start_time": "2022-09-27T11:54:48.677Z"
   },
   {
    "duration": 8,
    "start_time": "2022-09-27T11:55:49.412Z"
   },
   {
    "duration": 7,
    "start_time": "2022-09-27T11:58:00.498Z"
   },
   {
    "duration": 8,
    "start_time": "2022-09-27T12:02:25.716Z"
   },
   {
    "duration": 5,
    "start_time": "2022-09-27T12:02:38.516Z"
   },
   {
    "duration": 9,
    "start_time": "2022-09-27T12:03:17.316Z"
   },
   {
    "duration": 11,
    "start_time": "2022-09-27T12:03:46.827Z"
   },
   {
    "duration": 15,
    "start_time": "2022-09-27T12:12:46.998Z"
   },
   {
    "duration": 47,
    "start_time": "2022-09-27T12:19:35.373Z"
   },
   {
    "duration": 16,
    "start_time": "2022-09-27T12:20:09.650Z"
   },
   {
    "duration": 10,
    "start_time": "2022-09-27T12:21:10.994Z"
   },
   {
    "duration": 3,
    "start_time": "2022-09-27T12:21:27.301Z"
   },
   {
    "duration": 94,
    "start_time": "2022-09-27T12:21:27.583Z"
   },
   {
    "duration": 13,
    "start_time": "2022-09-27T12:21:27.769Z"
   },
   {
    "duration": 14,
    "start_time": "2022-09-27T12:21:28.028Z"
   },
   {
    "duration": 1792,
    "start_time": "2022-09-27T12:21:28.348Z"
   },
   {
    "duration": 8,
    "start_time": "2022-09-27T12:21:30.534Z"
   },
   {
    "duration": 5,
    "start_time": "2022-09-27T12:21:32.205Z"
   },
   {
    "duration": 5,
    "start_time": "2022-09-27T12:21:33.431Z"
   },
   {
    "duration": 6,
    "start_time": "2022-09-27T12:21:34.531Z"
   },
   {
    "duration": 7,
    "start_time": "2022-09-27T12:21:35.109Z"
   },
   {
    "duration": 33,
    "start_time": "2022-09-27T12:21:37.093Z"
   },
   {
    "duration": 6,
    "start_time": "2022-09-27T12:21:38.732Z"
   },
   {
    "duration": 5,
    "start_time": "2022-09-27T12:21:39.435Z"
   },
   {
    "duration": 6,
    "start_time": "2022-09-27T12:21:41.357Z"
   },
   {
    "duration": 15,
    "start_time": "2022-09-27T12:21:42.341Z"
   },
   {
    "duration": 40,
    "start_time": "2022-09-27T12:21:44.769Z"
   },
   {
    "duration": 6,
    "start_time": "2022-09-27T12:21:48.448Z"
   },
   {
    "duration": 43,
    "start_time": "2022-09-27T12:21:53.390Z"
   },
   {
    "duration": 108,
    "start_time": "2022-09-27T12:22:07.281Z"
   },
   {
    "duration": 86,
    "start_time": "2022-09-27T12:23:24.463Z"
   },
   {
    "duration": 107,
    "start_time": "2022-09-27T12:27:43.527Z"
   },
   {
    "duration": 46,
    "start_time": "2022-09-27T12:27:56.889Z"
   },
   {
    "duration": 79,
    "start_time": "2022-09-27T12:28:04.920Z"
   },
   {
    "duration": 153,
    "start_time": "2022-09-27T12:28:23.380Z"
   },
   {
    "duration": 12,
    "start_time": "2022-09-27T12:29:21.734Z"
   },
   {
    "duration": 5,
    "start_time": "2022-09-27T12:29:22.938Z"
   },
   {
    "duration": 8,
    "start_time": "2022-09-27T12:29:47.462Z"
   },
   {
    "duration": 5,
    "start_time": "2022-09-27T12:30:11.989Z"
   },
   {
    "duration": 8,
    "start_time": "2022-09-27T12:30:27.416Z"
   },
   {
    "duration": 5,
    "start_time": "2022-09-27T12:30:31.662Z"
   },
   {
    "duration": 4,
    "start_time": "2022-09-27T12:30:39.509Z"
   },
   {
    "duration": 3,
    "start_time": "2022-09-27T12:30:48.831Z"
   },
   {
    "duration": 86,
    "start_time": "2022-09-27T12:30:49.994Z"
   },
   {
    "duration": 12,
    "start_time": "2022-09-27T12:30:50.667Z"
   },
   {
    "duration": 15,
    "start_time": "2022-09-27T12:30:52.041Z"
   },
   {
    "duration": 1738,
    "start_time": "2022-09-27T12:30:53.947Z"
   },
   {
    "duration": 10,
    "start_time": "2022-09-27T12:30:58.679Z"
   },
   {
    "duration": 6,
    "start_time": "2022-09-27T12:31:00.561Z"
   },
   {
    "duration": 10,
    "start_time": "2022-09-27T12:31:05.121Z"
   },
   {
    "duration": 7,
    "start_time": "2022-09-27T12:31:20.545Z"
   },
   {
    "duration": 6,
    "start_time": "2022-09-27T12:31:34.115Z"
   },
   {
    "duration": 5,
    "start_time": "2022-09-27T12:31:35.733Z"
   },
   {
    "duration": 8,
    "start_time": "2022-09-27T12:31:38.707Z"
   },
   {
    "duration": 37,
    "start_time": "2022-09-27T12:31:41.792Z"
   },
   {
    "duration": 5,
    "start_time": "2022-09-27T12:31:42.987Z"
   },
   {
    "duration": 7,
    "start_time": "2022-09-27T12:31:43.807Z"
   },
   {
    "duration": 8,
    "start_time": "2022-09-27T12:31:45.134Z"
   },
   {
    "duration": 18,
    "start_time": "2022-09-27T12:31:45.470Z"
   },
   {
    "duration": 47,
    "start_time": "2022-09-27T12:31:47.204Z"
   },
   {
    "duration": 7,
    "start_time": "2022-09-27T12:31:48.868Z"
   },
   {
    "duration": 38,
    "start_time": "2022-09-27T12:31:53.661Z"
   },
   {
    "duration": 222,
    "start_time": "2022-09-27T12:32:00.431Z"
   },
   {
    "duration": 68,
    "start_time": "2022-09-27T12:32:41.445Z"
   },
   {
    "duration": 59,
    "start_time": "2022-09-27T12:33:19.625Z"
   },
   {
    "duration": 9,
    "start_time": "2022-09-27T12:33:39.664Z"
   },
   {
    "duration": 89,
    "start_time": "2022-09-27T12:33:56.296Z"
   },
   {
    "duration": 80,
    "start_time": "2022-09-27T12:34:06.195Z"
   },
   {
    "duration": 419,
    "start_time": "2022-09-27T12:34:16.686Z"
   },
   {
    "duration": 90,
    "start_time": "2022-09-27T12:34:17.106Z"
   },
   {
    "duration": 14,
    "start_time": "2022-09-27T12:34:17.198Z"
   },
   {
    "duration": 13,
    "start_time": "2022-09-27T12:34:17.214Z"
   },
   {
    "duration": 1971,
    "start_time": "2022-09-27T12:34:17.229Z"
   },
   {
    "duration": 9,
    "start_time": "2022-09-27T12:34:19.202Z"
   },
   {
    "duration": 4,
    "start_time": "2022-09-27T12:34:19.213Z"
   },
   {
    "duration": 5,
    "start_time": "2022-09-27T12:34:19.219Z"
   },
   {
    "duration": 6,
    "start_time": "2022-09-27T12:34:19.225Z"
   },
   {
    "duration": 7,
    "start_time": "2022-09-27T12:34:19.233Z"
   },
   {
    "duration": 67,
    "start_time": "2022-09-27T12:34:19.242Z"
   },
   {
    "duration": 6,
    "start_time": "2022-09-27T12:34:19.310Z"
   },
   {
    "duration": 13,
    "start_time": "2022-09-27T12:34:19.317Z"
   },
   {
    "duration": 7,
    "start_time": "2022-09-27T12:34:19.332Z"
   },
   {
    "duration": 12,
    "start_time": "2022-09-27T12:34:19.340Z"
   },
   {
    "duration": 56,
    "start_time": "2022-09-27T12:34:19.353Z"
   },
   {
    "duration": 8,
    "start_time": "2022-09-27T12:34:19.411Z"
   },
   {
    "duration": 43,
    "start_time": "2022-09-27T12:34:19.420Z"
   },
   {
    "duration": 122,
    "start_time": "2022-09-27T12:34:19.465Z"
   },
   {
    "duration": 70,
    "start_time": "2022-09-27T12:35:32.369Z"
   },
   {
    "duration": 377,
    "start_time": "2022-09-27T12:35:41.846Z"
   },
   {
    "duration": 94,
    "start_time": "2022-09-27T12:35:42.225Z"
   },
   {
    "duration": 16,
    "start_time": "2022-09-27T12:35:42.320Z"
   },
   {
    "duration": 18,
    "start_time": "2022-09-27T12:35:42.338Z"
   },
   {
    "duration": 1991,
    "start_time": "2022-09-27T12:35:42.357Z"
   },
   {
    "duration": 9,
    "start_time": "2022-09-27T12:35:44.350Z"
   },
   {
    "duration": 8,
    "start_time": "2022-09-27T12:35:44.361Z"
   },
   {
    "duration": 12,
    "start_time": "2022-09-27T12:35:44.371Z"
   },
   {
    "duration": 10,
    "start_time": "2022-09-27T12:35:44.385Z"
   },
   {
    "duration": 10,
    "start_time": "2022-09-27T12:35:44.402Z"
   },
   {
    "duration": 60,
    "start_time": "2022-09-27T12:35:44.414Z"
   },
   {
    "duration": 7,
    "start_time": "2022-09-27T12:35:44.477Z"
   },
   {
    "duration": 21,
    "start_time": "2022-09-27T12:35:44.486Z"
   },
   {
    "duration": 23,
    "start_time": "2022-09-27T12:35:44.509Z"
   },
   {
    "duration": 21,
    "start_time": "2022-09-27T12:35:44.534Z"
   },
   {
    "duration": 53,
    "start_time": "2022-09-27T12:35:44.557Z"
   },
   {
    "duration": 9,
    "start_time": "2022-09-27T12:35:44.612Z"
   },
   {
    "duration": 87,
    "start_time": "2022-09-27T12:35:44.622Z"
   },
   {
    "duration": 65,
    "start_time": "2022-09-27T12:35:44.711Z"
   },
   {
    "duration": 12,
    "start_time": "2022-09-27T12:36:16.386Z"
   },
   {
    "duration": 78,
    "start_time": "2022-09-27T12:39:27.032Z"
   },
   {
    "duration": 12,
    "start_time": "2022-09-27T12:39:31.342Z"
   },
   {
    "duration": 76,
    "start_time": "2022-09-27T12:42:17.359Z"
   },
   {
    "duration": 79,
    "start_time": "2022-09-27T12:42:20.503Z"
   },
   {
    "duration": 410,
    "start_time": "2022-09-27T12:42:24.886Z"
   },
   {
    "duration": 129,
    "start_time": "2022-09-27T12:42:25.298Z"
   },
   {
    "duration": 16,
    "start_time": "2022-09-27T12:42:25.429Z"
   },
   {
    "duration": 13,
    "start_time": "2022-09-27T12:42:25.447Z"
   },
   {
    "duration": 2007,
    "start_time": "2022-09-27T12:42:25.461Z"
   },
   {
    "duration": 11,
    "start_time": "2022-09-27T12:42:27.470Z"
   },
   {
    "duration": 6,
    "start_time": "2022-09-27T12:42:27.483Z"
   },
   {
    "duration": 9,
    "start_time": "2022-09-27T12:42:27.490Z"
   },
   {
    "duration": 12,
    "start_time": "2022-09-27T12:42:27.501Z"
   },
   {
    "duration": 17,
    "start_time": "2022-09-27T12:42:27.515Z"
   },
   {
    "duration": 37,
    "start_time": "2022-09-27T12:42:27.534Z"
   },
   {
    "duration": 5,
    "start_time": "2022-09-27T12:42:27.573Z"
   },
   {
    "duration": 13,
    "start_time": "2022-09-27T12:42:27.579Z"
   },
   {
    "duration": 23,
    "start_time": "2022-09-27T12:42:27.594Z"
   },
   {
    "duration": 13,
    "start_time": "2022-09-27T12:42:27.619Z"
   },
   {
    "duration": 42,
    "start_time": "2022-09-27T12:42:27.634Z"
   },
   {
    "duration": 6,
    "start_time": "2022-09-27T12:42:27.678Z"
   },
   {
    "duration": 57,
    "start_time": "2022-09-27T12:42:27.685Z"
   },
   {
    "duration": 105,
    "start_time": "2022-09-27T12:42:27.743Z"
   },
   {
    "duration": 18,
    "start_time": "2022-09-27T12:44:32.799Z"
   },
   {
    "duration": 6,
    "start_time": "2022-09-27T12:45:15.544Z"
   },
   {
    "duration": 366,
    "start_time": "2022-09-27T12:45:23.747Z"
   },
   {
    "duration": 93,
    "start_time": "2022-09-27T12:45:24.115Z"
   },
   {
    "duration": 16,
    "start_time": "2022-09-27T12:45:24.209Z"
   },
   {
    "duration": 21,
    "start_time": "2022-09-27T12:45:24.228Z"
   },
   {
    "duration": 2145,
    "start_time": "2022-09-27T12:45:24.251Z"
   },
   {
    "duration": 14,
    "start_time": "2022-09-27T12:45:26.398Z"
   },
   {
    "duration": 14,
    "start_time": "2022-09-27T12:45:26.414Z"
   },
   {
    "duration": 13,
    "start_time": "2022-09-27T12:45:26.430Z"
   },
   {
    "duration": 15,
    "start_time": "2022-09-27T12:45:26.444Z"
   },
   {
    "duration": 21,
    "start_time": "2022-09-27T12:45:26.462Z"
   },
   {
    "duration": 43,
    "start_time": "2022-09-27T12:45:26.485Z"
   },
   {
    "duration": 5,
    "start_time": "2022-09-27T12:45:26.530Z"
   },
   {
    "duration": 5,
    "start_time": "2022-09-27T12:45:26.537Z"
   },
   {
    "duration": 6,
    "start_time": "2022-09-27T12:45:26.548Z"
   },
   {
    "duration": 25,
    "start_time": "2022-09-27T12:45:26.556Z"
   },
   {
    "duration": 46,
    "start_time": "2022-09-27T12:45:26.583Z"
   },
   {
    "duration": 8,
    "start_time": "2022-09-27T12:45:26.631Z"
   },
   {
    "duration": 47,
    "start_time": "2022-09-27T12:45:26.640Z"
   },
   {
    "duration": 35,
    "start_time": "2022-09-27T12:45:26.688Z"
   },
   {
    "duration": 6,
    "start_time": "2022-09-27T12:45:34.222Z"
   },
   {
    "duration": 7,
    "start_time": "2022-09-27T12:45:35.260Z"
   },
   {
    "duration": 9,
    "start_time": "2022-09-27T12:45:36.509Z"
   },
   {
    "duration": 112,
    "start_time": "2022-09-27T12:46:45.184Z"
   },
   {
    "duration": 12,
    "start_time": "2022-09-27T12:48:05.699Z"
   },
   {
    "duration": 16,
    "start_time": "2022-09-27T12:49:25.549Z"
   },
   {
    "duration": 19,
    "start_time": "2022-09-27T12:51:32.994Z"
   },
   {
    "duration": 14,
    "start_time": "2022-09-27T12:51:44.871Z"
   },
   {
    "duration": 15,
    "start_time": "2022-09-27T13:16:38.886Z"
   },
   {
    "duration": 26,
    "start_time": "2022-09-27T13:18:46.245Z"
   },
   {
    "duration": 22,
    "start_time": "2022-09-27T13:18:59.375Z"
   },
   {
    "duration": 27,
    "start_time": "2022-09-27T13:19:16.346Z"
   },
   {
    "duration": 20,
    "start_time": "2022-09-27T13:30:13.737Z"
   },
   {
    "duration": 24,
    "start_time": "2022-09-27T13:41:18.064Z"
   },
   {
    "duration": 13,
    "start_time": "2022-09-27T13:42:14.930Z"
   },
   {
    "duration": 4,
    "start_time": "2022-09-27T13:42:44.950Z"
   },
   {
    "duration": 4,
    "start_time": "2022-09-27T13:44:33.081Z"
   },
   {
    "duration": 424,
    "start_time": "2022-09-27T13:50:09.486Z"
   },
   {
    "duration": 95,
    "start_time": "2022-09-27T13:50:09.912Z"
   },
   {
    "duration": 16,
    "start_time": "2022-09-27T13:50:10.009Z"
   },
   {
    "duration": 14,
    "start_time": "2022-09-27T13:50:10.028Z"
   },
   {
    "duration": 2104,
    "start_time": "2022-09-27T13:50:10.044Z"
   },
   {
    "duration": 12,
    "start_time": "2022-09-27T13:50:12.150Z"
   },
   {
    "duration": 8,
    "start_time": "2022-09-27T13:50:12.163Z"
   },
   {
    "duration": 8,
    "start_time": "2022-09-27T13:50:12.173Z"
   },
   {
    "duration": 9,
    "start_time": "2022-09-27T13:50:12.182Z"
   },
   {
    "duration": 11,
    "start_time": "2022-09-27T13:50:12.193Z"
   },
   {
    "duration": 35,
    "start_time": "2022-09-27T13:50:12.205Z"
   },
   {
    "duration": 4,
    "start_time": "2022-09-27T13:50:12.242Z"
   },
   {
    "duration": 6,
    "start_time": "2022-09-27T13:50:12.247Z"
   },
   {
    "duration": 17,
    "start_time": "2022-09-27T13:50:12.255Z"
   },
   {
    "duration": 17,
    "start_time": "2022-09-27T13:50:12.274Z"
   },
   {
    "duration": 38,
    "start_time": "2022-09-27T13:50:12.293Z"
   },
   {
    "duration": 6,
    "start_time": "2022-09-27T13:50:12.332Z"
   },
   {
    "duration": 40,
    "start_time": "2022-09-27T13:50:12.340Z"
   },
   {
    "duration": 42,
    "start_time": "2022-09-27T13:50:12.382Z"
   },
   {
    "duration": 3,
    "start_time": "2022-09-27T13:50:12.426Z"
   },
   {
    "duration": 54,
    "start_time": "2022-09-27T13:50:12.431Z"
   },
   {
    "duration": 146,
    "start_time": "2022-09-27T14:00:31.752Z"
   },
   {
    "duration": 76,
    "start_time": "2022-09-27T14:00:54.098Z"
   },
   {
    "duration": 405,
    "start_time": "2022-09-27T14:01:11.695Z"
   },
   {
    "duration": 88,
    "start_time": "2022-09-27T14:01:12.102Z"
   },
   {
    "duration": 14,
    "start_time": "2022-09-27T14:01:12.191Z"
   },
   {
    "duration": 13,
    "start_time": "2022-09-27T14:01:12.207Z"
   },
   {
    "duration": 1942,
    "start_time": "2022-09-27T14:01:12.222Z"
   },
   {
    "duration": 10,
    "start_time": "2022-09-27T14:01:14.166Z"
   },
   {
    "duration": 5,
    "start_time": "2022-09-27T14:01:14.177Z"
   },
   {
    "duration": 6,
    "start_time": "2022-09-27T14:01:14.183Z"
   },
   {
    "duration": 5,
    "start_time": "2022-09-27T14:01:14.191Z"
   },
   {
    "duration": 16,
    "start_time": "2022-09-27T14:01:14.198Z"
   },
   {
    "duration": 37,
    "start_time": "2022-09-27T14:01:14.215Z"
   },
   {
    "duration": 5,
    "start_time": "2022-09-27T14:01:14.253Z"
   },
   {
    "duration": 5,
    "start_time": "2022-09-27T14:01:14.259Z"
   },
   {
    "duration": 5,
    "start_time": "2022-09-27T14:01:14.265Z"
   },
   {
    "duration": 44,
    "start_time": "2022-09-27T14:01:14.272Z"
   },
   {
    "duration": 32,
    "start_time": "2022-09-27T14:01:14.317Z"
   },
   {
    "duration": 7,
    "start_time": "2022-09-27T14:01:14.350Z"
   },
   {
    "duration": 73,
    "start_time": "2022-09-27T14:01:14.358Z"
   },
   {
    "duration": 32,
    "start_time": "2022-09-27T14:01:14.435Z"
   },
   {
    "duration": 5,
    "start_time": "2022-09-27T14:01:14.469Z"
   },
   {
    "duration": 189,
    "start_time": "2022-09-27T14:01:14.476Z"
   },
   {
    "duration": 77,
    "start_time": "2022-09-27T14:01:42.055Z"
   },
   {
    "duration": 77,
    "start_time": "2022-09-27T14:23:02.777Z"
   },
   {
    "duration": 21,
    "start_time": "2022-09-27T14:24:00.588Z"
   },
   {
    "duration": 6,
    "start_time": "2022-09-27T14:37:26.233Z"
   },
   {
    "duration": 5,
    "start_time": "2022-09-27T14:39:06.689Z"
   },
   {
    "duration": 150,
    "start_time": "2022-09-27T14:43:47.527Z"
   },
   {
    "duration": 77,
    "start_time": "2022-09-27T14:44:13.799Z"
   },
   {
    "duration": 89,
    "start_time": "2022-09-27T14:44:53.757Z"
   },
   {
    "duration": 6,
    "start_time": "2022-09-27T14:58:27.299Z"
   },
   {
    "duration": 827,
    "start_time": "2022-09-27T14:58:45.112Z"
   },
   {
    "duration": 5,
    "start_time": "2022-09-27T15:01:39.612Z"
   },
   {
    "duration": 428,
    "start_time": "2022-09-28T08:30:44.446Z"
   },
   {
    "duration": 312,
    "start_time": "2022-09-28T08:30:44.876Z"
   },
   {
    "duration": 19,
    "start_time": "2022-09-28T08:30:45.190Z"
   },
   {
    "duration": 17,
    "start_time": "2022-09-28T08:30:45.211Z"
   },
   {
    "duration": 2736,
    "start_time": "2022-09-28T08:30:45.231Z"
   },
   {
    "duration": 11,
    "start_time": "2022-09-28T08:30:47.969Z"
   },
   {
    "duration": 28,
    "start_time": "2022-09-28T08:30:47.982Z"
   },
   {
    "duration": 20,
    "start_time": "2022-09-28T08:30:48.012Z"
   },
   {
    "duration": 20,
    "start_time": "2022-09-28T08:30:48.034Z"
   },
   {
    "duration": 30,
    "start_time": "2022-09-28T08:30:48.057Z"
   },
   {
    "duration": 69,
    "start_time": "2022-09-28T08:30:48.089Z"
   },
   {
    "duration": 11,
    "start_time": "2022-09-28T08:30:48.160Z"
   },
   {
    "duration": 21,
    "start_time": "2022-09-28T08:30:48.172Z"
   },
   {
    "duration": 36,
    "start_time": "2022-09-28T08:30:48.195Z"
   },
   {
    "duration": 31,
    "start_time": "2022-09-28T08:30:48.234Z"
   },
   {
    "duration": 42,
    "start_time": "2022-09-28T08:30:48.267Z"
   },
   {
    "duration": 17,
    "start_time": "2022-09-28T08:30:48.311Z"
   },
   {
    "duration": 79,
    "start_time": "2022-09-28T08:30:48.331Z"
   },
   {
    "duration": 31,
    "start_time": "2022-09-28T08:30:48.412Z"
   },
   {
    "duration": 5,
    "start_time": "2022-09-28T08:30:48.445Z"
   },
   {
    "duration": 65,
    "start_time": "2022-09-28T08:30:48.452Z"
   },
   {
    "duration": 11,
    "start_time": "2022-09-28T08:30:48.519Z"
   },
   {
    "duration": 79,
    "start_time": "2022-09-28T08:30:48.532Z"
   },
   {
    "duration": 0,
    "start_time": "2022-09-28T08:30:48.613Z"
   },
   {
    "duration": 0,
    "start_time": "2022-09-28T08:30:48.621Z"
   },
   {
    "duration": 44,
    "start_time": "2022-09-28T08:31:21.812Z"
   },
   {
    "duration": 40,
    "start_time": "2022-09-28T08:31:28.483Z"
   },
   {
    "duration": 445,
    "start_time": "2022-09-28T08:31:42.902Z"
   },
   {
    "duration": 98,
    "start_time": "2022-09-28T08:31:43.350Z"
   },
   {
    "duration": 17,
    "start_time": "2022-09-28T08:31:43.450Z"
   },
   {
    "duration": 18,
    "start_time": "2022-09-28T08:31:43.469Z"
   },
   {
    "duration": 2410,
    "start_time": "2022-09-28T08:31:43.489Z"
   },
   {
    "duration": 10,
    "start_time": "2022-09-28T08:31:45.901Z"
   },
   {
    "duration": 28,
    "start_time": "2022-09-28T08:31:45.913Z"
   },
   {
    "duration": 22,
    "start_time": "2022-09-28T08:31:45.943Z"
   },
   {
    "duration": 22,
    "start_time": "2022-09-28T08:31:45.966Z"
   },
   {
    "duration": 26,
    "start_time": "2022-09-28T08:31:45.991Z"
   },
   {
    "duration": 48,
    "start_time": "2022-09-28T08:31:46.019Z"
   },
   {
    "duration": 11,
    "start_time": "2022-09-28T08:31:46.068Z"
   },
   {
    "duration": 23,
    "start_time": "2022-09-28T08:31:46.081Z"
   },
   {
    "duration": 18,
    "start_time": "2022-09-28T08:31:46.106Z"
   },
   {
    "duration": 41,
    "start_time": "2022-09-28T08:31:46.126Z"
   },
   {
    "duration": 54,
    "start_time": "2022-09-28T08:31:46.169Z"
   },
   {
    "duration": 7,
    "start_time": "2022-09-28T08:31:46.225Z"
   },
   {
    "duration": 53,
    "start_time": "2022-09-28T08:31:46.234Z"
   },
   {
    "duration": 42,
    "start_time": "2022-09-28T08:31:46.289Z"
   },
   {
    "duration": 4,
    "start_time": "2022-09-28T08:31:46.333Z"
   },
   {
    "duration": 57,
    "start_time": "2022-09-28T08:31:46.339Z"
   },
   {
    "duration": 29,
    "start_time": "2022-09-28T08:31:46.398Z"
   },
   {
    "duration": 85,
    "start_time": "2022-09-28T08:31:46.430Z"
   },
   {
    "duration": 0,
    "start_time": "2022-09-28T08:31:46.516Z"
   },
   {
    "duration": 0,
    "start_time": "2022-09-28T08:31:46.518Z"
   },
   {
    "duration": 8,
    "start_time": "2022-09-28T08:33:48.155Z"
   },
   {
    "duration": 6,
    "start_time": "2022-09-28T08:35:07.074Z"
   },
   {
    "duration": 7,
    "start_time": "2022-09-28T08:36:46.532Z"
   },
   {
    "duration": 29,
    "start_time": "2022-09-28T08:41:26.247Z"
   },
   {
    "duration": 18,
    "start_time": "2022-09-28T08:44:50.396Z"
   },
   {
    "duration": 15,
    "start_time": "2022-09-28T08:45:14.561Z"
   },
   {
    "duration": 139,
    "start_time": "2022-09-28T09:10:44.377Z"
   },
   {
    "duration": 9,
    "start_time": "2022-09-28T09:11:02.574Z"
   },
   {
    "duration": 10,
    "start_time": "2022-09-28T09:11:19.926Z"
   },
   {
    "duration": 964,
    "start_time": "2022-09-28T09:11:39.003Z"
   },
   {
    "duration": 891,
    "start_time": "2022-09-28T09:17:43.348Z"
   },
   {
    "duration": 14,
    "start_time": "2022-09-28T09:18:02.409Z"
   },
   {
    "duration": 18,
    "start_time": "2022-09-28T09:18:24.304Z"
   },
   {
    "duration": 20,
    "start_time": "2022-09-28T09:18:59.050Z"
   },
   {
    "duration": 27,
    "start_time": "2022-09-28T09:19:07.449Z"
   },
   {
    "duration": 75,
    "start_time": "2022-09-28T09:19:14.110Z"
   },
   {
    "duration": 33,
    "start_time": "2022-09-28T10:07:24.695Z"
   },
   {
    "duration": 59,
    "start_time": "2022-09-28T10:07:44.893Z"
   },
   {
    "duration": 29,
    "start_time": "2022-09-28T10:08:28.491Z"
   },
   {
    "duration": 16,
    "start_time": "2022-09-28T10:09:28.748Z"
   },
   {
    "duration": 5,
    "start_time": "2022-09-28T10:12:51.000Z"
   },
   {
    "duration": 5,
    "start_time": "2022-09-28T10:13:05.660Z"
   },
   {
    "duration": 6,
    "start_time": "2022-09-28T10:13:09.214Z"
   },
   {
    "duration": 3,
    "start_time": "2022-09-28T10:13:31.891Z"
   },
   {
    "duration": 6,
    "start_time": "2022-09-28T10:13:33.546Z"
   },
   {
    "duration": 4,
    "start_time": "2022-09-28T10:17:07.069Z"
   },
   {
    "duration": 5,
    "start_time": "2022-09-28T10:17:07.993Z"
   },
   {
    "duration": 4,
    "start_time": "2022-09-28T10:18:07.184Z"
   },
   {
    "duration": 5,
    "start_time": "2022-09-28T10:18:08.136Z"
   },
   {
    "duration": 4,
    "start_time": "2022-09-28T10:18:38.823Z"
   },
   {
    "duration": 6,
    "start_time": "2022-09-28T10:18:39.432Z"
   },
   {
    "duration": 4,
    "start_time": "2022-09-28T10:20:48.480Z"
   },
   {
    "duration": 6,
    "start_time": "2022-09-28T10:20:49.362Z"
   },
   {
    "duration": 4,
    "start_time": "2022-09-28T10:20:51.652Z"
   },
   {
    "duration": 1051,
    "start_time": "2022-09-28T10:23:57.242Z"
   },
   {
    "duration": 1390,
    "start_time": "2022-09-28T10:30:42.882Z"
   },
   {
    "duration": 1652,
    "start_time": "2022-09-28T10:30:44.352Z"
   },
   {
    "duration": 362,
    "start_time": "2022-09-28T10:31:06.279Z"
   },
   {
    "duration": 98,
    "start_time": "2022-09-28T10:31:06.643Z"
   },
   {
    "duration": 17,
    "start_time": "2022-09-28T10:31:06.743Z"
   },
   {
    "duration": 21,
    "start_time": "2022-09-28T10:31:06.762Z"
   },
   {
    "duration": 2453,
    "start_time": "2022-09-28T10:31:06.786Z"
   },
   {
    "duration": 12,
    "start_time": "2022-09-28T10:31:09.241Z"
   },
   {
    "duration": 6,
    "start_time": "2022-09-28T10:31:09.255Z"
   },
   {
    "duration": 9,
    "start_time": "2022-09-28T10:31:09.263Z"
   },
   {
    "duration": 13,
    "start_time": "2022-09-28T10:31:09.273Z"
   },
   {
    "duration": 8,
    "start_time": "2022-09-28T10:31:09.287Z"
   },
   {
    "duration": 40,
    "start_time": "2022-09-28T10:31:09.296Z"
   },
   {
    "duration": 5,
    "start_time": "2022-09-28T10:31:09.338Z"
   },
   {
    "duration": 12,
    "start_time": "2022-09-28T10:31:09.345Z"
   },
   {
    "duration": 7,
    "start_time": "2022-09-28T10:31:09.360Z"
   },
   {
    "duration": 19,
    "start_time": "2022-09-28T10:31:09.368Z"
   },
   {
    "duration": 53,
    "start_time": "2022-09-28T10:31:09.388Z"
   },
   {
    "duration": 6,
    "start_time": "2022-09-28T10:31:09.443Z"
   },
   {
    "duration": 45,
    "start_time": "2022-09-28T10:31:09.451Z"
   },
   {
    "duration": 49,
    "start_time": "2022-09-28T10:31:09.498Z"
   },
   {
    "duration": 5,
    "start_time": "2022-09-28T10:31:09.549Z"
   },
   {
    "duration": 13,
    "start_time": "2022-09-28T10:31:09.555Z"
   },
   {
    "duration": 6,
    "start_time": "2022-09-28T10:31:09.570Z"
   },
   {
    "duration": 6,
    "start_time": "2022-09-28T10:31:09.578Z"
   },
   {
    "duration": 47,
    "start_time": "2022-09-28T10:31:09.586Z"
   },
   {
    "duration": 0,
    "start_time": "2022-09-28T10:31:09.635Z"
   },
   {
    "duration": 6,
    "start_time": "2022-09-28T10:31:22.274Z"
   },
   {
    "duration": 6,
    "start_time": "2022-09-28T10:31:23.737Z"
   },
   {
    "duration": 7,
    "start_time": "2022-09-28T10:31:25.326Z"
   },
   {
    "duration": 330,
    "start_time": "2022-09-28T10:32:57.741Z"
   },
   {
    "duration": 25,
    "start_time": "2022-09-28T10:33:02.384Z"
   },
   {
    "duration": 318,
    "start_time": "2022-09-28T10:33:48.002Z"
   },
   {
    "duration": 26,
    "start_time": "2022-09-28T10:33:48.729Z"
   },
   {
    "duration": 393,
    "start_time": "2022-09-28T10:35:07.493Z"
   },
   {
    "duration": 35,
    "start_time": "2022-09-28T10:35:09.106Z"
   },
   {
    "duration": 85,
    "start_time": "2022-09-28T10:42:26.404Z"
   },
   {
    "duration": 17,
    "start_time": "2022-09-28T10:42:47.482Z"
   },
   {
    "duration": 20,
    "start_time": "2022-09-28T10:45:47.192Z"
   },
   {
    "duration": 26,
    "start_time": "2022-09-28T10:46:25.361Z"
   },
   {
    "duration": 424,
    "start_time": "2022-09-28T10:46:35.719Z"
   },
   {
    "duration": 105,
    "start_time": "2022-09-28T10:46:36.144Z"
   },
   {
    "duration": 16,
    "start_time": "2022-09-28T10:46:36.251Z"
   },
   {
    "duration": 17,
    "start_time": "2022-09-28T10:46:36.270Z"
   },
   {
    "duration": 2318,
    "start_time": "2022-09-28T10:46:36.289Z"
   },
   {
    "duration": 9,
    "start_time": "2022-09-28T10:46:38.609Z"
   },
   {
    "duration": 7,
    "start_time": "2022-09-28T10:46:38.619Z"
   },
   {
    "duration": 18,
    "start_time": "2022-09-28T10:46:38.627Z"
   },
   {
    "duration": 8,
    "start_time": "2022-09-28T10:46:38.647Z"
   },
   {
    "duration": 8,
    "start_time": "2022-09-28T10:46:38.657Z"
   },
   {
    "duration": 34,
    "start_time": "2022-09-28T10:46:38.666Z"
   },
   {
    "duration": 20,
    "start_time": "2022-09-28T10:46:38.701Z"
   },
   {
    "duration": 5,
    "start_time": "2022-09-28T10:46:38.723Z"
   },
   {
    "duration": 8,
    "start_time": "2022-09-28T10:46:38.730Z"
   },
   {
    "duration": 13,
    "start_time": "2022-09-28T10:46:38.740Z"
   },
   {
    "duration": 31,
    "start_time": "2022-09-28T10:46:38.754Z"
   },
   {
    "duration": 38,
    "start_time": "2022-09-28T10:46:38.786Z"
   },
   {
    "duration": 46,
    "start_time": "2022-09-28T10:46:38.825Z"
   },
   {
    "duration": 53,
    "start_time": "2022-09-28T10:46:38.873Z"
   },
   {
    "duration": 8,
    "start_time": "2022-09-28T10:46:38.928Z"
   },
   {
    "duration": 29,
    "start_time": "2022-09-28T10:46:38.938Z"
   },
   {
    "duration": 12,
    "start_time": "2022-09-28T10:46:38.970Z"
   },
   {
    "duration": 15,
    "start_time": "2022-09-28T10:46:38.984Z"
   },
   {
    "duration": 363,
    "start_time": "2022-09-28T10:46:39.001Z"
   },
   {
    "duration": 81,
    "start_time": "2022-09-28T10:46:39.366Z"
   },
   {
    "duration": 0,
    "start_time": "2022-09-28T10:46:39.449Z"
   },
   {
    "duration": 22,
    "start_time": "2022-09-28T10:50:17.827Z"
   },
   {
    "duration": 373,
    "start_time": "2022-09-28T10:50:30.981Z"
   },
   {
    "duration": 98,
    "start_time": "2022-09-28T10:50:31.356Z"
   },
   {
    "duration": 17,
    "start_time": "2022-09-28T10:50:31.455Z"
   },
   {
    "duration": 15,
    "start_time": "2022-09-28T10:50:31.474Z"
   },
   {
    "duration": 2308,
    "start_time": "2022-09-28T10:50:31.491Z"
   },
   {
    "duration": 9,
    "start_time": "2022-09-28T10:50:33.801Z"
   },
   {
    "duration": 15,
    "start_time": "2022-09-28T10:50:33.812Z"
   },
   {
    "duration": 25,
    "start_time": "2022-09-28T10:50:33.828Z"
   },
   {
    "duration": 32,
    "start_time": "2022-09-28T10:50:33.855Z"
   },
   {
    "duration": 20,
    "start_time": "2022-09-28T10:50:33.890Z"
   },
   {
    "duration": 52,
    "start_time": "2022-09-28T10:50:33.912Z"
   },
   {
    "duration": 5,
    "start_time": "2022-09-28T10:50:33.966Z"
   },
   {
    "duration": 25,
    "start_time": "2022-09-28T10:50:33.973Z"
   },
   {
    "duration": 25,
    "start_time": "2022-09-28T10:50:34.000Z"
   },
   {
    "duration": 28,
    "start_time": "2022-09-28T10:50:34.026Z"
   },
   {
    "duration": 29,
    "start_time": "2022-09-28T10:50:34.055Z"
   },
   {
    "duration": 8,
    "start_time": "2022-09-28T10:50:34.086Z"
   },
   {
    "duration": 69,
    "start_time": "2022-09-28T10:50:34.095Z"
   },
   {
    "duration": 22,
    "start_time": "2022-09-28T10:50:34.166Z"
   },
   {
    "duration": 21,
    "start_time": "2022-09-28T10:50:34.190Z"
   },
   {
    "duration": 30,
    "start_time": "2022-09-28T10:50:34.213Z"
   },
   {
    "duration": 18,
    "start_time": "2022-09-28T10:50:34.245Z"
   },
   {
    "duration": 23,
    "start_time": "2022-09-28T10:50:34.265Z"
   },
   {
    "duration": 331,
    "start_time": "2022-09-28T10:50:34.290Z"
   },
   {
    "duration": 80,
    "start_time": "2022-09-28T10:50:34.623Z"
   },
   {
    "duration": 0,
    "start_time": "2022-09-28T10:50:34.705Z"
   },
   {
    "duration": 18,
    "start_time": "2022-09-28T10:51:03.146Z"
   },
   {
    "duration": 17,
    "start_time": "2022-09-28T10:51:50.851Z"
   },
   {
    "duration": 5,
    "start_time": "2022-09-28T10:55:48.385Z"
   },
   {
    "duration": 8,
    "start_time": "2022-09-28T10:56:07.609Z"
   },
   {
    "duration": 16,
    "start_time": "2022-09-28T10:57:02.202Z"
   },
   {
    "duration": 8,
    "start_time": "2022-09-28T10:57:13.521Z"
   },
   {
    "duration": 98,
    "start_time": "2022-09-28T10:57:35.089Z"
   },
   {
    "duration": 54,
    "start_time": "2022-09-28T10:58:28.798Z"
   },
   {
    "duration": 94,
    "start_time": "2022-09-28T10:59:04.473Z"
   },
   {
    "duration": 18,
    "start_time": "2022-09-28T11:00:41.756Z"
   },
   {
    "duration": 18,
    "start_time": "2022-09-28T11:01:31.093Z"
   },
   {
    "duration": 9,
    "start_time": "2022-09-28T11:01:54.447Z"
   },
   {
    "duration": 14,
    "start_time": "2022-09-28T11:05:25.698Z"
   },
   {
    "duration": 15,
    "start_time": "2022-09-28T11:05:30.421Z"
   },
   {
    "duration": 433,
    "start_time": "2022-09-28T11:05:36.194Z"
   },
   {
    "duration": 100,
    "start_time": "2022-09-28T11:05:36.629Z"
   },
   {
    "duration": 17,
    "start_time": "2022-09-28T11:05:36.731Z"
   },
   {
    "duration": 16,
    "start_time": "2022-09-28T11:05:36.750Z"
   },
   {
    "duration": 2468,
    "start_time": "2022-09-28T11:05:36.767Z"
   },
   {
    "duration": 9,
    "start_time": "2022-09-28T11:05:39.237Z"
   },
   {
    "duration": 10,
    "start_time": "2022-09-28T11:05:39.248Z"
   },
   {
    "duration": 7,
    "start_time": "2022-09-28T11:05:39.260Z"
   },
   {
    "duration": 6,
    "start_time": "2022-09-28T11:05:39.269Z"
   },
   {
    "duration": 8,
    "start_time": "2022-09-28T11:05:39.277Z"
   },
   {
    "duration": 56,
    "start_time": "2022-09-28T11:05:39.286Z"
   },
   {
    "duration": 6,
    "start_time": "2022-09-28T11:05:39.343Z"
   },
   {
    "duration": 13,
    "start_time": "2022-09-28T11:05:39.351Z"
   },
   {
    "duration": 9,
    "start_time": "2022-09-28T11:05:39.366Z"
   },
   {
    "duration": 16,
    "start_time": "2022-09-28T11:05:39.376Z"
   },
   {
    "duration": 34,
    "start_time": "2022-09-28T11:05:39.394Z"
   },
   {
    "duration": 8,
    "start_time": "2022-09-28T11:05:39.430Z"
   },
   {
    "duration": 44,
    "start_time": "2022-09-28T11:05:39.440Z"
   },
   {
    "duration": 50,
    "start_time": "2022-09-28T11:05:39.486Z"
   },
   {
    "duration": 4,
    "start_time": "2022-09-28T11:05:39.538Z"
   },
   {
    "duration": 17,
    "start_time": "2022-09-28T11:05:39.544Z"
   },
   {
    "duration": 7,
    "start_time": "2022-09-28T11:05:39.563Z"
   },
   {
    "duration": 7,
    "start_time": "2022-09-28T11:05:39.572Z"
   },
   {
    "duration": 356,
    "start_time": "2022-09-28T11:05:39.580Z"
   },
   {
    "duration": 10,
    "start_time": "2022-09-28T11:05:39.938Z"
   },
   {
    "duration": 98,
    "start_time": "2022-09-28T11:05:39.951Z"
   },
   {
    "duration": 18,
    "start_time": "2022-09-28T11:06:11.081Z"
   },
   {
    "duration": 8,
    "start_time": "2022-09-28T11:11:06.911Z"
   },
   {
    "duration": 31,
    "start_time": "2022-09-28T11:11:14.476Z"
   },
   {
    "duration": 28,
    "start_time": "2022-09-28T11:11:32.970Z"
   },
   {
    "duration": 8,
    "start_time": "2022-09-28T11:11:47.692Z"
   },
   {
    "duration": 30,
    "start_time": "2022-09-28T11:12:10.378Z"
   },
   {
    "duration": 4,
    "start_time": "2022-09-28T11:12:42.191Z"
   },
   {
    "duration": 19,
    "start_time": "2022-09-28T11:12:52.298Z"
   },
   {
    "duration": 29,
    "start_time": "2022-09-28T11:13:15.629Z"
   },
   {
    "duration": 26,
    "start_time": "2022-09-28T11:14:05.780Z"
   },
   {
    "duration": 9,
    "start_time": "2022-09-28T11:14:12.502Z"
   },
   {
    "duration": 26,
    "start_time": "2022-09-28T11:14:19.390Z"
   },
   {
    "duration": 16,
    "start_time": "2022-09-28T11:14:36.417Z"
   },
   {
    "duration": 12,
    "start_time": "2022-09-28T11:15:09.174Z"
   },
   {
    "duration": 81,
    "start_time": "2022-09-28T11:18:17.314Z"
   },
   {
    "duration": 6,
    "start_time": "2022-09-28T11:23:02.375Z"
   },
   {
    "duration": 11,
    "start_time": "2022-09-28T11:23:24.510Z"
   },
   {
    "duration": 5,
    "start_time": "2022-09-28T11:23:30.668Z"
   },
   {
    "duration": 27,
    "start_time": "2022-09-28T11:23:52.545Z"
   },
   {
    "duration": 94,
    "start_time": "2022-09-28T11:24:30.389Z"
   },
   {
    "duration": 10,
    "start_time": "2022-09-28T11:31:28.230Z"
   },
   {
    "duration": 3,
    "start_time": "2022-09-28T11:32:21.579Z"
   },
   {
    "duration": 670,
    "start_time": "2022-09-28T11:32:27.430Z"
   },
   {
    "duration": 97,
    "start_time": "2022-09-28T11:32:28.102Z"
   },
   {
    "duration": 17,
    "start_time": "2022-09-28T11:32:28.201Z"
   },
   {
    "duration": 25,
    "start_time": "2022-09-28T11:32:28.220Z"
   },
   {
    "duration": 2288,
    "start_time": "2022-09-28T11:32:28.247Z"
   },
   {
    "duration": 10,
    "start_time": "2022-09-28T11:32:30.537Z"
   },
   {
    "duration": 23,
    "start_time": "2022-09-28T11:32:30.548Z"
   },
   {
    "duration": 39,
    "start_time": "2022-09-28T11:32:30.572Z"
   },
   {
    "duration": 36,
    "start_time": "2022-09-28T11:32:30.612Z"
   },
   {
    "duration": 32,
    "start_time": "2022-09-28T11:32:30.651Z"
   },
   {
    "duration": 45,
    "start_time": "2022-09-28T11:32:30.685Z"
   },
   {
    "duration": 7,
    "start_time": "2022-09-28T11:32:30.732Z"
   },
   {
    "duration": 20,
    "start_time": "2022-09-28T11:32:30.740Z"
   },
   {
    "duration": 16,
    "start_time": "2022-09-28T11:32:30.761Z"
   },
   {
    "duration": 35,
    "start_time": "2022-09-28T11:32:30.779Z"
   },
   {
    "duration": 60,
    "start_time": "2022-09-28T11:32:30.816Z"
   },
   {
    "duration": 20,
    "start_time": "2022-09-28T11:32:30.879Z"
   },
   {
    "duration": 55,
    "start_time": "2022-09-28T11:32:30.901Z"
   },
   {
    "duration": 22,
    "start_time": "2022-09-28T11:32:30.959Z"
   },
   {
    "duration": 5,
    "start_time": "2022-09-28T11:32:30.983Z"
   },
   {
    "duration": 15,
    "start_time": "2022-09-28T11:32:30.989Z"
   },
   {
    "duration": 5,
    "start_time": "2022-09-28T11:32:31.022Z"
   },
   {
    "duration": 12,
    "start_time": "2022-09-28T11:32:31.029Z"
   },
   {
    "duration": 351,
    "start_time": "2022-09-28T11:32:31.042Z"
   },
   {
    "duration": 6,
    "start_time": "2022-09-28T11:32:31.395Z"
   },
   {
    "duration": 38,
    "start_time": "2022-09-28T11:32:31.402Z"
   },
   {
    "duration": 96,
    "start_time": "2022-09-28T11:32:31.442Z"
   },
   {
    "duration": 198,
    "start_time": "2022-09-28T11:32:31.541Z"
   },
   {
    "duration": 14,
    "start_time": "2022-09-28T11:33:08.331Z"
   },
   {
    "duration": 322,
    "start_time": "2022-09-28T11:35:43.032Z"
   },
   {
    "duration": 233,
    "start_time": "2022-09-28T11:38:21.615Z"
   },
   {
    "duration": 183,
    "start_time": "2022-09-28T11:40:04.566Z"
   },
   {
    "duration": 247,
    "start_time": "2022-09-28T11:40:19.387Z"
   },
   {
    "duration": 230,
    "start_time": "2022-09-28T11:40:28.220Z"
   },
   {
    "duration": 198,
    "start_time": "2022-09-28T12:17:44.934Z"
   },
   {
    "duration": 77,
    "start_time": "2022-09-28T12:18:51.096Z"
   },
   {
    "duration": 162,
    "start_time": "2022-09-28T12:19:01.744Z"
   },
   {
    "duration": 178,
    "start_time": "2022-09-28T12:20:05.991Z"
   },
   {
    "duration": 271,
    "start_time": "2022-09-28T12:22:34.501Z"
   },
   {
    "duration": 166,
    "start_time": "2022-09-28T12:24:51.710Z"
   },
   {
    "duration": 149,
    "start_time": "2022-09-28T12:26:59.287Z"
   },
   {
    "duration": 168,
    "start_time": "2022-09-28T12:29:36.801Z"
   },
   {
    "duration": 159,
    "start_time": "2022-09-28T12:31:08.218Z"
   },
   {
    "duration": 137,
    "start_time": "2022-09-28T12:33:09.192Z"
   },
   {
    "duration": 196,
    "start_time": "2022-09-28T12:34:45.268Z"
   },
   {
    "duration": 172,
    "start_time": "2022-09-28T12:36:13.557Z"
   },
   {
    "duration": 154,
    "start_time": "2022-09-28T12:37:24.199Z"
   },
   {
    "duration": 733,
    "start_time": "2022-09-28T12:47:27.801Z"
   },
   {
    "duration": 99,
    "start_time": "2022-09-28T12:47:28.536Z"
   },
   {
    "duration": 18,
    "start_time": "2022-09-28T12:47:28.637Z"
   },
   {
    "duration": 16,
    "start_time": "2022-09-28T12:47:28.657Z"
   },
   {
    "duration": 2404,
    "start_time": "2022-09-28T12:47:28.675Z"
   },
   {
    "duration": 41,
    "start_time": "2022-09-28T12:47:31.081Z"
   },
   {
    "duration": 6,
    "start_time": "2022-09-28T12:47:31.124Z"
   },
   {
    "duration": 17,
    "start_time": "2022-09-28T12:47:31.132Z"
   },
   {
    "duration": 14,
    "start_time": "2022-09-28T12:47:31.150Z"
   },
   {
    "duration": 16,
    "start_time": "2022-09-28T12:47:31.167Z"
   },
   {
    "duration": 50,
    "start_time": "2022-09-28T12:47:31.185Z"
   },
   {
    "duration": 7,
    "start_time": "2022-09-28T12:47:31.237Z"
   },
   {
    "duration": 50,
    "start_time": "2022-09-28T12:47:31.246Z"
   },
   {
    "duration": 7,
    "start_time": "2022-09-28T12:47:31.298Z"
   },
   {
    "duration": 70,
    "start_time": "2022-09-28T12:47:31.307Z"
   },
   {
    "duration": 21,
    "start_time": "2022-09-28T12:47:31.379Z"
   },
   {
    "duration": 31,
    "start_time": "2022-09-28T12:47:31.402Z"
   },
   {
    "duration": 38,
    "start_time": "2022-09-28T12:47:31.434Z"
   },
   {
    "duration": 53,
    "start_time": "2022-09-28T12:47:31.474Z"
   },
   {
    "duration": 36,
    "start_time": "2022-09-28T12:47:31.529Z"
   },
   {
    "duration": 370,
    "start_time": "2022-09-28T12:47:31.566Z"
   },
   {
    "duration": 6,
    "start_time": "2022-09-28T12:47:31.937Z"
   },
   {
    "duration": 58,
    "start_time": "2022-09-28T12:47:31.944Z"
   },
   {
    "duration": 110,
    "start_time": "2022-09-28T12:47:32.004Z"
   },
   {
    "duration": 11,
    "start_time": "2022-09-28T12:47:32.116Z"
   },
   {
    "duration": 216,
    "start_time": "2022-09-28T12:47:32.129Z"
   },
   {
    "duration": 251,
    "start_time": "2022-09-28T12:47:32.348Z"
   },
   {
    "duration": 323,
    "start_time": "2022-09-28T12:47:32.604Z"
   },
   {
    "duration": 196,
    "start_time": "2022-09-28T12:47:32.929Z"
   },
   {
    "duration": 157,
    "start_time": "2022-09-28T12:47:33.127Z"
   },
   {
    "duration": 176,
    "start_time": "2022-09-28T12:47:33.285Z"
   },
   {
    "duration": 170,
    "start_time": "2022-09-28T12:47:33.463Z"
   },
   {
    "duration": 156,
    "start_time": "2022-09-28T12:47:33.635Z"
   },
   {
    "duration": 186,
    "start_time": "2022-09-28T12:47:33.793Z"
   },
   {
    "duration": 165,
    "start_time": "2022-09-28T12:47:33.980Z"
   },
   {
    "duration": 145,
    "start_time": "2022-09-28T12:47:34.147Z"
   },
   {
    "duration": 186,
    "start_time": "2022-09-28T12:47:34.294Z"
   },
   {
    "duration": 278,
    "start_time": "2022-09-28T12:47:34.483Z"
   },
   {
    "duration": 160,
    "start_time": "2022-09-28T12:47:34.764Z"
   },
   {
    "duration": 276,
    "start_time": "2022-09-28T12:48:53.461Z"
   },
   {
    "duration": 201,
    "start_time": "2022-09-28T12:56:47.942Z"
   },
   {
    "duration": 236,
    "start_time": "2022-09-28T12:56:55.239Z"
   },
   {
    "duration": 219,
    "start_time": "2022-09-28T12:57:10.520Z"
   },
   {
    "duration": 169,
    "start_time": "2022-09-28T12:57:41.864Z"
   },
   {
    "duration": 178,
    "start_time": "2022-09-28T12:58:25.090Z"
   },
   {
    "duration": 265,
    "start_time": "2022-09-28T13:02:02.711Z"
   },
   {
    "duration": 148,
    "start_time": "2022-09-28T13:03:55.401Z"
   },
   {
    "duration": 144,
    "start_time": "2022-09-28T13:05:15.459Z"
   },
   {
    "duration": 134,
    "start_time": "2022-09-28T13:06:44.591Z"
   },
   {
    "duration": 151,
    "start_time": "2022-09-28T13:07:43.715Z"
   },
   {
    "duration": 158,
    "start_time": "2022-09-28T13:09:32.819Z"
   },
   {
    "duration": 151,
    "start_time": "2022-09-28T13:14:28.591Z"
   },
   {
    "duration": 172,
    "start_time": "2022-09-28T13:15:46.163Z"
   },
   {
    "duration": 187,
    "start_time": "2022-09-28T13:24:20.295Z"
   },
   {
    "duration": 686,
    "start_time": "2022-09-28T13:25:40.291Z"
   },
   {
    "duration": 101,
    "start_time": "2022-09-28T13:25:40.980Z"
   },
   {
    "duration": 19,
    "start_time": "2022-09-28T13:25:41.082Z"
   },
   {
    "duration": 30,
    "start_time": "2022-09-28T13:25:41.104Z"
   },
   {
    "duration": 2291,
    "start_time": "2022-09-28T13:25:41.136Z"
   },
   {
    "duration": 12,
    "start_time": "2022-09-28T13:25:43.429Z"
   },
   {
    "duration": 15,
    "start_time": "2022-09-28T13:25:43.442Z"
   },
   {
    "duration": 6,
    "start_time": "2022-09-28T13:25:43.459Z"
   },
   {
    "duration": 18,
    "start_time": "2022-09-28T13:25:43.467Z"
   },
   {
    "duration": 11,
    "start_time": "2022-09-28T13:25:43.488Z"
   },
   {
    "duration": 40,
    "start_time": "2022-09-28T13:25:43.501Z"
   },
   {
    "duration": 9,
    "start_time": "2022-09-28T13:25:43.543Z"
   },
   {
    "duration": 20,
    "start_time": "2022-09-28T13:25:43.553Z"
   },
   {
    "duration": 6,
    "start_time": "2022-09-28T13:25:43.575Z"
   },
   {
    "duration": 73,
    "start_time": "2022-09-28T13:25:43.583Z"
   },
   {
    "duration": 21,
    "start_time": "2022-09-28T13:25:43.658Z"
   },
   {
    "duration": 5,
    "start_time": "2022-09-28T13:25:43.680Z"
   },
   {
    "duration": 16,
    "start_time": "2022-09-28T13:25:43.687Z"
   },
   {
    "duration": 25,
    "start_time": "2022-09-28T13:25:43.704Z"
   },
   {
    "duration": 6,
    "start_time": "2022-09-28T13:25:43.731Z"
   },
   {
    "duration": 345,
    "start_time": "2022-09-28T13:25:43.738Z"
   },
   {
    "duration": 6,
    "start_time": "2022-09-28T13:25:44.085Z"
   },
   {
    "duration": 35,
    "start_time": "2022-09-28T13:25:44.093Z"
   },
   {
    "duration": 94,
    "start_time": "2022-09-28T13:25:44.130Z"
   },
   {
    "duration": 10,
    "start_time": "2022-09-28T13:25:44.226Z"
   },
   {
    "duration": 202,
    "start_time": "2022-09-28T13:25:44.238Z"
   },
   {
    "duration": 239,
    "start_time": "2022-09-28T13:25:44.442Z"
   },
   {
    "duration": 317,
    "start_time": "2022-09-28T13:25:44.684Z"
   },
   {
    "duration": 186,
    "start_time": "2022-09-28T13:25:45.003Z"
   },
   {
    "duration": 96,
    "start_time": "2022-09-28T13:25:45.191Z"
   },
   {
    "duration": 0,
    "start_time": "2022-09-28T13:25:45.289Z"
   },
   {
    "duration": 0,
    "start_time": "2022-09-28T13:25:45.290Z"
   },
   {
    "duration": 0,
    "start_time": "2022-09-28T13:25:45.291Z"
   },
   {
    "duration": 0,
    "start_time": "2022-09-28T13:25:45.292Z"
   },
   {
    "duration": 0,
    "start_time": "2022-09-28T13:25:45.293Z"
   },
   {
    "duration": 0,
    "start_time": "2022-09-28T13:25:45.293Z"
   },
   {
    "duration": 0,
    "start_time": "2022-09-28T13:25:45.294Z"
   },
   {
    "duration": 0,
    "start_time": "2022-09-28T13:25:45.295Z"
   },
   {
    "duration": 0,
    "start_time": "2022-09-28T13:25:45.296Z"
   },
   {
    "duration": 0,
    "start_time": "2022-09-28T13:25:45.297Z"
   },
   {
    "duration": 0,
    "start_time": "2022-09-28T13:25:45.298Z"
   },
   {
    "duration": 153,
    "start_time": "2022-09-28T13:26:22.920Z"
   },
   {
    "duration": 152,
    "start_time": "2022-09-28T13:26:30.147Z"
   },
   {
    "duration": 146,
    "start_time": "2022-09-28T13:26:34.988Z"
   },
   {
    "duration": 152,
    "start_time": "2022-09-28T13:26:39.742Z"
   },
   {
    "duration": 140,
    "start_time": "2022-09-28T13:26:47.729Z"
   },
   {
    "duration": 56,
    "start_time": "2022-09-28T13:26:50.742Z"
   },
   {
    "duration": 151,
    "start_time": "2022-09-28T13:27:05.525Z"
   },
   {
    "duration": 140,
    "start_time": "2022-09-28T13:27:10.794Z"
   },
   {
    "duration": 180,
    "start_time": "2022-09-28T13:27:16.318Z"
   },
   {
    "duration": 259,
    "start_time": "2022-09-28T13:27:23.711Z"
   },
   {
    "duration": 150,
    "start_time": "2022-09-28T13:27:43.900Z"
   },
   {
    "duration": 230,
    "start_time": "2022-09-28T13:32:17.553Z"
   },
   {
    "duration": 181,
    "start_time": "2022-09-28T13:32:26.305Z"
   },
   {
    "duration": 660,
    "start_time": "2022-09-28T13:32:34.497Z"
   },
   {
    "duration": 96,
    "start_time": "2022-09-28T13:32:35.159Z"
   },
   {
    "duration": 17,
    "start_time": "2022-09-28T13:32:35.257Z"
   },
   {
    "duration": 23,
    "start_time": "2022-09-28T13:32:35.276Z"
   },
   {
    "duration": 2062,
    "start_time": "2022-09-28T13:32:35.301Z"
   },
   {
    "duration": 9,
    "start_time": "2022-09-28T13:32:37.365Z"
   },
   {
    "duration": 9,
    "start_time": "2022-09-28T13:32:37.375Z"
   },
   {
    "duration": 5,
    "start_time": "2022-09-28T13:32:37.386Z"
   },
   {
    "duration": 12,
    "start_time": "2022-09-28T13:32:37.392Z"
   },
   {
    "duration": 9,
    "start_time": "2022-09-28T13:32:37.407Z"
   },
   {
    "duration": 30,
    "start_time": "2022-09-28T13:32:37.417Z"
   },
   {
    "duration": 7,
    "start_time": "2022-09-28T13:32:37.449Z"
   },
   {
    "duration": 22,
    "start_time": "2022-09-28T13:32:37.457Z"
   },
   {
    "duration": 13,
    "start_time": "2022-09-28T13:32:37.481Z"
   },
   {
    "duration": 53,
    "start_time": "2022-09-28T13:32:37.496Z"
   },
   {
    "duration": 21,
    "start_time": "2022-09-28T13:32:37.551Z"
   },
   {
    "duration": 8,
    "start_time": "2022-09-28T13:32:37.574Z"
   },
   {
    "duration": 13,
    "start_time": "2022-09-28T13:32:37.583Z"
   },
   {
    "duration": 22,
    "start_time": "2022-09-28T13:32:37.598Z"
   },
   {
    "duration": 6,
    "start_time": "2022-09-28T13:32:37.622Z"
   },
   {
    "duration": 382,
    "start_time": "2022-09-28T13:32:37.630Z"
   },
   {
    "duration": 10,
    "start_time": "2022-09-28T13:32:38.013Z"
   },
   {
    "duration": 38,
    "start_time": "2022-09-28T13:32:38.025Z"
   },
   {
    "duration": 96,
    "start_time": "2022-09-28T13:32:38.065Z"
   },
   {
    "duration": 180,
    "start_time": "2022-09-28T13:32:38.163Z"
   },
   {
    "duration": 239,
    "start_time": "2022-09-28T13:32:38.345Z"
   },
   {
    "duration": 308,
    "start_time": "2022-09-28T13:32:38.586Z"
   },
   {
    "duration": 239,
    "start_time": "2022-09-28T13:32:38.898Z"
   },
   {
    "duration": 153,
    "start_time": "2022-09-28T13:32:39.140Z"
   },
   {
    "duration": 168,
    "start_time": "2022-09-28T13:32:39.295Z"
   },
   {
    "duration": 164,
    "start_time": "2022-09-28T13:32:39.465Z"
   },
   {
    "duration": 154,
    "start_time": "2022-09-28T13:32:39.631Z"
   },
   {
    "duration": 157,
    "start_time": "2022-09-28T13:32:39.787Z"
   },
   {
    "duration": 155,
    "start_time": "2022-09-28T13:32:39.946Z"
   },
   {
    "duration": 149,
    "start_time": "2022-09-28T13:32:40.103Z"
   },
   {
    "duration": 194,
    "start_time": "2022-09-28T13:32:40.254Z"
   },
   {
    "duration": 285,
    "start_time": "2022-09-28T13:32:40.449Z"
   },
   {
    "duration": 163,
    "start_time": "2022-09-28T13:32:40.737Z"
   },
   {
    "duration": 818,
    "start_time": "2022-09-29T06:19:05.955Z"
   },
   {
    "duration": 312,
    "start_time": "2022-09-29T06:19:06.776Z"
   },
   {
    "duration": 17,
    "start_time": "2022-09-29T06:19:07.089Z"
   },
   {
    "duration": 20,
    "start_time": "2022-09-29T06:19:07.108Z"
   },
   {
    "duration": 1950,
    "start_time": "2022-09-29T06:19:07.130Z"
   },
   {
    "duration": 10,
    "start_time": "2022-09-29T06:19:09.083Z"
   },
   {
    "duration": 9,
    "start_time": "2022-09-29T06:19:09.095Z"
   },
   {
    "duration": 20,
    "start_time": "2022-09-29T06:19:09.105Z"
   },
   {
    "duration": 56,
    "start_time": "2022-09-29T06:19:09.126Z"
   },
   {
    "duration": 42,
    "start_time": "2022-09-29T06:19:09.184Z"
   },
   {
    "duration": 29,
    "start_time": "2022-09-29T06:19:09.228Z"
   },
   {
    "duration": 8,
    "start_time": "2022-09-29T06:19:09.259Z"
   },
   {
    "duration": 16,
    "start_time": "2022-09-29T06:19:09.268Z"
   },
   {
    "duration": 8,
    "start_time": "2022-09-29T06:19:09.286Z"
   },
   {
    "duration": 41,
    "start_time": "2022-09-29T06:19:09.296Z"
   },
   {
    "duration": 44,
    "start_time": "2022-09-29T06:19:09.339Z"
   },
   {
    "duration": 4,
    "start_time": "2022-09-29T06:19:09.384Z"
   },
   {
    "duration": 30,
    "start_time": "2022-09-29T06:19:09.390Z"
   },
   {
    "duration": 8,
    "start_time": "2022-09-29T06:19:09.422Z"
   },
   {
    "duration": 20,
    "start_time": "2022-09-29T06:19:09.432Z"
   },
   {
    "duration": 324,
    "start_time": "2022-09-29T06:19:09.454Z"
   },
   {
    "duration": 6,
    "start_time": "2022-09-29T06:19:09.780Z"
   },
   {
    "duration": 32,
    "start_time": "2022-09-29T06:19:09.787Z"
   },
   {
    "duration": 116,
    "start_time": "2022-09-29T06:19:09.821Z"
   },
   {
    "duration": 178,
    "start_time": "2022-09-29T06:19:09.940Z"
   },
   {
    "duration": 224,
    "start_time": "2022-09-29T06:19:10.120Z"
   },
   {
    "duration": 291,
    "start_time": "2022-09-29T06:19:10.346Z"
   },
   {
    "duration": 209,
    "start_time": "2022-09-29T06:19:10.641Z"
   },
   {
    "duration": 150,
    "start_time": "2022-09-29T06:19:10.852Z"
   },
   {
    "duration": 161,
    "start_time": "2022-09-29T06:19:11.004Z"
   },
   {
    "duration": 150,
    "start_time": "2022-09-29T06:19:11.167Z"
   },
   {
    "duration": 138,
    "start_time": "2022-09-29T06:19:11.319Z"
   },
   {
    "duration": 144,
    "start_time": "2022-09-29T06:19:11.458Z"
   },
   {
    "duration": 169,
    "start_time": "2022-09-29T06:19:11.604Z"
   },
   {
    "duration": 138,
    "start_time": "2022-09-29T06:19:11.776Z"
   },
   {
    "duration": 192,
    "start_time": "2022-09-29T06:19:11.916Z"
   },
   {
    "duration": 248,
    "start_time": "2022-09-29T06:19:12.110Z"
   },
   {
    "duration": 142,
    "start_time": "2022-09-29T06:19:12.360Z"
   },
   {
    "duration": 14,
    "start_time": "2022-09-29T06:25:28.226Z"
   },
   {
    "duration": 16,
    "start_time": "2022-09-29T06:26:16.600Z"
   },
   {
    "duration": 14,
    "start_time": "2022-09-29T06:26:30.742Z"
   },
   {
    "duration": 159,
    "start_time": "2022-09-29T06:26:55.336Z"
   },
   {
    "duration": 143,
    "start_time": "2022-09-29T06:27:05.618Z"
   },
   {
    "duration": 143,
    "start_time": "2022-09-29T06:27:15.583Z"
   },
   {
    "duration": 155,
    "start_time": "2022-09-29T06:31:21.232Z"
   },
   {
    "duration": 67,
    "start_time": "2022-09-29T06:32:03.092Z"
   },
   {
    "duration": 156,
    "start_time": "2022-09-29T06:32:22.622Z"
   },
   {
    "duration": 13,
    "start_time": "2022-09-29T06:33:44.142Z"
   },
   {
    "duration": 19,
    "start_time": "2022-09-29T06:51:31.254Z"
   },
   {
    "duration": 15,
    "start_time": "2022-09-29T06:51:52.232Z"
   },
   {
    "duration": 15,
    "start_time": "2022-09-29T06:51:58.394Z"
   },
   {
    "duration": 207,
    "start_time": "2022-09-29T06:54:05.280Z"
   },
   {
    "duration": 148,
    "start_time": "2022-09-29T06:54:28.982Z"
   },
   {
    "duration": 149,
    "start_time": "2022-09-29T06:55:00.219Z"
   },
   {
    "duration": 21,
    "start_time": "2022-09-29T07:00:02.279Z"
   },
   {
    "duration": 15,
    "start_time": "2022-09-29T07:00:52.309Z"
   },
   {
    "duration": 141,
    "start_time": "2022-09-29T07:01:13.330Z"
   },
   {
    "duration": 248,
    "start_time": "2022-09-29T07:01:30.846Z"
   },
   {
    "duration": 16,
    "start_time": "2022-09-29T07:04:14.440Z"
   },
   {
    "duration": 12,
    "start_time": "2022-09-29T07:04:50.012Z"
   },
   {
    "duration": 15,
    "start_time": "2022-09-29T07:05:17.231Z"
   },
   {
    "duration": 16,
    "start_time": "2022-09-29T07:05:48.276Z"
   },
   {
    "duration": 141,
    "start_time": "2022-09-29T07:06:54.683Z"
   },
   {
    "duration": 139,
    "start_time": "2022-09-29T07:09:18.514Z"
   },
   {
    "duration": 17,
    "start_time": "2022-09-29T07:10:55.279Z"
   },
   {
    "duration": 4,
    "start_time": "2022-09-29T07:12:16.892Z"
   },
   {
    "duration": 16,
    "start_time": "2022-09-29T07:12:19.118Z"
   },
   {
    "duration": 15,
    "start_time": "2022-09-29T07:12:28.257Z"
   },
   {
    "duration": 140,
    "start_time": "2022-09-29T07:12:30.145Z"
   },
   {
    "duration": 15,
    "start_time": "2022-09-29T07:12:34.335Z"
   },
   {
    "duration": 15,
    "start_time": "2022-09-29T07:12:37.332Z"
   },
   {
    "duration": 133,
    "start_time": "2022-09-29T07:12:38.369Z"
   },
   {
    "duration": 19,
    "start_time": "2022-09-29T07:12:42.976Z"
   },
   {
    "duration": 15,
    "start_time": "2022-09-29T07:13:14.504Z"
   },
   {
    "duration": 133,
    "start_time": "2022-09-29T07:13:40.087Z"
   },
   {
    "duration": 14,
    "start_time": "2022-09-29T07:15:58.729Z"
   },
   {
    "duration": 16,
    "start_time": "2022-09-29T07:17:00.570Z"
   },
   {
    "duration": 14,
    "start_time": "2022-09-29T07:17:32.655Z"
   },
   {
    "duration": 136,
    "start_time": "2022-09-29T07:26:10.882Z"
   },
   {
    "duration": 12,
    "start_time": "2022-09-29T07:33:28.780Z"
   },
   {
    "duration": 15,
    "start_time": "2022-09-29T07:33:30.856Z"
   },
   {
    "duration": 153,
    "start_time": "2022-09-29T07:33:34.525Z"
   },
   {
    "duration": 13,
    "start_time": "2022-09-29T07:34:42.469Z"
   },
   {
    "duration": 15,
    "start_time": "2022-09-29T07:34:45.933Z"
   },
   {
    "duration": 126,
    "start_time": "2022-09-29T07:34:49.280Z"
   },
   {
    "duration": 12,
    "start_time": "2022-09-29T07:36:36.882Z"
   },
   {
    "duration": 15,
    "start_time": "2022-09-29T07:36:38.209Z"
   },
   {
    "duration": 127,
    "start_time": "2022-09-29T07:36:39.347Z"
   },
   {
    "duration": 616,
    "start_time": "2022-09-29T07:40:26.265Z"
   },
   {
    "duration": 91,
    "start_time": "2022-09-29T07:40:26.882Z"
   },
   {
    "duration": 19,
    "start_time": "2022-09-29T07:40:26.975Z"
   },
   {
    "duration": 16,
    "start_time": "2022-09-29T07:40:26.997Z"
   },
   {
    "duration": 1930,
    "start_time": "2022-09-29T07:40:27.015Z"
   },
   {
    "duration": 12,
    "start_time": "2022-09-29T07:40:28.947Z"
   },
   {
    "duration": 9,
    "start_time": "2022-09-29T07:40:28.961Z"
   },
   {
    "duration": 7,
    "start_time": "2022-09-29T07:40:28.971Z"
   },
   {
    "duration": 5,
    "start_time": "2022-09-29T07:40:28.980Z"
   },
   {
    "duration": 8,
    "start_time": "2022-09-29T07:40:28.989Z"
   },
   {
    "duration": 28,
    "start_time": "2022-09-29T07:40:28.999Z"
   },
   {
    "duration": 7,
    "start_time": "2022-09-29T07:40:29.028Z"
   },
   {
    "duration": 13,
    "start_time": "2022-09-29T07:40:29.036Z"
   },
   {
    "duration": 8,
    "start_time": "2022-09-29T07:40:29.076Z"
   },
   {
    "duration": 37,
    "start_time": "2022-09-29T07:40:29.085Z"
   },
   {
    "duration": 19,
    "start_time": "2022-09-29T07:40:29.124Z"
   },
   {
    "duration": 33,
    "start_time": "2022-09-29T07:40:29.145Z"
   },
   {
    "duration": 8,
    "start_time": "2022-09-29T07:40:29.180Z"
   },
   {
    "duration": 6,
    "start_time": "2022-09-29T07:40:29.189Z"
   },
   {
    "duration": 6,
    "start_time": "2022-09-29T07:40:29.196Z"
   },
   {
    "duration": 314,
    "start_time": "2022-09-29T07:40:29.204Z"
   },
   {
    "duration": 5,
    "start_time": "2022-09-29T07:40:29.520Z"
   },
   {
    "duration": 25,
    "start_time": "2022-09-29T07:40:29.526Z"
   },
   {
    "duration": 87,
    "start_time": "2022-09-29T07:40:29.553Z"
   },
   {
    "duration": 167,
    "start_time": "2022-09-29T07:40:29.642Z"
   },
   {
    "duration": 203,
    "start_time": "2022-09-29T07:40:29.811Z"
   },
   {
    "duration": 268,
    "start_time": "2022-09-29T07:40:30.017Z"
   },
   {
    "duration": 180,
    "start_time": "2022-09-29T07:40:30.290Z"
   },
   {
    "duration": 142,
    "start_time": "2022-09-29T07:40:30.477Z"
   },
   {
    "duration": 140,
    "start_time": "2022-09-29T07:40:30.621Z"
   },
   {
    "duration": 140,
    "start_time": "2022-09-29T07:40:30.763Z"
   },
   {
    "duration": 138,
    "start_time": "2022-09-29T07:40:30.905Z"
   },
   {
    "duration": 141,
    "start_time": "2022-09-29T07:40:31.045Z"
   },
   {
    "duration": 144,
    "start_time": "2022-09-29T07:40:31.188Z"
   },
   {
    "duration": 130,
    "start_time": "2022-09-29T07:40:31.334Z"
   },
   {
    "duration": 150,
    "start_time": "2022-09-29T07:40:31.466Z"
   },
   {
    "duration": 228,
    "start_time": "2022-09-29T07:40:31.618Z"
   },
   {
    "duration": 146,
    "start_time": "2022-09-29T07:40:31.848Z"
   },
   {
    "duration": 14,
    "start_time": "2022-09-29T07:40:31.996Z"
   },
   {
    "duration": 151,
    "start_time": "2022-09-29T07:40:32.011Z"
   },
   {
    "duration": 21,
    "start_time": "2022-09-29T07:40:32.163Z"
   },
   {
    "duration": 21,
    "start_time": "2022-09-29T07:40:32.186Z"
   },
   {
    "duration": 22,
    "start_time": "2022-09-29T07:40:32.209Z"
   },
   {
    "duration": 146,
    "start_time": "2022-09-29T07:40:32.233Z"
   },
   {
    "duration": 4,
    "start_time": "2022-09-29T07:40:32.381Z"
   },
   {
    "duration": 31,
    "start_time": "2022-09-29T07:40:32.386Z"
   },
   {
    "duration": 23,
    "start_time": "2022-09-29T07:40:32.418Z"
   },
   {
    "duration": 161,
    "start_time": "2022-09-29T07:40:32.443Z"
   },
   {
    "duration": 15,
    "start_time": "2022-09-29T07:40:32.606Z"
   },
   {
    "duration": 15,
    "start_time": "2022-09-29T07:40:32.622Z"
   },
   {
    "duration": 152,
    "start_time": "2022-09-29T07:40:32.639Z"
   },
   {
    "duration": 13,
    "start_time": "2022-09-29T07:40:32.793Z"
   },
   {
    "duration": 12,
    "start_time": "2022-09-29T07:40:32.807Z"
   },
   {
    "duration": 142,
    "start_time": "2022-09-29T07:40:32.821Z"
   },
   {
    "duration": 21,
    "start_time": "2022-09-29T07:40:32.965Z"
   },
   {
    "duration": 11,
    "start_time": "2022-09-29T07:40:32.988Z"
   },
   {
    "duration": 146,
    "start_time": "2022-09-29T07:40:33.001Z"
   },
   {
    "duration": 11,
    "start_time": "2022-09-29T07:40:33.149Z"
   },
   {
    "duration": 24,
    "start_time": "2022-09-29T07:40:33.162Z"
   },
   {
    "duration": 139,
    "start_time": "2022-09-29T07:40:33.187Z"
   },
   {
    "duration": 12,
    "start_time": "2022-09-29T07:40:33.328Z"
   },
   {
    "duration": 18,
    "start_time": "2022-09-29T07:40:33.341Z"
   },
   {
    "duration": 143,
    "start_time": "2022-09-29T07:40:33.361Z"
   },
   {
    "duration": 14,
    "start_time": "2022-09-29T07:40:33.506Z"
   },
   {
    "duration": 15,
    "start_time": "2022-09-29T07:40:33.521Z"
   },
   {
    "duration": 145,
    "start_time": "2022-09-29T07:40:33.537Z"
   },
   {
    "duration": 20,
    "start_time": "2022-09-29T08:02:28.937Z"
   },
   {
    "duration": 28,
    "start_time": "2022-09-29T08:04:49.630Z"
   },
   {
    "duration": 29,
    "start_time": "2022-09-29T08:06:18.150Z"
   },
   {
    "duration": 25,
    "start_time": "2022-09-29T08:06:26.658Z"
   },
   {
    "duration": 12,
    "start_time": "2022-09-29T08:07:07.078Z"
   },
   {
    "duration": 6,
    "start_time": "2022-09-29T08:07:40.072Z"
   },
   {
    "duration": 8,
    "start_time": "2022-09-29T08:08:29.570Z"
   },
   {
    "duration": 8,
    "start_time": "2022-09-29T08:09:53.734Z"
   },
   {
    "duration": 652,
    "start_time": "2022-09-29T08:14:35.457Z"
   },
   {
    "duration": 90,
    "start_time": "2022-09-29T08:14:36.111Z"
   },
   {
    "duration": 15,
    "start_time": "2022-09-29T08:14:36.203Z"
   },
   {
    "duration": 16,
    "start_time": "2022-09-29T08:14:36.220Z"
   },
   {
    "duration": 1926,
    "start_time": "2022-09-29T08:14:36.238Z"
   },
   {
    "duration": 9,
    "start_time": "2022-09-29T08:14:38.166Z"
   },
   {
    "duration": 6,
    "start_time": "2022-09-29T08:14:38.176Z"
   },
   {
    "duration": 5,
    "start_time": "2022-09-29T08:14:38.183Z"
   },
   {
    "duration": 5,
    "start_time": "2022-09-29T08:14:38.190Z"
   },
   {
    "duration": 6,
    "start_time": "2022-09-29T08:14:38.197Z"
   },
   {
    "duration": 27,
    "start_time": "2022-09-29T08:14:38.205Z"
   },
   {
    "duration": 7,
    "start_time": "2022-09-29T08:14:38.233Z"
   },
   {
    "duration": 47,
    "start_time": "2022-09-29T08:14:38.241Z"
   },
   {
    "duration": 7,
    "start_time": "2022-09-29T08:14:38.289Z"
   },
   {
    "duration": 37,
    "start_time": "2022-09-29T08:14:38.297Z"
   },
   {
    "duration": 40,
    "start_time": "2022-09-29T08:14:38.336Z"
   },
   {
    "duration": 5,
    "start_time": "2022-09-29T08:14:38.378Z"
   },
   {
    "duration": 9,
    "start_time": "2022-09-29T08:14:38.384Z"
   },
   {
    "duration": 5,
    "start_time": "2022-09-29T08:14:38.395Z"
   },
   {
    "duration": 6,
    "start_time": "2022-09-29T08:14:38.401Z"
   },
   {
    "duration": 353,
    "start_time": "2022-09-29T08:14:38.409Z"
   },
   {
    "duration": 5,
    "start_time": "2022-09-29T08:14:38.764Z"
   },
   {
    "duration": 29,
    "start_time": "2022-09-29T08:14:38.770Z"
   },
   {
    "duration": 91,
    "start_time": "2022-09-29T08:14:38.800Z"
   },
   {
    "duration": 168,
    "start_time": "2022-09-29T08:14:38.893Z"
   },
   {
    "duration": 201,
    "start_time": "2022-09-29T08:14:39.062Z"
   },
   {
    "duration": 283,
    "start_time": "2022-09-29T08:14:39.264Z"
   },
   {
    "duration": 179,
    "start_time": "2022-09-29T08:14:39.551Z"
   },
   {
    "duration": 142,
    "start_time": "2022-09-29T08:14:39.731Z"
   },
   {
    "duration": 148,
    "start_time": "2022-09-29T08:14:39.876Z"
   },
   {
    "duration": 151,
    "start_time": "2022-09-29T08:14:40.026Z"
   },
   {
    "duration": 135,
    "start_time": "2022-09-29T08:14:40.179Z"
   },
   {
    "duration": 155,
    "start_time": "2022-09-29T08:14:40.316Z"
   },
   {
    "duration": 153,
    "start_time": "2022-09-29T08:14:40.473Z"
   },
   {
    "duration": 129,
    "start_time": "2022-09-29T08:14:40.628Z"
   },
   {
    "duration": 156,
    "start_time": "2022-09-29T08:14:40.760Z"
   },
   {
    "duration": 243,
    "start_time": "2022-09-29T08:14:40.918Z"
   },
   {
    "duration": 153,
    "start_time": "2022-09-29T08:14:41.162Z"
   },
   {
    "duration": 14,
    "start_time": "2022-09-29T08:14:41.316Z"
   },
   {
    "duration": 158,
    "start_time": "2022-09-29T08:14:41.332Z"
   },
   {
    "duration": 13,
    "start_time": "2022-09-29T08:14:41.492Z"
   },
   {
    "duration": 14,
    "start_time": "2022-09-29T08:14:41.507Z"
   },
   {
    "duration": 14,
    "start_time": "2022-09-29T08:14:41.523Z"
   },
   {
    "duration": 182,
    "start_time": "2022-09-29T08:14:41.538Z"
   },
   {
    "duration": 4,
    "start_time": "2022-09-29T08:14:41.722Z"
   },
   {
    "duration": 18,
    "start_time": "2022-09-29T08:14:41.728Z"
   },
   {
    "duration": 29,
    "start_time": "2022-09-29T08:14:41.747Z"
   },
   {
    "duration": 145,
    "start_time": "2022-09-29T08:14:41.778Z"
   },
   {
    "duration": 15,
    "start_time": "2022-09-29T08:14:41.924Z"
   },
   {
    "duration": 15,
    "start_time": "2022-09-29T08:14:41.940Z"
   },
   {
    "duration": 163,
    "start_time": "2022-09-29T08:14:41.957Z"
   },
   {
    "duration": 14,
    "start_time": "2022-09-29T08:14:42.122Z"
   },
   {
    "duration": 13,
    "start_time": "2022-09-29T08:14:42.137Z"
   },
   {
    "duration": 147,
    "start_time": "2022-09-29T08:14:42.151Z"
   },
   {
    "duration": 16,
    "start_time": "2022-09-29T08:14:42.300Z"
   },
   {
    "duration": 13,
    "start_time": "2022-09-29T08:14:42.318Z"
   },
   {
    "duration": 170,
    "start_time": "2022-09-29T08:14:42.333Z"
   },
   {
    "duration": 14,
    "start_time": "2022-09-29T08:14:42.505Z"
   },
   {
    "duration": 16,
    "start_time": "2022-09-29T08:14:42.521Z"
   },
   {
    "duration": 183,
    "start_time": "2022-09-29T08:14:42.539Z"
   },
   {
    "duration": 13,
    "start_time": "2022-09-29T08:14:42.723Z"
   },
   {
    "duration": 15,
    "start_time": "2022-09-29T08:14:42.737Z"
   },
   {
    "duration": 146,
    "start_time": "2022-09-29T08:14:42.754Z"
   },
   {
    "duration": 13,
    "start_time": "2022-09-29T08:14:42.902Z"
   },
   {
    "duration": 16,
    "start_time": "2022-09-29T08:14:42.916Z"
   },
   {
    "duration": 159,
    "start_time": "2022-09-29T08:14:42.934Z"
   },
   {
    "duration": 26,
    "start_time": "2022-09-29T08:14:43.094Z"
   },
   {
    "duration": 11,
    "start_time": "2022-09-29T08:14:43.122Z"
   },
   {
    "duration": 11,
    "start_time": "2022-09-29T08:14:43.134Z"
   },
   {
    "duration": 20,
    "start_time": "2022-09-29T08:23:55.072Z"
   },
   {
    "duration": 12,
    "start_time": "2022-09-29T08:33:25.429Z"
   },
   {
    "duration": 13,
    "start_time": "2022-09-29T08:33:28.001Z"
   },
   {
    "duration": 1224,
    "start_time": "2022-09-29T08:35:16.841Z"
   },
   {
    "duration": 23,
    "start_time": "2022-09-29T08:36:02.993Z"
   },
   {
    "duration": 22,
    "start_time": "2022-09-29T08:37:08.631Z"
   },
   {
    "duration": 1675,
    "start_time": "2022-09-29T08:38:10.872Z"
   },
   {
    "duration": 22,
    "start_time": "2022-09-29T08:38:46.872Z"
   },
   {
    "duration": 18,
    "start_time": "2022-09-29T08:39:14.853Z"
   },
   {
    "duration": 16,
    "start_time": "2022-09-29T08:40:50.757Z"
   },
   {
    "duration": 31,
    "start_time": "2022-09-29T08:42:43.553Z"
   },
   {
    "duration": 122,
    "start_time": "2022-09-29T08:47:05.240Z"
   },
   {
    "duration": 99,
    "start_time": "2022-09-29T08:47:40.700Z"
   },
   {
    "duration": 43,
    "start_time": "2022-09-29T08:48:16.473Z"
   },
   {
    "duration": 53,
    "start_time": "2022-09-29T08:48:39.659Z"
   },
   {
    "duration": 1366,
    "start_time": "2022-09-29T08:50:07.421Z"
   },
   {
    "duration": 287,
    "start_time": "2022-09-29T08:51:01.256Z"
   },
   {
    "duration": 1696,
    "start_time": "2022-09-29T08:52:00.160Z"
   },
   {
    "duration": 1054,
    "start_time": "2022-09-29T08:53:08.368Z"
   },
   {
    "duration": 23,
    "start_time": "2022-09-29T08:56:09.742Z"
   },
   {
    "duration": 1026,
    "start_time": "2022-09-29T08:56:43.225Z"
   },
   {
    "duration": 14,
    "start_time": "2022-09-29T09:01:59.235Z"
   },
   {
    "duration": 20,
    "start_time": "2022-09-29T09:02:11.120Z"
   },
   {
    "duration": 4,
    "start_time": "2022-09-29T09:03:56.836Z"
   },
   {
    "duration": 30,
    "start_time": "2022-09-29T09:04:08.487Z"
   },
   {
    "duration": 25,
    "start_time": "2022-09-29T09:04:46.315Z"
   },
   {
    "duration": 18,
    "start_time": "2022-09-29T09:04:56.107Z"
   },
   {
    "duration": 17,
    "start_time": "2022-09-29T09:06:19.622Z"
   },
   {
    "duration": 32,
    "start_time": "2022-09-29T09:11:16.631Z"
   },
   {
    "duration": 26,
    "start_time": "2022-09-29T09:12:04.425Z"
   },
   {
    "duration": 9,
    "start_time": "2022-09-29T09:12:49.770Z"
   },
   {
    "duration": 29,
    "start_time": "2022-09-29T09:13:24.810Z"
   },
   {
    "duration": 690,
    "start_time": "2022-09-29T10:21:52.820Z"
   },
   {
    "duration": 98,
    "start_time": "2022-09-29T10:21:53.514Z"
   },
   {
    "duration": 18,
    "start_time": "2022-09-29T10:21:53.614Z"
   },
   {
    "duration": 21,
    "start_time": "2022-09-29T10:21:53.635Z"
   },
   {
    "duration": 2266,
    "start_time": "2022-09-29T10:21:53.658Z"
   },
   {
    "duration": 9,
    "start_time": "2022-09-29T10:21:55.926Z"
   },
   {
    "duration": 58,
    "start_time": "2022-09-29T10:21:55.937Z"
   },
   {
    "duration": 11,
    "start_time": "2022-09-29T10:21:56.006Z"
   },
   {
    "duration": 26,
    "start_time": "2022-09-29T10:21:56.020Z"
   },
   {
    "duration": 5,
    "start_time": "2022-09-29T10:21:56.049Z"
   },
   {
    "duration": 8,
    "start_time": "2022-09-29T10:21:56.056Z"
   },
   {
    "duration": 10,
    "start_time": "2022-09-29T10:21:56.065Z"
   },
   {
    "duration": 53,
    "start_time": "2022-09-29T10:21:56.077Z"
   },
   {
    "duration": 7,
    "start_time": "2022-09-29T10:21:56.132Z"
   },
   {
    "duration": 23,
    "start_time": "2022-09-29T10:21:56.141Z"
   },
   {
    "duration": 6,
    "start_time": "2022-09-29T10:21:56.166Z"
   },
   {
    "duration": 68,
    "start_time": "2022-09-29T10:21:56.175Z"
   },
   {
    "duration": 19,
    "start_time": "2022-09-29T10:21:56.245Z"
   },
   {
    "duration": 4,
    "start_time": "2022-09-29T10:21:56.266Z"
   },
   {
    "duration": 26,
    "start_time": "2022-09-29T10:21:56.272Z"
   },
   {
    "duration": 6,
    "start_time": "2022-09-29T10:21:56.303Z"
   },
   {
    "duration": 11,
    "start_time": "2022-09-29T10:21:56.311Z"
   },
   {
    "duration": 386,
    "start_time": "2022-09-29T10:21:56.324Z"
   },
   {
    "duration": 8,
    "start_time": "2022-09-29T10:21:56.713Z"
   },
   {
    "duration": 35,
    "start_time": "2022-09-29T10:21:56.722Z"
   },
   {
    "duration": 107,
    "start_time": "2022-09-29T10:21:56.759Z"
   },
   {
    "duration": 206,
    "start_time": "2022-09-29T10:21:56.868Z"
   },
   {
    "duration": 339,
    "start_time": "2022-09-29T10:21:57.077Z"
   },
   {
    "duration": 232,
    "start_time": "2022-09-29T10:21:57.418Z"
   },
   {
    "duration": 203,
    "start_time": "2022-09-29T10:21:57.651Z"
   },
   {
    "duration": 168,
    "start_time": "2022-09-29T10:21:57.856Z"
   },
   {
    "duration": 179,
    "start_time": "2022-09-29T10:21:58.026Z"
   },
   {
    "duration": 146,
    "start_time": "2022-09-29T10:21:58.208Z"
   },
   {
    "duration": 154,
    "start_time": "2022-09-29T10:21:58.356Z"
   },
   {
    "duration": 148,
    "start_time": "2022-09-29T10:21:58.512Z"
   },
   {
    "duration": 176,
    "start_time": "2022-09-29T10:21:58.662Z"
   },
   {
    "duration": 153,
    "start_time": "2022-09-29T10:21:58.840Z"
   },
   {
    "duration": 162,
    "start_time": "2022-09-29T10:21:58.995Z"
   },
   {
    "duration": 266,
    "start_time": "2022-09-29T10:21:59.159Z"
   },
   {
    "duration": 160,
    "start_time": "2022-09-29T10:21:59.427Z"
   },
   {
    "duration": 19,
    "start_time": "2022-09-29T10:21:59.597Z"
   },
   {
    "duration": 164,
    "start_time": "2022-09-29T10:21:59.617Z"
   },
   {
    "duration": 29,
    "start_time": "2022-09-29T10:21:59.783Z"
   },
   {
    "duration": 18,
    "start_time": "2022-09-29T10:21:59.814Z"
   },
   {
    "duration": 16,
    "start_time": "2022-09-29T10:21:59.834Z"
   },
   {
    "duration": 196,
    "start_time": "2022-09-29T10:21:59.852Z"
   },
   {
    "duration": 4,
    "start_time": "2022-09-29T10:22:00.049Z"
   },
   {
    "duration": 21,
    "start_time": "2022-09-29T10:22:00.055Z"
   },
   {
    "duration": 33,
    "start_time": "2022-09-29T10:22:00.078Z"
   },
   {
    "duration": 170,
    "start_time": "2022-09-29T10:22:00.113Z"
   },
   {
    "duration": 25,
    "start_time": "2022-09-29T10:22:00.285Z"
   },
   {
    "duration": 26,
    "start_time": "2022-09-29T10:22:00.312Z"
   },
   {
    "duration": 174,
    "start_time": "2022-09-29T10:22:00.340Z"
   },
   {
    "duration": 16,
    "start_time": "2022-09-29T10:22:00.517Z"
   },
   {
    "duration": 24,
    "start_time": "2022-09-29T10:22:00.535Z"
   },
   {
    "duration": 174,
    "start_time": "2022-09-29T10:22:00.562Z"
   },
   {
    "duration": 16,
    "start_time": "2022-09-29T10:22:00.738Z"
   },
   {
    "duration": 13,
    "start_time": "2022-09-29T10:22:00.756Z"
   },
   {
    "duration": 184,
    "start_time": "2022-09-29T10:22:00.771Z"
   },
   {
    "duration": 15,
    "start_time": "2022-09-29T10:22:00.957Z"
   },
   {
    "duration": 37,
    "start_time": "2022-09-29T10:22:00.974Z"
   },
   {
    "duration": 204,
    "start_time": "2022-09-29T10:22:01.014Z"
   },
   {
    "duration": 14,
    "start_time": "2022-09-29T10:22:01.219Z"
   },
   {
    "duration": 29,
    "start_time": "2022-09-29T10:22:01.235Z"
   },
   {
    "duration": 160,
    "start_time": "2022-09-29T10:22:01.266Z"
   },
   {
    "duration": 13,
    "start_time": "2022-09-29T10:22:01.428Z"
   },
   {
    "duration": 18,
    "start_time": "2022-09-29T10:22:01.443Z"
   },
   {
    "duration": 178,
    "start_time": "2022-09-29T10:22:01.463Z"
   },
   {
    "duration": 27,
    "start_time": "2022-09-29T10:22:01.642Z"
   },
   {
    "duration": 40,
    "start_time": "2022-09-29T10:22:01.670Z"
   },
   {
    "duration": 56,
    "start_time": "2022-09-29T10:22:01.712Z"
   },
   {
    "duration": 42,
    "start_time": "2022-09-29T10:22:01.770Z"
   },
   {
    "duration": 99,
    "start_time": "2022-09-29T10:26:02.376Z"
   },
   {
    "duration": 9,
    "start_time": "2022-09-29T10:26:14.301Z"
   },
   {
    "duration": 5,
    "start_time": "2022-09-29T10:26:18.673Z"
   },
   {
    "duration": 9,
    "start_time": "2022-09-29T10:26:24.104Z"
   },
   {
    "duration": 7,
    "start_time": "2022-09-29T10:26:25.842Z"
   },
   {
    "duration": 74,
    "start_time": "2022-09-29T10:31:42.348Z"
   },
   {
    "duration": 6,
    "start_time": "2022-09-29T10:56:34.405Z"
   },
   {
    "duration": 9,
    "start_time": "2022-09-29T10:56:38.765Z"
   },
   {
    "duration": 205,
    "start_time": "2022-09-29T10:56:56.362Z"
   },
   {
    "duration": 48,
    "start_time": "2022-09-29T12:11:02.460Z"
   },
   {
    "duration": 801,
    "start_time": "2022-09-29T12:11:09.941Z"
   },
   {
    "duration": 326,
    "start_time": "2022-09-29T12:11:10.744Z"
   },
   {
    "duration": 15,
    "start_time": "2022-09-29T12:11:11.075Z"
   },
   {
    "duration": 20,
    "start_time": "2022-09-29T12:11:11.091Z"
   },
   {
    "duration": 1811,
    "start_time": "2022-09-29T12:11:11.113Z"
   },
   {
    "duration": 9,
    "start_time": "2022-09-29T12:11:12.925Z"
   },
   {
    "duration": 53,
    "start_time": "2022-09-29T12:11:12.935Z"
   },
   {
    "duration": 6,
    "start_time": "2022-09-29T12:11:12.989Z"
   },
   {
    "duration": 36,
    "start_time": "2022-09-29T12:11:12.997Z"
   },
   {
    "duration": 5,
    "start_time": "2022-09-29T12:11:13.034Z"
   },
   {
    "duration": 5,
    "start_time": "2022-09-29T12:11:13.041Z"
   },
   {
    "duration": 7,
    "start_time": "2022-09-29T12:11:13.047Z"
   },
   {
    "duration": 56,
    "start_time": "2022-09-29T12:11:13.056Z"
   },
   {
    "duration": 7,
    "start_time": "2022-09-29T12:11:13.114Z"
   },
   {
    "duration": 16,
    "start_time": "2022-09-29T12:11:13.123Z"
   },
   {
    "duration": 10,
    "start_time": "2022-09-29T12:11:13.140Z"
   },
   {
    "duration": 96,
    "start_time": "2022-09-29T12:11:13.152Z"
   },
   {
    "duration": 85,
    "start_time": "2022-09-29T12:11:13.249Z"
   },
   {
    "duration": 14,
    "start_time": "2022-09-29T12:11:13.336Z"
   },
   {
    "duration": 4,
    "start_time": "2022-09-29T12:11:13.352Z"
   },
   {
    "duration": 10,
    "start_time": "2022-09-29T12:11:13.358Z"
   },
   {
    "duration": 6,
    "start_time": "2022-09-29T12:11:13.370Z"
   },
   {
    "duration": 10,
    "start_time": "2022-09-29T12:11:13.377Z"
   },
   {
    "duration": 216,
    "start_time": "2022-09-29T12:11:13.388Z"
   },
   {
    "duration": 7,
    "start_time": "2022-09-29T12:11:13.605Z"
   },
   {
    "duration": 29,
    "start_time": "2022-09-29T12:11:13.613Z"
   },
   {
    "duration": 73,
    "start_time": "2022-09-29T12:11:13.647Z"
   },
   {
    "duration": 152,
    "start_time": "2022-09-29T12:11:13.721Z"
   },
   {
    "duration": 255,
    "start_time": "2022-09-29T12:11:13.875Z"
   },
   {
    "duration": 185,
    "start_time": "2022-09-29T12:11:14.132Z"
   },
   {
    "duration": 192,
    "start_time": "2022-09-29T12:11:14.318Z"
   },
   {
    "duration": 197,
    "start_time": "2022-09-29T12:11:14.513Z"
   },
   {
    "duration": 131,
    "start_time": "2022-09-29T12:11:14.712Z"
   },
   {
    "duration": 126,
    "start_time": "2022-09-29T12:11:14.844Z"
   },
   {
    "duration": 113,
    "start_time": "2022-09-29T12:11:14.972Z"
   },
   {
    "duration": 132,
    "start_time": "2022-09-29T12:11:15.086Z"
   },
   {
    "duration": 154,
    "start_time": "2022-09-29T12:11:15.219Z"
   },
   {
    "duration": 123,
    "start_time": "2022-09-29T12:11:15.375Z"
   },
   {
    "duration": 149,
    "start_time": "2022-09-29T12:11:15.499Z"
   },
   {
    "duration": 214,
    "start_time": "2022-09-29T12:11:15.649Z"
   },
   {
    "duration": 129,
    "start_time": "2022-09-29T12:11:15.865Z"
   },
   {
    "duration": 22,
    "start_time": "2022-09-29T12:11:15.996Z"
   },
   {
    "duration": 157,
    "start_time": "2022-09-29T12:11:16.020Z"
   },
   {
    "duration": 14,
    "start_time": "2022-09-29T12:11:16.178Z"
   },
   {
    "duration": 32,
    "start_time": "2022-09-29T12:11:16.193Z"
   },
   {
    "duration": 16,
    "start_time": "2022-09-29T12:11:16.227Z"
   },
   {
    "duration": 159,
    "start_time": "2022-09-29T12:11:16.246Z"
   },
   {
    "duration": 5,
    "start_time": "2022-09-29T12:11:16.408Z"
   },
   {
    "duration": 17,
    "start_time": "2022-09-29T12:11:16.414Z"
   },
   {
    "duration": 19,
    "start_time": "2022-09-29T12:11:16.432Z"
   },
   {
    "duration": 169,
    "start_time": "2022-09-29T12:11:16.452Z"
   },
   {
    "duration": 19,
    "start_time": "2022-09-29T12:11:16.623Z"
   },
   {
    "duration": 17,
    "start_time": "2022-09-29T12:11:16.644Z"
   },
   {
    "duration": 146,
    "start_time": "2022-09-29T12:11:16.663Z"
   },
   {
    "duration": 12,
    "start_time": "2022-09-29T12:11:16.811Z"
   },
   {
    "duration": 14,
    "start_time": "2022-09-29T12:11:16.824Z"
   },
   {
    "duration": 127,
    "start_time": "2022-09-29T12:11:16.840Z"
   },
   {
    "duration": 11,
    "start_time": "2022-09-29T12:11:16.969Z"
   },
   {
    "duration": 30,
    "start_time": "2022-09-29T12:11:16.982Z"
   },
   {
    "duration": 159,
    "start_time": "2022-09-29T12:11:17.014Z"
   },
   {
    "duration": 13,
    "start_time": "2022-09-29T12:11:17.174Z"
   },
   {
    "duration": 29,
    "start_time": "2022-09-29T12:11:17.189Z"
   },
   {
    "duration": 194,
    "start_time": "2022-09-29T12:11:17.220Z"
   },
   {
    "duration": 14,
    "start_time": "2022-09-29T12:11:17.416Z"
   },
   {
    "duration": 18,
    "start_time": "2022-09-29T12:11:17.431Z"
   },
   {
    "duration": 135,
    "start_time": "2022-09-29T12:11:17.451Z"
   },
   {
    "duration": 28,
    "start_time": "2022-09-29T12:11:17.588Z"
   },
   {
    "duration": 19,
    "start_time": "2022-09-29T12:11:17.618Z"
   },
   {
    "duration": 140,
    "start_time": "2022-09-29T12:11:17.639Z"
   },
   {
    "duration": 28,
    "start_time": "2022-09-29T12:11:17.782Z"
   },
   {
    "duration": 11,
    "start_time": "2022-09-29T12:11:17.811Z"
   },
   {
    "duration": 46,
    "start_time": "2022-09-29T12:11:17.824Z"
   },
   {
    "duration": 167,
    "start_time": "2022-09-29T12:11:17.871Z"
   },
   {
    "duration": 23,
    "start_time": "2022-09-29T12:11:18.039Z"
   },
   {
    "duration": 5,
    "start_time": "2022-09-29T12:11:28.277Z"
   },
   {
    "duration": 6,
    "start_time": "2022-09-29T12:11:33.750Z"
   },
   {
    "duration": 8,
    "start_time": "2022-09-29T12:13:02.819Z"
   },
   {
    "duration": 99,
    "start_time": "2022-09-29T12:17:41.787Z"
   },
   {
    "duration": 78,
    "start_time": "2022-09-29T12:18:05.750Z"
   },
   {
    "duration": 51,
    "start_time": "2022-09-29T12:18:11.327Z"
   },
   {
    "duration": 8,
    "start_time": "2022-09-29T12:24:22.716Z"
   },
   {
    "duration": 87,
    "start_time": "2022-09-29T12:25:20.136Z"
   },
   {
    "duration": 8,
    "start_time": "2022-09-29T12:25:39.827Z"
   },
   {
    "duration": 9,
    "start_time": "2022-09-29T12:26:44.630Z"
   },
   {
    "duration": 6,
    "start_time": "2022-09-29T12:30:47.988Z"
   },
   {
    "duration": 7,
    "start_time": "2022-09-29T12:33:10.125Z"
   },
   {
    "duration": 7,
    "start_time": "2022-09-29T12:33:54.427Z"
   },
   {
    "duration": 7,
    "start_time": "2022-09-29T12:35:46.751Z"
   },
   {
    "duration": 8,
    "start_time": "2022-09-29T12:36:30.282Z"
   },
   {
    "duration": 8,
    "start_time": "2022-09-29T12:36:43.421Z"
   },
   {
    "duration": 16,
    "start_time": "2022-09-29T12:36:45.325Z"
   },
   {
    "duration": 637,
    "start_time": "2022-09-29T12:36:57.803Z"
   },
   {
    "duration": 94,
    "start_time": "2022-09-29T12:36:58.442Z"
   },
   {
    "duration": 15,
    "start_time": "2022-09-29T12:36:58.537Z"
   },
   {
    "duration": 17,
    "start_time": "2022-09-29T12:36:58.553Z"
   },
   {
    "duration": 1952,
    "start_time": "2022-09-29T12:36:58.572Z"
   },
   {
    "duration": 9,
    "start_time": "2022-09-29T12:37:00.527Z"
   },
   {
    "duration": 63,
    "start_time": "2022-09-29T12:37:00.538Z"
   },
   {
    "duration": 6,
    "start_time": "2022-09-29T12:37:00.602Z"
   },
   {
    "duration": 40,
    "start_time": "2022-09-29T12:37:00.615Z"
   },
   {
    "duration": 5,
    "start_time": "2022-09-29T12:37:00.657Z"
   },
   {
    "duration": 10,
    "start_time": "2022-09-29T12:37:00.664Z"
   },
   {
    "duration": 27,
    "start_time": "2022-09-29T12:37:00.675Z"
   },
   {
    "duration": 32,
    "start_time": "2022-09-29T12:37:00.703Z"
   },
   {
    "duration": 17,
    "start_time": "2022-09-29T12:37:00.736Z"
   },
   {
    "duration": 18,
    "start_time": "2022-09-29T12:37:00.754Z"
   },
   {
    "duration": 7,
    "start_time": "2022-09-29T12:37:00.773Z"
   },
   {
    "duration": 74,
    "start_time": "2022-09-29T12:37:00.781Z"
   },
   {
    "duration": 79,
    "start_time": "2022-09-29T12:37:00.856Z"
   },
   {
    "duration": 7,
    "start_time": "2022-09-29T12:37:00.937Z"
   },
   {
    "duration": 19,
    "start_time": "2022-09-29T12:37:00.945Z"
   },
   {
    "duration": 4,
    "start_time": "2022-09-29T12:37:00.965Z"
   },
   {
    "duration": 18,
    "start_time": "2022-09-29T12:37:00.970Z"
   },
   {
    "duration": 7,
    "start_time": "2022-09-29T12:37:00.989Z"
   },
   {
    "duration": 22,
    "start_time": "2022-09-29T12:37:00.997Z"
   },
   {
    "duration": 232,
    "start_time": "2022-09-29T12:37:01.023Z"
   },
   {
    "duration": 5,
    "start_time": "2022-09-29T12:37:01.258Z"
   },
   {
    "duration": 63,
    "start_time": "2022-09-29T12:37:01.265Z"
   },
   {
    "duration": 67,
    "start_time": "2022-09-29T12:37:01.332Z"
   },
   {
    "duration": 151,
    "start_time": "2022-09-29T12:37:01.400Z"
   },
   {
    "duration": 199,
    "start_time": "2022-09-29T12:37:01.553Z"
   },
   {
    "duration": 268,
    "start_time": "2022-09-29T12:37:01.754Z"
   },
   {
    "duration": 169,
    "start_time": "2022-09-29T12:37:02.024Z"
   },
   {
    "duration": 134,
    "start_time": "2022-09-29T12:37:02.194Z"
   },
   {
    "duration": 166,
    "start_time": "2022-09-29T12:37:02.329Z"
   },
   {
    "duration": 136,
    "start_time": "2022-09-29T12:37:02.497Z"
   },
   {
    "duration": 105,
    "start_time": "2022-09-29T12:37:02.634Z"
   },
   {
    "duration": 136,
    "start_time": "2022-09-29T12:37:02.741Z"
   },
   {
    "duration": 155,
    "start_time": "2022-09-29T12:37:02.879Z"
   },
   {
    "duration": 124,
    "start_time": "2022-09-29T12:37:03.035Z"
   },
   {
    "duration": 132,
    "start_time": "2022-09-29T12:37:03.161Z"
   },
   {
    "duration": 205,
    "start_time": "2022-09-29T12:37:03.295Z"
   },
   {
    "duration": 132,
    "start_time": "2022-09-29T12:37:03.502Z"
   },
   {
    "duration": 14,
    "start_time": "2022-09-29T12:37:03.636Z"
   },
   {
    "duration": 183,
    "start_time": "2022-09-29T12:37:03.651Z"
   },
   {
    "duration": 12,
    "start_time": "2022-09-29T12:37:03.835Z"
   },
   {
    "duration": 15,
    "start_time": "2022-09-29T12:37:03.850Z"
   },
   {
    "duration": 13,
    "start_time": "2022-09-29T12:37:03.866Z"
   },
   {
    "duration": 178,
    "start_time": "2022-09-29T12:37:03.881Z"
   },
   {
    "duration": 4,
    "start_time": "2022-09-29T12:37:04.061Z"
   },
   {
    "duration": 26,
    "start_time": "2022-09-29T12:37:04.067Z"
   },
   {
    "duration": 31,
    "start_time": "2022-09-29T12:37:04.095Z"
   },
   {
    "duration": 132,
    "start_time": "2022-09-29T12:37:04.128Z"
   },
   {
    "duration": 13,
    "start_time": "2022-09-29T12:37:04.261Z"
   },
   {
    "duration": 12,
    "start_time": "2022-09-29T12:37:04.275Z"
   },
   {
    "duration": 149,
    "start_time": "2022-09-29T12:37:04.288Z"
   },
   {
    "duration": 16,
    "start_time": "2022-09-29T12:37:04.440Z"
   },
   {
    "duration": 13,
    "start_time": "2022-09-29T12:37:04.458Z"
   },
   {
    "duration": 160,
    "start_time": "2022-09-29T12:37:04.473Z"
   },
   {
    "duration": 14,
    "start_time": "2022-09-29T12:37:04.635Z"
   },
   {
    "duration": 20,
    "start_time": "2022-09-29T12:37:04.652Z"
   },
   {
    "duration": 191,
    "start_time": "2022-09-29T12:37:04.674Z"
   },
   {
    "duration": 12,
    "start_time": "2022-09-29T12:37:04.866Z"
   },
   {
    "duration": 16,
    "start_time": "2022-09-29T12:37:04.879Z"
   },
   {
    "duration": 144,
    "start_time": "2022-09-29T12:37:04.909Z"
   },
   {
    "duration": 12,
    "start_time": "2022-09-29T12:37:05.055Z"
   },
   {
    "duration": 17,
    "start_time": "2022-09-29T12:37:05.069Z"
   },
   {
    "duration": 144,
    "start_time": "2022-09-29T12:37:05.087Z"
   },
   {
    "duration": 11,
    "start_time": "2022-09-29T12:37:05.232Z"
   },
   {
    "duration": 17,
    "start_time": "2022-09-29T12:37:05.245Z"
   },
   {
    "duration": 161,
    "start_time": "2022-09-29T12:37:05.264Z"
   },
   {
    "duration": 21,
    "start_time": "2022-09-29T12:37:05.426Z"
   },
   {
    "duration": 8,
    "start_time": "2022-09-29T12:37:05.449Z"
   },
   {
    "duration": 9,
    "start_time": "2022-09-29T12:37:05.458Z"
   },
   {
    "duration": 181,
    "start_time": "2022-09-29T12:37:05.468Z"
   },
   {
    "duration": 18,
    "start_time": "2022-09-29T12:37:05.651Z"
   },
   {
    "duration": 17,
    "start_time": "2022-09-29T12:37:25.052Z"
   },
   {
    "duration": 5,
    "start_time": "2022-09-29T12:37:45.875Z"
   },
   {
    "duration": 8,
    "start_time": "2022-09-29T12:37:57.338Z"
   },
   {
    "duration": 9,
    "start_time": "2022-09-29T12:38:39.115Z"
   },
   {
    "duration": 6,
    "start_time": "2022-09-29T12:38:59.387Z"
   },
   {
    "duration": 22,
    "start_time": "2022-09-29T12:39:30.799Z"
   },
   {
    "duration": 81,
    "start_time": "2022-09-29T12:40:01.021Z"
   },
   {
    "duration": 7,
    "start_time": "2022-09-29T12:40:08.449Z"
   },
   {
    "duration": 9,
    "start_time": "2022-09-29T12:40:25.223Z"
   },
   {
    "duration": 8,
    "start_time": "2022-09-29T12:40:30.682Z"
   },
   {
    "duration": 7,
    "start_time": "2022-09-29T12:41:29.473Z"
   },
   {
    "duration": 19,
    "start_time": "2022-09-29T12:41:42.204Z"
   },
   {
    "duration": 8,
    "start_time": "2022-09-29T12:42:05.800Z"
   },
   {
    "duration": 7,
    "start_time": "2022-09-29T12:42:18.448Z"
   },
   {
    "duration": 12,
    "start_time": "2022-09-29T12:42:35.237Z"
   },
   {
    "duration": 672,
    "start_time": "2022-09-29T12:43:55.793Z"
   },
   {
    "duration": 103,
    "start_time": "2022-09-29T12:43:56.467Z"
   },
   {
    "duration": 14,
    "start_time": "2022-09-29T12:43:56.572Z"
   },
   {
    "duration": 35,
    "start_time": "2022-09-29T12:43:56.587Z"
   },
   {
    "duration": 1785,
    "start_time": "2022-09-29T12:43:56.623Z"
   },
   {
    "duration": 14,
    "start_time": "2022-09-29T12:43:58.416Z"
   },
   {
    "duration": 51,
    "start_time": "2022-09-29T12:43:58.431Z"
   },
   {
    "duration": 5,
    "start_time": "2022-09-29T12:43:58.484Z"
   },
   {
    "duration": 45,
    "start_time": "2022-09-29T12:43:58.491Z"
   },
   {
    "duration": 6,
    "start_time": "2022-09-29T12:43:58.538Z"
   },
   {
    "duration": 5,
    "start_time": "2022-09-29T12:43:58.546Z"
   },
   {
    "duration": 8,
    "start_time": "2022-09-29T12:43:58.552Z"
   },
   {
    "duration": 55,
    "start_time": "2022-09-29T12:43:58.562Z"
   },
   {
    "duration": 6,
    "start_time": "2022-09-29T12:43:58.624Z"
   },
   {
    "duration": 18,
    "start_time": "2022-09-29T12:43:58.632Z"
   },
   {
    "duration": 6,
    "start_time": "2022-09-29T12:43:58.651Z"
   },
   {
    "duration": 40,
    "start_time": "2022-09-29T12:43:58.659Z"
   },
   {
    "duration": 65,
    "start_time": "2022-09-29T12:43:58.715Z"
   },
   {
    "duration": 4,
    "start_time": "2022-09-29T12:43:58.781Z"
   },
   {
    "duration": 4,
    "start_time": "2022-09-29T12:43:58.787Z"
   },
   {
    "duration": 27,
    "start_time": "2022-09-29T12:43:58.792Z"
   },
   {
    "duration": 5,
    "start_time": "2022-09-29T12:43:58.822Z"
   },
   {
    "duration": 5,
    "start_time": "2022-09-29T12:43:58.828Z"
   },
   {
    "duration": 4,
    "start_time": "2022-09-29T12:43:58.835Z"
   },
   {
    "duration": 382,
    "start_time": "2022-09-29T12:43:58.841Z"
   },
   {
    "duration": 6,
    "start_time": "2022-09-29T12:43:59.225Z"
   },
   {
    "duration": 23,
    "start_time": "2022-09-29T12:43:59.233Z"
   },
   {
    "duration": 92,
    "start_time": "2022-09-29T12:43:59.261Z"
   },
   {
    "duration": 170,
    "start_time": "2022-09-29T12:43:59.355Z"
   },
   {
    "duration": 247,
    "start_time": "2022-09-29T12:43:59.526Z"
   },
   {
    "duration": 187,
    "start_time": "2022-09-29T12:43:59.775Z"
   },
   {
    "duration": 171,
    "start_time": "2022-09-29T12:43:59.964Z"
   },
   {
    "duration": 137,
    "start_time": "2022-09-29T12:44:00.137Z"
   },
   {
    "duration": 150,
    "start_time": "2022-09-29T12:44:00.276Z"
   },
   {
    "duration": 162,
    "start_time": "2022-09-29T12:44:00.428Z"
   },
   {
    "duration": 137,
    "start_time": "2022-09-29T12:44:00.592Z"
   },
   {
    "duration": 139,
    "start_time": "2022-09-29T12:44:00.730Z"
   },
   {
    "duration": 130,
    "start_time": "2022-09-29T12:44:00.871Z"
   },
   {
    "duration": 131,
    "start_time": "2022-09-29T12:44:01.003Z"
   },
   {
    "duration": 149,
    "start_time": "2022-09-29T12:44:01.135Z"
   },
   {
    "duration": 211,
    "start_time": "2022-09-29T12:44:01.286Z"
   },
   {
    "duration": 137,
    "start_time": "2022-09-29T12:44:01.499Z"
   },
   {
    "duration": 14,
    "start_time": "2022-09-29T12:44:01.638Z"
   },
   {
    "duration": 173,
    "start_time": "2022-09-29T12:44:01.653Z"
   },
   {
    "duration": 13,
    "start_time": "2022-09-29T12:44:01.827Z"
   },
   {
    "duration": 23,
    "start_time": "2022-09-29T12:44:01.842Z"
   },
   {
    "duration": 20,
    "start_time": "2022-09-29T12:44:01.867Z"
   },
   {
    "duration": 137,
    "start_time": "2022-09-29T12:44:01.889Z"
   },
   {
    "duration": 5,
    "start_time": "2022-09-29T12:44:02.028Z"
   },
   {
    "duration": 18,
    "start_time": "2022-09-29T12:44:02.034Z"
   },
   {
    "duration": 12,
    "start_time": "2022-09-29T12:44:02.054Z"
   },
   {
    "duration": 160,
    "start_time": "2022-09-29T12:44:02.068Z"
   },
   {
    "duration": 13,
    "start_time": "2022-09-29T12:44:02.230Z"
   },
   {
    "duration": 12,
    "start_time": "2022-09-29T12:44:02.245Z"
   },
   {
    "duration": 136,
    "start_time": "2022-09-29T12:44:02.259Z"
   },
   {
    "duration": 34,
    "start_time": "2022-09-29T12:44:02.396Z"
   },
   {
    "duration": 12,
    "start_time": "2022-09-29T12:44:02.431Z"
   },
   {
    "duration": 131,
    "start_time": "2022-09-29T12:44:02.445Z"
   },
   {
    "duration": 18,
    "start_time": "2022-09-29T12:44:02.578Z"
   },
   {
    "duration": 42,
    "start_time": "2022-09-29T12:44:02.598Z"
   },
   {
    "duration": 137,
    "start_time": "2022-09-29T12:44:02.641Z"
   },
   {
    "duration": 13,
    "start_time": "2022-09-29T12:44:02.780Z"
   },
   {
    "duration": 35,
    "start_time": "2022-09-29T12:44:02.794Z"
   },
   {
    "duration": 134,
    "start_time": "2022-09-29T12:44:02.831Z"
   },
   {
    "duration": 11,
    "start_time": "2022-09-29T12:44:02.967Z"
   },
   {
    "duration": 39,
    "start_time": "2022-09-29T12:44:02.980Z"
   },
   {
    "duration": 143,
    "start_time": "2022-09-29T12:44:03.020Z"
   },
   {
    "duration": 14,
    "start_time": "2022-09-29T12:44:03.165Z"
   },
   {
    "duration": 35,
    "start_time": "2022-09-29T12:44:03.181Z"
   },
   {
    "duration": 142,
    "start_time": "2022-09-29T12:44:03.217Z"
   },
   {
    "duration": 24,
    "start_time": "2022-09-29T12:44:03.361Z"
   },
   {
    "duration": 38,
    "start_time": "2022-09-29T12:44:03.386Z"
   },
   {
    "duration": 12,
    "start_time": "2022-09-29T12:44:03.425Z"
   },
   {
    "duration": 189,
    "start_time": "2022-09-29T12:44:03.439Z"
   },
   {
    "duration": 21,
    "start_time": "2022-09-29T12:44:03.629Z"
   },
   {
    "duration": 74,
    "start_time": "2022-09-29T12:45:04.175Z"
   },
   {
    "duration": 3,
    "start_time": "2022-09-29T12:45:53.737Z"
   },
   {
    "duration": 74,
    "start_time": "2022-09-29T12:45:55.782Z"
   },
   {
    "duration": 73,
    "start_time": "2022-09-29T12:47:06.821Z"
   },
   {
    "duration": 11,
    "start_time": "2022-09-29T12:47:35.270Z"
   },
   {
    "duration": 106,
    "start_time": "2022-09-29T12:49:18.269Z"
   },
   {
    "duration": 17,
    "start_time": "2022-09-29T12:49:26.808Z"
   },
   {
    "duration": 13,
    "start_time": "2022-09-29T12:49:42.425Z"
   },
   {
    "duration": 7,
    "start_time": "2022-09-29T12:49:57.374Z"
   },
   {
    "duration": 695,
    "start_time": "2022-09-29T12:50:25.382Z"
   },
   {
    "duration": 92,
    "start_time": "2022-09-29T12:50:26.079Z"
   },
   {
    "duration": 16,
    "start_time": "2022-09-29T12:50:26.173Z"
   },
   {
    "duration": 24,
    "start_time": "2022-09-29T12:50:26.191Z"
   },
   {
    "duration": 1811,
    "start_time": "2022-09-29T12:50:26.217Z"
   },
   {
    "duration": 12,
    "start_time": "2022-09-29T12:50:28.030Z"
   },
   {
    "duration": 55,
    "start_time": "2022-09-29T12:50:28.043Z"
   },
   {
    "duration": 23,
    "start_time": "2022-09-29T12:50:28.100Z"
   },
   {
    "duration": 23,
    "start_time": "2022-09-29T12:50:28.125Z"
   },
   {
    "duration": 5,
    "start_time": "2022-09-29T12:50:28.150Z"
   },
   {
    "duration": 7,
    "start_time": "2022-09-29T12:50:28.157Z"
   },
   {
    "duration": 10,
    "start_time": "2022-09-29T12:50:28.165Z"
   },
   {
    "duration": 24,
    "start_time": "2022-09-29T12:50:28.176Z"
   },
   {
    "duration": 12,
    "start_time": "2022-09-29T12:50:28.209Z"
   },
   {
    "duration": 21,
    "start_time": "2022-09-29T12:50:28.223Z"
   },
   {
    "duration": 7,
    "start_time": "2022-09-29T12:50:28.246Z"
   },
   {
    "duration": 40,
    "start_time": "2022-09-29T12:50:28.255Z"
   },
   {
    "duration": 65,
    "start_time": "2022-09-29T12:50:28.316Z"
   },
   {
    "duration": 10,
    "start_time": "2022-09-29T12:50:28.383Z"
   },
   {
    "duration": 2,
    "start_time": "2022-09-29T12:50:28.395Z"
   },
   {
    "duration": 68,
    "start_time": "2022-09-29T12:50:28.416Z"
   },
   {
    "duration": 6,
    "start_time": "2022-09-29T12:50:28.486Z"
   },
   {
    "duration": 5,
    "start_time": "2022-09-29T12:50:28.493Z"
   },
   {
    "duration": 22,
    "start_time": "2022-09-29T12:50:28.499Z"
   },
   {
    "duration": 7,
    "start_time": "2022-09-29T12:50:28.523Z"
   },
   {
    "duration": 5,
    "start_time": "2022-09-29T12:50:28.532Z"
   },
   {
    "duration": 344,
    "start_time": "2022-09-29T12:50:28.538Z"
   },
   {
    "duration": 5,
    "start_time": "2022-09-29T12:50:28.885Z"
   },
   {
    "duration": 38,
    "start_time": "2022-09-29T12:50:28.891Z"
   },
   {
    "duration": 88,
    "start_time": "2022-09-29T12:50:28.931Z"
   },
   {
    "duration": 157,
    "start_time": "2022-09-29T12:50:29.022Z"
   },
   {
    "duration": 254,
    "start_time": "2022-09-29T12:50:29.181Z"
   },
   {
    "duration": 197,
    "start_time": "2022-09-29T12:50:29.436Z"
   },
   {
    "duration": 169,
    "start_time": "2022-09-29T12:50:29.635Z"
   },
   {
    "duration": 151,
    "start_time": "2022-09-29T12:50:29.806Z"
   },
   {
    "duration": 126,
    "start_time": "2022-09-29T12:50:29.959Z"
   },
   {
    "duration": 142,
    "start_time": "2022-09-29T12:50:30.087Z"
   },
   {
    "duration": 125,
    "start_time": "2022-09-29T12:50:30.232Z"
   },
   {
    "duration": 165,
    "start_time": "2022-09-29T12:50:30.359Z"
   },
   {
    "duration": 140,
    "start_time": "2022-09-29T12:50:30.530Z"
   },
   {
    "duration": 127,
    "start_time": "2022-09-29T12:50:30.672Z"
   },
   {
    "duration": 145,
    "start_time": "2022-09-29T12:50:30.800Z"
   },
   {
    "duration": 208,
    "start_time": "2022-09-29T12:50:30.947Z"
   },
   {
    "duration": 146,
    "start_time": "2022-09-29T12:50:31.156Z"
   },
   {
    "duration": 22,
    "start_time": "2022-09-29T12:50:31.308Z"
   },
   {
    "duration": 138,
    "start_time": "2022-09-29T12:50:31.332Z"
   },
   {
    "duration": 14,
    "start_time": "2022-09-29T12:50:31.471Z"
   },
   {
    "duration": 39,
    "start_time": "2022-09-29T12:50:31.487Z"
   },
   {
    "duration": 28,
    "start_time": "2022-09-29T12:50:31.528Z"
   },
   {
    "duration": 135,
    "start_time": "2022-09-29T12:50:31.559Z"
   },
   {
    "duration": 4,
    "start_time": "2022-09-29T12:50:31.695Z"
   },
   {
    "duration": 43,
    "start_time": "2022-09-29T12:50:31.701Z"
   },
   {
    "duration": 17,
    "start_time": "2022-09-29T12:50:31.745Z"
   },
   {
    "duration": 212,
    "start_time": "2022-09-29T12:50:31.764Z"
   },
   {
    "duration": 15,
    "start_time": "2022-09-29T12:50:31.977Z"
   },
   {
    "duration": 30,
    "start_time": "2022-09-29T12:50:31.994Z"
   },
   {
    "duration": 123,
    "start_time": "2022-09-29T12:50:32.026Z"
   },
   {
    "duration": 12,
    "start_time": "2022-09-29T12:50:32.150Z"
   },
   {
    "duration": 13,
    "start_time": "2022-09-29T12:50:32.164Z"
   },
   {
    "duration": 151,
    "start_time": "2022-09-29T12:50:32.178Z"
   },
   {
    "duration": 14,
    "start_time": "2022-09-29T12:50:32.330Z"
   },
   {
    "duration": 13,
    "start_time": "2022-09-29T12:50:32.345Z"
   },
   {
    "duration": 138,
    "start_time": "2022-09-29T12:50:32.359Z"
   },
   {
    "duration": 26,
    "start_time": "2022-09-29T12:50:32.499Z"
   },
   {
    "duration": 14,
    "start_time": "2022-09-29T12:50:32.527Z"
   },
   {
    "duration": 143,
    "start_time": "2022-09-29T12:50:32.543Z"
   },
   {
    "duration": 12,
    "start_time": "2022-09-29T12:50:32.688Z"
   },
   {
    "duration": 21,
    "start_time": "2022-09-29T12:50:32.709Z"
   },
   {
    "duration": 132,
    "start_time": "2022-09-29T12:50:32.731Z"
   },
   {
    "duration": 11,
    "start_time": "2022-09-29T12:50:32.865Z"
   },
   {
    "duration": 13,
    "start_time": "2022-09-29T12:50:32.877Z"
   },
   {
    "duration": 149,
    "start_time": "2022-09-29T12:50:32.892Z"
   },
   {
    "duration": 21,
    "start_time": "2022-09-29T12:50:33.043Z"
   },
   {
    "duration": 8,
    "start_time": "2022-09-29T12:50:33.065Z"
   },
   {
    "duration": 9,
    "start_time": "2022-09-29T12:50:33.075Z"
   },
   {
    "duration": 204,
    "start_time": "2022-09-29T12:50:33.085Z"
   },
   {
    "duration": 33,
    "start_time": "2022-09-29T12:50:33.291Z"
   },
   {
    "duration": 5,
    "start_time": "2022-09-29T12:51:05.955Z"
   },
   {
    "duration": 5,
    "start_time": "2022-09-29T12:51:12.888Z"
   },
   {
    "duration": 7,
    "start_time": "2022-09-29T12:51:14.480Z"
   },
   {
    "duration": 6,
    "start_time": "2022-09-29T12:51:29.121Z"
   },
   {
    "duration": 5,
    "start_time": "2022-09-29T12:51:33.063Z"
   },
   {
    "duration": 15,
    "start_time": "2022-09-29T12:52:04.699Z"
   },
   {
    "duration": 21,
    "start_time": "2022-09-29T12:52:24.002Z"
   },
   {
    "duration": 5,
    "start_time": "2022-09-29T12:53:40.358Z"
   },
   {
    "duration": 6,
    "start_time": "2022-09-29T12:53:45.226Z"
   },
   {
    "duration": 9,
    "start_time": "2022-09-29T12:53:46.525Z"
   },
   {
    "duration": 104,
    "start_time": "2022-09-29T12:54:09.352Z"
   },
   {
    "duration": 7,
    "start_time": "2022-09-29T12:54:19.857Z"
   },
   {
    "duration": 13,
    "start_time": "2022-09-29T12:54:21.944Z"
   },
   {
    "duration": 7,
    "start_time": "2022-09-29T12:55:20.121Z"
   },
   {
    "duration": 3,
    "start_time": "2022-09-29T12:55:24.692Z"
   },
   {
    "duration": 6,
    "start_time": "2022-09-29T12:55:25.346Z"
   },
   {
    "duration": 4,
    "start_time": "2022-09-29T12:55:38.636Z"
   },
   {
    "duration": 11,
    "start_time": "2022-09-29T12:55:44.608Z"
   },
   {
    "duration": 4,
    "start_time": "2022-09-29T12:57:28.906Z"
   },
   {
    "duration": 6,
    "start_time": "2022-09-29T12:57:39.064Z"
   },
   {
    "duration": 4,
    "start_time": "2022-09-29T12:57:41.628Z"
   },
   {
    "duration": 6,
    "start_time": "2022-09-29T12:57:43.391Z"
   },
   {
    "duration": 11,
    "start_time": "2022-09-29T12:58:31.006Z"
   },
   {
    "duration": 4,
    "start_time": "2022-09-29T13:00:56.221Z"
   },
   {
    "duration": 81,
    "start_time": "2022-09-29T13:01:05.640Z"
   },
   {
    "duration": 3,
    "start_time": "2022-09-29T13:04:08.840Z"
   },
   {
    "duration": 5,
    "start_time": "2022-09-29T13:04:09.527Z"
   },
   {
    "duration": 1142,
    "start_time": "2022-09-29T13:06:28.747Z"
   },
   {
    "duration": 8,
    "start_time": "2022-09-29T13:06:41.021Z"
   },
   {
    "duration": 7,
    "start_time": "2022-09-29T13:08:39.642Z"
   },
   {
    "duration": 20,
    "start_time": "2022-09-29T13:08:49.300Z"
   },
   {
    "duration": 7,
    "start_time": "2022-09-29T13:09:42.561Z"
   },
   {
    "duration": 7,
    "start_time": "2022-09-29T13:09:51.938Z"
   },
   {
    "duration": 73,
    "start_time": "2022-09-29T13:12:10.421Z"
   },
   {
    "duration": 800,
    "start_time": "2022-09-30T07:34:34.716Z"
   },
   {
    "duration": 142,
    "start_time": "2022-09-30T07:34:35.518Z"
   },
   {
    "duration": 17,
    "start_time": "2022-09-30T07:34:35.662Z"
   },
   {
    "duration": 16,
    "start_time": "2022-09-30T07:34:35.681Z"
   },
   {
    "duration": 2097,
    "start_time": "2022-09-30T07:34:35.699Z"
   },
   {
    "duration": 9,
    "start_time": "2022-09-30T07:34:37.798Z"
   },
   {
    "duration": 50,
    "start_time": "2022-09-30T07:34:37.809Z"
   },
   {
    "duration": 5,
    "start_time": "2022-09-30T07:34:37.861Z"
   },
   {
    "duration": 51,
    "start_time": "2022-09-30T07:34:37.868Z"
   },
   {
    "duration": 6,
    "start_time": "2022-09-30T07:34:37.922Z"
   },
   {
    "duration": 7,
    "start_time": "2022-09-30T07:34:37.930Z"
   },
   {
    "duration": 4,
    "start_time": "2022-09-30T07:34:37.939Z"
   },
   {
    "duration": 7,
    "start_time": "2022-09-30T07:34:37.945Z"
   },
   {
    "duration": 58,
    "start_time": "2022-09-30T07:34:37.953Z"
   },
   {
    "duration": 8,
    "start_time": "2022-09-30T07:34:38.013Z"
   },
   {
    "duration": 20,
    "start_time": "2022-09-30T07:34:38.023Z"
   },
   {
    "duration": 7,
    "start_time": "2022-09-30T07:34:38.046Z"
   },
   {
    "duration": 70,
    "start_time": "2022-09-30T07:34:38.055Z"
   },
   {
    "duration": 76,
    "start_time": "2022-09-30T07:34:38.127Z"
   },
   {
    "duration": 16,
    "start_time": "2022-09-30T07:34:38.205Z"
   },
   {
    "duration": 84,
    "start_time": "2022-09-30T07:34:38.223Z"
   },
   {
    "duration": 4,
    "start_time": "2022-09-30T07:34:38.308Z"
   },
   {
    "duration": 10,
    "start_time": "2022-09-30T07:34:38.313Z"
   },
   {
    "duration": 7,
    "start_time": "2022-09-30T07:34:38.325Z"
   },
   {
    "duration": 7,
    "start_time": "2022-09-30T07:34:38.334Z"
   },
   {
    "duration": 7,
    "start_time": "2022-09-30T07:34:38.343Z"
   },
   {
    "duration": 4,
    "start_time": "2022-09-30T07:34:38.351Z"
   },
   {
    "duration": 37,
    "start_time": "2022-09-30T07:34:38.360Z"
   },
   {
    "duration": 5,
    "start_time": "2022-09-30T07:34:38.399Z"
   },
   {
    "duration": 7,
    "start_time": "2022-09-30T07:34:38.405Z"
   },
   {
    "duration": 317,
    "start_time": "2022-09-30T07:34:38.414Z"
   },
   {
    "duration": 6,
    "start_time": "2022-09-30T07:34:38.733Z"
   },
   {
    "duration": 24,
    "start_time": "2022-09-30T07:34:38.741Z"
   },
   {
    "duration": 108,
    "start_time": "2022-09-30T07:34:38.766Z"
   },
   {
    "duration": 187,
    "start_time": "2022-09-30T07:34:38.876Z"
   },
   {
    "duration": 291,
    "start_time": "2022-09-30T07:34:39.065Z"
   },
   {
    "duration": 229,
    "start_time": "2022-09-30T07:34:39.358Z"
   },
   {
    "duration": 185,
    "start_time": "2022-09-30T07:34:39.589Z"
   },
   {
    "duration": 145,
    "start_time": "2022-09-30T07:34:39.776Z"
   },
   {
    "duration": 155,
    "start_time": "2022-09-30T07:34:39.923Z"
   },
   {
    "duration": 153,
    "start_time": "2022-09-30T07:34:40.079Z"
   },
   {
    "duration": 148,
    "start_time": "2022-09-30T07:34:40.236Z"
   },
   {
    "duration": 145,
    "start_time": "2022-09-30T07:34:40.386Z"
   },
   {
    "duration": 149,
    "start_time": "2022-09-30T07:34:40.533Z"
   },
   {
    "duration": 140,
    "start_time": "2022-09-30T07:34:40.684Z"
   },
   {
    "duration": 175,
    "start_time": "2022-09-30T07:34:40.826Z"
   },
   {
    "duration": 274,
    "start_time": "2022-09-30T07:34:41.003Z"
   },
   {
    "duration": 147,
    "start_time": "2022-09-30T07:34:41.279Z"
   },
   {
    "duration": 15,
    "start_time": "2022-09-30T07:34:41.428Z"
   },
   {
    "duration": 175,
    "start_time": "2022-09-30T07:34:41.445Z"
   },
   {
    "duration": 13,
    "start_time": "2022-09-30T07:34:41.622Z"
   },
   {
    "duration": 27,
    "start_time": "2022-09-30T07:34:41.637Z"
   },
   {
    "duration": 30,
    "start_time": "2022-09-30T07:34:41.666Z"
   },
   {
    "duration": 163,
    "start_time": "2022-09-30T07:34:41.698Z"
   },
   {
    "duration": 4,
    "start_time": "2022-09-30T07:34:41.862Z"
   },
   {
    "duration": 28,
    "start_time": "2022-09-30T07:34:41.868Z"
   },
   {
    "duration": 15,
    "start_time": "2022-09-30T07:34:41.898Z"
   },
   {
    "duration": 164,
    "start_time": "2022-09-30T07:34:41.915Z"
   },
   {
    "duration": 23,
    "start_time": "2022-09-30T07:34:42.081Z"
   },
   {
    "duration": 16,
    "start_time": "2022-09-30T07:34:42.105Z"
   },
   {
    "duration": 154,
    "start_time": "2022-09-30T07:34:42.123Z"
   },
   {
    "duration": 20,
    "start_time": "2022-09-30T07:34:42.279Z"
   },
   {
    "duration": 36,
    "start_time": "2022-09-30T07:34:42.301Z"
   },
   {
    "duration": 147,
    "start_time": "2022-09-30T07:34:42.339Z"
   },
   {
    "duration": 18,
    "start_time": "2022-09-30T07:34:42.487Z"
   },
   {
    "duration": 28,
    "start_time": "2022-09-30T07:34:42.507Z"
   },
   {
    "duration": 170,
    "start_time": "2022-09-30T07:34:42.537Z"
   },
   {
    "duration": 14,
    "start_time": "2022-09-30T07:34:42.709Z"
   },
   {
    "duration": 16,
    "start_time": "2022-09-30T07:34:42.724Z"
   },
   {
    "duration": 193,
    "start_time": "2022-09-30T07:34:42.741Z"
   },
   {
    "duration": 13,
    "start_time": "2022-09-30T07:34:42.935Z"
   },
   {
    "duration": 14,
    "start_time": "2022-09-30T07:34:42.950Z"
   },
   {
    "duration": 159,
    "start_time": "2022-09-30T07:34:42.965Z"
   },
   {
    "duration": 14,
    "start_time": "2022-09-30T07:34:43.126Z"
   },
   {
    "duration": 19,
    "start_time": "2022-09-30T07:34:43.141Z"
   },
   {
    "duration": 152,
    "start_time": "2022-09-30T07:34:43.161Z"
   },
   {
    "duration": 23,
    "start_time": "2022-09-30T07:34:43.315Z"
   },
   {
    "duration": 11,
    "start_time": "2022-09-30T07:34:43.340Z"
   },
   {
    "duration": 18,
    "start_time": "2022-09-30T07:34:43.352Z"
   },
   {
    "duration": 182,
    "start_time": "2022-09-30T07:34:43.372Z"
   },
   {
    "duration": 20,
    "start_time": "2022-09-30T07:34:43.555Z"
   },
   {
    "duration": 54,
    "start_time": "2023-06-15T12:36:01.154Z"
   },
   {
    "duration": 820,
    "start_time": "2023-06-15T12:36:05.062Z"
   },
   {
    "duration": 664,
    "start_time": "2023-06-15T12:36:05.884Z"
   },
   {
    "duration": 21,
    "start_time": "2023-06-15T12:36:06.550Z"
   },
   {
    "duration": 21,
    "start_time": "2023-06-15T12:36:08.016Z"
   },
   {
    "duration": 1738,
    "start_time": "2023-06-15T12:36:10.445Z"
   },
   {
    "duration": 49,
    "start_time": "2023-06-15T12:36:51.308Z"
   },
   {
    "duration": 69,
    "start_time": "2023-06-15T12:38:27.439Z"
   }
  ],
  "kernelspec": {
   "display_name": "Python 3 (ipykernel)",
   "language": "python",
   "name": "python3"
  },
  "language_info": {
   "codemirror_mode": {
    "name": "ipython",
    "version": 3
   },
   "file_extension": ".py",
   "mimetype": "text/x-python",
   "name": "python",
   "nbconvert_exporter": "python",
   "pygments_lexer": "ipython3",
   "version": "3.9.5"
  },
  "toc": {
   "base_numbering": 1,
   "nav_menu": {},
   "number_sections": true,
   "sideBar": true,
   "skip_h1_title": true,
   "title_cell": "Table of Contents",
   "title_sidebar": "Contents",
   "toc_cell": false,
   "toc_position": {},
   "toc_section_display": true,
   "toc_window_display": false
  }
 },
 "nbformat": 4,
 "nbformat_minor": 2
}
