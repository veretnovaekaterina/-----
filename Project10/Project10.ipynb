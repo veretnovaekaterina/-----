{
 "cells": [
  {
   "cell_type": "markdown",
   "metadata": {
    "toc": true
   },
   "source": [
    "<h1>Содержание<span class=\"tocSkip\"></span></h1>\n",
    "<div class=\"toc\"><ul class=\"toc-item\"><li><span><a href=\"#Загрузка-данных\" data-toc-modified-id=\"Загрузка-данных-1\"><span class=\"toc-item-num\">1&nbsp;&nbsp;</span>Загрузка данных</a></span></li><li><span><a href=\"#Умножение-матриц\" data-toc-modified-id=\"Умножение-матриц-2\"><span class=\"toc-item-num\">2&nbsp;&nbsp;</span>Умножение матриц</a></span></li><li><span><a href=\"#Алгоритм-преобразования\" data-toc-modified-id=\"Алгоритм-преобразования-3\"><span class=\"toc-item-num\">3&nbsp;&nbsp;</span>Алгоритм преобразования</a></span></li><li><span><a href=\"#Проверка-алгоритма\" data-toc-modified-id=\"Проверка-алгоритма-4\"><span class=\"toc-item-num\">4&nbsp;&nbsp;</span>Проверка алгоритма</a></span></li></ul></div>"
   ]
  },
  {
   "cell_type": "markdown",
   "metadata": {},
   "source": [
    "# Защита персональных данных клиентов"
   ]
  },
  {
   "cell_type": "markdown",
   "metadata": {},
   "source": [
    "В данном проекте нам нужно защитить данные клиентов страховой компании «Хоть потоп». Необходимо разработать такой метод преобразования данных, чтобы по ним было сложно восстановить персональную информацию и обосновать корректность его работы.\n",
    "\n",
    "Нам нужно защитить данные, чтобы при преобразовании качество моделей машинного обучения не ухудшилось.\n",
    "\n",
    "Признаки: пол, возраст и зарплата застрахованного, количество членов его семьи.\n",
    "Целевой признак: количество страховых выплат клиенту за последние 5 лет."
   ]
  },
  {
   "cell_type": "markdown",
   "metadata": {},
   "source": [
    "## Загрузка данных"
   ]
  },
  {
   "cell_type": "code",
   "execution_count": 1,
   "metadata": {},
   "outputs": [],
   "source": [
    "import pandas as pd\n",
    "import numpy as np\n",
    "import matplotlib.pyplot as plt\n",
    "from sklearn.model_selection import train_test_split\n",
    "from sklearn.metrics import r2_score\n",
    "from numpy import linalg  as LA\n",
    "from sklearn.linear_model import LinearRegression\n",
    "\n"
   ]
  },
  {
   "cell_type": "code",
   "execution_count": 2,
   "metadata": {},
   "outputs": [],
   "source": [
    "data = pd.read_csv('/datasets/insurance.csv')"
   ]
  },
  {
   "cell_type": "code",
   "execution_count": 3,
   "metadata": {},
   "outputs": [
    {
     "name": "stdout",
     "output_type": "stream",
     "text": [
      "<class 'pandas.core.frame.DataFrame'>\n",
      "RangeIndex: 5000 entries, 0 to 4999\n",
      "Data columns (total 5 columns):\n",
      " #   Column             Non-Null Count  Dtype  \n",
      "---  ------             --------------  -----  \n",
      " 0   Пол                5000 non-null   int64  \n",
      " 1   Возраст            5000 non-null   float64\n",
      " 2   Зарплата           5000 non-null   float64\n",
      " 3   Члены семьи        5000 non-null   int64  \n",
      " 4   Страховые выплаты  5000 non-null   int64  \n",
      "dtypes: float64(2), int64(3)\n",
      "memory usage: 195.4 KB\n"
     ]
    }
   ],
   "source": [
    "data.info()"
   ]
  },
  {
   "cell_type": "code",
   "execution_count": 4,
   "metadata": {},
   "outputs": [],
   "source": [
    "data['Возраст'] = data['Возраст'].astype('int')\n",
    "data['Зарплата'] = data['Зарплата'].astype('int')\n"
   ]
  },
  {
   "cell_type": "code",
   "execution_count": 5,
   "metadata": {},
   "outputs": [
    {
     "name": "stdout",
     "output_type": "stream",
     "text": [
      "<class 'pandas.core.frame.DataFrame'>\n",
      "RangeIndex: 5000 entries, 0 to 4999\n",
      "Data columns (total 5 columns):\n",
      " #   Column             Non-Null Count  Dtype\n",
      "---  ------             --------------  -----\n",
      " 0   Пол                5000 non-null   int64\n",
      " 1   Возраст            5000 non-null   int64\n",
      " 2   Зарплата           5000 non-null   int64\n",
      " 3   Члены семьи        5000 non-null   int64\n",
      " 4   Страховые выплаты  5000 non-null   int64\n",
      "dtypes: int64(5)\n",
      "memory usage: 195.4 KB\n"
     ]
    }
   ],
   "source": [
    "data.info()"
   ]
  },
  {
   "cell_type": "code",
   "execution_count": 6,
   "metadata": {},
   "outputs": [
    {
     "data": {
      "text/plain": [
       "Пол                  0\n",
       "Возраст              0\n",
       "Зарплата             0\n",
       "Члены семьи          0\n",
       "Страховые выплаты    0\n",
       "dtype: int64"
      ]
     },
     "execution_count": 6,
     "metadata": {},
     "output_type": "execute_result"
    }
   ],
   "source": [
    "data.isna().sum()"
   ]
  },
  {
   "cell_type": "code",
   "execution_count": 7,
   "metadata": {},
   "outputs": [
    {
     "data": {
      "text/plain": [
       "153"
      ]
     },
     "execution_count": 7,
     "metadata": {},
     "output_type": "execute_result"
    }
   ],
   "source": [
    "data.duplicated().sum()"
   ]
  },
  {
   "cell_type": "code",
   "execution_count": 8,
   "metadata": {},
   "outputs": [],
   "source": [
    "data = data.drop_duplicates()"
   ]
  },
  {
   "cell_type": "code",
   "execution_count": 9,
   "metadata": {},
   "outputs": [
    {
     "data": {
      "text/plain": [
       "0"
      ]
     },
     "execution_count": 9,
     "metadata": {},
     "output_type": "execute_result"
    }
   ],
   "source": [
    "data.duplicated().sum()"
   ]
  },
  {
   "cell_type": "code",
   "execution_count": 10,
   "metadata": {},
   "outputs": [
    {
     "data": {
      "image/png": "[encoded data removed]",
      "text/plain": [
       "<Figure size 432x288 with 1 Axes>"
      ]
     },
     "metadata": {
      "needs_background": "light"
     },
     "output_type": "display_data"
    }
   ],
   "source": [
    "\n",
    "plt.hist(data['Страховые выплаты'], bins=30)\n",
    "plt.title('Страховые выплаты')\n",
    "plt.xlabel('Страховые выплаты')\n",
    "\n",
    "plt.show()\n"
   ]
  },
  {
   "cell_type": "markdown",
   "metadata": {},
   "source": [
    "В данном разделе мы загрузили и изучили данные. Проверили на дубликаты, и удалили имеющиеся. Привели все данные к типу \"int\". \n",
    "Изучили целевой признак (страховые выплаты). Судя по гистограмме страховых выплат очень мало."
   ]
  },
  {
   "cell_type": "markdown",
   "metadata": {},
   "source": [
    "## Умножение матриц"
   ]
  },
  {
   "cell_type": "markdown",
   "metadata": {},
   "source": [
    "В этом задании вы можете записывать формулы в *Jupyter Notebook.*\n",
    "\n",
    "Чтобы записать формулу внутри текста, окружите её символами доллара \\\\$; если снаружи —  двойными символами \\\\$\\\\$. Эти формулы записываются на языке вёрстки *LaTeX.* \n",
    "\n",
    "Для примера мы записали формулы линейной регрессии. Можете их скопировать и отредактировать, чтобы решить задачу.\n",
    "\n",
    "Работать в *LaTeX* необязательно."
   ]
  },
  {
   "cell_type": "markdown",
   "metadata": {},
   "source": [
    "Обозначения:\n",
    "\n",
    "- $X$ — матрица признаков (нулевой столбец состоит из единиц)\n",
    "\n",
    "- $y$ — вектор целевого признака\n",
    "\n",
    "- $P$ — матрица, на которую умножаются признаки\n",
    "\n",
    "- $w$ — вектор весов линейной регрессии (нулевой элемент равен сдвигу)"
   ]
  },
  {
   "cell_type": "markdown",
   "metadata": {},
   "source": [
    "Предсказания:\n",
    "\n",
    "$$\n",
    "a = Xw\n",
    "$$\n",
    "\n",
    "Задача обучения:\n",
    "\n",
    "$$\n",
    "w = \\arg\\min_w MSE(Xw, y)\n",
    "$$\n",
    "\n",
    "Формула обучения:\n",
    "\n",
    "$$\n",
    "w = (X^T X)^{-1} X^T y\n",
    "$$"
   ]
  },
  {
   "cell_type": "markdown",
   "metadata": {},
   "source": [
    "**Ответ**: При умножении матрицы признаков на обратимую матрицу, качество линейной регресии не изменится."
   ]
  },
  {
   "cell_type": "markdown",
   "metadata": {},
   "source": [
    "**Обоснование:** ...\n",
    "Предположим, что M обратима. Тогда\n",
    "Ax=b подразумевает MAx=Mb подразумевает M−1MAx=M−1Mb подразумевает Ax=b. \n",
    "M является обратимым. Тогда\n",
    "A x = b⟹ M A x = M b⟹M−1 M A x =M−1 M b⟹A x = b.\n",
    "\n",
    "Взято  из https://math.stackexchange.com/questions/2340563/how-to-prove-that-multiplying-the-equation-ax-b-from-the-left-with-invertibl"
   ]
  },
  {
   "cell_type": "markdown",
   "metadata": {},
   "source": [
    "## Алгоритм преобразования"
   ]
  },
  {
   "cell_type": "markdown",
   "metadata": {},
   "source": [
    "**Алгоритм**\n",
    "Наша задача проанализировать предложенный алгоритм преобразования данных и проверить наш предудыщий вывод - что качество линейной регрессии не поменяется. \n",
    "1. Генерируем произвольную обратимую матрицу\n",
    "2. Параметры линейной регрессии обозначим в переменных (целевой признак, остальные признаки)\n",
    "3. Обучим модель и найдем значенние R2 на модели.\n",
    "4. Затем умножим обратную матрицу на матрицу признаков.\n",
    "5. Обучим модель на новых данных  и найдем значение R2 на обученной модели\n",
    "6. сравним результаты первоначальной и конечной метрик R2"
   ]
  },
  {
   "cell_type": "markdown",
   "metadata": {},
   "source": [
    "**Обоснование**\n",
    "\n",
    "Мы умножим наши признаки на произвольную обратимую матрицу и сравним результаты метрики R2 до умножения и после."
   ]
  },
  {
   "cell_type": "markdown",
   "metadata": {},
   "source": [
    "## Проверка алгоритма"
   ]
  },
  {
   "cell_type": "code",
   "execution_count": 11,
   "metadata": {},
   "outputs": [],
   "source": [
    "features = data.drop('Страховые выплаты', axis=1).values\n",
    "target = data['Страховые выплаты'].values"
   ]
  },
  {
   "cell_type": "code",
   "execution_count": 12,
   "metadata": {},
   "outputs": [
    {
     "data": {
      "text/plain": [
       "array([[-0.90710989, -0.02469993, -1.39896245, -2.4888691 ],\n",
       "       [-0.57726352, -1.26746927,  1.54120103,  0.43932215],\n",
       "       [ 0.32929212, -1.71664571,  0.33126168,  0.25613489],\n",
       "       [-0.9705901 ,  0.50780293,  0.14263768, -0.17154658]])"
      ]
     },
     "execution_count": 12,
     "metadata": {},
     "output_type": "execute_result"
    }
   ],
   "source": [
    "M_random =np.random.normal(size = (4,4)) \n",
    "M_random"
   ]
  },
  {
   "cell_type": "code",
   "execution_count": 16,
   "metadata": {},
   "outputs": [
    {
     "data": {
      "text/plain": [
       "array([[ 0.1056801 ,  0.42079736, -0.80058311, -1.65095454],\n",
       "       [-0.02681062,  0.18818647, -0.83009611, -0.3684945 ],\n",
       "       [ 0.17024572,  1.19730593, -1.27182439, -1.30270684],\n",
       "       [-0.53573272, -0.82822503,  1.0149006 ,  1.3376103 ]])"
      ]
     },
     "execution_count": 16,
     "metadata": {},
     "output_type": "execute_result"
    }
   ],
   "source": [
    "LA.inv(M_random)\n"
   ]
  },
  {
   "cell_type": "code",
   "execution_count": 14,
   "metadata": {},
   "outputs": [
    {
     "name": "stdout",
     "output_type": "stream",
     "text": [
      "R2 на исходных признаках: 0.4302010046633359\n"
     ]
    }
   ],
   "source": [
    "model = LinearRegression()\n",
    "model.fit(features, target)\n",
    "predictions = model.predict(features)\n",
    "print('R2 на исходных признаках:',r2_score(target, predictions))"
   ]
  },
  {
   "cell_type": "code",
   "execution_count": 15,
   "metadata": {},
   "outputs": [
    {
     "name": "stdout",
     "output_type": "stream",
     "text": [
      "R2 на преобразованных признаках: 0.4302010046633271\n"
     ]
    }
   ],
   "source": [
    "M_new = features @ M_random\n",
    "model.fit(M_new, target)\n",
    "predictions = model.predict(M_new)\n",
    "print('R2 на преобразованных признаках:',r2_score(target, predictions))"
   ]
  },
  {
   "cell_type": "markdown",
   "metadata": {},
   "source": [
    "# Вывод: \n",
    "Качество линейной регрессии не отличается до и после преобразования. Что и требовалось доказать."
   ]
  }
 ],
 "metadata": {
  "ExecuteTimeLog": [
   {
    "duration": 1055,
    "start_time": "2023-01-11T07:31:25.996Z"
   },
   {
    "duration": 71,
    "start_time": "2023-01-11T07:31:27.876Z"
   },
   {
    "duration": 14,
    "start_time": "2023-01-11T07:31:55.091Z"
   },
   {
    "duration": 10,
    "start_time": "2023-01-11T07:32:42.315Z"
   },
   {
    "duration": 6,
    "start_time": "2023-01-11T07:33:35.428Z"
   },
   {
    "duration": 6,
    "start_time": "2023-01-11T07:37:02.193Z"
   },
   {
    "duration": 15,
    "start_time": "2023-01-11T07:37:10.583Z"
   },
   {
    "duration": 6,
    "start_time": "2023-01-11T07:37:15.958Z"
   },
   {
    "duration": 6,
    "start_time": "2023-01-11T07:38:14.413Z"
   },
   {
    "duration": 12,
    "start_time": "2023-01-11T07:38:15.445Z"
   },
   {
    "duration": 5,
    "start_time": "2023-01-11T07:38:54.994Z"
   },
   {
    "duration": 4,
    "start_time": "2023-01-11T07:40:53.615Z"
   },
   {
    "duration": 9,
    "start_time": "2023-01-11T07:41:03.963Z"
   },
   {
    "duration": 6,
    "start_time": "2023-01-11T07:41:09.881Z"
   },
   {
    "duration": 7,
    "start_time": "2023-01-11T07:41:15.244Z"
   },
   {
    "duration": 11,
    "start_time": "2023-01-11T07:41:16.539Z"
   },
   {
    "duration": 5,
    "start_time": "2023-01-11T07:41:38.270Z"
   },
   {
    "duration": 6,
    "start_time": "2023-01-11T07:41:40.672Z"
   },
   {
    "duration": 94,
    "start_time": "2023-01-11T07:48:36.706Z"
   },
   {
    "duration": 421,
    "start_time": "2023-01-11T07:48:59.946Z"
   },
   {
    "duration": 29,
    "start_time": "2023-01-11T07:49:02.594Z"
   },
   {
    "duration": 11,
    "start_time": "2023-01-11T07:49:02.726Z"
   },
   {
    "duration": 5,
    "start_time": "2023-01-11T07:49:02.881Z"
   },
   {
    "duration": 11,
    "start_time": "2023-01-11T07:49:03.031Z"
   },
   {
    "duration": 6,
    "start_time": "2023-01-11T07:49:03.185Z"
   },
   {
    "duration": 12,
    "start_time": "2023-01-11T07:49:04.992Z"
   },
   {
    "duration": 6,
    "start_time": "2023-01-11T07:49:05.680Z"
   },
   {
    "duration": 7,
    "start_time": "2023-01-11T07:49:06.216Z"
   },
   {
    "duration": 179,
    "start_time": "2023-01-11T07:49:07.224Z"
   },
   {
    "duration": 64,
    "start_time": "2023-01-11T08:02:29.465Z"
   },
   {
    "duration": 4,
    "start_time": "2023-01-11T08:46:21.727Z"
   },
   {
    "duration": 5,
    "start_time": "2023-01-11T08:47:25.380Z"
   },
   {
    "duration": 4,
    "start_time": "2023-01-11T08:47:56.431Z"
   },
   {
    "duration": 15,
    "start_time": "2023-01-11T08:49:06.638Z"
   },
   {
    "duration": 18,
    "start_time": "2023-01-11T08:50:12.140Z"
   },
   {
    "duration": 13,
    "start_time": "2023-01-11T08:50:29.920Z"
   },
   {
    "duration": 15,
    "start_time": "2023-01-11T08:51:35.411Z"
   },
   {
    "duration": 13,
    "start_time": "2023-01-11T08:51:48.571Z"
   },
   {
    "duration": 4,
    "start_time": "2023-01-11T09:01:12.055Z"
   },
   {
    "duration": 5,
    "start_time": "2023-01-11T09:01:13.218Z"
   },
   {
    "duration": 13,
    "start_time": "2023-01-11T09:01:17.399Z"
   },
   {
    "duration": 8,
    "start_time": "2023-01-11T09:01:27.198Z"
   },
   {
    "duration": 14,
    "start_time": "2023-01-11T09:01:28.643Z"
   },
   {
    "duration": 6,
    "start_time": "2023-01-11T09:02:18.353Z"
   },
   {
    "duration": 1314,
    "start_time": "2023-01-11T09:02:23.378Z"
   },
   {
    "duration": 27,
    "start_time": "2023-01-11T09:02:24.695Z"
   },
   {
    "duration": 13,
    "start_time": "2023-01-11T09:02:24.724Z"
   },
   {
    "duration": 39,
    "start_time": "2023-01-11T09:02:24.739Z"
   },
   {
    "duration": 33,
    "start_time": "2023-01-11T09:02:24.780Z"
   },
   {
    "duration": 26,
    "start_time": "2023-01-11T09:02:24.815Z"
   },
   {
    "duration": 47,
    "start_time": "2023-01-11T09:02:24.843Z"
   },
   {
    "duration": 49,
    "start_time": "2023-01-11T09:02:24.892Z"
   },
   {
    "duration": 21,
    "start_time": "2023-01-11T09:02:24.943Z"
   },
   {
    "duration": 215,
    "start_time": "2023-01-11T09:02:24.967Z"
   },
   {
    "duration": 5,
    "start_time": "2023-01-11T09:02:25.185Z"
   },
   {
    "duration": 33,
    "start_time": "2023-01-11T09:02:25.191Z"
   },
   {
    "duration": 79,
    "start_time": "2023-01-11T09:02:25.225Z"
   },
   {
    "duration": 321,
    "start_time": "2023-01-11T09:02:25.307Z"
   },
   {
    "duration": 1312,
    "start_time": "2023-01-11T09:02:45.047Z"
   },
   {
    "duration": 27,
    "start_time": "2023-01-11T09:02:46.361Z"
   },
   {
    "duration": 46,
    "start_time": "2023-01-11T09:02:46.389Z"
   },
   {
    "duration": 4,
    "start_time": "2023-01-11T09:02:46.437Z"
   },
   {
    "duration": 17,
    "start_time": "2023-01-11T09:02:46.443Z"
   },
   {
    "duration": 9,
    "start_time": "2023-01-11T09:02:46.462Z"
   },
   {
    "duration": 15,
    "start_time": "2023-01-11T09:02:46.473Z"
   },
   {
    "duration": 9,
    "start_time": "2023-01-11T09:02:46.489Z"
   },
   {
    "duration": 11,
    "start_time": "2023-01-11T09:02:46.499Z"
   },
   {
    "duration": 158,
    "start_time": "2023-01-11T09:02:46.513Z"
   },
   {
    "duration": 4,
    "start_time": "2023-01-11T09:02:46.675Z"
   },
   {
    "duration": 9,
    "start_time": "2023-01-11T09:02:46.680Z"
   },
   {
    "duration": 14,
    "start_time": "2023-01-11T09:02:46.690Z"
   },
   {
    "duration": 272,
    "start_time": "2023-01-11T09:02:46.705Z"
   },
   {
    "duration": 14,
    "start_time": "2023-01-11T09:04:00.218Z"
   },
   {
    "duration": 5,
    "start_time": "2023-01-11T09:05:49.282Z"
   },
   {
    "duration": 9,
    "start_time": "2023-01-11T09:06:01.861Z"
   },
   {
    "duration": 7,
    "start_time": "2023-01-11T09:06:03.078Z"
   },
   {
    "duration": 12,
    "start_time": "2023-01-11T09:06:04.214Z"
   },
   {
    "duration": 10,
    "start_time": "2023-01-11T09:10:07.673Z"
   },
   {
    "duration": 6,
    "start_time": "2023-01-11T09:10:13.773Z"
   },
   {
    "duration": 46,
    "start_time": "2023-01-11T09:10:21.630Z"
   },
   {
    "duration": 15,
    "start_time": "2023-01-11T09:10:23.301Z"
   },
   {
    "duration": 1250,
    "start_time": "2023-01-11T09:11:55.466Z"
   },
   {
    "duration": 28,
    "start_time": "2023-01-11T09:11:56.718Z"
   },
   {
    "duration": 11,
    "start_time": "2023-01-11T09:11:56.747Z"
   },
   {
    "duration": 7,
    "start_time": "2023-01-11T09:11:56.760Z"
   },
   {
    "duration": 16,
    "start_time": "2023-01-11T09:11:56.768Z"
   },
   {
    "duration": 11,
    "start_time": "2023-01-11T09:11:56.785Z"
   },
   {
    "duration": 10,
    "start_time": "2023-01-11T09:11:56.797Z"
   },
   {
    "duration": 5,
    "start_time": "2023-01-11T09:11:56.808Z"
   },
   {
    "duration": 7,
    "start_time": "2023-01-11T09:11:56.814Z"
   },
   {
    "duration": 173,
    "start_time": "2023-01-11T09:11:56.823Z"
   },
   {
    "duration": 4,
    "start_time": "2023-01-11T09:11:56.997Z"
   },
   {
    "duration": 8,
    "start_time": "2023-01-11T09:11:57.002Z"
   },
   {
    "duration": 13,
    "start_time": "2023-01-11T09:11:57.011Z"
   },
   {
    "duration": 61,
    "start_time": "2023-01-11T09:11:57.026Z"
   },
   {
    "duration": 292,
    "start_time": "2023-01-11T09:11:57.089Z"
   },
   {
    "duration": 1304,
    "start_time": "2023-01-11T09:12:29.401Z"
   },
   {
    "duration": 29,
    "start_time": "2023-01-11T09:12:30.707Z"
   },
   {
    "duration": 14,
    "start_time": "2023-01-11T09:12:30.737Z"
   },
   {
    "duration": 24,
    "start_time": "2023-01-11T09:12:30.752Z"
   },
   {
    "duration": 54,
    "start_time": "2023-01-11T09:12:30.778Z"
   },
   {
    "duration": 44,
    "start_time": "2023-01-11T09:12:30.833Z"
   },
   {
    "duration": 34,
    "start_time": "2023-01-11T09:12:30.878Z"
   },
   {
    "duration": 24,
    "start_time": "2023-01-11T09:12:30.914Z"
   },
   {
    "duration": 43,
    "start_time": "2023-01-11T09:12:30.940Z"
   },
   {
    "duration": 192,
    "start_time": "2023-01-11T09:12:30.986Z"
   },
   {
    "duration": 4,
    "start_time": "2023-01-11T09:12:31.179Z"
   },
   {
    "duration": 54,
    "start_time": "2023-01-11T09:12:31.185Z"
   },
   {
    "duration": 41,
    "start_time": "2023-01-11T09:12:31.241Z"
   },
   {
    "duration": 98,
    "start_time": "2023-01-11T09:12:31.285Z"
   },
   {
    "duration": 301,
    "start_time": "2023-01-11T09:12:31.385Z"
   },
   {
    "duration": 8,
    "start_time": "2023-01-11T09:34:57.135Z"
   },
   {
    "duration": 4,
    "start_time": "2023-01-11T09:35:03.688Z"
   },
   {
    "duration": 6,
    "start_time": "2023-01-11T09:35:05.978Z"
   },
   {
    "duration": 7,
    "start_time": "2023-01-11T09:35:08.344Z"
   },
   {
    "duration": 17,
    "start_time": "2023-01-11T09:35:10.409Z"
   },
   {
    "duration": 10,
    "start_time": "2023-01-11T09:37:11.098Z"
   },
   {
    "duration": 5,
    "start_time": "2023-01-11T09:37:22.648Z"
   },
   {
    "duration": 70,
    "start_time": "2023-01-11T09:37:24.578Z"
   },
   {
    "duration": 4,
    "start_time": "2023-01-11T09:37:40.743Z"
   },
   {
    "duration": 5,
    "start_time": "2023-01-11T09:37:41.455Z"
   },
   {
    "duration": 11,
    "start_time": "2023-01-11T09:37:43.477Z"
   },
   {
    "duration": 13,
    "start_time": "2023-01-11T09:43:41.642Z"
   },
   {
    "duration": 10,
    "start_time": "2023-01-11T09:44:25.102Z"
   },
   {
    "duration": 50,
    "start_time": "2023-01-11T12:55:46.598Z"
   },
   {
    "duration": 1599,
    "start_time": "2023-01-11T12:55:53.136Z"
   },
   {
    "duration": 82,
    "start_time": "2023-01-11T12:55:54.738Z"
   },
   {
    "duration": 16,
    "start_time": "2023-01-11T12:55:54.821Z"
   },
   {
    "duration": 19,
    "start_time": "2023-01-11T12:55:54.839Z"
   },
   {
    "duration": 24,
    "start_time": "2023-01-11T12:55:54.861Z"
   },
   {
    "duration": 16,
    "start_time": "2023-01-11T12:55:54.887Z"
   },
   {
    "duration": 8,
    "start_time": "2023-01-11T12:55:54.905Z"
   },
   {
    "duration": 8,
    "start_time": "2023-01-11T12:55:54.915Z"
   },
   {
    "duration": 17,
    "start_time": "2023-01-11T12:55:54.925Z"
   },
   {
    "duration": 197,
    "start_time": "2023-01-11T12:55:54.946Z"
   },
   {
    "duration": 5,
    "start_time": "2023-01-11T12:55:55.146Z"
   },
   {
    "duration": 13,
    "start_time": "2023-01-11T12:55:55.152Z"
   },
   {
    "duration": 46,
    "start_time": "2023-01-11T12:55:55.166Z"
   },
   {
    "duration": 110,
    "start_time": "2023-01-11T12:55:55.214Z"
   },
   {
    "duration": 199,
    "start_time": "2023-01-11T12:55:55.326Z"
   },
   {
    "duration": 5,
    "start_time": "2023-01-11T12:56:23.695Z"
   }
  ],
  "kernelspec": {
   "display_name": "Python 3 (ipykernel)",
   "language": "python",
   "name": "python3"
  },
  "language_info": {
   "codemirror_mode": {
    "name": "ipython",
    "version": 3
   },
   "file_extension": ".py",
   "mimetype": "text/x-python",
   "name": "python",
   "nbconvert_exporter": "python",
   "pygments_lexer": "ipython3",
   "version": "3.9.5"
  },
  "toc": {
   "base_numbering": 1,
   "nav_menu": {},
   "number_sections": true,
   "sideBar": true,
   "skip_h1_title": true,
   "title_cell": "Содержание",
   "title_sidebar": "Contents",
   "toc_cell": true,
   "toc_position": {},
   "toc_section_display": true,
   "toc_window_display": true
  }
 },
 "nbformat": 4,
 "nbformat_minor": 2
}
