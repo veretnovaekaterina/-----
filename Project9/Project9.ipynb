{
 "cells": [
  {
   "cell_type": "markdown",
   "metadata": {
    "toc": true
   },
   "source": [
    "<h1>Содержание<span class=\"tocSkip\"></span></h1>\n",
    "<div class=\"toc\"><ul class=\"toc-item\"><li><span><a href=\"#Подготовка-данных\" data-toc-modified-id=\"Подготовка-данных-1\"><span class=\"toc-item-num\">1&nbsp;&nbsp;</span>Подготовка данных</a></span></li><li><span><a href=\"#Анализ-данных\" data-toc-modified-id=\"Анализ-данных-2\"><span class=\"toc-item-num\">2&nbsp;&nbsp;</span>Анализ данных</a></span></li><li><span><a href=\"#Модель\" data-toc-modified-id=\"Модель-3\"><span class=\"toc-item-num\">3&nbsp;&nbsp;</span>Модель</a></span></li></ul></div>"
   ]
  },
  {
   "cell_type": "markdown",
   "metadata": {},
   "source": [
    "## Подготовка данных"
   ]
  },
  {
   "cell_type": "code",
   "execution_count": 1,
   "metadata": {},
   "outputs": [],
   "source": [
    "import pandas as pd\n",
    "from sklearn.preprocessing import StandardScaler \n",
    "from sklearn.linear_model import LinearRegression\n",
    "from sklearn.ensemble import RandomForestRegressor\n",
    "from sklearn.tree import DecisionTreeRegressor\n",
    "from sklearn.model_selection import train_test_split\n",
    "from sklearn.metrics import mean_squared_error\n",
    "from sklearn.metrics import accuracy_score\n",
    "from sklearn.metrics import mean_absolute_error\n",
    "from joblib import dump\n",
    "from sklearn.linear_model import LogisticRegression \n",
    "import numpy as np\n",
    "from scipy import stats as st\n",
    "from sklearn.metrics import make_scorer\n",
    "import matplotlib.pyplot as plt\n",
    "from sklearn.model_selection import cross_val_score\n",
    "import warnings\n",
    "import matplotlib.pyplot as plt\n",
    "import seaborn as sns\n",
    "warnings.filterwarnings(\"ignore\")\n"
   ]
  },
  {
   "cell_type": "code",
   "execution_count": 2,
   "metadata": {},
   "outputs": [],
   "source": [
    "train_data = pd.read_csv('/datasets/gold_recovery_train_new.csv', parse_dates = ['date'])\n",
    "test_data = pd.read_csv('/datasets/gold_recovery_test_new.csv', parse_dates = ['date'])\n",
    "full_data = pd.read_csv('/datasets/gold_recovery_full_new.csv', parse_dates = ['date'])\n",
    "\n"
   ]
  },
  {
   "cell_type": "code",
   "execution_count": 3,
   "metadata": {},
   "outputs": [
    {
     "name": "stdout",
     "output_type": "stream",
     "text": [
      "<class 'pandas.core.frame.DataFrame'>\n",
      "RangeIndex: 19439 entries, 0 to 19438\n",
      "Data columns (total 87 columns):\n",
      " #   Column                                              Non-Null Count  Dtype         \n",
      "---  ------                                              --------------  -----         \n",
      " 0   date                                                19439 non-null  datetime64[ns]\n",
      " 1   final.output.concentrate_ag                         19438 non-null  float64       \n",
      " 2   final.output.concentrate_pb                         19438 non-null  float64       \n",
      " 3   final.output.concentrate_sol                        19228 non-null  float64       \n",
      " 4   final.output.concentrate_au                         19439 non-null  float64       \n",
      " 5   final.output.recovery                               19439 non-null  float64       \n",
      " 6   final.output.tail_ag                                19438 non-null  float64       \n",
      " 7   final.output.tail_pb                                19338 non-null  float64       \n",
      " 8   final.output.tail_sol                               19433 non-null  float64       \n",
      " 9   final.output.tail_au                                19439 non-null  float64       \n",
      " 10  primary_cleaner.input.sulfate                       19415 non-null  float64       \n",
      " 11  primary_cleaner.input.depressant                    19402 non-null  float64       \n",
      " 12  primary_cleaner.input.feed_size                     19439 non-null  float64       \n",
      " 13  primary_cleaner.input.xanthate                      19335 non-null  float64       \n",
      " 14  primary_cleaner.output.concentrate_ag               19439 non-null  float64       \n",
      " 15  primary_cleaner.output.concentrate_pb               19323 non-null  float64       \n",
      " 16  primary_cleaner.output.concentrate_sol              19069 non-null  float64       \n",
      " 17  primary_cleaner.output.concentrate_au               19439 non-null  float64       \n",
      " 18  primary_cleaner.output.tail_ag                      19435 non-null  float64       \n",
      " 19  primary_cleaner.output.tail_pb                      19418 non-null  float64       \n",
      " 20  primary_cleaner.output.tail_sol                     19377 non-null  float64       \n",
      " 21  primary_cleaner.output.tail_au                      19439 non-null  float64       \n",
      " 22  primary_cleaner.state.floatbank8_a_air              19435 non-null  float64       \n",
      " 23  primary_cleaner.state.floatbank8_a_level            19438 non-null  float64       \n",
      " 24  primary_cleaner.state.floatbank8_b_air              19435 non-null  float64       \n",
      " 25  primary_cleaner.state.floatbank8_b_level            19438 non-null  float64       \n",
      " 26  primary_cleaner.state.floatbank8_c_air              19437 non-null  float64       \n",
      " 27  primary_cleaner.state.floatbank8_c_level            19438 non-null  float64       \n",
      " 28  primary_cleaner.state.floatbank8_d_air              19436 non-null  float64       \n",
      " 29  primary_cleaner.state.floatbank8_d_level            19438 non-null  float64       \n",
      " 30  rougher.calculation.sulfate_to_au_concentrate       19437 non-null  float64       \n",
      " 31  rougher.calculation.floatbank10_sulfate_to_au_feed  19437 non-null  float64       \n",
      " 32  rougher.calculation.floatbank11_sulfate_to_au_feed  19437 non-null  float64       \n",
      " 33  rougher.calculation.au_pb_ratio                     19439 non-null  float64       \n",
      " 34  rougher.input.feed_ag                               19439 non-null  float64       \n",
      " 35  rougher.input.feed_pb                               19339 non-null  float64       \n",
      " 36  rougher.input.feed_rate                             19428 non-null  float64       \n",
      " 37  rougher.input.feed_size                             19294 non-null  float64       \n",
      " 38  rougher.input.feed_sol                              19340 non-null  float64       \n",
      " 39  rougher.input.feed_au                               19439 non-null  float64       \n",
      " 40  rougher.input.floatbank10_sulfate                   19405 non-null  float64       \n",
      " 41  rougher.input.floatbank10_xanthate                  19431 non-null  float64       \n",
      " 42  rougher.input.floatbank11_sulfate                   19395 non-null  float64       \n",
      " 43  rougher.input.floatbank11_xanthate                  18986 non-null  float64       \n",
      " 44  rougher.output.concentrate_ag                       19439 non-null  float64       \n",
      " 45  rougher.output.concentrate_pb                       19439 non-null  float64       \n",
      " 46  rougher.output.concentrate_sol                      19416 non-null  float64       \n",
      " 47  rougher.output.concentrate_au                       19439 non-null  float64       \n",
      " 48  rougher.output.recovery                             19439 non-null  float64       \n",
      " 49  rougher.output.tail_ag                              19438 non-null  float64       \n",
      " 50  rougher.output.tail_pb                              19439 non-null  float64       \n",
      " 51  rougher.output.tail_sol                             19439 non-null  float64       \n",
      " 52  rougher.output.tail_au                              19439 non-null  float64       \n",
      " 53  rougher.state.floatbank10_a_air                     19438 non-null  float64       \n",
      " 54  rougher.state.floatbank10_a_level                   19438 non-null  float64       \n",
      " 55  rougher.state.floatbank10_b_air                     19438 non-null  float64       \n",
      " 56  rougher.state.floatbank10_b_level                   19438 non-null  float64       \n",
      " 57  rougher.state.floatbank10_c_air                     19438 non-null  float64       \n",
      " 58  rougher.state.floatbank10_c_level                   19438 non-null  float64       \n",
      " 59  rougher.state.floatbank10_d_air                     19439 non-null  float64       \n",
      " 60  rougher.state.floatbank10_d_level                   19439 non-null  float64       \n",
      " 61  rougher.state.floatbank10_e_air                     19003 non-null  float64       \n",
      " 62  rougher.state.floatbank10_e_level                   19439 non-null  float64       \n",
      " 63  rougher.state.floatbank10_f_air                     19439 non-null  float64       \n",
      " 64  rougher.state.floatbank10_f_level                   19439 non-null  float64       \n",
      " 65  secondary_cleaner.output.tail_ag                    19437 non-null  float64       \n",
      " 66  secondary_cleaner.output.tail_pb                    19427 non-null  float64       \n",
      " 67  secondary_cleaner.output.tail_sol                   17691 non-null  float64       \n",
      " 68  secondary_cleaner.output.tail_au                    19439 non-null  float64       \n",
      " 69  secondary_cleaner.state.floatbank2_a_air            19219 non-null  float64       \n",
      " 70  secondary_cleaner.state.floatbank2_a_level          19438 non-null  float64       \n",
      " 71  secondary_cleaner.state.floatbank2_b_air            19416 non-null  float64       \n",
      " 72  secondary_cleaner.state.floatbank2_b_level          19438 non-null  float64       \n",
      " 73  secondary_cleaner.state.floatbank3_a_air            19426 non-null  float64       \n",
      " 74  secondary_cleaner.state.floatbank3_a_level          19438 non-null  float64       \n",
      " 75  secondary_cleaner.state.floatbank3_b_air            19438 non-null  float64       \n",
      " 76  secondary_cleaner.state.floatbank3_b_level          19438 non-null  float64       \n",
      " 77  secondary_cleaner.state.floatbank4_a_air            19433 non-null  float64       \n",
      " 78  secondary_cleaner.state.floatbank4_a_level          19438 non-null  float64       \n",
      " 79  secondary_cleaner.state.floatbank4_b_air            19438 non-null  float64       \n",
      " 80  secondary_cleaner.state.floatbank4_b_level          19438 non-null  float64       \n",
      " 81  secondary_cleaner.state.floatbank5_a_air            19438 non-null  float64       \n",
      " 82  secondary_cleaner.state.floatbank5_a_level          19438 non-null  float64       \n",
      " 83  secondary_cleaner.state.floatbank5_b_air            19438 non-null  float64       \n",
      " 84  secondary_cleaner.state.floatbank5_b_level          19438 non-null  float64       \n",
      " 85  secondary_cleaner.state.floatbank6_a_air            19437 non-null  float64       \n",
      " 86  secondary_cleaner.state.floatbank6_a_level          19438 non-null  float64       \n",
      "dtypes: datetime64[ns](1), float64(86)\n",
      "memory usage: 12.9 MB\n",
      "None\n"
     ]
    }
   ],
   "source": [
    "print(full_data.info()) "
   ]
  },
  {
   "cell_type": "code",
   "execution_count": 4,
   "metadata": {},
   "outputs": [
    {
     "name": "stdout",
     "output_type": "stream",
     "text": [
      "<class 'pandas.core.frame.DataFrame'>\n",
      "RangeIndex: 14149 entries, 0 to 14148\n",
      "Data columns (total 87 columns):\n",
      " #   Column                                              Non-Null Count  Dtype         \n",
      "---  ------                                              --------------  -----         \n",
      " 0   date                                                14149 non-null  datetime64[ns]\n",
      " 1   final.output.concentrate_ag                         14148 non-null  float64       \n",
      " 2   final.output.concentrate_pb                         14148 non-null  float64       \n",
      " 3   final.output.concentrate_sol                        13938 non-null  float64       \n",
      " 4   final.output.concentrate_au                         14149 non-null  float64       \n",
      " 5   final.output.recovery                               14149 non-null  float64       \n",
      " 6   final.output.tail_ag                                14149 non-null  float64       \n",
      " 7   final.output.tail_pb                                14049 non-null  float64       \n",
      " 8   final.output.tail_sol                               14144 non-null  float64       \n",
      " 9   final.output.tail_au                                14149 non-null  float64       \n",
      " 10  primary_cleaner.input.sulfate                       14129 non-null  float64       \n",
      " 11  primary_cleaner.input.depressant                    14117 non-null  float64       \n",
      " 12  primary_cleaner.input.feed_size                     14149 non-null  float64       \n",
      " 13  primary_cleaner.input.xanthate                      14049 non-null  float64       \n",
      " 14  primary_cleaner.output.concentrate_ag               14149 non-null  float64       \n",
      " 15  primary_cleaner.output.concentrate_pb               14063 non-null  float64       \n",
      " 16  primary_cleaner.output.concentrate_sol              13863 non-null  float64       \n",
      " 17  primary_cleaner.output.concentrate_au               14149 non-null  float64       \n",
      " 18  primary_cleaner.output.tail_ag                      14148 non-null  float64       \n",
      " 19  primary_cleaner.output.tail_pb                      14134 non-null  float64       \n",
      " 20  primary_cleaner.output.tail_sol                     14103 non-null  float64       \n",
      " 21  primary_cleaner.output.tail_au                      14149 non-null  float64       \n",
      " 22  primary_cleaner.state.floatbank8_a_air              14145 non-null  float64       \n",
      " 23  primary_cleaner.state.floatbank8_a_level            14148 non-null  float64       \n",
      " 24  primary_cleaner.state.floatbank8_b_air              14145 non-null  float64       \n",
      " 25  primary_cleaner.state.floatbank8_b_level            14148 non-null  float64       \n",
      " 26  primary_cleaner.state.floatbank8_c_air              14147 non-null  float64       \n",
      " 27  primary_cleaner.state.floatbank8_c_level            14148 non-null  float64       \n",
      " 28  primary_cleaner.state.floatbank8_d_air              14146 non-null  float64       \n",
      " 29  primary_cleaner.state.floatbank8_d_level            14148 non-null  float64       \n",
      " 30  rougher.calculation.sulfate_to_au_concentrate       14148 non-null  float64       \n",
      " 31  rougher.calculation.floatbank10_sulfate_to_au_feed  14148 non-null  float64       \n",
      " 32  rougher.calculation.floatbank11_sulfate_to_au_feed  14148 non-null  float64       \n",
      " 33  rougher.calculation.au_pb_ratio                     14149 non-null  float64       \n",
      " 34  rougher.input.feed_ag                               14149 non-null  float64       \n",
      " 35  rougher.input.feed_pb                               14049 non-null  float64       \n",
      " 36  rougher.input.feed_rate                             14141 non-null  float64       \n",
      " 37  rougher.input.feed_size                             14005 non-null  float64       \n",
      " 38  rougher.input.feed_sol                              14071 non-null  float64       \n",
      " 39  rougher.input.feed_au                               14149 non-null  float64       \n",
      " 40  rougher.input.floatbank10_sulfate                   14120 non-null  float64       \n",
      " 41  rougher.input.floatbank10_xanthate                  14141 non-null  float64       \n",
      " 42  rougher.input.floatbank11_sulfate                   14113 non-null  float64       \n",
      " 43  rougher.input.floatbank11_xanthate                  13721 non-null  float64       \n",
      " 44  rougher.output.concentrate_ag                       14149 non-null  float64       \n",
      " 45  rougher.output.concentrate_pb                       14149 non-null  float64       \n",
      " 46  rougher.output.concentrate_sol                      14127 non-null  float64       \n",
      " 47  rougher.output.concentrate_au                       14149 non-null  float64       \n",
      " 48  rougher.output.recovery                             14149 non-null  float64       \n",
      " 49  rougher.output.tail_ag                              14148 non-null  float64       \n",
      " 50  rougher.output.tail_pb                              14149 non-null  float64       \n",
      " 51  rougher.output.tail_sol                             14149 non-null  float64       \n",
      " 52  rougher.output.tail_au                              14149 non-null  float64       \n",
      " 53  rougher.state.floatbank10_a_air                     14148 non-null  float64       \n",
      " 54  rougher.state.floatbank10_a_level                   14148 non-null  float64       \n",
      " 55  rougher.state.floatbank10_b_air                     14148 non-null  float64       \n",
      " 56  rougher.state.floatbank10_b_level                   14148 non-null  float64       \n",
      " 57  rougher.state.floatbank10_c_air                     14148 non-null  float64       \n",
      " 58  rougher.state.floatbank10_c_level                   14148 non-null  float64       \n",
      " 59  rougher.state.floatbank10_d_air                     14149 non-null  float64       \n",
      " 60  rougher.state.floatbank10_d_level                   14149 non-null  float64       \n",
      " 61  rougher.state.floatbank10_e_air                     13713 non-null  float64       \n",
      " 62  rougher.state.floatbank10_e_level                   14149 non-null  float64       \n",
      " 63  rougher.state.floatbank10_f_air                     14149 non-null  float64       \n",
      " 64  rougher.state.floatbank10_f_level                   14149 non-null  float64       \n",
      " 65  secondary_cleaner.output.tail_ag                    14147 non-null  float64       \n",
      " 66  secondary_cleaner.output.tail_pb                    14139 non-null  float64       \n",
      " 67  secondary_cleaner.output.tail_sol                   12544 non-null  float64       \n",
      " 68  secondary_cleaner.output.tail_au                    14149 non-null  float64       \n",
      " 69  secondary_cleaner.state.floatbank2_a_air            13932 non-null  float64       \n",
      " 70  secondary_cleaner.state.floatbank2_a_level          14148 non-null  float64       \n",
      " 71  secondary_cleaner.state.floatbank2_b_air            14128 non-null  float64       \n",
      " 72  secondary_cleaner.state.floatbank2_b_level          14148 non-null  float64       \n",
      " 73  secondary_cleaner.state.floatbank3_a_air            14145 non-null  float64       \n",
      " 74  secondary_cleaner.state.floatbank3_a_level          14148 non-null  float64       \n",
      " 75  secondary_cleaner.state.floatbank3_b_air            14148 non-null  float64       \n",
      " 76  secondary_cleaner.state.floatbank3_b_level          14148 non-null  float64       \n",
      " 77  secondary_cleaner.state.floatbank4_a_air            14143 non-null  float64       \n",
      " 78  secondary_cleaner.state.floatbank4_a_level          14148 non-null  float64       \n",
      " 79  secondary_cleaner.state.floatbank4_b_air            14148 non-null  float64       \n",
      " 80  secondary_cleaner.state.floatbank4_b_level          14148 non-null  float64       \n",
      " 81  secondary_cleaner.state.floatbank5_a_air            14148 non-null  float64       \n",
      " 82  secondary_cleaner.state.floatbank5_a_level          14148 non-null  float64       \n",
      " 83  secondary_cleaner.state.floatbank5_b_air            14148 non-null  float64       \n",
      " 84  secondary_cleaner.state.floatbank5_b_level          14148 non-null  float64       \n",
      " 85  secondary_cleaner.state.floatbank6_a_air            14147 non-null  float64       \n",
      " 86  secondary_cleaner.state.floatbank6_a_level          14148 non-null  float64       \n",
      "dtypes: datetime64[ns](1), float64(86)\n",
      "memory usage: 9.4 MB\n",
      "None\n"
     ]
    }
   ],
   "source": [
    "print(train_data.info()) "
   ]
  },
  {
   "cell_type": "code",
   "execution_count": 5,
   "metadata": {},
   "outputs": [
    {
     "name": "stdout",
     "output_type": "stream",
     "text": [
      "<class 'pandas.core.frame.DataFrame'>\n",
      "RangeIndex: 5290 entries, 0 to 5289\n",
      "Data columns (total 53 columns):\n",
      " #   Column                                      Non-Null Count  Dtype         \n",
      "---  ------                                      --------------  -----         \n",
      " 0   date                                        5290 non-null   datetime64[ns]\n",
      " 1   primary_cleaner.input.sulfate               5286 non-null   float64       \n",
      " 2   primary_cleaner.input.depressant            5285 non-null   float64       \n",
      " 3   primary_cleaner.input.feed_size             5290 non-null   float64       \n",
      " 4   primary_cleaner.input.xanthate              5286 non-null   float64       \n",
      " 5   primary_cleaner.state.floatbank8_a_air      5290 non-null   float64       \n",
      " 6   primary_cleaner.state.floatbank8_a_level    5290 non-null   float64       \n",
      " 7   primary_cleaner.state.floatbank8_b_air      5290 non-null   float64       \n",
      " 8   primary_cleaner.state.floatbank8_b_level    5290 non-null   float64       \n",
      " 9   primary_cleaner.state.floatbank8_c_air      5290 non-null   float64       \n",
      " 10  primary_cleaner.state.floatbank8_c_level    5290 non-null   float64       \n",
      " 11  primary_cleaner.state.floatbank8_d_air      5290 non-null   float64       \n",
      " 12  primary_cleaner.state.floatbank8_d_level    5290 non-null   float64       \n",
      " 13  rougher.input.feed_ag                       5290 non-null   float64       \n",
      " 14  rougher.input.feed_pb                       5290 non-null   float64       \n",
      " 15  rougher.input.feed_rate                     5287 non-null   float64       \n",
      " 16  rougher.input.feed_size                     5289 non-null   float64       \n",
      " 17  rougher.input.feed_sol                      5269 non-null   float64       \n",
      " 18  rougher.input.feed_au                       5290 non-null   float64       \n",
      " 19  rougher.input.floatbank10_sulfate           5285 non-null   float64       \n",
      " 20  rougher.input.floatbank10_xanthate          5290 non-null   float64       \n",
      " 21  rougher.input.floatbank11_sulfate           5282 non-null   float64       \n",
      " 22  rougher.input.floatbank11_xanthate          5265 non-null   float64       \n",
      " 23  rougher.state.floatbank10_a_air             5290 non-null   float64       \n",
      " 24  rougher.state.floatbank10_a_level           5290 non-null   float64       \n",
      " 25  rougher.state.floatbank10_b_air             5290 non-null   float64       \n",
      " 26  rougher.state.floatbank10_b_level           5290 non-null   float64       \n",
      " 27  rougher.state.floatbank10_c_air             5290 non-null   float64       \n",
      " 28  rougher.state.floatbank10_c_level           5290 non-null   float64       \n",
      " 29  rougher.state.floatbank10_d_air             5290 non-null   float64       \n",
      " 30  rougher.state.floatbank10_d_level           5290 non-null   float64       \n",
      " 31  rougher.state.floatbank10_e_air             5290 non-null   float64       \n",
      " 32  rougher.state.floatbank10_e_level           5290 non-null   float64       \n",
      " 33  rougher.state.floatbank10_f_air             5290 non-null   float64       \n",
      " 34  rougher.state.floatbank10_f_level           5290 non-null   float64       \n",
      " 35  secondary_cleaner.state.floatbank2_a_air    5287 non-null   float64       \n",
      " 36  secondary_cleaner.state.floatbank2_a_level  5290 non-null   float64       \n",
      " 37  secondary_cleaner.state.floatbank2_b_air    5288 non-null   float64       \n",
      " 38  secondary_cleaner.state.floatbank2_b_level  5290 non-null   float64       \n",
      " 39  secondary_cleaner.state.floatbank3_a_air    5281 non-null   float64       \n",
      " 40  secondary_cleaner.state.floatbank3_a_level  5290 non-null   float64       \n",
      " 41  secondary_cleaner.state.floatbank3_b_air    5290 non-null   float64       \n",
      " 42  secondary_cleaner.state.floatbank3_b_level  5290 non-null   float64       \n",
      " 43  secondary_cleaner.state.floatbank4_a_air    5290 non-null   float64       \n",
      " 44  secondary_cleaner.state.floatbank4_a_level  5290 non-null   float64       \n",
      " 45  secondary_cleaner.state.floatbank4_b_air    5290 non-null   float64       \n",
      " 46  secondary_cleaner.state.floatbank4_b_level  5290 non-null   float64       \n",
      " 47  secondary_cleaner.state.floatbank5_a_air    5290 non-null   float64       \n",
      " 48  secondary_cleaner.state.floatbank5_a_level  5290 non-null   float64       \n",
      " 49  secondary_cleaner.state.floatbank5_b_air    5290 non-null   float64       \n",
      " 50  secondary_cleaner.state.floatbank5_b_level  5290 non-null   float64       \n",
      " 51  secondary_cleaner.state.floatbank6_a_air    5290 non-null   float64       \n",
      " 52  secondary_cleaner.state.floatbank6_a_level  5290 non-null   float64       \n",
      "dtypes: datetime64[ns](1), float64(52)\n",
      "memory usage: 2.1 MB\n",
      "None\n"
     ]
    }
   ],
   "source": [
    "print(test_data.info()) "
   ]
  },
  {
   "cell_type": "markdown",
   "metadata": {},
   "source": [
    " в таблицах train_data и full_data по 86 столбцов, а в test_data 52 столбца. Причем столбцов эффективность обогащения чернового концентрата rougher.output.recovery и эффективность обогащения финального концентрата final.output.recovery в тестовой таблице также нет. "
   ]
  },
  {
   "cell_type": "code",
   "execution_count": 6,
   "metadata": {},
   "outputs": [
    {
     "name": "stdout",
     "output_type": "stream",
     "text": [
      "       final.output.concentrate_ag  final.output.concentrate_pb  \\\n",
      "count                 14148.000000                 14148.000000   \n",
      "mean                      5.142034                    10.132960   \n",
      "std                       1.369586                     1.654930   \n",
      "min                       0.000000                     0.000000   \n",
      "25%                       4.211620                     9.297355   \n",
      "50%                       4.994652                    10.297144   \n",
      "75%                       5.859540                    11.170603   \n",
      "max                      16.001945                    17.031899   \n",
      "\n",
      "       final.output.concentrate_sol  final.output.concentrate_au  \\\n",
      "count                  13938.000000                 14149.000000   \n",
      "mean                       9.202849                    44.003792   \n",
      "std                        2.790516                     4.905261   \n",
      "min                        0.000000                     0.000000   \n",
      "25%                        7.484645                    43.276111   \n",
      "50%                        8.845462                    44.872436   \n",
      "75%                       10.487508                    46.166425   \n",
      "max                       18.124851                    52.756638   \n",
      "\n",
      "       final.output.recovery  final.output.tail_ag  final.output.tail_pb  \\\n",
      "count           14149.000000          14149.000000          14049.000000   \n",
      "mean               66.518832              9.607035              2.597298   \n",
      "std                10.295402              2.319069              0.971843   \n",
      "min                 0.000000              0.000000              0.000000   \n",
      "25%                62.545817              7.997429              1.905973   \n",
      "50%                67.432775              9.480270              2.592022   \n",
      "75%                72.346428             11.003707              3.241723   \n",
      "max               100.000000             19.552149              5.639565   \n",
      "\n",
      "       final.output.tail_sol  final.output.tail_au  \\\n",
      "count           14144.000000          14149.000000   \n",
      "mean               10.512122              2.918421   \n",
      "std                 3.003617              0.903712   \n",
      "min                 0.000000              0.000000   \n",
      "25%                 8.811324              2.368607   \n",
      "50%                10.514621              2.851025   \n",
      "75%                11.933009              3.434764   \n",
      "max                22.317730              8.197408   \n",
      "\n",
      "       primary_cleaner.input.sulfate  ...  \\\n",
      "count                   14129.000000  ...   \n",
      "mean                      133.320659  ...   \n",
      "std                        39.431659  ...   \n",
      "min                         0.003112  ...   \n",
      "25%                       107.006651  ...   \n",
      "50%                       133.018328  ...   \n",
      "75%                       159.825396  ...   \n",
      "max                       250.127834  ...   \n",
      "\n",
      "       secondary_cleaner.state.floatbank4_a_air  \\\n",
      "count                              14143.000000   \n",
      "mean                                  19.985454   \n",
      "std                                    5.657723   \n",
      "min                                    0.000000   \n",
      "25%                                   14.990775   \n",
      "50%                                   20.001789   \n",
      "75%                                   24.990826   \n",
      "max                                   30.115735   \n",
      "\n",
      "       secondary_cleaner.state.floatbank4_a_level  \\\n",
      "count                                14148.000000   \n",
      "mean                                  -478.696836   \n",
      "std                                     50.736021   \n",
      "min                                   -799.709069   \n",
      "25%                                   -500.628656   \n",
      "50%                                   -499.681450   \n",
      "75%                                   -477.472413   \n",
      "max                                   -245.239184   \n",
      "\n",
      "       secondary_cleaner.state.floatbank4_b_air  \\\n",
      "count                              14148.000000   \n",
      "mean                                  15.487065   \n",
      "std                                    5.255655   \n",
      "min                                    0.000000   \n",
      "25%                                   11.894558   \n",
      "50%                                   14.975536   \n",
      "75%                                   20.059375   \n",
      "max                                   24.007913   \n",
      "\n",
      "       secondary_cleaner.state.floatbank4_b_level  \\\n",
      "count                                14148.000000   \n",
      "mean                                  -460.229416   \n",
      "std                                     58.843586   \n",
      "min                                   -799.889113   \n",
      "25%                                   -500.149000   \n",
      "50%                                   -499.388738   \n",
      "75%                                   -400.039008   \n",
      "max                                   -145.071088   \n",
      "\n",
      "       secondary_cleaner.state.floatbank5_a_air  \\\n",
      "count                              14148.000000   \n",
      "mean                                  16.775136   \n",
      "std                                    5.831906   \n",
      "min                                   -0.372054   \n",
      "25%                                   11.083980   \n",
      "50%                                   17.932223   \n",
      "75%                                   21.346550   \n",
      "max                                   43.709931   \n",
      "\n",
      "       secondary_cleaner.state.floatbank5_a_level  \\\n",
      "count                                14148.000000   \n",
      "mean                                  -483.956022   \n",
      "std                                     37.892788   \n",
      "min                                   -797.142475   \n",
      "25%                                   -500.363177   \n",
      "50%                                   -499.702452   \n",
      "75%                                   -487.712108   \n",
      "max                                   -275.073125   \n",
      "\n",
      "       secondary_cleaner.state.floatbank5_b_air  \\\n",
      "count                              14148.000000   \n",
      "mean                                  13.064590   \n",
      "std                                    5.765617   \n",
      "min                                    0.646208   \n",
      "25%                                    8.994405   \n",
      "50%                                   11.997547   \n",
      "75%                                   17.982903   \n",
      "max                                   27.926001   \n",
      "\n",
      "       secondary_cleaner.state.floatbank5_b_level  \\\n",
      "count                                14148.000000   \n",
      "mean                                  -483.966564   \n",
      "std                                     39.207913   \n",
      "min                                   -800.006180   \n",
      "25%                                   -500.105994   \n",
      "50%                                   -499.914556   \n",
      "75%                                   -453.186936   \n",
      "max                                   -157.396071   \n",
      "\n",
      "       secondary_cleaner.state.floatbank6_a_air  \\\n",
      "count                              14147.000000   \n",
      "mean                                  19.577539   \n",
      "std                                    5.764417   \n",
      "min                                    0.195324   \n",
      "25%                                   14.989304   \n",
      "50%                                   19.984175   \n",
      "75%                                   24.991623   \n",
      "max                                   32.188906   \n",
      "\n",
      "       secondary_cleaner.state.floatbank6_a_level  \n",
      "count                                14148.000000  \n",
      "mean                                  -506.798480  \n",
      "std                                     37.079249  \n",
      "min                                   -809.398668  \n",
      "25%                                   -500.745104  \n",
      "50%                                   -500.061431  \n",
      "75%                                   -499.536466  \n",
      "max                                   -104.427459  \n",
      "\n",
      "[8 rows x 86 columns]\n"
     ]
    }
   ],
   "source": [
    "print(train_data.describe()) "
   ]
  },
  {
   "cell_type": "code",
   "execution_count": 7,
   "metadata": {},
   "outputs": [
    {
     "name": "stdout",
     "output_type": "stream",
     "text": [
      "       primary_cleaner.input.sulfate  primary_cleaner.input.depressant  \\\n",
      "count                    5286.000000                       5285.000000   \n",
      "mean                      174.839652                          8.683596   \n",
      "std                        43.027080                          3.072050   \n",
      "min                         2.566156                          0.003839   \n",
      "25%                       147.121401                          6.489555   \n",
      "50%                       177.828489                          8.052207   \n",
      "75%                       208.125438                         10.027764   \n",
      "max                       265.983123                         40.000000   \n",
      "\n",
      "       primary_cleaner.input.feed_size  primary_cleaner.input.xanthate  \\\n",
      "count                      5290.000000                     5286.000000   \n",
      "mean                          7.266339                        1.383803   \n",
      "std                           0.610219                        0.643474   \n",
      "min                           5.650000                        0.004984   \n",
      "25%                           6.890000                        0.907623   \n",
      "50%                           7.250000                        1.197610   \n",
      "75%                           7.600000                        1.797819   \n",
      "max                          15.500000                        4.102454   \n",
      "\n",
      "       primary_cleaner.state.floatbank8_a_air  \\\n",
      "count                            5.290000e+03   \n",
      "mean                             1.539494e+03   \n",
      "std                              1.167979e+02   \n",
      "min                              5.445860e-32   \n",
      "25%                              1.498936e+03   \n",
      "50%                              1.585129e+03   \n",
      "75%                              1.602077e+03   \n",
      "max                              2.103104e+03   \n",
      "\n",
      "       primary_cleaner.state.floatbank8_a_level  \\\n",
      "count                               5290.000000   \n",
      "mean                                -497.665883   \n",
      "std                                   19.952431   \n",
      "min                                 -795.316337   \n",
      "25%                                 -500.357298   \n",
      "50%                                 -499.969164   \n",
      "75%                                 -499.568951   \n",
      "max                                  -57.195404   \n",
      "\n",
      "       primary_cleaner.state.floatbank8_b_air  \\\n",
      "count                            5.290000e+03   \n",
      "mean                             1.545174e+03   \n",
      "std                              1.222246e+02   \n",
      "min                              6.647490e-32   \n",
      "25%                              1.498971e+03   \n",
      "50%                              1.595622e+03   \n",
      "75%                              1.602324e+03   \n",
      "max                              1.813084e+03   \n",
      "\n",
      "       primary_cleaner.state.floatbank8_b_level  \\\n",
      "count                               5290.000000   \n",
      "mean                                -500.273098   \n",
      "std                                   32.968307   \n",
      "min                                 -799.997015   \n",
      "25%                                 -500.703002   \n",
      "50%                                 -500.028514   \n",
      "75%                                 -499.293257   \n",
      "max                                 -142.527229   \n",
      "\n",
      "       primary_cleaner.state.floatbank8_c_air  \\\n",
      "count                            5.290000e+03   \n",
      "mean                             1.527272e+03   \n",
      "std                              1.225380e+02   \n",
      "min                              4.033736e-32   \n",
      "25%                              1.473230e+03   \n",
      "50%                              1.549595e+03   \n",
      "75%                              1.601144e+03   \n",
      "max                              1.715054e+03   \n",
      "\n",
      "       primary_cleaner.state.floatbank8_c_level  ...  \\\n",
      "count                               5290.000000  ...   \n",
      "mean                                -498.330680  ...   \n",
      "std                                   21.964876  ...   \n",
      "min                                 -799.960571  ...   \n",
      "25%                                 -501.018117  ...   \n",
      "50%                                 -500.017711  ...   \n",
      "75%                                 -498.994130  ...   \n",
      "max                                 -150.937035  ...   \n",
      "\n",
      "       secondary_cleaner.state.floatbank4_a_air  \\\n",
      "count                              5.290000e+03   \n",
      "mean                               1.632007e+01   \n",
      "std                                3.493583e+00   \n",
      "min                                1.079872e-16   \n",
      "25%                                1.403618e+01   \n",
      "50%                                1.700847e+01   \n",
      "75%                                1.803862e+01   \n",
      "max                                3.005180e+01   \n",
      "\n",
      "       secondary_cleaner.state.floatbank4_a_level  \\\n",
      "count                                 5290.000000   \n",
      "mean                                  -505.144570   \n",
      "std                                     31.427337   \n",
      "min                                   -799.798523   \n",
      "25%                                   -500.868258   \n",
      "50%                                   -500.115727   \n",
      "75%                                   -499.404224   \n",
      "max                                   -401.565212   \n",
      "\n",
      "       secondary_cleaner.state.floatbank4_b_air  \\\n",
      "count                              5.290000e+03   \n",
      "mean                               1.373544e+01   \n",
      "std                                3.430484e+00   \n",
      "min                                2.489718e-17   \n",
      "25%                                1.202862e+01   \n",
      "50%                                1.496486e+01   \n",
      "75%                                1.596213e+01   \n",
      "max                                3.126971e+01   \n",
      "\n",
      "       secondary_cleaner.state.floatbank4_b_level  \\\n",
      "count                                 5290.000000   \n",
      "mean                                  -463.349858   \n",
      "std                                     86.189107   \n",
      "min                                   -800.836914   \n",
      "25%                                   -500.323028   \n",
      "50%                                   -499.576513   \n",
      "75%                                   -400.933805   \n",
      "max                                     -6.506986   \n",
      "\n",
      "       secondary_cleaner.state.floatbank5_a_air  \\\n",
      "count                               5290.000000   \n",
      "mean                                  12.804186   \n",
      "std                                    3.026591   \n",
      "min                                    0.069227   \n",
      "25%                                   10.914838   \n",
      "50%                                   12.954182   \n",
      "75%                                   15.097528   \n",
      "max                                   25.258848   \n",
      "\n",
      "       secondary_cleaner.state.floatbank5_a_level  \\\n",
      "count                                 5290.000000   \n",
      "mean                                  -501.329122   \n",
      "std                                     17.951495   \n",
      "min                                   -797.323986   \n",
      "25%                                   -500.726841   \n",
      "50%                                   -499.990332   \n",
      "75%                                   -499.283191   \n",
      "max                                   -244.483566   \n",
      "\n",
      "       secondary_cleaner.state.floatbank5_b_air  \\\n",
      "count                               5290.000000   \n",
      "mean                                   9.881145   \n",
      "std                                    2.868205   \n",
      "min                                    0.528083   \n",
      "25%                                    8.036719   \n",
      "50%                                   10.004301   \n",
      "75%                                   11.997467   \n",
      "max                                   14.086866   \n",
      "\n",
      "       secondary_cleaner.state.floatbank5_b_level  \\\n",
      "count                                 5290.000000   \n",
      "mean                                  -495.663398   \n",
      "std                                     34.535007   \n",
      "min                                   -800.220337   \n",
      "25%                                   -500.194668   \n",
      "50%                                   -499.990535   \n",
      "75%                                   -499.719913   \n",
      "max                                   -137.740004   \n",
      "\n",
      "       secondary_cleaner.state.floatbank6_a_air  \\\n",
      "count                               5290.000000   \n",
      "mean                                  17.304935   \n",
      "std                                    4.536544   \n",
      "min                                   -0.079426   \n",
      "25%                                   13.997317   \n",
      "50%                                   16.014935   \n",
      "75%                                   21.020013   \n",
      "max                                   26.705889   \n",
      "\n",
      "       secondary_cleaner.state.floatbank6_a_level  \n",
      "count                                 5290.000000  \n",
      "mean                                  -501.793193  \n",
      "std                                     39.044215  \n",
      "min                                   -809.741464  \n",
      "25%                                   -500.690984  \n",
      "50%                                   -500.007126  \n",
      "75%                                   -499.373018  \n",
      "max                                   -123.307487  \n",
      "\n",
      "[8 rows x 52 columns]\n"
     ]
    }
   ],
   "source": [
    "print(test_data.describe()) "
   ]
  },
  {
   "cell_type": "code",
   "execution_count": 8,
   "metadata": {},
   "outputs": [
    {
     "name": "stdout",
     "output_type": "stream",
     "text": [
      "       final.output.concentrate_ag  final.output.concentrate_pb  \\\n",
      "count                 19438.000000                 19438.000000   \n",
      "mean                      5.168470                     9.978895   \n",
      "std                       1.372348                     1.669240   \n",
      "min                       0.000000                     0.000000   \n",
      "25%                       4.251240                     9.137262   \n",
      "50%                       5.066094                    10.102433   \n",
      "75%                       5.895527                    11.035769   \n",
      "max                      16.001945                    17.031899   \n",
      "\n",
      "       final.output.concentrate_sol  final.output.concentrate_au  \\\n",
      "count                  19228.000000                 19439.000000   \n",
      "mean                       9.501224                    44.076513   \n",
      "std                        2.787537                     5.129784   \n",
      "min                        0.000000                     0.000000   \n",
      "25%                        7.722820                    43.402215   \n",
      "50%                        9.218961                    45.011244   \n",
      "75%                       10.947813                    46.275313   \n",
      "max                       19.615720                    52.756638   \n",
      "\n",
      "       final.output.recovery  final.output.tail_ag  final.output.tail_pb  \\\n",
      "count           19439.000000          19438.000000          19338.000000   \n",
      "mean               67.050208              9.688589              2.705795   \n",
      "std                10.125840              2.328642              0.949077   \n",
      "min                 0.000000              0.000000              0.000000   \n",
      "25%                63.299712              8.062878              2.040119   \n",
      "50%                68.172738              9.743623              2.748730   \n",
      "75%                72.686642             11.134294              3.333216   \n",
      "max               100.000000             19.552149              5.804178   \n",
      "\n",
      "       final.output.tail_sol  final.output.tail_au  \\\n",
      "count           19433.000000          19439.000000   \n",
      "mean               10.583728              3.042467   \n",
      "std                 2.868782              0.922808   \n",
      "min                 0.000000              0.000000   \n",
      "25%                 8.938947              2.461138   \n",
      "50%                10.622456              2.984909   \n",
      "75%                12.104271              3.571351   \n",
      "max                22.317730              8.245022   \n",
      "\n",
      "       primary_cleaner.input.sulfate  ...  \\\n",
      "count                   19415.000000  ...   \n",
      "mean                      144.624774  ...   \n",
      "std                        44.464071  ...   \n",
      "min                         0.003112  ...   \n",
      "25%                       114.107029  ...   \n",
      "50%                       143.232103  ...   \n",
      "75%                       175.075656  ...   \n",
      "max                       265.983123  ...   \n",
      "\n",
      "       secondary_cleaner.state.floatbank4_a_air  \\\n",
      "count                              19433.000000   \n",
      "mean                                  18.987674   \n",
      "std                                    5.411058   \n",
      "min                                    0.000000   \n",
      "25%                                   14.975734   \n",
      "50%                                   18.017481   \n",
      "75%                                   23.012470   \n",
      "max                                   30.115735   \n",
      "\n",
      "       secondary_cleaner.state.floatbank4_a_level  \\\n",
      "count                                19438.000000   \n",
      "mean                                  -485.894516   \n",
      "std                                     47.758570   \n",
      "min                                   -799.798523   \n",
      "25%                                   -500.704892   \n",
      "50%                                   -499.837793   \n",
      "75%                                   -498.249730   \n",
      "max                                   -245.239184   \n",
      "\n",
      "       secondary_cleaner.state.floatbank4_b_air  \\\n",
      "count                              19438.000000   \n",
      "mean                                  15.010366   \n",
      "std                                    4.890228   \n",
      "min                                    0.000000   \n",
      "25%                                   11.940294   \n",
      "50%                                   14.971014   \n",
      "75%                                   19.034162   \n",
      "max                                   31.269706   \n",
      "\n",
      "       secondary_cleaner.state.floatbank4_b_level  \\\n",
      "count                                19438.000000   \n",
      "mean                                  -461.078636   \n",
      "std                                     67.405524   \n",
      "min                                   -800.836914   \n",
      "25%                                   -500.187742   \n",
      "50%                                   -499.459786   \n",
      "75%                                   -400.118106   \n",
      "max                                     -6.506986   \n",
      "\n",
      "       secondary_cleaner.state.floatbank5_a_air  \\\n",
      "count                              19438.000000   \n",
      "mean                                  15.694452   \n",
      "std                                    5.510974   \n",
      "min                                   -0.372054   \n",
      "25%                                   10.988606   \n",
      "50%                                   15.000036   \n",
      "75%                                   18.026190   \n",
      "max                                   43.709931   \n",
      "\n",
      "       secondary_cleaner.state.floatbank5_a_level  \\\n",
      "count                                19438.000000   \n",
      "mean                                  -488.684065   \n",
      "std                                     34.533396   \n",
      "min                                   -797.323986   \n",
      "25%                                   -500.458467   \n",
      "50%                                   -499.802605   \n",
      "75%                                   -498.384187   \n",
      "max                                   -244.483566   \n",
      "\n",
      "       secondary_cleaner.state.floatbank5_b_air  \\\n",
      "count                              19438.000000   \n",
      "mean                                  12.198224   \n",
      "std                                    5.333024   \n",
      "min                                    0.528083   \n",
      "25%                                    8.971105   \n",
      "50%                                   11.019433   \n",
      "75%                                   14.019088   \n",
      "max                                   27.926001   \n",
      "\n",
      "       secondary_cleaner.state.floatbank5_b_level  \\\n",
      "count                                19438.000000   \n",
      "mean                                  -487.149827   \n",
      "std                                     38.347312   \n",
      "min                                   -800.220337   \n",
      "25%                                   -500.129462   \n",
      "50%                                   -499.935317   \n",
      "75%                                   -499.436708   \n",
      "max                                   -137.740004   \n",
      "\n",
      "       secondary_cleaner.state.floatbank6_a_air  \\\n",
      "count                              19437.000000   \n",
      "mean                                  18.959024   \n",
      "std                                    5.550498   \n",
      "min                                   -0.079426   \n",
      "25%                                   14.983037   \n",
      "50%                                   19.960541   \n",
      "75%                                   24.003170   \n",
      "max                                   32.188906   \n",
      "\n",
      "       secondary_cleaner.state.floatbank6_a_level  \n",
      "count                                19438.000000  \n",
      "mean                                  -505.436305  \n",
      "std                                     37.689057  \n",
      "min                                   -809.741464  \n",
      "25%                                   -500.728067  \n",
      "50%                                   -500.048400  \n",
      "75%                                   -499.495378  \n",
      "max                                   -104.427459  \n",
      "\n",
      "[8 rows x 86 columns]\n"
     ]
    }
   ],
   "source": [
    "print(full_data.describe()) "
   ]
  },
  {
   "cell_type": "code",
   "execution_count": 9,
   "metadata": {},
   "outputs": [
    {
     "data": {
      "text/plain": [
       "0"
      ]
     },
     "execution_count": 9,
     "metadata": {},
     "output_type": "execute_result"
    }
   ],
   "source": [
    "full_data.duplicated().sum()"
   ]
  },
  {
   "cell_type": "code",
   "execution_count": 10,
   "metadata": {},
   "outputs": [
    {
     "data": {
      "text/plain": [
       "0"
      ]
     },
     "execution_count": 10,
     "metadata": {},
     "output_type": "execute_result"
    }
   ],
   "source": [
    "train_data.duplicated().sum()"
   ]
  },
  {
   "cell_type": "code",
   "execution_count": 11,
   "metadata": {},
   "outputs": [
    {
     "data": {
      "text/plain": [
       "0"
      ]
     },
     "execution_count": 11,
     "metadata": {},
     "output_type": "execute_result"
    }
   ],
   "source": [
    "test_data.duplicated().sum()"
   ]
  },
  {
   "cell_type": "markdown",
   "metadata": {},
   "source": [
    "Дубликатов нет"
   ]
  },
  {
   "cell_type": "code",
   "execution_count": 12,
   "metadata": {},
   "outputs": [
    {
     "data": {
      "text/html": [
       "<style  type=\"text/css\" >\n",
       "#T_d7cfb_row0_col0,#T_d7cfb_row1_col0,#T_d7cfb_row2_col0,#T_d7cfb_row3_col0,#T_d7cfb_row4_col0,#T_d7cfb_row5_col0,#T_d7cfb_row6_col0,#T_d7cfb_row7_col0,#T_d7cfb_row8_col0,#T_d7cfb_row9_col0,#T_d7cfb_row10_col0,#T_d7cfb_row11_col0,#T_d7cfb_row12_col0,#T_d7cfb_row13_col0,#T_d7cfb_row14_col0,#T_d7cfb_row15_col0,#T_d7cfb_row16_col0,#T_d7cfb_row17_col0,#T_d7cfb_row18_col0,#T_d7cfb_row19_col0,#T_d7cfb_row20_col0,#T_d7cfb_row21_col0,#T_d7cfb_row22_col0,#T_d7cfb_row23_col0,#T_d7cfb_row24_col0,#T_d7cfb_row25_col0,#T_d7cfb_row26_col0,#T_d7cfb_row27_col0,#T_d7cfb_row28_col0,#T_d7cfb_row29_col0,#T_d7cfb_row30_col0,#T_d7cfb_row31_col0,#T_d7cfb_row32_col0,#T_d7cfb_row33_col0,#T_d7cfb_row34_col0,#T_d7cfb_row35_col0,#T_d7cfb_row36_col0,#T_d7cfb_row37_col0,#T_d7cfb_row38_col0,#T_d7cfb_row39_col0,#T_d7cfb_row40_col0,#T_d7cfb_row41_col0,#T_d7cfb_row42_col0,#T_d7cfb_row43_col0,#T_d7cfb_row44_col0,#T_d7cfb_row45_col0,#T_d7cfb_row46_col0,#T_d7cfb_row47_col0,#T_d7cfb_row48_col0,#T_d7cfb_row49_col0,#T_d7cfb_row50_col0,#T_d7cfb_row51_col0,#T_d7cfb_row52_col0,#T_d7cfb_row53_col0,#T_d7cfb_row54_col0,#T_d7cfb_row55_col0,#T_d7cfb_row56_col0,#T_d7cfb_row57_col0,#T_d7cfb_row58_col0,#T_d7cfb_row59_col0,#T_d7cfb_row60_col0,#T_d7cfb_row61_col0,#T_d7cfb_row62_col0{\n",
       "            background-color:  #3b4cc0;\n",
       "            color:  #f1f1f1;\n",
       "        }#T_d7cfb_row63_col0,#T_d7cfb_row64_col0,#T_d7cfb_row65_col0,#T_d7cfb_row66_col0{\n",
       "            background-color:  #3c4ec2;\n",
       "            color:  #f1f1f1;\n",
       "        }#T_d7cfb_row67_col0,#T_d7cfb_row68_col0,#T_d7cfb_row69_col0,#T_d7cfb_row70_col0{\n",
       "            background-color:  #3e51c5;\n",
       "            color:  #f1f1f1;\n",
       "        }#T_d7cfb_row71_col0{\n",
       "            background-color:  #3f53c6;\n",
       "            color:  #f1f1f1;\n",
       "        }#T_d7cfb_row72_col0{\n",
       "            background-color:  #4055c8;\n",
       "            color:  #f1f1f1;\n",
       "        }#T_d7cfb_row73_col0{\n",
       "            background-color:  #4257c9;\n",
       "            color:  #f1f1f1;\n",
       "        }#T_d7cfb_row74_col0{\n",
       "            background-color:  #455cce;\n",
       "            color:  #f1f1f1;\n",
       "        }#T_d7cfb_row75_col0,#T_d7cfb_row76_col0,#T_d7cfb_row77_col0{\n",
       "            background-color:  #4b64d5;\n",
       "            color:  #f1f1f1;\n",
       "        }#T_d7cfb_row78_col0{\n",
       "            background-color:  #4c66d6;\n",
       "            color:  #000000;\n",
       "        }#T_d7cfb_row79_col0{\n",
       "            background-color:  #4f69d9;\n",
       "            color:  #000000;\n",
       "        }#T_d7cfb_row80_col0{\n",
       "            background-color:  #5470de;\n",
       "            color:  #000000;\n",
       "        }#T_d7cfb_row81_col0{\n",
       "            background-color:  #6180e9;\n",
       "            color:  #000000;\n",
       "        }#T_d7cfb_row82_col0{\n",
       "            background-color:  #6282ea;\n",
       "            color:  #000000;\n",
       "        }#T_d7cfb_row83_col0{\n",
       "            background-color:  #80a3fa;\n",
       "            color:  #000000;\n",
       "        }#T_d7cfb_row84_col0{\n",
       "            background-color:  #8caffe;\n",
       "            color:  #000000;\n",
       "        }#T_d7cfb_row85_col0{\n",
       "            background-color:  #90b2fe;\n",
       "            color:  #000000;\n",
       "        }#T_d7cfb_row86_col0{\n",
       "            background-color:  #b40426;\n",
       "            color:  #f1f1f1;\n",
       "        }</style><table id=\"T_d7cfb_\" ><thead>    <tr>        <th class=\"blank level0\" ></th>        <th class=\"col_heading level0 col0\" >0</th>    </tr></thead><tbody>\n",
       "                <tr>\n",
       "                        <th id=\"T_d7cfb_level0_row0\" class=\"row_heading level0 row0\" >date</th>\n",
       "                        <td id=\"T_d7cfb_row0_col0\" class=\"data row0 col0\" >0.00%</td>\n",
       "            </tr>\n",
       "            <tr>\n",
       "                        <th id=\"T_d7cfb_level0_row1\" class=\"row_heading level0 row1\" >rougher.output.concentrate_pb</th>\n",
       "                        <td id=\"T_d7cfb_row1_col0\" class=\"data row1 col0\" >0.00%</td>\n",
       "            </tr>\n",
       "            <tr>\n",
       "                        <th id=\"T_d7cfb_level0_row2\" class=\"row_heading level0 row2\" >rougher.state.floatbank10_f_level</th>\n",
       "                        <td id=\"T_d7cfb_row2_col0\" class=\"data row2 col0\" >0.00%</td>\n",
       "            </tr>\n",
       "            <tr>\n",
       "                        <th id=\"T_d7cfb_level0_row3\" class=\"row_heading level0 row3\" >rougher.state.floatbank10_f_air</th>\n",
       "                        <td id=\"T_d7cfb_row3_col0\" class=\"data row3 col0\" >0.00%</td>\n",
       "            </tr>\n",
       "            <tr>\n",
       "                        <th id=\"T_d7cfb_level0_row4\" class=\"row_heading level0 row4\" >rougher.state.floatbank10_e_level</th>\n",
       "                        <td id=\"T_d7cfb_row4_col0\" class=\"data row4 col0\" >0.00%</td>\n",
       "            </tr>\n",
       "            <tr>\n",
       "                        <th id=\"T_d7cfb_level0_row5\" class=\"row_heading level0 row5\" >rougher.state.floatbank10_d_level</th>\n",
       "                        <td id=\"T_d7cfb_row5_col0\" class=\"data row5 col0\" >0.00%</td>\n",
       "            </tr>\n",
       "            <tr>\n",
       "                        <th id=\"T_d7cfb_level0_row6\" class=\"row_heading level0 row6\" >rougher.state.floatbank10_d_air</th>\n",
       "                        <td id=\"T_d7cfb_row6_col0\" class=\"data row6 col0\" >0.00%</td>\n",
       "            </tr>\n",
       "            <tr>\n",
       "                        <th id=\"T_d7cfb_level0_row7\" class=\"row_heading level0 row7\" >secondary_cleaner.output.tail_au</th>\n",
       "                        <td id=\"T_d7cfb_row7_col0\" class=\"data row7 col0\" >0.00%</td>\n",
       "            </tr>\n",
       "            <tr>\n",
       "                        <th id=\"T_d7cfb_level0_row8\" class=\"row_heading level0 row8\" >rougher.calculation.au_pb_ratio</th>\n",
       "                        <td id=\"T_d7cfb_row8_col0\" class=\"data row8 col0\" >0.00%</td>\n",
       "            </tr>\n",
       "            <tr>\n",
       "                        <th id=\"T_d7cfb_level0_row9\" class=\"row_heading level0 row9\" >rougher.output.tail_au</th>\n",
       "                        <td id=\"T_d7cfb_row9_col0\" class=\"data row9 col0\" >0.00%</td>\n",
       "            </tr>\n",
       "            <tr>\n",
       "                        <th id=\"T_d7cfb_level0_row10\" class=\"row_heading level0 row10\" >rougher.output.tail_sol</th>\n",
       "                        <td id=\"T_d7cfb_row10_col0\" class=\"data row10 col0\" >0.00%</td>\n",
       "            </tr>\n",
       "            <tr>\n",
       "                        <th id=\"T_d7cfb_level0_row11\" class=\"row_heading level0 row11\" >rougher.output.tail_pb</th>\n",
       "                        <td id=\"T_d7cfb_row11_col0\" class=\"data row11 col0\" >0.00%</td>\n",
       "            </tr>\n",
       "            <tr>\n",
       "                        <th id=\"T_d7cfb_level0_row12\" class=\"row_heading level0 row12\" >rougher.input.feed_au</th>\n",
       "                        <td id=\"T_d7cfb_row12_col0\" class=\"data row12 col0\" >0.00%</td>\n",
       "            </tr>\n",
       "            <tr>\n",
       "                        <th id=\"T_d7cfb_level0_row13\" class=\"row_heading level0 row13\" >rougher.output.recovery</th>\n",
       "                        <td id=\"T_d7cfb_row13_col0\" class=\"data row13 col0\" >0.00%</td>\n",
       "            </tr>\n",
       "            <tr>\n",
       "                        <th id=\"T_d7cfb_level0_row14\" class=\"row_heading level0 row14\" >rougher.output.concentrate_au</th>\n",
       "                        <td id=\"T_d7cfb_row14_col0\" class=\"data row14 col0\" >0.00%</td>\n",
       "            </tr>\n",
       "            <tr>\n",
       "                        <th id=\"T_d7cfb_level0_row15\" class=\"row_heading level0 row15\" >rougher.input.feed_ag</th>\n",
       "                        <td id=\"T_d7cfb_row15_col0\" class=\"data row15 col0\" >0.00%</td>\n",
       "            </tr>\n",
       "            <tr>\n",
       "                        <th id=\"T_d7cfb_level0_row16\" class=\"row_heading level0 row16\" >primary_cleaner.output.concentrate_au</th>\n",
       "                        <td id=\"T_d7cfb_row16_col0\" class=\"data row16 col0\" >0.00%</td>\n",
       "            </tr>\n",
       "            <tr>\n",
       "                        <th id=\"T_d7cfb_level0_row17\" class=\"row_heading level0 row17\" >primary_cleaner.output.tail_au</th>\n",
       "                        <td id=\"T_d7cfb_row17_col0\" class=\"data row17 col0\" >0.00%</td>\n",
       "            </tr>\n",
       "            <tr>\n",
       "                        <th id=\"T_d7cfb_level0_row18\" class=\"row_heading level0 row18\" >rougher.output.concentrate_ag</th>\n",
       "                        <td id=\"T_d7cfb_row18_col0\" class=\"data row18 col0\" >0.00%</td>\n",
       "            </tr>\n",
       "            <tr>\n",
       "                        <th id=\"T_d7cfb_level0_row19\" class=\"row_heading level0 row19\" >primary_cleaner.output.concentrate_ag</th>\n",
       "                        <td id=\"T_d7cfb_row19_col0\" class=\"data row19 col0\" >0.00%</td>\n",
       "            </tr>\n",
       "            <tr>\n",
       "                        <th id=\"T_d7cfb_level0_row20\" class=\"row_heading level0 row20\" >primary_cleaner.input.feed_size</th>\n",
       "                        <td id=\"T_d7cfb_row20_col0\" class=\"data row20 col0\" >0.00%</td>\n",
       "            </tr>\n",
       "            <tr>\n",
       "                        <th id=\"T_d7cfb_level0_row21\" class=\"row_heading level0 row21\" >final.output.concentrate_au</th>\n",
       "                        <td id=\"T_d7cfb_row21_col0\" class=\"data row21 col0\" >0.00%</td>\n",
       "            </tr>\n",
       "            <tr>\n",
       "                        <th id=\"T_d7cfb_level0_row22\" class=\"row_heading level0 row22\" >final.output.tail_au</th>\n",
       "                        <td id=\"T_d7cfb_row22_col0\" class=\"data row22 col0\" >0.00%</td>\n",
       "            </tr>\n",
       "            <tr>\n",
       "                        <th id=\"T_d7cfb_level0_row23\" class=\"row_heading level0 row23\" >final.output.recovery</th>\n",
       "                        <td id=\"T_d7cfb_row23_col0\" class=\"data row23 col0\" >0.00%</td>\n",
       "            </tr>\n",
       "            <tr>\n",
       "                        <th id=\"T_d7cfb_level0_row24\" class=\"row_heading level0 row24\" >secondary_cleaner.state.floatbank5_b_level</th>\n",
       "                        <td id=\"T_d7cfb_row24_col0\" class=\"data row24 col0\" >0.01%</td>\n",
       "            </tr>\n",
       "            <tr>\n",
       "                        <th id=\"T_d7cfb_level0_row25\" class=\"row_heading level0 row25\" >secondary_cleaner.state.floatbank5_b_air</th>\n",
       "                        <td id=\"T_d7cfb_row25_col0\" class=\"data row25 col0\" >0.01%</td>\n",
       "            </tr>\n",
       "            <tr>\n",
       "                        <th id=\"T_d7cfb_level0_row26\" class=\"row_heading level0 row26\" >secondary_cleaner.state.floatbank5_a_level</th>\n",
       "                        <td id=\"T_d7cfb_row26_col0\" class=\"data row26 col0\" >0.01%</td>\n",
       "            </tr>\n",
       "            <tr>\n",
       "                        <th id=\"T_d7cfb_level0_row27\" class=\"row_heading level0 row27\" >rougher.output.tail_ag</th>\n",
       "                        <td id=\"T_d7cfb_row27_col0\" class=\"data row27 col0\" >0.01%</td>\n",
       "            </tr>\n",
       "            <tr>\n",
       "                        <th id=\"T_d7cfb_level0_row28\" class=\"row_heading level0 row28\" >secondary_cleaner.state.floatbank5_a_air</th>\n",
       "                        <td id=\"T_d7cfb_row28_col0\" class=\"data row28 col0\" >0.01%</td>\n",
       "            </tr>\n",
       "            <tr>\n",
       "                        <th id=\"T_d7cfb_level0_row29\" class=\"row_heading level0 row29\" >secondary_cleaner.state.floatbank4_b_level</th>\n",
       "                        <td id=\"T_d7cfb_row29_col0\" class=\"data row29 col0\" >0.01%</td>\n",
       "            </tr>\n",
       "            <tr>\n",
       "                        <th id=\"T_d7cfb_level0_row30\" class=\"row_heading level0 row30\" >secondary_cleaner.state.floatbank4_b_air</th>\n",
       "                        <td id=\"T_d7cfb_row30_col0\" class=\"data row30 col0\" >0.01%</td>\n",
       "            </tr>\n",
       "            <tr>\n",
       "                        <th id=\"T_d7cfb_level0_row31\" class=\"row_heading level0 row31\" >rougher.state.floatbank10_a_air</th>\n",
       "                        <td id=\"T_d7cfb_row31_col0\" class=\"data row31 col0\" >0.01%</td>\n",
       "            </tr>\n",
       "            <tr>\n",
       "                        <th id=\"T_d7cfb_level0_row32\" class=\"row_heading level0 row32\" >secondary_cleaner.state.floatbank2_a_level</th>\n",
       "                        <td id=\"T_d7cfb_row32_col0\" class=\"data row32 col0\" >0.01%</td>\n",
       "            </tr>\n",
       "            <tr>\n",
       "                        <th id=\"T_d7cfb_level0_row33\" class=\"row_heading level0 row33\" >secondary_cleaner.state.floatbank2_b_level</th>\n",
       "                        <td id=\"T_d7cfb_row33_col0\" class=\"data row33 col0\" >0.01%</td>\n",
       "            </tr>\n",
       "            <tr>\n",
       "                        <th id=\"T_d7cfb_level0_row34\" class=\"row_heading level0 row34\" >rougher.state.floatbank10_b_level</th>\n",
       "                        <td id=\"T_d7cfb_row34_col0\" class=\"data row34 col0\" >0.01%</td>\n",
       "            </tr>\n",
       "            <tr>\n",
       "                        <th id=\"T_d7cfb_level0_row35\" class=\"row_heading level0 row35\" >rougher.state.floatbank10_c_air</th>\n",
       "                        <td id=\"T_d7cfb_row35_col0\" class=\"data row35 col0\" >0.01%</td>\n",
       "            </tr>\n",
       "            <tr>\n",
       "                        <th id=\"T_d7cfb_level0_row36\" class=\"row_heading level0 row36\" >rougher.state.floatbank10_c_level</th>\n",
       "                        <td id=\"T_d7cfb_row36_col0\" class=\"data row36 col0\" >0.01%</td>\n",
       "            </tr>\n",
       "            <tr>\n",
       "                        <th id=\"T_d7cfb_level0_row37\" class=\"row_heading level0 row37\" >secondary_cleaner.state.floatbank4_a_level</th>\n",
       "                        <td id=\"T_d7cfb_row37_col0\" class=\"data row37 col0\" >0.01%</td>\n",
       "            </tr>\n",
       "            <tr>\n",
       "                        <th id=\"T_d7cfb_level0_row38\" class=\"row_heading level0 row38\" >secondary_cleaner.state.floatbank3_b_level</th>\n",
       "                        <td id=\"T_d7cfb_row38_col0\" class=\"data row38 col0\" >0.01%</td>\n",
       "            </tr>\n",
       "            <tr>\n",
       "                        <th id=\"T_d7cfb_level0_row39\" class=\"row_heading level0 row39\" >secondary_cleaner.state.floatbank3_b_air</th>\n",
       "                        <td id=\"T_d7cfb_row39_col0\" class=\"data row39 col0\" >0.01%</td>\n",
       "            </tr>\n",
       "            <tr>\n",
       "                        <th id=\"T_d7cfb_level0_row40\" class=\"row_heading level0 row40\" >secondary_cleaner.output.tail_ag</th>\n",
       "                        <td id=\"T_d7cfb_row40_col0\" class=\"data row40 col0\" >0.01%</td>\n",
       "            </tr>\n",
       "            <tr>\n",
       "                        <th id=\"T_d7cfb_level0_row41\" class=\"row_heading level0 row41\" >secondary_cleaner.state.floatbank3_a_level</th>\n",
       "                        <td id=\"T_d7cfb_row41_col0\" class=\"data row41 col0\" >0.01%</td>\n",
       "            </tr>\n",
       "            <tr>\n",
       "                        <th id=\"T_d7cfb_level0_row42\" class=\"row_heading level0 row42\" >rougher.state.floatbank10_a_level</th>\n",
       "                        <td id=\"T_d7cfb_row42_col0\" class=\"data row42 col0\" >0.01%</td>\n",
       "            </tr>\n",
       "            <tr>\n",
       "                        <th id=\"T_d7cfb_level0_row43\" class=\"row_heading level0 row43\" >rougher.state.floatbank10_b_air</th>\n",
       "                        <td id=\"T_d7cfb_row43_col0\" class=\"data row43 col0\" >0.01%</td>\n",
       "            </tr>\n",
       "            <tr>\n",
       "                        <th id=\"T_d7cfb_level0_row44\" class=\"row_heading level0 row44\" >secondary_cleaner.state.floatbank6_a_level</th>\n",
       "                        <td id=\"T_d7cfb_row44_col0\" class=\"data row44 col0\" >0.01%</td>\n",
       "            </tr>\n",
       "            <tr>\n",
       "                        <th id=\"T_d7cfb_level0_row45\" class=\"row_heading level0 row45\" >primary_cleaner.state.floatbank8_c_air</th>\n",
       "                        <td id=\"T_d7cfb_row45_col0\" class=\"data row45 col0\" >0.01%</td>\n",
       "            </tr>\n",
       "            <tr>\n",
       "                        <th id=\"T_d7cfb_level0_row46\" class=\"row_heading level0 row46\" >primary_cleaner.state.floatbank8_a_level</th>\n",
       "                        <td id=\"T_d7cfb_row46_col0\" class=\"data row46 col0\" >0.01%</td>\n",
       "            </tr>\n",
       "            <tr>\n",
       "                        <th id=\"T_d7cfb_level0_row47\" class=\"row_heading level0 row47\" >primary_cleaner.state.floatbank8_b_level</th>\n",
       "                        <td id=\"T_d7cfb_row47_col0\" class=\"data row47 col0\" >0.01%</td>\n",
       "            </tr>\n",
       "            <tr>\n",
       "                        <th id=\"T_d7cfb_level0_row48\" class=\"row_heading level0 row48\" >primary_cleaner.state.floatbank8_c_level</th>\n",
       "                        <td id=\"T_d7cfb_row48_col0\" class=\"data row48 col0\" >0.01%</td>\n",
       "            </tr>\n",
       "            <tr>\n",
       "                        <th id=\"T_d7cfb_level0_row49\" class=\"row_heading level0 row49\" >primary_cleaner.state.floatbank8_d_level</th>\n",
       "                        <td id=\"T_d7cfb_row49_col0\" class=\"data row49 col0\" >0.01%</td>\n",
       "            </tr>\n",
       "            <tr>\n",
       "                        <th id=\"T_d7cfb_level0_row50\" class=\"row_heading level0 row50\" >rougher.calculation.floatbank10_sulfate_to_au_feed</th>\n",
       "                        <td id=\"T_d7cfb_row50_col0\" class=\"data row50 col0\" >0.01%</td>\n",
       "            </tr>\n",
       "            <tr>\n",
       "                        <th id=\"T_d7cfb_level0_row51\" class=\"row_heading level0 row51\" >rougher.calculation.floatbank11_sulfate_to_au_feed</th>\n",
       "                        <td id=\"T_d7cfb_row51_col0\" class=\"data row51 col0\" >0.01%</td>\n",
       "            </tr>\n",
       "            <tr>\n",
       "                        <th id=\"T_d7cfb_level0_row52\" class=\"row_heading level0 row52\" >rougher.calculation.sulfate_to_au_concentrate</th>\n",
       "                        <td id=\"T_d7cfb_row52_col0\" class=\"data row52 col0\" >0.01%</td>\n",
       "            </tr>\n",
       "            <tr>\n",
       "                        <th id=\"T_d7cfb_level0_row53\" class=\"row_heading level0 row53\" >final.output.concentrate_pb</th>\n",
       "                        <td id=\"T_d7cfb_row53_col0\" class=\"data row53 col0\" >0.01%</td>\n",
       "            </tr>\n",
       "            <tr>\n",
       "                        <th id=\"T_d7cfb_level0_row54\" class=\"row_heading level0 row54\" >final.output.concentrate_ag</th>\n",
       "                        <td id=\"T_d7cfb_row54_col0\" class=\"data row54 col0\" >0.01%</td>\n",
       "            </tr>\n",
       "            <tr>\n",
       "                        <th id=\"T_d7cfb_level0_row55\" class=\"row_heading level0 row55\" >final.output.tail_ag</th>\n",
       "                        <td id=\"T_d7cfb_row55_col0\" class=\"data row55 col0\" >0.01%</td>\n",
       "            </tr>\n",
       "            <tr>\n",
       "                        <th id=\"T_d7cfb_level0_row56\" class=\"row_heading level0 row56\" >secondary_cleaner.state.floatbank6_a_air</th>\n",
       "                        <td id=\"T_d7cfb_row56_col0\" class=\"data row56 col0\" >0.01%</td>\n",
       "            </tr>\n",
       "            <tr>\n",
       "                        <th id=\"T_d7cfb_level0_row57\" class=\"row_heading level0 row57\" >primary_cleaner.state.floatbank8_a_air</th>\n",
       "                        <td id=\"T_d7cfb_row57_col0\" class=\"data row57 col0\" >0.02%</td>\n",
       "            </tr>\n",
       "            <tr>\n",
       "                        <th id=\"T_d7cfb_level0_row58\" class=\"row_heading level0 row58\" >primary_cleaner.state.floatbank8_d_air</th>\n",
       "                        <td id=\"T_d7cfb_row58_col0\" class=\"data row58 col0\" >0.02%</td>\n",
       "            </tr>\n",
       "            <tr>\n",
       "                        <th id=\"T_d7cfb_level0_row59\" class=\"row_heading level0 row59\" >primary_cleaner.state.floatbank8_b_air</th>\n",
       "                        <td id=\"T_d7cfb_row59_col0\" class=\"data row59 col0\" >0.02%</td>\n",
       "            </tr>\n",
       "            <tr>\n",
       "                        <th id=\"T_d7cfb_level0_row60\" class=\"row_heading level0 row60\" >primary_cleaner.output.tail_ag</th>\n",
       "                        <td id=\"T_d7cfb_row60_col0\" class=\"data row60 col0\" >0.02%</td>\n",
       "            </tr>\n",
       "            <tr>\n",
       "                        <th id=\"T_d7cfb_level0_row61\" class=\"row_heading level0 row61\" >secondary_cleaner.state.floatbank4_a_air</th>\n",
       "                        <td id=\"T_d7cfb_row61_col0\" class=\"data row61 col0\" >0.03%</td>\n",
       "            </tr>\n",
       "            <tr>\n",
       "                        <th id=\"T_d7cfb_level0_row62\" class=\"row_heading level0 row62\" >final.output.tail_sol</th>\n",
       "                        <td id=\"T_d7cfb_row62_col0\" class=\"data row62 col0\" >0.03%</td>\n",
       "            </tr>\n",
       "            <tr>\n",
       "                        <th id=\"T_d7cfb_level0_row63\" class=\"row_heading level0 row63\" >rougher.input.floatbank10_xanthate</th>\n",
       "                        <td id=\"T_d7cfb_row63_col0\" class=\"data row63 col0\" >0.04%</td>\n",
       "            </tr>\n",
       "            <tr>\n",
       "                        <th id=\"T_d7cfb_level0_row64\" class=\"row_heading level0 row64\" >rougher.input.feed_rate</th>\n",
       "                        <td id=\"T_d7cfb_row64_col0\" class=\"data row64 col0\" >0.06%</td>\n",
       "            </tr>\n",
       "            <tr>\n",
       "                        <th id=\"T_d7cfb_level0_row65\" class=\"row_heading level0 row65\" >secondary_cleaner.output.tail_pb</th>\n",
       "                        <td id=\"T_d7cfb_row65_col0\" class=\"data row65 col0\" >0.06%</td>\n",
       "            </tr>\n",
       "            <tr>\n",
       "                        <th id=\"T_d7cfb_level0_row66\" class=\"row_heading level0 row66\" >secondary_cleaner.state.floatbank3_a_air</th>\n",
       "                        <td id=\"T_d7cfb_row66_col0\" class=\"data row66 col0\" >0.07%</td>\n",
       "            </tr>\n",
       "            <tr>\n",
       "                        <th id=\"T_d7cfb_level0_row67\" class=\"row_heading level0 row67\" >primary_cleaner.output.tail_pb</th>\n",
       "                        <td id=\"T_d7cfb_row67_col0\" class=\"data row67 col0\" >0.11%</td>\n",
       "            </tr>\n",
       "            <tr>\n",
       "                        <th id=\"T_d7cfb_level0_row68\" class=\"row_heading level0 row68\" >primary_cleaner.input.sulfate</th>\n",
       "                        <td id=\"T_d7cfb_row68_col0\" class=\"data row68 col0\" >0.12%</td>\n",
       "            </tr>\n",
       "            <tr>\n",
       "                        <th id=\"T_d7cfb_level0_row69\" class=\"row_heading level0 row69\" >rougher.output.concentrate_sol</th>\n",
       "                        <td id=\"T_d7cfb_row69_col0\" class=\"data row69 col0\" >0.12%</td>\n",
       "            </tr>\n",
       "            <tr>\n",
       "                        <th id=\"T_d7cfb_level0_row70\" class=\"row_heading level0 row70\" >secondary_cleaner.state.floatbank2_b_air</th>\n",
       "                        <td id=\"T_d7cfb_row70_col0\" class=\"data row70 col0\" >0.12%</td>\n",
       "            </tr>\n",
       "            <tr>\n",
       "                        <th id=\"T_d7cfb_level0_row71\" class=\"row_heading level0 row71\" >rougher.input.floatbank10_sulfate</th>\n",
       "                        <td id=\"T_d7cfb_row71_col0\" class=\"data row71 col0\" >0.17%</td>\n",
       "            </tr>\n",
       "            <tr>\n",
       "                        <th id=\"T_d7cfb_level0_row72\" class=\"row_heading level0 row72\" >primary_cleaner.input.depressant</th>\n",
       "                        <td id=\"T_d7cfb_row72_col0\" class=\"data row72 col0\" >0.19%</td>\n",
       "            </tr>\n",
       "            <tr>\n",
       "                        <th id=\"T_d7cfb_level0_row73\" class=\"row_heading level0 row73\" >rougher.input.floatbank11_sulfate</th>\n",
       "                        <td id=\"T_d7cfb_row73_col0\" class=\"data row73 col0\" >0.23%</td>\n",
       "            </tr>\n",
       "            <tr>\n",
       "                        <th id=\"T_d7cfb_level0_row74\" class=\"row_heading level0 row74\" >primary_cleaner.output.tail_sol</th>\n",
       "                        <td id=\"T_d7cfb_row74_col0\" class=\"data row74 col0\" >0.32%</td>\n",
       "            </tr>\n",
       "            <tr>\n",
       "                        <th id=\"T_d7cfb_level0_row75\" class=\"row_heading level0 row75\" >rougher.input.feed_pb</th>\n",
       "                        <td id=\"T_d7cfb_row75_col0\" class=\"data row75 col0\" >0.51%</td>\n",
       "            </tr>\n",
       "            <tr>\n",
       "                        <th id=\"T_d7cfb_level0_row76\" class=\"row_heading level0 row76\" >rougher.input.feed_sol</th>\n",
       "                        <td id=\"T_d7cfb_row76_col0\" class=\"data row76 col0\" >0.51%</td>\n",
       "            </tr>\n",
       "            <tr>\n",
       "                        <th id=\"T_d7cfb_level0_row77\" class=\"row_heading level0 row77\" >final.output.tail_pb</th>\n",
       "                        <td id=\"T_d7cfb_row77_col0\" class=\"data row77 col0\" >0.52%</td>\n",
       "            </tr>\n",
       "            <tr>\n",
       "                        <th id=\"T_d7cfb_level0_row78\" class=\"row_heading level0 row78\" >primary_cleaner.input.xanthate</th>\n",
       "                        <td id=\"T_d7cfb_row78_col0\" class=\"data row78 col0\" >0.54%</td>\n",
       "            </tr>\n",
       "            <tr>\n",
       "                        <th id=\"T_d7cfb_level0_row79\" class=\"row_heading level0 row79\" >primary_cleaner.output.concentrate_pb</th>\n",
       "                        <td id=\"T_d7cfb_row79_col0\" class=\"data row79 col0\" >0.60%</td>\n",
       "            </tr>\n",
       "            <tr>\n",
       "                        <th id=\"T_d7cfb_level0_row80\" class=\"row_heading level0 row80\" >rougher.input.feed_size</th>\n",
       "                        <td id=\"T_d7cfb_row80_col0\" class=\"data row80 col0\" >0.75%</td>\n",
       "            </tr>\n",
       "            <tr>\n",
       "                        <th id=\"T_d7cfb_level0_row81\" class=\"row_heading level0 row81\" >final.output.concentrate_sol</th>\n",
       "                        <td id=\"T_d7cfb_row81_col0\" class=\"data row81 col0\" >1.09%</td>\n",
       "            </tr>\n",
       "            <tr>\n",
       "                        <th id=\"T_d7cfb_level0_row82\" class=\"row_heading level0 row82\" >secondary_cleaner.state.floatbank2_a_air</th>\n",
       "                        <td id=\"T_d7cfb_row82_col0\" class=\"data row82 col0\" >1.13%</td>\n",
       "            </tr>\n",
       "            <tr>\n",
       "                        <th id=\"T_d7cfb_level0_row83\" class=\"row_heading level0 row83\" >primary_cleaner.output.concentrate_sol</th>\n",
       "                        <td id=\"T_d7cfb_row83_col0\" class=\"data row83 col0\" >1.90%</td>\n",
       "            </tr>\n",
       "            <tr>\n",
       "                        <th id=\"T_d7cfb_level0_row84\" class=\"row_heading level0 row84\" >rougher.state.floatbank10_e_air</th>\n",
       "                        <td id=\"T_d7cfb_row84_col0\" class=\"data row84 col0\" >2.24%</td>\n",
       "            </tr>\n",
       "            <tr>\n",
       "                        <th id=\"T_d7cfb_level0_row85\" class=\"row_heading level0 row85\" >rougher.input.floatbank11_xanthate</th>\n",
       "                        <td id=\"T_d7cfb_row85_col0\" class=\"data row85 col0\" >2.33%</td>\n",
       "            </tr>\n",
       "            <tr>\n",
       "                        <th id=\"T_d7cfb_level0_row86\" class=\"row_heading level0 row86\" >secondary_cleaner.output.tail_sol</th>\n",
       "                        <td id=\"T_d7cfb_row86_col0\" class=\"data row86 col0\" >8.99%</td>\n",
       "            </tr>\n",
       "    </tbody></table>"
      ],
      "text/plain": [
       "<pandas.io.formats.style.Styler at 0x7fdc944b1d00>"
      ]
     },
     "execution_count": 12,
     "metadata": {},
     "output_type": "execute_result"
    }
   ],
   "source": [
    "full_data.isna().mean().round(4).to_frame().sort_values(by=0).style.format('{:.2%}').background_gradient('coolwarm')"
   ]
  },
  {
   "cell_type": "code",
   "execution_count": 13,
   "metadata": {},
   "outputs": [
    {
     "data": {
      "text/html": [
       "<style  type=\"text/css\" >\n",
       "#T_2cd05_row0_col0,#T_2cd05_row1_col0,#T_2cd05_row2_col0,#T_2cd05_row3_col0,#T_2cd05_row4_col0,#T_2cd05_row5_col0,#T_2cd05_row6_col0,#T_2cd05_row7_col0,#T_2cd05_row8_col0,#T_2cd05_row9_col0,#T_2cd05_row10_col0,#T_2cd05_row11_col0,#T_2cd05_row12_col0,#T_2cd05_row13_col0,#T_2cd05_row14_col0,#T_2cd05_row15_col0,#T_2cd05_row16_col0,#T_2cd05_row17_col0,#T_2cd05_row18_col0,#T_2cd05_row19_col0,#T_2cd05_row20_col0,#T_2cd05_row21_col0,#T_2cd05_row22_col0,#T_2cd05_row23_col0,#T_2cd05_row24_col0,#T_2cd05_row25_col0,#T_2cd05_row26_col0,#T_2cd05_row27_col0,#T_2cd05_row28_col0,#T_2cd05_row29_col0,#T_2cd05_row30_col0,#T_2cd05_row31_col0,#T_2cd05_row32_col0,#T_2cd05_row33_col0,#T_2cd05_row34_col0,#T_2cd05_row35_col0,#T_2cd05_row36_col0,#T_2cd05_row37_col0,#T_2cd05_row38_col0,#T_2cd05_row39_col0,#T_2cd05_row40_col0,#T_2cd05_row41_col0,#T_2cd05_row42_col0,#T_2cd05_row43_col0,#T_2cd05_row44_col0,#T_2cd05_row45_col0,#T_2cd05_row46_col0,#T_2cd05_row47_col0,#T_2cd05_row48_col0,#T_2cd05_row49_col0,#T_2cd05_row50_col0,#T_2cd05_row51_col0,#T_2cd05_row52_col0,#T_2cd05_row53_col0,#T_2cd05_row54_col0,#T_2cd05_row55_col0,#T_2cd05_row56_col0,#T_2cd05_row57_col0,#T_2cd05_row58_col0,#T_2cd05_row59_col0,#T_2cd05_row60_col0,#T_2cd05_row61_col0,#T_2cd05_row62_col0,#T_2cd05_row63_col0{\n",
       "            background-color:  #3b4cc0;\n",
       "            color:  #f1f1f1;\n",
       "        }#T_2cd05_row64_col0,#T_2cd05_row65_col0,#T_2cd05_row66_col0{\n",
       "            background-color:  #3c4ec2;\n",
       "            color:  #f1f1f1;\n",
       "        }#T_2cd05_row67_col0{\n",
       "            background-color:  #3d50c3;\n",
       "            color:  #f1f1f1;\n",
       "        }#T_2cd05_row68_col0,#T_2cd05_row69_col0,#T_2cd05_row70_col0{\n",
       "            background-color:  #3e51c5;\n",
       "            color:  #f1f1f1;\n",
       "        }#T_2cd05_row71_col0{\n",
       "            background-color:  #3f53c6;\n",
       "            color:  #f1f1f1;\n",
       "        }#T_2cd05_row72_col0,#T_2cd05_row73_col0{\n",
       "            background-color:  #4055c8;\n",
       "            color:  #f1f1f1;\n",
       "        }#T_2cd05_row74_col0{\n",
       "            background-color:  #4358cb;\n",
       "            color:  #f1f1f1;\n",
       "        }#T_2cd05_row75_col0{\n",
       "            background-color:  #4961d2;\n",
       "            color:  #f1f1f1;\n",
       "        }#T_2cd05_row76_col0{\n",
       "            background-color:  #4a63d3;\n",
       "            color:  #f1f1f1;\n",
       "        }#T_2cd05_row77_col0,#T_2cd05_row78_col0,#T_2cd05_row79_col0{\n",
       "            background-color:  #4e68d8;\n",
       "            color:  #000000;\n",
       "        }#T_2cd05_row80_col0{\n",
       "            background-color:  #5673e0;\n",
       "            color:  #000000;\n",
       "        }#T_2cd05_row81_col0{\n",
       "            background-color:  #6384eb;\n",
       "            color:  #000000;\n",
       "        }#T_2cd05_row82_col0{\n",
       "            background-color:  #6485ec;\n",
       "            color:  #000000;\n",
       "        }#T_2cd05_row83_col0{\n",
       "            background-color:  #7396f5;\n",
       "            color:  #000000;\n",
       "        }#T_2cd05_row84_col0{\n",
       "            background-color:  #93b5fe;\n",
       "            color:  #000000;\n",
       "        }#T_2cd05_row85_col0{\n",
       "            background-color:  #94b6ff;\n",
       "            color:  #000000;\n",
       "        }#T_2cd05_row86_col0{\n",
       "            background-color:  #b40426;\n",
       "            color:  #f1f1f1;\n",
       "        }</style><table id=\"T_2cd05_\" ><thead>    <tr>        <th class=\"blank level0\" ></th>        <th class=\"col_heading level0 col0\" >0</th>    </tr></thead><tbody>\n",
       "                <tr>\n",
       "                        <th id=\"T_2cd05_level0_row0\" class=\"row_heading level0 row0\" >date</th>\n",
       "                        <td id=\"T_2cd05_row0_col0\" class=\"data row0 col0\" >0.00%</td>\n",
       "            </tr>\n",
       "            <tr>\n",
       "                        <th id=\"T_2cd05_level0_row1\" class=\"row_heading level0 row1\" >rougher.output.concentrate_pb</th>\n",
       "                        <td id=\"T_2cd05_row1_col0\" class=\"data row1 col0\" >0.00%</td>\n",
       "            </tr>\n",
       "            <tr>\n",
       "                        <th id=\"T_2cd05_level0_row2\" class=\"row_heading level0 row2\" >rougher.state.floatbank10_f_level</th>\n",
       "                        <td id=\"T_2cd05_row2_col0\" class=\"data row2 col0\" >0.00%</td>\n",
       "            </tr>\n",
       "            <tr>\n",
       "                        <th id=\"T_2cd05_level0_row3\" class=\"row_heading level0 row3\" >rougher.state.floatbank10_f_air</th>\n",
       "                        <td id=\"T_2cd05_row3_col0\" class=\"data row3 col0\" >0.00%</td>\n",
       "            </tr>\n",
       "            <tr>\n",
       "                        <th id=\"T_2cd05_level0_row4\" class=\"row_heading level0 row4\" >rougher.state.floatbank10_e_level</th>\n",
       "                        <td id=\"T_2cd05_row4_col0\" class=\"data row4 col0\" >0.00%</td>\n",
       "            </tr>\n",
       "            <tr>\n",
       "                        <th id=\"T_2cd05_level0_row5\" class=\"row_heading level0 row5\" >rougher.state.floatbank10_d_level</th>\n",
       "                        <td id=\"T_2cd05_row5_col0\" class=\"data row5 col0\" >0.00%</td>\n",
       "            </tr>\n",
       "            <tr>\n",
       "                        <th id=\"T_2cd05_level0_row6\" class=\"row_heading level0 row6\" >rougher.state.floatbank10_d_air</th>\n",
       "                        <td id=\"T_2cd05_row6_col0\" class=\"data row6 col0\" >0.00%</td>\n",
       "            </tr>\n",
       "            <tr>\n",
       "                        <th id=\"T_2cd05_level0_row7\" class=\"row_heading level0 row7\" >primary_cleaner.output.tail_au</th>\n",
       "                        <td id=\"T_2cd05_row7_col0\" class=\"data row7 col0\" >0.00%</td>\n",
       "            </tr>\n",
       "            <tr>\n",
       "                        <th id=\"T_2cd05_level0_row8\" class=\"row_heading level0 row8\" >rougher.calculation.au_pb_ratio</th>\n",
       "                        <td id=\"T_2cd05_row8_col0\" class=\"data row8 col0\" >0.00%</td>\n",
       "            </tr>\n",
       "            <tr>\n",
       "                        <th id=\"T_2cd05_level0_row9\" class=\"row_heading level0 row9\" >rougher.output.tail_au</th>\n",
       "                        <td id=\"T_2cd05_row9_col0\" class=\"data row9 col0\" >0.00%</td>\n",
       "            </tr>\n",
       "            <tr>\n",
       "                        <th id=\"T_2cd05_level0_row10\" class=\"row_heading level0 row10\" >rougher.output.tail_sol</th>\n",
       "                        <td id=\"T_2cd05_row10_col0\" class=\"data row10 col0\" >0.00%</td>\n",
       "            </tr>\n",
       "            <tr>\n",
       "                        <th id=\"T_2cd05_level0_row11\" class=\"row_heading level0 row11\" >rougher.output.tail_pb</th>\n",
       "                        <td id=\"T_2cd05_row11_col0\" class=\"data row11 col0\" >0.00%</td>\n",
       "            </tr>\n",
       "            <tr>\n",
       "                        <th id=\"T_2cd05_level0_row12\" class=\"row_heading level0 row12\" >rougher.input.feed_au</th>\n",
       "                        <td id=\"T_2cd05_row12_col0\" class=\"data row12 col0\" >0.00%</td>\n",
       "            </tr>\n",
       "            <tr>\n",
       "                        <th id=\"T_2cd05_level0_row13\" class=\"row_heading level0 row13\" >rougher.output.recovery</th>\n",
       "                        <td id=\"T_2cd05_row13_col0\" class=\"data row13 col0\" >0.00%</td>\n",
       "            </tr>\n",
       "            <tr>\n",
       "                        <th id=\"T_2cd05_level0_row14\" class=\"row_heading level0 row14\" >rougher.output.concentrate_au</th>\n",
       "                        <td id=\"T_2cd05_row14_col0\" class=\"data row14 col0\" >0.00%</td>\n",
       "            </tr>\n",
       "            <tr>\n",
       "                        <th id=\"T_2cd05_level0_row15\" class=\"row_heading level0 row15\" >rougher.input.feed_ag</th>\n",
       "                        <td id=\"T_2cd05_row15_col0\" class=\"data row15 col0\" >0.00%</td>\n",
       "            </tr>\n",
       "            <tr>\n",
       "                        <th id=\"T_2cd05_level0_row16\" class=\"row_heading level0 row16\" >secondary_cleaner.output.tail_au</th>\n",
       "                        <td id=\"T_2cd05_row16_col0\" class=\"data row16 col0\" >0.00%</td>\n",
       "            </tr>\n",
       "            <tr>\n",
       "                        <th id=\"T_2cd05_level0_row17\" class=\"row_heading level0 row17\" >rougher.output.concentrate_ag</th>\n",
       "                        <td id=\"T_2cd05_row17_col0\" class=\"data row17 col0\" >0.00%</td>\n",
       "            </tr>\n",
       "            <tr>\n",
       "                        <th id=\"T_2cd05_level0_row18\" class=\"row_heading level0 row18\" >primary_cleaner.output.concentrate_ag</th>\n",
       "                        <td id=\"T_2cd05_row18_col0\" class=\"data row18 col0\" >0.00%</td>\n",
       "            </tr>\n",
       "            <tr>\n",
       "                        <th id=\"T_2cd05_level0_row19\" class=\"row_heading level0 row19\" >primary_cleaner.input.feed_size</th>\n",
       "                        <td id=\"T_2cd05_row19_col0\" class=\"data row19 col0\" >0.00%</td>\n",
       "            </tr>\n",
       "            <tr>\n",
       "                        <th id=\"T_2cd05_level0_row20\" class=\"row_heading level0 row20\" >final.output.concentrate_au</th>\n",
       "                        <td id=\"T_2cd05_row20_col0\" class=\"data row20 col0\" >0.00%</td>\n",
       "            </tr>\n",
       "            <tr>\n",
       "                        <th id=\"T_2cd05_level0_row21\" class=\"row_heading level0 row21\" >final.output.recovery</th>\n",
       "                        <td id=\"T_2cd05_row21_col0\" class=\"data row21 col0\" >0.00%</td>\n",
       "            </tr>\n",
       "            <tr>\n",
       "                        <th id=\"T_2cd05_level0_row22\" class=\"row_heading level0 row22\" >final.output.tail_au</th>\n",
       "                        <td id=\"T_2cd05_row22_col0\" class=\"data row22 col0\" >0.00%</td>\n",
       "            </tr>\n",
       "            <tr>\n",
       "                        <th id=\"T_2cd05_level0_row23\" class=\"row_heading level0 row23\" >final.output.tail_ag</th>\n",
       "                        <td id=\"T_2cd05_row23_col0\" class=\"data row23 col0\" >0.00%</td>\n",
       "            </tr>\n",
       "            <tr>\n",
       "                        <th id=\"T_2cd05_level0_row24\" class=\"row_heading level0 row24\" >primary_cleaner.output.concentrate_au</th>\n",
       "                        <td id=\"T_2cd05_row24_col0\" class=\"data row24 col0\" >0.00%</td>\n",
       "            </tr>\n",
       "            <tr>\n",
       "                        <th id=\"T_2cd05_level0_row25\" class=\"row_heading level0 row25\" >secondary_cleaner.state.floatbank2_b_level</th>\n",
       "                        <td id=\"T_2cd05_row25_col0\" class=\"data row25 col0\" >0.01%</td>\n",
       "            </tr>\n",
       "            <tr>\n",
       "                        <th id=\"T_2cd05_level0_row26\" class=\"row_heading level0 row26\" >secondary_cleaner.state.floatbank5_b_level</th>\n",
       "                        <td id=\"T_2cd05_row26_col0\" class=\"data row26 col0\" >0.01%</td>\n",
       "            </tr>\n",
       "            <tr>\n",
       "                        <th id=\"T_2cd05_level0_row27\" class=\"row_heading level0 row27\" >secondary_cleaner.state.floatbank5_b_air</th>\n",
       "                        <td id=\"T_2cd05_row27_col0\" class=\"data row27 col0\" >0.01%</td>\n",
       "            </tr>\n",
       "            <tr>\n",
       "                        <th id=\"T_2cd05_level0_row28\" class=\"row_heading level0 row28\" >rougher.output.tail_ag</th>\n",
       "                        <td id=\"T_2cd05_row28_col0\" class=\"data row28 col0\" >0.01%</td>\n",
       "            </tr>\n",
       "            <tr>\n",
       "                        <th id=\"T_2cd05_level0_row29\" class=\"row_heading level0 row29\" >secondary_cleaner.state.floatbank5_a_level</th>\n",
       "                        <td id=\"T_2cd05_row29_col0\" class=\"data row29 col0\" >0.01%</td>\n",
       "            </tr>\n",
       "            <tr>\n",
       "                        <th id=\"T_2cd05_level0_row30\" class=\"row_heading level0 row30\" >rougher.state.floatbank10_a_air</th>\n",
       "                        <td id=\"T_2cd05_row30_col0\" class=\"data row30 col0\" >0.01%</td>\n",
       "            </tr>\n",
       "            <tr>\n",
       "                        <th id=\"T_2cd05_level0_row31\" class=\"row_heading level0 row31\" >secondary_cleaner.state.floatbank5_a_air</th>\n",
       "                        <td id=\"T_2cd05_row31_col0\" class=\"data row31 col0\" >0.01%</td>\n",
       "            </tr>\n",
       "            <tr>\n",
       "                        <th id=\"T_2cd05_level0_row32\" class=\"row_heading level0 row32\" >secondary_cleaner.state.floatbank4_b_level</th>\n",
       "                        <td id=\"T_2cd05_row32_col0\" class=\"data row32 col0\" >0.01%</td>\n",
       "            </tr>\n",
       "            <tr>\n",
       "                        <th id=\"T_2cd05_level0_row33\" class=\"row_heading level0 row33\" >rougher.state.floatbank10_b_air</th>\n",
       "                        <td id=\"T_2cd05_row33_col0\" class=\"data row33 col0\" >0.01%</td>\n",
       "            </tr>\n",
       "            <tr>\n",
       "                        <th id=\"T_2cd05_level0_row34\" class=\"row_heading level0 row34\" >rougher.state.floatbank10_b_level</th>\n",
       "                        <td id=\"T_2cd05_row34_col0\" class=\"data row34 col0\" >0.01%</td>\n",
       "            </tr>\n",
       "            <tr>\n",
       "                        <th id=\"T_2cd05_level0_row35\" class=\"row_heading level0 row35\" >rougher.state.floatbank10_c_air</th>\n",
       "                        <td id=\"T_2cd05_row35_col0\" class=\"data row35 col0\" >0.01%</td>\n",
       "            </tr>\n",
       "            <tr>\n",
       "                        <th id=\"T_2cd05_level0_row36\" class=\"row_heading level0 row36\" >rougher.state.floatbank10_c_level</th>\n",
       "                        <td id=\"T_2cd05_row36_col0\" class=\"data row36 col0\" >0.01%</td>\n",
       "            </tr>\n",
       "            <tr>\n",
       "                        <th id=\"T_2cd05_level0_row37\" class=\"row_heading level0 row37\" >secondary_cleaner.state.floatbank4_b_air</th>\n",
       "                        <td id=\"T_2cd05_row37_col0\" class=\"data row37 col0\" >0.01%</td>\n",
       "            </tr>\n",
       "            <tr>\n",
       "                        <th id=\"T_2cd05_level0_row38\" class=\"row_heading level0 row38\" >secondary_cleaner.state.floatbank4_a_level</th>\n",
       "                        <td id=\"T_2cd05_row38_col0\" class=\"data row38 col0\" >0.01%</td>\n",
       "            </tr>\n",
       "            <tr>\n",
       "                        <th id=\"T_2cd05_level0_row39\" class=\"row_heading level0 row39\" >secondary_cleaner.state.floatbank3_b_level</th>\n",
       "                        <td id=\"T_2cd05_row39_col0\" class=\"data row39 col0\" >0.01%</td>\n",
       "            </tr>\n",
       "            <tr>\n",
       "                        <th id=\"T_2cd05_level0_row40\" class=\"row_heading level0 row40\" >secondary_cleaner.state.floatbank3_b_air</th>\n",
       "                        <td id=\"T_2cd05_row40_col0\" class=\"data row40 col0\" >0.01%</td>\n",
       "            </tr>\n",
       "            <tr>\n",
       "                        <th id=\"T_2cd05_level0_row41\" class=\"row_heading level0 row41\" >secondary_cleaner.state.floatbank3_a_level</th>\n",
       "                        <td id=\"T_2cd05_row41_col0\" class=\"data row41 col0\" >0.01%</td>\n",
       "            </tr>\n",
       "            <tr>\n",
       "                        <th id=\"T_2cd05_level0_row42\" class=\"row_heading level0 row42\" >secondary_cleaner.state.floatbank2_a_level</th>\n",
       "                        <td id=\"T_2cd05_row42_col0\" class=\"data row42 col0\" >0.01%</td>\n",
       "            </tr>\n",
       "            <tr>\n",
       "                        <th id=\"T_2cd05_level0_row43\" class=\"row_heading level0 row43\" >rougher.state.floatbank10_a_level</th>\n",
       "                        <td id=\"T_2cd05_row43_col0\" class=\"data row43 col0\" >0.01%</td>\n",
       "            </tr>\n",
       "            <tr>\n",
       "                        <th id=\"T_2cd05_level0_row44\" class=\"row_heading level0 row44\" >secondary_cleaner.output.tail_ag</th>\n",
       "                        <td id=\"T_2cd05_row44_col0\" class=\"data row44 col0\" >0.01%</td>\n",
       "            </tr>\n",
       "            <tr>\n",
       "                        <th id=\"T_2cd05_level0_row45\" class=\"row_heading level0 row45\" >secondary_cleaner.state.floatbank6_a_level</th>\n",
       "                        <td id=\"T_2cd05_row45_col0\" class=\"data row45 col0\" >0.01%</td>\n",
       "            </tr>\n",
       "            <tr>\n",
       "                        <th id=\"T_2cd05_level0_row46\" class=\"row_heading level0 row46\" >primary_cleaner.state.floatbank8_d_level</th>\n",
       "                        <td id=\"T_2cd05_row46_col0\" class=\"data row46 col0\" >0.01%</td>\n",
       "            </tr>\n",
       "            <tr>\n",
       "                        <th id=\"T_2cd05_level0_row47\" class=\"row_heading level0 row47\" >primary_cleaner.state.floatbank8_b_level</th>\n",
       "                        <td id=\"T_2cd05_row47_col0\" class=\"data row47 col0\" >0.01%</td>\n",
       "            </tr>\n",
       "            <tr>\n",
       "                        <th id=\"T_2cd05_level0_row48\" class=\"row_heading level0 row48\" >primary_cleaner.state.floatbank8_c_air</th>\n",
       "                        <td id=\"T_2cd05_row48_col0\" class=\"data row48 col0\" >0.01%</td>\n",
       "            </tr>\n",
       "            <tr>\n",
       "                        <th id=\"T_2cd05_level0_row49\" class=\"row_heading level0 row49\" >primary_cleaner.state.floatbank8_c_level</th>\n",
       "                        <td id=\"T_2cd05_row49_col0\" class=\"data row49 col0\" >0.01%</td>\n",
       "            </tr>\n",
       "            <tr>\n",
       "                        <th id=\"T_2cd05_level0_row50\" class=\"row_heading level0 row50\" >secondary_cleaner.state.floatbank6_a_air</th>\n",
       "                        <td id=\"T_2cd05_row50_col0\" class=\"data row50 col0\" >0.01%</td>\n",
       "            </tr>\n",
       "            <tr>\n",
       "                        <th id=\"T_2cd05_level0_row51\" class=\"row_heading level0 row51\" >rougher.calculation.sulfate_to_au_concentrate</th>\n",
       "                        <td id=\"T_2cd05_row51_col0\" class=\"data row51 col0\" >0.01%</td>\n",
       "            </tr>\n",
       "            <tr>\n",
       "                        <th id=\"T_2cd05_level0_row52\" class=\"row_heading level0 row52\" >primary_cleaner.state.floatbank8_a_level</th>\n",
       "                        <td id=\"T_2cd05_row52_col0\" class=\"data row52 col0\" >0.01%</td>\n",
       "            </tr>\n",
       "            <tr>\n",
       "                        <th id=\"T_2cd05_level0_row53\" class=\"row_heading level0 row53\" >rougher.calculation.floatbank11_sulfate_to_au_feed</th>\n",
       "                        <td id=\"T_2cd05_row53_col0\" class=\"data row53 col0\" >0.01%</td>\n",
       "            </tr>\n",
       "            <tr>\n",
       "                        <th id=\"T_2cd05_level0_row54\" class=\"row_heading level0 row54\" >rougher.calculation.floatbank10_sulfate_to_au_feed</th>\n",
       "                        <td id=\"T_2cd05_row54_col0\" class=\"data row54 col0\" >0.01%</td>\n",
       "            </tr>\n",
       "            <tr>\n",
       "                        <th id=\"T_2cd05_level0_row55\" class=\"row_heading level0 row55\" >primary_cleaner.output.tail_ag</th>\n",
       "                        <td id=\"T_2cd05_row55_col0\" class=\"data row55 col0\" >0.01%</td>\n",
       "            </tr>\n",
       "            <tr>\n",
       "                        <th id=\"T_2cd05_level0_row56\" class=\"row_heading level0 row56\" >final.output.concentrate_pb</th>\n",
       "                        <td id=\"T_2cd05_row56_col0\" class=\"data row56 col0\" >0.01%</td>\n",
       "            </tr>\n",
       "            <tr>\n",
       "                        <th id=\"T_2cd05_level0_row57\" class=\"row_heading level0 row57\" >final.output.concentrate_ag</th>\n",
       "                        <td id=\"T_2cd05_row57_col0\" class=\"data row57 col0\" >0.01%</td>\n",
       "            </tr>\n",
       "            <tr>\n",
       "                        <th id=\"T_2cd05_level0_row58\" class=\"row_heading level0 row58\" >primary_cleaner.state.floatbank8_d_air</th>\n",
       "                        <td id=\"T_2cd05_row58_col0\" class=\"data row58 col0\" >0.02%</td>\n",
       "            </tr>\n",
       "            <tr>\n",
       "                        <th id=\"T_2cd05_level0_row59\" class=\"row_heading level0 row59\" >secondary_cleaner.state.floatbank3_a_air</th>\n",
       "                        <td id=\"T_2cd05_row59_col0\" class=\"data row59 col0\" >0.03%</td>\n",
       "            </tr>\n",
       "            <tr>\n",
       "                        <th id=\"T_2cd05_level0_row60\" class=\"row_heading level0 row60\" >primary_cleaner.state.floatbank8_b_air</th>\n",
       "                        <td id=\"T_2cd05_row60_col0\" class=\"data row60 col0\" >0.03%</td>\n",
       "            </tr>\n",
       "            <tr>\n",
       "                        <th id=\"T_2cd05_level0_row61\" class=\"row_heading level0 row61\" >primary_cleaner.state.floatbank8_a_air</th>\n",
       "                        <td id=\"T_2cd05_row61_col0\" class=\"data row61 col0\" >0.03%</td>\n",
       "            </tr>\n",
       "            <tr>\n",
       "                        <th id=\"T_2cd05_level0_row62\" class=\"row_heading level0 row62\" >final.output.tail_sol</th>\n",
       "                        <td id=\"T_2cd05_row62_col0\" class=\"data row62 col0\" >0.04%</td>\n",
       "            </tr>\n",
       "            <tr>\n",
       "                        <th id=\"T_2cd05_level0_row63\" class=\"row_heading level0 row63\" >secondary_cleaner.state.floatbank4_a_air</th>\n",
       "                        <td id=\"T_2cd05_row63_col0\" class=\"data row63 col0\" >0.04%</td>\n",
       "            </tr>\n",
       "            <tr>\n",
       "                        <th id=\"T_2cd05_level0_row64\" class=\"row_heading level0 row64\" >rougher.input.feed_rate</th>\n",
       "                        <td id=\"T_2cd05_row64_col0\" class=\"data row64 col0\" >0.06%</td>\n",
       "            </tr>\n",
       "            <tr>\n",
       "                        <th id=\"T_2cd05_level0_row65\" class=\"row_heading level0 row65\" >rougher.input.floatbank10_xanthate</th>\n",
       "                        <td id=\"T_2cd05_row65_col0\" class=\"data row65 col0\" >0.06%</td>\n",
       "            </tr>\n",
       "            <tr>\n",
       "                        <th id=\"T_2cd05_level0_row66\" class=\"row_heading level0 row66\" >secondary_cleaner.output.tail_pb</th>\n",
       "                        <td id=\"T_2cd05_row66_col0\" class=\"data row66 col0\" >0.07%</td>\n",
       "            </tr>\n",
       "            <tr>\n",
       "                        <th id=\"T_2cd05_level0_row67\" class=\"row_heading level0 row67\" >primary_cleaner.output.tail_pb</th>\n",
       "                        <td id=\"T_2cd05_row67_col0\" class=\"data row67 col0\" >0.11%</td>\n",
       "            </tr>\n",
       "            <tr>\n",
       "                        <th id=\"T_2cd05_level0_row68\" class=\"row_heading level0 row68\" >primary_cleaner.input.sulfate</th>\n",
       "                        <td id=\"T_2cd05_row68_col0\" class=\"data row68 col0\" >0.14%</td>\n",
       "            </tr>\n",
       "            <tr>\n",
       "                        <th id=\"T_2cd05_level0_row69\" class=\"row_heading level0 row69\" >secondary_cleaner.state.floatbank2_b_air</th>\n",
       "                        <td id=\"T_2cd05_row69_col0\" class=\"data row69 col0\" >0.15%</td>\n",
       "            </tr>\n",
       "            <tr>\n",
       "                        <th id=\"T_2cd05_level0_row70\" class=\"row_heading level0 row70\" >rougher.output.concentrate_sol</th>\n",
       "                        <td id=\"T_2cd05_row70_col0\" class=\"data row70 col0\" >0.16%</td>\n",
       "            </tr>\n",
       "            <tr>\n",
       "                        <th id=\"T_2cd05_level0_row71\" class=\"row_heading level0 row71\" >rougher.input.floatbank10_sulfate</th>\n",
       "                        <td id=\"T_2cd05_row71_col0\" class=\"data row71 col0\" >0.20%</td>\n",
       "            </tr>\n",
       "            <tr>\n",
       "                        <th id=\"T_2cd05_level0_row72\" class=\"row_heading level0 row72\" >primary_cleaner.input.depressant</th>\n",
       "                        <td id=\"T_2cd05_row72_col0\" class=\"data row72 col0\" >0.23%</td>\n",
       "            </tr>\n",
       "            <tr>\n",
       "                        <th id=\"T_2cd05_level0_row73\" class=\"row_heading level0 row73\" >rougher.input.floatbank11_sulfate</th>\n",
       "                        <td id=\"T_2cd05_row73_col0\" class=\"data row73 col0\" >0.25%</td>\n",
       "            </tr>\n",
       "            <tr>\n",
       "                        <th id=\"T_2cd05_level0_row74\" class=\"row_heading level0 row74\" >primary_cleaner.output.tail_sol</th>\n",
       "                        <td id=\"T_2cd05_row74_col0\" class=\"data row74 col0\" >0.33%</td>\n",
       "            </tr>\n",
       "            <tr>\n",
       "                        <th id=\"T_2cd05_level0_row75\" class=\"row_heading level0 row75\" >rougher.input.feed_sol</th>\n",
       "                        <td id=\"T_2cd05_row75_col0\" class=\"data row75 col0\" >0.55%</td>\n",
       "            </tr>\n",
       "            <tr>\n",
       "                        <th id=\"T_2cd05_level0_row76\" class=\"row_heading level0 row76\" >primary_cleaner.output.concentrate_pb</th>\n",
       "                        <td id=\"T_2cd05_row76_col0\" class=\"data row76 col0\" >0.61%</td>\n",
       "            </tr>\n",
       "            <tr>\n",
       "                        <th id=\"T_2cd05_level0_row77\" class=\"row_heading level0 row77\" >primary_cleaner.input.xanthate</th>\n",
       "                        <td id=\"T_2cd05_row77_col0\" class=\"data row77 col0\" >0.71%</td>\n",
       "            </tr>\n",
       "            <tr>\n",
       "                        <th id=\"T_2cd05_level0_row78\" class=\"row_heading level0 row78\" >rougher.input.feed_pb</th>\n",
       "                        <td id=\"T_2cd05_row78_col0\" class=\"data row78 col0\" >0.71%</td>\n",
       "            </tr>\n",
       "            <tr>\n",
       "                        <th id=\"T_2cd05_level0_row79\" class=\"row_heading level0 row79\" >final.output.tail_pb</th>\n",
       "                        <td id=\"T_2cd05_row79_col0\" class=\"data row79 col0\" >0.71%</td>\n",
       "            </tr>\n",
       "            <tr>\n",
       "                        <th id=\"T_2cd05_level0_row80\" class=\"row_heading level0 row80\" >rougher.input.feed_size</th>\n",
       "                        <td id=\"T_2cd05_row80_col0\" class=\"data row80 col0\" >1.02%</td>\n",
       "            </tr>\n",
       "            <tr>\n",
       "                        <th id=\"T_2cd05_level0_row81\" class=\"row_heading level0 row81\" >final.output.concentrate_sol</th>\n",
       "                        <td id=\"T_2cd05_row81_col0\" class=\"data row81 col0\" >1.49%</td>\n",
       "            </tr>\n",
       "            <tr>\n",
       "                        <th id=\"T_2cd05_level0_row82\" class=\"row_heading level0 row82\" >secondary_cleaner.state.floatbank2_a_air</th>\n",
       "                        <td id=\"T_2cd05_row82_col0\" class=\"data row82 col0\" >1.53%</td>\n",
       "            </tr>\n",
       "            <tr>\n",
       "                        <th id=\"T_2cd05_level0_row83\" class=\"row_heading level0 row83\" >primary_cleaner.output.concentrate_sol</th>\n",
       "                        <td id=\"T_2cd05_row83_col0\" class=\"data row83 col0\" >2.02%</td>\n",
       "            </tr>\n",
       "            <tr>\n",
       "                        <th id=\"T_2cd05_level0_row84\" class=\"row_heading level0 row84\" >rougher.input.floatbank11_xanthate</th>\n",
       "                        <td id=\"T_2cd05_row84_col0\" class=\"data row84 col0\" >3.02%</td>\n",
       "            </tr>\n",
       "            <tr>\n",
       "                        <th id=\"T_2cd05_level0_row85\" class=\"row_heading level0 row85\" >rougher.state.floatbank10_e_air</th>\n",
       "                        <td id=\"T_2cd05_row85_col0\" class=\"data row85 col0\" >3.08%</td>\n",
       "            </tr>\n",
       "            <tr>\n",
       "                        <th id=\"T_2cd05_level0_row86\" class=\"row_heading level0 row86\" >secondary_cleaner.output.tail_sol</th>\n",
       "                        <td id=\"T_2cd05_row86_col0\" class=\"data row86 col0\" >11.34%</td>\n",
       "            </tr>\n",
       "    </tbody></table>"
      ],
      "text/plain": [
       "<pandas.io.formats.style.Styler at 0x7fdc6ade82b0>"
      ]
     },
     "execution_count": 13,
     "metadata": {},
     "output_type": "execute_result"
    }
   ],
   "source": [
    "train_data.isna().mean().round(4).to_frame().sort_values(by=0).style.format('{:.2%}').background_gradient('coolwarm')"
   ]
  },
  {
   "cell_type": "code",
   "execution_count": 14,
   "metadata": {},
   "outputs": [
    {
     "data": {
      "text/html": [
       "<style  type=\"text/css\" >\n",
       "#T_dba96_row0_col0,#T_dba96_row1_col0,#T_dba96_row2_col0,#T_dba96_row3_col0,#T_dba96_row4_col0,#T_dba96_row5_col0,#T_dba96_row6_col0,#T_dba96_row7_col0,#T_dba96_row8_col0,#T_dba96_row9_col0,#T_dba96_row10_col0,#T_dba96_row11_col0,#T_dba96_row12_col0,#T_dba96_row13_col0,#T_dba96_row14_col0,#T_dba96_row15_col0,#T_dba96_row16_col0,#T_dba96_row17_col0,#T_dba96_row18_col0,#T_dba96_row19_col0,#T_dba96_row20_col0,#T_dba96_row21_col0,#T_dba96_row22_col0,#T_dba96_row23_col0,#T_dba96_row24_col0,#T_dba96_row25_col0,#T_dba96_row26_col0,#T_dba96_row27_col0,#T_dba96_row28_col0,#T_dba96_row29_col0,#T_dba96_row30_col0,#T_dba96_row31_col0,#T_dba96_row32_col0,#T_dba96_row33_col0,#T_dba96_row34_col0,#T_dba96_row35_col0,#T_dba96_row36_col0,#T_dba96_row37_col0,#T_dba96_row38_col0,#T_dba96_row39_col0,#T_dba96_row40_col0{\n",
       "            background-color:  #3b4cc0;\n",
       "            color:  #f1f1f1;\n",
       "        }#T_dba96_row41_col0{\n",
       "            background-color:  #465ecf;\n",
       "            color:  #f1f1f1;\n",
       "        }#T_dba96_row42_col0{\n",
       "            background-color:  #5470de;\n",
       "            color:  #000000;\n",
       "        }#T_dba96_row43_col0,#T_dba96_row44_col0{\n",
       "            background-color:  #6282ea;\n",
       "            color:  #000000;\n",
       "        }#T_dba96_row45_col0,#T_dba96_row46_col0{\n",
       "            background-color:  #7093f3;\n",
       "            color:  #000000;\n",
       "        }#T_dba96_row47_col0,#T_dba96_row48_col0{\n",
       "            background-color:  #799cf8;\n",
       "            color:  #000000;\n",
       "        }#T_dba96_row49_col0{\n",
       "            background-color:  #a5c3fe;\n",
       "            color:  #000000;\n",
       "        }#T_dba96_row50_col0{\n",
       "            background-color:  #b3cdfb;\n",
       "            color:  #000000;\n",
       "        }#T_dba96_row51_col0{\n",
       "            background-color:  #e36c55;\n",
       "            color:  #000000;\n",
       "        }#T_dba96_row52_col0{\n",
       "            background-color:  #b40426;\n",
       "            color:  #f1f1f1;\n",
       "        }</style><table id=\"T_dba96_\" ><thead>    <tr>        <th class=\"blank level0\" ></th>        <th class=\"col_heading level0 col0\" >0</th>    </tr></thead><tbody>\n",
       "                <tr>\n",
       "                        <th id=\"T_dba96_level0_row0\" class=\"row_heading level0 row0\" >date</th>\n",
       "                        <td id=\"T_dba96_row0_col0\" class=\"data row0 col0\" >0.00%</td>\n",
       "            </tr>\n",
       "            <tr>\n",
       "                        <th id=\"T_dba96_level0_row1\" class=\"row_heading level0 row1\" >rougher.state.floatbank10_c_air</th>\n",
       "                        <td id=\"T_dba96_row1_col0\" class=\"data row1 col0\" >0.00%</td>\n",
       "            </tr>\n",
       "            <tr>\n",
       "                        <th id=\"T_dba96_level0_row2\" class=\"row_heading level0 row2\" >rougher.state.floatbank10_c_level</th>\n",
       "                        <td id=\"T_dba96_row2_col0\" class=\"data row2 col0\" >0.00%</td>\n",
       "            </tr>\n",
       "            <tr>\n",
       "                        <th id=\"T_dba96_level0_row3\" class=\"row_heading level0 row3\" >rougher.state.floatbank10_d_air</th>\n",
       "                        <td id=\"T_dba96_row3_col0\" class=\"data row3 col0\" >0.00%</td>\n",
       "            </tr>\n",
       "            <tr>\n",
       "                        <th id=\"T_dba96_level0_row4\" class=\"row_heading level0 row4\" >rougher.state.floatbank10_d_level</th>\n",
       "                        <td id=\"T_dba96_row4_col0\" class=\"data row4 col0\" >0.00%</td>\n",
       "            </tr>\n",
       "            <tr>\n",
       "                        <th id=\"T_dba96_level0_row5\" class=\"row_heading level0 row5\" >rougher.state.floatbank10_e_air</th>\n",
       "                        <td id=\"T_dba96_row5_col0\" class=\"data row5 col0\" >0.00%</td>\n",
       "            </tr>\n",
       "            <tr>\n",
       "                        <th id=\"T_dba96_level0_row6\" class=\"row_heading level0 row6\" >rougher.state.floatbank10_e_level</th>\n",
       "                        <td id=\"T_dba96_row6_col0\" class=\"data row6 col0\" >0.00%</td>\n",
       "            </tr>\n",
       "            <tr>\n",
       "                        <th id=\"T_dba96_level0_row7\" class=\"row_heading level0 row7\" >rougher.state.floatbank10_f_air</th>\n",
       "                        <td id=\"T_dba96_row7_col0\" class=\"data row7 col0\" >0.00%</td>\n",
       "            </tr>\n",
       "            <tr>\n",
       "                        <th id=\"T_dba96_level0_row8\" class=\"row_heading level0 row8\" >rougher.state.floatbank10_f_level</th>\n",
       "                        <td id=\"T_dba96_row8_col0\" class=\"data row8 col0\" >0.00%</td>\n",
       "            </tr>\n",
       "            <tr>\n",
       "                        <th id=\"T_dba96_level0_row9\" class=\"row_heading level0 row9\" >secondary_cleaner.state.floatbank2_a_level</th>\n",
       "                        <td id=\"T_dba96_row9_col0\" class=\"data row9 col0\" >0.00%</td>\n",
       "            </tr>\n",
       "            <tr>\n",
       "                        <th id=\"T_dba96_level0_row10\" class=\"row_heading level0 row10\" >secondary_cleaner.state.floatbank2_b_level</th>\n",
       "                        <td id=\"T_dba96_row10_col0\" class=\"data row10 col0\" >0.00%</td>\n",
       "            </tr>\n",
       "            <tr>\n",
       "                        <th id=\"T_dba96_level0_row11\" class=\"row_heading level0 row11\" >secondary_cleaner.state.floatbank3_a_level</th>\n",
       "                        <td id=\"T_dba96_row11_col0\" class=\"data row11 col0\" >0.00%</td>\n",
       "            </tr>\n",
       "            <tr>\n",
       "                        <th id=\"T_dba96_level0_row12\" class=\"row_heading level0 row12\" >secondary_cleaner.state.floatbank3_b_air</th>\n",
       "                        <td id=\"T_dba96_row12_col0\" class=\"data row12 col0\" >0.00%</td>\n",
       "            </tr>\n",
       "            <tr>\n",
       "                        <th id=\"T_dba96_level0_row13\" class=\"row_heading level0 row13\" >secondary_cleaner.state.floatbank3_b_level</th>\n",
       "                        <td id=\"T_dba96_row13_col0\" class=\"data row13 col0\" >0.00%</td>\n",
       "            </tr>\n",
       "            <tr>\n",
       "                        <th id=\"T_dba96_level0_row14\" class=\"row_heading level0 row14\" >secondary_cleaner.state.floatbank4_a_air</th>\n",
       "                        <td id=\"T_dba96_row14_col0\" class=\"data row14 col0\" >0.00%</td>\n",
       "            </tr>\n",
       "            <tr>\n",
       "                        <th id=\"T_dba96_level0_row15\" class=\"row_heading level0 row15\" >secondary_cleaner.state.floatbank4_a_level</th>\n",
       "                        <td id=\"T_dba96_row15_col0\" class=\"data row15 col0\" >0.00%</td>\n",
       "            </tr>\n",
       "            <tr>\n",
       "                        <th id=\"T_dba96_level0_row16\" class=\"row_heading level0 row16\" >secondary_cleaner.state.floatbank4_b_air</th>\n",
       "                        <td id=\"T_dba96_row16_col0\" class=\"data row16 col0\" >0.00%</td>\n",
       "            </tr>\n",
       "            <tr>\n",
       "                        <th id=\"T_dba96_level0_row17\" class=\"row_heading level0 row17\" >secondary_cleaner.state.floatbank4_b_level</th>\n",
       "                        <td id=\"T_dba96_row17_col0\" class=\"data row17 col0\" >0.00%</td>\n",
       "            </tr>\n",
       "            <tr>\n",
       "                        <th id=\"T_dba96_level0_row18\" class=\"row_heading level0 row18\" >secondary_cleaner.state.floatbank5_a_air</th>\n",
       "                        <td id=\"T_dba96_row18_col0\" class=\"data row18 col0\" >0.00%</td>\n",
       "            </tr>\n",
       "            <tr>\n",
       "                        <th id=\"T_dba96_level0_row19\" class=\"row_heading level0 row19\" >secondary_cleaner.state.floatbank5_a_level</th>\n",
       "                        <td id=\"T_dba96_row19_col0\" class=\"data row19 col0\" >0.00%</td>\n",
       "            </tr>\n",
       "            <tr>\n",
       "                        <th id=\"T_dba96_level0_row20\" class=\"row_heading level0 row20\" >secondary_cleaner.state.floatbank5_b_air</th>\n",
       "                        <td id=\"T_dba96_row20_col0\" class=\"data row20 col0\" >0.00%</td>\n",
       "            </tr>\n",
       "            <tr>\n",
       "                        <th id=\"T_dba96_level0_row21\" class=\"row_heading level0 row21\" >secondary_cleaner.state.floatbank5_b_level</th>\n",
       "                        <td id=\"T_dba96_row21_col0\" class=\"data row21 col0\" >0.00%</td>\n",
       "            </tr>\n",
       "            <tr>\n",
       "                        <th id=\"T_dba96_level0_row22\" class=\"row_heading level0 row22\" >secondary_cleaner.state.floatbank6_a_air</th>\n",
       "                        <td id=\"T_dba96_row22_col0\" class=\"data row22 col0\" >0.00%</td>\n",
       "            </tr>\n",
       "            <tr>\n",
       "                        <th id=\"T_dba96_level0_row23\" class=\"row_heading level0 row23\" >rougher.state.floatbank10_b_air</th>\n",
       "                        <td id=\"T_dba96_row23_col0\" class=\"data row23 col0\" >0.00%</td>\n",
       "            </tr>\n",
       "            <tr>\n",
       "                        <th id=\"T_dba96_level0_row24\" class=\"row_heading level0 row24\" >rougher.state.floatbank10_b_level</th>\n",
       "                        <td id=\"T_dba96_row24_col0\" class=\"data row24 col0\" >0.00%</td>\n",
       "            </tr>\n",
       "            <tr>\n",
       "                        <th id=\"T_dba96_level0_row25\" class=\"row_heading level0 row25\" >rougher.state.floatbank10_a_air</th>\n",
       "                        <td id=\"T_dba96_row25_col0\" class=\"data row25 col0\" >0.00%</td>\n",
       "            </tr>\n",
       "            <tr>\n",
       "                        <th id=\"T_dba96_level0_row26\" class=\"row_heading level0 row26\" >primary_cleaner.input.feed_size</th>\n",
       "                        <td id=\"T_dba96_row26_col0\" class=\"data row26 col0\" >0.00%</td>\n",
       "            </tr>\n",
       "            <tr>\n",
       "                        <th id=\"T_dba96_level0_row27\" class=\"row_heading level0 row27\" >primary_cleaner.state.floatbank8_a_air</th>\n",
       "                        <td id=\"T_dba96_row27_col0\" class=\"data row27 col0\" >0.00%</td>\n",
       "            </tr>\n",
       "            <tr>\n",
       "                        <th id=\"T_dba96_level0_row28\" class=\"row_heading level0 row28\" >primary_cleaner.state.floatbank8_a_level</th>\n",
       "                        <td id=\"T_dba96_row28_col0\" class=\"data row28 col0\" >0.00%</td>\n",
       "            </tr>\n",
       "            <tr>\n",
       "                        <th id=\"T_dba96_level0_row29\" class=\"row_heading level0 row29\" >primary_cleaner.state.floatbank8_b_air</th>\n",
       "                        <td id=\"T_dba96_row29_col0\" class=\"data row29 col0\" >0.00%</td>\n",
       "            </tr>\n",
       "            <tr>\n",
       "                        <th id=\"T_dba96_level0_row30\" class=\"row_heading level0 row30\" >primary_cleaner.state.floatbank8_b_level</th>\n",
       "                        <td id=\"T_dba96_row30_col0\" class=\"data row30 col0\" >0.00%</td>\n",
       "            </tr>\n",
       "            <tr>\n",
       "                        <th id=\"T_dba96_level0_row31\" class=\"row_heading level0 row31\" >primary_cleaner.state.floatbank8_c_air</th>\n",
       "                        <td id=\"T_dba96_row31_col0\" class=\"data row31 col0\" >0.00%</td>\n",
       "            </tr>\n",
       "            <tr>\n",
       "                        <th id=\"T_dba96_level0_row32\" class=\"row_heading level0 row32\" >primary_cleaner.state.floatbank8_c_level</th>\n",
       "                        <td id=\"T_dba96_row32_col0\" class=\"data row32 col0\" >0.00%</td>\n",
       "            </tr>\n",
       "            <tr>\n",
       "                        <th id=\"T_dba96_level0_row33\" class=\"row_heading level0 row33\" >primary_cleaner.state.floatbank8_d_air</th>\n",
       "                        <td id=\"T_dba96_row33_col0\" class=\"data row33 col0\" >0.00%</td>\n",
       "            </tr>\n",
       "            <tr>\n",
       "                        <th id=\"T_dba96_level0_row34\" class=\"row_heading level0 row34\" >rougher.state.floatbank10_a_level</th>\n",
       "                        <td id=\"T_dba96_row34_col0\" class=\"data row34 col0\" >0.00%</td>\n",
       "            </tr>\n",
       "            <tr>\n",
       "                        <th id=\"T_dba96_level0_row35\" class=\"row_heading level0 row35\" >rougher.input.feed_ag</th>\n",
       "                        <td id=\"T_dba96_row35_col0\" class=\"data row35 col0\" >0.00%</td>\n",
       "            </tr>\n",
       "            <tr>\n",
       "                        <th id=\"T_dba96_level0_row36\" class=\"row_heading level0 row36\" >primary_cleaner.state.floatbank8_d_level</th>\n",
       "                        <td id=\"T_dba96_row36_col0\" class=\"data row36 col0\" >0.00%</td>\n",
       "            </tr>\n",
       "            <tr>\n",
       "                        <th id=\"T_dba96_level0_row37\" class=\"row_heading level0 row37\" >rougher.input.feed_pb</th>\n",
       "                        <td id=\"T_dba96_row37_col0\" class=\"data row37 col0\" >0.00%</td>\n",
       "            </tr>\n",
       "            <tr>\n",
       "                        <th id=\"T_dba96_level0_row38\" class=\"row_heading level0 row38\" >rougher.input.feed_au</th>\n",
       "                        <td id=\"T_dba96_row38_col0\" class=\"data row38 col0\" >0.00%</td>\n",
       "            </tr>\n",
       "            <tr>\n",
       "                        <th id=\"T_dba96_level0_row39\" class=\"row_heading level0 row39\" >rougher.input.floatbank10_xanthate</th>\n",
       "                        <td id=\"T_dba96_row39_col0\" class=\"data row39 col0\" >0.00%</td>\n",
       "            </tr>\n",
       "            <tr>\n",
       "                        <th id=\"T_dba96_level0_row40\" class=\"row_heading level0 row40\" >secondary_cleaner.state.floatbank6_a_level</th>\n",
       "                        <td id=\"T_dba96_row40_col0\" class=\"data row40 col0\" >0.00%</td>\n",
       "            </tr>\n",
       "            <tr>\n",
       "                        <th id=\"T_dba96_level0_row41\" class=\"row_heading level0 row41\" >rougher.input.feed_size</th>\n",
       "                        <td id=\"T_dba96_row41_col0\" class=\"data row41 col0\" >0.02%</td>\n",
       "            </tr>\n",
       "            <tr>\n",
       "                        <th id=\"T_dba96_level0_row42\" class=\"row_heading level0 row42\" >secondary_cleaner.state.floatbank2_b_air</th>\n",
       "                        <td id=\"T_dba96_row42_col0\" class=\"data row42 col0\" >0.04%</td>\n",
       "            </tr>\n",
       "            <tr>\n",
       "                        <th id=\"T_dba96_level0_row43\" class=\"row_heading level0 row43\" >rougher.input.feed_rate</th>\n",
       "                        <td id=\"T_dba96_row43_col0\" class=\"data row43 col0\" >0.06%</td>\n",
       "            </tr>\n",
       "            <tr>\n",
       "                        <th id=\"T_dba96_level0_row44\" class=\"row_heading level0 row44\" >secondary_cleaner.state.floatbank2_a_air</th>\n",
       "                        <td id=\"T_dba96_row44_col0\" class=\"data row44 col0\" >0.06%</td>\n",
       "            </tr>\n",
       "            <tr>\n",
       "                        <th id=\"T_dba96_level0_row45\" class=\"row_heading level0 row45\" >primary_cleaner.input.xanthate</th>\n",
       "                        <td id=\"T_dba96_row45_col0\" class=\"data row45 col0\" >0.08%</td>\n",
       "            </tr>\n",
       "            <tr>\n",
       "                        <th id=\"T_dba96_level0_row46\" class=\"row_heading level0 row46\" >primary_cleaner.input.sulfate</th>\n",
       "                        <td id=\"T_dba96_row46_col0\" class=\"data row46 col0\" >0.08%</td>\n",
       "            </tr>\n",
       "            <tr>\n",
       "                        <th id=\"T_dba96_level0_row47\" class=\"row_heading level0 row47\" >rougher.input.floatbank10_sulfate</th>\n",
       "                        <td id=\"T_dba96_row47_col0\" class=\"data row47 col0\" >0.09%</td>\n",
       "            </tr>\n",
       "            <tr>\n",
       "                        <th id=\"T_dba96_level0_row48\" class=\"row_heading level0 row48\" >primary_cleaner.input.depressant</th>\n",
       "                        <td id=\"T_dba96_row48_col0\" class=\"data row48 col0\" >0.09%</td>\n",
       "            </tr>\n",
       "            <tr>\n",
       "                        <th id=\"T_dba96_level0_row49\" class=\"row_heading level0 row49\" >rougher.input.floatbank11_sulfate</th>\n",
       "                        <td id=\"T_dba96_row49_col0\" class=\"data row49 col0\" >0.15%</td>\n",
       "            </tr>\n",
       "            <tr>\n",
       "                        <th id=\"T_dba96_level0_row50\" class=\"row_heading level0 row50\" >secondary_cleaner.state.floatbank3_a_air</th>\n",
       "                        <td id=\"T_dba96_row50_col0\" class=\"data row50 col0\" >0.17%</td>\n",
       "            </tr>\n",
       "            <tr>\n",
       "                        <th id=\"T_dba96_level0_row51\" class=\"row_heading level0 row51\" >rougher.input.feed_sol</th>\n",
       "                        <td id=\"T_dba96_row51_col0\" class=\"data row51 col0\" >0.40%</td>\n",
       "            </tr>\n",
       "            <tr>\n",
       "                        <th id=\"T_dba96_level0_row52\" class=\"row_heading level0 row52\" >rougher.input.floatbank11_xanthate</th>\n",
       "                        <td id=\"T_dba96_row52_col0\" class=\"data row52 col0\" >0.47%</td>\n",
       "            </tr>\n",
       "    </tbody></table>"
      ],
      "text/plain": [
       "<pandas.io.formats.style.Styler at 0x7fdc944b1880>"
      ]
     },
     "execution_count": 14,
     "metadata": {},
     "output_type": "execute_result"
    }
   ],
   "source": [
    "test_data.isna().mean().round(4).to_frame().sort_values(by=0).style.format('{:.2%}').background_gradient('coolwarm')"
   ]
  },
  {
   "cell_type": "markdown",
   "metadata": {},
   "source": [
    " В тестовой выборке некоторые параметры недоступны, потому что замеряются и/или рассчитываются значительно позже. Из-за этого в тестовой выборке отсутствуют некоторые признаки, которые могут быть в обучающей. Также в тестовом наборе нет целевых признаков. Из  86 столбцов общей выборки в тестовой есть 52 значит на 34 столбца меньше."
   ]
  },
  {
   "cell_type": "markdown",
   "metadata": {},
   "source": [
    "Проверим, что эффективность обогащения рассчитана правильно. По условиям задачи вычислять будем на обучающей выборке для признака rougher.output.recovery"
   ]
  },
  {
   "cell_type": "markdown",
   "metadata": {},
   "source": [
    "recovery = ((C * (F-T))  /( F * (C-T)))*100%\n",
    "\n",
    "где:\n",
    "C — доля золота в концентрате после флотации/очистки;\n",
    "F — доля золота в сырье/концентрате до флотации/очистки;\n",
    "T — доля золота в отвальных хвостах после флотации/очистки."
   ]
  },
  {
   "cell_type": "code",
   "execution_count": 15,
   "metadata": {},
   "outputs": [
    {
     "name": "stdout",
     "output_type": "stream",
     "text": [
      "MAE - 9.73512347450521e-15\n"
     ]
    }
   ],
   "source": [
    "C = train_data['rougher.output.concentrate_au']\n",
    "F = train_data['rougher.input.feed_au']\n",
    "T = train_data['rougher.output.tail_au']\n",
    "recovery = ((C * (F-T))  /( F * (C-T)))*100\n",
    "\n",
    "print('MAE -', mean_absolute_error(train_data['rougher.output.recovery'],  recovery))"
   ]
  },
  {
   "cell_type": "markdown",
   "metadata": {},
   "source": [
    "MAE имеет очень малое отклонение - это значит, что расчетное значение rougher.output.recovery совпадает с истинными значениями."
   ]
  },
  {
   "cell_type": "markdown",
   "metadata": {},
   "source": [
    "Проведем предобработку данных:\n",
    "1. Удалим 0 и Nan значения из признаков\n",
    "2. Добавим целевые признаки в тестовую выборку\n",
    "3. Удалим столбец data из всех трех выборок"
   ]
  },
  {
   "cell_type": "code",
   "execution_count": 16,
   "metadata": {},
   "outputs": [
    {
     "name": "stdout",
     "output_type": "stream",
     "text": [
      "<class 'pandas.core.frame.DataFrame'>\n",
      "RangeIndex: 19439 entries, 0 to 19438\n",
      "Data columns (total 87 columns):\n",
      " #   Column                                              Non-Null Count  Dtype         \n",
      "---  ------                                              --------------  -----         \n",
      " 0   date                                                19439 non-null  datetime64[ns]\n",
      " 1   final.output.concentrate_ag                         19438 non-null  float64       \n",
      " 2   final.output.concentrate_pb                         19438 non-null  float64       \n",
      " 3   final.output.concentrate_sol                        19228 non-null  float64       \n",
      " 4   final.output.concentrate_au                         19439 non-null  float64       \n",
      " 5   final.output.recovery                               19439 non-null  float64       \n",
      " 6   final.output.tail_ag                                19438 non-null  float64       \n",
      " 7   final.output.tail_pb                                19338 non-null  float64       \n",
      " 8   final.output.tail_sol                               19433 non-null  float64       \n",
      " 9   final.output.tail_au                                19439 non-null  float64       \n",
      " 10  primary_cleaner.input.sulfate                       19415 non-null  float64       \n",
      " 11  primary_cleaner.input.depressant                    19402 non-null  float64       \n",
      " 12  primary_cleaner.input.feed_size                     19439 non-null  float64       \n",
      " 13  primary_cleaner.input.xanthate                      19335 non-null  float64       \n",
      " 14  primary_cleaner.output.concentrate_ag               19439 non-null  float64       \n",
      " 15  primary_cleaner.output.concentrate_pb               19323 non-null  float64       \n",
      " 16  primary_cleaner.output.concentrate_sol              19069 non-null  float64       \n",
      " 17  primary_cleaner.output.concentrate_au               19439 non-null  float64       \n",
      " 18  primary_cleaner.output.tail_ag                      19435 non-null  float64       \n",
      " 19  primary_cleaner.output.tail_pb                      19418 non-null  float64       \n",
      " 20  primary_cleaner.output.tail_sol                     19377 non-null  float64       \n",
      " 21  primary_cleaner.output.tail_au                      19439 non-null  float64       \n",
      " 22  primary_cleaner.state.floatbank8_a_air              19435 non-null  float64       \n",
      " 23  primary_cleaner.state.floatbank8_a_level            19438 non-null  float64       \n",
      " 24  primary_cleaner.state.floatbank8_b_air              19435 non-null  float64       \n",
      " 25  primary_cleaner.state.floatbank8_b_level            19438 non-null  float64       \n",
      " 26  primary_cleaner.state.floatbank8_c_air              19437 non-null  float64       \n",
      " 27  primary_cleaner.state.floatbank8_c_level            19438 non-null  float64       \n",
      " 28  primary_cleaner.state.floatbank8_d_air              19436 non-null  float64       \n",
      " 29  primary_cleaner.state.floatbank8_d_level            19438 non-null  float64       \n",
      " 30  rougher.calculation.sulfate_to_au_concentrate       19437 non-null  float64       \n",
      " 31  rougher.calculation.floatbank10_sulfate_to_au_feed  19437 non-null  float64       \n",
      " 32  rougher.calculation.floatbank11_sulfate_to_au_feed  19437 non-null  float64       \n",
      " 33  rougher.calculation.au_pb_ratio                     19439 non-null  float64       \n",
      " 34  rougher.input.feed_ag                               19439 non-null  float64       \n",
      " 35  rougher.input.feed_pb                               19339 non-null  float64       \n",
      " 36  rougher.input.feed_rate                             19428 non-null  float64       \n",
      " 37  rougher.input.feed_size                             19294 non-null  float64       \n",
      " 38  rougher.input.feed_sol                              19340 non-null  float64       \n",
      " 39  rougher.input.feed_au                               19439 non-null  float64       \n",
      " 40  rougher.input.floatbank10_sulfate                   19405 non-null  float64       \n",
      " 41  rougher.input.floatbank10_xanthate                  19431 non-null  float64       \n",
      " 42  rougher.input.floatbank11_sulfate                   19395 non-null  float64       \n",
      " 43  rougher.input.floatbank11_xanthate                  18986 non-null  float64       \n",
      " 44  rougher.output.concentrate_ag                       19439 non-null  float64       \n",
      " 45  rougher.output.concentrate_pb                       19439 non-null  float64       \n",
      " 46  rougher.output.concentrate_sol                      19416 non-null  float64       \n",
      " 47  rougher.output.concentrate_au                       19439 non-null  float64       \n",
      " 48  rougher.output.recovery                             19439 non-null  float64       \n",
      " 49  rougher.output.tail_ag                              19438 non-null  float64       \n",
      " 50  rougher.output.tail_pb                              19439 non-null  float64       \n",
      " 51  rougher.output.tail_sol                             19439 non-null  float64       \n",
      " 52  rougher.output.tail_au                              19439 non-null  float64       \n",
      " 53  rougher.state.floatbank10_a_air                     19438 non-null  float64       \n",
      " 54  rougher.state.floatbank10_a_level                   19438 non-null  float64       \n",
      " 55  rougher.state.floatbank10_b_air                     19438 non-null  float64       \n",
      " 56  rougher.state.floatbank10_b_level                   19438 non-null  float64       \n",
      " 57  rougher.state.floatbank10_c_air                     19438 non-null  float64       \n",
      " 58  rougher.state.floatbank10_c_level                   19438 non-null  float64       \n",
      " 59  rougher.state.floatbank10_d_air                     19439 non-null  float64       \n",
      " 60  rougher.state.floatbank10_d_level                   19439 non-null  float64       \n",
      " 61  rougher.state.floatbank10_e_air                     19003 non-null  float64       \n",
      " 62  rougher.state.floatbank10_e_level                   19439 non-null  float64       \n",
      " 63  rougher.state.floatbank10_f_air                     19439 non-null  float64       \n",
      " 64  rougher.state.floatbank10_f_level                   19439 non-null  float64       \n",
      " 65  secondary_cleaner.output.tail_ag                    19437 non-null  float64       \n",
      " 66  secondary_cleaner.output.tail_pb                    19427 non-null  float64       \n",
      " 67  secondary_cleaner.output.tail_sol                   17691 non-null  float64       \n",
      " 68  secondary_cleaner.output.tail_au                    19439 non-null  float64       \n",
      " 69  secondary_cleaner.state.floatbank2_a_air            19219 non-null  float64       \n",
      " 70  secondary_cleaner.state.floatbank2_a_level          19438 non-null  float64       \n",
      " 71  secondary_cleaner.state.floatbank2_b_air            19416 non-null  float64       \n",
      " 72  secondary_cleaner.state.floatbank2_b_level          19438 non-null  float64       \n",
      " 73  secondary_cleaner.state.floatbank3_a_air            19426 non-null  float64       \n",
      " 74  secondary_cleaner.state.floatbank3_a_level          19438 non-null  float64       \n",
      " 75  secondary_cleaner.state.floatbank3_b_air            19438 non-null  float64       \n",
      " 76  secondary_cleaner.state.floatbank3_b_level          19438 non-null  float64       \n",
      " 77  secondary_cleaner.state.floatbank4_a_air            19433 non-null  float64       \n",
      " 78  secondary_cleaner.state.floatbank4_a_level          19438 non-null  float64       \n",
      " 79  secondary_cleaner.state.floatbank4_b_air            19438 non-null  float64       \n",
      " 80  secondary_cleaner.state.floatbank4_b_level          19438 non-null  float64       \n",
      " 81  secondary_cleaner.state.floatbank5_a_air            19438 non-null  float64       \n",
      " 82  secondary_cleaner.state.floatbank5_a_level          19438 non-null  float64       \n",
      " 83  secondary_cleaner.state.floatbank5_b_air            19438 non-null  float64       \n",
      " 84  secondary_cleaner.state.floatbank5_b_level          19438 non-null  float64       \n",
      " 85  secondary_cleaner.state.floatbank6_a_air            19437 non-null  float64       \n",
      " 86  secondary_cleaner.state.floatbank6_a_level          19438 non-null  float64       \n",
      "dtypes: datetime64[ns](1), float64(86)\n",
      "memory usage: 12.9 MB\n"
     ]
    }
   ],
   "source": [
    "full_data.info()"
   ]
  },
  {
   "cell_type": "code",
   "execution_count": 17,
   "metadata": {},
   "outputs": [],
   "source": [
    "train_data = train_data.set_index('date')\n",
    "test_data = test_data.set_index('date')\n",
    "full_data = full_data.set_index('date')"
   ]
  },
  {
   "cell_type": "code",
   "execution_count": 18,
   "metadata": {},
   "outputs": [
    {
     "name": "stdout",
     "output_type": "stream",
     "text": [
      "<class 'pandas.core.frame.DataFrame'>\n",
      "DatetimeIndex: 5290 entries, 2016-09-01 00:59:59 to 2017-12-31 23:59:59\n",
      "Data columns (total 54 columns):\n",
      " #   Column                                      Non-Null Count  Dtype  \n",
      "---  ------                                      --------------  -----  \n",
      " 0   primary_cleaner.input.sulfate               5286 non-null   float64\n",
      " 1   primary_cleaner.input.depressant            5285 non-null   float64\n",
      " 2   primary_cleaner.input.feed_size             5290 non-null   float64\n",
      " 3   primary_cleaner.input.xanthate              5286 non-null   float64\n",
      " 4   primary_cleaner.state.floatbank8_a_air      5290 non-null   float64\n",
      " 5   primary_cleaner.state.floatbank8_a_level    5290 non-null   float64\n",
      " 6   primary_cleaner.state.floatbank8_b_air      5290 non-null   float64\n",
      " 7   primary_cleaner.state.floatbank8_b_level    5290 non-null   float64\n",
      " 8   primary_cleaner.state.floatbank8_c_air      5290 non-null   float64\n",
      " 9   primary_cleaner.state.floatbank8_c_level    5290 non-null   float64\n",
      " 10  primary_cleaner.state.floatbank8_d_air      5290 non-null   float64\n",
      " 11  primary_cleaner.state.floatbank8_d_level    5290 non-null   float64\n",
      " 12  rougher.input.feed_ag                       5290 non-null   float64\n",
      " 13  rougher.input.feed_pb                       5290 non-null   float64\n",
      " 14  rougher.input.feed_rate                     5287 non-null   float64\n",
      " 15  rougher.input.feed_size                     5289 non-null   float64\n",
      " 16  rougher.input.feed_sol                      5269 non-null   float64\n",
      " 17  rougher.input.feed_au                       5290 non-null   float64\n",
      " 18  rougher.input.floatbank10_sulfate           5285 non-null   float64\n",
      " 19  rougher.input.floatbank10_xanthate          5290 non-null   float64\n",
      " 20  rougher.input.floatbank11_sulfate           5282 non-null   float64\n",
      " 21  rougher.input.floatbank11_xanthate          5265 non-null   float64\n",
      " 22  rougher.state.floatbank10_a_air             5290 non-null   float64\n",
      " 23  rougher.state.floatbank10_a_level           5290 non-null   float64\n",
      " 24  rougher.state.floatbank10_b_air             5290 non-null   float64\n",
      " 25  rougher.state.floatbank10_b_level           5290 non-null   float64\n",
      " 26  rougher.state.floatbank10_c_air             5290 non-null   float64\n",
      " 27  rougher.state.floatbank10_c_level           5290 non-null   float64\n",
      " 28  rougher.state.floatbank10_d_air             5290 non-null   float64\n",
      " 29  rougher.state.floatbank10_d_level           5290 non-null   float64\n",
      " 30  rougher.state.floatbank10_e_air             5290 non-null   float64\n",
      " 31  rougher.state.floatbank10_e_level           5290 non-null   float64\n",
      " 32  rougher.state.floatbank10_f_air             5290 non-null   float64\n",
      " 33  rougher.state.floatbank10_f_level           5290 non-null   float64\n",
      " 34  secondary_cleaner.state.floatbank2_a_air    5287 non-null   float64\n",
      " 35  secondary_cleaner.state.floatbank2_a_level  5290 non-null   float64\n",
      " 36  secondary_cleaner.state.floatbank2_b_air    5288 non-null   float64\n",
      " 37  secondary_cleaner.state.floatbank2_b_level  5290 non-null   float64\n",
      " 38  secondary_cleaner.state.floatbank3_a_air    5281 non-null   float64\n",
      " 39  secondary_cleaner.state.floatbank3_a_level  5290 non-null   float64\n",
      " 40  secondary_cleaner.state.floatbank3_b_air    5290 non-null   float64\n",
      " 41  secondary_cleaner.state.floatbank3_b_level  5290 non-null   float64\n",
      " 42  secondary_cleaner.state.floatbank4_a_air    5290 non-null   float64\n",
      " 43  secondary_cleaner.state.floatbank4_a_level  5290 non-null   float64\n",
      " 44  secondary_cleaner.state.floatbank4_b_air    5290 non-null   float64\n",
      " 45  secondary_cleaner.state.floatbank4_b_level  5290 non-null   float64\n",
      " 46  secondary_cleaner.state.floatbank5_a_air    5290 non-null   float64\n",
      " 47  secondary_cleaner.state.floatbank5_a_level  5290 non-null   float64\n",
      " 48  secondary_cleaner.state.floatbank5_b_air    5290 non-null   float64\n",
      " 49  secondary_cleaner.state.floatbank5_b_level  5290 non-null   float64\n",
      " 50  secondary_cleaner.state.floatbank6_a_air    5290 non-null   float64\n",
      " 51  secondary_cleaner.state.floatbank6_a_level  5290 non-null   float64\n",
      " 52  final.output.recovery                       5290 non-null   float64\n",
      " 53  rougher.output.recovery                     5290 non-null   float64\n",
      "dtypes: float64(54)\n",
      "memory usage: 2.2 MB\n"
     ]
    }
   ],
   "source": [
    "test_data['final.output.recovery'] = full_data['final.output.recovery']\n",
    "test_data['rougher.output.recovery'] = full_data['rougher.output.recovery']\n",
    "test_data.info()"
   ]
  },
  {
   "cell_type": "code",
   "execution_count": 19,
   "metadata": {},
   "outputs": [
    {
     "data": {
      "text/plain": [
       "final.output.concentrate_ag                   0.0\n",
       "final.output.concentrate_pb                   0.0\n",
       "final.output.concentrate_sol                  0.0\n",
       "final.output.concentrate_au                   0.0\n",
       "final.output.recovery                         0.0\n",
       "                                             ... \n",
       "secondary_cleaner.state.floatbank5_a_level    0.0\n",
       "secondary_cleaner.state.floatbank5_b_air      0.0\n",
       "secondary_cleaner.state.floatbank5_b_level    0.0\n",
       "secondary_cleaner.state.floatbank6_a_air      0.0\n",
       "secondary_cleaner.state.floatbank6_a_level    0.0\n",
       "Length: 86, dtype: float64"
      ]
     },
     "execution_count": 19,
     "metadata": {},
     "output_type": "execute_result"
    }
   ],
   "source": [
    "train_data = train_data.dropna()\n",
    "train_data.isna().mean()\n"
   ]
  },
  {
   "cell_type": "code",
   "execution_count": 20,
   "metadata": {},
   "outputs": [
    {
     "data": {
      "text/plain": [
       "primary_cleaner.input.sulfate                 0.0\n",
       "primary_cleaner.input.depressant              0.0\n",
       "primary_cleaner.input.feed_size               0.0\n",
       "primary_cleaner.input.xanthate                0.0\n",
       "primary_cleaner.state.floatbank8_a_air        0.0\n",
       "primary_cleaner.state.floatbank8_a_level      0.0\n",
       "primary_cleaner.state.floatbank8_b_air        0.0\n",
       "primary_cleaner.state.floatbank8_b_level      0.0\n",
       "primary_cleaner.state.floatbank8_c_air        0.0\n",
       "primary_cleaner.state.floatbank8_c_level      0.0\n",
       "primary_cleaner.state.floatbank8_d_air        0.0\n",
       "primary_cleaner.state.floatbank8_d_level      0.0\n",
       "rougher.input.feed_ag                         0.0\n",
       "rougher.input.feed_pb                         0.0\n",
       "rougher.input.feed_rate                       0.0\n",
       "rougher.input.feed_size                       0.0\n",
       "rougher.input.feed_sol                        0.0\n",
       "rougher.input.feed_au                         0.0\n",
       "rougher.input.floatbank10_sulfate             0.0\n",
       "rougher.input.floatbank10_xanthate            0.0\n",
       "rougher.input.floatbank11_sulfate             0.0\n",
       "rougher.input.floatbank11_xanthate            0.0\n",
       "rougher.state.floatbank10_a_air               0.0\n",
       "rougher.state.floatbank10_a_level             0.0\n",
       "rougher.state.floatbank10_b_air               0.0\n",
       "rougher.state.floatbank10_b_level             0.0\n",
       "rougher.state.floatbank10_c_air               0.0\n",
       "rougher.state.floatbank10_c_level             0.0\n",
       "rougher.state.floatbank10_d_air               0.0\n",
       "rougher.state.floatbank10_d_level             0.0\n",
       "rougher.state.floatbank10_e_air               0.0\n",
       "rougher.state.floatbank10_e_level             0.0\n",
       "rougher.state.floatbank10_f_air               0.0\n",
       "rougher.state.floatbank10_f_level             0.0\n",
       "secondary_cleaner.state.floatbank2_a_air      0.0\n",
       "secondary_cleaner.state.floatbank2_a_level    0.0\n",
       "secondary_cleaner.state.floatbank2_b_air      0.0\n",
       "secondary_cleaner.state.floatbank2_b_level    0.0\n",
       "secondary_cleaner.state.floatbank3_a_air      0.0\n",
       "secondary_cleaner.state.floatbank3_a_level    0.0\n",
       "secondary_cleaner.state.floatbank3_b_air      0.0\n",
       "secondary_cleaner.state.floatbank3_b_level    0.0\n",
       "secondary_cleaner.state.floatbank4_a_air      0.0\n",
       "secondary_cleaner.state.floatbank4_a_level    0.0\n",
       "secondary_cleaner.state.floatbank4_b_air      0.0\n",
       "secondary_cleaner.state.floatbank4_b_level    0.0\n",
       "secondary_cleaner.state.floatbank5_a_air      0.0\n",
       "secondary_cleaner.state.floatbank5_a_level    0.0\n",
       "secondary_cleaner.state.floatbank5_b_air      0.0\n",
       "secondary_cleaner.state.floatbank5_b_level    0.0\n",
       "secondary_cleaner.state.floatbank6_a_air      0.0\n",
       "secondary_cleaner.state.floatbank6_a_level    0.0\n",
       "final.output.recovery                         0.0\n",
       "rougher.output.recovery                       0.0\n",
       "dtype: float64"
      ]
     },
     "execution_count": 20,
     "metadata": {},
     "output_type": "execute_result"
    }
   ],
   "source": [
    "test_data = test_data.dropna()\n",
    "test_data.isna().mean()\n"
   ]
  },
  {
   "cell_type": "code",
   "execution_count": 21,
   "metadata": {},
   "outputs": [
    {
     "data": {
      "text/plain": [
       "final.output.concentrate_ag                   0.0\n",
       "final.output.concentrate_pb                   0.0\n",
       "final.output.concentrate_sol                  0.0\n",
       "final.output.concentrate_au                   0.0\n",
       "final.output.recovery                         0.0\n",
       "                                             ... \n",
       "secondary_cleaner.state.floatbank5_a_level    0.0\n",
       "secondary_cleaner.state.floatbank5_b_air      0.0\n",
       "secondary_cleaner.state.floatbank5_b_level    0.0\n",
       "secondary_cleaner.state.floatbank6_a_air      0.0\n",
       "secondary_cleaner.state.floatbank6_a_level    0.0\n",
       "Length: 86, dtype: float64"
      ]
     },
     "execution_count": 21,
     "metadata": {},
     "output_type": "execute_result"
    }
   ],
   "source": [
    "full_data = train_data.dropna()\n",
    "full_data.isna().mean()"
   ]
  },
  {
   "cell_type": "markdown",
   "metadata": {},
   "source": [
    "# Вывод\n",
    "\n",
    "В первой части нашего исследования мы провели изучение и подготовку данных.\n",
    "1. Загрузили библиотеки и изучили данные.\n",
    "2. Проверили, что эффективность обогащения рассчитана правильно. \n",
    "3. Вычислили эффективность обогащения на обучающей выборке для признака rougher.output.recovery. Найшли MAE между вашими расчётами и значением признака.\n",
    "4. Проанализировали признаки, недоступные в тестовой выборке. \n",
    "5. Провели предобработку данных.\n",
    "\n",
    "В выборках train_data и full_data по 86 столбцов, а в test_data 52 столбца. Причем столбцов эффективность обогащения чернового концентрата rougher.output.recovery и эффективность обогащения финального концентрата final.output.recovery в тестовой таблице также нет. \n",
    "\n",
    " В тестовой выборке некоторые параметры недоступны, потому что замеряются и/или рассчитываются значительно позже. Из-за этого в тестовой выборке отсутствуют некоторые признаки, которые есть в обучающей. Также в тестовом наборе нет целевых признаков. Из  86 столбцов общей выборки в тестовой есть 52 значит на 34 столбца меньше.\n",
    "\n",
    "Проверли, что эффективность обогащения рассчитана правильно. По условиям задачи вычислили на обучающей выборке для признака rougher.output.recovery. MAE имеет очень малое отклонение - это значит, что расчетное значение rougher.output.recovery совпадает с истинными значениями.\n",
    "\n",
    "Удалили 0 и Nan значения из признаков, обавили целевые признаки в тестовую выборку, а затем удалили столбец date из всех трех выборок."
   ]
  },
  {
   "cell_type": "markdown",
   "metadata": {},
   "source": [
    "## Анализ данных"
   ]
  },
  {
   "cell_type": "markdown",
   "metadata": {},
   "source": [
    "Посмотрим как меняется концентрация металлов на различных этапах очистки."
   ]
  },
  {
   "cell_type": "code",
   "execution_count": 23,
   "metadata": {},
   "outputs": [
    {
     "data": {
      "image/png": "[encoded data removed]",
      "text/plain": [
       "<Figure size 720x432 with 1 Axes>"
      ]
     },
     "metadata": {
      "needs_background": "light"
     },
     "output_type": "display_data"
    }
   ],
   "source": [
    "concentrate_ag = {'ag':['rougher.input.feed_ag', 'rougher.output.concentrate_ag', 'primary_cleaner.output.concentrate_ag', 'final.output.concentrate_ag' ],\n",
    "              }\n",
    " \n",
    "\n",
    " \n",
    "for key in concentrate_ag:\n",
    "    plt.figure(figsize=(10,6))\n",
    "    sns.boxplot(data = train_data[concentrate_ag[key]])\n",
    "    plt.title('Распределение значений доли материала ag на разных этапах ')\n",
    "    plt.show()"
   ]
  },
  {
   "cell_type": "markdown",
   "metadata": {},
   "source": [
    "Начнем с серебра: концентрация серебра на флотации начинает расти, а затем падает в финальном концентрате."
   ]
  },
  {
   "cell_type": "code",
   "execution_count": 24,
   "metadata": {},
   "outputs": [
    {
     "data": {
      "image/png": "[encoded data removed]",
      "text/plain": [
       "<Figure size 720x432 with 1 Axes>"
      ]
     },
     "metadata": {
      "needs_background": "light"
     },
     "output_type": "display_data"
    }
   ],
   "source": [
    "concentrate_au = {'au':['rougher.input.feed_au','rougher.output.concentrate_au', 'primary_cleaner.output.concentrate_au', 'final.output.concentrate_au' ],\n",
    "              }\n",
    " \n",
    "\n",
    " \n",
    "for key in concentrate_au:\n",
    "    plt.figure(figsize=(10,6))\n",
    "    sns.boxplot(data = train_data[concentrate_au[key]])\n",
    "    plt.title('Распределение значений доли материала au на разных этапах ')\n",
    "    plt.show()"
   ]
  },
  {
   "cell_type": "markdown",
   "metadata": {},
   "source": [
    "Концентрация золота ожидаемо растет к второму этапу очистки и получению финального концентрата."
   ]
  },
  {
   "cell_type": "code",
   "execution_count": 25,
   "metadata": {},
   "outputs": [
    {
     "data": {
      "image/png": "[encoded data removed]",
      "text/plain": [
       "<Figure size 720x432 with 1 Axes>"
      ]
     },
     "metadata": {
      "needs_background": "light"
     },
     "output_type": "display_data"
    }
   ],
   "source": [
    "concentrate_pb = {'pb':['rougher.input.feed_pb','rougher.output.concentrate_pb', 'primary_cleaner.output.concentrate_pb', 'final.output.concentrate_pb' ],\n",
    "              }\n",
    " \n",
    "\n",
    " \n",
    "for key in concentrate_pb:\n",
    "    plt.figure(figsize=(10,6))\n",
    "    sns.boxplot(data = train_data[concentrate_pb[key]])\n",
    "    plt.title('Распределение значений доли материала pb на разных этапах ')\n",
    "    plt.show()"
   ]
  },
  {
   "cell_type": "markdown",
   "metadata": {},
   "source": [
    "А вот концентрация свинца повышается к первому этапу очистки и остается примерно одинаковой на всех остальных этапах очистки."
   ]
  },
  {
   "cell_type": "code",
   "execution_count": 26,
   "metadata": {},
   "outputs": [
    {
     "data": {
      "image/png": "[encoded data removed]",
      "text/plain": [
       "<Figure size 720x432 with 1 Axes>"
      ]
     },
     "metadata": {
      "needs_background": "light"
     },
     "output_type": "display_data"
    }
   ],
   "source": [
    "\n",
    "final_output_concentrate = (train_data['final.output.concentrate_au'] + train_data['final.output.concentrate_ag'] + train_data['final.output.concentrate_pb'] )                                   \n",
    "primary_cleaner_output_concentrate = (train_data['primary_cleaner.output.concentrate_au'] + train_data['primary_cleaner.output.concentrate_ag'] + train_data['primary_cleaner.output.concentrate_pb'])\n",
    "rougher_output_concentrate = (train_data['rougher.output.concentrate_au'] + train_data['rougher.output.concentrate_ag'] + train_data['rougher.output.concentrate_pb'])\n",
    "\n",
    "\n",
    "\n",
    "plt.figure(figsize=[10,6])\n",
    "\n",
    "plt.hist(final_output_concentrate, bins=100, label = 'финальная очистка')\n",
    "plt.hist(primary_cleaner_output_concentrate, bins=100, label = 'первичная очистка')\n",
    "plt.hist(rougher_output_concentrate, bins=100, label = 'флотация')\n",
    "\n",
    "plt.xlim([0, 75])\n",
    "plt.ylim([0,2000])\n",
    "plt.legend(loc='upper left', fontsize='x-large')\n",
    "\n",
    "plt.xlabel(\"Суммарная концентрация веществ\")\n",
    "plt.ylabel(\"Результат\")\n",
    "\n",
    "\n",
    "plt.title(\"Распределение концентраций на разных этапах очистки\")\n",
    "plt.show()\n",
    "\n",
    "\n"
   ]
  },
  {
   "cell_type": "markdown",
   "metadata": {},
   "source": [
    "Суммарная концентрация веществ растет к финальной стадии очистки. Также мы видим довольно много нулевых значений, удалим их, так как нулевая суммарная концентрация веществ быть не может. Куда тогда подевались все вещества?"
   ]
  },
  {
   "cell_type": "code",
   "execution_count": 27,
   "metadata": {},
   "outputs": [],
   "source": [
    "train_data = train_data.drop(train_data[train_data['primary_cleaner.output.concentrate_au'] == 0].index)\n"
   ]
  },
  {
   "cell_type": "code",
   "execution_count": 28,
   "metadata": {},
   "outputs": [
    {
     "data": {
      "image/png": "[encoded data removed]",
      "text/plain": [
       "<Figure size 720x432 with 1 Axes>"
      ]
     },
     "metadata": {
      "needs_background": "light"
     },
     "output_type": "display_data"
    }
   ],
   "source": [
    "\n",
    "plt.figure(figsize=[10,6])\n",
    "plt.hist(train_data['primary_cleaner.input.feed_size'], bins=100, label = 'обучающая выборка', alpha = 0.9)\n",
    "plt.hist(test_data['primary_cleaner.input.feed_size'], bins=100, label = 'тестовая выборка', alpha = 0.5)\n",
    "\n",
    "\n",
    "plt.xlim([4, 10])\n",
    "plt.ylim([0,1000])\n",
    "plt.legend(loc='upper left', fontsize='x-large')\n",
    "\n",
    "plt.xlabel(\"Размер гранул сырья\")\n",
    "plt.ylabel(\"Результат\")\n",
    "\n",
    "\n",
    "plt.title(\"Распределение размеров гранул сырья\")\n",
    "plt.show()\n",
    "\n"
   ]
  },
  {
   "cell_type": "markdown",
   "metadata": {},
   "source": [
    "Судя по всему распределение гранул сырья на обучающей и тестовой выборках похожи, различается только объем выборок. "
   ]
  },
  {
   "cell_type": "markdown",
   "metadata": {},
   "source": [
    "## Модель"
   ]
  },
  {
   "cell_type": "markdown",
   "metadata": {},
   "source": [
    "Будем обучать одну модель, которая будет предсказывать два целевых признака на этапе \"Флотации\" целевой признак будет rougher.output.recovery, а  на финальном этапе final.output.recovery."
   ]
  },
  {
   "cell_type": "code",
   "execution_count": 29,
   "metadata": {},
   "outputs": [],
   "source": [
    "def smape (target, predictions):\n",
    "    a = abs(predictions - target)\n",
    "    b = (abs(target) + abs(predictions)) / 2\n",
    "    summa = (a / b).sum()\n",
    "    smape = (1 / len(target)) * summa * 100\n",
    "    return smape"
   ]
  },
  {
   "cell_type": "markdown",
   "metadata": {},
   "source": [
    "Обучим разные модели и оценим их качество кросс валидацией. выберем лучшую модель  и проверим ее на тестовой выборке. Для начала подготовим признаки для этапа флотации. Нам нужно выбрать все столбцы с началом названия rougher. Масштабировать и обучить их."
   ]
  },
  {
   "cell_type": "code",
   "execution_count": 30,
   "metadata": {},
   "outputs": [],
   "source": [
    "row_columns = test_data.columns\n",
    "features_rougher = []\n",
    "for column in row_columns:\n",
    "    if 'rougher' in column:\n",
    "        features_rougher.append(column)\n",
    "\n",
    "train_features_rougher = train_data[features_rougher]\n",
    "train_target_rougher = train_data['rougher.output.recovery']\n",
    "test_features_rougher = test_data[features_rougher]\n",
    "test_target_rougher = test_data['rougher.output.recovery']"
   ]
  },
  {
   "cell_type": "code",
   "execution_count": 31,
   "metadata": {},
   "outputs": [
    {
     "name": "stdout",
     "output_type": "stream",
     "text": [
      "(10967, 23) (5229, 23)\n",
      "(10967,) (5229,)\n"
     ]
    }
   ],
   "source": [
    "print(train_features_rougher.shape, test_features_rougher.shape)\n",
    "print(train_target_rougher.shape, test_target_rougher.shape)\n"
   ]
  },
  {
   "cell_type": "markdown",
   "metadata": {},
   "source": [
    "Теперь подготовим признаки для финального этапа. Это столбцы тестовой выборки без целевых признаков (target). Масштабировать и обучить их."
   ]
  },
  {
   "cell_type": "code",
   "execution_count": 32,
   "metadata": {},
   "outputs": [],
   "source": [
    "target = ['final.output.recovery', 'rougher.output.recovery']\n",
    "\n",
    "train_features_final = train_data[test_data.columns].drop(target, axis=1)\n",
    "train_target_final = train_data['final.output.recovery']\n",
    "test_features_final = test_data.drop(target, axis=1)\n",
    "test_target_final = test_data['final.output.recovery']"
   ]
  },
  {
   "cell_type": "code",
   "execution_count": 33,
   "metadata": {},
   "outputs": [
    {
     "name": "stdout",
     "output_type": "stream",
     "text": [
      "(10967, 52) (5229, 52)\n",
      "(10967,) (5229,)\n"
     ]
    }
   ],
   "source": [
    "print(train_features_final.shape, test_features_final.shape)\n",
    "print(train_target_final.shape, test_target_final.shape)\n"
   ]
  },
  {
   "cell_type": "code",
   "execution_count": 34,
   "metadata": {},
   "outputs": [],
   "source": [
    "\n",
    "#numeric = train_features_final.columns\n",
    "\n",
    "scaler = StandardScaler()\n",
    "scaler.fit(train_features_rougher) \n",
    "train_features_rougher = scaler.transform(train_features_rougher)\n",
    "train_features_rougher = pd.DataFrame(train_features_rougher)\n",
    "\n",
    "\n",
    "test_features_rougher = scaler.transform(test_features_rougher)\n",
    "test_features_rougher = pd.DataFrame(test_features_rougher)\n",
    "\n",
    "\n",
    "\n",
    "\n",
    "\n",
    "scaler = StandardScaler()\n",
    "scaler.fit(train_features_final) \n",
    "\n",
    "train_features_final = scaler.transform(train_features_final)\n",
    "train_features_final = pd.DataFrame(train_features_final)\n",
    "\n",
    "test_features_final = scaler.transform(test_features_final)\n",
    "\n",
    "test_features_final = pd.DataFrame(test_features_final)\n",
    "\n",
    "\n"
   ]
  },
  {
   "cell_type": "markdown",
   "metadata": {},
   "source": [
    "Создадим функцию для оценки качества модели с помощью кросс-валидации."
   ]
  },
  {
   "cell_type": "code",
   "execution_count": 35,
   "metadata": {},
   "outputs": [],
   "source": [
    "def cross_val (model, features, target):\n",
    "    scores = cross_val_score(model, features, target, scoring = make_scorer(smape, greater_is_better=True), cv=5,n_jobs=-1)\n",
    "    smape_res = np.mean(scores)\n",
    "    return smape_res"
   ]
  },
  {
   "cell_type": "code",
   "execution_count": 36,
   "metadata": {},
   "outputs": [],
   "source": [
    "def m (model):\n",
    "    \n",
    "    smape_rougher = cross_val (model, train_features_final, train_target_rougher)\n",
    "    smape_final = cross_val (model, train_features_final, train_target_final)\n",
    "    smape_end = 0.25 * smape_rougher + 0.75 * smape_final\n",
    "    print('Средняя оценка качества по кросс-валидации на этапе флотации', smape_rougher)\n",
    "    print('Средняя оценка качества по кросс-валидации на финальном этапе ', smape_final)\n",
    "    print('Конечная оценка качества по кросс-валидации ', smape_end)"
   ]
  },
  {
   "cell_type": "code",
   "execution_count": 37,
   "metadata": {},
   "outputs": [
    {
     "name": "stdout",
     "output_type": "stream",
     "text": [
      "Средняя оценка качества по кросс-валидации на этапе флотации 11.881057966972632\n",
      "Средняя оценка качества по кросс-валидации на финальном этапе  9.652551948810183\n",
      "Конечная оценка качества по кросс-валидации  10.209678453350795\n"
     ]
    }
   ],
   "source": [
    "model = LinearRegression()\n",
    "m (model)"
   ]
  },
  {
   "cell_type": "code",
   "execution_count": 38,
   "metadata": {},
   "outputs": [
    {
     "name": "stdout",
     "output_type": "stream",
     "text": [
      "Средняя оценка качества по кросс-валидации на этапе флотации 20.166870242735605\n",
      "Средняя оценка качества по кросс-валидации на финальном этапе  17.099786538587328\n",
      "Конечная оценка качества по кросс-валидации  17.8665574646244\n"
     ]
    }
   ],
   "source": [
    "model = DecisionTreeRegressor()\n",
    "m (model)"
   ]
  },
  {
   "cell_type": "code",
   "execution_count": 39,
   "metadata": {},
   "outputs": [
    {
     "name": "stdout",
     "output_type": "stream",
     "text": [
      "Средняя оценка качества по кросс-валидации на этапе флотации 13.917398629043143\n",
      "Средняя оценка качества по кросс-валидации на финальном этапе  10.505632364751737\n",
      "Конечная оценка качества по кросс-валидации  11.358573930824589\n"
     ]
    }
   ],
   "source": [
    "model = RandomForestRegressor()\n",
    "m (model)"
   ]
  },
  {
   "cell_type": "markdown",
   "metadata": {},
   "source": [
    "Из трех моделей лучшая оценка качества по кросс-валидации получилась у модели решающее дерево. Проверим эту модель на тестовой выборке."
   ]
  },
  {
   "cell_type": "code",
   "execution_count": 40,
   "metadata": {},
   "outputs": [
    {
     "name": "stdout",
     "output_type": "stream",
     "text": [
      "9.414501590783958\n",
      "1\n"
     ]
    }
   ],
   "source": [
    "best_smape = 10\n",
    "best_depth = 0\n",
    "\n",
    "for depth in range(1,30):\n",
    "    model = DecisionTreeRegressor(max_depth=depth)\n",
    "    smape_rougher = cross_val (model, train_features_final, train_target_rougher)\n",
    "    smape_final = cross_val (model, train_features_final, train_target_final)\n",
    "    smape_end = 0.25 * smape_rougher + 0.75 * smape_final\n",
    "    if smape_end < best_smape:\n",
    "        best_smape = smape_end\n",
    "        best_depth = depth\n",
    "print(best_smape)\n",
    "print(best_depth)\n"
   ]
  },
  {
   "cell_type": "code",
   "execution_count": 42,
   "metadata": {},
   "outputs": [],
   "source": [
    "\n",
    "def m (model):\n",
    "    model_rougher = model\n",
    "    model_rougher.fit(train_features_final, train_target_rougher)\n",
    "    predictions_rougher =model.predict(test_features_rougher)\n",
    "    \n",
    "    model_final = model\n",
    "    model_final.fit(train_features_final, train_target_final)\n",
    "    predictions_final = model.predict(test_features_final)    \n",
    "\n",
    "\n",
    "    smape_rougher = smape(train_features_final, predictions_rougher)\n",
    "    smape_final = smape(test_target_final, predictions_final)\n",
    "    smape_end = 0.25 * smape_rougher + 0.75 * smape_final"
   ]
  },
  {
   "cell_type": "code",
   "execution_count": 43,
   "metadata": {},
   "outputs": [
    {
     "name": "stdout",
     "output_type": "stream",
     "text": [
      "Средняя оценка качества по кросс-валидации на этапе флотации, модель решающее дерево 21.330409286321366\n",
      "Средняя оценка качества по кросс-валидации на финальном этапе модель решающее дерево 16.7777682285355\n",
      "Конечная оценка качества по кросс-валидации модель решающее дерево 17.915928492981966\n"
     ]
    }
   ],
   "source": [
    "\n",
    "print('Средняя оценка качества по кросс-валидации на этапе флотации, модель решающее дерево', smape_rougher)\n",
    "print('Средняя оценка качества по кросс-валидации на финальном этапе модель решающее дерево', smape_final)\n",
    "print('Конечная оценка качества по кросс-валидации модель решающее дерево', smape_end)"
   ]
  },
  {
   "cell_type": "markdown",
   "metadata": {},
   "source": [
    "# Вывод:\n",
    "Обучив разные модели и оценив качество кроссвалидацией на на тренировосной выборке, мы проверли модель на тестовой выборке. В итоге самой лучшей моделью была выбрана модель решающее дерево со значением финальной оценки качества по кросс-валидации 11.73"
   ]
  }
 ],
 "metadata": {
  "ExecuteTimeLog": [
   {
    "duration": 1181,
    "start_time": "2022-12-12T09:40:47.216Z"
   },
   {
    "duration": 2569,
    "start_time": "2022-12-12T09:43:54.852Z"
   },
   {
    "duration": 833,
    "start_time": "2022-12-12T09:45:14.198Z"
   },
   {
    "duration": 754,
    "start_time": "2022-12-12T09:52:28.601Z"
   },
   {
    "duration": 14,
    "start_time": "2022-12-12T09:52:57.275Z"
   },
   {
    "duration": 13,
    "start_time": "2022-12-12T09:53:23.409Z"
   },
   {
    "duration": 17,
    "start_time": "2022-12-12T09:53:32.828Z"
   },
   {
    "duration": 12,
    "start_time": "2022-12-12T09:53:38.259Z"
   },
   {
    "duration": 29,
    "start_time": "2022-12-12T09:54:23.811Z"
   },
   {
    "duration": 18,
    "start_time": "2022-12-12T09:55:12.212Z"
   },
   {
    "duration": 107,
    "start_time": "2022-12-12T09:55:28.140Z"
   },
   {
    "duration": 13,
    "start_time": "2022-12-12T09:55:33.743Z"
   },
   {
    "duration": 254,
    "start_time": "2022-12-12T10:07:30.352Z"
   },
   {
    "duration": 125,
    "start_time": "2022-12-12T10:07:37.191Z"
   },
   {
    "duration": 257,
    "start_time": "2022-12-12T10:07:46.189Z"
   },
   {
    "duration": 101,
    "start_time": "2022-12-12T11:09:28.495Z"
   },
   {
    "duration": 152,
    "start_time": "2022-12-12T11:09:30.243Z"
   },
   {
    "duration": 140,
    "start_time": "2022-12-12T11:09:30.841Z"
   },
   {
    "duration": 11,
    "start_time": "2022-12-12T11:10:41.671Z"
   },
   {
    "duration": 524,
    "start_time": "2022-12-12T11:12:27.674Z"
   },
   {
    "duration": 25,
    "start_time": "2022-12-12T11:12:55.210Z"
   },
   {
    "duration": 16,
    "start_time": "2022-12-12T11:13:32.653Z"
   },
   {
    "duration": 233,
    "start_time": "2022-12-12T11:32:16.122Z"
   },
   {
    "duration": 44,
    "start_time": "2022-12-12T11:43:15.782Z"
   },
   {
    "duration": 71,
    "start_time": "2022-12-12T11:43:22.198Z"
   },
   {
    "duration": 23,
    "start_time": "2022-12-12T11:43:42.047Z"
   },
   {
    "duration": 11,
    "start_time": "2022-12-12T11:44:03.357Z"
   },
   {
    "duration": 10,
    "start_time": "2022-12-12T11:46:17.547Z"
   },
   {
    "duration": 12,
    "start_time": "2022-12-12T11:46:56.059Z"
   },
   {
    "duration": 9,
    "start_time": "2022-12-12T11:47:17.979Z"
   },
   {
    "duration": 4,
    "start_time": "2022-12-12T11:47:55.344Z"
   },
   {
    "duration": 8,
    "start_time": "2022-12-12T11:48:03.262Z"
   },
   {
    "duration": 8,
    "start_time": "2022-12-12T11:49:12.312Z"
   },
   {
    "duration": 54,
    "start_time": "2022-12-12T11:51:02.135Z"
   },
   {
    "duration": 9,
    "start_time": "2022-12-12T11:51:10.795Z"
   },
   {
    "duration": 7,
    "start_time": "2022-12-12T11:52:31.941Z"
   },
   {
    "duration": 25,
    "start_time": "2022-12-12T12:11:55.990Z"
   },
   {
    "duration": 18,
    "start_time": "2022-12-12T12:12:44.351Z"
   },
   {
    "duration": 20,
    "start_time": "2022-12-12T12:13:08.335Z"
   },
   {
    "duration": 16,
    "start_time": "2022-12-12T12:31:46.656Z"
   },
   {
    "duration": 19,
    "start_time": "2022-12-12T12:33:58.942Z"
   },
   {
    "duration": 13,
    "start_time": "2022-12-12T12:36:56.690Z"
   },
   {
    "duration": 16,
    "start_time": "2022-12-12T12:37:21.546Z"
   },
   {
    "duration": 26,
    "start_time": "2022-12-12T12:42:46.026Z"
   },
   {
    "duration": 13,
    "start_time": "2022-12-12T12:43:09.495Z"
   },
   {
    "duration": 15,
    "start_time": "2022-12-12T12:44:22.835Z"
   },
   {
    "duration": 1616,
    "start_time": "2022-12-13T07:55:18.462Z"
   },
   {
    "duration": 2906,
    "start_time": "2022-12-13T07:55:20.081Z"
   },
   {
    "duration": 18,
    "start_time": "2022-12-13T07:55:22.988Z"
   },
   {
    "duration": 20,
    "start_time": "2022-12-13T07:55:23.011Z"
   },
   {
    "duration": 22,
    "start_time": "2022-12-13T07:55:23.033Z"
   },
   {
    "duration": 16,
    "start_time": "2022-12-13T07:55:23.056Z"
   },
   {
    "duration": 40,
    "start_time": "2022-12-13T07:55:23.073Z"
   },
   {
    "duration": 237,
    "start_time": "2022-12-13T07:55:23.115Z"
   },
   {
    "duration": 130,
    "start_time": "2022-12-13T07:55:23.354Z"
   },
   {
    "duration": 278,
    "start_time": "2022-12-13T07:55:23.487Z"
   },
   {
    "duration": 123,
    "start_time": "2022-12-13T07:55:23.767Z"
   },
   {
    "duration": 170,
    "start_time": "2022-12-13T07:55:23.892Z"
   },
   {
    "duration": 128,
    "start_time": "2022-12-13T07:55:24.063Z"
   },
   {
    "duration": 67,
    "start_time": "2022-12-13T07:55:24.193Z"
   },
   {
    "duration": 49,
    "start_time": "2022-12-13T07:55:24.262Z"
   },
   {
    "duration": 17,
    "start_time": "2022-12-13T07:55:24.313Z"
   },
   {
    "duration": 10,
    "start_time": "2022-12-13T07:55:24.332Z"
   },
   {
    "duration": 17,
    "start_time": "2022-12-13T07:55:24.344Z"
   },
   {
    "duration": 40,
    "start_time": "2022-12-13T07:55:24.363Z"
   },
   {
    "duration": 27,
    "start_time": "2022-12-13T07:55:24.404Z"
   },
   {
    "duration": 15,
    "start_time": "2022-12-13T07:55:24.433Z"
   },
   {
    "duration": 18,
    "start_time": "2022-12-13T07:55:24.450Z"
   },
   {
    "duration": 51,
    "start_time": "2022-12-13T10:37:03.836Z"
   },
   {
    "duration": 113,
    "start_time": "2022-12-13T10:37:18.455Z"
   },
   {
    "duration": 1495,
    "start_time": "2022-12-13T10:38:00.580Z"
   },
   {
    "duration": 691,
    "start_time": "2022-12-13T10:38:02.077Z"
   },
   {
    "duration": 12,
    "start_time": "2022-12-13T10:38:02.770Z"
   },
   {
    "duration": 22,
    "start_time": "2022-12-13T10:38:02.784Z"
   },
   {
    "duration": 20,
    "start_time": "2022-12-13T10:38:02.808Z"
   },
   {
    "duration": 16,
    "start_time": "2022-12-13T10:38:02.829Z"
   },
   {
    "duration": 13,
    "start_time": "2022-12-13T10:38:02.847Z"
   },
   {
    "duration": 257,
    "start_time": "2022-12-13T10:38:02.862Z"
   },
   {
    "duration": 126,
    "start_time": "2022-12-13T10:38:03.121Z"
   },
   {
    "duration": 255,
    "start_time": "2022-12-13T10:38:03.251Z"
   },
   {
    "duration": 108,
    "start_time": "2022-12-13T10:38:03.508Z"
   },
   {
    "duration": 132,
    "start_time": "2022-12-13T10:38:03.618Z"
   },
   {
    "duration": 130,
    "start_time": "2022-12-13T10:38:03.752Z"
   },
   {
    "duration": 75,
    "start_time": "2022-12-13T10:38:03.884Z"
   },
   {
    "duration": 21,
    "start_time": "2022-12-13T10:38:03.961Z"
   },
   {
    "duration": 17,
    "start_time": "2022-12-13T10:38:03.996Z"
   },
   {
    "duration": 7,
    "start_time": "2022-12-13T10:38:04.015Z"
   },
   {
    "duration": 16,
    "start_time": "2022-12-13T10:38:04.024Z"
   },
   {
    "duration": 17,
    "start_time": "2022-12-13T10:38:04.042Z"
   },
   {
    "duration": 52,
    "start_time": "2022-12-13T10:38:04.060Z"
   },
   {
    "duration": 16,
    "start_time": "2022-12-13T10:38:04.114Z"
   },
   {
    "duration": 17,
    "start_time": "2022-12-13T10:38:04.132Z"
   },
   {
    "duration": 148,
    "start_time": "2022-12-13T10:38:04.150Z"
   },
   {
    "duration": 0,
    "start_time": "2022-12-13T10:38:04.299Z"
   },
   {
    "duration": 22,
    "start_time": "2022-12-13T10:39:41.094Z"
   },
   {
    "duration": 785,
    "start_time": "2022-12-13T10:41:05.570Z"
   },
   {
    "duration": 830,
    "start_time": "2022-12-13T10:44:25.899Z"
   },
   {
    "duration": 862,
    "start_time": "2022-12-13T10:45:57.028Z"
   },
   {
    "duration": 1477,
    "start_time": "2022-12-13T10:47:23.720Z"
   },
   {
    "duration": 15,
    "start_time": "2022-12-13T10:48:45.933Z"
   },
   {
    "duration": 13,
    "start_time": "2022-12-13T10:48:57.392Z"
   },
   {
    "duration": 1625,
    "start_time": "2022-12-13T10:50:24.503Z"
   },
   {
    "duration": 47,
    "start_time": "2022-12-13T10:55:56.710Z"
   },
   {
    "duration": 52,
    "start_time": "2022-12-13T10:57:10.484Z"
   },
   {
    "duration": 51,
    "start_time": "2022-12-13T10:57:48.107Z"
   },
   {
    "duration": 360,
    "start_time": "2022-12-13T10:57:56.397Z"
   },
   {
    "duration": 487,
    "start_time": "2022-12-13T10:59:45.120Z"
   },
   {
    "duration": 15,
    "start_time": "2022-12-13T11:01:34.945Z"
   },
   {
    "duration": 438,
    "start_time": "2022-12-13T11:01:51.328Z"
   },
   {
    "duration": 149,
    "start_time": "2022-12-13T11:03:14.068Z"
   },
   {
    "duration": 148,
    "start_time": "2022-12-13T11:03:54.790Z"
   },
   {
    "duration": 238,
    "start_time": "2022-12-13T11:06:28.481Z"
   },
   {
    "duration": 161,
    "start_time": "2022-12-13T11:07:35.215Z"
   },
   {
    "duration": 156,
    "start_time": "2022-12-13T11:07:44.714Z"
   },
   {
    "duration": 16,
    "start_time": "2022-12-13T11:36:57.976Z"
   },
   {
    "duration": 521,
    "start_time": "2022-12-13T11:37:04.156Z"
   },
   {
    "duration": 627,
    "start_time": "2022-12-13T11:37:33.292Z"
   },
   {
    "duration": 524,
    "start_time": "2022-12-13T11:37:43.776Z"
   },
   {
    "duration": 548,
    "start_time": "2022-12-13T11:59:47.448Z"
   },
   {
    "duration": 769,
    "start_time": "2022-12-13T12:02:25.827Z"
   },
   {
    "duration": 559,
    "start_time": "2022-12-13T12:04:39.532Z"
   },
   {
    "duration": 441,
    "start_time": "2022-12-13T12:19:39.201Z"
   },
   {
    "duration": 532,
    "start_time": "2022-12-13T12:20:38.764Z"
   },
   {
    "duration": 428,
    "start_time": "2022-12-13T12:21:06.439Z"
   },
   {
    "duration": 424,
    "start_time": "2022-12-13T12:25:01.047Z"
   },
   {
    "duration": 436,
    "start_time": "2022-12-13T12:25:28.672Z"
   },
   {
    "duration": 560,
    "start_time": "2022-12-13T12:25:41.216Z"
   },
   {
    "duration": 406,
    "start_time": "2022-12-13T12:26:34.278Z"
   },
   {
    "duration": 412,
    "start_time": "2022-12-13T12:26:47.727Z"
   },
   {
    "duration": 431,
    "start_time": "2022-12-13T12:27:10.249Z"
   },
   {
    "duration": 6,
    "start_time": "2022-12-13T12:31:59.702Z"
   },
   {
    "duration": 545,
    "start_time": "2022-12-13T12:32:05.283Z"
   },
   {
    "duration": 49,
    "start_time": "2022-12-14T12:13:59.439Z"
   },
   {
    "duration": 2098,
    "start_time": "2022-12-14T12:14:07.044Z"
   },
   {
    "duration": 2612,
    "start_time": "2022-12-14T12:14:09.145Z"
   },
   {
    "duration": 13,
    "start_time": "2022-12-14T12:14:11.762Z"
   },
   {
    "duration": 31,
    "start_time": "2022-12-14T12:14:11.778Z"
   },
   {
    "duration": 43,
    "start_time": "2022-12-14T12:14:11.811Z"
   },
   {
    "duration": 21,
    "start_time": "2022-12-14T12:14:11.857Z"
   },
   {
    "duration": 16,
    "start_time": "2022-12-14T12:14:11.880Z"
   },
   {
    "duration": 257,
    "start_time": "2022-12-14T12:14:11.898Z"
   },
   {
    "duration": 145,
    "start_time": "2022-12-14T12:14:12.158Z"
   },
   {
    "duration": 275,
    "start_time": "2022-12-14T12:14:12.307Z"
   },
   {
    "duration": 104,
    "start_time": "2022-12-14T12:14:12.585Z"
   },
   {
    "duration": 134,
    "start_time": "2022-12-14T12:14:12.691Z"
   },
   {
    "duration": 136,
    "start_time": "2022-12-14T12:14:12.827Z"
   },
   {
    "duration": 81,
    "start_time": "2022-12-14T12:14:12.965Z"
   },
   {
    "duration": 42,
    "start_time": "2022-12-14T12:14:13.049Z"
   },
   {
    "duration": 23,
    "start_time": "2022-12-14T12:14:13.094Z"
   },
   {
    "duration": 9,
    "start_time": "2022-12-14T12:14:13.119Z"
   },
   {
    "duration": 36,
    "start_time": "2022-12-14T12:14:13.130Z"
   },
   {
    "duration": 18,
    "start_time": "2022-12-14T12:14:13.177Z"
   },
   {
    "duration": 27,
    "start_time": "2022-12-14T12:14:13.198Z"
   },
   {
    "duration": 19,
    "start_time": "2022-12-14T12:14:13.227Z"
   },
   {
    "duration": 23,
    "start_time": "2022-12-14T12:14:13.279Z"
   },
   {
    "duration": 143,
    "start_time": "2022-12-14T12:14:13.304Z"
   },
   {
    "duration": 0,
    "start_time": "2022-12-14T12:14:13.449Z"
   },
   {
    "duration": 0,
    "start_time": "2022-12-14T12:14:13.451Z"
   },
   {
    "duration": 0,
    "start_time": "2022-12-14T12:14:13.452Z"
   },
   {
    "duration": 0,
    "start_time": "2022-12-14T12:14:13.454Z"
   },
   {
    "duration": 0,
    "start_time": "2022-12-14T12:14:13.455Z"
   },
   {
    "duration": 0,
    "start_time": "2022-12-14T12:14:13.456Z"
   },
   {
    "duration": 253,
    "start_time": "2022-12-14T12:15:34.775Z"
   },
   {
    "duration": 221,
    "start_time": "2022-12-14T12:15:48.385Z"
   },
   {
    "duration": 21,
    "start_time": "2022-12-14T12:16:06.080Z"
   },
   {
    "duration": 162,
    "start_time": "2022-12-14T12:16:23.619Z"
   },
   {
    "duration": 585,
    "start_time": "2022-12-14T12:16:34.772Z"
   },
   {
    "duration": 1553,
    "start_time": "2022-12-14T12:16:42.843Z"
   },
   {
    "duration": 691,
    "start_time": "2022-12-14T12:16:44.397Z"
   },
   {
    "duration": 13,
    "start_time": "2022-12-14T12:16:45.090Z"
   },
   {
    "duration": 19,
    "start_time": "2022-12-14T12:16:45.105Z"
   },
   {
    "duration": 25,
    "start_time": "2022-12-14T12:16:45.125Z"
   },
   {
    "duration": 40,
    "start_time": "2022-12-14T12:16:45.152Z"
   },
   {
    "duration": 16,
    "start_time": "2022-12-14T12:16:45.194Z"
   },
   {
    "duration": 278,
    "start_time": "2022-12-14T12:16:45.213Z"
   },
   {
    "duration": 126,
    "start_time": "2022-12-14T12:16:45.493Z"
   },
   {
    "duration": 282,
    "start_time": "2022-12-14T12:16:45.622Z"
   },
   {
    "duration": 121,
    "start_time": "2022-12-14T12:16:45.906Z"
   },
   {
    "duration": 152,
    "start_time": "2022-12-14T12:16:46.029Z"
   },
   {
    "duration": 135,
    "start_time": "2022-12-14T12:16:46.183Z"
   },
   {
    "duration": 75,
    "start_time": "2022-12-14T12:16:46.320Z"
   },
   {
    "duration": 23,
    "start_time": "2022-12-14T12:16:46.397Z"
   },
   {
    "duration": 18,
    "start_time": "2022-12-14T12:16:46.422Z"
   },
   {
    "duration": 39,
    "start_time": "2022-12-14T12:16:46.441Z"
   },
   {
    "duration": 17,
    "start_time": "2022-12-14T12:16:46.482Z"
   },
   {
    "duration": 18,
    "start_time": "2022-12-14T12:16:46.501Z"
   },
   {
    "duration": 20,
    "start_time": "2022-12-14T12:16:46.520Z"
   },
   {
    "duration": 52,
    "start_time": "2022-12-14T12:16:46.541Z"
   },
   {
    "duration": 23,
    "start_time": "2022-12-14T12:16:46.596Z"
   },
   {
    "duration": 181,
    "start_time": "2022-12-14T12:16:46.621Z"
   },
   {
    "duration": 181,
    "start_time": "2022-12-14T12:16:46.804Z"
   },
   {
    "duration": 263,
    "start_time": "2022-12-14T12:16:46.987Z"
   },
   {
    "duration": 583,
    "start_time": "2022-12-14T12:16:47.252Z"
   },
   {
    "duration": 8,
    "start_time": "2022-12-14T12:16:47.838Z"
   },
   {
    "duration": 444,
    "start_time": "2022-12-14T12:16:47.851Z"
   },
   {
    "duration": 219,
    "start_time": "2022-12-14T12:16:48.297Z"
   },
   {
    "duration": 17,
    "start_time": "2022-12-14T12:18:30.729Z"
   },
   {
    "duration": 14,
    "start_time": "2022-12-14T12:20:33.456Z"
   },
   {
    "duration": 21,
    "start_time": "2022-12-14T12:47:08.342Z"
   },
   {
    "duration": 14,
    "start_time": "2022-12-14T12:48:20.982Z"
   },
   {
    "duration": 11,
    "start_time": "2022-12-14T12:50:24.419Z"
   },
   {
    "duration": 11,
    "start_time": "2022-12-14T12:50:56.873Z"
   },
   {
    "duration": 3,
    "start_time": "2022-12-14T13:19:08.011Z"
   },
   {
    "duration": 16,
    "start_time": "2022-12-14T13:46:19.116Z"
   },
   {
    "duration": 15,
    "start_time": "2022-12-14T13:46:47.720Z"
   },
   {
    "duration": 14,
    "start_time": "2022-12-14T13:47:11.689Z"
   },
   {
    "duration": 19,
    "start_time": "2022-12-14T13:50:48.896Z"
   },
   {
    "duration": 17,
    "start_time": "2022-12-14T13:51:44.717Z"
   },
   {
    "duration": 14,
    "start_time": "2022-12-14T13:52:09.920Z"
   },
   {
    "duration": 807,
    "start_time": "2022-12-14T13:54:16.021Z"
   },
   {
    "duration": 29,
    "start_time": "2022-12-14T13:54:36.863Z"
   },
   {
    "duration": 30,
    "start_time": "2022-12-14T13:54:40.840Z"
   },
   {
    "duration": 39,
    "start_time": "2022-12-14T13:56:10.890Z"
   },
   {
    "duration": 29,
    "start_time": "2022-12-14T13:56:24.821Z"
   },
   {
    "duration": 16,
    "start_time": "2022-12-14T13:56:36.584Z"
   },
   {
    "duration": 19,
    "start_time": "2022-12-14T13:56:38.751Z"
   },
   {
    "duration": 1480,
    "start_time": "2022-12-14T13:57:15.349Z"
   },
   {
    "duration": 725,
    "start_time": "2022-12-14T13:57:16.831Z"
   },
   {
    "duration": 31,
    "start_time": "2022-12-14T13:57:17.558Z"
   },
   {
    "duration": 20,
    "start_time": "2022-12-14T13:57:17.592Z"
   },
   {
    "duration": 27,
    "start_time": "2022-12-14T13:57:17.614Z"
   },
   {
    "duration": 274,
    "start_time": "2022-12-14T13:57:17.643Z"
   },
   {
    "duration": 125,
    "start_time": "2022-12-14T13:57:17.920Z"
   },
   {
    "duration": 268,
    "start_time": "2022-12-14T13:57:18.047Z"
   },
   {
    "duration": 158,
    "start_time": "2022-12-14T13:57:18.317Z"
   },
   {
    "duration": 163,
    "start_time": "2022-12-14T13:57:18.479Z"
   },
   {
    "duration": 139,
    "start_time": "2022-12-14T13:57:18.644Z"
   },
   {
    "duration": 120,
    "start_time": "2022-12-14T13:57:18.786Z"
   },
   {
    "duration": 35,
    "start_time": "2022-12-14T13:57:18.909Z"
   },
   {
    "duration": 59,
    "start_time": "2022-12-14T13:57:18.947Z"
   },
   {
    "duration": 12,
    "start_time": "2022-12-14T13:57:19.009Z"
   },
   {
    "duration": 50,
    "start_time": "2022-12-14T13:57:19.023Z"
   },
   {
    "duration": 21,
    "start_time": "2022-12-14T13:57:19.075Z"
   },
   {
    "duration": 23,
    "start_time": "2022-12-14T13:57:19.098Z"
   },
   {
    "duration": 61,
    "start_time": "2022-12-14T13:57:19.123Z"
   },
   {
    "duration": 34,
    "start_time": "2022-12-14T13:57:19.186Z"
   },
   {
    "duration": 16,
    "start_time": "2022-12-14T13:57:19.222Z"
   },
   {
    "duration": 39,
    "start_time": "2022-12-14T13:57:19.240Z"
   },
   {
    "duration": 172,
    "start_time": "2022-12-14T13:57:19.281Z"
   },
   {
    "duration": 246,
    "start_time": "2022-12-14T13:57:19.455Z"
   },
   {
    "duration": 183,
    "start_time": "2022-12-14T13:57:19.703Z"
   },
   {
    "duration": 572,
    "start_time": "2022-12-14T13:57:19.888Z"
   },
   {
    "duration": 16,
    "start_time": "2022-12-14T13:57:20.462Z"
   },
   {
    "duration": 442,
    "start_time": "2022-12-14T13:57:20.482Z"
   },
   {
    "duration": 4,
    "start_time": "2022-12-14T13:57:20.927Z"
   },
   {
    "duration": 147,
    "start_time": "2022-12-14T13:57:20.932Z"
   },
   {
    "duration": 0,
    "start_time": "2022-12-14T13:57:21.081Z"
   },
   {
    "duration": 61,
    "start_time": "2022-12-14T14:06:17.325Z"
   },
   {
    "duration": 20,
    "start_time": "2022-12-14T14:07:26.323Z"
   },
   {
    "duration": 16,
    "start_time": "2022-12-14T14:07:31.396Z"
   },
   {
    "duration": 58,
    "start_time": "2022-12-14T14:07:32.802Z"
   },
   {
    "duration": 58,
    "start_time": "2022-12-14T14:08:20.905Z"
   },
   {
    "duration": 15,
    "start_time": "2022-12-14T14:08:31.843Z"
   },
   {
    "duration": 5,
    "start_time": "2022-12-14T14:08:51.879Z"
   },
   {
    "duration": 687,
    "start_time": "2022-12-14T14:08:52.492Z"
   },
   {
    "duration": 21,
    "start_time": "2022-12-14T14:08:57.455Z"
   },
   {
    "duration": 22,
    "start_time": "2022-12-14T14:09:01.444Z"
   },
   {
    "duration": 659,
    "start_time": "2022-12-14T14:09:24.313Z"
   },
   {
    "duration": 24,
    "start_time": "2022-12-14T14:09:25.859Z"
   },
   {
    "duration": 20,
    "start_time": "2022-12-14T14:09:29.661Z"
   },
   {
    "duration": 5,
    "start_time": "2022-12-14T14:10:22.765Z"
   },
   {
    "duration": 691,
    "start_time": "2022-12-14T14:10:23.754Z"
   },
   {
    "duration": 20,
    "start_time": "2022-12-14T14:10:59.397Z"
   },
   {
    "duration": 16,
    "start_time": "2022-12-14T14:11:09.365Z"
   },
   {
    "duration": 218,
    "start_time": "2022-12-14T14:11:18.728Z"
   },
   {
    "duration": 133,
    "start_time": "2022-12-14T14:11:19.663Z"
   },
   {
    "duration": 377,
    "start_time": "2022-12-14T14:11:24.427Z"
   },
   {
    "duration": 116,
    "start_time": "2022-12-14T14:11:25.861Z"
   },
   {
    "duration": 123,
    "start_time": "2022-12-14T14:11:27.988Z"
   },
   {
    "duration": 24,
    "start_time": "2022-12-14T14:11:29.345Z"
   },
   {
    "duration": 25,
    "start_time": "2022-12-14T14:11:32.101Z"
   },
   {
    "duration": 22,
    "start_time": "2022-12-14T14:11:32.981Z"
   },
   {
    "duration": 18,
    "start_time": "2022-12-14T14:11:36.542Z"
   },
   {
    "duration": 8,
    "start_time": "2022-12-14T14:11:48.633Z"
   },
   {
    "duration": 21,
    "start_time": "2022-12-14T14:11:54.815Z"
   },
   {
    "duration": 14,
    "start_time": "2022-12-14T14:12:00.396Z"
   },
   {
    "duration": 20,
    "start_time": "2022-12-14T14:12:06.829Z"
   },
   {
    "duration": 32,
    "start_time": "2022-12-14T14:12:41.109Z"
   },
   {
    "duration": 16,
    "start_time": "2022-12-14T14:13:17.136Z"
   },
   {
    "duration": 17,
    "start_time": "2022-12-14T14:13:24.115Z"
   },
   {
    "duration": 14,
    "start_time": "2022-12-14T14:13:29.299Z"
   },
   {
    "duration": 12,
    "start_time": "2022-12-14T14:13:32.469Z"
   },
   {
    "duration": 177,
    "start_time": "2022-12-14T14:13:38.114Z"
   },
   {
    "duration": 149,
    "start_time": "2022-12-14T14:13:40.203Z"
   },
   {
    "duration": 175,
    "start_time": "2022-12-14T14:13:42.081Z"
   },
   {
    "duration": 581,
    "start_time": "2022-12-14T14:13:44.383Z"
   },
   {
    "duration": 7,
    "start_time": "2022-12-14T14:13:47.063Z"
   },
   {
    "duration": 424,
    "start_time": "2022-12-14T14:13:56.352Z"
   },
   {
    "duration": 12,
    "start_time": "2022-12-14T14:19:23.764Z"
   },
   {
    "duration": 13,
    "start_time": "2022-12-14T14:22:05.194Z"
   },
   {
    "duration": 23,
    "start_time": "2022-12-14T14:25:42.444Z"
   },
   {
    "duration": 7,
    "start_time": "2022-12-14T14:26:35.445Z"
   },
   {
    "duration": 12,
    "start_time": "2022-12-14T14:30:49.493Z"
   },
   {
    "duration": 7,
    "start_time": "2022-12-14T14:31:20.389Z"
   },
   {
    "duration": 5,
    "start_time": "2022-12-14T14:32:44.512Z"
   },
   {
    "duration": 8,
    "start_time": "2022-12-14T14:32:49.911Z"
   },
   {
    "duration": 17,
    "start_time": "2022-12-14T14:37:20.870Z"
   },
   {
    "duration": 7,
    "start_time": "2022-12-14T14:37:36.108Z"
   },
   {
    "duration": 10,
    "start_time": "2022-12-14T14:41:24.331Z"
   },
   {
    "duration": 4,
    "start_time": "2022-12-14T14:43:15.830Z"
   },
   {
    "duration": 7,
    "start_time": "2022-12-14T14:43:17.498Z"
   },
   {
    "duration": 9,
    "start_time": "2022-12-14T14:43:19.566Z"
   },
   {
    "duration": 7,
    "start_time": "2022-12-14T14:52:49.855Z"
   },
   {
    "duration": 16,
    "start_time": "2022-12-14T14:56:02.433Z"
   },
   {
    "duration": 5,
    "start_time": "2022-12-14T14:56:11.049Z"
   },
   {
    "duration": 10,
    "start_time": "2022-12-14T14:57:37.668Z"
   },
   {
    "duration": 4,
    "start_time": "2022-12-14T14:57:38.361Z"
   },
   {
    "duration": 46,
    "start_time": "2022-12-15T07:21:12.141Z"
   },
   {
    "duration": 7,
    "start_time": "2022-12-15T07:21:39.479Z"
   },
   {
    "duration": 1583,
    "start_time": "2022-12-15T07:21:45.901Z"
   },
   {
    "duration": 2036,
    "start_time": "2022-12-15T07:21:47.486Z"
   },
   {
    "duration": 20,
    "start_time": "2022-12-15T07:21:49.524Z"
   },
   {
    "duration": 17,
    "start_time": "2022-12-15T07:21:49.546Z"
   },
   {
    "duration": 12,
    "start_time": "2022-12-15T07:21:49.565Z"
   },
   {
    "duration": 227,
    "start_time": "2022-12-15T07:21:49.579Z"
   },
   {
    "duration": 121,
    "start_time": "2022-12-15T07:21:49.808Z"
   },
   {
    "duration": 241,
    "start_time": "2022-12-15T07:21:49.931Z"
   },
   {
    "duration": 103,
    "start_time": "2022-12-15T07:21:50.173Z"
   },
   {
    "duration": 136,
    "start_time": "2022-12-15T07:21:50.279Z"
   },
   {
    "duration": 26,
    "start_time": "2022-12-15T07:21:50.417Z"
   },
   {
    "duration": 76,
    "start_time": "2022-12-15T07:21:50.445Z"
   },
   {
    "duration": 20,
    "start_time": "2022-12-15T07:21:50.522Z"
   },
   {
    "duration": 16,
    "start_time": "2022-12-15T07:21:50.543Z"
   },
   {
    "duration": 7,
    "start_time": "2022-12-15T07:21:50.561Z"
   },
   {
    "duration": 44,
    "start_time": "2022-12-15T07:21:50.570Z"
   },
   {
    "duration": 12,
    "start_time": "2022-12-15T07:21:50.616Z"
   },
   {
    "duration": 17,
    "start_time": "2022-12-15T07:21:50.629Z"
   },
   {
    "duration": 15,
    "start_time": "2022-12-15T07:21:50.647Z"
   },
   {
    "duration": 14,
    "start_time": "2022-12-15T07:21:50.664Z"
   },
   {
    "duration": 42,
    "start_time": "2022-12-15T07:21:50.679Z"
   },
   {
    "duration": 10,
    "start_time": "2022-12-15T07:21:50.723Z"
   },
   {
    "duration": 159,
    "start_time": "2022-12-15T07:21:50.734Z"
   },
   {
    "duration": 246,
    "start_time": "2022-12-15T07:21:50.895Z"
   },
   {
    "duration": 152,
    "start_time": "2022-12-15T07:21:51.143Z"
   },
   {
    "duration": 532,
    "start_time": "2022-12-15T07:21:51.296Z"
   },
   {
    "duration": 6,
    "start_time": "2022-12-15T07:21:51.829Z"
   },
   {
    "duration": 453,
    "start_time": "2022-12-15T07:21:51.839Z"
   },
   {
    "duration": 3,
    "start_time": "2022-12-15T07:21:52.294Z"
   },
   {
    "duration": 14,
    "start_time": "2022-12-15T07:21:52.299Z"
   },
   {
    "duration": 5,
    "start_time": "2022-12-15T07:21:52.314Z"
   },
   {
    "duration": 31,
    "start_time": "2022-12-15T07:21:52.321Z"
   },
   {
    "duration": 127,
    "start_time": "2022-12-15T07:21:52.354Z"
   },
   {
    "duration": 0,
    "start_time": "2022-12-15T07:21:52.483Z"
   },
   {
    "duration": 0,
    "start_time": "2022-12-15T07:21:52.484Z"
   },
   {
    "duration": 0,
    "start_time": "2022-12-15T07:21:52.485Z"
   },
   {
    "duration": 18,
    "start_time": "2022-12-15T07:25:00.968Z"
   },
   {
    "duration": 25,
    "start_time": "2022-12-15T07:26:44.725Z"
   },
   {
    "duration": 11,
    "start_time": "2022-12-15T07:26:50.225Z"
   },
   {
    "duration": 5,
    "start_time": "2022-12-15T07:26:52.523Z"
   },
   {
    "duration": 18,
    "start_time": "2022-12-15T07:26:54.852Z"
   },
   {
    "duration": 35,
    "start_time": "2022-12-15T07:27:58.458Z"
   },
   {
    "duration": 24,
    "start_time": "2022-12-15T07:28:05.674Z"
   },
   {
    "duration": 3,
    "start_time": "2022-12-15T07:30:03.839Z"
   },
   {
    "duration": 10,
    "start_time": "2022-12-15T07:36:08.134Z"
   },
   {
    "duration": 13,
    "start_time": "2022-12-15T07:37:17.826Z"
   },
   {
    "duration": 3,
    "start_time": "2022-12-15T07:44:01.924Z"
   },
   {
    "duration": 7,
    "start_time": "2022-12-15T07:44:03.771Z"
   },
   {
    "duration": 4,
    "start_time": "2022-12-15T07:44:04.477Z"
   },
   {
    "duration": 17,
    "start_time": "2022-12-15T07:44:05.192Z"
   },
   {
    "duration": 9,
    "start_time": "2022-12-15T07:44:06.523Z"
   },
   {
    "duration": 4,
    "start_time": "2022-12-15T07:44:09.206Z"
   },
   {
    "duration": 28,
    "start_time": "2022-12-15T07:44:10.110Z"
   },
   {
    "duration": 4,
    "start_time": "2022-12-15T07:44:12.162Z"
   },
   {
    "duration": 3,
    "start_time": "2022-12-15T07:45:53.787Z"
   },
   {
    "duration": 6,
    "start_time": "2022-12-15T07:45:55.197Z"
   },
   {
    "duration": 4,
    "start_time": "2022-12-15T07:45:56.102Z"
   },
   {
    "duration": 18,
    "start_time": "2022-12-15T07:45:56.788Z"
   },
   {
    "duration": 9,
    "start_time": "2022-12-15T07:46:01.550Z"
   },
   {
    "duration": 3,
    "start_time": "2022-12-15T07:46:02.202Z"
   },
   {
    "duration": 25,
    "start_time": "2022-12-15T07:46:03.396Z"
   },
   {
    "duration": 3,
    "start_time": "2022-12-15T07:46:06.492Z"
   },
   {
    "duration": 2303,
    "start_time": "2022-12-15T07:46:08.122Z"
   },
   {
    "duration": 4269,
    "start_time": "2022-12-15T07:47:31.481Z"
   },
   {
    "duration": 4,
    "start_time": "2022-12-15T07:52:57.996Z"
   },
   {
    "duration": 2412,
    "start_time": "2022-12-15T07:52:58.001Z"
   },
   {
    "duration": 4138,
    "start_time": "2022-12-15T07:53:00.416Z"
   },
   {
    "duration": 1438,
    "start_time": "2022-12-15T08:01:22.393Z"
   },
   {
    "duration": 658,
    "start_time": "2022-12-15T08:01:23.833Z"
   },
   {
    "duration": 24,
    "start_time": "2022-12-15T08:01:24.493Z"
   },
   {
    "duration": 22,
    "start_time": "2022-12-15T08:01:24.520Z"
   },
   {
    "duration": 13,
    "start_time": "2022-12-15T08:01:24.544Z"
   },
   {
    "duration": 265,
    "start_time": "2022-12-15T08:01:24.559Z"
   },
   {
    "duration": 141,
    "start_time": "2022-12-15T08:01:24.826Z"
   },
   {
    "duration": 239,
    "start_time": "2022-12-15T08:01:24.969Z"
   },
   {
    "duration": 89,
    "start_time": "2022-12-15T08:01:25.213Z"
   },
   {
    "duration": 127,
    "start_time": "2022-12-15T08:01:25.312Z"
   },
   {
    "duration": 21,
    "start_time": "2022-12-15T08:01:25.441Z"
   },
   {
    "duration": 76,
    "start_time": "2022-12-15T08:01:25.464Z"
   },
   {
    "duration": 28,
    "start_time": "2022-12-15T08:01:25.542Z"
   },
   {
    "duration": 17,
    "start_time": "2022-12-15T08:01:25.572Z"
   },
   {
    "duration": 30,
    "start_time": "2022-12-15T08:01:25.590Z"
   },
   {
    "duration": 17,
    "start_time": "2022-12-15T08:01:25.621Z"
   },
   {
    "duration": 11,
    "start_time": "2022-12-15T08:01:25.640Z"
   },
   {
    "duration": 20,
    "start_time": "2022-12-15T08:01:25.652Z"
   },
   {
    "duration": 44,
    "start_time": "2022-12-15T08:01:25.674Z"
   },
   {
    "duration": 20,
    "start_time": "2022-12-15T08:01:25.720Z"
   },
   {
    "duration": 12,
    "start_time": "2022-12-15T08:01:25.741Z"
   },
   {
    "duration": 16,
    "start_time": "2022-12-15T08:01:25.754Z"
   },
   {
    "duration": 189,
    "start_time": "2022-12-15T08:01:25.772Z"
   },
   {
    "duration": 238,
    "start_time": "2022-12-15T08:01:25.962Z"
   },
   {
    "duration": 149,
    "start_time": "2022-12-15T08:01:26.202Z"
   },
   {
    "duration": 570,
    "start_time": "2022-12-15T08:01:26.352Z"
   },
   {
    "duration": 7,
    "start_time": "2022-12-15T08:01:26.924Z"
   },
   {
    "duration": 424,
    "start_time": "2022-12-15T08:01:26.936Z"
   },
   {
    "duration": 4,
    "start_time": "2022-12-15T08:01:27.362Z"
   },
   {
    "duration": 8,
    "start_time": "2022-12-15T08:01:27.369Z"
   },
   {
    "duration": 7,
    "start_time": "2022-12-15T08:01:27.379Z"
   },
   {
    "duration": 46,
    "start_time": "2022-12-15T08:01:27.388Z"
   },
   {
    "duration": 11,
    "start_time": "2022-12-15T08:01:27.437Z"
   },
   {
    "duration": 8,
    "start_time": "2022-12-15T08:01:27.450Z"
   },
   {
    "duration": 37,
    "start_time": "2022-12-15T08:01:27.459Z"
   },
   {
    "duration": 3,
    "start_time": "2022-12-15T08:01:27.498Z"
   },
   {
    "duration": 2401,
    "start_time": "2022-12-15T08:01:27.512Z"
   },
   {
    "duration": 4411,
    "start_time": "2022-12-15T08:01:29.915Z"
   },
   {
    "duration": 236025,
    "start_time": "2022-12-15T08:01:34.328Z"
   },
   {
    "duration": 39,
    "start_time": "2022-12-15T08:11:39.095Z"
   },
   {
    "duration": 15,
    "start_time": "2022-12-15T08:16:53.716Z"
   },
   {
    "duration": 20,
    "start_time": "2022-12-15T08:17:32.347Z"
   },
   {
    "duration": 39,
    "start_time": "2022-12-15T08:17:34.763Z"
   },
   {
    "duration": 115,
    "start_time": "2022-12-15T08:19:11.586Z"
   },
   {
    "duration": 15,
    "start_time": "2022-12-15T08:19:39.861Z"
   },
   {
    "duration": 20,
    "start_time": "2022-12-15T08:19:41.086Z"
   },
   {
    "duration": 12,
    "start_time": "2022-12-15T08:20:41.337Z"
   },
   {
    "duration": 11,
    "start_time": "2022-12-15T08:20:52.806Z"
   },
   {
    "duration": 43,
    "start_time": "2022-12-15T08:27:02.343Z"
   },
   {
    "duration": 257,
    "start_time": "2022-12-15T08:34:19.014Z"
   },
   {
    "duration": 262,
    "start_time": "2022-12-15T08:34:49.172Z"
   },
   {
    "duration": 15,
    "start_time": "2022-12-15T08:38:21.638Z"
   },
   {
    "duration": 15,
    "start_time": "2022-12-15T08:39:11.062Z"
   },
   {
    "duration": 1439,
    "start_time": "2022-12-15T08:39:24.176Z"
   },
   {
    "duration": 647,
    "start_time": "2022-12-15T08:39:25.618Z"
   },
   {
    "duration": 20,
    "start_time": "2022-12-15T08:39:26.267Z"
   },
   {
    "duration": 30,
    "start_time": "2022-12-15T08:39:26.289Z"
   },
   {
    "duration": 15,
    "start_time": "2022-12-15T08:39:26.321Z"
   },
   {
    "duration": 244,
    "start_time": "2022-12-15T08:39:26.338Z"
   },
   {
    "duration": 123,
    "start_time": "2022-12-15T08:39:26.583Z"
   },
   {
    "duration": 251,
    "start_time": "2022-12-15T08:39:26.707Z"
   },
   {
    "duration": 104,
    "start_time": "2022-12-15T08:39:26.960Z"
   },
   {
    "duration": 128,
    "start_time": "2022-12-15T08:39:27.066Z"
   },
   {
    "duration": 30,
    "start_time": "2022-12-15T08:39:27.195Z"
   },
   {
    "duration": 58,
    "start_time": "2022-12-15T08:39:27.228Z"
   },
   {
    "duration": 29,
    "start_time": "2022-12-15T08:39:27.287Z"
   },
   {
    "duration": 16,
    "start_time": "2022-12-15T08:39:27.318Z"
   },
   {
    "duration": 8,
    "start_time": "2022-12-15T08:39:27.335Z"
   },
   {
    "duration": 20,
    "start_time": "2022-12-15T08:39:27.344Z"
   },
   {
    "duration": 12,
    "start_time": "2022-12-15T08:39:27.366Z"
   },
   {
    "duration": 18,
    "start_time": "2022-12-15T08:39:27.412Z"
   },
   {
    "duration": 18,
    "start_time": "2022-12-15T08:39:27.432Z"
   },
   {
    "duration": 11,
    "start_time": "2022-12-15T08:39:27.452Z"
   },
   {
    "duration": 11,
    "start_time": "2022-12-15T08:39:27.464Z"
   },
   {
    "duration": 11,
    "start_time": "2022-12-15T08:39:27.513Z"
   },
   {
    "duration": 166,
    "start_time": "2022-12-15T08:39:27.526Z"
   },
   {
    "duration": 193,
    "start_time": "2022-12-15T08:39:27.694Z"
   },
   {
    "duration": 248,
    "start_time": "2022-12-15T08:39:27.889Z"
   },
   {
    "duration": 530,
    "start_time": "2022-12-15T08:39:28.139Z"
   },
   {
    "duration": 7,
    "start_time": "2022-12-15T08:39:28.671Z"
   },
   {
    "duration": 399,
    "start_time": "2022-12-15T08:39:28.682Z"
   },
   {
    "duration": 5,
    "start_time": "2022-12-15T08:39:29.083Z"
   },
   {
    "duration": 12,
    "start_time": "2022-12-15T08:39:29.089Z"
   },
   {
    "duration": 3,
    "start_time": "2022-12-15T08:39:29.113Z"
   },
   {
    "duration": 22,
    "start_time": "2022-12-15T08:39:29.118Z"
   },
   {
    "duration": 10,
    "start_time": "2022-12-15T08:39:29.142Z"
   },
   {
    "duration": 10,
    "start_time": "2022-12-15T08:39:29.154Z"
   },
   {
    "duration": 60,
    "start_time": "2022-12-15T08:39:29.165Z"
   },
   {
    "duration": 3,
    "start_time": "2022-12-15T08:39:29.227Z"
   },
   {
    "duration": 2394,
    "start_time": "2022-12-15T08:39:29.232Z"
   },
   {
    "duration": 4228,
    "start_time": "2022-12-15T08:39:31.713Z"
   },
   {
    "duration": 1426,
    "start_time": "2022-12-15T08:42:31.254Z"
   },
   {
    "duration": 650,
    "start_time": "2022-12-15T08:42:32.682Z"
   },
   {
    "duration": 19,
    "start_time": "2022-12-15T08:42:33.333Z"
   },
   {
    "duration": 31,
    "start_time": "2022-12-15T08:42:33.354Z"
   },
   {
    "duration": 17,
    "start_time": "2022-12-15T08:42:33.387Z"
   },
   {
    "duration": 237,
    "start_time": "2022-12-15T08:42:33.412Z"
   },
   {
    "duration": 131,
    "start_time": "2022-12-15T08:42:33.650Z"
   },
   {
    "duration": 262,
    "start_time": "2022-12-15T08:42:33.782Z"
   },
   {
    "duration": 107,
    "start_time": "2022-12-15T08:42:34.046Z"
   },
   {
    "duration": 122,
    "start_time": "2022-12-15T08:42:34.156Z"
   },
   {
    "duration": 20,
    "start_time": "2022-12-15T08:42:34.280Z"
   },
   {
    "duration": 61,
    "start_time": "2022-12-15T08:42:34.313Z"
   },
   {
    "duration": 41,
    "start_time": "2022-12-15T08:42:34.376Z"
   },
   {
    "duration": 15,
    "start_time": "2022-12-15T08:42:34.418Z"
   },
   {
    "duration": 10,
    "start_time": "2022-12-15T08:42:34.435Z"
   },
   {
    "duration": 21,
    "start_time": "2022-12-15T08:42:34.447Z"
   },
   {
    "duration": 12,
    "start_time": "2022-12-15T08:42:34.470Z"
   },
   {
    "duration": 19,
    "start_time": "2022-12-15T08:42:34.512Z"
   },
   {
    "duration": 17,
    "start_time": "2022-12-15T08:42:34.533Z"
   },
   {
    "duration": 10,
    "start_time": "2022-12-15T08:42:34.552Z"
   },
   {
    "duration": 10,
    "start_time": "2022-12-15T08:42:34.564Z"
   },
   {
    "duration": 13,
    "start_time": "2022-12-15T08:42:34.614Z"
   },
   {
    "duration": 12,
    "start_time": "2022-12-15T08:42:34.629Z"
   },
   {
    "duration": 193,
    "start_time": "2022-12-15T08:42:34.643Z"
   },
   {
    "duration": 175,
    "start_time": "2022-12-15T08:42:34.838Z"
   },
   {
    "duration": 233,
    "start_time": "2022-12-15T08:42:35.014Z"
   },
   {
    "duration": 564,
    "start_time": "2022-12-15T08:42:35.249Z"
   },
   {
    "duration": 6,
    "start_time": "2022-12-15T08:42:35.816Z"
   },
   {
    "duration": 392,
    "start_time": "2022-12-15T08:42:35.823Z"
   },
   {
    "duration": 3,
    "start_time": "2022-12-15T08:42:36.217Z"
   },
   {
    "duration": 13,
    "start_time": "2022-12-15T08:42:36.222Z"
   },
   {
    "duration": 8,
    "start_time": "2022-12-15T08:42:36.237Z"
   },
   {
    "duration": 20,
    "start_time": "2022-12-15T08:42:36.247Z"
   },
   {
    "duration": 8,
    "start_time": "2022-12-15T08:42:36.269Z"
   },
   {
    "duration": 10,
    "start_time": "2022-12-15T08:42:36.279Z"
   },
   {
    "duration": 53,
    "start_time": "2022-12-15T08:42:36.290Z"
   },
   {
    "duration": 3,
    "start_time": "2022-12-15T08:42:36.345Z"
   },
   {
    "duration": 2169,
    "start_time": "2022-12-15T08:42:36.350Z"
   },
   {
    "duration": 4284,
    "start_time": "2022-12-15T08:42:38.521Z"
   },
   {
    "duration": 240548,
    "start_time": "2022-12-15T08:42:42.806Z"
   },
   {
    "duration": 16,
    "start_time": "2022-12-15T08:46:43.356Z"
   },
   {
    "duration": 21,
    "start_time": "2022-12-15T08:46:43.374Z"
   },
   {
    "duration": 364,
    "start_time": "2022-12-15T08:46:43.412Z"
   },
   {
    "duration": 0,
    "start_time": "2022-12-15T08:46:43.778Z"
   },
   {
    "duration": 1031,
    "start_time": "2022-12-15T08:48:41.170Z"
   },
   {
    "duration": 4,
    "start_time": "2022-12-15T08:48:51.940Z"
   },
   {
    "duration": 1846,
    "start_time": "2022-12-15T11:58:48.407Z"
   },
   {
    "duration": 2680,
    "start_time": "2022-12-15T11:58:50.256Z"
   },
   {
    "duration": 22,
    "start_time": "2022-12-15T11:58:52.938Z"
   },
   {
    "duration": 17,
    "start_time": "2022-12-15T11:58:52.962Z"
   },
   {
    "duration": 14,
    "start_time": "2022-12-15T11:58:52.981Z"
   },
   {
    "duration": 256,
    "start_time": "2022-12-15T11:58:52.998Z"
   },
   {
    "duration": 140,
    "start_time": "2022-12-15T11:58:53.256Z"
   },
   {
    "duration": 261,
    "start_time": "2022-12-15T11:58:53.398Z"
   },
   {
    "duration": 99,
    "start_time": "2022-12-15T11:58:53.661Z"
   },
   {
    "duration": 139,
    "start_time": "2022-12-15T11:58:53.762Z"
   },
   {
    "duration": 24,
    "start_time": "2022-12-15T11:58:53.902Z"
   },
   {
    "duration": 86,
    "start_time": "2022-12-15T11:58:53.928Z"
   },
   {
    "duration": 24,
    "start_time": "2022-12-15T11:58:54.015Z"
   },
   {
    "duration": 17,
    "start_time": "2022-12-15T11:58:54.040Z"
   },
   {
    "duration": 8,
    "start_time": "2022-12-15T11:58:54.078Z"
   },
   {
    "duration": 20,
    "start_time": "2022-12-15T11:58:54.088Z"
   },
   {
    "duration": 13,
    "start_time": "2022-12-15T11:58:54.110Z"
   },
   {
    "duration": 54,
    "start_time": "2022-12-15T11:58:54.124Z"
   },
   {
    "duration": 21,
    "start_time": "2022-12-15T11:58:54.180Z"
   },
   {
    "duration": 9,
    "start_time": "2022-12-15T11:58:54.202Z"
   },
   {
    "duration": 10,
    "start_time": "2022-12-15T11:58:54.213Z"
   },
   {
    "duration": 13,
    "start_time": "2022-12-15T11:58:54.225Z"
   },
   {
    "duration": 14,
    "start_time": "2022-12-15T11:58:54.277Z"
   },
   {
    "duration": 171,
    "start_time": "2022-12-15T11:58:54.293Z"
   },
   {
    "duration": 248,
    "start_time": "2022-12-15T11:58:54.466Z"
   },
   {
    "duration": 167,
    "start_time": "2022-12-15T11:58:54.716Z"
   },
   {
    "duration": 584,
    "start_time": "2022-12-15T11:58:54.887Z"
   },
   {
    "duration": 7,
    "start_time": "2022-12-15T11:58:55.475Z"
   },
   {
    "duration": 462,
    "start_time": "2022-12-15T11:58:55.483Z"
   },
   {
    "duration": 4,
    "start_time": "2022-12-15T11:58:55.948Z"
   },
   {
    "duration": 19,
    "start_time": "2022-12-15T11:58:55.954Z"
   },
   {
    "duration": 11,
    "start_time": "2022-12-15T11:58:55.977Z"
   },
   {
    "duration": 26,
    "start_time": "2022-12-15T11:58:55.992Z"
   },
   {
    "duration": 13,
    "start_time": "2022-12-15T11:58:56.020Z"
   },
   {
    "duration": 9,
    "start_time": "2022-12-15T11:58:56.035Z"
   },
   {
    "duration": 51,
    "start_time": "2022-12-15T11:58:56.047Z"
   },
   {
    "duration": 5,
    "start_time": "2022-12-15T11:58:56.100Z"
   },
   {
    "duration": 2776,
    "start_time": "2022-12-15T11:58:56.107Z"
   },
   {
    "duration": 4781,
    "start_time": "2022-12-15T11:58:58.885Z"
   },
   {
    "duration": 280564,
    "start_time": "2022-12-15T11:59:03.669Z"
   },
   {
    "duration": 21,
    "start_time": "2022-12-15T12:03:44.235Z"
   },
   {
    "duration": 35,
    "start_time": "2022-12-15T12:03:44.259Z"
   },
   {
    "duration": 1198,
    "start_time": "2022-12-15T12:03:44.296Z"
   },
   {
    "duration": 5,
    "start_time": "2022-12-15T12:03:45.496Z"
   },
   {
    "duration": 7,
    "start_time": "2022-12-15T12:31:54.358Z"
   },
   {
    "duration": 6,
    "start_time": "2022-12-15T12:32:24.197Z"
   },
   {
    "duration": 52,
    "start_time": "2022-12-15T13:38:30.983Z"
   },
   {
    "duration": 7,
    "start_time": "2022-12-15T13:38:35.439Z"
   },
   {
    "duration": 1795,
    "start_time": "2022-12-15T13:38:45.375Z"
   },
   {
    "duration": 2148,
    "start_time": "2022-12-15T13:38:47.173Z"
   },
   {
    "duration": 22,
    "start_time": "2022-12-15T13:38:49.323Z"
   },
   {
    "duration": 19,
    "start_time": "2022-12-15T13:38:49.347Z"
   },
   {
    "duration": 13,
    "start_time": "2022-12-15T13:38:49.368Z"
   },
   {
    "duration": 275,
    "start_time": "2022-12-15T13:38:49.383Z"
   },
   {
    "duration": 170,
    "start_time": "2022-12-15T13:38:49.660Z"
   },
   {
    "duration": 287,
    "start_time": "2022-12-15T13:38:49.832Z"
   },
   {
    "duration": 114,
    "start_time": "2022-12-15T13:38:50.121Z"
   },
   {
    "duration": 136,
    "start_time": "2022-12-15T13:38:50.238Z"
   },
   {
    "duration": 23,
    "start_time": "2022-12-15T13:38:50.376Z"
   },
   {
    "duration": 80,
    "start_time": "2022-12-15T13:38:50.401Z"
   },
   {
    "duration": 25,
    "start_time": "2022-12-15T13:38:50.483Z"
   },
   {
    "duration": 41,
    "start_time": "2022-12-15T13:38:50.510Z"
   },
   {
    "duration": 10,
    "start_time": "2022-12-15T13:38:50.553Z"
   },
   {
    "duration": 19,
    "start_time": "2022-12-15T13:38:50.565Z"
   },
   {
    "duration": 17,
    "start_time": "2022-12-15T13:38:50.586Z"
   },
   {
    "duration": 55,
    "start_time": "2022-12-15T13:38:50.605Z"
   },
   {
    "duration": 5,
    "start_time": "2022-12-15T13:38:50.662Z"
   },
   {
    "duration": 29,
    "start_time": "2022-12-15T13:38:50.669Z"
   },
   {
    "duration": 7,
    "start_time": "2022-12-15T13:38:50.700Z"
   },
   {
    "duration": 166,
    "start_time": "2022-12-15T13:38:50.709Z"
   },
   {
    "duration": 0,
    "start_time": "2022-12-15T13:38:50.878Z"
   },
   {
    "duration": 0,
    "start_time": "2022-12-15T13:38:50.880Z"
   },
   {
    "duration": 0,
    "start_time": "2022-12-15T13:38:50.881Z"
   },
   {
    "duration": 0,
    "start_time": "2022-12-15T13:38:50.882Z"
   },
   {
    "duration": 0,
    "start_time": "2022-12-15T13:38:50.883Z"
   },
   {
    "duration": 0,
    "start_time": "2022-12-15T13:38:50.884Z"
   },
   {
    "duration": 0,
    "start_time": "2022-12-15T13:38:50.885Z"
   },
   {
    "duration": 0,
    "start_time": "2022-12-15T13:38:50.887Z"
   },
   {
    "duration": 0,
    "start_time": "2022-12-15T13:38:50.888Z"
   },
   {
    "duration": 0,
    "start_time": "2022-12-15T13:38:50.890Z"
   },
   {
    "duration": 0,
    "start_time": "2022-12-15T13:38:50.891Z"
   },
   {
    "duration": 0,
    "start_time": "2022-12-15T13:38:50.892Z"
   },
   {
    "duration": 0,
    "start_time": "2022-12-15T13:38:50.893Z"
   },
   {
    "duration": 0,
    "start_time": "2022-12-15T13:38:50.895Z"
   },
   {
    "duration": 0,
    "start_time": "2022-12-15T13:38:50.896Z"
   },
   {
    "duration": 0,
    "start_time": "2022-12-15T13:38:50.897Z"
   },
   {
    "duration": 0,
    "start_time": "2022-12-15T13:38:50.898Z"
   },
   {
    "duration": 0,
    "start_time": "2022-12-15T13:38:50.900Z"
   },
   {
    "duration": 0,
    "start_time": "2022-12-15T13:38:50.901Z"
   },
   {
    "duration": 0,
    "start_time": "2022-12-15T13:38:50.902Z"
   },
   {
    "duration": 0,
    "start_time": "2022-12-15T13:38:50.903Z"
   },
   {
    "duration": 0,
    "start_time": "2022-12-15T13:38:50.905Z"
   },
   {
    "duration": 0,
    "start_time": "2022-12-15T13:38:50.906Z"
   },
   {
    "duration": 0,
    "start_time": "2022-12-15T13:38:50.951Z"
   },
   {
    "duration": 14,
    "start_time": "2022-12-15T13:40:05.997Z"
   },
   {
    "duration": 36,
    "start_time": "2022-12-15T13:41:49.372Z"
   },
   {
    "duration": 18,
    "start_time": "2022-12-15T13:43:11.278Z"
   },
   {
    "duration": 11,
    "start_time": "2022-12-15T13:45:03.720Z"
   },
   {
    "duration": 28,
    "start_time": "2022-12-15T13:50:06.354Z"
   },
   {
    "duration": 12,
    "start_time": "2022-12-15T13:50:28.561Z"
   },
   {
    "duration": 787,
    "start_time": "2022-12-15T14:01:08.302Z"
   },
   {
    "duration": 1566,
    "start_time": "2022-12-15T14:01:14.852Z"
   },
   {
    "duration": 805,
    "start_time": "2022-12-15T14:01:16.420Z"
   },
   {
    "duration": 27,
    "start_time": "2022-12-15T14:01:17.227Z"
   },
   {
    "duration": 17,
    "start_time": "2022-12-15T14:01:17.256Z"
   },
   {
    "duration": 14,
    "start_time": "2022-12-15T14:01:17.276Z"
   },
   {
    "duration": 271,
    "start_time": "2022-12-15T14:01:17.292Z"
   },
   {
    "duration": 136,
    "start_time": "2022-12-15T14:01:17.565Z"
   },
   {
    "duration": 284,
    "start_time": "2022-12-15T14:01:17.703Z"
   },
   {
    "duration": 116,
    "start_time": "2022-12-15T14:01:17.989Z"
   },
   {
    "duration": 148,
    "start_time": "2022-12-15T14:01:18.108Z"
   },
   {
    "duration": 24,
    "start_time": "2022-12-15T14:01:18.258Z"
   },
   {
    "duration": 77,
    "start_time": "2022-12-15T14:01:18.284Z"
   },
   {
    "duration": 22,
    "start_time": "2022-12-15T14:01:18.363Z"
   },
   {
    "duration": 17,
    "start_time": "2022-12-15T14:01:18.387Z"
   },
   {
    "duration": 9,
    "start_time": "2022-12-15T14:01:18.406Z"
   },
   {
    "duration": 45,
    "start_time": "2022-12-15T14:01:18.417Z"
   },
   {
    "duration": 151,
    "start_time": "2022-12-15T14:01:18.464Z"
   },
   {
    "duration": 0,
    "start_time": "2022-12-15T14:01:18.618Z"
   },
   {
    "duration": 0,
    "start_time": "2022-12-15T14:01:18.620Z"
   },
   {
    "duration": 0,
    "start_time": "2022-12-15T14:01:18.621Z"
   },
   {
    "duration": 0,
    "start_time": "2022-12-15T14:01:18.623Z"
   },
   {
    "duration": 0,
    "start_time": "2022-12-15T14:01:18.624Z"
   },
   {
    "duration": 0,
    "start_time": "2022-12-15T14:01:18.626Z"
   },
   {
    "duration": 0,
    "start_time": "2022-12-15T14:01:18.650Z"
   },
   {
    "duration": 0,
    "start_time": "2022-12-15T14:01:18.652Z"
   },
   {
    "duration": 0,
    "start_time": "2022-12-15T14:01:18.653Z"
   },
   {
    "duration": 0,
    "start_time": "2022-12-15T14:01:18.655Z"
   },
   {
    "duration": 0,
    "start_time": "2022-12-15T14:01:18.656Z"
   },
   {
    "duration": 0,
    "start_time": "2022-12-15T14:01:18.658Z"
   },
   {
    "duration": 0,
    "start_time": "2022-12-15T14:01:18.659Z"
   },
   {
    "duration": 0,
    "start_time": "2022-12-15T14:01:18.661Z"
   },
   {
    "duration": 0,
    "start_time": "2022-12-15T14:01:18.664Z"
   },
   {
    "duration": 0,
    "start_time": "2022-12-15T14:01:18.665Z"
   },
   {
    "duration": 0,
    "start_time": "2022-12-15T14:01:18.666Z"
   },
   {
    "duration": 0,
    "start_time": "2022-12-15T14:01:18.668Z"
   },
   {
    "duration": 0,
    "start_time": "2022-12-15T14:01:18.669Z"
   },
   {
    "duration": 0,
    "start_time": "2022-12-15T14:01:18.671Z"
   },
   {
    "duration": 0,
    "start_time": "2022-12-15T14:01:18.673Z"
   },
   {
    "duration": 0,
    "start_time": "2022-12-15T14:01:18.674Z"
   },
   {
    "duration": 0,
    "start_time": "2022-12-15T14:01:18.677Z"
   },
   {
    "duration": 0,
    "start_time": "2022-12-15T14:01:18.678Z"
   },
   {
    "duration": 0,
    "start_time": "2022-12-15T14:01:18.679Z"
   },
   {
    "duration": 0,
    "start_time": "2022-12-15T14:01:18.681Z"
   },
   {
    "duration": 0,
    "start_time": "2022-12-15T14:01:18.683Z"
   },
   {
    "duration": 0,
    "start_time": "2022-12-15T14:01:18.684Z"
   },
   {
    "duration": 0,
    "start_time": "2022-12-15T14:01:18.686Z"
   },
   {
    "duration": 0,
    "start_time": "2022-12-15T14:01:18.687Z"
   },
   {
    "duration": 0,
    "start_time": "2022-12-15T14:01:18.751Z"
   },
   {
    "duration": 0,
    "start_time": "2022-12-15T14:01:18.753Z"
   },
   {
    "duration": 25,
    "start_time": "2022-12-15T14:03:35.185Z"
   },
   {
    "duration": 11,
    "start_time": "2022-12-15T14:03:36.917Z"
   },
   {
    "duration": 18,
    "start_time": "2022-12-15T14:03:51.763Z"
   },
   {
    "duration": 17,
    "start_time": "2022-12-15T14:08:12.399Z"
   },
   {
    "duration": 22,
    "start_time": "2022-12-15T14:08:46.238Z"
   },
   {
    "duration": 13,
    "start_time": "2022-12-15T14:09:04.078Z"
   },
   {
    "duration": 18,
    "start_time": "2022-12-15T14:09:17.763Z"
   },
   {
    "duration": 934,
    "start_time": "2022-12-15T14:09:31.909Z"
   },
   {
    "duration": 18,
    "start_time": "2022-12-15T14:09:34.393Z"
   },
   {
    "duration": 25,
    "start_time": "2022-12-15T14:09:49.210Z"
   },
   {
    "duration": 15,
    "start_time": "2022-12-15T14:09:50.405Z"
   },
   {
    "duration": 258,
    "start_time": "2022-12-15T14:09:53.720Z"
   },
   {
    "duration": 137,
    "start_time": "2022-12-15T14:09:53.980Z"
   },
   {
    "duration": 372,
    "start_time": "2022-12-15T14:09:54.119Z"
   },
   {
    "duration": 112,
    "start_time": "2022-12-15T14:09:54.493Z"
   },
   {
    "duration": 133,
    "start_time": "2022-12-15T14:09:54.606Z"
   },
   {
    "duration": 38,
    "start_time": "2022-12-15T14:09:54.741Z"
   },
   {
    "duration": 31,
    "start_time": "2022-12-15T14:09:56.647Z"
   },
   {
    "duration": 30,
    "start_time": "2022-12-15T14:09:56.836Z"
   },
   {
    "duration": 17,
    "start_time": "2022-12-15T14:10:00.124Z"
   },
   {
    "duration": 8,
    "start_time": "2022-12-15T14:10:03.831Z"
   },
   {
    "duration": 36,
    "start_time": "2022-12-15T14:10:08.757Z"
   },
   {
    "duration": 18,
    "start_time": "2022-12-15T14:10:13.498Z"
   },
   {
    "duration": 20,
    "start_time": "2022-12-15T14:10:18.625Z"
   },
   {
    "duration": 14,
    "start_time": "2022-12-15T14:10:29.945Z"
   },
   {
    "duration": 32,
    "start_time": "2022-12-15T14:10:36.182Z"
   },
   {
    "duration": 11,
    "start_time": "2022-12-15T14:10:36.932Z"
   },
   {
    "duration": 14,
    "start_time": "2022-12-15T14:11:07.200Z"
   },
   {
    "duration": 17,
    "start_time": "2022-12-15T14:11:15.011Z"
   },
   {
    "duration": 14,
    "start_time": "2022-12-15T14:11:33.027Z"
   },
   {
    "duration": 17,
    "start_time": "2022-12-15T14:11:45.680Z"
   },
   {
    "duration": 96,
    "start_time": "2022-12-15T14:11:54.836Z"
   },
   {
    "duration": 117,
    "start_time": "2022-12-15T14:11:55.497Z"
   },
   {
    "duration": 25,
    "start_time": "2022-12-15T14:11:56.254Z"
   },
   {
    "duration": 23,
    "start_time": "2022-12-15T14:12:01.398Z"
   },
   {
    "duration": 23,
    "start_time": "2022-12-15T14:12:02.670Z"
   },
   {
    "duration": 18,
    "start_time": "2022-12-15T14:12:06.620Z"
   },
   {
    "duration": 12,
    "start_time": "2022-12-15T14:12:38.172Z"
   },
   {
    "duration": 16,
    "start_time": "2022-12-15T14:12:51.049Z"
   },
   {
    "duration": 783,
    "start_time": "2022-12-15T14:12:59.410Z"
   },
   {
    "duration": 21,
    "start_time": "2022-12-15T14:13:01.346Z"
   },
   {
    "duration": 18,
    "start_time": "2022-12-15T14:13:18.795Z"
   },
   {
    "duration": 15,
    "start_time": "2022-12-15T14:13:20.049Z"
   },
   {
    "duration": 290,
    "start_time": "2022-12-15T14:13:25.442Z"
   },
   {
    "duration": 119,
    "start_time": "2022-12-15T14:13:26.690Z"
   },
   {
    "duration": 244,
    "start_time": "2022-12-15T14:13:27.772Z"
   },
   {
    "duration": 98,
    "start_time": "2022-12-15T14:13:31.054Z"
   },
   {
    "duration": 122,
    "start_time": "2022-12-15T14:13:31.927Z"
   },
   {
    "duration": 22,
    "start_time": "2022-12-15T14:13:32.254Z"
   },
   {
    "duration": 24,
    "start_time": "2022-12-15T14:13:34.867Z"
   },
   {
    "duration": 27,
    "start_time": "2022-12-15T14:13:40.457Z"
   },
   {
    "duration": 23,
    "start_time": "2022-12-15T14:13:41.436Z"
   },
   {
    "duration": 8,
    "start_time": "2022-12-15T14:13:44.211Z"
   },
   {
    "duration": 16,
    "start_time": "2022-12-15T14:13:52.707Z"
   },
   {
    "duration": 12,
    "start_time": "2022-12-15T14:13:58.981Z"
   },
   {
    "duration": 16,
    "start_time": "2022-12-15T14:14:12.634Z"
   },
   {
    "duration": 15,
    "start_time": "2022-12-15T14:14:18.973Z"
   },
   {
    "duration": 18,
    "start_time": "2022-12-15T14:14:24.764Z"
   },
   {
    "duration": 22,
    "start_time": "2022-12-15T14:15:11.921Z"
   },
   {
    "duration": 8,
    "start_time": "2022-12-15T14:15:48.743Z"
   },
   {
    "duration": 15,
    "start_time": "2022-12-15T14:16:30.698Z"
   },
   {
    "duration": 10,
    "start_time": "2022-12-15T14:16:36.471Z"
   },
   {
    "duration": 745,
    "start_time": "2022-12-15T14:16:58.176Z"
   },
   {
    "duration": 20,
    "start_time": "2022-12-15T14:17:00.435Z"
   },
   {
    "duration": 17,
    "start_time": "2022-12-15T14:17:04.596Z"
   },
   {
    "duration": 16,
    "start_time": "2022-12-15T14:17:05.782Z"
   },
   {
    "duration": 251,
    "start_time": "2022-12-15T14:17:16.876Z"
   },
   {
    "duration": 128,
    "start_time": "2022-12-15T14:17:23.390Z"
   },
   {
    "duration": 820,
    "start_time": "2022-12-15T14:18:37.059Z"
   },
   {
    "duration": 23,
    "start_time": "2022-12-15T14:18:39.466Z"
   },
   {
    "duration": 17,
    "start_time": "2022-12-15T14:18:44.491Z"
   },
   {
    "duration": 14,
    "start_time": "2022-12-15T14:18:45.524Z"
   },
   {
    "duration": 239,
    "start_time": "2022-12-15T14:18:48.564Z"
   },
   {
    "duration": 148,
    "start_time": "2022-12-15T14:18:49.856Z"
   },
   {
    "duration": 289,
    "start_time": "2022-12-15T14:18:50.711Z"
   },
   {
    "duration": 112,
    "start_time": "2022-12-15T14:18:51.002Z"
   },
   {
    "duration": 134,
    "start_time": "2022-12-15T14:18:51.687Z"
   },
   {
    "duration": 29,
    "start_time": "2022-12-15T14:18:52.637Z"
   },
   {
    "duration": 23,
    "start_time": "2022-12-15T14:18:55.422Z"
   },
   {
    "duration": 20,
    "start_time": "2022-12-15T14:18:56.591Z"
   },
   {
    "duration": 17,
    "start_time": "2022-12-15T14:19:08.916Z"
   },
   {
    "duration": 9,
    "start_time": "2022-12-15T14:19:13.258Z"
   },
   {
    "duration": 16,
    "start_time": "2022-12-15T14:19:18.332Z"
   },
   {
    "duration": 13,
    "start_time": "2022-12-15T14:19:25.906Z"
   },
   {
    "duration": 20,
    "start_time": "2022-12-15T14:19:52.879Z"
   },
   {
    "duration": 15,
    "start_time": "2022-12-15T14:20:03.332Z"
   },
   {
    "duration": 18,
    "start_time": "2022-12-15T14:20:07.173Z"
   },
   {
    "duration": 16,
    "start_time": "2022-12-15T14:20:13.941Z"
   },
   {
    "duration": 8,
    "start_time": "2022-12-15T14:20:26.517Z"
   },
   {
    "duration": 19,
    "start_time": "2022-12-15T14:23:53.837Z"
   },
   {
    "duration": 13,
    "start_time": "2022-12-15T14:23:59.213Z"
   },
   {
    "duration": 6,
    "start_time": "2022-12-15T14:24:09.912Z"
   },
   {
    "duration": 821,
    "start_time": "2022-12-15T14:24:10.467Z"
   },
   {
    "duration": 20,
    "start_time": "2022-12-15T14:24:12.297Z"
   },
   {
    "duration": 24,
    "start_time": "2022-12-15T14:24:13.164Z"
   },
   {
    "duration": 19,
    "start_time": "2022-12-15T14:24:13.350Z"
   },
   {
    "duration": 261,
    "start_time": "2022-12-15T14:24:13.859Z"
   },
   {
    "duration": 141,
    "start_time": "2022-12-15T14:24:14.152Z"
   },
   {
    "duration": 284,
    "start_time": "2022-12-15T14:24:14.346Z"
   },
   {
    "duration": 118,
    "start_time": "2022-12-15T14:24:14.745Z"
   },
   {
    "duration": 132,
    "start_time": "2022-12-15T14:24:15.515Z"
   },
   {
    "duration": 27,
    "start_time": "2022-12-15T14:24:15.674Z"
   },
   {
    "duration": 31,
    "start_time": "2022-12-15T14:24:16.165Z"
   },
   {
    "duration": 27,
    "start_time": "2022-12-15T14:24:16.835Z"
   },
   {
    "duration": 19,
    "start_time": "2022-12-15T14:24:17.575Z"
   },
   {
    "duration": 8,
    "start_time": "2022-12-15T14:24:23.221Z"
   },
   {
    "duration": 16,
    "start_time": "2022-12-15T14:24:27.529Z"
   },
   {
    "duration": 13,
    "start_time": "2022-12-15T14:24:30.033Z"
   },
   {
    "duration": 18,
    "start_time": "2022-12-15T14:24:34.622Z"
   },
   {
    "duration": 15,
    "start_time": "2022-12-15T14:24:36.635Z"
   },
   {
    "duration": 15,
    "start_time": "2022-12-15T14:24:40.625Z"
   },
   {
    "duration": 16,
    "start_time": "2022-12-15T14:24:45.737Z"
   },
   {
    "duration": 10,
    "start_time": "2022-12-15T14:24:50.313Z"
   },
   {
    "duration": 79,
    "start_time": "2022-12-15T14:25:49.142Z"
   },
   {
    "duration": 34,
    "start_time": "2022-12-15T14:26:00.138Z"
   },
   {
    "duration": 12,
    "start_time": "2022-12-15T14:26:27.351Z"
   },
   {
    "duration": 14,
    "start_time": "2022-12-15T14:26:32.424Z"
   },
   {
    "duration": 12,
    "start_time": "2022-12-15T14:26:39.972Z"
   },
   {
    "duration": 8,
    "start_time": "2022-12-15T14:26:47.295Z"
   },
   {
    "duration": 24,
    "start_time": "2022-12-15T14:28:54.760Z"
   },
   {
    "duration": 197,
    "start_time": "2022-12-15T14:31:12.294Z"
   },
   {
    "duration": 171,
    "start_time": "2022-12-15T14:31:37.496Z"
   },
   {
    "duration": 188,
    "start_time": "2022-12-15T14:33:02.773Z"
   },
   {
    "duration": 716,
    "start_time": "2022-12-15T14:34:18.120Z"
   },
   {
    "duration": 8,
    "start_time": "2022-12-15T14:34:25.100Z"
   },
   {
    "duration": 574,
    "start_time": "2022-12-15T14:35:11.147Z"
   },
   {
    "duration": 37,
    "start_time": "2022-12-15T14:35:14.427Z"
   },
   {
    "duration": 401,
    "start_time": "2022-12-15T14:35:16.706Z"
   },
   {
    "duration": 4,
    "start_time": "2022-12-15T14:41:47.961Z"
   },
   {
    "duration": 81,
    "start_time": "2022-12-15T14:42:15.055Z"
   },
   {
    "duration": 9,
    "start_time": "2022-12-15T14:42:50.033Z"
   },
   {
    "duration": 7,
    "start_time": "2022-12-15T14:43:04.698Z"
   },
   {
    "duration": 4,
    "start_time": "2022-12-15T14:43:06.056Z"
   },
   {
    "duration": 8,
    "start_time": "2022-12-15T14:43:25.824Z"
   },
   {
    "duration": 4,
    "start_time": "2022-12-15T14:43:26.782Z"
   },
   {
    "duration": 16,
    "start_time": "2022-12-15T14:43:28.173Z"
   },
   {
    "duration": 1554,
    "start_time": "2022-12-16T08:41:04.874Z"
   },
   {
    "duration": 2011,
    "start_time": "2022-12-16T08:41:06.430Z"
   },
   {
    "duration": 19,
    "start_time": "2022-12-16T08:41:08.443Z"
   },
   {
    "duration": 16,
    "start_time": "2022-12-16T08:41:08.463Z"
   },
   {
    "duration": 12,
    "start_time": "2022-12-16T08:41:08.481Z"
   },
   {
    "duration": 240,
    "start_time": "2022-12-16T08:41:08.494Z"
   },
   {
    "duration": 125,
    "start_time": "2022-12-16T08:41:08.736Z"
   },
   {
    "duration": 248,
    "start_time": "2022-12-16T08:41:08.863Z"
   },
   {
    "duration": 90,
    "start_time": "2022-12-16T08:41:09.113Z"
   },
   {
    "duration": 114,
    "start_time": "2022-12-16T08:41:09.214Z"
   },
   {
    "duration": 20,
    "start_time": "2022-12-16T08:41:09.329Z"
   },
   {
    "duration": 75,
    "start_time": "2022-12-16T08:41:09.350Z"
   },
   {
    "duration": 19,
    "start_time": "2022-12-16T08:41:09.426Z"
   },
   {
    "duration": 14,
    "start_time": "2022-12-16T08:41:09.447Z"
   },
   {
    "duration": 7,
    "start_time": "2022-12-16T08:41:09.463Z"
   },
   {
    "duration": 43,
    "start_time": "2022-12-16T08:41:09.471Z"
   },
   {
    "duration": 13,
    "start_time": "2022-12-16T08:41:09.515Z"
   },
   {
    "duration": 16,
    "start_time": "2022-12-16T08:41:09.530Z"
   },
   {
    "duration": 16,
    "start_time": "2022-12-16T08:41:09.548Z"
   },
   {
    "duration": 12,
    "start_time": "2022-12-16T08:41:09.566Z"
   },
   {
    "duration": 43,
    "start_time": "2022-12-16T08:41:09.580Z"
   },
   {
    "duration": 7,
    "start_time": "2022-12-16T08:41:09.625Z"
   },
   {
    "duration": 251,
    "start_time": "2022-12-16T08:41:09.634Z"
   },
   {
    "duration": 167,
    "start_time": "2022-12-16T08:41:09.887Z"
   },
   {
    "duration": 189,
    "start_time": "2022-12-16T08:41:10.056Z"
   },
   {
    "duration": 570,
    "start_time": "2022-12-16T08:41:10.247Z"
   },
   {
    "duration": 6,
    "start_time": "2022-12-16T08:41:10.819Z"
   },
   {
    "duration": 384,
    "start_time": "2022-12-16T08:41:10.828Z"
   },
   {
    "duration": 3,
    "start_time": "2022-12-16T08:41:11.214Z"
   },
   {
    "duration": 6,
    "start_time": "2022-12-16T08:41:11.219Z"
   },
   {
    "duration": 10,
    "start_time": "2022-12-16T08:41:11.227Z"
   },
   {
    "duration": 8,
    "start_time": "2022-12-16T08:41:11.239Z"
   },
   {
    "duration": 121,
    "start_time": "2022-12-16T08:41:11.249Z"
   },
   {
    "duration": 0,
    "start_time": "2022-12-16T08:41:11.371Z"
   },
   {
    "duration": 0,
    "start_time": "2022-12-16T08:41:11.373Z"
   },
   {
    "duration": 0,
    "start_time": "2022-12-16T08:41:11.374Z"
   },
   {
    "duration": 0,
    "start_time": "2022-12-16T08:41:11.374Z"
   },
   {
    "duration": 0,
    "start_time": "2022-12-16T08:41:11.375Z"
   },
   {
    "duration": 0,
    "start_time": "2022-12-16T08:41:11.376Z"
   },
   {
    "duration": 0,
    "start_time": "2022-12-16T08:41:11.377Z"
   },
   {
    "duration": 0,
    "start_time": "2022-12-16T08:41:11.378Z"
   },
   {
    "duration": 0,
    "start_time": "2022-12-16T08:41:11.380Z"
   },
   {
    "duration": 1,
    "start_time": "2022-12-16T08:41:11.380Z"
   },
   {
    "duration": 4,
    "start_time": "2022-12-16T08:46:05.656Z"
   },
   {
    "duration": 13,
    "start_time": "2022-12-16T08:46:10.383Z"
   },
   {
    "duration": 4,
    "start_time": "2022-12-16T08:46:12.398Z"
   },
   {
    "duration": 32,
    "start_time": "2022-12-16T08:48:33.783Z"
   },
   {
    "duration": 19,
    "start_time": "2022-12-16T08:48:42.083Z"
   },
   {
    "duration": 4,
    "start_time": "2022-12-16T08:49:18.007Z"
   },
   {
    "duration": 19,
    "start_time": "2022-12-16T08:49:18.794Z"
   },
   {
    "duration": 4,
    "start_time": "2022-12-16T08:56:56.670Z"
   },
   {
    "duration": 17,
    "start_time": "2022-12-16T09:13:17.538Z"
   },
   {
    "duration": 17,
    "start_time": "2022-12-16T09:14:01.191Z"
   },
   {
    "duration": 4,
    "start_time": "2022-12-16T09:20:53.378Z"
   },
   {
    "duration": 3,
    "start_time": "2022-12-16T09:20:58.355Z"
   },
   {
    "duration": 3,
    "start_time": "2022-12-16T09:20:59.001Z"
   },
   {
    "duration": 3,
    "start_time": "2022-12-16T09:21:04.967Z"
   },
   {
    "duration": 1758,
    "start_time": "2022-12-16T09:21:20.255Z"
   },
   {
    "duration": 2,
    "start_time": "2022-12-16T09:21:25.938Z"
   },
   {
    "duration": 4065,
    "start_time": "2022-12-16T09:21:45.021Z"
   },
   {
    "duration": 236023,
    "start_time": "2022-12-16T09:21:49.089Z"
   },
   {
    "duration": 76,
    "start_time": "2022-12-16T09:38:21.964Z"
   },
   {
    "duration": 71,
    "start_time": "2022-12-16T09:38:50.087Z"
   },
   {
    "duration": 11,
    "start_time": "2022-12-16T09:39:17.871Z"
   },
   {
    "duration": 1375,
    "start_time": "2022-12-16T09:39:34.726Z"
   },
   {
    "duration": 666,
    "start_time": "2022-12-16T09:39:36.103Z"
   },
   {
    "duration": 16,
    "start_time": "2022-12-16T09:39:36.771Z"
   },
   {
    "duration": 25,
    "start_time": "2022-12-16T09:39:36.789Z"
   },
   {
    "duration": 12,
    "start_time": "2022-12-16T09:39:36.815Z"
   },
   {
    "duration": 232,
    "start_time": "2022-12-16T09:39:36.829Z"
   },
   {
    "duration": 116,
    "start_time": "2022-12-16T09:39:37.062Z"
   },
   {
    "duration": 226,
    "start_time": "2022-12-16T09:39:37.179Z"
   },
   {
    "duration": 91,
    "start_time": "2022-12-16T09:39:37.406Z"
   },
   {
    "duration": 116,
    "start_time": "2022-12-16T09:39:37.500Z"
   },
   {
    "duration": 20,
    "start_time": "2022-12-16T09:39:37.617Z"
   },
   {
    "duration": 57,
    "start_time": "2022-12-16T09:39:37.638Z"
   },
   {
    "duration": 18,
    "start_time": "2022-12-16T09:39:37.714Z"
   },
   {
    "duration": 14,
    "start_time": "2022-12-16T09:39:37.734Z"
   },
   {
    "duration": 7,
    "start_time": "2022-12-16T09:39:37.749Z"
   },
   {
    "duration": 15,
    "start_time": "2022-12-16T09:39:37.757Z"
   },
   {
    "duration": 41,
    "start_time": "2022-12-16T09:39:37.774Z"
   },
   {
    "duration": 16,
    "start_time": "2022-12-16T09:39:37.817Z"
   },
   {
    "duration": 16,
    "start_time": "2022-12-16T09:39:37.835Z"
   },
   {
    "duration": 12,
    "start_time": "2022-12-16T09:39:37.852Z"
   },
   {
    "duration": 13,
    "start_time": "2022-12-16T09:39:37.865Z"
   },
   {
    "duration": 8,
    "start_time": "2022-12-16T09:39:37.912Z"
   },
   {
    "duration": 175,
    "start_time": "2022-12-16T09:39:37.921Z"
   },
   {
    "duration": 241,
    "start_time": "2022-12-16T09:39:38.099Z"
   },
   {
    "duration": 167,
    "start_time": "2022-12-16T09:39:38.341Z"
   },
   {
    "duration": 525,
    "start_time": "2022-12-16T09:39:38.509Z"
   },
   {
    "duration": 6,
    "start_time": "2022-12-16T09:39:39.036Z"
   },
   {
    "duration": 388,
    "start_time": "2022-12-16T09:39:39.045Z"
   },
   {
    "duration": 3,
    "start_time": "2022-12-16T09:39:39.435Z"
   },
   {
    "duration": 5,
    "start_time": "2022-12-16T09:39:39.439Z"
   },
   {
    "duration": 10,
    "start_time": "2022-12-16T09:39:39.446Z"
   },
   {
    "duration": 5,
    "start_time": "2022-12-16T09:39:39.458Z"
   },
   {
    "duration": 13,
    "start_time": "2022-12-16T09:39:39.465Z"
   },
   {
    "duration": 5,
    "start_time": "2022-12-16T09:39:39.480Z"
   },
   {
    "duration": 5,
    "start_time": "2022-12-16T09:39:39.486Z"
   },
   {
    "duration": 21,
    "start_time": "2022-12-16T09:39:39.493Z"
   },
   {
    "duration": 2610,
    "start_time": "2022-12-16T09:39:39.516Z"
   },
   {
    "duration": 4240,
    "start_time": "2022-12-16T09:39:42.128Z"
   },
   {
    "duration": 237179,
    "start_time": "2022-12-16T09:39:46.370Z"
   },
   {
    "duration": 178,
    "start_time": "2022-12-16T09:43:43.551Z"
   },
   {
    "duration": 1,
    "start_time": "2022-12-16T09:43:43.730Z"
   },
   {
    "duration": 0,
    "start_time": "2022-12-16T09:43:43.732Z"
   },
   {
    "duration": 0,
    "start_time": "2022-12-16T09:43:43.734Z"
   },
   {
    "duration": 11,
    "start_time": "2022-12-16T09:46:38.544Z"
   },
   {
    "duration": 11,
    "start_time": "2022-12-16T09:47:34.210Z"
   },
   {
    "duration": 10,
    "start_time": "2022-12-16T09:47:45.260Z"
   },
   {
    "duration": 56912,
    "start_time": "2022-12-16T09:48:35.144Z"
   },
   {
    "duration": 4,
    "start_time": "2022-12-16T09:53:43.183Z"
   },
   {
    "duration": 82100,
    "start_time": "2022-12-16T09:53:49.299Z"
   },
   {
    "duration": 81890,
    "start_time": "2022-12-16T09:56:58.183Z"
   },
   {
    "duration": 82133,
    "start_time": "2022-12-16T09:58:35.678Z"
   },
   {
    "duration": 82673,
    "start_time": "2022-12-16T10:00:29.950Z"
   },
   {
    "duration": 13,
    "start_time": "2022-12-16T10:04:49.592Z"
   },
   {
    "duration": 10,
    "start_time": "2022-12-16T10:06:06.570Z"
   },
   {
    "duration": 996,
    "start_time": "2022-12-16T10:08:39.229Z"
   },
   {
    "duration": 4,
    "start_time": "2022-12-16T10:08:40.928Z"
   },
   {
    "duration": 4,
    "start_time": "2022-12-16T10:15:59.306Z"
   },
   {
    "duration": 10,
    "start_time": "2022-12-16T10:16:43.987Z"
   },
   {
    "duration": 15,
    "start_time": "2022-12-16T10:19:10.939Z"
   },
   {
    "duration": 4,
    "start_time": "2022-12-16T10:19:19.464Z"
   },
   {
    "duration": 4,
    "start_time": "2022-12-16T10:19:19.753Z"
   },
   {
    "duration": 2132,
    "start_time": "2022-12-16T10:19:23.982Z"
   },
   {
    "duration": 4108,
    "start_time": "2022-12-16T10:19:27.650Z"
   },
   {
    "duration": 234218,
    "start_time": "2022-12-16T10:19:33.091Z"
   },
   {
    "duration": 14,
    "start_time": "2022-12-16T10:24:09.205Z"
   },
   {
    "duration": 4,
    "start_time": "2022-12-16T10:24:12.113Z"
   },
   {
    "duration": 3,
    "start_time": "2022-12-16T10:24:12.340Z"
   },
   {
    "duration": 2196,
    "start_time": "2022-12-16T10:24:14.424Z"
   },
   {
    "duration": 4068,
    "start_time": "2022-12-16T10:24:19.167Z"
   },
   {
    "duration": 22,
    "start_time": "2022-12-16T10:26:03.677Z"
   },
   {
    "duration": 3,
    "start_time": "2022-12-16T10:26:08.166Z"
   },
   {
    "duration": 3,
    "start_time": "2022-12-16T10:26:08.334Z"
   },
   {
    "duration": 1753,
    "start_time": "2022-12-16T10:26:10.461Z"
   },
   {
    "duration": 4134,
    "start_time": "2022-12-16T10:26:13.607Z"
   },
   {
    "duration": 234437,
    "start_time": "2022-12-16T10:26:25.252Z"
   },
   {
    "duration": 0,
    "start_time": "2022-12-16T10:30:19.759Z"
   },
   {
    "duration": 10,
    "start_time": "2022-12-16T10:30:26.319Z"
   },
   {
    "duration": 4,
    "start_time": "2022-12-16T10:30:27.161Z"
   },
   {
    "duration": 21,
    "start_time": "2022-12-16T10:30:30.157Z"
   },
   {
    "duration": 3,
    "start_time": "2022-12-16T10:30:33.074Z"
   },
   {
    "duration": 3,
    "start_time": "2022-12-16T10:30:33.272Z"
   },
   {
    "duration": 2318,
    "start_time": "2022-12-16T10:30:36.001Z"
   },
   {
    "duration": 4216,
    "start_time": "2022-12-16T10:30:38.322Z"
   },
   {
    "duration": 238346,
    "start_time": "2022-12-16T10:30:42.540Z"
   },
   {
    "duration": 98,
    "start_time": "2022-12-16T10:34:40.889Z"
   },
   {
    "duration": 0,
    "start_time": "2022-12-16T10:34:40.989Z"
   },
   {
    "duration": 0,
    "start_time": "2022-12-16T10:34:40.990Z"
   },
   {
    "duration": 0,
    "start_time": "2022-12-16T10:34:40.992Z"
   },
   {
    "duration": 93,
    "start_time": "2022-12-16T10:35:53.022Z"
   },
   {
    "duration": 95,
    "start_time": "2022-12-16T10:36:11.632Z"
   },
   {
    "duration": 1044,
    "start_time": "2022-12-16T10:36:23.985Z"
   },
   {
    "duration": 4,
    "start_time": "2022-12-16T10:36:26.559Z"
   },
   {
    "duration": 1419,
    "start_time": "2022-12-16T10:37:42.477Z"
   },
   {
    "duration": 644,
    "start_time": "2022-12-16T10:37:43.899Z"
   },
   {
    "duration": 17,
    "start_time": "2022-12-16T10:37:44.545Z"
   },
   {
    "duration": 15,
    "start_time": "2022-12-16T10:37:44.564Z"
   },
   {
    "duration": 12,
    "start_time": "2022-12-16T10:37:44.581Z"
   },
   {
    "duration": 226,
    "start_time": "2022-12-16T10:37:44.612Z"
   },
   {
    "duration": 130,
    "start_time": "2022-12-16T10:37:44.840Z"
   },
   {
    "duration": 228,
    "start_time": "2022-12-16T10:37:44.971Z"
   },
   {
    "duration": 95,
    "start_time": "2022-12-16T10:37:45.200Z"
   },
   {
    "duration": 125,
    "start_time": "2022-12-16T10:37:45.298Z"
   },
   {
    "duration": 21,
    "start_time": "2022-12-16T10:37:45.425Z"
   },
   {
    "duration": 66,
    "start_time": "2022-12-16T10:37:45.448Z"
   },
   {
    "duration": 21,
    "start_time": "2022-12-16T10:37:45.516Z"
   },
   {
    "duration": 16,
    "start_time": "2022-12-16T10:37:45.539Z"
   },
   {
    "duration": 10,
    "start_time": "2022-12-16T10:37:45.556Z"
   },
   {
    "duration": 47,
    "start_time": "2022-12-16T10:37:45.567Z"
   },
   {
    "duration": 13,
    "start_time": "2022-12-16T10:37:45.616Z"
   },
   {
    "duration": 17,
    "start_time": "2022-12-16T10:37:45.630Z"
   },
   {
    "duration": 17,
    "start_time": "2022-12-16T10:37:45.649Z"
   },
   {
    "duration": 13,
    "start_time": "2022-12-16T10:37:45.668Z"
   },
   {
    "duration": 42,
    "start_time": "2022-12-16T10:37:45.683Z"
   },
   {
    "duration": 6,
    "start_time": "2022-12-16T10:37:45.727Z"
   },
   {
    "duration": 179,
    "start_time": "2022-12-16T10:37:45.735Z"
   },
   {
    "duration": 228,
    "start_time": "2022-12-16T10:37:45.916Z"
   },
   {
    "duration": 169,
    "start_time": "2022-12-16T10:37:46.146Z"
   },
   {
    "duration": 524,
    "start_time": "2022-12-16T10:37:46.316Z"
   },
   {
    "duration": 8,
    "start_time": "2022-12-16T10:37:46.842Z"
   },
   {
    "duration": 416,
    "start_time": "2022-12-16T10:37:46.854Z"
   },
   {
    "duration": 3,
    "start_time": "2022-12-16T10:37:47.272Z"
   },
   {
    "duration": 8,
    "start_time": "2022-12-16T10:37:47.277Z"
   },
   {
    "duration": 9,
    "start_time": "2022-12-16T10:37:47.287Z"
   },
   {
    "duration": 16,
    "start_time": "2022-12-16T10:37:47.298Z"
   },
   {
    "duration": 12,
    "start_time": "2022-12-16T10:37:47.316Z"
   },
   {
    "duration": 7,
    "start_time": "2022-12-16T10:37:47.329Z"
   },
   {
    "duration": 5,
    "start_time": "2022-12-16T10:37:47.338Z"
   },
   {
    "duration": 5,
    "start_time": "2022-12-16T10:37:47.345Z"
   },
   {
    "duration": 1669,
    "start_time": "2022-12-16T10:37:47.351Z"
   },
   {
    "duration": 4265,
    "start_time": "2022-12-16T10:37:49.022Z"
   },
   {
    "duration": 1372,
    "start_time": "2022-12-16T10:40:45.457Z"
   },
   {
    "duration": 676,
    "start_time": "2022-12-16T10:40:46.831Z"
   },
   {
    "duration": 19,
    "start_time": "2022-12-16T10:40:47.509Z"
   },
   {
    "duration": 15,
    "start_time": "2022-12-16T10:40:47.531Z"
   },
   {
    "duration": 18,
    "start_time": "2022-12-16T10:40:47.548Z"
   },
   {
    "duration": 234,
    "start_time": "2022-12-16T10:40:47.568Z"
   },
   {
    "duration": 113,
    "start_time": "2022-12-16T10:40:47.803Z"
   },
   {
    "duration": 236,
    "start_time": "2022-12-16T10:40:47.918Z"
   },
   {
    "duration": 98,
    "start_time": "2022-12-16T10:40:48.155Z"
   },
   {
    "duration": 111,
    "start_time": "2022-12-16T10:40:48.255Z"
   },
   {
    "duration": 20,
    "start_time": "2022-12-16T10:40:48.367Z"
   },
   {
    "duration": 69,
    "start_time": "2022-12-16T10:40:48.389Z"
   },
   {
    "duration": 21,
    "start_time": "2022-12-16T10:40:48.459Z"
   },
   {
    "duration": 39,
    "start_time": "2022-12-16T10:40:48.481Z"
   },
   {
    "duration": 6,
    "start_time": "2022-12-16T10:40:48.521Z"
   },
   {
    "duration": 19,
    "start_time": "2022-12-16T10:40:48.529Z"
   },
   {
    "duration": 12,
    "start_time": "2022-12-16T10:40:48.550Z"
   },
   {
    "duration": 16,
    "start_time": "2022-12-16T10:40:48.564Z"
   },
   {
    "duration": 41,
    "start_time": "2022-12-16T10:40:48.582Z"
   },
   {
    "duration": 13,
    "start_time": "2022-12-16T10:40:48.625Z"
   },
   {
    "duration": 15,
    "start_time": "2022-12-16T10:40:48.639Z"
   },
   {
    "duration": 8,
    "start_time": "2022-12-16T10:40:48.655Z"
   },
   {
    "duration": 194,
    "start_time": "2022-12-16T10:40:48.664Z"
   },
   {
    "duration": 235,
    "start_time": "2022-12-16T10:40:48.860Z"
   },
   {
    "duration": 189,
    "start_time": "2022-12-16T10:40:49.097Z"
   },
   {
    "duration": 527,
    "start_time": "2022-12-16T10:40:49.287Z"
   },
   {
    "duration": 7,
    "start_time": "2022-12-16T10:40:49.815Z"
   },
   {
    "duration": 418,
    "start_time": "2022-12-16T10:40:49.826Z"
   },
   {
    "duration": 6,
    "start_time": "2022-12-16T10:40:50.247Z"
   },
   {
    "duration": 12,
    "start_time": "2022-12-16T10:40:50.254Z"
   },
   {
    "duration": 38,
    "start_time": "2022-12-16T10:40:50.268Z"
   },
   {
    "duration": 14,
    "start_time": "2022-12-16T10:40:50.308Z"
   },
   {
    "duration": 19,
    "start_time": "2022-12-16T10:40:50.324Z"
   },
   {
    "duration": 12,
    "start_time": "2022-12-16T10:40:50.345Z"
   },
   {
    "duration": 40,
    "start_time": "2022-12-16T10:40:50.359Z"
   },
   {
    "duration": 7,
    "start_time": "2022-12-16T10:40:50.401Z"
   },
   {
    "duration": 25,
    "start_time": "2022-12-16T10:40:50.410Z"
   },
   {
    "duration": 1577,
    "start_time": "2022-12-16T10:40:50.438Z"
   },
   {
    "duration": 4142,
    "start_time": "2022-12-16T10:40:52.017Z"
   },
   {
    "duration": 236085,
    "start_time": "2022-12-16T10:40:56.161Z"
   },
   {
    "duration": 82007,
    "start_time": "2022-12-16T10:44:52.248Z"
   },
   {
    "duration": 60719,
    "start_time": "2022-12-16T10:46:14.256Z"
   },
   {
    "duration": 4,
    "start_time": "2022-12-16T10:47:14.977Z"
   },
   {
    "duration": 60626,
    "start_time": "2022-12-16T10:48:14.179Z"
   },
   {
    "duration": 0,
    "start_time": "2022-12-16T10:49:14.806Z"
   },
   {
    "duration": 82554,
    "start_time": "2022-12-16T10:52:05.016Z"
   },
   {
    "duration": 75,
    "start_time": "2022-12-16T10:53:39.881Z"
   },
   {
    "duration": 4,
    "start_time": "2022-12-16T10:54:06.224Z"
   },
   {
    "duration": 3,
    "start_time": "2022-12-16T10:54:09.993Z"
   },
   {
    "duration": 110,
    "start_time": "2022-12-16T10:57:21.500Z"
   },
   {
    "duration": 7,
    "start_time": "2022-12-16T12:18:02.750Z"
   },
   {
    "duration": 3,
    "start_time": "2022-12-16T12:18:06.626Z"
   },
   {
    "duration": 10,
    "start_time": "2022-12-16T12:18:13.948Z"
   },
   {
    "duration": 3,
    "start_time": "2022-12-16T12:18:14.693Z"
   },
   {
    "duration": 1488,
    "start_time": "2022-12-16T12:53:13.251Z"
   },
   {
    "duration": 710,
    "start_time": "2022-12-16T12:53:14.741Z"
   },
   {
    "duration": 18,
    "start_time": "2022-12-16T12:53:15.453Z"
   },
   {
    "duration": 18,
    "start_time": "2022-12-16T12:53:15.473Z"
   },
   {
    "duration": 25,
    "start_time": "2022-12-16T12:53:15.492Z"
   },
   {
    "duration": 296,
    "start_time": "2022-12-16T12:53:15.519Z"
   },
   {
    "duration": 129,
    "start_time": "2022-12-16T12:53:15.818Z"
   },
   {
    "duration": 241,
    "start_time": "2022-12-16T12:53:15.949Z"
   },
   {
    "duration": 100,
    "start_time": "2022-12-16T12:53:16.191Z"
   },
   {
    "duration": 120,
    "start_time": "2022-12-16T12:53:16.294Z"
   },
   {
    "duration": 20,
    "start_time": "2022-12-16T12:53:16.415Z"
   },
   {
    "duration": 63,
    "start_time": "2022-12-16T12:53:16.437Z"
   },
   {
    "duration": 29,
    "start_time": "2022-12-16T12:53:16.501Z"
   },
   {
    "duration": 17,
    "start_time": "2022-12-16T12:53:16.531Z"
   },
   {
    "duration": 7,
    "start_time": "2022-12-16T12:53:16.549Z"
   },
   {
    "duration": 41,
    "start_time": "2022-12-16T12:53:16.558Z"
   },
   {
    "duration": 20,
    "start_time": "2022-12-16T12:53:16.600Z"
   },
   {
    "duration": 20,
    "start_time": "2022-12-16T12:53:16.622Z"
   },
   {
    "duration": 23,
    "start_time": "2022-12-16T12:53:16.644Z"
   },
   {
    "duration": 23,
    "start_time": "2022-12-16T12:53:16.669Z"
   },
   {
    "duration": 22,
    "start_time": "2022-12-16T12:53:16.693Z"
   },
   {
    "duration": 12,
    "start_time": "2022-12-16T12:53:16.716Z"
   },
   {
    "duration": 167,
    "start_time": "2022-12-16T12:53:16.731Z"
   },
   {
    "duration": 238,
    "start_time": "2022-12-16T12:53:16.900Z"
   },
   {
    "duration": 177,
    "start_time": "2022-12-16T12:53:17.140Z"
   },
   {
    "duration": 545,
    "start_time": "2022-12-16T12:53:17.319Z"
   },
   {
    "duration": 6,
    "start_time": "2022-12-16T12:53:17.866Z"
   },
   {
    "duration": 390,
    "start_time": "2022-12-16T12:53:17.875Z"
   },
   {
    "duration": 3,
    "start_time": "2022-12-16T12:53:18.267Z"
   },
   {
    "duration": 71,
    "start_time": "2022-12-16T12:53:18.271Z"
   },
   {
    "duration": 0,
    "start_time": "2022-12-16T12:53:18.344Z"
   },
   {
    "duration": 0,
    "start_time": "2022-12-16T12:53:18.346Z"
   },
   {
    "duration": 1,
    "start_time": "2022-12-16T12:53:18.346Z"
   },
   {
    "duration": 0,
    "start_time": "2022-12-16T12:53:18.347Z"
   },
   {
    "duration": 0,
    "start_time": "2022-12-16T12:53:18.348Z"
   },
   {
    "duration": 0,
    "start_time": "2022-12-16T12:53:18.350Z"
   },
   {
    "duration": 0,
    "start_time": "2022-12-16T12:53:18.351Z"
   },
   {
    "duration": 0,
    "start_time": "2022-12-16T12:53:18.352Z"
   },
   {
    "duration": 0,
    "start_time": "2022-12-16T12:53:18.353Z"
   },
   {
    "duration": 0,
    "start_time": "2022-12-16T12:53:18.354Z"
   },
   {
    "duration": 0,
    "start_time": "2022-12-16T12:53:18.355Z"
   },
   {
    "duration": 0,
    "start_time": "2022-12-16T12:53:18.356Z"
   },
   {
    "duration": 8,
    "start_time": "2022-12-16T12:53:41.452Z"
   },
   {
    "duration": 4,
    "start_time": "2022-12-16T12:53:45.312Z"
   },
   {
    "duration": 14,
    "start_time": "2022-12-16T12:53:49.290Z"
   },
   {
    "duration": 4,
    "start_time": "2022-12-16T12:53:49.898Z"
   },
   {
    "duration": 122,
    "start_time": "2022-12-16T12:54:01.284Z"
   },
   {
    "duration": 23,
    "start_time": "2022-12-16T12:54:33.675Z"
   },
   {
    "duration": 58,
    "start_time": "2022-12-16T12:54:53.161Z"
   },
   {
    "duration": 3,
    "start_time": "2022-12-16T12:55:42.873Z"
   },
   {
    "duration": 3,
    "start_time": "2022-12-16T12:55:43.184Z"
   },
   {
    "duration": 2599,
    "start_time": "2022-12-16T12:55:44.518Z"
   },
   {
    "duration": 4437,
    "start_time": "2022-12-16T12:55:47.120Z"
   },
   {
    "duration": 243815,
    "start_time": "2022-12-16T12:55:51.559Z"
   },
   {
    "duration": 85291,
    "start_time": "2022-12-16T13:01:20.386Z"
   },
   {
    "duration": 4,
    "start_time": "2022-12-16T13:02:45.678Z"
   },
   {
    "duration": 13,
    "start_time": "2022-12-16T13:02:45.683Z"
   },
   {
    "duration": 130,
    "start_time": "2022-12-16T13:20:31.559Z"
   },
   {
    "duration": 24,
    "start_time": "2022-12-16T13:20:33.945Z"
   },
   {
    "duration": 11,
    "start_time": "2022-12-16T13:20:54.421Z"
   },
   {
    "duration": 3,
    "start_time": "2022-12-16T13:20:57.992Z"
   },
   {
    "duration": 10,
    "start_time": "2022-12-16T13:21:42.711Z"
   },
   {
    "duration": 10,
    "start_time": "2022-12-16T13:22:31.595Z"
   },
   {
    "duration": 4,
    "start_time": "2022-12-16T13:22:36.384Z"
   },
   {
    "duration": 3,
    "start_time": "2022-12-16T13:22:37.809Z"
   },
   {
    "duration": 11,
    "start_time": "2022-12-16T13:22:39.340Z"
   },
   {
    "duration": 4,
    "start_time": "2022-12-16T13:22:49.420Z"
   },
   {
    "duration": 3,
    "start_time": "2022-12-16T13:22:52.971Z"
   },
   {
    "duration": 3,
    "start_time": "2022-12-16T13:22:54.415Z"
   },
   {
    "duration": 13,
    "start_time": "2022-12-16T13:22:55.290Z"
   },
   {
    "duration": 222533,
    "start_time": "2022-12-16T13:23:39.131Z"
   },
   {
    "duration": 12,
    "start_time": "2022-12-16T13:27:50.975Z"
   },
   {
    "duration": 10,
    "start_time": "2022-12-16T13:28:38.462Z"
   },
   {
    "duration": 3,
    "start_time": "2022-12-16T13:28:46.876Z"
   },
   {
    "duration": 12,
    "start_time": "2022-12-16T13:28:47.603Z"
   },
   {
    "duration": 3,
    "start_time": "2022-12-16T13:28:48.944Z"
   },
   {
    "duration": 13,
    "start_time": "2022-12-16T13:29:56.822Z"
   },
   {
    "duration": 11,
    "start_time": "2022-12-16T13:30:03.265Z"
   },
   {
    "duration": 12,
    "start_time": "2022-12-16T13:30:17.319Z"
   },
   {
    "duration": 3,
    "start_time": "2022-12-16T13:30:38.069Z"
   },
   {
    "duration": 4,
    "start_time": "2022-12-16T13:30:39.230Z"
   },
   {
    "duration": 1619,
    "start_time": "2022-12-19T07:18:13.710Z"
   },
   {
    "duration": 2801,
    "start_time": "2022-12-19T07:18:15.331Z"
   },
   {
    "duration": 17,
    "start_time": "2022-12-19T07:18:18.134Z"
   },
   {
    "duration": 36,
    "start_time": "2022-12-19T07:18:18.153Z"
   },
   {
    "duration": 33,
    "start_time": "2022-12-19T07:18:18.191Z"
   },
   {
    "duration": 240,
    "start_time": "2022-12-19T07:18:18.225Z"
   },
   {
    "duration": 118,
    "start_time": "2022-12-19T07:18:18.466Z"
   },
   {
    "duration": 241,
    "start_time": "2022-12-19T07:18:18.585Z"
   },
   {
    "duration": 103,
    "start_time": "2022-12-19T07:18:18.827Z"
   },
   {
    "duration": 117,
    "start_time": "2022-12-19T07:18:18.933Z"
   },
   {
    "duration": 21,
    "start_time": "2022-12-19T07:18:19.052Z"
   },
   {
    "duration": 83,
    "start_time": "2022-12-19T07:18:19.075Z"
   },
   {
    "duration": 19,
    "start_time": "2022-12-19T07:18:19.160Z"
   },
   {
    "duration": 36,
    "start_time": "2022-12-19T07:18:19.181Z"
   },
   {
    "duration": 11,
    "start_time": "2022-12-19T07:18:19.218Z"
   },
   {
    "duration": 23,
    "start_time": "2022-12-19T07:18:19.231Z"
   },
   {
    "duration": 20,
    "start_time": "2022-12-19T07:18:19.255Z"
   },
   {
    "duration": 61,
    "start_time": "2022-12-19T07:18:19.277Z"
   },
   {
    "duration": 26,
    "start_time": "2022-12-19T07:18:19.340Z"
   },
   {
    "duration": 14,
    "start_time": "2022-12-19T07:18:19.368Z"
   },
   {
    "duration": 38,
    "start_time": "2022-12-19T07:18:19.383Z"
   },
   {
    "duration": 22,
    "start_time": "2022-12-19T07:18:19.422Z"
   },
   {
    "duration": 266,
    "start_time": "2022-12-19T07:18:19.446Z"
   },
   {
    "duration": 172,
    "start_time": "2022-12-19T07:18:19.714Z"
   },
   {
    "duration": 197,
    "start_time": "2022-12-19T07:18:19.888Z"
   },
   {
    "duration": 539,
    "start_time": "2022-12-19T07:18:20.087Z"
   },
   {
    "duration": 7,
    "start_time": "2022-12-19T07:18:20.628Z"
   },
   {
    "duration": 398,
    "start_time": "2022-12-19T07:18:20.637Z"
   },
   {
    "duration": 3,
    "start_time": "2022-12-19T07:18:21.037Z"
   },
   {
    "duration": 9,
    "start_time": "2022-12-19T07:18:21.042Z"
   },
   {
    "duration": 9,
    "start_time": "2022-12-19T07:18:21.053Z"
   },
   {
    "duration": 13,
    "start_time": "2022-12-19T07:18:21.063Z"
   },
   {
    "duration": 23,
    "start_time": "2022-12-19T07:18:21.078Z"
   },
   {
    "duration": 131,
    "start_time": "2022-12-19T07:18:21.103Z"
   },
   {
    "duration": 0,
    "start_time": "2022-12-19T07:18:21.236Z"
   },
   {
    "duration": 0,
    "start_time": "2022-12-19T07:18:21.237Z"
   },
   {
    "duration": 0,
    "start_time": "2022-12-19T07:18:21.238Z"
   },
   {
    "duration": 0,
    "start_time": "2022-12-19T07:18:21.240Z"
   },
   {
    "duration": 0,
    "start_time": "2022-12-19T07:18:21.241Z"
   },
   {
    "duration": 0,
    "start_time": "2022-12-19T07:18:21.242Z"
   },
   {
    "duration": 0,
    "start_time": "2022-12-19T07:18:21.243Z"
   },
   {
    "duration": 0,
    "start_time": "2022-12-19T07:18:21.245Z"
   },
   {
    "duration": 0,
    "start_time": "2022-12-19T07:18:21.246Z"
   },
   {
    "duration": 0,
    "start_time": "2022-12-19T07:18:21.247Z"
   },
   {
    "duration": 0,
    "start_time": "2022-12-19T07:18:21.249Z"
   },
   {
    "duration": 0,
    "start_time": "2022-12-19T07:18:21.250Z"
   },
   {
    "duration": 14,
    "start_time": "2022-12-19T07:19:33.227Z"
   },
   {
    "duration": 29,
    "start_time": "2022-12-19T07:19:47.047Z"
   },
   {
    "duration": 28,
    "start_time": "2022-12-19T07:20:00.761Z"
   },
   {
    "duration": 4,
    "start_time": "2022-12-19T07:20:07.277Z"
   },
   {
    "duration": 4,
    "start_time": "2022-12-19T07:20:07.995Z"
   },
   {
    "duration": 3987,
    "start_time": "2022-12-19T07:20:11.514Z"
   },
   {
    "duration": 6893,
    "start_time": "2022-12-19T07:20:15.504Z"
   },
   {
    "duration": 377299,
    "start_time": "2022-12-19T07:20:22.399Z"
   },
   {
    "duration": 40,
    "start_time": "2022-12-19T07:28:06.772Z"
   },
   {
    "duration": 0,
    "start_time": "2022-12-19T07:28:06.814Z"
   },
   {
    "duration": 0,
    "start_time": "2022-12-19T07:28:06.816Z"
   },
   {
    "duration": 0,
    "start_time": "2022-12-19T07:28:06.817Z"
   },
   {
    "duration": 0,
    "start_time": "2022-12-19T07:28:06.819Z"
   },
   {
    "duration": 0,
    "start_time": "2022-12-19T07:28:06.820Z"
   },
   {
    "duration": 0,
    "start_time": "2022-12-19T07:28:06.822Z"
   },
   {
    "duration": 0,
    "start_time": "2022-12-19T07:28:06.824Z"
   },
   {
    "duration": 89912,
    "start_time": "2022-12-19T07:29:20.563Z"
   },
   {
    "duration": 4,
    "start_time": "2022-12-19T07:30:50.477Z"
   },
   {
    "duration": 21,
    "start_time": "2022-12-19T07:30:50.483Z"
   },
   {
    "duration": 165,
    "start_time": "2022-12-19T07:30:50.507Z"
   },
   {
    "duration": 16,
    "start_time": "2022-12-19T07:30:50.673Z"
   },
   {
    "duration": 0,
    "start_time": "2022-12-19T07:30:50.691Z"
   },
   {
    "duration": 0,
    "start_time": "2022-12-19T07:30:50.693Z"
   },
   {
    "duration": 26,
    "start_time": "2022-12-19T07:37:47.162Z"
   },
   {
    "duration": 4,
    "start_time": "2022-12-19T07:37:49.551Z"
   },
   {
    "duration": 4,
    "start_time": "2022-12-19T07:37:49.736Z"
   },
   {
    "duration": 2569,
    "start_time": "2022-12-19T07:37:52.936Z"
   },
   {
    "duration": 6821,
    "start_time": "2022-12-19T07:37:55.508Z"
   },
   {
    "duration": 379249,
    "start_time": "2022-12-19T07:38:02.331Z"
   },
   {
    "duration": 93587,
    "start_time": "2022-12-19T07:44:21.582Z"
   },
   {
    "duration": 4,
    "start_time": "2022-12-19T07:45:55.171Z"
   },
   {
    "duration": 26,
    "start_time": "2022-12-19T07:45:55.176Z"
   },
   {
    "duration": 51,
    "start_time": "2022-12-19T07:45:55.204Z"
   },
   {
    "duration": 24,
    "start_time": "2022-12-19T07:45:55.257Z"
   },
   {
    "duration": 0,
    "start_time": "2022-12-19T07:45:55.283Z"
   },
   {
    "duration": 0,
    "start_time": "2022-12-19T07:45:55.284Z"
   },
   {
    "duration": 10,
    "start_time": "2022-12-19T07:47:12.725Z"
   },
   {
    "duration": 14,
    "start_time": "2022-12-19T07:59:16.246Z"
   },
   {
    "duration": 24,
    "start_time": "2022-12-19T08:00:28.580Z"
   },
   {
    "duration": 15,
    "start_time": "2022-12-19T08:00:50.874Z"
   },
   {
    "duration": 19,
    "start_time": "2022-12-19T08:01:25.501Z"
   },
   {
    "duration": 3,
    "start_time": "2022-12-19T08:01:30.850Z"
   },
   {
    "duration": 4,
    "start_time": "2022-12-19T08:01:31.389Z"
   },
   {
    "duration": 3007,
    "start_time": "2022-12-19T08:01:34.900Z"
   },
   {
    "duration": 6784,
    "start_time": "2022-12-19T08:01:37.997Z"
   },
   {
    "duration": 1761,
    "start_time": "2022-12-19T09:01:59.923Z"
   },
   {
    "duration": 2681,
    "start_time": "2022-12-19T09:02:01.686Z"
   },
   {
    "duration": 19,
    "start_time": "2022-12-19T09:02:04.369Z"
   },
   {
    "duration": 22,
    "start_time": "2022-12-19T09:02:04.391Z"
   },
   {
    "duration": 20,
    "start_time": "2022-12-19T09:02:04.416Z"
   },
   {
    "duration": 259,
    "start_time": "2022-12-19T09:02:04.437Z"
   },
   {
    "duration": 130,
    "start_time": "2022-12-19T09:02:04.698Z"
   },
   {
    "duration": 299,
    "start_time": "2022-12-19T09:02:04.831Z"
   },
   {
    "duration": 115,
    "start_time": "2022-12-19T09:02:05.132Z"
   },
   {
    "duration": 140,
    "start_time": "2022-12-19T09:02:05.250Z"
   },
   {
    "duration": 32,
    "start_time": "2022-12-19T09:02:05.391Z"
   },
   {
    "duration": 90,
    "start_time": "2022-12-19T09:02:05.426Z"
   },
   {
    "duration": 21,
    "start_time": "2022-12-19T09:02:05.521Z"
   },
   {
    "duration": 16,
    "start_time": "2022-12-19T09:02:05.543Z"
   },
   {
    "duration": 8,
    "start_time": "2022-12-19T09:02:05.560Z"
   },
   {
    "duration": 41,
    "start_time": "2022-12-19T09:02:05.569Z"
   },
   {
    "duration": 15,
    "start_time": "2022-12-19T09:02:05.612Z"
   },
   {
    "duration": 30,
    "start_time": "2022-12-19T09:02:05.629Z"
   },
   {
    "duration": 16,
    "start_time": "2022-12-19T09:02:05.661Z"
   },
   {
    "duration": 39,
    "start_time": "2022-12-19T09:02:05.679Z"
   },
   {
    "duration": 26,
    "start_time": "2022-12-19T09:02:05.721Z"
   },
   {
    "duration": 10,
    "start_time": "2022-12-19T09:02:05.749Z"
   },
   {
    "duration": 346,
    "start_time": "2022-12-19T09:02:05.761Z"
   },
   {
    "duration": 244,
    "start_time": "2022-12-19T09:02:06.109Z"
   },
   {
    "duration": 215,
    "start_time": "2022-12-19T09:02:06.355Z"
   },
   {
    "duration": 633,
    "start_time": "2022-12-19T09:02:06.572Z"
   },
   {
    "duration": 12,
    "start_time": "2022-12-19T09:02:07.207Z"
   },
   {
    "duration": 442,
    "start_time": "2022-12-19T09:02:07.224Z"
   },
   {
    "duration": 4,
    "start_time": "2022-12-19T09:02:07.667Z"
   },
   {
    "duration": 30,
    "start_time": "2022-12-19T09:02:07.673Z"
   },
   {
    "duration": 25,
    "start_time": "2022-12-19T09:02:07.705Z"
   },
   {
    "duration": 28,
    "start_time": "2022-12-19T09:02:07.732Z"
   },
   {
    "duration": 8,
    "start_time": "2022-12-19T09:02:07.762Z"
   },
   {
    "duration": 45,
    "start_time": "2022-12-19T09:02:07.771Z"
   },
   {
    "duration": 5,
    "start_time": "2022-12-19T09:02:07.820Z"
   },
   {
    "duration": 6,
    "start_time": "2022-12-19T09:02:07.829Z"
   },
   {
    "duration": 3784,
    "start_time": "2022-12-19T09:02:07.837Z"
   },
   {
    "duration": 7385,
    "start_time": "2022-12-19T09:02:11.623Z"
   },
   {
    "duration": 415833,
    "start_time": "2022-12-19T09:02:19.011Z"
   },
   {
    "duration": 91776,
    "start_time": "2022-12-19T09:09:14.846Z"
   },
   {
    "duration": 5,
    "start_time": "2022-12-19T09:10:46.625Z"
   },
   {
    "duration": 11,
    "start_time": "2022-12-19T09:10:46.632Z"
   },
   {
    "duration": 146,
    "start_time": "2022-12-19T09:10:46.645Z"
   },
   {
    "duration": 131,
    "start_time": "2022-12-19T09:10:46.795Z"
   },
   {
    "duration": 0,
    "start_time": "2022-12-19T09:10:46.929Z"
   },
   {
    "duration": 0,
    "start_time": "2022-12-19T09:10:46.931Z"
   },
   {
    "duration": 1704,
    "start_time": "2022-12-19T09:22:17.111Z"
   },
   {
    "duration": 2585,
    "start_time": "2022-12-19T09:22:18.817Z"
   },
   {
    "duration": 21,
    "start_time": "2022-12-19T09:22:21.404Z"
   },
   {
    "duration": 17,
    "start_time": "2022-12-19T09:22:21.427Z"
   },
   {
    "duration": 13,
    "start_time": "2022-12-19T09:22:21.445Z"
   },
   {
    "duration": 262,
    "start_time": "2022-12-19T09:22:21.461Z"
   },
   {
    "duration": 133,
    "start_time": "2022-12-19T09:22:21.725Z"
   },
   {
    "duration": 264,
    "start_time": "2022-12-19T09:22:21.860Z"
   },
   {
    "duration": 117,
    "start_time": "2022-12-19T09:22:22.126Z"
   },
   {
    "duration": 132,
    "start_time": "2022-12-19T09:22:22.245Z"
   },
   {
    "duration": 23,
    "start_time": "2022-12-19T09:22:22.379Z"
   },
   {
    "duration": 79,
    "start_time": "2022-12-19T09:22:22.404Z"
   },
   {
    "duration": 23,
    "start_time": "2022-12-19T09:22:22.486Z"
   },
   {
    "duration": 18,
    "start_time": "2022-12-19T09:22:22.512Z"
   },
   {
    "duration": 9,
    "start_time": "2022-12-19T09:22:22.532Z"
   },
   {
    "duration": 19,
    "start_time": "2022-12-19T09:22:22.578Z"
   },
   {
    "duration": 15,
    "start_time": "2022-12-19T09:22:22.599Z"
   },
   {
    "duration": 20,
    "start_time": "2022-12-19T09:22:22.616Z"
   },
   {
    "duration": 54,
    "start_time": "2022-12-19T09:22:22.638Z"
   },
   {
    "duration": 13,
    "start_time": "2022-12-19T09:22:22.694Z"
   },
   {
    "duration": 14,
    "start_time": "2022-12-19T09:22:22.709Z"
   },
   {
    "duration": 10,
    "start_time": "2022-12-19T09:22:22.725Z"
   },
   {
    "duration": 309,
    "start_time": "2022-12-19T09:22:22.737Z"
   },
   {
    "duration": 251,
    "start_time": "2022-12-19T09:22:23.047Z"
   },
   {
    "duration": 202,
    "start_time": "2022-12-19T09:22:23.301Z"
   },
   {
    "duration": 602,
    "start_time": "2022-12-19T09:22:23.505Z"
   },
   {
    "duration": 7,
    "start_time": "2022-12-19T09:22:24.109Z"
   },
   {
    "duration": 450,
    "start_time": "2022-12-19T09:22:24.120Z"
   },
   {
    "duration": 3,
    "start_time": "2022-12-19T09:22:24.572Z"
   },
   {
    "duration": 15,
    "start_time": "2022-12-19T09:22:24.577Z"
   },
   {
    "duration": 33,
    "start_time": "2022-12-19T09:22:24.593Z"
   },
   {
    "duration": 32,
    "start_time": "2022-12-19T09:22:24.629Z"
   },
   {
    "duration": 16,
    "start_time": "2022-12-19T09:22:24.663Z"
   },
   {
    "duration": 45,
    "start_time": "2022-12-19T09:22:24.681Z"
   },
   {
    "duration": 5,
    "start_time": "2022-12-19T09:22:24.728Z"
   },
   {
    "duration": 15,
    "start_time": "2022-12-19T09:22:24.735Z"
   },
   {
    "duration": 3034,
    "start_time": "2022-12-19T09:22:24.753Z"
   },
   {
    "duration": 7637,
    "start_time": "2022-12-19T09:22:27.790Z"
   },
   {
    "duration": 414304,
    "start_time": "2022-12-19T09:22:35.429Z"
   },
   {
    "duration": 144360,
    "start_time": "2022-12-19T09:29:29.735Z"
   },
   {
    "duration": 55,
    "start_time": "2022-12-19T09:31:54.097Z"
   },
   {
    "duration": 0,
    "start_time": "2022-12-19T09:31:54.155Z"
   },
   {
    "duration": 0,
    "start_time": "2022-12-19T09:31:54.156Z"
   },
   {
    "duration": 0,
    "start_time": "2022-12-19T09:31:54.158Z"
   },
   {
    "duration": 0,
    "start_time": "2022-12-19T09:31:54.160Z"
   },
   {
    "duration": 0,
    "start_time": "2022-12-19T09:31:54.161Z"
   },
   {
    "duration": 5,
    "start_time": "2022-12-19T09:32:46.405Z"
   },
   {
    "duration": 5,
    "start_time": "2022-12-19T09:32:54.929Z"
   }
  ],
  "kernelspec": {
   "display_name": "Python 3 (ipykernel)",
   "language": "python",
   "name": "python3"
  },
  "language_info": {
   "codemirror_mode": {
    "name": "ipython",
    "version": 3
   },
   "file_extension": ".py",
   "mimetype": "text/x-python",
   "name": "python",
   "nbconvert_exporter": "python",
   "pygments_lexer": "ipython3",
   "version": "3.9.5"
  },
  "toc": {
   "base_numbering": 1,
   "nav_menu": {},
   "number_sections": true,
   "sideBar": true,
   "skip_h1_title": true,
   "title_cell": "Содержание",
   "title_sidebar": "Contents",
   "toc_cell": true,
   "toc_position": {},
   "toc_section_display": true,
   "toc_window_display": true
  }
 },
 "nbformat": 4,
 "nbformat_minor": 2
}
