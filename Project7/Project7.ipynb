{
 "cells": [
  {
   "cell_type": "markdown",
   "metadata": {
    "toc": true
   },
   "source": [
    "<h1>Содержание<span class=\"tocSkip\"></span></h1>\n",
    "<div class=\"toc\"><ul class=\"toc-item\"><li><span><a href=\"#Подготовка-данных\" data-toc-modified-id=\"Подготовка-данных-1\"><span class=\"toc-item-num\">1&nbsp;&nbsp;</span>Подготовка данных</a></span></li><li><span><a href=\"#Исследование-задачи\" data-toc-modified-id=\"Исследование-задачи-2\"><span class=\"toc-item-num\">2&nbsp;&nbsp;</span>Исследование задачи</a></span></li><li><span><a href=\"#Борьба-с-дисбалансом\" data-toc-modified-id=\"Борьба-с-дисбалансом-3\"><span class=\"toc-item-num\">3&nbsp;&nbsp;</span>Борьба с дисбалансом</a></span></li><li><span><a href=\"#Тестирование-модели\" data-toc-modified-id=\"Тестирование-модели-4\"><span class=\"toc-item-num\">4&nbsp;&nbsp;</span>Тестирование модели</a></span></li><li><span><a href=\"#Вывод:\" data-toc-modified-id=\"Вывод:-5\"><span class=\"toc-item-num\">5&nbsp;&nbsp;</span>Вывод:</a></span></li></ul></div>"
   ]
  },
  {
   "cell_type": "markdown",
   "metadata": {},
   "source": [
    "## Подготовка данных"
   ]
  },
  {
   "cell_type": "code",
   "execution_count": 1,
   "metadata": {},
   "outputs": [
    {
     "data": {
      "text/html": [
       "<div>\n",
       "<style scoped>\n",
       "    .dataframe tbody tr th:only-of-type {\n",
       "        vertical-align: middle;\n",
       "    }\n",
       "\n",
       "    .dataframe tbody tr th {\n",
       "        vertical-align: top;\n",
       "    }\n",
       "\n",
       "    .dataframe thead th {\n",
       "        text-align: right;\n",
       "    }\n",
       "</style>\n",
       "<table border=\"1\" class=\"dataframe\">\n",
       "  <thead>\n",
       "    <tr style=\"text-align: right;\">\n",
       "      <th></th>\n",
       "      <th>RowNumber</th>\n",
       "      <th>CustomerId</th>\n",
       "      <th>Surname</th>\n",
       "      <th>CreditScore</th>\n",
       "      <th>Geography</th>\n",
       "      <th>Gender</th>\n",
       "      <th>Age</th>\n",
       "      <th>Tenure</th>\n",
       "      <th>Balance</th>\n",
       "      <th>NumOfProducts</th>\n",
       "      <th>HasCrCard</th>\n",
       "      <th>IsActiveMember</th>\n",
       "      <th>EstimatedSalary</th>\n",
       "      <th>Exited</th>\n",
       "    </tr>\n",
       "  </thead>\n",
       "  <tbody>\n",
       "    <tr>\n",
       "      <th>0</th>\n",
       "      <td>1</td>\n",
       "      <td>15634602</td>\n",
       "      <td>Hargrave</td>\n",
       "      <td>619</td>\n",
       "      <td>France</td>\n",
       "      <td>Female</td>\n",
       "      <td>42</td>\n",
       "      <td>2.0</td>\n",
       "      <td>0.00</td>\n",
       "      <td>1</td>\n",
       "      <td>1</td>\n",
       "      <td>1</td>\n",
       "      <td>101348.88</td>\n",
       "      <td>1</td>\n",
       "    </tr>\n",
       "    <tr>\n",
       "      <th>1</th>\n",
       "      <td>2</td>\n",
       "      <td>15647311</td>\n",
       "      <td>Hill</td>\n",
       "      <td>608</td>\n",
       "      <td>Spain</td>\n",
       "      <td>Female</td>\n",
       "      <td>41</td>\n",
       "      <td>1.0</td>\n",
       "      <td>83807.86</td>\n",
       "      <td>1</td>\n",
       "      <td>0</td>\n",
       "      <td>1</td>\n",
       "      <td>112542.58</td>\n",
       "      <td>0</td>\n",
       "    </tr>\n",
       "    <tr>\n",
       "      <th>2</th>\n",
       "      <td>3</td>\n",
       "      <td>15619304</td>\n",
       "      <td>Onio</td>\n",
       "      <td>502</td>\n",
       "      <td>France</td>\n",
       "      <td>Female</td>\n",
       "      <td>42</td>\n",
       "      <td>8.0</td>\n",
       "      <td>159660.80</td>\n",
       "      <td>3</td>\n",
       "      <td>1</td>\n",
       "      <td>0</td>\n",
       "      <td>113931.57</td>\n",
       "      <td>1</td>\n",
       "    </tr>\n",
       "    <tr>\n",
       "      <th>3</th>\n",
       "      <td>4</td>\n",
       "      <td>15701354</td>\n",
       "      <td>Boni</td>\n",
       "      <td>699</td>\n",
       "      <td>France</td>\n",
       "      <td>Female</td>\n",
       "      <td>39</td>\n",
       "      <td>1.0</td>\n",
       "      <td>0.00</td>\n",
       "      <td>2</td>\n",
       "      <td>0</td>\n",
       "      <td>0</td>\n",
       "      <td>93826.63</td>\n",
       "      <td>0</td>\n",
       "    </tr>\n",
       "    <tr>\n",
       "      <th>4</th>\n",
       "      <td>5</td>\n",
       "      <td>15737888</td>\n",
       "      <td>Mitchell</td>\n",
       "      <td>850</td>\n",
       "      <td>Spain</td>\n",
       "      <td>Female</td>\n",
       "      <td>43</td>\n",
       "      <td>2.0</td>\n",
       "      <td>125510.82</td>\n",
       "      <td>1</td>\n",
       "      <td>1</td>\n",
       "      <td>1</td>\n",
       "      <td>79084.10</td>\n",
       "      <td>0</td>\n",
       "    </tr>\n",
       "    <tr>\n",
       "      <th>5</th>\n",
       "      <td>6</td>\n",
       "      <td>15574012</td>\n",
       "      <td>Chu</td>\n",
       "      <td>645</td>\n",
       "      <td>Spain</td>\n",
       "      <td>Male</td>\n",
       "      <td>44</td>\n",
       "      <td>8.0</td>\n",
       "      <td>113755.78</td>\n",
       "      <td>2</td>\n",
       "      <td>1</td>\n",
       "      <td>0</td>\n",
       "      <td>149756.71</td>\n",
       "      <td>1</td>\n",
       "    </tr>\n",
       "    <tr>\n",
       "      <th>6</th>\n",
       "      <td>7</td>\n",
       "      <td>15592531</td>\n",
       "      <td>Bartlett</td>\n",
       "      <td>822</td>\n",
       "      <td>France</td>\n",
       "      <td>Male</td>\n",
       "      <td>50</td>\n",
       "      <td>7.0</td>\n",
       "      <td>0.00</td>\n",
       "      <td>2</td>\n",
       "      <td>1</td>\n",
       "      <td>1</td>\n",
       "      <td>10062.80</td>\n",
       "      <td>0</td>\n",
       "    </tr>\n",
       "    <tr>\n",
       "      <th>7</th>\n",
       "      <td>8</td>\n",
       "      <td>15656148</td>\n",
       "      <td>Obinna</td>\n",
       "      <td>376</td>\n",
       "      <td>Germany</td>\n",
       "      <td>Female</td>\n",
       "      <td>29</td>\n",
       "      <td>4.0</td>\n",
       "      <td>115046.74</td>\n",
       "      <td>4</td>\n",
       "      <td>1</td>\n",
       "      <td>0</td>\n",
       "      <td>119346.88</td>\n",
       "      <td>1</td>\n",
       "    </tr>\n",
       "    <tr>\n",
       "      <th>8</th>\n",
       "      <td>9</td>\n",
       "      <td>15792365</td>\n",
       "      <td>He</td>\n",
       "      <td>501</td>\n",
       "      <td>France</td>\n",
       "      <td>Male</td>\n",
       "      <td>44</td>\n",
       "      <td>4.0</td>\n",
       "      <td>142051.07</td>\n",
       "      <td>2</td>\n",
       "      <td>0</td>\n",
       "      <td>1</td>\n",
       "      <td>74940.50</td>\n",
       "      <td>0</td>\n",
       "    </tr>\n",
       "    <tr>\n",
       "      <th>9</th>\n",
       "      <td>10</td>\n",
       "      <td>15592389</td>\n",
       "      <td>H?</td>\n",
       "      <td>684</td>\n",
       "      <td>France</td>\n",
       "      <td>Male</td>\n",
       "      <td>27</td>\n",
       "      <td>2.0</td>\n",
       "      <td>134603.88</td>\n",
       "      <td>1</td>\n",
       "      <td>1</td>\n",
       "      <td>1</td>\n",
       "      <td>71725.73</td>\n",
       "      <td>0</td>\n",
       "    </tr>\n",
       "  </tbody>\n",
       "</table>\n",
       "</div>"
      ],
      "text/plain": [
       "   RowNumber  CustomerId   Surname  CreditScore Geography  Gender  Age  \\\n",
       "0          1    15634602  Hargrave          619    France  Female   42   \n",
       "1          2    15647311      Hill          608     Spain  Female   41   \n",
       "2          3    15619304      Onio          502    France  Female   42   \n",
       "3          4    15701354      Boni          699    France  Female   39   \n",
       "4          5    15737888  Mitchell          850     Spain  Female   43   \n",
       "5          6    15574012       Chu          645     Spain    Male   44   \n",
       "6          7    15592531  Bartlett          822    France    Male   50   \n",
       "7          8    15656148    Obinna          376   Germany  Female   29   \n",
       "8          9    15792365        He          501    France    Male   44   \n",
       "9         10    15592389        H?          684    France    Male   27   \n",
       "\n",
       "   Tenure    Balance  NumOfProducts  HasCrCard  IsActiveMember  \\\n",
       "0     2.0       0.00              1          1               1   \n",
       "1     1.0   83807.86              1          0               1   \n",
       "2     8.0  159660.80              3          1               0   \n",
       "3     1.0       0.00              2          0               0   \n",
       "4     2.0  125510.82              1          1               1   \n",
       "5     8.0  113755.78              2          1               0   \n",
       "6     7.0       0.00              2          1               1   \n",
       "7     4.0  115046.74              4          1               0   \n",
       "8     4.0  142051.07              2          0               1   \n",
       "9     2.0  134603.88              1          1               1   \n",
       "\n",
       "   EstimatedSalary  Exited  \n",
       "0        101348.88       1  \n",
       "1        112542.58       0  \n",
       "2        113931.57       1  \n",
       "3         93826.63       0  \n",
       "4         79084.10       0  \n",
       "5        149756.71       1  \n",
       "6         10062.80       0  \n",
       "7        119346.88       1  \n",
       "8         74940.50       0  \n",
       "9         71725.73       0  "
      ]
     },
     "execution_count": 1,
     "metadata": {},
     "output_type": "execute_result"
    }
   ],
   "source": [
    "import pandas as pd\n",
    "from sklearn.tree import DecisionTreeRegressor\n",
    "from sklearn.ensemble import RandomForestRegressor\n",
    "from sklearn.linear_model import LinearRegression\n",
    "from sklearn.model_selection import train_test_split\n",
    "from sklearn.metrics import mean_squared_error\n",
    "from sklearn.tree import DecisionTreeClassifier\n",
    "from sklearn.metrics import accuracy_score\n",
    "from sklearn.ensemble import RandomForestClassifier\n",
    "from sklearn.model_selection import train_test_split\n",
    "from joblib import dump\n",
    "from sklearn.linear_model import LogisticRegression \n",
    "from sklearn.metrics import mean_absolute_error\n",
    "from sklearn.metrics import recall_score \n",
    "from sklearn.metrics import precision_score\n",
    "from sklearn.metrics  import f1_score\n",
    "from sklearn.metrics import roc_curve \n",
    "import matplotlib.pyplot as plt\n",
    "from sklearn.metrics import roc_auc_score \n",
    "from sklearn.preprocessing import StandardScaler \n",
    "pd.options.mode.chained_assignment = None\n",
    "from sklearn.utils import shuffle\n",
    "import numpy as np\n",
    "df = pd.read_csv('/datasets/Churn.csv')\n",
    "df.head(10)"
   ]
  },
  {
   "cell_type": "code",
   "execution_count": 2,
   "metadata": {},
   "outputs": [
    {
     "name": "stdout",
     "output_type": "stream",
     "text": [
      "<class 'pandas.core.frame.DataFrame'>\n",
      "RangeIndex: 10000 entries, 0 to 9999\n",
      "Data columns (total 14 columns):\n",
      " #   Column           Non-Null Count  Dtype  \n",
      "---  ------           --------------  -----  \n",
      " 0   RowNumber        10000 non-null  int64  \n",
      " 1   CustomerId       10000 non-null  int64  \n",
      " 2   Surname          10000 non-null  object \n",
      " 3   CreditScore      10000 non-null  int64  \n",
      " 4   Geography        10000 non-null  object \n",
      " 5   Gender           10000 non-null  object \n",
      " 6   Age              10000 non-null  int64  \n",
      " 7   Tenure           9091 non-null   float64\n",
      " 8   Balance          10000 non-null  float64\n",
      " 9   NumOfProducts    10000 non-null  int64  \n",
      " 10  HasCrCard        10000 non-null  int64  \n",
      " 11  IsActiveMember   10000 non-null  int64  \n",
      " 12  EstimatedSalary  10000 non-null  float64\n",
      " 13  Exited           10000 non-null  int64  \n",
      "dtypes: float64(3), int64(8), object(3)\n",
      "memory usage: 1.1+ MB\n"
     ]
    }
   ],
   "source": [
    "df.info()"
   ]
  },
  {
   "cell_type": "code",
   "execution_count": 3,
   "metadata": {},
   "outputs": [
    {
     "data": {
      "text/plain": [
       "0"
      ]
     },
     "execution_count": 3,
     "metadata": {},
     "output_type": "execute_result"
    }
   ],
   "source": [
    "df.duplicated().sum()"
   ]
  },
  {
   "cell_type": "code",
   "execution_count": 4,
   "metadata": {},
   "outputs": [
    {
     "data": {
      "text/plain": [
       "array([    1,     2,     3, ...,  9998,  9999, 10000])"
      ]
     },
     "execution_count": 4,
     "metadata": {},
     "output_type": "execute_result"
    }
   ],
   "source": [
    "df['RowNumber'].unique()"
   ]
  },
  {
   "cell_type": "markdown",
   "metadata": {},
   "source": [
    "Столбец Индекс строки данных не несет смысловой нагрузки на наше исследование, удалим его."
   ]
  },
  {
   "cell_type": "code",
   "execution_count": 5,
   "metadata": {},
   "outputs": [
    {
     "data": {
      "text/plain": [
       "array([15634602, 15647311, 15619304, ..., 15584532, 15682355, 15628319])"
      ]
     },
     "execution_count": 5,
     "metadata": {},
     "output_type": "execute_result"
    }
   ],
   "source": [
    "df['CustomerId'].unique()"
   ]
  },
  {
   "cell_type": "markdown",
   "metadata": {},
   "source": [
    "Столбец Индекс строки данных не несет смысловой нагрузки на наше исследование, удалим его."
   ]
  },
  {
   "cell_type": "code",
   "execution_count": 6,
   "metadata": {},
   "outputs": [
    {
     "data": {
      "text/plain": [
       "array(['Hargrave', 'Hill', 'Onio', ..., 'Kashiwagi', 'Aldridge',\n",
       "       'Burbidge'], dtype=object)"
      ]
     },
     "execution_count": 6,
     "metadata": {},
     "output_type": "execute_result"
    }
   ],
   "source": [
    "df['Surname'].unique()"
   ]
  },
  {
   "cell_type": "markdown",
   "metadata": {},
   "source": [
    "Столбец Фамилия не несет смысловой нагрузки на наше исследование, удалим его."
   ]
  },
  {
   "cell_type": "code",
   "execution_count": 7,
   "metadata": {},
   "outputs": [],
   "source": [
    "df = df.drop(['RowNumber','CustomerId','Surname'], axis=1)"
   ]
  },
  {
   "cell_type": "code",
   "execution_count": 8,
   "metadata": {},
   "outputs": [
    {
     "data": {
      "text/plain": [
       "CreditScore          0\n",
       "Geography            0\n",
       "Gender               0\n",
       "Age                  0\n",
       "Tenure             909\n",
       "Balance              0\n",
       "NumOfProducts        0\n",
       "HasCrCard            0\n",
       "IsActiveMember       0\n",
       "EstimatedSalary      0\n",
       "Exited               0\n",
       "dtype: int64"
      ]
     },
     "execution_count": 8,
     "metadata": {},
     "output_type": "execute_result"
    }
   ],
   "source": [
    "df.isna().sum()"
   ]
  },
  {
   "cell_type": "code",
   "execution_count": 9,
   "metadata": {},
   "outputs": [
    {
     "data": {
      "text/plain": [
       "array([ 2.,  1.,  8.,  7.,  4.,  6.,  3., 10.,  5.,  9.,  0., nan])"
      ]
     },
     "execution_count": 9,
     "metadata": {},
     "output_type": "execute_result"
    }
   ],
   "source": [
    "df['Tenure'].unique()"
   ]
  },
  {
   "cell_type": "markdown",
   "metadata": {},
   "source": [
    "В столбце \"Сколько лет человек является клиентом банка\" есть пропуски. Можно предположить, что это новые клиенты. Заменим значения Nan на 0"
   ]
  },
  {
   "cell_type": "code",
   "execution_count": 10,
   "metadata": {},
   "outputs": [
    {
     "data": {
      "text/plain": [
       "CreditScore        0\n",
       "Geography          0\n",
       "Gender             0\n",
       "Age                0\n",
       "Tenure             0\n",
       "Balance            0\n",
       "NumOfProducts      0\n",
       "HasCrCard          0\n",
       "IsActiveMember     0\n",
       "EstimatedSalary    0\n",
       "Exited             0\n",
       "dtype: int64"
      ]
     },
     "execution_count": 10,
     "metadata": {},
     "output_type": "execute_result"
    }
   ],
   "source": [
    "df['Tenure']=df['Tenure'].fillna(0)\n",
    "df.isna().sum()"
   ]
  },
  {
   "cell_type": "code",
   "execution_count": 11,
   "metadata": {},
   "outputs": [
    {
     "data": {
      "text/html": [
       "<div>\n",
       "<style scoped>\n",
       "    .dataframe tbody tr th:only-of-type {\n",
       "        vertical-align: middle;\n",
       "    }\n",
       "\n",
       "    .dataframe tbody tr th {\n",
       "        vertical-align: top;\n",
       "    }\n",
       "\n",
       "    .dataframe thead th {\n",
       "        text-align: right;\n",
       "    }\n",
       "</style>\n",
       "<table border=\"1\" class=\"dataframe\">\n",
       "  <thead>\n",
       "    <tr style=\"text-align: right;\">\n",
       "      <th></th>\n",
       "      <th>CreditScore</th>\n",
       "      <th>Age</th>\n",
       "      <th>Tenure</th>\n",
       "      <th>Balance</th>\n",
       "      <th>NumOfProducts</th>\n",
       "      <th>HasCrCard</th>\n",
       "      <th>IsActiveMember</th>\n",
       "      <th>EstimatedSalary</th>\n",
       "      <th>Exited</th>\n",
       "    </tr>\n",
       "  </thead>\n",
       "  <tbody>\n",
       "    <tr>\n",
       "      <th>count</th>\n",
       "      <td>10000.000000</td>\n",
       "      <td>10000.000000</td>\n",
       "      <td>10000.000000</td>\n",
       "      <td>10000.000000</td>\n",
       "      <td>10000.000000</td>\n",
       "      <td>10000.00000</td>\n",
       "      <td>10000.000000</td>\n",
       "      <td>10000.000000</td>\n",
       "      <td>10000.000000</td>\n",
       "    </tr>\n",
       "    <tr>\n",
       "      <th>mean</th>\n",
       "      <td>650.528800</td>\n",
       "      <td>38.921800</td>\n",
       "      <td>4.543400</td>\n",
       "      <td>76485.889288</td>\n",
       "      <td>1.530200</td>\n",
       "      <td>0.70550</td>\n",
       "      <td>0.515100</td>\n",
       "      <td>100090.239881</td>\n",
       "      <td>0.203700</td>\n",
       "    </tr>\n",
       "    <tr>\n",
       "      <th>std</th>\n",
       "      <td>96.653299</td>\n",
       "      <td>10.487806</td>\n",
       "      <td>3.111573</td>\n",
       "      <td>62397.405202</td>\n",
       "      <td>0.581654</td>\n",
       "      <td>0.45584</td>\n",
       "      <td>0.499797</td>\n",
       "      <td>57510.492818</td>\n",
       "      <td>0.402769</td>\n",
       "    </tr>\n",
       "    <tr>\n",
       "      <th>min</th>\n",
       "      <td>350.000000</td>\n",
       "      <td>18.000000</td>\n",
       "      <td>0.000000</td>\n",
       "      <td>0.000000</td>\n",
       "      <td>1.000000</td>\n",
       "      <td>0.00000</td>\n",
       "      <td>0.000000</td>\n",
       "      <td>11.580000</td>\n",
       "      <td>0.000000</td>\n",
       "    </tr>\n",
       "    <tr>\n",
       "      <th>25%</th>\n",
       "      <td>584.000000</td>\n",
       "      <td>32.000000</td>\n",
       "      <td>2.000000</td>\n",
       "      <td>0.000000</td>\n",
       "      <td>1.000000</td>\n",
       "      <td>0.00000</td>\n",
       "      <td>0.000000</td>\n",
       "      <td>51002.110000</td>\n",
       "      <td>0.000000</td>\n",
       "    </tr>\n",
       "    <tr>\n",
       "      <th>50%</th>\n",
       "      <td>652.000000</td>\n",
       "      <td>37.000000</td>\n",
       "      <td>4.000000</td>\n",
       "      <td>97198.540000</td>\n",
       "      <td>1.000000</td>\n",
       "      <td>1.00000</td>\n",
       "      <td>1.000000</td>\n",
       "      <td>100193.915000</td>\n",
       "      <td>0.000000</td>\n",
       "    </tr>\n",
       "    <tr>\n",
       "      <th>75%</th>\n",
       "      <td>718.000000</td>\n",
       "      <td>44.000000</td>\n",
       "      <td>7.000000</td>\n",
       "      <td>127644.240000</td>\n",
       "      <td>2.000000</td>\n",
       "      <td>1.00000</td>\n",
       "      <td>1.000000</td>\n",
       "      <td>149388.247500</td>\n",
       "      <td>0.000000</td>\n",
       "    </tr>\n",
       "    <tr>\n",
       "      <th>max</th>\n",
       "      <td>850.000000</td>\n",
       "      <td>92.000000</td>\n",
       "      <td>10.000000</td>\n",
       "      <td>250898.090000</td>\n",
       "      <td>4.000000</td>\n",
       "      <td>1.00000</td>\n",
       "      <td>1.000000</td>\n",
       "      <td>199992.480000</td>\n",
       "      <td>1.000000</td>\n",
       "    </tr>\n",
       "  </tbody>\n",
       "</table>\n",
       "</div>"
      ],
      "text/plain": [
       "        CreditScore           Age        Tenure        Balance  NumOfProducts  \\\n",
       "count  10000.000000  10000.000000  10000.000000   10000.000000   10000.000000   \n",
       "mean     650.528800     38.921800      4.543400   76485.889288       1.530200   \n",
       "std       96.653299     10.487806      3.111573   62397.405202       0.581654   \n",
       "min      350.000000     18.000000      0.000000       0.000000       1.000000   \n",
       "25%      584.000000     32.000000      2.000000       0.000000       1.000000   \n",
       "50%      652.000000     37.000000      4.000000   97198.540000       1.000000   \n",
       "75%      718.000000     44.000000      7.000000  127644.240000       2.000000   \n",
       "max      850.000000     92.000000     10.000000  250898.090000       4.000000   \n",
       "\n",
       "         HasCrCard  IsActiveMember  EstimatedSalary        Exited  \n",
       "count  10000.00000    10000.000000     10000.000000  10000.000000  \n",
       "mean       0.70550        0.515100    100090.239881      0.203700  \n",
       "std        0.45584        0.499797     57510.492818      0.402769  \n",
       "min        0.00000        0.000000        11.580000      0.000000  \n",
       "25%        0.00000        0.000000     51002.110000      0.000000  \n",
       "50%        1.00000        1.000000    100193.915000      0.000000  \n",
       "75%        1.00000        1.000000    149388.247500      0.000000  \n",
       "max        1.00000        1.000000    199992.480000      1.000000  "
      ]
     },
     "execution_count": 11,
     "metadata": {},
     "output_type": "execute_result"
    }
   ],
   "source": [
    "df.describe()"
   ]
  },
  {
   "cell_type": "markdown",
   "metadata": {},
   "source": [
    "В первой части нашего исследования мы изучили и подготовили данные для дальнейшей работы. Проверили на наличие дубликатов, убрали пропуски в данных и удалили столбцы в данных, которые не нужны для дальнейшего исследования."
   ]
  },
  {
   "cell_type": "markdown",
   "metadata": {},
   "source": [
    "## Исследование задачи"
   ]
  },
  {
   "cell_type": "markdown",
   "metadata": {},
   "source": [
    "Преобразем датафрейм техникой OHE. Чтобы не попасть в дамми-ловушку, применим аргумент drop_first функции pd.get_dummies(). \n"
   ]
  },
  {
   "cell_type": "code",
   "execution_count": 12,
   "metadata": {},
   "outputs": [],
   "source": [
    "\n",
    "df_OHE = pd.get_dummies(df,drop_first=True)\n"
   ]
  },
  {
   "cell_type": "code",
   "execution_count": 13,
   "metadata": {
    "scrolled": true
   },
   "outputs": [
    {
     "name": "stdout",
     "output_type": "stream",
     "text": [
      "(6000, 11) (2000, 11) (2000, 11)\n",
      "(6000,) (2000,) (2000,)\n"
     ]
    }
   ],
   "source": [
    "#Разобьем данные на выборки: Обучающую, валидационную, тестовую в соотношении 60-20-20 соотвественно.\n",
    "\n",
    "target = df_OHE['Exited']\n",
    "features = df_OHE.drop('Exited', axis = 1)\n",
    "\n",
    "# делим выборку на train, valid на 0,6 и 0,4 соответственно\n",
    "features_train, features_valid, target_train, target_valid= train_test_split(features,target, test_size=0.4, random_state=12345, shuffle=True)\n",
    "# делим выборку valid на valid и test 0,4 делим пополам\n",
    "features_valid, features_test, target_valid, target_test = train_test_split(features_valid,target_valid, test_size=0.5, random_state=12345, shuffle=True)\n",
    "\n",
    "\n",
    "print(features_train.shape, features_valid.shape, features_test.shape)\n",
    "print(target_train.shape, target_valid.shape, target_test.shape)\n"
   ]
  },
  {
   "cell_type": "markdown",
   "metadata": {},
   "source": [
    "Исследуем модели: 1 Дерево 2 Случайный лес 3 Логическая регрессия"
   ]
  },
  {
   "cell_type": "code",
   "execution_count": 14,
   "metadata": {},
   "outputs": [
    {
     "name": "stdout",
     "output_type": "stream",
     "text": [
      "max_depth = 1 : 0.791\n",
      "max_depth = 2 : 0.824\n",
      "max_depth = 3 : 0.838\n",
      "max_depth = 4 : 0.852\n",
      "max_depth = 5 : 0.853\n",
      "max_depth = 6 : 0.858\n",
      "max_depth = 7 : 0.8505\n",
      "max_depth = 8 : 0.8505\n",
      "max_depth = 9 : 0.85\n",
      "max_depth = 10 : 0.834\n",
      "max_depth = 11 : 0.8225\n",
      "max_depth = 12 : 0.81\n",
      "max_depth = 13 : 0.818\n",
      "max_depth = 14 : 0.8005\n",
      "max_depth = 15 : 0.8035\n",
      "max_depth = 16 : 0.799\n",
      "max_depth = 17 : 0.787\n",
      "max_depth = 18 : 0.794\n",
      "max_depth = 19 : 0.7915\n",
      "CPU times: user 442 ms, sys: 1.14 ms, total: 443 ms\n",
      "Wall time: 449 ms\n"
     ]
    }
   ],
   "source": [
    "%%time\n",
    "for depth in range(1, 20):\n",
    "    model = DecisionTreeClassifier(random_state=12345, max_depth=depth) #  создадим модель, указав max_depth=depth \n",
    "    model.fit(features_train,target_train) #  обучим модель \n",
    "    predictions_valid = model.predict(features_valid) #  найдем предсказания на валидационной выборке \n",
    "    \n",
    "    print(\"max_depth =\", depth, \": \", end='')\n",
    "    print(accuracy_score(target_valid, predictions_valid))"
   ]
  },
  {
   "cell_type": "markdown",
   "metadata": {},
   "source": [
    "Лучшее значение на глубине 7."
   ]
  },
  {
   "cell_type": "markdown",
   "metadata": {},
   "source": [
    "Теперь исследуем модель случайный лес.\n"
   ]
  },
  {
   "cell_type": "code",
   "execution_count": 15,
   "metadata": {},
   "outputs": [
    {
     "name": "stdout",
     "output_type": "stream",
     "text": [
      "Accuracy наилучшей модели на валидационной выборке: 0.8605\n",
      "CPU times: user 9.61 s, sys: 147 ms, total: 9.76 s\n",
      "Wall time: 9.77 s\n"
     ]
    }
   ],
   "source": [
    "%%time \n",
    "best_model_forest = None\n",
    "best_result = 0\n",
    "for est in range(50, 351, 50):\n",
    "    model = RandomForestClassifier(random_state=12345, n_estimators=est) # создадим модель с заданным количеством деревьев\n",
    "    model.fit(features_train, target_train) # обучим модель на тренировочной выборке\n",
    "    result = model.score(features_valid, target_valid) # посчитаем качество модели на валидационной выборке\n",
    "    if result > best_result:\n",
    "        best_model_forest= model# сохраним наилучшую модель\n",
    "        best_result = result #  сохраним наилучшее значение метрики accuracy на валидационных данных\n",
    "print(\"Accuracy наилучшей модели на валидационной выборке:\", best_result)        "
   ]
  },
  {
   "cell_type": "markdown",
   "metadata": {},
   "source": [
    "Теперь исследуем модель Логическая регрессия"
   ]
  },
  {
   "cell_type": "code",
   "execution_count": 16,
   "metadata": {},
   "outputs": [
    {
     "name": "stdout",
     "output_type": "stream",
     "text": [
      "CPU times: user 202 ms, sys: 418 ms, total: 620 ms\n",
      "Wall time: 558 ms\n"
     ]
    },
    {
     "data": {
      "text/plain": [
       "0.7902"
      ]
     },
     "execution_count": 16,
     "metadata": {},
     "output_type": "execute_result"
    }
   ],
   "source": [
    "%%time\n",
    "model = LogisticRegression(random_state=12345, solver = 'lbfgs', max_iter = 100)# создадим модель с заданными параметрами, возьмем количество итераций по умолчанию \n",
    "model.fit(features_train, target_train)\n",
    "model_predict = model.predict(features_valid) \n",
    "model.score(features, target) "
   ]
  },
  {
   "cell_type": "markdown",
   "metadata": {},
   "source": [
    "Результат ниже, чем у двух предыдущих."
   ]
  },
  {
   "cell_type": "markdown",
   "metadata": {},
   "source": [
    "Посмотрим на значения  полноты,  точности моделей, F1"
   ]
  },
  {
   "cell_type": "markdown",
   "metadata": {},
   "source": [
    "Начнем с дерева"
   ]
  },
  {
   "cell_type": "code",
   "execution_count": 17,
   "metadata": {},
   "outputs": [
    {
     "name": "stdout",
     "output_type": "stream",
     "text": [
      "Дерево\n",
      "Точность 0.7685589519650655\n",
      "Полнота 0.42105263157894735\n",
      "F1- мера 0.5440494590417311\n",
      "\n",
      "CPU times: user 44.5 ms, sys: 23.9 ms, total: 68.4 ms\n",
      "Wall time: 111 ms\n"
     ]
    }
   ],
   "source": [
    "%%time\n",
    "\n",
    "model = DecisionTreeClassifier(random_state=20052020, max_depth=7)\n",
    "model.fit(features_train, target_train)\n",
    "predicted_valid = model.predict(features_valid)\n",
    "print('Дерево')\n",
    "print('Точность', precision_score(target_valid, predicted_valid))\n",
    "print('Полнота', recall_score(target_valid, predicted_valid))\n",
    "print('F1- мера', f1_score(target_valid, predicted_valid))\n",
    "print()\n"
   ]
  },
  {
   "cell_type": "markdown",
   "metadata": {},
   "source": [
    "Теперь случайный лес"
   ]
  },
  {
   "cell_type": "code",
   "execution_count": 18,
   "metadata": {},
   "outputs": [
    {
     "name": "stdout",
     "output_type": "stream",
     "text": [
      "Случайный лес\n",
      "Точность 0.7626459143968871\n",
      "Полнота 0.4688995215311005\n",
      "F1- мера 0.5807407407407408\n",
      "\n",
      "CPU times: user 669 ms, sys: 7.76 ms, total: 677 ms\n",
      "Wall time: 690 ms\n"
     ]
    }
   ],
   "source": [
    "%%time\n",
    "model = RandomForestClassifier(random_state=12345, n_estimators=100) \n",
    "model.fit(features_train, target_train) \n",
    "\n",
    "predicted_valid = model.predict(features_valid)\n",
    "print('Случайный лес')\n",
    "print('Точность', precision_score(target_valid, predicted_valid))\n",
    "print('Полнота', recall_score(target_valid, predicted_valid))\n",
    "print('F1- мера', f1_score(target_valid, predicted_valid))\n",
    "print()"
   ]
  },
  {
   "cell_type": "markdown",
   "metadata": {},
   "source": [
    "И осталась у нас модель Логическая регрессия"
   ]
  },
  {
   "cell_type": "code",
   "execution_count": 19,
   "metadata": {},
   "outputs": [
    {
     "name": "stdout",
     "output_type": "stream",
     "text": [
      "Логическая регрессия\n",
      "Точность 0.3387096774193548\n",
      "Полнота 0.050239234449760764\n",
      "F1- мера 0.08750000000000001\n",
      "\n",
      "CPU times: user 229 ms, sys: 500 ms, total: 730 ms\n",
      "Wall time: 688 ms\n"
     ]
    }
   ],
   "source": [
    "%%time\n",
    "model = LogisticRegression(random_state=12345, solver = 'lbfgs', max_iter = 100)\n",
    "model.fit(features_train, target_train)\n",
    "predicted_valid = model.predict(features_valid)\n",
    "print('Логическая регрессия')\n",
    "print('Точность', precision_score(target_valid, predicted_valid))\n",
    "print('Полнота', recall_score(target_valid, predicted_valid))\n",
    "print('F1- мера', f1_score(target_valid, predicted_valid))\n",
    "print()"
   ]
  },
  {
   "cell_type": "markdown",
   "metadata": {},
   "source": [
    "Модель дерево"
   ]
  },
  {
   "cell_type": "code",
   "execution_count": 20,
   "metadata": {},
   "outputs": [
    {
     "name": "stdout",
     "output_type": "stream",
     "text": [
      "auc_roc 0.818761757571725\n"
     ]
    },
    {
     "data": {
      "image/png": "[encoded data removed]",
      "text/plain": [
       "<Figure size 432x288 with 1 Axes>"
      ]
     },
     "metadata": {
      "needs_background": "light"
     },
     "output_type": "display_data"
    }
   ],
   "source": [
    "model = DecisionTreeClassifier(random_state=20052020, max_depth=7)\n",
    "model.fit(features_train, target_train)\n",
    "probabilities_valid = model.predict_proba(features_valid)\n",
    "probabilities_one_valid = probabilities_valid[:, 1]\n",
    "\n",
    "fpr, tpr, thresholds = roc_curve(target_valid, probabilities_one_valid)\n",
    "auc_roc = roc_auc_score(target_valid, probabilities_one_valid)\n",
    "plt.figure()\n",
    "plt.plot([0, 1], [0, 1], linestyle='--')\n",
    "\n",
    "plt.plot(fpr, tpr)\n",
    "plt.xlim([0.0, 1.0])\n",
    "plt.ylim([0.0, 1.0])\n",
    "plt.xlabel('False Positive Rate')\n",
    "plt.ylabel('True Positive Rate')\n",
    "plt.title('ROC-кривая')\n",
    "print('auc_roc', auc_roc)\n",
    "plt.show()"
   ]
  },
  {
   "cell_type": "markdown",
   "metadata": {},
   "source": [
    "Модель случайный лес"
   ]
  },
  {
   "cell_type": "code",
   "execution_count": 21,
   "metadata": {},
   "outputs": [
    {
     "name": "stdout",
     "output_type": "stream",
     "text": [
      "auc_roc 0.8424114893025\n"
     ]
    },
    {
     "data": {
      "image/png": "[encoded data removed]",
      "text/plain": [
       "<Figure size 432x288 with 1 Axes>"
      ]
     },
     "metadata": {
      "needs_background": "light"
     },
     "output_type": "display_data"
    }
   ],
   "source": [
    "model = RandomForestClassifier(random_state=12345, n_estimators=100) \n",
    "model.fit(features_train, target_train)\n",
    "probabilities_valid = model.predict_proba(features_valid)\n",
    "probabilities_one_valid = probabilities_valid[:, 1]\n",
    "\n",
    "fpr, tpr, thresholds = roc_curve(target_valid, probabilities_one_valid)\n",
    "auc_roc = roc_auc_score(target_valid, probabilities_one_valid)\n",
    "plt.figure()\n",
    "plt.plot([0, 1], [0, 1], linestyle='--')\n",
    "\n",
    "plt.plot(fpr, tpr)\n",
    "plt.xlim([0.0, 1.0])\n",
    "plt.ylim([0.0, 1.0])\n",
    "plt.xlabel('False Positive Rate')\n",
    "plt.ylabel('True Positive Rate')\n",
    "plt.title('ROC-кривая')\n",
    "print('auc_roc', auc_roc)\n",
    "plt.show()"
   ]
  },
  {
   "cell_type": "markdown",
   "metadata": {},
   "source": [
    "Модель логическая регрессия"
   ]
  },
  {
   "cell_type": "code",
   "execution_count": 22,
   "metadata": {},
   "outputs": [
    {
     "name": "stdout",
     "output_type": "stream",
     "text": [
      "auc_roc 0.6736022477755128\n"
     ]
    },
    {
     "data": {
      "image/png": "[encoded data removed]",
      "text/plain": [
       "<Figure size 432x288 with 1 Axes>"
      ]
     },
     "metadata": {
      "needs_background": "light"
     },
     "output_type": "display_data"
    }
   ],
   "source": [
    "model = LogisticRegression(random_state=12345, solver = 'lbfgs', max_iter = 100)\n",
    "model.fit(features_train, target_train)\n",
    "probabilities_valid = model.predict_proba(features_valid)\n",
    "probabilities_one_valid = probabilities_valid[:, 1]\n",
    "\n",
    "fpr, tpr, thresholds = roc_curve(target_valid, probabilities_one_valid)\n",
    "auc_roc = roc_auc_score(target_valid, probabilities_one_valid)\n",
    "plt.figure()\n",
    "plt.plot([0, 1], [0, 1], linestyle='--')\n",
    "\n",
    "plt.plot(fpr, tpr)\n",
    "plt.xlim([0.0, 1.0])\n",
    "plt.ylim([0.0, 1.0])\n",
    "plt.xlabel('False Positive Rate')\n",
    "plt.ylabel('True Positive Rate')\n",
    "plt.title('ROC-кривая')\n",
    "print('auc_roc', auc_roc)\n",
    "plt.show()"
   ]
  },
  {
   "cell_type": "markdown",
   "metadata": {},
   "source": [
    "Судя по графикам, кривая ошибок выше у модели Случайный лес. Это значит, что истинно-положительных ответов у нее больше, соответсвенно и качество лучше."
   ]
  },
  {
   "cell_type": "markdown",
   "metadata": {},
   "source": [
    "## Борьба с дисбалансом"
   ]
  },
  {
   "cell_type": "markdown",
   "metadata": {},
   "source": [
    "Сначала стандартизируем численные признаки. Импортируем StandardScaler из модуля sklearn.preprocessing.\n",
    "Создадим объект структуры StandardScaler() и настройте его на обучающих данных."
   ]
  },
  {
   "cell_type": "code",
   "execution_count": 23,
   "metadata": {},
   "outputs": [
    {
     "name": "stdout",
     "output_type": "stream",
     "text": [
      "      CreditScore       Age    Tenure   Balance  NumOfProducts  HasCrCard  \\\n",
      "7479    -0.886751 -0.373192  1.104696  1.232271      -0.891560   0.642466   \n",
      "3411     0.608663 -0.183385  1.104696  0.600563      -0.891560  -1.556504   \n",
      "6027     2.052152  0.480939 -0.503694  1.027098       0.830152  -1.556504   \n",
      "1247    -1.457915 -1.417129  0.461340 -1.233163       0.830152   0.642466   \n",
      "3716     0.130961 -1.132419 -0.825373  1.140475      -0.891560  -1.556504   \n",
      "\n",
      "      IsActiveMember  EstimatedSalary  Geography_Germany  Geography_Spain  \\\n",
      "7479       -1.055187        -0.187705                  0                1   \n",
      "3411       -1.055187        -0.333945                  0                0   \n",
      "6027        0.947699         1.503095                  1                0   \n",
      "1247       -1.055187        -1.071061                  0                0   \n",
      "3716       -1.055187         1.524268                  1                0   \n",
      "\n",
      "      Gender_Male  \n",
      "7479            1  \n",
      "3411            0  \n",
      "6027            1  \n",
      "1247            1  \n",
      "3716            0  \n"
     ]
    }
   ],
   "source": [
    "numeric = ['CreditScore', 'Age', 'Tenure', 'Balance', 'NumOfProducts', 'HasCrCard', 'IsActiveMember', 'EstimatedSalary']\n",
    "\n",
    "scaler = StandardScaler()\n",
    "scaler.fit(features_train[numeric]) \n",
    "features_train[numeric] = scaler.transform(features_train[numeric])\n",
    "features_valid[numeric]= scaler.transform(features_valid[numeric]) \n",
    "features_test[numeric]= scaler.transform(features_test[numeric]) \n",
    "print(features_train.head())"
   ]
  },
  {
   "cell_type": "markdown",
   "metadata": {},
   "source": [
    "Теперь сравним модели:\n",
    "1. Со взвешенными классами\n",
    "2. С увеличением выборки\n",
    "3. С уменьшением выборки"
   ]
  },
  {
   "cell_type": "code",
   "execution_count": 24,
   "metadata": {},
   "outputs": [
    {
     "name": "stdout",
     "output_type": "stream",
     "text": [
      "Дерево\n",
      "Точность 0.47766323024054985\n",
      "Полнота 0.6650717703349283\n",
      "F1- мера 0.5559999999999999\n",
      "\n",
      "Случайный лес\n",
      "Точность 0.773109243697479\n",
      "Полнота 0.44019138755980863\n",
      "F1- мера 0.5609756097560976\n",
      "\n",
      "Логическая регрессия\n",
      "Точность 0.3803191489361702\n",
      "Полнота 0.6842105263157895\n",
      "F1- мера 0.4888888888888888\n",
      "\n"
     ]
    }
   ],
   "source": [
    "# Начнем с взвешивания классов\n",
    "\n",
    "\n",
    "model = DecisionTreeClassifier(random_state=20052020, max_depth=7, class_weight='balanced')\n",
    "model.fit(features_train, target_train)\n",
    "predicted_valid = model.predict(features_valid)\n",
    "print('Дерево')\n",
    "print('Точность', precision_score(target_valid, predicted_valid))\n",
    "print('Полнота', recall_score(target_valid, predicted_valid))\n",
    "print('F1- мера', f1_score(target_valid, predicted_valid))\n",
    "print()\n",
    "\n",
    "\n",
    "model = RandomForestClassifier(random_state=12345, n_estimators=100, class_weight='balanced' ) \n",
    "model.fit(features_train, target_train) \n",
    "\n",
    "predicted_valid = model.predict(features_valid)\n",
    "print('Случайный лес')\n",
    "print('Точность', precision_score(target_valid, predicted_valid))\n",
    "print('Полнота', recall_score(target_valid, predicted_valid))\n",
    "print('F1- мера', f1_score(target_valid, predicted_valid))\n",
    "print()\n",
    "\n",
    "\n",
    "model = LogisticRegression(random_state=12345, solver = 'lbfgs', max_iter = 100, class_weight='balanced')\n",
    "model.fit(features_train, target_train)\n",
    "predicted_valid = model.predict(features_valid)\n",
    "print('Логическая регрессия')\n",
    "print('Точность', precision_score(target_valid, predicted_valid))\n",
    "print('Полнота', recall_score(target_valid, predicted_valid))\n",
    "print('F1- мера', f1_score(target_valid, predicted_valid))\n",
    "print()"
   ]
  },
  {
   "cell_type": "markdown",
   "metadata": {},
   "source": [
    "Самые явные изменения у Логической регрессии: Полнота и F-мера увеличились в несколько раз."
   ]
  },
  {
   "cell_type": "code",
   "execution_count": 25,
   "metadata": {},
   "outputs": [
    {
     "name": "stdout",
     "output_type": "stream",
     "text": [
      "(9588, 11)\n",
      "(9588,)\n",
      "0    4804\n",
      "1    4784\n",
      "Name: Exited, dtype: int64\n"
     ]
    }
   ],
   "source": [
    "#Теперь исследуем увеличение выборки\n",
    "repeat = 4\n",
    "\n",
    "\n",
    "def upsample(features, target, repeat):\n",
    "  \n",
    "    features_zeros = features_train[target_train == 0]\n",
    "    features_ones = features_train[target_train == 1]\n",
    "    target_zeros = target_train[target_train == 0]\n",
    "    target_ones = target_train[target_train == 1]\n",
    "    features_upsampled = pd.concat([features_zeros] + [features_ones] * repeat)\n",
    "    target_upsampled = pd.concat([target_zeros] + [target_ones] * repeat)\n",
    "    features_upsampled, target_upsampled = shuffle (features_upsampled, target_upsampled, random_state=12345)\n",
    "\n",
    "    return features_upsampled, target_upsampled\n",
    "\n",
    "\n",
    "features_upsampled, target_upsampled = upsample(features_train, target_train, 4)\n",
    "\n",
    "print(features_upsampled.shape)\n",
    "print(target_upsampled.shape)\n",
    "print(target_upsampled.value_counts())"
   ]
  },
  {
   "cell_type": "code",
   "execution_count": 26,
   "metadata": {},
   "outputs": [
    {
     "name": "stdout",
     "output_type": "stream",
     "text": [
      "Дерево\n",
      "Точность 0.4793103448275862\n",
      "Полнота 0.6650717703349283\n",
      "F1- мера 0.5571142284569138\n",
      "\n",
      "Случайный лес\n",
      "Точность 0.6756756756756757\n",
      "Полнота 0.5382775119617225\n",
      "F1- мера 0.5992010652463382\n",
      "\n",
      "Логическая регрессия\n",
      "Точность 0.3794940079893475\n",
      "Полнота 0.6818181818181818\n",
      "F1- мера 0.4875962360992301\n",
      "\n"
     ]
    }
   ],
   "source": [
    "model = DecisionTreeClassifier(random_state=20052020, max_depth=7)\n",
    "model.fit(features_upsampled, target_upsampled)\n",
    "predicted_valid = model.predict(features_valid)\n",
    "print('Дерево')\n",
    "print('Точность', precision_score(target_valid, predicted_valid))\n",
    "print('Полнота', recall_score(target_valid, predicted_valid))\n",
    "print('F1- мера', f1_score(target_valid, predicted_valid))\n",
    "print()\n",
    "\n",
    "\n",
    "model = RandomForestClassifier(random_state=12345, n_estimators=100) \n",
    "model.fit(features_upsampled, target_upsampled) \n",
    "\n",
    "predicted_valid = model.predict(features_valid)\n",
    "print('Случайный лес')\n",
    "print('Точность', precision_score(target_valid, predicted_valid))\n",
    "print('Полнота', recall_score(target_valid, predicted_valid))\n",
    "print('F1- мера', f1_score(target_valid, predicted_valid))\n",
    "print()\n",
    "\n",
    "\n",
    "model = LogisticRegression(random_state=12345, solver = 'lbfgs', max_iter = 100)\n",
    "model.fit(features_upsampled, target_upsampled)\n",
    "predicted_valid = model.predict(features_valid)\n",
    "print('Логическая регрессия')\n",
    "print('Точность', precision_score(target_valid, predicted_valid))\n",
    "print('Полнота', recall_score(target_valid, predicted_valid))\n",
    "print('F1- мера', f1_score(target_valid, predicted_valid))\n",
    "print()"
   ]
  },
  {
   "cell_type": "markdown",
   "metadata": {},
   "source": [
    "Показатели моделей Дерево и Случайный лес почти не изменились, показатели модели Логическая регрессия выросли, но в случае взвешивания классов рост оказался выше."
   ]
  },
  {
   "cell_type": "code",
   "execution_count": 27,
   "metadata": {},
   "outputs": [
    {
     "name": "stdout",
     "output_type": "stream",
     "text": [
      "(2157, 11)\n",
      "(2157,)\n"
     ]
    }
   ],
   "source": [
    "#Теперь исследуем уменьшение выборки\n",
    "fraction = 0.2\n",
    "def downsample(features, target, fraction):\n",
    "    features_zeros = features[target == 0]\n",
    "    features_ones = features[target == 1]\n",
    "    target_zeros = target[target == 0]\n",
    "    target_ones = target[target == 1]\n",
    "    features_downsampled = pd.concat(\n",
    "        [features_zeros.sample(frac=fraction, random_state=12345)] + [features_ones])\n",
    "    target_downsampled = pd.concat(\n",
    "        [target_zeros.sample(frac=fraction, random_state=12345)] + [target_ones])\n",
    "    features_downsampled, target_downsampled = shuffle (features_downsampled, \n",
    "                                                        target_downsampled, random_state=12345)\n",
    "    return features_downsampled, target_downsampled\n",
    "\n",
    "features_downsampled, target_downsampled = downsample(features_train, target_train, 0.2)\n",
    "\n",
    "print(features_downsampled.shape)\n",
    "print(target_downsampled.shape)\n"
   ]
  },
  {
   "cell_type": "code",
   "execution_count": 28,
   "metadata": {},
   "outputs": [
    {
     "name": "stdout",
     "output_type": "stream",
     "text": [
      "Дерево\n",
      "Точность 0.3978622327790974\n",
      "Полнота 0.8014354066985646\n",
      "F1- мера 0.5317460317460317\n",
      "\n",
      "Случайный лес\n",
      "Точность 0.4336870026525199\n",
      "Полнота 0.7822966507177034\n",
      "F1- мера 0.5580204778156997\n",
      "\n",
      "Логическая регрессия\n",
      "Точность 0.3530751708428246\n",
      "Полнота 0.7416267942583732\n",
      "F1- мера 0.478395061728395\n",
      "\n"
     ]
    }
   ],
   "source": [
    "model = DecisionTreeClassifier(random_state=20052020, max_depth=7)\n",
    "model.fit(features_downsampled, target_downsampled)\n",
    "predicted_valid = model.predict(features_valid)\n",
    "print('Дерево')\n",
    "print('Точность', precision_score(target_valid, predicted_valid))\n",
    "print('Полнота', recall_score(target_valid, predicted_valid))\n",
    "print('F1- мера', f1_score(target_valid, predicted_valid))\n",
    "print()\n",
    "\n",
    "\n",
    "model = RandomForestClassifier(random_state=12345, n_estimators=100) \n",
    "model.fit(features_downsampled, target_downsampled) \n",
    "\n",
    "predicted_valid = model.predict(features_valid)\n",
    "print('Случайный лес')\n",
    "print('Точность', precision_score(target_valid, predicted_valid))\n",
    "print('Полнота', recall_score(target_valid, predicted_valid))\n",
    "print('F1- мера', f1_score(target_valid, predicted_valid))\n",
    "print()\n",
    "\n",
    "\n",
    "model = LogisticRegression(random_state=12345, solver = 'lbfgs', max_iter = 100)\n",
    "model.fit(features_downsampled, target_downsampled)\n",
    "predicted_valid = model.predict(features_valid)\n",
    "print('Логическая регрессия')\n",
    "print('Точность', precision_score(target_valid, predicted_valid))\n",
    "print('Полнота', recall_score(target_valid, predicted_valid))\n",
    "print('F1- мера', f1_score(target_valid, predicted_valid))\n",
    "print()"
   ]
  },
  {
   "cell_type": "markdown",
   "metadata": {},
   "source": [
    "Если сравнивать все значения F1 меры, то лучшее было еще до проведения дисбаланса. На модели Случайный лес при est=100 F1 -мера равна 0,580."
   ]
  },
  {
   "cell_type": "markdown",
   "metadata": {},
   "source": [
    "## Тестирование модели"
   ]
  },
  {
   "cell_type": "markdown",
   "metadata": {},
   "source": [
    "Для тестирования выберем модель Случайный лес. Судя по графикам, кривая ошибок выше у модели Случайный лес. Это значит, что истинно-положительных ответов у нее больше, соответсвенно и качество лучше. На модели Случайный лес при est=100 F1 -мера равна 0,580 - пока это лучший результат в нашем исследовании"
   ]
  },
  {
   "cell_type": "markdown",
   "metadata": {},
   "source": [
    "Методом \"научного тыка\" поэкспериментировали с гиперпараметрами на модели Случайный лес. Необходимое минимальное значение F1 -меры нашлось в диапазоне 280-282"
   ]
  },
  {
   "cell_type": "code",
   "execution_count": 29,
   "metadata": {},
   "outputs": [
    {
     "name": "stdout",
     "output_type": "stream",
     "text": [
      "est: 280 F1 0.6031746031746033\n",
      "est: 281 F1 0.6068601583113458\n",
      "est: 282 F1 0.6050198150594451\n",
      "est: 283 F1 0.6042216358839051\n",
      "est: 284 F1 0.6005291005291005\n",
      "CPU times: user 13.3 s, sys: 175 ms, total: 13.5 s\n",
      "Wall time: 13.6 s\n"
     ]
    }
   ],
   "source": [
    "%%time\n",
    "\n",
    "\n",
    "for est in range(280,285):\n",
    "    model = RandomForestClassifier(random_state=12345, n_estimators=est) \n",
    "    model.fit(features_upsampled, target_upsampled)\n",
    "    predicted_valid = model.predict(features_valid)\n",
    "\n",
    "\n",
    "    print(\"est:\", est ,'F1', f1_score(target_valid, predicted_valid))"
   ]
  },
  {
   "cell_type": "code",
   "execution_count": 30,
   "metadata": {},
   "outputs": [
    {
     "name": "stdout",
     "output_type": "stream",
     "text": [
      "accuracy 0.849\n",
      "Точность 0.6715976331360947\n",
      "Полнота 0.5430622009569378\n",
      "F1- мера 0.6005291005291005\n"
     ]
    }
   ],
   "source": [
    "\n",
    "print('accuracy', accuracy_score(target_valid, predicted_valid))\n",
    "print('Точность', precision_score(target_valid, predicted_valid))\n",
    "print('Полнота', recall_score(target_valid, predicted_valid))\n",
    "print('F1- мера', f1_score(target_valid, predicted_valid))"
   ]
  },
  {
   "cell_type": "code",
   "execution_count": 31,
   "metadata": {},
   "outputs": [
    {
     "name": "stdout",
     "output_type": "stream",
     "text": [
      "accuracy 0.8395\n",
      "Точность 0.650887573964497\n",
      "Полнота 0.5200945626477541\n",
      "F1- мера 0.5781865965834427\n",
      "CPU times: user 149 ms, sys: 3.84 ms, total: 153 ms\n",
      "Wall time: 163 ms\n"
     ]
    }
   ],
   "source": [
    "\n",
    "%%time\n",
    "\n",
    "predicted_test = model.predict(features_test)\n",
    "\n",
    "\n",
    "print('accuracy', accuracy_score(target_test, predicted_test))\n",
    "print('Точность', precision_score(target_test, predicted_test))\n",
    "print('Полнота', recall_score(target_test, predicted_test))\n",
    "print('F1- мера', f1_score(target_test, predicted_test))"
   ]
  },
  {
   "cell_type": "code",
   "execution_count": 32,
   "metadata": {},
   "outputs": [
    {
     "name": "stdout",
     "output_type": "stream",
     "text": [
      "auc_roc 0.8527045846693981\n"
     ]
    },
    {
     "data": {
      "image/png": "[encoded data removed]",
      "text/plain": [
       "<Figure size 432x288 with 1 Axes>"
      ]
     },
     "metadata": {
      "needs_background": "light"
     },
     "output_type": "display_data"
    }
   ],
   "source": [
    "\n",
    "probabilities_test = model.predict_proba(features_test)\n",
    "probabilities_one_test = probabilities_test[:, 1]\n",
    "\n",
    "fpr, tpr, thresholds = roc_curve(target_test, probabilities_one_test)\n",
    "auc_roc = roc_auc_score(target_test, probabilities_one_test)\n",
    "plt.figure()\n",
    "plt.plot([0, 1], [0, 1], linestyle='--')\n",
    "\n",
    "plt.plot(fpr, tpr)\n",
    "plt.xlim([0.0, 1.0])\n",
    "plt.ylim([0.0, 1.0])\n",
    "plt.xlabel('False Positive Rate')\n",
    "plt.ylabel('True Positive Rate')\n",
    "plt.title('ROC-кривая')\n",
    "print('auc_roc', auc_roc)\n",
    "plt.show()"
   ]
  },
  {
   "cell_type": "markdown",
   "metadata": {},
   "source": [
    "Кривая ошибок выше средней линии. Это значит, что истинно-положительных ответов у нее больше, соответсвенно и качество лучше."
   ]
  },
  {
   "cell_type": "markdown",
   "metadata": {},
   "source": [
    "## Вывод: \n",
    "В данном исследовании мы изучили и подготовили данные, Исследовали баланс классов и обучили модель сначала без учета дизбаланса, а потом и с учетом. Нашли, что при увеличении выборки модель случайного леса показывает наибольшее значение А1. Проверили на этой модели тестовую выборку. Значение F1-метрики на на тестовой модели 0,589 а площадь под кривой 0,84, что приближается к 1, то есть доля истинно-положительных ответов достаточно высока."
   ]
  }
 ],
 "metadata": {
  "ExecuteTimeLog": [
   {
    "duration": 1271,
    "start_time": "2022-11-17T13:02:06.068Z"
   },
   {
    "duration": 11,
    "start_time": "2022-11-17T13:02:35.851Z"
   },
   {
    "duration": 92,
    "start_time": "2022-11-17T13:06:45.032Z"
   },
   {
    "duration": 8,
    "start_time": "2022-11-17T13:06:53.772Z"
   },
   {
    "duration": 4,
    "start_time": "2022-11-17T13:07:04.777Z"
   },
   {
    "duration": 10,
    "start_time": "2022-11-17T13:12:32.284Z"
   },
   {
    "duration": 4,
    "start_time": "2022-11-17T13:14:42.072Z"
   },
   {
    "duration": 7,
    "start_time": "2022-11-17T13:15:56.099Z"
   },
   {
    "duration": 46,
    "start_time": "2022-11-17T13:16:32.669Z"
   },
   {
    "duration": 8,
    "start_time": "2022-11-17T13:18:08.906Z"
   },
   {
    "duration": 7,
    "start_time": "2022-11-17T13:18:23.127Z"
   },
   {
    "duration": 4,
    "start_time": "2022-11-17T13:20:54.235Z"
   },
   {
    "duration": 8,
    "start_time": "2022-11-17T13:20:55.694Z"
   },
   {
    "duration": 5,
    "start_time": "2022-11-17T13:22:42.515Z"
   },
   {
    "duration": 12,
    "start_time": "2022-11-17T13:30:13.753Z"
   },
   {
    "duration": 39,
    "start_time": "2022-11-17T13:30:58.123Z"
   },
   {
    "duration": 15,
    "start_time": "2022-11-17T13:39:39.954Z"
   },
   {
    "duration": 8,
    "start_time": "2022-11-17T13:40:46.859Z"
   },
   {
    "duration": 114,
    "start_time": "2022-11-17T13:41:48.795Z"
   },
   {
    "duration": 370,
    "start_time": "2022-11-17T13:45:38.776Z"
   },
   {
    "duration": 86,
    "start_time": "2022-11-17T13:45:44.553Z"
   },
   {
    "duration": 15,
    "start_time": "2022-11-17T13:45:52.812Z"
   },
   {
    "duration": 977,
    "start_time": "2022-11-17T13:46:25.594Z"
   },
   {
    "duration": 43,
    "start_time": "2022-11-17T13:46:58.730Z"
   },
   {
    "duration": 13,
    "start_time": "2022-11-17T13:47:07.053Z"
   },
   {
    "duration": 7,
    "start_time": "2022-11-17T13:48:54.298Z"
   },
   {
    "duration": 6,
    "start_time": "2022-11-17T13:49:37.914Z"
   },
   {
    "duration": 18,
    "start_time": "2022-11-17T13:49:53.781Z"
   },
   {
    "duration": 13,
    "start_time": "2022-11-17T13:51:48.769Z"
   },
   {
    "duration": 13,
    "start_time": "2022-11-17T13:54:01.275Z"
   },
   {
    "duration": 14,
    "start_time": "2022-11-17T13:54:06.817Z"
   },
   {
    "duration": 1197,
    "start_time": "2022-11-17T13:55:31.587Z"
   },
   {
    "duration": 13,
    "start_time": "2022-11-17T13:55:32.786Z"
   },
   {
    "duration": 11,
    "start_time": "2022-11-17T13:55:32.801Z"
   },
   {
    "duration": 4,
    "start_time": "2022-11-17T13:55:32.814Z"
   },
   {
    "duration": 7,
    "start_time": "2022-11-17T13:55:32.819Z"
   },
   {
    "duration": 7,
    "start_time": "2022-11-17T13:55:32.827Z"
   },
   {
    "duration": 7,
    "start_time": "2022-11-17T13:55:32.835Z"
   },
   {
    "duration": 10,
    "start_time": "2022-11-17T13:55:32.844Z"
   },
   {
    "duration": 5,
    "start_time": "2022-11-17T13:55:32.855Z"
   },
   {
    "duration": 9,
    "start_time": "2022-11-17T13:55:32.898Z"
   },
   {
    "duration": 35,
    "start_time": "2022-11-17T13:55:32.909Z"
   },
   {
    "duration": 10,
    "start_time": "2022-11-17T13:55:32.946Z"
   },
   {
    "duration": 41,
    "start_time": "2022-11-17T13:55:32.958Z"
   },
   {
    "duration": 152,
    "start_time": "2022-11-17T13:55:33.001Z"
   },
   {
    "duration": 147,
    "start_time": "2022-11-17T13:56:14.718Z"
   },
   {
    "duration": 136,
    "start_time": "2022-11-17T13:56:22.931Z"
   },
   {
    "duration": 395,
    "start_time": "2022-11-17T13:56:31.528Z"
   },
   {
    "duration": 413,
    "start_time": "2022-11-17T13:58:41.324Z"
   },
   {
    "duration": 413,
    "start_time": "2022-11-17T13:59:25.765Z"
   },
   {
    "duration": 1332,
    "start_time": "2022-11-17T13:59:35.699Z"
   },
   {
    "duration": 3344,
    "start_time": "2022-11-17T14:00:13.216Z"
   },
   {
    "duration": 899,
    "start_time": "2022-11-17T14:00:24.039Z"
   },
   {
    "duration": 639,
    "start_time": "2022-11-17T14:00:34.283Z"
   },
   {
    "duration": 1113,
    "start_time": "2022-11-17T14:02:20.184Z"
   },
   {
    "duration": 820,
    "start_time": "2022-11-17T14:03:45.883Z"
   },
   {
    "duration": 886,
    "start_time": "2022-11-17T14:03:56.024Z"
   },
   {
    "duration": 787,
    "start_time": "2022-11-17T14:04:02.317Z"
   },
   {
    "duration": 838,
    "start_time": "2022-11-17T14:04:12.660Z"
   },
   {
    "duration": 77,
    "start_time": "2022-11-17T14:12:16.379Z"
   },
   {
    "duration": 1122,
    "start_time": "2022-11-17T14:12:51.510Z"
   },
   {
    "duration": 13,
    "start_time": "2022-11-17T14:12:52.634Z"
   },
   {
    "duration": 22,
    "start_time": "2022-11-17T14:12:52.649Z"
   },
   {
    "duration": 13,
    "start_time": "2022-11-17T14:12:52.674Z"
   },
   {
    "duration": 39,
    "start_time": "2022-11-17T14:12:52.688Z"
   },
   {
    "duration": 43,
    "start_time": "2022-11-17T14:12:52.729Z"
   },
   {
    "duration": 36,
    "start_time": "2022-11-17T14:12:52.774Z"
   },
   {
    "duration": 42,
    "start_time": "2022-11-17T14:12:52.811Z"
   },
   {
    "duration": 30,
    "start_time": "2022-11-17T14:12:52.855Z"
   },
   {
    "duration": 34,
    "start_time": "2022-11-17T14:12:52.888Z"
   },
   {
    "duration": 75,
    "start_time": "2022-11-17T14:12:52.925Z"
   },
   {
    "duration": 13,
    "start_time": "2022-11-17T14:12:53.002Z"
   },
   {
    "duration": 35,
    "start_time": "2022-11-17T14:12:53.017Z"
   },
   {
    "duration": 444,
    "start_time": "2022-11-17T14:12:53.054Z"
   },
   {
    "duration": 612,
    "start_time": "2022-11-17T14:12:53.499Z"
   },
   {
    "duration": 1399,
    "start_time": "2022-11-17T14:12:54.112Z"
   },
   {
    "duration": 493,
    "start_time": "2022-11-17T14:13:26.014Z"
   },
   {
    "duration": 528,
    "start_time": "2022-11-17T14:17:35.981Z"
   },
   {
    "duration": 1104,
    "start_time": "2022-11-17T14:18:34.356Z"
   },
   {
    "duration": 14,
    "start_time": "2022-11-17T14:18:35.461Z"
   },
   {
    "duration": 20,
    "start_time": "2022-11-17T14:18:35.476Z"
   },
   {
    "duration": 9,
    "start_time": "2022-11-17T14:18:35.498Z"
   },
   {
    "duration": 26,
    "start_time": "2022-11-17T14:18:35.508Z"
   },
   {
    "duration": 13,
    "start_time": "2022-11-17T14:18:35.536Z"
   },
   {
    "duration": 28,
    "start_time": "2022-11-17T14:18:35.551Z"
   },
   {
    "duration": 11,
    "start_time": "2022-11-17T14:18:35.581Z"
   },
   {
    "duration": 20,
    "start_time": "2022-11-17T14:18:35.594Z"
   },
   {
    "duration": 46,
    "start_time": "2022-11-17T14:18:35.618Z"
   },
   {
    "duration": 48,
    "start_time": "2022-11-17T14:18:35.666Z"
   },
   {
    "duration": 14,
    "start_time": "2022-11-17T14:18:35.716Z"
   },
   {
    "duration": 17,
    "start_time": "2022-11-17T14:18:35.732Z"
   },
   {
    "duration": 452,
    "start_time": "2022-11-17T14:18:35.750Z"
   },
   {
    "duration": 580,
    "start_time": "2022-11-17T14:18:36.204Z"
   },
   {
    "duration": 413,
    "start_time": "2022-11-17T14:18:36.786Z"
   },
   {
    "duration": 499,
    "start_time": "2022-11-17T14:18:37.201Z"
   },
   {
    "duration": 842,
    "start_time": "2022-11-17T14:23:52.660Z"
   },
   {
    "duration": 33,
    "start_time": "2022-11-17T14:25:53.350Z"
   },
   {
    "duration": 569,
    "start_time": "2022-11-17T14:26:05.642Z"
   },
   {
    "duration": 619,
    "start_time": "2022-11-17T14:27:42.679Z"
   },
   {
    "duration": 747,
    "start_time": "2022-11-17T14:33:45.764Z"
   },
   {
    "duration": 1208,
    "start_time": "2022-11-17T14:34:24.050Z"
   },
   {
    "duration": 13,
    "start_time": "2022-11-17T14:34:25.260Z"
   },
   {
    "duration": 14,
    "start_time": "2022-11-17T14:34:25.274Z"
   },
   {
    "duration": 24,
    "start_time": "2022-11-17T14:34:25.290Z"
   },
   {
    "duration": 17,
    "start_time": "2022-11-17T14:34:25.316Z"
   },
   {
    "duration": 17,
    "start_time": "2022-11-17T14:34:25.334Z"
   },
   {
    "duration": 22,
    "start_time": "2022-11-17T14:34:25.353Z"
   },
   {
    "duration": 23,
    "start_time": "2022-11-17T14:34:25.377Z"
   },
   {
    "duration": 13,
    "start_time": "2022-11-17T14:34:25.402Z"
   },
   {
    "duration": 11,
    "start_time": "2022-11-17T14:34:25.418Z"
   },
   {
    "duration": 43,
    "start_time": "2022-11-17T14:34:25.430Z"
   },
   {
    "duration": 9,
    "start_time": "2022-11-17T14:34:25.474Z"
   },
   {
    "duration": 24,
    "start_time": "2022-11-17T14:34:25.484Z"
   },
   {
    "duration": 418,
    "start_time": "2022-11-17T14:34:25.509Z"
   },
   {
    "duration": 579,
    "start_time": "2022-11-17T14:34:25.928Z"
   },
   {
    "duration": 597,
    "start_time": "2022-11-17T14:34:26.508Z"
   },
   {
    "duration": 798,
    "start_time": "2022-11-17T14:34:27.109Z"
   },
   {
    "duration": 703,
    "start_time": "2022-11-17T14:34:27.999Z"
   },
   {
    "duration": 795,
    "start_time": "2022-11-17T14:34:28.704Z"
   },
   {
    "duration": 876,
    "start_time": "2022-11-17T14:34:29.502Z"
   },
   {
    "duration": 572,
    "start_time": "2022-11-17T14:35:02.736Z"
   },
   {
    "duration": 1258,
    "start_time": "2022-11-17T14:35:07.043Z"
   },
   {
    "duration": 12,
    "start_time": "2022-11-17T14:35:08.303Z"
   },
   {
    "duration": 14,
    "start_time": "2022-11-17T14:35:08.317Z"
   },
   {
    "duration": 5,
    "start_time": "2022-11-17T14:35:08.333Z"
   },
   {
    "duration": 5,
    "start_time": "2022-11-17T14:35:08.339Z"
   },
   {
    "duration": 5,
    "start_time": "2022-11-17T14:35:08.346Z"
   },
   {
    "duration": 5,
    "start_time": "2022-11-17T14:35:08.352Z"
   },
   {
    "duration": 42,
    "start_time": "2022-11-17T14:35:08.358Z"
   },
   {
    "duration": 4,
    "start_time": "2022-11-17T14:35:08.402Z"
   },
   {
    "duration": 8,
    "start_time": "2022-11-17T14:35:08.408Z"
   },
   {
    "duration": 31,
    "start_time": "2022-11-17T14:35:08.418Z"
   },
   {
    "duration": 10,
    "start_time": "2022-11-17T14:35:08.451Z"
   },
   {
    "duration": 46,
    "start_time": "2022-11-17T14:35:08.462Z"
   },
   {
    "duration": 406,
    "start_time": "2022-11-17T14:35:08.509Z"
   },
   {
    "duration": 573,
    "start_time": "2022-11-17T14:35:08.917Z"
   },
   {
    "duration": 507,
    "start_time": "2022-11-17T14:35:09.492Z"
   },
   {
    "duration": 704,
    "start_time": "2022-11-17T14:35:10.002Z"
   },
   {
    "duration": 697,
    "start_time": "2022-11-17T14:35:10.708Z"
   },
   {
    "duration": 701,
    "start_time": "2022-11-17T14:35:11.406Z"
   },
   {
    "duration": 1078,
    "start_time": "2022-11-17T14:35:12.109Z"
   },
   {
    "duration": 701,
    "start_time": "2022-11-17T14:37:27.384Z"
   },
   {
    "duration": 59,
    "start_time": "2022-11-17T14:37:53.659Z"
   },
   {
    "duration": 1395,
    "start_time": "2022-11-17T14:38:05.363Z"
   },
   {
    "duration": 12,
    "start_time": "2022-11-17T14:38:06.760Z"
   },
   {
    "duration": 10,
    "start_time": "2022-11-17T14:38:06.774Z"
   },
   {
    "duration": 5,
    "start_time": "2022-11-17T14:38:06.786Z"
   },
   {
    "duration": 6,
    "start_time": "2022-11-17T14:38:06.792Z"
   },
   {
    "duration": 8,
    "start_time": "2022-11-17T14:38:06.800Z"
   },
   {
    "duration": 7,
    "start_time": "2022-11-17T14:38:06.809Z"
   },
   {
    "duration": 11,
    "start_time": "2022-11-17T14:38:06.817Z"
   },
   {
    "duration": 6,
    "start_time": "2022-11-17T14:38:06.830Z"
   },
   {
    "duration": 8,
    "start_time": "2022-11-17T14:38:06.838Z"
   },
   {
    "duration": 54,
    "start_time": "2022-11-17T14:38:06.848Z"
   },
   {
    "duration": 9,
    "start_time": "2022-11-17T14:38:06.904Z"
   },
   {
    "duration": 16,
    "start_time": "2022-11-17T14:38:06.914Z"
   },
   {
    "duration": 469,
    "start_time": "2022-11-17T14:38:06.932Z"
   },
   {
    "duration": 628,
    "start_time": "2022-11-17T14:38:07.403Z"
   },
   {
    "duration": 768,
    "start_time": "2022-11-17T14:38:08.032Z"
   },
   {
    "duration": 698,
    "start_time": "2022-11-17T14:38:08.802Z"
   },
   {
    "duration": 796,
    "start_time": "2022-11-17T14:38:09.502Z"
   },
   {
    "duration": 802,
    "start_time": "2022-11-17T14:38:10.300Z"
   },
   {
    "duration": 1004,
    "start_time": "2022-11-17T14:38:11.104Z"
   },
   {
    "duration": 611,
    "start_time": "2022-11-17T14:38:24.671Z"
   },
   {
    "duration": 917,
    "start_time": "2022-11-17T14:38:49.068Z"
   },
   {
    "duration": 693,
    "start_time": "2022-11-17T14:39:47.904Z"
   },
   {
    "duration": 923,
    "start_time": "2022-11-17T14:41:25.259Z"
   },
   {
    "duration": 821,
    "start_time": "2022-11-17T14:41:52.349Z"
   },
   {
    "duration": 825,
    "start_time": "2022-11-17T14:43:17.651Z"
   },
   {
    "duration": 883,
    "start_time": "2022-11-17T14:43:30.816Z"
   },
   {
    "duration": 750,
    "start_time": "2022-11-17T14:47:18.049Z"
   },
   {
    "duration": 666,
    "start_time": "2022-11-17T14:47:39.966Z"
   },
   {
    "duration": 827,
    "start_time": "2022-11-17T14:47:54.416Z"
   },
   {
    "duration": 1382,
    "start_time": "2022-11-17T14:49:57.217Z"
   },
   {
    "duration": 864,
    "start_time": "2022-11-17T14:50:43.241Z"
   },
   {
    "duration": 27,
    "start_time": "2022-11-17T14:56:59.212Z"
   },
   {
    "duration": 629,
    "start_time": "2022-11-17T14:57:20.897Z"
   },
   {
    "duration": 571,
    "start_time": "2022-11-17T14:58:16.983Z"
   },
   {
    "duration": 667,
    "start_time": "2022-11-17T14:58:25.651Z"
   },
   {
    "duration": 577,
    "start_time": "2022-11-17T14:58:29.524Z"
   },
   {
    "duration": 123,
    "start_time": "2022-11-17T14:58:45.813Z"
   },
   {
    "duration": 734,
    "start_time": "2022-11-17T14:58:55.847Z"
   },
   {
    "duration": 834,
    "start_time": "2022-11-17T14:59:13.665Z"
   },
   {
    "duration": 94,
    "start_time": "2022-11-21T07:44:21.451Z"
   },
   {
    "duration": 1656,
    "start_time": "2022-11-21T07:44:30.939Z"
   },
   {
    "duration": 14,
    "start_time": "2022-11-21T07:44:32.597Z"
   },
   {
    "duration": 11,
    "start_time": "2022-11-21T07:44:32.613Z"
   },
   {
    "duration": 21,
    "start_time": "2022-11-21T07:44:32.626Z"
   },
   {
    "duration": 31,
    "start_time": "2022-11-21T07:44:32.648Z"
   },
   {
    "duration": 9,
    "start_time": "2022-11-21T07:44:32.680Z"
   },
   {
    "duration": 26,
    "start_time": "2022-11-21T07:44:32.691Z"
   },
   {
    "duration": 20,
    "start_time": "2022-11-21T07:44:32.719Z"
   },
   {
    "duration": 22,
    "start_time": "2022-11-21T07:44:32.741Z"
   },
   {
    "duration": 13,
    "start_time": "2022-11-21T07:44:32.765Z"
   },
   {
    "duration": 50,
    "start_time": "2022-11-21T07:44:32.780Z"
   },
   {
    "duration": 11,
    "start_time": "2022-11-21T07:44:32.831Z"
   },
   {
    "duration": 33,
    "start_time": "2022-11-21T07:44:32.844Z"
   },
   {
    "duration": 479,
    "start_time": "2022-11-21T07:44:32.878Z"
   },
   {
    "duration": 661,
    "start_time": "2022-11-21T07:44:33.359Z"
   },
   {
    "duration": 1400,
    "start_time": "2022-11-21T07:44:34.022Z"
   },
   {
    "duration": 122,
    "start_time": "2022-11-21T07:44:35.513Z"
   },
   {
    "duration": 792,
    "start_time": "2022-11-21T07:44:35.638Z"
   },
   {
    "duration": 482,
    "start_time": "2022-11-21T07:44:36.432Z"
   },
   {
    "duration": 257,
    "start_time": "2022-11-21T07:44:36.919Z"
   },
   {
    "duration": 847,
    "start_time": "2022-11-21T07:44:37.177Z"
   },
   {
    "duration": 874,
    "start_time": "2022-11-21T07:44:38.026Z"
   },
   {
    "duration": 1532,
    "start_time": "2022-11-21T07:51:55.227Z"
   },
   {
    "duration": 15,
    "start_time": "2022-11-21T07:51:56.761Z"
   },
   {
    "duration": 13,
    "start_time": "2022-11-21T07:51:56.778Z"
   },
   {
    "duration": 5,
    "start_time": "2022-11-21T07:51:56.793Z"
   },
   {
    "duration": 8,
    "start_time": "2022-11-21T07:51:56.812Z"
   },
   {
    "duration": 22,
    "start_time": "2022-11-21T07:51:56.822Z"
   },
   {
    "duration": 7,
    "start_time": "2022-11-21T07:51:56.846Z"
   },
   {
    "duration": 11,
    "start_time": "2022-11-21T07:51:56.855Z"
   },
   {
    "duration": 5,
    "start_time": "2022-11-21T07:51:56.868Z"
   },
   {
    "duration": 23,
    "start_time": "2022-11-21T07:51:56.875Z"
   },
   {
    "duration": 38,
    "start_time": "2022-11-21T07:51:56.900Z"
   },
   {
    "duration": 10,
    "start_time": "2022-11-21T07:51:56.940Z"
   },
   {
    "duration": 19,
    "start_time": "2022-11-21T07:51:56.952Z"
   },
   {
    "duration": 466,
    "start_time": "2022-11-21T07:51:56.973Z"
   },
   {
    "duration": 650,
    "start_time": "2022-11-21T07:51:57.441Z"
   },
   {
    "duration": 525,
    "start_time": "2022-11-21T07:51:58.093Z"
   },
   {
    "duration": 212,
    "start_time": "2022-11-21T07:51:58.619Z"
   },
   {
    "duration": 788,
    "start_time": "2022-11-21T07:51:58.833Z"
   },
   {
    "duration": 498,
    "start_time": "2022-11-21T07:51:59.623Z"
   },
   {
    "duration": 161,
    "start_time": "2022-11-21T07:52:00.213Z"
   },
   {
    "duration": 870,
    "start_time": "2022-11-21T07:52:00.376Z"
   },
   {
    "duration": 786,
    "start_time": "2022-11-21T07:52:01.248Z"
   },
   {
    "duration": 112,
    "start_time": "2022-11-21T07:58:19.487Z"
   },
   {
    "duration": 31,
    "start_time": "2022-11-21T07:59:04.435Z"
   },
   {
    "duration": 30,
    "start_time": "2022-11-21T08:06:56.812Z"
   },
   {
    "duration": 31,
    "start_time": "2022-11-21T08:10:58.516Z"
   },
   {
    "duration": 34,
    "start_time": "2022-11-21T08:12:21.260Z"
   },
   {
    "duration": 1410,
    "start_time": "2022-11-21T08:12:34.792Z"
   },
   {
    "duration": 14,
    "start_time": "2022-11-21T08:12:36.205Z"
   },
   {
    "duration": 19,
    "start_time": "2022-11-21T08:12:36.221Z"
   },
   {
    "duration": 4,
    "start_time": "2022-11-21T08:12:36.242Z"
   },
   {
    "duration": 17,
    "start_time": "2022-11-21T08:12:36.247Z"
   },
   {
    "duration": 8,
    "start_time": "2022-11-21T08:12:36.265Z"
   },
   {
    "duration": 18,
    "start_time": "2022-11-21T08:12:36.275Z"
   },
   {
    "duration": 35,
    "start_time": "2022-11-21T08:12:36.295Z"
   },
   {
    "duration": 14,
    "start_time": "2022-11-21T08:12:36.344Z"
   },
   {
    "duration": 10,
    "start_time": "2022-11-21T08:12:36.362Z"
   },
   {
    "duration": 59,
    "start_time": "2022-11-21T08:12:36.374Z"
   },
   {
    "duration": 13,
    "start_time": "2022-11-21T08:12:36.435Z"
   },
   {
    "duration": 21,
    "start_time": "2022-11-21T08:12:36.450Z"
   },
   {
    "duration": 494,
    "start_time": "2022-11-21T08:12:36.473Z"
   },
   {
    "duration": 652,
    "start_time": "2022-11-21T08:12:36.968Z"
   },
   {
    "duration": 492,
    "start_time": "2022-11-21T08:12:37.622Z"
   },
   {
    "duration": 121,
    "start_time": "2022-11-21T08:12:38.116Z"
   },
   {
    "duration": 769,
    "start_time": "2022-11-21T08:12:38.239Z"
   },
   {
    "duration": 601,
    "start_time": "2022-11-21T08:12:39.010Z"
   },
   {
    "duration": 274,
    "start_time": "2022-11-21T08:12:39.614Z"
   },
   {
    "duration": 866,
    "start_time": "2022-11-21T08:12:39.889Z"
   },
   {
    "duration": 770,
    "start_time": "2022-11-21T08:12:40.757Z"
   },
   {
    "duration": 29,
    "start_time": "2022-11-21T08:12:41.528Z"
   },
   {
    "duration": 54,
    "start_time": "2022-11-21T08:12:41.559Z"
   },
   {
    "duration": 960,
    "start_time": "2022-11-21T08:12:56.461Z"
   },
   {
    "duration": 122,
    "start_time": "2022-11-21T08:21:53.053Z"
   },
   {
    "duration": 1402,
    "start_time": "2022-11-21T08:23:37.110Z"
   },
   {
    "duration": 12,
    "start_time": "2022-11-21T08:23:38.514Z"
   },
   {
    "duration": 11,
    "start_time": "2022-11-21T08:23:38.528Z"
   },
   {
    "duration": 4,
    "start_time": "2022-11-21T08:23:38.541Z"
   },
   {
    "duration": 7,
    "start_time": "2022-11-21T08:23:38.547Z"
   },
   {
    "duration": 5,
    "start_time": "2022-11-21T08:23:38.556Z"
   },
   {
    "duration": 6,
    "start_time": "2022-11-21T08:23:38.563Z"
   },
   {
    "duration": 41,
    "start_time": "2022-11-21T08:23:38.571Z"
   },
   {
    "duration": 4,
    "start_time": "2022-11-21T08:23:38.614Z"
   },
   {
    "duration": 11,
    "start_time": "2022-11-21T08:23:38.621Z"
   },
   {
    "duration": 37,
    "start_time": "2022-11-21T08:23:38.634Z"
   },
   {
    "duration": 9,
    "start_time": "2022-11-21T08:23:38.673Z"
   },
   {
    "duration": 38,
    "start_time": "2022-11-21T08:23:38.683Z"
   },
   {
    "duration": 443,
    "start_time": "2022-11-21T08:23:38.723Z"
   },
   {
    "duration": 652,
    "start_time": "2022-11-21T08:23:39.167Z"
   },
   {
    "duration": 494,
    "start_time": "2022-11-21T08:23:39.821Z"
   },
   {
    "duration": 117,
    "start_time": "2022-11-21T08:23:40.320Z"
   },
   {
    "duration": 726,
    "start_time": "2022-11-21T08:23:40.439Z"
   },
   {
    "duration": 648,
    "start_time": "2022-11-21T08:23:41.166Z"
   },
   {
    "duration": 227,
    "start_time": "2022-11-21T08:23:41.816Z"
   },
   {
    "duration": 824,
    "start_time": "2022-11-21T08:23:42.044Z"
   },
   {
    "duration": 751,
    "start_time": "2022-11-21T08:23:42.870Z"
   },
   {
    "duration": 27,
    "start_time": "2022-11-21T08:23:43.623Z"
   },
   {
    "duration": 8,
    "start_time": "2022-11-21T08:23:43.652Z"
   },
   {
    "duration": 0,
    "start_time": "2022-11-21T08:23:43.662Z"
   },
   {
    "duration": 970,
    "start_time": "2022-11-21T08:24:26.447Z"
   },
   {
    "duration": 14,
    "start_time": "2022-11-21T08:24:47.203Z"
   },
   {
    "duration": 1020,
    "start_time": "2022-11-21T08:26:40.296Z"
   },
   {
    "duration": 12,
    "start_time": "2022-11-21T08:31:23.263Z"
   },
   {
    "duration": 932,
    "start_time": "2022-11-21T08:31:40.084Z"
   },
   {
    "duration": 12,
    "start_time": "2022-11-21T08:34:19.494Z"
   },
   {
    "duration": 912,
    "start_time": "2022-11-21T08:34:21.604Z"
   },
   {
    "duration": 14,
    "start_time": "2022-11-21T08:34:45.785Z"
   },
   {
    "duration": 944,
    "start_time": "2022-11-21T08:34:47.976Z"
   },
   {
    "duration": 11,
    "start_time": "2022-11-21T08:35:47.785Z"
   },
   {
    "duration": 1592,
    "start_time": "2022-11-21T08:35:53.008Z"
   },
   {
    "duration": 15,
    "start_time": "2022-11-21T08:35:54.602Z"
   },
   {
    "duration": 15,
    "start_time": "2022-11-21T08:35:54.619Z"
   },
   {
    "duration": 5,
    "start_time": "2022-11-21T08:35:54.637Z"
   },
   {
    "duration": 6,
    "start_time": "2022-11-21T08:35:54.644Z"
   },
   {
    "duration": 7,
    "start_time": "2022-11-21T08:35:54.652Z"
   },
   {
    "duration": 8,
    "start_time": "2022-11-21T08:35:54.661Z"
   },
   {
    "duration": 42,
    "start_time": "2022-11-21T08:35:54.671Z"
   },
   {
    "duration": 7,
    "start_time": "2022-11-21T08:35:54.715Z"
   },
   {
    "duration": 11,
    "start_time": "2022-11-21T08:35:54.726Z"
   },
   {
    "duration": 38,
    "start_time": "2022-11-21T08:35:54.740Z"
   },
   {
    "duration": 38,
    "start_time": "2022-11-21T08:35:54.780Z"
   },
   {
    "duration": 15,
    "start_time": "2022-11-21T08:35:54.821Z"
   },
   {
    "duration": 486,
    "start_time": "2022-11-21T08:35:54.838Z"
   },
   {
    "duration": 659,
    "start_time": "2022-11-21T08:35:55.326Z"
   },
   {
    "duration": 532,
    "start_time": "2022-11-21T08:35:55.987Z"
   },
   {
    "duration": 210,
    "start_time": "2022-11-21T08:35:56.521Z"
   },
   {
    "duration": 768,
    "start_time": "2022-11-21T08:35:56.733Z"
   },
   {
    "duration": 418,
    "start_time": "2022-11-21T08:35:57.503Z"
   },
   {
    "duration": 247,
    "start_time": "2022-11-21T08:35:57.923Z"
   },
   {
    "duration": 846,
    "start_time": "2022-11-21T08:35:58.172Z"
   },
   {
    "duration": 811,
    "start_time": "2022-11-21T08:35:59.020Z"
   },
   {
    "duration": 29,
    "start_time": "2022-11-21T08:35:59.833Z"
   },
   {
    "duration": 956,
    "start_time": "2022-11-21T08:35:59.864Z"
   },
   {
    "duration": 14,
    "start_time": "2022-11-21T08:36:00.912Z"
   },
   {
    "duration": 985,
    "start_time": "2022-11-21T08:36:00.928Z"
   },
   {
    "duration": 102,
    "start_time": "2022-11-21T08:36:01.915Z"
   },
   {
    "duration": 1198,
    "start_time": "2022-11-21T08:36:02.020Z"
   },
   {
    "duration": 12,
    "start_time": "2022-11-21T08:39:50.325Z"
   },
   {
    "duration": 991,
    "start_time": "2022-11-21T08:39:52.931Z"
   },
   {
    "duration": 1773,
    "start_time": "2022-11-21T08:41:22.842Z"
   },
   {
    "duration": 593,
    "start_time": "2022-11-21T08:42:19.420Z"
   },
   {
    "duration": 14,
    "start_time": "2022-11-21T08:43:52.224Z"
   },
   {
    "duration": 482,
    "start_time": "2022-11-21T08:43:54.736Z"
   },
   {
    "duration": 11,
    "start_time": "2022-11-21T08:44:19.250Z"
   },
   {
    "duration": 573,
    "start_time": "2022-11-21T08:44:21.838Z"
   },
   {
    "duration": 309,
    "start_time": "2022-11-21T08:59:32.206Z"
   },
   {
    "duration": 1681,
    "start_time": "2022-11-21T09:00:06.383Z"
   },
   {
    "duration": 14,
    "start_time": "2022-11-21T09:00:08.066Z"
   },
   {
    "duration": 20,
    "start_time": "2022-11-21T09:00:08.082Z"
   },
   {
    "duration": 5,
    "start_time": "2022-11-21T09:00:08.104Z"
   },
   {
    "duration": 17,
    "start_time": "2022-11-21T09:00:08.111Z"
   },
   {
    "duration": 6,
    "start_time": "2022-11-21T09:00:08.130Z"
   },
   {
    "duration": 4,
    "start_time": "2022-11-21T09:00:08.138Z"
   },
   {
    "duration": 9,
    "start_time": "2022-11-21T09:00:08.144Z"
   },
   {
    "duration": 12,
    "start_time": "2022-11-21T09:00:08.155Z"
   },
   {
    "duration": 19,
    "start_time": "2022-11-21T09:00:08.170Z"
   },
   {
    "duration": 54,
    "start_time": "2022-11-21T09:00:08.192Z"
   },
   {
    "duration": 10,
    "start_time": "2022-11-21T09:00:08.248Z"
   },
   {
    "duration": 26,
    "start_time": "2022-11-21T09:00:08.259Z"
   },
   {
    "duration": 511,
    "start_time": "2022-11-21T09:00:08.287Z"
   },
   {
    "duration": 714,
    "start_time": "2022-11-21T09:00:08.800Z"
   },
   {
    "duration": 897,
    "start_time": "2022-11-21T09:00:09.516Z"
   },
   {
    "duration": 114,
    "start_time": "2022-11-21T09:00:10.417Z"
   },
   {
    "duration": 848,
    "start_time": "2022-11-21T09:00:10.533Z"
   },
   {
    "duration": 531,
    "start_time": "2022-11-21T09:00:11.384Z"
   },
   {
    "duration": 255,
    "start_time": "2022-11-21T09:00:11.917Z"
   },
   {
    "duration": 902,
    "start_time": "2022-11-21T09:00:12.175Z"
   },
   {
    "duration": 845,
    "start_time": "2022-11-21T09:00:13.079Z"
   },
   {
    "duration": 32,
    "start_time": "2022-11-21T09:00:13.926Z"
   },
   {
    "duration": 962,
    "start_time": "2022-11-21T09:00:13.960Z"
   },
   {
    "duration": 16,
    "start_time": "2022-11-21T09:00:15.014Z"
   },
   {
    "duration": 1781,
    "start_time": "2022-11-21T09:00:15.032Z"
   },
   {
    "duration": 103,
    "start_time": "2022-11-21T09:00:16.816Z"
   },
   {
    "duration": 491,
    "start_time": "2022-11-21T09:00:16.922Z"
   },
   {
    "duration": 314,
    "start_time": "2022-11-21T09:00:17.415Z"
   },
   {
    "duration": 667,
    "start_time": "2022-11-21T09:07:25.737Z"
   },
   {
    "duration": 1406,
    "start_time": "2022-11-21T09:07:38.112Z"
   },
   {
    "duration": 14,
    "start_time": "2022-11-21T09:07:39.520Z"
   },
   {
    "duration": 12,
    "start_time": "2022-11-21T09:07:39.535Z"
   },
   {
    "duration": 4,
    "start_time": "2022-11-21T09:07:39.550Z"
   },
   {
    "duration": 7,
    "start_time": "2022-11-21T09:07:39.556Z"
   },
   {
    "duration": 8,
    "start_time": "2022-11-21T09:07:39.565Z"
   },
   {
    "duration": 6,
    "start_time": "2022-11-21T09:07:39.575Z"
   },
   {
    "duration": 40,
    "start_time": "2022-11-21T09:07:39.583Z"
   },
   {
    "duration": 13,
    "start_time": "2022-11-21T09:07:39.625Z"
   },
   {
    "duration": 10,
    "start_time": "2022-11-21T09:07:39.640Z"
   },
   {
    "duration": 41,
    "start_time": "2022-11-21T09:07:39.652Z"
   },
   {
    "duration": 24,
    "start_time": "2022-11-21T09:07:39.695Z"
   },
   {
    "duration": 11,
    "start_time": "2022-11-21T09:07:39.721Z"
   },
   {
    "duration": 482,
    "start_time": "2022-11-21T09:07:39.734Z"
   },
   {
    "duration": 641,
    "start_time": "2022-11-21T09:07:40.218Z"
   },
   {
    "duration": 657,
    "start_time": "2022-11-21T09:07:40.861Z"
   },
   {
    "duration": 208,
    "start_time": "2022-11-21T09:07:41.519Z"
   },
   {
    "duration": 763,
    "start_time": "2022-11-21T09:07:41.728Z"
   },
   {
    "duration": 619,
    "start_time": "2022-11-21T09:07:42.492Z"
   },
   {
    "duration": 160,
    "start_time": "2022-11-21T09:07:43.113Z"
   },
   {
    "duration": 804,
    "start_time": "2022-11-21T09:07:43.274Z"
   },
   {
    "duration": 859,
    "start_time": "2022-11-21T09:07:44.080Z"
   },
   {
    "duration": 30,
    "start_time": "2022-11-21T09:07:44.940Z"
   },
   {
    "duration": 943,
    "start_time": "2022-11-21T09:07:44.971Z"
   },
   {
    "duration": 105,
    "start_time": "2022-11-21T09:07:45.918Z"
   },
   {
    "duration": 1789,
    "start_time": "2022-11-21T09:07:46.024Z"
   },
   {
    "duration": 100,
    "start_time": "2022-11-21T09:07:47.815Z"
   },
   {
    "duration": 497,
    "start_time": "2022-11-21T09:07:47.917Z"
   },
   {
    "duration": 5422,
    "start_time": "2022-11-21T09:17:50.344Z"
   },
   {
    "duration": 5360,
    "start_time": "2022-11-21T09:18:12.084Z"
   },
   {
    "duration": 5327,
    "start_time": "2022-11-21T09:18:51.391Z"
   },
   {
    "duration": 2577,
    "start_time": "2022-11-21T09:20:08.385Z"
   },
   {
    "duration": 6757,
    "start_time": "2022-11-21T09:20:36.625Z"
   },
   {
    "duration": 709,
    "start_time": "2022-11-21T09:22:52.921Z"
   },
   {
    "duration": 9129,
    "start_time": "2022-11-21T09:23:04.086Z"
   },
   {
    "duration": 4032,
    "start_time": "2022-11-21T09:24:02.847Z"
   },
   {
    "duration": 283,
    "start_time": "2022-11-21T09:30:24.337Z"
   },
   {
    "duration": 165,
    "start_time": "2022-11-21T09:30:50.526Z"
   },
   {
    "duration": 3710,
    "start_time": "2022-11-21T09:45:03.371Z"
   },
   {
    "duration": 5971,
    "start_time": "2022-11-21T09:50:07.264Z"
   },
   {
    "duration": 2990,
    "start_time": "2022-11-21T09:51:01.666Z"
   },
   {
    "duration": 11520,
    "start_time": "2022-11-21T09:51:36.607Z"
   },
   {
    "duration": 3313,
    "start_time": "2022-11-21T09:55:51.897Z"
   },
   {
    "duration": 2881,
    "start_time": "2022-11-21T09:55:55.212Z"
   },
   {
    "duration": 14838,
    "start_time": "2022-11-21T09:56:04.803Z"
   },
   {
    "duration": 3404,
    "start_time": "2022-11-21T09:57:03.750Z"
   },
   {
    "duration": 63,
    "start_time": "2022-11-21T09:57:26.935Z"
   },
   {
    "duration": 10,
    "start_time": "2022-11-21T09:59:23.618Z"
   },
   {
    "duration": 16859,
    "start_time": "2022-11-21T10:01:07.717Z"
   },
   {
    "duration": 64,
    "start_time": "2022-11-21T10:01:37.007Z"
   },
   {
    "duration": 3532,
    "start_time": "2022-11-21T10:01:48.046Z"
   },
   {
    "duration": 6958,
    "start_time": "2022-11-21T10:02:03.517Z"
   },
   {
    "duration": 22177,
    "start_time": "2022-11-21T10:04:46.709Z"
   },
   {
    "duration": 7206,
    "start_time": "2022-11-21T10:05:43.305Z"
   },
   {
    "duration": 7558,
    "start_time": "2022-11-21T10:06:06.325Z"
   },
   {
    "duration": 5,
    "start_time": "2022-11-21T10:10:43.891Z"
   },
   {
    "duration": 1884,
    "start_time": "2022-11-21T10:10:59.916Z"
   },
   {
    "duration": 3499,
    "start_time": "2022-11-21T10:11:51.101Z"
   },
   {
    "duration": 1942,
    "start_time": "2022-11-21T10:14:06.640Z"
   },
   {
    "duration": 2054,
    "start_time": "2022-11-21T10:14:56.379Z"
   },
   {
    "duration": 874,
    "start_time": "2022-11-21T10:15:23.301Z"
   },
   {
    "duration": 7686,
    "start_time": "2022-11-21T10:15:56.139Z"
   },
   {
    "duration": 3671,
    "start_time": "2022-11-21T10:16:07.160Z"
   },
   {
    "duration": 3806,
    "start_time": "2022-11-21T10:16:26.590Z"
   },
   {
    "duration": 59,
    "start_time": "2022-11-21T10:19:33.979Z"
   },
   {
    "duration": 48,
    "start_time": "2022-11-21T10:19:48.311Z"
   },
   {
    "duration": 3713,
    "start_time": "2022-11-21T10:20:02.920Z"
   },
   {
    "duration": 7591,
    "start_time": "2022-11-21T10:22:03.998Z"
   },
   {
    "duration": 3741,
    "start_time": "2022-11-21T10:22:14.468Z"
   },
   {
    "duration": 1936,
    "start_time": "2022-11-21T10:23:28.062Z"
   },
   {
    "duration": 1597,
    "start_time": "2022-11-21T10:31:15.299Z"
   },
   {
    "duration": 14,
    "start_time": "2022-11-21T10:31:16.898Z"
   },
   {
    "duration": 17,
    "start_time": "2022-11-21T10:31:16.914Z"
   },
   {
    "duration": 4,
    "start_time": "2022-11-21T10:31:16.933Z"
   },
   {
    "duration": 11,
    "start_time": "2022-11-21T10:31:16.939Z"
   },
   {
    "duration": 6,
    "start_time": "2022-11-21T10:31:16.952Z"
   },
   {
    "duration": 5,
    "start_time": "2022-11-21T10:31:16.959Z"
   },
   {
    "duration": 10,
    "start_time": "2022-11-21T10:31:16.965Z"
   },
   {
    "duration": 5,
    "start_time": "2022-11-21T10:31:16.977Z"
   },
   {
    "duration": 8,
    "start_time": "2022-11-21T10:31:17.014Z"
   },
   {
    "duration": 39,
    "start_time": "2022-11-21T10:31:17.024Z"
   },
   {
    "duration": 12,
    "start_time": "2022-11-21T10:31:17.065Z"
   },
   {
    "duration": 43,
    "start_time": "2022-11-21T10:31:17.079Z"
   },
   {
    "duration": 469,
    "start_time": "2022-11-21T10:31:17.124Z"
   },
   {
    "duration": 680,
    "start_time": "2022-11-21T10:31:17.595Z"
   },
   {
    "duration": 540,
    "start_time": "2022-11-21T10:31:18.277Z"
   },
   {
    "duration": 201,
    "start_time": "2022-11-21T10:31:18.818Z"
   },
   {
    "duration": 803,
    "start_time": "2022-11-21T10:31:19.020Z"
   },
   {
    "duration": 489,
    "start_time": "2022-11-21T10:31:19.825Z"
   },
   {
    "duration": 255,
    "start_time": "2022-11-21T10:31:20.315Z"
   },
   {
    "duration": 892,
    "start_time": "2022-11-21T10:31:20.572Z"
   },
   {
    "duration": 864,
    "start_time": "2022-11-21T10:31:21.466Z"
   },
   {
    "duration": 34,
    "start_time": "2022-11-21T10:31:22.332Z"
   },
   {
    "duration": 950,
    "start_time": "2022-11-21T10:31:22.368Z"
   },
   {
    "duration": 100,
    "start_time": "2022-11-21T10:31:23.320Z"
   },
   {
    "duration": 1697,
    "start_time": "2022-11-21T10:31:23.422Z"
   },
   {
    "duration": 12,
    "start_time": "2022-11-21T10:31:25.212Z"
   },
   {
    "duration": 495,
    "start_time": "2022-11-21T10:31:25.227Z"
   },
   {
    "duration": 7721,
    "start_time": "2022-11-21T10:31:25.813Z"
   },
   {
    "duration": 1950,
    "start_time": "2022-11-21T10:31:33.536Z"
   },
   {
    "duration": 7648,
    "start_time": "2022-11-21T10:36:04.499Z"
   },
   {
    "duration": 7221,
    "start_time": "2022-11-21T10:37:55.136Z"
   },
   {
    "duration": 1857,
    "start_time": "2022-11-21T10:38:02.360Z"
   },
   {
    "duration": 18310,
    "start_time": "2022-11-21T10:38:04.219Z"
   },
   {
    "duration": 18148,
    "start_time": "2022-11-21T10:39:24.660Z"
   },
   {
    "duration": 82,
    "start_time": "2022-11-21T10:39:42.810Z"
   },
   {
    "duration": 19448,
    "start_time": "2022-11-21T10:41:04.011Z"
   },
   {
    "duration": 19004,
    "start_time": "2022-11-21T10:42:49.269Z"
   },
   {
    "duration": 18740,
    "start_time": "2022-11-21T10:43:44.495Z"
   },
   {
    "duration": 18383,
    "start_time": "2022-11-21T10:44:24.807Z"
   },
   {
    "duration": 85,
    "start_time": "2022-11-21T10:48:47.798Z"
   },
   {
    "duration": 172,
    "start_time": "2022-11-21T10:59:44.182Z"
   },
   {
    "duration": 19898,
    "start_time": "2022-11-21T10:59:54.438Z"
   },
   {
    "duration": 98,
    "start_time": "2022-11-21T11:00:14.338Z"
   },
   {
    "duration": 562,
    "start_time": "2022-11-21T11:00:14.950Z"
   },
   {
    "duration": 1983,
    "start_time": "2022-11-21T11:07:36.630Z"
   },
   {
    "duration": 2012,
    "start_time": "2022-11-21T11:07:58.923Z"
   },
   {
    "duration": 1947,
    "start_time": "2022-11-21T11:08:44.021Z"
   },
   {
    "duration": 2021,
    "start_time": "2022-11-21T11:09:36.274Z"
   },
   {
    "duration": 1997,
    "start_time": "2022-11-21T11:09:38.297Z"
   },
   {
    "duration": 2013,
    "start_time": "2022-11-21T11:10:43.006Z"
   },
   {
    "duration": 3793,
    "start_time": "2022-11-21T11:11:44.915Z"
   },
   {
    "duration": 3739,
    "start_time": "2022-11-21T11:12:03.834Z"
   },
   {
    "duration": 84,
    "start_time": "2022-11-21T11:12:42.111Z"
   },
   {
    "duration": 1876,
    "start_time": "2022-11-21T11:13:14.233Z"
   },
   {
    "duration": 88,
    "start_time": "2022-11-21T11:18:13.267Z"
   },
   {
    "duration": 19279,
    "start_time": "2022-11-21T11:19:14.528Z"
   },
   {
    "duration": 19352,
    "start_time": "2022-11-21T11:20:34.700Z"
   },
   {
    "duration": 25,
    "start_time": "2022-11-21T11:21:33.771Z"
   },
   {
    "duration": 18801,
    "start_time": "2022-11-21T11:21:40.167Z"
   },
   {
    "duration": 18282,
    "start_time": "2022-11-21T11:22:40.739Z"
   },
   {
    "duration": 3757,
    "start_time": "2022-11-21T11:24:36.459Z"
   },
   {
    "duration": 1975,
    "start_time": "2022-11-21T11:26:26.602Z"
   },
   {
    "duration": 88,
    "start_time": "2022-11-21T11:51:07.476Z"
   },
   {
    "duration": 61,
    "start_time": "2022-11-21T11:51:20.632Z"
   },
   {
    "duration": 18839,
    "start_time": "2022-11-21T11:52:20.991Z"
   },
   {
    "duration": 10,
    "start_time": "2022-11-21T11:53:27.308Z"
   },
   {
    "duration": 86,
    "start_time": "2022-11-21T11:53:53.784Z"
   },
   {
    "duration": 1584,
    "start_time": "2022-11-21T11:54:48.381Z"
   },
   {
    "duration": 18,
    "start_time": "2022-11-21T11:54:49.967Z"
   },
   {
    "duration": 14,
    "start_time": "2022-11-21T11:54:49.986Z"
   },
   {
    "duration": 10,
    "start_time": "2022-11-21T11:54:50.003Z"
   },
   {
    "duration": 24,
    "start_time": "2022-11-21T11:54:50.015Z"
   },
   {
    "duration": 29,
    "start_time": "2022-11-21T11:54:50.041Z"
   },
   {
    "duration": 6,
    "start_time": "2022-11-21T11:54:50.072Z"
   },
   {
    "duration": 19,
    "start_time": "2022-11-21T11:54:50.080Z"
   },
   {
    "duration": 7,
    "start_time": "2022-11-21T11:54:50.101Z"
   },
   {
    "duration": 11,
    "start_time": "2022-11-21T11:54:50.111Z"
   },
   {
    "duration": 55,
    "start_time": "2022-11-21T11:54:50.124Z"
   },
   {
    "duration": 33,
    "start_time": "2022-11-21T11:54:50.181Z"
   },
   {
    "duration": 14,
    "start_time": "2022-11-21T11:54:50.216Z"
   },
   {
    "duration": 503,
    "start_time": "2022-11-21T11:54:50.232Z"
   },
   {
    "duration": 679,
    "start_time": "2022-11-21T11:54:50.737Z"
   },
   {
    "duration": 496,
    "start_time": "2022-11-21T11:54:51.418Z"
   },
   {
    "duration": 122,
    "start_time": "2022-11-21T11:54:51.916Z"
   },
   {
    "duration": 786,
    "start_time": "2022-11-21T11:54:52.039Z"
   },
   {
    "duration": 498,
    "start_time": "2022-11-21T11:54:52.826Z"
   },
   {
    "duration": 256,
    "start_time": "2022-11-21T11:54:53.413Z"
   },
   {
    "duration": 882,
    "start_time": "2022-11-21T11:54:53.671Z"
   },
   {
    "duration": 684,
    "start_time": "2022-11-21T11:54:54.554Z"
   },
   {
    "duration": 40,
    "start_time": "2022-11-21T11:54:55.239Z"
   },
   {
    "duration": 1037,
    "start_time": "2022-11-21T11:54:55.281Z"
   },
   {
    "duration": 101,
    "start_time": "2022-11-21T11:54:56.322Z"
   },
   {
    "duration": 1796,
    "start_time": "2022-11-21T11:54:56.425Z"
   },
   {
    "duration": 100,
    "start_time": "2022-11-21T11:54:58.222Z"
   },
   {
    "duration": 595,
    "start_time": "2022-11-21T11:54:58.326Z"
   },
   {
    "duration": 19672,
    "start_time": "2022-11-21T11:54:59.013Z"
   },
   {
    "duration": 10,
    "start_time": "2022-11-21T11:55:18.687Z"
   },
   {
    "duration": 168,
    "start_time": "2022-11-21T11:55:18.713Z"
   },
   {
    "duration": 292,
    "start_time": "2022-11-21T12:04:00.805Z"
   },
   {
    "duration": 1486,
    "start_time": "2022-11-21T12:19:11.161Z"
   },
   {
    "duration": 19,
    "start_time": "2022-11-21T12:19:12.649Z"
   },
   {
    "duration": 16,
    "start_time": "2022-11-21T12:19:12.671Z"
   },
   {
    "duration": 24,
    "start_time": "2022-11-21T12:19:12.690Z"
   },
   {
    "duration": 14,
    "start_time": "2022-11-21T12:19:12.716Z"
   },
   {
    "duration": 24,
    "start_time": "2022-11-21T12:19:12.732Z"
   },
   {
    "duration": 5,
    "start_time": "2022-11-21T12:19:12.758Z"
   },
   {
    "duration": 16,
    "start_time": "2022-11-21T12:19:12.764Z"
   },
   {
    "duration": 6,
    "start_time": "2022-11-21T12:19:12.783Z"
   },
   {
    "duration": 25,
    "start_time": "2022-11-21T12:19:12.793Z"
   },
   {
    "duration": 41,
    "start_time": "2022-11-21T12:19:12.820Z"
   },
   {
    "duration": 15,
    "start_time": "2022-11-21T12:19:12.864Z"
   },
   {
    "duration": 40,
    "start_time": "2022-11-21T12:19:12.882Z"
   },
   {
    "duration": 516,
    "start_time": "2022-11-21T12:19:12.924Z"
   },
   {
    "duration": 689,
    "start_time": "2022-11-21T12:19:13.443Z"
   },
   {
    "duration": 1477,
    "start_time": "2022-11-21T12:19:14.134Z"
   },
   {
    "duration": 41,
    "start_time": "2022-11-21T12:19:15.614Z"
   },
   {
    "duration": 972,
    "start_time": "2022-11-21T12:19:15.658Z"
   },
   {
    "duration": 981,
    "start_time": "2022-11-21T12:19:16.633Z"
   },
   {
    "duration": 169,
    "start_time": "2022-11-21T12:19:17.616Z"
   },
   {
    "duration": 925,
    "start_time": "2022-11-21T12:19:17.787Z"
   },
   {
    "duration": 2120,
    "start_time": "2022-11-21T12:19:18.714Z"
   },
   {
    "duration": 38,
    "start_time": "2022-11-21T12:19:20.835Z"
   },
   {
    "duration": 1138,
    "start_time": "2022-11-21T12:19:20.876Z"
   },
   {
    "duration": 103,
    "start_time": "2022-11-21T12:19:22.016Z"
   },
   {
    "duration": 1902,
    "start_time": "2022-11-21T12:19:22.121Z"
   },
   {
    "duration": 96,
    "start_time": "2022-11-21T12:19:24.028Z"
   },
   {
    "duration": 488,
    "start_time": "2022-11-21T12:19:24.128Z"
   },
   {
    "duration": 19546,
    "start_time": "2022-11-21T12:19:24.618Z"
   },
   {
    "duration": 12,
    "start_time": "2022-11-21T12:19:44.166Z"
   },
   {
    "duration": 186,
    "start_time": "2022-11-21T12:19:44.180Z"
   },
   {
    "duration": 367,
    "start_time": "2022-11-21T12:19:44.368Z"
   },
   {
    "duration": 47,
    "start_time": "2022-11-21T14:52:28.319Z"
   },
   {
    "duration": 1561,
    "start_time": "2022-11-21T14:52:37.148Z"
   },
   {
    "duration": 14,
    "start_time": "2022-11-21T14:52:38.711Z"
   },
   {
    "duration": 15,
    "start_time": "2022-11-21T14:52:38.727Z"
   },
   {
    "duration": 5,
    "start_time": "2022-11-21T14:52:38.744Z"
   },
   {
    "duration": 7,
    "start_time": "2022-11-21T14:52:38.750Z"
   },
   {
    "duration": 12,
    "start_time": "2022-11-21T14:52:38.759Z"
   },
   {
    "duration": 5,
    "start_time": "2022-11-21T14:52:38.795Z"
   },
   {
    "duration": 13,
    "start_time": "2022-11-21T14:52:38.802Z"
   },
   {
    "duration": 8,
    "start_time": "2022-11-21T14:52:38.817Z"
   },
   {
    "duration": 9,
    "start_time": "2022-11-21T14:52:38.828Z"
   },
   {
    "duration": 36,
    "start_time": "2022-11-21T14:52:38.838Z"
   },
   {
    "duration": 30,
    "start_time": "2022-11-21T14:52:38.875Z"
   },
   {
    "duration": 12,
    "start_time": "2022-11-21T14:52:38.907Z"
   },
   {
    "duration": 455,
    "start_time": "2022-11-21T14:52:38.921Z"
   },
   {
    "duration": 642,
    "start_time": "2022-11-21T14:52:39.378Z"
   },
   {
    "duration": 874,
    "start_time": "2022-11-21T14:52:40.021Z"
   },
   {
    "duration": 120,
    "start_time": "2022-11-21T14:52:40.898Z"
   },
   {
    "duration": 725,
    "start_time": "2022-11-21T14:52:41.020Z"
   },
   {
    "duration": 463,
    "start_time": "2022-11-21T14:52:41.747Z"
   },
   {
    "duration": 239,
    "start_time": "2022-11-21T14:52:42.212Z"
   },
   {
    "duration": 832,
    "start_time": "2022-11-21T14:52:42.453Z"
   },
   {
    "duration": 715,
    "start_time": "2022-11-21T14:52:43.286Z"
   },
   {
    "duration": 38,
    "start_time": "2022-11-21T14:52:44.002Z"
   },
   {
    "duration": 1056,
    "start_time": "2022-11-21T14:52:44.041Z"
   },
   {
    "duration": 660,
    "start_time": "2022-11-21T14:52:45.099Z"
   },
   {
    "duration": 1415,
    "start_time": "2022-11-21T14:58:42.984Z"
   },
   {
    "duration": 12,
    "start_time": "2022-11-21T14:58:44.402Z"
   },
   {
    "duration": 11,
    "start_time": "2022-11-21T14:58:44.416Z"
   },
   {
    "duration": 4,
    "start_time": "2022-11-21T14:58:44.430Z"
   },
   {
    "duration": 9,
    "start_time": "2022-11-21T14:58:44.436Z"
   },
   {
    "duration": 5,
    "start_time": "2022-11-21T14:58:44.447Z"
   },
   {
    "duration": 5,
    "start_time": "2022-11-21T14:58:44.453Z"
   },
   {
    "duration": 38,
    "start_time": "2022-11-21T14:58:44.459Z"
   },
   {
    "duration": 6,
    "start_time": "2022-11-21T14:58:44.498Z"
   },
   {
    "duration": 7,
    "start_time": "2022-11-21T14:58:44.507Z"
   },
   {
    "duration": 35,
    "start_time": "2022-11-21T14:58:44.515Z"
   },
   {
    "duration": 9,
    "start_time": "2022-11-21T14:58:44.551Z"
   },
   {
    "duration": 40,
    "start_time": "2022-11-21T14:58:44.561Z"
   },
   {
    "duration": 494,
    "start_time": "2022-11-21T14:58:44.602Z"
   },
   {
    "duration": 9579,
    "start_time": "2022-11-21T14:58:45.098Z"
   },
   {
    "duration": 621,
    "start_time": "2022-11-21T14:58:54.679Z"
   },
   {
    "duration": 121,
    "start_time": "2022-11-21T14:58:55.302Z"
   },
   {
    "duration": 817,
    "start_time": "2022-11-21T14:58:55.425Z"
   },
   {
    "duration": 460,
    "start_time": "2022-11-21T14:58:56.245Z"
   },
   {
    "duration": 249,
    "start_time": "2022-11-21T14:58:56.797Z"
   },
   {
    "duration": 804,
    "start_time": "2022-11-21T14:58:57.047Z"
   },
   {
    "duration": 711,
    "start_time": "2022-11-21T14:58:57.853Z"
   },
   {
    "duration": 41,
    "start_time": "2022-11-21T14:58:58.566Z"
   },
   {
    "duration": 897,
    "start_time": "2022-11-21T14:58:58.608Z"
   },
   {
    "duration": 99,
    "start_time": "2022-11-21T14:58:59.506Z"
   },
   {
    "duration": 1399,
    "start_time": "2022-11-21T14:58:59.607Z"
   },
   {
    "duration": 100,
    "start_time": "2022-11-21T14:59:01.007Z"
   },
   {
    "duration": 492,
    "start_time": "2022-11-21T14:59:01.110Z"
   },
   {
    "duration": 13838,
    "start_time": "2022-11-21T14:59:01.604Z"
   },
   {
    "duration": 12,
    "start_time": "2022-11-21T14:59:15.443Z"
   },
   {
    "duration": 173,
    "start_time": "2022-11-21T14:59:15.457Z"
   },
   {
    "duration": 368,
    "start_time": "2022-11-21T14:59:15.632Z"
   },
   {
    "duration": 11,
    "start_time": "2022-11-21T15:01:32.556Z"
   },
   {
    "duration": 164,
    "start_time": "2022-11-21T15:01:59.299Z"
   },
   {
    "duration": 13,
    "start_time": "2022-11-21T15:02:06.246Z"
   },
   {
    "duration": 13,
    "start_time": "2022-11-21T15:02:16.835Z"
   },
   {
    "duration": 10,
    "start_time": "2022-11-21T15:02:35.206Z"
   },
   {
    "duration": 12,
    "start_time": "2022-11-21T15:03:04.361Z"
   },
   {
    "duration": 12,
    "start_time": "2022-11-21T15:03:20.106Z"
   },
   {
    "duration": 14,
    "start_time": "2022-11-21T15:03:40.046Z"
   },
   {
    "duration": 1429,
    "start_time": "2022-11-21T15:04:30.108Z"
   },
   {
    "duration": 13,
    "start_time": "2022-11-21T15:04:31.539Z"
   },
   {
    "duration": 39,
    "start_time": "2022-11-21T15:04:31.555Z"
   },
   {
    "duration": 8,
    "start_time": "2022-11-21T15:04:31.596Z"
   },
   {
    "duration": 24,
    "start_time": "2022-11-21T15:04:31.606Z"
   },
   {
    "duration": 10,
    "start_time": "2022-11-21T15:04:31.631Z"
   },
   {
    "duration": 15,
    "start_time": "2022-11-21T15:04:31.642Z"
   },
   {
    "duration": 29,
    "start_time": "2022-11-21T15:04:31.659Z"
   },
   {
    "duration": 23,
    "start_time": "2022-11-21T15:04:31.690Z"
   },
   {
    "duration": 8,
    "start_time": "2022-11-21T15:04:31.716Z"
   },
   {
    "duration": 47,
    "start_time": "2022-11-21T15:04:31.726Z"
   },
   {
    "duration": 10,
    "start_time": "2022-11-21T15:04:31.775Z"
   },
   {
    "duration": 17,
    "start_time": "2022-11-21T15:04:31.786Z"
   },
   {
    "duration": 456,
    "start_time": "2022-11-21T15:04:31.805Z"
   },
   {
    "duration": 9779,
    "start_time": "2022-11-21T15:04:32.263Z"
   },
   {
    "duration": 654,
    "start_time": "2022-11-21T15:04:42.044Z"
   },
   {
    "duration": 116,
    "start_time": "2022-11-21T15:04:42.699Z"
   },
   {
    "duration": 695,
    "start_time": "2022-11-21T15:04:42.817Z"
   },
   {
    "duration": 693,
    "start_time": "2022-11-21T15:04:43.513Z"
   },
   {
    "duration": 167,
    "start_time": "2022-11-21T15:04:44.296Z"
   },
   {
    "duration": 850,
    "start_time": "2022-11-21T15:04:44.464Z"
   },
   {
    "duration": 792,
    "start_time": "2022-11-21T15:04:45.316Z"
   },
   {
    "duration": 36,
    "start_time": "2022-11-21T15:04:46.109Z"
   },
   {
    "duration": 1258,
    "start_time": "2022-11-21T15:04:46.146Z"
   },
   {
    "duration": 97,
    "start_time": "2022-11-21T15:04:47.407Z"
   },
   {
    "duration": 1199,
    "start_time": "2022-11-21T15:04:47.506Z"
   },
   {
    "duration": 97,
    "start_time": "2022-11-21T15:04:48.707Z"
   },
   {
    "duration": 593,
    "start_time": "2022-11-21T15:04:48.807Z"
   },
   {
    "duration": 13595,
    "start_time": "2022-11-21T15:04:49.402Z"
   },
   {
    "duration": 9,
    "start_time": "2022-11-21T15:05:02.999Z"
   },
   {
    "duration": 169,
    "start_time": "2022-11-21T15:05:03.010Z"
   },
   {
    "duration": 343,
    "start_time": "2022-11-21T15:05:03.181Z"
   }
  ],
  "kernelspec": {
   "display_name": "Python 3 (ipykernel)",
   "language": "python",
   "name": "python3"
  },
  "language_info": {
   "codemirror_mode": {
    "name": "ipython",
    "version": 3
   },
   "file_extension": ".py",
   "mimetype": "text/x-python",
   "name": "python",
   "nbconvert_exporter": "python",
   "pygments_lexer": "ipython3",
   "version": "3.9.5"
  },
  "toc": {
   "base_numbering": 1,
   "nav_menu": {},
   "number_sections": true,
   "sideBar": true,
   "skip_h1_title": true,
   "title_cell": "Содержание",
   "title_sidebar": "Contents",
   "toc_cell": true,
   "toc_position": {},
   "toc_section_display": true,
   "toc_window_display": true
  }
 },
 "nbformat": 4,
 "nbformat_minor": 2
}
