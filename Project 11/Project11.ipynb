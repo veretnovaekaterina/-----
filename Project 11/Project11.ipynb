{
 "cells": [
  {
   "cell_type": "markdown",
   "metadata": {},
   "source": [
    "# Определение стоимости автомобилей"
   ]
  },
  {
   "cell_type": "markdown",
   "metadata": {},
   "source": [
    "## Подготовка данных"
   ]
  },
  {
   "cell_type": "code",
   "execution_count": 1,
   "metadata": {},
   "outputs": [],
   "source": [
    "import pandas as pd\n",
    "import numpy as np\n",
    "import seaborn as sns\n",
    "import matplotlib.pyplot as plt\n",
    "from sklearn.model_selection import train_test_split, GridSearchCV\n",
    "from sklearn.preprocessing import StandardScaler\n",
    "from sklearn.metrics import r2_score\n",
    "from numpy import linalg  as LA\n",
    "\n",
    "import warnings\n",
    "from sklearn.preprocessing import OneHotEncoder\n",
    "warnings.filterwarnings('ignore')\n",
    "from sklearn.metrics import mean_squared_error\n",
    "import lightgbm as lgb\n",
    "import sklearn\n",
    "from xgboost import XGBRegressor\n",
    "from sklearn.preprocessing import OrdinalEncoder\n",
    "from lightgbm import LGBMRegressor\n",
    "from sklearn.metrics import mean_squared_error as mse \n",
    "\n",
    "RND = 12345"
   ]
  },
  {
   "cell_type": "code",
   "execution_count": 2,
   "metadata": {},
   "outputs": [
    {
     "name": "stdout",
     "output_type": "stream",
     "text": [
      "<class 'pandas.core.frame.DataFrame'>\n",
      "RangeIndex: 354369 entries, 0 to 354368\n",
      "Data columns (total 16 columns):\n",
      " #   Column             Non-Null Count   Dtype \n",
      "---  ------             --------------   ----- \n",
      " 0   DateCrawled        354369 non-null  object\n",
      " 1   Price              354369 non-null  int64 \n",
      " 2   VehicleType        316879 non-null  object\n",
      " 3   RegistrationYear   354369 non-null  int64 \n",
      " 4   Gearbox            334536 non-null  object\n",
      " 5   Power              354369 non-null  int64 \n",
      " 6   Model              334664 non-null  object\n",
      " 7   Kilometer          354369 non-null  int64 \n",
      " 8   RegistrationMonth  354369 non-null  int64 \n",
      " 9   FuelType           321474 non-null  object\n",
      " 10  Brand              354369 non-null  object\n",
      " 11  Repaired           283215 non-null  object\n",
      " 12  DateCreated        354369 non-null  object\n",
      " 13  NumberOfPictures   354369 non-null  int64 \n",
      " 14  PostalCode         354369 non-null  int64 \n",
      " 15  LastSeen           354369 non-null  object\n",
      "dtypes: int64(7), object(9)\n",
      "memory usage: 43.3+ MB\n"
     ]
    }
   ],
   "source": [
    "data = pd.read_csv('/datasets/autos.csv')\n",
    "data.info()"
   ]
  },
  {
   "cell_type": "code",
   "execution_count": 3,
   "metadata": {},
   "outputs": [
    {
     "data": {
      "text/plain": [
       "(354369, 16)"
      ]
     },
     "execution_count": 3,
     "metadata": {},
     "output_type": "execute_result"
    }
   ],
   "source": [
    "data.shape"
   ]
  },
  {
   "cell_type": "code",
   "execution_count": 4,
   "metadata": {},
   "outputs": [
    {
     "data": {
      "text/html": [
       "<div>\n",
       "<style scoped>\n",
       "    .dataframe tbody tr th:only-of-type {\n",
       "        vertical-align: middle;\n",
       "    }\n",
       "\n",
       "    .dataframe tbody tr th {\n",
       "        vertical-align: top;\n",
       "    }\n",
       "\n",
       "    .dataframe thead th {\n",
       "        text-align: right;\n",
       "    }\n",
       "</style>\n",
       "<table border=\"1\" class=\"dataframe\">\n",
       "  <thead>\n",
       "    <tr style=\"text-align: right;\">\n",
       "      <th></th>\n",
       "      <th>DateCrawled</th>\n",
       "      <th>Price</th>\n",
       "      <th>VehicleType</th>\n",
       "      <th>RegistrationYear</th>\n",
       "      <th>Gearbox</th>\n",
       "      <th>Power</th>\n",
       "      <th>Model</th>\n",
       "      <th>Kilometer</th>\n",
       "      <th>RegistrationMonth</th>\n",
       "      <th>FuelType</th>\n",
       "      <th>Brand</th>\n",
       "      <th>Repaired</th>\n",
       "      <th>DateCreated</th>\n",
       "      <th>NumberOfPictures</th>\n",
       "      <th>PostalCode</th>\n",
       "      <th>LastSeen</th>\n",
       "    </tr>\n",
       "  </thead>\n",
       "  <tbody>\n",
       "    <tr>\n",
       "      <th>0</th>\n",
       "      <td>2016-03-24 11:52:17</td>\n",
       "      <td>480</td>\n",
       "      <td>NaN</td>\n",
       "      <td>1993</td>\n",
       "      <td>manual</td>\n",
       "      <td>0</td>\n",
       "      <td>golf</td>\n",
       "      <td>150000</td>\n",
       "      <td>0</td>\n",
       "      <td>petrol</td>\n",
       "      <td>volkswagen</td>\n",
       "      <td>NaN</td>\n",
       "      <td>2016-03-24 00:00:00</td>\n",
       "      <td>0</td>\n",
       "      <td>70435</td>\n",
       "      <td>2016-04-07 03:16:57</td>\n",
       "    </tr>\n",
       "    <tr>\n",
       "      <th>1</th>\n",
       "      <td>2016-03-24 10:58:45</td>\n",
       "      <td>18300</td>\n",
       "      <td>coupe</td>\n",
       "      <td>2011</td>\n",
       "      <td>manual</td>\n",
       "      <td>190</td>\n",
       "      <td>NaN</td>\n",
       "      <td>125000</td>\n",
       "      <td>5</td>\n",
       "      <td>gasoline</td>\n",
       "      <td>audi</td>\n",
       "      <td>yes</td>\n",
       "      <td>2016-03-24 00:00:00</td>\n",
       "      <td>0</td>\n",
       "      <td>66954</td>\n",
       "      <td>2016-04-07 01:46:50</td>\n",
       "    </tr>\n",
       "    <tr>\n",
       "      <th>2</th>\n",
       "      <td>2016-03-14 12:52:21</td>\n",
       "      <td>9800</td>\n",
       "      <td>suv</td>\n",
       "      <td>2004</td>\n",
       "      <td>auto</td>\n",
       "      <td>163</td>\n",
       "      <td>grand</td>\n",
       "      <td>125000</td>\n",
       "      <td>8</td>\n",
       "      <td>gasoline</td>\n",
       "      <td>jeep</td>\n",
       "      <td>NaN</td>\n",
       "      <td>2016-03-14 00:00:00</td>\n",
       "      <td>0</td>\n",
       "      <td>90480</td>\n",
       "      <td>2016-04-05 12:47:46</td>\n",
       "    </tr>\n",
       "    <tr>\n",
       "      <th>3</th>\n",
       "      <td>2016-03-17 16:54:04</td>\n",
       "      <td>1500</td>\n",
       "      <td>small</td>\n",
       "      <td>2001</td>\n",
       "      <td>manual</td>\n",
       "      <td>75</td>\n",
       "      <td>golf</td>\n",
       "      <td>150000</td>\n",
       "      <td>6</td>\n",
       "      <td>petrol</td>\n",
       "      <td>volkswagen</td>\n",
       "      <td>no</td>\n",
       "      <td>2016-03-17 00:00:00</td>\n",
       "      <td>0</td>\n",
       "      <td>91074</td>\n",
       "      <td>2016-03-17 17:40:17</td>\n",
       "    </tr>\n",
       "    <tr>\n",
       "      <th>4</th>\n",
       "      <td>2016-03-31 17:25:20</td>\n",
       "      <td>3600</td>\n",
       "      <td>small</td>\n",
       "      <td>2008</td>\n",
       "      <td>manual</td>\n",
       "      <td>69</td>\n",
       "      <td>fabia</td>\n",
       "      <td>90000</td>\n",
       "      <td>7</td>\n",
       "      <td>gasoline</td>\n",
       "      <td>skoda</td>\n",
       "      <td>no</td>\n",
       "      <td>2016-03-31 00:00:00</td>\n",
       "      <td>0</td>\n",
       "      <td>60437</td>\n",
       "      <td>2016-04-06 10:17:21</td>\n",
       "    </tr>\n",
       "  </tbody>\n",
       "</table>\n",
       "</div>"
      ],
      "text/plain": [
       "           DateCrawled  Price VehicleType  RegistrationYear Gearbox  Power  \\\n",
       "0  2016-03-24 11:52:17    480         NaN              1993  manual      0   \n",
       "1  2016-03-24 10:58:45  18300       coupe              2011  manual    190   \n",
       "2  2016-03-14 12:52:21   9800         suv              2004    auto    163   \n",
       "3  2016-03-17 16:54:04   1500       small              2001  manual     75   \n",
       "4  2016-03-31 17:25:20   3600       small              2008  manual     69   \n",
       "\n",
       "   Model  Kilometer  RegistrationMonth  FuelType       Brand Repaired  \\\n",
       "0   golf     150000                  0    petrol  volkswagen      NaN   \n",
       "1    NaN     125000                  5  gasoline        audi      yes   \n",
       "2  grand     125000                  8  gasoline        jeep      NaN   \n",
       "3   golf     150000                  6    petrol  volkswagen       no   \n",
       "4  fabia      90000                  7  gasoline       skoda       no   \n",
       "\n",
       "           DateCreated  NumberOfPictures  PostalCode             LastSeen  \n",
       "0  2016-03-24 00:00:00                 0       70435  2016-04-07 03:16:57  \n",
       "1  2016-03-24 00:00:00                 0       66954  2016-04-07 01:46:50  \n",
       "2  2016-03-14 00:00:00                 0       90480  2016-04-05 12:47:46  \n",
       "3  2016-03-17 00:00:00                 0       91074  2016-03-17 17:40:17  \n",
       "4  2016-03-31 00:00:00                 0       60437  2016-04-06 10:17:21  "
      ]
     },
     "execution_count": 4,
     "metadata": {},
     "output_type": "execute_result"
    }
   ],
   "source": [
    "data.head()"
   ]
  },
  {
   "cell_type": "code",
   "execution_count": 5,
   "metadata": {},
   "outputs": [
    {
     "data": {
      "text/html": [
       "<div>\n",
       "<style scoped>\n",
       "    .dataframe tbody tr th:only-of-type {\n",
       "        vertical-align: middle;\n",
       "    }\n",
       "\n",
       "    .dataframe tbody tr th {\n",
       "        vertical-align: top;\n",
       "    }\n",
       "\n",
       "    .dataframe thead th {\n",
       "        text-align: right;\n",
       "    }\n",
       "</style>\n",
       "<table border=\"1\" class=\"dataframe\">\n",
       "  <thead>\n",
       "    <tr style=\"text-align: right;\">\n",
       "      <th></th>\n",
       "      <th>Price</th>\n",
       "      <th>RegistrationYear</th>\n",
       "      <th>Power</th>\n",
       "      <th>Kilometer</th>\n",
       "      <th>RegistrationMonth</th>\n",
       "      <th>NumberOfPictures</th>\n",
       "      <th>PostalCode</th>\n",
       "    </tr>\n",
       "  </thead>\n",
       "  <tbody>\n",
       "    <tr>\n",
       "      <th>count</th>\n",
       "      <td>354369.000000</td>\n",
       "      <td>354369.000000</td>\n",
       "      <td>354369.000000</td>\n",
       "      <td>354369.000000</td>\n",
       "      <td>354369.000000</td>\n",
       "      <td>354369.0</td>\n",
       "      <td>354369.000000</td>\n",
       "    </tr>\n",
       "    <tr>\n",
       "      <th>mean</th>\n",
       "      <td>4416.656776</td>\n",
       "      <td>2004.234448</td>\n",
       "      <td>110.094337</td>\n",
       "      <td>128211.172535</td>\n",
       "      <td>5.714645</td>\n",
       "      <td>0.0</td>\n",
       "      <td>50508.689087</td>\n",
       "    </tr>\n",
       "    <tr>\n",
       "      <th>std</th>\n",
       "      <td>4514.158514</td>\n",
       "      <td>90.227958</td>\n",
       "      <td>189.850405</td>\n",
       "      <td>37905.341530</td>\n",
       "      <td>3.726421</td>\n",
       "      <td>0.0</td>\n",
       "      <td>25783.096248</td>\n",
       "    </tr>\n",
       "    <tr>\n",
       "      <th>min</th>\n",
       "      <td>0.000000</td>\n",
       "      <td>1000.000000</td>\n",
       "      <td>0.000000</td>\n",
       "      <td>5000.000000</td>\n",
       "      <td>0.000000</td>\n",
       "      <td>0.0</td>\n",
       "      <td>1067.000000</td>\n",
       "    </tr>\n",
       "    <tr>\n",
       "      <th>25%</th>\n",
       "      <td>1050.000000</td>\n",
       "      <td>1999.000000</td>\n",
       "      <td>69.000000</td>\n",
       "      <td>125000.000000</td>\n",
       "      <td>3.000000</td>\n",
       "      <td>0.0</td>\n",
       "      <td>30165.000000</td>\n",
       "    </tr>\n",
       "    <tr>\n",
       "      <th>50%</th>\n",
       "      <td>2700.000000</td>\n",
       "      <td>2003.000000</td>\n",
       "      <td>105.000000</td>\n",
       "      <td>150000.000000</td>\n",
       "      <td>6.000000</td>\n",
       "      <td>0.0</td>\n",
       "      <td>49413.000000</td>\n",
       "    </tr>\n",
       "    <tr>\n",
       "      <th>75%</th>\n",
       "      <td>6400.000000</td>\n",
       "      <td>2008.000000</td>\n",
       "      <td>143.000000</td>\n",
       "      <td>150000.000000</td>\n",
       "      <td>9.000000</td>\n",
       "      <td>0.0</td>\n",
       "      <td>71083.000000</td>\n",
       "    </tr>\n",
       "    <tr>\n",
       "      <th>max</th>\n",
       "      <td>20000.000000</td>\n",
       "      <td>9999.000000</td>\n",
       "      <td>20000.000000</td>\n",
       "      <td>150000.000000</td>\n",
       "      <td>12.000000</td>\n",
       "      <td>0.0</td>\n",
       "      <td>99998.000000</td>\n",
       "    </tr>\n",
       "  </tbody>\n",
       "</table>\n",
       "</div>"
      ],
      "text/plain": [
       "               Price  RegistrationYear          Power      Kilometer  \\\n",
       "count  354369.000000     354369.000000  354369.000000  354369.000000   \n",
       "mean     4416.656776       2004.234448     110.094337  128211.172535   \n",
       "std      4514.158514         90.227958     189.850405   37905.341530   \n",
       "min         0.000000       1000.000000       0.000000    5000.000000   \n",
       "25%      1050.000000       1999.000000      69.000000  125000.000000   \n",
       "50%      2700.000000       2003.000000     105.000000  150000.000000   \n",
       "75%      6400.000000       2008.000000     143.000000  150000.000000   \n",
       "max     20000.000000       9999.000000   20000.000000  150000.000000   \n",
       "\n",
       "       RegistrationMonth  NumberOfPictures     PostalCode  \n",
       "count      354369.000000          354369.0  354369.000000  \n",
       "mean            5.714645               0.0   50508.689087  \n",
       "std             3.726421               0.0   25783.096248  \n",
       "min             0.000000               0.0    1067.000000  \n",
       "25%             3.000000               0.0   30165.000000  \n",
       "50%             6.000000               0.0   49413.000000  \n",
       "75%             9.000000               0.0   71083.000000  \n",
       "max            12.000000               0.0   99998.000000  "
      ]
     },
     "execution_count": 5,
     "metadata": {},
     "output_type": "execute_result"
    }
   ],
   "source": [
    "data.describe()"
   ]
  },
  {
   "cell_type": "markdown",
   "metadata": {},
   "source": [
    "Столбец Price имеет нули, их можно удалить.\n",
    "Столбец Power имеет нули, их можно удалить.\n",
    "В столбце RegistrationYear есть данные не похожие на года, т.е 1000 и 9999, нужно понять сколько их  и удалить те, что не соответствуют годам регистрации.\n",
    "Столбец NumberOfPictures все нули, удаляем.\n",
    "Также есть столбцы с датами, удалим их.\n",
    "Столбцы почтовый индекс и дата последней активности тоже не несут смысловой нагрузки. Удаляем"
   ]
  },
  {
   "cell_type": "code",
   "execution_count": 6,
   "metadata": {},
   "outputs": [],
   "source": [
    "data = data.drop(['DateCreated','LastSeen','NumberOfPictures', 'PostalCode'], axis=1)"
   ]
  },
  {
   "cell_type": "code",
   "execution_count": 7,
   "metadata": {},
   "outputs": [
    {
     "data": {
      "text/html": [
       "<style  type=\"text/css\" >\n",
       "#T_610bd_row0_col0,#T_610bd_row1_col0,#T_610bd_row2_col0,#T_610bd_row3_col0,#T_610bd_row4_col0,#T_610bd_row5_col0,#T_610bd_row6_col0{\n",
       "            background-color:  #3b4cc0;\n",
       "            color:  #f1f1f1;\n",
       "        }#T_610bd_row7_col0{\n",
       "            background-color:  #96b7ff;\n",
       "            color:  #000000;\n",
       "        }#T_610bd_row8_col0{\n",
       "            background-color:  #97b8ff;\n",
       "            color:  #000000;\n",
       "        }#T_610bd_row9_col0{\n",
       "            background-color:  #d3dbe7;\n",
       "            color:  #000000;\n",
       "        }#T_610bd_row10_col0{\n",
       "            background-color:  #e3d9d3;\n",
       "            color:  #000000;\n",
       "        }#T_610bd_row11_col0{\n",
       "            background-color:  #b40426;\n",
       "            color:  #f1f1f1;\n",
       "        }</style><table id=\"T_610bd_\" ><thead>    <tr>        <th class=\"blank level0\" ></th>        <th class=\"col_heading level0 col0\" >0</th>    </tr></thead><tbody>\n",
       "                <tr>\n",
       "                        <th id=\"T_610bd_level0_row0\" class=\"row_heading level0 row0\" >DateCrawled</th>\n",
       "                        <td id=\"T_610bd_row0_col0\" class=\"data row0 col0\" >0.00%</td>\n",
       "            </tr>\n",
       "            <tr>\n",
       "                        <th id=\"T_610bd_level0_row1\" class=\"row_heading level0 row1\" >Price</th>\n",
       "                        <td id=\"T_610bd_row1_col0\" class=\"data row1 col0\" >0.00%</td>\n",
       "            </tr>\n",
       "            <tr>\n",
       "                        <th id=\"T_610bd_level0_row2\" class=\"row_heading level0 row2\" >RegistrationYear</th>\n",
       "                        <td id=\"T_610bd_row2_col0\" class=\"data row2 col0\" >0.00%</td>\n",
       "            </tr>\n",
       "            <tr>\n",
       "                        <th id=\"T_610bd_level0_row3\" class=\"row_heading level0 row3\" >Power</th>\n",
       "                        <td id=\"T_610bd_row3_col0\" class=\"data row3 col0\" >0.00%</td>\n",
       "            </tr>\n",
       "            <tr>\n",
       "                        <th id=\"T_610bd_level0_row4\" class=\"row_heading level0 row4\" >Kilometer</th>\n",
       "                        <td id=\"T_610bd_row4_col0\" class=\"data row4 col0\" >0.00%</td>\n",
       "            </tr>\n",
       "            <tr>\n",
       "                        <th id=\"T_610bd_level0_row5\" class=\"row_heading level0 row5\" >RegistrationMonth</th>\n",
       "                        <td id=\"T_610bd_row5_col0\" class=\"data row5 col0\" >0.00%</td>\n",
       "            </tr>\n",
       "            <tr>\n",
       "                        <th id=\"T_610bd_level0_row6\" class=\"row_heading level0 row6\" >Brand</th>\n",
       "                        <td id=\"T_610bd_row6_col0\" class=\"data row6 col0\" >0.00%</td>\n",
       "            </tr>\n",
       "            <tr>\n",
       "                        <th id=\"T_610bd_level0_row7\" class=\"row_heading level0 row7\" >Model</th>\n",
       "                        <td id=\"T_610bd_row7_col0\" class=\"data row7 col0\" >5.56%</td>\n",
       "            </tr>\n",
       "            <tr>\n",
       "                        <th id=\"T_610bd_level0_row8\" class=\"row_heading level0 row8\" >Gearbox</th>\n",
       "                        <td id=\"T_610bd_row8_col0\" class=\"data row8 col0\" >5.60%</td>\n",
       "            </tr>\n",
       "            <tr>\n",
       "                        <th id=\"T_610bd_level0_row9\" class=\"row_heading level0 row9\" >FuelType</th>\n",
       "                        <td id=\"T_610bd_row9_col0\" class=\"data row9 col0\" >9.28%</td>\n",
       "            </tr>\n",
       "            <tr>\n",
       "                        <th id=\"T_610bd_level0_row10\" class=\"row_heading level0 row10\" >VehicleType</th>\n",
       "                        <td id=\"T_610bd_row10_col0\" class=\"data row10 col0\" >10.58%</td>\n",
       "            </tr>\n",
       "            <tr>\n",
       "                        <th id=\"T_610bd_level0_row11\" class=\"row_heading level0 row11\" >Repaired</th>\n",
       "                        <td id=\"T_610bd_row11_col0\" class=\"data row11 col0\" >20.08%</td>\n",
       "            </tr>\n",
       "    </tbody></table>"
      ],
      "text/plain": [
       "<pandas.io.formats.style.Styler at 0x7ff49416db80>"
      ]
     },
     "execution_count": 7,
     "metadata": {},
     "output_type": "execute_result"
    }
   ],
   "source": [
    "data.isna().mean().round(4).to_frame().sort_values(by=0).style.format('{:.2%}').background_gradient('coolwarm')\n"
   ]
  },
  {
   "cell_type": "code",
   "execution_count": 10,
   "metadata": {
    "scrolled": true
   },
   "outputs": [
    {
     "data": {
      "text/plain": [
       "array([1993, 2011, 2004, 2001, 2008, 1995, 1980, 2014, 1998, 2005, 1910,\n",
       "       2016, 2007, 2009, 2002, 2018, 1997, 1990, 2017, 1981, 2003, 1994,\n",
       "       1991, 1984, 2006, 1999, 2012, 2010, 2000, 1992, 2013, 1996, 1985,\n",
       "       1989, 2015, 1982, 1976, 1983, 1973, 1111, 1969, 1971, 1987, 1986,\n",
       "       1988, 1970, 1965, 1945, 1925, 1974, 1979, 1955, 1978, 1972, 1968,\n",
       "       1977, 1961, 1960, 1966, 1975, 1963, 1964, 5000, 1954, 1958, 1967,\n",
       "       1959, 9999, 1956, 3200, 1000, 1941, 8888, 1500, 2200, 4100, 1962,\n",
       "       1929, 1957, 1940, 3000, 2066, 1949, 2019, 1937, 1951, 1800, 1953,\n",
       "       1234, 8000, 5300, 9000, 2900, 6000, 5900, 5911, 1933, 1400, 1950,\n",
       "       4000, 1948, 1952, 1200, 8500, 1932, 1255, 3700, 3800, 4800, 1942,\n",
       "       7000, 1935, 1936, 6500, 1923, 2290, 2500, 1930, 1001, 9450, 1944,\n",
       "       1943, 1934, 1938, 1688, 2800, 1253, 1928, 1919, 5555, 5600, 1600,\n",
       "       2222, 1039, 9996, 1300, 8455, 1931, 1915, 4500, 1920, 1602, 7800,\n",
       "       9229, 1947, 1927, 7100, 8200, 1946, 7500, 3500])"
      ]
     },
     "execution_count": 10,
     "metadata": {},
     "output_type": "execute_result"
    }
   ],
   "source": [
    "data['RegistrationYear'].unique()"
   ]
  },
  {
   "cell_type": "code",
   "execution_count": 11,
   "metadata": {},
   "outputs": [],
   "source": [
    "data['DateCrawled'] = pd.to_datetime(data['DateCrawled'], format='%Y-%m-%d %H:%M:%S')"
   ]
  },
  {
   "cell_type": "code",
   "execution_count": 12,
   "metadata": {},
   "outputs": [
    {
     "data": {
      "text/plain": [
       "Timestamp('2016-04-07 14:36:58')"
      ]
     },
     "execution_count": 12,
     "metadata": {},
     "output_type": "execute_result"
    }
   ],
   "source": [
    "data.DateCrawled.max()"
   ]
  },
  {
   "cell_type": "code",
   "execution_count": 13,
   "metadata": {},
   "outputs": [],
   "source": [
    "data = data[(data['RegistrationYear'] > 1970) & (data['RegistrationYear'] < 2017)]"
   ]
  },
  {
   "cell_type": "code",
   "execution_count": 14,
   "metadata": {},
   "outputs": [
    {
     "data": {
      "text/plain": [
       "array([1993, 2011, 2004, 2001, 2008, 1995, 1980, 2014, 1998, 2005, 2016,\n",
       "       2007, 2009, 2002, 1997, 1990, 1981, 2003, 1994, 1991, 1984, 2006,\n",
       "       1999, 2012, 2010, 2000, 1992, 2013, 1996, 1985, 1989, 2015, 1982,\n",
       "       1976, 1983, 1973, 1971, 1987, 1986, 1988, 1974, 1979, 1978, 1972,\n",
       "       1977, 1975])"
      ]
     },
     "execution_count": 14,
     "metadata": {},
     "output_type": "execute_result"
    }
   ],
   "source": [
    "data['RegistrationYear'].unique()"
   ]
  },
  {
   "cell_type": "code",
   "execution_count": 15,
   "metadata": {},
   "outputs": [],
   "source": [
    "data['Model'] = data['Model'].fillna(value = 'unknown')\n",
    "data['Gearbox'] = data['Gearbox'].fillna(value = 'unknown')\n",
    "data['FuelType'] = data['FuelType'].fillna(value = 'unknown')\n",
    "data['VehicleType'] = data['VehicleType'].fillna(value = 'unknown')\n"
   ]
  },
  {
   "cell_type": "code",
   "execution_count": 16,
   "metadata": {},
   "outputs": [
    {
     "data": {
      "text/plain": [
       "array([nan, 'yes', 'no'], dtype=object)"
      ]
     },
     "execution_count": 16,
     "metadata": {},
     "output_type": "execute_result"
    }
   ],
   "source": [
    "data['Repaired'].unique()\n"
   ]
  },
  {
   "cell_type": "code",
   "execution_count": 17,
   "metadata": {},
   "outputs": [],
   "source": [
    "data['Repaired'] = data['Repaired'].fillna(value = 'no')"
   ]
  },
  {
   "cell_type": "code",
   "execution_count": 18,
   "metadata": {},
   "outputs": [
    {
     "data": {
      "text/html": [
       "<style  type=\"text/css\" >\n",
       "#T_05b52_row0_col0,#T_05b52_row1_col0,#T_05b52_row2_col0,#T_05b52_row3_col0,#T_05b52_row4_col0,#T_05b52_row5_col0,#T_05b52_row6_col0,#T_05b52_row7_col0,#T_05b52_row8_col0,#T_05b52_row9_col0,#T_05b52_row10_col0,#T_05b52_row11_col0{\n",
       "            background-color:  #3b4cc0;\n",
       "            color:  #f1f1f1;\n",
       "        }</style><table id=\"T_05b52_\" ><thead>    <tr>        <th class=\"blank level0\" ></th>        <th class=\"col_heading level0 col0\" >0</th>    </tr></thead><tbody>\n",
       "                <tr>\n",
       "                        <th id=\"T_05b52_level0_row0\" class=\"row_heading level0 row0\" >DateCrawled</th>\n",
       "                        <td id=\"T_05b52_row0_col0\" class=\"data row0 col0\" >0.00%</td>\n",
       "            </tr>\n",
       "            <tr>\n",
       "                        <th id=\"T_05b52_level0_row1\" class=\"row_heading level0 row1\" >Price</th>\n",
       "                        <td id=\"T_05b52_row1_col0\" class=\"data row1 col0\" >0.00%</td>\n",
       "            </tr>\n",
       "            <tr>\n",
       "                        <th id=\"T_05b52_level0_row2\" class=\"row_heading level0 row2\" >VehicleType</th>\n",
       "                        <td id=\"T_05b52_row2_col0\" class=\"data row2 col0\" >0.00%</td>\n",
       "            </tr>\n",
       "            <tr>\n",
       "                        <th id=\"T_05b52_level0_row3\" class=\"row_heading level0 row3\" >RegistrationYear</th>\n",
       "                        <td id=\"T_05b52_row3_col0\" class=\"data row3 col0\" >0.00%</td>\n",
       "            </tr>\n",
       "            <tr>\n",
       "                        <th id=\"T_05b52_level0_row4\" class=\"row_heading level0 row4\" >Gearbox</th>\n",
       "                        <td id=\"T_05b52_row4_col0\" class=\"data row4 col0\" >0.00%</td>\n",
       "            </tr>\n",
       "            <tr>\n",
       "                        <th id=\"T_05b52_level0_row5\" class=\"row_heading level0 row5\" >Power</th>\n",
       "                        <td id=\"T_05b52_row5_col0\" class=\"data row5 col0\" >0.00%</td>\n",
       "            </tr>\n",
       "            <tr>\n",
       "                        <th id=\"T_05b52_level0_row6\" class=\"row_heading level0 row6\" >Model</th>\n",
       "                        <td id=\"T_05b52_row6_col0\" class=\"data row6 col0\" >0.00%</td>\n",
       "            </tr>\n",
       "            <tr>\n",
       "                        <th id=\"T_05b52_level0_row7\" class=\"row_heading level0 row7\" >Kilometer</th>\n",
       "                        <td id=\"T_05b52_row7_col0\" class=\"data row7 col0\" >0.00%</td>\n",
       "            </tr>\n",
       "            <tr>\n",
       "                        <th id=\"T_05b52_level0_row8\" class=\"row_heading level0 row8\" >RegistrationMonth</th>\n",
       "                        <td id=\"T_05b52_row8_col0\" class=\"data row8 col0\" >0.00%</td>\n",
       "            </tr>\n",
       "            <tr>\n",
       "                        <th id=\"T_05b52_level0_row9\" class=\"row_heading level0 row9\" >FuelType</th>\n",
       "                        <td id=\"T_05b52_row9_col0\" class=\"data row9 col0\" >0.00%</td>\n",
       "            </tr>\n",
       "            <tr>\n",
       "                        <th id=\"T_05b52_level0_row10\" class=\"row_heading level0 row10\" >Brand</th>\n",
       "                        <td id=\"T_05b52_row10_col0\" class=\"data row10 col0\" >0.00%</td>\n",
       "            </tr>\n",
       "            <tr>\n",
       "                        <th id=\"T_05b52_level0_row11\" class=\"row_heading level0 row11\" >Repaired</th>\n",
       "                        <td id=\"T_05b52_row11_col0\" class=\"data row11 col0\" >0.00%</td>\n",
       "            </tr>\n",
       "    </tbody></table>"
      ],
      "text/plain": [
       "<pandas.io.formats.style.Styler at 0x7ff429079520>"
      ]
     },
     "execution_count": 18,
     "metadata": {},
     "output_type": "execute_result"
    }
   ],
   "source": [
    "data.isna().mean().round(4).to_frame().sort_values(by=0).style.format('{:.2%}').background_gradient('coolwarm')"
   ]
  },
  {
   "cell_type": "code",
   "execution_count": 19,
   "metadata": {},
   "outputs": [
    {
     "data": {
      "text/html": [
       "<div>\n",
       "<style scoped>\n",
       "    .dataframe tbody tr th:only-of-type {\n",
       "        vertical-align: middle;\n",
       "    }\n",
       "\n",
       "    .dataframe tbody tr th {\n",
       "        vertical-align: top;\n",
       "    }\n",
       "\n",
       "    .dataframe thead th {\n",
       "        text-align: right;\n",
       "    }\n",
       "</style>\n",
       "<table border=\"1\" class=\"dataframe\">\n",
       "  <thead>\n",
       "    <tr style=\"text-align: right;\">\n",
       "      <th></th>\n",
       "      <th>Price</th>\n",
       "      <th>RegistrationYear</th>\n",
       "      <th>Power</th>\n",
       "      <th>Kilometer</th>\n",
       "      <th>RegistrationMonth</th>\n",
       "    </tr>\n",
       "  </thead>\n",
       "  <tbody>\n",
       "    <tr>\n",
       "      <th>count</th>\n",
       "      <td>338168.000000</td>\n",
       "      <td>338168.000000</td>\n",
       "      <td>338168.000000</td>\n",
       "      <td>338168.000000</td>\n",
       "      <td>338168.000000</td>\n",
       "    </tr>\n",
       "    <tr>\n",
       "      <th>mean</th>\n",
       "      <td>4461.461522</td>\n",
       "      <td>2002.684358</td>\n",
       "      <td>111.217185</td>\n",
       "      <td>128336.359443</td>\n",
       "      <td>5.765918</td>\n",
       "    </tr>\n",
       "    <tr>\n",
       "      <th>std</th>\n",
       "      <td>4535.407928</td>\n",
       "      <td>6.385945</td>\n",
       "      <td>185.151538</td>\n",
       "      <td>37627.542809</td>\n",
       "      <td>3.706365</td>\n",
       "    </tr>\n",
       "    <tr>\n",
       "      <th>min</th>\n",
       "      <td>0.000000</td>\n",
       "      <td>1971.000000</td>\n",
       "      <td>0.000000</td>\n",
       "      <td>5000.000000</td>\n",
       "      <td>0.000000</td>\n",
       "    </tr>\n",
       "    <tr>\n",
       "      <th>25%</th>\n",
       "      <td>1099.000000</td>\n",
       "      <td>1999.000000</td>\n",
       "      <td>69.000000</td>\n",
       "      <td>125000.000000</td>\n",
       "      <td>3.000000</td>\n",
       "    </tr>\n",
       "    <tr>\n",
       "      <th>50%</th>\n",
       "      <td>2799.000000</td>\n",
       "      <td>2003.000000</td>\n",
       "      <td>105.000000</td>\n",
       "      <td>150000.000000</td>\n",
       "      <td>6.000000</td>\n",
       "    </tr>\n",
       "    <tr>\n",
       "      <th>75%</th>\n",
       "      <td>6500.000000</td>\n",
       "      <td>2007.000000</td>\n",
       "      <td>143.000000</td>\n",
       "      <td>150000.000000</td>\n",
       "      <td>9.000000</td>\n",
       "    </tr>\n",
       "    <tr>\n",
       "      <th>max</th>\n",
       "      <td>20000.000000</td>\n",
       "      <td>2016.000000</td>\n",
       "      <td>20000.000000</td>\n",
       "      <td>150000.000000</td>\n",
       "      <td>12.000000</td>\n",
       "    </tr>\n",
       "  </tbody>\n",
       "</table>\n",
       "</div>"
      ],
      "text/plain": [
       "               Price  RegistrationYear          Power      Kilometer  \\\n",
       "count  338168.000000     338168.000000  338168.000000  338168.000000   \n",
       "mean     4461.461522       2002.684358     111.217185  128336.359443   \n",
       "std      4535.407928          6.385945     185.151538   37627.542809   \n",
       "min         0.000000       1971.000000       0.000000    5000.000000   \n",
       "25%      1099.000000       1999.000000      69.000000  125000.000000   \n",
       "50%      2799.000000       2003.000000     105.000000  150000.000000   \n",
       "75%      6500.000000       2007.000000     143.000000  150000.000000   \n",
       "max     20000.000000       2016.000000   20000.000000  150000.000000   \n",
       "\n",
       "       RegistrationMonth  \n",
       "count      338168.000000  \n",
       "mean            5.765918  \n",
       "std             3.706365  \n",
       "min             0.000000  \n",
       "25%             3.000000  \n",
       "50%             6.000000  \n",
       "75%             9.000000  \n",
       "max            12.000000  "
      ]
     },
     "execution_count": 19,
     "metadata": {},
     "output_type": "execute_result"
    }
   ],
   "source": [
    "data.describe()"
   ]
  },
  {
   "cell_type": "code",
   "execution_count": 20,
   "metadata": {
    "scrolled": true
   },
   "outputs": [
    {
     "data": {
      "text/plain": [
       "array([    0,   190,   163,    75,    69,   102,   109,    50,   125,\n",
       "         101,   105,   140,   115,   131,    60,   136,   160,   231,\n",
       "         118,   193,    99,   113,   218,   122,   129,    70,   306,\n",
       "          95,    61,   177,   170,    55,   143,   286,   232,   150,\n",
       "         156,    80,    82,    90,   155,    54,   185,    87,   180,\n",
       "          86,    84,   224,   235,   200,   178,   265,    77,   110,\n",
       "         144,   120,   116,   184,   126,   204,    88,   194,    64,\n",
       "         305,   197,   179,   250,    45,   313,    41,   165,    98,\n",
       "         130,   114,   211,    56,   201,   213,    58,   107,    83,\n",
       "         174,   100,   220,    73,   192,    68,    66,   299,    74,\n",
       "          52,   147,   310,    71,    97,    65,   239,   203,     5,\n",
       "         300,   103,    85,   258,   320,    63,    81,   148,    44,\n",
       "         145,   230,   280,   260,   104,   188,   333,   186,   117,\n",
       "         141,   132,   234,   158,    39,    92,    51,   135,    59,\n",
       "          53,   209,    43,   146,    67,   106,   166,   276,   344,\n",
       "          72,   249,   237,   245,   111,   326,   279,    23,   138,\n",
       "         175,    96,   226,    37,   301,   334,   128,   133,   124,\n",
       "          33,   219,   241,   167,    94,   182,   196,   238,  1398,\n",
       "         228,   112,    48,   272,   139,  1799,   240,    79,   256,\n",
       "         243,   375,   252,   396,   340,   121,   345,   187,   289,\n",
       "         222,   198,   284,   450,   233,   387,   152,   347,   172,\n",
       "          57,   137,   212,   476,   314,     7,    47,   173,   290,\n",
       "         207,   205,   171,    78,    91,    89,   349,    40,   108,\n",
       "         325,    76,   350,   953,    93,   142,   500,   343,   199,\n",
       "         119,   164,    16,   264,   367,   208,   210,    46,   435,\n",
       "        1001,   225,   127,    26,   176,   161,   603,   307,   354,\n",
       "          35,   206,   771,   355,   273,   223,   255,   151,    30,\n",
       "         123,   154,   149,  7515,  1400,   268,   620,   400,   275,\n",
       "          34,     2,   242,  1779,   285,   162,   328,  1753,   329,\n",
       "         134,   420,   247,   168, 10317,   215,   360,   330,   283,\n",
       "          62,   214,   183,   254,    15,   321,   315,   952,   169,\n",
       "          18,   600,   181,   426,   379,   999,    22,   157,    42,\n",
       "         195,   553,     4,   309,   507,   381,   271,   440,   189,\n",
       "         401,  1111,  2729,   236,  1240,  1704,   521,     1,  1900,\n",
       "         270,    24,   159,   292,   515,  1200,   303,    29,    38,\n",
       "        1993,    14,   216,   610,   504,    49,   267,   331,   261,\n",
       "        1011,   253,   696, 10520,   376,   227,   311,    27,   217,\n",
       "          20,   322,    10,  1999,    11,  1056,    25,   394,    12,\n",
       "         298,   296,  1659,   294,   551,  6920,   246,    17,  1625,\n",
       "         368,   363,   390,   221,  1367,   259,   606,  1597,   266,\n",
       "         374,   392,     9,   405,    13,   262,   601,   430,   295,\n",
       "           8,   411,   900,   541,  7512,   382, 10218,  7544,  1102,\n",
       "         287,    19,   751,   297,  1090,   457,   282,   602,   388,\n",
       "         385,     6,  5411,   335,  1360,   202,  3750,   805,  1062,\n",
       "        2017,   750,  1024, 11530,  1796,   269,   460,  1002,   288,\n",
       "        1780, 12012, 17932,   316,  2005,  1800,  1399,   191,   278,\n",
       "         380,   257,   449,  1256,   153,    21,  1653,   520,   560,\n",
       "         281, 12510,     3,  1500,   386,    32,  1202,  2016,  1436,\n",
       "        1405,   671,   274,  1288,  1055, 10912, 15016,  6226,  1115,\n",
       "         277,  1105,   341,  1223,  2340,  8404,  1968,   338,   445,\n",
       "        1920,   517,  4400, 10710, 10522,   431,  1164, 11509,   371,\n",
       "        1501,   428, 11635,    36,   304,   348,  1703,   370,  1910,\n",
       "        1995,   579, 10000,   580,   408,    31,   358,  1403,   489,\n",
       "        5575, 19211,   585,   960,   353,   490,   352,  1801,  1000,\n",
       "         346,   550,  3199,   800,  7508,  1312,  1937,   950,  4700,\n",
       "        1600,  3454, 19208,   251,   850,   337,   365,   700,  8011,\n",
       "        2331,  2789,   487,   519,  2461,  6006,  3500,  5815,  6018,\n",
       "        1781,  1503,   612,  1596,   229,  1506,  5809, 15020,  1300,\n",
       "        5867,  2172,  1598, 17410,  1363,   584,  1054,   851,  1339,\n",
       "         318,   510,   525,  1700,    28,  1151,   685,  6011,   317,\n",
       "         703,  1771, 15001,   514,   362,   332,  5000,   324,  6045,\n",
       "         530,   308,  6010,   475,   903,   640,  2000,   248,   651,\n",
       "        2799, 17011,   505,  1103,  1521,   398,   599,  1998, 10311,\n",
       "         409,  1230, 17019, 12684,  8259,  1895,  1317,   871,   909,\n",
       "        2201,  1595,   776, 17700, 11011,   351,  1199,   459,   357,\n",
       "        1162,  1120,   327, 15033,  1896,   339,   361,   574,  6512,\n",
       "         454,   650, 13616,   604, 16312,  1082,   336, 20000,   416,\n",
       "        1401,  1021,  1870, 13636,  1250,  9710,  6012,   323,  1158,\n",
       "        2009,   902,  6062,  1275,   572,   244,   399,  1016,   743,\n",
       "        1221,  2402,  1362,   544,   645,   907,   702,  1003,  1432,\n",
       "        9013,   442,  1017, 15017, 10910,  1992,   540,  2018, 11025,\n",
       "        1433,  1701,  2792,  1502,  1239,  1390, 14009,  1160, 11111,\n",
       "        1783,  9007,   923,  1149,   754,  1988,  2004,  5420,  1793,\n",
       "         356,   364, 12512,  7511,  1299,   293, 19312,  1079,  1689,\n",
       "         998,  1100,  1933,   508, 16311,   682,  1922,  7529,   732,\n",
       "        2389,  1005,  2200,  1707,  1416,  8500,  1012,   485, 10110,\n",
       "         421,  4507,  1631,  7518,   377,  1004,  9012,  2007,  2598,\n",
       "        1548,  1241])"
      ]
     },
     "execution_count": 20,
     "metadata": {},
     "output_type": "execute_result"
    }
   ],
   "source": [
    "data['Power'].unique()"
   ]
  },
  {
   "cell_type": "code",
   "execution_count": 21,
   "metadata": {},
   "outputs": [
    {
     "data": {
      "text/plain": [
       "array([  480, 18300,  9800, ..., 12395, 18429, 10985])"
      ]
     },
     "execution_count": 21,
     "metadata": {},
     "output_type": "execute_result"
    }
   ],
   "source": [
    "data['Price'].unique()"
   ]
  },
  {
   "cell_type": "code",
   "execution_count": 22,
   "metadata": {},
   "outputs": [
    {
     "data": {
      "text/plain": [
       "array([ 0,  5,  8,  6,  7, 10, 12, 11,  2,  3,  1,  4,  9])"
      ]
     },
     "execution_count": 22,
     "metadata": {},
     "output_type": "execute_result"
    }
   ],
   "source": [
    "data['RegistrationMonth'].unique()"
   ]
  },
  {
   "cell_type": "code",
   "execution_count": 23,
   "metadata": {},
   "outputs": [],
   "source": [
    "data = data.drop(['RegistrationMonth','DateCrawled'], axis=1)"
   ]
  },
  {
   "cell_type": "markdown",
   "metadata": {},
   "source": [
    "Удалим нулевые знаения в этих столбцах и посмотрим, есть ли выбросы."
   ]
  },
  {
   "cell_type": "code",
   "execution_count": 24,
   "metadata": {},
   "outputs": [],
   "source": [
    "data = data[data['Price'] != 0]\n",
    "data = data[data['Power'] != 0]\n"
   ]
  },
  {
   "cell_type": "code",
   "execution_count": 25,
   "metadata": {},
   "outputs": [
    {
     "data": {
      "text/html": [
       "<div>\n",
       "<style scoped>\n",
       "    .dataframe tbody tr th:only-of-type {\n",
       "        vertical-align: middle;\n",
       "    }\n",
       "\n",
       "    .dataframe tbody tr th {\n",
       "        vertical-align: top;\n",
       "    }\n",
       "\n",
       "    .dataframe thead th {\n",
       "        text-align: right;\n",
       "    }\n",
       "</style>\n",
       "<table border=\"1\" class=\"dataframe\">\n",
       "  <thead>\n",
       "    <tr style=\"text-align: right;\">\n",
       "      <th></th>\n",
       "      <th>Price</th>\n",
       "      <th>RegistrationYear</th>\n",
       "      <th>Power</th>\n",
       "      <th>Kilometer</th>\n",
       "    </tr>\n",
       "  </thead>\n",
       "  <tbody>\n",
       "    <tr>\n",
       "      <th>count</th>\n",
       "      <td>296041.000000</td>\n",
       "      <td>296041.000000</td>\n",
       "      <td>296041.000000</td>\n",
       "      <td>296041.000000</td>\n",
       "    </tr>\n",
       "    <tr>\n",
       "      <th>mean</th>\n",
       "      <td>4841.269088</td>\n",
       "      <td>2002.928696</td>\n",
       "      <td>124.308076</td>\n",
       "      <td>128398.769089</td>\n",
       "    </tr>\n",
       "    <tr>\n",
       "      <th>std</th>\n",
       "      <td>4602.973052</td>\n",
       "      <td>6.192611</td>\n",
       "      <td>188.747049</td>\n",
       "      <td>36681.211962</td>\n",
       "    </tr>\n",
       "    <tr>\n",
       "      <th>min</th>\n",
       "      <td>1.000000</td>\n",
       "      <td>1971.000000</td>\n",
       "      <td>1.000000</td>\n",
       "      <td>5000.000000</td>\n",
       "    </tr>\n",
       "    <tr>\n",
       "      <th>25%</th>\n",
       "      <td>1300.000000</td>\n",
       "      <td>1999.000000</td>\n",
       "      <td>75.000000</td>\n",
       "      <td>125000.000000</td>\n",
       "    </tr>\n",
       "    <tr>\n",
       "      <th>50%</th>\n",
       "      <td>3199.000000</td>\n",
       "      <td>2003.000000</td>\n",
       "      <td>111.000000</td>\n",
       "      <td>150000.000000</td>\n",
       "    </tr>\n",
       "    <tr>\n",
       "      <th>75%</th>\n",
       "      <td>6990.000000</td>\n",
       "      <td>2007.000000</td>\n",
       "      <td>150.000000</td>\n",
       "      <td>150000.000000</td>\n",
       "    </tr>\n",
       "    <tr>\n",
       "      <th>max</th>\n",
       "      <td>20000.000000</td>\n",
       "      <td>2016.000000</td>\n",
       "      <td>20000.000000</td>\n",
       "      <td>150000.000000</td>\n",
       "    </tr>\n",
       "  </tbody>\n",
       "</table>\n",
       "</div>"
      ],
      "text/plain": [
       "               Price  RegistrationYear          Power      Kilometer\n",
       "count  296041.000000     296041.000000  296041.000000  296041.000000\n",
       "mean     4841.269088       2002.928696     124.308076  128398.769089\n",
       "std      4602.973052          6.192611     188.747049   36681.211962\n",
       "min         1.000000       1971.000000       1.000000    5000.000000\n",
       "25%      1300.000000       1999.000000      75.000000  125000.000000\n",
       "50%      3199.000000       2003.000000     111.000000  150000.000000\n",
       "75%      6990.000000       2007.000000     150.000000  150000.000000\n",
       "max     20000.000000       2016.000000   20000.000000  150000.000000"
      ]
     },
     "execution_count": 25,
     "metadata": {},
     "output_type": "execute_result"
    }
   ],
   "source": [
    "data.describe()"
   ]
  },
  {
   "cell_type": "code",
   "execution_count": 26,
   "metadata": {},
   "outputs": [
    {
     "data": {
      "image/png": "[encoded data removed]",
      "text/plain": [
       "<Figure size 432x288 with 1 Axes>"
      ]
     },
     "metadata": {
      "needs_background": "light"
     },
     "output_type": "display_data"
    },
    {
     "data": {
      "image/png": "[encoded data removed]",
      "text/plain": [
       "<Figure size 432x288 with 1 Axes>"
      ]
     },
     "metadata": {
      "needs_background": "light"
     },
     "output_type": "display_data"
    }
   ],
   "source": [
    "for a in ['Power','Price']:\n",
    "    sns.boxplot(data[a]) \n",
    "    plt.show()"
   ]
  },
  {
   "cell_type": "markdown",
   "metadata": {},
   "source": [
    "Гугл нам говорит, что есть маломощные автомобили, но с мощностью 0 автомобилей нет. А самые мощные примерно 1500 л.с. Оставим автомобили  с мощностью 50-1500 л.с.\n"
   ]
  },
  {
   "cell_type": "code",
   "execution_count": 27,
   "metadata": {},
   "outputs": [],
   "source": [
    "data = data[(data['Power'] < 1000) & (data['Power'] > 50)]"
   ]
  },
  {
   "cell_type": "code",
   "execution_count": 28,
   "metadata": {},
   "outputs": [
    {
     "data": {
      "text/plain": [
       "count    286306.000000\n",
       "mean        123.309885\n",
       "std          53.634730\n",
       "min          51.000000\n",
       "25%          82.000000\n",
       "50%         115.000000\n",
       "75%         150.000000\n",
       "max         999.000000\n",
       "Name: Power, dtype: float64"
      ]
     },
     "execution_count": 28,
     "metadata": {},
     "output_type": "execute_result"
    }
   ],
   "source": [
    "data['Power'].describe()"
   ]
  },
  {
   "cell_type": "markdown",
   "metadata": {},
   "source": [
    "По цене есть аномальные значения, но никто не мешает владельцу их устанавливать. Так что оставим, как есть."
   ]
  },
  {
   "cell_type": "code",
   "execution_count": 29,
   "metadata": {},
   "outputs": [
    {
     "name": "stdout",
     "output_type": "stream",
     "text": [
      "<class 'pandas.core.frame.DataFrame'>\n",
      "Int64Index: 286306 entries, 1 to 354368\n",
      "Data columns (total 10 columns):\n",
      " #   Column            Non-Null Count   Dtype \n",
      "---  ------            --------------   ----- \n",
      " 0   Price             286306 non-null  int64 \n",
      " 1   VehicleType       286306 non-null  object\n",
      " 2   RegistrationYear  286306 non-null  int64 \n",
      " 3   Gearbox           286306 non-null  object\n",
      " 4   Power             286306 non-null  int64 \n",
      " 5   Model             286306 non-null  object\n",
      " 6   Kilometer         286306 non-null  int64 \n",
      " 7   FuelType          286306 non-null  object\n",
      " 8   Brand             286306 non-null  object\n",
      " 9   Repaired          286306 non-null  object\n",
      "dtypes: int64(4), object(6)\n",
      "memory usage: 24.0+ MB\n"
     ]
    }
   ],
   "source": [
    "data.info()"
   ]
  },
  {
   "cell_type": "code",
   "execution_count": 30,
   "metadata": {},
   "outputs": [
    {
     "data": {
      "text/plain": [
       "Index(['Price', 'VehicleType', 'RegistrationYear', 'Gearbox', 'Power', 'Model',\n",
       "       'Kilometer', 'FuelType', 'Brand', 'Repaired'],\n",
       "      dtype='object')"
      ]
     },
     "execution_count": 30,
     "metadata": {},
     "output_type": "execute_result"
    }
   ],
   "source": [
    "data.columns"
   ]
  },
  {
   "cell_type": "code",
   "execution_count": 31,
   "metadata": {},
   "outputs": [],
   "source": [
    "columns=['Price', 'VehicleType', 'Gearbox',\n",
    "       'Power', 'Model', 'Kilometer', 'FuelType', 'Brand',\n",
    "       'Repaired',]"
   ]
  },
  {
   "cell_type": "code",
   "execution_count": 32,
   "metadata": {},
   "outputs": [],
   "source": [
    "data_model= data[columns].copy()"
   ]
  },
  {
   "cell_type": "code",
   "execution_count": 33,
   "metadata": {},
   "outputs": [
    {
     "name": "stdout",
     "output_type": "stream",
     "text": [
      "<class 'pandas.core.frame.DataFrame'>\n",
      "Int64Index: 286306 entries, 1 to 354368\n",
      "Data columns (total 9 columns):\n",
      " #   Column       Non-Null Count   Dtype \n",
      "---  ------       --------------   ----- \n",
      " 0   Price        286306 non-null  int64 \n",
      " 1   VehicleType  286306 non-null  object\n",
      " 2   Gearbox      286306 non-null  object\n",
      " 3   Power        286306 non-null  int64 \n",
      " 4   Model        286306 non-null  object\n",
      " 5   Kilometer    286306 non-null  int64 \n",
      " 6   FuelType     286306 non-null  object\n",
      " 7   Brand        286306 non-null  object\n",
      " 8   Repaired     286306 non-null  object\n",
      "dtypes: int64(3), object(6)\n",
      "memory usage: 21.8+ MB\n"
     ]
    }
   ],
   "source": [
    "data_model.info()"
   ]
  },
  {
   "cell_type": "code",
   "execution_count": 34,
   "metadata": {},
   "outputs": [],
   "source": [
    "data_model=data_model.reset_index(drop=True)"
   ]
  },
  {
   "cell_type": "code",
   "execution_count": 35,
   "metadata": {},
   "outputs": [],
   "source": [
    "target = data_model['Price']\n",
    "features = data_model.drop('Price', axis = 1)"
   ]
  },
  {
   "cell_type": "code",
   "execution_count": 36,
   "metadata": {},
   "outputs": [
    {
     "data": {
      "text/plain": [
       "Index(['VehicleType', 'Gearbox', 'Power', 'Model', 'Kilometer', 'FuelType',\n",
       "       'Brand', 'Repaired'],\n",
       "      dtype='object')"
      ]
     },
     "execution_count": 36,
     "metadata": {},
     "output_type": "execute_result"
    }
   ],
   "source": [
    "features.columns"
   ]
  },
  {
   "cell_type": "code",
   "execution_count": 37,
   "metadata": {},
   "outputs": [],
   "source": [
    "features_train, features_test, target_train, target_test = train_test_split(\n",
    "    features, target, test_size=0.25, random_state=12345)\n",
    "features_train_valid, features_test_valid,target_train_valid, target_test_valid = train_test_split(features_test,target_test, test_size=0.5, random_state=RND)"
   ]
  },
  {
   "cell_type": "code",
   "execution_count": 38,
   "metadata": {},
   "outputs": [],
   "source": [
    "cat_columns = ['VehicleType', 'Gearbox', 'Model', 'FuelType',\n",
    "           'Brand', 'Repaired']\n",
    "numeric = [ 'Power', 'Kilometer']"
   ]
  },
  {
   "cell_type": "code",
   "execution_count": 39,
   "metadata": {},
   "outputs": [],
   "source": [
    "encoder= OrdinalEncoder(handle_unknown='use_encoded_value', unknown_value=-1)\n",
    "features_train[cat_columns] = encoder.fit_transform(features_train[cat_columns])\n",
    "features_test[cat_columns] = encoder.fit_transform(features_test[cat_columns])"
   ]
  },
  {
   "cell_type": "markdown",
   "metadata": {},
   "source": [
    "Масштабируем признаки"
   ]
  },
  {
   "cell_type": "code",
   "execution_count": 40,
   "metadata": {},
   "outputs": [],
   "source": [
    "\n",
    "scaler = StandardScaler()\n",
    "scaler.fit(features_train[numeric])\n",
    "features_train[numeric] = scaler.transform(features_train[numeric])\n",
    "features_test[numeric] = scaler.transform(features_test[numeric])"
   ]
  },
  {
   "cell_type": "code",
   "execution_count": 41,
   "metadata": {},
   "outputs": [
    {
     "name": "stdout",
     "output_type": "stream",
     "text": [
      "(214729, 8)\n",
      "(71577, 8)\n"
     ]
    }
   ],
   "source": [
    "print(features_train.shape)\n",
    "print(features_test.shape)"
   ]
  },
  {
   "cell_type": "markdown",
   "metadata": {},
   "source": [
    "Данные подготовлены к обучению"
   ]
  },
  {
   "cell_type": "markdown",
   "metadata": {},
   "source": [
    "## Обучение моделей"
   ]
  },
  {
   "cell_type": "markdown",
   "metadata": {},
   "source": [
    "XGBRegressor"
   ]
  },
  {
   "cell_type": "code",
   "execution_count": 42,
   "metadata": {},
   "outputs": [],
   "source": [
    "def xgb_regr(features, target):\n",
    "    model = XGBRegressor()\n",
    "    params = {\n",
    "        'max_depth': [2,6,3], \n",
    "         'eta': [0.5], \n",
    "         'min_child_weight':[4],\n",
    "         'sampling_method':['gradient_based'], \n",
    "         'verbosity':[1],  \n",
    "         'seed':[RND], \n",
    "         \n",
    "         }\n",
    "    grid_cv = GridSearchCV(estimator=model, param_grid=params, cv=2, scoring='neg_mean_squared_error')\n",
    "    grid_cv.fit(features, target, eval_metric='rmse', verbose = 10, eval_set = [(features_test, target_test)])\n",
    "    print('Best hyperparams: ', grid_cv.best_params_)\n",
    "    print('Best RMSE score: {:.2f}'.format((-grid_cv.best_score_) ** 0.5))\n",
    "    return grid_cv.best_params_\n"
   ]
  },
  {
   "cell_type": "code",
   "execution_count": 43,
   "metadata": {
    "scrolled": true
   },
   "outputs": [
    {
     "name": "stdout",
     "output_type": "stream",
     "text": [
      "[0]\tvalidation_0-rmse:4624.80518\n",
      "[10]\tvalidation_0-rmse:2895.30762\n",
      "[20]\tvalidation_0-rmse:2805.69312\n",
      "[30]\tvalidation_0-rmse:2754.98755\n",
      "[40]\tvalidation_0-rmse:2719.74292\n",
      "[50]\tvalidation_0-rmse:2703.26147\n",
      "[60]\tvalidation_0-rmse:2673.44385\n",
      "[70]\tvalidation_0-rmse:2656.93799\n",
      "[80]\tvalidation_0-rmse:2652.03809\n",
      "[90]\tvalidation_0-rmse:2644.73193\n",
      "[99]\tvalidation_0-rmse:2636.38818\n",
      "[0]\tvalidation_0-rmse:4628.61328\n",
      "[10]\tvalidation_0-rmse:2894.55811\n",
      "[20]\tvalidation_0-rmse:2786.97510\n",
      "[30]\tvalidation_0-rmse:2740.63892\n",
      "[40]\tvalidation_0-rmse:2716.20923\n",
      "[50]\tvalidation_0-rmse:2688.33594\n",
      "[60]\tvalidation_0-rmse:2681.61963\n",
      "[70]\tvalidation_0-rmse:2668.90918\n",
      "[80]\tvalidation_0-rmse:2655.66772\n",
      "[90]\tvalidation_0-rmse:2640.39453\n",
      "[99]\tvalidation_0-rmse:2631.43677\n",
      "[0]\tvalidation_0-rmse:4205.50098\n",
      "[10]\tvalidation_0-rmse:2550.56982\n",
      "[20]\tvalidation_0-rmse:2481.93164\n",
      "[30]\tvalidation_0-rmse:2416.18530\n",
      "[40]\tvalidation_0-rmse:2416.26367\n",
      "[50]\tvalidation_0-rmse:2395.88355\n",
      "[60]\tvalidation_0-rmse:2382.89209\n",
      "[70]\tvalidation_0-rmse:2362.55371\n",
      "[80]\tvalidation_0-rmse:2349.27783\n",
      "[90]\tvalidation_0-rmse:2353.62500\n",
      "[99]\tvalidation_0-rmse:2350.94507\n",
      "[0]\tvalidation_0-rmse:4208.58545\n",
      "[10]\tvalidation_0-rmse:2531.83838\n",
      "[20]\tvalidation_0-rmse:2442.11377\n",
      "[30]\tvalidation_0-rmse:2410.45923\n",
      "[40]\tvalidation_0-rmse:2374.96851\n",
      "[50]\tvalidation_0-rmse:2359.08301\n",
      "[60]\tvalidation_0-rmse:2342.31104\n",
      "[70]\tvalidation_0-rmse:2330.52710\n",
      "[80]\tvalidation_0-rmse:2323.28247\n",
      "[90]\tvalidation_0-rmse:2323.40161\n",
      "[99]\tvalidation_0-rmse:2315.00610\n",
      "[0]\tvalidation_0-rmse:4471.11572\n",
      "[10]\tvalidation_0-rmse:2811.32275\n",
      "[20]\tvalidation_0-rmse:2711.54199\n",
      "[30]\tvalidation_0-rmse:2663.46436\n",
      "[40]\tvalidation_0-rmse:2611.03198\n",
      "[50]\tvalidation_0-rmse:2586.09351\n",
      "[60]\tvalidation_0-rmse:2564.39160\n",
      "[70]\tvalidation_0-rmse:2543.42749\n",
      "[80]\tvalidation_0-rmse:2543.35254\n",
      "[90]\tvalidation_0-rmse:2525.97485\n",
      "[99]\tvalidation_0-rmse:2514.71777\n",
      "[0]\tvalidation_0-rmse:4478.53076\n",
      "[10]\tvalidation_0-rmse:2805.57935\n",
      "[20]\tvalidation_0-rmse:2703.80835\n",
      "[30]\tvalidation_0-rmse:2649.26636\n",
      "[40]\tvalidation_0-rmse:2635.19434\n",
      "[50]\tvalidation_0-rmse:2601.77100\n",
      "[60]\tvalidation_0-rmse:2574.84155\n",
      "[70]\tvalidation_0-rmse:2554.20044\n",
      "[80]\tvalidation_0-rmse:2535.04639\n",
      "[90]\tvalidation_0-rmse:2530.07739\n",
      "[99]\tvalidation_0-rmse:2520.54858\n",
      "[0]\tvalidation_0-rmse:4204.71582\n",
      "[10]\tvalidation_0-rmse:2529.49707\n",
      "[20]\tvalidation_0-rmse:2426.29736\n",
      "[30]\tvalidation_0-rmse:2376.18286\n",
      "[40]\tvalidation_0-rmse:2341.50830\n",
      "[50]\tvalidation_0-rmse:2316.97925\n",
      "[60]\tvalidation_0-rmse:2308.79077\n",
      "[70]\tvalidation_0-rmse:2288.11768\n",
      "[80]\tvalidation_0-rmse:2287.74048\n",
      "[90]\tvalidation_0-rmse:2285.16040\n",
      "[99]\tvalidation_0-rmse:2276.15039\n",
      "Best hyperparams:  {'eta': 0.5, 'max_depth': 6, 'min_child_weight': 4, 'sampling_method': 'gradient_based', 'seed': 12345, 'verbosity': 1}\n",
      "Best RMSE score: 2172.18\n",
      "CPU times: user 7min 17s, sys: 3.97 s, total: 7min 21s\n",
      "Wall time: 7min 24s\n"
     ]
    }
   ],
   "source": [
    "%%time\n",
    "xgb_params = xgb_regr(features_train, target_train)"
   ]
  },
  {
   "cell_type": "code",
   "execution_count": 44,
   "metadata": {},
   "outputs": [
    {
     "name": "stdout",
     "output_type": "stream",
     "text": [
      "Best RMSE score: 2028.56\n",
      "CPU times: user 1min 46s, sys: 893 ms, total: 1min 47s\n",
      "Wall time: 1min 47s\n"
     ]
    }
   ],
   "source": [
    "%%time\n",
    "model_xgb = XGBRegressor(**xgb_params)\n",
    "model_xgb.fit(features_train, target_train, eval_metric='rmse', verbose = 10)\n",
    "xgb_pred = model_xgb.predict(features_train)\n",
    "print('Best RMSE score: {:.2f}'.format(mse(target_train, xgb_pred) ** 0.5))"
   ]
  },
  {
   "cell_type": "code",
   "execution_count": 45,
   "metadata": {},
   "outputs": [],
   "source": [
    "from sklearn.model_selection import cross_val_score\n",
    "from sklearn.model_selection import KFold\n",
    "from catboost import CatBoostRegressor, Pool"
   ]
  },
  {
   "cell_type": "markdown",
   "metadata": {},
   "source": [
    "# Исследование времени обучения моделей."
   ]
  },
  {
   "cell_type": "markdown",
   "metadata": {},
   "source": [
    "# Время обучения модели CatBoostRegressor"
   ]
  },
  {
   "cell_type": "code",
   "execution_count": 46,
   "metadata": {},
   "outputs": [
    {
     "name": "stdout",
     "output_type": "stream",
     "text": [
      "CPU times: user 4 µs, sys: 1 µs, total: 5 µs\n",
      "Wall time: 5.96 µs\n"
     ]
    }
   ],
   "source": [
    "%%time\n",
    "def catboost_regr(features, target):\n",
    "    model = CatBoostRegressor()\n",
    "    params = {\n",
    "            'n_estimators' : [50, 100],\n",
    "            'verbose' : [0],\n",
    "            'random_state' : [RND],\n",
    "            'max_depth' : [5, 7, 10]\n",
    "    }\n",
    "    grid_cv = GridSearchCV(estimator=model, param_grid=params, cv=3, n_jobs=-1, scoring='neg_mean_squared_error')\n",
    "    grid_cv.fit(features, target, verbose=10)\n",
    "    print('Best hyperparams: ', grid_cv.best_params_)\n",
    "    print('RMSE score on train sample: {:.2f}'.format((-grid_cv.best_score_) ** 0.5))\n",
    "    return grid_cv.best_params_"
   ]
  },
  {
   "cell_type": "code",
   "execution_count": 47,
   "metadata": {
    "scrolled": true
   },
   "outputs": [
    {
     "name": "stdout",
     "output_type": "stream",
     "text": [
      "Learning rate set to 0.5\n",
      "0:\tlearn: 3617.9722043\ttotal: 74.6ms\tremaining: 3.65s\n",
      "10:\tlearn: 2719.6641322\ttotal: 271ms\tremaining: 962ms\n",
      "20:\tlearn: 2631.7829745\ttotal: 446ms\tremaining: 615ms\n",
      "30:\tlearn: 2567.3636075\ttotal: 660ms\tremaining: 405ms\n",
      "40:\tlearn: 2518.3921027\ttotal: 881ms\tremaining: 193ms\n",
      "49:\tlearn: 2487.5669213\ttotal: 1.04s\tremaining: 0us\n",
      "Learning rate set to 0.5\n",
      "0:\tlearn: 3612.9047294\ttotal: 18.6ms\tremaining: 914ms\n",
      "10:\tlearn: 2711.5993097\ttotal: 202ms\tremaining: 717ms\n",
      "20:\tlearn: 2617.0415123\ttotal: 388ms\tremaining: 536ms\n",
      "30:\tlearn: 2547.0758648\ttotal: 587ms\tremaining: 360ms\n",
      "40:\tlearn: 2499.3588558\ttotal: 773ms\tremaining: 170ms\n",
      "49:\tlearn: 2464.4761169\ttotal: 940ms\tremaining: 0us\n",
      "Learning rate set to 0.5\n",
      "0:\tlearn: 3631.0794026\ttotal: 22.5ms\tremaining: 1.1s\n",
      "10:\tlearn: 2720.1012148\ttotal: 206ms\tremaining: 732ms\n",
      "20:\tlearn: 2634.4450030\ttotal: 388ms\tremaining: 535ms\n",
      "30:\tlearn: 2564.7990478\ttotal: 577ms\tremaining: 353ms\n",
      "40:\tlearn: 2519.8087498\ttotal: 760ms\tremaining: 167ms\n",
      "49:\tlearn: 2478.3050011\ttotal: 933ms\tremaining: 0us\n",
      "Learning rate set to 0.5\n",
      "0:\tlearn: 3617.9722043\ttotal: 18.6ms\tremaining: 1.84s\n",
      "10:\tlearn: 2719.6641322\ttotal: 211ms\tremaining: 1.71s\n",
      "20:\tlearn: 2631.7829745\ttotal: 418ms\tremaining: 1.57s\n",
      "30:\tlearn: 2567.3636075\ttotal: 610ms\tremaining: 1.36s\n",
      "40:\tlearn: 2518.3921027\ttotal: 796ms\tremaining: 1.15s\n",
      "50:\tlearn: 2484.5238072\ttotal: 984ms\tremaining: 945ms\n",
      "60:\tlearn: 2448.4090050\ttotal: 1.17s\tremaining: 749ms\n",
      "70:\tlearn: 2419.1148557\ttotal: 1.37s\tremaining: 559ms\n",
      "80:\tlearn: 2393.9204685\ttotal: 1.56s\tremaining: 367ms\n",
      "90:\tlearn: 2372.9723435\ttotal: 1.75s\tremaining: 173ms\n",
      "99:\tlearn: 2359.3346102\ttotal: 1.91s\tremaining: 0us\n",
      "Learning rate set to 0.5\n",
      "0:\tlearn: 3612.9047294\ttotal: 21ms\tremaining: 2.08s\n",
      "10:\tlearn: 2711.5993097\ttotal: 207ms\tremaining: 1.67s\n",
      "20:\tlearn: 2617.0415123\ttotal: 398ms\tremaining: 1.5s\n",
      "30:\tlearn: 2547.0758648\ttotal: 597ms\tremaining: 1.33s\n",
      "40:\tlearn: 2499.3588558\ttotal: 798ms\tremaining: 1.15s\n",
      "50:\tlearn: 2460.2284048\ttotal: 990ms\tremaining: 951ms\n",
      "60:\tlearn: 2428.7420979\ttotal: 1.18s\tremaining: 756ms\n",
      "70:\tlearn: 2400.5242208\ttotal: 1.38s\tremaining: 563ms\n",
      "80:\tlearn: 2380.0178389\ttotal: 1.57s\tremaining: 369ms\n",
      "90:\tlearn: 2360.6545003\ttotal: 1.77s\tremaining: 176ms\n",
      "99:\tlearn: 2343.3376026\ttotal: 1.96s\tremaining: 0us\n",
      "Learning rate set to 0.5\n",
      "0:\tlearn: 3631.0794026\ttotal: 18.7ms\tremaining: 1.85s\n",
      "10:\tlearn: 2720.1012148\ttotal: 220ms\tremaining: 1.78s\n",
      "20:\tlearn: 2634.4450030\ttotal: 439ms\tremaining: 1.65s\n",
      "30:\tlearn: 2564.7990478\ttotal: 651ms\tremaining: 1.45s\n",
      "40:\tlearn: 2519.8087498\ttotal: 860ms\tremaining: 1.24s\n",
      "50:\tlearn: 2473.8213382\ttotal: 1.05s\tremaining: 1.01s\n",
      "60:\tlearn: 2446.7620927\ttotal: 1.25s\tremaining: 798ms\n",
      "70:\tlearn: 2419.7095890\ttotal: 1.44s\tremaining: 587ms\n",
      "80:\tlearn: 2401.0109109\ttotal: 1.63s\tremaining: 381ms\n",
      "90:\tlearn: 2381.9200644\ttotal: 1.83s\tremaining: 181ms\n",
      "99:\tlearn: 2362.8368309\ttotal: 2.01s\tremaining: 0us\n",
      "Learning rate set to 0.5\n",
      "0:\tlearn: 3521.3400363\ttotal: 22ms\tremaining: 1.08s\n",
      "10:\tlearn: 2636.0191092\ttotal: 261ms\tremaining: 925ms\n",
      "20:\tlearn: 2535.3454021\ttotal: 491ms\tremaining: 678ms\n",
      "30:\tlearn: 2454.7215905\ttotal: 742ms\tremaining: 455ms\n",
      "40:\tlearn: 2390.9593842\ttotal: 975ms\tremaining: 214ms\n",
      "49:\tlearn: 2349.2147143\ttotal: 1.18s\tremaining: 0us\n",
      "Learning rate set to 0.5\n",
      "0:\tlearn: 3509.6414854\ttotal: 21.6ms\tremaining: 1.06s\n",
      "10:\tlearn: 2624.3906699\ttotal: 252ms\tremaining: 892ms\n",
      "20:\tlearn: 2501.6781414\ttotal: 481ms\tremaining: 664ms\n",
      "30:\tlearn: 2420.8942246\ttotal: 712ms\tremaining: 436ms\n",
      "40:\tlearn: 2371.0591382\ttotal: 933ms\tremaining: 205ms\n",
      "49:\tlearn: 2333.8578008\ttotal: 1.14s\tremaining: 0us\n",
      "Learning rate set to 0.5\n",
      "0:\tlearn: 3532.4352345\ttotal: 19.7ms\tremaining: 964ms\n",
      "10:\tlearn: 2630.6051680\ttotal: 244ms\tremaining: 864ms\n",
      "20:\tlearn: 2527.2912202\ttotal: 470ms\tremaining: 649ms\n",
      "30:\tlearn: 2458.0531453\ttotal: 689ms\tremaining: 422ms\n",
      "40:\tlearn: 2395.2430971\ttotal: 923ms\tremaining: 203ms\n",
      "49:\tlearn: 2352.6532200\ttotal: 1.13s\tremaining: 0us\n",
      "Learning rate set to 0.5\n",
      "0:\tlearn: 3521.3400363\ttotal: 22.5ms\tremaining: 2.23s\n",
      "10:\tlearn: 2636.0191092\ttotal: 250ms\tremaining: 2.02s\n",
      "20:\tlearn: 2535.3454021\ttotal: 477ms\tremaining: 1.79s\n",
      "30:\tlearn: 2454.7215905\ttotal: 701ms\tremaining: 1.56s\n",
      "40:\tlearn: 2390.9593842\ttotal: 913ms\tremaining: 1.31s\n",
      "50:\tlearn: 2346.7836106\ttotal: 1.13s\tremaining: 1.08s\n",
      "60:\tlearn: 2308.7874462\ttotal: 1.37s\tremaining: 876ms\n",
      "70:\tlearn: 2282.5512517\ttotal: 1.6s\tremaining: 653ms\n",
      "80:\tlearn: 2258.6804476\ttotal: 1.83s\tremaining: 429ms\n",
      "90:\tlearn: 2237.2208377\ttotal: 2.05s\tremaining: 202ms\n",
      "99:\tlearn: 2217.7979158\ttotal: 2.25s\tremaining: 0us\n",
      "Learning rate set to 0.5\n",
      "0:\tlearn: 3509.6414854\ttotal: 30.8ms\tremaining: 3.05s\n",
      "10:\tlearn: 2624.3906699\ttotal: 268ms\tremaining: 2.17s\n",
      "20:\tlearn: 2501.6781414\ttotal: 501ms\tremaining: 1.89s\n",
      "30:\tlearn: 2420.8942246\ttotal: 732ms\tremaining: 1.63s\n",
      "40:\tlearn: 2371.0591382\ttotal: 951ms\tremaining: 1.37s\n",
      "50:\tlearn: 2329.7871909\ttotal: 1.18s\tremaining: 1.13s\n",
      "60:\tlearn: 2292.6431252\ttotal: 1.41s\tremaining: 904ms\n",
      "70:\tlearn: 2261.6122382\ttotal: 1.64s\tremaining: 669ms\n",
      "80:\tlearn: 2239.1263650\ttotal: 1.86s\tremaining: 437ms\n",
      "90:\tlearn: 2218.6595557\ttotal: 2.08s\tremaining: 206ms\n",
      "99:\tlearn: 2201.0068104\ttotal: 2.28s\tremaining: 0us\n",
      "Learning rate set to 0.5\n",
      "0:\tlearn: 3532.4352345\ttotal: 21.8ms\tremaining: 2.15s\n",
      "10:\tlearn: 2630.6051680\ttotal: 243ms\tremaining: 1.97s\n",
      "20:\tlearn: 2527.2912202\ttotal: 473ms\tremaining: 1.78s\n",
      "30:\tlearn: 2458.0531453\ttotal: 703ms\tremaining: 1.56s\n",
      "40:\tlearn: 2395.2430971\ttotal: 929ms\tremaining: 1.34s\n",
      "50:\tlearn: 2349.2711564\ttotal: 1.14s\tremaining: 1.1s\n",
      "60:\tlearn: 2314.7911627\ttotal: 1.38s\tremaining: 881ms\n",
      "70:\tlearn: 2289.5729992\ttotal: 1.61s\tremaining: 659ms\n",
      "80:\tlearn: 2263.3144236\ttotal: 1.84s\tremaining: 432ms\n",
      "90:\tlearn: 2243.0981396\ttotal: 2.06s\tremaining: 204ms\n",
      "99:\tlearn: 2222.5806816\ttotal: 2.27s\tremaining: 0us\n",
      "Learning rate set to 0.5\n",
      "0:\tlearn: 3451.8057289\ttotal: 47.4ms\tremaining: 2.32s\n",
      "10:\tlearn: 2529.4828507\ttotal: 459ms\tremaining: 1.63s\n",
      "20:\tlearn: 2385.3363511\ttotal: 860ms\tremaining: 1.19s\n",
      "30:\tlearn: 2304.6774302\ttotal: 1.25s\tremaining: 768ms\n",
      "40:\tlearn: 2241.4930718\ttotal: 1.7s\tremaining: 373ms\n",
      "49:\tlearn: 2188.8029541\ttotal: 2.06s\tremaining: 0us\n",
      "Learning rate set to 0.5\n",
      "0:\tlearn: 3436.4774590\ttotal: 48.5ms\tremaining: 2.37s\n",
      "10:\tlearn: 2497.4122449\ttotal: 478ms\tremaining: 1.7s\n",
      "20:\tlearn: 2363.0312654\ttotal: 897ms\tremaining: 1.24s\n",
      "30:\tlearn: 2276.1791283\ttotal: 1.39s\tremaining: 852ms\n",
      "40:\tlearn: 2209.3171850\ttotal: 1.82s\tremaining: 400ms\n",
      "49:\tlearn: 2170.0288142\ttotal: 2.19s\tremaining: 0us\n",
      "Learning rate set to 0.5\n",
      "0:\tlearn: 3466.2041662\ttotal: 45.2ms\tremaining: 2.21s\n",
      "10:\tlearn: 2516.5222863\ttotal: 574ms\tremaining: 2.03s\n",
      "20:\tlearn: 2392.0738081\ttotal: 993ms\tremaining: 1.37s\n",
      "30:\tlearn: 2308.7343527\ttotal: 1.42s\tremaining: 869ms\n",
      "40:\tlearn: 2237.9829646\ttotal: 1.83s\tremaining: 402ms\n",
      "49:\tlearn: 2197.5868092\ttotal: 2.22s\tremaining: 0us\n",
      "Learning rate set to 0.5\n",
      "0:\tlearn: 3451.8057289\ttotal: 41.6ms\tremaining: 4.12s\n",
      "10:\tlearn: 2529.4828507\ttotal: 462ms\tremaining: 3.73s\n",
      "20:\tlearn: 2385.3363511\ttotal: 882ms\tremaining: 3.32s\n",
      "30:\tlearn: 2304.6774302\ttotal: 1.3s\tremaining: 2.9s\n",
      "40:\tlearn: 2241.4930718\ttotal: 1.72s\tremaining: 2.48s\n",
      "50:\tlearn: 2183.3879086\ttotal: 2.14s\tremaining: 2.06s\n",
      "60:\tlearn: 2138.9464223\ttotal: 2.56s\tremaining: 1.64s\n",
      "70:\tlearn: 2107.4284905\ttotal: 3s\tremaining: 1.23s\n",
      "80:\tlearn: 2081.0446551\ttotal: 3.46s\tremaining: 811ms\n",
      "90:\tlearn: 2051.8662353\ttotal: 3.94s\tremaining: 389ms\n",
      "99:\tlearn: 2034.3705834\ttotal: 4.32s\tremaining: 0us\n",
      "Learning rate set to 0.5\n",
      "0:\tlearn: 3436.4774590\ttotal: 37.9ms\tremaining: 3.75s\n",
      "10:\tlearn: 2497.4122449\ttotal: 485ms\tremaining: 3.93s\n",
      "20:\tlearn: 2363.0312654\ttotal: 981ms\tremaining: 3.69s\n",
      "30:\tlearn: 2276.1791283\ttotal: 1.4s\tremaining: 3.12s\n",
      "40:\tlearn: 2209.3171850\ttotal: 1.84s\tremaining: 2.65s\n",
      "50:\tlearn: 2164.2151195\ttotal: 2.27s\tremaining: 2.18s\n",
      "60:\tlearn: 2125.6846157\ttotal: 2.7s\tremaining: 1.73s\n",
      "70:\tlearn: 2092.3215256\ttotal: 3.19s\tremaining: 1.3s\n",
      "80:\tlearn: 2061.5500848\ttotal: 3.61s\tremaining: 847ms\n",
      "90:\tlearn: 2035.5310257\ttotal: 4.05s\tremaining: 401ms\n",
      "99:\tlearn: 2014.3821239\ttotal: 4.44s\tremaining: 0us\n",
      "Learning rate set to 0.5\n",
      "0:\tlearn: 3466.2041662\ttotal: 48.1ms\tremaining: 4.76s\n",
      "10:\tlearn: 2516.5222863\ttotal: 483ms\tremaining: 3.9s\n",
      "20:\tlearn: 2392.0738081\ttotal: 914ms\tremaining: 3.44s\n",
      "30:\tlearn: 2308.7343527\ttotal: 1.34s\tremaining: 2.99s\n",
      "40:\tlearn: 2237.9829646\ttotal: 1.77s\tremaining: 2.54s\n",
      "50:\tlearn: 2195.8648590\ttotal: 2.2s\tremaining: 2.11s\n",
      "60:\tlearn: 2147.6313854\ttotal: 2.62s\tremaining: 1.67s\n",
      "70:\tlearn: 2112.2984503\ttotal: 3.03s\tremaining: 1.24s\n",
      "80:\tlearn: 2082.3797638\ttotal: 3.47s\tremaining: 814ms\n",
      "90:\tlearn: 2057.4163151\ttotal: 3.89s\tremaining: 384ms\n",
      "99:\tlearn: 2039.2781739\ttotal: 4.31s\tremaining: 0us\n",
      "Learning rate set to 0.5\n",
      "0:\tlearn: 3429.6137787\ttotal: 71.7ms\tremaining: 7.09s\n",
      "10:\tlearn: 2534.3836285\ttotal: 771ms\tremaining: 6.24s\n",
      "20:\tlearn: 2399.8774889\ttotal: 1.42s\tremaining: 5.34s\n",
      "30:\tlearn: 2296.0411058\ttotal: 2.04s\tremaining: 4.54s\n",
      "40:\tlearn: 2236.3260087\ttotal: 2.67s\tremaining: 3.85s\n",
      "50:\tlearn: 2192.3684119\ttotal: 3.26s\tremaining: 3.13s\n",
      "60:\tlearn: 2153.0309941\ttotal: 3.86s\tremaining: 2.47s\n",
      "70:\tlearn: 2120.7780139\ttotal: 4.48s\tremaining: 1.83s\n",
      "80:\tlearn: 2094.3610926\ttotal: 5.06s\tremaining: 1.19s\n",
      "90:\tlearn: 2071.2929150\ttotal: 5.62s\tremaining: 556ms\n",
      "99:\tlearn: 2051.1364424\ttotal: 6.14s\tremaining: 0us\n",
      "Best hyperparams:  {'max_depth': 10, 'n_estimators': 100, 'random_state': 12345, 'verbose': 0}\n",
      "RMSE score on train sample: 2177.28\n",
      "CPU times: user 46.6 s, sys: 367 ms, total: 47 s\n",
      "Wall time: 56.8 s\n"
     ]
    }
   ],
   "source": [
    "%%time\n",
    "cat_params = catboost_regr(features_train, target_train)"
   ]
  },
  {
   "cell_type": "code",
   "execution_count": 48,
   "metadata": {},
   "outputs": [
    {
     "name": "stdout",
     "output_type": "stream",
     "text": [
      "Learning rate set to 0.5\n",
      "0:\tlearn: 3429.6137787\ttotal: 57ms\tremaining: 5.64s\n",
      "10:\tlearn: 2534.3836285\ttotal: 614ms\tremaining: 4.96s\n",
      "20:\tlearn: 2399.8774889\ttotal: 1.2s\tremaining: 4.52s\n",
      "30:\tlearn: 2296.0411058\ttotal: 1.79s\tremaining: 3.98s\n",
      "40:\tlearn: 2236.3260087\ttotal: 2.38s\tremaining: 3.42s\n",
      "50:\tlearn: 2192.3684119\ttotal: 3s\tremaining: 2.88s\n",
      "60:\tlearn: 2153.0309941\ttotal: 3.6s\tremaining: 2.3s\n",
      "70:\tlearn: 2120.7780139\ttotal: 4.27s\tremaining: 1.75s\n",
      "80:\tlearn: 2094.3610926\ttotal: 4.86s\tremaining: 1.14s\n",
      "90:\tlearn: 2071.2929150\ttotal: 5.45s\tremaining: 539ms\n",
      "99:\tlearn: 2051.1364424\ttotal: 6s\tremaining: 0us\n",
      "CPU times: user 6.1 s, sys: 51.5 ms, total: 6.15 s\n",
      "Wall time: 6.74 s\n"
     ]
    },
    {
     "data": {
      "text/plain": [
       "<catboost.core.CatBoostRegressor at 0x7ff421e5feb0>"
      ]
     },
     "execution_count": 48,
     "metadata": {},
     "output_type": "execute_result"
    }
   ],
   "source": [
    "%%time\n",
    "cat_model = CatBoostRegressor(**cat_params)\n",
    "cat_model.fit(features_train, target_train, verbose=10)"
   ]
  },
  {
   "cell_type": "markdown",
   "metadata": {},
   "source": [
    "# Время обучения модели LightGBM"
   ]
  },
  {
   "cell_type": "code",
   "execution_count": 49,
   "metadata": {},
   "outputs": [
    {
     "name": "stdout",
     "output_type": "stream",
     "text": [
      "CPU times: user 4 µs, sys: 0 ns, total: 4 µs\n",
      "Wall time: 6.68 µs\n"
     ]
    }
   ],
   "source": [
    "%%time\n",
    "def lgb_regr(features, target):\n",
    "    model = LGBMRegressor()\n",
    "    params = {\n",
    "        'boosting_type' : ['gbdt'],\n",
    "        'n_estimators' : [50, 100],\n",
    "        'max_depth' : [5, 7, 10],\n",
    "        'verbose' : [0],\n",
    "        'random_state' : [RND],\n",
    "        'force_col_wise': [True],\n",
    "        'num_leaves' : [127]}\n",
    "    grid_cv = GridSearchCV(estimator=model, param_grid=params, cv=3, n_jobs=-1, scoring='neg_mean_squared_error')\n",
    "    grid_cv.fit(features, target, categorical_feature=cat_columns)\n",
    "    print('Best hyperparams: ', grid_cv.best_params_)\n",
    "    print('RMSE score on train sample: {:.2f}'.format((-grid_cv.best_score_) ** 0.5))\n",
    "    return grid_cv.best_params_"
   ]
  },
  {
   "cell_type": "code",
   "execution_count": 50,
   "metadata": {
    "scrolled": true
   },
   "outputs": [
    {
     "name": "stdout",
     "output_type": "stream",
     "text": [
      "[LightGBM] [Warning] No further splits with positive gain, best gain: -inf\n",
      "[LightGBM] [Warning] No further splits with positive gain, best gain: -inf\n",
      "[LightGBM] [Warning] No further splits with positive gain, best gain: -inf\n",
      "[LightGBM] [Warning] No further splits with positive gain, best gain: -inf\n",
      "[LightGBM] [Warning] No further splits with positive gain, best gain: -inf\n",
      "[LightGBM] [Warning] No further splits with positive gain, best gain: -inf\n",
      "[LightGBM] [Warning] No further splits with positive gain, best gain: -inf\n",
      "[LightGBM] [Warning] No further splits with positive gain, best gain: -inf\n",
      "[LightGBM] [Warning] No further splits with positive gain, best gain: -inf\n",
      "[LightGBM] [Warning] No further splits with positive gain, best gain: -inf\n",
      "[LightGBM] [Warning] No further splits with positive gain, best gain: -inf\n",
      "[LightGBM] [Warning] No further splits with positive gain, best gain: -inf\n",
      "[LightGBM] [Warning] No further splits with positive gain, best gain: -inf\n",
      "[LightGBM] [Warning] No further splits with positive gain, best gain: -inf\n",
      "[LightGBM] [Warning] No further splits with positive gain, best gain: -inf\n",
      "[LightGBM] [Warning] No further splits with positive gain, best gain: -inf\n",
      "[LightGBM] [Warning] No further splits with positive gain, best gain: -inf\n",
      "[LightGBM] [Warning] No further splits with positive gain, best gain: -inf\n",
      "[LightGBM] [Warning] No further splits with positive gain, best gain: -inf\n",
      "[LightGBM] [Warning] No further splits with positive gain, best gain: -inf\n",
      "[LightGBM] [Warning] No further splits with positive gain, best gain: -inf\n",
      "[LightGBM] [Warning] No further splits with positive gain, best gain: -inf\n",
      "[LightGBM] [Warning] No further splits with positive gain, best gain: -inf\n",
      "[LightGBM] [Warning] No further splits with positive gain, best gain: -inf\n",
      "[LightGBM] [Warning] No further splits with positive gain, best gain: -inf\n",
      "[LightGBM] [Warning] No further splits with positive gain, best gain: -inf\n",
      "[LightGBM] [Warning] No further splits with positive gain, best gain: -inf\n",
      "[LightGBM] [Warning] No further splits with positive gain, best gain: -inf\n",
      "[LightGBM] [Warning] No further splits with positive gain, best gain: -inf\n",
      "[LightGBM] [Warning] No further splits with positive gain, best gain: -inf\n",
      "[LightGBM] [Warning] No further splits with positive gain, best gain: -inf\n",
      "[LightGBM] [Warning] No further splits with positive gain, best gain: -inf\n",
      "[LightGBM] [Warning] No further splits with positive gain, best gain: -inf\n",
      "[LightGBM] [Warning] No further splits with positive gain, best gain: -inf\n",
      "[LightGBM] [Warning] No further splits with positive gain, best gain: -inf\n",
      "[LightGBM] [Warning] No further splits with positive gain, best gain: -inf\n",
      "[LightGBM] [Warning] No further splits with positive gain, best gain: -inf\n",
      "[LightGBM] [Warning] No further splits with positive gain, best gain: -inf\n",
      "[LightGBM] [Warning] No further splits with positive gain, best gain: -inf\n",
      "[LightGBM] [Warning] No further splits with positive gain, best gain: -inf\n",
      "[LightGBM] [Warning] No further splits with positive gain, best gain: -inf\n",
      "[LightGBM] [Warning] No further splits with positive gain, best gain: -inf\n",
      "[LightGBM] [Warning] No further splits with positive gain, best gain: -inf\n",
      "[LightGBM] [Warning] No further splits with positive gain, best gain: -inf\n",
      "[LightGBM] [Warning] No further splits with positive gain, best gain: -inf\n",
      "[LightGBM] [Warning] No further splits with positive gain, best gain: -inf\n",
      "[LightGBM] [Warning] No further splits with positive gain, best gain: -inf\n",
      "[LightGBM] [Warning] No further splits with positive gain, best gain: -inf\n",
      "[LightGBM] [Warning] No further splits with positive gain, best gain: -inf\n",
      "[LightGBM] [Warning] No further splits with positive gain, best gain: -inf\n",
      "[LightGBM] [Warning] No further splits with positive gain, best gain: -inf\n",
      "[LightGBM] [Warning] No further splits with positive gain, best gain: -inf\n",
      "[LightGBM] [Warning] No further splits with positive gain, best gain: -inf\n",
      "[LightGBM] [Warning] No further splits with positive gain, best gain: -inf\n",
      "[LightGBM] [Warning] No further splits with positive gain, best gain: -inf\n",
      "[LightGBM] [Warning] No further splits with positive gain, best gain: -inf\n",
      "[LightGBM] [Warning] No further splits with positive gain, best gain: -inf\n",
      "[LightGBM] [Warning] No further splits with positive gain, best gain: -inf\n",
      "[LightGBM] [Warning] No further splits with positive gain, best gain: -inf\n",
      "[LightGBM] [Warning] No further splits with positive gain, best gain: -inf\n",
      "[LightGBM] [Warning] No further splits with positive gain, best gain: -inf\n",
      "[LightGBM] [Warning] No further splits with positive gain, best gain: -inf\n",
      "[LightGBM] [Warning] No further splits with positive gain, best gain: -inf\n",
      "[LightGBM] [Warning] No further splits with positive gain, best gain: -inf\n",
      "[LightGBM] [Warning] No further splits with positive gain, best gain: -inf\n",
      "[LightGBM] [Warning] No further splits with positive gain, best gain: -inf\n",
      "[LightGBM] [Warning] No further splits with positive gain, best gain: -inf\n",
      "[LightGBM] [Warning] No further splits with positive gain, best gain: -inf\n",
      "[LightGBM] [Warning] No further splits with positive gain, best gain: -inf\n",
      "[LightGBM] [Warning] No further splits with positive gain, best gain: -inf\n",
      "[LightGBM] [Warning] No further splits with positive gain, best gain: -inf\n",
      "[LightGBM] [Warning] No further splits with positive gain, best gain: -inf\n",
      "[LightGBM] [Warning] No further splits with positive gain, best gain: -inf\n",
      "[LightGBM] [Warning] No further splits with positive gain, best gain: -inf\n",
      "[LightGBM] [Warning] No further splits with positive gain, best gain: -inf\n",
      "[LightGBM] [Warning] No further splits with positive gain, best gain: -inf\n",
      "[LightGBM] [Warning] No further splits with positive gain, best gain: -inf\n",
      "[LightGBM] [Warning] No further splits with positive gain, best gain: -inf\n",
      "[LightGBM] [Warning] No further splits with positive gain, best gain: -inf\n",
      "[LightGBM] [Warning] No further splits with positive gain, best gain: -inf\n",
      "[LightGBM] [Warning] No further splits with positive gain, best gain: -inf\n",
      "[LightGBM] [Warning] No further splits with positive gain, best gain: -inf\n",
      "[LightGBM] [Warning] No further splits with positive gain, best gain: -inf\n",
      "[LightGBM] [Warning] No further splits with positive gain, best gain: -inf\n",
      "[LightGBM] [Warning] No further splits with positive gain, best gain: -inf\n",
      "[LightGBM] [Warning] No further splits with positive gain, best gain: -inf\n",
      "[LightGBM] [Warning] No further splits with positive gain, best gain: -inf\n",
      "[LightGBM] [Warning] No further splits with positive gain, best gain: -inf\n",
      "[LightGBM] [Warning] No further splits with positive gain, best gain: -inf\n",
      "[LightGBM] [Warning] No further splits with positive gain, best gain: -inf\n",
      "[LightGBM] [Warning] No further splits with positive gain, best gain: -inf\n",
      "[LightGBM] [Warning] No further splits with positive gain, best gain: -inf\n",
      "[LightGBM] [Warning] No further splits with positive gain, best gain: -inf\n",
      "[LightGBM] [Warning] No further splits with positive gain, best gain: -inf\n",
      "[LightGBM] [Warning] No further splits with positive gain, best gain: -inf\n",
      "[LightGBM] [Warning] No further splits with positive gain, best gain: -inf\n",
      "[LightGBM] [Warning] No further splits with positive gain, best gain: -inf\n",
      "[LightGBM] [Warning] No further splits with positive gain, best gain: -inf\n",
      "[LightGBM] [Warning] No further splits with positive gain, best gain: -inf\n",
      "[LightGBM] [Warning] No further splits with positive gain, best gain: -inf\n",
      "[LightGBM] [Warning] No further splits with positive gain, best gain: -inf\n",
      "[LightGBM] [Warning] No further splits with positive gain, best gain: -inf\n",
      "[LightGBM] [Warning] No further splits with positive gain, best gain: -inf\n",
      "[LightGBM] [Warning] No further splits with positive gain, best gain: -inf\n",
      "[LightGBM] [Warning] No further splits with positive gain, best gain: -inf\n",
      "[LightGBM] [Warning] No further splits with positive gain, best gain: -inf\n",
      "[LightGBM] [Warning] No further splits with positive gain, best gain: -inf\n",
      "[LightGBM] [Warning] No further splits with positive gain, best gain: -inf\n",
      "[LightGBM] [Warning] No further splits with positive gain, best gain: -inf\n",
      "[LightGBM] [Warning] No further splits with positive gain, best gain: -inf\n",
      "[LightGBM] [Warning] No further splits with positive gain, best gain: -inf\n",
      "[LightGBM] [Warning] No further splits with positive gain, best gain: -inf\n",
      "[LightGBM] [Warning] No further splits with positive gain, best gain: -inf\n",
      "[LightGBM] [Warning] No further splits with positive gain, best gain: -inf\n",
      "[LightGBM] [Warning] No further splits with positive gain, best gain: -inf\n",
      "[LightGBM] [Warning] No further splits with positive gain, best gain: -inf\n",
      "[LightGBM] [Warning] No further splits with positive gain, best gain: -inf\n",
      "[LightGBM] [Warning] No further splits with positive gain, best gain: -inf\n",
      "[LightGBM] [Warning] No further splits with positive gain, best gain: -inf\n",
      "[LightGBM] [Warning] No further splits with positive gain, best gain: -inf\n",
      "[LightGBM] [Warning] No further splits with positive gain, best gain: -inf\n",
      "[LightGBM] [Warning] No further splits with positive gain, best gain: -inf\n",
      "[LightGBM] [Warning] No further splits with positive gain, best gain: -inf\n",
      "[LightGBM] [Warning] No further splits with positive gain, best gain: -inf\n",
      "[LightGBM] [Warning] No further splits with positive gain, best gain: -inf\n",
      "[LightGBM] [Warning] No further splits with positive gain, best gain: -inf\n",
      "[LightGBM] [Warning] No further splits with positive gain, best gain: -inf\n",
      "[LightGBM] [Warning] No further splits with positive gain, best gain: -inf\n",
      "[LightGBM] [Warning] No further splits with positive gain, best gain: -inf\n",
      "[LightGBM] [Warning] No further splits with positive gain, best gain: -inf\n",
      "[LightGBM] [Warning] No further splits with positive gain, best gain: -inf\n",
      "[LightGBM] [Warning] No further splits with positive gain, best gain: -inf\n",
      "[LightGBM] [Warning] No further splits with positive gain, best gain: -inf\n",
      "[LightGBM] [Warning] No further splits with positive gain, best gain: -inf\n",
      "[LightGBM] [Warning] No further splits with positive gain, best gain: -inf\n",
      "[LightGBM] [Warning] No further splits with positive gain, best gain: -inf\n",
      "[LightGBM] [Warning] No further splits with positive gain, best gain: -inf\n",
      "[LightGBM] [Warning] No further splits with positive gain, best gain: -inf\n",
      "[LightGBM] [Warning] No further splits with positive gain, best gain: -inf\n",
      "[LightGBM] [Warning] No further splits with positive gain, best gain: -inf\n",
      "[LightGBM] [Warning] No further splits with positive gain, best gain: -inf\n",
      "[LightGBM] [Warning] No further splits with positive gain, best gain: -inf\n",
      "[LightGBM] [Warning] No further splits with positive gain, best gain: -inf\n",
      "[LightGBM] [Warning] No further splits with positive gain, best gain: -inf\n",
      "[LightGBM] [Warning] No further splits with positive gain, best gain: -inf\n",
      "[LightGBM] [Warning] No further splits with positive gain, best gain: -inf\n",
      "[LightGBM] [Warning] No further splits with positive gain, best gain: -inf\n",
      "[LightGBM] [Warning] No further splits with positive gain, best gain: -inf\n",
      "[LightGBM] [Warning] No further splits with positive gain, best gain: -inf\n",
      "[LightGBM] [Warning] No further splits with positive gain, best gain: -inf\n",
      "[LightGBM] [Warning] No further splits with positive gain, best gain: -inf\n",
      "[LightGBM] [Warning] No further splits with positive gain, best gain: -inf\n",
      "[LightGBM] [Warning] No further splits with positive gain, best gain: -inf\n",
      "[LightGBM] [Warning] No further splits with positive gain, best gain: -inf\n",
      "[LightGBM] [Warning] No further splits with positive gain, best gain: -inf\n",
      "[LightGBM] [Warning] No further splits with positive gain, best gain: -inf\n",
      "[LightGBM] [Warning] No further splits with positive gain, best gain: -inf\n",
      "[LightGBM] [Warning] No further splits with positive gain, best gain: -inf\n",
      "[LightGBM] [Warning] No further splits with positive gain, best gain: -inf\n",
      "[LightGBM] [Warning] No further splits with positive gain, best gain: -inf\n",
      "[LightGBM] [Warning] No further splits with positive gain, best gain: -inf\n",
      "[LightGBM] [Warning] No further splits with positive gain, best gain: -inf\n",
      "[LightGBM] [Warning] No further splits with positive gain, best gain: -inf\n",
      "[LightGBM] [Warning] No further splits with positive gain, best gain: -inf\n",
      "[LightGBM] [Warning] No further splits with positive gain, best gain: -inf\n",
      "[LightGBM] [Warning] No further splits with positive gain, best gain: -inf\n",
      "[LightGBM] [Warning] No further splits with positive gain, best gain: -inf\n",
      "[LightGBM] [Warning] No further splits with positive gain, best gain: -inf\n",
      "[LightGBM] [Warning] No further splits with positive gain, best gain: -inf\n",
      "[LightGBM] [Warning] No further splits with positive gain, best gain: -inf\n",
      "[LightGBM] [Warning] No further splits with positive gain, best gain: -inf\n",
      "[LightGBM] [Warning] No further splits with positive gain, best gain: -inf\n",
      "[LightGBM] [Warning] No further splits with positive gain, best gain: -inf\n",
      "[LightGBM] [Warning] No further splits with positive gain, best gain: -inf\n",
      "[LightGBM] [Warning] No further splits with positive gain, best gain: -inf\n",
      "[LightGBM] [Warning] No further splits with positive gain, best gain: -inf\n",
      "[LightGBM] [Warning] No further splits with positive gain, best gain: -inf\n",
      "[LightGBM] [Warning] No further splits with positive gain, best gain: -inf\n",
      "[LightGBM] [Warning] No further splits with positive gain, best gain: -inf\n",
      "[LightGBM] [Warning] No further splits with positive gain, best gain: -inf\n",
      "[LightGBM] [Warning] No further splits with positive gain, best gain: -inf\n",
      "[LightGBM] [Warning] No further splits with positive gain, best gain: -inf\n",
      "[LightGBM] [Warning] No further splits with positive gain, best gain: -inf\n",
      "[LightGBM] [Warning] No further splits with positive gain, best gain: -inf\n",
      "[LightGBM] [Warning] No further splits with positive gain, best gain: -inf\n",
      "[LightGBM] [Warning] No further splits with positive gain, best gain: -inf\n",
      "[LightGBM] [Warning] No further splits with positive gain, best gain: -inf\n",
      "[LightGBM] [Warning] No further splits with positive gain, best gain: -inf\n",
      "[LightGBM] [Warning] No further splits with positive gain, best gain: -inf\n",
      "[LightGBM] [Warning] No further splits with positive gain, best gain: -inf\n",
      "[LightGBM] [Warning] No further splits with positive gain, best gain: -inf\n",
      "[LightGBM] [Warning] No further splits with positive gain, best gain: -inf\n",
      "[LightGBM] [Warning] No further splits with positive gain, best gain: -inf\n",
      "[LightGBM] [Warning] No further splits with positive gain, best gain: -inf\n",
      "[LightGBM] [Warning] No further splits with positive gain, best gain: -inf\n",
      "[LightGBM] [Warning] No further splits with positive gain, best gain: -inf\n",
      "[LightGBM] [Warning] No further splits with positive gain, best gain: -inf\n",
      "[LightGBM] [Warning] No further splits with positive gain, best gain: -inf\n",
      "[LightGBM] [Warning] No further splits with positive gain, best gain: -inf\n",
      "[LightGBM] [Warning] No further splits with positive gain, best gain: -inf\n",
      "[LightGBM] [Warning] No further splits with positive gain, best gain: -inf\n",
      "[LightGBM] [Warning] No further splits with positive gain, best gain: -inf\n",
      "[LightGBM] [Warning] No further splits with positive gain, best gain: -inf\n",
      "[LightGBM] [Warning] No further splits with positive gain, best gain: -inf\n",
      "[LightGBM] [Warning] No further splits with positive gain, best gain: -inf\n",
      "[LightGBM] [Warning] No further splits with positive gain, best gain: -inf\n",
      "[LightGBM] [Warning] No further splits with positive gain, best gain: -inf\n",
      "[LightGBM] [Warning] No further splits with positive gain, best gain: -inf\n",
      "[LightGBM] [Warning] No further splits with positive gain, best gain: -inf\n",
      "[LightGBM] [Warning] No further splits with positive gain, best gain: -inf\n",
      "[LightGBM] [Warning] No further splits with positive gain, best gain: -inf\n",
      "[LightGBM] [Warning] No further splits with positive gain, best gain: -inf\n",
      "[LightGBM] [Warning] No further splits with positive gain, best gain: -inf\n",
      "[LightGBM] [Warning] No further splits with positive gain, best gain: -inf\n",
      "[LightGBM] [Warning] No further splits with positive gain, best gain: -inf\n",
      "[LightGBM] [Warning] No further splits with positive gain, best gain: -inf\n",
      "[LightGBM] [Warning] No further splits with positive gain, best gain: -inf\n",
      "[LightGBM] [Warning] No further splits with positive gain, best gain: -inf\n",
      "[LightGBM] [Warning] No further splits with positive gain, best gain: -inf\n",
      "[LightGBM] [Warning] No further splits with positive gain, best gain: -inf\n",
      "[LightGBM] [Warning] No further splits with positive gain, best gain: -inf\n",
      "[LightGBM] [Warning] No further splits with positive gain, best gain: -inf\n",
      "[LightGBM] [Warning] No further splits with positive gain, best gain: -inf\n",
      "[LightGBM] [Warning] No further splits with positive gain, best gain: -inf\n",
      "[LightGBM] [Warning] No further splits with positive gain, best gain: -inf\n",
      "[LightGBM] [Warning] No further splits with positive gain, best gain: -inf\n",
      "[LightGBM] [Warning] No further splits with positive gain, best gain: -inf\n",
      "[LightGBM] [Warning] No further splits with positive gain, best gain: -inf\n",
      "[LightGBM] [Warning] No further splits with positive gain, best gain: -inf\n",
      "[LightGBM] [Warning] No further splits with positive gain, best gain: -inf\n",
      "[LightGBM] [Warning] No further splits with positive gain, best gain: -inf\n",
      "[LightGBM] [Warning] No further splits with positive gain, best gain: -inf\n",
      "[LightGBM] [Warning] No further splits with positive gain, best gain: -inf\n",
      "[LightGBM] [Warning] No further splits with positive gain, best gain: -inf\n",
      "[LightGBM] [Warning] No further splits with positive gain, best gain: -inf\n",
      "[LightGBM] [Warning] No further splits with positive gain, best gain: -inf\n",
      "[LightGBM] [Warning] No further splits with positive gain, best gain: -inf\n",
      "[LightGBM] [Warning] No further splits with positive gain, best gain: -inf\n",
      "[LightGBM] [Warning] No further splits with positive gain, best gain: -inf\n",
      "[LightGBM] [Warning] No further splits with positive gain, best gain: -inf\n",
      "[LightGBM] [Warning] No further splits with positive gain, best gain: -inf\n",
      "[LightGBM] [Warning] No further splits with positive gain, best gain: -inf\n",
      "[LightGBM] [Warning] No further splits with positive gain, best gain: -inf\n",
      "[LightGBM] [Warning] No further splits with positive gain, best gain: -inf\n",
      "[LightGBM] [Warning] No further splits with positive gain, best gain: -inf\n",
      "[LightGBM] [Warning] No further splits with positive gain, best gain: -inf\n",
      "[LightGBM] [Warning] No further splits with positive gain, best gain: -inf\n",
      "[LightGBM] [Warning] No further splits with positive gain, best gain: -inf\n",
      "[LightGBM] [Warning] No further splits with positive gain, best gain: -inf\n",
      "[LightGBM] [Warning] No further splits with positive gain, best gain: -inf\n",
      "[LightGBM] [Warning] No further splits with positive gain, best gain: -inf\n",
      "[LightGBM] [Warning] No further splits with positive gain, best gain: -inf\n",
      "[LightGBM] [Warning] No further splits with positive gain, best gain: -inf\n",
      "[LightGBM] [Warning] No further splits with positive gain, best gain: -inf\n",
      "[LightGBM] [Warning] No further splits with positive gain, best gain: -inf\n",
      "[LightGBM] [Warning] No further splits with positive gain, best gain: -inf\n",
      "[LightGBM] [Warning] No further splits with positive gain, best gain: -inf\n",
      "[LightGBM] [Warning] No further splits with positive gain, best gain: -inf\n",
      "[LightGBM] [Warning] No further splits with positive gain, best gain: -inf\n",
      "[LightGBM] [Warning] No further splits with positive gain, best gain: -inf\n",
      "[LightGBM] [Warning] No further splits with positive gain, best gain: -inf\n",
      "[LightGBM] [Warning] No further splits with positive gain, best gain: -inf\n",
      "[LightGBM] [Warning] No further splits with positive gain, best gain: -inf\n",
      "[LightGBM] [Warning] No further splits with positive gain, best gain: -inf\n",
      "[LightGBM] [Warning] No further splits with positive gain, best gain: -inf\n",
      "[LightGBM] [Warning] No further splits with positive gain, best gain: -inf\n",
      "[LightGBM] [Warning] No further splits with positive gain, best gain: -inf\n",
      "[LightGBM] [Warning] No further splits with positive gain, best gain: -inf\n",
      "[LightGBM] [Warning] No further splits with positive gain, best gain: -inf\n",
      "[LightGBM] [Warning] No further splits with positive gain, best gain: -inf\n",
      "[LightGBM] [Warning] No further splits with positive gain, best gain: -inf\n",
      "[LightGBM] [Warning] No further splits with positive gain, best gain: -inf\n",
      "[LightGBM] [Warning] No further splits with positive gain, best gain: -inf\n",
      "[LightGBM] [Warning] No further splits with positive gain, best gain: -inf\n",
      "[LightGBM] [Warning] No further splits with positive gain, best gain: -inf\n",
      "[LightGBM] [Warning] No further splits with positive gain, best gain: -inf\n",
      "[LightGBM] [Warning] No further splits with positive gain, best gain: -inf\n",
      "[LightGBM] [Warning] No further splits with positive gain, best gain: -inf\n",
      "[LightGBM] [Warning] No further splits with positive gain, best gain: -inf\n",
      "[LightGBM] [Warning] No further splits with positive gain, best gain: -inf\n",
      "[LightGBM] [Warning] No further splits with positive gain, best gain: -inf\n",
      "[LightGBM] [Warning] No further splits with positive gain, best gain: -inf\n",
      "[LightGBM] [Warning] No further splits with positive gain, best gain: -inf\n",
      "[LightGBM] [Warning] No further splits with positive gain, best gain: -inf\n",
      "[LightGBM] [Warning] No further splits with positive gain, best gain: -inf\n",
      "[LightGBM] [Warning] No further splits with positive gain, best gain: -inf\n",
      "[LightGBM] [Warning] No further splits with positive gain, best gain: -inf\n",
      "[LightGBM] [Warning] No further splits with positive gain, best gain: -inf\n",
      "[LightGBM] [Warning] No further splits with positive gain, best gain: -inf\n",
      "[LightGBM] [Warning] No further splits with positive gain, best gain: -inf\n",
      "[LightGBM] [Warning] No further splits with positive gain, best gain: -inf\n",
      "[LightGBM] [Warning] No further splits with positive gain, best gain: -inf\n",
      "[LightGBM] [Warning] No further splits with positive gain, best gain: -inf\n",
      "[LightGBM] [Warning] No further splits with positive gain, best gain: -inf\n",
      "[LightGBM] [Warning] No further splits with positive gain, best gain: -inf\n",
      "[LightGBM] [Warning] No further splits with positive gain, best gain: -inf\n",
      "[LightGBM] [Warning] No further splits with positive gain, best gain: -inf\n",
      "[LightGBM] [Warning] No further splits with positive gain, best gain: -inf\n",
      "[LightGBM] [Warning] No further splits with positive gain, best gain: -inf\n",
      "[LightGBM] [Warning] No further splits with positive gain, best gain: -inf\n",
      "[LightGBM] [Warning] No further splits with positive gain, best gain: -inf\n",
      "[LightGBM] [Warning] No further splits with positive gain, best gain: -inf\n",
      "[LightGBM] [Warning] No further splits with positive gain, best gain: -inf\n",
      "[LightGBM] [Warning] No further splits with positive gain, best gain: -inf\n",
      "[LightGBM] [Warning] No further splits with positive gain, best gain: -inf\n",
      "[LightGBM] [Warning] No further splits with positive gain, best gain: -inf\n",
      "[LightGBM] [Warning] No further splits with positive gain, best gain: -inf\n",
      "[LightGBM] [Warning] No further splits with positive gain, best gain: -inf\n",
      "[LightGBM] [Warning] No further splits with positive gain, best gain: -inf\n",
      "[LightGBM] [Warning] No further splits with positive gain, best gain: -inf\n",
      "[LightGBM] [Warning] No further splits with positive gain, best gain: -inf\n",
      "[LightGBM] [Warning] No further splits with positive gain, best gain: -inf\n",
      "[LightGBM] [Warning] No further splits with positive gain, best gain: -inf\n",
      "[LightGBM] [Warning] No further splits with positive gain, best gain: -inf\n",
      "[LightGBM] [Warning] No further splits with positive gain, best gain: -inf\n",
      "[LightGBM] [Warning] No further splits with positive gain, best gain: -inf\n",
      "[LightGBM] [Warning] No further splits with positive gain, best gain: -inf\n",
      "[LightGBM] [Warning] No further splits with positive gain, best gain: -inf\n",
      "[LightGBM] [Warning] No further splits with positive gain, best gain: -inf\n",
      "[LightGBM] [Warning] No further splits with positive gain, best gain: -inf\n",
      "[LightGBM] [Warning] No further splits with positive gain, best gain: -inf\n",
      "[LightGBM] [Warning] No further splits with positive gain, best gain: -inf\n",
      "[LightGBM] [Warning] No further splits with positive gain, best gain: -inf\n",
      "[LightGBM] [Warning] No further splits with positive gain, best gain: -inf\n",
      "[LightGBM] [Warning] No further splits with positive gain, best gain: -inf\n",
      "[LightGBM] [Warning] No further splits with positive gain, best gain: -inf\n",
      "[LightGBM] [Warning] No further splits with positive gain, best gain: -inf\n",
      "[LightGBM] [Warning] No further splits with positive gain, best gain: -inf\n",
      "[LightGBM] [Warning] No further splits with positive gain, best gain: -inf\n",
      "[LightGBM] [Warning] No further splits with positive gain, best gain: -inf\n",
      "[LightGBM] [Warning] No further splits with positive gain, best gain: -inf\n",
      "[LightGBM] [Warning] No further splits with positive gain, best gain: -inf\n",
      "[LightGBM] [Warning] No further splits with positive gain, best gain: -inf\n",
      "[LightGBM] [Warning] No further splits with positive gain, best gain: -inf\n",
      "[LightGBM] [Warning] No further splits with positive gain, best gain: -inf\n",
      "[LightGBM] [Warning] No further splits with positive gain, best gain: -inf\n",
      "[LightGBM] [Warning] No further splits with positive gain, best gain: -inf\n",
      "[LightGBM] [Warning] No further splits with positive gain, best gain: -inf\n",
      "[LightGBM] [Warning] No further splits with positive gain, best gain: -inf\n",
      "[LightGBM] [Warning] No further splits with positive gain, best gain: -inf\n",
      "[LightGBM] [Warning] No further splits with positive gain, best gain: -inf\n",
      "[LightGBM] [Warning] No further splits with positive gain, best gain: -inf\n",
      "[LightGBM] [Warning] No further splits with positive gain, best gain: -inf\n",
      "[LightGBM] [Warning] No further splits with positive gain, best gain: -inf\n",
      "[LightGBM] [Warning] No further splits with positive gain, best gain: -inf\n",
      "[LightGBM] [Warning] No further splits with positive gain, best gain: -inf\n",
      "[LightGBM] [Warning] No further splits with positive gain, best gain: -inf\n",
      "[LightGBM] [Warning] No further splits with positive gain, best gain: -inf\n",
      "[LightGBM] [Warning] No further splits with positive gain, best gain: -inf\n",
      "[LightGBM] [Warning] No further splits with positive gain, best gain: -inf\n",
      "[LightGBM] [Warning] No further splits with positive gain, best gain: -inf\n",
      "[LightGBM] [Warning] No further splits with positive gain, best gain: -inf\n",
      "[LightGBM] [Warning] No further splits with positive gain, best gain: -inf\n",
      "[LightGBM] [Warning] No further splits with positive gain, best gain: -inf\n",
      "[LightGBM] [Warning] No further splits with positive gain, best gain: -inf\n",
      "[LightGBM] [Warning] No further splits with positive gain, best gain: -inf\n",
      "[LightGBM] [Warning] No further splits with positive gain, best gain: -inf\n",
      "[LightGBM] [Warning] No further splits with positive gain, best gain: -inf\n",
      "[LightGBM] [Warning] No further splits with positive gain, best gain: -inf\n",
      "[LightGBM] [Warning] No further splits with positive gain, best gain: -inf\n",
      "[LightGBM] [Warning] No further splits with positive gain, best gain: -inf\n",
      "[LightGBM] [Warning] No further splits with positive gain, best gain: -inf\n",
      "[LightGBM] [Warning] No further splits with positive gain, best gain: -inf\n",
      "[LightGBM] [Warning] No further splits with positive gain, best gain: -inf\n",
      "[LightGBM] [Warning] No further splits with positive gain, best gain: -inf\n",
      "[LightGBM] [Warning] No further splits with positive gain, best gain: -inf\n",
      "[LightGBM] [Warning] No further splits with positive gain, best gain: -inf\n",
      "[LightGBM] [Warning] No further splits with positive gain, best gain: -inf\n",
      "[LightGBM] [Warning] No further splits with positive gain, best gain: -inf\n",
      "[LightGBM] [Warning] No further splits with positive gain, best gain: -inf\n",
      "[LightGBM] [Warning] No further splits with positive gain, best gain: -inf\n",
      "[LightGBM] [Warning] No further splits with positive gain, best gain: -inf\n",
      "[LightGBM] [Warning] No further splits with positive gain, best gain: -inf\n",
      "[LightGBM] [Warning] No further splits with positive gain, best gain: -inf\n",
      "[LightGBM] [Warning] No further splits with positive gain, best gain: -inf\n",
      "[LightGBM] [Warning] No further splits with positive gain, best gain: -inf\n",
      "[LightGBM] [Warning] No further splits with positive gain, best gain: -inf\n",
      "[LightGBM] [Warning] No further splits with positive gain, best gain: -inf\n",
      "[LightGBM] [Warning] No further splits with positive gain, best gain: -inf\n",
      "[LightGBM] [Warning] No further splits with positive gain, best gain: -inf\n",
      "[LightGBM] [Warning] No further splits with positive gain, best gain: -inf\n",
      "[LightGBM] [Warning] No further splits with positive gain, best gain: -inf\n",
      "[LightGBM] [Warning] No further splits with positive gain, best gain: -inf\n",
      "[LightGBM] [Warning] No further splits with positive gain, best gain: -inf\n",
      "[LightGBM] [Warning] No further splits with positive gain, best gain: -inf\n",
      "[LightGBM] [Warning] No further splits with positive gain, best gain: -inf\n",
      "[LightGBM] [Warning] No further splits with positive gain, best gain: -inf\n",
      "[LightGBM] [Warning] No further splits with positive gain, best gain: -inf\n",
      "[LightGBM] [Warning] No further splits with positive gain, best gain: -inf\n",
      "[LightGBM] [Warning] No further splits with positive gain, best gain: -inf\n",
      "[LightGBM] [Warning] No further splits with positive gain, best gain: -inf\n",
      "[LightGBM] [Warning] No further splits with positive gain, best gain: -inf\n",
      "[LightGBM] [Warning] No further splits with positive gain, best gain: -inf\n",
      "[LightGBM] [Warning] No further splits with positive gain, best gain: -inf\n",
      "[LightGBM] [Warning] No further splits with positive gain, best gain: -inf\n",
      "[LightGBM] [Warning] No further splits with positive gain, best gain: -inf\n",
      "[LightGBM] [Warning] No further splits with positive gain, best gain: -inf\n",
      "[LightGBM] [Warning] No further splits with positive gain, best gain: -inf\n",
      "[LightGBM] [Warning] No further splits with positive gain, best gain: -inf\n",
      "[LightGBM] [Warning] No further splits with positive gain, best gain: -inf\n",
      "[LightGBM] [Warning] No further splits with positive gain, best gain: -inf\n",
      "[LightGBM] [Warning] No further splits with positive gain, best gain: -inf\n",
      "[LightGBM] [Warning] No further splits with positive gain, best gain: -inf\n",
      "[LightGBM] [Warning] No further splits with positive gain, best gain: -inf\n",
      "[LightGBM] [Warning] No further splits with positive gain, best gain: -inf\n",
      "[LightGBM] [Warning] No further splits with positive gain, best gain: -inf\n",
      "[LightGBM] [Warning] No further splits with positive gain, best gain: -inf\n",
      "[LightGBM] [Warning] No further splits with positive gain, best gain: -inf\n",
      "[LightGBM] [Warning] No further splits with positive gain, best gain: -inf\n",
      "[LightGBM] [Warning] No further splits with positive gain, best gain: -inf\n",
      "[LightGBM] [Warning] No further splits with positive gain, best gain: -inf\n",
      "[LightGBM] [Warning] No further splits with positive gain, best gain: -inf\n",
      "[LightGBM] [Warning] No further splits with positive gain, best gain: -inf\n",
      "[LightGBM] [Warning] No further splits with positive gain, best gain: -inf\n",
      "[LightGBM] [Warning] No further splits with positive gain, best gain: -inf\n",
      "[LightGBM] [Warning] No further splits with positive gain, best gain: -inf\n",
      "[LightGBM] [Warning] No further splits with positive gain, best gain: -inf\n",
      "[LightGBM] [Warning] No further splits with positive gain, best gain: -inf\n",
      "[LightGBM] [Warning] No further splits with positive gain, best gain: -inf\n",
      "[LightGBM] [Warning] No further splits with positive gain, best gain: -inf\n",
      "[LightGBM] [Warning] No further splits with positive gain, best gain: -inf\n",
      "[LightGBM] [Warning] No further splits with positive gain, best gain: -inf\n",
      "[LightGBM] [Warning] No further splits with positive gain, best gain: -inf\n",
      "[LightGBM] [Warning] No further splits with positive gain, best gain: -inf\n",
      "[LightGBM] [Warning] No further splits with positive gain, best gain: -inf\n",
      "[LightGBM] [Warning] No further splits with positive gain, best gain: -inf\n",
      "[LightGBM] [Warning] No further splits with positive gain, best gain: -inf\n",
      "[LightGBM] [Warning] No further splits with positive gain, best gain: -inf\n",
      "[LightGBM] [Warning] No further splits with positive gain, best gain: -inf\n",
      "[LightGBM] [Warning] No further splits with positive gain, best gain: -inf\n",
      "[LightGBM] [Warning] No further splits with positive gain, best gain: -inf\n",
      "[LightGBM] [Warning] No further splits with positive gain, best gain: -inf\n",
      "[LightGBM] [Warning] No further splits with positive gain, best gain: -inf\n",
      "[LightGBM] [Warning] No further splits with positive gain, best gain: -inf\n",
      "[LightGBM] [Warning] No further splits with positive gain, best gain: -inf\n",
      "[LightGBM] [Warning] No further splits with positive gain, best gain: -inf\n",
      "[LightGBM] [Warning] No further splits with positive gain, best gain: -inf\n",
      "[LightGBM] [Warning] No further splits with positive gain, best gain: -inf\n",
      "[LightGBM] [Warning] No further splits with positive gain, best gain: -inf\n",
      "[LightGBM] [Warning] No further splits with positive gain, best gain: -inf\n",
      "[LightGBM] [Warning] No further splits with positive gain, best gain: -inf\n",
      "[LightGBM] [Warning] No further splits with positive gain, best gain: -inf\n",
      "[LightGBM] [Warning] No further splits with positive gain, best gain: -inf\n",
      "[LightGBM] [Warning] No further splits with positive gain, best gain: -inf\n",
      "[LightGBM] [Warning] No further splits with positive gain, best gain: -inf\n",
      "[LightGBM] [Warning] No further splits with positive gain, best gain: -inf\n",
      "[LightGBM] [Warning] No further splits with positive gain, best gain: -inf\n",
      "[LightGBM] [Warning] No further splits with positive gain, best gain: -inf\n",
      "[LightGBM] [Warning] No further splits with positive gain, best gain: -inf\n",
      "[LightGBM] [Warning] No further splits with positive gain, best gain: -inf\n",
      "[LightGBM] [Warning] No further splits with positive gain, best gain: -inf\n",
      "[LightGBM] [Warning] No further splits with positive gain, best gain: -inf\n",
      "[LightGBM] [Warning] No further splits with positive gain, best gain: -inf\n",
      "[LightGBM] [Warning] No further splits with positive gain, best gain: -inf\n",
      "[LightGBM] [Warning] No further splits with positive gain, best gain: -inf\n",
      "[LightGBM] [Warning] No further splits with positive gain, best gain: -inf\n",
      "[LightGBM] [Warning] No further splits with positive gain, best gain: -inf\n",
      "[LightGBM] [Warning] No further splits with positive gain, best gain: -inf\n",
      "[LightGBM] [Warning] No further splits with positive gain, best gain: -inf\n",
      "[LightGBM] [Warning] No further splits with positive gain, best gain: -inf\n",
      "[LightGBM] [Warning] No further splits with positive gain, best gain: -inf\n",
      "[LightGBM] [Warning] No further splits with positive gain, best gain: -inf\n",
      "[LightGBM] [Warning] No further splits with positive gain, best gain: -inf\n",
      "[LightGBM] [Warning] No further splits with positive gain, best gain: -inf\n",
      "[LightGBM] [Warning] No further splits with positive gain, best gain: -inf\n",
      "[LightGBM] [Warning] No further splits with positive gain, best gain: -inf\n",
      "[LightGBM] [Warning] No further splits with positive gain, best gain: -inf\n",
      "[LightGBM] [Warning] No further splits with positive gain, best gain: -inf\n",
      "[LightGBM] [Warning] No further splits with positive gain, best gain: -inf\n",
      "[LightGBM] [Warning] No further splits with positive gain, best gain: -inf\n",
      "[LightGBM] [Warning] No further splits with positive gain, best gain: -inf\n",
      "[LightGBM] [Warning] No further splits with positive gain, best gain: -inf\n",
      "[LightGBM] [Warning] No further splits with positive gain, best gain: -inf\n",
      "[LightGBM] [Warning] No further splits with positive gain, best gain: -inf\n",
      "[LightGBM] [Warning] No further splits with positive gain, best gain: -inf\n",
      "[LightGBM] [Warning] No further splits with positive gain, best gain: -inf\n",
      "[LightGBM] [Warning] No further splits with positive gain, best gain: -inf\n",
      "[LightGBM] [Warning] No further splits with positive gain, best gain: -inf\n",
      "[LightGBM] [Warning] No further splits with positive gain, best gain: -inf\n",
      "[LightGBM] [Warning] No further splits with positive gain, best gain: -inf\n",
      "[LightGBM] [Warning] No further splits with positive gain, best gain: -inf\n",
      "[LightGBM] [Warning] No further splits with positive gain, best gain: -inf\n",
      "[LightGBM] [Warning] No further splits with positive gain, best gain: -inf\n",
      "[LightGBM] [Warning] No further splits with positive gain, best gain: -inf\n",
      "[LightGBM] [Warning] No further splits with positive gain, best gain: -inf\n",
      "[LightGBM] [Warning] No further splits with positive gain, best gain: -inf\n",
      "[LightGBM] [Warning] No further splits with positive gain, best gain: -inf\n",
      "[LightGBM] [Warning] No further splits with positive gain, best gain: -inf\n",
      "[LightGBM] [Warning] No further splits with positive gain, best gain: -inf\n",
      "[LightGBM] [Warning] No further splits with positive gain, best gain: -inf\n",
      "[LightGBM] [Warning] No further splits with positive gain, best gain: -inf\n",
      "[LightGBM] [Warning] No further splits with positive gain, best gain: -inf\n",
      "[LightGBM] [Warning] No further splits with positive gain, best gain: -inf\n",
      "[LightGBM] [Warning] No further splits with positive gain, best gain: -inf\n",
      "[LightGBM] [Warning] No further splits with positive gain, best gain: -inf\n",
      "[LightGBM] [Warning] No further splits with positive gain, best gain: -inf\n",
      "[LightGBM] [Warning] No further splits with positive gain, best gain: -inf\n",
      "[LightGBM] [Warning] No further splits with positive gain, best gain: -inf\n",
      "[LightGBM] [Warning] No further splits with positive gain, best gain: -inf\n",
      "[LightGBM] [Warning] No further splits with positive gain, best gain: -inf\n",
      "[LightGBM] [Warning] No further splits with positive gain, best gain: -inf\n",
      "[LightGBM] [Warning] No further splits with positive gain, best gain: -inf\n",
      "[LightGBM] [Warning] No further splits with positive gain, best gain: -inf\n",
      "[LightGBM] [Warning] No further splits with positive gain, best gain: -inf\n",
      "[LightGBM] [Warning] No further splits with positive gain, best gain: -inf\n",
      "[LightGBM] [Warning] No further splits with positive gain, best gain: -inf\n",
      "[LightGBM] [Warning] No further splits with positive gain, best gain: -inf\n",
      "[LightGBM] [Warning] No further splits with positive gain, best gain: -inf\n",
      "[LightGBM] [Warning] No further splits with positive gain, best gain: -inf\n",
      "[LightGBM] [Warning] No further splits with positive gain, best gain: -inf\n",
      "[LightGBM] [Warning] No further splits with positive gain, best gain: -inf\n",
      "[LightGBM] [Warning] No further splits with positive gain, best gain: -inf\n",
      "[LightGBM] [Warning] No further splits with positive gain, best gain: -inf\n",
      "[LightGBM] [Warning] No further splits with positive gain, best gain: -inf\n",
      "[LightGBM] [Warning] No further splits with positive gain, best gain: -inf\n",
      "[LightGBM] [Warning] No further splits with positive gain, best gain: -inf\n",
      "[LightGBM] [Warning] No further splits with positive gain, best gain: -inf\n",
      "[LightGBM] [Warning] No further splits with positive gain, best gain: -inf\n",
      "[LightGBM] [Warning] No further splits with positive gain, best gain: -inf\n",
      "[LightGBM] [Warning] No further splits with positive gain, best gain: -inf\n",
      "[LightGBM] [Warning] No further splits with positive gain, best gain: -inf\n",
      "[LightGBM] [Warning] No further splits with positive gain, best gain: -inf\n",
      "[LightGBM] [Warning] No further splits with positive gain, best gain: -inf\n",
      "[LightGBM] [Warning] No further splits with positive gain, best gain: -inf\n",
      "[LightGBM] [Warning] No further splits with positive gain, best gain: -inf\n",
      "[LightGBM] [Warning] No further splits with positive gain, best gain: -inf\n",
      "[LightGBM] [Warning] No further splits with positive gain, best gain: -inf\n",
      "[LightGBM] [Warning] No further splits with positive gain, best gain: -inf\n",
      "[LightGBM] [Warning] No further splits with positive gain, best gain: -inf\n",
      "[LightGBM] [Warning] No further splits with positive gain, best gain: -inf\n",
      "[LightGBM] [Warning] No further splits with positive gain, best gain: -inf\n",
      "[LightGBM] [Warning] No further splits with positive gain, best gain: -inf\n",
      "[LightGBM] [Warning] No further splits with positive gain, best gain: -inf\n",
      "[LightGBM] [Warning] No further splits with positive gain, best gain: -inf\n",
      "[LightGBM] [Warning] No further splits with positive gain, best gain: -inf\n",
      "[LightGBM] [Warning] No further splits with positive gain, best gain: -inf\n",
      "[LightGBM] [Warning] No further splits with positive gain, best gain: -inf\n",
      "[LightGBM] [Warning] No further splits with positive gain, best gain: -inf\n",
      "[LightGBM] [Warning] No further splits with positive gain, best gain: -inf\n",
      "[LightGBM] [Warning] No further splits with positive gain, best gain: -inf\n",
      "[LightGBM] [Warning] No further splits with positive gain, best gain: -inf\n",
      "[LightGBM] [Warning] No further splits with positive gain, best gain: -inf\n",
      "[LightGBM] [Warning] No further splits with positive gain, best gain: -inf\n",
      "[LightGBM] [Warning] No further splits with positive gain, best gain: -inf\n",
      "[LightGBM] [Warning] No further splits with positive gain, best gain: -inf\n",
      "[LightGBM] [Warning] No further splits with positive gain, best gain: -inf\n",
      "[LightGBM] [Warning] No further splits with positive gain, best gain: -inf\n",
      "[LightGBM] [Warning] No further splits with positive gain, best gain: -inf\n",
      "[LightGBM] [Warning] No further splits with positive gain, best gain: -inf\n",
      "[LightGBM] [Warning] No further splits with positive gain, best gain: -inf\n",
      "[LightGBM] [Warning] No further splits with positive gain, best gain: -inf\n",
      "[LightGBM] [Warning] No further splits with positive gain, best gain: -inf\n",
      "[LightGBM] [Warning] No further splits with positive gain, best gain: -inf\n",
      "[LightGBM] [Warning] No further splits with positive gain, best gain: -inf\n",
      "[LightGBM] [Warning] No further splits with positive gain, best gain: -inf\n",
      "[LightGBM] [Warning] No further splits with positive gain, best gain: -inf\n",
      "[LightGBM] [Warning] No further splits with positive gain, best gain: -inf\n",
      "[LightGBM] [Warning] No further splits with positive gain, best gain: -inf\n",
      "[LightGBM] [Warning] No further splits with positive gain, best gain: -inf\n",
      "[LightGBM] [Warning] No further splits with positive gain, best gain: -inf\n",
      "[LightGBM] [Warning] No further splits with positive gain, best gain: -inf\n",
      "[LightGBM] [Warning] No further splits with positive gain, best gain: -inf\n",
      "[LightGBM] [Warning] No further splits with positive gain, best gain: -inf\n",
      "[LightGBM] [Warning] No further splits with positive gain, best gain: -inf\n",
      "[LightGBM] [Warning] No further splits with positive gain, best gain: -inf\n",
      "[LightGBM] [Warning] No further splits with positive gain, best gain: -inf\n",
      "[LightGBM] [Warning] No further splits with positive gain, best gain: -inf\n",
      "[LightGBM] [Warning] No further splits with positive gain, best gain: -inf\n",
      "[LightGBM] [Warning] No further splits with positive gain, best gain: -inf\n",
      "[LightGBM] [Warning] No further splits with positive gain, best gain: -inf\n",
      "[LightGBM] [Warning] No further splits with positive gain, best gain: -inf\n",
      "[LightGBM] [Warning] No further splits with positive gain, best gain: -inf\n",
      "[LightGBM] [Warning] No further splits with positive gain, best gain: -inf\n",
      "[LightGBM] [Warning] No further splits with positive gain, best gain: -inf\n",
      "[LightGBM] [Warning] No further splits with positive gain, best gain: -inf\n",
      "[LightGBM] [Warning] No further splits with positive gain, best gain: -inf\n",
      "[LightGBM] [Warning] No further splits with positive gain, best gain: -inf\n",
      "[LightGBM] [Warning] No further splits with positive gain, best gain: -inf\n",
      "[LightGBM] [Warning] No further splits with positive gain, best gain: -inf\n",
      "[LightGBM] [Warning] No further splits with positive gain, best gain: -inf\n",
      "[LightGBM] [Warning] No further splits with positive gain, best gain: -inf\n",
      "[LightGBM] [Warning] No further splits with positive gain, best gain: -inf\n",
      "[LightGBM] [Warning] No further splits with positive gain, best gain: -inf\n",
      "[LightGBM] [Warning] No further splits with positive gain, best gain: -inf\n",
      "[LightGBM] [Warning] No further splits with positive gain, best gain: -inf\n",
      "[LightGBM] [Warning] No further splits with positive gain, best gain: -inf\n",
      "[LightGBM] [Warning] No further splits with positive gain, best gain: -inf\n",
      "[LightGBM] [Warning] No further splits with positive gain, best gain: -inf\n",
      "[LightGBM] [Warning] No further splits with positive gain, best gain: -inf\n",
      "[LightGBM] [Warning] No further splits with positive gain, best gain: -inf\n",
      "[LightGBM] [Warning] No further splits with positive gain, best gain: -inf\n",
      "[LightGBM] [Warning] No further splits with positive gain, best gain: -inf\n",
      "[LightGBM] [Warning] No further splits with positive gain, best gain: -inf\n",
      "[LightGBM] [Warning] No further splits with positive gain, best gain: -inf\n",
      "[LightGBM] [Warning] No further splits with positive gain, best gain: -inf\n",
      "[LightGBM] [Warning] No further splits with positive gain, best gain: -inf\n",
      "[LightGBM] [Warning] No further splits with positive gain, best gain: -inf\n",
      "[LightGBM] [Warning] No further splits with positive gain, best gain: -inf\n",
      "[LightGBM] [Warning] No further splits with positive gain, best gain: -inf\n",
      "[LightGBM] [Warning] No further splits with positive gain, best gain: -inf\n",
      "[LightGBM] [Warning] No further splits with positive gain, best gain: -inf\n",
      "[LightGBM] [Warning] No further splits with positive gain, best gain: -inf\n",
      "[LightGBM] [Warning] No further splits with positive gain, best gain: -inf\n",
      "[LightGBM] [Warning] No further splits with positive gain, best gain: -inf\n",
      "[LightGBM] [Warning] No further splits with positive gain, best gain: -inf\n",
      "[LightGBM] [Warning] No further splits with positive gain, best gain: -inf\n",
      "[LightGBM] [Warning] No further splits with positive gain, best gain: -inf\n",
      "[LightGBM] [Warning] No further splits with positive gain, best gain: -inf\n",
      "[LightGBM] [Warning] No further splits with positive gain, best gain: -inf\n",
      "[LightGBM] [Warning] No further splits with positive gain, best gain: -inf\n",
      "[LightGBM] [Warning] No further splits with positive gain, best gain: -inf\n",
      "[LightGBM] [Warning] No further splits with positive gain, best gain: -inf\n",
      "[LightGBM] [Warning] No further splits with positive gain, best gain: -inf\n",
      "[LightGBM] [Warning] No further splits with positive gain, best gain: -inf\n",
      "[LightGBM] [Warning] No further splits with positive gain, best gain: -inf\n",
      "[LightGBM] [Warning] No further splits with positive gain, best gain: -inf\n",
      "[LightGBM] [Warning] No further splits with positive gain, best gain: -inf\n",
      "[LightGBM] [Warning] No further splits with positive gain, best gain: -inf\n",
      "[LightGBM] [Warning] No further splits with positive gain, best gain: -inf\n",
      "[LightGBM] [Warning] No further splits with positive gain, best gain: -inf\n",
      "[LightGBM] [Warning] No further splits with positive gain, best gain: -inf\n",
      "[LightGBM] [Warning] No further splits with positive gain, best gain: -inf\n",
      "[LightGBM] [Warning] No further splits with positive gain, best gain: -inf\n",
      "[LightGBM] [Warning] No further splits with positive gain, best gain: -inf\n",
      "[LightGBM] [Warning] No further splits with positive gain, best gain: -inf\n",
      "[LightGBM] [Warning] No further splits with positive gain, best gain: -inf\n",
      "[LightGBM] [Warning] No further splits with positive gain, best gain: -inf\n",
      "[LightGBM] [Warning] No further splits with positive gain, best gain: -inf\n",
      "[LightGBM] [Warning] No further splits with positive gain, best gain: -inf\n",
      "[LightGBM] [Warning] No further splits with positive gain, best gain: -inf\n",
      "[LightGBM] [Warning] No further splits with positive gain, best gain: -inf\n",
      "[LightGBM] [Warning] No further splits with positive gain, best gain: -inf\n",
      "[LightGBM] [Warning] No further splits with positive gain, best gain: -inf\n",
      "[LightGBM] [Warning] No further splits with positive gain, best gain: -inf\n",
      "[LightGBM] [Warning] No further splits with positive gain, best gain: -inf\n",
      "[LightGBM] [Warning] No further splits with positive gain, best gain: -inf\n",
      "[LightGBM] [Warning] No further splits with positive gain, best gain: -inf\n",
      "[LightGBM] [Warning] No further splits with positive gain, best gain: -inf\n",
      "[LightGBM] [Warning] No further splits with positive gain, best gain: -inf\n",
      "[LightGBM] [Warning] No further splits with positive gain, best gain: -inf\n",
      "[LightGBM] [Warning] No further splits with positive gain, best gain: -inf\n",
      "[LightGBM] [Warning] No further splits with positive gain, best gain: -inf\n",
      "[LightGBM] [Warning] No further splits with positive gain, best gain: -inf\n",
      "[LightGBM] [Warning] No further splits with positive gain, best gain: -inf\n",
      "[LightGBM] [Warning] No further splits with positive gain, best gain: -inf\n",
      "[LightGBM] [Warning] No further splits with positive gain, best gain: -inf\n",
      "[LightGBM] [Warning] No further splits with positive gain, best gain: -inf\n",
      "[LightGBM] [Warning] No further splits with positive gain, best gain: -inf\n",
      "[LightGBM] [Warning] No further splits with positive gain, best gain: -inf\n",
      "[LightGBM] [Warning] No further splits with positive gain, best gain: -inf\n",
      "[LightGBM] [Warning] No further splits with positive gain, best gain: -inf\n",
      "[LightGBM] [Warning] No further splits with positive gain, best gain: -inf\n",
      "[LightGBM] [Warning] No further splits with positive gain, best gain: -inf\n",
      "[LightGBM] [Warning] No further splits with positive gain, best gain: -inf\n",
      "[LightGBM] [Warning] No further splits with positive gain, best gain: -inf\n",
      "[LightGBM] [Warning] No further splits with positive gain, best gain: -inf\n",
      "[LightGBM] [Warning] No further splits with positive gain, best gain: -inf\n",
      "[LightGBM] [Warning] No further splits with positive gain, best gain: -inf\n",
      "[LightGBM] [Warning] No further splits with positive gain, best gain: -inf\n",
      "[LightGBM] [Warning] No further splits with positive gain, best gain: -inf\n",
      "[LightGBM] [Warning] No further splits with positive gain, best gain: -inf\n",
      "[LightGBM] [Warning] No further splits with positive gain, best gain: -inf\n",
      "[LightGBM] [Warning] No further splits with positive gain, best gain: -inf\n",
      "[LightGBM] [Warning] No further splits with positive gain, best gain: -inf\n",
      "[LightGBM] [Warning] No further splits with positive gain, best gain: -inf\n",
      "[LightGBM] [Warning] No further splits with positive gain, best gain: -inf\n",
      "[LightGBM] [Warning] No further splits with positive gain, best gain: -inf\n",
      "[LightGBM] [Warning] No further splits with positive gain, best gain: -inf\n",
      "[LightGBM] [Warning] No further splits with positive gain, best gain: -inf\n",
      "[LightGBM] [Warning] No further splits with positive gain, best gain: -inf\n",
      "[LightGBM] [Warning] No further splits with positive gain, best gain: -inf\n",
      "[LightGBM] [Warning] No further splits with positive gain, best gain: -inf\n",
      "[LightGBM] [Warning] No further splits with positive gain, best gain: -inf\n",
      "[LightGBM] [Warning] No further splits with positive gain, best gain: -inf\n",
      "[LightGBM] [Warning] No further splits with positive gain, best gain: -inf\n",
      "[LightGBM] [Warning] No further splits with positive gain, best gain: -inf\n",
      "[LightGBM] [Warning] No further splits with positive gain, best gain: -inf\n",
      "[LightGBM] [Warning] No further splits with positive gain, best gain: -inf\n",
      "[LightGBM] [Warning] No further splits with positive gain, best gain: -inf\n",
      "[LightGBM] [Warning] No further splits with positive gain, best gain: -inf\n",
      "[LightGBM] [Warning] No further splits with positive gain, best gain: -inf\n",
      "[LightGBM] [Warning] No further splits with positive gain, best gain: -inf\n",
      "[LightGBM] [Warning] No further splits with positive gain, best gain: -inf\n",
      "[LightGBM] [Warning] No further splits with positive gain, best gain: -inf\n",
      "[LightGBM] [Warning] No further splits with positive gain, best gain: -inf\n",
      "[LightGBM] [Warning] No further splits with positive gain, best gain: -inf\n",
      "[LightGBM] [Warning] No further splits with positive gain, best gain: -inf\n",
      "[LightGBM] [Warning] No further splits with positive gain, best gain: -inf\n",
      "[LightGBM] [Warning] No further splits with positive gain, best gain: -inf\n",
      "[LightGBM] [Warning] No further splits with positive gain, best gain: -inf\n",
      "[LightGBM] [Warning] No further splits with positive gain, best gain: -inf\n",
      "[LightGBM] [Warning] No further splits with positive gain, best gain: -inf\n",
      "[LightGBM] [Warning] No further splits with positive gain, best gain: -inf\n",
      "[LightGBM] [Warning] No further splits with positive gain, best gain: -inf\n",
      "[LightGBM] [Warning] No further splits with positive gain, best gain: -inf\n",
      "[LightGBM] [Warning] No further splits with positive gain, best gain: -inf\n",
      "[LightGBM] [Warning] No further splits with positive gain, best gain: -inf\n",
      "[LightGBM] [Warning] No further splits with positive gain, best gain: -inf\n",
      "[LightGBM] [Warning] No further splits with positive gain, best gain: -inf\n",
      "[LightGBM] [Warning] No further splits with positive gain, best gain: -inf\n",
      "[LightGBM] [Warning] No further splits with positive gain, best gain: -inf\n",
      "[LightGBM] [Warning] No further splits with positive gain, best gain: -inf\n",
      "[LightGBM] [Warning] No further splits with positive gain, best gain: -inf\n",
      "[LightGBM] [Warning] No further splits with positive gain, best gain: -inf\n",
      "[LightGBM] [Warning] No further splits with positive gain, best gain: -inf\n",
      "[LightGBM] [Warning] No further splits with positive gain, best gain: -inf\n",
      "[LightGBM] [Warning] No further splits with positive gain, best gain: -inf\n",
      "[LightGBM] [Warning] No further splits with positive gain, best gain: -inf\n",
      "[LightGBM] [Warning] No further splits with positive gain, best gain: -inf\n",
      "[LightGBM] [Warning] No further splits with positive gain, best gain: -inf\n",
      "[LightGBM] [Warning] No further splits with positive gain, best gain: -inf\n",
      "[LightGBM] [Warning] No further splits with positive gain, best gain: -inf\n",
      "[LightGBM] [Warning] No further splits with positive gain, best gain: -inf\n",
      "[LightGBM] [Warning] No further splits with positive gain, best gain: -inf\n",
      "[LightGBM] [Warning] No further splits with positive gain, best gain: -inf\n",
      "[LightGBM] [Warning] No further splits with positive gain, best gain: -inf\n",
      "[LightGBM] [Warning] No further splits with positive gain, best gain: -inf\n",
      "[LightGBM] [Warning] No further splits with positive gain, best gain: -inf\n",
      "[LightGBM] [Warning] No further splits with positive gain, best gain: -inf\n",
      "[LightGBM] [Warning] No further splits with positive gain, best gain: -inf\n",
      "[LightGBM] [Warning] No further splits with positive gain, best gain: -inf\n",
      "[LightGBM] [Warning] No further splits with positive gain, best gain: -inf\n",
      "[LightGBM] [Warning] No further splits with positive gain, best gain: -inf\n",
      "[LightGBM] [Warning] No further splits with positive gain, best gain: -inf\n",
      "[LightGBM] [Warning] No further splits with positive gain, best gain: -inf\n",
      "[LightGBM] [Warning] No further splits with positive gain, best gain: -inf\n",
      "[LightGBM] [Warning] No further splits with positive gain, best gain: -inf\n",
      "[LightGBM] [Warning] No further splits with positive gain, best gain: -inf\n",
      "[LightGBM] [Warning] No further splits with positive gain, best gain: -inf\n",
      "[LightGBM] [Warning] No further splits with positive gain, best gain: -inf\n",
      "Best hyperparams:  {'boosting_type': 'gbdt', 'force_col_wise': True, 'max_depth': 10, 'n_estimators': 100, 'num_leaves': 127, 'random_state': 12345, 'verbose': 0}\n",
      "RMSE score on train sample: 2127.46\n",
      "CPU times: user 37min 35s, sys: 21.7 s, total: 37min 57s\n",
      "Wall time: 38min 14s\n"
     ]
    }
   ],
   "source": [
    "%%time\n",
    "lgb_params = lgb_regr(features_train, target_train)"
   ]
  },
  {
   "cell_type": "code",
   "execution_count": 51,
   "metadata": {},
   "outputs": [
    {
     "name": "stdout",
     "output_type": "stream",
     "text": [
      "[10]\tvalid_0's rmse: 2956.99\tvalid_0's l2: 8.74378e+06\n",
      "[20]\tvalid_0's rmse: 2577.71\tvalid_0's l2: 6.64456e+06\n",
      "[30]\tvalid_0's rmse: 2457.05\tvalid_0's l2: 6.03711e+06\n",
      "[40]\tvalid_0's rmse: 2392.42\tvalid_0's l2: 5.72369e+06\n",
      "[50]\tvalid_0's rmse: 2351.87\tvalid_0's l2: 5.53128e+06\n",
      "[LightGBM] [Warning] No further splits with positive gain, best gain: -inf\n",
      "[60]\tvalid_0's rmse: 2332.21\tvalid_0's l2: 5.43922e+06\n",
      "[LightGBM] [Warning] No further splits with positive gain, best gain: -inf\n",
      "[LightGBM] [Warning] No further splits with positive gain, best gain: -inf\n",
      "[LightGBM] [Warning] No further splits with positive gain, best gain: -inf\n",
      "[70]\tvalid_0's rmse: 2322.33\tvalid_0's l2: 5.39321e+06\n",
      "[80]\tvalid_0's rmse: 2305.7\tvalid_0's l2: 5.31625e+06\n",
      "[90]\tvalid_0's rmse: 2288.99\tvalid_0's l2: 5.23948e+06\n",
      "[100]\tvalid_0's rmse: 2281.74\tvalid_0's l2: 5.20635e+06\n",
      "CPU times: user 1min 59s, sys: 1.04 s, total: 2min\n",
      "Wall time: 2min 1s\n"
     ]
    },
    {
     "data": {
      "text/plain": [
       "LGBMRegressor(force_col_wise=True, max_depth=10, num_leaves=127,\n",
       "              random_state=12345, verbose=0)"
      ]
     },
     "execution_count": 51,
     "metadata": {},
     "output_type": "execute_result"
    }
   ],
   "source": [
    "%%time\n",
    "model_lgb = LGBMRegressor(**lgb_params)\n",
    "model_lgb.fit(features_train, target_train, eval_set=(features_test, target_test), verbose=10, eval_metric='rmse')"
   ]
  },
  {
   "cell_type": "markdown",
   "metadata": {},
   "source": [
    "# Время обучения модели RandomForestRegressor"
   ]
  },
  {
   "cell_type": "code",
   "execution_count": 52,
   "metadata": {},
   "outputs": [],
   "source": [
    "from sklearn.ensemble import RandomForestRegressor\n",
    "from sklearn import model_selection"
   ]
  },
  {
   "cell_type": "markdown",
   "metadata": {},
   "source": [
    "%%time\n",
    "# RandomForest\n",
    "RF = RandomForestRegressor(criterion = \"mse\",random_state=42,n_estimators = 100,n_jobs=-1)\n",
    "RF.fit(features_train, target_train)"
   ]
  },
  {
   "cell_type": "code",
   "execution_count": 53,
   "metadata": {},
   "outputs": [
    {
     "name": "stdout",
     "output_type": "stream",
     "text": [
      "-2107.0455171262834\n",
      "CPU times: user 2min 39s, sys: 1.99 s, total: 2min 41s\n",
      "Wall time: 2min 41s\n"
     ]
    }
   ],
   "source": [
    "%%time\n",
    "RF = RandomForestRegressor(criterion = \"mse\",random_state=42,n_estimators = 100)\n",
    "score_rf = cross_val_score(RF, features_train,target_train, cv=5, scoring='neg_root_mean_squared_error').mean() \n",
    "print(score_rf)"
   ]
  },
  {
   "cell_type": "markdown",
   "metadata": {},
   "source": [
    "Лучшее время обучения у модели CatBoostRegressor"
   ]
  },
  {
   "cell_type": "markdown",
   "metadata": {},
   "source": [
    "# Измерение времени предсказания моделей "
   ]
  },
  {
   "cell_type": "code",
   "execution_count": 54,
   "metadata": {},
   "outputs": [
    {
     "name": "stdout",
     "output_type": "stream",
     "text": [
      "Train RMSE : 2051.14 \n",
      "CPU times: user 106 ms, sys: 3.96 ms, total: 110 ms\n",
      "Wall time: 113 ms\n"
     ]
    }
   ],
   "source": [
    "%%time\n",
    "cat_pred = cat_model.predict(features_train)\n",
    "print('Train RMSE : {:.2f} '.format(mse(target_train, cat_pred)**0.5))"
   ]
  },
  {
   "cell_type": "code",
   "execution_count": 56,
   "metadata": {},
   "outputs": [
    {
     "name": "stdout",
     "output_type": "stream",
     "text": [
      "Train RMSE = 2118.22\n",
      "CPU times: user 2.5 s, sys: 0 ns, total: 2.5 s\n",
      "Wall time: 2.49 s\n"
     ]
    }
   ],
   "source": [
    "%%time\n",
    "predict_lgb = model_lgb.predict(features_train)\n",
    "print('Train RMSE = {:.2f}'.format(mse(target_train, predict_lgb)**0.5))"
   ]
  },
  {
   "cell_type": "markdown",
   "metadata": {},
   "source": [
    "Лучшее время предсказания у модели CatBoostRegressor у нее же и самое низкое значение метрики."
   ]
  },
  {
   "cell_type": "markdown",
   "metadata": {},
   "source": [
    "## Анализ моделей"
   ]
  },
  {
   "cell_type": "markdown",
   "metadata": {},
   "source": [
    "# Вывод:\n",
    "Из всего вышеизложенного мы видим, что быстрее всего обучается модель CatBoostRegressor. Также у нее лучшее время на предсказании на тренировочной выборке. И самая наименьшая ошибка у нее же. Посмотрим на результаты на тестовой выборке."
   ]
  },
  {
   "cell_type": "code",
   "execution_count": 60,
   "metadata": {},
   "outputs": [
    {
     "name": "stdout",
     "output_type": "stream",
     "text": [
      "Train RMSE : 2249.91 \n",
      "CPU times: user 33.2 ms, sys: 4.05 ms, total: 37.3 ms\n",
      "Wall time: 35.5 ms\n"
     ]
    }
   ],
   "source": [
    "%%time\n",
    "cat_pred = cat_model.predict(features_test)\n",
    "print('Train RMSE : {:.2f} '.format(mse(target_test, cat_pred)**0.5))"
   ]
  },
  {
   "cell_type": "markdown",
   "metadata": {},
   "source": [
    " Ошибка RMSE увеличилась, но значение метрики находится в пределах условия проекта. "
   ]
  }
 ],
 "metadata": {
  "ExecuteTimeLog": [
   {
    "duration": 1561,
    "start_time": "2023-01-23T07:17:16.940Z"
   },
   {
    "duration": 1233,
    "start_time": "2023-01-23T07:18:03.267Z"
   },
   {
    "duration": 17,
    "start_time": "2023-01-23T07:21:21.372Z"
   },
   {
    "duration": 90,
    "start_time": "2023-01-23T07:36:38.498Z"
   },
   {
    "duration": 24,
    "start_time": "2023-01-23T07:55:33.925Z"
   },
   {
    "duration": 108,
    "start_time": "2023-01-23T07:55:34.914Z"
   },
   {
    "duration": 102,
    "start_time": "2023-01-23T08:03:32.833Z"
   },
   {
    "duration": 95,
    "start_time": "2023-01-23T08:07:54.841Z"
   },
   {
    "duration": 54,
    "start_time": "2023-01-23T08:08:02.088Z"
   },
   {
    "duration": 113,
    "start_time": "2023-01-23T08:09:32.619Z"
   },
   {
    "duration": 4,
    "start_time": "2023-01-23T08:13:09.472Z"
   },
   {
    "duration": 9,
    "start_time": "2023-01-23T08:16:26.016Z"
   },
   {
    "duration": 9,
    "start_time": "2023-01-23T08:16:32.405Z"
   },
   {
    "duration": 4,
    "start_time": "2023-01-23T08:16:42.698Z"
   },
   {
    "duration": 3,
    "start_time": "2023-01-23T08:17:09.909Z"
   },
   {
    "duration": 111,
    "start_time": "2023-01-23T08:17:59.671Z"
   },
   {
    "duration": 132,
    "start_time": "2023-01-23T08:19:21.896Z"
   },
   {
    "duration": 223,
    "start_time": "2023-01-23T08:22:09.037Z"
   },
   {
    "duration": 53,
    "start_time": "2023-01-23T08:23:53.481Z"
   },
   {
    "duration": 6,
    "start_time": "2023-01-23T08:24:42.674Z"
   },
   {
    "duration": 6,
    "start_time": "2023-01-23T08:25:50.970Z"
   },
   {
    "duration": 4,
    "start_time": "2023-01-23T08:26:33.661Z"
   },
   {
    "duration": 4,
    "start_time": "2023-01-23T08:30:39.921Z"
   },
   {
    "duration": 7,
    "start_time": "2023-01-23T08:31:28.726Z"
   },
   {
    "duration": 8,
    "start_time": "2023-01-23T08:32:18.478Z"
   },
   {
    "duration": 63,
    "start_time": "2023-01-23T08:32:33.508Z"
   },
   {
    "duration": 44,
    "start_time": "2023-01-23T08:36:19.165Z"
   },
   {
    "duration": 56,
    "start_time": "2023-01-23T08:36:19.793Z"
   },
   {
    "duration": 9,
    "start_time": "2023-01-23T08:48:20.925Z"
   },
   {
    "duration": 1379,
    "start_time": "2023-01-23T08:49:05.127Z"
   },
   {
    "duration": 908,
    "start_time": "2023-01-23T08:49:06.508Z"
   },
   {
    "duration": 6,
    "start_time": "2023-01-23T08:49:07.417Z"
   },
   {
    "duration": 18,
    "start_time": "2023-01-23T08:49:07.426Z"
   },
   {
    "duration": 116,
    "start_time": "2023-01-23T08:49:07.446Z"
   },
   {
    "duration": 25,
    "start_time": "2023-01-23T08:49:07.564Z"
   },
   {
    "duration": 137,
    "start_time": "2023-01-23T08:49:07.591Z"
   },
   {
    "duration": 100,
    "start_time": "2023-01-23T08:49:07.730Z"
   },
   {
    "duration": 123,
    "start_time": "2023-01-23T08:49:07.832Z"
   },
   {
    "duration": 5,
    "start_time": "2023-01-23T08:49:07.958Z"
   },
   {
    "duration": 125,
    "start_time": "2023-01-23T08:49:07.964Z"
   },
   {
    "duration": 141,
    "start_time": "2023-01-23T08:49:08.091Z"
   },
   {
    "duration": 236,
    "start_time": "2023-01-23T08:49:08.233Z"
   },
   {
    "duration": 61,
    "start_time": "2023-01-23T08:49:08.471Z"
   },
   {
    "duration": 6,
    "start_time": "2023-01-23T08:49:08.534Z"
   },
   {
    "duration": 6,
    "start_time": "2023-01-23T08:49:08.541Z"
   },
   {
    "duration": 6,
    "start_time": "2023-01-23T08:49:08.548Z"
   },
   {
    "duration": 67,
    "start_time": "2023-01-23T08:49:08.555Z"
   },
   {
    "duration": 50,
    "start_time": "2023-01-23T08:49:08.624Z"
   },
   {
    "duration": 258,
    "start_time": "2023-01-23T08:49:08.675Z"
   },
   {
    "duration": 1580,
    "start_time": "2023-01-23T08:49:42.633Z"
   },
   {
    "duration": 0,
    "start_time": "2023-01-23T08:49:44.218Z"
   },
   {
    "duration": 0,
    "start_time": "2023-01-23T08:49:44.219Z"
   },
   {
    "duration": 0,
    "start_time": "2023-01-23T08:49:44.220Z"
   },
   {
    "duration": 0,
    "start_time": "2023-01-23T08:49:44.221Z"
   },
   {
    "duration": 0,
    "start_time": "2023-01-23T08:49:44.222Z"
   },
   {
    "duration": 0,
    "start_time": "2023-01-23T08:49:44.223Z"
   },
   {
    "duration": 0,
    "start_time": "2023-01-23T08:49:44.225Z"
   },
   {
    "duration": 0,
    "start_time": "2023-01-23T08:49:44.226Z"
   },
   {
    "duration": 0,
    "start_time": "2023-01-23T08:49:44.228Z"
   },
   {
    "duration": 0,
    "start_time": "2023-01-23T08:49:44.229Z"
   },
   {
    "duration": 0,
    "start_time": "2023-01-23T08:49:44.230Z"
   },
   {
    "duration": 0,
    "start_time": "2023-01-23T08:49:44.232Z"
   },
   {
    "duration": 0,
    "start_time": "2023-01-23T08:49:44.234Z"
   },
   {
    "duration": 1,
    "start_time": "2023-01-23T08:49:44.235Z"
   },
   {
    "duration": 0,
    "start_time": "2023-01-23T08:49:44.237Z"
   },
   {
    "duration": 0,
    "start_time": "2023-01-23T08:49:44.238Z"
   },
   {
    "duration": 0,
    "start_time": "2023-01-23T08:49:44.239Z"
   },
   {
    "duration": 0,
    "start_time": "2023-01-23T08:49:44.241Z"
   },
   {
    "duration": 0,
    "start_time": "2023-01-23T08:49:44.242Z"
   },
   {
    "duration": 1631,
    "start_time": "2023-01-23T08:50:23.539Z"
   },
   {
    "duration": 962,
    "start_time": "2023-01-23T08:50:25.173Z"
   },
   {
    "duration": 6,
    "start_time": "2023-01-23T08:50:26.137Z"
   },
   {
    "duration": 84,
    "start_time": "2023-01-23T08:50:26.145Z"
   },
   {
    "duration": 100,
    "start_time": "2023-01-23T08:50:26.230Z"
   },
   {
    "duration": 25,
    "start_time": "2023-01-23T08:50:26.332Z"
   },
   {
    "duration": 122,
    "start_time": "2023-01-23T08:50:26.358Z"
   },
   {
    "duration": 100,
    "start_time": "2023-01-23T08:50:26.482Z"
   },
   {
    "duration": 59,
    "start_time": "2023-01-23T08:50:26.584Z"
   },
   {
    "duration": 6,
    "start_time": "2023-01-23T08:50:26.647Z"
   },
   {
    "duration": 134,
    "start_time": "2023-01-23T08:50:26.654Z"
   },
   {
    "duration": 127,
    "start_time": "2023-01-23T08:50:26.789Z"
   },
   {
    "duration": 232,
    "start_time": "2023-01-23T08:50:26.917Z"
   },
   {
    "duration": 57,
    "start_time": "2023-01-23T08:50:27.151Z"
   },
   {
    "duration": 10,
    "start_time": "2023-01-23T08:50:27.210Z"
   },
   {
    "duration": 9,
    "start_time": "2023-01-23T08:50:27.222Z"
   },
   {
    "duration": 8,
    "start_time": "2023-01-23T08:50:27.232Z"
   },
   {
    "duration": 72,
    "start_time": "2023-01-23T08:50:27.242Z"
   },
   {
    "duration": 48,
    "start_time": "2023-01-23T08:50:27.316Z"
   },
   {
    "duration": 245,
    "start_time": "2023-01-23T08:50:27.366Z"
   },
   {
    "duration": 17,
    "start_time": "2023-01-23T09:00:46.473Z"
   },
   {
    "duration": 17,
    "start_time": "2023-01-23T09:01:14.223Z"
   },
   {
    "duration": 16,
    "start_time": "2023-01-23T09:01:30.811Z"
   },
   {
    "duration": 13,
    "start_time": "2023-01-23T09:01:31.412Z"
   },
   {
    "duration": 18,
    "start_time": "2023-01-23T09:01:41.829Z"
   },
   {
    "duration": 16,
    "start_time": "2023-01-23T09:01:43.360Z"
   },
   {
    "duration": 47,
    "start_time": "2023-01-23T09:03:52.702Z"
   },
   {
    "duration": 387,
    "start_time": "2023-01-23T09:05:24.229Z"
   },
   {
    "duration": 15,
    "start_time": "2023-01-23T09:06:26.680Z"
   },
   {
    "duration": 127,
    "start_time": "2023-01-23T09:09:23.685Z"
   },
   {
    "duration": 191,
    "start_time": "2023-01-23T09:10:51.209Z"
   },
   {
    "duration": 130,
    "start_time": "2023-01-23T09:11:45.812Z"
   },
   {
    "duration": 1450,
    "start_time": "2023-01-23T09:12:26.485Z"
   },
   {
    "duration": 938,
    "start_time": "2023-01-23T09:12:27.937Z"
   },
   {
    "duration": 6,
    "start_time": "2023-01-23T09:12:28.877Z"
   },
   {
    "duration": 28,
    "start_time": "2023-01-23T09:12:28.884Z"
   },
   {
    "duration": 122,
    "start_time": "2023-01-23T09:12:28.915Z"
   },
   {
    "duration": 25,
    "start_time": "2023-01-23T09:12:29.039Z"
   },
   {
    "duration": 130,
    "start_time": "2023-01-23T09:12:29.066Z"
   },
   {
    "duration": 121,
    "start_time": "2023-01-23T09:12:29.198Z"
   },
   {
    "duration": 54,
    "start_time": "2023-01-23T09:12:29.321Z"
   },
   {
    "duration": 47,
    "start_time": "2023-01-23T09:12:29.378Z"
   },
   {
    "duration": 127,
    "start_time": "2023-01-23T09:12:29.427Z"
   },
   {
    "duration": 144,
    "start_time": "2023-01-23T09:12:29.557Z"
   },
   {
    "duration": 240,
    "start_time": "2023-01-23T09:12:29.703Z"
   },
   {
    "duration": 81,
    "start_time": "2023-01-23T09:12:29.945Z"
   },
   {
    "duration": 9,
    "start_time": "2023-01-23T09:12:30.028Z"
   },
   {
    "duration": 23,
    "start_time": "2023-01-23T09:12:30.040Z"
   },
   {
    "duration": 27,
    "start_time": "2023-01-23T09:12:30.065Z"
   },
   {
    "duration": 88,
    "start_time": "2023-01-23T09:12:30.095Z"
   },
   {
    "duration": 72,
    "start_time": "2023-01-23T09:12:30.185Z"
   },
   {
    "duration": 287,
    "start_time": "2023-01-23T09:12:30.260Z"
   },
   {
    "duration": 18,
    "start_time": "2023-01-23T09:12:30.548Z"
   },
   {
    "duration": 77,
    "start_time": "2023-01-23T09:12:30.568Z"
   },
   {
    "duration": 124,
    "start_time": "2023-01-23T09:12:30.647Z"
   },
   {
    "duration": 464,
    "start_time": "2023-01-23T09:12:30.772Z"
   },
   {
    "duration": 16,
    "start_time": "2023-01-23T09:12:31.238Z"
   },
   {
    "duration": 139,
    "start_time": "2023-01-23T09:12:31.255Z"
   },
   {
    "duration": 209,
    "start_time": "2023-01-23T09:12:31.396Z"
   },
   {
    "duration": 136,
    "start_time": "2023-01-23T09:12:31.608Z"
   },
   {
    "duration": 1447,
    "start_time": "2023-01-23T10:41:22.382Z"
   },
   {
    "duration": 995,
    "start_time": "2023-01-23T10:41:23.832Z"
   },
   {
    "duration": 5,
    "start_time": "2023-01-23T10:41:24.829Z"
   },
   {
    "duration": 44,
    "start_time": "2023-01-23T10:41:24.836Z"
   },
   {
    "duration": 112,
    "start_time": "2023-01-23T10:41:24.882Z"
   },
   {
    "duration": 27,
    "start_time": "2023-01-23T10:41:24.995Z"
   },
   {
    "duration": 154,
    "start_time": "2023-01-23T10:41:25.024Z"
   },
   {
    "duration": 106,
    "start_time": "2023-01-23T10:41:25.180Z"
   },
   {
    "duration": 95,
    "start_time": "2023-01-23T10:41:25.287Z"
   },
   {
    "duration": 38,
    "start_time": "2023-01-23T10:41:25.385Z"
   },
   {
    "duration": 139,
    "start_time": "2023-01-23T10:41:25.426Z"
   },
   {
    "duration": 136,
    "start_time": "2023-01-23T10:41:25.568Z"
   },
   {
    "duration": 231,
    "start_time": "2023-01-23T10:41:25.706Z"
   },
   {
    "duration": 54,
    "start_time": "2023-01-23T10:41:25.938Z"
   },
   {
    "duration": 8,
    "start_time": "2023-01-23T10:41:26.003Z"
   },
   {
    "duration": 37,
    "start_time": "2023-01-23T10:41:26.012Z"
   },
   {
    "duration": 39,
    "start_time": "2023-01-23T10:41:26.051Z"
   },
   {
    "duration": 79,
    "start_time": "2023-01-23T10:41:26.092Z"
   },
   {
    "duration": 47,
    "start_time": "2023-01-23T10:41:26.172Z"
   },
   {
    "duration": 244,
    "start_time": "2023-01-23T10:41:26.221Z"
   },
   {
    "duration": 15,
    "start_time": "2023-01-23T10:41:26.467Z"
   },
   {
    "duration": 30,
    "start_time": "2023-01-23T10:41:26.484Z"
   },
   {
    "duration": 85,
    "start_time": "2023-01-23T10:41:26.516Z"
   },
   {
    "duration": 386,
    "start_time": "2023-01-23T10:41:26.602Z"
   },
   {
    "duration": 19,
    "start_time": "2023-01-23T10:41:26.990Z"
   },
   {
    "duration": 142,
    "start_time": "2023-01-23T10:41:27.011Z"
   },
   {
    "duration": 214,
    "start_time": "2023-01-23T10:41:27.155Z"
   },
   {
    "duration": 126,
    "start_time": "2023-01-23T10:41:27.372Z"
   },
   {
    "duration": 4,
    "start_time": "2023-01-23T10:56:16.152Z"
   },
   {
    "duration": 3,
    "start_time": "2023-01-23T10:56:31.618Z"
   },
   {
    "duration": 1604,
    "start_time": "2023-01-24T06:35:13.164Z"
   },
   {
    "duration": 3216,
    "start_time": "2023-01-24T06:35:14.770Z"
   },
   {
    "duration": 5,
    "start_time": "2023-01-24T06:35:17.988Z"
   },
   {
    "duration": 17,
    "start_time": "2023-01-24T06:35:17.995Z"
   },
   {
    "duration": 115,
    "start_time": "2023-01-24T06:35:18.014Z"
   },
   {
    "duration": 25,
    "start_time": "2023-01-24T06:35:18.131Z"
   },
   {
    "duration": 124,
    "start_time": "2023-01-24T06:35:18.158Z"
   },
   {
    "duration": 100,
    "start_time": "2023-01-24T06:35:18.284Z"
   },
   {
    "duration": 54,
    "start_time": "2023-01-24T06:35:18.385Z"
   },
   {
    "duration": 5,
    "start_time": "2023-01-24T06:35:18.441Z"
   },
   {
    "duration": 134,
    "start_time": "2023-01-24T06:35:18.448Z"
   },
   {
    "duration": 140,
    "start_time": "2023-01-24T06:35:18.584Z"
   },
   {
    "duration": 268,
    "start_time": "2023-01-24T06:35:18.725Z"
   },
   {
    "duration": 54,
    "start_time": "2023-01-24T06:35:18.995Z"
   },
   {
    "duration": 6,
    "start_time": "2023-01-24T06:35:19.050Z"
   },
   {
    "duration": 24,
    "start_time": "2023-01-24T06:35:19.058Z"
   },
   {
    "duration": 5,
    "start_time": "2023-01-24T06:35:19.084Z"
   },
   {
    "duration": 55,
    "start_time": "2023-01-24T06:35:19.090Z"
   },
   {
    "duration": 60,
    "start_time": "2023-01-24T06:35:19.147Z"
   },
   {
    "duration": 239,
    "start_time": "2023-01-24T06:35:19.209Z"
   },
   {
    "duration": 17,
    "start_time": "2023-01-24T06:35:19.449Z"
   },
   {
    "duration": 24,
    "start_time": "2023-01-24T06:35:19.468Z"
   },
   {
    "duration": 47,
    "start_time": "2023-01-24T06:35:19.494Z"
   },
   {
    "duration": 404,
    "start_time": "2023-01-24T06:35:19.543Z"
   },
   {
    "duration": 15,
    "start_time": "2023-01-24T06:35:19.949Z"
   },
   {
    "duration": 139,
    "start_time": "2023-01-24T06:35:19.966Z"
   },
   {
    "duration": 189,
    "start_time": "2023-01-24T06:35:20.107Z"
   },
   {
    "duration": 140,
    "start_time": "2023-01-24T06:35:20.300Z"
   },
   {
    "duration": 5,
    "start_time": "2023-01-24T06:35:20.441Z"
   },
   {
    "duration": 5051,
    "start_time": "2023-01-24T06:35:20.448Z"
   },
   {
    "duration": 599,
    "start_time": "2023-01-24T06:35:25.501Z"
   },
   {
    "duration": 3,
    "start_time": "2023-01-24T06:35:26.102Z"
   },
   {
    "duration": 3287,
    "start_time": "2023-01-24T06:35:26.106Z"
   },
   {
    "duration": 453,
    "start_time": "2023-01-24T06:35:29.395Z"
   },
   {
    "duration": 1462,
    "start_time": "2023-01-24T06:36:58.511Z"
   },
   {
    "duration": 978,
    "start_time": "2023-01-24T06:36:59.974Z"
   },
   {
    "duration": 6,
    "start_time": "2023-01-24T06:37:00.953Z"
   },
   {
    "duration": 35,
    "start_time": "2023-01-24T06:37:00.961Z"
   },
   {
    "duration": 120,
    "start_time": "2023-01-24T06:37:00.998Z"
   },
   {
    "duration": 21,
    "start_time": "2023-01-24T06:37:01.119Z"
   },
   {
    "duration": 125,
    "start_time": "2023-01-24T06:37:01.142Z"
   },
   {
    "duration": 89,
    "start_time": "2023-01-24T06:37:01.268Z"
   },
   {
    "duration": 59,
    "start_time": "2023-01-24T06:37:01.359Z"
   },
   {
    "duration": 18,
    "start_time": "2023-01-24T06:37:01.421Z"
   },
   {
    "duration": 130,
    "start_time": "2023-01-24T06:37:01.440Z"
   },
   {
    "duration": 137,
    "start_time": "2023-01-24T06:37:01.572Z"
   },
   {
    "duration": 227,
    "start_time": "2023-01-24T06:37:01.711Z"
   },
   {
    "duration": 68,
    "start_time": "2023-01-24T06:37:01.939Z"
   },
   {
    "duration": 6,
    "start_time": "2023-01-24T06:37:02.009Z"
   },
   {
    "duration": 17,
    "start_time": "2023-01-24T06:37:02.017Z"
   },
   {
    "duration": 22,
    "start_time": "2023-01-24T06:37:02.035Z"
   },
   {
    "duration": 52,
    "start_time": "2023-01-24T06:37:02.058Z"
   },
   {
    "duration": 49,
    "start_time": "2023-01-24T06:37:02.112Z"
   },
   {
    "duration": 252,
    "start_time": "2023-01-24T06:37:02.164Z"
   },
   {
    "duration": 18,
    "start_time": "2023-01-24T06:37:02.418Z"
   },
   {
    "duration": 14,
    "start_time": "2023-01-24T06:37:02.438Z"
   },
   {
    "duration": 70,
    "start_time": "2023-01-24T06:37:02.453Z"
   },
   {
    "duration": 409,
    "start_time": "2023-01-24T06:37:02.525Z"
   },
   {
    "duration": 16,
    "start_time": "2023-01-24T06:37:02.936Z"
   },
   {
    "duration": 143,
    "start_time": "2023-01-24T06:37:02.954Z"
   },
   {
    "duration": 220,
    "start_time": "2023-01-24T06:37:03.099Z"
   },
   {
    "duration": 135,
    "start_time": "2023-01-24T06:37:03.322Z"
   },
   {
    "duration": 5,
    "start_time": "2023-01-24T06:37:03.459Z"
   },
   {
    "duration": 41027,
    "start_time": "2023-01-24T06:37:03.466Z"
   },
   {
    "duration": 397,
    "start_time": "2023-01-24T06:37:44.495Z"
   },
   {
    "duration": 3,
    "start_time": "2023-01-24T06:37:44.894Z"
   },
   {
    "duration": 5796,
    "start_time": "2023-01-24T06:37:44.899Z"
   },
   {
    "duration": 397,
    "start_time": "2023-01-24T06:37:50.697Z"
   },
   {
    "duration": 98,
    "start_time": "2023-01-24T06:37:51.095Z"
   },
   {
    "duration": 55,
    "start_time": "2023-01-24T06:38:22.367Z"
   },
   {
    "duration": 3,
    "start_time": "2023-01-24T06:38:41.797Z"
   },
   {
    "duration": 5,
    "start_time": "2023-01-24T06:38:46.230Z"
   },
   {
    "duration": 107,
    "start_time": "2023-01-24T06:38:48.487Z"
   },
   {
    "duration": 16,
    "start_time": "2023-01-24T06:39:49.108Z"
   },
   {
    "duration": 2558,
    "start_time": "2023-01-24T06:41:18.998Z"
   },
   {
    "duration": 18,
    "start_time": "2023-01-24T06:41:26.714Z"
   },
   {
    "duration": 3,
    "start_time": "2023-01-24T06:41:30.529Z"
   },
   {
    "duration": 2363,
    "start_time": "2023-01-24T06:41:38.757Z"
   },
   {
    "duration": 25,
    "start_time": "2023-01-24T06:41:46.422Z"
   },
   {
    "duration": 3,
    "start_time": "2023-01-24T06:44:07.430Z"
   },
   {
    "duration": 4948,
    "start_time": "2023-01-24T06:44:09.441Z"
   },
   {
    "duration": 5681,
    "start_time": "2023-01-24T06:44:29.206Z"
   },
   {
    "duration": 4,
    "start_time": "2023-01-24T06:44:54.876Z"
   },
   {
    "duration": 8387,
    "start_time": "2023-01-24T06:44:56.908Z"
   },
   {
    "duration": 460,
    "start_time": "2023-01-24T06:45:12.339Z"
   },
   {
    "duration": 4,
    "start_time": "2023-01-24T06:47:26.832Z"
   },
   {
    "duration": 13238,
    "start_time": "2023-01-24T06:47:28.650Z"
   },
   {
    "duration": 3,
    "start_time": "2023-01-24T06:47:56.850Z"
   },
   {
    "duration": 5590,
    "start_time": "2023-01-24T06:48:06.595Z"
   },
   {
    "duration": 445,
    "start_time": "2023-01-24T06:48:23.452Z"
   },
   {
    "duration": 2,
    "start_time": "2023-01-24T06:48:29.920Z"
   },
   {
    "duration": 4,
    "start_time": "2023-01-24T06:48:36.364Z"
   },
   {
    "duration": 9,
    "start_time": "2023-01-24T06:48:40.927Z"
   },
   {
    "duration": 2,
    "start_time": "2023-01-24T06:48:47.616Z"
   },
   {
    "duration": 2226,
    "start_time": "2023-01-24T06:48:50.838Z"
   },
   {
    "duration": 16,
    "start_time": "2023-01-24T06:48:55.946Z"
   },
   {
    "duration": 3,
    "start_time": "2023-01-24T06:49:00.773Z"
   },
   {
    "duration": 3,
    "start_time": "2023-01-24T06:49:12.470Z"
   },
   {
    "duration": 3,
    "start_time": "2023-01-24T06:49:16.080Z"
   },
   {
    "duration": 2326,
    "start_time": "2023-01-24T06:49:18.108Z"
   },
   {
    "duration": 24,
    "start_time": "2023-01-24T06:49:25.814Z"
   },
   {
    "duration": 3,
    "start_time": "2023-01-24T06:55:50.441Z"
   },
   {
    "duration": 16,
    "start_time": "2023-01-24T06:56:04.808Z"
   },
   {
    "duration": 24,
    "start_time": "2023-01-24T06:56:16.324Z"
   },
   {
    "duration": 2978,
    "start_time": "2023-01-25T02:49:07.312Z"
   },
   {
    "duration": 3030,
    "start_time": "2023-01-25T02:49:11.053Z"
   },
   {
    "duration": 5,
    "start_time": "2023-01-25T02:49:14.085Z"
   },
   {
    "duration": 18,
    "start_time": "2023-01-25T02:49:14.091Z"
   },
   {
    "duration": 88,
    "start_time": "2023-01-25T02:49:14.111Z"
   },
   {
    "duration": 21,
    "start_time": "2023-01-25T02:49:14.200Z"
   },
   {
    "duration": 128,
    "start_time": "2023-01-25T02:49:14.222Z"
   },
   {
    "duration": 114,
    "start_time": "2023-01-25T02:49:14.352Z"
   },
   {
    "duration": 61,
    "start_time": "2023-01-25T02:49:14.468Z"
   },
   {
    "duration": 20,
    "start_time": "2023-01-25T02:49:14.531Z"
   },
   {
    "duration": 116,
    "start_time": "2023-01-25T02:49:14.553Z"
   },
   {
    "duration": 128,
    "start_time": "2023-01-25T02:49:14.670Z"
   },
   {
    "duration": 243,
    "start_time": "2023-01-25T02:49:14.800Z"
   },
   {
    "duration": 46,
    "start_time": "2023-01-25T02:49:15.045Z"
   },
   {
    "duration": 6,
    "start_time": "2023-01-25T02:49:15.093Z"
   },
   {
    "duration": 4,
    "start_time": "2023-01-25T02:49:15.101Z"
   },
   {
    "duration": 6,
    "start_time": "2023-01-25T02:49:15.107Z"
   },
   {
    "duration": 70,
    "start_time": "2023-01-25T02:49:15.114Z"
   },
   {
    "duration": 44,
    "start_time": "2023-01-25T02:49:15.186Z"
   },
   {
    "duration": 236,
    "start_time": "2023-01-25T02:49:15.232Z"
   },
   {
    "duration": 16,
    "start_time": "2023-01-25T02:49:15.470Z"
   },
   {
    "duration": 12,
    "start_time": "2023-01-25T02:49:15.488Z"
   },
   {
    "duration": 56,
    "start_time": "2023-01-25T02:49:15.583Z"
   },
   {
    "duration": 347,
    "start_time": "2023-01-25T02:49:15.924Z"
   },
   {
    "duration": 20,
    "start_time": "2023-01-25T02:49:16.273Z"
   },
   {
    "duration": 119,
    "start_time": "2023-01-25T02:49:16.452Z"
   },
   {
    "duration": 173,
    "start_time": "2023-01-25T02:49:18.877Z"
   },
   {
    "duration": 189,
    "start_time": "2023-01-25T02:49:19.053Z"
   },
   {
    "duration": 28,
    "start_time": "2023-01-25T03:03:15.653Z"
   },
   {
    "duration": 46,
    "start_time": "2023-01-25T07:42:16.879Z"
   },
   {
    "duration": 1572,
    "start_time": "2023-01-25T07:42:26.031Z"
   },
   {
    "duration": 3059,
    "start_time": "2023-01-25T07:42:27.605Z"
   },
   {
    "duration": 5,
    "start_time": "2023-01-25T07:42:30.666Z"
   },
   {
    "duration": 52,
    "start_time": "2023-01-25T07:42:30.673Z"
   },
   {
    "duration": 181,
    "start_time": "2023-01-25T07:42:30.727Z"
   },
   {
    "duration": 24,
    "start_time": "2023-01-25T07:42:30.910Z"
   },
   {
    "duration": 181,
    "start_time": "2023-01-25T07:42:30.943Z"
   },
   {
    "duration": 108,
    "start_time": "2023-01-25T07:42:31.126Z"
   },
   {
    "duration": 66,
    "start_time": "2023-01-25T07:42:31.236Z"
   },
   {
    "duration": 12,
    "start_time": "2023-01-25T07:42:31.304Z"
   },
   {
    "duration": 132,
    "start_time": "2023-01-25T07:42:31.318Z"
   },
   {
    "duration": 134,
    "start_time": "2023-01-25T07:42:31.452Z"
   },
   {
    "duration": 59,
    "start_time": "2023-01-25T07:42:31.587Z"
   },
   {
    "duration": 6,
    "start_time": "2023-01-25T07:42:31.647Z"
   },
   {
    "duration": 18,
    "start_time": "2023-01-25T07:42:31.654Z"
   },
   {
    "duration": 37,
    "start_time": "2023-01-25T07:42:31.674Z"
   },
   {
    "duration": 51,
    "start_time": "2023-01-25T07:42:31.713Z"
   },
   {
    "duration": 48,
    "start_time": "2023-01-25T07:42:31.765Z"
   },
   {
    "duration": 45,
    "start_time": "2023-01-25T07:42:31.815Z"
   },
   {
    "duration": 228,
    "start_time": "2023-01-25T07:42:31.862Z"
   },
   {
    "duration": 16,
    "start_time": "2023-01-25T07:42:32.092Z"
   },
   {
    "duration": 19,
    "start_time": "2023-01-25T07:42:32.110Z"
   },
   {
    "duration": 61,
    "start_time": "2023-01-25T07:42:32.131Z"
   },
   {
    "duration": 418,
    "start_time": "2023-01-25T07:42:32.193Z"
   },
   {
    "duration": 13,
    "start_time": "2023-01-25T07:42:32.613Z"
   },
   {
    "duration": 159,
    "start_time": "2023-01-25T07:42:32.628Z"
   },
   {
    "duration": 199,
    "start_time": "2023-01-25T07:42:32.788Z"
   },
   {
    "duration": 124,
    "start_time": "2023-01-25T07:42:32.990Z"
   },
   {
    "duration": 0,
    "start_time": "2023-01-25T07:42:33.116Z"
   },
   {
    "duration": 0,
    "start_time": "2023-01-25T07:42:33.117Z"
   },
   {
    "duration": 0,
    "start_time": "2023-01-25T07:42:33.118Z"
   },
   {
    "duration": 0,
    "start_time": "2023-01-25T07:42:33.119Z"
   },
   {
    "duration": 0,
    "start_time": "2023-01-25T07:42:33.121Z"
   },
   {
    "duration": 0,
    "start_time": "2023-01-25T07:42:33.122Z"
   },
   {
    "duration": 0,
    "start_time": "2023-01-25T07:42:33.122Z"
   },
   {
    "duration": 0,
    "start_time": "2023-01-25T07:42:33.123Z"
   },
   {
    "duration": 0,
    "start_time": "2023-01-25T07:42:33.125Z"
   },
   {
    "duration": 0,
    "start_time": "2023-01-25T07:42:33.125Z"
   },
   {
    "duration": 0,
    "start_time": "2023-01-25T07:42:33.126Z"
   },
   {
    "duration": 0,
    "start_time": "2023-01-25T07:42:33.127Z"
   },
   {
    "duration": 0,
    "start_time": "2023-01-25T07:42:33.143Z"
   },
   {
    "duration": 0,
    "start_time": "2023-01-25T07:42:33.144Z"
   },
   {
    "duration": 2,
    "start_time": "2023-01-25T07:56:55.865Z"
   },
   {
    "duration": 61,
    "start_time": "2023-01-25T07:59:00.865Z"
   },
   {
    "duration": 721,
    "start_time": "2023-01-25T07:59:12.392Z"
   },
   {
    "duration": 988,
    "start_time": "2023-01-25T08:15:58.460Z"
   },
   {
    "duration": 15,
    "start_time": "2023-01-25T08:16:42.680Z"
   },
   {
    "duration": 13,
    "start_time": "2023-01-25T08:16:55.143Z"
   },
   {
    "duration": 1383,
    "start_time": "2023-01-25T08:18:26.328Z"
   },
   {
    "duration": 910,
    "start_time": "2023-01-25T08:18:27.713Z"
   },
   {
    "duration": 5,
    "start_time": "2023-01-25T08:18:28.625Z"
   },
   {
    "duration": 15,
    "start_time": "2023-01-25T08:18:28.643Z"
   },
   {
    "duration": 105,
    "start_time": "2023-01-25T08:18:28.659Z"
   },
   {
    "duration": 33,
    "start_time": "2023-01-25T08:18:28.766Z"
   },
   {
    "duration": 175,
    "start_time": "2023-01-25T08:18:28.801Z"
   },
   {
    "duration": 3,
    "start_time": "2023-01-25T08:18:28.978Z"
   },
   {
    "duration": 9,
    "start_time": "2023-01-25T08:18:28.982Z"
   },
   {
    "duration": 16,
    "start_time": "2023-01-25T08:18:28.994Z"
   },
   {
    "duration": 884,
    "start_time": "2023-01-25T08:18:29.012Z"
   },
   {
    "duration": 0,
    "start_time": "2023-01-25T08:18:29.899Z"
   },
   {
    "duration": 0,
    "start_time": "2023-01-25T08:18:29.900Z"
   },
   {
    "duration": 0,
    "start_time": "2023-01-25T08:18:29.901Z"
   },
   {
    "duration": 0,
    "start_time": "2023-01-25T08:18:29.902Z"
   },
   {
    "duration": 0,
    "start_time": "2023-01-25T08:18:29.902Z"
   },
   {
    "duration": 0,
    "start_time": "2023-01-25T08:18:29.904Z"
   },
   {
    "duration": 0,
    "start_time": "2023-01-25T08:18:29.904Z"
   },
   {
    "duration": 0,
    "start_time": "2023-01-25T08:18:29.905Z"
   },
   {
    "duration": 0,
    "start_time": "2023-01-25T08:18:29.906Z"
   },
   {
    "duration": 0,
    "start_time": "2023-01-25T08:18:29.907Z"
   },
   {
    "duration": 0,
    "start_time": "2023-01-25T08:18:29.908Z"
   },
   {
    "duration": 0,
    "start_time": "2023-01-25T08:18:29.909Z"
   },
   {
    "duration": 0,
    "start_time": "2023-01-25T08:18:29.910Z"
   },
   {
    "duration": 0,
    "start_time": "2023-01-25T08:18:29.910Z"
   },
   {
    "duration": 0,
    "start_time": "2023-01-25T08:18:29.911Z"
   },
   {
    "duration": 0,
    "start_time": "2023-01-25T08:18:29.913Z"
   },
   {
    "duration": 0,
    "start_time": "2023-01-25T08:18:29.914Z"
   },
   {
    "duration": 0,
    "start_time": "2023-01-25T08:18:29.915Z"
   },
   {
    "duration": 0,
    "start_time": "2023-01-25T08:18:29.916Z"
   },
   {
    "duration": 0,
    "start_time": "2023-01-25T08:18:29.917Z"
   },
   {
    "duration": 0,
    "start_time": "2023-01-25T08:18:29.918Z"
   },
   {
    "duration": 0,
    "start_time": "2023-01-25T08:18:29.919Z"
   },
   {
    "duration": 0,
    "start_time": "2023-01-25T08:18:29.920Z"
   },
   {
    "duration": 0,
    "start_time": "2023-01-25T08:18:29.921Z"
   },
   {
    "duration": 0,
    "start_time": "2023-01-25T08:18:29.922Z"
   },
   {
    "duration": 0,
    "start_time": "2023-01-25T08:18:29.923Z"
   },
   {
    "duration": 0,
    "start_time": "2023-01-25T08:18:29.924Z"
   },
   {
    "duration": 0,
    "start_time": "2023-01-25T08:18:29.926Z"
   },
   {
    "duration": 0,
    "start_time": "2023-01-25T08:18:29.927Z"
   },
   {
    "duration": 0,
    "start_time": "2023-01-25T08:18:29.928Z"
   },
   {
    "duration": 0,
    "start_time": "2023-01-25T08:18:29.930Z"
   },
   {
    "duration": 0,
    "start_time": "2023-01-25T08:18:29.931Z"
   },
   {
    "duration": 0,
    "start_time": "2023-01-25T08:18:29.932Z"
   },
   {
    "duration": 0,
    "start_time": "2023-01-25T08:18:29.934Z"
   },
   {
    "duration": 2,
    "start_time": "2023-01-25T08:19:02.388Z"
   },
   {
    "duration": 17,
    "start_time": "2023-01-25T08:19:03.621Z"
   },
   {
    "duration": 58,
    "start_time": "2023-01-25T08:27:01.966Z"
   },
   {
    "duration": 21,
    "start_time": "2023-01-25T08:27:19.700Z"
   },
   {
    "duration": 5,
    "start_time": "2023-01-25T08:27:48.431Z"
   },
   {
    "duration": 7,
    "start_time": "2023-01-25T08:29:02.751Z"
   },
   {
    "duration": 9,
    "start_time": "2023-01-25T08:29:38.602Z"
   },
   {
    "duration": 6,
    "start_time": "2023-01-25T08:30:35.871Z"
   },
   {
    "duration": 4,
    "start_time": "2023-01-25T08:31:03.194Z"
   },
   {
    "duration": 6,
    "start_time": "2023-01-25T08:31:03.973Z"
   },
   {
    "duration": 5,
    "start_time": "2023-01-25T08:31:31.130Z"
   },
   {
    "duration": 4,
    "start_time": "2023-01-25T08:31:49.641Z"
   },
   {
    "duration": 6,
    "start_time": "2023-01-25T08:31:50.524Z"
   },
   {
    "duration": 5,
    "start_time": "2023-01-25T08:32:12.594Z"
   },
   {
    "duration": 5,
    "start_time": "2023-01-25T08:32:13.147Z"
   },
   {
    "duration": 5,
    "start_time": "2023-01-25T08:32:24.790Z"
   },
   {
    "duration": 14,
    "start_time": "2023-01-25T08:33:20.190Z"
   },
   {
    "duration": 1322,
    "start_time": "2023-01-25T08:33:28.105Z"
   },
   {
    "duration": 943,
    "start_time": "2023-01-25T08:33:29.429Z"
   },
   {
    "duration": 5,
    "start_time": "2023-01-25T08:33:30.374Z"
   },
   {
    "duration": 59,
    "start_time": "2023-01-25T08:33:30.382Z"
   },
   {
    "duration": 123,
    "start_time": "2023-01-25T08:33:30.443Z"
   },
   {
    "duration": 30,
    "start_time": "2023-01-25T08:33:30.568Z"
   },
   {
    "duration": 156,
    "start_time": "2023-01-25T08:33:30.600Z"
   },
   {
    "duration": 3,
    "start_time": "2023-01-25T08:33:30.757Z"
   },
   {
    "duration": 96,
    "start_time": "2023-01-25T08:33:30.762Z"
   },
   {
    "duration": 56,
    "start_time": "2023-01-25T08:33:30.860Z"
   },
   {
    "duration": 73,
    "start_time": "2023-01-25T08:33:30.917Z"
   },
   {
    "duration": 6,
    "start_time": "2023-01-25T08:33:30.991Z"
   },
   {
    "duration": 75,
    "start_time": "2023-01-25T08:33:31.009Z"
   },
   {
    "duration": 217,
    "start_time": "2023-01-25T08:33:31.085Z"
   },
   {
    "duration": 201,
    "start_time": "2023-01-25T08:33:31.303Z"
   },
   {
    "duration": 57,
    "start_time": "2023-01-25T08:33:31.505Z"
   },
   {
    "duration": 6,
    "start_time": "2023-01-25T08:33:31.564Z"
   },
   {
    "duration": 49,
    "start_time": "2023-01-25T08:33:31.571Z"
   },
   {
    "duration": 40,
    "start_time": "2023-01-25T08:33:31.622Z"
   },
   {
    "duration": 44,
    "start_time": "2023-01-25T08:33:31.664Z"
   },
   {
    "duration": 49,
    "start_time": "2023-01-25T08:33:31.710Z"
   },
   {
    "duration": 35,
    "start_time": "2023-01-25T08:33:31.761Z"
   },
   {
    "duration": 213,
    "start_time": "2023-01-25T08:33:31.798Z"
   },
   {
    "duration": 33,
    "start_time": "2023-01-25T08:33:32.013Z"
   },
   {
    "duration": 13,
    "start_time": "2023-01-25T08:33:32.048Z"
   },
   {
    "duration": 65,
    "start_time": "2023-01-25T08:33:32.062Z"
   },
   {
    "duration": 47,
    "start_time": "2023-01-25T08:35:59.582Z"
   },
   {
    "duration": 1450,
    "start_time": "2023-01-25T08:36:04.745Z"
   },
   {
    "duration": 3079,
    "start_time": "2023-01-25T08:36:06.197Z"
   },
   {
    "duration": 5,
    "start_time": "2023-01-25T08:36:09.277Z"
   },
   {
    "duration": 43,
    "start_time": "2023-01-25T08:36:09.284Z"
   },
   {
    "duration": 91,
    "start_time": "2023-01-25T08:36:09.329Z"
   },
   {
    "duration": 31,
    "start_time": "2023-01-25T08:36:09.422Z"
   },
   {
    "duration": 146,
    "start_time": "2023-01-25T08:36:09.455Z"
   },
   {
    "duration": 3,
    "start_time": "2023-01-25T08:36:09.603Z"
   },
   {
    "duration": 16,
    "start_time": "2023-01-25T08:36:09.608Z"
   },
   {
    "duration": 23,
    "start_time": "2023-01-25T08:36:09.626Z"
   },
   {
    "duration": 49,
    "start_time": "2023-01-25T08:36:09.650Z"
   },
   {
    "duration": 5,
    "start_time": "2023-01-25T08:36:09.701Z"
   },
   {
    "duration": 280,
    "start_time": "2023-01-25T08:36:09.708Z"
   },
   {
    "duration": 297,
    "start_time": "2023-01-25T08:36:09.989Z"
   },
   {
    "duration": 76,
    "start_time": "2023-01-25T08:36:10.288Z"
   },
   {
    "duration": 7,
    "start_time": "2023-01-25T08:36:10.366Z"
   },
   {
    "duration": 38,
    "start_time": "2023-01-25T08:36:10.374Z"
   },
   {
    "duration": 39,
    "start_time": "2023-01-25T08:36:10.414Z"
   },
   {
    "duration": 68,
    "start_time": "2023-01-25T08:36:10.455Z"
   },
   {
    "duration": 84,
    "start_time": "2023-01-25T08:36:10.525Z"
   },
   {
    "duration": 51,
    "start_time": "2023-01-25T08:36:10.611Z"
   },
   {
    "duration": 253,
    "start_time": "2023-01-25T08:36:10.664Z"
   },
   {
    "duration": 33,
    "start_time": "2023-01-25T08:36:10.919Z"
   },
   {
    "duration": 16,
    "start_time": "2023-01-25T08:36:10.953Z"
   },
   {
    "duration": 97,
    "start_time": "2023-01-25T08:36:10.971Z"
   },
   {
    "duration": 59,
    "start_time": "2023-01-25T08:41:34.087Z"
   },
   {
    "duration": 1348,
    "start_time": "2023-01-25T08:41:42.401Z"
   },
   {
    "duration": 3128,
    "start_time": "2023-01-25T08:41:43.750Z"
   },
   {
    "duration": 5,
    "start_time": "2023-01-25T08:41:46.880Z"
   },
   {
    "duration": 17,
    "start_time": "2023-01-25T08:41:46.888Z"
   },
   {
    "duration": 102,
    "start_time": "2023-01-25T08:41:46.907Z"
   },
   {
    "duration": 35,
    "start_time": "2023-01-25T08:41:47.011Z"
   },
   {
    "duration": 137,
    "start_time": "2023-01-25T08:41:47.048Z"
   },
   {
    "duration": 2,
    "start_time": "2023-01-25T08:41:47.186Z"
   },
   {
    "duration": 5,
    "start_time": "2023-01-25T08:41:47.190Z"
   },
   {
    "duration": 13,
    "start_time": "2023-01-25T08:41:47.197Z"
   },
   {
    "duration": 59,
    "start_time": "2023-01-25T08:41:47.211Z"
   },
   {
    "duration": 7,
    "start_time": "2023-01-25T08:41:47.272Z"
   },
   {
    "duration": 84,
    "start_time": "2023-01-25T08:41:47.281Z"
   },
   {
    "duration": 255,
    "start_time": "2023-01-25T08:41:47.367Z"
   },
   {
    "duration": 255,
    "start_time": "2023-01-25T08:41:47.624Z"
   },
   {
    "duration": 67,
    "start_time": "2023-01-25T08:41:47.880Z"
   },
   {
    "duration": 7,
    "start_time": "2023-01-25T08:41:47.949Z"
   },
   {
    "duration": 11,
    "start_time": "2023-01-25T08:41:47.957Z"
   },
   {
    "duration": 10,
    "start_time": "2023-01-25T08:41:47.969Z"
   },
   {
    "duration": 28,
    "start_time": "2023-01-25T08:41:47.981Z"
   },
   {
    "duration": 78,
    "start_time": "2023-01-25T08:41:48.011Z"
   },
   {
    "duration": 45,
    "start_time": "2023-01-25T08:41:48.090Z"
   },
   {
    "duration": 233,
    "start_time": "2023-01-25T08:41:48.144Z"
   },
   {
    "duration": 26,
    "start_time": "2023-01-25T08:41:48.378Z"
   },
   {
    "duration": 14,
    "start_time": "2023-01-25T08:41:48.405Z"
   },
   {
    "duration": 95,
    "start_time": "2023-01-25T08:41:48.421Z"
   },
   {
    "duration": 48,
    "start_time": "2023-01-25T08:42:32.633Z"
   },
   {
    "duration": 1355,
    "start_time": "2023-01-25T08:42:39.877Z"
   },
   {
    "duration": 3019,
    "start_time": "2023-01-25T08:42:41.234Z"
   },
   {
    "duration": 5,
    "start_time": "2023-01-25T08:42:44.254Z"
   },
   {
    "duration": 20,
    "start_time": "2023-01-25T08:42:44.261Z"
   },
   {
    "duration": 116,
    "start_time": "2023-01-25T08:42:44.282Z"
   },
   {
    "duration": 21,
    "start_time": "2023-01-25T08:42:44.400Z"
   },
   {
    "duration": 151,
    "start_time": "2023-01-25T08:42:44.422Z"
   },
   {
    "duration": 2,
    "start_time": "2023-01-25T08:42:44.574Z"
   },
   {
    "duration": 8,
    "start_time": "2023-01-25T08:42:44.577Z"
   },
   {
    "duration": 8,
    "start_time": "2023-01-25T08:42:44.587Z"
   },
   {
    "duration": 56,
    "start_time": "2023-01-25T08:42:44.596Z"
   },
   {
    "duration": 5,
    "start_time": "2023-01-25T08:42:44.654Z"
   },
   {
    "duration": 226,
    "start_time": "2023-01-25T08:42:44.660Z"
   },
   {
    "duration": 0,
    "start_time": "2023-01-25T08:42:44.888Z"
   },
   {
    "duration": 0,
    "start_time": "2023-01-25T08:42:44.890Z"
   },
   {
    "duration": 0,
    "start_time": "2023-01-25T08:42:44.891Z"
   },
   {
    "duration": 0,
    "start_time": "2023-01-25T08:42:44.893Z"
   },
   {
    "duration": 0,
    "start_time": "2023-01-25T08:42:44.894Z"
   },
   {
    "duration": 0,
    "start_time": "2023-01-25T08:42:44.895Z"
   },
   {
    "duration": 0,
    "start_time": "2023-01-25T08:42:44.897Z"
   },
   {
    "duration": 0,
    "start_time": "2023-01-25T08:42:44.898Z"
   },
   {
    "duration": 0,
    "start_time": "2023-01-25T08:42:44.899Z"
   },
   {
    "duration": 0,
    "start_time": "2023-01-25T08:42:44.901Z"
   },
   {
    "duration": 0,
    "start_time": "2023-01-25T08:42:44.902Z"
   },
   {
    "duration": 0,
    "start_time": "2023-01-25T08:42:44.903Z"
   },
   {
    "duration": 0,
    "start_time": "2023-01-25T08:42:44.904Z"
   },
   {
    "duration": 0,
    "start_time": "2023-01-25T08:42:44.905Z"
   },
   {
    "duration": 0,
    "start_time": "2023-01-25T08:42:44.907Z"
   },
   {
    "duration": 0,
    "start_time": "2023-01-25T08:42:44.944Z"
   },
   {
    "duration": 0,
    "start_time": "2023-01-25T08:42:44.946Z"
   },
   {
    "duration": 1,
    "start_time": "2023-01-25T08:42:44.947Z"
   },
   {
    "duration": 0,
    "start_time": "2023-01-25T08:42:44.949Z"
   },
   {
    "duration": 0,
    "start_time": "2023-01-25T08:42:44.951Z"
   },
   {
    "duration": 0,
    "start_time": "2023-01-25T08:42:44.952Z"
   },
   {
    "duration": 0,
    "start_time": "2023-01-25T08:42:44.954Z"
   },
   {
    "duration": 0,
    "start_time": "2023-01-25T08:42:44.955Z"
   },
   {
    "duration": 0,
    "start_time": "2023-01-25T08:42:44.959Z"
   },
   {
    "duration": 0,
    "start_time": "2023-01-25T08:42:44.960Z"
   },
   {
    "duration": 0,
    "start_time": "2023-01-25T08:42:44.962Z"
   },
   {
    "duration": 0,
    "start_time": "2023-01-25T08:42:44.963Z"
   },
   {
    "duration": 0,
    "start_time": "2023-01-25T08:42:44.964Z"
   },
   {
    "duration": 0,
    "start_time": "2023-01-25T08:42:44.966Z"
   },
   {
    "duration": 0,
    "start_time": "2023-01-25T08:42:44.968Z"
   },
   {
    "duration": 0,
    "start_time": "2023-01-25T08:42:44.970Z"
   },
   {
    "duration": 0,
    "start_time": "2023-01-25T08:42:44.971Z"
   },
   {
    "duration": 77,
    "start_time": "2023-01-25T08:43:23.417Z"
   },
   {
    "duration": 20,
    "start_time": "2023-01-25T08:46:00.510Z"
   },
   {
    "duration": 19,
    "start_time": "2023-01-25T08:46:49.340Z"
   },
   {
    "duration": 86,
    "start_time": "2023-01-25T08:47:16.864Z"
   },
   {
    "duration": 163,
    "start_time": "2023-01-25T08:47:21.014Z"
   },
   {
    "duration": 75,
    "start_time": "2023-01-25T08:47:35.072Z"
   },
   {
    "duration": 8,
    "start_time": "2023-01-25T08:47:40.372Z"
   },
   {
    "duration": 6,
    "start_time": "2023-01-25T08:47:45.502Z"
   },
   {
    "duration": 5,
    "start_time": "2023-01-25T08:47:54.374Z"
   },
   {
    "duration": 26,
    "start_time": "2023-01-25T08:48:00.775Z"
   },
   {
    "duration": 55,
    "start_time": "2023-01-25T08:48:08.402Z"
   },
   {
    "duration": 51,
    "start_time": "2023-01-25T08:48:10.132Z"
   },
   {
    "duration": 242,
    "start_time": "2023-01-25T08:48:14.441Z"
   },
   {
    "duration": 20,
    "start_time": "2023-01-25T08:48:26.931Z"
   },
   {
    "duration": 14,
    "start_time": "2023-01-25T08:48:27.808Z"
   },
   {
    "duration": 71,
    "start_time": "2023-01-25T08:48:37.751Z"
   },
   {
    "duration": 9,
    "start_time": "2023-01-25T08:53:27.188Z"
   },
   {
    "duration": 12,
    "start_time": "2023-01-25T08:53:40.778Z"
   },
   {
    "duration": 9,
    "start_time": "2023-01-25T08:55:10.219Z"
   },
   {
    "duration": 5,
    "start_time": "2023-01-25T08:56:31.537Z"
   },
   {
    "duration": 28,
    "start_time": "2023-01-25T08:56:45.033Z"
   },
   {
    "duration": 11,
    "start_time": "2023-01-25T08:56:46.017Z"
   },
   {
    "duration": 56,
    "start_time": "2023-01-25T09:07:28.353Z"
   },
   {
    "duration": 21,
    "start_time": "2023-01-25T09:10:42.675Z"
   },
   {
    "duration": 9,
    "start_time": "2023-01-25T09:11:09.895Z"
   },
   {
    "duration": 10,
    "start_time": "2023-01-25T09:11:43.101Z"
   },
   {
    "duration": 14,
    "start_time": "2023-01-25T09:12:34.174Z"
   },
   {
    "duration": 36,
    "start_time": "2023-01-25T09:13:44.597Z"
   },
   {
    "duration": 13,
    "start_time": "2023-01-25T09:13:45.972Z"
   },
   {
    "duration": 57,
    "start_time": "2023-01-25T09:16:07.981Z"
   },
   {
    "duration": 4,
    "start_time": "2023-01-25T09:18:40.553Z"
   },
   {
    "duration": 12,
    "start_time": "2023-01-25T09:20:29.403Z"
   },
   {
    "duration": 3,
    "start_time": "2023-01-25T09:21:36.617Z"
   },
   {
    "duration": 32,
    "start_time": "2023-01-25T09:22:37.030Z"
   },
   {
    "duration": 136,
    "start_time": "2023-01-25T09:23:24.626Z"
   },
   {
    "duration": 1366,
    "start_time": "2023-01-25T09:23:35.670Z"
   },
   {
    "duration": 991,
    "start_time": "2023-01-25T09:23:37.038Z"
   },
   {
    "duration": 5,
    "start_time": "2023-01-25T09:23:38.031Z"
   },
   {
    "duration": 30,
    "start_time": "2023-01-25T09:23:38.039Z"
   },
   {
    "duration": 97,
    "start_time": "2023-01-25T09:23:38.071Z"
   },
   {
    "duration": 26,
    "start_time": "2023-01-25T09:23:38.170Z"
   },
   {
    "duration": 149,
    "start_time": "2023-01-25T09:23:38.198Z"
   },
   {
    "duration": 7,
    "start_time": "2023-01-25T09:23:38.348Z"
   },
   {
    "duration": 8,
    "start_time": "2023-01-25T09:23:38.360Z"
   },
   {
    "duration": 18,
    "start_time": "2023-01-25T09:23:38.370Z"
   },
   {
    "duration": 45,
    "start_time": "2023-01-25T09:23:38.390Z"
   },
   {
    "duration": 6,
    "start_time": "2023-01-25T09:23:38.436Z"
   },
   {
    "duration": 113,
    "start_time": "2023-01-25T09:23:38.443Z"
   },
   {
    "duration": 19,
    "start_time": "2023-01-25T09:23:38.558Z"
   },
   {
    "duration": 21,
    "start_time": "2023-01-25T09:23:38.579Z"
   },
   {
    "duration": 103,
    "start_time": "2023-01-25T09:23:38.602Z"
   },
   {
    "duration": 66,
    "start_time": "2023-01-25T09:23:38.706Z"
   },
   {
    "duration": 6,
    "start_time": "2023-01-25T09:23:38.774Z"
   },
   {
    "duration": 13,
    "start_time": "2023-01-25T09:23:38.782Z"
   },
   {
    "duration": 7,
    "start_time": "2023-01-25T09:23:38.796Z"
   },
   {
    "duration": 17,
    "start_time": "2023-01-25T09:23:38.804Z"
   },
   {
    "duration": 66,
    "start_time": "2023-01-25T09:23:38.822Z"
   },
   {
    "duration": 55,
    "start_time": "2023-01-25T09:23:38.890Z"
   },
   {
    "duration": 261,
    "start_time": "2023-01-25T09:23:38.946Z"
   },
   {
    "duration": 20,
    "start_time": "2023-01-25T09:23:39.209Z"
   },
   {
    "duration": 36,
    "start_time": "2023-01-25T09:23:39.230Z"
   },
   {
    "duration": 89,
    "start_time": "2023-01-25T09:23:39.268Z"
   },
   {
    "duration": 9,
    "start_time": "2023-01-25T09:23:39.361Z"
   },
   {
    "duration": 9,
    "start_time": "2023-01-25T09:23:39.372Z"
   },
   {
    "duration": 18,
    "start_time": "2023-01-25T09:23:39.383Z"
   },
   {
    "duration": 10,
    "start_time": "2023-01-25T09:23:39.402Z"
   },
   {
    "duration": 11,
    "start_time": "2023-01-25T09:23:39.413Z"
   },
   {
    "duration": 31,
    "start_time": "2023-01-25T09:23:39.425Z"
   },
   {
    "duration": 128,
    "start_time": "2023-01-25T09:23:39.458Z"
   },
   {
    "duration": 0,
    "start_time": "2023-01-25T09:23:39.588Z"
   },
   {
    "duration": 0,
    "start_time": "2023-01-25T09:23:39.589Z"
   },
   {
    "duration": 0,
    "start_time": "2023-01-25T09:23:39.591Z"
   },
   {
    "duration": 0,
    "start_time": "2023-01-25T09:23:39.592Z"
   },
   {
    "duration": 0,
    "start_time": "2023-01-25T09:23:39.593Z"
   },
   {
    "duration": 0,
    "start_time": "2023-01-25T09:23:39.594Z"
   },
   {
    "duration": 0,
    "start_time": "2023-01-25T09:23:39.595Z"
   },
   {
    "duration": 0,
    "start_time": "2023-01-25T09:23:39.597Z"
   },
   {
    "duration": 0,
    "start_time": "2023-01-25T09:23:39.598Z"
   },
   {
    "duration": 0,
    "start_time": "2023-01-25T09:23:39.599Z"
   },
   {
    "duration": 0,
    "start_time": "2023-01-25T09:23:39.601Z"
   },
   {
    "duration": 0,
    "start_time": "2023-01-25T09:23:39.602Z"
   },
   {
    "duration": 0,
    "start_time": "2023-01-25T09:23:39.608Z"
   },
   {
    "duration": 0,
    "start_time": "2023-01-25T09:23:39.608Z"
   },
   {
    "duration": 0,
    "start_time": "2023-01-25T09:23:39.609Z"
   },
   {
    "duration": 0,
    "start_time": "2023-01-25T09:23:39.609Z"
   },
   {
    "duration": 1453,
    "start_time": "2023-01-25T09:26:43.170Z"
   },
   {
    "duration": 1451,
    "start_time": "2023-01-25T09:26:58.367Z"
   },
   {
    "duration": 95,
    "start_time": "2023-01-25T09:27:15.338Z"
   },
   {
    "duration": 105,
    "start_time": "2023-01-25T09:27:57.036Z"
   },
   {
    "duration": 1558,
    "start_time": "2023-01-25T09:28:34.340Z"
   },
   {
    "duration": 225,
    "start_time": "2023-01-25T09:33:14.816Z"
   },
   {
    "duration": 8,
    "start_time": "2023-01-25T09:40:53.074Z"
   },
   {
    "duration": 20,
    "start_time": "2023-01-25T09:41:02.400Z"
   },
   {
    "duration": 86,
    "start_time": "2023-01-25T09:41:03.094Z"
   },
   {
    "duration": 21,
    "start_time": "2023-01-25T09:41:04.353Z"
   },
   {
    "duration": 10,
    "start_time": "2023-01-25T09:41:05.477Z"
   },
   {
    "duration": 3,
    "start_time": "2023-01-25T09:41:13.218Z"
   },
   {
    "duration": 1421,
    "start_time": "2023-01-25T09:41:16.840Z"
   },
   {
    "duration": 69,
    "start_time": "2023-01-25T09:41:46.401Z"
   },
   {
    "duration": 4,
    "start_time": "2023-01-25T09:42:56.705Z"
   },
   {
    "duration": 1478,
    "start_time": "2023-01-25T09:43:13.402Z"
   },
   {
    "duration": 209,
    "start_time": "2023-01-25T09:44:39.096Z"
   },
   {
    "duration": 62,
    "start_time": "2023-01-25T09:44:53.617Z"
   },
   {
    "duration": 7,
    "start_time": "2023-01-25T09:44:54.255Z"
   },
   {
    "duration": 11,
    "start_time": "2023-01-25T09:44:55.317Z"
   },
   {
    "duration": 4,
    "start_time": "2023-01-25T09:44:56.261Z"
   },
   {
    "duration": 1372,
    "start_time": "2023-01-25T09:45:00.956Z"
   },
   {
    "duration": 54,
    "start_time": "2023-01-25T09:47:36.202Z"
   },
   {
    "duration": 24,
    "start_time": "2023-01-25T09:48:22.883Z"
   },
   {
    "duration": 12,
    "start_time": "2023-01-25T09:48:40.205Z"
   },
   {
    "duration": 75,
    "start_time": "2023-01-25T09:48:41.112Z"
   },
   {
    "duration": 7,
    "start_time": "2023-01-25T09:48:41.961Z"
   },
   {
    "duration": 9,
    "start_time": "2023-01-25T09:48:42.667Z"
   },
   {
    "duration": 4,
    "start_time": "2023-01-25T09:48:45.568Z"
   },
   {
    "duration": 13,
    "start_time": "2023-01-25T09:48:46.498Z"
   },
   {
    "duration": 4,
    "start_time": "2023-01-25T09:48:56.762Z"
   },
   {
    "duration": 1431,
    "start_time": "2023-01-25T09:49:03.587Z"
   },
   {
    "duration": 1370,
    "start_time": "2023-01-25T09:55:35.398Z"
   },
   {
    "duration": 1368,
    "start_time": "2023-01-25T09:56:50.018Z"
   },
   {
    "duration": 1292,
    "start_time": "2023-01-25T10:06:46.700Z"
   },
   {
    "duration": 68,
    "start_time": "2023-01-25T10:13:46.828Z"
   },
   {
    "duration": 1391,
    "start_time": "2023-01-25T10:13:56.270Z"
   },
   {
    "duration": 944,
    "start_time": "2023-01-25T10:13:57.663Z"
   },
   {
    "duration": 6,
    "start_time": "2023-01-25T10:13:58.608Z"
   },
   {
    "duration": 27,
    "start_time": "2023-01-25T10:13:58.616Z"
   },
   {
    "duration": 124,
    "start_time": "2023-01-25T10:13:58.656Z"
   },
   {
    "duration": 23,
    "start_time": "2023-01-25T10:13:58.782Z"
   },
   {
    "duration": 150,
    "start_time": "2023-01-25T10:13:58.807Z"
   },
   {
    "duration": 3,
    "start_time": "2023-01-25T10:13:58.959Z"
   },
   {
    "duration": 14,
    "start_time": "2023-01-25T10:13:58.963Z"
   },
   {
    "duration": 10,
    "start_time": "2023-01-25T10:13:58.980Z"
   },
   {
    "duration": 43,
    "start_time": "2023-01-25T10:13:58.992Z"
   },
   {
    "duration": 10,
    "start_time": "2023-01-25T10:13:59.037Z"
   },
   {
    "duration": 104,
    "start_time": "2023-01-25T10:13:59.048Z"
   },
   {
    "duration": 19,
    "start_time": "2023-01-25T10:13:59.154Z"
   },
   {
    "duration": 26,
    "start_time": "2023-01-25T10:13:59.174Z"
   },
   {
    "duration": 98,
    "start_time": "2023-01-25T10:13:59.201Z"
   },
   {
    "duration": 75,
    "start_time": "2023-01-25T10:13:59.300Z"
   },
   {
    "duration": 6,
    "start_time": "2023-01-25T10:13:59.377Z"
   },
   {
    "duration": 8,
    "start_time": "2023-01-25T10:13:59.385Z"
   },
   {
    "duration": 5,
    "start_time": "2023-01-25T10:13:59.395Z"
   },
   {
    "duration": 28,
    "start_time": "2023-01-25T10:13:59.401Z"
   },
   {
    "duration": 45,
    "start_time": "2023-01-25T10:13:59.451Z"
   },
   {
    "duration": 59,
    "start_time": "2023-01-25T10:13:59.499Z"
   },
   {
    "duration": 245,
    "start_time": "2023-01-25T10:13:59.560Z"
   },
   {
    "duration": 19,
    "start_time": "2023-01-25T10:13:59.807Z"
   },
   {
    "duration": 49,
    "start_time": "2023-01-25T10:13:59.827Z"
   },
   {
    "duration": 102,
    "start_time": "2023-01-25T10:13:59.877Z"
   },
   {
    "duration": 2,
    "start_time": "2023-01-25T10:13:59.982Z"
   },
   {
    "duration": 27,
    "start_time": "2023-01-25T10:13:59.985Z"
   },
   {
    "duration": 52,
    "start_time": "2023-01-25T10:14:00.013Z"
   },
   {
    "duration": 123,
    "start_time": "2023-01-25T10:14:00.067Z"
   },
   {
    "duration": 20,
    "start_time": "2023-01-25T10:14:00.192Z"
   },
   {
    "duration": 42,
    "start_time": "2023-01-25T10:14:00.214Z"
   },
   {
    "duration": 40,
    "start_time": "2023-01-25T10:14:00.257Z"
   },
   {
    "duration": 1480,
    "start_time": "2023-01-25T10:14:00.298Z"
   },
   {
    "duration": 0,
    "start_time": "2023-01-25T10:14:01.780Z"
   },
   {
    "duration": 0,
    "start_time": "2023-01-25T10:14:01.781Z"
   },
   {
    "duration": 0,
    "start_time": "2023-01-25T10:14:01.783Z"
   },
   {
    "duration": 0,
    "start_time": "2023-01-25T10:14:01.784Z"
   },
   {
    "duration": 0,
    "start_time": "2023-01-25T10:14:01.786Z"
   },
   {
    "duration": 0,
    "start_time": "2023-01-25T10:14:01.787Z"
   },
   {
    "duration": 0,
    "start_time": "2023-01-25T10:14:01.788Z"
   },
   {
    "duration": 0,
    "start_time": "2023-01-25T10:14:01.790Z"
   },
   {
    "duration": 0,
    "start_time": "2023-01-25T10:14:01.791Z"
   },
   {
    "duration": 0,
    "start_time": "2023-01-25T10:14:01.792Z"
   },
   {
    "duration": 0,
    "start_time": "2023-01-25T10:14:01.793Z"
   },
   {
    "duration": 0,
    "start_time": "2023-01-25T10:14:01.795Z"
   },
   {
    "duration": 0,
    "start_time": "2023-01-25T10:14:01.797Z"
   },
   {
    "duration": 0,
    "start_time": "2023-01-25T10:14:01.798Z"
   },
   {
    "duration": 14,
    "start_time": "2023-01-25T10:16:32.070Z"
   },
   {
    "duration": 26,
    "start_time": "2023-01-25T10:16:55.607Z"
   },
   {
    "duration": 1387,
    "start_time": "2023-01-25T10:17:01.907Z"
   },
   {
    "duration": 976,
    "start_time": "2023-01-25T10:17:03.296Z"
   },
   {
    "duration": 5,
    "start_time": "2023-01-25T10:17:04.274Z"
   },
   {
    "duration": 22,
    "start_time": "2023-01-25T10:17:04.281Z"
   },
   {
    "duration": 129,
    "start_time": "2023-01-25T10:17:04.304Z"
   },
   {
    "duration": 29,
    "start_time": "2023-01-25T10:17:04.435Z"
   },
   {
    "duration": 145,
    "start_time": "2023-01-25T10:17:04.466Z"
   },
   {
    "duration": 2,
    "start_time": "2023-01-25T10:17:04.612Z"
   },
   {
    "duration": 24,
    "start_time": "2023-01-25T10:17:04.616Z"
   },
   {
    "duration": 29,
    "start_time": "2023-01-25T10:17:04.642Z"
   },
   {
    "duration": 62,
    "start_time": "2023-01-25T10:17:04.673Z"
   },
   {
    "duration": 19,
    "start_time": "2023-01-25T10:17:04.737Z"
   },
   {
    "duration": 135,
    "start_time": "2023-01-25T10:17:04.761Z"
   },
   {
    "duration": 24,
    "start_time": "2023-01-25T10:17:04.899Z"
   },
   {
    "duration": 52,
    "start_time": "2023-01-25T10:17:04.925Z"
   },
   {
    "duration": 127,
    "start_time": "2023-01-25T10:17:04.979Z"
   },
   {
    "duration": 79,
    "start_time": "2023-01-25T10:17:05.108Z"
   },
   {
    "duration": 6,
    "start_time": "2023-01-25T10:17:05.189Z"
   },
   {
    "duration": 33,
    "start_time": "2023-01-25T10:17:05.197Z"
   },
   {
    "duration": 53,
    "start_time": "2023-01-25T10:17:05.232Z"
   },
   {
    "duration": 49,
    "start_time": "2023-01-25T10:17:05.286Z"
   },
   {
    "duration": 54,
    "start_time": "2023-01-25T10:17:05.336Z"
   },
   {
    "duration": 48,
    "start_time": "2023-01-25T10:17:05.392Z"
   },
   {
    "duration": 286,
    "start_time": "2023-01-25T10:17:05.442Z"
   },
   {
    "duration": 27,
    "start_time": "2023-01-25T10:17:05.729Z"
   },
   {
    "duration": 39,
    "start_time": "2023-01-25T10:17:05.758Z"
   },
   {
    "duration": 111,
    "start_time": "2023-01-25T10:17:05.798Z"
   },
   {
    "duration": 12,
    "start_time": "2023-01-25T10:17:05.913Z"
   },
   {
    "duration": 35,
    "start_time": "2023-01-25T10:17:05.926Z"
   },
   {
    "duration": 40,
    "start_time": "2023-01-25T10:17:05.962Z"
   },
   {
    "duration": 86,
    "start_time": "2023-01-25T10:17:06.003Z"
   },
   {
    "duration": 19,
    "start_time": "2023-01-25T10:17:06.091Z"
   },
   {
    "duration": 22,
    "start_time": "2023-01-25T10:17:06.112Z"
   },
   {
    "duration": 7,
    "start_time": "2023-01-25T10:17:06.136Z"
   },
   {
    "duration": 1126,
    "start_time": "2023-01-25T10:17:06.156Z"
   },
   {
    "duration": 0,
    "start_time": "2023-01-25T10:17:07.285Z"
   },
   {
    "duration": 0,
    "start_time": "2023-01-25T10:17:07.286Z"
   },
   {
    "duration": 0,
    "start_time": "2023-01-25T10:17:07.288Z"
   },
   {
    "duration": 0,
    "start_time": "2023-01-25T10:17:07.290Z"
   },
   {
    "duration": 0,
    "start_time": "2023-01-25T10:17:07.291Z"
   },
   {
    "duration": 0,
    "start_time": "2023-01-25T10:17:07.292Z"
   },
   {
    "duration": 0,
    "start_time": "2023-01-25T10:17:07.294Z"
   },
   {
    "duration": 0,
    "start_time": "2023-01-25T10:17:07.295Z"
   },
   {
    "duration": 0,
    "start_time": "2023-01-25T10:17:07.296Z"
   },
   {
    "duration": 0,
    "start_time": "2023-01-25T10:17:07.297Z"
   },
   {
    "duration": 0,
    "start_time": "2023-01-25T10:17:07.298Z"
   },
   {
    "duration": 0,
    "start_time": "2023-01-25T10:17:07.299Z"
   },
   {
    "duration": 0,
    "start_time": "2023-01-25T10:17:07.300Z"
   },
   {
    "duration": 0,
    "start_time": "2023-01-25T10:17:07.301Z"
   },
   {
    "duration": 49,
    "start_time": "2023-01-25T10:23:12.705Z"
   },
   {
    "duration": 6,
    "start_time": "2023-01-25T10:29:04.121Z"
   },
   {
    "duration": 1347,
    "start_time": "2023-01-25T10:29:10.333Z"
   },
   {
    "duration": 855,
    "start_time": "2023-01-25T10:29:11.682Z"
   },
   {
    "duration": 6,
    "start_time": "2023-01-25T10:29:12.539Z"
   },
   {
    "duration": 15,
    "start_time": "2023-01-25T10:29:12.546Z"
   },
   {
    "duration": 102,
    "start_time": "2023-01-25T10:29:12.562Z"
   },
   {
    "duration": 27,
    "start_time": "2023-01-25T10:29:12.666Z"
   },
   {
    "duration": 151,
    "start_time": "2023-01-25T10:29:12.694Z"
   },
   {
    "duration": 3,
    "start_time": "2023-01-25T10:29:12.846Z"
   },
   {
    "duration": 8,
    "start_time": "2023-01-25T10:29:12.851Z"
   },
   {
    "duration": 11,
    "start_time": "2023-01-25T10:29:12.861Z"
   },
   {
    "duration": 42,
    "start_time": "2023-01-25T10:29:12.874Z"
   },
   {
    "duration": 7,
    "start_time": "2023-01-25T10:29:12.917Z"
   },
   {
    "duration": 81,
    "start_time": "2023-01-25T10:29:12.944Z"
   },
   {
    "duration": 27,
    "start_time": "2023-01-25T10:29:13.026Z"
   },
   {
    "duration": 21,
    "start_time": "2023-01-25T10:29:13.054Z"
   },
   {
    "duration": 90,
    "start_time": "2023-01-25T10:29:13.077Z"
   },
   {
    "duration": 57,
    "start_time": "2023-01-25T10:29:13.169Z"
   },
   {
    "duration": 20,
    "start_time": "2023-01-25T10:29:13.228Z"
   },
   {
    "duration": 10,
    "start_time": "2023-01-25T10:29:13.250Z"
   },
   {
    "duration": 11,
    "start_time": "2023-01-25T10:29:13.261Z"
   },
   {
    "duration": 19,
    "start_time": "2023-01-25T10:29:13.274Z"
   },
   {
    "duration": 53,
    "start_time": "2023-01-25T10:29:13.294Z"
   },
   {
    "duration": 47,
    "start_time": "2023-01-25T10:29:13.349Z"
   },
   {
    "duration": 252,
    "start_time": "2023-01-25T10:29:13.399Z"
   },
   {
    "duration": 22,
    "start_time": "2023-01-25T10:29:13.653Z"
   },
   {
    "duration": 34,
    "start_time": "2023-01-25T10:29:13.677Z"
   },
   {
    "duration": 83,
    "start_time": "2023-01-25T10:29:13.713Z"
   },
   {
    "duration": 25,
    "start_time": "2023-01-25T10:29:13.800Z"
   },
   {
    "duration": 32,
    "start_time": "2023-01-25T10:29:13.827Z"
   },
   {
    "duration": 199,
    "start_time": "2023-01-25T10:29:13.860Z"
   },
   {
    "duration": 0,
    "start_time": "2023-01-25T10:29:14.060Z"
   },
   {
    "duration": 0,
    "start_time": "2023-01-25T10:29:14.061Z"
   },
   {
    "duration": 0,
    "start_time": "2023-01-25T10:29:14.062Z"
   },
   {
    "duration": 0,
    "start_time": "2023-01-25T10:29:14.063Z"
   },
   {
    "duration": 0,
    "start_time": "2023-01-25T10:29:14.064Z"
   },
   {
    "duration": 0,
    "start_time": "2023-01-25T10:29:14.065Z"
   },
   {
    "duration": 0,
    "start_time": "2023-01-25T10:29:14.066Z"
   },
   {
    "duration": 0,
    "start_time": "2023-01-25T10:29:14.067Z"
   },
   {
    "duration": 0,
    "start_time": "2023-01-25T10:29:14.069Z"
   },
   {
    "duration": 0,
    "start_time": "2023-01-25T10:29:14.070Z"
   },
   {
    "duration": 0,
    "start_time": "2023-01-25T10:29:14.071Z"
   },
   {
    "duration": 0,
    "start_time": "2023-01-25T10:29:14.072Z"
   },
   {
    "duration": 0,
    "start_time": "2023-01-25T10:29:14.073Z"
   },
   {
    "duration": 0,
    "start_time": "2023-01-25T10:29:14.074Z"
   },
   {
    "duration": 0,
    "start_time": "2023-01-25T10:29:14.076Z"
   },
   {
    "duration": 0,
    "start_time": "2023-01-25T10:29:14.077Z"
   },
   {
    "duration": 0,
    "start_time": "2023-01-25T10:29:14.078Z"
   },
   {
    "duration": 0,
    "start_time": "2023-01-25T10:29:14.079Z"
   },
   {
    "duration": 0,
    "start_time": "2023-01-25T10:29:14.080Z"
   },
   {
    "duration": 0,
    "start_time": "2023-01-25T10:29:14.081Z"
   },
   {
    "duration": 0,
    "start_time": "2023-01-25T10:29:14.082Z"
   },
   {
    "duration": 1,
    "start_time": "2023-01-25T10:29:14.083Z"
   },
   {
    "duration": 12,
    "start_time": "2023-01-25T10:29:25.067Z"
   },
   {
    "duration": 4,
    "start_time": "2023-01-25T10:29:25.849Z"
   },
   {
    "duration": 3,
    "start_time": "2023-01-25T10:30:23.999Z"
   },
   {
    "duration": 9,
    "start_time": "2023-01-25T10:30:25.066Z"
   },
   {
    "duration": 4,
    "start_time": "2023-01-25T10:31:06.312Z"
   },
   {
    "duration": 10,
    "start_time": "2023-01-25T10:31:16.234Z"
   },
   {
    "duration": 11,
    "start_time": "2023-01-25T10:32:07.014Z"
   },
   {
    "duration": 490,
    "start_time": "2023-01-25T10:32:16.781Z"
   },
   {
    "duration": 58,
    "start_time": "2023-01-25T10:33:45.174Z"
   },
   {
    "duration": 12,
    "start_time": "2023-01-25T10:34:45.582Z"
   },
   {
    "duration": 72,
    "start_time": "2023-01-25T10:34:51.458Z"
   },
   {
    "duration": 2,
    "start_time": "2023-01-25T10:37:45.681Z"
   },
   {
    "duration": 133,
    "start_time": "2023-01-25T10:39:05.339Z"
   },
   {
    "duration": 4,
    "start_time": "2023-01-25T10:39:46.949Z"
   },
   {
    "duration": 2,
    "start_time": "2023-01-25T10:40:12.322Z"
   },
   {
    "duration": 1397,
    "start_time": "2023-01-25T10:40:33.176Z"
   },
   {
    "duration": 917,
    "start_time": "2023-01-25T10:40:34.575Z"
   },
   {
    "duration": 5,
    "start_time": "2023-01-25T10:40:35.494Z"
   },
   {
    "duration": 22,
    "start_time": "2023-01-25T10:40:35.501Z"
   },
   {
    "duration": 84,
    "start_time": "2023-01-25T10:40:35.525Z"
   },
   {
    "duration": 33,
    "start_time": "2023-01-25T10:40:35.611Z"
   },
   {
    "duration": 138,
    "start_time": "2023-01-25T10:40:35.646Z"
   },
   {
    "duration": 3,
    "start_time": "2023-01-25T10:40:35.785Z"
   },
   {
    "duration": 16,
    "start_time": "2023-01-25T10:40:35.791Z"
   },
   {
    "duration": 24,
    "start_time": "2023-01-25T10:40:35.810Z"
   },
   {
    "duration": 48,
    "start_time": "2023-01-25T10:40:35.835Z"
   },
   {
    "duration": 5,
    "start_time": "2023-01-25T10:40:35.885Z"
   },
   {
    "duration": 105,
    "start_time": "2023-01-25T10:40:35.892Z"
   },
   {
    "duration": 20,
    "start_time": "2023-01-25T10:40:35.999Z"
   },
   {
    "duration": 48,
    "start_time": "2023-01-25T10:40:36.020Z"
   },
   {
    "duration": 96,
    "start_time": "2023-01-25T10:40:36.070Z"
   },
   {
    "duration": 68,
    "start_time": "2023-01-25T10:40:36.167Z"
   },
   {
    "duration": 7,
    "start_time": "2023-01-25T10:40:36.244Z"
   },
   {
    "duration": 12,
    "start_time": "2023-01-25T10:40:36.253Z"
   },
   {
    "duration": 13,
    "start_time": "2023-01-25T10:40:36.266Z"
   },
   {
    "duration": 24,
    "start_time": "2023-01-25T10:40:36.281Z"
   },
   {
    "duration": 48,
    "start_time": "2023-01-25T10:40:36.307Z"
   },
   {
    "duration": 43,
    "start_time": "2023-01-25T10:40:36.356Z"
   },
   {
    "duration": 238,
    "start_time": "2023-01-25T10:40:36.401Z"
   },
   {
    "duration": 19,
    "start_time": "2023-01-25T10:40:36.641Z"
   },
   {
    "duration": 15,
    "start_time": "2023-01-25T10:40:36.661Z"
   },
   {
    "duration": 82,
    "start_time": "2023-01-25T10:40:36.678Z"
   },
   {
    "duration": 2,
    "start_time": "2023-01-25T10:40:36.764Z"
   },
   {
    "duration": 6,
    "start_time": "2023-01-25T10:40:36.767Z"
   },
   {
    "duration": 18,
    "start_time": "2023-01-25T10:40:36.774Z"
   },
   {
    "duration": 4,
    "start_time": "2023-01-25T10:40:36.793Z"
   },
   {
    "duration": 5,
    "start_time": "2023-01-25T10:40:36.798Z"
   },
   {
    "duration": 504,
    "start_time": "2023-01-25T10:40:36.804Z"
   },
   {
    "duration": 12,
    "start_time": "2023-01-25T10:40:37.309Z"
   },
   {
    "duration": 71,
    "start_time": "2023-01-25T10:40:37.323Z"
   },
   {
    "duration": 138,
    "start_time": "2023-01-25T10:40:37.396Z"
   },
   {
    "duration": 4,
    "start_time": "2023-01-25T10:40:37.535Z"
   },
   {
    "duration": 143,
    "start_time": "2023-01-25T10:40:37.544Z"
   },
   {
    "duration": 56,
    "start_time": "2023-01-25T10:40:37.689Z"
   },
   {
    "duration": 61,
    "start_time": "2023-01-25T10:40:37.747Z"
   },
   {
    "duration": 4,
    "start_time": "2023-01-25T10:40:37.810Z"
   },
   {
    "duration": 57,
    "start_time": "2023-01-25T10:40:37.815Z"
   },
   {
    "duration": 55,
    "start_time": "2023-01-25T10:40:37.873Z"
   },
   {
    "duration": 17,
    "start_time": "2023-01-25T10:40:37.930Z"
   },
   {
    "duration": 2,
    "start_time": "2023-01-25T10:40:37.949Z"
   },
   {
    "duration": 4,
    "start_time": "2023-01-25T10:40:37.953Z"
   },
   {
    "duration": 30,
    "start_time": "2023-01-25T10:40:37.958Z"
   },
   {
    "duration": 0,
    "start_time": "2023-01-25T10:40:37.990Z"
   },
   {
    "duration": 0,
    "start_time": "2023-01-25T10:40:37.991Z"
   },
   {
    "duration": 0,
    "start_time": "2023-01-25T10:40:37.992Z"
   },
   {
    "duration": 0,
    "start_time": "2023-01-25T10:40:37.993Z"
   },
   {
    "duration": 4,
    "start_time": "2023-01-25T10:41:09.874Z"
   },
   {
    "duration": 63,
    "start_time": "2023-01-25T10:41:13.385Z"
   },
   {
    "duration": 72,
    "start_time": "2023-01-25T10:41:21.754Z"
   },
   {
    "duration": 79,
    "start_time": "2023-01-25T10:41:52.896Z"
   },
   {
    "duration": 79,
    "start_time": "2023-01-25T10:54:12.324Z"
   },
   {
    "duration": 63,
    "start_time": "2023-01-25T10:55:19.171Z"
   },
   {
    "duration": 54,
    "start_time": "2023-01-25T10:55:37.366Z"
   },
   {
    "duration": 57,
    "start_time": "2023-01-25T10:59:39.366Z"
   },
   {
    "duration": 4,
    "start_time": "2023-01-25T11:00:17.688Z"
   },
   {
    "duration": 73,
    "start_time": "2023-01-25T11:00:30.745Z"
   },
   {
    "duration": 3,
    "start_time": "2023-01-25T11:01:31.189Z"
   },
   {
    "duration": 59,
    "start_time": "2023-01-25T11:01:32.252Z"
   },
   {
    "duration": 79,
    "start_time": "2023-01-25T11:04:42.196Z"
   },
   {
    "duration": 3,
    "start_time": "2023-01-25T11:05:58.698Z"
   },
   {
    "duration": 63,
    "start_time": "2023-01-25T11:07:26.934Z"
   },
   {
    "duration": 2,
    "start_time": "2023-01-25T11:09:10.492Z"
   },
   {
    "duration": 5,
    "start_time": "2023-01-25T11:09:46.228Z"
   },
   {
    "duration": 94,
    "start_time": "2023-01-25T11:10:37.486Z"
   },
   {
    "duration": 78,
    "start_time": "2023-01-25T11:10:53.669Z"
   },
   {
    "duration": 3,
    "start_time": "2023-01-25T11:11:39.767Z"
   },
   {
    "duration": 3,
    "start_time": "2023-01-25T11:11:40.766Z"
   },
   {
    "duration": 3,
    "start_time": "2023-01-25T11:11:42.583Z"
   },
   {
    "duration": 10,
    "start_time": "2023-01-25T11:11:43.528Z"
   },
   {
    "duration": 1818,
    "start_time": "2023-01-25T11:11:56.209Z"
   },
   {
    "duration": 0,
    "start_time": "2023-01-25T11:11:58.029Z"
   },
   {
    "duration": 107,
    "start_time": "2023-01-25T11:30:45.961Z"
   },
   {
    "duration": 10,
    "start_time": "2023-01-25T11:33:38.590Z"
   },
   {
    "duration": 742,
    "start_time": "2023-01-25T11:34:09.608Z"
   },
   {
    "duration": 10,
    "start_time": "2023-01-25T11:34:10.567Z"
   },
   {
    "duration": 1437,
    "start_time": "2023-01-25T11:34:20.067Z"
   },
   {
    "duration": 911,
    "start_time": "2023-01-25T11:34:21.506Z"
   },
   {
    "duration": 5,
    "start_time": "2023-01-25T11:34:22.418Z"
   },
   {
    "duration": 30,
    "start_time": "2023-01-25T11:34:22.425Z"
   },
   {
    "duration": 97,
    "start_time": "2023-01-25T11:34:22.457Z"
   },
   {
    "duration": 29,
    "start_time": "2023-01-25T11:34:22.555Z"
   },
   {
    "duration": 150,
    "start_time": "2023-01-25T11:34:22.586Z"
   },
   {
    "duration": 7,
    "start_time": "2023-01-25T11:34:22.737Z"
   },
   {
    "duration": 6,
    "start_time": "2023-01-25T11:34:22.745Z"
   },
   {
    "duration": 24,
    "start_time": "2023-01-25T11:34:22.754Z"
   },
   {
    "duration": 97,
    "start_time": "2023-01-25T11:34:22.781Z"
   },
   {
    "duration": 5,
    "start_time": "2023-01-25T11:34:22.879Z"
   },
   {
    "duration": 37,
    "start_time": "2023-01-25T11:34:22.885Z"
   },
   {
    "duration": 6,
    "start_time": "2023-01-25T11:34:22.923Z"
   },
   {
    "duration": 83,
    "start_time": "2023-01-25T11:34:22.944Z"
   },
   {
    "duration": 27,
    "start_time": "2023-01-25T11:34:23.029Z"
   },
   {
    "duration": 24,
    "start_time": "2023-01-25T11:34:23.058Z"
   },
   {
    "duration": 92,
    "start_time": "2023-01-25T11:34:23.084Z"
   },
   {
    "duration": 75,
    "start_time": "2023-01-25T11:34:23.178Z"
   },
   {
    "duration": 7,
    "start_time": "2023-01-25T11:34:23.254Z"
   },
   {
    "duration": 8,
    "start_time": "2023-01-25T11:34:23.262Z"
   },
   {
    "duration": 13,
    "start_time": "2023-01-25T11:34:23.272Z"
   },
   {
    "duration": 18,
    "start_time": "2023-01-25T11:34:23.287Z"
   },
   {
    "duration": 55,
    "start_time": "2023-01-25T11:34:23.306Z"
   },
   {
    "duration": 46,
    "start_time": "2023-01-25T11:34:23.363Z"
   },
   {
    "duration": 242,
    "start_time": "2023-01-25T11:34:23.411Z"
   },
   {
    "duration": 24,
    "start_time": "2023-01-25T11:34:23.655Z"
   },
   {
    "duration": 17,
    "start_time": "2023-01-25T11:34:23.682Z"
   },
   {
    "duration": 91,
    "start_time": "2023-01-25T11:34:23.700Z"
   },
   {
    "duration": 3,
    "start_time": "2023-01-25T11:34:23.793Z"
   },
   {
    "duration": 9,
    "start_time": "2023-01-25T11:34:23.798Z"
   },
   {
    "duration": 19,
    "start_time": "2023-01-25T11:34:23.809Z"
   },
   {
    "duration": 16,
    "start_time": "2023-01-25T11:34:23.830Z"
   },
   {
    "duration": 5,
    "start_time": "2023-01-25T11:34:23.848Z"
   },
   {
    "duration": 520,
    "start_time": "2023-01-25T11:34:23.854Z"
   },
   {
    "duration": 13,
    "start_time": "2023-01-25T11:34:24.376Z"
   },
   {
    "duration": 77,
    "start_time": "2023-01-25T11:34:24.390Z"
   },
   {
    "duration": 144,
    "start_time": "2023-01-25T11:34:24.469Z"
   },
   {
    "duration": 3,
    "start_time": "2023-01-25T11:34:24.615Z"
   },
   {
    "duration": 269,
    "start_time": "2023-01-25T11:34:24.619Z"
   },
   {
    "duration": 3,
    "start_time": "2023-01-25T11:34:24.889Z"
   },
   {
    "duration": 9,
    "start_time": "2023-01-25T11:34:24.894Z"
   },
   {
    "duration": 62,
    "start_time": "2023-01-25T11:34:24.904Z"
   },
   {
    "duration": 53,
    "start_time": "2023-01-25T11:34:24.968Z"
   },
   {
    "duration": 3,
    "start_time": "2023-01-25T11:34:25.022Z"
   },
   {
    "duration": 71,
    "start_time": "2023-01-25T11:34:25.026Z"
   },
   {
    "duration": 50,
    "start_time": "2023-01-25T11:34:25.098Z"
   },
   {
    "duration": 18,
    "start_time": "2023-01-25T11:34:25.150Z"
   },
   {
    "duration": 4,
    "start_time": "2023-01-25T11:34:25.169Z"
   },
   {
    "duration": 10,
    "start_time": "2023-01-25T11:34:25.174Z"
   },
   {
    "duration": 1671,
    "start_time": "2023-01-25T11:34:25.186Z"
   },
   {
    "duration": 0,
    "start_time": "2023-01-25T11:34:26.860Z"
   },
   {
    "duration": 0,
    "start_time": "2023-01-25T11:34:26.861Z"
   },
   {
    "duration": 0,
    "start_time": "2023-01-25T11:34:26.863Z"
   },
   {
    "duration": 0,
    "start_time": "2023-01-25T11:34:26.864Z"
   },
   {
    "duration": 19,
    "start_time": "2023-01-25T11:34:47.769Z"
   },
   {
    "duration": 6,
    "start_time": "2023-01-25T11:34:48.533Z"
   },
   {
    "duration": 67,
    "start_time": "2023-01-25T11:34:49.649Z"
   },
   {
    "duration": 56,
    "start_time": "2023-01-25T11:35:30.022Z"
   },
   {
    "duration": 17,
    "start_time": "2023-01-25T11:35:32.760Z"
   },
   {
    "duration": 16,
    "start_time": "2023-01-25T11:35:37.353Z"
   },
   {
    "duration": 85,
    "start_time": "2023-01-25T11:35:39.125Z"
   },
   {
    "duration": 50,
    "start_time": "2023-01-25T11:35:44.216Z"
   },
   {
    "duration": 6,
    "start_time": "2023-01-25T11:35:49.940Z"
   },
   {
    "duration": 5,
    "start_time": "2023-01-25T11:35:56.670Z"
   },
   {
    "duration": 913,
    "start_time": "2023-01-25T11:36:01.620Z"
   },
   {
    "duration": 1381,
    "start_time": "2023-01-25T11:37:00.725Z"
   },
   {
    "duration": 878,
    "start_time": "2023-01-25T11:37:02.108Z"
   },
   {
    "duration": 5,
    "start_time": "2023-01-25T11:37:02.988Z"
   },
   {
    "duration": 25,
    "start_time": "2023-01-25T11:37:02.996Z"
   },
   {
    "duration": 94,
    "start_time": "2023-01-25T11:37:03.023Z"
   },
   {
    "duration": 37,
    "start_time": "2023-01-25T11:37:03.119Z"
   },
   {
    "duration": 135,
    "start_time": "2023-01-25T11:37:03.158Z"
   },
   {
    "duration": 2,
    "start_time": "2023-01-25T11:37:03.295Z"
   },
   {
    "duration": 29,
    "start_time": "2023-01-25T11:37:03.298Z"
   },
   {
    "duration": 51,
    "start_time": "2023-01-25T11:37:03.330Z"
   },
   {
    "duration": 92,
    "start_time": "2023-01-25T11:37:03.383Z"
   },
   {
    "duration": 4,
    "start_time": "2023-01-25T11:37:03.477Z"
   },
   {
    "duration": 35,
    "start_time": "2023-01-25T11:37:03.483Z"
   },
   {
    "duration": 5,
    "start_time": "2023-01-25T11:37:03.520Z"
   },
   {
    "duration": 76,
    "start_time": "2023-01-25T11:37:03.526Z"
   },
   {
    "duration": 20,
    "start_time": "2023-01-25T11:37:03.604Z"
   },
   {
    "duration": 35,
    "start_time": "2023-01-25T11:37:03.625Z"
   },
   {
    "duration": 86,
    "start_time": "2023-01-25T11:37:03.662Z"
   },
   {
    "duration": 59,
    "start_time": "2023-01-25T11:37:03.750Z"
   },
   {
    "duration": 6,
    "start_time": "2023-01-25T11:37:03.810Z"
   },
   {
    "duration": 26,
    "start_time": "2023-01-25T11:37:03.818Z"
   },
   {
    "duration": 5,
    "start_time": "2023-01-25T11:37:03.846Z"
   },
   {
    "duration": 20,
    "start_time": "2023-01-25T11:37:03.852Z"
   },
   {
    "duration": 40,
    "start_time": "2023-01-25T11:37:03.874Z"
   },
   {
    "duration": 67,
    "start_time": "2023-01-25T11:37:03.916Z"
   },
   {
    "duration": 260,
    "start_time": "2023-01-25T11:37:03.985Z"
   },
   {
    "duration": 21,
    "start_time": "2023-01-25T11:37:04.247Z"
   },
   {
    "duration": 14,
    "start_time": "2023-01-25T11:37:04.271Z"
   },
   {
    "duration": 93,
    "start_time": "2023-01-25T11:37:04.286Z"
   },
   {
    "duration": 3,
    "start_time": "2023-01-25T11:37:04.381Z"
   },
   {
    "duration": 15,
    "start_time": "2023-01-25T11:37:04.386Z"
   },
   {
    "duration": 17,
    "start_time": "2023-01-25T11:37:04.403Z"
   },
   {
    "duration": 4,
    "start_time": "2023-01-25T11:37:04.422Z"
   },
   {
    "duration": 8,
    "start_time": "2023-01-25T11:37:04.427Z"
   },
   {
    "duration": 546,
    "start_time": "2023-01-25T11:37:04.436Z"
   },
   {
    "duration": 14,
    "start_time": "2023-01-25T11:37:04.983Z"
   },
   {
    "duration": 78,
    "start_time": "2023-01-25T11:37:04.998Z"
   },
   {
    "duration": 132,
    "start_time": "2023-01-25T11:37:05.077Z"
   },
   {
    "duration": 3,
    "start_time": "2023-01-25T11:37:05.211Z"
   },
   {
    "duration": 214,
    "start_time": "2023-01-25T11:37:05.215Z"
   },
   {
    "duration": 3,
    "start_time": "2023-01-25T11:37:05.430Z"
   },
   {
    "duration": 8,
    "start_time": "2023-01-25T11:37:05.434Z"
   },
   {
    "duration": 80,
    "start_time": "2023-01-25T11:37:05.444Z"
   },
   {
    "duration": 60,
    "start_time": "2023-01-25T11:37:05.525Z"
   },
   {
    "duration": 3,
    "start_time": "2023-01-25T11:37:05.586Z"
   },
   {
    "duration": 66,
    "start_time": "2023-01-25T11:37:05.591Z"
   },
   {
    "duration": 61,
    "start_time": "2023-01-25T11:37:05.658Z"
   },
   {
    "duration": 20,
    "start_time": "2023-01-25T11:37:05.720Z"
   },
   {
    "duration": 2,
    "start_time": "2023-01-25T11:37:05.742Z"
   },
   {
    "duration": 6,
    "start_time": "2023-01-25T11:37:05.746Z"
   },
   {
    "duration": 1831,
    "start_time": "2023-01-25T11:37:05.753Z"
   },
   {
    "duration": 0,
    "start_time": "2023-01-25T11:37:07.586Z"
   },
   {
    "duration": 0,
    "start_time": "2023-01-25T11:37:07.588Z"
   },
   {
    "duration": 0,
    "start_time": "2023-01-25T11:37:07.589Z"
   },
   {
    "duration": 0,
    "start_time": "2023-01-25T11:37:07.590Z"
   },
   {
    "duration": 18,
    "start_time": "2023-01-25T11:38:49.059Z"
   },
   {
    "duration": 1425,
    "start_time": "2023-01-25T11:39:02.315Z"
   },
   {
    "duration": 876,
    "start_time": "2023-01-25T11:39:03.743Z"
   },
   {
    "duration": 5,
    "start_time": "2023-01-25T11:39:04.621Z"
   },
   {
    "duration": 27,
    "start_time": "2023-01-25T11:39:04.628Z"
   },
   {
    "duration": 103,
    "start_time": "2023-01-25T11:39:04.656Z"
   },
   {
    "duration": 25,
    "start_time": "2023-01-25T11:39:04.761Z"
   },
   {
    "duration": 183,
    "start_time": "2023-01-25T11:39:04.788Z"
   },
   {
    "duration": 3,
    "start_time": "2023-01-25T11:39:04.974Z"
   },
   {
    "duration": 26,
    "start_time": "2023-01-25T11:39:04.979Z"
   },
   {
    "duration": 40,
    "start_time": "2023-01-25T11:39:05.008Z"
   },
   {
    "duration": 120,
    "start_time": "2023-01-25T11:39:05.052Z"
   },
   {
    "duration": 5,
    "start_time": "2023-01-25T11:39:05.174Z"
   },
   {
    "duration": 78,
    "start_time": "2023-01-25T11:39:05.181Z"
   },
   {
    "duration": 18,
    "start_time": "2023-01-25T11:39:05.261Z"
   },
   {
    "duration": 84,
    "start_time": "2023-01-25T11:39:05.281Z"
   },
   {
    "duration": 20,
    "start_time": "2023-01-25T11:39:05.367Z"
   },
   {
    "duration": 114,
    "start_time": "2023-01-25T11:39:05.388Z"
   },
   {
    "duration": 124,
    "start_time": "2023-01-25T11:39:05.503Z"
   },
   {
    "duration": 119,
    "start_time": "2023-01-25T11:39:05.629Z"
   },
   {
    "duration": 7,
    "start_time": "2023-01-25T11:39:05.749Z"
   },
   {
    "duration": 37,
    "start_time": "2023-01-25T11:39:05.757Z"
   },
   {
    "duration": 19,
    "start_time": "2023-01-25T11:39:05.795Z"
   },
   {
    "duration": 40,
    "start_time": "2023-01-25T11:39:05.816Z"
   },
   {
    "duration": 60,
    "start_time": "2023-01-25T11:39:05.858Z"
   },
   {
    "duration": 56,
    "start_time": "2023-01-25T11:39:05.920Z"
   },
   {
    "duration": 249,
    "start_time": "2023-01-25T11:39:05.977Z"
   },
   {
    "duration": 25,
    "start_time": "2023-01-25T11:39:06.228Z"
   },
   {
    "duration": 34,
    "start_time": "2023-01-25T11:39:06.257Z"
   },
   {
    "duration": 72,
    "start_time": "2023-01-25T11:39:06.293Z"
   },
   {
    "duration": 8,
    "start_time": "2023-01-25T11:39:06.367Z"
   },
   {
    "duration": 33,
    "start_time": "2023-01-25T11:39:06.376Z"
   },
   {
    "duration": 28,
    "start_time": "2023-01-25T11:39:06.411Z"
   },
   {
    "duration": 19,
    "start_time": "2023-01-25T11:39:06.441Z"
   },
   {
    "duration": 28,
    "start_time": "2023-01-25T11:39:06.461Z"
   },
   {
    "duration": 504,
    "start_time": "2023-01-25T11:39:06.490Z"
   },
   {
    "duration": 11,
    "start_time": "2023-01-25T11:39:06.996Z"
   },
   {
    "duration": 74,
    "start_time": "2023-01-25T11:39:07.009Z"
   },
   {
    "duration": 134,
    "start_time": "2023-01-25T11:39:07.085Z"
   },
   {
    "duration": 3,
    "start_time": "2023-01-25T11:39:07.221Z"
   },
   {
    "duration": 230,
    "start_time": "2023-01-25T11:39:07.225Z"
   },
   {
    "duration": 3,
    "start_time": "2023-01-25T11:39:07.456Z"
   },
   {
    "duration": 15,
    "start_time": "2023-01-25T11:39:07.460Z"
   },
   {
    "duration": 77,
    "start_time": "2023-01-25T11:39:07.476Z"
   },
   {
    "duration": 77,
    "start_time": "2023-01-25T11:39:07.554Z"
   },
   {
    "duration": 4,
    "start_time": "2023-01-25T11:39:07.632Z"
   },
   {
    "duration": 67,
    "start_time": "2023-01-25T11:39:07.644Z"
   },
   {
    "duration": 55,
    "start_time": "2023-01-25T11:39:07.713Z"
   },
   {
    "duration": 19,
    "start_time": "2023-01-25T11:39:07.769Z"
   },
   {
    "duration": 2,
    "start_time": "2023-01-25T11:39:07.790Z"
   },
   {
    "duration": 15,
    "start_time": "2023-01-25T11:39:07.794Z"
   },
   {
    "duration": 1593,
    "start_time": "2023-01-25T11:39:07.811Z"
   },
   {
    "duration": 0,
    "start_time": "2023-01-25T11:39:09.405Z"
   },
   {
    "duration": 1,
    "start_time": "2023-01-25T11:39:09.406Z"
   },
   {
    "duration": 0,
    "start_time": "2023-01-25T11:39:09.407Z"
   },
   {
    "duration": 0,
    "start_time": "2023-01-25T11:39:09.409Z"
   },
   {
    "duration": 9,
    "start_time": "2023-01-25T11:42:06.823Z"
   },
   {
    "duration": 23,
    "start_time": "2023-01-25T11:42:17.948Z"
   },
   {
    "duration": 5,
    "start_time": "2023-01-25T11:44:45.527Z"
   },
   {
    "duration": 2,
    "start_time": "2023-01-25T11:45:37.759Z"
   },
   {
    "duration": 18,
    "start_time": "2023-01-25T11:46:41.104Z"
   },
   {
    "duration": 11,
    "start_time": "2023-01-25T11:47:11.793Z"
   },
   {
    "duration": 8,
    "start_time": "2023-01-25T11:47:16.961Z"
   },
   {
    "duration": 49,
    "start_time": "2023-01-25T11:47:31.130Z"
   },
   {
    "duration": 10,
    "start_time": "2023-01-25T11:47:31.809Z"
   },
   {
    "duration": 67,
    "start_time": "2023-01-25T11:47:49.989Z"
   },
   {
    "duration": 9,
    "start_time": "2023-01-25T11:48:38.173Z"
   },
   {
    "duration": 14,
    "start_time": "2023-01-25T11:48:42.414Z"
   },
   {
    "duration": 20,
    "start_time": "2023-01-25T11:49:06.268Z"
   },
   {
    "duration": 5,
    "start_time": "2023-01-25T11:49:07.348Z"
   },
   {
    "duration": 7,
    "start_time": "2023-01-25T11:49:10.872Z"
   },
   {
    "duration": 38,
    "start_time": "2023-01-25T11:49:19.383Z"
   },
   {
    "duration": 459,
    "start_time": "2023-01-25T11:49:22.759Z"
   },
   {
    "duration": 16,
    "start_time": "2023-01-25T11:49:23.990Z"
   },
   {
    "duration": 58,
    "start_time": "2023-01-25T11:49:27.055Z"
   },
   {
    "duration": 130,
    "start_time": "2023-01-25T11:49:29.027Z"
   },
   {
    "duration": 3,
    "start_time": "2023-01-25T11:49:30.064Z"
   },
   {
    "duration": 116,
    "start_time": "2023-01-25T11:49:40.326Z"
   },
   {
    "duration": 45,
    "start_time": "2023-01-25T11:50:58.017Z"
   },
   {
    "duration": 124,
    "start_time": "2023-01-25T11:50:59.658Z"
   },
   {
    "duration": 3,
    "start_time": "2023-01-25T11:51:00.930Z"
   },
   {
    "duration": 80,
    "start_time": "2023-01-25T11:51:06.011Z"
   },
   {
    "duration": 3,
    "start_time": "2023-01-25T11:51:21.698Z"
   },
   {
    "duration": 4,
    "start_time": "2023-01-25T11:51:24.865Z"
   },
   {
    "duration": 1415,
    "start_time": "2023-01-25T11:55:19.759Z"
   },
   {
    "duration": 975,
    "start_time": "2023-01-25T11:55:21.176Z"
   },
   {
    "duration": 4,
    "start_time": "2023-01-25T11:55:22.157Z"
   },
   {
    "duration": 29,
    "start_time": "2023-01-25T11:55:22.163Z"
   },
   {
    "duration": 94,
    "start_time": "2023-01-25T11:55:22.193Z"
   },
   {
    "duration": 28,
    "start_time": "2023-01-25T11:55:22.289Z"
   },
   {
    "duration": 158,
    "start_time": "2023-01-25T11:55:22.318Z"
   },
   {
    "duration": 2,
    "start_time": "2023-01-25T11:55:22.477Z"
   },
   {
    "duration": 5,
    "start_time": "2023-01-25T11:55:22.481Z"
   },
   {
    "duration": 10,
    "start_time": "2023-01-25T11:55:22.489Z"
   },
   {
    "duration": 101,
    "start_time": "2023-01-25T11:55:22.500Z"
   },
   {
    "duration": 5,
    "start_time": "2023-01-25T11:55:22.603Z"
   },
   {
    "duration": 50,
    "start_time": "2023-01-25T11:55:22.609Z"
   },
   {
    "duration": 5,
    "start_time": "2023-01-25T11:55:22.661Z"
   },
   {
    "duration": 79,
    "start_time": "2023-01-25T11:55:22.668Z"
   },
   {
    "duration": 19,
    "start_time": "2023-01-25T11:55:22.756Z"
   },
   {
    "duration": 23,
    "start_time": "2023-01-25T11:55:22.776Z"
   },
   {
    "duration": 86,
    "start_time": "2023-01-25T11:55:22.801Z"
   },
   {
    "duration": 76,
    "start_time": "2023-01-25T11:55:22.888Z"
   },
   {
    "duration": 7,
    "start_time": "2023-01-25T11:55:22.966Z"
   },
   {
    "duration": 10,
    "start_time": "2023-01-25T11:55:22.974Z"
   },
   {
    "duration": 7,
    "start_time": "2023-01-25T11:55:22.985Z"
   },
   {
    "duration": 21,
    "start_time": "2023-01-25T11:55:22.993Z"
   },
   {
    "duration": 65,
    "start_time": "2023-01-25T11:55:23.016Z"
   },
   {
    "duration": 44,
    "start_time": "2023-01-25T11:55:23.083Z"
   },
   {
    "duration": 247,
    "start_time": "2023-01-25T11:55:23.128Z"
   },
   {
    "duration": 20,
    "start_time": "2023-01-25T11:55:23.376Z"
   },
   {
    "duration": 14,
    "start_time": "2023-01-25T11:55:23.399Z"
   },
   {
    "duration": 93,
    "start_time": "2023-01-25T11:55:23.414Z"
   },
   {
    "duration": 21,
    "start_time": "2023-01-25T11:55:23.509Z"
   },
   {
    "duration": 13,
    "start_time": "2023-01-25T11:55:23.532Z"
   },
   {
    "duration": 50,
    "start_time": "2023-01-25T11:55:23.550Z"
   },
   {
    "duration": 86,
    "start_time": "2023-01-25T11:55:23.601Z"
   },
   {
    "duration": 12,
    "start_time": "2023-01-25T11:55:23.688Z"
   },
   {
    "duration": 13,
    "start_time": "2023-01-25T11:55:23.701Z"
   },
   {
    "duration": 4,
    "start_time": "2023-01-25T11:55:23.715Z"
   },
   {
    "duration": 5,
    "start_time": "2023-01-25T11:55:23.720Z"
   },
   {
    "duration": 46,
    "start_time": "2023-01-25T11:55:23.748Z"
   },
   {
    "duration": 486,
    "start_time": "2023-01-25T11:55:23.796Z"
   },
   {
    "duration": 11,
    "start_time": "2023-01-25T11:55:24.284Z"
   },
   {
    "duration": 67,
    "start_time": "2023-01-25T11:55:24.296Z"
   },
   {
    "duration": 137,
    "start_time": "2023-01-25T11:55:24.365Z"
   },
   {
    "duration": 4,
    "start_time": "2023-01-25T11:55:24.504Z"
   },
   {
    "duration": 8,
    "start_time": "2023-01-25T11:55:24.509Z"
   },
   {
    "duration": 68,
    "start_time": "2023-01-25T11:55:24.518Z"
   },
   {
    "duration": 3,
    "start_time": "2023-01-25T11:55:24.588Z"
   },
   {
    "duration": 10,
    "start_time": "2023-01-25T11:55:24.592Z"
   },
   {
    "duration": 27800,
    "start_time": "2023-01-25T11:55:24.644Z"
   },
   {
    "duration": 158,
    "start_time": "2023-01-25T11:55:52.446Z"
   },
   {
    "duration": 3,
    "start_time": "2023-01-25T11:55:52.605Z"
   },
   {
    "duration": 56,
    "start_time": "2023-01-25T11:55:52.610Z"
   },
   {
    "duration": 53,
    "start_time": "2023-01-25T11:55:52.668Z"
   },
   {
    "duration": 20,
    "start_time": "2023-01-25T11:55:52.723Z"
   },
   {
    "duration": 3,
    "start_time": "2023-01-25T11:55:52.744Z"
   },
   {
    "duration": 8,
    "start_time": "2023-01-25T11:55:52.749Z"
   },
   {
    "duration": 1075,
    "start_time": "2023-01-25T11:55:52.758Z"
   },
   {
    "duration": 53,
    "start_time": "2023-01-25T11:55:53.834Z"
   },
   {
    "duration": 3,
    "start_time": "2023-01-25T11:55:53.888Z"
   },
   {
    "duration": 12,
    "start_time": "2023-01-25T11:55:53.892Z"
   },
   {
    "duration": 0,
    "start_time": "2023-01-25T11:55:53.905Z"
   },
   {
    "duration": 82,
    "start_time": "2023-01-25T12:01:05.335Z"
   },
   {
    "duration": 398,
    "start_time": "2023-01-25T12:01:40.150Z"
   },
   {
    "duration": 4,
    "start_time": "2023-01-25T12:01:53.716Z"
   },
   {
    "duration": 4,
    "start_time": "2023-01-25T12:02:10.226Z"
   },
   {
    "duration": 81,
    "start_time": "2023-01-25T12:02:13.946Z"
   },
   {
    "duration": 6426,
    "start_time": "2023-01-25T12:02:27.523Z"
   },
   {
    "duration": 413,
    "start_time": "2023-01-25T12:03:07.435Z"
   },
   {
    "duration": 3,
    "start_time": "2023-01-25T12:40:28.371Z"
   },
   {
    "duration": 2,
    "start_time": "2023-01-25T12:40:29.557Z"
   },
   {
    "duration": 2,
    "start_time": "2023-01-25T12:40:32.621Z"
   },
   {
    "duration": 1273,
    "start_time": "2023-01-25T12:40:33.524Z"
   },
   {
    "duration": 60,
    "start_time": "2023-01-25T12:40:38.971Z"
   },
   {
    "duration": 59,
    "start_time": "2023-01-25T12:40:55.260Z"
   },
   {
    "duration": 11,
    "start_time": "2023-01-25T12:41:28.288Z"
   },
   {
    "duration": 3,
    "start_time": "2023-01-25T12:41:31.087Z"
   },
   {
    "duration": 1738,
    "start_time": "2023-01-25T12:41:47.199Z"
   },
   {
    "duration": 63,
    "start_time": "2023-01-25T12:42:53.254Z"
   },
   {
    "duration": 14,
    "start_time": "2023-01-25T12:43:14.705Z"
   },
   {
    "duration": 4,
    "start_time": "2023-01-25T13:13:59.980Z"
   },
   {
    "duration": 4,
    "start_time": "2023-01-25T13:15:15.293Z"
   },
   {
    "duration": 9,
    "start_time": "2023-01-25T13:21:48.787Z"
   },
   {
    "duration": 4,
    "start_time": "2023-01-25T13:22:00.563Z"
   },
   {
    "duration": 123,
    "start_time": "2023-01-25T13:22:01.450Z"
   },
   {
    "duration": 3,
    "start_time": "2023-01-25T13:23:08.876Z"
   },
   {
    "duration": 1459,
    "start_time": "2023-01-25T13:23:14.373Z"
   },
   {
    "duration": 893,
    "start_time": "2023-01-25T13:23:15.834Z"
   },
   {
    "duration": 6,
    "start_time": "2023-01-25T13:23:16.729Z"
   },
   {
    "duration": 20,
    "start_time": "2023-01-25T13:23:16.744Z"
   },
   {
    "duration": 96,
    "start_time": "2023-01-25T13:23:16.765Z"
   },
   {
    "duration": 27,
    "start_time": "2023-01-25T13:23:16.863Z"
   },
   {
    "duration": 137,
    "start_time": "2023-01-25T13:23:16.892Z"
   },
   {
    "duration": 14,
    "start_time": "2023-01-25T13:23:17.030Z"
   },
   {
    "duration": 4,
    "start_time": "2023-01-25T13:23:17.045Z"
   },
   {
    "duration": 9,
    "start_time": "2023-01-25T13:23:17.051Z"
   },
   {
    "duration": 88,
    "start_time": "2023-01-25T13:23:17.062Z"
   },
   {
    "duration": 4,
    "start_time": "2023-01-25T13:23:17.152Z"
   },
   {
    "duration": 41,
    "start_time": "2023-01-25T13:23:17.158Z"
   },
   {
    "duration": 5,
    "start_time": "2023-01-25T13:23:17.200Z"
   },
   {
    "duration": 78,
    "start_time": "2023-01-25T13:23:17.207Z"
   },
   {
    "duration": 20,
    "start_time": "2023-01-25T13:23:17.286Z"
   },
   {
    "duration": 36,
    "start_time": "2023-01-25T13:23:17.308Z"
   },
   {
    "duration": 79,
    "start_time": "2023-01-25T13:23:17.346Z"
   },
   {
    "duration": 68,
    "start_time": "2023-01-25T13:23:17.427Z"
   },
   {
    "duration": 6,
    "start_time": "2023-01-25T13:23:17.497Z"
   },
   {
    "duration": 8,
    "start_time": "2023-01-25T13:23:17.504Z"
   },
   {
    "duration": 5,
    "start_time": "2023-01-25T13:23:17.513Z"
   },
   {
    "duration": 38,
    "start_time": "2023-01-25T13:23:17.520Z"
   },
   {
    "duration": 44,
    "start_time": "2023-01-25T13:23:17.560Z"
   },
   {
    "duration": 67,
    "start_time": "2023-01-25T13:23:17.606Z"
   },
   {
    "duration": 234,
    "start_time": "2023-01-25T13:23:17.675Z"
   },
   {
    "duration": 19,
    "start_time": "2023-01-25T13:23:17.911Z"
   },
   {
    "duration": 13,
    "start_time": "2023-01-25T13:23:17.943Z"
   },
   {
    "duration": 66,
    "start_time": "2023-01-25T13:23:17.958Z"
   },
   {
    "duration": 20,
    "start_time": "2023-01-25T13:23:18.026Z"
   },
   {
    "duration": 22,
    "start_time": "2023-01-25T13:23:18.048Z"
   },
   {
    "duration": 39,
    "start_time": "2023-01-25T13:23:18.072Z"
   },
   {
    "duration": 65,
    "start_time": "2023-01-25T13:23:18.113Z"
   },
   {
    "duration": 11,
    "start_time": "2023-01-25T13:23:18.180Z"
   },
   {
    "duration": 12,
    "start_time": "2023-01-25T13:23:18.192Z"
   },
   {
    "duration": 4,
    "start_time": "2023-01-25T13:23:18.205Z"
   },
   {
    "duration": 8,
    "start_time": "2023-01-25T13:23:18.210Z"
   },
   {
    "duration": 59,
    "start_time": "2023-01-25T13:23:18.220Z"
   },
   {
    "duration": 430,
    "start_time": "2023-01-25T13:23:18.281Z"
   },
   {
    "duration": 10,
    "start_time": "2023-01-25T13:23:18.713Z"
   },
   {
    "duration": 53,
    "start_time": "2023-01-25T13:23:18.725Z"
   },
   {
    "duration": 124,
    "start_time": "2023-01-25T13:23:18.782Z"
   },
   {
    "duration": 3,
    "start_time": "2023-01-25T13:23:18.908Z"
   },
   {
    "duration": 110,
    "start_time": "2023-01-25T13:23:18.912Z"
   },
   {
    "duration": 0,
    "start_time": "2023-01-25T13:23:19.024Z"
   },
   {
    "duration": 0,
    "start_time": "2023-01-25T13:23:19.024Z"
   },
   {
    "duration": 0,
    "start_time": "2023-01-25T13:23:19.026Z"
   },
   {
    "duration": 0,
    "start_time": "2023-01-25T13:23:19.026Z"
   },
   {
    "duration": 0,
    "start_time": "2023-01-25T13:23:19.028Z"
   },
   {
    "duration": 0,
    "start_time": "2023-01-25T13:23:19.029Z"
   },
   {
    "duration": 0,
    "start_time": "2023-01-25T13:23:19.044Z"
   },
   {
    "duration": 0,
    "start_time": "2023-01-25T13:23:19.045Z"
   },
   {
    "duration": 0,
    "start_time": "2023-01-25T13:23:19.046Z"
   },
   {
    "duration": 0,
    "start_time": "2023-01-25T13:23:19.047Z"
   },
   {
    "duration": 0,
    "start_time": "2023-01-25T13:23:19.048Z"
   },
   {
    "duration": 0,
    "start_time": "2023-01-25T13:23:19.049Z"
   },
   {
    "duration": 0,
    "start_time": "2023-01-25T13:23:19.050Z"
   },
   {
    "duration": 0,
    "start_time": "2023-01-25T13:23:19.051Z"
   },
   {
    "duration": 0,
    "start_time": "2023-01-25T13:23:19.052Z"
   },
   {
    "duration": 0,
    "start_time": "2023-01-25T13:23:19.052Z"
   },
   {
    "duration": 0,
    "start_time": "2023-01-25T13:23:19.053Z"
   },
   {
    "duration": 0,
    "start_time": "2023-01-25T13:23:19.054Z"
   },
   {
    "duration": 1368,
    "start_time": "2023-01-25T13:28:24.406Z"
   },
   {
    "duration": 890,
    "start_time": "2023-01-25T13:28:25.776Z"
   },
   {
    "duration": 5,
    "start_time": "2023-01-25T13:28:26.669Z"
   },
   {
    "duration": 16,
    "start_time": "2023-01-25T13:28:26.676Z"
   },
   {
    "duration": 106,
    "start_time": "2023-01-25T13:28:26.693Z"
   },
   {
    "duration": 30,
    "start_time": "2023-01-25T13:28:26.801Z"
   },
   {
    "duration": 132,
    "start_time": "2023-01-25T13:28:26.844Z"
   },
   {
    "duration": 3,
    "start_time": "2023-01-25T13:28:26.978Z"
   },
   {
    "duration": 6,
    "start_time": "2023-01-25T13:28:26.982Z"
   },
   {
    "duration": 9,
    "start_time": "2023-01-25T13:28:26.991Z"
   },
   {
    "duration": 113,
    "start_time": "2023-01-25T13:28:27.001Z"
   },
   {
    "duration": 7,
    "start_time": "2023-01-25T13:28:27.115Z"
   },
   {
    "duration": 51,
    "start_time": "2023-01-25T13:28:27.123Z"
   },
   {
    "duration": 7,
    "start_time": "2023-01-25T13:28:27.176Z"
   },
   {
    "duration": 83,
    "start_time": "2023-01-25T13:28:27.184Z"
   },
   {
    "duration": 19,
    "start_time": "2023-01-25T13:28:27.269Z"
   },
   {
    "duration": 41,
    "start_time": "2023-01-25T13:28:27.291Z"
   },
   {
    "duration": 88,
    "start_time": "2023-01-25T13:28:27.334Z"
   },
   {
    "duration": 73,
    "start_time": "2023-01-25T13:28:27.423Z"
   },
   {
    "duration": 6,
    "start_time": "2023-01-25T13:28:27.498Z"
   },
   {
    "duration": 17,
    "start_time": "2023-01-25T13:28:27.506Z"
   },
   {
    "duration": 27,
    "start_time": "2023-01-25T13:28:27.525Z"
   },
   {
    "duration": 18,
    "start_time": "2023-01-25T13:28:27.554Z"
   },
   {
    "duration": 42,
    "start_time": "2023-01-25T13:28:27.574Z"
   },
   {
    "duration": 66,
    "start_time": "2023-01-25T13:28:27.618Z"
   },
   {
    "duration": 227,
    "start_time": "2023-01-25T13:28:27.685Z"
   },
   {
    "duration": 19,
    "start_time": "2023-01-25T13:28:27.914Z"
   },
   {
    "duration": 13,
    "start_time": "2023-01-25T13:28:27.946Z"
   },
   {
    "duration": 68,
    "start_time": "2023-01-25T13:28:27.960Z"
   },
   {
    "duration": 16,
    "start_time": "2023-01-25T13:28:28.029Z"
   },
   {
    "duration": 3,
    "start_time": "2023-01-25T13:28:28.046Z"
   },
   {
    "duration": 30,
    "start_time": "2023-01-25T13:28:28.050Z"
   },
   {
    "duration": 88,
    "start_time": "2023-01-25T13:28:28.082Z"
   },
   {
    "duration": 11,
    "start_time": "2023-01-25T13:28:28.172Z"
   },
   {
    "duration": 13,
    "start_time": "2023-01-25T13:28:28.185Z"
   },
   {
    "duration": 4,
    "start_time": "2023-01-25T13:28:28.199Z"
   },
   {
    "duration": 5,
    "start_time": "2023-01-25T13:28:28.205Z"
   },
   {
    "duration": 68,
    "start_time": "2023-01-25T13:28:28.211Z"
   },
   {
    "duration": 445,
    "start_time": "2023-01-25T13:28:28.281Z"
   },
   {
    "duration": 18,
    "start_time": "2023-01-25T13:28:28.727Z"
   },
   {
    "duration": 50,
    "start_time": "2023-01-25T13:28:28.746Z"
   },
   {
    "duration": 138,
    "start_time": "2023-01-25T13:28:28.798Z"
   },
   {
    "duration": 6,
    "start_time": "2023-01-25T13:28:28.938Z"
   },
   {
    "duration": 4,
    "start_time": "2023-01-25T13:28:28.946Z"
   },
   {
    "duration": 154,
    "start_time": "2023-01-25T13:28:28.951Z"
   },
   {
    "duration": 9,
    "start_time": "2023-01-25T13:28:29.107Z"
   },
   {
    "duration": 0,
    "start_time": "2023-01-25T13:28:29.118Z"
   },
   {
    "duration": 0,
    "start_time": "2023-01-25T13:28:29.120Z"
   },
   {
    "duration": 0,
    "start_time": "2023-01-25T13:28:29.121Z"
   },
   {
    "duration": 0,
    "start_time": "2023-01-25T13:28:29.123Z"
   },
   {
    "duration": 0,
    "start_time": "2023-01-25T13:28:29.124Z"
   },
   {
    "duration": 0,
    "start_time": "2023-01-25T13:28:29.125Z"
   },
   {
    "duration": 0,
    "start_time": "2023-01-25T13:28:29.127Z"
   },
   {
    "duration": 0,
    "start_time": "2023-01-25T13:28:29.128Z"
   },
   {
    "duration": 0,
    "start_time": "2023-01-25T13:28:29.129Z"
   },
   {
    "duration": 0,
    "start_time": "2023-01-25T13:28:29.131Z"
   },
   {
    "duration": 0,
    "start_time": "2023-01-25T13:28:29.143Z"
   },
   {
    "duration": 0,
    "start_time": "2023-01-25T13:28:29.144Z"
   },
   {
    "duration": 0,
    "start_time": "2023-01-25T13:28:29.146Z"
   },
   {
    "duration": 0,
    "start_time": "2023-01-25T13:28:29.147Z"
   },
   {
    "duration": 0,
    "start_time": "2023-01-25T13:28:29.148Z"
   },
   {
    "duration": 212,
    "start_time": "2023-01-25T13:29:15.900Z"
   },
   {
    "duration": 1435,
    "start_time": "2023-01-25T13:29:22.349Z"
   },
   {
    "duration": 899,
    "start_time": "2023-01-25T13:29:23.786Z"
   },
   {
    "duration": 5,
    "start_time": "2023-01-25T13:29:24.687Z"
   },
   {
    "duration": 30,
    "start_time": "2023-01-25T13:29:24.694Z"
   },
   {
    "duration": 166,
    "start_time": "2023-01-25T13:29:24.726Z"
   },
   {
    "duration": 25,
    "start_time": "2023-01-25T13:29:24.894Z"
   },
   {
    "duration": 159,
    "start_time": "2023-01-25T13:29:24.921Z"
   },
   {
    "duration": 2,
    "start_time": "2023-01-25T13:29:25.082Z"
   },
   {
    "duration": 13,
    "start_time": "2023-01-25T13:29:25.085Z"
   },
   {
    "duration": 9,
    "start_time": "2023-01-25T13:29:25.101Z"
   },
   {
    "duration": 97,
    "start_time": "2023-01-25T13:29:25.111Z"
   },
   {
    "duration": 5,
    "start_time": "2023-01-25T13:29:25.209Z"
   },
   {
    "duration": 44,
    "start_time": "2023-01-25T13:29:25.216Z"
   },
   {
    "duration": 6,
    "start_time": "2023-01-25T13:29:25.262Z"
   },
   {
    "duration": 77,
    "start_time": "2023-01-25T13:29:25.269Z"
   },
   {
    "duration": 19,
    "start_time": "2023-01-25T13:29:25.348Z"
   },
   {
    "duration": 26,
    "start_time": "2023-01-25T13:29:25.369Z"
   },
   {
    "duration": 91,
    "start_time": "2023-01-25T13:29:25.397Z"
   },
   {
    "duration": 67,
    "start_time": "2023-01-25T13:29:25.490Z"
   },
   {
    "duration": 7,
    "start_time": "2023-01-25T13:29:25.558Z"
   },
   {
    "duration": 11,
    "start_time": "2023-01-25T13:29:25.567Z"
   },
   {
    "duration": 8,
    "start_time": "2023-01-25T13:29:25.580Z"
   },
   {
    "duration": 24,
    "start_time": "2023-01-25T13:29:25.590Z"
   },
   {
    "duration": 72,
    "start_time": "2023-01-25T13:29:25.615Z"
   },
   {
    "duration": 56,
    "start_time": "2023-01-25T13:29:25.689Z"
   },
   {
    "duration": 229,
    "start_time": "2023-01-25T13:29:25.746Z"
   },
   {
    "duration": 21,
    "start_time": "2023-01-25T13:29:25.977Z"
   },
   {
    "duration": 13,
    "start_time": "2023-01-25T13:29:26.002Z"
   },
   {
    "duration": 83,
    "start_time": "2023-01-25T13:29:26.016Z"
   },
   {
    "duration": 4,
    "start_time": "2023-01-25T13:29:26.100Z"
   },
   {
    "duration": 15,
    "start_time": "2023-01-25T13:29:26.105Z"
   },
   {
    "duration": 45,
    "start_time": "2023-01-25T13:29:26.121Z"
   },
   {
    "duration": 76,
    "start_time": "2023-01-25T13:29:26.168Z"
   },
   {
    "duration": 12,
    "start_time": "2023-01-25T13:29:26.245Z"
   },
   {
    "duration": 15,
    "start_time": "2023-01-25T13:29:26.259Z"
   },
   {
    "duration": 12,
    "start_time": "2023-01-25T13:29:26.276Z"
   },
   {
    "duration": 11,
    "start_time": "2023-01-25T13:29:26.289Z"
   },
   {
    "duration": 57,
    "start_time": "2023-01-25T13:29:26.301Z"
   },
   {
    "duration": 465,
    "start_time": "2023-01-25T13:29:26.360Z"
   },
   {
    "duration": 18,
    "start_time": "2023-01-25T13:29:26.826Z"
   },
   {
    "duration": 59,
    "start_time": "2023-01-25T13:29:26.846Z"
   },
   {
    "duration": 138,
    "start_time": "2023-01-25T13:29:26.906Z"
   },
   {
    "duration": 4,
    "start_time": "2023-01-25T13:29:27.045Z"
   },
   {
    "duration": 9,
    "start_time": "2023-01-25T13:29:27.051Z"
   },
   {
    "duration": 154,
    "start_time": "2023-01-25T13:29:27.061Z"
   },
   {
    "duration": 8,
    "start_time": "2023-01-25T13:29:27.217Z"
   },
   {
    "duration": 0,
    "start_time": "2023-01-25T13:29:27.226Z"
   },
   {
    "duration": 0,
    "start_time": "2023-01-25T13:29:27.227Z"
   },
   {
    "duration": 0,
    "start_time": "2023-01-25T13:29:27.228Z"
   },
   {
    "duration": 0,
    "start_time": "2023-01-25T13:29:27.229Z"
   },
   {
    "duration": 0,
    "start_time": "2023-01-25T13:29:27.230Z"
   },
   {
    "duration": 0,
    "start_time": "2023-01-25T13:29:27.231Z"
   },
   {
    "duration": 0,
    "start_time": "2023-01-25T13:29:27.233Z"
   },
   {
    "duration": 0,
    "start_time": "2023-01-25T13:29:27.233Z"
   },
   {
    "duration": 0,
    "start_time": "2023-01-25T13:29:27.234Z"
   },
   {
    "duration": 0,
    "start_time": "2023-01-25T13:29:27.235Z"
   },
   {
    "duration": 0,
    "start_time": "2023-01-25T13:29:27.237Z"
   },
   {
    "duration": 0,
    "start_time": "2023-01-25T13:29:27.244Z"
   },
   {
    "duration": 0,
    "start_time": "2023-01-25T13:29:27.245Z"
   },
   {
    "duration": 0,
    "start_time": "2023-01-25T13:29:27.246Z"
   },
   {
    "duration": 0,
    "start_time": "2023-01-25T13:29:27.247Z"
   },
   {
    "duration": 4,
    "start_time": "2023-01-25T13:30:41.298Z"
   },
   {
    "duration": 56,
    "start_time": "2023-01-25T13:30:51.928Z"
   },
   {
    "duration": 4,
    "start_time": "2023-01-25T13:31:41.943Z"
   },
   {
    "duration": 187223,
    "start_time": "2023-01-25T13:31:42.925Z"
   },
   {
    "duration": 0,
    "start_time": "2023-01-25T13:35:53.157Z"
   },
   {
    "duration": 129136,
    "start_time": "2023-01-25T13:36:34.483Z"
   },
   {
    "duration": 4,
    "start_time": "2023-01-25T13:40:17.510Z"
   },
   {
    "duration": 4,
    "start_time": "2023-01-25T13:40:25.400Z"
   },
   {
    "duration": 192725,
    "start_time": "2023-01-25T13:40:27.161Z"
   },
   {
    "duration": 42324,
    "start_time": "2023-01-25T13:43:39.888Z"
   },
   {
    "duration": 10,
    "start_time": "2023-01-25T13:45:26.217Z"
   },
   {
    "duration": 4,
    "start_time": "2023-01-25T13:47:32.622Z"
   },
   {
    "duration": 67902,
    "start_time": "2023-01-25T13:47:42.904Z"
   },
   {
    "duration": 3,
    "start_time": "2023-01-25T13:56:30.145Z"
   },
   {
    "duration": 5,
    "start_time": "2023-01-25T13:56:31.610Z"
   },
   {
    "duration": 5676,
    "start_time": "2023-01-25T13:56:32.973Z"
   },
   {
    "duration": 395,
    "start_time": "2023-01-25T13:56:38.651Z"
   },
   {
    "duration": 3,
    "start_time": "2023-01-25T13:56:39.047Z"
   },
   {
    "duration": 7193,
    "start_time": "2023-01-25T13:56:39.052Z"
   },
   {
    "duration": 399,
    "start_time": "2023-01-25T13:56:46.247Z"
   },
   {
    "duration": 18,
    "start_time": "2023-01-25T13:56:46.648Z"
   },
   {
    "duration": 3,
    "start_time": "2023-01-25T13:56:46.668Z"
   },
   {
    "duration": 21,
    "start_time": "2023-01-25T13:56:46.672Z"
   },
   {
    "duration": 1060,
    "start_time": "2023-01-25T13:56:46.694Z"
   },
   {
    "duration": 12,
    "start_time": "2023-01-25T13:56:47.757Z"
   },
   {
    "duration": 3,
    "start_time": "2023-01-25T13:56:47.770Z"
   },
   {
    "duration": 1450,
    "start_time": "2023-01-25T13:56:47.775Z"
   },
   {
    "duration": 12,
    "start_time": "2023-01-25T13:56:49.226Z"
   },
   {
    "duration": 12,
    "start_time": "2023-01-25T13:56:49.240Z"
   },
   {
    "duration": 44,
    "start_time": "2023-01-25T14:01:41.028Z"
   },
   {
    "duration": 41,
    "start_time": "2023-01-25T14:02:16.741Z"
   },
   {
    "duration": 117,
    "start_time": "2023-01-25T14:02:19.381Z"
   },
   {
    "duration": 4,
    "start_time": "2023-01-25T14:02:20.318Z"
   },
   {
    "duration": 1329,
    "start_time": "2023-01-25T14:02:28.304Z"
   },
   {
    "duration": 890,
    "start_time": "2023-01-25T14:02:29.635Z"
   },
   {
    "duration": 4,
    "start_time": "2023-01-25T14:02:30.527Z"
   },
   {
    "duration": 61,
    "start_time": "2023-01-25T14:02:30.543Z"
   },
   {
    "duration": 160,
    "start_time": "2023-01-25T14:02:30.605Z"
   },
   {
    "duration": 24,
    "start_time": "2023-01-25T14:02:30.766Z"
   },
   {
    "duration": 162,
    "start_time": "2023-01-25T14:02:30.792Z"
   },
   {
    "duration": 2,
    "start_time": "2023-01-25T14:02:30.956Z"
   },
   {
    "duration": 40,
    "start_time": "2023-01-25T14:02:30.960Z"
   },
   {
    "duration": 156,
    "start_time": "2023-01-25T14:02:31.002Z"
   },
   {
    "duration": 213,
    "start_time": "2023-01-25T14:02:31.160Z"
   },
   {
    "duration": 22,
    "start_time": "2023-01-25T14:02:31.374Z"
   },
   {
    "duration": 79,
    "start_time": "2023-01-25T14:02:31.397Z"
   },
   {
    "duration": 6,
    "start_time": "2023-01-25T14:02:31.477Z"
   },
   {
    "duration": 106,
    "start_time": "2023-01-25T14:02:31.484Z"
   },
   {
    "duration": 18,
    "start_time": "2023-01-25T14:02:31.592Z"
   },
   {
    "duration": 34,
    "start_time": "2023-01-25T14:02:31.611Z"
   },
   {
    "duration": 99,
    "start_time": "2023-01-25T14:02:31.646Z"
   },
   {
    "duration": 59,
    "start_time": "2023-01-25T14:02:31.747Z"
   },
   {
    "duration": 8,
    "start_time": "2023-01-25T14:02:31.807Z"
   },
   {
    "duration": 29,
    "start_time": "2023-01-25T14:02:31.816Z"
   },
   {
    "duration": 6,
    "start_time": "2023-01-25T14:02:31.846Z"
   },
   {
    "duration": 42,
    "start_time": "2023-01-25T14:02:31.854Z"
   },
   {
    "duration": 46,
    "start_time": "2023-01-25T14:02:31.898Z"
   },
   {
    "duration": 45,
    "start_time": "2023-01-25T14:02:31.945Z"
   },
   {
    "duration": 238,
    "start_time": "2023-01-25T14:02:31.992Z"
   },
   {
    "duration": 29,
    "start_time": "2023-01-25T14:02:32.232Z"
   },
   {
    "duration": 21,
    "start_time": "2023-01-25T14:02:32.265Z"
   },
   {
    "duration": 75,
    "start_time": "2023-01-25T14:02:32.287Z"
   },
   {
    "duration": 9,
    "start_time": "2023-01-25T14:02:32.363Z"
   },
   {
    "duration": 44,
    "start_time": "2023-01-25T14:02:32.373Z"
   },
   {
    "duration": 44,
    "start_time": "2023-01-25T14:02:32.419Z"
   },
   {
    "duration": 68,
    "start_time": "2023-01-25T14:02:32.464Z"
   },
   {
    "duration": 13,
    "start_time": "2023-01-25T14:02:32.543Z"
   },
   {
    "duration": 29,
    "start_time": "2023-01-25T14:02:32.558Z"
   },
   {
    "duration": 31,
    "start_time": "2023-01-25T14:02:32.588Z"
   },
   {
    "duration": 21,
    "start_time": "2023-01-25T14:02:32.620Z"
   },
   {
    "duration": 77,
    "start_time": "2023-01-25T14:02:32.642Z"
   },
   {
    "duration": 426,
    "start_time": "2023-01-25T14:02:32.720Z"
   },
   {
    "duration": 11,
    "start_time": "2023-01-25T14:02:33.148Z"
   },
   {
    "duration": 94,
    "start_time": "2023-01-25T14:02:33.160Z"
   },
   {
    "duration": 141,
    "start_time": "2023-01-25T14:02:33.256Z"
   },
   {
    "duration": 4,
    "start_time": "2023-01-25T14:02:33.398Z"
   },
   {
    "duration": 13,
    "start_time": "2023-01-25T14:02:33.404Z"
   },
   {
    "duration": 151569,
    "start_time": "2023-01-25T14:02:33.419Z"
   },
   {
    "duration": 84933,
    "start_time": "2023-01-25T14:05:04.990Z"
   },
   {
    "duration": 2,
    "start_time": "2023-01-25T14:06:29.925Z"
   },
   {
    "duration": 12,
    "start_time": "2023-01-25T14:06:29.928Z"
   },
   {
    "duration": 5705,
    "start_time": "2023-01-25T14:06:29.941Z"
   },
   {
    "duration": 310,
    "start_time": "2023-01-25T14:06:35.648Z"
   },
   {
    "duration": 2,
    "start_time": "2023-01-25T14:06:35.960Z"
   },
   {
    "duration": 4242,
    "start_time": "2023-01-26T08:53:55.242Z"
   },
   {
    "duration": 4002,
    "start_time": "2023-01-26T08:53:59.486Z"
   },
   {
    "duration": 20,
    "start_time": "2023-01-26T08:54:03.492Z"
   },
   {
    "duration": 57,
    "start_time": "2023-01-26T08:54:03.518Z"
   },
   {
    "duration": 108,
    "start_time": "2023-01-26T08:54:03.576Z"
   },
   {
    "duration": 43,
    "start_time": "2023-01-26T08:54:03.686Z"
   },
   {
    "duration": 188,
    "start_time": "2023-01-26T08:54:03.731Z"
   },
   {
    "duration": 4,
    "start_time": "2023-01-26T08:54:03.921Z"
   },
   {
    "duration": 9,
    "start_time": "2023-01-26T08:54:03.929Z"
   },
   {
    "duration": 9,
    "start_time": "2023-01-26T08:54:03.941Z"
   },
   {
    "duration": 111,
    "start_time": "2023-01-26T08:54:03.952Z"
   },
   {
    "duration": 5,
    "start_time": "2023-01-26T08:54:04.065Z"
   },
   {
    "duration": 50,
    "start_time": "2023-01-26T08:54:04.072Z"
   },
   {
    "duration": 11,
    "start_time": "2023-01-26T08:54:04.124Z"
   },
   {
    "duration": 81,
    "start_time": "2023-01-26T08:54:04.137Z"
   },
   {
    "duration": 26,
    "start_time": "2023-01-26T08:54:04.220Z"
   },
   {
    "duration": 42,
    "start_time": "2023-01-26T08:54:04.248Z"
   },
   {
    "duration": 115,
    "start_time": "2023-01-26T08:54:04.294Z"
   },
   {
    "duration": 92,
    "start_time": "2023-01-26T08:54:04.410Z"
   },
   {
    "duration": 13,
    "start_time": "2023-01-26T08:54:04.511Z"
   },
   {
    "duration": 16,
    "start_time": "2023-01-26T08:54:04.531Z"
   },
   {
    "duration": 9,
    "start_time": "2023-01-26T08:54:04.549Z"
   },
   {
    "duration": 29,
    "start_time": "2023-01-26T08:54:04.560Z"
   },
   {
    "duration": 54,
    "start_time": "2023-01-26T08:54:04.597Z"
   },
   {
    "duration": 74,
    "start_time": "2023-01-26T08:54:04.652Z"
   },
   {
    "duration": 294,
    "start_time": "2023-01-26T08:54:04.730Z"
   },
   {
    "duration": 22,
    "start_time": "2023-01-26T08:54:05.027Z"
   },
   {
    "duration": 27,
    "start_time": "2023-01-26T08:54:05.053Z"
   },
   {
    "duration": 80,
    "start_time": "2023-01-26T08:54:05.082Z"
   },
   {
    "duration": 4,
    "start_time": "2023-01-26T08:54:05.164Z"
   },
   {
    "duration": 4,
    "start_time": "2023-01-26T08:54:05.170Z"
   },
   {
    "duration": 39,
    "start_time": "2023-01-26T08:54:05.202Z"
   },
   {
    "duration": 97,
    "start_time": "2023-01-26T08:54:05.243Z"
   },
   {
    "duration": 12,
    "start_time": "2023-01-26T08:54:05.343Z"
   },
   {
    "duration": 15,
    "start_time": "2023-01-26T08:54:05.357Z"
   },
   {
    "duration": 28,
    "start_time": "2023-01-26T08:54:05.374Z"
   },
   {
    "duration": 6,
    "start_time": "2023-01-26T08:54:05.404Z"
   },
   {
    "duration": 74,
    "start_time": "2023-01-26T08:54:05.412Z"
   },
   {
    "duration": 552,
    "start_time": "2023-01-26T08:54:05.488Z"
   },
   {
    "duration": 17,
    "start_time": "2023-01-26T08:54:06.042Z"
   },
   {
    "duration": 102,
    "start_time": "2023-01-26T08:54:06.063Z"
   },
   {
    "duration": 212,
    "start_time": "2023-01-26T08:54:06.167Z"
   },
   {
    "duration": 9,
    "start_time": "2023-01-26T08:54:08.200Z"
   },
   {
    "duration": 24,
    "start_time": "2023-01-26T08:54:12.535Z"
   },
   {
    "duration": 52,
    "start_time": "2023-01-26T10:18:16.711Z"
   },
   {
    "duration": 1941,
    "start_time": "2023-01-26T10:18:26.677Z"
   },
   {
    "duration": 3057,
    "start_time": "2023-01-26T10:18:28.621Z"
   },
   {
    "duration": 5,
    "start_time": "2023-01-26T10:18:31.680Z"
   },
   {
    "duration": 37,
    "start_time": "2023-01-26T10:18:31.687Z"
   },
   {
    "duration": 115,
    "start_time": "2023-01-26T10:18:31.726Z"
   },
   {
    "duration": 30,
    "start_time": "2023-01-26T10:18:31.843Z"
   },
   {
    "duration": 172,
    "start_time": "2023-01-26T10:18:31.875Z"
   },
   {
    "duration": 2,
    "start_time": "2023-01-26T10:18:32.049Z"
   },
   {
    "duration": 28,
    "start_time": "2023-01-26T10:18:32.053Z"
   },
   {
    "duration": 37,
    "start_time": "2023-01-26T10:18:32.083Z"
   },
   {
    "duration": 110,
    "start_time": "2023-01-26T10:18:32.122Z"
   },
   {
    "duration": 5,
    "start_time": "2023-01-26T10:18:32.233Z"
   },
   {
    "duration": 45,
    "start_time": "2023-01-26T10:18:32.240Z"
   },
   {
    "duration": 6,
    "start_time": "2023-01-26T10:18:32.287Z"
   },
   {
    "duration": 79,
    "start_time": "2023-01-26T10:18:32.295Z"
   },
   {
    "duration": 22,
    "start_time": "2023-01-26T10:18:32.376Z"
   },
   {
    "duration": 37,
    "start_time": "2023-01-26T10:18:32.400Z"
   },
   {
    "duration": 107,
    "start_time": "2023-01-26T10:18:32.439Z"
   },
   {
    "duration": 81,
    "start_time": "2023-01-26T10:18:32.548Z"
   },
   {
    "duration": 7,
    "start_time": "2023-01-26T10:18:32.631Z"
   },
   {
    "duration": 36,
    "start_time": "2023-01-26T10:18:32.640Z"
   },
   {
    "duration": 32,
    "start_time": "2023-01-26T10:18:32.678Z"
   },
   {
    "duration": 41,
    "start_time": "2023-01-26T10:18:32.711Z"
   },
   {
    "duration": 41,
    "start_time": "2023-01-26T10:18:32.754Z"
   },
   {
    "duration": 53,
    "start_time": "2023-01-26T10:18:32.797Z"
   },
   {
    "duration": 256,
    "start_time": "2023-01-26T10:18:32.851Z"
   },
   {
    "duration": 25,
    "start_time": "2023-01-26T10:18:33.109Z"
   },
   {
    "duration": 18,
    "start_time": "2023-01-26T10:18:33.138Z"
   },
   {
    "duration": 93,
    "start_time": "2023-01-26T10:18:33.157Z"
   },
   {
    "duration": 5,
    "start_time": "2023-01-26T10:18:33.252Z"
   },
   {
    "duration": 24,
    "start_time": "2023-01-26T10:18:33.259Z"
   },
   {
    "duration": 41,
    "start_time": "2023-01-26T10:18:33.284Z"
   },
   {
    "duration": 78,
    "start_time": "2023-01-26T10:18:33.327Z"
   },
   {
    "duration": 24,
    "start_time": "2023-01-26T10:18:33.407Z"
   },
   {
    "duration": 29,
    "start_time": "2023-01-26T10:18:33.433Z"
   },
   {
    "duration": 27,
    "start_time": "2023-01-26T10:18:33.464Z"
   },
   {
    "duration": 15,
    "start_time": "2023-01-26T10:18:33.493Z"
   },
   {
    "duration": 66,
    "start_time": "2023-01-26T10:18:33.509Z"
   },
   {
    "duration": 124,
    "start_time": "2023-01-26T10:18:33.577Z"
   },
   {
    "duration": 0,
    "start_time": "2023-01-26T10:18:33.704Z"
   },
   {
    "duration": 0,
    "start_time": "2023-01-26T10:18:33.705Z"
   },
   {
    "duration": 0,
    "start_time": "2023-01-26T10:18:33.707Z"
   },
   {
    "duration": 0,
    "start_time": "2023-01-26T10:18:33.708Z"
   },
   {
    "duration": 0,
    "start_time": "2023-01-26T10:18:33.710Z"
   },
   {
    "duration": 0,
    "start_time": "2023-01-26T10:18:33.721Z"
   },
   {
    "duration": 0,
    "start_time": "2023-01-26T10:18:33.723Z"
   },
   {
    "duration": 0,
    "start_time": "2023-01-26T10:18:33.724Z"
   },
   {
    "duration": 0,
    "start_time": "2023-01-26T10:18:33.725Z"
   },
   {
    "duration": 0,
    "start_time": "2023-01-26T10:18:33.727Z"
   },
   {
    "duration": 0,
    "start_time": "2023-01-26T10:18:33.728Z"
   },
   {
    "duration": 0,
    "start_time": "2023-01-26T10:18:33.730Z"
   },
   {
    "duration": 0,
    "start_time": "2023-01-26T10:18:33.732Z"
   },
   {
    "duration": 0,
    "start_time": "2023-01-26T10:18:33.733Z"
   },
   {
    "duration": 0,
    "start_time": "2023-01-26T10:18:33.735Z"
   },
   {
    "duration": 0,
    "start_time": "2023-01-26T10:18:33.737Z"
   },
   {
    "duration": 0,
    "start_time": "2023-01-26T10:18:33.738Z"
   },
   {
    "duration": 0,
    "start_time": "2023-01-26T10:18:33.740Z"
   },
   {
    "duration": 0,
    "start_time": "2023-01-26T10:18:33.741Z"
   },
   {
    "duration": 0,
    "start_time": "2023-01-26T10:18:33.743Z"
   },
   {
    "duration": 0,
    "start_time": "2023-01-26T10:18:33.744Z"
   },
   {
    "duration": 0,
    "start_time": "2023-01-26T10:18:33.746Z"
   },
   {
    "duration": 0,
    "start_time": "2023-01-26T10:18:33.747Z"
   },
   {
    "duration": 0,
    "start_time": "2023-01-26T10:18:33.749Z"
   },
   {
    "duration": 92,
    "start_time": "2023-01-26T10:19:54.549Z"
   },
   {
    "duration": 524,
    "start_time": "2023-01-26T10:19:57.379Z"
   },
   {
    "duration": 1412,
    "start_time": "2023-01-26T10:20:07.375Z"
   },
   {
    "duration": 890,
    "start_time": "2023-01-26T10:20:08.789Z"
   },
   {
    "duration": 6,
    "start_time": "2023-01-26T10:20:09.680Z"
   },
   {
    "duration": 15,
    "start_time": "2023-01-26T10:20:09.689Z"
   },
   {
    "duration": 92,
    "start_time": "2023-01-26T10:20:09.720Z"
   },
   {
    "duration": 32,
    "start_time": "2023-01-26T10:20:09.813Z"
   },
   {
    "duration": 151,
    "start_time": "2023-01-26T10:20:09.847Z"
   },
   {
    "duration": 3,
    "start_time": "2023-01-26T10:20:09.999Z"
   },
   {
    "duration": 19,
    "start_time": "2023-01-26T10:20:10.004Z"
   },
   {
    "duration": 11,
    "start_time": "2023-01-26T10:20:10.025Z"
   },
   {
    "duration": 93,
    "start_time": "2023-01-26T10:20:10.037Z"
   },
   {
    "duration": 5,
    "start_time": "2023-01-26T10:20:10.132Z"
   },
   {
    "duration": 203,
    "start_time": "2023-01-26T10:20:10.138Z"
   },
   {
    "duration": 7,
    "start_time": "2023-01-26T10:20:10.342Z"
   },
   {
    "duration": 87,
    "start_time": "2023-01-26T10:20:10.351Z"
   },
   {
    "duration": 21,
    "start_time": "2023-01-26T10:20:10.440Z"
   },
   {
    "duration": 24,
    "start_time": "2023-01-26T10:20:10.463Z"
   },
   {
    "duration": 112,
    "start_time": "2023-01-26T10:20:10.489Z"
   },
   {
    "duration": 82,
    "start_time": "2023-01-26T10:20:10.603Z"
   },
   {
    "duration": 7,
    "start_time": "2023-01-26T10:20:10.687Z"
   },
   {
    "duration": 7,
    "start_time": "2023-01-26T10:20:10.696Z"
   },
   {
    "duration": 7,
    "start_time": "2023-01-26T10:20:10.720Z"
   },
   {
    "duration": 17,
    "start_time": "2023-01-26T10:20:10.728Z"
   },
   {
    "duration": 40,
    "start_time": "2023-01-26T10:20:10.747Z"
   },
   {
    "duration": 71,
    "start_time": "2023-01-26T10:20:10.789Z"
   },
   {
    "duration": 292,
    "start_time": "2023-01-26T10:20:10.862Z"
   },
   {
    "duration": 20,
    "start_time": "2023-01-26T10:20:11.156Z"
   },
   {
    "duration": 16,
    "start_time": "2023-01-26T10:20:11.180Z"
   },
   {
    "duration": 90,
    "start_time": "2023-01-26T10:20:11.198Z"
   },
   {
    "duration": 4,
    "start_time": "2023-01-26T10:20:11.290Z"
   },
   {
    "duration": 4,
    "start_time": "2023-01-26T10:20:11.296Z"
   },
   {
    "duration": 28,
    "start_time": "2023-01-26T10:20:11.321Z"
   },
   {
    "duration": 82,
    "start_time": "2023-01-26T10:20:11.351Z"
   },
   {
    "duration": 12,
    "start_time": "2023-01-26T10:20:11.435Z"
   },
   {
    "duration": 13,
    "start_time": "2023-01-26T10:20:11.449Z"
   },
   {
    "duration": 4,
    "start_time": "2023-01-26T10:20:11.464Z"
   },
   {
    "duration": 7,
    "start_time": "2023-01-26T10:20:11.470Z"
   },
   {
    "duration": 77,
    "start_time": "2023-01-26T10:20:11.478Z"
   },
   {
    "duration": 87,
    "start_time": "2023-01-26T10:20:11.557Z"
   },
   {
    "duration": 511,
    "start_time": "2023-01-26T10:20:11.646Z"
   },
   {
    "duration": 13,
    "start_time": "2023-01-26T10:20:12.159Z"
   },
   {
    "duration": 75,
    "start_time": "2023-01-26T10:20:12.174Z"
   },
   {
    "duration": 137,
    "start_time": "2023-01-26T10:20:12.251Z"
   },
   {
    "duration": 3,
    "start_time": "2023-01-26T10:20:12.390Z"
   },
   {
    "duration": 5,
    "start_time": "2023-01-26T10:20:12.395Z"
   },
   {
    "duration": 161169,
    "start_time": "2023-01-26T10:20:12.401Z"
   },
   {
    "duration": 46776,
    "start_time": "2023-01-26T10:22:53.572Z"
   },
   {
    "duration": 3,
    "start_time": "2023-01-26T10:23:40.350Z"
   },
   {
    "duration": 11,
    "start_time": "2023-01-26T10:23:40.355Z"
   },
   {
    "duration": 6156,
    "start_time": "2023-01-26T10:23:40.368Z"
   },
   {
    "duration": 403,
    "start_time": "2023-01-26T10:23:46.526Z"
   },
   {
    "duration": 3,
    "start_time": "2023-01-26T10:23:46.931Z"
   },
   {
    "duration": 7693,
    "start_time": "2023-01-26T10:23:46.936Z"
   },
   {
    "duration": 505,
    "start_time": "2023-01-26T10:23:54.632Z"
   },
   {
    "duration": 96,
    "start_time": "2023-01-26T10:23:55.139Z"
   },
   {
    "duration": 3,
    "start_time": "2023-01-26T10:23:55.237Z"
   },
   {
    "duration": 39,
    "start_time": "2023-01-26T10:23:55.242Z"
   },
   {
    "duration": 1204,
    "start_time": "2023-01-26T10:23:55.283Z"
   },
   {
    "duration": 14,
    "start_time": "2023-01-26T10:23:56.489Z"
   },
   {
    "duration": 3,
    "start_time": "2023-01-26T10:23:56.505Z"
   },
   {
    "duration": 1729,
    "start_time": "2023-01-26T10:23:56.509Z"
   },
   {
    "duration": 14,
    "start_time": "2023-01-26T10:23:58.240Z"
   },
   {
    "duration": 12,
    "start_time": "2023-01-26T10:23:58.256Z"
   },
   {
    "duration": 29,
    "start_time": "2023-01-26T10:24:16.645Z"
   },
   {
    "duration": 46848,
    "start_time": "2023-01-26T10:24:27.978Z"
   },
   {
    "duration": 48113,
    "start_time": "2023-01-26T10:27:04.180Z"
   },
   {
    "duration": 46448,
    "start_time": "2023-01-26T10:28:38.280Z"
   },
   {
    "duration": 5,
    "start_time": "2023-01-26T10:31:23.433Z"
   },
   {
    "duration": 5,
    "start_time": "2023-01-26T10:31:33.782Z"
   },
   {
    "duration": 607603,
    "start_time": "2023-01-26T10:31:38.660Z"
   },
   {
    "duration": 71,
    "start_time": "2023-01-26T10:43:04.010Z"
   },
   {
    "duration": 60,
    "start_time": "2023-01-26T10:44:03.730Z"
   },
   {
    "duration": 6,
    "start_time": "2023-01-26T10:44:29.819Z"
   },
   {
    "duration": 615872,
    "start_time": "2023-01-26T10:46:10.390Z"
   },
   {
    "duration": 1621,
    "start_time": "2023-01-26T10:59:12.063Z"
   },
   {
    "duration": 1123,
    "start_time": "2023-01-26T10:59:13.687Z"
   },
   {
    "duration": 10,
    "start_time": "2023-01-26T10:59:14.812Z"
   },
   {
    "duration": 21,
    "start_time": "2023-01-26T10:59:14.824Z"
   },
   {
    "duration": 167,
    "start_time": "2023-01-26T10:59:14.847Z"
   },
   {
    "duration": 28,
    "start_time": "2023-01-26T10:59:15.021Z"
   },
   {
    "duration": 222,
    "start_time": "2023-01-26T10:59:15.052Z"
   },
   {
    "duration": 3,
    "start_time": "2023-01-26T10:59:15.276Z"
   },
   {
    "duration": 8,
    "start_time": "2023-01-26T10:59:15.281Z"
   },
   {
    "duration": 17,
    "start_time": "2023-01-26T10:59:15.293Z"
   },
   {
    "duration": 108,
    "start_time": "2023-01-26T10:59:15.321Z"
   },
   {
    "duration": 6,
    "start_time": "2023-01-26T10:59:15.431Z"
   },
   {
    "duration": 39,
    "start_time": "2023-01-26T10:59:15.439Z"
   },
   {
    "duration": 7,
    "start_time": "2023-01-26T10:59:15.480Z"
   },
   {
    "duration": 107,
    "start_time": "2023-01-26T10:59:15.489Z"
   },
   {
    "duration": 39,
    "start_time": "2023-01-26T10:59:15.599Z"
   },
   {
    "duration": 28,
    "start_time": "2023-01-26T10:59:15.640Z"
   },
   {
    "duration": 110,
    "start_time": "2023-01-26T10:59:15.669Z"
   },
   {
    "duration": 101,
    "start_time": "2023-01-26T10:59:15.781Z"
   },
   {
    "duration": 12,
    "start_time": "2023-01-26T10:59:15.884Z"
   },
   {
    "duration": 29,
    "start_time": "2023-01-26T10:59:15.898Z"
   },
   {
    "duration": 7,
    "start_time": "2023-01-26T10:59:15.929Z"
   },
   {
    "duration": 30,
    "start_time": "2023-01-26T10:59:15.937Z"
   },
   {
    "duration": 67,
    "start_time": "2023-01-26T10:59:15.969Z"
   },
   {
    "duration": 54,
    "start_time": "2023-01-26T10:59:16.038Z"
   },
   {
    "duration": 316,
    "start_time": "2023-01-26T10:59:16.093Z"
   },
   {
    "duration": 30,
    "start_time": "2023-01-26T10:59:16.411Z"
   },
   {
    "duration": 18,
    "start_time": "2023-01-26T10:59:16.446Z"
   },
   {
    "duration": 96,
    "start_time": "2023-01-26T10:59:16.466Z"
   },
   {
    "duration": 7,
    "start_time": "2023-01-26T10:59:16.565Z"
   },
   {
    "duration": 9,
    "start_time": "2023-01-26T10:59:16.574Z"
   },
   {
    "duration": 78,
    "start_time": "2023-01-26T10:59:16.585Z"
   },
   {
    "duration": 86,
    "start_time": "2023-01-26T10:59:16.665Z"
   },
   {
    "duration": 16,
    "start_time": "2023-01-26T10:59:16.754Z"
   },
   {
    "duration": 18,
    "start_time": "2023-01-26T10:59:16.772Z"
   },
   {
    "duration": 32,
    "start_time": "2023-01-26T10:59:16.793Z"
   },
   {
    "duration": 5,
    "start_time": "2023-01-26T10:59:16.827Z"
   },
   {
    "duration": 65,
    "start_time": "2023-01-26T10:59:16.835Z"
   },
   {
    "duration": 121,
    "start_time": "2023-01-26T10:59:16.902Z"
   },
   {
    "duration": 529,
    "start_time": "2023-01-26T10:59:17.026Z"
   },
   {
    "duration": 17,
    "start_time": "2023-01-26T10:59:17.557Z"
   },
   {
    "duration": 168,
    "start_time": "2023-01-26T10:59:17.576Z"
   },
   {
    "duration": 4,
    "start_time": "2023-01-26T10:59:17.748Z"
   },
   {
    "duration": 14,
    "start_time": "2023-01-26T10:59:17.755Z"
   },
   {
    "duration": 407,
    "start_time": "2023-01-26T10:59:17.771Z"
   },
   {
    "duration": 69,
    "start_time": "2023-01-26T10:59:18.180Z"
   },
   {
    "duration": 3,
    "start_time": "2023-01-26T10:59:18.251Z"
   },
   {
    "duration": 9,
    "start_time": "2023-01-26T10:59:18.256Z"
   },
   {
    "duration": 158,
    "start_time": "2023-01-26T10:59:18.267Z"
   },
   {
    "duration": 66,
    "start_time": "2023-01-26T10:59:18.427Z"
   },
   {
    "duration": 4,
    "start_time": "2023-01-26T10:59:18.495Z"
   },
   {
    "duration": 83,
    "start_time": "2023-01-26T10:59:18.501Z"
   },
   {
    "duration": 102,
    "start_time": "2023-01-26T10:59:18.586Z"
   },
   {
    "duration": 21,
    "start_time": "2023-01-26T10:59:18.690Z"
   },
   {
    "duration": 3,
    "start_time": "2023-01-26T10:59:18.713Z"
   },
   {
    "duration": 9,
    "start_time": "2023-01-26T10:59:18.718Z"
   },
   {
    "duration": 2134,
    "start_time": "2023-01-26T10:59:18.729Z"
   },
   {
    "duration": 0,
    "start_time": "2023-01-26T10:59:20.864Z"
   },
   {
    "duration": 0,
    "start_time": "2023-01-26T10:59:20.865Z"
   },
   {
    "duration": 0,
    "start_time": "2023-01-26T10:59:20.867Z"
   },
   {
    "duration": 0,
    "start_time": "2023-01-26T10:59:20.868Z"
   },
   {
    "duration": 0,
    "start_time": "2023-01-26T10:59:20.869Z"
   },
   {
    "duration": 0,
    "start_time": "2023-01-26T10:59:20.870Z"
   },
   {
    "duration": 0,
    "start_time": "2023-01-26T10:59:20.871Z"
   },
   {
    "duration": 1748,
    "start_time": "2023-01-26T11:04:30.609Z"
   },
   {
    "duration": 1082,
    "start_time": "2023-01-26T11:04:32.360Z"
   },
   {
    "duration": 8,
    "start_time": "2023-01-26T11:04:33.444Z"
   },
   {
    "duration": 34,
    "start_time": "2023-01-26T11:04:33.455Z"
   },
   {
    "duration": 144,
    "start_time": "2023-01-26T11:04:33.491Z"
   },
   {
    "duration": 36,
    "start_time": "2023-01-26T11:04:33.638Z"
   },
   {
    "duration": 176,
    "start_time": "2023-01-26T11:04:33.676Z"
   },
   {
    "duration": 3,
    "start_time": "2023-01-26T11:04:33.854Z"
   },
   {
    "duration": 24,
    "start_time": "2023-01-26T11:04:33.859Z"
   },
   {
    "duration": 58,
    "start_time": "2023-01-26T11:04:33.887Z"
   },
   {
    "duration": 97,
    "start_time": "2023-01-26T11:04:33.947Z"
   },
   {
    "duration": 6,
    "start_time": "2023-01-26T11:04:34.046Z"
   },
   {
    "duration": 58,
    "start_time": "2023-01-26T11:04:34.055Z"
   },
   {
    "duration": 7,
    "start_time": "2023-01-26T11:04:34.114Z"
   },
   {
    "duration": 94,
    "start_time": "2023-01-26T11:04:34.122Z"
   },
   {
    "duration": 24,
    "start_time": "2023-01-26T11:04:34.218Z"
   },
   {
    "duration": 42,
    "start_time": "2023-01-26T11:04:34.244Z"
   },
   {
    "duration": 105,
    "start_time": "2023-01-26T11:04:34.289Z"
   },
   {
    "duration": 100,
    "start_time": "2023-01-26T11:04:34.396Z"
   },
   {
    "duration": 23,
    "start_time": "2023-01-26T11:04:34.498Z"
   },
   {
    "duration": 45,
    "start_time": "2023-01-26T11:04:34.523Z"
   },
   {
    "duration": 31,
    "start_time": "2023-01-26T11:04:34.570Z"
   },
   {
    "duration": 46,
    "start_time": "2023-01-26T11:04:34.603Z"
   },
   {
    "duration": 63,
    "start_time": "2023-01-26T11:04:34.651Z"
   },
   {
    "duration": 62,
    "start_time": "2023-01-26T11:04:34.716Z"
   },
   {
    "duration": 317,
    "start_time": "2023-01-26T11:04:34.780Z"
   },
   {
    "duration": 38,
    "start_time": "2023-01-26T11:04:35.099Z"
   },
   {
    "duration": 16,
    "start_time": "2023-01-26T11:04:35.141Z"
   },
   {
    "duration": 93,
    "start_time": "2023-01-26T11:04:35.159Z"
   },
   {
    "duration": 5,
    "start_time": "2023-01-26T11:04:35.256Z"
   },
   {
    "duration": 18,
    "start_time": "2023-01-26T11:04:35.263Z"
   },
   {
    "duration": 47,
    "start_time": "2023-01-26T11:04:35.283Z"
   },
   {
    "duration": 101,
    "start_time": "2023-01-26T11:04:35.332Z"
   },
   {
    "duration": 14,
    "start_time": "2023-01-26T11:04:35.435Z"
   },
   {
    "duration": 14,
    "start_time": "2023-01-26T11:04:35.451Z"
   },
   {
    "duration": 7,
    "start_time": "2023-01-26T11:04:35.467Z"
   },
   {
    "duration": 10,
    "start_time": "2023-01-26T11:04:35.476Z"
   },
   {
    "duration": 74,
    "start_time": "2023-01-26T11:04:35.489Z"
   },
   {
    "duration": 92,
    "start_time": "2023-01-26T11:04:35.565Z"
   },
   {
    "duration": 528,
    "start_time": "2023-01-26T11:04:35.659Z"
   },
   {
    "duration": 14,
    "start_time": "2023-01-26T11:04:36.188Z"
   },
   {
    "duration": 165,
    "start_time": "2023-01-26T11:04:36.204Z"
   },
   {
    "duration": 6,
    "start_time": "2023-01-26T11:04:36.371Z"
   },
   {
    "duration": 6,
    "start_time": "2023-01-26T11:04:36.379Z"
   },
   {
    "duration": 306,
    "start_time": "2023-01-26T11:04:36.386Z"
   },
   {
    "duration": 61,
    "start_time": "2023-01-26T11:04:36.693Z"
   },
   {
    "duration": 4,
    "start_time": "2023-01-26T11:04:36.756Z"
   },
   {
    "duration": 8,
    "start_time": "2023-01-26T11:04:36.762Z"
   },
   {
    "duration": 73,
    "start_time": "2023-01-26T11:04:36.772Z"
   },
   {
    "duration": 57,
    "start_time": "2023-01-26T11:04:36.847Z"
   },
   {
    "duration": 5,
    "start_time": "2023-01-26T11:04:36.906Z"
   },
   {
    "duration": 82,
    "start_time": "2023-01-26T11:04:36.913Z"
   },
   {
    "duration": 59,
    "start_time": "2023-01-26T11:04:36.997Z"
   },
   {
    "duration": 23,
    "start_time": "2023-01-26T11:04:37.058Z"
   },
   {
    "duration": 3,
    "start_time": "2023-01-26T11:04:37.083Z"
   },
   {
    "duration": 6,
    "start_time": "2023-01-26T11:04:37.088Z"
   },
   {
    "duration": 1860,
    "start_time": "2023-01-26T11:04:37.096Z"
   },
   {
    "duration": 0,
    "start_time": "2023-01-26T11:04:38.958Z"
   },
   {
    "duration": 0,
    "start_time": "2023-01-26T11:04:38.959Z"
   },
   {
    "duration": 0,
    "start_time": "2023-01-26T11:04:38.960Z"
   },
   {
    "duration": 0,
    "start_time": "2023-01-26T11:04:38.962Z"
   },
   {
    "duration": 0,
    "start_time": "2023-01-26T11:04:38.963Z"
   },
   {
    "duration": 0,
    "start_time": "2023-01-26T11:04:38.964Z"
   },
   {
    "duration": 0,
    "start_time": "2023-01-26T11:04:38.965Z"
   },
   {
    "duration": 508,
    "start_time": "2023-01-26T11:23:01.594Z"
   },
   {
    "duration": 589,
    "start_time": "2023-01-26T11:23:23.315Z"
   },
   {
    "duration": 14,
    "start_time": "2023-01-26T11:23:31.998Z"
   },
   {
    "duration": 154,
    "start_time": "2023-01-26T11:23:35.675Z"
   },
   {
    "duration": 4,
    "start_time": "2023-01-26T11:23:36.768Z"
   },
   {
    "duration": 6,
    "start_time": "2023-01-26T11:23:44.431Z"
   },
   {
    "duration": 157,
    "start_time": "2023-01-26T11:23:45.579Z"
   },
   {
    "duration": 16,
    "start_time": "2023-01-26T11:50:01.383Z"
   },
   {
    "duration": 74,
    "start_time": "2023-01-26T11:50:02.535Z"
   },
   {
    "duration": 4,
    "start_time": "2023-01-26T11:50:03.878Z"
   },
   {
    "duration": 3,
    "start_time": "2023-01-26T11:50:05.026Z"
   },
   {
    "duration": 39,
    "start_time": "2023-01-26T11:50:06.525Z"
   },
   {
    "duration": 465,
    "start_time": "2023-01-26T11:50:10.565Z"
   },
   {
    "duration": 505,
    "start_time": "2023-01-26T11:50:49.084Z"
   },
   {
    "duration": 9,
    "start_time": "2023-01-26T11:55:18.841Z"
   },
   {
    "duration": 4,
    "start_time": "2023-01-26T11:57:04.957Z"
   },
   {
    "duration": 5,
    "start_time": "2023-01-26T11:57:21.048Z"
   },
   {
    "duration": 77,
    "start_time": "2023-01-26T11:57:22.311Z"
   },
   {
    "duration": 3,
    "start_time": "2023-01-26T11:57:23.029Z"
   },
   {
    "duration": 21,
    "start_time": "2023-01-26T11:58:15.543Z"
   },
   {
    "duration": 1062,
    "start_time": "2023-01-26T11:58:31.413Z"
   },
   {
    "duration": 1096,
    "start_time": "2023-01-26T12:00:46.447Z"
   },
   {
    "duration": 3501,
    "start_time": "2023-01-26T12:01:40.488Z"
   },
   {
    "duration": 14,
    "start_time": "2023-01-26T12:02:23.336Z"
   },
   {
    "duration": 20,
    "start_time": "2023-01-26T12:02:35.675Z"
   },
   {
    "duration": 3489,
    "start_time": "2023-01-26T12:02:44.847Z"
   },
   {
    "duration": 40,
    "start_time": "2023-01-26T12:02:59.791Z"
   },
   {
    "duration": 27,
    "start_time": "2023-01-26T12:03:08.621Z"
   },
   {
    "duration": 212,
    "start_time": "2023-01-26T12:03:20.301Z"
   },
   {
    "duration": 4,
    "start_time": "2023-01-26T12:03:22.140Z"
   },
   {
    "duration": 4,
    "start_time": "2023-01-26T12:04:04.191Z"
   },
   {
    "duration": 75,
    "start_time": "2023-01-26T12:04:07.797Z"
   },
   {
    "duration": 5,
    "start_time": "2023-01-26T12:04:28.737Z"
   },
   {
    "duration": 198,
    "start_time": "2023-01-26T12:04:33.830Z"
   },
   {
    "duration": 3137,
    "start_time": "2023-01-26T12:06:09.453Z"
   },
   {
    "duration": 4008,
    "start_time": "2023-01-26T12:07:01.613Z"
   },
   {
    "duration": 33,
    "start_time": "2023-01-26T12:07:08.696Z"
   },
   {
    "duration": 5,
    "start_time": "2023-01-26T12:07:17.384Z"
   },
   {
    "duration": 270,
    "start_time": "2023-01-26T12:07:21.378Z"
   },
   {
    "duration": 873,
    "start_time": "2023-01-26T12:10:21.455Z"
   },
   {
    "duration": 25,
    "start_time": "2023-01-26T12:10:37.558Z"
   },
   {
    "duration": 147,
    "start_time": "2023-01-26T12:10:46.997Z"
   },
   {
    "duration": 3,
    "start_time": "2023-01-26T12:10:53.858Z"
   },
   {
    "duration": 6,
    "start_time": "2023-01-26T12:10:58.350Z"
   },
   {
    "duration": 174,
    "start_time": "2023-01-26T12:10:59.691Z"
   },
   {
    "duration": 959,
    "start_time": "2023-01-26T12:12:22.106Z"
   },
   {
    "duration": 29,
    "start_time": "2023-01-26T12:12:28.528Z"
   },
   {
    "duration": 27,
    "start_time": "2023-01-26T12:12:53.540Z"
   },
   {
    "duration": 34,
    "start_time": "2023-01-26T12:13:23.210Z"
   },
   {
    "duration": 3,
    "start_time": "2023-01-26T12:13:27.496Z"
   },
   {
    "duration": 5,
    "start_time": "2023-01-26T12:13:35.840Z"
   },
   {
    "duration": 582328,
    "start_time": "2023-01-26T12:13:37.005Z"
   },
   {
    "duration": 141088,
    "start_time": "2023-01-26T12:24:09.020Z"
   },
   {
    "duration": 6,
    "start_time": "2023-01-26T12:26:30.110Z"
   },
   {
    "duration": 25,
    "start_time": "2023-01-26T12:26:30.118Z"
   },
   {
    "duration": 430381,
    "start_time": "2023-01-26T12:26:30.145Z"
   },
   {
    "duration": 409,
    "start_time": "2023-01-26T12:33:40.528Z"
   },
   {
    "duration": 3,
    "start_time": "2023-01-26T12:33:40.939Z"
   },
   {
    "duration": 457496,
    "start_time": "2023-01-26T12:33:40.943Z"
   },
   {
    "duration": 415,
    "start_time": "2023-01-26T12:41:18.522Z"
   },
   {
    "duration": 3,
    "start_time": "2023-01-26T12:41:18.939Z"
   },
   {
    "duration": 5,
    "start_time": "2023-01-26T12:41:18.945Z"
   },
   {
    "duration": 9,
    "start_time": "2023-01-26T12:41:19.021Z"
   },
   {
    "duration": 1207,
    "start_time": "2023-01-26T12:41:19.032Z"
   },
   {
    "duration": 18,
    "start_time": "2023-01-26T12:41:20.241Z"
   },
   {
    "duration": 31,
    "start_time": "2023-01-26T12:41:20.261Z"
   },
   {
    "duration": 1897,
    "start_time": "2023-01-26T12:41:20.295Z"
   },
   {
    "duration": 16,
    "start_time": "2023-01-26T12:41:22.195Z"
   },
   {
    "duration": 56,
    "start_time": "2023-01-26T12:41:22.214Z"
   },
   {
    "duration": 73,
    "start_time": "2023-01-26T12:41:22.272Z"
   },
   {
    "duration": 135075,
    "start_time": "2023-01-26T12:41:22.347Z"
   },
   {
    "duration": 3,
    "start_time": "2023-01-26T12:43:37.424Z"
   },
   {
    "duration": 10,
    "start_time": "2023-01-26T12:43:37.429Z"
   },
   {
    "duration": 303384,
    "start_time": "2023-01-26T12:43:37.441Z"
   },
   {
    "duration": 139085,
    "start_time": "2023-01-26T12:50:07.841Z"
   },
   {
    "duration": 33,
    "start_time": "2023-01-26T12:52:41.963Z"
   },
   {
    "duration": 27399,
    "start_time": "2023-01-26T12:52:43.418Z"
   },
   {
    "duration": 1614,
    "start_time": "2023-01-26T12:53:50.841Z"
   },
   {
    "duration": 139038,
    "start_time": "2023-01-26T13:01:17.079Z"
   },
   {
    "duration": 53,
    "start_time": "2023-01-26T13:04:38.549Z"
   },
   {
    "duration": 17,
    "start_time": "2023-01-26T13:04:54.839Z"
   },
   {
    "duration": 66,
    "start_time": "2023-01-26T13:07:05.446Z"
   },
   {
    "duration": 1680,
    "start_time": "2023-01-26T13:08:58.986Z"
   },
   {
    "duration": 1115,
    "start_time": "2023-01-26T13:09:00.669Z"
   },
   {
    "duration": 6,
    "start_time": "2023-01-26T13:09:01.786Z"
   },
   {
    "duration": 37,
    "start_time": "2023-01-26T13:09:01.794Z"
   },
   {
    "duration": 116,
    "start_time": "2023-01-26T13:09:01.834Z"
   },
   {
    "duration": 40,
    "start_time": "2023-01-26T13:09:01.952Z"
   },
   {
    "duration": 177,
    "start_time": "2023-01-26T13:09:01.995Z"
   },
   {
    "duration": 5,
    "start_time": "2023-01-26T13:09:02.174Z"
   },
   {
    "duration": 166,
    "start_time": "2023-01-26T13:09:02.180Z"
   },
   {
    "duration": 22,
    "start_time": "2023-01-26T13:09:02.349Z"
   },
   {
    "duration": 100,
    "start_time": "2023-01-26T13:09:02.372Z"
   },
   {
    "duration": 5,
    "start_time": "2023-01-26T13:09:02.474Z"
   },
   {
    "duration": 52,
    "start_time": "2023-01-26T13:09:02.481Z"
   },
   {
    "duration": 8,
    "start_time": "2023-01-26T13:09:02.535Z"
   },
   {
    "duration": 90,
    "start_time": "2023-01-26T13:09:02.545Z"
   },
   {
    "duration": 21,
    "start_time": "2023-01-26T13:09:02.637Z"
   },
   {
    "duration": 40,
    "start_time": "2023-01-26T13:09:02.661Z"
   },
   {
    "duration": 130,
    "start_time": "2023-01-26T13:09:02.704Z"
   },
   {
    "duration": 74,
    "start_time": "2023-01-26T13:09:02.835Z"
   },
   {
    "duration": 8,
    "start_time": "2023-01-26T13:09:02.922Z"
   },
   {
    "duration": 15,
    "start_time": "2023-01-26T13:09:02.931Z"
   },
   {
    "duration": 13,
    "start_time": "2023-01-26T13:09:02.947Z"
   },
   {
    "duration": 23,
    "start_time": "2023-01-26T13:09:02.961Z"
   },
   {
    "duration": 86,
    "start_time": "2023-01-26T13:09:02.986Z"
   },
   {
    "duration": 69,
    "start_time": "2023-01-26T13:09:03.073Z"
   },
   {
    "duration": 286,
    "start_time": "2023-01-26T13:09:03.144Z"
   },
   {
    "duration": 22,
    "start_time": "2023-01-26T13:09:03.431Z"
   },
   {
    "duration": 17,
    "start_time": "2023-01-26T13:09:03.459Z"
   },
   {
    "duration": 106,
    "start_time": "2023-01-26T13:09:03.478Z"
   },
   {
    "duration": 6,
    "start_time": "2023-01-26T13:09:03.587Z"
   },
   {
    "duration": 26,
    "start_time": "2023-01-26T13:09:03.595Z"
   },
   {
    "duration": 44,
    "start_time": "2023-01-26T13:09:03.623Z"
   },
   {
    "duration": 89,
    "start_time": "2023-01-26T13:09:03.669Z"
   },
   {
    "duration": 13,
    "start_time": "2023-01-26T13:09:03.760Z"
   },
   {
    "duration": 14,
    "start_time": "2023-01-26T13:09:03.775Z"
   },
   {
    "duration": 31,
    "start_time": "2023-01-26T13:09:03.791Z"
   },
   {
    "duration": 100,
    "start_time": "2023-01-26T13:09:03.824Z"
   },
   {
    "duration": 3,
    "start_time": "2023-01-26T13:09:03.926Z"
   },
   {
    "duration": 1167,
    "start_time": "2023-01-26T13:09:03.931Z"
   },
   {
    "duration": 135,
    "start_time": "2023-01-26T13:09:05.100Z"
   },
   {
    "duration": 0,
    "start_time": "2023-01-26T13:09:05.237Z"
   },
   {
    "duration": 0,
    "start_time": "2023-01-26T13:09:05.239Z"
   },
   {
    "duration": 1,
    "start_time": "2023-01-26T13:09:05.240Z"
   },
   {
    "duration": 0,
    "start_time": "2023-01-26T13:09:05.242Z"
   },
   {
    "duration": 0,
    "start_time": "2023-01-26T13:09:05.243Z"
   },
   {
    "duration": 0,
    "start_time": "2023-01-26T13:09:05.245Z"
   },
   {
    "duration": 0,
    "start_time": "2023-01-26T13:09:05.247Z"
   },
   {
    "duration": 0,
    "start_time": "2023-01-26T13:09:05.248Z"
   },
   {
    "duration": 0,
    "start_time": "2023-01-26T13:09:05.249Z"
   },
   {
    "duration": 0,
    "start_time": "2023-01-26T13:09:05.251Z"
   },
   {
    "duration": 0,
    "start_time": "2023-01-26T13:09:05.252Z"
   },
   {
    "duration": 0,
    "start_time": "2023-01-26T13:09:05.254Z"
   },
   {
    "duration": 0,
    "start_time": "2023-01-26T13:09:05.256Z"
   },
   {
    "duration": 0,
    "start_time": "2023-01-26T13:09:05.257Z"
   },
   {
    "duration": 0,
    "start_time": "2023-01-26T13:09:05.259Z"
   },
   {
    "duration": 0,
    "start_time": "2023-01-26T13:09:05.260Z"
   },
   {
    "duration": 0,
    "start_time": "2023-01-26T13:09:05.261Z"
   },
   {
    "duration": 0,
    "start_time": "2023-01-26T13:09:05.263Z"
   },
   {
    "duration": 0,
    "start_time": "2023-01-26T13:09:05.264Z"
   },
   {
    "duration": 0,
    "start_time": "2023-01-26T13:09:05.265Z"
   },
   {
    "duration": 0,
    "start_time": "2023-01-26T13:09:05.266Z"
   },
   {
    "duration": 0,
    "start_time": "2023-01-26T13:09:05.267Z"
   },
   {
    "duration": 0,
    "start_time": "2023-01-26T13:09:05.268Z"
   },
   {
    "duration": 0,
    "start_time": "2023-01-26T13:09:05.269Z"
   },
   {
    "duration": 0,
    "start_time": "2023-01-26T13:09:05.271Z"
   },
   {
    "duration": 0,
    "start_time": "2023-01-26T13:09:05.272Z"
   },
   {
    "duration": 10,
    "start_time": "2023-01-26T13:12:33.856Z"
   },
   {
    "duration": 146,
    "start_time": "2023-01-26T13:12:42.863Z"
   },
   {
    "duration": 4,
    "start_time": "2023-01-26T13:12:43.676Z"
   },
   {
    "duration": 1526,
    "start_time": "2023-01-26T13:12:48.702Z"
   },
   {
    "duration": 1014,
    "start_time": "2023-01-26T13:12:50.230Z"
   },
   {
    "duration": 6,
    "start_time": "2023-01-26T13:12:51.245Z"
   },
   {
    "duration": 22,
    "start_time": "2023-01-26T13:12:51.253Z"
   },
   {
    "duration": 105,
    "start_time": "2023-01-26T13:12:51.278Z"
   },
   {
    "duration": 39,
    "start_time": "2023-01-26T13:12:51.385Z"
   },
   {
    "duration": 160,
    "start_time": "2023-01-26T13:12:51.426Z"
   },
   {
    "duration": 2,
    "start_time": "2023-01-26T13:12:51.588Z"
   },
   {
    "duration": 16,
    "start_time": "2023-01-26T13:12:51.592Z"
   },
   {
    "duration": 18,
    "start_time": "2023-01-26T13:12:51.611Z"
   },
   {
    "duration": 99,
    "start_time": "2023-01-26T13:12:51.631Z"
   },
   {
    "duration": 5,
    "start_time": "2023-01-26T13:12:51.732Z"
   },
   {
    "duration": 41,
    "start_time": "2023-01-26T13:12:51.739Z"
   },
   {
    "duration": 6,
    "start_time": "2023-01-26T13:12:51.782Z"
   },
   {
    "duration": 91,
    "start_time": "2023-01-26T13:12:51.790Z"
   },
   {
    "duration": 20,
    "start_time": "2023-01-26T13:12:51.883Z"
   },
   {
    "duration": 65,
    "start_time": "2023-01-26T13:12:51.904Z"
   },
   {
    "duration": 133,
    "start_time": "2023-01-26T13:12:51.971Z"
   },
   {
    "duration": 75,
    "start_time": "2023-01-26T13:12:52.106Z"
   },
   {
    "duration": 11,
    "start_time": "2023-01-26T13:12:52.183Z"
   },
   {
    "duration": 29,
    "start_time": "2023-01-26T13:12:52.196Z"
   },
   {
    "duration": 12,
    "start_time": "2023-01-26T13:12:52.227Z"
   },
   {
    "duration": 33,
    "start_time": "2023-01-26T13:12:52.241Z"
   },
   {
    "duration": 55,
    "start_time": "2023-01-26T13:12:52.276Z"
   },
   {
    "duration": 54,
    "start_time": "2023-01-26T13:12:52.333Z"
   },
   {
    "duration": 266,
    "start_time": "2023-01-26T13:12:52.389Z"
   },
   {
    "duration": 20,
    "start_time": "2023-01-26T13:12:52.657Z"
   },
   {
    "duration": 16,
    "start_time": "2023-01-26T13:12:52.681Z"
   },
   {
    "duration": 72,
    "start_time": "2023-01-26T13:12:52.720Z"
   },
   {
    "duration": 7,
    "start_time": "2023-01-26T13:12:52.794Z"
   },
   {
    "duration": 14,
    "start_time": "2023-01-26T13:12:52.803Z"
   },
   {
    "duration": 46,
    "start_time": "2023-01-26T13:12:52.821Z"
   },
   {
    "duration": 70,
    "start_time": "2023-01-26T13:12:52.868Z"
   },
   {
    "duration": 15,
    "start_time": "2023-01-26T13:12:52.940Z"
   },
   {
    "duration": 16,
    "start_time": "2023-01-26T13:12:52.956Z"
   },
   {
    "duration": 13,
    "start_time": "2023-01-26T13:12:52.974Z"
   },
   {
    "duration": 92,
    "start_time": "2023-01-26T13:12:52.989Z"
   },
   {
    "duration": 2,
    "start_time": "2023-01-26T13:12:53.083Z"
   },
   {
    "duration": 867,
    "start_time": "2023-01-26T13:12:53.087Z"
   },
   {
    "duration": 158,
    "start_time": "2023-01-26T13:12:53.956Z"
   },
   {
    "duration": 5,
    "start_time": "2023-01-26T13:12:54.116Z"
   },
   {
    "duration": 8,
    "start_time": "2023-01-26T13:12:54.123Z"
   },
   {
    "duration": 538433,
    "start_time": "2023-01-26T13:12:54.133Z"
   },
   {
    "duration": 137429,
    "start_time": "2023-01-26T13:21:52.568Z"
   },
   {
    "duration": 3,
    "start_time": "2023-01-26T13:24:09.999Z"
   },
   {
    "duration": 10,
    "start_time": "2023-01-26T13:24:10.004Z"
   },
   {
    "duration": 132410,
    "start_time": "2023-01-26T13:24:10.016Z"
   },
   {
    "duration": 402,
    "start_time": "2023-01-26T13:26:22.428Z"
   },
   {
    "duration": 4,
    "start_time": "2023-01-26T13:26:22.831Z"
   },
   {
    "duration": 6890,
    "start_time": "2023-01-26T13:26:22.836Z"
   },
   {
    "duration": 493,
    "start_time": "2023-01-26T13:26:29.728Z"
   },
   {
    "duration": 34,
    "start_time": "2023-01-26T13:26:30.223Z"
   },
   {
    "duration": 3,
    "start_time": "2023-01-26T13:26:30.259Z"
   },
   {
    "duration": 22,
    "start_time": "2023-01-26T13:26:30.263Z"
   },
   {
    "duration": 1380,
    "start_time": "2023-01-26T13:26:30.287Z"
   },
   {
    "duration": 16,
    "start_time": "2023-01-26T13:26:31.669Z"
   },
   {
    "duration": 4,
    "start_time": "2023-01-26T13:26:31.687Z"
   },
   {
    "duration": 1741,
    "start_time": "2023-01-26T13:26:31.694Z"
   },
   {
    "duration": 13,
    "start_time": "2023-01-26T13:26:33.436Z"
   },
   {
    "duration": 134,
    "start_time": "2023-01-26T13:26:33.451Z"
   },
   {
    "duration": 25295,
    "start_time": "2023-01-26T13:26:33.587Z"
   },
   {
    "duration": 1532,
    "start_time": "2023-01-26T13:26:58.884Z"
   },
   {
    "duration": 14,
    "start_time": "2023-01-26T13:27:00.420Z"
   },
   {
    "duration": 52,
    "start_time": "2023-01-26T13:27:00.436Z"
   },
   {
    "duration": 0,
    "start_time": "2023-01-26T13:27:00.489Z"
   },
   {
    "duration": 3,
    "start_time": "2023-01-26T13:29:30.108Z"
   },
   {
    "duration": 53,
    "start_time": "2023-01-26T13:29:30.677Z"
   },
   {
    "duration": 97,
    "start_time": "2023-01-26T13:29:31.802Z"
   },
   {
    "duration": 1470,
    "start_time": "2023-01-26T13:29:48.173Z"
   },
   {
    "duration": 983,
    "start_time": "2023-01-26T13:29:49.645Z"
   },
   {
    "duration": 6,
    "start_time": "2023-01-26T13:29:50.630Z"
   },
   {
    "duration": 18,
    "start_time": "2023-01-26T13:29:50.639Z"
   },
   {
    "duration": 119,
    "start_time": "2023-01-26T13:29:50.658Z"
   },
   {
    "duration": 32,
    "start_time": "2023-01-26T13:29:50.779Z"
   },
   {
    "duration": 149,
    "start_time": "2023-01-26T13:29:50.821Z"
   },
   {
    "duration": 3,
    "start_time": "2023-01-26T13:29:50.972Z"
   },
   {
    "duration": 14,
    "start_time": "2023-01-26T13:29:50.977Z"
   },
   {
    "duration": 19,
    "start_time": "2023-01-26T13:29:50.994Z"
   },
   {
    "duration": 88,
    "start_time": "2023-01-26T13:29:51.015Z"
   },
   {
    "duration": 5,
    "start_time": "2023-01-26T13:29:51.105Z"
   },
   {
    "duration": 41,
    "start_time": "2023-01-26T13:29:51.120Z"
   },
   {
    "duration": 7,
    "start_time": "2023-01-26T13:29:51.163Z"
   },
   {
    "duration": 90,
    "start_time": "2023-01-26T13:29:51.172Z"
   },
   {
    "duration": 19,
    "start_time": "2023-01-26T13:29:51.264Z"
   },
   {
    "duration": 28,
    "start_time": "2023-01-26T13:29:51.285Z"
   },
   {
    "duration": 86,
    "start_time": "2023-01-26T13:29:51.320Z"
   },
   {
    "duration": 78,
    "start_time": "2023-01-26T13:29:51.408Z"
   },
   {
    "duration": 9,
    "start_time": "2023-01-26T13:29:51.488Z"
   },
   {
    "duration": 24,
    "start_time": "2023-01-26T13:29:51.498Z"
   },
   {
    "duration": 7,
    "start_time": "2023-01-26T13:29:51.524Z"
   },
   {
    "duration": 22,
    "start_time": "2023-01-26T13:29:51.533Z"
   },
   {
    "duration": 76,
    "start_time": "2023-01-26T13:29:51.557Z"
   },
   {
    "duration": 56,
    "start_time": "2023-01-26T13:29:51.635Z"
   },
   {
    "duration": 270,
    "start_time": "2023-01-26T13:29:51.693Z"
   },
   {
    "duration": 25,
    "start_time": "2023-01-26T13:29:51.965Z"
   },
   {
    "duration": 38,
    "start_time": "2023-01-26T13:29:51.994Z"
   },
   {
    "duration": 74,
    "start_time": "2023-01-26T13:29:52.034Z"
   },
   {
    "duration": 4,
    "start_time": "2023-01-26T13:29:52.121Z"
   },
   {
    "duration": 7,
    "start_time": "2023-01-26T13:29:52.127Z"
   },
   {
    "duration": 49,
    "start_time": "2023-01-26T13:29:52.136Z"
   },
   {
    "duration": 74,
    "start_time": "2023-01-26T13:29:52.187Z"
   },
   {
    "duration": 12,
    "start_time": "2023-01-26T13:29:52.263Z"
   },
   {
    "duration": 13,
    "start_time": "2023-01-26T13:29:52.277Z"
   },
   {
    "duration": 30,
    "start_time": "2023-01-26T13:29:52.291Z"
   },
   {
    "duration": 85,
    "start_time": "2023-01-26T13:29:52.323Z"
   },
   {
    "duration": 3,
    "start_time": "2023-01-26T13:29:52.420Z"
   },
   {
    "duration": 123,
    "start_time": "2023-01-26T13:29:52.425Z"
   },
   {
    "duration": 0,
    "start_time": "2023-01-26T13:29:52.550Z"
   },
   {
    "duration": 0,
    "start_time": "2023-01-26T13:29:52.551Z"
   },
   {
    "duration": 0,
    "start_time": "2023-01-26T13:29:52.552Z"
   },
   {
    "duration": 0,
    "start_time": "2023-01-26T13:29:52.553Z"
   },
   {
    "duration": 0,
    "start_time": "2023-01-26T13:29:52.554Z"
   },
   {
    "duration": 0,
    "start_time": "2023-01-26T13:29:52.555Z"
   },
   {
    "duration": 0,
    "start_time": "2023-01-26T13:29:52.555Z"
   },
   {
    "duration": 0,
    "start_time": "2023-01-26T13:29:52.557Z"
   },
   {
    "duration": 0,
    "start_time": "2023-01-26T13:29:52.557Z"
   },
   {
    "duration": 0,
    "start_time": "2023-01-26T13:29:52.559Z"
   },
   {
    "duration": 0,
    "start_time": "2023-01-26T13:29:52.560Z"
   },
   {
    "duration": 0,
    "start_time": "2023-01-26T13:29:52.561Z"
   },
   {
    "duration": 0,
    "start_time": "2023-01-26T13:29:52.562Z"
   },
   {
    "duration": 0,
    "start_time": "2023-01-26T13:29:52.563Z"
   },
   {
    "duration": 0,
    "start_time": "2023-01-26T13:29:52.564Z"
   },
   {
    "duration": 0,
    "start_time": "2023-01-26T13:29:52.565Z"
   },
   {
    "duration": 0,
    "start_time": "2023-01-26T13:29:52.566Z"
   },
   {
    "duration": 0,
    "start_time": "2023-01-26T13:29:52.567Z"
   },
   {
    "duration": 0,
    "start_time": "2023-01-26T13:29:52.568Z"
   },
   {
    "duration": 0,
    "start_time": "2023-01-26T13:29:52.568Z"
   },
   {
    "duration": 0,
    "start_time": "2023-01-26T13:29:52.570Z"
   },
   {
    "duration": 0,
    "start_time": "2023-01-26T13:29:52.570Z"
   },
   {
    "duration": 0,
    "start_time": "2023-01-26T13:29:52.572Z"
   },
   {
    "duration": 0,
    "start_time": "2023-01-26T13:29:52.572Z"
   },
   {
    "duration": 0,
    "start_time": "2023-01-26T13:29:52.573Z"
   },
   {
    "duration": 998,
    "start_time": "2023-01-26T13:35:03.980Z"
   },
   {
    "duration": 18,
    "start_time": "2023-01-26T13:35:06.322Z"
   },
   {
    "duration": 3,
    "start_time": "2023-01-26T13:35:06.545Z"
   },
   {
    "duration": 4,
    "start_time": "2023-01-26T13:35:08.077Z"
   },
   {
    "duration": 1557,
    "start_time": "2023-01-26T13:37:39.813Z"
   },
   {
    "duration": 1066,
    "start_time": "2023-01-26T13:37:41.372Z"
   },
   {
    "duration": 6,
    "start_time": "2023-01-26T13:37:42.440Z"
   },
   {
    "duration": 18,
    "start_time": "2023-01-26T13:37:42.448Z"
   },
   {
    "duration": 118,
    "start_time": "2023-01-26T13:37:42.468Z"
   },
   {
    "duration": 36,
    "start_time": "2023-01-26T13:37:42.588Z"
   },
   {
    "duration": 150,
    "start_time": "2023-01-26T13:37:42.625Z"
   },
   {
    "duration": 2,
    "start_time": "2023-01-26T13:37:42.777Z"
   },
   {
    "duration": 7,
    "start_time": "2023-01-26T13:37:42.780Z"
   },
   {
    "duration": 8,
    "start_time": "2023-01-26T13:37:42.790Z"
   },
   {
    "duration": 122,
    "start_time": "2023-01-26T13:37:42.799Z"
   },
   {
    "duration": 5,
    "start_time": "2023-01-26T13:37:42.923Z"
   },
   {
    "duration": 41,
    "start_time": "2023-01-26T13:37:42.929Z"
   },
   {
    "duration": 6,
    "start_time": "2023-01-26T13:37:42.972Z"
   },
   {
    "duration": 90,
    "start_time": "2023-01-26T13:37:42.979Z"
   },
   {
    "duration": 19,
    "start_time": "2023-01-26T13:37:43.071Z"
   },
   {
    "duration": 34,
    "start_time": "2023-01-26T13:37:43.092Z"
   },
   {
    "duration": 93,
    "start_time": "2023-01-26T13:37:43.128Z"
   },
   {
    "duration": 67,
    "start_time": "2023-01-26T13:37:43.223Z"
   },
   {
    "duration": 8,
    "start_time": "2023-01-26T13:37:43.292Z"
   },
   {
    "duration": 26,
    "start_time": "2023-01-26T13:37:43.301Z"
   },
   {
    "duration": 7,
    "start_time": "2023-01-26T13:37:43.328Z"
   },
   {
    "duration": 22,
    "start_time": "2023-01-26T13:37:43.337Z"
   },
   {
    "duration": 85,
    "start_time": "2023-01-26T13:37:43.361Z"
   },
   {
    "duration": 60,
    "start_time": "2023-01-26T13:37:43.448Z"
   },
   {
    "duration": 312,
    "start_time": "2023-01-26T13:37:43.521Z"
   },
   {
    "duration": 22,
    "start_time": "2023-01-26T13:37:43.834Z"
   },
   {
    "duration": 16,
    "start_time": "2023-01-26T13:37:43.861Z"
   },
   {
    "duration": 102,
    "start_time": "2023-01-26T13:37:43.879Z"
   },
   {
    "duration": 5,
    "start_time": "2023-01-26T13:37:43.982Z"
   },
   {
    "duration": 8,
    "start_time": "2023-01-26T13:37:43.989Z"
   },
   {
    "duration": 53,
    "start_time": "2023-01-26T13:37:43.998Z"
   },
   {
    "duration": 89,
    "start_time": "2023-01-26T13:37:44.053Z"
   },
   {
    "duration": 133,
    "start_time": "2023-01-26T13:37:44.144Z"
   },
   {
    "duration": 0,
    "start_time": "2023-01-26T13:37:44.279Z"
   },
   {
    "duration": 0,
    "start_time": "2023-01-26T13:37:44.280Z"
   },
   {
    "duration": 0,
    "start_time": "2023-01-26T13:37:44.282Z"
   },
   {
    "duration": 0,
    "start_time": "2023-01-26T13:37:44.284Z"
   },
   {
    "duration": 0,
    "start_time": "2023-01-26T13:37:44.285Z"
   },
   {
    "duration": 0,
    "start_time": "2023-01-26T13:37:44.287Z"
   },
   {
    "duration": 0,
    "start_time": "2023-01-26T13:37:44.289Z"
   },
   {
    "duration": 0,
    "start_time": "2023-01-26T13:37:44.290Z"
   },
   {
    "duration": 0,
    "start_time": "2023-01-26T13:37:44.292Z"
   },
   {
    "duration": 0,
    "start_time": "2023-01-26T13:37:44.293Z"
   },
   {
    "duration": 0,
    "start_time": "2023-01-26T13:37:44.321Z"
   },
   {
    "duration": 0,
    "start_time": "2023-01-26T13:37:44.323Z"
   },
   {
    "duration": 0,
    "start_time": "2023-01-26T13:37:44.325Z"
   },
   {
    "duration": 0,
    "start_time": "2023-01-26T13:37:44.326Z"
   },
   {
    "duration": 0,
    "start_time": "2023-01-26T13:37:44.327Z"
   },
   {
    "duration": 0,
    "start_time": "2023-01-26T13:37:44.329Z"
   },
   {
    "duration": 0,
    "start_time": "2023-01-26T13:37:44.330Z"
   },
   {
    "duration": 0,
    "start_time": "2023-01-26T13:37:44.332Z"
   },
   {
    "duration": 0,
    "start_time": "2023-01-26T13:37:44.333Z"
   },
   {
    "duration": 0,
    "start_time": "2023-01-26T13:37:44.334Z"
   },
   {
    "duration": 0,
    "start_time": "2023-01-26T13:37:44.336Z"
   },
   {
    "duration": 0,
    "start_time": "2023-01-26T13:37:44.337Z"
   },
   {
    "duration": 0,
    "start_time": "2023-01-26T13:37:44.338Z"
   },
   {
    "duration": 0,
    "start_time": "2023-01-26T13:37:44.339Z"
   },
   {
    "duration": 0,
    "start_time": "2023-01-26T13:37:44.340Z"
   },
   {
    "duration": 0,
    "start_time": "2023-01-26T13:37:44.341Z"
   },
   {
    "duration": 0,
    "start_time": "2023-01-26T13:37:44.343Z"
   },
   {
    "duration": 0,
    "start_time": "2023-01-26T13:37:44.344Z"
   },
   {
    "duration": 0,
    "start_time": "2023-01-26T13:37:44.346Z"
   },
   {
    "duration": 0,
    "start_time": "2023-01-26T13:37:44.347Z"
   },
   {
    "duration": 21,
    "start_time": "2023-01-26T14:00:23.253Z"
   },
   {
    "duration": 12,
    "start_time": "2023-01-26T14:04:42.897Z"
   },
   {
    "duration": 15,
    "start_time": "2023-01-26T14:04:54.472Z"
   },
   {
    "duration": 16,
    "start_time": "2023-01-26T14:04:55.436Z"
   },
   {
    "duration": 13,
    "start_time": "2023-01-26T14:04:55.642Z"
   },
   {
    "duration": 123,
    "start_time": "2023-01-26T14:05:04.652Z"
   },
   {
    "duration": 13,
    "start_time": "2023-01-26T14:05:04.834Z"
   },
   {
    "duration": 14,
    "start_time": "2023-01-26T14:05:05.188Z"
   },
   {
    "duration": 5,
    "start_time": "2023-01-26T14:05:05.360Z"
   },
   {
    "duration": 95,
    "start_time": "2023-01-26T14:05:05.476Z"
   },
   {
    "duration": 3,
    "start_time": "2023-01-26T14:05:05.695Z"
   },
   {
    "duration": 1043,
    "start_time": "2023-01-26T14:05:05.805Z"
   },
   {
    "duration": 0,
    "start_time": "2023-01-26T14:05:06.850Z"
   },
   {
    "duration": 1072,
    "start_time": "2023-01-26T14:05:19.083Z"
   },
   {
    "duration": 35,
    "start_time": "2023-01-26T14:05:34.222Z"
   },
   {
    "duration": 1623,
    "start_time": "2023-01-26T14:05:41.767Z"
   },
   {
    "duration": 1135,
    "start_time": "2023-01-26T14:05:43.393Z"
   },
   {
    "duration": 9,
    "start_time": "2023-01-26T14:05:44.530Z"
   },
   {
    "duration": 37,
    "start_time": "2023-01-26T14:05:44.544Z"
   },
   {
    "duration": 124,
    "start_time": "2023-01-26T14:05:44.583Z"
   },
   {
    "duration": 33,
    "start_time": "2023-01-26T14:05:44.709Z"
   },
   {
    "duration": 160,
    "start_time": "2023-01-26T14:05:44.744Z"
   },
   {
    "duration": 3,
    "start_time": "2023-01-26T14:05:44.906Z"
   },
   {
    "duration": 12,
    "start_time": "2023-01-26T14:05:44.910Z"
   },
   {
    "duration": 11,
    "start_time": "2023-01-26T14:05:44.924Z"
   },
   {
    "duration": 126,
    "start_time": "2023-01-26T14:05:44.937Z"
   },
   {
    "duration": 11,
    "start_time": "2023-01-26T14:05:45.065Z"
   },
   {
    "duration": 62,
    "start_time": "2023-01-26T14:05:45.078Z"
   },
   {
    "duration": 8,
    "start_time": "2023-01-26T14:05:45.141Z"
   },
   {
    "duration": 100,
    "start_time": "2023-01-26T14:05:45.151Z"
   },
   {
    "duration": 22,
    "start_time": "2023-01-26T14:05:45.253Z"
   },
   {
    "duration": 44,
    "start_time": "2023-01-26T14:05:45.278Z"
   },
   {
    "duration": 102,
    "start_time": "2023-01-26T14:05:45.325Z"
   },
   {
    "duration": 71,
    "start_time": "2023-01-26T14:05:45.428Z"
   },
   {
    "duration": 21,
    "start_time": "2023-01-26T14:05:45.501Z"
   },
   {
    "duration": 7,
    "start_time": "2023-01-26T14:05:45.524Z"
   },
   {
    "duration": 8,
    "start_time": "2023-01-26T14:05:45.533Z"
   },
   {
    "duration": 24,
    "start_time": "2023-01-26T14:05:45.543Z"
   },
   {
    "duration": 75,
    "start_time": "2023-01-26T14:05:45.569Z"
   },
   {
    "duration": 54,
    "start_time": "2023-01-26T14:05:45.646Z"
   },
   {
    "duration": 292,
    "start_time": "2023-01-26T14:05:45.702Z"
   },
   {
    "duration": 28,
    "start_time": "2023-01-26T14:05:45.996Z"
   },
   {
    "duration": 16,
    "start_time": "2023-01-26T14:05:46.028Z"
   },
   {
    "duration": 93,
    "start_time": "2023-01-26T14:05:46.046Z"
   },
   {
    "duration": 5,
    "start_time": "2023-01-26T14:05:46.140Z"
   },
   {
    "duration": 5,
    "start_time": "2023-01-26T14:05:46.146Z"
   },
   {
    "duration": 76,
    "start_time": "2023-01-26T14:05:46.153Z"
   },
   {
    "duration": 106,
    "start_time": "2023-01-26T14:05:46.232Z"
   },
   {
    "duration": 14,
    "start_time": "2023-01-26T14:05:46.340Z"
   },
   {
    "duration": 14,
    "start_time": "2023-01-26T14:05:46.356Z"
   },
   {
    "duration": 5,
    "start_time": "2023-01-26T14:05:46.372Z"
   },
   {
    "duration": 115,
    "start_time": "2023-01-26T14:05:46.379Z"
   },
   {
    "duration": 3,
    "start_time": "2023-01-26T14:05:46.496Z"
   },
   {
    "duration": 170,
    "start_time": "2023-01-26T14:05:46.501Z"
   },
   {
    "duration": 861,
    "start_time": "2023-01-26T14:05:46.673Z"
   },
   {
    "duration": 112,
    "start_time": "2023-01-26T14:05:47.536Z"
   },
   {
    "duration": 4,
    "start_time": "2023-01-26T14:05:47.650Z"
   },
   {
    "duration": 17,
    "start_time": "2023-01-26T14:05:47.656Z"
   },
   {
    "duration": 536609,
    "start_time": "2023-01-26T14:05:47.675Z"
   },
   {
    "duration": 124273,
    "start_time": "2023-01-26T14:14:44.286Z"
   },
   {
    "duration": 3,
    "start_time": "2023-01-26T14:16:48.564Z"
   },
   {
    "duration": 7,
    "start_time": "2023-01-26T14:16:48.569Z"
   },
   {
    "duration": 301673,
    "start_time": "2023-01-26T14:16:48.578Z"
   },
   {
    "duration": 473,
    "start_time": "2023-01-26T14:21:50.253Z"
   },
   {
    "duration": 8,
    "start_time": "2023-01-26T14:21:50.732Z"
   },
   {
    "duration": 468907,
    "start_time": "2023-01-26T14:21:50.744Z"
   },
   {
    "duration": 486,
    "start_time": "2023-01-26T14:29:39.653Z"
   },
   {
    "duration": 28,
    "start_time": "2023-01-26T14:29:40.141Z"
   },
   {
    "duration": 3,
    "start_time": "2023-01-26T14:29:40.170Z"
   },
   {
    "duration": 35,
    "start_time": "2023-01-26T14:29:40.175Z"
   },
   {
    "duration": 1244,
    "start_time": "2023-01-26T14:29:40.212Z"
   },
   {
    "duration": 18,
    "start_time": "2023-01-26T14:29:41.458Z"
   },
   {
    "duration": 4,
    "start_time": "2023-01-26T14:29:41.478Z"
   },
   {
    "duration": 1822,
    "start_time": "2023-01-26T14:29:41.484Z"
   },
   {
    "duration": 17,
    "start_time": "2023-01-26T14:29:43.308Z"
   },
   {
    "duration": 142,
    "start_time": "2023-01-26T14:29:43.326Z"
   },
   {
    "duration": 19873,
    "start_time": "2023-01-26T14:29:43.470Z"
   },
   {
    "duration": 1248,
    "start_time": "2023-01-26T14:30:03.345Z"
   },
   {
    "duration": 13,
    "start_time": "2023-01-26T14:30:04.595Z"
   },
   {
    "duration": 117,
    "start_time": "2023-01-26T14:30:04.630Z"
   },
   {
    "duration": 655,
    "start_time": "2023-01-26T14:30:04.750Z"
   },
   {
    "duration": 129865,
    "start_time": "2023-01-26T14:30:05.407Z"
   },
   {
    "duration": 3676,
    "start_time": "2023-01-27T09:35:08.373Z"
   },
   {
    "duration": 4221,
    "start_time": "2023-01-27T09:35:12.055Z"
   },
   {
    "duration": 6,
    "start_time": "2023-01-27T09:35:16.280Z"
   },
   {
    "duration": 27,
    "start_time": "2023-01-27T09:35:16.289Z"
   },
   {
    "duration": 148,
    "start_time": "2023-01-27T09:35:16.318Z"
   },
   {
    "duration": 31,
    "start_time": "2023-01-27T09:35:16.471Z"
   },
   {
    "duration": 184,
    "start_time": "2023-01-27T09:35:16.505Z"
   },
   {
    "duration": 3,
    "start_time": "2023-01-27T09:35:16.691Z"
   },
   {
    "duration": 10,
    "start_time": "2023-01-27T09:35:16.696Z"
   },
   {
    "duration": 19,
    "start_time": "2023-01-27T09:35:16.709Z"
   },
   {
    "duration": 188,
    "start_time": "2023-01-27T09:35:16.730Z"
   },
   {
    "duration": 7,
    "start_time": "2023-01-27T09:35:16.920Z"
   },
   {
    "duration": 76,
    "start_time": "2023-01-27T09:35:16.944Z"
   },
   {
    "duration": 8,
    "start_time": "2023-01-27T09:35:17.022Z"
   },
   {
    "duration": 99,
    "start_time": "2023-01-27T09:35:17.032Z"
   },
   {
    "duration": 39,
    "start_time": "2023-01-27T09:35:17.133Z"
   },
   {
    "duration": 39,
    "start_time": "2023-01-27T09:35:17.174Z"
   },
   {
    "duration": 147,
    "start_time": "2023-01-27T09:35:17.215Z"
   },
   {
    "duration": 84,
    "start_time": "2023-01-27T09:35:17.371Z"
   },
   {
    "duration": 26,
    "start_time": "2023-01-27T09:35:17.457Z"
   },
   {
    "duration": 14,
    "start_time": "2023-01-27T09:35:17.485Z"
   },
   {
    "duration": 14,
    "start_time": "2023-01-27T09:35:17.501Z"
   },
   {
    "duration": 29,
    "start_time": "2023-01-27T09:35:17.516Z"
   },
   {
    "duration": 79,
    "start_time": "2023-01-27T09:35:17.548Z"
   },
   {
    "duration": 61,
    "start_time": "2023-01-27T09:35:17.628Z"
   },
   {
    "duration": 303,
    "start_time": "2023-01-27T09:35:17.690Z"
   },
   {
    "duration": 23,
    "start_time": "2023-01-27T09:35:17.994Z"
   },
   {
    "duration": 23,
    "start_time": "2023-01-27T09:35:18.042Z"
   },
   {
    "duration": 176,
    "start_time": "2023-01-27T09:35:18.071Z"
   },
   {
    "duration": 7,
    "start_time": "2023-01-27T09:35:18.567Z"
   },
   {
    "duration": 3,
    "start_time": "2023-01-27T09:35:18.716Z"
   },
   {
    "duration": 39,
    "start_time": "2023-01-27T09:35:18.875Z"
   },
   {
    "duration": 109,
    "start_time": "2023-01-27T09:35:19.019Z"
   },
   {
    "duration": 11,
    "start_time": "2023-01-27T09:35:19.176Z"
   },
   {
    "duration": 13,
    "start_time": "2023-01-27T09:35:20.891Z"
   },
   {
    "duration": 5,
    "start_time": "2023-01-27T09:35:21.283Z"
   },
   {
    "duration": 84,
    "start_time": "2023-01-27T09:35:21.469Z"
   },
   {
    "duration": 3,
    "start_time": "2023-01-27T09:35:21.691Z"
   },
   {
    "duration": 1141,
    "start_time": "2023-01-27T09:35:22.755Z"
   },
   {
    "duration": 22,
    "start_time": "2023-01-27T09:35:55.566Z"
   },
   {
    "duration": 23,
    "start_time": "2023-01-27T09:36:03.581Z"
   },
   {
    "duration": 49,
    "start_time": "2023-01-27T10:20:53.937Z"
   },
   {
    "duration": 1629,
    "start_time": "2023-01-27T10:21:06.598Z"
   },
   {
    "duration": 3043,
    "start_time": "2023-01-27T10:21:08.229Z"
   },
   {
    "duration": 5,
    "start_time": "2023-01-27T10:21:11.274Z"
   },
   {
    "duration": 16,
    "start_time": "2023-01-27T10:21:11.282Z"
   },
   {
    "duration": 134,
    "start_time": "2023-01-27T10:21:11.299Z"
   },
   {
    "duration": 26,
    "start_time": "2023-01-27T10:21:11.434Z"
   },
   {
    "duration": 154,
    "start_time": "2023-01-27T10:21:11.461Z"
   },
   {
    "duration": 2,
    "start_time": "2023-01-27T10:21:11.617Z"
   },
   {
    "duration": 5,
    "start_time": "2023-01-27T10:21:11.621Z"
   },
   {
    "duration": 10,
    "start_time": "2023-01-27T10:21:11.628Z"
   },
   {
    "duration": 102,
    "start_time": "2023-01-27T10:21:11.640Z"
   },
   {
    "duration": 6,
    "start_time": "2023-01-27T10:21:11.744Z"
   },
   {
    "duration": 58,
    "start_time": "2023-01-27T10:21:11.751Z"
   },
   {
    "duration": 7,
    "start_time": "2023-01-27T10:21:11.811Z"
   },
   {
    "duration": 79,
    "start_time": "2023-01-27T10:21:11.819Z"
   },
   {
    "duration": 20,
    "start_time": "2023-01-27T10:21:11.900Z"
   },
   {
    "duration": 24,
    "start_time": "2023-01-27T10:21:11.922Z"
   },
   {
    "duration": 79,
    "start_time": "2023-01-27T10:21:11.947Z"
   },
   {
    "duration": 85,
    "start_time": "2023-01-27T10:21:12.028Z"
   },
   {
    "duration": 9,
    "start_time": "2023-01-27T10:21:12.115Z"
   },
   {
    "duration": 7,
    "start_time": "2023-01-27T10:21:12.126Z"
   },
   {
    "duration": 6,
    "start_time": "2023-01-27T10:21:12.135Z"
   },
   {
    "duration": 54,
    "start_time": "2023-01-27T10:21:12.142Z"
   },
   {
    "duration": 45,
    "start_time": "2023-01-27T10:21:12.198Z"
   },
   {
    "duration": 61,
    "start_time": "2023-01-27T10:21:12.245Z"
   },
   {
    "duration": 256,
    "start_time": "2023-01-27T10:21:12.308Z"
   },
   {
    "duration": 28,
    "start_time": "2023-01-27T10:21:12.566Z"
   },
   {
    "duration": 18,
    "start_time": "2023-01-27T10:21:12.598Z"
   },
   {
    "duration": 75,
    "start_time": "2023-01-27T10:21:12.618Z"
   },
   {
    "duration": 4,
    "start_time": "2023-01-27T10:21:12.695Z"
   },
   {
    "duration": 16,
    "start_time": "2023-01-27T10:21:12.701Z"
   },
   {
    "duration": 54,
    "start_time": "2023-01-27T10:21:12.719Z"
   },
   {
    "duration": 58,
    "start_time": "2023-01-27T10:21:12.775Z"
   },
   {
    "duration": 21,
    "start_time": "2023-01-27T10:21:12.834Z"
   },
   {
    "duration": 13,
    "start_time": "2023-01-27T10:21:12.857Z"
   },
   {
    "duration": 11,
    "start_time": "2023-01-27T10:21:12.871Z"
   },
   {
    "duration": 87,
    "start_time": "2023-01-27T10:21:12.883Z"
   },
   {
    "duration": 2,
    "start_time": "2023-01-27T10:21:12.972Z"
   },
   {
    "duration": 165,
    "start_time": "2023-01-27T10:21:12.976Z"
   },
   {
    "duration": 790,
    "start_time": "2023-01-27T10:21:13.143Z"
   },
   {
    "duration": 98,
    "start_time": "2023-01-27T10:21:13.935Z"
   },
   {
    "duration": 4,
    "start_time": "2023-01-27T10:21:14.035Z"
   },
   {
    "duration": 14,
    "start_time": "2023-01-27T10:21:14.040Z"
   },
   {
    "duration": 388677,
    "start_time": "2023-01-27T10:21:14.055Z"
   },
   {
    "duration": 3,
    "start_time": "2023-01-27T10:27:42.734Z"
   },
   {
    "duration": 9,
    "start_time": "2023-01-27T10:27:42.739Z"
   },
   {
    "duration": 6242,
    "start_time": "2023-01-27T10:27:42.750Z"
   },
   {
    "duration": 397,
    "start_time": "2023-01-27T10:27:48.993Z"
   },
   {
    "duration": 3,
    "start_time": "2023-01-27T10:27:49.392Z"
   },
   {
    "duration": 7095,
    "start_time": "2023-01-27T10:27:49.396Z"
   },
   {
    "duration": 404,
    "start_time": "2023-01-27T10:27:56.493Z"
   },
   {
    "duration": 20,
    "start_time": "2023-01-27T10:27:56.982Z"
   },
   {
    "duration": 11,
    "start_time": "2023-01-27T10:27:57.004Z"
   },
   {
    "duration": 33,
    "start_time": "2023-01-27T10:27:57.017Z"
   },
   {
    "duration": 1151,
    "start_time": "2023-01-27T10:27:57.052Z"
   },
   {
    "duration": 11,
    "start_time": "2023-01-27T10:27:58.205Z"
   },
   {
    "duration": 5,
    "start_time": "2023-01-27T10:27:58.218Z"
   },
   {
    "duration": 1524,
    "start_time": "2023-01-27T10:27:58.224Z"
   },
   {
    "duration": 16,
    "start_time": "2023-01-27T10:27:59.750Z"
   },
   {
    "duration": 128,
    "start_time": "2023-01-27T10:27:59.767Z"
   },
   {
    "duration": 17233,
    "start_time": "2023-01-27T10:27:59.897Z"
   },
   {
    "duration": 1155,
    "start_time": "2023-01-27T10:28:17.132Z"
   },
   {
    "duration": 9,
    "start_time": "2023-01-27T10:28:18.289Z"
   },
   {
    "duration": 157739,
    "start_time": "2023-01-27T10:28:18.302Z"
   },
   {
    "duration": 209187,
    "start_time": "2023-01-27T10:36:05.930Z"
   },
   {
    "duration": 197734,
    "start_time": "2023-01-27T10:39:35.120Z"
   },
   {
    "duration": 1410,
    "start_time": "2023-01-27T10:47:18.003Z"
   },
   {
    "duration": 881,
    "start_time": "2023-01-27T10:47:19.415Z"
   },
   {
    "duration": 6,
    "start_time": "2023-01-27T10:47:20.298Z"
   },
   {
    "duration": 21,
    "start_time": "2023-01-27T10:47:20.308Z"
   },
   {
    "duration": 149,
    "start_time": "2023-01-27T10:47:20.331Z"
   },
   {
    "duration": 24,
    "start_time": "2023-01-27T10:47:20.493Z"
   },
   {
    "duration": 131,
    "start_time": "2023-01-27T10:47:20.518Z"
   },
   {
    "duration": 3,
    "start_time": "2023-01-27T10:47:20.651Z"
   },
   {
    "duration": 14,
    "start_time": "2023-01-27T10:47:20.656Z"
   },
   {
    "duration": 22,
    "start_time": "2023-01-27T10:47:20.672Z"
   },
   {
    "duration": 108,
    "start_time": "2023-01-27T10:47:20.696Z"
   },
   {
    "duration": 6,
    "start_time": "2023-01-27T10:47:20.805Z"
   },
   {
    "duration": 41,
    "start_time": "2023-01-27T10:47:20.812Z"
   },
   {
    "duration": 6,
    "start_time": "2023-01-27T10:47:20.854Z"
   },
   {
    "duration": 75,
    "start_time": "2023-01-27T10:47:20.862Z"
   },
   {
    "duration": 18,
    "start_time": "2023-01-27T10:47:20.938Z"
   },
   {
    "duration": 42,
    "start_time": "2023-01-27T10:47:20.958Z"
   },
   {
    "duration": 90,
    "start_time": "2023-01-27T10:47:21.002Z"
   },
   {
    "duration": 82,
    "start_time": "2023-01-27T10:47:21.093Z"
   },
   {
    "duration": 20,
    "start_time": "2023-01-27T10:47:21.177Z"
   },
   {
    "duration": 14,
    "start_time": "2023-01-27T10:47:21.198Z"
   },
   {
    "duration": 7,
    "start_time": "2023-01-27T10:47:21.214Z"
   },
   {
    "duration": 24,
    "start_time": "2023-01-27T10:47:21.222Z"
   },
   {
    "duration": 47,
    "start_time": "2023-01-27T10:47:21.247Z"
   },
   {
    "duration": 48,
    "start_time": "2023-01-27T10:47:21.296Z"
   },
   {
    "duration": 265,
    "start_time": "2023-01-27T10:47:21.345Z"
   },
   {
    "duration": 21,
    "start_time": "2023-01-27T10:47:21.612Z"
   },
   {
    "duration": 16,
    "start_time": "2023-01-27T10:47:21.637Z"
   },
   {
    "duration": 86,
    "start_time": "2023-01-27T10:47:21.655Z"
   },
   {
    "duration": 5,
    "start_time": "2023-01-27T10:47:21.742Z"
   },
   {
    "duration": 5,
    "start_time": "2023-01-27T10:47:21.748Z"
   },
   {
    "duration": 61,
    "start_time": "2023-01-27T10:47:21.754Z"
   },
   {
    "duration": 75,
    "start_time": "2023-01-27T10:47:21.817Z"
   },
   {
    "duration": 11,
    "start_time": "2023-01-27T10:47:21.894Z"
   },
   {
    "duration": 12,
    "start_time": "2023-01-27T10:47:21.907Z"
   },
   {
    "duration": 4,
    "start_time": "2023-01-27T10:47:21.921Z"
   },
   {
    "duration": 83,
    "start_time": "2023-01-27T10:47:21.926Z"
   },
   {
    "duration": 3,
    "start_time": "2023-01-27T10:47:22.010Z"
   },
   {
    "duration": 820,
    "start_time": "2023-01-27T10:47:22.014Z"
   },
   {
    "duration": 100,
    "start_time": "2023-01-27T10:47:22.836Z"
   },
   {
    "duration": 3,
    "start_time": "2023-01-27T10:47:22.938Z"
   },
   {
    "duration": 9,
    "start_time": "2023-01-27T10:47:22.943Z"
   },
   {
    "duration": 1694,
    "start_time": "2023-01-27T10:50:01.212Z"
   },
   {
    "duration": 987,
    "start_time": "2023-01-27T10:50:02.908Z"
   },
   {
    "duration": 6,
    "start_time": "2023-01-27T10:50:03.896Z"
   },
   {
    "duration": 28,
    "start_time": "2023-01-27T10:50:03.904Z"
   },
   {
    "duration": 107,
    "start_time": "2023-01-27T10:50:03.933Z"
   },
   {
    "duration": 30,
    "start_time": "2023-01-27T10:50:04.041Z"
   },
   {
    "duration": 152,
    "start_time": "2023-01-27T10:50:04.073Z"
   },
   {
    "duration": 3,
    "start_time": "2023-01-27T10:50:04.226Z"
   },
   {
    "duration": 36,
    "start_time": "2023-01-27T10:50:04.230Z"
   },
   {
    "duration": 9,
    "start_time": "2023-01-27T10:50:04.269Z"
   },
   {
    "duration": 113,
    "start_time": "2023-01-27T10:50:04.279Z"
   },
   {
    "duration": 5,
    "start_time": "2023-01-27T10:50:04.394Z"
   },
   {
    "duration": 42,
    "start_time": "2023-01-27T10:50:04.400Z"
   },
   {
    "duration": 6,
    "start_time": "2023-01-27T10:50:04.444Z"
   },
   {
    "duration": 76,
    "start_time": "2023-01-27T10:50:04.451Z"
   },
   {
    "duration": 19,
    "start_time": "2023-01-27T10:50:04.528Z"
   },
   {
    "duration": 42,
    "start_time": "2023-01-27T10:50:04.549Z"
   },
   {
    "duration": 79,
    "start_time": "2023-01-27T10:50:04.594Z"
   },
   {
    "duration": 85,
    "start_time": "2023-01-27T10:50:04.675Z"
   },
   {
    "duration": 8,
    "start_time": "2023-01-27T10:50:04.762Z"
   },
   {
    "duration": 13,
    "start_time": "2023-01-27T10:50:04.772Z"
   },
   {
    "duration": 13,
    "start_time": "2023-01-27T10:50:04.788Z"
   },
   {
    "duration": 23,
    "start_time": "2023-01-27T10:50:04.803Z"
   },
   {
    "duration": 48,
    "start_time": "2023-01-27T10:50:04.828Z"
   },
   {
    "duration": 61,
    "start_time": "2023-01-27T10:50:04.882Z"
   },
   {
    "duration": 263,
    "start_time": "2023-01-27T10:50:04.944Z"
   },
   {
    "duration": 21,
    "start_time": "2023-01-27T10:50:05.209Z"
   },
   {
    "duration": 15,
    "start_time": "2023-01-27T10:50:05.234Z"
   },
   {
    "duration": 84,
    "start_time": "2023-01-27T10:50:05.250Z"
   },
   {
    "duration": 12,
    "start_time": "2023-01-27T10:50:05.335Z"
   },
   {
    "duration": 19,
    "start_time": "2023-01-27T10:50:05.349Z"
   },
   {
    "duration": 64,
    "start_time": "2023-01-27T10:50:05.370Z"
   },
   {
    "duration": 63,
    "start_time": "2023-01-27T10:50:05.436Z"
   },
   {
    "duration": 11,
    "start_time": "2023-01-27T10:50:05.501Z"
   },
   {
    "duration": 14,
    "start_time": "2023-01-27T10:50:05.514Z"
   },
   {
    "duration": 4,
    "start_time": "2023-01-27T10:50:05.530Z"
   },
   {
    "duration": 104,
    "start_time": "2023-01-27T10:50:05.536Z"
   },
   {
    "duration": 3,
    "start_time": "2023-01-27T10:50:05.641Z"
   },
   {
    "duration": 974,
    "start_time": "2023-01-27T10:50:05.646Z"
   },
   {
    "duration": 113,
    "start_time": "2023-01-27T10:50:06.621Z"
   },
   {
    "duration": 3,
    "start_time": "2023-01-27T10:50:06.736Z"
   },
   {
    "duration": 5,
    "start_time": "2023-01-27T10:50:06.741Z"
   },
   {
    "duration": 1528,
    "start_time": "2023-01-27T10:50:55.500Z"
   },
   {
    "duration": 977,
    "start_time": "2023-01-27T10:50:57.030Z"
   },
   {
    "duration": 6,
    "start_time": "2023-01-27T10:50:58.009Z"
   },
   {
    "duration": 16,
    "start_time": "2023-01-27T10:50:58.017Z"
   },
   {
    "duration": 163,
    "start_time": "2023-01-27T10:50:58.035Z"
   },
   {
    "duration": 26,
    "start_time": "2023-01-27T10:50:58.200Z"
   },
   {
    "duration": 167,
    "start_time": "2023-01-27T10:50:58.228Z"
   },
   {
    "duration": 3,
    "start_time": "2023-01-27T10:50:58.398Z"
   },
   {
    "duration": 7,
    "start_time": "2023-01-27T10:50:58.402Z"
   },
   {
    "duration": 14,
    "start_time": "2023-01-27T10:50:58.412Z"
   },
   {
    "duration": 95,
    "start_time": "2023-01-27T10:50:58.427Z"
   },
   {
    "duration": 6,
    "start_time": "2023-01-27T10:50:58.524Z"
   },
   {
    "duration": 51,
    "start_time": "2023-01-27T10:50:58.531Z"
   },
   {
    "duration": 7,
    "start_time": "2023-01-27T10:50:58.596Z"
   },
   {
    "duration": 63,
    "start_time": "2023-01-27T10:50:58.605Z"
   },
   {
    "duration": 26,
    "start_time": "2023-01-27T10:50:58.670Z"
   },
   {
    "duration": 21,
    "start_time": "2023-01-27T10:50:58.698Z"
   },
   {
    "duration": 83,
    "start_time": "2023-01-27T10:50:58.721Z"
   },
   {
    "duration": 91,
    "start_time": "2023-01-27T10:50:58.806Z"
   },
   {
    "duration": 8,
    "start_time": "2023-01-27T10:50:58.898Z"
   },
   {
    "duration": 6,
    "start_time": "2023-01-27T10:50:58.908Z"
   },
   {
    "duration": 5,
    "start_time": "2023-01-27T10:50:58.916Z"
   },
   {
    "duration": 25,
    "start_time": "2023-01-27T10:50:58.923Z"
   },
   {
    "duration": 71,
    "start_time": "2023-01-27T10:50:58.950Z"
   },
   {
    "duration": 64,
    "start_time": "2023-01-27T10:50:59.023Z"
   },
   {
    "duration": 270,
    "start_time": "2023-01-27T10:50:59.088Z"
   },
   {
    "duration": 34,
    "start_time": "2023-01-27T10:50:59.360Z"
   },
   {
    "duration": 16,
    "start_time": "2023-01-27T10:50:59.398Z"
   },
   {
    "duration": 80,
    "start_time": "2023-01-27T10:50:59.416Z"
   },
   {
    "duration": 4,
    "start_time": "2023-01-27T10:50:59.498Z"
   },
   {
    "duration": 9,
    "start_time": "2023-01-27T10:50:59.504Z"
   },
   {
    "duration": 43,
    "start_time": "2023-01-27T10:50:59.515Z"
   },
   {
    "duration": 76,
    "start_time": "2023-01-27T10:50:59.560Z"
   },
   {
    "duration": 12,
    "start_time": "2023-01-27T10:50:59.638Z"
   },
   {
    "duration": 43,
    "start_time": "2023-01-27T10:50:59.652Z"
   },
   {
    "duration": 5,
    "start_time": "2023-01-27T10:50:59.697Z"
   },
   {
    "duration": 84,
    "start_time": "2023-01-27T10:50:59.703Z"
   },
   {
    "duration": 2,
    "start_time": "2023-01-27T10:50:59.793Z"
   },
   {
    "duration": 913,
    "start_time": "2023-01-27T10:50:59.797Z"
   },
   {
    "duration": 102,
    "start_time": "2023-01-27T10:51:00.713Z"
   },
   {
    "duration": 3,
    "start_time": "2023-01-27T10:51:00.817Z"
   },
   {
    "duration": 74,
    "start_time": "2023-01-27T10:51:00.822Z"
   },
   {
    "duration": 1444,
    "start_time": "2023-01-27T10:54:57.627Z"
   },
   {
    "duration": 938,
    "start_time": "2023-01-27T10:54:59.073Z"
   },
   {
    "duration": 17,
    "start_time": "2023-01-27T10:55:00.014Z"
   },
   {
    "duration": 32,
    "start_time": "2023-01-27T10:55:00.033Z"
   },
   {
    "duration": 97,
    "start_time": "2023-01-27T10:55:00.067Z"
   },
   {
    "duration": 38,
    "start_time": "2023-01-27T10:55:00.166Z"
   },
   {
    "duration": 131,
    "start_time": "2023-01-27T10:55:00.205Z"
   },
   {
    "duration": 2,
    "start_time": "2023-01-27T10:55:00.338Z"
   },
   {
    "duration": 26,
    "start_time": "2023-01-27T10:55:00.342Z"
   },
   {
    "duration": 47,
    "start_time": "2023-01-27T10:55:00.370Z"
   },
   {
    "duration": 106,
    "start_time": "2023-01-27T10:55:00.418Z"
   },
   {
    "duration": 5,
    "start_time": "2023-01-27T10:55:00.526Z"
   },
   {
    "duration": 53,
    "start_time": "2023-01-27T10:55:00.533Z"
   },
   {
    "duration": 9,
    "start_time": "2023-01-27T10:55:00.592Z"
   },
   {
    "duration": 118,
    "start_time": "2023-01-27T10:55:00.603Z"
   },
   {
    "duration": 21,
    "start_time": "2023-01-27T10:55:00.723Z"
   },
   {
    "duration": 33,
    "start_time": "2023-01-27T10:55:00.746Z"
   },
   {
    "duration": 89,
    "start_time": "2023-01-27T10:55:00.781Z"
   },
   {
    "duration": 83,
    "start_time": "2023-01-27T10:55:00.872Z"
   },
   {
    "duration": 7,
    "start_time": "2023-01-27T10:55:00.957Z"
   },
   {
    "duration": 44,
    "start_time": "2023-01-27T10:55:00.966Z"
   },
   {
    "duration": 36,
    "start_time": "2023-01-27T10:55:01.011Z"
   },
   {
    "duration": 66,
    "start_time": "2023-01-27T10:55:01.049Z"
   },
   {
    "duration": 105,
    "start_time": "2023-01-27T10:55:01.116Z"
   },
   {
    "duration": 97,
    "start_time": "2023-01-27T10:55:01.223Z"
   },
   {
    "duration": 279,
    "start_time": "2023-01-27T10:55:01.321Z"
   },
   {
    "duration": 28,
    "start_time": "2023-01-27T10:55:01.602Z"
   },
   {
    "duration": 16,
    "start_time": "2023-01-27T10:55:01.634Z"
   },
   {
    "duration": 83,
    "start_time": "2023-01-27T10:55:01.652Z"
   },
   {
    "duration": 54,
    "start_time": "2023-01-27T10:55:01.737Z"
   },
   {
    "duration": 23,
    "start_time": "2023-01-27T10:55:01.795Z"
   },
   {
    "duration": 58,
    "start_time": "2023-01-27T10:55:01.820Z"
   },
   {
    "duration": 75,
    "start_time": "2023-01-27T10:55:01.880Z"
   },
   {
    "duration": 17,
    "start_time": "2023-01-27T10:55:01.956Z"
   },
   {
    "duration": 18,
    "start_time": "2023-01-27T10:55:01.975Z"
   },
   {
    "duration": 28,
    "start_time": "2023-01-27T10:55:01.999Z"
   },
   {
    "duration": 126,
    "start_time": "2023-01-27T10:55:02.029Z"
   },
   {
    "duration": 4,
    "start_time": "2023-01-27T10:55:02.157Z"
   },
   {
    "duration": 891,
    "start_time": "2023-01-27T10:55:02.163Z"
   },
   {
    "duration": 118,
    "start_time": "2023-01-27T10:55:03.056Z"
   },
   {
    "duration": 12,
    "start_time": "2023-01-27T10:55:03.175Z"
   },
   {
    "duration": 12,
    "start_time": "2023-01-27T10:55:03.190Z"
   },
   {
    "duration": 1507,
    "start_time": "2023-01-27T10:59:09.624Z"
   },
   {
    "duration": 1049,
    "start_time": "2023-01-27T10:59:11.133Z"
   },
   {
    "duration": 7,
    "start_time": "2023-01-27T10:59:12.184Z"
   },
   {
    "duration": 21,
    "start_time": "2023-01-27T10:59:12.197Z"
   },
   {
    "duration": 155,
    "start_time": "2023-01-27T10:59:12.219Z"
   },
   {
    "duration": 26,
    "start_time": "2023-01-27T10:59:12.392Z"
   },
   {
    "duration": 138,
    "start_time": "2023-01-27T10:59:12.420Z"
   },
   {
    "duration": 2,
    "start_time": "2023-01-27T10:59:12.560Z"
   },
   {
    "duration": 6,
    "start_time": "2023-01-27T10:59:12.564Z"
   },
   {
    "duration": 8,
    "start_time": "2023-01-27T10:59:12.587Z"
   },
   {
    "duration": 100,
    "start_time": "2023-01-27T10:59:12.597Z"
   },
   {
    "duration": 5,
    "start_time": "2023-01-27T10:59:12.698Z"
   },
   {
    "duration": 44,
    "start_time": "2023-01-27T10:59:12.705Z"
   },
   {
    "duration": 6,
    "start_time": "2023-01-27T10:59:12.751Z"
   },
   {
    "duration": 83,
    "start_time": "2023-01-27T10:59:12.759Z"
   },
   {
    "duration": 17,
    "start_time": "2023-01-27T10:59:12.844Z"
   },
   {
    "duration": 40,
    "start_time": "2023-01-27T10:59:12.863Z"
   },
   {
    "duration": 96,
    "start_time": "2023-01-27T10:59:12.904Z"
   },
   {
    "duration": 77,
    "start_time": "2023-01-27T10:59:13.002Z"
   },
   {
    "duration": 14,
    "start_time": "2023-01-27T10:59:13.080Z"
   },
   {
    "duration": 23,
    "start_time": "2023-01-27T10:59:13.095Z"
   },
   {
    "duration": 24,
    "start_time": "2023-01-27T10:59:13.119Z"
   },
   {
    "duration": 44,
    "start_time": "2023-01-27T10:59:13.144Z"
   },
   {
    "duration": 59,
    "start_time": "2023-01-27T10:59:13.190Z"
   },
   {
    "duration": 58,
    "start_time": "2023-01-27T10:59:13.250Z"
   },
   {
    "duration": 295,
    "start_time": "2023-01-27T10:59:13.310Z"
   },
   {
    "duration": 24,
    "start_time": "2023-01-27T10:59:13.606Z"
   },
   {
    "duration": 18,
    "start_time": "2023-01-27T10:59:13.634Z"
   },
   {
    "duration": 101,
    "start_time": "2023-01-27T10:59:13.654Z"
   },
   {
    "duration": 5,
    "start_time": "2023-01-27T10:59:13.756Z"
   },
   {
    "duration": 24,
    "start_time": "2023-01-27T10:59:13.763Z"
   },
   {
    "duration": 54,
    "start_time": "2023-01-27T10:59:13.792Z"
   },
   {
    "duration": 91,
    "start_time": "2023-01-27T10:59:13.848Z"
   },
   {
    "duration": 13,
    "start_time": "2023-01-27T10:59:13.942Z"
   },
   {
    "duration": 30,
    "start_time": "2023-01-27T10:59:13.957Z"
   },
   {
    "duration": 5,
    "start_time": "2023-01-27T10:59:14.002Z"
   },
   {
    "duration": 87,
    "start_time": "2023-01-27T10:59:14.009Z"
   },
   {
    "duration": 4,
    "start_time": "2023-01-27T10:59:14.097Z"
   },
   {
    "duration": 944,
    "start_time": "2023-01-27T10:59:14.104Z"
   },
   {
    "duration": 252,
    "start_time": "2023-01-27T10:59:15.050Z"
   },
   {
    "duration": 3,
    "start_time": "2023-01-27T10:59:15.304Z"
   },
   {
    "duration": 14,
    "start_time": "2023-01-27T10:59:15.308Z"
   },
   {
    "duration": 1623,
    "start_time": "2023-01-27T11:00:53.985Z"
   },
   {
    "duration": 1091,
    "start_time": "2023-01-27T11:00:55.610Z"
   },
   {
    "duration": 8,
    "start_time": "2023-01-27T11:00:56.706Z"
   },
   {
    "duration": 26,
    "start_time": "2023-01-27T11:00:56.717Z"
   },
   {
    "duration": 163,
    "start_time": "2023-01-27T11:00:56.746Z"
   },
   {
    "duration": 31,
    "start_time": "2023-01-27T11:00:56.911Z"
   },
   {
    "duration": 164,
    "start_time": "2023-01-27T11:00:56.944Z"
   },
   {
    "duration": 2,
    "start_time": "2023-01-27T11:00:57.109Z"
   },
   {
    "duration": 6,
    "start_time": "2023-01-27T11:00:57.113Z"
   },
   {
    "duration": 16,
    "start_time": "2023-01-27T11:00:57.123Z"
   },
   {
    "duration": 112,
    "start_time": "2023-01-27T11:00:57.141Z"
   },
   {
    "duration": 5,
    "start_time": "2023-01-27T11:00:57.254Z"
   },
   {
    "duration": 63,
    "start_time": "2023-01-27T11:00:57.261Z"
   },
   {
    "duration": 7,
    "start_time": "2023-01-27T11:00:57.325Z"
   },
   {
    "duration": 82,
    "start_time": "2023-01-27T11:00:57.334Z"
   },
   {
    "duration": 20,
    "start_time": "2023-01-27T11:00:57.418Z"
   },
   {
    "duration": 25,
    "start_time": "2023-01-27T11:00:57.441Z"
   },
   {
    "duration": 91,
    "start_time": "2023-01-27T11:00:57.469Z"
   },
   {
    "duration": 83,
    "start_time": "2023-01-27T11:00:57.562Z"
   },
   {
    "duration": 7,
    "start_time": "2023-01-27T11:00:57.647Z"
   },
   {
    "duration": 29,
    "start_time": "2023-01-27T11:00:57.656Z"
   },
   {
    "duration": 15,
    "start_time": "2023-01-27T11:00:57.687Z"
   },
   {
    "duration": 25,
    "start_time": "2023-01-27T11:00:57.704Z"
   },
   {
    "duration": 59,
    "start_time": "2023-01-27T11:00:57.731Z"
   },
   {
    "duration": 51,
    "start_time": "2023-01-27T11:00:57.793Z"
   },
   {
    "duration": 268,
    "start_time": "2023-01-27T11:00:57.846Z"
   },
   {
    "duration": 22,
    "start_time": "2023-01-27T11:00:58.116Z"
   },
   {
    "duration": 16,
    "start_time": "2023-01-27T11:00:58.142Z"
   },
   {
    "duration": 90,
    "start_time": "2023-01-27T11:00:58.160Z"
   },
   {
    "duration": 4,
    "start_time": "2023-01-27T11:00:58.253Z"
   },
   {
    "duration": 23,
    "start_time": "2023-01-27T11:00:58.260Z"
   },
   {
    "duration": 63,
    "start_time": "2023-01-27T11:00:58.285Z"
   },
   {
    "duration": 73,
    "start_time": "2023-01-27T11:00:58.351Z"
   },
   {
    "duration": 12,
    "start_time": "2023-01-27T11:00:58.426Z"
   },
   {
    "duration": 12,
    "start_time": "2023-01-27T11:00:58.440Z"
   },
   {
    "duration": 5,
    "start_time": "2023-01-27T11:00:58.454Z"
   },
   {
    "duration": 78,
    "start_time": "2023-01-27T11:00:58.486Z"
   },
   {
    "duration": 3,
    "start_time": "2023-01-27T11:00:58.568Z"
   },
   {
    "duration": 834,
    "start_time": "2023-01-27T11:00:58.572Z"
   },
   {
    "duration": 101,
    "start_time": "2023-01-27T11:00:59.408Z"
   },
   {
    "duration": 4,
    "start_time": "2023-01-27T11:00:59.511Z"
   },
   {
    "duration": 5,
    "start_time": "2023-01-27T11:00:59.516Z"
   },
   {
    "duration": 1536,
    "start_time": "2023-01-27T11:44:04.643Z"
   },
   {
    "duration": 1049,
    "start_time": "2023-01-27T11:44:06.181Z"
   },
   {
    "duration": 7,
    "start_time": "2023-01-27T11:44:07.232Z"
   },
   {
    "duration": 21,
    "start_time": "2023-01-27T11:44:07.241Z"
   },
   {
    "duration": 160,
    "start_time": "2023-01-27T11:44:07.263Z"
   },
   {
    "duration": 25,
    "start_time": "2023-01-27T11:44:07.425Z"
   },
   {
    "duration": 148,
    "start_time": "2023-01-27T11:44:07.452Z"
   },
   {
    "duration": 2,
    "start_time": "2023-01-27T11:44:07.602Z"
   },
   {
    "duration": 5,
    "start_time": "2023-01-27T11:44:07.606Z"
   },
   {
    "duration": 8,
    "start_time": "2023-01-27T11:44:07.614Z"
   },
   {
    "duration": 109,
    "start_time": "2023-01-27T11:44:07.624Z"
   },
   {
    "duration": 5,
    "start_time": "2023-01-27T11:44:07.735Z"
   },
   {
    "duration": 66,
    "start_time": "2023-01-27T11:44:07.742Z"
   },
   {
    "duration": 6,
    "start_time": "2023-01-27T11:44:07.810Z"
   },
   {
    "duration": 66,
    "start_time": "2023-01-27T11:44:07.817Z"
   },
   {
    "duration": 18,
    "start_time": "2023-01-27T11:44:07.893Z"
   },
   {
    "duration": 23,
    "start_time": "2023-01-27T11:44:07.913Z"
   },
   {
    "duration": 80,
    "start_time": "2023-01-27T11:44:07.938Z"
   },
   {
    "duration": 85,
    "start_time": "2023-01-27T11:44:08.020Z"
   },
   {
    "duration": 7,
    "start_time": "2023-01-27T11:44:08.107Z"
   },
   {
    "duration": 6,
    "start_time": "2023-01-27T11:44:08.116Z"
   },
   {
    "duration": 5,
    "start_time": "2023-01-27T11:44:08.124Z"
   },
   {
    "duration": 60,
    "start_time": "2023-01-27T11:44:08.131Z"
   },
   {
    "duration": 51,
    "start_time": "2023-01-27T11:44:08.193Z"
   },
   {
    "duration": 68,
    "start_time": "2023-01-27T11:44:08.246Z"
   },
   {
    "duration": 282,
    "start_time": "2023-01-27T11:44:08.316Z"
   },
   {
    "duration": 23,
    "start_time": "2023-01-27T11:44:08.599Z"
   },
   {
    "duration": 16,
    "start_time": "2023-01-27T11:44:08.626Z"
   },
   {
    "duration": 71,
    "start_time": "2023-01-27T11:44:08.644Z"
   },
   {
    "duration": 6,
    "start_time": "2023-01-27T11:44:08.716Z"
   },
   {
    "duration": 3,
    "start_time": "2023-01-27T11:44:08.724Z"
   },
   {
    "duration": 62,
    "start_time": "2023-01-27T11:44:08.729Z"
   },
   {
    "duration": 62,
    "start_time": "2023-01-27T11:44:08.793Z"
   },
   {
    "duration": 30,
    "start_time": "2023-01-27T11:44:08.857Z"
   },
   {
    "duration": 14,
    "start_time": "2023-01-27T11:44:08.896Z"
   },
   {
    "duration": 4,
    "start_time": "2023-01-27T11:44:08.912Z"
   },
   {
    "duration": 89,
    "start_time": "2023-01-27T11:44:08.917Z"
   },
   {
    "duration": 3,
    "start_time": "2023-01-27T11:44:09.007Z"
   },
   {
    "duration": 813,
    "start_time": "2023-01-27T11:44:09.012Z"
   },
   {
    "duration": 99,
    "start_time": "2023-01-27T11:44:09.826Z"
   },
   {
    "duration": 4,
    "start_time": "2023-01-27T11:44:09.927Z"
   },
   {
    "duration": 6,
    "start_time": "2023-01-27T11:44:09.933Z"
   },
   {
    "duration": 494551,
    "start_time": "2023-01-27T11:44:09.940Z"
   },
   {
    "duration": 102353,
    "start_time": "2023-01-27T11:52:24.493Z"
   },
   {
    "duration": 3,
    "start_time": "2023-01-27T11:54:06.848Z"
   },
   {
    "duration": 8,
    "start_time": "2023-01-27T11:54:06.853Z"
   },
   {
    "duration": 300129,
    "start_time": "2023-01-27T11:54:06.863Z"
   },
   {
    "duration": 399,
    "start_time": "2023-01-27T11:59:06.993Z"
   },
   {
    "duration": 3,
    "start_time": "2023-01-27T11:59:07.394Z"
   },
   {
    "duration": 449989,
    "start_time": "2023-01-27T11:59:07.399Z"
   },
   {
    "duration": 418,
    "start_time": "2023-01-27T12:06:37.389Z"
   },
   {
    "duration": 84,
    "start_time": "2023-01-27T12:06:37.808Z"
   },
   {
    "duration": 4,
    "start_time": "2023-01-27T12:06:37.894Z"
   },
   {
    "duration": 10,
    "start_time": "2023-01-27T12:06:37.900Z"
   },
   {
    "duration": 1165,
    "start_time": "2023-01-27T12:06:37.911Z"
   },
   {
    "duration": 16,
    "start_time": "2023-01-27T12:06:39.078Z"
   },
   {
    "duration": 13,
    "start_time": "2023-01-27T12:06:39.098Z"
   },
   {
    "duration": 1806,
    "start_time": "2023-01-27T12:06:39.113Z"
   },
   {
    "duration": 14,
    "start_time": "2023-01-27T12:06:40.920Z"
   },
   {
    "duration": 133,
    "start_time": "2023-01-27T12:06:40.936Z"
   },
   {
    "duration": 19442,
    "start_time": "2023-01-27T12:06:41.071Z"
   },
   {
    "duration": 1215,
    "start_time": "2023-01-27T12:07:00.515Z"
   },
   {
    "duration": 10,
    "start_time": "2023-01-27T12:07:01.732Z"
   },
   {
    "duration": 66,
    "start_time": "2023-01-27T12:07:01.746Z"
   },
   {
    "duration": 17,
    "start_time": "2023-01-27T12:08:50.754Z"
   },
   {
    "duration": 4,
    "start_time": "2023-01-27T12:10:53.161Z"
   },
   {
    "duration": 24,
    "start_time": "2023-01-27T12:10:54.462Z"
   },
   {
    "duration": 21,
    "start_time": "2023-01-27T12:11:38.281Z"
   },
   {
    "duration": 37255,
    "start_time": "2023-01-27T12:12:17.238Z"
   },
   {
    "duration": 14,
    "start_time": "2023-01-27T12:13:43.927Z"
   },
   {
    "duration": 11,
    "start_time": "2023-01-27T12:18:30.841Z"
   },
   {
    "duration": 10,
    "start_time": "2023-01-27T12:21:28.816Z"
   },
   {
    "duration": 32,
    "start_time": "2023-01-27T12:21:54.721Z"
   },
   {
    "duration": 21,
    "start_time": "2023-01-27T12:21:55.472Z"
   },
   {
    "duration": 15,
    "start_time": "2023-01-27T12:22:22.747Z"
   },
   {
    "duration": 9,
    "start_time": "2023-01-27T12:22:39.859Z"
   },
   {
    "duration": 12,
    "start_time": "2023-01-27T12:22:52.248Z"
   },
   {
    "duration": 4,
    "start_time": "2023-01-27T12:24:50.339Z"
   },
   {
    "duration": 25,
    "start_time": "2023-01-27T12:25:12.672Z"
   },
   {
    "duration": 13,
    "start_time": "2023-01-27T12:25:36.724Z"
   },
   {
    "duration": 1553,
    "start_time": "2023-01-27T12:31:33.091Z"
   },
   {
    "duration": 5,
    "start_time": "2023-01-27T12:31:40.457Z"
   },
   {
    "duration": 152,
    "start_time": "2023-01-27T12:31:41.289Z"
   },
   {
    "duration": 3,
    "start_time": "2023-01-27T12:32:23.846Z"
   },
   {
    "duration": 19,
    "start_time": "2023-01-27T12:33:34.233Z"
   },
   {
    "duration": 143779,
    "start_time": "2023-01-27T12:42:19.557Z"
   },
   {
    "duration": 50,
    "start_time": "2023-01-27T12:44:43.339Z"
   },
   {
    "duration": 76,
    "start_time": "2023-01-27T12:45:07.544Z"
   },
   {
    "duration": 1355,
    "start_time": "2023-01-27T12:45:24.033Z"
   },
   {
    "duration": 897,
    "start_time": "2023-01-27T12:45:25.390Z"
   },
   {
    "duration": 6,
    "start_time": "2023-01-27T12:45:26.288Z"
   },
   {
    "duration": 36,
    "start_time": "2023-01-27T12:45:26.297Z"
   },
   {
    "duration": 136,
    "start_time": "2023-01-27T12:45:26.335Z"
   },
   {
    "duration": 33,
    "start_time": "2023-01-27T12:45:26.473Z"
   },
   {
    "duration": 183,
    "start_time": "2023-01-27T12:45:26.508Z"
   },
   {
    "duration": 2,
    "start_time": "2023-01-27T12:45:26.694Z"
   },
   {
    "duration": 22,
    "start_time": "2023-01-27T12:45:26.698Z"
   },
   {
    "duration": 14,
    "start_time": "2023-01-27T12:45:26.723Z"
   },
   {
    "duration": 101,
    "start_time": "2023-01-27T12:45:26.739Z"
   },
   {
    "duration": 6,
    "start_time": "2023-01-27T12:45:26.841Z"
   },
   {
    "duration": 53,
    "start_time": "2023-01-27T12:45:26.848Z"
   },
   {
    "duration": 5,
    "start_time": "2023-01-27T12:45:26.903Z"
   },
   {
    "duration": 60,
    "start_time": "2023-01-27T12:45:26.910Z"
   },
   {
    "duration": 21,
    "start_time": "2023-01-27T12:45:26.972Z"
   },
   {
    "duration": 19,
    "start_time": "2023-01-27T12:45:26.995Z"
   },
   {
    "duration": 77,
    "start_time": "2023-01-27T12:45:27.015Z"
   },
   {
    "duration": 66,
    "start_time": "2023-01-27T12:45:27.093Z"
   },
   {
    "duration": 21,
    "start_time": "2023-01-27T12:45:27.161Z"
   },
   {
    "duration": 6,
    "start_time": "2023-01-27T12:45:27.183Z"
   },
   {
    "duration": 8,
    "start_time": "2023-01-27T12:45:27.191Z"
   },
   {
    "duration": 31,
    "start_time": "2023-01-27T12:45:27.201Z"
   },
   {
    "duration": 68,
    "start_time": "2023-01-27T12:45:27.233Z"
   },
   {
    "duration": 48,
    "start_time": "2023-01-27T12:45:27.303Z"
   },
   {
    "duration": 267,
    "start_time": "2023-01-27T12:45:27.353Z"
   },
   {
    "duration": 22,
    "start_time": "2023-01-27T12:45:27.621Z"
   },
   {
    "duration": 15,
    "start_time": "2023-01-27T12:45:27.647Z"
   },
   {
    "duration": 60,
    "start_time": "2023-01-27T12:45:27.681Z"
   },
   {
    "duration": 4,
    "start_time": "2023-01-27T12:45:27.743Z"
   },
   {
    "duration": 10,
    "start_time": "2023-01-27T12:45:27.749Z"
   },
   {
    "duration": 53,
    "start_time": "2023-01-27T12:45:27.761Z"
   },
   {
    "duration": 68,
    "start_time": "2023-01-27T12:45:27.816Z"
   },
   {
    "duration": 13,
    "start_time": "2023-01-27T12:45:27.886Z"
   },
   {
    "duration": 14,
    "start_time": "2023-01-27T12:45:27.900Z"
   },
   {
    "duration": 21,
    "start_time": "2023-01-27T12:45:27.916Z"
   },
   {
    "duration": 89,
    "start_time": "2023-01-27T12:45:27.939Z"
   },
   {
    "duration": 3,
    "start_time": "2023-01-27T12:45:28.030Z"
   },
   {
    "duration": 832,
    "start_time": "2023-01-27T12:45:28.035Z"
   },
   {
    "duration": 99,
    "start_time": "2023-01-27T12:45:28.869Z"
   },
   {
    "duration": 3,
    "start_time": "2023-01-27T12:45:28.970Z"
   },
   {
    "duration": 12,
    "start_time": "2023-01-27T12:45:28.975Z"
   },
   {
    "duration": 270923,
    "start_time": "2023-01-27T12:45:28.989Z"
   },
   {
    "duration": 48670,
    "start_time": "2023-01-27T12:49:59.914Z"
   },
   {
    "duration": 3,
    "start_time": "2023-01-27T12:50:48.586Z"
   },
   {
    "duration": 9,
    "start_time": "2023-01-27T12:50:48.591Z"
   },
   {
    "duration": 8,
    "start_time": "2023-01-27T12:50:48.602Z"
   },
   {
    "duration": 15,
    "start_time": "2023-01-27T12:50:54.386Z"
   },
   {
    "duration": 0,
    "start_time": "2023-01-27T12:50:54.402Z"
   },
   {
    "duration": 0,
    "start_time": "2023-01-27T12:50:54.404Z"
   },
   {
    "duration": 0,
    "start_time": "2023-01-27T12:50:54.405Z"
   },
   {
    "duration": 0,
    "start_time": "2023-01-27T12:50:54.406Z"
   },
   {
    "duration": 0,
    "start_time": "2023-01-27T12:50:54.407Z"
   },
   {
    "duration": 0,
    "start_time": "2023-01-27T12:50:54.409Z"
   },
   {
    "duration": 0,
    "start_time": "2023-01-27T12:50:54.410Z"
   },
   {
    "duration": 0,
    "start_time": "2023-01-27T12:50:54.411Z"
   },
   {
    "duration": 0,
    "start_time": "2023-01-27T12:50:54.412Z"
   },
   {
    "duration": 0,
    "start_time": "2023-01-27T12:50:54.413Z"
   },
   {
    "duration": 0,
    "start_time": "2023-01-27T12:50:54.414Z"
   },
   {
    "duration": 0,
    "start_time": "2023-01-27T12:50:54.415Z"
   },
   {
    "duration": 0,
    "start_time": "2023-01-27T12:50:54.482Z"
   },
   {
    "duration": 0,
    "start_time": "2023-01-27T12:50:54.483Z"
   },
   {
    "duration": 0,
    "start_time": "2023-01-27T12:50:54.484Z"
   },
   {
    "duration": 0,
    "start_time": "2023-01-27T12:50:54.485Z"
   },
   {
    "duration": 0,
    "start_time": "2023-01-27T12:50:54.486Z"
   },
   {
    "duration": 0,
    "start_time": "2023-01-27T12:50:54.486Z"
   },
   {
    "duration": 0,
    "start_time": "2023-01-27T12:50:54.487Z"
   },
   {
    "duration": 0,
    "start_time": "2023-01-27T12:50:54.488Z"
   },
   {
    "duration": 3,
    "start_time": "2023-01-27T12:52:05.170Z"
   },
   {
    "duration": 3,
    "start_time": "2023-01-27T12:52:07.080Z"
   },
   {
    "duration": 57,
    "start_time": "2023-01-27T12:52:39.094Z"
   },
   {
    "duration": 3,
    "start_time": "2023-01-27T12:54:38.119Z"
   },
   {
    "duration": 3,
    "start_time": "2023-01-27T12:54:40.197Z"
   },
   {
    "duration": 58,
    "start_time": "2023-01-27T12:54:40.986Z"
   },
   {
    "duration": 58,
    "start_time": "2023-01-27T13:04:55.885Z"
   },
   {
    "duration": 21,
    "start_time": "2023-01-27T13:05:13.817Z"
   },
   {
    "duration": 68,
    "start_time": "2023-01-27T13:05:14.931Z"
   },
   {
    "duration": 3,
    "start_time": "2023-01-27T13:05:58.500Z"
   },
   {
    "duration": 78,
    "start_time": "2023-01-27T13:05:59.429Z"
   },
   {
    "duration": 513904,
    "start_time": "2023-01-27T13:06:24.089Z"
   },
   {
    "duration": 0,
    "start_time": "2023-01-27T13:14:58.033Z"
   },
   {
    "duration": 0,
    "start_time": "2023-01-27T13:14:58.034Z"
   },
   {
    "duration": 3,
    "start_time": "2023-01-27T13:17:25.459Z"
   },
   {
    "duration": 39,
    "start_time": "2023-01-27T13:17:31.776Z"
   },
   {
    "duration": 52324,
    "start_time": "2023-01-27T13:18:18.492Z"
   },
   {
    "duration": 39660,
    "start_time": "2023-01-27T13:20:20.525Z"
   },
   {
    "duration": 94,
    "start_time": "2023-01-27T13:22:55.017Z"
   },
   {
    "duration": 122,
    "start_time": "2023-01-27T13:22:58.705Z"
   },
   {
    "duration": 33694,
    "start_time": "2023-01-27T13:22:59.384Z"
   },
   {
    "duration": 959,
    "start_time": "2023-01-27T13:28:45.932Z"
   },
   {
    "duration": 84,
    "start_time": "2023-01-27T13:29:28.118Z"
   },
   {
    "duration": 6468,
    "start_time": "2023-01-27T13:30:08.634Z"
   },
   {
    "duration": 20672,
    "start_time": "2023-01-27T13:31:02.939Z"
   },
   {
    "duration": 6535,
    "start_time": "2023-01-27T13:40:16.823Z"
   },
   {
    "duration": 93,
    "start_time": "2023-01-27T13:41:04.874Z"
   },
   {
    "duration": 2393,
    "start_time": "2023-01-27T13:41:18.623Z"
   },
   {
    "duration": 1790,
    "start_time": "2023-01-30T07:09:33.859Z"
   },
   {
    "duration": 3386,
    "start_time": "2023-01-30T07:09:35.651Z"
   },
   {
    "duration": 9,
    "start_time": "2023-01-30T07:09:39.040Z"
   },
   {
    "duration": 17,
    "start_time": "2023-01-30T07:09:39.054Z"
   },
   {
    "duration": 112,
    "start_time": "2023-01-30T07:09:39.073Z"
   },
   {
    "duration": 36,
    "start_time": "2023-01-30T07:09:39.187Z"
   },
   {
    "duration": 171,
    "start_time": "2023-01-30T07:09:39.233Z"
   },
   {
    "duration": 16,
    "start_time": "2023-01-30T07:09:39.405Z"
   },
   {
    "duration": 10,
    "start_time": "2023-01-30T07:09:39.427Z"
   },
   {
    "duration": 9,
    "start_time": "2023-01-30T07:09:39.439Z"
   },
   {
    "duration": 95,
    "start_time": "2023-01-30T07:09:39.449Z"
   },
   {
    "duration": 5,
    "start_time": "2023-01-30T07:09:39.546Z"
   },
   {
    "duration": 34,
    "start_time": "2023-01-30T07:09:39.553Z"
   },
   {
    "duration": 5,
    "start_time": "2023-01-30T07:09:39.589Z"
   },
   {
    "duration": 101,
    "start_time": "2023-01-30T07:09:39.596Z"
   },
   {
    "duration": 36,
    "start_time": "2023-01-30T07:09:39.698Z"
   },
   {
    "duration": 31,
    "start_time": "2023-01-30T07:09:39.736Z"
   },
   {
    "duration": 94,
    "start_time": "2023-01-30T07:09:39.769Z"
   },
   {
    "duration": 80,
    "start_time": "2023-01-30T07:09:39.865Z"
   },
   {
    "duration": 8,
    "start_time": "2023-01-30T07:09:39.946Z"
   },
   {
    "duration": 9,
    "start_time": "2023-01-30T07:09:39.955Z"
   },
   {
    "duration": 6,
    "start_time": "2023-01-30T07:09:39.965Z"
   },
   {
    "duration": 20,
    "start_time": "2023-01-30T07:09:39.973Z"
   },
   {
    "duration": 65,
    "start_time": "2023-01-30T07:09:39.995Z"
   },
   {
    "duration": 69,
    "start_time": "2023-01-30T07:09:40.062Z"
   },
   {
    "duration": 265,
    "start_time": "2023-01-30T07:09:40.136Z"
   },
   {
    "duration": 27,
    "start_time": "2023-01-30T07:09:40.402Z"
   },
   {
    "duration": 15,
    "start_time": "2023-01-30T07:09:40.435Z"
   },
   {
    "duration": 89,
    "start_time": "2023-01-30T07:09:40.451Z"
   },
   {
    "duration": 4,
    "start_time": "2023-01-30T07:09:40.542Z"
   },
   {
    "duration": 5,
    "start_time": "2023-01-30T07:09:40.548Z"
   },
   {
    "duration": 25,
    "start_time": "2023-01-30T07:09:40.555Z"
   },
   {
    "duration": 94,
    "start_time": "2023-01-30T07:09:40.582Z"
   },
   {
    "duration": 11,
    "start_time": "2023-01-30T07:09:40.678Z"
   },
   {
    "duration": 42,
    "start_time": "2023-01-30T07:09:40.690Z"
   },
   {
    "duration": 4,
    "start_time": "2023-01-30T07:09:40.734Z"
   },
   {
    "duration": 92,
    "start_time": "2023-01-30T07:09:40.740Z"
   },
   {
    "duration": 3,
    "start_time": "2023-01-30T07:09:40.834Z"
   },
   {
    "duration": 903,
    "start_time": "2023-01-30T07:09:40.838Z"
   },
   {
    "duration": 109,
    "start_time": "2023-01-30T07:09:41.742Z"
   },
   {
    "duration": 3,
    "start_time": "2023-01-30T07:09:41.853Z"
   },
   {
    "duration": 7,
    "start_time": "2023-01-30T07:09:41.858Z"
   },
   {
    "duration": 458915,
    "start_time": "2023-01-30T07:09:41.867Z"
   },
   {
    "duration": 21,
    "start_time": "2023-01-30T07:18:40.525Z"
   },
   {
    "duration": 561308,
    "start_time": "2023-01-30T07:18:40.548Z"
   },
   {
    "duration": 4,
    "start_time": "2023-01-30T07:28:01.857Z"
   },
   {
    "duration": 61881,
    "start_time": "2023-01-30T07:28:01.863Z"
   },
   {
    "duration": 1651989,
    "start_time": "2023-01-30T07:29:03.746Z"
   },
   {
    "duration": 1109,
    "start_time": "2023-01-30T07:57:14.567Z"
   },
   {
    "duration": 6994,
    "start_time": "2023-01-30T07:57:15.678Z"
   },
   {
    "duration": 19973,
    "start_time": "2023-01-30T07:57:22.674Z"
   },
   {
    "duration": 2653,
    "start_time": "2023-01-30T07:57:42.649Z"
   },
   {
    "duration": 101340,
    "start_time": "2023-01-30T07:57:45.306Z"
   },
   {
    "duration": 3,
    "start_time": "2023-01-30T08:00:07.585Z"
   },
   {
    "duration": 40816,
    "start_time": "2023-01-30T08:00:07.589Z"
   },
   {
    "duration": 245008,
    "start_time": "2023-01-30T08:00:48.407Z"
   },
   {
    "duration": 148,
    "start_time": "2023-01-30T08:04:53.417Z"
   },
   {
    "duration": 0,
    "start_time": "2023-01-30T08:04:53.567Z"
   },
   {
    "duration": 0,
    "start_time": "2023-01-30T08:04:53.569Z"
   },
   {
    "duration": 0,
    "start_time": "2023-01-30T08:04:53.570Z"
   },
   {
    "duration": 0,
    "start_time": "2023-01-30T08:04:53.571Z"
   },
   {
    "duration": 0,
    "start_time": "2023-01-30T08:04:53.573Z"
   },
   {
    "duration": 170015,
    "start_time": "2023-01-30T08:05:36.240Z"
   },
   {
    "duration": 153213,
    "start_time": "2023-01-30T08:20:54.355Z"
   },
   {
    "duration": 56,
    "start_time": "2023-01-30T08:23:27.569Z"
   },
   {
    "duration": 1,
    "start_time": "2023-01-30T08:23:27.626Z"
   },
   {
    "duration": 10,
    "start_time": "2023-01-30T08:23:31.407Z"
   },
   {
    "duration": 10,
    "start_time": "2023-01-30T08:24:16.557Z"
   },
   {
    "duration": 109,
    "start_time": "2023-01-30T08:25:02.514Z"
   },
   {
    "duration": 67,
    "start_time": "2023-01-30T08:25:24.589Z"
   },
   {
    "duration": 13,
    "start_time": "2023-01-30T08:26:08.892Z"
   },
   {
    "duration": 9,
    "start_time": "2023-01-30T08:33:09.398Z"
   },
   {
    "duration": 201561,
    "start_time": "2023-01-30T08:33:24.385Z"
   },
   {
    "duration": 9,
    "start_time": "2023-01-30T08:36:45.949Z"
   },
   {
    "duration": 11,
    "start_time": "2023-01-30T08:37:38.019Z"
   },
   {
    "duration": 13,
    "start_time": "2023-01-30T08:44:24.438Z"
   },
   {
    "duration": 11,
    "start_time": "2023-01-30T08:45:01.904Z"
   },
   {
    "duration": 49800,
    "start_time": "2023-01-30T08:45:55.130Z"
   },
   {
    "duration": 4,
    "start_time": "2023-01-30T08:46:44.932Z"
   },
   {
    "duration": 10,
    "start_time": "2023-01-30T08:47:22.096Z"
   },
   {
    "duration": 10,
    "start_time": "2023-01-30T08:48:23.349Z"
   },
   {
    "duration": 43849,
    "start_time": "2023-01-30T08:50:20.885Z"
   },
   {
    "duration": 750,
    "start_time": "2023-01-30T08:52:05.792Z"
   },
   {
    "duration": 4,
    "start_time": "2023-01-30T08:52:20.123Z"
   },
   {
    "duration": 12,
    "start_time": "2023-01-30T08:52:21.153Z"
   },
   {
    "duration": 14151,
    "start_time": "2023-01-30T08:54:15.283Z"
   },
   {
    "duration": 5,
    "start_time": "2023-01-30T08:54:38.015Z"
   },
   {
    "duration": 11,
    "start_time": "2023-01-30T08:54:40.391Z"
   },
   {
    "duration": 13,
    "start_time": "2023-01-30T08:55:58.351Z"
   },
   {
    "duration": 24478,
    "start_time": "2023-01-30T08:56:19.559Z"
   },
   {
    "duration": 4,
    "start_time": "2023-01-30T08:58:28.597Z"
   },
   {
    "duration": 12,
    "start_time": "2023-01-30T08:58:31.888Z"
   },
   {
    "duration": 11,
    "start_time": "2023-01-30T08:59:19.361Z"
   },
   {
    "duration": 12402,
    "start_time": "2023-01-30T08:59:37.819Z"
   },
   {
    "duration": 5,
    "start_time": "2023-01-30T08:59:50.223Z"
   },
   {
    "duration": 45,
    "start_time": "2023-01-30T09:01:43.674Z"
   },
   {
    "duration": 10,
    "start_time": "2023-01-30T09:02:08.800Z"
   },
   {
    "duration": 12,
    "start_time": "2023-01-30T09:02:25.784Z"
   },
   {
    "duration": 42,
    "start_time": "2023-01-30T09:05:00.147Z"
   },
   {
    "duration": 5,
    "start_time": "2023-01-30T09:05:41.814Z"
   },
   {
    "duration": 93,
    "start_time": "2023-01-30T09:06:33.463Z"
   },
   {
    "duration": 6,
    "start_time": "2023-01-30T09:07:56.695Z"
   },
   {
    "duration": 369,
    "start_time": "2023-01-30T09:07:57.752Z"
   },
   {
    "duration": 153654,
    "start_time": "2023-01-30T09:08:36.467Z"
   },
   {
    "duration": 76,
    "start_time": "2023-01-30T09:21:30.884Z"
   },
   {
    "duration": 13428,
    "start_time": "2023-01-30T09:22:40.212Z"
   },
   {
    "duration": 2377,
    "start_time": "2023-01-30T09:25:39.053Z"
   },
   {
    "duration": 2,
    "start_time": "2023-01-30T09:36:48.103Z"
   },
   {
    "duration": 37503,
    "start_time": "2023-01-30T09:40:57.173Z"
   },
   {
    "duration": 58,
    "start_time": "2023-01-30T09:41:35.567Z"
   },
   {
    "duration": 30,
    "start_time": "2023-01-30T09:42:07.615Z"
   },
   {
    "duration": 26,
    "start_time": "2023-01-30T09:42:19.612Z"
   },
   {
    "duration": 29,
    "start_time": "2023-01-30T09:42:24.772Z"
   },
   {
    "duration": 26,
    "start_time": "2023-01-30T09:42:40.077Z"
   },
   {
    "duration": 6864,
    "start_time": "2023-01-30T09:42:57.295Z"
   },
   {
    "duration": 11,
    "start_time": "2023-01-30T09:58:08.188Z"
   },
   {
    "duration": 5,
    "start_time": "2023-01-30T10:03:43.059Z"
   },
   {
    "duration": 58,
    "start_time": "2023-01-30T10:04:14.677Z"
   },
   {
    "duration": 5094,
    "start_time": "2023-01-30T10:04:31.409Z"
   },
   {
    "duration": 5,
    "start_time": "2023-01-30T10:05:37.290Z"
   },
   {
    "duration": 4899,
    "start_time": "2023-01-30T10:05:38.445Z"
   },
   {
    "duration": 7,
    "start_time": "2023-01-30T10:07:58.448Z"
   },
   {
    "duration": 5050,
    "start_time": "2023-01-30T10:08:01.641Z"
   },
   {
    "duration": 6,
    "start_time": "2023-01-30T10:09:34.311Z"
   },
   {
    "duration": 5047,
    "start_time": "2023-01-30T10:09:35.380Z"
   },
   {
    "duration": 5,
    "start_time": "2023-01-30T10:11:40.953Z"
   },
   {
    "duration": 132270,
    "start_time": "2023-01-30T10:11:42.263Z"
   },
   {
    "duration": 88,
    "start_time": "2023-01-30T10:13:54.536Z"
   },
   {
    "duration": 5599,
    "start_time": "2023-01-30T10:15:04.402Z"
   },
   {
    "duration": 8,
    "start_time": "2023-01-30T10:16:22.354Z"
   },
   {
    "duration": 334,
    "start_time": "2023-01-30T10:16:23.349Z"
   },
   {
    "duration": 1953,
    "start_time": "2023-01-30T10:20:03.605Z"
   },
   {
    "duration": 0,
    "start_time": "2023-01-30T10:20:05.561Z"
   },
   {
    "duration": 0,
    "start_time": "2023-01-30T10:20:05.563Z"
   },
   {
    "duration": 0,
    "start_time": "2023-01-30T10:20:05.565Z"
   },
   {
    "duration": 0,
    "start_time": "2023-01-30T10:20:05.566Z"
   },
   {
    "duration": 0,
    "start_time": "2023-01-30T10:20:05.567Z"
   },
   {
    "duration": 0,
    "start_time": "2023-01-30T10:20:05.568Z"
   },
   {
    "duration": 0,
    "start_time": "2023-01-30T10:20:05.570Z"
   },
   {
    "duration": 1,
    "start_time": "2023-01-30T10:20:05.570Z"
   },
   {
    "duration": 0,
    "start_time": "2023-01-30T10:20:05.571Z"
   },
   {
    "duration": 0,
    "start_time": "2023-01-30T10:20:05.573Z"
   },
   {
    "duration": 0,
    "start_time": "2023-01-30T10:20:05.574Z"
   },
   {
    "duration": 0,
    "start_time": "2023-01-30T10:20:05.575Z"
   },
   {
    "duration": 0,
    "start_time": "2023-01-30T10:20:05.621Z"
   },
   {
    "duration": 0,
    "start_time": "2023-01-30T10:20:05.622Z"
   },
   {
    "duration": 0,
    "start_time": "2023-01-30T10:20:05.623Z"
   },
   {
    "duration": 0,
    "start_time": "2023-01-30T10:20:05.625Z"
   },
   {
    "duration": 0,
    "start_time": "2023-01-30T10:20:05.626Z"
   },
   {
    "duration": 0,
    "start_time": "2023-01-30T10:20:05.628Z"
   },
   {
    "duration": 0,
    "start_time": "2023-01-30T10:20:05.629Z"
   },
   {
    "duration": 0,
    "start_time": "2023-01-30T10:20:05.631Z"
   },
   {
    "duration": 0,
    "start_time": "2023-01-30T10:20:05.632Z"
   },
   {
    "duration": 0,
    "start_time": "2023-01-30T10:20:05.634Z"
   },
   {
    "duration": 0,
    "start_time": "2023-01-30T10:20:05.635Z"
   },
   {
    "duration": 0,
    "start_time": "2023-01-30T10:20:05.637Z"
   },
   {
    "duration": 0,
    "start_time": "2023-01-30T10:20:05.638Z"
   },
   {
    "duration": 0,
    "start_time": "2023-01-30T10:20:05.639Z"
   },
   {
    "duration": 0,
    "start_time": "2023-01-30T10:20:05.641Z"
   },
   {
    "duration": 0,
    "start_time": "2023-01-30T10:20:05.642Z"
   },
   {
    "duration": 0,
    "start_time": "2023-01-30T10:20:05.644Z"
   },
   {
    "duration": 0,
    "start_time": "2023-01-30T10:20:05.645Z"
   },
   {
    "duration": 0,
    "start_time": "2023-01-30T10:20:05.647Z"
   },
   {
    "duration": 0,
    "start_time": "2023-01-30T10:20:05.648Z"
   },
   {
    "duration": 0,
    "start_time": "2023-01-30T10:20:05.649Z"
   },
   {
    "duration": 0,
    "start_time": "2023-01-30T10:20:05.651Z"
   },
   {
    "duration": 0,
    "start_time": "2023-01-30T10:20:05.652Z"
   },
   {
    "duration": 0,
    "start_time": "2023-01-30T10:20:05.653Z"
   },
   {
    "duration": 0,
    "start_time": "2023-01-30T10:20:05.655Z"
   },
   {
    "duration": 0,
    "start_time": "2023-01-30T10:20:05.656Z"
   },
   {
    "duration": 0,
    "start_time": "2023-01-30T10:20:05.721Z"
   },
   {
    "duration": 0,
    "start_time": "2023-01-30T10:20:05.723Z"
   },
   {
    "duration": 0,
    "start_time": "2023-01-30T10:20:05.724Z"
   },
   {
    "duration": 0,
    "start_time": "2023-01-30T10:20:05.726Z"
   },
   {
    "duration": 0,
    "start_time": "2023-01-30T10:20:05.727Z"
   },
   {
    "duration": 0,
    "start_time": "2023-01-30T10:20:05.728Z"
   },
   {
    "duration": 0,
    "start_time": "2023-01-30T10:20:05.729Z"
   },
   {
    "duration": 0,
    "start_time": "2023-01-30T10:20:05.731Z"
   },
   {
    "duration": 0,
    "start_time": "2023-01-30T10:20:05.732Z"
   },
   {
    "duration": 0,
    "start_time": "2023-01-30T10:20:05.734Z"
   },
   {
    "duration": 0,
    "start_time": "2023-01-30T10:20:05.735Z"
   },
   {
    "duration": 0,
    "start_time": "2023-01-30T10:20:05.737Z"
   },
   {
    "duration": 0,
    "start_time": "2023-01-30T10:20:05.739Z"
   },
   {
    "duration": 0,
    "start_time": "2023-01-30T10:20:05.740Z"
   },
   {
    "duration": 0,
    "start_time": "2023-01-30T10:20:05.741Z"
   },
   {
    "duration": 0,
    "start_time": "2023-01-30T10:20:05.743Z"
   },
   {
    "duration": 0,
    "start_time": "2023-01-30T10:20:05.744Z"
   },
   {
    "duration": 0,
    "start_time": "2023-01-30T10:20:05.746Z"
   },
   {
    "duration": 1575,
    "start_time": "2023-01-30T10:20:52.127Z"
   },
   {
    "duration": 1130,
    "start_time": "2023-01-30T10:20:53.704Z"
   },
   {
    "duration": 5,
    "start_time": "2023-01-30T10:20:54.836Z"
   },
   {
    "duration": 22,
    "start_time": "2023-01-30T10:20:54.843Z"
   },
   {
    "duration": 162,
    "start_time": "2023-01-30T10:20:54.866Z"
   },
   {
    "duration": 26,
    "start_time": "2023-01-30T10:20:55.029Z"
   },
   {
    "duration": 193,
    "start_time": "2023-01-30T10:20:55.057Z"
   },
   {
    "duration": 3,
    "start_time": "2023-01-30T10:20:55.252Z"
   },
   {
    "duration": 7,
    "start_time": "2023-01-30T10:20:55.257Z"
   },
   {
    "duration": 11,
    "start_time": "2023-01-30T10:20:55.268Z"
   },
   {
    "duration": 123,
    "start_time": "2023-01-30T10:20:55.281Z"
   },
   {
    "duration": 5,
    "start_time": "2023-01-30T10:20:55.406Z"
   },
   {
    "duration": 42,
    "start_time": "2023-01-30T10:20:55.421Z"
   },
   {
    "duration": 6,
    "start_time": "2023-01-30T10:20:55.465Z"
   },
   {
    "duration": 95,
    "start_time": "2023-01-30T10:20:55.473Z"
   },
   {
    "duration": 23,
    "start_time": "2023-01-30T10:20:55.570Z"
   },
   {
    "duration": 34,
    "start_time": "2023-01-30T10:20:55.594Z"
   },
   {
    "duration": 97,
    "start_time": "2023-01-30T10:20:55.629Z"
   },
   {
    "duration": 69,
    "start_time": "2023-01-30T10:20:55.728Z"
   },
   {
    "duration": 23,
    "start_time": "2023-01-30T10:20:55.798Z"
   },
   {
    "duration": 7,
    "start_time": "2023-01-30T10:20:55.823Z"
   },
   {
    "duration": 5,
    "start_time": "2023-01-30T10:20:55.832Z"
   },
   {
    "duration": 25,
    "start_time": "2023-01-30T10:20:55.839Z"
   },
   {
    "duration": 75,
    "start_time": "2023-01-30T10:20:55.866Z"
   },
   {
    "duration": 52,
    "start_time": "2023-01-30T10:20:55.943Z"
   },
   {
    "duration": 287,
    "start_time": "2023-01-30T10:20:55.996Z"
   },
   {
    "duration": 24,
    "start_time": "2023-01-30T10:20:56.285Z"
   },
   {
    "duration": 15,
    "start_time": "2023-01-30T10:20:56.322Z"
   },
   {
    "duration": 91,
    "start_time": "2023-01-30T10:20:56.339Z"
   },
   {
    "duration": 4,
    "start_time": "2023-01-30T10:20:56.431Z"
   },
   {
    "duration": 5,
    "start_time": "2023-01-30T10:20:56.437Z"
   },
   {
    "duration": 45,
    "start_time": "2023-01-30T10:20:56.444Z"
   },
   {
    "duration": 88,
    "start_time": "2023-01-30T10:20:56.491Z"
   },
   {
    "duration": 12,
    "start_time": "2023-01-30T10:20:56.581Z"
   },
   {
    "duration": 28,
    "start_time": "2023-01-30T10:20:56.595Z"
   },
   {
    "duration": 5,
    "start_time": "2023-01-30T10:20:56.624Z"
   },
   {
    "duration": 81,
    "start_time": "2023-01-30T10:20:56.630Z"
   },
   {
    "duration": 3,
    "start_time": "2023-01-30T10:20:56.720Z"
   },
   {
    "duration": 864,
    "start_time": "2023-01-30T10:20:56.724Z"
   },
   {
    "duration": 111,
    "start_time": "2023-01-30T10:20:57.590Z"
   },
   {
    "duration": 3,
    "start_time": "2023-01-30T10:20:57.703Z"
   },
   {
    "duration": 15,
    "start_time": "2023-01-30T10:20:57.708Z"
   },
   {
    "duration": 145627,
    "start_time": "2023-01-30T10:20:57.725Z"
   },
   {
    "duration": 21,
    "start_time": "2023-01-30T10:23:23.354Z"
   },
   {
    "duration": 6,
    "start_time": "2023-01-30T10:23:23.377Z"
   },
   {
    "duration": 4521,
    "start_time": "2023-01-30T10:23:23.385Z"
   },
   {
    "duration": 7,
    "start_time": "2023-01-30T10:23:27.908Z"
   },
   {
    "duration": 127412,
    "start_time": "2023-01-30T10:23:27.917Z"
   },
   {
    "duration": 13101,
    "start_time": "2023-01-30T10:25:35.331Z"
   },
   {
    "duration": 186,
    "start_time": "2023-01-30T10:25:48.434Z"
   },
   {
    "duration": 37662,
    "start_time": "2023-01-30T10:25:48.621Z"
   },
   {
    "duration": 17,
    "start_time": "2023-01-30T10:26:26.285Z"
   },
   {
    "duration": 0,
    "start_time": "2023-01-30T10:26:26.305Z"
   },
   {
    "duration": 0,
    "start_time": "2023-01-30T10:26:26.306Z"
   },
   {
    "duration": 0,
    "start_time": "2023-01-30T10:26:26.321Z"
   },
   {
    "duration": 0,
    "start_time": "2023-01-30T10:26:26.323Z"
   },
   {
    "duration": 0,
    "start_time": "2023-01-30T10:26:26.325Z"
   },
   {
    "duration": 0,
    "start_time": "2023-01-30T10:26:26.330Z"
   },
   {
    "duration": 5,
    "start_time": "2023-01-30T10:27:26.116Z"
   },
   {
    "duration": 51444,
    "start_time": "2023-01-30T10:27:27.154Z"
   },
   {
    "duration": 5902,
    "start_time": "2023-01-30T10:28:58.009Z"
   },
   {
    "duration": 5,
    "start_time": "2023-01-30T10:29:12.602Z"
   },
   {
    "duration": 251150,
    "start_time": "2023-01-30T10:29:14.072Z"
   },
   {
    "duration": 12505,
    "start_time": "2023-01-30T10:33:25.224Z"
   },
   {
    "duration": 46411,
    "start_time": "2023-01-30T10:34:58.829Z"
   },
   {
    "duration": 84,
    "start_time": "2023-01-30T10:35:54.526Z"
   },
   {
    "duration": 6809,
    "start_time": "2023-01-30T10:35:54.613Z"
   },
   {
    "duration": 2318,
    "start_time": "2023-01-30T10:36:01.424Z"
   },
   {
    "duration": 94,
    "start_time": "2023-01-30T10:37:22.760Z"
   },
   {
    "duration": 6721,
    "start_time": "2023-01-30T10:37:31.832Z"
   },
   {
    "duration": 2287,
    "start_time": "2023-01-30T10:37:38.555Z"
   },
   {
    "duration": 6854,
    "start_time": "2023-01-30T10:38:38.718Z"
   },
   {
    "duration": 7098,
    "start_time": "2023-01-30T10:39:27.545Z"
   },
   {
    "duration": 99,
    "start_time": "2023-01-30T10:41:13.156Z"
   },
   {
    "duration": 93,
    "start_time": "2023-01-30T10:43:02.538Z"
   },
   {
    "duration": 2449,
    "start_time": "2023-01-30T10:44:20.120Z"
   },
   {
    "duration": 1065,
    "start_time": "2023-01-31T07:47:36.468Z"
   },
   {
    "duration": 159,
    "start_time": "2023-01-31T07:47:40.501Z"
   },
   {
    "duration": 1839,
    "start_time": "2023-01-31T07:48:02.840Z"
   },
   {
    "duration": 3189,
    "start_time": "2023-01-31T07:48:04.682Z"
   },
   {
    "duration": 6,
    "start_time": "2023-01-31T07:48:07.873Z"
   },
   {
    "duration": 30,
    "start_time": "2023-01-31T07:48:07.880Z"
   },
   {
    "duration": 143,
    "start_time": "2023-01-31T07:48:07.912Z"
   },
   {
    "duration": 23,
    "start_time": "2023-01-31T07:48:08.056Z"
   },
   {
    "duration": 176,
    "start_time": "2023-01-31T07:48:08.081Z"
   },
   {
    "duration": 3,
    "start_time": "2023-01-31T07:48:08.258Z"
   },
   {
    "duration": 8,
    "start_time": "2023-01-31T07:48:08.263Z"
   },
   {
    "duration": 12,
    "start_time": "2023-01-31T07:48:08.273Z"
   },
   {
    "duration": 152,
    "start_time": "2023-01-31T07:48:08.287Z"
   },
   {
    "duration": 6,
    "start_time": "2023-01-31T07:48:08.441Z"
   },
   {
    "duration": 55,
    "start_time": "2023-01-31T07:48:08.449Z"
   },
   {
    "duration": 6,
    "start_time": "2023-01-31T07:48:08.508Z"
   },
   {
    "duration": 92,
    "start_time": "2023-01-31T07:48:08.516Z"
   },
   {
    "duration": 30,
    "start_time": "2023-01-31T07:48:08.610Z"
   },
   {
    "duration": 28,
    "start_time": "2023-01-31T07:48:08.642Z"
   },
   {
    "duration": 102,
    "start_time": "2023-01-31T07:48:08.672Z"
   },
   {
    "duration": 83,
    "start_time": "2023-01-31T07:48:08.775Z"
   },
   {
    "duration": 7,
    "start_time": "2023-01-31T07:48:08.859Z"
   },
   {
    "duration": 16,
    "start_time": "2023-01-31T07:48:08.868Z"
   },
   {
    "duration": 9,
    "start_time": "2023-01-31T07:48:08.886Z"
   },
   {
    "duration": 43,
    "start_time": "2023-01-31T07:48:08.897Z"
   },
   {
    "duration": 45,
    "start_time": "2023-01-31T07:48:08.942Z"
   },
   {
    "duration": 68,
    "start_time": "2023-01-31T07:48:08.989Z"
   },
   {
    "duration": 293,
    "start_time": "2023-01-31T07:48:09.059Z"
   },
   {
    "duration": 21,
    "start_time": "2023-01-31T07:48:09.354Z"
   },
   {
    "duration": 15,
    "start_time": "2023-01-31T07:48:09.377Z"
   },
   {
    "duration": 101,
    "start_time": "2023-01-31T07:48:09.394Z"
   },
   {
    "duration": 4,
    "start_time": "2023-01-31T07:48:09.497Z"
   },
   {
    "duration": 33,
    "start_time": "2023-01-31T07:48:09.503Z"
   },
   {
    "duration": 49,
    "start_time": "2023-01-31T07:48:09.538Z"
   },
   {
    "duration": 82,
    "start_time": "2023-01-31T07:48:09.589Z"
   },
   {
    "duration": 12,
    "start_time": "2023-01-31T07:48:09.673Z"
   },
   {
    "duration": 13,
    "start_time": "2023-01-31T07:48:09.687Z"
   },
   {
    "duration": 33,
    "start_time": "2023-01-31T07:48:09.701Z"
   },
   {
    "duration": 82,
    "start_time": "2023-01-31T07:48:09.736Z"
   },
   {
    "duration": 12,
    "start_time": "2023-01-31T07:48:09.820Z"
   },
   {
    "duration": 949,
    "start_time": "2023-01-31T07:48:09.834Z"
   },
   {
    "duration": 116,
    "start_time": "2023-01-31T07:48:10.784Z"
   },
   {
    "duration": 4,
    "start_time": "2023-01-31T07:48:10.905Z"
   },
   {
    "duration": 14,
    "start_time": "2023-01-31T07:48:10.911Z"
   },
   {
    "duration": 444933,
    "start_time": "2023-01-31T07:48:10.930Z"
   },
   {
    "duration": 107961,
    "start_time": "2023-01-31T07:55:35.865Z"
   },
   {
    "duration": 23,
    "start_time": "2023-01-31T07:57:23.831Z"
   },
   {
    "duration": 5,
    "start_time": "2023-01-31T07:57:23.856Z"
   },
   {
    "duration": 56794,
    "start_time": "2023-01-31T07:57:23.862Z"
   },
   {
    "duration": 6741,
    "start_time": "2023-01-31T07:58:20.658Z"
   },
   {
    "duration": 5,
    "start_time": "2023-01-31T07:58:27.401Z"
   },
   {
    "duration": 2294638,
    "start_time": "2023-01-31T07:58:27.408Z"
   },
   {
    "duration": 121321,
    "start_time": "2023-01-31T08:36:42.123Z"
   },
   {
    "duration": 166,
    "start_time": "2023-01-31T08:38:43.445Z"
   },
   {
    "duration": 161493,
    "start_time": "2023-01-31T08:38:43.613Z"
   },
   {
    "duration": 123,
    "start_time": "2023-01-31T08:41:25.108Z"
   },
   {
    "duration": 205,
    "start_time": "2023-01-31T08:41:25.235Z"
   },
   {
    "duration": 2492,
    "start_time": "2023-01-31T08:41:25.442Z"
   },
   {
    "duration": 63,
    "start_time": "2023-01-31T08:41:27.939Z"
   },
   {
    "duration": 106,
    "start_time": "2023-01-31T08:44:32.137Z"
   },
   {
    "duration": 58,
    "start_time": "2023-01-31T08:44:56.212Z"
   },
   {
    "duration": 40,
    "start_time": "2023-01-31T08:47:45.791Z"
   }
  ],
  "kernelspec": {
   "display_name": "Python 3 (ipykernel)",
   "language": "python",
   "name": "python3"
  },
  "language_info": {
   "codemirror_mode": {
    "name": "ipython",
    "version": 3
   },
   "file_extension": ".py",
   "mimetype": "text/x-python",
   "name": "python",
   "nbconvert_exporter": "python",
   "pygments_lexer": "ipython3",
   "version": "3.9.5"
  },
  "toc": {
   "base_numbering": 1,
   "nav_menu": {},
   "number_sections": true,
   "sideBar": true,
   "skip_h1_title": true,
   "title_cell": "Table of Contents",
   "title_sidebar": "Contents",
   "toc_cell": false,
   "toc_position": {},
   "toc_section_display": true,
   "toc_window_display": false
  }
 },
 "nbformat": 4,
 "nbformat_minor": 2
}
