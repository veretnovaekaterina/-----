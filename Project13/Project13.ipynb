{
 "cells": [
  {
   "cell_type": "markdown",
   "metadata": {
    "toc": true
   },
   "source": [
    "<h1>Содержание<span class=\"tocSkip\"></span></h1>\n",
    "<div class=\"toc\"><ul class=\"toc-item\"><li><span><a href=\"#Подготовка\" data-toc-modified-id=\"Подготовка-1\"><span class=\"toc-item-num\">1&nbsp;&nbsp;</span>Подготовка</a></span></li><li><span><a href=\"#Обучение\" data-toc-modified-id=\"Обучение-2\"><span class=\"toc-item-num\">2&nbsp;&nbsp;</span>Обучение</a></span></li><li><span><a href=\"#Выводы\" data-toc-modified-id=\"Выводы-3\"><span class=\"toc-item-num\">3&nbsp;&nbsp;</span>Выводы</a></span></li><li><span><a href=\"#Чек-лист-проверки\" data-toc-modified-id=\"Чек-лист-проверки-4\"><span class=\"toc-item-num\">4&nbsp;&nbsp;</span>Чек-лист проверки</a></span></li></ul></div>"
   ]
  },
  {
   "cell_type": "markdown",
   "metadata": {},
   "source": [
    "# Проект для «Викишоп»"
   ]
  },
  {
   "cell_type": "markdown",
   "metadata": {},
   "source": [
    "## Подготовка"
   ]
  },
  {
   "cell_type": "code",
   "execution_count": 1,
   "metadata": {},
   "outputs": [
    {
     "name": "stderr",
     "output_type": "stream",
     "text": [
      "[nltk_data] Downloading package averaged_perceptron_tagger to\n",
      "[nltk_data]     /home/jovyan/nltk_data...\n",
      "[nltk_data]   Package averaged_perceptron_tagger is already up-to-\n",
      "[nltk_data]       date!\n",
      "[nltk_data] Downloading package wordnet to /home/jovyan/nltk_data...\n",
      "[nltk_data]   Package wordnet is already up-to-date!\n",
      "[nltk_data] Downloading package stopwords to /home/jovyan/nltk_data...\n",
      "[nltk_data]   Package stopwords is already up-to-date!\n"
     ]
    }
   ],
   "source": [
    "import pandas as pd\n",
    "import numpy as np \n",
    "import re\n",
    "import nltk\n",
    "from nltk import corpus\n",
    "nltk.download('averaged_perceptron_tagger')\n",
    "nltk.download('wordnet')\n",
    "import transformers\n",
    "\n",
    "from sklearn.pipeline import Pipeline\n",
    "from sklearn.model_selection import train_test_split\n",
    "from sklearn.model_selection import GridSearchCV\n",
    "from sklearn.linear_model import LogisticRegression\n",
    "from lightgbm import LGBMClassifier\n",
    "\n",
    "\n",
    "from sklearn.model_selection import cross_val_score\n",
    "import time\n",
    "import warnings\n",
    "warnings.filterwarnings('ignore')\n",
    "\n",
    "from nltk.corpus import stopwords as nltk_stopwords\n",
    "from sklearn.feature_extraction.text import TfidfVectorizer \n",
    "\n",
    "from nltk import word_tokenize, pos_tag\n",
    "from nltk.corpus import wordnet\n",
    "\n",
    "from nltk.stem import WordNetLemmatizer \n",
    "\n",
    "import matplotlib.pyplot as plt\n",
    "\n",
    "\n",
    "from sklearn.utils import shuffle\n",
    "from sklearn.metrics import f1_score \n",
    "from tqdm import tqdm_notebook as tqdm\n",
    "from nltk.corpus import stopwords as nltk_stopwords\n",
    "import spacy\n",
    "nlp = spacy.load(\"en_core_web_sm\")\n",
    "nltk.download('stopwords') \n",
    "stop_words = set(nltk_stopwords.words('english')) "
   ]
  },
  {
   "cell_type": "code",
   "execution_count": 2,
   "metadata": {},
   "outputs": [],
   "source": [
    "data = pd.read_csv('/datasets/toxic_comments.csv')"
   ]
  },
  {
   "cell_type": "code",
   "execution_count": 3,
   "metadata": {},
   "outputs": [
    {
     "name": "stdout",
     "output_type": "stream",
     "text": [
      "<class 'pandas.core.frame.DataFrame'>\n",
      "RangeIndex: 159292 entries, 0 to 159291\n",
      "Data columns (total 3 columns):\n",
      " #   Column      Non-Null Count   Dtype \n",
      "---  ------      --------------   ----- \n",
      " 0   Unnamed: 0  159292 non-null  int64 \n",
      " 1   text        159292 non-null  object\n",
      " 2   toxic       159292 non-null  int64 \n",
      "dtypes: int64(2), object(1)\n",
      "memory usage: 3.6+ MB\n"
     ]
    }
   ],
   "source": [
    "data.info()"
   ]
  },
  {
   "cell_type": "code",
   "execution_count": 4,
   "metadata": {},
   "outputs": [],
   "source": [
    "data = data.drop(['Unnamed: 0'], axis=1)\n"
   ]
  },
  {
   "cell_type": "code",
   "execution_count": 5,
   "metadata": {},
   "outputs": [
    {
     "name": "stdout",
     "output_type": "stream",
     "text": [
      "text     0\n",
      "toxic    0\n",
      "dtype: int64\n",
      "Empty DataFrame\n",
      "Columns: [text, toxic]\n",
      "Index: []\n"
     ]
    }
   ],
   "source": [
    "print(data.isnull().sum())\n",
    "\n",
    "print(data[data.duplicated()])"
   ]
  },
  {
   "cell_type": "code",
   "execution_count": 6,
   "metadata": {},
   "outputs": [
    {
     "data": {
      "text/html": [
       "<div>\n",
       "<style scoped>\n",
       "    .dataframe tbody tr th:only-of-type {\n",
       "        vertical-align: middle;\n",
       "    }\n",
       "\n",
       "    .dataframe tbody tr th {\n",
       "        vertical-align: top;\n",
       "    }\n",
       "\n",
       "    .dataframe thead th {\n",
       "        text-align: right;\n",
       "    }\n",
       "</style>\n",
       "<table border=\"1\" class=\"dataframe\">\n",
       "  <thead>\n",
       "    <tr style=\"text-align: right;\">\n",
       "      <th></th>\n",
       "      <th>text</th>\n",
       "      <th>toxic</th>\n",
       "    </tr>\n",
       "  </thead>\n",
       "  <tbody>\n",
       "    <tr>\n",
       "      <th>0</th>\n",
       "      <td>Explanation\\nWhy the edits made under my usern...</td>\n",
       "      <td>0</td>\n",
       "    </tr>\n",
       "    <tr>\n",
       "      <th>1</th>\n",
       "      <td>D'aww! He matches this background colour I'm s...</td>\n",
       "      <td>0</td>\n",
       "    </tr>\n",
       "    <tr>\n",
       "      <th>2</th>\n",
       "      <td>Hey man, I'm really not trying to edit war. It...</td>\n",
       "      <td>0</td>\n",
       "    </tr>\n",
       "    <tr>\n",
       "      <th>3</th>\n",
       "      <td>\"\\nMore\\nI can't make any real suggestions on ...</td>\n",
       "      <td>0</td>\n",
       "    </tr>\n",
       "    <tr>\n",
       "      <th>4</th>\n",
       "      <td>You, sir, are my hero. Any chance you remember...</td>\n",
       "      <td>0</td>\n",
       "    </tr>\n",
       "  </tbody>\n",
       "</table>\n",
       "</div>"
      ],
      "text/plain": [
       "                                                text  toxic\n",
       "0  Explanation\\nWhy the edits made under my usern...      0\n",
       "1  D'aww! He matches this background colour I'm s...      0\n",
       "2  Hey man, I'm really not trying to edit war. It...      0\n",
       "3  \"\\nMore\\nI can't make any real suggestions on ...      0\n",
       "4  You, sir, are my hero. Any chance you remember...      0"
      ]
     },
     "execution_count": 6,
     "metadata": {},
     "output_type": "execute_result"
    }
   ],
   "source": [
    "data.head()"
   ]
  },
  {
   "cell_type": "code",
   "execution_count": 7,
   "metadata": {},
   "outputs": [
    {
     "name": "stdout",
     "output_type": "stream",
     "text": [
      "<class 'pandas.core.frame.DataFrame'>\n",
      "RangeIndex: 159292 entries, 0 to 159291\n",
      "Data columns (total 2 columns):\n",
      " #   Column  Non-Null Count   Dtype \n",
      "---  ------  --------------   ----- \n",
      " 0   text    159292 non-null  object\n",
      " 1   toxic   159292 non-null  int64 \n",
      "dtypes: int64(1), object(1)\n",
      "memory usage: 2.4+ MB\n"
     ]
    }
   ],
   "source": [
    "data.info()"
   ]
  },
  {
   "cell_type": "code",
   "execution_count": 8,
   "metadata": {},
   "outputs": [],
   "source": [
    "corpus = list(data['text'])"
   ]
  },
  {
   "cell_type": "code",
   "execution_count": 9,
   "metadata": {},
   "outputs": [],
   "source": [
    "lemmatizer = WordNetLemmatizer()\n",
    "def clear_text(text):\n",
    "    clean=re.sub(r\"[^'a-zA-Z ]\", ' ', text) \n",
    "    lemmatized_output=\" \".join(clean.split())\n",
    "    return lemmatized_output"
   ]
  },
  {
   "cell_type": "code",
   "execution_count": 10,
   "metadata": {},
   "outputs": [],
   "source": [
    "def get_wordnet_pos(word):\n",
    "    tag = nltk.pos_tag([word])[0][1][0].upper()\n",
    "    tag_dict = {\"J\": wordnet.ADJ,\n",
    "                \"N\": wordnet.NOUN,\n",
    "                \"V\": wordnet.VERB,\n",
    "                \"R\": wordnet.ADV}\n",
    "    return tag_dict.get(tag, wordnet.NOUN)"
   ]
  },
  {
   "cell_type": "code",
   "execution_count": 23,
   "metadata": {},
   "outputs": [
    {
     "data": {
      "application/vnd.jupyter.widget-view+json": {
       "model_id": "cdd1f6d4b259496ea7e9dc107f25ed91",
       "version_major": 2,
       "version_minor": 0
      },
      "text/plain": [
       "  0%|          | 0/159292 [00:00<?, ?it/s]"
      ]
     },
     "metadata": {},
     "output_type": "display_data"
    },
    {
     "name": "stdout",
     "output_type": "stream",
     "text": [
      "CPU times: user 19min 17s, sys: 1min 58s, total: 21min 16s\n",
      "Wall time: 21min 49s\n"
     ]
    }
   ],
   "source": [
    "%%time\n",
    "def lemma_func(text_1):\n",
    "    lemmatized_output=[]\n",
    "    for a in nltk.word_tokenize(text_1):\n",
    "        clean=lemmatizer.lemmatize(a, get_wordnet_pos(a))\n",
    "        lemmatized_output.append(clean)\n",
    "    return ' '.join(lemmatized_output) \n",
    "\n",
    "lemm=[]\n",
    "for i in tqdm(range(len(corpus))):\n",
    "    \n",
    "    lemm.append(lemma_func(clear_text(corpus[i])))\n",
    "data['lemmatize']=pd.Series(lemm, index=data.index)"
   ]
  },
  {
   "cell_type": "code",
   "execution_count": 24,
   "metadata": {},
   "outputs": [
    {
     "data": {
      "text/html": [
       "<div>\n",
       "<style scoped>\n",
       "    .dataframe tbody tr th:only-of-type {\n",
       "        vertical-align: middle;\n",
       "    }\n",
       "\n",
       "    .dataframe tbody tr th {\n",
       "        vertical-align: top;\n",
       "    }\n",
       "\n",
       "    .dataframe thead th {\n",
       "        text-align: right;\n",
       "    }\n",
       "</style>\n",
       "<table border=\"1\" class=\"dataframe\">\n",
       "  <thead>\n",
       "    <tr style=\"text-align: right;\">\n",
       "      <th></th>\n",
       "      <th>text</th>\n",
       "      <th>toxic</th>\n",
       "      <th>lemmatize</th>\n",
       "    </tr>\n",
       "  </thead>\n",
       "  <tbody>\n",
       "    <tr>\n",
       "      <th>0</th>\n",
       "      <td>Explanation\\nWhy the edits made under my usern...</td>\n",
       "      <td>0</td>\n",
       "      <td>Explanation Why the edits make under my userna...</td>\n",
       "    </tr>\n",
       "    <tr>\n",
       "      <th>1</th>\n",
       "      <td>D'aww! He matches this background colour I'm s...</td>\n",
       "      <td>0</td>\n",
       "      <td>D'aww He match this background colour I 'm see...</td>\n",
       "    </tr>\n",
       "    <tr>\n",
       "      <th>2</th>\n",
       "      <td>Hey man, I'm really not trying to edit war. It...</td>\n",
       "      <td>0</td>\n",
       "      <td>Hey man I 'm really not try to edit war It 's ...</td>\n",
       "    </tr>\n",
       "    <tr>\n",
       "      <th>3</th>\n",
       "      <td>\"\\nMore\\nI can't make any real suggestions on ...</td>\n",
       "      <td>0</td>\n",
       "      <td>More I ca n't make any real suggestion on impr...</td>\n",
       "    </tr>\n",
       "    <tr>\n",
       "      <th>4</th>\n",
       "      <td>You, sir, are my hero. Any chance you remember...</td>\n",
       "      <td>0</td>\n",
       "      <td>You sir be my hero Any chance you remember wha...</td>\n",
       "    </tr>\n",
       "  </tbody>\n",
       "</table>\n",
       "</div>"
      ],
      "text/plain": [
       "                                                text  toxic  \\\n",
       "0  Explanation\\nWhy the edits made under my usern...      0   \n",
       "1  D'aww! He matches this background colour I'm s...      0   \n",
       "2  Hey man, I'm really not trying to edit war. It...      0   \n",
       "3  \"\\nMore\\nI can't make any real suggestions on ...      0   \n",
       "4  You, sir, are my hero. Any chance you remember...      0   \n",
       "\n",
       "                                           lemmatize  \n",
       "0  Explanation Why the edits make under my userna...  \n",
       "1  D'aww He match this background colour I 'm see...  \n",
       "2  Hey man I 'm really not try to edit war It 's ...  \n",
       "3  More I ca n't make any real suggestion on impr...  \n",
       "4  You sir be my hero Any chance you remember wha...  "
      ]
     },
     "execution_count": 24,
     "metadata": {},
     "output_type": "execute_result"
    }
   ],
   "source": [
    "data.head()"
   ]
  },
  {
   "cell_type": "markdown",
   "metadata": {},
   "source": [
    "Проверили, все хорошо. Теперь разделим датасет на целевые признаки и данные. И разделим на тренировочные и тестовые выборки."
   ]
  },
  {
   "cell_type": "code",
   "execution_count": 25,
   "metadata": {},
   "outputs": [],
   "source": [
    "features = data.drop(['toxic'], axis = 1)\n",
    "target = data['toxic']\n",
    "features_train, features_test, target_train, target_test = train_test_split(features, target, test_size=0.25, random_state=12345, shuffle=True,stratify=target)\n",
    "\n"
   ]
  },
  {
   "cell_type": "code",
   "execution_count": 26,
   "metadata": {},
   "outputs": [
    {
     "name": "stdout",
     "output_type": "stream",
     "text": [
      "(119469, 2)\n",
      "(39823, 2)\n",
      "(119469,)\n",
      "(39823,)\n"
     ]
    }
   ],
   "source": [
    "print(features_train.shape)\n",
    "print(features_test.shape)\n",
    "\n",
    "print(target_train.shape)\n",
    "print(target_test.shape)"
   ]
  },
  {
   "cell_type": "markdown",
   "metadata": {},
   "source": [
    "Теперь посмотрим на баланс распределения классов по выборкам."
   ]
  },
  {
   "cell_type": "code",
   "execution_count": 27,
   "metadata": {},
   "outputs": [
    {
     "data": {
      "image/png": "[encoded data removed]",
      "text/plain": [
       "<Figure size 432x432 with 1 Axes>"
      ]
     },
     "metadata": {},
     "output_type": "display_data"
    }
   ],
   "source": [
    "target_train.value_counts(normalize=True).plot(kind='pie',figsize=[6,6], legend=False, autopct='%1.1f%%',labels=['Токсичный [0]','Не токсичный [1]'])\n",
    "plt.title('Распределение классов в тренировочных данных')\n",
    "plt.ylabel('')\n",
    "plt.show()"
   ]
  },
  {
   "cell_type": "code",
   "execution_count": 28,
   "metadata": {},
   "outputs": [
    {
     "data": {
      "image/png": "[encoded data removed]",
      "text/plain": [
       "<Figure size 432x432 with 1 Axes>"
      ]
     },
     "metadata": {},
     "output_type": "display_data"
    }
   ],
   "source": [
    "target_test.value_counts(normalize=True).plot(kind='pie',figsize=[6,6], legend=False, autopct='%1.1f%%',labels=['Токсичный [0]','Не токсичный [1]'])\n",
    "plt.title('Распределение классов в тестовых данных')\n",
    "plt.ylabel('')\n",
    "plt.show()"
   ]
  },
  {
   "cell_type": "markdown",
   "metadata": {},
   "source": [
    "Данные готовы к обучению"
   ]
  },
  {
   "cell_type": "markdown",
   "metadata": {},
   "source": [
    "## Обучение"
   ]
  },
  {
   "cell_type": "code",
   "execution_count": 29,
   "metadata": {},
   "outputs": [
    {
     "data": {
      "text/html": [
       "<div>\n",
       "<style scoped>\n",
       "    .dataframe tbody tr th:only-of-type {\n",
       "        vertical-align: middle;\n",
       "    }\n",
       "\n",
       "    .dataframe tbody tr th {\n",
       "        vertical-align: top;\n",
       "    }\n",
       "\n",
       "    .dataframe thead th {\n",
       "        text-align: right;\n",
       "    }\n",
       "</style>\n",
       "<table border=\"1\" class=\"dataframe\">\n",
       "  <thead>\n",
       "    <tr style=\"text-align: right;\">\n",
       "      <th></th>\n",
       "      <th>text</th>\n",
       "      <th>lemmatize</th>\n",
       "    </tr>\n",
       "  </thead>\n",
       "  <tbody>\n",
       "    <tr>\n",
       "      <th>129315</th>\n",
       "      <td>Accusation of vandalism? \\n\\nWhat was the caus...</td>\n",
       "      <td>Accusation of vandalism What be the cause and ...</td>\n",
       "    </tr>\n",
       "    <tr>\n",
       "      <th>8868</th>\n",
       "      <td>Shorter Oxford English Dictionary\\nArrived tod...</td>\n",
       "      <td>Shorter Oxford English Dictionary Arrived toda...</td>\n",
       "    </tr>\n",
       "    <tr>\n",
       "      <th>75827</th>\n",
       "      <td>Kim, stop! You are not helping here!!! This is...</td>\n",
       "      <td>Kim stop You be not help here This be fan the ...</td>\n",
       "    </tr>\n",
       "    <tr>\n",
       "      <th>137701</th>\n",
       "      <td>My blocking by user Jayron32  \\n\\nI believe  t...</td>\n",
       "      <td>My block by user Jayron I believe that this bl...</td>\n",
       "    </tr>\n",
       "    <tr>\n",
       "      <th>28407</th>\n",
       "      <td>Simple quote\\nDon't you think this essentially...</td>\n",
       "      <td>Simple quote Do n't you think this essentially...</td>\n",
       "    </tr>\n",
       "  </tbody>\n",
       "</table>\n",
       "</div>"
      ],
      "text/plain": [
       "                                                     text  \\\n",
       "129315  Accusation of vandalism? \\n\\nWhat was the caus...   \n",
       "8868    Shorter Oxford English Dictionary\\nArrived tod...   \n",
       "75827   Kim, stop! You are not helping here!!! This is...   \n",
       "137701  My blocking by user Jayron32  \\n\\nI believe  t...   \n",
       "28407   Simple quote\\nDon't you think this essentially...   \n",
       "\n",
       "                                                lemmatize  \n",
       "129315  Accusation of vandalism What be the cause and ...  \n",
       "8868    Shorter Oxford English Dictionary Arrived toda...  \n",
       "75827   Kim stop You be not help here This be fan the ...  \n",
       "137701  My block by user Jayron I believe that this bl...  \n",
       "28407   Simple quote Do n't you think this essentially...  "
      ]
     },
     "execution_count": 29,
     "metadata": {},
     "output_type": "execute_result"
    }
   ],
   "source": [
    "features_train.head()"
   ]
  },
  {
   "cell_type": "code",
   "execution_count": 30,
   "metadata": {},
   "outputs": [
    {
     "data": {
      "text/plain": [
       "129315    0\n",
       "8868      0\n",
       "75827     0\n",
       "137701    0\n",
       "28407     0\n",
       "Name: toxic, dtype: int64"
      ]
     },
     "execution_count": 30,
     "metadata": {},
     "output_type": "execute_result"
    }
   ],
   "source": [
    "target_train.head()"
   ]
  },
  {
   "cell_type": "raw",
   "metadata": {},
   "source": [
    "%time\n",
    "log_pipe = Pipeline([\n",
    "    ('tfidf', TfidfVectorizer(ngram_range=(1,3), min_df=3, max_df=0.9, use_idf=1,\n",
    "               smooth_idf=1, sublinear_tf=1,stop_words=stop_words)),\n",
    "    ('clf', LogisticRegression(random_state=12345))])\n",
    "\n",
    "params = {'clf__C': [0.1, 1, 10, 100],\n",
    "          'clf__class_weight': ['balanced', None]}\n",
    "\n",
    "log_grid = GridSearchCV(estimator=log_pipe, param_grid=params, cv=3, scoring='f1', n_jobs=-1, refit=False)\n",
    "log_m  = log_grid.fit(features_train['lemmatize'], target_train)\n",
    "print(f'Лучшая f1: {log_m.best_score_} при параметрах {log_m.best_params_}')"
   ]
  },
  {
   "cell_type": "markdown",
   "metadata": {},
   "source": [
    "0.77  при C=10, class_weight='balanced', random_state=12345"
   ]
  },
  {
   "cell_type": "raw",
   "metadata": {},
   "source": [
    "%time\n",
    "LGBM_pipe = Pipeline([\n",
    "    ('tfidf', TfidfVectorizer(ngram_range=(1,3), min_df=3, max_df=0.9, use_idf=1,\n",
    "               smooth_idf=1, sublinear_tf=1,stop_words=stop_words)),\n",
    "    ('clf', LGBMClassifier(random_state=12345))])\n",
    "\n",
    "params = {'clf__n_estimators': [200],\n",
    "          'clf__learning_rate': [0.15, 0.25],\n",
    "          'clf__max_depth': [8, 10, -1]}\n",
    "\n",
    "LGBM_grid = GridSearchCV(estimator=LGBM_pipe, param_grid=params, cv=3, scoring='f1', n_jobs=-1, refit=False)\n",
    "LGBM_m  = LGBM_grid.fit(features_train['lemmatize'], target_train)\n",
    "print(f'Лучшая f1: {LGBM_m.best_score_} при параметрах {LGBM_m.best_params_}')"
   ]
  },
  {
   "cell_type": "markdown",
   "metadata": {},
   "source": [
    "0,76 при learning_rate=0.25, max_depth=-1, n_estimators=200, random_state = 12345"
   ]
  },
  {
   "cell_type": "markdown",
   "metadata": {},
   "source": [
    "<div class=\"alert alert-info\">\n",
    "<font size=\"2\"><b> считает более двух часов выписала результаты и выключила </b></font>"
   ]
  },
  {
   "cell_type": "code",
   "execution_count": 31,
   "metadata": {},
   "outputs": [],
   "source": [
    "vectorize = TfidfVectorizer(ngram_range=(1,3),\n",
    "               min_df=3, max_df=0.9, use_idf=1,\n",
    "               smooth_idf=1, sublinear_tf=1, stop_words=stop_words)\n",
    "features_train = vectorize.fit_transform(features_train['lemmatize'])\n",
    "features_test = vectorize.transform(features_test['lemmatize'])\n"
   ]
  },
  {
   "cell_type": "code",
   "execution_count": 38,
   "metadata": {},
   "outputs": [
    {
     "data": {
      "text/plain": [
       "LogisticRegression(C=10, class_weight='balanced', random_state=12345)"
      ]
     },
     "execution_count": 38,
     "metadata": {},
     "output_type": "execute_result"
    }
   ],
   "source": [
    "log_m = LogisticRegression(C=10, class_weight='balanced', random_state=12345)\n",
    "log_m.fit(features_train, target_train)\n"
   ]
  },
  {
   "cell_type": "markdown",
   "metadata": {},
   "source": [
    "Проверим значение метрики F1 лучшей модели LogisticRegression."
   ]
  },
  {
   "cell_type": "markdown",
   "metadata": {},
   "source": [
    "## Выводы"
   ]
  },
  {
   "cell_type": "code",
   "execution_count": 36,
   "metadata": {},
   "outputs": [
    {
     "name": "stdout",
     "output_type": "stream",
     "text": [
      "F1: 0.78\n"
     ]
    }
   ],
   "source": [
    "log_test_pred = log_m.predict(features_test)\n",
    "f1_log_score = f1_score(target_test,log_test_pred).round(2)\n",
    "\n",
    "print('F1:', f1_log_score)"
   ]
  },
  {
   "cell_type": "markdown",
   "metadata": {},
   "source": [
    "Лучшее значение метрики F1 на тестовой выборке 0,78 у модели LogisticRegression."
   ]
  },
  {
   "cell_type": "markdown",
   "metadata": {},
   "source": [
    "# Вывод: \n",
    "       В данном проекте нам требовалось помочь интернет-магазину \"Викишоп\" в запуске его нового сервиса. Необходим инструмент, который будет искать токсичные комментарии и отправлять их на модерацию.\n",
    "       \n",
    "       Нам было необходимо  обучить модель разделять на позитивные и негативные комментарии. Данные метрики качества F1 должны быть не меньше 0,75.\n",
    "       \n",
    "       Мы загрузили необходимыедля выполения проекта библиотеки, загрузили файл, изучили и проанализировали данные. Пр неккоректной загрузке файла появился новый столбец. Мы его убрали.\n",
    " \n",
    "      Изучили распределение классов по группам\n",
    "      Провели лемматизацию данных\n",
    "      Разделили датасет на целевой признак и данные\n",
    "      Разбили выборки на тренировочную и тестовую\n",
    "      Обучили две модели LogisticRegression и LGBMClassifier, значение метрики на тренировочной выборке лучшее на модели LogisticRegression. \n",
    "      Использовали технологию TF-IDF для обработки наших данных, а так же отфильтровали содержимое при помощи библиотеки nltk.\n",
    "      Обучили наши модели с учетом обработки данных и проверили качество метрики на тестовой выборке.\n",
    "      Лучшее значение метрики F1 на тестовой выборке 0.78, у модели LogisticRegression.\n",
    "      Магазину \"ВИКИШОП\" можем рекомендовать использование в своей работе нашей модели.\n",
    "      "
   ]
  }
 ],
 "metadata": {
  "ExecuteTimeLog": [
   {
    "duration": 3305,
    "start_time": "2023-02-09T07:06:52.052Z"
   },
   {
    "duration": 4795,
    "start_time": "2023-02-09T07:07:26.327Z"
   },
   {
    "duration": 32,
    "start_time": "2023-02-09T07:08:01.170Z"
   },
   {
    "duration": 10,
    "start_time": "2023-02-09T07:08:15.092Z"
   },
   {
    "duration": 244,
    "start_time": "2023-02-09T07:08:52.294Z"
   },
   {
    "duration": 79,
    "start_time": "2023-02-09T07:10:13.003Z"
   },
   {
    "duration": 6,
    "start_time": "2023-02-09T07:10:26.974Z"
   },
   {
    "duration": 74727,
    "start_time": "2023-02-09T07:18:50.067Z"
   },
   {
    "duration": 8,
    "start_time": "2023-02-09T07:20:04.796Z"
   },
   {
    "duration": 68,
    "start_time": "2023-02-09T07:26:40.155Z"
   },
   {
    "duration": 4,
    "start_time": "2023-02-09T07:27:10.748Z"
   },
   {
    "duration": 25,
    "start_time": "2023-02-09T07:30:57.855Z"
   },
   {
    "duration": 1050,
    "start_time": "2023-02-09T07:33:29.003Z"
   },
   {
    "duration": 47,
    "start_time": "2023-02-09T07:35:22.943Z"
   },
   {
    "duration": 87,
    "start_time": "2023-02-09T07:41:31.674Z"
   },
   {
    "duration": 13,
    "start_time": "2023-02-09T07:42:22.399Z"
   },
   {
    "duration": 21,
    "start_time": "2023-02-09T07:43:27.067Z"
   },
   {
    "duration": 9,
    "start_time": "2023-02-09T07:43:30.763Z"
   },
   {
    "duration": 9,
    "start_time": "2023-02-09T07:44:52.816Z"
   },
   {
    "duration": 5,
    "start_time": "2023-02-09T07:45:09.093Z"
   },
   {
    "duration": 1392,
    "start_time": "2023-02-09T07:47:33.468Z"
   },
   {
    "duration": 1422,
    "start_time": "2023-02-09T07:48:04.253Z"
   },
   {
    "duration": 164,
    "start_time": "2023-02-09T07:49:33.134Z"
   },
   {
    "duration": 125,
    "start_time": "2023-02-09T07:50:00.597Z"
   },
   {
    "duration": 12076,
    "start_time": "2023-02-09T07:51:28.057Z"
   },
   {
    "duration": 56,
    "start_time": "2023-02-09T08:07:31.573Z"
   },
   {
    "duration": 59,
    "start_time": "2023-02-09T08:10:15.836Z"
   },
   {
    "duration": 6,
    "start_time": "2023-02-09T08:10:16.863Z"
   },
   {
    "duration": 128,
    "start_time": "2023-02-09T08:10:19.661Z"
   },
   {
    "duration": 4317,
    "start_time": "2023-02-09T08:10:44.978Z"
   },
   {
    "duration": 4166,
    "start_time": "2023-02-09T08:10:49.297Z"
   },
   {
    "duration": 32,
    "start_time": "2023-02-09T08:10:53.465Z"
   },
   {
    "duration": 13,
    "start_time": "2023-02-09T08:10:53.499Z"
   },
   {
    "duration": 5,
    "start_time": "2023-02-09T08:10:53.513Z"
   },
   {
    "duration": 92566,
    "start_time": "2023-02-09T08:10:53.520Z"
   },
   {
    "duration": 12,
    "start_time": "2023-02-09T08:12:26.088Z"
   },
   {
    "duration": 90,
    "start_time": "2023-02-09T08:12:26.102Z"
   },
   {
    "duration": 4,
    "start_time": "2023-02-09T08:12:26.193Z"
   },
   {
    "duration": 37,
    "start_time": "2023-02-09T08:12:26.201Z"
   },
   {
    "duration": 51,
    "start_time": "2023-02-09T08:12:26.240Z"
   },
   {
    "duration": 11,
    "start_time": "2023-02-09T08:12:26.293Z"
   },
   {
    "duration": 275,
    "start_time": "2023-02-09T08:12:26.306Z"
   },
   {
    "duration": 0,
    "start_time": "2023-02-09T08:12:26.583Z"
   },
   {
    "duration": 0,
    "start_time": "2023-02-09T08:12:26.585Z"
   },
   {
    "duration": 0,
    "start_time": "2023-02-09T08:12:26.586Z"
   },
   {
    "duration": 0,
    "start_time": "2023-02-09T08:12:26.587Z"
   },
   {
    "duration": 0,
    "start_time": "2023-02-09T08:12:26.589Z"
   },
   {
    "duration": 7,
    "start_time": "2023-02-09T08:13:34.312Z"
   },
   {
    "duration": 17,
    "start_time": "2023-02-09T08:13:37.009Z"
   },
   {
    "duration": 12,
    "start_time": "2023-02-09T08:13:55.784Z"
   },
   {
    "duration": 131,
    "start_time": "2023-02-09T08:14:02.207Z"
   },
   {
    "duration": 5,
    "start_time": "2023-02-09T08:16:02.365Z"
   },
   {
    "duration": 53,
    "start_time": "2023-02-09T08:16:03.004Z"
   },
   {
    "duration": 109,
    "start_time": "2023-02-09T08:16:04.306Z"
   },
   {
    "duration": 131,
    "start_time": "2023-02-09T08:16:21.027Z"
   },
   {
    "duration": 11500,
    "start_time": "2023-02-09T08:16:25.586Z"
   },
   {
    "duration": 31,
    "start_time": "2023-02-09T08:33:06.832Z"
   },
   {
    "duration": 128,
    "start_time": "2023-02-09T08:33:20.904Z"
   },
   {
    "duration": 135,
    "start_time": "2023-02-09T08:34:15.382Z"
   },
   {
    "duration": 125,
    "start_time": "2023-02-09T08:34:33.575Z"
   },
   {
    "duration": 27,
    "start_time": "2023-02-09T08:43:14.771Z"
   },
   {
    "duration": 33,
    "start_time": "2023-02-09T08:43:30.215Z"
   },
   {
    "duration": 109,
    "start_time": "2023-02-09T08:43:46.512Z"
   },
   {
    "duration": 5,
    "start_time": "2023-02-09T08:43:49.664Z"
   },
   {
    "duration": 2,
    "start_time": "2023-02-09T08:43:51.375Z"
   },
   {
    "duration": 119,
    "start_time": "2023-02-09T08:45:15.091Z"
   },
   {
    "duration": 8,
    "start_time": "2023-02-09T08:45:48.379Z"
   },
   {
    "duration": 120,
    "start_time": "2023-02-09T08:46:12.171Z"
   },
   {
    "duration": 124,
    "start_time": "2023-02-09T08:46:33.587Z"
   },
   {
    "duration": 71,
    "start_time": "2023-02-09T08:47:06.387Z"
   },
   {
    "duration": 12,
    "start_time": "2023-02-09T08:48:07.393Z"
   },
   {
    "duration": 14,
    "start_time": "2023-02-09T08:50:04.895Z"
   },
   {
    "duration": 13,
    "start_time": "2023-02-09T08:50:09.882Z"
   },
   {
    "duration": 101,
    "start_time": "2023-02-09T08:52:05.629Z"
   },
   {
    "duration": 116,
    "start_time": "2023-02-09T08:52:14.562Z"
   },
   {
    "duration": 3946,
    "start_time": "2023-02-09T08:56:22.815Z"
   },
   {
    "duration": 3908,
    "start_time": "2023-02-09T08:56:26.763Z"
   },
   {
    "duration": 33,
    "start_time": "2023-02-09T08:56:30.676Z"
   },
   {
    "duration": 38,
    "start_time": "2023-02-09T08:56:30.712Z"
   },
   {
    "duration": 23,
    "start_time": "2023-02-09T08:56:30.754Z"
   },
   {
    "duration": 88942,
    "start_time": "2023-02-09T08:56:30.779Z"
   },
   {
    "duration": 34,
    "start_time": "2023-02-09T08:57:59.722Z"
   },
   {
    "duration": 116,
    "start_time": "2023-02-09T08:57:59.758Z"
   },
   {
    "duration": 182,
    "start_time": "2023-02-09T08:57:59.876Z"
   },
   {
    "duration": 0,
    "start_time": "2023-02-09T08:58:00.061Z"
   },
   {
    "duration": 0,
    "start_time": "2023-02-09T08:58:00.063Z"
   },
   {
    "duration": 1,
    "start_time": "2023-02-09T08:58:00.064Z"
   },
   {
    "duration": 0,
    "start_time": "2023-02-09T08:58:00.066Z"
   },
   {
    "duration": 0,
    "start_time": "2023-02-09T08:58:00.067Z"
   },
   {
    "duration": 0,
    "start_time": "2023-02-09T08:58:00.067Z"
   },
   {
    "duration": 0,
    "start_time": "2023-02-09T08:58:00.069Z"
   },
   {
    "duration": 121,
    "start_time": "2023-02-09T08:58:24.900Z"
   },
   {
    "duration": 4,
    "start_time": "2023-02-09T08:58:26.467Z"
   },
   {
    "duration": 127,
    "start_time": "2023-02-09T08:58:27.975Z"
   },
   {
    "duration": 106,
    "start_time": "2023-02-09T08:58:29.004Z"
   },
   {
    "duration": 104,
    "start_time": "2023-02-09T08:58:30.375Z"
   },
   {
    "duration": 91,
    "start_time": "2023-02-09T08:58:38.327Z"
   },
   {
    "duration": 10970,
    "start_time": "2023-02-09T08:58:39.911Z"
   },
   {
    "duration": 23,
    "start_time": "2023-02-09T09:58:14.098Z"
   },
   {
    "duration": 4268,
    "start_time": "2023-02-09T10:00:59.098Z"
   },
   {
    "duration": 3534,
    "start_time": "2023-02-09T10:01:03.368Z"
   },
   {
    "duration": 32,
    "start_time": "2023-02-09T10:01:06.903Z"
   },
   {
    "duration": 11,
    "start_time": "2023-02-09T10:01:06.937Z"
   },
   {
    "duration": 8,
    "start_time": "2023-02-09T10:01:06.950Z"
   },
   {
    "duration": 82079,
    "start_time": "2023-02-09T10:01:06.960Z"
   },
   {
    "duration": 10,
    "start_time": "2023-02-09T10:02:29.041Z"
   },
   {
    "duration": 111,
    "start_time": "2023-02-09T10:02:29.052Z"
   },
   {
    "duration": 3,
    "start_time": "2023-02-09T10:02:29.165Z"
   },
   {
    "duration": 118,
    "start_time": "2023-02-09T10:02:29.171Z"
   },
   {
    "duration": 107,
    "start_time": "2023-02-09T10:02:29.291Z"
   },
   {
    "duration": 117,
    "start_time": "2023-02-09T10:02:29.400Z"
   },
   {
    "duration": 98,
    "start_time": "2023-02-09T10:02:29.519Z"
   },
   {
    "duration": 11123,
    "start_time": "2023-02-09T10:02:29.619Z"
   },
   {
    "duration": 180,
    "start_time": "2023-02-09T10:02:40.744Z"
   },
   {
    "duration": 0,
    "start_time": "2023-02-09T10:02:40.926Z"
   },
   {
    "duration": 112,
    "start_time": "2023-02-09T10:08:48.312Z"
   },
   {
    "duration": 4,
    "start_time": "2023-02-09T10:08:49.029Z"
   },
   {
    "duration": 107,
    "start_time": "2023-02-09T10:08:50.760Z"
   },
   {
    "duration": 97,
    "start_time": "2023-02-09T10:08:53.603Z"
   },
   {
    "duration": 34,
    "start_time": "2023-02-09T10:08:55.746Z"
   },
   {
    "duration": 86,
    "start_time": "2023-02-09T10:08:56.777Z"
   },
   {
    "duration": 79,
    "start_time": "2023-02-09T10:09:30.857Z"
   },
   {
    "duration": 26,
    "start_time": "2023-02-09T10:09:36.198Z"
   },
   {
    "duration": 27,
    "start_time": "2023-02-09T10:11:17.252Z"
   },
   {
    "duration": 97,
    "start_time": "2023-02-09T10:11:31.378Z"
   },
   {
    "duration": 99,
    "start_time": "2023-02-09T10:11:55.908Z"
   },
   {
    "duration": 26,
    "start_time": "2023-02-09T10:12:07.903Z"
   },
   {
    "duration": 101,
    "start_time": "2023-02-09T10:12:36.694Z"
   },
   {
    "duration": 7,
    "start_time": "2023-02-09T10:12:37.737Z"
   },
   {
    "duration": 103,
    "start_time": "2023-02-09T10:12:39.424Z"
   },
   {
    "duration": 95,
    "start_time": "2023-02-09T10:12:41.889Z"
   },
   {
    "duration": 43,
    "start_time": "2023-02-09T10:12:43.106Z"
   },
   {
    "duration": 81,
    "start_time": "2023-02-09T10:12:44.830Z"
   },
   {
    "duration": 44,
    "start_time": "2023-02-09T10:12:57.410Z"
   },
   {
    "duration": 3785,
    "start_time": "2023-02-09T10:13:05.784Z"
   },
   {
    "duration": 3710,
    "start_time": "2023-02-09T10:13:09.571Z"
   },
   {
    "duration": 31,
    "start_time": "2023-02-09T10:13:13.282Z"
   },
   {
    "duration": 9,
    "start_time": "2023-02-09T10:13:13.315Z"
   },
   {
    "duration": 16,
    "start_time": "2023-02-09T10:13:13.326Z"
   },
   {
    "duration": 81899,
    "start_time": "2023-02-09T10:13:13.344Z"
   },
   {
    "duration": 14,
    "start_time": "2023-02-09T10:14:35.245Z"
   },
   {
    "duration": 117,
    "start_time": "2023-02-09T10:14:35.260Z"
   },
   {
    "duration": 3,
    "start_time": "2023-02-09T10:14:35.379Z"
   },
   {
    "duration": 120,
    "start_time": "2023-02-09T10:14:35.385Z"
   },
   {
    "duration": 118,
    "start_time": "2023-02-09T10:14:35.506Z"
   },
   {
    "duration": 61,
    "start_time": "2023-02-09T10:14:35.626Z"
   },
   {
    "duration": 179,
    "start_time": "2023-02-09T10:14:35.689Z"
   },
   {
    "duration": 0,
    "start_time": "2023-02-09T10:14:35.869Z"
   },
   {
    "duration": 0,
    "start_time": "2023-02-09T10:14:35.870Z"
   },
   {
    "duration": 0,
    "start_time": "2023-02-09T10:14:35.872Z"
   },
   {
    "duration": 12,
    "start_time": "2023-02-09T10:15:27.186Z"
   },
   {
    "duration": 53,
    "start_time": "2023-02-09T10:15:38.136Z"
   },
   {
    "duration": 12,
    "start_time": "2023-02-09T10:15:38.667Z"
   },
   {
    "duration": 13,
    "start_time": "2023-02-09T10:16:56.678Z"
   },
   {
    "duration": 63,
    "start_time": "2023-02-09T10:17:13.185Z"
   },
   {
    "duration": 44,
    "start_time": "2023-02-09T10:18:52.869Z"
   },
   {
    "duration": 15,
    "start_time": "2023-02-09T10:19:05.500Z"
   },
   {
    "duration": 94,
    "start_time": "2023-02-09T10:19:25.396Z"
   },
   {
    "duration": 11195,
    "start_time": "2023-02-09T10:19:31.129Z"
   },
   {
    "duration": 49,
    "start_time": "2023-02-09T10:21:41.488Z"
   },
   {
    "duration": 5150,
    "start_time": "2023-02-09T10:21:48.419Z"
   },
   {
    "duration": 3603,
    "start_time": "2023-02-09T10:21:53.571Z"
   },
   {
    "duration": 33,
    "start_time": "2023-02-09T10:21:57.175Z"
   },
   {
    "duration": 11,
    "start_time": "2023-02-09T10:21:57.210Z"
   },
   {
    "duration": 6,
    "start_time": "2023-02-09T10:21:57.222Z"
   },
   {
    "duration": 83509,
    "start_time": "2023-02-09T10:21:57.240Z"
   },
   {
    "duration": 11,
    "start_time": "2023-02-09T10:23:20.752Z"
   },
   {
    "duration": 116,
    "start_time": "2023-02-09T10:23:20.764Z"
   },
   {
    "duration": 3,
    "start_time": "2023-02-09T10:23:20.882Z"
   },
   {
    "duration": 155,
    "start_time": "2023-02-09T10:23:20.888Z"
   },
   {
    "duration": 114,
    "start_time": "2023-02-09T10:23:21.045Z"
   },
   {
    "duration": 47,
    "start_time": "2023-02-09T10:23:21.162Z"
   },
   {
    "duration": 94,
    "start_time": "2023-02-09T10:23:21.211Z"
   },
   {
    "duration": 10846,
    "start_time": "2023-02-09T10:23:21.307Z"
   },
   {
    "duration": 0,
    "start_time": "2023-02-09T10:23:32.155Z"
   },
   {
    "duration": 0,
    "start_time": "2023-02-09T10:23:32.157Z"
   },
   {
    "duration": 4608,
    "start_time": "2023-02-09T10:27:02.463Z"
   },
   {
    "duration": 3625,
    "start_time": "2023-02-09T10:27:07.073Z"
   },
   {
    "duration": 31,
    "start_time": "2023-02-09T10:27:10.700Z"
   },
   {
    "duration": 17,
    "start_time": "2023-02-09T10:27:10.733Z"
   },
   {
    "duration": 8,
    "start_time": "2023-02-09T10:27:10.751Z"
   },
   {
    "duration": 83149,
    "start_time": "2023-02-09T10:27:10.760Z"
   },
   {
    "duration": 10,
    "start_time": "2023-02-09T10:28:33.911Z"
   },
   {
    "duration": 123,
    "start_time": "2023-02-09T10:28:33.923Z"
   },
   {
    "duration": 7,
    "start_time": "2023-02-09T10:28:34.049Z"
   },
   {
    "duration": 182,
    "start_time": "2023-02-09T10:28:34.059Z"
   },
   {
    "duration": 116,
    "start_time": "2023-02-09T10:28:34.243Z"
   },
   {
    "duration": 50,
    "start_time": "2023-02-09T10:28:34.361Z"
   },
   {
    "duration": 152,
    "start_time": "2023-02-09T10:28:34.413Z"
   },
   {
    "duration": 10727,
    "start_time": "2023-02-09T10:28:34.568Z"
   },
   {
    "duration": 192,
    "start_time": "2023-02-09T10:28:45.296Z"
   },
   {
    "duration": 0,
    "start_time": "2023-02-09T10:28:45.489Z"
   },
   {
    "duration": 76,
    "start_time": "2023-02-09T10:31:06.516Z"
   },
   {
    "duration": 4348,
    "start_time": "2023-02-09T10:31:12.200Z"
   },
   {
    "duration": 4071,
    "start_time": "2023-02-09T10:31:16.550Z"
   },
   {
    "duration": 37,
    "start_time": "2023-02-09T10:31:20.623Z"
   },
   {
    "duration": 15,
    "start_time": "2023-02-09T10:31:20.662Z"
   },
   {
    "duration": 4,
    "start_time": "2023-02-09T10:31:20.679Z"
   },
   {
    "duration": 82184,
    "start_time": "2023-02-09T10:31:20.685Z"
   },
   {
    "duration": 10,
    "start_time": "2023-02-09T10:32:42.871Z"
   },
   {
    "duration": 115,
    "start_time": "2023-02-09T10:32:42.882Z"
   },
   {
    "duration": 3,
    "start_time": "2023-02-09T10:32:42.999Z"
   },
   {
    "duration": 153,
    "start_time": "2023-02-09T10:32:43.005Z"
   },
   {
    "duration": 104,
    "start_time": "2023-02-09T10:32:43.161Z"
   },
   {
    "duration": 47,
    "start_time": "2023-02-09T10:32:43.267Z"
   },
   {
    "duration": 95,
    "start_time": "2023-02-09T10:32:43.315Z"
   },
   {
    "duration": 10583,
    "start_time": "2023-02-09T10:32:43.412Z"
   },
   {
    "duration": 177,
    "start_time": "2023-02-09T10:32:53.997Z"
   },
   {
    "duration": 0,
    "start_time": "2023-02-09T10:32:54.176Z"
   },
   {
    "duration": 3873,
    "start_time": "2023-02-09T10:38:08.423Z"
   },
   {
    "duration": 3555,
    "start_time": "2023-02-09T10:38:12.299Z"
   },
   {
    "duration": 33,
    "start_time": "2023-02-09T10:38:15.862Z"
   },
   {
    "duration": 10,
    "start_time": "2023-02-09T10:38:15.897Z"
   },
   {
    "duration": 11,
    "start_time": "2023-02-09T10:38:15.909Z"
   },
   {
    "duration": 81204,
    "start_time": "2023-02-09T10:38:15.921Z"
   },
   {
    "duration": 15,
    "start_time": "2023-02-09T10:39:37.126Z"
   },
   {
    "duration": 122,
    "start_time": "2023-02-09T10:39:37.144Z"
   },
   {
    "duration": 5,
    "start_time": "2023-02-09T10:39:37.269Z"
   },
   {
    "duration": 195,
    "start_time": "2023-02-09T10:39:37.275Z"
   },
   {
    "duration": 110,
    "start_time": "2023-02-09T10:39:37.472Z"
   },
   {
    "duration": 67,
    "start_time": "2023-02-09T10:39:37.584Z"
   },
   {
    "duration": 99,
    "start_time": "2023-02-09T10:39:37.653Z"
   },
   {
    "duration": 4136,
    "start_time": "2023-02-09T10:39:37.753Z"
   },
   {
    "duration": 10244,
    "start_time": "2023-02-09T10:39:41.891Z"
   },
   {
    "duration": 181,
    "start_time": "2023-02-09T10:39:52.137Z"
   },
   {
    "duration": 4431,
    "start_time": "2023-02-09T10:45:03.364Z"
   },
   {
    "duration": 3678,
    "start_time": "2023-02-09T10:45:07.797Z"
   },
   {
    "duration": 30,
    "start_time": "2023-02-09T10:45:11.477Z"
   },
   {
    "duration": 9,
    "start_time": "2023-02-09T10:45:11.509Z"
   },
   {
    "duration": 6,
    "start_time": "2023-02-09T10:45:11.519Z"
   },
   {
    "duration": 83462,
    "start_time": "2023-02-09T10:45:11.526Z"
   },
   {
    "duration": 10,
    "start_time": "2023-02-09T10:46:34.989Z"
   },
   {
    "duration": 111,
    "start_time": "2023-02-09T10:46:35.001Z"
   },
   {
    "duration": 4,
    "start_time": "2023-02-09T10:46:35.113Z"
   },
   {
    "duration": 185,
    "start_time": "2023-02-09T10:46:35.119Z"
   },
   {
    "duration": 99,
    "start_time": "2023-02-09T10:46:35.306Z"
   },
   {
    "duration": 66,
    "start_time": "2023-02-09T10:46:35.407Z"
   },
   {
    "duration": 97,
    "start_time": "2023-02-09T10:46:35.474Z"
   },
   {
    "duration": 10586,
    "start_time": "2023-02-09T10:46:35.573Z"
   },
   {
    "duration": 190,
    "start_time": "2023-02-09T10:46:46.161Z"
   },
   {
    "duration": 0,
    "start_time": "2023-02-09T10:46:46.353Z"
   },
   {
    "duration": 17,
    "start_time": "2023-02-09T10:47:38.798Z"
   },
   {
    "duration": 12,
    "start_time": "2023-02-09T10:51:39.369Z"
   },
   {
    "duration": 5,
    "start_time": "2023-02-09T10:52:10.355Z"
   },
   {
    "duration": 328,
    "start_time": "2023-02-09T10:56:04.559Z"
   },
   {
    "duration": 5,
    "start_time": "2023-02-09T10:56:06.830Z"
   },
   {
    "duration": 4,
    "start_time": "2023-02-09T10:57:14.662Z"
   },
   {
    "duration": 79,
    "start_time": "2023-02-09T10:57:36.124Z"
   },
   {
    "duration": 8,
    "start_time": "2023-02-09T10:59:05.686Z"
   },
   {
    "duration": 112,
    "start_time": "2023-02-09T10:59:09.616Z"
   },
   {
    "duration": 4,
    "start_time": "2023-02-09T11:00:02.246Z"
   },
   {
    "duration": 3,
    "start_time": "2023-02-09T11:00:03.204Z"
   },
   {
    "duration": 1184656,
    "start_time": "2023-02-09T11:00:04.352Z"
   },
   {
    "duration": 9,
    "start_time": "2023-02-09T11:19:56.690Z"
   },
   {
    "duration": 144,
    "start_time": "2023-02-09T11:20:03.776Z"
   },
   {
    "duration": 7,
    "start_time": "2023-02-09T11:20:05.336Z"
   },
   {
    "duration": 107,
    "start_time": "2023-02-09T11:20:08.464Z"
   },
   {
    "duration": 96,
    "start_time": "2023-02-09T11:20:09.579Z"
   },
   {
    "duration": 73,
    "start_time": "2023-02-09T11:20:12.623Z"
   },
   {
    "duration": 100,
    "start_time": "2023-02-09T11:20:14.609Z"
   },
   {
    "duration": 48,
    "start_time": "2023-02-09T11:20:27.316Z"
   },
   {
    "duration": 8,
    "start_time": "2023-02-09T11:20:52.404Z"
   },
   {
    "duration": 4271,
    "start_time": "2023-02-09T11:20:57.915Z"
   },
   {
    "duration": 3935,
    "start_time": "2023-02-09T11:21:02.189Z"
   },
   {
    "duration": 38,
    "start_time": "2023-02-09T11:21:06.126Z"
   },
   {
    "duration": 15,
    "start_time": "2023-02-09T11:21:06.166Z"
   },
   {
    "duration": 6,
    "start_time": "2023-02-09T11:21:06.182Z"
   },
   {
    "duration": 86,
    "start_time": "2023-02-09T11:21:06.189Z"
   },
   {
    "duration": 2,
    "start_time": "2023-02-09T11:21:06.277Z"
   },
   {
    "duration": 6,
    "start_time": "2023-02-09T11:21:06.281Z"
   },
   {
    "duration": 8,
    "start_time": "2023-02-09T11:21:06.288Z"
   },
   {
    "duration": 3318,
    "start_time": "2023-02-09T12:09:07.723Z"
   },
   {
    "duration": 858,
    "start_time": "2023-02-09T12:09:11.043Z"
   },
   {
    "duration": 43,
    "start_time": "2023-02-09T12:09:11.903Z"
   },
   {
    "duration": 18,
    "start_time": "2023-02-09T12:09:11.949Z"
   },
   {
    "duration": 11,
    "start_time": "2023-02-09T12:09:11.968Z"
   },
   {
    "duration": 71,
    "start_time": "2023-02-09T12:09:11.980Z"
   },
   {
    "duration": 4,
    "start_time": "2023-02-09T12:09:12.055Z"
   },
   {
    "duration": 16,
    "start_time": "2023-02-09T12:09:12.062Z"
   },
   {
    "duration": 121,
    "start_time": "2023-02-09T12:09:12.080Z"
   },
   {
    "duration": 4,
    "start_time": "2023-02-09T12:09:12.204Z"
   },
   {
    "duration": 157,
    "start_time": "2023-02-09T12:09:12.209Z"
   },
   {
    "duration": 133,
    "start_time": "2023-02-09T12:09:12.368Z"
   },
   {
    "duration": 69,
    "start_time": "2023-02-09T12:09:12.502Z"
   },
   {
    "duration": 108,
    "start_time": "2023-02-09T12:09:12.573Z"
   },
   {
    "duration": 239,
    "start_time": "2023-02-09T12:09:12.683Z"
   },
   {
    "duration": 0,
    "start_time": "2023-02-09T12:09:12.924Z"
   },
   {
    "duration": 0,
    "start_time": "2023-02-09T12:09:12.926Z"
   },
   {
    "duration": 0,
    "start_time": "2023-02-09T12:09:12.938Z"
   },
   {
    "duration": 0,
    "start_time": "2023-02-09T12:09:12.939Z"
   },
   {
    "duration": 0,
    "start_time": "2023-02-09T12:09:12.942Z"
   },
   {
    "duration": 0,
    "start_time": "2023-02-09T12:09:12.943Z"
   },
   {
    "duration": 0,
    "start_time": "2023-02-09T12:09:12.948Z"
   },
   {
    "duration": 13,
    "start_time": "2023-02-09T12:10:25.907Z"
   },
   {
    "duration": 894,
    "start_time": "2023-02-09T12:11:56.110Z"
   },
   {
    "duration": 83828,
    "start_time": "2023-02-09T12:13:07.019Z"
   },
   {
    "duration": 938,
    "start_time": "2023-02-09T12:14:30.851Z"
   },
   {
    "duration": 927,
    "start_time": "2023-02-09T12:30:09.955Z"
   },
   {
    "duration": 3114,
    "start_time": "2023-02-09T12:30:38.758Z"
   },
   {
    "duration": 829,
    "start_time": "2023-02-09T12:30:41.873Z"
   },
   {
    "duration": 45,
    "start_time": "2023-02-09T12:30:42.704Z"
   },
   {
    "duration": 17,
    "start_time": "2023-02-09T12:30:42.751Z"
   },
   {
    "duration": 6,
    "start_time": "2023-02-09T12:30:42.770Z"
   },
   {
    "duration": 38,
    "start_time": "2023-02-09T12:30:42.777Z"
   },
   {
    "duration": 3207,
    "start_time": "2023-02-09T12:31:23.452Z"
   },
   {
    "duration": 814,
    "start_time": "2023-02-09T12:31:26.661Z"
   },
   {
    "duration": 31,
    "start_time": "2023-02-09T12:31:27.476Z"
   },
   {
    "duration": 10,
    "start_time": "2023-02-09T12:31:27.509Z"
   },
   {
    "duration": 9,
    "start_time": "2023-02-09T12:31:27.537Z"
   },
   {
    "duration": 87555,
    "start_time": "2023-02-09T12:31:27.548Z"
   },
   {
    "duration": 12,
    "start_time": "2023-02-09T12:32:55.105Z"
   },
   {
    "duration": 129,
    "start_time": "2023-02-09T12:32:55.118Z"
   },
   {
    "duration": 8,
    "start_time": "2023-02-09T12:32:55.255Z"
   },
   {
    "duration": 126,
    "start_time": "2023-02-09T12:32:55.267Z"
   },
   {
    "duration": 116,
    "start_time": "2023-02-09T12:32:55.395Z"
   },
   {
    "duration": 74,
    "start_time": "2023-02-09T12:32:55.513Z"
   },
   {
    "duration": 110,
    "start_time": "2023-02-09T12:32:55.588Z"
   },
   {
    "duration": 1275,
    "start_time": "2023-02-09T12:32:55.699Z"
   },
   {
    "duration": 0,
    "start_time": "2023-02-09T12:32:56.976Z"
   },
   {
    "duration": 0,
    "start_time": "2023-02-09T12:32:56.978Z"
   },
   {
    "duration": 0,
    "start_time": "2023-02-09T12:32:56.979Z"
   },
   {
    "duration": 0,
    "start_time": "2023-02-09T12:32:56.980Z"
   },
   {
    "duration": 0,
    "start_time": "2023-02-09T12:32:56.981Z"
   },
   {
    "duration": 0,
    "start_time": "2023-02-09T12:32:56.983Z"
   },
   {
    "duration": 0,
    "start_time": "2023-02-09T12:32:56.984Z"
   },
   {
    "duration": 1925,
    "start_time": "2023-02-09T12:36:40.413Z"
   },
   {
    "duration": 4466,
    "start_time": "2023-02-09T12:38:53.650Z"
   },
   {
    "duration": 3695,
    "start_time": "2023-02-09T12:38:58.119Z"
   },
   {
    "duration": 49,
    "start_time": "2023-02-09T12:39:01.816Z"
   },
   {
    "duration": 48,
    "start_time": "2023-02-09T12:39:01.867Z"
   },
   {
    "duration": 25,
    "start_time": "2023-02-09T12:39:01.917Z"
   },
   {
    "duration": 83373,
    "start_time": "2023-02-09T12:39:01.950Z"
   },
   {
    "duration": 13,
    "start_time": "2023-02-09T12:40:25.325Z"
   },
   {
    "duration": 113,
    "start_time": "2023-02-09T12:40:25.339Z"
   },
   {
    "duration": 4,
    "start_time": "2023-02-09T12:40:25.454Z"
   },
   {
    "duration": 144,
    "start_time": "2023-02-09T12:40:25.461Z"
   },
   {
    "duration": 120,
    "start_time": "2023-02-09T12:40:25.607Z"
   },
   {
    "duration": 57,
    "start_time": "2023-02-09T12:40:25.728Z"
   },
   {
    "duration": 114,
    "start_time": "2023-02-09T12:40:25.788Z"
   },
   {
    "duration": 10176,
    "start_time": "2023-02-09T12:40:25.904Z"
   },
   {
    "duration": 171,
    "start_time": "2023-02-09T12:40:36.082Z"
   },
   {
    "duration": 0,
    "start_time": "2023-02-09T12:40:36.255Z"
   },
   {
    "duration": 0,
    "start_time": "2023-02-09T12:40:36.256Z"
   },
   {
    "duration": 0,
    "start_time": "2023-02-09T12:40:36.257Z"
   },
   {
    "duration": 0,
    "start_time": "2023-02-09T12:40:36.258Z"
   },
   {
    "duration": 0,
    "start_time": "2023-02-09T12:40:36.260Z"
   },
   {
    "duration": 0,
    "start_time": "2023-02-09T12:40:36.261Z"
   },
   {
    "duration": 750,
    "start_time": "2023-02-09T12:44:39.997Z"
   },
   {
    "duration": 18,
    "start_time": "2023-02-09T12:47:12.130Z"
   },
   {
    "duration": 16,
    "start_time": "2023-02-09T12:47:24.296Z"
   },
   {
    "duration": 457,
    "start_time": "2023-02-09T12:49:09.071Z"
   },
   {
    "duration": 8,
    "start_time": "2023-02-09T12:49:24.709Z"
   },
   {
    "duration": 5604,
    "start_time": "2023-02-09T12:49:40.203Z"
   },
   {
    "duration": 1668,
    "start_time": "2023-02-09T12:49:45.809Z"
   },
   {
    "duration": 33,
    "start_time": "2023-02-09T12:49:47.479Z"
   },
   {
    "duration": 286,
    "start_time": "2023-02-09T12:49:47.514Z"
   },
   {
    "duration": 12,
    "start_time": "2023-02-09T12:49:47.802Z"
   },
   {
    "duration": 22,
    "start_time": "2023-02-09T12:49:47.816Z"
   },
   {
    "duration": 80083,
    "start_time": "2023-02-09T12:49:47.839Z"
   },
   {
    "duration": 14,
    "start_time": "2023-02-09T12:51:07.924Z"
   },
   {
    "duration": 114,
    "start_time": "2023-02-09T12:51:07.939Z"
   },
   {
    "duration": 4,
    "start_time": "2023-02-09T12:51:08.055Z"
   },
   {
    "duration": 122,
    "start_time": "2023-02-09T12:51:08.061Z"
   },
   {
    "duration": 108,
    "start_time": "2023-02-09T12:51:08.184Z"
   },
   {
    "duration": 61,
    "start_time": "2023-02-09T12:51:08.293Z"
   },
   {
    "duration": 90,
    "start_time": "2023-02-09T12:51:08.356Z"
   },
   {
    "duration": 10642,
    "start_time": "2023-02-09T12:51:08.447Z"
   },
   {
    "duration": 194,
    "start_time": "2023-02-09T12:51:19.090Z"
   },
   {
    "duration": 0,
    "start_time": "2023-02-09T12:51:19.286Z"
   },
   {
    "duration": 0,
    "start_time": "2023-02-09T12:51:19.287Z"
   },
   {
    "duration": 0,
    "start_time": "2023-02-09T12:51:19.288Z"
   },
   {
    "duration": 0,
    "start_time": "2023-02-09T12:51:19.290Z"
   },
   {
    "duration": 0,
    "start_time": "2023-02-09T12:51:19.291Z"
   },
   {
    "duration": 0,
    "start_time": "2023-02-09T12:51:19.293Z"
   },
   {
    "duration": 16,
    "start_time": "2023-02-09T12:57:04.361Z"
   },
   {
    "duration": 22,
    "start_time": "2023-02-09T12:57:25.350Z"
   },
   {
    "duration": 3247,
    "start_time": "2023-02-09T12:57:38.777Z"
   },
   {
    "duration": 802,
    "start_time": "2023-02-09T12:57:42.026Z"
   },
   {
    "duration": 43,
    "start_time": "2023-02-09T12:57:42.832Z"
   },
   {
    "duration": 286,
    "start_time": "2023-02-09T12:57:42.877Z"
   },
   {
    "duration": 9,
    "start_time": "2023-02-09T12:57:43.165Z"
   },
   {
    "duration": 12,
    "start_time": "2023-02-09T12:57:43.176Z"
   },
   {
    "duration": 80491,
    "start_time": "2023-02-09T12:57:43.190Z"
   },
   {
    "duration": 11,
    "start_time": "2023-02-09T12:59:03.682Z"
   },
   {
    "duration": 124,
    "start_time": "2023-02-09T12:59:03.696Z"
   },
   {
    "duration": 3,
    "start_time": "2023-02-09T12:59:03.822Z"
   },
   {
    "duration": 141,
    "start_time": "2023-02-09T12:59:03.827Z"
   },
   {
    "duration": 119,
    "start_time": "2023-02-09T12:59:03.970Z"
   },
   {
    "duration": 56,
    "start_time": "2023-02-09T12:59:04.091Z"
   },
   {
    "duration": 99,
    "start_time": "2023-02-09T12:59:04.148Z"
   },
   {
    "duration": 10926,
    "start_time": "2023-02-09T12:59:04.249Z"
   },
   {
    "duration": 192,
    "start_time": "2023-02-09T12:59:15.177Z"
   },
   {
    "duration": 0,
    "start_time": "2023-02-09T12:59:15.371Z"
   },
   {
    "duration": 0,
    "start_time": "2023-02-09T12:59:15.372Z"
   },
   {
    "duration": 0,
    "start_time": "2023-02-09T12:59:15.374Z"
   },
   {
    "duration": 0,
    "start_time": "2023-02-09T12:59:15.375Z"
   },
   {
    "duration": 8245,
    "start_time": "2023-02-09T12:59:35.377Z"
   },
   {
    "duration": 846,
    "start_time": "2023-02-09T12:59:43.624Z"
   },
   {
    "duration": 31,
    "start_time": "2023-02-09T12:59:44.471Z"
   },
   {
    "duration": 257,
    "start_time": "2023-02-09T12:59:44.503Z"
   },
   {
    "duration": 12,
    "start_time": "2023-02-09T12:59:44.762Z"
   },
   {
    "duration": 13,
    "start_time": "2023-02-09T12:59:44.776Z"
   },
   {
    "duration": 41,
    "start_time": "2023-02-09T13:06:18.307Z"
   },
   {
    "duration": 8,
    "start_time": "2023-02-09T13:06:23.553Z"
   },
   {
    "duration": 81351,
    "start_time": "2023-02-09T13:06:25.810Z"
   },
   {
    "duration": 50,
    "start_time": "2023-02-09T13:12:35.759Z"
   },
   {
    "duration": 12587,
    "start_time": "2023-02-09T13:12:46.285Z"
   },
   {
    "duration": 3531,
    "start_time": "2023-02-09T13:12:58.874Z"
   },
   {
    "duration": 40,
    "start_time": "2023-02-09T13:13:02.407Z"
   },
   {
    "duration": 286,
    "start_time": "2023-02-09T13:13:02.452Z"
   },
   {
    "duration": 16,
    "start_time": "2023-02-09T13:13:02.740Z"
   },
   {
    "duration": 32,
    "start_time": "2023-02-09T13:13:02.765Z"
   },
   {
    "duration": 5,
    "start_time": "2023-02-09T13:13:02.799Z"
   },
   {
    "duration": 82814,
    "start_time": "2023-02-09T13:13:02.806Z"
   },
   {
    "duration": 9,
    "start_time": "2023-02-09T13:14:25.622Z"
   },
   {
    "duration": 125,
    "start_time": "2023-02-09T13:14:25.639Z"
   },
   {
    "duration": 4,
    "start_time": "2023-02-09T13:14:25.765Z"
   },
   {
    "duration": 130,
    "start_time": "2023-02-09T13:14:25.770Z"
   },
   {
    "duration": 120,
    "start_time": "2023-02-09T13:14:25.902Z"
   },
   {
    "duration": 55,
    "start_time": "2023-02-09T13:14:26.024Z"
   },
   {
    "duration": 90,
    "start_time": "2023-02-09T13:14:26.081Z"
   },
   {
    "duration": 4226,
    "start_time": "2023-02-09T13:14:26.173Z"
   },
   {
    "duration": 1,
    "start_time": "2023-02-09T13:14:30.400Z"
   },
   {
    "duration": 0,
    "start_time": "2023-02-09T13:14:30.402Z"
   },
   {
    "duration": 0,
    "start_time": "2023-02-09T13:14:30.403Z"
   },
   {
    "duration": 0,
    "start_time": "2023-02-09T13:14:30.405Z"
   },
   {
    "duration": 0,
    "start_time": "2023-02-09T13:14:30.406Z"
   },
   {
    "duration": 4141,
    "start_time": "2023-02-09T13:19:46.212Z"
   },
   {
    "duration": 4215,
    "start_time": "2023-02-09T13:19:57.778Z"
   },
   {
    "duration": 13747,
    "start_time": "2023-02-09T13:23:07.186Z"
   },
   {
    "duration": 3720,
    "start_time": "2023-02-09T13:23:20.935Z"
   },
   {
    "duration": 35,
    "start_time": "2023-02-09T13:23:24.657Z"
   },
   {
    "duration": 264,
    "start_time": "2023-02-09T13:23:24.693Z"
   },
   {
    "duration": 11,
    "start_time": "2023-02-09T13:23:24.960Z"
   },
   {
    "duration": 33,
    "start_time": "2023-02-09T13:23:24.973Z"
   },
   {
    "duration": 34,
    "start_time": "2023-02-09T13:23:25.007Z"
   },
   {
    "duration": 82259,
    "start_time": "2023-02-09T13:23:25.043Z"
   },
   {
    "duration": 7,
    "start_time": "2023-02-09T13:24:47.304Z"
   },
   {
    "duration": 122,
    "start_time": "2023-02-09T13:24:47.313Z"
   },
   {
    "duration": 5,
    "start_time": "2023-02-09T13:24:47.436Z"
   },
   {
    "duration": 125,
    "start_time": "2023-02-09T13:24:47.443Z"
   },
   {
    "duration": 113,
    "start_time": "2023-02-09T13:24:47.570Z"
   },
   {
    "duration": 59,
    "start_time": "2023-02-09T13:24:47.684Z"
   },
   {
    "duration": 97,
    "start_time": "2023-02-09T13:24:47.745Z"
   },
   {
    "duration": 10701,
    "start_time": "2023-02-09T13:24:47.844Z"
   },
   {
    "duration": 387,
    "start_time": "2023-02-09T13:24:58.547Z"
   },
   {
    "duration": 0,
    "start_time": "2023-02-09T13:24:58.937Z"
   },
   {
    "duration": 0,
    "start_time": "2023-02-09T13:24:58.939Z"
   },
   {
    "duration": 0,
    "start_time": "2023-02-09T13:24:58.939Z"
   },
   {
    "duration": 0,
    "start_time": "2023-02-09T13:24:58.940Z"
   },
   {
    "duration": 0,
    "start_time": "2023-02-09T13:24:58.941Z"
   },
   {
    "duration": 0,
    "start_time": "2023-02-09T13:24:58.943Z"
   },
   {
    "duration": 61,
    "start_time": "2023-02-09T13:25:34.821Z"
   },
   {
    "duration": 4,
    "start_time": "2023-02-09T13:25:37.391Z"
   },
   {
    "duration": 94,
    "start_time": "2023-02-09T13:25:40.508Z"
   },
   {
    "duration": 108,
    "start_time": "2023-02-09T13:25:42.050Z"
   },
   {
    "duration": 49,
    "start_time": "2023-02-09T13:25:42.691Z"
   },
   {
    "duration": 93,
    "start_time": "2023-02-09T13:25:43.394Z"
   },
   {
    "duration": 51,
    "start_time": "2023-02-09T13:26:00.246Z"
   },
   {
    "duration": 10,
    "start_time": "2023-02-09T13:28:00.841Z"
   },
   {
    "duration": 20437,
    "start_time": "2023-02-09T13:28:07.699Z"
   },
   {
    "duration": 3468,
    "start_time": "2023-02-09T13:28:28.138Z"
   },
   {
    "duration": 33,
    "start_time": "2023-02-09T13:28:31.608Z"
   },
   {
    "duration": 265,
    "start_time": "2023-02-09T13:28:31.643Z"
   },
   {
    "duration": 10,
    "start_time": "2023-02-09T13:28:31.909Z"
   },
   {
    "duration": 56,
    "start_time": "2023-02-09T13:28:31.920Z"
   },
   {
    "duration": 7,
    "start_time": "2023-02-09T13:28:31.978Z"
   },
   {
    "duration": 83089,
    "start_time": "2023-02-09T13:28:31.987Z"
   },
   {
    "duration": 8,
    "start_time": "2023-02-09T13:29:55.077Z"
   },
   {
    "duration": 96,
    "start_time": "2023-02-09T13:29:55.088Z"
   },
   {
    "duration": 4,
    "start_time": "2023-02-09T13:29:55.185Z"
   },
   {
    "duration": 131,
    "start_time": "2023-02-09T13:29:55.190Z"
   },
   {
    "duration": 125,
    "start_time": "2023-02-09T13:29:55.323Z"
   },
   {
    "duration": 48,
    "start_time": "2023-02-09T13:29:55.450Z"
   },
   {
    "duration": 108,
    "start_time": "2023-02-09T13:29:55.500Z"
   },
   {
    "duration": 11006,
    "start_time": "2023-02-09T13:29:55.610Z"
   },
   {
    "duration": 400,
    "start_time": "2023-02-09T13:30:06.618Z"
   },
   {
    "duration": 0,
    "start_time": "2023-02-09T13:30:07.020Z"
   },
   {
    "duration": 1,
    "start_time": "2023-02-09T13:30:07.021Z"
   },
   {
    "duration": 0,
    "start_time": "2023-02-09T13:30:07.023Z"
   },
   {
    "duration": 0,
    "start_time": "2023-02-09T13:30:07.024Z"
   },
   {
    "duration": 0,
    "start_time": "2023-02-09T13:30:07.043Z"
   },
   {
    "duration": 0,
    "start_time": "2023-02-09T13:30:07.044Z"
   },
   {
    "duration": 0,
    "start_time": "2023-02-09T13:30:07.045Z"
   },
   {
    "duration": 98,
    "start_time": "2023-02-09T13:35:17.827Z"
   },
   {
    "duration": 19,
    "start_time": "2023-02-09T13:35:47.229Z"
   },
   {
    "duration": 5,
    "start_time": "2023-02-09T13:36:14.976Z"
   },
   {
    "duration": 102,
    "start_time": "2023-02-09T13:36:19.430Z"
   },
   {
    "duration": 102,
    "start_time": "2023-02-09T13:36:21.309Z"
   },
   {
    "duration": 25,
    "start_time": "2023-02-09T13:36:23.194Z"
   },
   {
    "duration": 14187,
    "start_time": "2023-02-09T13:37:59.668Z"
   },
   {
    "duration": 3593,
    "start_time": "2023-02-09T13:38:13.857Z"
   },
   {
    "duration": 34,
    "start_time": "2023-02-09T13:38:17.452Z"
   },
   {
    "duration": 259,
    "start_time": "2023-02-09T13:38:17.488Z"
   },
   {
    "duration": 14,
    "start_time": "2023-02-09T13:38:17.749Z"
   },
   {
    "duration": 38,
    "start_time": "2023-02-09T13:38:17.764Z"
   },
   {
    "duration": 7,
    "start_time": "2023-02-09T13:38:17.804Z"
   },
   {
    "duration": 81517,
    "start_time": "2023-02-09T13:38:17.813Z"
   },
   {
    "duration": 15,
    "start_time": "2023-02-09T13:39:39.332Z"
   },
   {
    "duration": 109,
    "start_time": "2023-02-09T13:39:39.350Z"
   },
   {
    "duration": 347,
    "start_time": "2023-02-09T13:39:39.460Z"
   },
   {
    "duration": 0,
    "start_time": "2023-02-09T13:39:39.808Z"
   },
   {
    "duration": 0,
    "start_time": "2023-02-09T13:39:39.810Z"
   },
   {
    "duration": 0,
    "start_time": "2023-02-09T13:39:39.811Z"
   },
   {
    "duration": 0,
    "start_time": "2023-02-09T13:39:39.812Z"
   },
   {
    "duration": 0,
    "start_time": "2023-02-09T13:39:39.813Z"
   },
   {
    "duration": 0,
    "start_time": "2023-02-09T13:39:39.814Z"
   },
   {
    "duration": 0,
    "start_time": "2023-02-09T13:39:39.814Z"
   },
   {
    "duration": 0,
    "start_time": "2023-02-09T13:39:39.815Z"
   },
   {
    "duration": 0,
    "start_time": "2023-02-09T13:39:39.816Z"
   },
   {
    "duration": 0,
    "start_time": "2023-02-09T13:39:39.817Z"
   },
   {
    "duration": 1,
    "start_time": "2023-02-09T13:39:39.818Z"
   },
   {
    "duration": 0,
    "start_time": "2023-02-09T13:39:39.819Z"
   },
   {
    "duration": 20,
    "start_time": "2023-02-09T13:49:23.457Z"
   },
   {
    "duration": 97,
    "start_time": "2023-02-09T13:49:43.440Z"
   },
   {
    "duration": 5,
    "start_time": "2023-02-09T13:49:44.134Z"
   },
   {
    "duration": 124,
    "start_time": "2023-02-09T13:49:45.593Z"
   },
   {
    "duration": 92,
    "start_time": "2023-02-09T13:49:47.464Z"
   },
   {
    "duration": 28,
    "start_time": "2023-02-09T13:49:49.102Z"
   },
   {
    "duration": 88,
    "start_time": "2023-02-09T13:49:51.286Z"
   },
   {
    "duration": 10457,
    "start_time": "2023-02-09T13:49:53.367Z"
   },
   {
    "duration": 21,
    "start_time": "2023-02-09T13:51:23.271Z"
   },
   {
    "duration": 25,
    "start_time": "2023-02-09T13:51:44.627Z"
   },
   {
    "duration": 17,
    "start_time": "2023-02-09T13:52:28.202Z"
   },
   {
    "duration": 498,
    "start_time": "2023-02-09T13:53:11.034Z"
   },
   {
    "duration": 3,
    "start_time": "2023-02-09T13:53:18.330Z"
   },
   {
    "duration": 22,
    "start_time": "2023-02-09T13:54:23.655Z"
   },
   {
    "duration": 28,
    "start_time": "2023-02-09T13:54:39.096Z"
   },
   {
    "duration": 23,
    "start_time": "2023-02-09T14:02:56.275Z"
   },
   {
    "duration": 474,
    "start_time": "2023-02-09T14:03:16.300Z"
   },
   {
    "duration": 3159,
    "start_time": "2023-02-09T14:03:17.211Z"
   },
   {
    "duration": 30,
    "start_time": "2023-02-09T14:03:20.372Z"
   },
   {
    "duration": 24,
    "start_time": "2023-02-09T14:03:20.404Z"
   },
   {
    "duration": 32,
    "start_time": "2023-02-09T14:03:31.408Z"
   },
   {
    "duration": 33,
    "start_time": "2023-02-09T14:03:35.781Z"
   },
   {
    "duration": 28,
    "start_time": "2023-02-09T14:05:44.656Z"
   },
   {
    "duration": 14,
    "start_time": "2023-02-09T14:06:06.555Z"
   },
   {
    "duration": 235,
    "start_time": "2023-02-09T14:06:10.656Z"
   },
   {
    "duration": 8,
    "start_time": "2023-02-09T14:06:12.483Z"
   },
   {
    "duration": 34,
    "start_time": "2023-02-09T14:06:14.553Z"
   },
   {
    "duration": 39,
    "start_time": "2023-02-09T14:06:42.476Z"
   },
   {
    "duration": 1554,
    "start_time": "2023-02-09T14:28:25.458Z"
   },
   {
    "duration": 11435,
    "start_time": "2023-02-09T14:28:32.228Z"
   },
   {
    "duration": 3383,
    "start_time": "2023-02-09T14:28:43.665Z"
   },
   {
    "duration": 29,
    "start_time": "2023-02-09T14:28:47.050Z"
   },
   {
    "duration": 12,
    "start_time": "2023-02-09T14:28:47.081Z"
   },
   {
    "duration": 242,
    "start_time": "2023-02-09T14:28:47.095Z"
   },
   {
    "duration": 11,
    "start_time": "2023-02-09T14:28:47.338Z"
   },
   {
    "duration": 33,
    "start_time": "2023-02-09T14:28:47.351Z"
   },
   {
    "duration": 75855,
    "start_time": "2023-02-09T14:28:47.386Z"
   },
   {
    "duration": 7,
    "start_time": "2023-02-09T14:30:03.243Z"
   },
   {
    "duration": 97,
    "start_time": "2023-02-09T14:30:03.252Z"
   },
   {
    "duration": 4,
    "start_time": "2023-02-09T14:30:03.351Z"
   },
   {
    "duration": 123,
    "start_time": "2023-02-09T14:30:03.356Z"
   },
   {
    "duration": 103,
    "start_time": "2023-02-09T14:30:03.480Z"
   },
   {
    "duration": 29,
    "start_time": "2023-02-09T14:30:03.585Z"
   },
   {
    "duration": 92,
    "start_time": "2023-02-09T14:30:03.616Z"
   },
   {
    "duration": 9913,
    "start_time": "2023-02-09T14:30:03.710Z"
   },
   {
    "duration": 3,
    "start_time": "2023-02-09T14:30:13.625Z"
   },
   {
    "duration": 328,
    "start_time": "2023-02-09T14:30:13.629Z"
   },
   {
    "duration": 0,
    "start_time": "2023-02-09T14:30:13.959Z"
   },
   {
    "duration": 0,
    "start_time": "2023-02-09T14:30:13.960Z"
   },
   {
    "duration": 0,
    "start_time": "2023-02-09T14:30:13.961Z"
   },
   {
    "duration": 0,
    "start_time": "2023-02-09T14:30:13.962Z"
   },
   {
    "duration": 0,
    "start_time": "2023-02-09T14:30:13.963Z"
   },
   {
    "duration": 0,
    "start_time": "2023-02-09T14:30:13.963Z"
   },
   {
    "duration": 0,
    "start_time": "2023-02-09T14:30:13.964Z"
   },
   {
    "duration": 24,
    "start_time": "2023-02-09T14:30:48.081Z"
   },
   {
    "duration": 42,
    "start_time": "2023-02-09T14:35:27.085Z"
   },
   {
    "duration": 82,
    "start_time": "2023-02-09T14:35:29.129Z"
   },
   {
    "duration": 4,
    "start_time": "2023-02-09T14:36:41.054Z"
   },
   {
    "duration": 12542,
    "start_time": "2023-02-09T14:38:21.564Z"
   },
   {
    "duration": 3361,
    "start_time": "2023-02-09T14:38:34.108Z"
   },
   {
    "duration": 31,
    "start_time": "2023-02-09T14:38:37.471Z"
   },
   {
    "duration": 13,
    "start_time": "2023-02-09T14:38:37.504Z"
   },
   {
    "duration": 234,
    "start_time": "2023-02-09T14:38:37.518Z"
   },
   {
    "duration": 9,
    "start_time": "2023-02-09T14:38:37.754Z"
   },
   {
    "duration": 30,
    "start_time": "2023-02-09T14:38:37.764Z"
   },
   {
    "duration": 75651,
    "start_time": "2023-02-09T14:38:37.796Z"
   },
   {
    "duration": 7,
    "start_time": "2023-02-09T14:39:53.449Z"
   },
   {
    "duration": 73,
    "start_time": "2023-02-09T14:39:53.458Z"
   },
   {
    "duration": 6,
    "start_time": "2023-02-09T14:39:53.532Z"
   },
   {
    "duration": 123,
    "start_time": "2023-02-09T14:39:53.540Z"
   },
   {
    "duration": 102,
    "start_time": "2023-02-09T14:39:53.664Z"
   },
   {
    "duration": 88,
    "start_time": "2023-02-09T14:39:53.767Z"
   },
   {
    "duration": 316,
    "start_time": "2023-02-09T14:39:53.856Z"
   },
   {
    "duration": 0,
    "start_time": "2023-02-09T14:39:54.174Z"
   },
   {
    "duration": 0,
    "start_time": "2023-02-09T14:39:54.175Z"
   },
   {
    "duration": 0,
    "start_time": "2023-02-09T14:39:54.176Z"
   },
   {
    "duration": 0,
    "start_time": "2023-02-09T14:39:54.177Z"
   },
   {
    "duration": 1,
    "start_time": "2023-02-09T14:39:54.178Z"
   },
   {
    "duration": 0,
    "start_time": "2023-02-09T14:39:54.179Z"
   },
   {
    "duration": 0,
    "start_time": "2023-02-09T14:39:54.180Z"
   },
   {
    "duration": 0,
    "start_time": "2023-02-09T14:39:54.182Z"
   },
   {
    "duration": 0,
    "start_time": "2023-02-09T14:39:54.183Z"
   },
   {
    "duration": 0,
    "start_time": "2023-02-09T14:39:54.184Z"
   },
   {
    "duration": 0,
    "start_time": "2023-02-09T14:39:54.185Z"
   },
   {
    "duration": 0,
    "start_time": "2023-02-09T14:39:54.186Z"
   },
   {
    "duration": 80,
    "start_time": "2023-02-09T14:52:11.770Z"
   },
   {
    "duration": 5,
    "start_time": "2023-02-09T14:52:17.172Z"
   },
   {
    "duration": 1478,
    "start_time": "2023-02-09T14:52:18.147Z"
   },
   {
    "duration": 6072,
    "start_time": "2023-02-09T14:52:19.627Z"
   },
   {
    "duration": 19,
    "start_time": "2023-02-09T14:52:25.701Z"
   },
   {
    "duration": 0,
    "start_time": "2023-02-09T14:52:25.722Z"
   },
   {
    "duration": 506,
    "start_time": "2023-02-09T14:53:45.761Z"
   },
   {
    "duration": 1995,
    "start_time": "2023-02-09T14:53:51.521Z"
   },
   {
    "duration": 66856,
    "start_time": "2023-02-09T14:56:36.623Z"
   },
   {
    "duration": 26,
    "start_time": "2023-02-09T14:57:43.481Z"
   },
   {
    "duration": 82048,
    "start_time": "2023-02-09T14:58:02.093Z"
   },
   {
    "duration": 22,
    "start_time": "2023-02-09T14:59:24.143Z"
   },
   {
    "duration": 0,
    "start_time": "2023-02-09T14:59:24.166Z"
   },
   {
    "duration": 0,
    "start_time": "2023-02-09T14:59:24.167Z"
   },
   {
    "duration": 0,
    "start_time": "2023-02-09T14:59:24.168Z"
   },
   {
    "duration": 51,
    "start_time": "2023-02-09T15:00:15.947Z"
   },
   {
    "duration": 12722,
    "start_time": "2023-02-09T15:00:22.253Z"
   },
   {
    "duration": 3839,
    "start_time": "2023-02-09T15:00:34.977Z"
   },
   {
    "duration": 31,
    "start_time": "2023-02-09T15:00:38.818Z"
   },
   {
    "duration": 21,
    "start_time": "2023-02-09T15:00:38.852Z"
   },
   {
    "duration": 255,
    "start_time": "2023-02-09T15:00:38.875Z"
   },
   {
    "duration": 12,
    "start_time": "2023-02-09T15:00:39.132Z"
   },
   {
    "duration": 33,
    "start_time": "2023-02-09T15:00:39.146Z"
   },
   {
    "duration": 78285,
    "start_time": "2023-02-09T15:00:39.181Z"
   },
   {
    "duration": 9,
    "start_time": "2023-02-09T15:01:57.468Z"
   },
   {
    "duration": 95,
    "start_time": "2023-02-09T15:01:57.480Z"
   },
   {
    "duration": 4,
    "start_time": "2023-02-09T15:01:57.576Z"
   },
   {
    "duration": 129,
    "start_time": "2023-02-09T15:01:57.582Z"
   },
   {
    "duration": 115,
    "start_time": "2023-02-09T15:01:57.712Z"
   },
   {
    "duration": 89,
    "start_time": "2023-02-09T15:01:57.829Z"
   },
   {
    "duration": 98,
    "start_time": "2023-02-09T15:01:57.920Z"
   },
   {
    "duration": 4,
    "start_time": "2023-02-09T15:01:58.020Z"
   },
   {
    "duration": 1500,
    "start_time": "2023-02-09T15:01:58.037Z"
   },
   {
    "duration": 6193,
    "start_time": "2023-02-09T15:01:59.538Z"
   },
   {
    "duration": 552,
    "start_time": "2023-02-09T15:02:05.733Z"
   },
   {
    "duration": 2226,
    "start_time": "2023-02-09T15:02:06.287Z"
   },
   {
    "duration": 65411,
    "start_time": "2023-02-09T15:02:08.515Z"
   },
   {
    "duration": 83021,
    "start_time": "2023-02-09T15:03:13.927Z"
   },
   {
    "duration": 7342,
    "start_time": "2023-02-10T07:14:34.596Z"
   },
   {
    "duration": 2368,
    "start_time": "2023-02-10T07:14:41.940Z"
   },
   {
    "duration": 32,
    "start_time": "2023-02-10T07:14:44.309Z"
   },
   {
    "duration": 12,
    "start_time": "2023-02-10T07:14:44.343Z"
   },
   {
    "duration": 234,
    "start_time": "2023-02-10T07:14:44.357Z"
   },
   {
    "duration": 11,
    "start_time": "2023-02-10T07:14:44.593Z"
   },
   {
    "duration": 39,
    "start_time": "2023-02-10T07:14:44.606Z"
   },
   {
    "duration": 81582,
    "start_time": "2023-02-10T07:14:44.647Z"
   },
   {
    "duration": 9,
    "start_time": "2023-02-10T07:16:06.231Z"
   },
   {
    "duration": 71,
    "start_time": "2023-02-10T07:16:06.243Z"
   },
   {
    "duration": 3,
    "start_time": "2023-02-10T07:16:06.316Z"
   },
   {
    "duration": 127,
    "start_time": "2023-02-10T07:16:06.320Z"
   },
   {
    "duration": 128,
    "start_time": "2023-02-10T07:16:06.449Z"
   },
   {
    "duration": 88,
    "start_time": "2023-02-10T07:16:06.578Z"
   },
   {
    "duration": 93,
    "start_time": "2023-02-10T07:16:06.668Z"
   },
   {
    "duration": 6,
    "start_time": "2023-02-10T07:16:06.762Z"
   },
   {
    "duration": 1534,
    "start_time": "2023-02-10T07:16:06.770Z"
   },
   {
    "duration": 6111,
    "start_time": "2023-02-10T07:16:08.306Z"
   },
   {
    "duration": 500,
    "start_time": "2023-02-10T07:16:14.419Z"
   },
   {
    "duration": 2096,
    "start_time": "2023-02-10T07:16:14.921Z"
   },
   {
    "duration": 59517,
    "start_time": "2023-02-10T07:16:17.019Z"
   },
   {
    "duration": 83666,
    "start_time": "2023-02-10T07:17:16.539Z"
   },
   {
    "duration": 47,
    "start_time": "2023-02-10T07:23:09.630Z"
   },
   {
    "duration": 7154,
    "start_time": "2023-02-10T07:23:15.821Z"
   },
   {
    "duration": 2430,
    "start_time": "2023-02-10T07:23:22.977Z"
   },
   {
    "duration": 31,
    "start_time": "2023-02-10T07:23:25.409Z"
   },
   {
    "duration": 13,
    "start_time": "2023-02-10T07:23:25.442Z"
   },
   {
    "duration": 250,
    "start_time": "2023-02-10T07:23:25.456Z"
   },
   {
    "duration": 9,
    "start_time": "2023-02-10T07:23:25.708Z"
   },
   {
    "duration": 37,
    "start_time": "2023-02-10T07:23:25.719Z"
   },
   {
    "duration": 85858,
    "start_time": "2023-02-10T07:23:25.758Z"
   },
   {
    "duration": 9,
    "start_time": "2023-02-10T07:24:51.617Z"
   },
   {
    "duration": 93,
    "start_time": "2023-02-10T07:24:51.628Z"
   },
   {
    "duration": 5,
    "start_time": "2023-02-10T07:24:51.723Z"
   },
   {
    "duration": 154,
    "start_time": "2023-02-10T07:24:51.729Z"
   },
   {
    "duration": 115,
    "start_time": "2023-02-10T07:24:51.885Z"
   },
   {
    "duration": 110,
    "start_time": "2023-02-10T07:24:52.002Z"
   },
   {
    "duration": 98,
    "start_time": "2023-02-10T07:24:52.114Z"
   },
   {
    "duration": 98,
    "start_time": "2023-02-10T07:24:52.213Z"
   },
   {
    "duration": 9,
    "start_time": "2023-02-10T07:24:52.313Z"
   },
   {
    "duration": 1642,
    "start_time": "2023-02-10T07:24:52.324Z"
   },
   {
    "duration": 6452,
    "start_time": "2023-02-10T07:24:53.968Z"
   },
   {
    "duration": 523,
    "start_time": "2023-02-10T07:25:00.422Z"
   },
   {
    "duration": 2114,
    "start_time": "2023-02-10T07:25:00.947Z"
   },
   {
    "duration": 66730,
    "start_time": "2023-02-10T07:25:03.063Z"
   },
   {
    "duration": 91117,
    "start_time": "2023-02-10T07:26:09.795Z"
   },
   {
    "duration": 8953,
    "start_time": "2023-02-10T07:38:23.321Z"
   },
   {
    "duration": 3057,
    "start_time": "2023-02-10T07:38:32.276Z"
   },
   {
    "duration": 31,
    "start_time": "2023-02-10T07:38:35.337Z"
   },
   {
    "duration": 17,
    "start_time": "2023-02-10T07:38:35.370Z"
   },
   {
    "duration": 279,
    "start_time": "2023-02-10T07:38:35.389Z"
   },
   {
    "duration": 10,
    "start_time": "2023-02-10T07:38:35.670Z"
   },
   {
    "duration": 63,
    "start_time": "2023-02-10T07:38:35.682Z"
   },
   {
    "duration": 101334,
    "start_time": "2023-02-10T07:38:35.747Z"
   },
   {
    "duration": 18,
    "start_time": "2023-02-10T07:40:17.084Z"
   },
   {
    "duration": 74,
    "start_time": "2023-02-10T07:40:17.105Z"
   },
   {
    "duration": 5,
    "start_time": "2023-02-10T07:40:17.181Z"
   },
   {
    "duration": 161,
    "start_time": "2023-02-10T07:40:17.188Z"
   },
   {
    "duration": 150,
    "start_time": "2023-02-10T07:40:17.351Z"
   },
   {
    "duration": 90,
    "start_time": "2023-02-10T07:40:17.509Z"
   },
   {
    "duration": 121,
    "start_time": "2023-02-10T07:40:17.604Z"
   },
   {
    "duration": 7,
    "start_time": "2023-02-10T07:40:17.727Z"
   },
   {
    "duration": 1618,
    "start_time": "2023-02-10T07:40:17.737Z"
   },
   {
    "duration": 7378,
    "start_time": "2023-02-10T07:40:19.357Z"
   },
   {
    "duration": 535,
    "start_time": "2023-02-10T07:40:26.737Z"
   },
   {
    "duration": 2355,
    "start_time": "2023-02-10T07:40:27.274Z"
   },
   {
    "duration": 72783,
    "start_time": "2023-02-10T07:40:29.631Z"
   },
   {
    "duration": 49,
    "start_time": "2023-02-10T07:43:29.925Z"
   },
   {
    "duration": 8772,
    "start_time": "2023-02-10T07:43:40.686Z"
   },
   {
    "duration": 350,
    "start_time": "2023-02-10T07:43:50.882Z"
   },
   {
    "duration": 5973,
    "start_time": "2023-02-10T07:44:12.959Z"
   },
   {
    "duration": 2885,
    "start_time": "2023-02-10T07:44:18.935Z"
   },
   {
    "duration": 38,
    "start_time": "2023-02-10T07:44:21.823Z"
   },
   {
    "duration": 17,
    "start_time": "2023-02-10T07:44:21.865Z"
   },
   {
    "duration": 325,
    "start_time": "2023-02-10T07:44:21.884Z"
   },
   {
    "duration": 12,
    "start_time": "2023-02-10T07:44:22.215Z"
   },
   {
    "duration": 38,
    "start_time": "2023-02-10T07:44:22.229Z"
   },
   {
    "duration": 93615,
    "start_time": "2023-02-10T07:44:22.269Z"
   },
   {
    "duration": 10,
    "start_time": "2023-02-10T07:45:55.886Z"
   },
   {
    "duration": 95,
    "start_time": "2023-02-10T07:45:55.899Z"
   },
   {
    "duration": 5,
    "start_time": "2023-02-10T07:45:55.996Z"
   },
   {
    "duration": 178,
    "start_time": "2023-02-10T07:45:56.003Z"
   },
   {
    "duration": 149,
    "start_time": "2023-02-10T07:45:56.183Z"
   },
   {
    "duration": 99,
    "start_time": "2023-02-10T07:45:56.334Z"
   },
   {
    "duration": 87,
    "start_time": "2023-02-10T07:45:56.435Z"
   },
   {
    "duration": 7,
    "start_time": "2023-02-10T07:45:56.524Z"
   },
   {
    "duration": 1785,
    "start_time": "2023-02-10T07:45:56.533Z"
   },
   {
    "duration": 6963,
    "start_time": "2023-02-10T07:45:58.320Z"
   },
   {
    "duration": 522,
    "start_time": "2023-02-10T07:46:05.292Z"
   },
   {
    "duration": 2249,
    "start_time": "2023-02-10T07:46:05.817Z"
   },
   {
    "duration": 66486,
    "start_time": "2023-02-10T07:46:08.068Z"
   },
   {
    "duration": 92462,
    "start_time": "2023-02-10T07:47:14.556Z"
   },
   {
    "duration": 59,
    "start_time": "2023-02-10T07:51:28.019Z"
   },
   {
    "duration": 8582,
    "start_time": "2023-02-10T07:51:36.419Z"
   },
   {
    "duration": 2986,
    "start_time": "2023-02-10T07:51:45.008Z"
   },
   {
    "duration": 35,
    "start_time": "2023-02-10T07:51:47.998Z"
   },
   {
    "duration": 17,
    "start_time": "2023-02-10T07:51:48.038Z"
   },
   {
    "duration": 293,
    "start_time": "2023-02-10T07:51:48.057Z"
   },
   {
    "duration": 12,
    "start_time": "2023-02-10T07:51:48.353Z"
   },
   {
    "duration": 51,
    "start_time": "2023-02-10T07:51:48.366Z"
   },
   {
    "duration": 97190,
    "start_time": "2023-02-10T07:51:48.419Z"
   },
   {
    "duration": 8,
    "start_time": "2023-02-10T07:53:25.611Z"
   },
   {
    "duration": 84,
    "start_time": "2023-02-10T07:53:25.622Z"
   },
   {
    "duration": 6,
    "start_time": "2023-02-10T07:53:25.711Z"
   },
   {
    "duration": 154,
    "start_time": "2023-02-10T07:53:25.718Z"
   },
   {
    "duration": 134,
    "start_time": "2023-02-10T07:53:25.874Z"
   },
   {
    "duration": 493,
    "start_time": "2023-02-10T07:53:26.011Z"
   },
   {
    "duration": 0,
    "start_time": "2023-02-10T07:53:26.508Z"
   },
   {
    "duration": 0,
    "start_time": "2023-02-10T07:53:26.509Z"
   },
   {
    "duration": 0,
    "start_time": "2023-02-10T07:53:26.510Z"
   },
   {
    "duration": 0,
    "start_time": "2023-02-10T07:53:26.511Z"
   },
   {
    "duration": 0,
    "start_time": "2023-02-10T07:53:26.512Z"
   },
   {
    "duration": 0,
    "start_time": "2023-02-10T07:53:26.513Z"
   },
   {
    "duration": 0,
    "start_time": "2023-02-10T07:53:26.514Z"
   },
   {
    "duration": 0,
    "start_time": "2023-02-10T07:53:26.515Z"
   },
   {
    "duration": 0,
    "start_time": "2023-02-10T07:53:26.516Z"
   },
   {
    "duration": 0,
    "start_time": "2023-02-10T07:53:26.517Z"
   },
   {
    "duration": 0,
    "start_time": "2023-02-10T07:53:26.518Z"
   },
   {
    "duration": 0,
    "start_time": "2023-02-10T07:53:26.519Z"
   },
   {
    "duration": 0,
    "start_time": "2023-02-10T07:53:26.520Z"
   },
   {
    "duration": 87,
    "start_time": "2023-02-10T07:54:02.029Z"
   },
   {
    "duration": 119,
    "start_time": "2023-02-10T07:54:04.580Z"
   },
   {
    "duration": 7,
    "start_time": "2023-02-10T07:54:08.435Z"
   },
   {
    "duration": 1599,
    "start_time": "2023-02-10T07:54:09.355Z"
   },
   {
    "duration": 7162,
    "start_time": "2023-02-10T07:54:10.956Z"
   },
   {
    "duration": 590,
    "start_time": "2023-02-10T07:54:18.121Z"
   },
   {
    "duration": 2500,
    "start_time": "2023-02-10T07:54:18.713Z"
   },
   {
    "duration": 72762,
    "start_time": "2023-02-10T07:54:26.660Z"
   },
   {
    "duration": 92709,
    "start_time": "2023-02-10T07:55:39.425Z"
   },
   {
    "duration": 29,
    "start_time": "2023-02-10T07:57:12.194Z"
   },
   {
    "duration": 0,
    "start_time": "2023-02-10T07:57:12.224Z"
   },
   {
    "duration": 66,
    "start_time": "2023-02-10T08:00:10.710Z"
   },
   {
    "duration": 7614,
    "start_time": "2023-02-10T08:00:19.984Z"
   },
   {
    "duration": 2435,
    "start_time": "2023-02-10T08:00:27.600Z"
   },
   {
    "duration": 31,
    "start_time": "2023-02-10T08:00:30.037Z"
   },
   {
    "duration": 30,
    "start_time": "2023-02-10T08:00:30.070Z"
   },
   {
    "duration": 270,
    "start_time": "2023-02-10T08:00:30.102Z"
   },
   {
    "duration": 19,
    "start_time": "2023-02-10T08:00:30.374Z"
   },
   {
    "duration": 39,
    "start_time": "2023-02-10T08:00:30.395Z"
   },
   {
    "duration": 87267,
    "start_time": "2023-02-10T08:00:30.435Z"
   },
   {
    "duration": 9,
    "start_time": "2023-02-10T08:01:57.711Z"
   },
   {
    "duration": 63,
    "start_time": "2023-02-10T08:01:57.724Z"
   },
   {
    "duration": 8,
    "start_time": "2023-02-10T08:01:57.788Z"
   },
   {
    "duration": 187,
    "start_time": "2023-02-10T08:01:57.798Z"
   },
   {
    "duration": 130,
    "start_time": "2023-02-10T08:01:57.987Z"
   },
   {
    "duration": 93,
    "start_time": "2023-02-10T08:01:58.119Z"
   },
   {
    "duration": 105,
    "start_time": "2023-02-10T08:01:58.215Z"
   },
   {
    "duration": 8,
    "start_time": "2023-02-10T08:01:58.321Z"
   },
   {
    "duration": 1614,
    "start_time": "2023-02-10T08:01:58.331Z"
   },
   {
    "duration": 7109,
    "start_time": "2023-02-10T08:01:59.947Z"
   },
   {
    "duration": 545,
    "start_time": "2023-02-10T08:02:07.058Z"
   },
   {
    "duration": 2386,
    "start_time": "2023-02-10T08:02:07.606Z"
   },
   {
    "duration": 73255,
    "start_time": "2023-02-10T08:02:09.994Z"
   },
   {
    "duration": 89380,
    "start_time": "2023-02-10T08:03:23.251Z"
   },
   {
    "duration": 9119,
    "start_time": "2023-02-10T08:05:46.727Z"
   },
   {
    "duration": 2927,
    "start_time": "2023-02-10T08:05:55.848Z"
   },
   {
    "duration": 41,
    "start_time": "2023-02-10T08:05:58.777Z"
   },
   {
    "duration": 20,
    "start_time": "2023-02-10T08:05:58.820Z"
   },
   {
    "duration": 292,
    "start_time": "2023-02-10T08:05:58.842Z"
   },
   {
    "duration": 12,
    "start_time": "2023-02-10T08:05:59.136Z"
   },
   {
    "duration": 61,
    "start_time": "2023-02-10T08:05:59.150Z"
   },
   {
    "duration": 95248,
    "start_time": "2023-02-10T08:05:59.215Z"
   },
   {
    "duration": 9,
    "start_time": "2023-02-10T08:07:34.464Z"
   },
   {
    "duration": 73,
    "start_time": "2023-02-10T08:07:34.476Z"
   },
   {
    "duration": 5,
    "start_time": "2023-02-10T08:07:34.551Z"
   },
   {
    "duration": 164,
    "start_time": "2023-02-10T08:07:34.557Z"
   },
   {
    "duration": 138,
    "start_time": "2023-02-10T08:07:34.724Z"
   },
   {
    "duration": 115,
    "start_time": "2023-02-10T08:07:34.864Z"
   },
   {
    "duration": 132,
    "start_time": "2023-02-10T08:07:34.982Z"
   },
   {
    "duration": 8,
    "start_time": "2023-02-10T08:07:35.116Z"
   },
   {
    "duration": 1672,
    "start_time": "2023-02-10T08:07:35.126Z"
   },
   {
    "duration": 7192,
    "start_time": "2023-02-10T08:07:36.800Z"
   },
   {
    "duration": 525,
    "start_time": "2023-02-10T08:07:43.994Z"
   },
   {
    "duration": 2525,
    "start_time": "2023-02-10T08:07:44.521Z"
   },
   {
    "duration": 78183,
    "start_time": "2023-02-10T08:07:47.047Z"
   },
   {
    "duration": 94582,
    "start_time": "2023-02-10T08:09:05.232Z"
   },
   {
    "duration": 6186,
    "start_time": "2023-02-10T08:10:39.818Z"
   },
   {
    "duration": 22,
    "start_time": "2023-02-10T08:15:36.758Z"
   },
   {
    "duration": 131,
    "start_time": "2023-02-10T08:16:41.206Z"
   },
   {
    "duration": 24,
    "start_time": "2023-02-10T08:22:18.896Z"
   },
   {
    "duration": 28,
    "start_time": "2023-02-10T08:22:28.278Z"
   },
   {
    "duration": 73,
    "start_time": "2023-02-10T08:24:43.182Z"
   },
   {
    "duration": 4897,
    "start_time": "2023-02-10T08:27:13.402Z"
   },
   {
    "duration": 3172,
    "start_time": "2023-02-10T08:27:18.300Z"
   },
   {
    "duration": 46,
    "start_time": "2023-02-10T08:27:21.475Z"
   },
   {
    "duration": 21,
    "start_time": "2023-02-10T08:27:21.524Z"
   },
   {
    "duration": 302,
    "start_time": "2023-02-10T08:27:21.547Z"
   },
   {
    "duration": 17,
    "start_time": "2023-02-10T08:27:21.851Z"
   },
   {
    "duration": 89,
    "start_time": "2023-02-10T08:27:21.871Z"
   },
   {
    "duration": 100052,
    "start_time": "2023-02-10T08:27:21.962Z"
   },
   {
    "duration": 24,
    "start_time": "2023-02-10T08:29:02.017Z"
   },
   {
    "duration": 93,
    "start_time": "2023-02-10T08:29:02.044Z"
   },
   {
    "duration": 4,
    "start_time": "2023-02-10T08:29:02.139Z"
   },
   {
    "duration": 364,
    "start_time": "2023-02-10T08:29:02.144Z"
   },
   {
    "duration": 140,
    "start_time": "2023-02-10T08:29:02.510Z"
   },
   {
    "duration": 116,
    "start_time": "2023-02-10T08:29:02.653Z"
   },
   {
    "duration": 123,
    "start_time": "2023-02-10T08:29:02.771Z"
   },
   {
    "duration": 21,
    "start_time": "2023-02-10T08:29:02.903Z"
   },
   {
    "duration": 1640,
    "start_time": "2023-02-10T08:29:02.927Z"
   },
   {
    "duration": 7868,
    "start_time": "2023-02-10T08:29:04.569Z"
   },
   {
    "duration": 586,
    "start_time": "2023-02-10T08:29:12.439Z"
   },
   {
    "duration": 3494,
    "start_time": "2023-02-10T08:29:13.030Z"
   },
   {
    "duration": 79233,
    "start_time": "2023-02-10T08:29:16.526Z"
   },
   {
    "duration": 93397,
    "start_time": "2023-02-10T08:30:35.761Z"
   },
   {
    "duration": 75,
    "start_time": "2023-02-10T08:33:33.187Z"
   },
   {
    "duration": 4356,
    "start_time": "2023-02-10T08:33:40.813Z"
   },
   {
    "duration": 2698,
    "start_time": "2023-02-10T08:33:45.171Z"
   },
   {
    "duration": 47,
    "start_time": "2023-02-10T08:33:47.871Z"
   },
   {
    "duration": 15,
    "start_time": "2023-02-10T08:33:47.925Z"
   },
   {
    "duration": 274,
    "start_time": "2023-02-10T08:33:47.942Z"
   },
   {
    "duration": 11,
    "start_time": "2023-02-10T08:33:48.218Z"
   },
   {
    "duration": 39,
    "start_time": "2023-02-10T08:33:48.231Z"
   },
   {
    "duration": 142,
    "start_time": "2023-02-10T08:34:02.246Z"
   },
   {
    "duration": 6,
    "start_time": "2023-02-10T08:34:16.009Z"
   },
   {
    "duration": 927,
    "start_time": "2023-02-10T08:34:16.201Z"
   },
   {
    "duration": 31,
    "start_time": "2023-02-10T08:34:17.130Z"
   },
   {
    "duration": 15,
    "start_time": "2023-02-10T08:34:17.163Z"
   },
   {
    "duration": 273,
    "start_time": "2023-02-10T08:34:17.180Z"
   },
   {
    "duration": 6,
    "start_time": "2023-02-10T08:34:17.455Z"
   },
   {
    "duration": 52,
    "start_time": "2023-02-10T08:34:17.463Z"
   },
   {
    "duration": 92036,
    "start_time": "2023-02-10T08:34:17.518Z"
   },
   {
    "duration": 10,
    "start_time": "2023-02-10T08:35:49.555Z"
   },
   {
    "duration": 82,
    "start_time": "2023-02-10T08:35:49.568Z"
   },
   {
    "duration": 4,
    "start_time": "2023-02-10T08:35:49.651Z"
   },
   {
    "duration": 131,
    "start_time": "2023-02-10T08:35:49.657Z"
   },
   {
    "duration": 130,
    "start_time": "2023-02-10T08:35:49.790Z"
   },
   {
    "duration": 108,
    "start_time": "2023-02-10T08:35:49.923Z"
   },
   {
    "duration": 101,
    "start_time": "2023-02-10T08:35:50.034Z"
   },
   {
    "duration": 7,
    "start_time": "2023-02-10T08:35:50.136Z"
   },
   {
    "duration": 1654,
    "start_time": "2023-02-10T08:35:50.144Z"
   },
   {
    "duration": 7223,
    "start_time": "2023-02-10T08:35:51.800Z"
   },
   {
    "duration": 510,
    "start_time": "2023-02-10T08:35:59.025Z"
   },
   {
    "duration": 2333,
    "start_time": "2023-02-10T08:35:59.537Z"
   },
   {
    "duration": 71963,
    "start_time": "2023-02-10T08:36:01.873Z"
   },
   {
    "duration": 90188,
    "start_time": "2023-02-10T08:37:13.838Z"
   },
   {
    "duration": 2745,
    "start_time": "2023-02-10T10:39:54.176Z"
   },
   {
    "duration": 6,
    "start_time": "2023-02-10T10:41:06.229Z"
   },
   {
    "duration": 2460,
    "start_time": "2023-02-10T10:41:16.757Z"
   },
   {
    "duration": 31,
    "start_time": "2023-02-10T10:41:19.219Z"
   },
   {
    "duration": 13,
    "start_time": "2023-02-10T10:41:21.690Z"
   },
   {
    "duration": 252,
    "start_time": "2023-02-10T10:41:23.618Z"
   },
   {
    "duration": 14,
    "start_time": "2023-02-10T10:41:27.878Z"
   },
   {
    "duration": 31,
    "start_time": "2023-02-10T10:41:29.590Z"
   },
   {
    "duration": 48,
    "start_time": "2023-02-10T10:43:23.709Z"
   },
   {
    "duration": 50,
    "start_time": "2023-02-10T10:43:28.111Z"
   },
   {
    "duration": 5,
    "start_time": "2023-02-10T10:44:53.452Z"
   },
   {
    "duration": 636,
    "start_time": "2023-02-10T10:45:00.146Z"
   },
   {
    "duration": 4,
    "start_time": "2023-02-10T10:45:21.116Z"
   },
   {
    "duration": 90524,
    "start_time": "2023-02-10T10:45:27.696Z"
   },
   {
    "duration": 6,
    "start_time": "2023-02-10T10:48:04.582Z"
   },
   {
    "duration": 43,
    "start_time": "2023-02-10T10:50:41.750Z"
   },
   {
    "duration": 234,
    "start_time": "2023-02-10T10:50:52.707Z"
   },
   {
    "duration": 270,
    "start_time": "2023-02-10T10:53:19.045Z"
   },
   {
    "duration": 853,
    "start_time": "2023-02-10T10:53:31.006Z"
   },
   {
    "duration": 30,
    "start_time": "2023-02-10T10:53:31.861Z"
   },
   {
    "duration": 12,
    "start_time": "2023-02-10T10:53:31.893Z"
   },
   {
    "duration": 254,
    "start_time": "2023-02-10T10:53:31.907Z"
   },
   {
    "duration": 7,
    "start_time": "2023-02-10T10:53:32.163Z"
   },
   {
    "duration": 30,
    "start_time": "2023-02-10T10:53:34.184Z"
   },
   {
    "duration": 335,
    "start_time": "2023-02-10T10:53:37.707Z"
   },
   {
    "duration": 15,
    "start_time": "2023-02-10T10:56:31.226Z"
   },
   {
    "duration": 15,
    "start_time": "2023-02-10T10:57:08.948Z"
   },
   {
    "duration": 23,
    "start_time": "2023-02-10T10:58:16.223Z"
   },
   {
    "duration": 285,
    "start_time": "2023-02-10T10:59:19.128Z"
   },
   {
    "duration": 281,
    "start_time": "2023-02-10T11:02:51.957Z"
   },
   {
    "duration": 89168,
    "start_time": "2023-02-10T11:03:19.493Z"
   },
   {
    "duration": 101,
    "start_time": "2023-02-10T11:10:20.981Z"
   },
   {
    "duration": 3,
    "start_time": "2023-02-10T11:10:23.264Z"
   },
   {
    "duration": 137,
    "start_time": "2023-02-10T11:10:44.906Z"
   },
   {
    "duration": 103,
    "start_time": "2023-02-10T11:11:09.370Z"
   },
   {
    "duration": 103,
    "start_time": "2023-02-10T11:11:15.576Z"
   },
   {
    "duration": 12,
    "start_time": "2023-02-10T11:11:26.730Z"
   },
   {
    "duration": 105,
    "start_time": "2023-02-10T11:11:42.684Z"
   },
   {
    "duration": 112,
    "start_time": "2023-02-10T11:11:46.328Z"
   },
   {
    "duration": 91,
    "start_time": "2023-02-10T11:11:51.309Z"
   },
   {
    "duration": 90,
    "start_time": "2023-02-10T11:11:53.213Z"
   },
   {
    "duration": 4,
    "start_time": "2023-02-10T11:13:01.563Z"
   },
   {
    "duration": 4,
    "start_time": "2023-02-10T11:13:04.148Z"
   },
   {
    "duration": 4,
    "start_time": "2023-02-10T11:13:49.359Z"
   },
   {
    "duration": 5224,
    "start_time": "2023-02-10T11:13:54.158Z"
   },
   {
    "duration": 5,
    "start_time": "2023-02-10T11:14:51.061Z"
   },
   {
    "duration": 52,
    "start_time": "2023-02-10T11:17:15.140Z"
   },
   {
    "duration": 4,
    "start_time": "2023-02-10T11:17:23.045Z"
   },
   {
    "duration": 4,
    "start_time": "2023-02-10T11:17:23.927Z"
   },
   {
    "duration": 5048,
    "start_time": "2023-02-10T11:17:28.562Z"
   },
   {
    "duration": 5,
    "start_time": "2023-02-10T11:18:22.845Z"
   },
   {
    "duration": 1717,
    "start_time": "2023-02-10T11:22:28.232Z"
   },
   {
    "duration": 74080,
    "start_time": "2023-02-10T11:22:55.201Z"
   },
   {
    "duration": 20,
    "start_time": "2023-02-10T11:24:39.853Z"
   },
   {
    "duration": 809,
    "start_time": "2023-02-10T11:33:58.254Z"
   },
   {
    "duration": 195,
    "start_time": "2023-02-10T11:40:57.343Z"
   },
   {
    "duration": 12,
    "start_time": "2023-02-10T11:41:03.032Z"
   },
   {
    "duration": 13,
    "start_time": "2023-02-10T11:41:39.541Z"
   },
   {
    "duration": 13,
    "start_time": "2023-02-10T11:42:01.047Z"
   },
   {
    "duration": 7261,
    "start_time": "2023-02-10T11:42:21.073Z"
   },
   {
    "duration": 19,
    "start_time": "2023-02-10T11:44:39.594Z"
   },
   {
    "duration": 4168,
    "start_time": "2023-02-10T11:47:35.737Z"
   },
   {
    "duration": 6135,
    "start_time": "2023-02-10T11:50:40.202Z"
   },
   {
    "duration": 883,
    "start_time": "2023-02-10T11:50:46.340Z"
   },
   {
    "duration": 35,
    "start_time": "2023-02-10T11:50:47.225Z"
   },
   {
    "duration": 14,
    "start_time": "2023-02-10T11:50:47.262Z"
   },
   {
    "duration": 278,
    "start_time": "2023-02-10T11:50:47.278Z"
   },
   {
    "duration": 11,
    "start_time": "2023-02-10T11:50:47.558Z"
   },
   {
    "duration": 50,
    "start_time": "2023-02-10T11:50:47.571Z"
   },
   {
    "duration": 5238,
    "start_time": "2023-02-10T11:55:56.134Z"
   },
   {
    "duration": 823,
    "start_time": "2023-02-10T11:56:01.374Z"
   },
   {
    "duration": 35,
    "start_time": "2023-02-10T11:56:02.200Z"
   },
   {
    "duration": 13,
    "start_time": "2023-02-10T11:56:02.238Z"
   },
   {
    "duration": 263,
    "start_time": "2023-02-10T11:56:02.253Z"
   },
   {
    "duration": 15,
    "start_time": "2023-02-10T11:56:02.521Z"
   },
   {
    "duration": 84,
    "start_time": "2023-02-10T11:56:02.537Z"
   },
   {
    "duration": 601,
    "start_time": "2023-02-10T11:56:02.622Z"
   },
   {
    "duration": 0,
    "start_time": "2023-02-10T11:56:03.225Z"
   },
   {
    "duration": 0,
    "start_time": "2023-02-10T11:56:03.226Z"
   },
   {
    "duration": 0,
    "start_time": "2023-02-10T11:56:03.227Z"
   },
   {
    "duration": 0,
    "start_time": "2023-02-10T11:56:03.228Z"
   },
   {
    "duration": 0,
    "start_time": "2023-02-10T11:56:03.229Z"
   },
   {
    "duration": 0,
    "start_time": "2023-02-10T11:56:03.230Z"
   },
   {
    "duration": 0,
    "start_time": "2023-02-10T11:56:03.231Z"
   },
   {
    "duration": 0,
    "start_time": "2023-02-10T11:56:03.233Z"
   },
   {
    "duration": 0,
    "start_time": "2023-02-10T11:56:03.234Z"
   },
   {
    "duration": 0,
    "start_time": "2023-02-10T11:56:03.235Z"
   },
   {
    "duration": 0,
    "start_time": "2023-02-10T11:56:03.236Z"
   },
   {
    "duration": 0,
    "start_time": "2023-02-10T11:56:03.237Z"
   },
   {
    "duration": 0,
    "start_time": "2023-02-10T11:56:03.238Z"
   },
   {
    "duration": 0,
    "start_time": "2023-02-10T11:56:03.239Z"
   },
   {
    "duration": 0,
    "start_time": "2023-02-10T11:56:03.240Z"
   },
   {
    "duration": 5722,
    "start_time": "2023-02-10T12:06:27.429Z"
   },
   {
    "duration": 825,
    "start_time": "2023-02-10T12:06:33.153Z"
   },
   {
    "duration": 33,
    "start_time": "2023-02-10T12:06:33.980Z"
   },
   {
    "duration": 15,
    "start_time": "2023-02-10T12:06:34.020Z"
   },
   {
    "duration": 263,
    "start_time": "2023-02-10T12:06:34.037Z"
   },
   {
    "duration": 28,
    "start_time": "2023-02-10T12:06:34.302Z"
   },
   {
    "duration": 36,
    "start_time": "2023-02-10T12:06:34.332Z"
   },
   {
    "duration": 5586,
    "start_time": "2023-02-10T12:09:38.933Z"
   },
   {
    "duration": 877,
    "start_time": "2023-02-10T12:09:44.522Z"
   },
   {
    "duration": 32,
    "start_time": "2023-02-10T12:09:45.401Z"
   },
   {
    "duration": 13,
    "start_time": "2023-02-10T12:09:45.434Z"
   },
   {
    "duration": 265,
    "start_time": "2023-02-10T12:09:45.449Z"
   },
   {
    "duration": 13,
    "start_time": "2023-02-10T12:09:45.720Z"
   },
   {
    "duration": 38,
    "start_time": "2023-02-10T12:09:45.735Z"
   },
   {
    "duration": 2424459,
    "start_time": "2023-02-10T12:09:45.774Z"
   },
   {
    "duration": 8,
    "start_time": "2023-02-10T12:50:10.235Z"
   },
   {
    "duration": 125,
    "start_time": "2023-02-10T12:50:10.246Z"
   },
   {
    "duration": 3,
    "start_time": "2023-02-10T12:50:10.373Z"
   },
   {
    "duration": 139,
    "start_time": "2023-02-10T12:50:10.378Z"
   },
   {
    "duration": 107,
    "start_time": "2023-02-10T12:50:10.521Z"
   },
   {
    "duration": 7146,
    "start_time": "2023-02-10T12:50:10.630Z"
   },
   {
    "duration": 372,
    "start_time": "2023-02-10T12:50:17.778Z"
   },
   {
    "duration": 0,
    "start_time": "2023-02-10T12:50:18.151Z"
   },
   {
    "duration": 0,
    "start_time": "2023-02-10T12:50:18.152Z"
   },
   {
    "duration": 0,
    "start_time": "2023-02-10T12:50:18.154Z"
   },
   {
    "duration": 0,
    "start_time": "2023-02-10T12:50:18.155Z"
   },
   {
    "duration": 0,
    "start_time": "2023-02-10T12:50:18.157Z"
   },
   {
    "duration": 0,
    "start_time": "2023-02-10T12:50:18.158Z"
   },
   {
    "duration": 0,
    "start_time": "2023-02-10T12:50:18.160Z"
   },
   {
    "duration": 0,
    "start_time": "2023-02-10T12:50:18.165Z"
   },
   {
    "duration": 0,
    "start_time": "2023-02-10T12:50:18.166Z"
   },
   {
    "duration": 23,
    "start_time": "2023-02-10T12:58:10.588Z"
   },
   {
    "duration": 24,
    "start_time": "2023-02-10T12:59:09.227Z"
   },
   {
    "duration": 20,
    "start_time": "2023-02-10T12:59:43.828Z"
   },
   {
    "duration": 25,
    "start_time": "2023-02-10T12:59:57.582Z"
   },
   {
    "duration": 331,
    "start_time": "2023-02-10T13:00:09.774Z"
   },
   {
    "duration": 313,
    "start_time": "2023-02-10T13:00:41.418Z"
   },
   {
    "duration": 305,
    "start_time": "2023-02-10T13:03:41.237Z"
   },
   {
    "duration": 6648,
    "start_time": "2023-02-10T13:04:33.519Z"
   },
   {
    "duration": 866,
    "start_time": "2023-02-10T13:04:40.170Z"
   },
   {
    "duration": 33,
    "start_time": "2023-02-10T13:04:41.038Z"
   },
   {
    "duration": 15,
    "start_time": "2023-02-10T13:04:41.073Z"
   },
   {
    "duration": 273,
    "start_time": "2023-02-10T13:04:41.091Z"
   },
   {
    "duration": 11,
    "start_time": "2023-02-10T13:04:41.366Z"
   },
   {
    "duration": 49,
    "start_time": "2023-02-10T13:04:41.379Z"
   },
   {
    "duration": 69,
    "start_time": "2023-02-10T13:04:41.430Z"
   },
   {
    "duration": 73,
    "start_time": "2023-02-10T13:04:41.501Z"
   },
   {
    "duration": 4,
    "start_time": "2023-02-10T13:04:41.577Z"
   },
   {
    "duration": 122,
    "start_time": "2023-02-10T13:04:41.583Z"
   },
   {
    "duration": 105,
    "start_time": "2023-02-10T13:04:41.707Z"
   },
   {
    "duration": 330,
    "start_time": "2023-02-10T13:04:41.813Z"
   },
   {
    "duration": 368,
    "start_time": "2023-02-10T13:04:42.145Z"
   },
   {
    "duration": 0,
    "start_time": "2023-02-10T13:04:42.520Z"
   },
   {
    "duration": 0,
    "start_time": "2023-02-10T13:04:42.521Z"
   },
   {
    "duration": 0,
    "start_time": "2023-02-10T13:04:42.522Z"
   },
   {
    "duration": 0,
    "start_time": "2023-02-10T13:04:42.524Z"
   },
   {
    "duration": 0,
    "start_time": "2023-02-10T13:04:42.525Z"
   },
   {
    "duration": 7492,
    "start_time": "2023-02-13T07:17:44.824Z"
   },
   {
    "duration": 2454,
    "start_time": "2023-02-13T07:18:04.177Z"
   },
   {
    "duration": 37,
    "start_time": "2023-02-13T07:18:10.061Z"
   },
   {
    "duration": 15,
    "start_time": "2023-02-13T07:18:13.386Z"
   },
   {
    "duration": 273,
    "start_time": "2023-02-13T07:18:14.430Z"
   },
   {
    "duration": 11,
    "start_time": "2023-02-13T07:18:18.082Z"
   },
   {
    "duration": 43,
    "start_time": "2023-02-13T07:18:19.768Z"
   },
   {
    "duration": 89010,
    "start_time": "2023-02-13T07:18:31.283Z"
   },
   {
    "duration": 9,
    "start_time": "2023-02-13T07:20:00.296Z"
   },
   {
    "duration": 4,
    "start_time": "2023-02-13T07:20:51.160Z"
   },
   {
    "duration": 366,
    "start_time": "2023-02-13T07:20:54.484Z"
   },
   {
    "duration": 21,
    "start_time": "2023-02-13T07:21:20.597Z"
   },
   {
    "duration": 24,
    "start_time": "2023-02-13T07:22:57.328Z"
   },
   {
    "duration": 21,
    "start_time": "2023-02-13T07:23:20.029Z"
   },
   {
    "duration": 137,
    "start_time": "2023-02-13T07:23:43.561Z"
   },
   {
    "duration": 5,
    "start_time": "2023-02-13T07:23:44.660Z"
   },
   {
    "duration": 169,
    "start_time": "2023-02-13T07:23:48.711Z"
   },
   {
    "duration": 98,
    "start_time": "2023-02-13T07:23:50.608Z"
   },
   {
    "duration": 5,
    "start_time": "2023-02-13T07:23:58.149Z"
   },
   {
    "duration": 5,
    "start_time": "2023-02-13T07:23:58.741Z"
   },
   {
    "duration": 33,
    "start_time": "2023-02-13T07:24:08.537Z"
   },
   {
    "duration": 5,
    "start_time": "2023-02-13T07:24:57.129Z"
   },
   {
    "duration": 34,
    "start_time": "2023-02-13T07:24:59.036Z"
   },
   {
    "duration": 7441,
    "start_time": "2023-02-13T07:25:03.186Z"
   },
   {
    "duration": 4,
    "start_time": "2023-02-13T07:28:15.267Z"
   },
   {
    "duration": 26,
    "start_time": "2023-02-13T07:28:18.077Z"
   },
   {
    "duration": 22,
    "start_time": "2023-02-13T07:28:45.406Z"
   },
   {
    "duration": 23,
    "start_time": "2023-02-13T07:28:55.493Z"
   },
   {
    "duration": 21,
    "start_time": "2023-02-13T07:30:46.358Z"
   },
   {
    "duration": 52,
    "start_time": "2023-02-13T07:31:11.166Z"
   },
   {
    "duration": 28,
    "start_time": "2023-02-13T07:34:38.505Z"
   },
   {
    "duration": 46,
    "start_time": "2023-02-13T07:34:48.163Z"
   },
   {
    "duration": 493,
    "start_time": "2023-02-13T07:37:12.096Z"
   },
   {
    "duration": 38,
    "start_time": "2023-02-13T07:37:36.213Z"
   },
   {
    "duration": 396,
    "start_time": "2023-02-13T07:38:04.103Z"
   },
   {
    "duration": 30,
    "start_time": "2023-02-13T07:38:38.548Z"
   },
   {
    "duration": 87256,
    "start_time": "2023-02-13T07:40:03.120Z"
   },
   {
    "duration": 94,
    "start_time": "2023-02-13T07:41:30.378Z"
   },
   {
    "duration": 5,
    "start_time": "2023-02-13T07:41:30.474Z"
   },
   {
    "duration": 5797,
    "start_time": "2023-02-13T07:43:51.285Z"
   },
   {
    "duration": 875,
    "start_time": "2023-02-13T07:43:57.085Z"
   },
   {
    "duration": 39,
    "start_time": "2023-02-13T07:43:57.962Z"
   },
   {
    "duration": 16,
    "start_time": "2023-02-13T07:43:58.004Z"
   },
   {
    "duration": 307,
    "start_time": "2023-02-13T07:43:58.036Z"
   },
   {
    "duration": 12,
    "start_time": "2023-02-13T07:43:58.345Z"
   },
   {
    "duration": 56,
    "start_time": "2023-02-13T07:43:58.360Z"
   },
   {
    "duration": 88633,
    "start_time": "2023-02-13T07:43:58.418Z"
   },
   {
    "duration": 8,
    "start_time": "2023-02-13T07:45:27.053Z"
   },
   {
    "duration": 133,
    "start_time": "2023-02-13T07:45:27.064Z"
   },
   {
    "duration": 5,
    "start_time": "2023-02-13T07:45:27.199Z"
   },
   {
    "duration": 174,
    "start_time": "2023-02-13T07:45:27.205Z"
   },
   {
    "duration": 118,
    "start_time": "2023-02-13T07:45:27.381Z"
   },
   {
    "duration": 7,
    "start_time": "2023-02-13T07:45:27.502Z"
   },
   {
    "duration": 27,
    "start_time": "2023-02-13T07:45:27.512Z"
   },
   {
    "duration": 1549173,
    "start_time": "2023-02-13T07:45:27.542Z"
   },
   {
    "duration": 363,
    "start_time": "2023-02-13T08:11:44.183Z"
   },
   {
    "duration": 0,
    "start_time": "2023-02-13T08:11:44.548Z"
   },
   {
    "duration": 0,
    "start_time": "2023-02-13T08:11:44.549Z"
   },
   {
    "duration": 0,
    "start_time": "2023-02-13T08:11:44.550Z"
   },
   {
    "duration": 0,
    "start_time": "2023-02-13T08:11:44.551Z"
   },
   {
    "duration": 0,
    "start_time": "2023-02-13T08:11:44.552Z"
   },
   {
    "duration": 0,
    "start_time": "2023-02-13T08:11:44.553Z"
   },
   {
    "duration": 0,
    "start_time": "2023-02-13T08:11:44.555Z"
   },
   {
    "duration": 0,
    "start_time": "2023-02-13T08:11:44.556Z"
   },
   {
    "duration": 0,
    "start_time": "2023-02-13T08:11:44.558Z"
   },
   {
    "duration": 0,
    "start_time": "2023-02-13T08:11:44.559Z"
   },
   {
    "duration": 30,
    "start_time": "2023-02-13T08:13:48.042Z"
   },
   {
    "duration": 84113,
    "start_time": "2023-02-13T08:15:24.455Z"
   },
   {
    "duration": 28,
    "start_time": "2023-02-13T08:17:24.364Z"
   },
   {
    "duration": 26,
    "start_time": "2023-02-13T08:17:44.709Z"
   },
   {
    "duration": 5,
    "start_time": "2023-02-13T08:17:52.014Z"
   },
   {
    "duration": 24,
    "start_time": "2023-02-13T08:17:59.688Z"
   },
   {
    "duration": 5,
    "start_time": "2023-02-13T08:18:02.942Z"
   },
   {
    "duration": 859,
    "start_time": "2023-02-13T08:18:16.759Z"
   },
   {
    "duration": 37,
    "start_time": "2023-02-13T08:18:19.122Z"
   },
   {
    "duration": 17,
    "start_time": "2023-02-13T08:18:21.603Z"
   },
   {
    "duration": 270,
    "start_time": "2023-02-13T08:18:23.331Z"
   },
   {
    "duration": 9,
    "start_time": "2023-02-13T08:18:29.450Z"
   },
   {
    "duration": 10,
    "start_time": "2023-02-13T08:18:38.382Z"
   },
   {
    "duration": 5675,
    "start_time": "2023-02-13T08:22:31.506Z"
   },
   {
    "duration": 844,
    "start_time": "2023-02-13T08:22:37.183Z"
   },
   {
    "duration": 38,
    "start_time": "2023-02-13T08:22:38.029Z"
   },
   {
    "duration": 37,
    "start_time": "2023-02-13T08:22:38.070Z"
   },
   {
    "duration": 333,
    "start_time": "2023-02-13T08:22:38.109Z"
   },
   {
    "duration": 13,
    "start_time": "2023-02-13T08:22:38.444Z"
   },
   {
    "duration": 52,
    "start_time": "2023-02-13T08:22:38.460Z"
   },
   {
    "duration": 408,
    "start_time": "2023-02-13T08:22:38.515Z"
   },
   {
    "duration": 0,
    "start_time": "2023-02-13T08:22:38.926Z"
   },
   {
    "duration": 0,
    "start_time": "2023-02-13T08:22:38.927Z"
   },
   {
    "duration": 1,
    "start_time": "2023-02-13T08:22:38.928Z"
   },
   {
    "duration": 0,
    "start_time": "2023-02-13T08:22:38.930Z"
   },
   {
    "duration": 0,
    "start_time": "2023-02-13T08:22:38.937Z"
   },
   {
    "duration": 0,
    "start_time": "2023-02-13T08:22:38.938Z"
   },
   {
    "duration": 0,
    "start_time": "2023-02-13T08:22:38.939Z"
   },
   {
    "duration": 0,
    "start_time": "2023-02-13T08:22:38.940Z"
   },
   {
    "duration": 0,
    "start_time": "2023-02-13T08:22:38.941Z"
   },
   {
    "duration": 0,
    "start_time": "2023-02-13T08:22:38.942Z"
   },
   {
    "duration": 0,
    "start_time": "2023-02-13T08:22:38.943Z"
   },
   {
    "duration": 0,
    "start_time": "2023-02-13T08:22:38.944Z"
   },
   {
    "duration": 0,
    "start_time": "2023-02-13T08:22:38.946Z"
   },
   {
    "duration": 0,
    "start_time": "2023-02-13T08:22:38.947Z"
   },
   {
    "duration": 0,
    "start_time": "2023-02-13T08:22:38.948Z"
   },
   {
    "duration": 776,
    "start_time": "2023-02-13T08:23:48.310Z"
   },
   {
    "duration": 1723,
    "start_time": "2023-02-13T08:23:55.053Z"
   },
   {
    "duration": 21079,
    "start_time": "2023-02-13T08:24:15.373Z"
   },
   {
    "duration": 9,
    "start_time": "2023-02-13T08:24:44.730Z"
   },
   {
    "duration": 470,
    "start_time": "2023-02-13T08:25:37.858Z"
   },
   {
    "duration": 21164,
    "start_time": "2023-02-13T08:25:44.244Z"
   },
   {
    "duration": 47,
    "start_time": "2023-02-13T08:30:14.740Z"
   },
   {
    "duration": 37,
    "start_time": "2023-02-13T08:32:41.484Z"
   },
   {
    "duration": 21,
    "start_time": "2023-02-13T08:33:44.647Z"
   },
   {
    "duration": 12587,
    "start_time": "2023-02-13T08:34:03.136Z"
   },
   {
    "duration": 8,
    "start_time": "2023-02-13T08:34:16.563Z"
   },
   {
    "duration": 272,
    "start_time": "2023-02-13T08:38:35.147Z"
   },
   {
    "duration": 7,
    "start_time": "2023-02-13T08:39:58.428Z"
   },
   {
    "duration": 84101,
    "start_time": "2023-02-13T08:40:12.031Z"
   },
   {
    "duration": 60817,
    "start_time": "2023-02-13T08:42:22.144Z"
   },
   {
    "duration": 9,
    "start_time": "2023-02-13T08:43:40.934Z"
   },
   {
    "duration": 2473408,
    "start_time": "2023-02-13T08:44:59.109Z"
   },
   {
    "duration": 8,
    "start_time": "2023-02-13T09:26:12.519Z"
   },
   {
    "duration": 5765,
    "start_time": "2023-02-13T09:26:12.536Z"
   },
   {
    "duration": 8,
    "start_time": "2023-02-13T09:27:36.244Z"
   },
   {
    "duration": 92,
    "start_time": "2023-02-13T09:27:47.365Z"
   },
   {
    "duration": 4,
    "start_time": "2023-02-13T09:27:48.605Z"
   },
   {
    "duration": 120,
    "start_time": "2023-02-13T09:27:54.772Z"
   },
   {
    "duration": 102,
    "start_time": "2023-02-13T09:27:55.756Z"
   },
   {
    "duration": 10,
    "start_time": "2023-02-13T09:28:00.836Z"
   },
   {
    "duration": 6,
    "start_time": "2023-02-13T09:28:02.693Z"
   },
   {
    "duration": 386,
    "start_time": "2023-02-13T09:28:25.218Z"
   },
   {
    "duration": 62,
    "start_time": "2023-02-13T09:28:47.880Z"
   },
   {
    "duration": 65,
    "start_time": "2023-02-13T09:31:19.273Z"
   },
   {
    "duration": 72,
    "start_time": "2023-02-13T09:31:58.244Z"
   },
   {
    "duration": 829,
    "start_time": "2023-02-13T09:35:43.944Z"
   },
   {
    "duration": 41,
    "start_time": "2023-02-13T09:36:14.300Z"
   },
   {
    "duration": 8,
    "start_time": "2023-02-13T09:36:22.178Z"
   },
   {
    "duration": 5922,
    "start_time": "2023-02-13T09:36:32.576Z"
   },
   {
    "duration": 890,
    "start_time": "2023-02-13T09:36:38.500Z"
   },
   {
    "duration": 50,
    "start_time": "2023-02-13T09:36:39.391Z"
   },
   {
    "duration": 16,
    "start_time": "2023-02-13T09:36:39.443Z"
   },
   {
    "duration": 312,
    "start_time": "2023-02-13T09:36:39.461Z"
   },
   {
    "duration": 13,
    "start_time": "2023-02-13T09:36:39.775Z"
   },
   {
    "duration": 49,
    "start_time": "2023-02-13T09:36:39.790Z"
   },
   {
    "duration": 7665,
    "start_time": "2023-02-13T09:36:39.841Z"
   },
   {
    "duration": 10,
    "start_time": "2023-02-13T09:36:47.508Z"
   },
   {
    "duration": 192,
    "start_time": "2023-02-13T09:36:47.521Z"
   },
   {
    "duration": 5,
    "start_time": "2023-02-13T09:36:47.716Z"
   },
   {
    "duration": 194,
    "start_time": "2023-02-13T09:36:47.722Z"
   },
   {
    "duration": 124,
    "start_time": "2023-02-13T09:36:47.918Z"
   },
   {
    "duration": 8,
    "start_time": "2023-02-13T09:36:48.045Z"
   },
   {
    "duration": 44,
    "start_time": "2023-02-13T09:36:48.055Z"
   },
   {
    "duration": 757,
    "start_time": "2023-02-13T09:36:48.100Z"
   },
   {
    "duration": 396,
    "start_time": "2023-02-13T09:36:48.859Z"
   },
   {
    "duration": 0,
    "start_time": "2023-02-13T09:36:49.258Z"
   },
   {
    "duration": 0,
    "start_time": "2023-02-13T09:36:49.259Z"
   },
   {
    "duration": 0,
    "start_time": "2023-02-13T09:36:49.261Z"
   },
   {
    "duration": 0,
    "start_time": "2023-02-13T09:36:49.262Z"
   },
   {
    "duration": 0,
    "start_time": "2023-02-13T09:36:49.263Z"
   },
   {
    "duration": 1,
    "start_time": "2023-02-13T09:36:49.264Z"
   },
   {
    "duration": 5909,
    "start_time": "2023-02-13T09:38:30.455Z"
   },
   {
    "duration": 7,
    "start_time": "2023-02-13T09:38:41.461Z"
   },
   {
    "duration": 91,
    "start_time": "2023-02-13T09:38:44.660Z"
   },
   {
    "duration": 4,
    "start_time": "2023-02-13T09:38:47.016Z"
   },
   {
    "duration": 128,
    "start_time": "2023-02-13T09:38:49.630Z"
   },
   {
    "duration": 104,
    "start_time": "2023-02-13T09:38:51.097Z"
   },
   {
    "duration": 7,
    "start_time": "2023-02-13T09:38:57.152Z"
   },
   {
    "duration": 6,
    "start_time": "2023-02-13T09:39:04.545Z"
   },
   {
    "duration": 412,
    "start_time": "2023-02-13T09:39:06.318Z"
   },
   {
    "duration": 53,
    "start_time": "2023-02-13T09:39:19.555Z"
   },
   {
    "duration": 921,
    "start_time": "2023-02-13T09:40:22.399Z"
   },
   {
    "duration": 6057,
    "start_time": "2023-02-13T09:40:45.284Z"
   },
   {
    "duration": 878,
    "start_time": "2023-02-13T09:40:51.343Z"
   },
   {
    "duration": 40,
    "start_time": "2023-02-13T09:40:52.223Z"
   },
   {
    "duration": 27,
    "start_time": "2023-02-13T09:40:52.265Z"
   },
   {
    "duration": 317,
    "start_time": "2023-02-13T09:40:52.294Z"
   },
   {
    "duration": 27,
    "start_time": "2023-02-13T09:40:52.613Z"
   },
   {
    "duration": 61,
    "start_time": "2023-02-13T09:40:52.642Z"
   },
   {
    "duration": 93044,
    "start_time": "2023-02-13T09:40:52.706Z"
   },
   {
    "duration": 8,
    "start_time": "2023-02-13T09:42:25.752Z"
   },
   {
    "duration": 135,
    "start_time": "2023-02-13T09:42:25.763Z"
   },
   {
    "duration": 5,
    "start_time": "2023-02-13T09:42:25.901Z"
   },
   {
    "duration": 140,
    "start_time": "2023-02-13T09:42:25.907Z"
   },
   {
    "duration": 151,
    "start_time": "2023-02-13T09:42:26.049Z"
   },
   {
    "duration": 12,
    "start_time": "2023-02-13T09:42:26.202Z"
   },
   {
    "duration": 23,
    "start_time": "2023-02-13T09:42:26.216Z"
   },
   {
    "duration": 712,
    "start_time": "2023-02-13T09:42:26.242Z"
   },
   {
    "duration": 427,
    "start_time": "2023-02-13T09:42:26.956Z"
   },
   {
    "duration": 0,
    "start_time": "2023-02-13T09:42:27.386Z"
   },
   {
    "duration": 0,
    "start_time": "2023-02-13T09:42:27.388Z"
   },
   {
    "duration": 0,
    "start_time": "2023-02-13T09:42:27.389Z"
   },
   {
    "duration": 0,
    "start_time": "2023-02-13T09:42:27.391Z"
   },
   {
    "duration": 0,
    "start_time": "2023-02-13T09:42:27.392Z"
   },
   {
    "duration": 0,
    "start_time": "2023-02-13T09:42:27.394Z"
   },
   {
    "duration": 51,
    "start_time": "2023-02-13T09:42:36.241Z"
   },
   {
    "duration": 6156,
    "start_time": "2023-02-13T09:44:24.970Z"
   },
   {
    "duration": 897,
    "start_time": "2023-02-13T09:44:31.128Z"
   },
   {
    "duration": 41,
    "start_time": "2023-02-13T09:44:32.028Z"
   },
   {
    "duration": 32,
    "start_time": "2023-02-13T09:44:32.072Z"
   },
   {
    "duration": 317,
    "start_time": "2023-02-13T09:44:32.106Z"
   },
   {
    "duration": 14,
    "start_time": "2023-02-13T09:44:32.425Z"
   },
   {
    "duration": 58,
    "start_time": "2023-02-13T09:44:32.441Z"
   },
   {
    "duration": 95396,
    "start_time": "2023-02-13T09:44:32.502Z"
   },
   {
    "duration": 9,
    "start_time": "2023-02-13T09:46:07.900Z"
   },
   {
    "duration": 180,
    "start_time": "2023-02-13T09:46:07.913Z"
   },
   {
    "duration": 4,
    "start_time": "2023-02-13T09:46:08.095Z"
   },
   {
    "duration": 187,
    "start_time": "2023-02-13T09:46:08.101Z"
   },
   {
    "duration": 124,
    "start_time": "2023-02-13T09:46:08.291Z"
   },
   {
    "duration": 21,
    "start_time": "2023-02-13T09:46:08.418Z"
   },
   {
    "duration": 53,
    "start_time": "2023-02-13T09:46:08.441Z"
   },
   {
    "duration": 30181,
    "start_time": "2023-02-13T09:46:08.496Z"
   },
   {
    "duration": 943,
    "start_time": "2023-02-13T09:46:38.679Z"
   },
   {
    "duration": 450,
    "start_time": "2023-02-13T09:46:39.625Z"
   },
   {
    "duration": 0,
    "start_time": "2023-02-13T09:46:40.077Z"
   },
   {
    "duration": 0,
    "start_time": "2023-02-13T09:46:40.079Z"
   },
   {
    "duration": 0,
    "start_time": "2023-02-13T09:46:40.080Z"
   },
   {
    "duration": 0,
    "start_time": "2023-02-13T09:46:40.082Z"
   },
   {
    "duration": 0,
    "start_time": "2023-02-13T09:46:40.084Z"
   },
   {
    "duration": 0,
    "start_time": "2023-02-13T09:46:40.085Z"
   },
   {
    "duration": 5961,
    "start_time": "2023-02-13T09:50:31.073Z"
   },
   {
    "duration": 838,
    "start_time": "2023-02-13T09:50:37.037Z"
   },
   {
    "duration": 35,
    "start_time": "2023-02-13T09:50:37.878Z"
   },
   {
    "duration": 33,
    "start_time": "2023-02-13T09:50:37.915Z"
   },
   {
    "duration": 295,
    "start_time": "2023-02-13T09:50:37.950Z"
   },
   {
    "duration": 12,
    "start_time": "2023-02-13T09:50:38.247Z"
   },
   {
    "duration": 44,
    "start_time": "2023-02-13T09:50:38.261Z"
   },
   {
    "duration": 88738,
    "start_time": "2023-02-13T09:50:38.307Z"
   },
   {
    "duration": 8,
    "start_time": "2023-02-13T09:52:07.047Z"
   },
   {
    "duration": 126,
    "start_time": "2023-02-13T09:52:07.057Z"
   },
   {
    "duration": 4,
    "start_time": "2023-02-13T09:52:07.185Z"
   },
   {
    "duration": 134,
    "start_time": "2023-02-13T09:52:07.190Z"
   },
   {
    "duration": 110,
    "start_time": "2023-02-13T09:52:07.326Z"
   },
   {
    "duration": 9,
    "start_time": "2023-02-13T09:52:07.438Z"
   },
   {
    "duration": 8,
    "start_time": "2023-02-13T09:52:07.449Z"
   },
   {
    "duration": 1592177,
    "start_time": "2023-02-13T09:52:07.459Z"
   },
   {
    "duration": 10331,
    "start_time": "2023-02-13T12:00:27.162Z"
   },
   {
    "duration": 829,
    "start_time": "2023-02-13T12:00:37.495Z"
   },
   {
    "duration": 46,
    "start_time": "2023-02-13T12:00:38.326Z"
   },
   {
    "duration": 21,
    "start_time": "2023-02-13T12:00:38.376Z"
   },
   {
    "duration": 315,
    "start_time": "2023-02-13T12:00:38.400Z"
   },
   {
    "duration": 24,
    "start_time": "2023-02-13T12:00:38.717Z"
   },
   {
    "duration": 46,
    "start_time": "2023-02-13T12:00:38.742Z"
   },
   {
    "duration": 4,
    "start_time": "2023-02-13T12:00:38.790Z"
   },
   {
    "duration": 7,
    "start_time": "2023-02-13T12:00:38.795Z"
   },
   {
    "duration": 2027,
    "start_time": "2023-02-13T12:00:38.804Z"
   },
   {
    "duration": 7,
    "start_time": "2023-02-13T12:00:40.833Z"
   },
   {
    "duration": 110,
    "start_time": "2023-02-13T12:00:40.842Z"
   },
   {
    "duration": 4,
    "start_time": "2023-02-13T12:00:40.954Z"
   },
   {
    "duration": 132,
    "start_time": "2023-02-13T12:00:40.960Z"
   },
   {
    "duration": 115,
    "start_time": "2023-02-13T12:00:41.094Z"
   },
   {
    "duration": 8,
    "start_time": "2023-02-13T12:00:41.211Z"
   },
   {
    "duration": 35,
    "start_time": "2023-02-13T12:00:41.221Z"
   },
   {
    "duration": 2154,
    "start_time": "2023-02-13T12:00:41.258Z"
   },
   {
    "duration": 0,
    "start_time": "2023-02-13T12:00:43.415Z"
   },
   {
    "duration": 0,
    "start_time": "2023-02-13T12:00:43.417Z"
   },
   {
    "duration": 0,
    "start_time": "2023-02-13T12:00:43.418Z"
   },
   {
    "duration": 5767,
    "start_time": "2023-02-13T12:02:21.156Z"
   },
   {
    "duration": 831,
    "start_time": "2023-02-13T12:02:26.926Z"
   },
   {
    "duration": 36,
    "start_time": "2023-02-13T12:02:27.758Z"
   },
   {
    "duration": 16,
    "start_time": "2023-02-13T12:02:27.796Z"
   },
   {
    "duration": 300,
    "start_time": "2023-02-13T12:02:27.814Z"
   },
   {
    "duration": 22,
    "start_time": "2023-02-13T12:02:28.116Z"
   },
   {
    "duration": 39,
    "start_time": "2023-02-13T12:02:28.139Z"
   },
   {
    "duration": 13,
    "start_time": "2023-02-13T12:02:28.179Z"
   },
   {
    "duration": 17,
    "start_time": "2023-02-13T12:02:28.194Z"
   },
   {
    "duration": 460,
    "start_time": "2023-02-13T12:02:28.213Z"
   },
   {
    "duration": 8,
    "start_time": "2023-02-13T12:02:28.675Z"
   },
   {
    "duration": 78,
    "start_time": "2023-02-13T12:02:28.684Z"
   },
   {
    "duration": 5,
    "start_time": "2023-02-13T12:02:28.763Z"
   },
   {
    "duration": 128,
    "start_time": "2023-02-13T12:02:28.771Z"
   },
   {
    "duration": 128,
    "start_time": "2023-02-13T12:02:28.901Z"
   },
   {
    "duration": 8,
    "start_time": "2023-02-13T12:02:29.032Z"
   },
   {
    "duration": 16,
    "start_time": "2023-02-13T12:02:29.042Z"
   },
   {
    "duration": 1161,
    "start_time": "2023-02-13T12:02:29.060Z"
   },
   {
    "duration": 0,
    "start_time": "2023-02-13T12:02:30.223Z"
   },
   {
    "duration": 0,
    "start_time": "2023-02-13T12:02:30.225Z"
   },
   {
    "duration": 0,
    "start_time": "2023-02-13T12:02:30.226Z"
   },
   {
    "duration": 6022,
    "start_time": "2023-02-13T12:03:44.260Z"
   },
   {
    "duration": 845,
    "start_time": "2023-02-13T12:03:50.285Z"
   },
   {
    "duration": 45,
    "start_time": "2023-02-13T12:03:51.132Z"
   },
   {
    "duration": 15,
    "start_time": "2023-02-13T12:03:51.180Z"
   },
   {
    "duration": 300,
    "start_time": "2023-02-13T12:03:51.198Z"
   },
   {
    "duration": 16,
    "start_time": "2023-02-13T12:03:51.500Z"
   },
   {
    "duration": 50,
    "start_time": "2023-02-13T12:03:51.518Z"
   },
   {
    "duration": 4,
    "start_time": "2023-02-13T12:03:51.569Z"
   },
   {
    "duration": 5,
    "start_time": "2023-02-13T12:03:51.574Z"
   },
   {
    "duration": 413,
    "start_time": "2023-02-13T12:03:51.582Z"
   },
   {
    "duration": 8,
    "start_time": "2023-02-13T12:03:51.997Z"
   },
   {
    "duration": 74,
    "start_time": "2023-02-13T12:03:52.007Z"
   },
   {
    "duration": 4,
    "start_time": "2023-02-13T12:03:52.083Z"
   },
   {
    "duration": 137,
    "start_time": "2023-02-13T12:03:52.089Z"
   },
   {
    "duration": 112,
    "start_time": "2023-02-13T12:03:52.229Z"
   },
   {
    "duration": 8,
    "start_time": "2023-02-13T12:03:52.343Z"
   },
   {
    "duration": 10,
    "start_time": "2023-02-13T12:03:52.352Z"
   },
   {
    "duration": 1729,
    "start_time": "2023-02-13T12:03:52.364Z"
   },
   {
    "duration": 0,
    "start_time": "2023-02-13T12:03:54.095Z"
   },
   {
    "duration": 0,
    "start_time": "2023-02-13T12:03:54.097Z"
   },
   {
    "duration": 0,
    "start_time": "2023-02-13T12:03:54.098Z"
   },
   {
    "duration": 163,
    "start_time": "2023-02-13T12:04:01.755Z"
   },
   {
    "duration": 859,
    "start_time": "2023-02-13T12:05:29.320Z"
   },
   {
    "duration": 894,
    "start_time": "2023-02-13T12:05:37.522Z"
   },
   {
    "duration": 40,
    "start_time": "2023-02-13T12:05:39.075Z"
   },
   {
    "duration": 20,
    "start_time": "2023-02-13T12:05:39.269Z"
   },
   {
    "duration": 378,
    "start_time": "2023-02-13T12:05:39.461Z"
   },
   {
    "duration": 17,
    "start_time": "2023-02-13T12:05:39.843Z"
   },
   {
    "duration": 48,
    "start_time": "2023-02-13T12:05:39.864Z"
   },
   {
    "duration": 6,
    "start_time": "2023-02-13T12:05:47.795Z"
   },
   {
    "duration": 4,
    "start_time": "2023-02-13T12:05:51.071Z"
   },
   {
    "duration": 167,
    "start_time": "2023-02-13T12:05:51.826Z"
   },
   {
    "duration": 11401,
    "start_time": "2023-02-13T12:07:44.957Z"
   },
   {
    "duration": 883,
    "start_time": "2023-02-13T12:07:56.361Z"
   },
   {
    "duration": 53,
    "start_time": "2023-02-13T12:07:57.247Z"
   },
   {
    "duration": 34,
    "start_time": "2023-02-13T12:07:57.303Z"
   },
   {
    "duration": 320,
    "start_time": "2023-02-13T12:07:57.340Z"
   },
   {
    "duration": 29,
    "start_time": "2023-02-13T12:07:57.662Z"
   },
   {
    "duration": 55,
    "start_time": "2023-02-13T12:07:57.693Z"
   },
   {
    "duration": 51,
    "start_time": "2023-02-13T12:07:57.750Z"
   },
   {
    "duration": 27,
    "start_time": "2023-02-13T12:07:57.803Z"
   },
   {
    "duration": 53,
    "start_time": "2023-02-13T12:07:57.834Z"
   },
   {
    "duration": 500,
    "start_time": "2023-02-13T12:07:57.889Z"
   },
   {
    "duration": 8,
    "start_time": "2023-02-13T12:07:58.391Z"
   },
   {
    "duration": 94,
    "start_time": "2023-02-13T12:07:58.400Z"
   },
   {
    "duration": 4,
    "start_time": "2023-02-13T12:07:58.496Z"
   },
   {
    "duration": 143,
    "start_time": "2023-02-13T12:07:58.502Z"
   },
   {
    "duration": 139,
    "start_time": "2023-02-13T12:07:58.648Z"
   },
   {
    "duration": 11,
    "start_time": "2023-02-13T12:07:58.789Z"
   },
   {
    "duration": 14,
    "start_time": "2023-02-13T12:07:58.802Z"
   },
   {
    "duration": 1437,
    "start_time": "2023-02-13T12:07:58.818Z"
   },
   {
    "duration": 0,
    "start_time": "2023-02-13T12:08:00.257Z"
   },
   {
    "duration": 0,
    "start_time": "2023-02-13T12:08:00.261Z"
   },
   {
    "duration": 0,
    "start_time": "2023-02-13T12:08:00.263Z"
   },
   {
    "duration": 116,
    "start_time": "2023-02-13T12:08:14.325Z"
   },
   {
    "duration": 139,
    "start_time": "2023-02-13T12:10:12.961Z"
   },
   {
    "duration": 106,
    "start_time": "2023-02-13T12:14:40.640Z"
   },
   {
    "duration": 1309872,
    "start_time": "2023-02-13T12:15:08.784Z"
   },
   {
    "duration": 11,
    "start_time": "2023-02-13T12:44:33.135Z"
   },
   {
    "duration": 159,
    "start_time": "2023-02-13T12:44:44.389Z"
   },
   {
    "duration": 5,
    "start_time": "2023-02-13T12:44:45.423Z"
   },
   {
    "duration": 131,
    "start_time": "2023-02-13T12:44:49.720Z"
   },
   {
    "duration": 127,
    "start_time": "2023-02-13T12:44:50.862Z"
   },
   {
    "duration": 9,
    "start_time": "2023-02-13T12:46:20.352Z"
   },
   {
    "duration": 5,
    "start_time": "2023-02-13T12:46:21.989Z"
   },
   {
    "duration": 30363,
    "start_time": "2023-02-13T12:47:20.881Z"
   },
   {
    "duration": 56512,
    "start_time": "2023-02-13T12:47:51.247Z"
   },
   {
    "duration": 0,
    "start_time": "2023-02-13T12:48:47.761Z"
   },
   {
    "duration": 58448,
    "start_time": "2023-02-13T12:49:22.698Z"
   },
   {
    "duration": 21,
    "start_time": "2023-02-13T12:50:21.148Z"
   },
   {
    "duration": 32,
    "start_time": "2023-02-13T13:08:38.197Z"
   },
   {
    "duration": 0,
    "start_time": "2023-02-13T13:08:41.990Z"
   },
   {
    "duration": 0,
    "start_time": "2023-02-13T13:08:41.991Z"
   },
   {
    "duration": 60405,
    "start_time": "2023-02-13T13:15:06.433Z"
   }
  ],
  "kernelspec": {
   "display_name": "Python 3 (ipykernel)",
   "language": "python",
   "name": "python3"
  },
  "language_info": {
   "codemirror_mode": {
    "name": "ipython",
    "version": 3
   },
   "file_extension": ".py",
   "mimetype": "text/x-python",
   "name": "python",
   "nbconvert_exporter": "python",
   "pygments_lexer": "ipython3",
   "version": "3.9.5"
  },
  "toc": {
   "base_numbering": 1,
   "nav_menu": {},
   "number_sections": true,
   "sideBar": true,
   "skip_h1_title": true,
   "title_cell": "Содержание",
   "title_sidebar": "Contents",
   "toc_cell": true,
   "toc_position": {
    "height": "calc(100% - 180px)",
    "left": "10px",
    "top": "150px",
    "width": "302.391px"
   },
   "toc_section_display": true,
   "toc_window_display": false
  }
 },
 "nbformat": 4,
 "nbformat_minor": 2
}
