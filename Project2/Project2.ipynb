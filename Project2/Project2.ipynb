{
 "cells": [
  {
   "cell_type": "markdown",
   "id": "bf60f21e",
   "metadata": {
    "deletable": false,
    "editable": false,
    "id": "c81daeeb"
   },
   "source": [
    "# Исследование надежности заемщиков\n"
   ]
  },
  {
   "cell_type": "markdown",
   "id": "fbeca486",
   "metadata": {
    "deletable": false,
    "editable": false,
    "id": "827c20bf"
   },
   "source": [
    "Во второй части проекта вы выполните шаги 3 и 4. Их вручную проверит ревьюер.\n",
    "Чтобы вам не пришлось писать код заново для шагов 1 и 2, мы добавили авторские решения в ячейки с кодом. \n",
    "\n"
   ]
  },
  {
   "cell_type": "markdown",
   "id": "e4dbdaf3",
   "metadata": {
    "deletable": false,
    "editable": false,
    "id": "744d7639"
   },
   "source": [
    "## Откройте таблицу и изучите общую информацию о данных"
   ]
  },
  {
   "cell_type": "markdown",
   "id": "318e64d1",
   "metadata": {
    "deletable": false,
    "editable": false,
    "id": "e7a14c31"
   },
   "source": [
    "**Задание 1. Импортируйте библиотеку pandas. Считайте данные из csv-файла в датафрейм и сохраните в переменную `data`. Путь к файлу:**\n",
    "\n",
    "`/datasets/data.csv`"
   ]
  },
  {
   "cell_type": "code",
   "execution_count": 1,
   "id": "2fbd4dcd",
   "metadata": {
    "deletable": false,
    "id": "7bcf75c9"
   },
   "outputs": [],
   "source": [
    "import pandas as pd # Импортируем библиотеку pandas \n",
    "\n",
    "try:\n",
    "    data = pd.read_csv('/datasets/data.csv')\n",
    "except:\n",
    "    data = pd.read_csv('https://code.s3.yandex.net/datasets/data.csv')"
   ]
  },
  {
   "cell_type": "markdown",
   "id": "5dcb7a14",
   "metadata": {
    "deletable": false,
    "editable": false,
    "id": "b8038fe3"
   },
   "source": [
    "**Задание 2. Выведите первые 20 строчек датафрейма `data` на экран.**"
   ]
  },
  {
   "cell_type": "code",
   "execution_count": 2,
   "id": "1f6eff15",
   "metadata": {
    "deletable": false,
    "id": "2a7cab99",
    "outputId": "1a8f3ef2-d323-4ec2-ddf7-89670b5944c4"
   },
   "outputs": [
    {
     "data": {
      "text/html": [
       "<div>\n",
       "<style scoped>\n",
       "    .dataframe tbody tr th:only-of-type {\n",
       "        vertical-align: middle;\n",
       "    }\n",
       "\n",
       "    .dataframe tbody tr th {\n",
       "        vertical-align: top;\n",
       "    }\n",
       "\n",
       "    .dataframe thead th {\n",
       "        text-align: right;\n",
       "    }\n",
       "</style>\n",
       "<table border=\"1\" class=\"dataframe\">\n",
       "  <thead>\n",
       "    <tr style=\"text-align: right;\">\n",
       "      <th></th>\n",
       "      <th>children</th>\n",
       "      <th>days_employed</th>\n",
       "      <th>dob_years</th>\n",
       "      <th>education</th>\n",
       "      <th>education_id</th>\n",
       "      <th>family_status</th>\n",
       "      <th>family_status_id</th>\n",
       "      <th>gender</th>\n",
       "      <th>income_type</th>\n",
       "      <th>debt</th>\n",
       "      <th>total_income</th>\n",
       "      <th>purpose</th>\n",
       "    </tr>\n",
       "  </thead>\n",
       "  <tbody>\n",
       "    <tr>\n",
       "      <th>0</th>\n",
       "      <td>1</td>\n",
       "      <td>-8437.673028</td>\n",
       "      <td>42</td>\n",
       "      <td>высшее</td>\n",
       "      <td>0</td>\n",
       "      <td>женат / замужем</td>\n",
       "      <td>0</td>\n",
       "      <td>F</td>\n",
       "      <td>сотрудник</td>\n",
       "      <td>0</td>\n",
       "      <td>253875.639453</td>\n",
       "      <td>покупка жилья</td>\n",
       "    </tr>\n",
       "    <tr>\n",
       "      <th>1</th>\n",
       "      <td>1</td>\n",
       "      <td>-4024.803754</td>\n",
       "      <td>36</td>\n",
       "      <td>среднее</td>\n",
       "      <td>1</td>\n",
       "      <td>женат / замужем</td>\n",
       "      <td>0</td>\n",
       "      <td>F</td>\n",
       "      <td>сотрудник</td>\n",
       "      <td>0</td>\n",
       "      <td>112080.014102</td>\n",
       "      <td>приобретение автомобиля</td>\n",
       "    </tr>\n",
       "    <tr>\n",
       "      <th>2</th>\n",
       "      <td>0</td>\n",
       "      <td>-5623.422610</td>\n",
       "      <td>33</td>\n",
       "      <td>Среднее</td>\n",
       "      <td>1</td>\n",
       "      <td>женат / замужем</td>\n",
       "      <td>0</td>\n",
       "      <td>M</td>\n",
       "      <td>сотрудник</td>\n",
       "      <td>0</td>\n",
       "      <td>145885.952297</td>\n",
       "      <td>покупка жилья</td>\n",
       "    </tr>\n",
       "    <tr>\n",
       "      <th>3</th>\n",
       "      <td>3</td>\n",
       "      <td>-4124.747207</td>\n",
       "      <td>32</td>\n",
       "      <td>среднее</td>\n",
       "      <td>1</td>\n",
       "      <td>женат / замужем</td>\n",
       "      <td>0</td>\n",
       "      <td>M</td>\n",
       "      <td>сотрудник</td>\n",
       "      <td>0</td>\n",
       "      <td>267628.550329</td>\n",
       "      <td>дополнительное образование</td>\n",
       "    </tr>\n",
       "    <tr>\n",
       "      <th>4</th>\n",
       "      <td>0</td>\n",
       "      <td>340266.072047</td>\n",
       "      <td>53</td>\n",
       "      <td>среднее</td>\n",
       "      <td>1</td>\n",
       "      <td>гражданский брак</td>\n",
       "      <td>1</td>\n",
       "      <td>F</td>\n",
       "      <td>пенсионер</td>\n",
       "      <td>0</td>\n",
       "      <td>158616.077870</td>\n",
       "      <td>сыграть свадьбу</td>\n",
       "    </tr>\n",
       "    <tr>\n",
       "      <th>5</th>\n",
       "      <td>0</td>\n",
       "      <td>-926.185831</td>\n",
       "      <td>27</td>\n",
       "      <td>высшее</td>\n",
       "      <td>0</td>\n",
       "      <td>гражданский брак</td>\n",
       "      <td>1</td>\n",
       "      <td>M</td>\n",
       "      <td>компаньон</td>\n",
       "      <td>0</td>\n",
       "      <td>255763.565419</td>\n",
       "      <td>покупка жилья</td>\n",
       "    </tr>\n",
       "    <tr>\n",
       "      <th>6</th>\n",
       "      <td>0</td>\n",
       "      <td>-2879.202052</td>\n",
       "      <td>43</td>\n",
       "      <td>высшее</td>\n",
       "      <td>0</td>\n",
       "      <td>женат / замужем</td>\n",
       "      <td>0</td>\n",
       "      <td>F</td>\n",
       "      <td>компаньон</td>\n",
       "      <td>0</td>\n",
       "      <td>240525.971920</td>\n",
       "      <td>операции с жильем</td>\n",
       "    </tr>\n",
       "    <tr>\n",
       "      <th>7</th>\n",
       "      <td>0</td>\n",
       "      <td>-152.779569</td>\n",
       "      <td>50</td>\n",
       "      <td>СРЕДНЕЕ</td>\n",
       "      <td>1</td>\n",
       "      <td>женат / замужем</td>\n",
       "      <td>0</td>\n",
       "      <td>M</td>\n",
       "      <td>сотрудник</td>\n",
       "      <td>0</td>\n",
       "      <td>135823.934197</td>\n",
       "      <td>образование</td>\n",
       "    </tr>\n",
       "    <tr>\n",
       "      <th>8</th>\n",
       "      <td>2</td>\n",
       "      <td>-6929.865299</td>\n",
       "      <td>35</td>\n",
       "      <td>ВЫСШЕЕ</td>\n",
       "      <td>0</td>\n",
       "      <td>гражданский брак</td>\n",
       "      <td>1</td>\n",
       "      <td>F</td>\n",
       "      <td>сотрудник</td>\n",
       "      <td>0</td>\n",
       "      <td>95856.832424</td>\n",
       "      <td>на проведение свадьбы</td>\n",
       "    </tr>\n",
       "    <tr>\n",
       "      <th>9</th>\n",
       "      <td>0</td>\n",
       "      <td>-2188.756445</td>\n",
       "      <td>41</td>\n",
       "      <td>среднее</td>\n",
       "      <td>1</td>\n",
       "      <td>женат / замужем</td>\n",
       "      <td>0</td>\n",
       "      <td>M</td>\n",
       "      <td>сотрудник</td>\n",
       "      <td>0</td>\n",
       "      <td>144425.938277</td>\n",
       "      <td>покупка жилья для семьи</td>\n",
       "    </tr>\n",
       "    <tr>\n",
       "      <th>10</th>\n",
       "      <td>2</td>\n",
       "      <td>-4171.483647</td>\n",
       "      <td>36</td>\n",
       "      <td>высшее</td>\n",
       "      <td>0</td>\n",
       "      <td>женат / замужем</td>\n",
       "      <td>0</td>\n",
       "      <td>M</td>\n",
       "      <td>компаньон</td>\n",
       "      <td>0</td>\n",
       "      <td>113943.491460</td>\n",
       "      <td>покупка недвижимости</td>\n",
       "    </tr>\n",
       "    <tr>\n",
       "      <th>11</th>\n",
       "      <td>0</td>\n",
       "      <td>-792.701887</td>\n",
       "      <td>40</td>\n",
       "      <td>среднее</td>\n",
       "      <td>1</td>\n",
       "      <td>женат / замужем</td>\n",
       "      <td>0</td>\n",
       "      <td>F</td>\n",
       "      <td>сотрудник</td>\n",
       "      <td>0</td>\n",
       "      <td>77069.234271</td>\n",
       "      <td>покупка коммерческой недвижимости</td>\n",
       "    </tr>\n",
       "    <tr>\n",
       "      <th>12</th>\n",
       "      <td>0</td>\n",
       "      <td>NaN</td>\n",
       "      <td>65</td>\n",
       "      <td>среднее</td>\n",
       "      <td>1</td>\n",
       "      <td>гражданский брак</td>\n",
       "      <td>1</td>\n",
       "      <td>M</td>\n",
       "      <td>пенсионер</td>\n",
       "      <td>0</td>\n",
       "      <td>NaN</td>\n",
       "      <td>сыграть свадьбу</td>\n",
       "    </tr>\n",
       "    <tr>\n",
       "      <th>13</th>\n",
       "      <td>0</td>\n",
       "      <td>-1846.641941</td>\n",
       "      <td>54</td>\n",
       "      <td>неоконченное высшее</td>\n",
       "      <td>2</td>\n",
       "      <td>женат / замужем</td>\n",
       "      <td>0</td>\n",
       "      <td>F</td>\n",
       "      <td>сотрудник</td>\n",
       "      <td>0</td>\n",
       "      <td>130458.228857</td>\n",
       "      <td>приобретение автомобиля</td>\n",
       "    </tr>\n",
       "    <tr>\n",
       "      <th>14</th>\n",
       "      <td>0</td>\n",
       "      <td>-1844.956182</td>\n",
       "      <td>56</td>\n",
       "      <td>высшее</td>\n",
       "      <td>0</td>\n",
       "      <td>гражданский брак</td>\n",
       "      <td>1</td>\n",
       "      <td>F</td>\n",
       "      <td>компаньон</td>\n",
       "      <td>1</td>\n",
       "      <td>165127.911772</td>\n",
       "      <td>покупка жилой недвижимости</td>\n",
       "    </tr>\n",
       "    <tr>\n",
       "      <th>15</th>\n",
       "      <td>1</td>\n",
       "      <td>-972.364419</td>\n",
       "      <td>26</td>\n",
       "      <td>среднее</td>\n",
       "      <td>1</td>\n",
       "      <td>женат / замужем</td>\n",
       "      <td>0</td>\n",
       "      <td>F</td>\n",
       "      <td>сотрудник</td>\n",
       "      <td>0</td>\n",
       "      <td>116820.904450</td>\n",
       "      <td>строительство собственной недвижимости</td>\n",
       "    </tr>\n",
       "    <tr>\n",
       "      <th>16</th>\n",
       "      <td>0</td>\n",
       "      <td>-1719.934226</td>\n",
       "      <td>35</td>\n",
       "      <td>среднее</td>\n",
       "      <td>1</td>\n",
       "      <td>женат / замужем</td>\n",
       "      <td>0</td>\n",
       "      <td>F</td>\n",
       "      <td>сотрудник</td>\n",
       "      <td>0</td>\n",
       "      <td>289202.704229</td>\n",
       "      <td>недвижимость</td>\n",
       "    </tr>\n",
       "    <tr>\n",
       "      <th>17</th>\n",
       "      <td>0</td>\n",
       "      <td>-2369.999720</td>\n",
       "      <td>33</td>\n",
       "      <td>высшее</td>\n",
       "      <td>0</td>\n",
       "      <td>гражданский брак</td>\n",
       "      <td>1</td>\n",
       "      <td>M</td>\n",
       "      <td>сотрудник</td>\n",
       "      <td>0</td>\n",
       "      <td>90410.586745</td>\n",
       "      <td>строительство недвижимости</td>\n",
       "    </tr>\n",
       "    <tr>\n",
       "      <th>18</th>\n",
       "      <td>0</td>\n",
       "      <td>400281.136913</td>\n",
       "      <td>53</td>\n",
       "      <td>среднее</td>\n",
       "      <td>1</td>\n",
       "      <td>вдовец / вдова</td>\n",
       "      <td>2</td>\n",
       "      <td>F</td>\n",
       "      <td>пенсионер</td>\n",
       "      <td>0</td>\n",
       "      <td>56823.777243</td>\n",
       "      <td>на покупку подержанного автомобиля</td>\n",
       "    </tr>\n",
       "    <tr>\n",
       "      <th>19</th>\n",
       "      <td>0</td>\n",
       "      <td>-10038.818549</td>\n",
       "      <td>48</td>\n",
       "      <td>СРЕДНЕЕ</td>\n",
       "      <td>1</td>\n",
       "      <td>в разводе</td>\n",
       "      <td>3</td>\n",
       "      <td>F</td>\n",
       "      <td>сотрудник</td>\n",
       "      <td>0</td>\n",
       "      <td>242831.107982</td>\n",
       "      <td>на покупку своего автомобиля</td>\n",
       "    </tr>\n",
       "  </tbody>\n",
       "</table>\n",
       "</div>"
      ],
      "text/plain": [
       "    children  days_employed  dob_years            education  education_id  \\\n",
       "0          1   -8437.673028         42               высшее             0   \n",
       "1          1   -4024.803754         36              среднее             1   \n",
       "2          0   -5623.422610         33              Среднее             1   \n",
       "3          3   -4124.747207         32              среднее             1   \n",
       "4          0  340266.072047         53              среднее             1   \n",
       "5          0    -926.185831         27               высшее             0   \n",
       "6          0   -2879.202052         43               высшее             0   \n",
       "7          0    -152.779569         50              СРЕДНЕЕ             1   \n",
       "8          2   -6929.865299         35               ВЫСШЕЕ             0   \n",
       "9          0   -2188.756445         41              среднее             1   \n",
       "10         2   -4171.483647         36               высшее             0   \n",
       "11         0    -792.701887         40              среднее             1   \n",
       "12         0            NaN         65              среднее             1   \n",
       "13         0   -1846.641941         54  неоконченное высшее             2   \n",
       "14         0   -1844.956182         56               высшее             0   \n",
       "15         1    -972.364419         26              среднее             1   \n",
       "16         0   -1719.934226         35              среднее             1   \n",
       "17         0   -2369.999720         33               высшее             0   \n",
       "18         0  400281.136913         53              среднее             1   \n",
       "19         0  -10038.818549         48              СРЕДНЕЕ             1   \n",
       "\n",
       "       family_status  family_status_id gender income_type  debt  \\\n",
       "0    женат / замужем                 0      F   сотрудник     0   \n",
       "1    женат / замужем                 0      F   сотрудник     0   \n",
       "2    женат / замужем                 0      M   сотрудник     0   \n",
       "3    женат / замужем                 0      M   сотрудник     0   \n",
       "4   гражданский брак                 1      F   пенсионер     0   \n",
       "5   гражданский брак                 1      M   компаньон     0   \n",
       "6    женат / замужем                 0      F   компаньон     0   \n",
       "7    женат / замужем                 0      M   сотрудник     0   \n",
       "8   гражданский брак                 1      F   сотрудник     0   \n",
       "9    женат / замужем                 0      M   сотрудник     0   \n",
       "10   женат / замужем                 0      M   компаньон     0   \n",
       "11   женат / замужем                 0      F   сотрудник     0   \n",
       "12  гражданский брак                 1      M   пенсионер     0   \n",
       "13   женат / замужем                 0      F   сотрудник     0   \n",
       "14  гражданский брак                 1      F   компаньон     1   \n",
       "15   женат / замужем                 0      F   сотрудник     0   \n",
       "16   женат / замужем                 0      F   сотрудник     0   \n",
       "17  гражданский брак                 1      M   сотрудник     0   \n",
       "18    вдовец / вдова                 2      F   пенсионер     0   \n",
       "19         в разводе                 3      F   сотрудник     0   \n",
       "\n",
       "     total_income                                 purpose  \n",
       "0   253875.639453                           покупка жилья  \n",
       "1   112080.014102                 приобретение автомобиля  \n",
       "2   145885.952297                           покупка жилья  \n",
       "3   267628.550329              дополнительное образование  \n",
       "4   158616.077870                         сыграть свадьбу  \n",
       "5   255763.565419                           покупка жилья  \n",
       "6   240525.971920                       операции с жильем  \n",
       "7   135823.934197                             образование  \n",
       "8    95856.832424                   на проведение свадьбы  \n",
       "9   144425.938277                 покупка жилья для семьи  \n",
       "10  113943.491460                    покупка недвижимости  \n",
       "11   77069.234271       покупка коммерческой недвижимости  \n",
       "12            NaN                         сыграть свадьбу  \n",
       "13  130458.228857                 приобретение автомобиля  \n",
       "14  165127.911772              покупка жилой недвижимости  \n",
       "15  116820.904450  строительство собственной недвижимости  \n",
       "16  289202.704229                            недвижимость  \n",
       "17   90410.586745              строительство недвижимости  \n",
       "18   56823.777243      на покупку подержанного автомобиля  \n",
       "19  242831.107982            на покупку своего автомобиля  "
      ]
     },
     "execution_count": 2,
     "metadata": {},
     "output_type": "execute_result"
    }
   ],
   "source": [
    "data.head(20) # прочитаем файл с исходными данными"
   ]
  },
  {
   "cell_type": "markdown",
   "id": "5219383c",
   "metadata": {
    "deletable": false,
    "editable": false,
    "id": "1c12e233"
   },
   "source": [
    "**Задание 3. Выведите основную информацию о датафрейме с помощью метода `info()`.**"
   ]
  },
  {
   "cell_type": "code",
   "execution_count": 3,
   "id": "5f2c9a39",
   "metadata": {
    "deletable": false,
    "id": "2b757bca",
    "outputId": "15376089-8dad-46c9-b520-c05248d43158"
   },
   "outputs": [
    {
     "name": "stdout",
     "output_type": "stream",
     "text": [
      "<class 'pandas.core.frame.DataFrame'>\n",
      "RangeIndex: 21525 entries, 0 to 21524\n",
      "Data columns (total 12 columns):\n",
      " #   Column            Non-Null Count  Dtype  \n",
      "---  ------            --------------  -----  \n",
      " 0   children          21525 non-null  int64  \n",
      " 1   days_employed     19351 non-null  float64\n",
      " 2   dob_years         21525 non-null  int64  \n",
      " 3   education         21525 non-null  object \n",
      " 4   education_id      21525 non-null  int64  \n",
      " 5   family_status     21525 non-null  object \n",
      " 6   family_status_id  21525 non-null  int64  \n",
      " 7   gender            21525 non-null  object \n",
      " 8   income_type       21525 non-null  object \n",
      " 9   debt              21525 non-null  int64  \n",
      " 10  total_income      19351 non-null  float64\n",
      " 11  purpose           21525 non-null  object \n",
      "dtypes: float64(2), int64(5), object(5)\n",
      "memory usage: 2.0+ MB\n"
     ]
    }
   ],
   "source": [
    "data.info()  # Изучим общую информацию о данных, используя info() метод"
   ]
  },
  {
   "cell_type": "markdown",
   "id": "3a949b35",
   "metadata": {
    "deletable": false,
    "editable": false,
    "id": "333ec665"
   },
   "source": [
    "## Предобработка данных"
   ]
  },
  {
   "cell_type": "markdown",
   "id": "227d40c1",
   "metadata": {
    "deletable": false,
    "editable": false,
    "id": "02d92d53"
   },
   "source": [
    "### Удаление пропусков"
   ]
  },
  {
   "cell_type": "markdown",
   "id": "3434e16f",
   "metadata": {
    "deletable": false,
    "editable": false,
    "id": "cd84967c"
   },
   "source": [
    "**Задание 4. Выведите количество пропущенных значений для каждого столбца. Используйте комбинацию двух методов.**"
   ]
  },
  {
   "cell_type": "code",
   "execution_count": 4,
   "id": "a8bb60d1",
   "metadata": {
    "deletable": false,
    "id": "7f9b2309",
    "outputId": "81f4d817-781c-465c-ed15-91ce4446810d"
   },
   "outputs": [
    {
     "data": {
      "text/plain": [
       "children               0\n",
       "days_employed       2174\n",
       "dob_years              0\n",
       "education              0\n",
       "education_id           0\n",
       "family_status          0\n",
       "family_status_id       0\n",
       "gender                 0\n",
       "income_type            0\n",
       "debt                   0\n",
       "total_income        2174\n",
       "purpose                0\n",
       "dtype: int64"
      ]
     },
     "execution_count": 4,
     "metadata": {},
     "output_type": "execute_result"
    }
   ],
   "source": [
    "data.isna().sum() # Выведем количество пропущенных значений для каждого столбца используя методы isna() и sum()"
   ]
  },
  {
   "cell_type": "markdown",
   "id": "7521f0fb",
   "metadata": {
    "deletable": false,
    "editable": false,
    "id": "db86e27b"
   },
   "source": [
    "**Задание 5. В двух столбцах есть пропущенные значения. Один из них — `days_employed`. Пропуски в этом столбце вы обработаете на следующем этапе. Другой столбец с пропущенными значениями — `total_income` — хранит данные о доходах. На сумму дохода сильнее всего влияет тип занятости, поэтому заполнить пропуски в этом столбце нужно медианным значением по каждому типу из столбца `income_type`. Например, у человека с типом занятости `сотрудник` пропуск в столбце `total_income` должен быть заполнен медианным доходом среди всех записей с тем же типом.**"
   ]
  },
  {
   "cell_type": "code",
   "execution_count": 5,
   "id": "aa4118dc",
   "metadata": {
    "deletable": false,
    "id": "42006a93"
   },
   "outputs": [],
   "source": [
    "# заполним пропуски в столбце 'total_income' медианным значением по каждому типу из столбца 'income_type'\n",
    "for t in data['income_type'].unique():\n",
    "    data.loc[(data['income_type'] == t) & (data['total_income'].isna()), 'total_income'] = \\\n",
    "    data.loc[(data['income_type'] == t), 'total_income'].median()"
   ]
  },
  {
   "cell_type": "markdown",
   "id": "75ecdfd4",
   "metadata": {
    "deletable": false,
    "editable": false,
    "id": "89da5ece"
   },
   "source": [
    "### Обработка аномальных значений"
   ]
  },
  {
   "cell_type": "markdown",
   "id": "94033090",
   "metadata": {
    "deletable": false,
    "editable": false,
    "id": "57964554"
   },
   "source": [
    "**Задание 6. В данных могут встречаться артефакты (аномалии) — значения, которые не отражают действительность и появились по какой-то ошибке. таким артефактом будет отрицательное количество дней трудового стажа в столбце `days_employed`. Для реальных данных это нормально. Обработайте значения в этом столбце: замените все отрицательные значения положительными с помощью метода `abs()`.**"
   ]
  },
  {
   "cell_type": "code",
   "execution_count": 6,
   "id": "328ae96f",
   "metadata": {
    "deletable": false,
    "id": "f6f055bf"
   },
   "outputs": [],
   "source": [
    "data['days_employed'] = data['days_employed'].abs() # заменим отрицательные значения в столбце 'days_employed' на положительные"
   ]
  },
  {
   "cell_type": "markdown",
   "id": "66ee0c97",
   "metadata": {
    "deletable": false,
    "editable": false,
    "id": "6107dd2f"
   },
   "source": [
    "**Задание 7. Для каждого типа занятости выведите медианное значение трудового стажа `days_employed` в днях.**"
   ]
  },
  {
   "cell_type": "code",
   "execution_count": 7,
   "id": "6b7cab20",
   "metadata": {
    "deletable": false,
    "id": "85a5faf6",
    "outputId": "801ef80e-522b-4668-f34e-565af7432bcf"
   },
   "outputs": [
    {
     "data": {
      "text/plain": [
       "income_type\n",
       "безработный        366413.652744\n",
       "в декрете            3296.759962\n",
       "госслужащий          2689.368353\n",
       "компаньон            1547.382223\n",
       "пенсионер          365213.306266\n",
       "предприниматель       520.848083\n",
       "сотрудник            1574.202821\n",
       "студент               578.751554\n",
       "Name: days_employed, dtype: float64"
      ]
     },
     "execution_count": 7,
     "metadata": {},
     "output_type": "execute_result"
    }
   ],
   "source": [
    "data.groupby('income_type')['days_employed'].agg('median') # с помощью метода median() выведем медианное значение трудового стажа для каждого типа занятости"
   ]
  },
  {
   "cell_type": "markdown",
   "id": "b1ed8345",
   "metadata": {
    "deletable": false,
    "editable": false,
    "id": "38d1a030"
   },
   "source": [
    "У двух типов (безработные и пенсионеры) получатся аномально большие значения. Исправить такие значения сложно, поэтому оставьте их как есть. Тем более этот столбец не понадобится вам для исследования."
   ]
  },
  {
   "cell_type": "markdown",
   "id": "7382dd36",
   "metadata": {
    "deletable": false,
    "editable": false,
    "id": "d8a9f147"
   },
   "source": [
    "**Задание 8. Выведите перечень уникальных значений столбца `children`.**"
   ]
  },
  {
   "cell_type": "code",
   "execution_count": 8,
   "id": "4900ee16",
   "metadata": {
    "deletable": false,
    "id": "ef5056eb",
    "outputId": "6975b15c-7f95-4697-d16d-a0c79b657b03"
   },
   "outputs": [
    {
     "data": {
      "text/plain": [
       "array([ 1,  0,  3,  2, -1,  4, 20,  5])"
      ]
     },
     "execution_count": 8,
     "metadata": {},
     "output_type": "execute_result"
    }
   ],
   "source": [
    "data['children'].unique() # выведем значения столбца 'children' методом unique()"
   ]
  },
  {
   "cell_type": "markdown",
   "id": "a13d00b8",
   "metadata": {
    "deletable": false,
    "editable": false,
    "id": "40b9ebf2"
   },
   "source": [
    "**Задание 9. В столбце `children` есть два аномальных значения. Удалите строки, в которых встречаются такие аномальные значения из датафрейма `data`.**"
   ]
  },
  {
   "cell_type": "code",
   "execution_count": 9,
   "id": "ff9db8e1",
   "metadata": {
    "deletable": false,
    "id": "3ff9801d"
   },
   "outputs": [],
   "source": [
    "data = data[(data['children'] != -1) & (data['children'] != 20)] # удалим строки с аномальными значениями"
   ]
  },
  {
   "cell_type": "markdown",
   "id": "d9e20f71",
   "metadata": {
    "deletable": false,
    "editable": false,
    "id": "bbc4d0ce"
   },
   "source": [
    "**Задание 10. Ещё раз выведите перечень уникальных значений столбца `children`, чтобы убедиться, что артефакты удалены.**"
   ]
  },
  {
   "cell_type": "code",
   "execution_count": 10,
   "id": "7e65fe55",
   "metadata": {
    "deletable": false,
    "id": "ad4fa8b7",
    "outputId": "b2097101-d49d-44d9-901b-32a65c9463d1"
   },
   "outputs": [
    {
     "data": {
      "text/plain": [
       "array([1, 0, 3, 2, 4, 5])"
      ]
     },
     "execution_count": 10,
     "metadata": {},
     "output_type": "execute_result"
    }
   ],
   "source": [
    "data['children'].unique() # выведем значения столбца 'children' методом unique()"
   ]
  },
  {
   "cell_type": "markdown",
   "id": "48949146",
   "metadata": {
    "deletable": false,
    "editable": false,
    "id": "75440b63"
   },
   "source": [
    "### Удаление пропусков (продолжение)"
   ]
  },
  {
   "cell_type": "markdown",
   "id": "f0b080ab",
   "metadata": {
    "deletable": false,
    "editable": false,
    "id": "f4ea573f"
   },
   "source": [
    "**Задание 11. Заполните пропуски в столбце `days_employed` медианными значениями по каждого типа занятости `income_type`.**"
   ]
  },
  {
   "cell_type": "code",
   "execution_count": 11,
   "id": "dce1d7e2",
   "metadata": {
    "deletable": false,
    "id": "af6b1a7e"
   },
   "outputs": [],
   "source": [
    "# заполним пропуски в столбце 'days_employed' медианным значением по каждому типу из столбца 'income_type'\n",
    "for t in data['income_type'].unique():\n",
    "    data.loc[(data['income_type'] == t) & (data['days_employed'].isna()), 'days_employed'] = \\\n",
    "    data.loc[(data['income_type'] == t), 'days_employed'].median()"
   ]
  },
  {
   "cell_type": "markdown",
   "id": "738b5b10",
   "metadata": {
    "deletable": false,
    "editable": false,
    "id": "2753f40d"
   },
   "source": [
    "**Задание 12. Убедитесь, что все пропуски заполнены. Проверьте себя и ещё раз выведите количество пропущенных значений для каждого столбца с помощью двух методов.**"
   ]
  },
  {
   "cell_type": "code",
   "execution_count": 12,
   "id": "0196c0d2",
   "metadata": {
    "deletable": false,
    "id": "55f78bc2",
    "outputId": "8da1e4e1-358e-4e87-98c9-f261bce0a7b2"
   },
   "outputs": [
    {
     "data": {
      "text/plain": [
       "children            0\n",
       "days_employed       0\n",
       "dob_years           0\n",
       "education           0\n",
       "education_id        0\n",
       "family_status       0\n",
       "family_status_id    0\n",
       "gender              0\n",
       "income_type         0\n",
       "debt                0\n",
       "total_income        0\n",
       "purpose             0\n",
       "dtype: int64"
      ]
     },
     "execution_count": 12,
     "metadata": {},
     "output_type": "execute_result"
    }
   ],
   "source": [
    "data.isna().sum() # выведем количество пропущенных значений для каждого столбца"
   ]
  },
  {
   "cell_type": "markdown",
   "id": "7899ef4b",
   "metadata": {
    "deletable": false,
    "editable": false,
    "id": "ddc81e43"
   },
   "source": [
    "### Изменение типов данных"
   ]
  },
  {
   "cell_type": "markdown",
   "id": "250c3adc",
   "metadata": {
    "deletable": false,
    "editable": false,
    "id": "42d19d24"
   },
   "source": [
    "**Задание 13. Замените вещественный тип данных в столбце `total_income` на целочисленный с помощью метода `astype()`.**"
   ]
  },
  {
   "cell_type": "code",
   "execution_count": 13,
   "id": "02d4bd4f",
   "metadata": {
    "deletable": false,
    "id": "920b65ad"
   },
   "outputs": [],
   "source": [
    "# заменим тип данных в столбце 'total_income' с помощью метода astype()\n",
    "data['total_income'] = data['total_income'].astype(int) "
   ]
  },
  {
   "cell_type": "markdown",
   "id": "2b1565d7",
   "metadata": {
    "deletable": false,
    "editable": false,
    "id": "80c420ba"
   },
   "source": [
    "### Обработка дубликатов"
   ]
  },
  {
   "cell_type": "markdown",
   "id": "f8b26bd1",
   "metadata": {
    "deletable": false,
    "editable": false
   },
   "source": [
    "**Задание 14. Обработайте неявные дубликаты в столбце `education`. В этом столбце есть одни и те же значения, но записанные по-разному: с использованием заглавных и строчных букв. Приведите их к нижнему регистру. Проверьте остальные столбцы.**"
   ]
  },
  {
   "cell_type": "code",
   "execution_count": 14,
   "id": "3f507d2d",
   "metadata": {
    "deletable": false
   },
   "outputs": [],
   "source": [
    "# приведем значения в столбце 'education' к нажнему регисту методом str.lower()\n",
    "data['education'] = data['education'].str.lower()"
   ]
  },
  {
   "cell_type": "markdown",
   "id": "31f3098c",
   "metadata": {
    "deletable": false,
    "editable": false,
    "id": "dc587695"
   },
   "source": [
    "**Задание 15. Выведите на экран количество строк-дубликатов в данных. Если такие строки присутствуют, удалите их.**"
   ]
  },
  {
   "cell_type": "code",
   "execution_count": 15,
   "id": "ae6fc7d1",
   "metadata": {
    "deletable": false,
    "id": "3ee445e4",
    "outputId": "9684deba-1934-42d1-99e1-cda61740f822"
   },
   "outputs": [
    {
     "data": {
      "text/plain": [
       "71"
      ]
     },
     "execution_count": 15,
     "metadata": {},
     "output_type": "execute_result"
    }
   ],
   "source": [
    "# выведем количество строк дубликатов комбинацие методов duplicated() и sum()\n",
    "data.duplicated().sum()"
   ]
  },
  {
   "cell_type": "code",
   "execution_count": 16,
   "id": "f168da1f",
   "metadata": {
    "deletable": false,
    "id": "8575fe05"
   },
   "outputs": [],
   "source": [
    "# удалим строки дубликаты методом drop_duplicates()\n",
    "data = data.drop_duplicates()"
   ]
  },
  {
   "cell_type": "markdown",
   "id": "ab856ed7",
   "metadata": {
    "deletable": false,
    "editable": false,
    "id": "9904cf55"
   },
   "source": [
    "### Категоризация данных"
   ]
  },
  {
   "cell_type": "markdown",
   "id": "5f475ce9",
   "metadata": {
    "deletable": false,
    "editable": false,
    "id": "72fcc8a2"
   },
   "source": [
    "**Задание 16. На основании диапазонов, указанных ниже, создайте в датафрейме `data` столбец `total_income_category` с категориями:**\n",
    "\n",
    "- 0–30000 — `'E'`;\n",
    "- 30001–50000 — `'D'`;\n",
    "- 50001–200000 — `'C'`;\n",
    "- 200001–1000000 — `'B'`;\n",
    "- 1000001 и выше — `'A'`.\n",
    "\n",
    "\n",
    "**Например, кредитополучателю с доходом 25000 нужно назначить категорию `'E'`, а клиенту, получающему 235000, — `'B'`. Используйте собственную функцию с именем `categorize_income()` и метод `apply()`.**"
   ]
  },
  {
   "cell_type": "code",
   "execution_count": 17,
   "id": "1d01d6d3",
   "metadata": {
    "deletable": false,
    "id": "e1771346"
   },
   "outputs": [],
   "source": [
    "# на основании диапазонов присвоим кредитополучателям категории, запишем данные в новый столбец 'total_income_category'\n",
    "\n",
    "def categorize_income(income):\n",
    "    try:\n",
    "        if 0 <= income <= 30000:\n",
    "            return 'E'\n",
    "        elif 30001 <= income <= 50000:\n",
    "            return 'D'\n",
    "        elif 50001 <= income <= 200000:\n",
    "            return 'C'\n",
    "        elif 200001 <= income <= 1000000:\n",
    "            return 'B'\n",
    "        elif income >= 1000001:\n",
    "            return 'A'\n",
    "    except:\n",
    "        pass"
   ]
  },
  {
   "cell_type": "code",
   "execution_count": 18,
   "id": "590bdd74",
   "metadata": {
    "deletable": false,
    "id": "d5f3586d"
   },
   "outputs": [],
   "source": [
    "data['total_income_category'] = data['total_income'].apply(categorize_income)"
   ]
  },
  {
   "cell_type": "markdown",
   "id": "1d9d00e8",
   "metadata": {
    "deletable": false,
    "editable": false,
    "id": "dde49b5c"
   },
   "source": [
    "**Задание 17. Выведите на экран перечень уникальных целей взятия кредита из столбца `purpose`.**"
   ]
  },
  {
   "cell_type": "code",
   "execution_count": 19,
   "id": "ae61271e",
   "metadata": {
    "deletable": false,
    "id": "f67ce9b3",
    "outputId": "673c12d9-7d7e-4ae0-9812-c622c89dd244"
   },
   "outputs": [
    {
     "data": {
      "text/plain": [
       "array(['покупка жилья', 'приобретение автомобиля',\n",
       "       'дополнительное образование', 'сыграть свадьбу',\n",
       "       'операции с жильем', 'образование', 'на проведение свадьбы',\n",
       "       'покупка жилья для семьи', 'покупка недвижимости',\n",
       "       'покупка коммерческой недвижимости', 'покупка жилой недвижимости',\n",
       "       'строительство собственной недвижимости', 'недвижимость',\n",
       "       'строительство недвижимости', 'на покупку подержанного автомобиля',\n",
       "       'на покупку своего автомобиля',\n",
       "       'операции с коммерческой недвижимостью',\n",
       "       'строительство жилой недвижимости', 'жилье',\n",
       "       'операции со своей недвижимостью', 'автомобили',\n",
       "       'заняться образованием', 'сделка с подержанным автомобилем',\n",
       "       'получение образования', 'автомобиль', 'свадьба',\n",
       "       'получение дополнительного образования', 'покупка своего жилья',\n",
       "       'операции с недвижимостью', 'получение высшего образования',\n",
       "       'свой автомобиль', 'сделка с автомобилем',\n",
       "       'профильное образование', 'высшее образование',\n",
       "       'покупка жилья для сдачи', 'на покупку автомобиля', 'ремонт жилью',\n",
       "       'заняться высшим образованием'], dtype=object)"
      ]
     },
     "execution_count": 19,
     "metadata": {},
     "output_type": "execute_result"
    }
   ],
   "source": [
    "data['purpose'].unique() # посмотрим цели взятия кредитов из столбца 'purpose' с помощью метода unique()"
   ]
  },
  {
   "cell_type": "markdown",
   "id": "09dc5ee1",
   "metadata": {
    "deletable": false,
    "editable": false,
    "id": "85d0aef0"
   },
   "source": [
    "**Задание 18. Создайте функцию, которая на основании данных из столбца `purpose` сформирует новый столбец `purpose_category`, в который войдут следующие категории:**\n",
    "\n",
    "- `'операции с автомобилем'`,\n",
    "- `'операции с недвижимостью'`,\n",
    "- `'проведение свадьбы'`,\n",
    "- `'получение образования'`.\n",
    "\n",
    "**Например, если в столбце `purpose` находится подстрока `'на покупку автомобиля'`, то в столбце `purpose_category` должна появиться строка `'операции с автомобилем'`.**\n",
    "\n",
    "**Используйте собственную функцию с именем `categorize_purpose()` и метод `apply()`. Изучите данные в столбце `purpose` и определите, какие подстроки помогут вам правильно определить категорию.**"
   ]
  },
  {
   "cell_type": "code",
   "execution_count": 20,
   "id": "846ba4aa",
   "metadata": {
    "deletable": false,
    "id": "e149fab4"
   },
   "outputs": [],
   "source": [
    "# сформируем цели для взятия кредита в столбец 'purpose_category', разобьем их на категории\n",
    "def categorize_purpose(row):\n",
    "    try:\n",
    "        if 'автом' in row:\n",
    "            return 'операции с автомобилем'\n",
    "        elif 'жил' in row or 'недвиж' in row:\n",
    "            return 'операции с недвижимостью'\n",
    "        elif 'свад' in row:\n",
    "            return 'проведение свадьбы'\n",
    "        elif 'образов' in row:\n",
    "            return 'получение образования'\n",
    "    except:\n",
    "        return 'нет категории'"
   ]
  },
  {
   "cell_type": "code",
   "execution_count": 21,
   "id": "54e25709",
   "metadata": {
    "deletable": false,
    "id": "bf36e69b"
   },
   "outputs": [],
   "source": [
    "data['purpose_category'] = data['purpose'].apply(categorize_purpose)"
   ]
  },
  {
   "cell_type": "code",
   "execution_count": 22,
   "id": "34d85a85",
   "metadata": {},
   "outputs": [
    {
     "data": {
      "text/html": [
       "<div>\n",
       "<style scoped>\n",
       "    .dataframe tbody tr th:only-of-type {\n",
       "        vertical-align: middle;\n",
       "    }\n",
       "\n",
       "    .dataframe tbody tr th {\n",
       "        vertical-align: top;\n",
       "    }\n",
       "\n",
       "    .dataframe thead th {\n",
       "        text-align: right;\n",
       "    }\n",
       "</style>\n",
       "<table border=\"1\" class=\"dataframe\">\n",
       "  <thead>\n",
       "    <tr style=\"text-align: right;\">\n",
       "      <th></th>\n",
       "      <th>children</th>\n",
       "      <th>days_employed</th>\n",
       "      <th>dob_years</th>\n",
       "      <th>education</th>\n",
       "      <th>education_id</th>\n",
       "      <th>family_status</th>\n",
       "      <th>family_status_id</th>\n",
       "      <th>gender</th>\n",
       "      <th>income_type</th>\n",
       "      <th>debt</th>\n",
       "      <th>total_income</th>\n",
       "      <th>purpose</th>\n",
       "      <th>total_income_category</th>\n",
       "      <th>purpose_category</th>\n",
       "    </tr>\n",
       "  </thead>\n",
       "  <tbody>\n",
       "    <tr>\n",
       "      <th>0</th>\n",
       "      <td>1</td>\n",
       "      <td>8437.673028</td>\n",
       "      <td>42</td>\n",
       "      <td>высшее</td>\n",
       "      <td>0</td>\n",
       "      <td>женат / замужем</td>\n",
       "      <td>0</td>\n",
       "      <td>F</td>\n",
       "      <td>сотрудник</td>\n",
       "      <td>0</td>\n",
       "      <td>253875</td>\n",
       "      <td>покупка жилья</td>\n",
       "      <td>B</td>\n",
       "      <td>операции с недвижимостью</td>\n",
       "    </tr>\n",
       "    <tr>\n",
       "      <th>1</th>\n",
       "      <td>1</td>\n",
       "      <td>4024.803754</td>\n",
       "      <td>36</td>\n",
       "      <td>среднее</td>\n",
       "      <td>1</td>\n",
       "      <td>женат / замужем</td>\n",
       "      <td>0</td>\n",
       "      <td>F</td>\n",
       "      <td>сотрудник</td>\n",
       "      <td>0</td>\n",
       "      <td>112080</td>\n",
       "      <td>приобретение автомобиля</td>\n",
       "      <td>C</td>\n",
       "      <td>операции с автомобилем</td>\n",
       "    </tr>\n",
       "    <tr>\n",
       "      <th>2</th>\n",
       "      <td>0</td>\n",
       "      <td>5623.422610</td>\n",
       "      <td>33</td>\n",
       "      <td>среднее</td>\n",
       "      <td>1</td>\n",
       "      <td>женат / замужем</td>\n",
       "      <td>0</td>\n",
       "      <td>M</td>\n",
       "      <td>сотрудник</td>\n",
       "      <td>0</td>\n",
       "      <td>145885</td>\n",
       "      <td>покупка жилья</td>\n",
       "      <td>C</td>\n",
       "      <td>операции с недвижимостью</td>\n",
       "    </tr>\n",
       "    <tr>\n",
       "      <th>3</th>\n",
       "      <td>3</td>\n",
       "      <td>4124.747207</td>\n",
       "      <td>32</td>\n",
       "      <td>среднее</td>\n",
       "      <td>1</td>\n",
       "      <td>женат / замужем</td>\n",
       "      <td>0</td>\n",
       "      <td>M</td>\n",
       "      <td>сотрудник</td>\n",
       "      <td>0</td>\n",
       "      <td>267628</td>\n",
       "      <td>дополнительное образование</td>\n",
       "      <td>B</td>\n",
       "      <td>получение образования</td>\n",
       "    </tr>\n",
       "    <tr>\n",
       "      <th>4</th>\n",
       "      <td>0</td>\n",
       "      <td>340266.072047</td>\n",
       "      <td>53</td>\n",
       "      <td>среднее</td>\n",
       "      <td>1</td>\n",
       "      <td>гражданский брак</td>\n",
       "      <td>1</td>\n",
       "      <td>F</td>\n",
       "      <td>пенсионер</td>\n",
       "      <td>0</td>\n",
       "      <td>158616</td>\n",
       "      <td>сыграть свадьбу</td>\n",
       "      <td>C</td>\n",
       "      <td>проведение свадьбы</td>\n",
       "    </tr>\n",
       "    <tr>\n",
       "      <th>5</th>\n",
       "      <td>0</td>\n",
       "      <td>926.185831</td>\n",
       "      <td>27</td>\n",
       "      <td>высшее</td>\n",
       "      <td>0</td>\n",
       "      <td>гражданский брак</td>\n",
       "      <td>1</td>\n",
       "      <td>M</td>\n",
       "      <td>компаньон</td>\n",
       "      <td>0</td>\n",
       "      <td>255763</td>\n",
       "      <td>покупка жилья</td>\n",
       "      <td>B</td>\n",
       "      <td>операции с недвижимостью</td>\n",
       "    </tr>\n",
       "    <tr>\n",
       "      <th>6</th>\n",
       "      <td>0</td>\n",
       "      <td>2879.202052</td>\n",
       "      <td>43</td>\n",
       "      <td>высшее</td>\n",
       "      <td>0</td>\n",
       "      <td>женат / замужем</td>\n",
       "      <td>0</td>\n",
       "      <td>F</td>\n",
       "      <td>компаньон</td>\n",
       "      <td>0</td>\n",
       "      <td>240525</td>\n",
       "      <td>операции с жильем</td>\n",
       "      <td>B</td>\n",
       "      <td>операции с недвижимостью</td>\n",
       "    </tr>\n",
       "    <tr>\n",
       "      <th>7</th>\n",
       "      <td>0</td>\n",
       "      <td>152.779569</td>\n",
       "      <td>50</td>\n",
       "      <td>среднее</td>\n",
       "      <td>1</td>\n",
       "      <td>женат / замужем</td>\n",
       "      <td>0</td>\n",
       "      <td>M</td>\n",
       "      <td>сотрудник</td>\n",
       "      <td>0</td>\n",
       "      <td>135823</td>\n",
       "      <td>образование</td>\n",
       "      <td>C</td>\n",
       "      <td>получение образования</td>\n",
       "    </tr>\n",
       "    <tr>\n",
       "      <th>8</th>\n",
       "      <td>2</td>\n",
       "      <td>6929.865299</td>\n",
       "      <td>35</td>\n",
       "      <td>высшее</td>\n",
       "      <td>0</td>\n",
       "      <td>гражданский брак</td>\n",
       "      <td>1</td>\n",
       "      <td>F</td>\n",
       "      <td>сотрудник</td>\n",
       "      <td>0</td>\n",
       "      <td>95856</td>\n",
       "      <td>на проведение свадьбы</td>\n",
       "      <td>C</td>\n",
       "      <td>проведение свадьбы</td>\n",
       "    </tr>\n",
       "    <tr>\n",
       "      <th>9</th>\n",
       "      <td>0</td>\n",
       "      <td>2188.756445</td>\n",
       "      <td>41</td>\n",
       "      <td>среднее</td>\n",
       "      <td>1</td>\n",
       "      <td>женат / замужем</td>\n",
       "      <td>0</td>\n",
       "      <td>M</td>\n",
       "      <td>сотрудник</td>\n",
       "      <td>0</td>\n",
       "      <td>144425</td>\n",
       "      <td>покупка жилья для семьи</td>\n",
       "      <td>C</td>\n",
       "      <td>операции с недвижимостью</td>\n",
       "    </tr>\n",
       "  </tbody>\n",
       "</table>\n",
       "</div>"
      ],
      "text/plain": [
       "   children  days_employed  dob_years education  education_id  \\\n",
       "0         1    8437.673028         42    высшее             0   \n",
       "1         1    4024.803754         36   среднее             1   \n",
       "2         0    5623.422610         33   среднее             1   \n",
       "3         3    4124.747207         32   среднее             1   \n",
       "4         0  340266.072047         53   среднее             1   \n",
       "5         0     926.185831         27    высшее             0   \n",
       "6         0    2879.202052         43    высшее             0   \n",
       "7         0     152.779569         50   среднее             1   \n",
       "8         2    6929.865299         35    высшее             0   \n",
       "9         0    2188.756445         41   среднее             1   \n",
       "\n",
       "      family_status  family_status_id gender income_type  debt  total_income  \\\n",
       "0   женат / замужем                 0      F   сотрудник     0        253875   \n",
       "1   женат / замужем                 0      F   сотрудник     0        112080   \n",
       "2   женат / замужем                 0      M   сотрудник     0        145885   \n",
       "3   женат / замужем                 0      M   сотрудник     0        267628   \n",
       "4  гражданский брак                 1      F   пенсионер     0        158616   \n",
       "5  гражданский брак                 1      M   компаньон     0        255763   \n",
       "6   женат / замужем                 0      F   компаньон     0        240525   \n",
       "7   женат / замужем                 0      M   сотрудник     0        135823   \n",
       "8  гражданский брак                 1      F   сотрудник     0         95856   \n",
       "9   женат / замужем                 0      M   сотрудник     0        144425   \n",
       "\n",
       "                      purpose total_income_category          purpose_category  \n",
       "0               покупка жилья                     B  операции с недвижимостью  \n",
       "1     приобретение автомобиля                     C    операции с автомобилем  \n",
       "2               покупка жилья                     C  операции с недвижимостью  \n",
       "3  дополнительное образование                     B     получение образования  \n",
       "4             сыграть свадьбу                     C        проведение свадьбы  \n",
       "5               покупка жилья                     B  операции с недвижимостью  \n",
       "6           операции с жильем                     B  операции с недвижимостью  \n",
       "7                 образование                     C     получение образования  \n",
       "8       на проведение свадьбы                     C        проведение свадьбы  \n",
       "9     покупка жилья для семьи                     C  операции с недвижимостью  "
      ]
     },
     "execution_count": 22,
     "metadata": {},
     "output_type": "execute_result"
    }
   ],
   "source": [
    "data.head(10)"
   ]
  },
  {
   "cell_type": "markdown",
   "id": "53e9fabf",
   "metadata": {
    "deletable": false,
    "editable": false,
    "id": "09b242bf"
   },
   "source": [
    "### Шаг 3. Исследуйте данные и ответьте на вопросы"
   ]
  },
  {
   "cell_type": "markdown",
   "id": "252fe9aa",
   "metadata": {
    "deletable": false,
    "editable": false,
    "id": "c5d66278"
   },
   "source": [
    "#### 3.1 Есть ли зависимость между количеством детей и возвратом кредита в срок?"
   ]
  },
  {
   "cell_type": "code",
   "execution_count": 23,
   "id": "de64d23a",
   "metadata": {
    "deletable": false,
    "id": "2cacfc4a",
    "scrolled": true
   },
   "outputs": [
    {
     "name": "stdout",
     "output_type": "stream",
     "text": [
      "          count_children  sum_children  result_children\n",
      "children                                               \n",
      "4                     41             4         0.097561\n",
      "2                   2052           194         0.094542\n",
      "1                   4808           444         0.092346\n",
      "3                    330            27         0.081818\n",
      "0                  14091          1063         0.075438\n",
      "5                      9             0         0.000000\n"
     ]
    }
   ],
   "source": [
    "debt_from_children=pd.DataFrame()\n",
    "debt_from_children['count_children']=data.groupby['children']('debt').count()\n",
    "debt_from_children['sum_children']=data.groupby['children']('debt').sum()\n",
    "debt_from_children['result_children']=data.groupby['count_children']/['sum_children']\n",
    "debt_from_children['result_children']=data.sort_values(by='result_children', ascending=False)\n"
   ]
  },
  {
   "cell_type": "markdown",
   "id": "f3abd38e",
   "metadata": {
    "deletable": false,
    "id": "3a6b99ec"
   },
   "source": [
    "**Вывод:** С ростом количества детей в семьях уменьшается  доля возврата кредитов в срок."
   ]
  },
  {
   "cell_type": "code",
   "execution_count": null,
   "id": "e3f67558",
   "metadata": {},
   "outputs": [],
   "source": [
    "Сделаем сводную таблицу, посмотрим меняется ли значение. PS: не меняется"
   ]
  },
  {
   "cell_type": "code",
   "execution_count": 70,
   "id": "f2f908e6",
   "metadata": {},
   "outputs": [
    {
     "data": {
      "text/html": [
       "<div>\n",
       "<style scoped>\n",
       "    .dataframe tbody tr th:only-of-type {\n",
       "        vertical-align: middle;\n",
       "    }\n",
       "\n",
       "    .dataframe tbody tr th {\n",
       "        vertical-align: top;\n",
       "    }\n",
       "\n",
       "    .dataframe thead th {\n",
       "        text-align: right;\n",
       "    }\n",
       "</style>\n",
       "<table border=\"1\" class=\"dataframe\">\n",
       "  <thead>\n",
       "    <tr style=\"text-align: right;\">\n",
       "      <th></th>\n",
       "      <th>count</th>\n",
       "      <th>mean</th>\n",
       "      <th>sum</th>\n",
       "    </tr>\n",
       "    <tr>\n",
       "      <th>children</th>\n",
       "      <th></th>\n",
       "      <th></th>\n",
       "      <th></th>\n",
       "    </tr>\n",
       "  </thead>\n",
       "  <tbody>\n",
       "    <tr>\n",
       "      <th>0</th>\n",
       "      <td>14091.0</td>\n",
       "      <td>0.075438</td>\n",
       "      <td>1063.0</td>\n",
       "    </tr>\n",
       "    <tr>\n",
       "      <th>1</th>\n",
       "      <td>4808.0</td>\n",
       "      <td>0.092346</td>\n",
       "      <td>444.0</td>\n",
       "    </tr>\n",
       "    <tr>\n",
       "      <th>2</th>\n",
       "      <td>2052.0</td>\n",
       "      <td>0.094542</td>\n",
       "      <td>194.0</td>\n",
       "    </tr>\n",
       "    <tr>\n",
       "      <th>3</th>\n",
       "      <td>330.0</td>\n",
       "      <td>0.081818</td>\n",
       "      <td>27.0</td>\n",
       "    </tr>\n",
       "    <tr>\n",
       "      <th>4</th>\n",
       "      <td>41.0</td>\n",
       "      <td>0.097561</td>\n",
       "      <td>4.0</td>\n",
       "    </tr>\n",
       "    <tr>\n",
       "      <th>5</th>\n",
       "      <td>9.0</td>\n",
       "      <td>0.000000</td>\n",
       "      <td>0.0</td>\n",
       "    </tr>\n",
       "  </tbody>\n",
       "</table>\n",
       "</div>"
      ],
      "text/plain": [
       "            count      mean     sum\n",
       "children                           \n",
       "0         14091.0  0.075438  1063.0\n",
       "1          4808.0  0.092346   444.0\n",
       "2          2052.0  0.094542   194.0\n",
       "3           330.0  0.081818    27.0\n",
       "4            41.0  0.097561     4.0\n",
       "5             9.0  0.000000     0.0"
      ]
     },
     "execution_count": 70,
     "metadata": {},
     "output_type": "execute_result"
    }
   ],
   "source": [
    "data_pivot_children=data.pivot_table(index='children', values='debt', aggfunc={'count', 'sum', 'mean'})\n",
    "\n",
    "data_pivot_children"
   ]
  },
  {
   "cell_type": "markdown",
   "id": "6d78d64a",
   "metadata": {
    "deletable": false,
    "editable": false,
    "id": "97be82ca"
   },
   "source": [
    "#### 3.2 Есть ли зависимость между семейным положением и возвратом кредита в срок?"
   ]
  },
  {
   "cell_type": "code",
   "execution_count": 24,
   "id": "dd4582c9",
   "metadata": {
    "deletable": false,
    "id": "dc3f7ee8",
    "scrolled": false
   },
   "outputs": [
    {
     "name": "stdout",
     "output_type": "stream",
     "text": [
      "                       count_family_status  sum_family_status  \\\n",
      "family_status                                                   \n",
      "Не женат / не замужем                 2796                273   \n",
      "гражданский брак                      4134                385   \n",
      "женат / замужем                      12261                927   \n",
      "в разводе                             1189                 84   \n",
      "вдовец / вдова                         951                 63   \n",
      "\n",
      "                       result_family_status  \n",
      "family_status                                \n",
      "Не женат / не замужем              0.097639  \n",
      "гражданский брак                   0.093130  \n",
      "женат / замужем                    0.075606  \n",
      "в разводе                          0.070648  \n",
      "вдовец / вдова                     0.066246  \n"
     ]
    }
   ],
   "source": [
    "\n",
    "debt_from_family_status = pd.DataFrame()\n",
    "debt_from_family_status['count_family_status'] = data.groupby('family_status')['debt'].count()\n",
    "debt_from_family_status['sum_family_status'] = data.groupby('family_status')['debt'].sum()\n",
    "debt_from_family_status['result_family_status'] = debt_from_family_status['sum_family_status'] / debt_from_family_status['count_family_status'] \n",
    "print(debt_from_family_status.sort_values('result_family_status', ascending = False))\n",
    "\n",
    "\n"
   ]
  },
  {
   "cell_type": "markdown",
   "id": "5dc49f39",
   "metadata": {
    "deletable": false,
    "id": "1cef7837"
   },
   "source": [
    "**Вывод:**  Самый высокий показатель невозврата кредита в срок у свободных и находящихся в гражданском браке."
   ]
  },
  {
   "cell_type": "code",
   "execution_count": 71,
   "id": "04e9c1f8",
   "metadata": {},
   "outputs": [
    {
     "data": {
      "text/html": [
       "<div>\n",
       "<style scoped>\n",
       "    .dataframe tbody tr th:only-of-type {\n",
       "        vertical-align: middle;\n",
       "    }\n",
       "\n",
       "    .dataframe tbody tr th {\n",
       "        vertical-align: top;\n",
       "    }\n",
       "\n",
       "    .dataframe thead th {\n",
       "        text-align: right;\n",
       "    }\n",
       "</style>\n",
       "<table border=\"1\" class=\"dataframe\">\n",
       "  <thead>\n",
       "    <tr style=\"text-align: right;\">\n",
       "      <th></th>\n",
       "      <th>count</th>\n",
       "      <th>mean</th>\n",
       "      <th>sum</th>\n",
       "    </tr>\n",
       "    <tr>\n",
       "      <th>family_status</th>\n",
       "      <th></th>\n",
       "      <th></th>\n",
       "      <th></th>\n",
       "    </tr>\n",
       "  </thead>\n",
       "  <tbody>\n",
       "    <tr>\n",
       "      <th>Не женат / не замужем</th>\n",
       "      <td>2796.0</td>\n",
       "      <td>0.097639</td>\n",
       "      <td>273.0</td>\n",
       "    </tr>\n",
       "    <tr>\n",
       "      <th>в разводе</th>\n",
       "      <td>1189.0</td>\n",
       "      <td>0.070648</td>\n",
       "      <td>84.0</td>\n",
       "    </tr>\n",
       "    <tr>\n",
       "      <th>вдовец / вдова</th>\n",
       "      <td>951.0</td>\n",
       "      <td>0.066246</td>\n",
       "      <td>63.0</td>\n",
       "    </tr>\n",
       "    <tr>\n",
       "      <th>гражданский брак</th>\n",
       "      <td>4134.0</td>\n",
       "      <td>0.093130</td>\n",
       "      <td>385.0</td>\n",
       "    </tr>\n",
       "    <tr>\n",
       "      <th>женат / замужем</th>\n",
       "      <td>12261.0</td>\n",
       "      <td>0.075606</td>\n",
       "      <td>927.0</td>\n",
       "    </tr>\n",
       "  </tbody>\n",
       "</table>\n",
       "</div>"
      ],
      "text/plain": [
       "                         count      mean    sum\n",
       "family_status                                  \n",
       "Не женат / не замужем   2796.0  0.097639  273.0\n",
       "в разводе               1189.0  0.070648   84.0\n",
       "вдовец / вдова           951.0  0.066246   63.0\n",
       "гражданский брак        4134.0  0.093130  385.0\n",
       "женат / замужем        12261.0  0.075606  927.0"
      ]
     },
     "execution_count": 71,
     "metadata": {},
     "output_type": "execute_result"
    }
   ],
   "source": [
    "data_pivot_family_status=data.pivot_table(index='family_status', values='debt', aggfunc={'count', 'sum', 'mean'})\n",
    "\n",
    "data_pivot_family_status"
   ]
  },
  {
   "cell_type": "markdown",
   "id": "3e49d586",
   "metadata": {
    "deletable": false,
    "editable": false,
    "id": "1e8b2fca"
   },
   "source": [
    "#### 3.3 Есть ли зависимость между уровнем дохода и возвратом кредита в срок?"
   ]
  },
  {
   "cell_type": "code",
   "execution_count": 25,
   "id": "2dc2c7da",
   "metadata": {
    "deletable": false,
    "id": "cd7e3720"
   },
   "outputs": [
    {
     "name": "stdout",
     "output_type": "stream",
     "text": [
      "                       count_total_income_category  sum_total_income_category  \\\n",
      "total_income_category                                                           \n",
      "E                                               22                          2   \n",
      "D                                              349                         21   \n",
      "C                                            15921                       1353   \n",
      "B                                             5014                        354   \n",
      "A                                               25                          2   \n",
      "\n",
      "                       result_total_income_category  \n",
      "total_income_category                                \n",
      "E                                          0.090909  \n",
      "D                                          0.060172  \n",
      "C                                          0.084982  \n",
      "B                                          0.070602  \n",
      "A                                          0.080000  \n"
     ]
    }
   ],
   "source": [
    "\n",
    "debt_from_total_income_category = pd.DataFrame()\n",
    "debt_from_total_income_category['count_total_income_category'] = data.groupby('total_income_category')['debt'].count()\n",
    "debt_from_total_income_category['sum_total_income_category'] = data.groupby('total_income_category')['debt'].sum()\n",
    "debt_from_total_income_category['result_total_income_category'] = debt_from_total_income_category['sum_total_income_category'] / debt_from_total_income_category['count_total_income_category'] \n",
    "print(debt_from_total_income_category.sort_values('total_income_category', ascending = False))"
   ]
  },
  {
   "cell_type": "markdown",
   "id": "c29d6ace",
   "metadata": {
    "deletable": false,
    "id": "e8593def"
   },
   "source": [
    "**Вывод:** Хуже всего с возвратом кредита в срок у категории с доходом до 30000 рублей в месяц. Самыми объемными группами являются  семьи с доходом 50001–200000 — 'C' и 200001–1000000 — 'B'. И по таблице иы видим, что чем выше доход, тем  легче семьям планировать свои расходы и не задерживать выплату кредита."
   ]
  },
  {
   "cell_type": "code",
   "execution_count": 72,
   "id": "02c4324a",
   "metadata": {
    "scrolled": true
   },
   "outputs": [
    {
     "data": {
      "text/html": [
       "<div>\n",
       "<style scoped>\n",
       "    .dataframe tbody tr th:only-of-type {\n",
       "        vertical-align: middle;\n",
       "    }\n",
       "\n",
       "    .dataframe tbody tr th {\n",
       "        vertical-align: top;\n",
       "    }\n",
       "\n",
       "    .dataframe thead th {\n",
       "        text-align: right;\n",
       "    }\n",
       "</style>\n",
       "<table border=\"1\" class=\"dataframe\">\n",
       "  <thead>\n",
       "    <tr style=\"text-align: right;\">\n",
       "      <th></th>\n",
       "      <th>count</th>\n",
       "      <th>mean</th>\n",
       "      <th>sum</th>\n",
       "    </tr>\n",
       "    <tr>\n",
       "      <th>total_income_category</th>\n",
       "      <th></th>\n",
       "      <th></th>\n",
       "      <th></th>\n",
       "    </tr>\n",
       "  </thead>\n",
       "  <tbody>\n",
       "    <tr>\n",
       "      <th>A</th>\n",
       "      <td>25.0</td>\n",
       "      <td>0.080000</td>\n",
       "      <td>2.0</td>\n",
       "    </tr>\n",
       "    <tr>\n",
       "      <th>B</th>\n",
       "      <td>5014.0</td>\n",
       "      <td>0.070602</td>\n",
       "      <td>354.0</td>\n",
       "    </tr>\n",
       "    <tr>\n",
       "      <th>C</th>\n",
       "      <td>15921.0</td>\n",
       "      <td>0.084982</td>\n",
       "      <td>1353.0</td>\n",
       "    </tr>\n",
       "    <tr>\n",
       "      <th>D</th>\n",
       "      <td>349.0</td>\n",
       "      <td>0.060172</td>\n",
       "      <td>21.0</td>\n",
       "    </tr>\n",
       "    <tr>\n",
       "      <th>E</th>\n",
       "      <td>22.0</td>\n",
       "      <td>0.090909</td>\n",
       "      <td>2.0</td>\n",
       "    </tr>\n",
       "  </tbody>\n",
       "</table>\n",
       "</div>"
      ],
      "text/plain": [
       "                         count      mean     sum\n",
       "total_income_category                           \n",
       "A                         25.0  0.080000     2.0\n",
       "B                       5014.0  0.070602   354.0\n",
       "C                      15921.0  0.084982  1353.0\n",
       "D                        349.0  0.060172    21.0\n",
       "E                         22.0  0.090909     2.0"
      ]
     },
     "execution_count": 72,
     "metadata": {},
     "output_type": "execute_result"
    }
   ],
   "source": [
    "data_pivot_total_income_category=data.pivot_table(index='total_income_category', values='debt', aggfunc={'count', 'sum', 'mean'})\n",
    "\n",
    "data_pivot_total_income_category"
   ]
  },
  {
   "cell_type": "markdown",
   "id": "834a5266",
   "metadata": {
    "deletable": false,
    "editable": false,
    "id": "99ecbd1f"
   },
   "source": [
    "#### 3.4 Как разные цели кредита влияют на его возврат в срок?"
   ]
  },
  {
   "cell_type": "code",
   "execution_count": 27,
   "id": "8dff91ef",
   "metadata": {
    "deletable": false,
    "id": "2b687290"
   },
   "outputs": [
    {
     "name": "stdout",
     "output_type": "stream",
     "text": [
      "                          count_purpose_category  sum_purpose_category  \\\n",
      "purpose_category                                                         \n",
      "проведение свадьбы                          2313                   183   \n",
      "получение образования                       3988                   369   \n",
      "операции с недвижимостью                   10751                   780   \n",
      "операции с автомобилем                      4279                   400   \n",
      "\n",
      "                          result_purpose_category  \n",
      "purpose_category                                   \n",
      "проведение свадьбы                       0.079118  \n",
      "получение образования                    0.092528  \n",
      "операции с недвижимостью                 0.072551  \n",
      "операции с автомобилем                   0.093480  \n"
     ]
    }
   ],
   "source": [
    "\n",
    "debt_from_purpose_category = pd.DataFrame()\n",
    "debt_from_purpose_category['count_purpose_category'] = data.groupby('purpose_category')['debt'].count()\n",
    "debt_from_purpose_category['sum_purpose_category'] = data.groupby('purpose_category')['debt'].sum()\n",
    "debt_from_purpose_category['result_purpose_category'] = debt_from_purpose_category['sum_purpose_category'] / debt_from_purpose_category['count_purpose_category'] \n",
    "print(debt_from_purpose_category.sort_values('purpose_category', ascending = False))"
   ]
  },
  {
   "cell_type": "markdown",
   "id": "b76b8352",
   "metadata": {
    "deletable": false,
    "id": "b4bb2ce6"
   },
   "source": [
    "**Вывод:** Кредиты, взятые на покупку автомобиля и на получение образования реже всего отдают в срок."
   ]
  },
  {
   "cell_type": "code",
   "execution_count": 73,
   "id": "2fafe16e",
   "metadata": {},
   "outputs": [
    {
     "data": {
      "text/html": [
       "<div>\n",
       "<style scoped>\n",
       "    .dataframe tbody tr th:only-of-type {\n",
       "        vertical-align: middle;\n",
       "    }\n",
       "\n",
       "    .dataframe tbody tr th {\n",
       "        vertical-align: top;\n",
       "    }\n",
       "\n",
       "    .dataframe thead th {\n",
       "        text-align: right;\n",
       "    }\n",
       "</style>\n",
       "<table border=\"1\" class=\"dataframe\">\n",
       "  <thead>\n",
       "    <tr style=\"text-align: right;\">\n",
       "      <th></th>\n",
       "      <th>count</th>\n",
       "      <th>mean</th>\n",
       "      <th>sum</th>\n",
       "    </tr>\n",
       "    <tr>\n",
       "      <th>purpose_category</th>\n",
       "      <th></th>\n",
       "      <th></th>\n",
       "      <th></th>\n",
       "    </tr>\n",
       "  </thead>\n",
       "  <tbody>\n",
       "    <tr>\n",
       "      <th>операции с автомобилем</th>\n",
       "      <td>4279.0</td>\n",
       "      <td>0.093480</td>\n",
       "      <td>400.0</td>\n",
       "    </tr>\n",
       "    <tr>\n",
       "      <th>операции с недвижимостью</th>\n",
       "      <td>10751.0</td>\n",
       "      <td>0.072551</td>\n",
       "      <td>780.0</td>\n",
       "    </tr>\n",
       "    <tr>\n",
       "      <th>получение образования</th>\n",
       "      <td>3988.0</td>\n",
       "      <td>0.092528</td>\n",
       "      <td>369.0</td>\n",
       "    </tr>\n",
       "    <tr>\n",
       "      <th>проведение свадьбы</th>\n",
       "      <td>2313.0</td>\n",
       "      <td>0.079118</td>\n",
       "      <td>183.0</td>\n",
       "    </tr>\n",
       "  </tbody>\n",
       "</table>\n",
       "</div>"
      ],
      "text/plain": [
       "                            count      mean    sum\n",
       "purpose_category                                  \n",
       "операции с автомобилем     4279.0  0.093480  400.0\n",
       "операции с недвижимостью  10751.0  0.072551  780.0\n",
       "получение образования      3988.0  0.092528  369.0\n",
       "проведение свадьбы         2313.0  0.079118  183.0"
      ]
     },
     "execution_count": 73,
     "metadata": {},
     "output_type": "execute_result"
    }
   ],
   "source": [
    "data_pivot_purpose_category=data.pivot_table(index='purpose_category', values='debt', aggfunc={'count', 'sum', 'mean'})\n",
    "\n",
    "data_pivot_purpose_category"
   ]
  },
  {
   "cell_type": "markdown",
   "id": "039d2014",
   "metadata": {
    "deletable": false,
    "editable": false,
    "id": "09c3ac4c"
   },
   "source": [
    "#### 3.5 Приведите возможные причины появления пропусков в исходных данных."
   ]
  },
  {
   "cell_type": "markdown",
   "id": "0389b279",
   "metadata": {
    "deletable": false,
    "id": "9da2ceda"
   },
   "source": [
    "*Ответ:* Пропуски в исходных данных могут быть из-за неполного заполнения или непонятного заполнения анкет физ-лицом, который берет кредит. Либо при переносе с бумажного носителя в базу сотрудника банка. Также при формировании сводных таблиц часть информации может быть утеряна."
   ]
  },
  {
   "cell_type": "markdown",
   "id": "bd109900",
   "metadata": {
    "deletable": false,
    "editable": false,
    "id": "7b0487d6"
   },
   "source": [
    "#### 3.6 Объясните, почему заполнить пропуски медианным значением — лучшее решение для количественных переменных."
   ]
  },
  {
   "cell_type": "markdown",
   "id": "27860f21",
   "metadata": {
    "deletable": false,
    "id": "7ecf2b8e"
   },
   "source": [
    "*Ответ:* У количественных переменных может быть очень широкий диапазон значений. И минимальное и максимальное значение могут сильно повлиять на среднее значение диапазонаю Поэтому, в таких случаях, лучше всего использовать значение медианы."
   ]
  },
  {
   "cell_type": "markdown",
   "id": "9271e991",
   "metadata": {
    "deletable": false,
    "editable": false,
    "id": "6db5255a"
   },
   "source": [
    "### Шаг 4: общий вывод."
   ]
  },
  {
   "cell_type": "markdown",
   "id": "38eb1436",
   "metadata": {
    "deletable": false,
    "id": "bad65432"
   },
   "source": [
    "Мы проделали большую работу!\n",
    "\n",
    "Считали таблицу с данными и изучили ее.\n",
    "\n",
    "Нашли ошибки и исправили их:\n",
    "-Заменили пустые значения в двух столбцах days_employed и total_income медианными значениями по каждой категории данных,\n",
    "-В столбце children удалили строки, в которых встречаются аномальные значения из датафрейма data,\n",
    "-Заменили вещественный тип данных в столбце total_income на целочисленный с помощью метода astype(),\n",
    "-Обработали неявные дубликаты в столбце education, привели их к нижнему регистру, \n",
    "-Категоризовали данные в столбце total_income и purpose по категориям.\n",
    "\n",
    "Закончив предварительную обработку данных, присткпили к исследованиюю\n",
    "\n",
    "Мы исследовани следующие параметры, влияющие на сроки погашения кредита:\n",
    "-влияние количества детей,\n",
    "-влияние семейного положения,\n",
    "-влияние дохода семьи,\n",
    "-влияние цели кредита.\n",
    "\n",
    "Закончив расчеты мы можем говорить о том что:\n",
    "\n",
    "Лучше всего отдают кредиты на операции с недвижимостью и на проведение свадьбы, а на покупку автомобиля или на учебу - реже. Хуже всего с выплатой кредитов у категории с минимальной и максимальной доходностью. Низкие  показатели выплаты кредита в срок у неженатых и холостых и у пар, находящихся в гражданском браке. Также рост просрочки кредита увеличивается с ростом количества детей в семье."
   ]
  }
 ],
 "metadata": {
  "ExecuteTimeLog": [
   {
    "duration": 471,
    "start_time": "2022-09-13T08:41:00.796Z"
   },
   {
    "duration": 17,
    "start_time": "2022-09-13T08:41:40.756Z"
   },
   {
    "duration": 25,
    "start_time": "2022-09-13T08:46:12.864Z"
   },
   {
    "duration": 14,
    "start_time": "2022-09-13T08:46:18.158Z"
   },
   {
    "duration": 21,
    "start_time": "2022-09-13T08:50:13.905Z"
   },
   {
    "duration": 9,
    "start_time": "2022-09-13T08:50:41.194Z"
   },
   {
    "duration": 32,
    "start_time": "2022-09-13T08:50:59.105Z"
   },
   {
    "duration": 4,
    "start_time": "2022-09-13T08:51:04.373Z"
   },
   {
    "duration": 8,
    "start_time": "2022-09-13T08:52:49.839Z"
   },
   {
    "duration": 32,
    "start_time": "2022-09-13T08:54:48.200Z"
   },
   {
    "duration": 4,
    "start_time": "2022-09-13T08:54:50.813Z"
   },
   {
    "duration": 8,
    "start_time": "2022-09-13T08:54:54.074Z"
   },
   {
    "duration": 5,
    "start_time": "2022-09-13T08:55:02.083Z"
   },
   {
    "duration": 7,
    "start_time": "2022-09-13T08:55:52.800Z"
   },
   {
    "duration": 5,
    "start_time": "2022-09-13T08:56:19.011Z"
   },
   {
    "duration": 34,
    "start_time": "2022-09-13T08:57:18.424Z"
   },
   {
    "duration": 10,
    "start_time": "2022-09-13T08:58:33.909Z"
   },
   {
    "duration": 4,
    "start_time": "2022-09-13T08:59:43.444Z"
   },
   {
    "duration": 11,
    "start_time": "2022-09-13T09:02:42.770Z"
   },
   {
    "duration": 21,
    "start_time": "2022-09-13T09:02:47.916Z"
   },
   {
    "duration": 19,
    "start_time": "2022-09-13T09:03:35.112Z"
   },
   {
    "duration": 4,
    "start_time": "2022-09-13T09:06:23.786Z"
   },
   {
    "duration": 10,
    "start_time": "2022-09-13T09:06:31.466Z"
   },
   {
    "duration": 8,
    "start_time": "2022-09-13T09:07:54.816Z"
   },
   {
    "duration": 4,
    "start_time": "2022-09-13T09:09:28.066Z"
   },
   {
    "duration": 9,
    "start_time": "2022-09-13T09:09:35.180Z"
   },
   {
    "duration": 18,
    "start_time": "2022-09-13T10:22:28.556Z"
   },
   {
    "duration": 14,
    "start_time": "2022-09-13T10:22:40.660Z"
   },
   {
    "duration": 18,
    "start_time": "2022-09-13T10:31:25.463Z"
   },
   {
    "duration": 88,
    "start_time": "2022-09-13T10:34:03.463Z"
   },
   {
    "duration": 102,
    "start_time": "2022-09-13T10:34:23.810Z"
   },
   {
    "duration": 4,
    "start_time": "2022-09-13T10:34:52.065Z"
   },
   {
    "duration": 18,
    "start_time": "2022-09-13T10:34:58.380Z"
   },
   {
    "duration": 19,
    "start_time": "2022-09-13T10:35:49.060Z"
   },
   {
    "duration": 9,
    "start_time": "2022-09-13T11:06:47.411Z"
   },
   {
    "duration": 8,
    "start_time": "2022-09-13T11:07:31.217Z"
   },
   {
    "duration": 8,
    "start_time": "2022-09-13T11:12:40.734Z"
   },
   {
    "duration": 7,
    "start_time": "2022-09-13T11:12:55.399Z"
   },
   {
    "duration": 7,
    "start_time": "2022-09-13T11:14:14.449Z"
   },
   {
    "duration": 1538,
    "start_time": "2022-09-13T11:23:17.291Z"
   },
   {
    "duration": 1239,
    "start_time": "2022-09-13T11:23:38.905Z"
   },
   {
    "duration": 17,
    "start_time": "2022-09-13T11:24:21.789Z"
   },
   {
    "duration": 15,
    "start_time": "2022-09-13T11:26:07.346Z"
   },
   {
    "duration": 15,
    "start_time": "2022-09-13T11:26:14.101Z"
   },
   {
    "duration": 19,
    "start_time": "2022-09-13T11:27:06.667Z"
   },
   {
    "duration": 14,
    "start_time": "2022-09-13T11:43:24.465Z"
   },
   {
    "duration": 11,
    "start_time": "2022-09-13T11:57:12.782Z"
   },
   {
    "duration": 14,
    "start_time": "2022-09-13T11:59:34.654Z"
   },
   {
    "duration": 19,
    "start_time": "2022-09-13T12:00:07.688Z"
   },
   {
    "duration": 19,
    "start_time": "2022-09-13T12:02:04.999Z"
   },
   {
    "duration": 19,
    "start_time": "2022-09-13T12:02:18.369Z"
   },
   {
    "duration": 18,
    "start_time": "2022-09-13T12:07:03.860Z"
   },
   {
    "duration": 28,
    "start_time": "2022-09-13T12:07:19.875Z"
   },
   {
    "duration": 25,
    "start_time": "2022-09-13T12:07:58.173Z"
   },
   {
    "duration": 25,
    "start_time": "2022-09-13T12:09:15.614Z"
   },
   {
    "duration": 9,
    "start_time": "2022-09-13T12:11:16.184Z"
   },
   {
    "duration": 15,
    "start_time": "2022-09-13T12:20:02.981Z"
   },
   {
    "duration": 72,
    "start_time": "2022-09-13T12:23:59.912Z"
   },
   {
    "duration": 31,
    "start_time": "2022-09-13T12:24:10.784Z"
   },
   {
    "duration": 18,
    "start_time": "2022-09-13T12:25:23.967Z"
   },
   {
    "duration": 15,
    "start_time": "2022-09-13T12:25:54.336Z"
   },
   {
    "duration": 13,
    "start_time": "2022-09-13T12:27:38.517Z"
   },
   {
    "duration": 16,
    "start_time": "2022-09-13T12:29:11.113Z"
   },
   {
    "duration": 15,
    "start_time": "2022-09-13T12:33:25.695Z"
   },
   {
    "duration": 16,
    "start_time": "2022-09-13T12:34:18.420Z"
   },
   {
    "duration": 15,
    "start_time": "2022-09-13T12:52:49.180Z"
   },
   {
    "duration": 17,
    "start_time": "2022-09-13T12:56:16.486Z"
   },
   {
    "duration": 17,
    "start_time": "2022-09-13T12:56:33.854Z"
   },
   {
    "duration": 16,
    "start_time": "2022-09-13T12:56:44.762Z"
   },
   {
    "duration": 19,
    "start_time": "2022-09-13T12:57:51.991Z"
   },
   {
    "duration": 19,
    "start_time": "2022-09-13T12:58:26.768Z"
   },
   {
    "duration": 19,
    "start_time": "2022-09-13T13:05:16.546Z"
   },
   {
    "duration": 18,
    "start_time": "2022-09-13T13:06:27.265Z"
   },
   {
    "duration": 18,
    "start_time": "2022-09-13T13:18:33.274Z"
   },
   {
    "duration": 17,
    "start_time": "2022-09-13T13:19:16.562Z"
   },
   {
    "duration": 8,
    "start_time": "2022-09-13T14:12:40.333Z"
   },
   {
    "duration": 11,
    "start_time": "2022-09-13T14:13:04.333Z"
   },
   {
    "duration": 12,
    "start_time": "2022-09-13T14:14:07.890Z"
   },
   {
    "duration": 11,
    "start_time": "2022-09-13T14:16:30.196Z"
   },
   {
    "duration": 15,
    "start_time": "2022-09-13T14:16:45.630Z"
   },
   {
    "duration": 0,
    "start_time": "2022-09-13T14:17:25.088Z"
   },
   {
    "duration": 14,
    "start_time": "2022-09-13T14:17:56.429Z"
   },
   {
    "duration": 1534,
    "start_time": "2022-09-13T14:25:34.531Z"
   },
   {
    "duration": 12,
    "start_time": "2022-09-13T14:26:08.298Z"
   },
   {
    "duration": 11,
    "start_time": "2022-09-13T14:28:57.691Z"
   },
   {
    "duration": 1271,
    "start_time": "2022-09-13T14:29:23.777Z"
   },
   {
    "duration": 15,
    "start_time": "2022-09-13T14:30:09.502Z"
   },
   {
    "duration": 51,
    "start_time": "2022-09-14T07:44:58.992Z"
   },
   {
    "duration": 502,
    "start_time": "2022-09-14T07:45:18.018Z"
   },
   {
    "duration": 20,
    "start_time": "2022-09-14T07:45:18.522Z"
   },
   {
    "duration": 13,
    "start_time": "2022-09-14T07:45:18.544Z"
   },
   {
    "duration": 12,
    "start_time": "2022-09-14T07:45:18.560Z"
   },
   {
    "duration": 43,
    "start_time": "2022-09-14T07:45:18.574Z"
   },
   {
    "duration": 3,
    "start_time": "2022-09-14T07:45:18.618Z"
   },
   {
    "duration": 9,
    "start_time": "2022-09-14T07:45:18.623Z"
   },
   {
    "duration": 5,
    "start_time": "2022-09-14T07:45:18.634Z"
   },
   {
    "duration": 8,
    "start_time": "2022-09-14T07:45:18.641Z"
   },
   {
    "duration": 4,
    "start_time": "2022-09-14T07:45:18.653Z"
   },
   {
    "duration": 65,
    "start_time": "2022-09-14T07:45:18.658Z"
   },
   {
    "duration": 11,
    "start_time": "2022-09-14T07:45:18.725Z"
   },
   {
    "duration": 4,
    "start_time": "2022-09-14T07:45:18.738Z"
   },
   {
    "duration": 11,
    "start_time": "2022-09-14T07:45:18.744Z"
   },
   {
    "duration": 16,
    "start_time": "2022-09-14T07:45:18.757Z"
   },
   {
    "duration": 39,
    "start_time": "2022-09-14T07:45:18.774Z"
   },
   {
    "duration": 3,
    "start_time": "2022-09-14T07:45:18.815Z"
   },
   {
    "duration": 13,
    "start_time": "2022-09-14T07:45:18.819Z"
   },
   {
    "duration": 5,
    "start_time": "2022-09-14T07:45:18.833Z"
   },
   {
    "duration": 4,
    "start_time": "2022-09-14T07:45:18.839Z"
   },
   {
    "duration": 12,
    "start_time": "2022-09-14T07:45:18.844Z"
   },
   {
    "duration": 13,
    "start_time": "2022-09-14T07:45:18.857Z"
   },
   {
    "duration": 12,
    "start_time": "2022-09-14T07:45:18.906Z"
   },
   {
    "duration": 19,
    "start_time": "2022-09-14T07:45:18.920Z"
   },
   {
    "duration": 10,
    "start_time": "2022-09-14T07:45:18.941Z"
   },
   {
    "duration": 13,
    "start_time": "2022-09-14T07:45:18.953Z"
   },
   {
    "duration": 11,
    "start_time": "2022-09-14T07:47:55.129Z"
   },
   {
    "duration": 55,
    "start_time": "2022-09-15T07:01:35.657Z"
   },
   {
    "duration": 97,
    "start_time": "2022-09-15T07:01:42.609Z"
   },
   {
    "duration": 0,
    "start_time": "2022-09-15T07:01:42.709Z"
   },
   {
    "duration": 0,
    "start_time": "2022-09-15T07:01:42.710Z"
   },
   {
    "duration": 0,
    "start_time": "2022-09-15T07:01:42.712Z"
   },
   {
    "duration": 0,
    "start_time": "2022-09-15T07:01:42.714Z"
   },
   {
    "duration": 0,
    "start_time": "2022-09-15T07:01:42.715Z"
   },
   {
    "duration": 0,
    "start_time": "2022-09-15T07:01:42.717Z"
   },
   {
    "duration": 0,
    "start_time": "2022-09-15T07:01:42.718Z"
   },
   {
    "duration": 0,
    "start_time": "2022-09-15T07:01:42.719Z"
   },
   {
    "duration": 0,
    "start_time": "2022-09-15T07:01:42.720Z"
   },
   {
    "duration": 69,
    "start_time": "2022-09-15T07:01:42.723Z"
   },
   {
    "duration": 0,
    "start_time": "2022-09-15T07:01:42.794Z"
   },
   {
    "duration": 0,
    "start_time": "2022-09-15T07:01:42.796Z"
   },
   {
    "duration": 0,
    "start_time": "2022-09-15T07:01:42.823Z"
   },
   {
    "duration": 0,
    "start_time": "2022-09-15T07:01:42.824Z"
   },
   {
    "duration": 0,
    "start_time": "2022-09-15T07:01:42.826Z"
   },
   {
    "duration": 0,
    "start_time": "2022-09-15T07:01:42.827Z"
   },
   {
    "duration": 0,
    "start_time": "2022-09-15T07:01:42.828Z"
   },
   {
    "duration": 0,
    "start_time": "2022-09-15T07:01:42.829Z"
   },
   {
    "duration": 0,
    "start_time": "2022-09-15T07:01:42.830Z"
   },
   {
    "duration": 0,
    "start_time": "2022-09-15T07:01:42.831Z"
   },
   {
    "duration": 0,
    "start_time": "2022-09-15T07:01:42.833Z"
   },
   {
    "duration": 6,
    "start_time": "2022-09-15T07:01:42.835Z"
   },
   {
    "duration": 0,
    "start_time": "2022-09-15T07:01:42.843Z"
   },
   {
    "duration": 0,
    "start_time": "2022-09-15T07:01:42.844Z"
   },
   {
    "duration": 0,
    "start_time": "2022-09-15T07:01:42.846Z"
   },
   {
    "duration": 8,
    "start_time": "2022-09-15T07:01:42.887Z"
   },
   {
    "duration": 8,
    "start_time": "2022-09-15T07:01:42.928Z"
   },
   {
    "duration": 8,
    "start_time": "2022-09-15T07:01:58.671Z"
   },
   {
    "duration": 805,
    "start_time": "2022-09-15T07:02:17.754Z"
   },
   {
    "duration": 34,
    "start_time": "2022-09-15T07:02:18.561Z"
   },
   {
    "duration": 25,
    "start_time": "2022-09-15T07:02:18.597Z"
   },
   {
    "duration": 11,
    "start_time": "2022-09-15T07:02:18.625Z"
   },
   {
    "duration": 34,
    "start_time": "2022-09-15T07:02:18.638Z"
   },
   {
    "duration": 4,
    "start_time": "2022-09-15T07:02:18.674Z"
   },
   {
    "duration": 19,
    "start_time": "2022-09-15T07:02:18.681Z"
   },
   {
    "duration": 6,
    "start_time": "2022-09-15T07:02:18.723Z"
   },
   {
    "duration": 19,
    "start_time": "2022-09-15T07:02:18.731Z"
   },
   {
    "duration": 15,
    "start_time": "2022-09-15T07:02:18.755Z"
   },
   {
    "duration": 62,
    "start_time": "2022-09-15T07:02:18.772Z"
   },
   {
    "duration": 15,
    "start_time": "2022-09-15T07:02:18.836Z"
   },
   {
    "duration": 22,
    "start_time": "2022-09-15T07:02:18.853Z"
   },
   {
    "duration": 24,
    "start_time": "2022-09-15T07:02:18.878Z"
   },
   {
    "duration": 29,
    "start_time": "2022-09-15T07:02:18.904Z"
   },
   {
    "duration": 39,
    "start_time": "2022-09-15T07:02:18.935Z"
   },
   {
    "duration": 12,
    "start_time": "2022-09-15T07:02:18.977Z"
   },
   {
    "duration": 27,
    "start_time": "2022-09-15T07:02:18.991Z"
   },
   {
    "duration": 68,
    "start_time": "2022-09-15T07:02:19.020Z"
   },
   {
    "duration": 26,
    "start_time": "2022-09-15T07:02:19.090Z"
   },
   {
    "duration": 44,
    "start_time": "2022-09-15T07:02:19.119Z"
   },
   {
    "duration": 46,
    "start_time": "2022-09-15T07:02:19.166Z"
   },
   {
    "duration": 21,
    "start_time": "2022-09-15T07:02:19.215Z"
   },
   {
    "duration": 21,
    "start_time": "2022-09-15T07:02:19.239Z"
   },
   {
    "duration": 17,
    "start_time": "2022-09-15T07:02:19.262Z"
   },
   {
    "duration": 203,
    "start_time": "2022-09-15T07:02:19.281Z"
   },
   {
    "duration": 20,
    "start_time": "2022-09-15T07:02:19.486Z"
   },
   {
    "duration": 37,
    "start_time": "2022-09-15T07:03:02.797Z"
   },
   {
    "duration": 24,
    "start_time": "2022-09-15T07:05:39.186Z"
   },
   {
    "duration": 38,
    "start_time": "2022-09-15T07:07:00.183Z"
   },
   {
    "duration": 38,
    "start_time": "2022-09-15T07:08:40.495Z"
   },
   {
    "duration": 65,
    "start_time": "2022-09-15T07:10:46.437Z"
   },
   {
    "duration": 27,
    "start_time": "2022-09-15T07:13:27.254Z"
   },
   {
    "duration": 48,
    "start_time": "2022-09-15T07:14:01.178Z"
   },
   {
    "duration": 40,
    "start_time": "2022-09-15T07:15:04.309Z"
   },
   {
    "duration": 188,
    "start_time": "2022-09-15T07:18:56.216Z"
   },
   {
    "duration": 226,
    "start_time": "2022-09-15T07:19:14.637Z"
   },
   {
    "duration": 22,
    "start_time": "2022-09-15T07:19:52.940Z"
   },
   {
    "duration": 81,
    "start_time": "2022-09-15T07:20:42.220Z"
   },
   {
    "duration": 30,
    "start_time": "2022-09-15T07:21:04.975Z"
   },
   {
    "duration": 31,
    "start_time": "2022-09-15T07:22:43.112Z"
   },
   {
    "duration": 23,
    "start_time": "2022-09-15T07:23:11.361Z"
   },
   {
    "duration": 32,
    "start_time": "2022-09-15T07:23:52.357Z"
   },
   {
    "duration": 14,
    "start_time": "2022-09-15T07:25:48.185Z"
   },
   {
    "duration": 70,
    "start_time": "2022-09-15T07:34:17.416Z"
   },
   {
    "duration": 106,
    "start_time": "2022-09-15T07:34:31.119Z"
   },
   {
    "duration": 8,
    "start_time": "2022-09-15T07:36:35.715Z"
   },
   {
    "duration": 14,
    "start_time": "2022-09-15T07:37:09.546Z"
   },
   {
    "duration": 17,
    "start_time": "2022-09-15T07:37:21.183Z"
   },
   {
    "duration": 96,
    "start_time": "2022-09-15T07:37:43.395Z"
   },
   {
    "duration": 16,
    "start_time": "2022-09-15T07:38:13.490Z"
   },
   {
    "duration": 18,
    "start_time": "2022-09-15T07:39:47.845Z"
   },
   {
    "duration": 93,
    "start_time": "2022-09-15T07:41:08.983Z"
   },
   {
    "duration": 16,
    "start_time": "2022-09-15T07:41:32.683Z"
   },
   {
    "duration": 23,
    "start_time": "2022-09-15T07:41:54.521Z"
   },
   {
    "duration": 63,
    "start_time": "2022-09-15T08:02:13.785Z"
   },
   {
    "duration": 83,
    "start_time": "2022-09-15T08:02:19.459Z"
   },
   {
    "duration": 25,
    "start_time": "2022-09-15T08:02:47.805Z"
   },
   {
    "duration": 25,
    "start_time": "2022-09-15T08:03:28.525Z"
   },
   {
    "duration": 1634,
    "start_time": "2022-09-15T08:33:20.011Z"
   },
   {
    "duration": 22,
    "start_time": "2022-09-15T08:34:13.331Z"
   },
   {
    "duration": 21,
    "start_time": "2022-09-15T08:35:00.933Z"
   },
   {
    "duration": 999,
    "start_time": "2022-09-15T08:35:23.040Z"
   },
   {
    "duration": 24,
    "start_time": "2022-09-15T08:36:01.079Z"
   },
   {
    "duration": 23,
    "start_time": "2022-09-15T08:36:15.867Z"
   },
   {
    "duration": 63,
    "start_time": "2022-09-15T09:09:48.614Z"
   },
   {
    "duration": 114,
    "start_time": "2022-09-15T09:10:00.600Z"
   },
   {
    "duration": 74,
    "start_time": "2022-09-15T09:10:16.358Z"
   },
   {
    "duration": 20,
    "start_time": "2022-09-15T09:10:25.958Z"
   },
   {
    "duration": 29,
    "start_time": "2022-09-15T09:11:40.707Z"
   },
   {
    "duration": 20,
    "start_time": "2022-09-15T09:13:51.191Z"
   },
   {
    "duration": 21,
    "start_time": "2022-09-15T09:15:20.027Z"
   },
   {
    "duration": 21,
    "start_time": "2022-09-15T09:17:08.003Z"
   }
  ],
  "colab": {
   "name": "dpp_template_part2.ipynb",
   "provenance": []
  },
  "kernelspec": {
   "display_name": "Python 3 (ipykernel)",
   "language": "python",
   "name": "python3"
  },
  "language_info": {
   "codemirror_mode": {
    "name": "ipython",
    "version": 3
   },
   "file_extension": ".py",
   "mimetype": "text/x-python",
   "name": "python",
   "nbconvert_exporter": "python",
   "pygments_lexer": "ipython3",
   "version": "3.9.5"
  },
  "toc": {
   "base_numbering": 1,
   "nav_menu": {},
   "number_sections": true,
   "sideBar": true,
   "skip_h1_title": true,
   "title_cell": "Table of Contents",
   "title_sidebar": "Contents",
   "toc_cell": false,
   "toc_position": {},
   "toc_section_display": true,
   "toc_window_display": false
  }
 },
 "nbformat": 4,
 "nbformat_minor": 5
}
