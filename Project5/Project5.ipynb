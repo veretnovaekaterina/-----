{
 "cells": [
  {
   "cell_type": "markdown",
   "metadata": {},
   "source": [
    "# 1. Откроем файл с данными и изучим общую информацию. Подготовим данные к работе."
   ]
  },
  {
   "cell_type": "code",
   "execution_count": 1,
   "metadata": {},
   "outputs": [],
   "source": [
    "# Загружаем необходимые библиотеки\n",
    "import pandas as pd\n",
    "import datetime\n",
    "import matplotlib.pyplot as plt\n",
    "import seaborn as sns\n",
    "import numpy as np\n",
    "#откроем файл с данными\n",
    "\n",
    "data = pd.read_csv('/datasets/games.csv')"
   ]
  },
  {
   "cell_type": "code",
   "execution_count": 2,
   "metadata": {},
   "outputs": [
    {
     "data": {
      "text/html": [
       "<div>\n",
       "<style scoped>\n",
       "    .dataframe tbody tr th:only-of-type {\n",
       "        vertical-align: middle;\n",
       "    }\n",
       "\n",
       "    .dataframe tbody tr th {\n",
       "        vertical-align: top;\n",
       "    }\n",
       "\n",
       "    .dataframe thead th {\n",
       "        text-align: right;\n",
       "    }\n",
       "</style>\n",
       "<table border=\"1\" class=\"dataframe\">\n",
       "  <thead>\n",
       "    <tr style=\"text-align: right;\">\n",
       "      <th></th>\n",
       "      <th>Name</th>\n",
       "      <th>Platform</th>\n",
       "      <th>Year_of_Release</th>\n",
       "      <th>Genre</th>\n",
       "      <th>NA_sales</th>\n",
       "      <th>EU_sales</th>\n",
       "      <th>JP_sales</th>\n",
       "      <th>Other_sales</th>\n",
       "      <th>Critic_Score</th>\n",
       "      <th>User_Score</th>\n",
       "      <th>Rating</th>\n",
       "    </tr>\n",
       "  </thead>\n",
       "  <tbody>\n",
       "    <tr>\n",
       "      <th>0</th>\n",
       "      <td>Wii Sports</td>\n",
       "      <td>Wii</td>\n",
       "      <td>2006.0</td>\n",
       "      <td>Sports</td>\n",
       "      <td>41.36</td>\n",
       "      <td>28.96</td>\n",
       "      <td>3.77</td>\n",
       "      <td>8.45</td>\n",
       "      <td>76.0</td>\n",
       "      <td>8</td>\n",
       "      <td>E</td>\n",
       "    </tr>\n",
       "    <tr>\n",
       "      <th>1</th>\n",
       "      <td>Super Mario Bros.</td>\n",
       "      <td>NES</td>\n",
       "      <td>1985.0</td>\n",
       "      <td>Platform</td>\n",
       "      <td>29.08</td>\n",
       "      <td>3.58</td>\n",
       "      <td>6.81</td>\n",
       "      <td>0.77</td>\n",
       "      <td>NaN</td>\n",
       "      <td>NaN</td>\n",
       "      <td>NaN</td>\n",
       "    </tr>\n",
       "    <tr>\n",
       "      <th>2</th>\n",
       "      <td>Mario Kart Wii</td>\n",
       "      <td>Wii</td>\n",
       "      <td>2008.0</td>\n",
       "      <td>Racing</td>\n",
       "      <td>15.68</td>\n",
       "      <td>12.76</td>\n",
       "      <td>3.79</td>\n",
       "      <td>3.29</td>\n",
       "      <td>82.0</td>\n",
       "      <td>8.3</td>\n",
       "      <td>E</td>\n",
       "    </tr>\n",
       "    <tr>\n",
       "      <th>3</th>\n",
       "      <td>Wii Sports Resort</td>\n",
       "      <td>Wii</td>\n",
       "      <td>2009.0</td>\n",
       "      <td>Sports</td>\n",
       "      <td>15.61</td>\n",
       "      <td>10.93</td>\n",
       "      <td>3.28</td>\n",
       "      <td>2.95</td>\n",
       "      <td>80.0</td>\n",
       "      <td>8</td>\n",
       "      <td>E</td>\n",
       "    </tr>\n",
       "    <tr>\n",
       "      <th>4</th>\n",
       "      <td>Pokemon Red/Pokemon Blue</td>\n",
       "      <td>GB</td>\n",
       "      <td>1996.0</td>\n",
       "      <td>Role-Playing</td>\n",
       "      <td>11.27</td>\n",
       "      <td>8.89</td>\n",
       "      <td>10.22</td>\n",
       "      <td>1.00</td>\n",
       "      <td>NaN</td>\n",
       "      <td>NaN</td>\n",
       "      <td>NaN</td>\n",
       "    </tr>\n",
       "    <tr>\n",
       "      <th>5</th>\n",
       "      <td>Tetris</td>\n",
       "      <td>GB</td>\n",
       "      <td>1989.0</td>\n",
       "      <td>Puzzle</td>\n",
       "      <td>23.20</td>\n",
       "      <td>2.26</td>\n",
       "      <td>4.22</td>\n",
       "      <td>0.58</td>\n",
       "      <td>NaN</td>\n",
       "      <td>NaN</td>\n",
       "      <td>NaN</td>\n",
       "    </tr>\n",
       "    <tr>\n",
       "      <th>6</th>\n",
       "      <td>New Super Mario Bros.</td>\n",
       "      <td>DS</td>\n",
       "      <td>2006.0</td>\n",
       "      <td>Platform</td>\n",
       "      <td>11.28</td>\n",
       "      <td>9.14</td>\n",
       "      <td>6.50</td>\n",
       "      <td>2.88</td>\n",
       "      <td>89.0</td>\n",
       "      <td>8.5</td>\n",
       "      <td>E</td>\n",
       "    </tr>\n",
       "    <tr>\n",
       "      <th>7</th>\n",
       "      <td>Wii Play</td>\n",
       "      <td>Wii</td>\n",
       "      <td>2006.0</td>\n",
       "      <td>Misc</td>\n",
       "      <td>13.96</td>\n",
       "      <td>9.18</td>\n",
       "      <td>2.93</td>\n",
       "      <td>2.84</td>\n",
       "      <td>58.0</td>\n",
       "      <td>6.6</td>\n",
       "      <td>E</td>\n",
       "    </tr>\n",
       "    <tr>\n",
       "      <th>8</th>\n",
       "      <td>New Super Mario Bros. Wii</td>\n",
       "      <td>Wii</td>\n",
       "      <td>2009.0</td>\n",
       "      <td>Platform</td>\n",
       "      <td>14.44</td>\n",
       "      <td>6.94</td>\n",
       "      <td>4.70</td>\n",
       "      <td>2.24</td>\n",
       "      <td>87.0</td>\n",
       "      <td>8.4</td>\n",
       "      <td>E</td>\n",
       "    </tr>\n",
       "    <tr>\n",
       "      <th>9</th>\n",
       "      <td>Duck Hunt</td>\n",
       "      <td>NES</td>\n",
       "      <td>1984.0</td>\n",
       "      <td>Shooter</td>\n",
       "      <td>26.93</td>\n",
       "      <td>0.63</td>\n",
       "      <td>0.28</td>\n",
       "      <td>0.47</td>\n",
       "      <td>NaN</td>\n",
       "      <td>NaN</td>\n",
       "      <td>NaN</td>\n",
       "    </tr>\n",
       "  </tbody>\n",
       "</table>\n",
       "</div>"
      ],
      "text/plain": [
       "                        Name Platform  Year_of_Release         Genre  \\\n",
       "0                 Wii Sports      Wii           2006.0        Sports   \n",
       "1          Super Mario Bros.      NES           1985.0      Platform   \n",
       "2             Mario Kart Wii      Wii           2008.0        Racing   \n",
       "3          Wii Sports Resort      Wii           2009.0        Sports   \n",
       "4   Pokemon Red/Pokemon Blue       GB           1996.0  Role-Playing   \n",
       "5                     Tetris       GB           1989.0        Puzzle   \n",
       "6      New Super Mario Bros.       DS           2006.0      Platform   \n",
       "7                   Wii Play      Wii           2006.0          Misc   \n",
       "8  New Super Mario Bros. Wii      Wii           2009.0      Platform   \n",
       "9                  Duck Hunt      NES           1984.0       Shooter   \n",
       "\n",
       "   NA_sales  EU_sales  JP_sales  Other_sales  Critic_Score User_Score Rating  \n",
       "0     41.36     28.96      3.77         8.45          76.0          8      E  \n",
       "1     29.08      3.58      6.81         0.77           NaN        NaN    NaN  \n",
       "2     15.68     12.76      3.79         3.29          82.0        8.3      E  \n",
       "3     15.61     10.93      3.28         2.95          80.0          8      E  \n",
       "4     11.27      8.89     10.22         1.00           NaN        NaN    NaN  \n",
       "5     23.20      2.26      4.22         0.58           NaN        NaN    NaN  \n",
       "6     11.28      9.14      6.50         2.88          89.0        8.5      E  \n",
       "7     13.96      9.18      2.93         2.84          58.0        6.6      E  \n",
       "8     14.44      6.94      4.70         2.24          87.0        8.4      E  \n",
       "9     26.93      0.63      0.28         0.47           NaN        NaN    NaN  "
      ]
     },
     "execution_count": 2,
     "metadata": {},
     "output_type": "execute_result"
    }
   ],
   "source": [
    "#посмотрим на первые строки файла\n",
    "data.head(10)"
   ]
  },
  {
   "cell_type": "code",
   "execution_count": 3,
   "metadata": {},
   "outputs": [],
   "source": [
    "# приведем названия столбцов к нижнему регистру\n",
    "data.columns = data.columns.str.lower()"
   ]
  },
  {
   "cell_type": "code",
   "execution_count": 4,
   "metadata": {},
   "outputs": [
    {
     "name": "stdout",
     "output_type": "stream",
     "text": [
      "<class 'pandas.core.frame.DataFrame'>\n",
      "RangeIndex: 16715 entries, 0 to 16714\n",
      "Data columns (total 11 columns):\n",
      " #   Column           Non-Null Count  Dtype  \n",
      "---  ------           --------------  -----  \n",
      " 0   name             16713 non-null  object \n",
      " 1   platform         16715 non-null  object \n",
      " 2   year_of_release  16446 non-null  float64\n",
      " 3   genre            16713 non-null  object \n",
      " 4   na_sales         16715 non-null  float64\n",
      " 5   eu_sales         16715 non-null  float64\n",
      " 6   jp_sales         16715 non-null  float64\n",
      " 7   other_sales      16715 non-null  float64\n",
      " 8   critic_score     8137 non-null   float64\n",
      " 9   user_score       10014 non-null  object \n",
      " 10  rating           9949 non-null   object \n",
      "dtypes: float64(6), object(5)\n",
      "memory usage: 1.4+ MB\n"
     ]
    }
   ],
   "source": [
    "# изучим типы данных\n",
    "data.info()"
   ]
  },
  {
   "cell_type": "code",
   "execution_count": 5,
   "metadata": {},
   "outputs": [
    {
     "data": {
      "text/html": [
       "<div>\n",
       "<style scoped>\n",
       "    .dataframe tbody tr th:only-of-type {\n",
       "        vertical-align: middle;\n",
       "    }\n",
       "\n",
       "    .dataframe tbody tr th {\n",
       "        vertical-align: top;\n",
       "    }\n",
       "\n",
       "    .dataframe thead th {\n",
       "        text-align: right;\n",
       "    }\n",
       "</style>\n",
       "<table border=\"1\" class=\"dataframe\">\n",
       "  <thead>\n",
       "    <tr style=\"text-align: right;\">\n",
       "      <th></th>\n",
       "      <th>year_of_release</th>\n",
       "      <th>na_sales</th>\n",
       "      <th>eu_sales</th>\n",
       "      <th>jp_sales</th>\n",
       "      <th>other_sales</th>\n",
       "      <th>critic_score</th>\n",
       "    </tr>\n",
       "  </thead>\n",
       "  <tbody>\n",
       "    <tr>\n",
       "      <th>count</th>\n",
       "      <td>16446.000000</td>\n",
       "      <td>16715.000000</td>\n",
       "      <td>16715.000000</td>\n",
       "      <td>16715.000000</td>\n",
       "      <td>16715.000000</td>\n",
       "      <td>8137.000000</td>\n",
       "    </tr>\n",
       "    <tr>\n",
       "      <th>mean</th>\n",
       "      <td>2006.484616</td>\n",
       "      <td>0.263377</td>\n",
       "      <td>0.145060</td>\n",
       "      <td>0.077617</td>\n",
       "      <td>0.047342</td>\n",
       "      <td>68.967679</td>\n",
       "    </tr>\n",
       "    <tr>\n",
       "      <th>std</th>\n",
       "      <td>5.877050</td>\n",
       "      <td>0.813604</td>\n",
       "      <td>0.503339</td>\n",
       "      <td>0.308853</td>\n",
       "      <td>0.186731</td>\n",
       "      <td>13.938165</td>\n",
       "    </tr>\n",
       "    <tr>\n",
       "      <th>min</th>\n",
       "      <td>1980.000000</td>\n",
       "      <td>0.000000</td>\n",
       "      <td>0.000000</td>\n",
       "      <td>0.000000</td>\n",
       "      <td>0.000000</td>\n",
       "      <td>13.000000</td>\n",
       "    </tr>\n",
       "    <tr>\n",
       "      <th>25%</th>\n",
       "      <td>2003.000000</td>\n",
       "      <td>0.000000</td>\n",
       "      <td>0.000000</td>\n",
       "      <td>0.000000</td>\n",
       "      <td>0.000000</td>\n",
       "      <td>60.000000</td>\n",
       "    </tr>\n",
       "    <tr>\n",
       "      <th>50%</th>\n",
       "      <td>2007.000000</td>\n",
       "      <td>0.080000</td>\n",
       "      <td>0.020000</td>\n",
       "      <td>0.000000</td>\n",
       "      <td>0.010000</td>\n",
       "      <td>71.000000</td>\n",
       "    </tr>\n",
       "    <tr>\n",
       "      <th>75%</th>\n",
       "      <td>2010.000000</td>\n",
       "      <td>0.240000</td>\n",
       "      <td>0.110000</td>\n",
       "      <td>0.040000</td>\n",
       "      <td>0.030000</td>\n",
       "      <td>79.000000</td>\n",
       "    </tr>\n",
       "    <tr>\n",
       "      <th>max</th>\n",
       "      <td>2016.000000</td>\n",
       "      <td>41.360000</td>\n",
       "      <td>28.960000</td>\n",
       "      <td>10.220000</td>\n",
       "      <td>10.570000</td>\n",
       "      <td>98.000000</td>\n",
       "    </tr>\n",
       "  </tbody>\n",
       "</table>\n",
       "</div>"
      ],
      "text/plain": [
       "       year_of_release      na_sales      eu_sales      jp_sales  \\\n",
       "count     16446.000000  16715.000000  16715.000000  16715.000000   \n",
       "mean       2006.484616      0.263377      0.145060      0.077617   \n",
       "std           5.877050      0.813604      0.503339      0.308853   \n",
       "min        1980.000000      0.000000      0.000000      0.000000   \n",
       "25%        2003.000000      0.000000      0.000000      0.000000   \n",
       "50%        2007.000000      0.080000      0.020000      0.000000   \n",
       "75%        2010.000000      0.240000      0.110000      0.040000   \n",
       "max        2016.000000     41.360000     28.960000     10.220000   \n",
       "\n",
       "        other_sales  critic_score  \n",
       "count  16715.000000   8137.000000  \n",
       "mean       0.047342     68.967679  \n",
       "std        0.186731     13.938165  \n",
       "min        0.000000     13.000000  \n",
       "25%        0.000000     60.000000  \n",
       "50%        0.010000     71.000000  \n",
       "75%        0.030000     79.000000  \n",
       "max       10.570000     98.000000  "
      ]
     },
     "execution_count": 5,
     "metadata": {},
     "output_type": "execute_result"
    }
   ],
   "source": [
    "# посмотрим на статистические данные\n",
    "data.describe()"
   ]
  },
  {
   "cell_type": "code",
   "execution_count": 6,
   "metadata": {},
   "outputs": [
    {
     "data": {
      "text/plain": [
       "name                  2\n",
       "platform              0\n",
       "year_of_release     269\n",
       "genre                 2\n",
       "na_sales              0\n",
       "eu_sales              0\n",
       "jp_sales              0\n",
       "other_sales           0\n",
       "critic_score       8578\n",
       "user_score         6701\n",
       "rating             6766\n",
       "dtype: int64"
      ]
     },
     "execution_count": 6,
     "metadata": {},
     "output_type": "execute_result"
    }
   ],
   "source": [
    "# посмотрим на  количество пропусков\n",
    "data.isna().sum()"
   ]
  },
  {
   "cell_type": "code",
   "execution_count": 7,
   "metadata": {},
   "outputs": [
    {
     "data": {
      "text/html": [
       "<style  type=\"text/css\" >\n",
       "#T_e6636_row0_col0,#T_e6636_row1_col0,#T_e6636_row2_col0,#T_e6636_row3_col0,#T_e6636_row4_col0,#T_e6636_row5_col0,#T_e6636_row6_col0{\n",
       "            background-color:  #3b4cc0;\n",
       "            color:  #f1f1f1;\n",
       "        }#T_e6636_row7_col0{\n",
       "            background-color:  #445acc;\n",
       "            color:  #f1f1f1;\n",
       "        }#T_e6636_row8_col0{\n",
       "            background-color:  #f18d6f;\n",
       "            color:  #000000;\n",
       "        }#T_e6636_row9_col0{\n",
       "            background-color:  #f08a6c;\n",
       "            color:  #000000;\n",
       "        }#T_e6636_row10_col0{\n",
       "            background-color:  #b40426;\n",
       "            color:  #f1f1f1;\n",
       "        }</style><table id=\"T_e6636_\" ><thead>    <tr>        <th class=\"blank level0\" ></th>        <th class=\"col_heading level0 col0\" >0</th>    </tr></thead><tbody>\n",
       "                <tr>\n",
       "                        <th id=\"T_e6636_level0_row0\" class=\"row_heading level0 row0\" >platform</th>\n",
       "                        <td id=\"T_e6636_row0_col0\" class=\"data row0 col0\" >0.00%</td>\n",
       "            </tr>\n",
       "            <tr>\n",
       "                        <th id=\"T_e6636_level0_row1\" class=\"row_heading level0 row1\" >na_sales</th>\n",
       "                        <td id=\"T_e6636_row1_col0\" class=\"data row1 col0\" >0.00%</td>\n",
       "            </tr>\n",
       "            <tr>\n",
       "                        <th id=\"T_e6636_level0_row2\" class=\"row_heading level0 row2\" >eu_sales</th>\n",
       "                        <td id=\"T_e6636_row2_col0\" class=\"data row2 col0\" >0.00%</td>\n",
       "            </tr>\n",
       "            <tr>\n",
       "                        <th id=\"T_e6636_level0_row3\" class=\"row_heading level0 row3\" >jp_sales</th>\n",
       "                        <td id=\"T_e6636_row3_col0\" class=\"data row3 col0\" >0.00%</td>\n",
       "            </tr>\n",
       "            <tr>\n",
       "                        <th id=\"T_e6636_level0_row4\" class=\"row_heading level0 row4\" >other_sales</th>\n",
       "                        <td id=\"T_e6636_row4_col0\" class=\"data row4 col0\" >0.00%</td>\n",
       "            </tr>\n",
       "            <tr>\n",
       "                        <th id=\"T_e6636_level0_row5\" class=\"row_heading level0 row5\" >name</th>\n",
       "                        <td id=\"T_e6636_row5_col0\" class=\"data row5 col0\" >0.01%</td>\n",
       "            </tr>\n",
       "            <tr>\n",
       "                        <th id=\"T_e6636_level0_row6\" class=\"row_heading level0 row6\" >genre</th>\n",
       "                        <td id=\"T_e6636_row6_col0\" class=\"data row6 col0\" >0.01%</td>\n",
       "            </tr>\n",
       "            <tr>\n",
       "                        <th id=\"T_e6636_level0_row7\" class=\"row_heading level0 row7\" >year_of_release</th>\n",
       "                        <td id=\"T_e6636_row7_col0\" class=\"data row7 col0\" >1.61%</td>\n",
       "            </tr>\n",
       "            <tr>\n",
       "                        <th id=\"T_e6636_level0_row8\" class=\"row_heading level0 row8\" >user_score</th>\n",
       "                        <td id=\"T_e6636_row8_col0\" class=\"data row8 col0\" >40.09%</td>\n",
       "            </tr>\n",
       "            <tr>\n",
       "                        <th id=\"T_e6636_level0_row9\" class=\"row_heading level0 row9\" >rating</th>\n",
       "                        <td id=\"T_e6636_row9_col0\" class=\"data row9 col0\" >40.48%</td>\n",
       "            </tr>\n",
       "            <tr>\n",
       "                        <th id=\"T_e6636_level0_row10\" class=\"row_heading level0 row10\" >critic_score</th>\n",
       "                        <td id=\"T_e6636_row10_col0\" class=\"data row10 col0\" >51.32%</td>\n",
       "            </tr>\n",
       "    </tbody></table>"
      ],
      "text/plain": [
       "<pandas.io.formats.style.Styler at 0x7f07b2549a00>"
      ]
     },
     "execution_count": 7,
     "metadata": {},
     "output_type": "execute_result"
    }
   ],
   "source": [
    "# и на пропуски в процентном содержании\n",
    "data.isna().mean().round(4).to_frame().sort_values(by=0).style.format('{:.2%}').background_gradient('coolwarm')"
   ]
  },
  {
   "cell_type": "code",
   "execution_count": 8,
   "metadata": {},
   "outputs": [
    {
     "data": {
      "text/plain": [
       "0"
      ]
     },
     "execution_count": 8,
     "metadata": {},
     "output_type": "execute_result"
    }
   ],
   "source": [
    "# проверим на явные дубликаты\n",
    "data.duplicated().sum()"
   ]
  },
  {
   "cell_type": "markdown",
   "metadata": {},
   "source": [
    "Явных дубликатов нет."
   ]
  },
  {
   "cell_type": "markdown",
   "metadata": {},
   "source": [
    "Пропусков в столбцах name и genre меньше 0,01%, это всего по два значения на  более чем 16000 строк, удалим их. Пропуски в строке year_of_release не совсем понятно, чем можно их заменить, так как  средним и медианным значением замена будет неккоректна. А так как их количество составляет  всего 1,6%, то можно их удалить."
   ]
  },
  {
   "cell_type": "code",
   "execution_count": 9,
   "metadata": {},
   "outputs": [],
   "source": [
    "data = data.dropna(subset = ['name'])\n",
    "data = data.dropna(subset = ['genre'])\n",
    "data = data.dropna(subset = ['year_of_release'])"
   ]
  },
  {
   "cell_type": "code",
   "execution_count": 10,
   "metadata": {},
   "outputs": [
    {
     "data": {
      "text/html": [
       "<style  type=\"text/css\" >\n",
       "#T_f351d_row0_col0,#T_f351d_row1_col0,#T_f351d_row2_col0,#T_f351d_row3_col0,#T_f351d_row4_col0,#T_f351d_row5_col0,#T_f351d_row6_col0,#T_f351d_row7_col0{\n",
       "            background-color:  #3b4cc0;\n",
       "            color:  #f1f1f1;\n",
       "        }#T_f351d_row8_col0{\n",
       "            background-color:  #f18d6f;\n",
       "            color:  #000000;\n",
       "        }#T_f351d_row9_col0{\n",
       "            background-color:  #ef886b;\n",
       "            color:  #000000;\n",
       "        }#T_f351d_row10_col0{\n",
       "            background-color:  #b40426;\n",
       "            color:  #f1f1f1;\n",
       "        }</style><table id=\"T_f351d_\" ><thead>    <tr>        <th class=\"blank level0\" ></th>        <th class=\"col_heading level0 col0\" >0</th>    </tr></thead><tbody>\n",
       "                <tr>\n",
       "                        <th id=\"T_f351d_level0_row0\" class=\"row_heading level0 row0\" >name</th>\n",
       "                        <td id=\"T_f351d_row0_col0\" class=\"data row0 col0\" >0.00%</td>\n",
       "            </tr>\n",
       "            <tr>\n",
       "                        <th id=\"T_f351d_level0_row1\" class=\"row_heading level0 row1\" >platform</th>\n",
       "                        <td id=\"T_f351d_row1_col0\" class=\"data row1 col0\" >0.00%</td>\n",
       "            </tr>\n",
       "            <tr>\n",
       "                        <th id=\"T_f351d_level0_row2\" class=\"row_heading level0 row2\" >year_of_release</th>\n",
       "                        <td id=\"T_f351d_row2_col0\" class=\"data row2 col0\" >0.00%</td>\n",
       "            </tr>\n",
       "            <tr>\n",
       "                        <th id=\"T_f351d_level0_row3\" class=\"row_heading level0 row3\" >genre</th>\n",
       "                        <td id=\"T_f351d_row3_col0\" class=\"data row3 col0\" >0.00%</td>\n",
       "            </tr>\n",
       "            <tr>\n",
       "                        <th id=\"T_f351d_level0_row4\" class=\"row_heading level0 row4\" >na_sales</th>\n",
       "                        <td id=\"T_f351d_row4_col0\" class=\"data row4 col0\" >0.00%</td>\n",
       "            </tr>\n",
       "            <tr>\n",
       "                        <th id=\"T_f351d_level0_row5\" class=\"row_heading level0 row5\" >eu_sales</th>\n",
       "                        <td id=\"T_f351d_row5_col0\" class=\"data row5 col0\" >0.00%</td>\n",
       "            </tr>\n",
       "            <tr>\n",
       "                        <th id=\"T_f351d_level0_row6\" class=\"row_heading level0 row6\" >jp_sales</th>\n",
       "                        <td id=\"T_f351d_row6_col0\" class=\"data row6 col0\" >0.00%</td>\n",
       "            </tr>\n",
       "            <tr>\n",
       "                        <th id=\"T_f351d_level0_row7\" class=\"row_heading level0 row7\" >other_sales</th>\n",
       "                        <td id=\"T_f351d_row7_col0\" class=\"data row7 col0\" >0.00%</td>\n",
       "            </tr>\n",
       "            <tr>\n",
       "                        <th id=\"T_f351d_level0_row8\" class=\"row_heading level0 row8\" >user_score</th>\n",
       "                        <td id=\"T_f351d_row8_col0\" class=\"data row8 col0\" >40.17%</td>\n",
       "            </tr>\n",
       "            <tr>\n",
       "                        <th id=\"T_f351d_level0_row9\" class=\"row_heading level0 row9\" >rating</th>\n",
       "                        <td id=\"T_f351d_row9_col0\" class=\"data row9 col0\" >40.60%</td>\n",
       "            </tr>\n",
       "            <tr>\n",
       "                        <th id=\"T_f351d_level0_row10\" class=\"row_heading level0 row10\" >critic_score</th>\n",
       "                        <td id=\"T_f351d_row10_col0\" class=\"data row10 col0\" >51.45%</td>\n",
       "            </tr>\n",
       "    </tbody></table>"
      ],
      "text/plain": [
       "<pandas.io.formats.style.Styler at 0x7f07b26f63d0>"
      ]
     },
     "execution_count": 10,
     "metadata": {},
     "output_type": "execute_result"
    }
   ],
   "source": [
    "data.isna().mean().round(4).to_frame().sort_values(by=0).style.format('{:.2%}').background_gradient('coolwarm')"
   ]
  },
  {
   "cell_type": "code",
   "execution_count": 11,
   "metadata": {},
   "outputs": [
    {
     "data": {
      "text/plain": [
       "array(['8', nan, '8.3', '8.5', '6.6', '8.4', '8.6', '7.7', '6.3', '7.4',\n",
       "       '8.2', '9', '7.9', '8.1', '8.7', '7.1', '3.4', '5.3', '4.8', '3.2',\n",
       "       '8.9', '6.4', '7.8', '7.5', '2.6', '7.2', '9.2', '7', '7.3', '4.3',\n",
       "       '7.6', '5.7', '5', '9.1', '6.5', 'tbd', '8.8', '6.9', '9.4', '6.8',\n",
       "       '6.1', '6.7', '5.4', '4', '4.9', '4.5', '9.3', '6.2', '4.2', '6',\n",
       "       '3.7', '4.1', '5.8', '5.6', '5.5', '4.4', '4.6', '5.9', '3.9',\n",
       "       '3.1', '2.9', '5.2', '3.3', '4.7', '5.1', '3.5', '2.5', '1.9', '3',\n",
       "       '2.7', '2.2', '2', '9.5', '2.1', '3.6', '2.8', '1.8', '3.8', '0',\n",
       "       '1.6', '9.6', '2.4', '1.7', '1.1', '0.3', '1.5', '0.7', '1.2',\n",
       "       '2.3', '0.5', '1.3', '0.2', '0.6', '1.4', '0.9', '1', '9.7'],\n",
       "      dtype=object)"
      ]
     },
     "execution_count": 11,
     "metadata": {},
     "output_type": "execute_result"
    }
   ],
   "source": [
    "# посмотрим на уникальные значения столбца user_score\n",
    "data['user_score'].unique()"
   ]
  },
  {
   "cell_type": "markdown",
   "metadata": {},
   "source": [
    "TBD — это сокращение произошло от выражения \"to be determined\" По сути, всё, что требует конкретного ответа, которого вы ещё не знаете, может быть «tbd»."
   ]
  },
  {
   "cell_type": "code",
   "execution_count": 12,
   "metadata": {},
   "outputs": [
    {
     "data": {
      "text/plain": [
       "tbd    2376\n",
       "7.8     322\n",
       "8       285\n",
       "8.2     276\n",
       "8.3     252\n",
       "       ... \n",
       "9.6       2\n",
       "1         2\n",
       "0.3       2\n",
       "0         1\n",
       "9.7       1\n",
       "Name: user_score, Length: 96, dtype: int64"
      ]
     },
     "execution_count": 12,
     "metadata": {},
     "output_type": "execute_result"
    }
   ],
   "source": [
    "data['user_score'].value_counts()"
   ]
  },
  {
   "cell_type": "markdown",
   "metadata": {},
   "source": [
    "Получается «tbd», это такие же неопределенные значения, как и nan. Заменим их и nan на \"заглушку\"."
   ]
  },
  {
   "cell_type": "code",
   "execution_count": 13,
   "metadata": {},
   "outputs": [
    {
     "data": {
      "text/plain": [
       "-10    8981\n",
       "7.8     322\n",
       "8       285\n",
       "8.2     276\n",
       "8.3     252\n",
       "       ... \n",
       "9.6       2\n",
       "0.9       2\n",
       "1         2\n",
       "9.7       1\n",
       "0         1\n",
       "Name: user_score, Length: 96, dtype: int64"
      ]
     },
     "execution_count": 13,
     "metadata": {},
     "output_type": "execute_result"
    }
   ],
   "source": [
    "data['user_score'] = data['user_score'].fillna( '-10' ) \n",
    "data.loc[data['user_score'] == 'tbd', 'user_score'] = '-10'\n",
    "data['user_score'].value_counts()"
   ]
  },
  {
   "cell_type": "code",
   "execution_count": 14,
   "metadata": {},
   "outputs": [
    {
     "data": {
      "text/plain": [
       "array(['E', nan, 'M', 'T', 'E10+', 'K-A', 'AO', 'EC', 'RP'], dtype=object)"
      ]
     },
     "execution_count": 14,
     "metadata": {},
     "output_type": "execute_result"
    }
   ],
   "source": [
    "# посмотрим на уникальные значения столбца rating\n",
    "data['rating'].unique()"
   ]
  },
  {
   "cell_type": "code",
   "execution_count": 15,
   "metadata": {},
   "outputs": [
    {
     "data": {
      "text/plain": [
       "E       3921\n",
       "T       2905\n",
       "M       1536\n",
       "E10+    1393\n",
       "EC         8\n",
       "K-A        3\n",
       "AO         1\n",
       "RP         1\n",
       "Name: rating, dtype: int64"
      ]
     },
     "execution_count": 15,
     "metadata": {},
     "output_type": "execute_result"
    }
   ],
   "source": [
    "data['rating'].value_counts()"
   ]
  },
  {
   "cell_type": "markdown",
   "metadata": {},
   "source": [
    "Данные из Википедии:\n",
    "Все (E)\n",
    "Подросток (Т)\n",
    "Зрелые 17+(М)\n",
    "Все 10+ (E10+)\n",
    "Раннее детство (EC)\n",
    "Старый вариант маркировки E (К-А)\n",
    "Только для взрослых 18+(АО)\n",
    "Рейтинг в ожидании (RP)\n",
    "Удалить строки с пропусками мы не можем, так как они составляют почти половину датасета. В данном случае следует поставить \"заглушку\".\n",
    "Исходя из этого можно заменить 'RP' и 'nan' на 'Unknown', 'K-A' на 'E'.\n"
   ]
  },
  {
   "cell_type": "code",
   "execution_count": 16,
   "metadata": {},
   "outputs": [
    {
     "data": {
      "text/plain": [
       "array(['E', 'Unknown', 'M', 'T', 'E10+', 'AO', 'EC'], dtype=object)"
      ]
     },
     "execution_count": 16,
     "metadata": {},
     "output_type": "execute_result"
    }
   ],
   "source": [
    "data['rating'] = data['rating'].fillna('Unknown') \n",
    "data.loc[data['rating']== 'RP' ,'rating'] = 'Unknown'  \n",
    "data.loc[data['rating'].isin(['K-A']),'rating'] = 'E'  \n",
    "data['rating'].unique()"
   ]
  },
  {
   "cell_type": "code",
   "execution_count": 17,
   "metadata": {},
   "outputs": [
    {
     "data": {
      "text/plain": [
       "array([76., nan, 82., 80., 89., 58., 87., 91., 61., 97., 95., 77., 88.,\n",
       "       83., 94., 93., 85., 86., 98., 96., 90., 84., 73., 74., 78., 92.,\n",
       "       71., 72., 68., 62., 49., 67., 81., 66., 56., 79., 70., 59., 64.,\n",
       "       75., 60., 63., 69., 50., 25., 42., 44., 55., 48., 57., 29., 47.,\n",
       "       65., 54., 20., 53., 37., 38., 33., 52., 30., 32., 43., 45., 51.,\n",
       "       40., 46., 39., 34., 41., 36., 31., 27., 35., 26., 19., 28., 23.,\n",
       "       24., 21., 17., 13.])"
      ]
     },
     "execution_count": 17,
     "metadata": {},
     "output_type": "execute_result"
    }
   ],
   "source": [
    "# посмотрим на уникальные значения столбца critic_score\n",
    "data['critic_score'].unique()"
   ]
  },
  {
   "cell_type": "markdown",
   "metadata": {},
   "source": [
    "Как и в случае с rating пропущенных значений очень много и не предоставляется возможным их восстановить, также ставим заглушку '-10', так как нам нужны данные типа float для дальнейших анализов, а отрицательных рейтингов  у нас нет, так что мы  в дальнейшем сможем опознать пропущенные значения."
   ]
  },
  {
   "cell_type": "code",
   "execution_count": 18,
   "metadata": {},
   "outputs": [
    {
     "data": {
      "text/plain": [
       "array([76.0, '-10', 82.0, 80.0, 89.0, 58.0, 87.0, 91.0, 61.0, 97.0, 95.0,\n",
       "       77.0, 88.0, 83.0, 94.0, 93.0, 85.0, 86.0, 98.0, 96.0, 90.0, 84.0,\n",
       "       73.0, 74.0, 78.0, 92.0, 71.0, 72.0, 68.0, 62.0, 49.0, 67.0, 81.0,\n",
       "       66.0, 56.0, 79.0, 70.0, 59.0, 64.0, 75.0, 60.0, 63.0, 69.0, 50.0,\n",
       "       25.0, 42.0, 44.0, 55.0, 48.0, 57.0, 29.0, 47.0, 65.0, 54.0, 20.0,\n",
       "       53.0, 37.0, 38.0, 33.0, 52.0, 30.0, 32.0, 43.0, 45.0, 51.0, 40.0,\n",
       "       46.0, 39.0, 34.0, 41.0, 36.0, 31.0, 27.0, 35.0, 26.0, 19.0, 28.0,\n",
       "       23.0, 24.0, 21.0, 17.0, 13.0], dtype=object)"
      ]
     },
     "execution_count": 18,
     "metadata": {},
     "output_type": "execute_result"
    }
   ],
   "source": [
    "data['critic_score'] = data['critic_score'].fillna( '-10' ) \n",
    "data['critic_score'].unique()"
   ]
  },
  {
   "cell_type": "markdown",
   "metadata": {},
   "source": [
    "Переведем данные в столбце 'critic_score' и 'user_score'  в тип float64, а года в столбце  year_of_release к целочисленному типу int"
   ]
  },
  {
   "cell_type": "code",
   "execution_count": 19,
   "metadata": {},
   "outputs": [],
   "source": [
    "data['critic_score'] = data['critic_score'].astype('float64') \n",
    "data['user_score'] = data['user_score'].astype('float64') \n",
    "data['year_of_release'] = data['year_of_release'].astype('int')"
   ]
  },
  {
   "cell_type": "code",
   "execution_count": 20,
   "metadata": {},
   "outputs": [
    {
     "name": "stdout",
     "output_type": "stream",
     "text": [
      "<class 'pandas.core.frame.DataFrame'>\n",
      "Int64Index: 16444 entries, 0 to 16714\n",
      "Data columns (total 11 columns):\n",
      " #   Column           Non-Null Count  Dtype  \n",
      "---  ------           --------------  -----  \n",
      " 0   name             16444 non-null  object \n",
      " 1   platform         16444 non-null  object \n",
      " 2   year_of_release  16444 non-null  int64  \n",
      " 3   genre            16444 non-null  object \n",
      " 4   na_sales         16444 non-null  float64\n",
      " 5   eu_sales         16444 non-null  float64\n",
      " 6   jp_sales         16444 non-null  float64\n",
      " 7   other_sales      16444 non-null  float64\n",
      " 8   critic_score     16444 non-null  float64\n",
      " 9   user_score       16444 non-null  float64\n",
      " 10  rating           16444 non-null  object \n",
      "dtypes: float64(6), int64(1), object(4)\n",
      "memory usage: 1.5+ MB\n"
     ]
    }
   ],
   "source": [
    "data.info()"
   ]
  },
  {
   "cell_type": "code",
   "execution_count": 21,
   "metadata": {},
   "outputs": [
    {
     "data": {
      "text/html": [
       "<style  type=\"text/css\" >\n",
       "#T_82c71_row0_col0,#T_82c71_row1_col0,#T_82c71_row2_col0,#T_82c71_row3_col0,#T_82c71_row4_col0,#T_82c71_row5_col0,#T_82c71_row6_col0,#T_82c71_row7_col0,#T_82c71_row8_col0,#T_82c71_row9_col0,#T_82c71_row10_col0{\n",
       "            background-color:  #3b4cc0;\n",
       "            color:  #f1f1f1;\n",
       "        }</style><table id=\"T_82c71_\" ><thead>    <tr>        <th class=\"blank level0\" ></th>        <th class=\"col_heading level0 col0\" >0</th>    </tr></thead><tbody>\n",
       "                <tr>\n",
       "                        <th id=\"T_82c71_level0_row0\" class=\"row_heading level0 row0\" >name</th>\n",
       "                        <td id=\"T_82c71_row0_col0\" class=\"data row0 col0\" >0.00%</td>\n",
       "            </tr>\n",
       "            <tr>\n",
       "                        <th id=\"T_82c71_level0_row1\" class=\"row_heading level0 row1\" >platform</th>\n",
       "                        <td id=\"T_82c71_row1_col0\" class=\"data row1 col0\" >0.00%</td>\n",
       "            </tr>\n",
       "            <tr>\n",
       "                        <th id=\"T_82c71_level0_row2\" class=\"row_heading level0 row2\" >year_of_release</th>\n",
       "                        <td id=\"T_82c71_row2_col0\" class=\"data row2 col0\" >0.00%</td>\n",
       "            </tr>\n",
       "            <tr>\n",
       "                        <th id=\"T_82c71_level0_row3\" class=\"row_heading level0 row3\" >genre</th>\n",
       "                        <td id=\"T_82c71_row3_col0\" class=\"data row3 col0\" >0.00%</td>\n",
       "            </tr>\n",
       "            <tr>\n",
       "                        <th id=\"T_82c71_level0_row4\" class=\"row_heading level0 row4\" >na_sales</th>\n",
       "                        <td id=\"T_82c71_row4_col0\" class=\"data row4 col0\" >0.00%</td>\n",
       "            </tr>\n",
       "            <tr>\n",
       "                        <th id=\"T_82c71_level0_row5\" class=\"row_heading level0 row5\" >eu_sales</th>\n",
       "                        <td id=\"T_82c71_row5_col0\" class=\"data row5 col0\" >0.00%</td>\n",
       "            </tr>\n",
       "            <tr>\n",
       "                        <th id=\"T_82c71_level0_row6\" class=\"row_heading level0 row6\" >jp_sales</th>\n",
       "                        <td id=\"T_82c71_row6_col0\" class=\"data row6 col0\" >0.00%</td>\n",
       "            </tr>\n",
       "            <tr>\n",
       "                        <th id=\"T_82c71_level0_row7\" class=\"row_heading level0 row7\" >other_sales</th>\n",
       "                        <td id=\"T_82c71_row7_col0\" class=\"data row7 col0\" >0.00%</td>\n",
       "            </tr>\n",
       "            <tr>\n",
       "                        <th id=\"T_82c71_level0_row8\" class=\"row_heading level0 row8\" >critic_score</th>\n",
       "                        <td id=\"T_82c71_row8_col0\" class=\"data row8 col0\" >0.00%</td>\n",
       "            </tr>\n",
       "            <tr>\n",
       "                        <th id=\"T_82c71_level0_row9\" class=\"row_heading level0 row9\" >user_score</th>\n",
       "                        <td id=\"T_82c71_row9_col0\" class=\"data row9 col0\" >0.00%</td>\n",
       "            </tr>\n",
       "            <tr>\n",
       "                        <th id=\"T_82c71_level0_row10\" class=\"row_heading level0 row10\" >rating</th>\n",
       "                        <td id=\"T_82c71_row10_col0\" class=\"data row10 col0\" >0.00%</td>\n",
       "            </tr>\n",
       "    </tbody></table>"
      ],
      "text/plain": [
       "<pandas.io.formats.style.Styler at 0x7f07b2392bb0>"
      ]
     },
     "execution_count": 21,
     "metadata": {},
     "output_type": "execute_result"
    }
   ],
   "source": [
    "data.isna().mean().round(4).to_frame().sort_values(by=0).style.format('{:.2%}').background_gradient('coolwarm')"
   ]
  },
  {
   "cell_type": "markdown",
   "metadata": {},
   "source": [
    "Отлично!"
   ]
  },
  {
   "cell_type": "code",
   "execution_count": 22,
   "metadata": {},
   "outputs": [],
   "source": [
    "#Посчитаем суммарные продажи в регионах и запишем их в отдельный столбец\n",
    "data['total_sales']= data[['na_sales','eu_sales','jp_sales', 'other_sales']].sum(axis = 1)"
   ]
  },
  {
   "cell_type": "code",
   "execution_count": 23,
   "metadata": {},
   "outputs": [
    {
     "data": {
      "text/html": [
       "<div>\n",
       "<style scoped>\n",
       "    .dataframe tbody tr th:only-of-type {\n",
       "        vertical-align: middle;\n",
       "    }\n",
       "\n",
       "    .dataframe tbody tr th {\n",
       "        vertical-align: top;\n",
       "    }\n",
       "\n",
       "    .dataframe thead th {\n",
       "        text-align: right;\n",
       "    }\n",
       "</style>\n",
       "<table border=\"1\" class=\"dataframe\">\n",
       "  <thead>\n",
       "    <tr style=\"text-align: right;\">\n",
       "      <th></th>\n",
       "      <th>name</th>\n",
       "      <th>platform</th>\n",
       "      <th>year_of_release</th>\n",
       "      <th>genre</th>\n",
       "      <th>na_sales</th>\n",
       "      <th>eu_sales</th>\n",
       "      <th>jp_sales</th>\n",
       "      <th>other_sales</th>\n",
       "      <th>critic_score</th>\n",
       "      <th>user_score</th>\n",
       "      <th>rating</th>\n",
       "      <th>total_sales</th>\n",
       "    </tr>\n",
       "  </thead>\n",
       "  <tbody>\n",
       "    <tr>\n",
       "      <th>0</th>\n",
       "      <td>Wii Sports</td>\n",
       "      <td>Wii</td>\n",
       "      <td>2006</td>\n",
       "      <td>Sports</td>\n",
       "      <td>41.36</td>\n",
       "      <td>28.96</td>\n",
       "      <td>3.77</td>\n",
       "      <td>8.45</td>\n",
       "      <td>76.0</td>\n",
       "      <td>8.0</td>\n",
       "      <td>E</td>\n",
       "      <td>82.54</td>\n",
       "    </tr>\n",
       "    <tr>\n",
       "      <th>1</th>\n",
       "      <td>Super Mario Bros.</td>\n",
       "      <td>NES</td>\n",
       "      <td>1985</td>\n",
       "      <td>Platform</td>\n",
       "      <td>29.08</td>\n",
       "      <td>3.58</td>\n",
       "      <td>6.81</td>\n",
       "      <td>0.77</td>\n",
       "      <td>-10.0</td>\n",
       "      <td>-10.0</td>\n",
       "      <td>Unknown</td>\n",
       "      <td>40.24</td>\n",
       "    </tr>\n",
       "    <tr>\n",
       "      <th>2</th>\n",
       "      <td>Mario Kart Wii</td>\n",
       "      <td>Wii</td>\n",
       "      <td>2008</td>\n",
       "      <td>Racing</td>\n",
       "      <td>15.68</td>\n",
       "      <td>12.76</td>\n",
       "      <td>3.79</td>\n",
       "      <td>3.29</td>\n",
       "      <td>82.0</td>\n",
       "      <td>8.3</td>\n",
       "      <td>E</td>\n",
       "      <td>35.52</td>\n",
       "    </tr>\n",
       "    <tr>\n",
       "      <th>3</th>\n",
       "      <td>Wii Sports Resort</td>\n",
       "      <td>Wii</td>\n",
       "      <td>2009</td>\n",
       "      <td>Sports</td>\n",
       "      <td>15.61</td>\n",
       "      <td>10.93</td>\n",
       "      <td>3.28</td>\n",
       "      <td>2.95</td>\n",
       "      <td>80.0</td>\n",
       "      <td>8.0</td>\n",
       "      <td>E</td>\n",
       "      <td>32.77</td>\n",
       "    </tr>\n",
       "    <tr>\n",
       "      <th>4</th>\n",
       "      <td>Pokemon Red/Pokemon Blue</td>\n",
       "      <td>GB</td>\n",
       "      <td>1996</td>\n",
       "      <td>Role-Playing</td>\n",
       "      <td>11.27</td>\n",
       "      <td>8.89</td>\n",
       "      <td>10.22</td>\n",
       "      <td>1.00</td>\n",
       "      <td>-10.0</td>\n",
       "      <td>-10.0</td>\n",
       "      <td>Unknown</td>\n",
       "      <td>31.38</td>\n",
       "    </tr>\n",
       "  </tbody>\n",
       "</table>\n",
       "</div>"
      ],
      "text/plain": [
       "                       name platform  year_of_release         genre  na_sales  \\\n",
       "0                Wii Sports      Wii             2006        Sports     41.36   \n",
       "1         Super Mario Bros.      NES             1985      Platform     29.08   \n",
       "2            Mario Kart Wii      Wii             2008        Racing     15.68   \n",
       "3         Wii Sports Resort      Wii             2009        Sports     15.61   \n",
       "4  Pokemon Red/Pokemon Blue       GB             1996  Role-Playing     11.27   \n",
       "\n",
       "   eu_sales  jp_sales  other_sales  critic_score  user_score   rating  \\\n",
       "0     28.96      3.77         8.45          76.0         8.0        E   \n",
       "1      3.58      6.81         0.77         -10.0       -10.0  Unknown   \n",
       "2     12.76      3.79         3.29          82.0         8.3        E   \n",
       "3     10.93      3.28         2.95          80.0         8.0        E   \n",
       "4      8.89     10.22         1.00         -10.0       -10.0  Unknown   \n",
       "\n",
       "   total_sales  \n",
       "0        82.54  \n",
       "1        40.24  \n",
       "2        35.52  \n",
       "3        32.77  \n",
       "4        31.38  "
      ]
     },
     "execution_count": 23,
     "metadata": {},
     "output_type": "execute_result"
    }
   ],
   "source": [
    "data.head()"
   ]
  },
  {
   "cell_type": "markdown",
   "metadata": {},
   "source": [
    "Вывод:\n",
    "В этом разделе мы открыли файл, изучили данные и наметили задачи по подготовке данных к исследованию. Которые в дальнейшем и выполнили:\n",
    "- заменили названия столбцов (привели к нижнему регистру)\n",
    "- преобразовали тип данных в столбцах: year_of_release\t- привели к целочисленному типу int,  critic_score  и user_score привели к типу float64\n",
    "-изучили пропуски в таблице. Удалили строки с незначительными пропусками в столбцах name , genre и year_of_release. В столбцах user_score, rating, critic_score было огромное количество пропусков(половина всего датасета), убрать такое количество данных не представляется возможным. Поразмышляем, откуда может быть такое количество пропусков в данных. Если бы это была ошибка оператора ввода или машины при обработке данных, врядли эти ошибки занимали бы половину всех данных. Причем пропуски  почти всегда повторяются по всем трем столбцам строки, то есть, есть система. Это наводит на мысль, что, может быть, в некоторых странах игры не имеют рейтинга, или составители по стране (игре) просто его не указывают. Тот же вывод напрашивается и на оценку пользователей. Так как такие значения мы не можем заменить ни средним, ни медианой то просто поставили \"Заглушку\" на значения nan, чтобы привести тип данных в строке в типу float.\n",
    "- значение TBD — это сокращение произошло от выражения \"to be determined\" По сути, всё, что требует конкретного ответа, которого вы ещё не знаете, может быть «tbd», то есть,по сути это теже nan то и поступили с ними соответственно.\n",
    "- изучили данные по столбцу rating  : Все (E) Подросток (Т) Зрелые 17+(М) Все 10+ (E10+) Раннее детство (EC) Старый вариант маркировки E (К-А) Только для взрослых 18+(АО) Рейтинг в ожидании (RP). Удалить строки с пропусками мы не можем, так как они составляют почти половину датасета. В данном случае следует поставить \"заглушку\". Исходя из этого можно заменить 'RP' и 'nan' на 'Unknown', 'K-A' на 'E'. Можно было бы подумать о замене M на AO, но фильмы для врослых все же отличаются от фильмов для \"взрослых 18+\". Так что оставим как есть.\n",
    "-Можно было бы заменить тип в столце critic_score на int, но в дальнейшем может быть понадобится делать расчеты, так что пусть все подобные столбцы будут одного вида.\n",
    "- посчитали суммарныепродажи во всех регионах и записали их в отдельный столбец."
   ]
  },
  {
   "cell_type": "markdown",
   "metadata": {},
   "source": [
    "# 2. Исследовательский анализ данных"
   ]
  },
  {
   "cell_type": "markdown",
   "metadata": {},
   "source": [
    "Посмотрим, сколько игр выпускалось в разные годы."
   ]
  },
  {
   "cell_type": "code",
   "execution_count": 24,
   "metadata": {},
   "outputs": [
    {
     "data": {
      "image/png": "[encoded data removed]",
      "text/plain": [
       "<Figure size 432x288 with 1 Axes>"
      ]
     },
     "metadata": {
      "needs_background": "light"
     },
     "output_type": "display_data"
    },
    {
     "data": {
      "text/plain": [
       "2008    1427\n",
       "2009    1426\n",
       "2010    1255\n",
       "2007    1197\n",
       "2011    1136\n",
       "2006    1006\n",
       "2005     939\n",
       "2002     829\n",
       "2003     775\n",
       "2004     762\n",
       "Name: year_of_release, dtype: int64"
      ]
     },
     "execution_count": 24,
     "metadata": {},
     "output_type": "execute_result"
    }
   ],
   "source": [
    "data_pivot_year_of_release=data.pivot_table(index='year_of_release', values='total_sales', aggfunc={'count'})\n",
    "plt.hist(data['year_of_release'], bins=30)\n",
    "plt.title('Динамика выпуска игр по годам')\n",
    "plt.xlabel('Годы')\n",
    "plt.ylabel('Количество выпущенных игр')\n",
    "plt.show()\n",
    "\n",
    "data['year_of_release'].value_counts().head(10)\n"
   ]
  },
  {
   "cell_type": "code",
   "execution_count": 25,
   "metadata": {},
   "outputs": [
    {
     "data": {
      "text/plain": [
       "1982    36\n",
       "1986    21\n",
       "1983    17\n",
       "1989    17\n",
       "1990    16\n",
       "1987    16\n",
       "1988    15\n",
       "1985    14\n",
       "1984    14\n",
       "1980     9\n",
       "Name: year_of_release, dtype: int64"
      ]
     },
     "execution_count": 25,
     "metadata": {},
     "output_type": "execute_result"
    }
   ],
   "source": [
    "data['year_of_release'].value_counts().tail(10)"
   ]
  },
  {
   "cell_type": "markdown",
   "metadata": {},
   "source": [
    "Исходя из графика видим, что максимальный пик выпуска видеоигр пришелся на 2005 и 2010 годы. Незначительный рост также пришелся на 2016 год. Причем рост этот последовал после значительного снижения выпуска. Данные с 1980-1995 вообще не сроит брать в расчет, так как доля выпуска игр там минимальная. Спад 2010-2015 годов тоже не подходит для исследовиная, так как в 2015-2016 годах наметился выраженный рост. Скорее всего правильнее будет взять для исследования прогнозов на 2017 год данные за предыдущий, 2016 год. Хоть мы и имеем информацию что данные по нему неполные."
   ]
  },
  {
   "cell_type": "markdown",
   "metadata": {},
   "source": [
    "Как менялись продажи по платформам"
   ]
  },
  {
   "cell_type": "markdown",
   "metadata": {},
   "source": [
    "Выберем платформы с наибольшими суммарными продажами и посмотрим распределение по годам."
   ]
  },
  {
   "cell_type": "code",
   "execution_count": 26,
   "metadata": {},
   "outputs": [
    {
     "data": {
      "text/html": [
       "<div>\n",
       "<style scoped>\n",
       "    .dataframe tbody tr th:only-of-type {\n",
       "        vertical-align: middle;\n",
       "    }\n",
       "\n",
       "    .dataframe tbody tr th {\n",
       "        vertical-align: top;\n",
       "    }\n",
       "\n",
       "    .dataframe thead th {\n",
       "        text-align: right;\n",
       "    }\n",
       "</style>\n",
       "<table border=\"1\" class=\"dataframe\">\n",
       "  <thead>\n",
       "    <tr style=\"text-align: right;\">\n",
       "      <th></th>\n",
       "      <th>sum</th>\n",
       "    </tr>\n",
       "    <tr>\n",
       "      <th>platform</th>\n",
       "      <th></th>\n",
       "    </tr>\n",
       "  </thead>\n",
       "  <tbody>\n",
       "    <tr>\n",
       "      <th>PS2</th>\n",
       "      <td>1233.56</td>\n",
       "    </tr>\n",
       "    <tr>\n",
       "      <th>X360</th>\n",
       "      <td>961.24</td>\n",
       "    </tr>\n",
       "    <tr>\n",
       "      <th>PS3</th>\n",
       "      <td>931.34</td>\n",
       "    </tr>\n",
       "    <tr>\n",
       "      <th>Wii</th>\n",
       "      <td>891.18</td>\n",
       "    </tr>\n",
       "    <tr>\n",
       "      <th>DS</th>\n",
       "      <td>802.78</td>\n",
       "    </tr>\n",
       "    <tr>\n",
       "      <th>PS</th>\n",
       "      <td>727.58</td>\n",
       "    </tr>\n",
       "    <tr>\n",
       "      <th>PS4</th>\n",
       "      <td>314.14</td>\n",
       "    </tr>\n",
       "    <tr>\n",
       "      <th>GBA</th>\n",
       "      <td>312.88</td>\n",
       "    </tr>\n",
       "    <tr>\n",
       "      <th>PSP</th>\n",
       "      <td>289.53</td>\n",
       "    </tr>\n",
       "    <tr>\n",
       "      <th>3DS</th>\n",
       "      <td>257.81</td>\n",
       "    </tr>\n",
       "  </tbody>\n",
       "</table>\n",
       "</div>"
      ],
      "text/plain": [
       "              sum\n",
       "platform         \n",
       "PS2       1233.56\n",
       "X360       961.24\n",
       "PS3        931.34\n",
       "Wii        891.18\n",
       "DS         802.78\n",
       "PS         727.58\n",
       "PS4        314.14\n",
       "GBA        312.88\n",
       "PSP        289.53\n",
       "3DS        257.81"
      ]
     },
     "execution_count": 26,
     "metadata": {},
     "output_type": "execute_result"
    }
   ],
   "source": [
    "data_pivot_platform=data.pivot_table(index='platform', values='total_sales', aggfunc={'sum'}).sort_values('sum', ascending=False)\n",
    "\n",
    "data_pivot_platform.head(10)\n"
   ]
  },
  {
   "cell_type": "code",
   "execution_count": 27,
   "metadata": {},
   "outputs": [
    {
     "name": "stdout",
     "output_type": "stream",
     "text": [
      "PS2\n"
     ]
    },
    {
     "data": {
      "image/png": "[encoded data removed]",
      "text/plain": [
       "<Figure size 432x288 with 1 Axes>"
      ]
     },
     "metadata": {
      "needs_background": "light"
     },
     "output_type": "display_data"
    },
    {
     "name": "stdout",
     "output_type": "stream",
     "text": [
      "X360\n"
     ]
    },
    {
     "data": {
      "image/png": "[encoded data removed]",
      "text/plain": [
       "<Figure size 432x288 with 1 Axes>"
      ]
     },
     "metadata": {
      "needs_background": "light"
     },
     "output_type": "display_data"
    },
    {
     "name": "stdout",
     "output_type": "stream",
     "text": [
      "PS3\n"
     ]
    },
    {
     "data": {
      "image/png": "[encoded data removed]",
      "text/plain": [
       "<Figure size 432x288 with 1 Axes>"
      ]
     },
     "metadata": {
      "needs_background": "light"
     },
     "output_type": "display_data"
    },
    {
     "name": "stdout",
     "output_type": "stream",
     "text": [
      "Wii\n"
     ]
    },
    {
     "data": {
      "image/png": "[encoded data removed]",
      "text/plain": [
       "<Figure size 432x288 with 1 Axes>"
      ]
     },
     "metadata": {
      "needs_background": "light"
     },
     "output_type": "display_data"
    },
    {
     "name": "stdout",
     "output_type": "stream",
     "text": [
      "DS\n"
     ]
    },
    {
     "data": {
      "image/png": "[encoded data removed]",
      "text/plain": [
       "<Figure size 432x288 with 1 Axes>"
      ]
     },
     "metadata": {
      "needs_background": "light"
     },
     "output_type": "display_data"
    },
    {
     "name": "stdout",
     "output_type": "stream",
     "text": [
      "PS\n"
     ]
    },
    {
     "data": {
      "image/png": "[encoded data removed]",
      "text/plain": [
       "<Figure size 432x288 with 1 Axes>"
      ]
     },
     "metadata": {
      "needs_background": "light"
     },
     "output_type": "display_data"
    },
    {
     "name": "stdout",
     "output_type": "stream",
     "text": [
      "PS4\n"
     ]
    },
    {
     "data": {
      "image/png": "[encoded data removed]",
      "text/plain": [
       "<Figure size 432x288 with 1 Axes>"
      ]
     },
     "metadata": {
      "needs_background": "light"
     },
     "output_type": "display_data"
    },
    {
     "name": "stdout",
     "output_type": "stream",
     "text": [
      "GBA\n"
     ]
    },
    {
     "data": {
      "image/png": "[encoded data removed]",
      "text/plain": [
       "<Figure size 432x288 with 1 Axes>"
      ]
     },
     "metadata": {
      "needs_background": "light"
     },
     "output_type": "display_data"
    },
    {
     "name": "stdout",
     "output_type": "stream",
     "text": [
      "PSP\n"
     ]
    },
    {
     "data": {
      "image/png": "[encoded data removed]",
      "text/plain": [
       "<Figure size 432x288 with 1 Axes>"
      ]
     },
     "metadata": {
      "needs_background": "light"
     },
     "output_type": "display_data"
    },
    {
     "name": "stdout",
     "output_type": "stream",
     "text": [
      "3DS\n"
     ]
    },
    {
     "data": {
      "image/png": "[encoded data removed]",
      "text/plain": [
       "<Figure size 432x288 with 1 Axes>"
      ]
     },
     "metadata": {
      "needs_background": "light"
     },
     "output_type": "display_data"
    }
   ],
   "source": [
    "for platform in data_pivot_platform.index[:10]:\n",
    "    print(platform)\n",
    "    (data.query('platform == @platform').pivot_table(index='year_of_release', values='total_sales', aggfunc='sum').plot(kind='bar'))\n",
    "    \n",
    "    plt.show()"
   ]
  },
  {
   "cell_type": "markdown",
   "metadata": {},
   "source": [
    "Судя по графикам срок \"жизни\" платформы не превышает 10 лет, а срок популятности 5 лет. Все платформы из топа на момент необходимости исследования уже не популярны."
   ]
  },
  {
   "cell_type": "markdown",
   "metadata": {},
   "source": [
    "Актуальность данных."
   ]
  },
  {
   "cell_type": "markdown",
   "metadata": {},
   "source": [
    "Основываясь на данных, приведенных выше, возьмем за актуальные данные период 2015-2016 гг. В 2015 году как раз заканчивается спад выпуска игр, а 2016 год представлен не полностью."
   ]
  },
  {
   "cell_type": "code",
   "execution_count": 28,
   "metadata": {},
   "outputs": [],
   "source": [
    "actual_data = data.query('year_of_release >= 2015')"
   ]
  },
  {
   "cell_type": "code",
   "execution_count": 29,
   "metadata": {},
   "outputs": [
    {
     "data": {
      "text/html": [
       "<div>\n",
       "<style scoped>\n",
       "    .dataframe tbody tr th:only-of-type {\n",
       "        vertical-align: middle;\n",
       "    }\n",
       "\n",
       "    .dataframe tbody tr th {\n",
       "        vertical-align: top;\n",
       "    }\n",
       "\n",
       "    .dataframe thead th {\n",
       "        text-align: right;\n",
       "    }\n",
       "</style>\n",
       "<table border=\"1\" class=\"dataframe\">\n",
       "  <thead>\n",
       "    <tr style=\"text-align: right;\">\n",
       "      <th></th>\n",
       "      <th>name</th>\n",
       "      <th>platform</th>\n",
       "      <th>year_of_release</th>\n",
       "      <th>genre</th>\n",
       "      <th>na_sales</th>\n",
       "      <th>eu_sales</th>\n",
       "      <th>jp_sales</th>\n",
       "      <th>other_sales</th>\n",
       "      <th>critic_score</th>\n",
       "      <th>user_score</th>\n",
       "      <th>rating</th>\n",
       "      <th>total_sales</th>\n",
       "    </tr>\n",
       "  </thead>\n",
       "  <tbody>\n",
       "    <tr>\n",
       "      <th>31</th>\n",
       "      <td>Call of Duty: Black Ops 3</td>\n",
       "      <td>PS4</td>\n",
       "      <td>2015</td>\n",
       "      <td>Shooter</td>\n",
       "      <td>6.03</td>\n",
       "      <td>5.86</td>\n",
       "      <td>0.36</td>\n",
       "      <td>2.38</td>\n",
       "      <td>-10.0</td>\n",
       "      <td>-10.0</td>\n",
       "      <td>Unknown</td>\n",
       "      <td>14.63</td>\n",
       "    </tr>\n",
       "    <tr>\n",
       "      <th>77</th>\n",
       "      <td>FIFA 16</td>\n",
       "      <td>PS4</td>\n",
       "      <td>2015</td>\n",
       "      <td>Sports</td>\n",
       "      <td>1.12</td>\n",
       "      <td>6.12</td>\n",
       "      <td>0.06</td>\n",
       "      <td>1.28</td>\n",
       "      <td>82.0</td>\n",
       "      <td>4.3</td>\n",
       "      <td>E</td>\n",
       "      <td>8.58</td>\n",
       "    </tr>\n",
       "    <tr>\n",
       "      <th>87</th>\n",
       "      <td>Star Wars Battlefront (2015)</td>\n",
       "      <td>PS4</td>\n",
       "      <td>2015</td>\n",
       "      <td>Shooter</td>\n",
       "      <td>2.99</td>\n",
       "      <td>3.49</td>\n",
       "      <td>0.22</td>\n",
       "      <td>1.28</td>\n",
       "      <td>-10.0</td>\n",
       "      <td>-10.0</td>\n",
       "      <td>Unknown</td>\n",
       "      <td>7.98</td>\n",
       "    </tr>\n",
       "    <tr>\n",
       "      <th>94</th>\n",
       "      <td>FIFA 17</td>\n",
       "      <td>PS4</td>\n",
       "      <td>2016</td>\n",
       "      <td>Sports</td>\n",
       "      <td>0.66</td>\n",
       "      <td>5.75</td>\n",
       "      <td>0.08</td>\n",
       "      <td>1.11</td>\n",
       "      <td>85.0</td>\n",
       "      <td>5.0</td>\n",
       "      <td>E</td>\n",
       "      <td>7.60</td>\n",
       "    </tr>\n",
       "    <tr>\n",
       "      <th>99</th>\n",
       "      <td>Call of Duty: Black Ops 3</td>\n",
       "      <td>XOne</td>\n",
       "      <td>2015</td>\n",
       "      <td>Shooter</td>\n",
       "      <td>4.59</td>\n",
       "      <td>2.11</td>\n",
       "      <td>0.01</td>\n",
       "      <td>0.68</td>\n",
       "      <td>-10.0</td>\n",
       "      <td>-10.0</td>\n",
       "      <td>Unknown</td>\n",
       "      <td>7.39</td>\n",
       "    </tr>\n",
       "    <tr>\n",
       "      <th>105</th>\n",
       "      <td>Fallout 4</td>\n",
       "      <td>PS4</td>\n",
       "      <td>2015</td>\n",
       "      <td>Role-Playing</td>\n",
       "      <td>2.53</td>\n",
       "      <td>3.27</td>\n",
       "      <td>0.24</td>\n",
       "      <td>1.13</td>\n",
       "      <td>87.0</td>\n",
       "      <td>6.5</td>\n",
       "      <td>M</td>\n",
       "      <td>7.17</td>\n",
       "    </tr>\n",
       "    <tr>\n",
       "      <th>108</th>\n",
       "      <td>Pokemon Sun/Moon</td>\n",
       "      <td>3DS</td>\n",
       "      <td>2016</td>\n",
       "      <td>Role-Playing</td>\n",
       "      <td>2.98</td>\n",
       "      <td>1.45</td>\n",
       "      <td>2.26</td>\n",
       "      <td>0.45</td>\n",
       "      <td>-10.0</td>\n",
       "      <td>-10.0</td>\n",
       "      <td>Unknown</td>\n",
       "      <td>7.14</td>\n",
       "    </tr>\n",
       "    <tr>\n",
       "      <th>171</th>\n",
       "      <td>Uncharted 4: A Thief's End</td>\n",
       "      <td>PS4</td>\n",
       "      <td>2016</td>\n",
       "      <td>Shooter</td>\n",
       "      <td>1.85</td>\n",
       "      <td>2.50</td>\n",
       "      <td>0.19</td>\n",
       "      <td>0.85</td>\n",
       "      <td>93.0</td>\n",
       "      <td>7.9</td>\n",
       "      <td>T</td>\n",
       "      <td>5.39</td>\n",
       "    </tr>\n",
       "    <tr>\n",
       "      <th>231</th>\n",
       "      <td>Uncharted: The Nathan Drake Collection</td>\n",
       "      <td>PS4</td>\n",
       "      <td>2015</td>\n",
       "      <td>Action</td>\n",
       "      <td>2.07</td>\n",
       "      <td>1.71</td>\n",
       "      <td>0.08</td>\n",
       "      <td>0.76</td>\n",
       "      <td>86.0</td>\n",
       "      <td>8.1</td>\n",
       "      <td>T</td>\n",
       "      <td>4.62</td>\n",
       "    </tr>\n",
       "    <tr>\n",
       "      <th>242</th>\n",
       "      <td>Halo 5: Guardians</td>\n",
       "      <td>XOne</td>\n",
       "      <td>2015</td>\n",
       "      <td>Shooter</td>\n",
       "      <td>2.78</td>\n",
       "      <td>1.27</td>\n",
       "      <td>0.03</td>\n",
       "      <td>0.41</td>\n",
       "      <td>84.0</td>\n",
       "      <td>6.4</td>\n",
       "      <td>T</td>\n",
       "      <td>4.49</td>\n",
       "    </tr>\n",
       "    <tr>\n",
       "      <th>245</th>\n",
       "      <td>Call of Duty: Infinite Warfare</td>\n",
       "      <td>PS4</td>\n",
       "      <td>2016</td>\n",
       "      <td>Shooter</td>\n",
       "      <td>1.61</td>\n",
       "      <td>2.00</td>\n",
       "      <td>0.15</td>\n",
       "      <td>0.71</td>\n",
       "      <td>77.0</td>\n",
       "      <td>3.4</td>\n",
       "      <td>M</td>\n",
       "      <td>4.47</td>\n",
       "    </tr>\n",
       "    <tr>\n",
       "      <th>247</th>\n",
       "      <td>Splatoon</td>\n",
       "      <td>WiiU</td>\n",
       "      <td>2015</td>\n",
       "      <td>Shooter</td>\n",
       "      <td>1.54</td>\n",
       "      <td>1.18</td>\n",
       "      <td>1.46</td>\n",
       "      <td>0.26</td>\n",
       "      <td>81.0</td>\n",
       "      <td>8.5</td>\n",
       "      <td>E10+</td>\n",
       "      <td>4.44</td>\n",
       "    </tr>\n",
       "    <tr>\n",
       "      <th>270</th>\n",
       "      <td>Fallout 4</td>\n",
       "      <td>XOne</td>\n",
       "      <td>2015</td>\n",
       "      <td>Role-Playing</td>\n",
       "      <td>2.51</td>\n",
       "      <td>1.32</td>\n",
       "      <td>0.01</td>\n",
       "      <td>0.38</td>\n",
       "      <td>88.0</td>\n",
       "      <td>6.2</td>\n",
       "      <td>M</td>\n",
       "      <td>4.22</td>\n",
       "    </tr>\n",
       "    <tr>\n",
       "      <th>289</th>\n",
       "      <td>Battlefield 1</td>\n",
       "      <td>PS4</td>\n",
       "      <td>2016</td>\n",
       "      <td>Shooter</td>\n",
       "      <td>1.10</td>\n",
       "      <td>2.15</td>\n",
       "      <td>0.21</td>\n",
       "      <td>0.61</td>\n",
       "      <td>88.0</td>\n",
       "      <td>8.4</td>\n",
       "      <td>M</td>\n",
       "      <td>4.07</td>\n",
       "    </tr>\n",
       "    <tr>\n",
       "      <th>303</th>\n",
       "      <td>The Witcher 3: Wild Hunt</td>\n",
       "      <td>PS4</td>\n",
       "      <td>2015</td>\n",
       "      <td>Role-Playing</td>\n",
       "      <td>1.02</td>\n",
       "      <td>2.13</td>\n",
       "      <td>0.23</td>\n",
       "      <td>0.59</td>\n",
       "      <td>92.0</td>\n",
       "      <td>9.2</td>\n",
       "      <td>M</td>\n",
       "      <td>3.97</td>\n",
       "    </tr>\n",
       "    <tr>\n",
       "      <th>305</th>\n",
       "      <td>Batman: Arkham Knight</td>\n",
       "      <td>PS4</td>\n",
       "      <td>2015</td>\n",
       "      <td>Action</td>\n",
       "      <td>1.53</td>\n",
       "      <td>1.69</td>\n",
       "      <td>0.10</td>\n",
       "      <td>0.64</td>\n",
       "      <td>87.0</td>\n",
       "      <td>7.6</td>\n",
       "      <td>M</td>\n",
       "      <td>3.96</td>\n",
       "    </tr>\n",
       "    <tr>\n",
       "      <th>314</th>\n",
       "      <td>NBA 2K16</td>\n",
       "      <td>PS4</td>\n",
       "      <td>2015</td>\n",
       "      <td>Sports</td>\n",
       "      <td>2.49</td>\n",
       "      <td>0.66</td>\n",
       "      <td>0.03</td>\n",
       "      <td>0.69</td>\n",
       "      <td>87.0</td>\n",
       "      <td>6.7</td>\n",
       "      <td>E10+</td>\n",
       "      <td>3.87</td>\n",
       "    </tr>\n",
       "    <tr>\n",
       "      <th>325</th>\n",
       "      <td>Tom Clancy's The Division</td>\n",
       "      <td>PS4</td>\n",
       "      <td>2016</td>\n",
       "      <td>Shooter</td>\n",
       "      <td>1.35</td>\n",
       "      <td>1.70</td>\n",
       "      <td>0.15</td>\n",
       "      <td>0.60</td>\n",
       "      <td>80.0</td>\n",
       "      <td>7.0</td>\n",
       "      <td>M</td>\n",
       "      <td>3.80</td>\n",
       "    </tr>\n",
       "    <tr>\n",
       "      <th>342</th>\n",
       "      <td>Star Wars Battlefront (2015)</td>\n",
       "      <td>XOne</td>\n",
       "      <td>2015</td>\n",
       "      <td>Shooter</td>\n",
       "      <td>2.04</td>\n",
       "      <td>1.28</td>\n",
       "      <td>0.02</td>\n",
       "      <td>0.32</td>\n",
       "      <td>-10.0</td>\n",
       "      <td>-10.0</td>\n",
       "      <td>Unknown</td>\n",
       "      <td>3.66</td>\n",
       "    </tr>\n",
       "    <tr>\n",
       "      <th>390</th>\n",
       "      <td>Metal Gear Solid V: The Phantom Pain</td>\n",
       "      <td>PS4</td>\n",
       "      <td>2015</td>\n",
       "      <td>Action</td>\n",
       "      <td>1.09</td>\n",
       "      <td>1.36</td>\n",
       "      <td>0.49</td>\n",
       "      <td>0.48</td>\n",
       "      <td>93.0</td>\n",
       "      <td>8.2</td>\n",
       "      <td>M</td>\n",
       "      <td>3.42</td>\n",
       "    </tr>\n",
       "  </tbody>\n",
       "</table>\n",
       "</div>"
      ],
      "text/plain": [
       "                                       name platform  year_of_release  \\\n",
       "31                Call of Duty: Black Ops 3      PS4             2015   \n",
       "77                                  FIFA 16      PS4             2015   \n",
       "87             Star Wars Battlefront (2015)      PS4             2015   \n",
       "94                                  FIFA 17      PS4             2016   \n",
       "99                Call of Duty: Black Ops 3     XOne             2015   \n",
       "105                               Fallout 4      PS4             2015   \n",
       "108                        Pokemon Sun/Moon      3DS             2016   \n",
       "171              Uncharted 4: A Thief's End      PS4             2016   \n",
       "231  Uncharted: The Nathan Drake Collection      PS4             2015   \n",
       "242                       Halo 5: Guardians     XOne             2015   \n",
       "245          Call of Duty: Infinite Warfare      PS4             2016   \n",
       "247                                Splatoon     WiiU             2015   \n",
       "270                               Fallout 4     XOne             2015   \n",
       "289                           Battlefield 1      PS4             2016   \n",
       "303                The Witcher 3: Wild Hunt      PS4             2015   \n",
       "305                   Batman: Arkham Knight      PS4             2015   \n",
       "314                                NBA 2K16      PS4             2015   \n",
       "325               Tom Clancy's The Division      PS4             2016   \n",
       "342            Star Wars Battlefront (2015)     XOne             2015   \n",
       "390    Metal Gear Solid V: The Phantom Pain      PS4             2015   \n",
       "\n",
       "            genre  na_sales  eu_sales  jp_sales  other_sales  critic_score  \\\n",
       "31        Shooter      6.03      5.86      0.36         2.38         -10.0   \n",
       "77         Sports      1.12      6.12      0.06         1.28          82.0   \n",
       "87        Shooter      2.99      3.49      0.22         1.28         -10.0   \n",
       "94         Sports      0.66      5.75      0.08         1.11          85.0   \n",
       "99        Shooter      4.59      2.11      0.01         0.68         -10.0   \n",
       "105  Role-Playing      2.53      3.27      0.24         1.13          87.0   \n",
       "108  Role-Playing      2.98      1.45      2.26         0.45         -10.0   \n",
       "171       Shooter      1.85      2.50      0.19         0.85          93.0   \n",
       "231        Action      2.07      1.71      0.08         0.76          86.0   \n",
       "242       Shooter      2.78      1.27      0.03         0.41          84.0   \n",
       "245       Shooter      1.61      2.00      0.15         0.71          77.0   \n",
       "247       Shooter      1.54      1.18      1.46         0.26          81.0   \n",
       "270  Role-Playing      2.51      1.32      0.01         0.38          88.0   \n",
       "289       Shooter      1.10      2.15      0.21         0.61          88.0   \n",
       "303  Role-Playing      1.02      2.13      0.23         0.59          92.0   \n",
       "305        Action      1.53      1.69      0.10         0.64          87.0   \n",
       "314        Sports      2.49      0.66      0.03         0.69          87.0   \n",
       "325       Shooter      1.35      1.70      0.15         0.60          80.0   \n",
       "342       Shooter      2.04      1.28      0.02         0.32         -10.0   \n",
       "390        Action      1.09      1.36      0.49         0.48          93.0   \n",
       "\n",
       "     user_score   rating  total_sales  \n",
       "31        -10.0  Unknown        14.63  \n",
       "77          4.3        E         8.58  \n",
       "87        -10.0  Unknown         7.98  \n",
       "94          5.0        E         7.60  \n",
       "99        -10.0  Unknown         7.39  \n",
       "105         6.5        M         7.17  \n",
       "108       -10.0  Unknown         7.14  \n",
       "171         7.9        T         5.39  \n",
       "231         8.1        T         4.62  \n",
       "242         6.4        T         4.49  \n",
       "245         3.4        M         4.47  \n",
       "247         8.5     E10+         4.44  \n",
       "270         6.2        M         4.22  \n",
       "289         8.4        M         4.07  \n",
       "303         9.2        M         3.97  \n",
       "305         7.6        M         3.96  \n",
       "314         6.7     E10+         3.87  \n",
       "325         7.0        M         3.80  \n",
       "342       -10.0  Unknown         3.66  \n",
       "390         8.2        M         3.42  "
      ]
     },
     "execution_count": 29,
     "metadata": {},
     "output_type": "execute_result"
    }
   ],
   "source": [
    "actual_data.sort_values(by='total_sales', ascending = False).head(20)"
   ]
  },
  {
   "cell_type": "code",
   "execution_count": 30,
   "metadata": {},
   "outputs": [],
   "source": [
    "actual_data_sales=actual_data.pivot_table(index='platform', values='total_sales', aggfunc={'sum'}).sort_values(by='sum', ascending = False)\n"
   ]
  },
  {
   "cell_type": "code",
   "execution_count": 31,
   "metadata": {},
   "outputs": [
    {
     "data": {
      "text/html": [
       "<div>\n",
       "<style scoped>\n",
       "    .dataframe tbody tr th:only-of-type {\n",
       "        vertical-align: middle;\n",
       "    }\n",
       "\n",
       "    .dataframe tbody tr th {\n",
       "        vertical-align: top;\n",
       "    }\n",
       "\n",
       "    .dataframe thead th {\n",
       "        text-align: right;\n",
       "    }\n",
       "</style>\n",
       "<table border=\"1\" class=\"dataframe\">\n",
       "  <thead>\n",
       "    <tr style=\"text-align: right;\">\n",
       "      <th></th>\n",
       "      <th>sum</th>\n",
       "    </tr>\n",
       "    <tr>\n",
       "      <th>platform</th>\n",
       "      <th></th>\n",
       "    </tr>\n",
       "  </thead>\n",
       "  <tbody>\n",
       "    <tr>\n",
       "      <th>PS4</th>\n",
       "      <td>188.15</td>\n",
       "    </tr>\n",
       "    <tr>\n",
       "      <th>XOne</th>\n",
       "      <td>86.29</td>\n",
       "    </tr>\n",
       "    <tr>\n",
       "      <th>3DS</th>\n",
       "      <td>42.92</td>\n",
       "    </tr>\n",
       "    <tr>\n",
       "      <th>WiiU</th>\n",
       "      <td>20.95</td>\n",
       "    </tr>\n",
       "    <tr>\n",
       "      <th>PS3</th>\n",
       "      <td>20.42</td>\n",
       "    </tr>\n",
       "    <tr>\n",
       "      <th>PC</th>\n",
       "      <td>13.77</td>\n",
       "    </tr>\n",
       "    <tr>\n",
       "      <th>X360</th>\n",
       "      <td>13.48</td>\n",
       "    </tr>\n",
       "    <tr>\n",
       "      <th>PSV</th>\n",
       "      <td>10.50</td>\n",
       "    </tr>\n",
       "    <tr>\n",
       "      <th>Wii</th>\n",
       "      <td>1.32</td>\n",
       "    </tr>\n",
       "    <tr>\n",
       "      <th>PSP</th>\n",
       "      <td>0.12</td>\n",
       "    </tr>\n",
       "  </tbody>\n",
       "</table>\n",
       "</div>"
      ],
      "text/plain": [
       "             sum\n",
       "platform        \n",
       "PS4       188.15\n",
       "XOne       86.29\n",
       "3DS        42.92\n",
       "WiiU       20.95\n",
       "PS3        20.42\n",
       "PC         13.77\n",
       "X360       13.48\n",
       "PSV        10.50\n",
       "Wii         1.32\n",
       "PSP         0.12"
      ]
     },
     "execution_count": 31,
     "metadata": {},
     "output_type": "execute_result"
    }
   ],
   "source": [
    "actual_data_sales"
   ]
  },
  {
   "cell_type": "code",
   "execution_count": 32,
   "metadata": {},
   "outputs": [
    {
     "name": "stdout",
     "output_type": "stream",
     "text": [
      "PS4\n"
     ]
    },
    {
     "data": {
      "image/png": "[encoded data removed]",
      "text/plain": [
       "<Figure size 432x288 with 1 Axes>"
      ]
     },
     "metadata": {
      "needs_background": "light"
     },
     "output_type": "display_data"
    },
    {
     "name": "stdout",
     "output_type": "stream",
     "text": [
      "XOne\n"
     ]
    },
    {
     "data": {
      "image/png": "[encoded data removed]",
      "text/plain": [
       "<Figure size 432x288 with 1 Axes>"
      ]
     },
     "metadata": {
      "needs_background": "light"
     },
     "output_type": "display_data"
    },
    {
     "name": "stdout",
     "output_type": "stream",
     "text": [
      "3DS\n"
     ]
    },
    {
     "data": {
      "image/png": "[encoded data removed]",
      "text/plain": [
       "<Figure size 432x288 with 1 Axes>"
      ]
     },
     "metadata": {
      "needs_background": "light"
     },
     "output_type": "display_data"
    },
    {
     "name": "stdout",
     "output_type": "stream",
     "text": [
      "WiiU\n"
     ]
    },
    {
     "data": {
      "image/png": "[encoded data removed]",
      "text/plain": [
       "<Figure size 432x288 with 1 Axes>"
      ]
     },
     "metadata": {
      "needs_background": "light"
     },
     "output_type": "display_data"
    },
    {
     "name": "stdout",
     "output_type": "stream",
     "text": [
      "PS3\n"
     ]
    },
    {
     "data": {
      "image/png": "[encoded data removed]",
      "text/plain": [
       "<Figure size 432x288 with 1 Axes>"
      ]
     },
     "metadata": {
      "needs_background": "light"
     },
     "output_type": "display_data"
    },
    {
     "name": "stdout",
     "output_type": "stream",
     "text": [
      "PC\n"
     ]
    },
    {
     "data": {
      "image/png": "[encoded data removed]",
      "text/plain": [
       "<Figure size 432x288 with 1 Axes>"
      ]
     },
     "metadata": {
      "needs_background": "light"
     },
     "output_type": "display_data"
    },
    {
     "name": "stdout",
     "output_type": "stream",
     "text": [
      "X360\n"
     ]
    },
    {
     "data": {
      "image/png": "[encoded data removed]",
      "text/plain": [
       "<Figure size 432x288 with 1 Axes>"
      ]
     },
     "metadata": {
      "needs_background": "light"
     },
     "output_type": "display_data"
    },
    {
     "name": "stdout",
     "output_type": "stream",
     "text": [
      "PSV\n"
     ]
    },
    {
     "data": {
      "image/png": "[encoded data removed]",
      "text/plain": [
       "<Figure size 432x288 with 1 Axes>"
      ]
     },
     "metadata": {
      "needs_background": "light"
     },
     "output_type": "display_data"
    },
    {
     "name": "stdout",
     "output_type": "stream",
     "text": [
      "Wii\n"
     ]
    },
    {
     "data": {
      "image/png": "[encoded data removed]",
      "text/plain": [
       "<Figure size 432x288 with 1 Axes>"
      ]
     },
     "metadata": {
      "needs_background": "light"
     },
     "output_type": "display_data"
    },
    {
     "name": "stdout",
     "output_type": "stream",
     "text": [
      "PSP\n"
     ]
    },
    {
     "data": {
      "image/png": "[encoded data removed]",
      "text/plain": [
       "<Figure size 432x288 with 1 Axes>"
      ]
     },
     "metadata": {
      "needs_background": "light"
     },
     "output_type": "display_data"
    }
   ],
   "source": [
    "for platform in actual_data_sales.index[:10]:\n",
    "    print(platform)\n",
    "    (data.query('platform == @platform').pivot_table(index='year_of_release', values='total_sales', aggfunc='sum').plot(kind='bar'))\n",
    "    \n",
    "    plt.show()"
   ]
  },
  {
   "cell_type": "markdown",
   "metadata": {},
   "source": [
    "Вывод: почти по всем лидирующим платформам наблюдается спад продаж. Но так как  у нас нет заключительных данных предположим, что потенциально прибыльные платформы, судя по графику, это: PS4, XOne, PC, PSV,\n"
   ]
  },
  {
   "cell_type": "markdown",
   "metadata": {},
   "source": [
    "Построим график \"ящик с усами\" по глобальным продажам игр в разбивке по платформам."
   ]
  },
  {
   "cell_type": "code",
   "execution_count": 33,
   "metadata": {},
   "outputs": [
    {
     "data": {
      "text/html": [
       "<div>\n",
       "<style scoped>\n",
       "    .dataframe tbody tr th:only-of-type {\n",
       "        vertical-align: middle;\n",
       "    }\n",
       "\n",
       "    .dataframe tbody tr th {\n",
       "        vertical-align: top;\n",
       "    }\n",
       "\n",
       "    .dataframe thead th {\n",
       "        text-align: right;\n",
       "    }\n",
       "</style>\n",
       "<table border=\"1\" class=\"dataframe\">\n",
       "  <thead>\n",
       "    <tr style=\"text-align: right;\">\n",
       "      <th></th>\n",
       "      <th>name</th>\n",
       "      <th>platform</th>\n",
       "      <th>year_of_release</th>\n",
       "      <th>genre</th>\n",
       "      <th>na_sales</th>\n",
       "      <th>eu_sales</th>\n",
       "      <th>jp_sales</th>\n",
       "      <th>other_sales</th>\n",
       "      <th>critic_score</th>\n",
       "      <th>user_score</th>\n",
       "      <th>rating</th>\n",
       "      <th>total_sales</th>\n",
       "    </tr>\n",
       "  </thead>\n",
       "  <tbody>\n",
       "    <tr>\n",
       "      <th>31</th>\n",
       "      <td>Call of Duty: Black Ops 3</td>\n",
       "      <td>PS4</td>\n",
       "      <td>2015</td>\n",
       "      <td>Shooter</td>\n",
       "      <td>6.03</td>\n",
       "      <td>5.86</td>\n",
       "      <td>0.36</td>\n",
       "      <td>2.38</td>\n",
       "      <td>-10.0</td>\n",
       "      <td>-10.0</td>\n",
       "      <td>Unknown</td>\n",
       "      <td>14.63</td>\n",
       "    </tr>\n",
       "    <tr>\n",
       "      <th>77</th>\n",
       "      <td>FIFA 16</td>\n",
       "      <td>PS4</td>\n",
       "      <td>2015</td>\n",
       "      <td>Sports</td>\n",
       "      <td>1.12</td>\n",
       "      <td>6.12</td>\n",
       "      <td>0.06</td>\n",
       "      <td>1.28</td>\n",
       "      <td>82.0</td>\n",
       "      <td>4.3</td>\n",
       "      <td>E</td>\n",
       "      <td>8.58</td>\n",
       "    </tr>\n",
       "    <tr>\n",
       "      <th>87</th>\n",
       "      <td>Star Wars Battlefront (2015)</td>\n",
       "      <td>PS4</td>\n",
       "      <td>2015</td>\n",
       "      <td>Shooter</td>\n",
       "      <td>2.99</td>\n",
       "      <td>3.49</td>\n",
       "      <td>0.22</td>\n",
       "      <td>1.28</td>\n",
       "      <td>-10.0</td>\n",
       "      <td>-10.0</td>\n",
       "      <td>Unknown</td>\n",
       "      <td>7.98</td>\n",
       "    </tr>\n",
       "    <tr>\n",
       "      <th>94</th>\n",
       "      <td>FIFA 17</td>\n",
       "      <td>PS4</td>\n",
       "      <td>2016</td>\n",
       "      <td>Sports</td>\n",
       "      <td>0.66</td>\n",
       "      <td>5.75</td>\n",
       "      <td>0.08</td>\n",
       "      <td>1.11</td>\n",
       "      <td>85.0</td>\n",
       "      <td>5.0</td>\n",
       "      <td>E</td>\n",
       "      <td>7.60</td>\n",
       "    </tr>\n",
       "    <tr>\n",
       "      <th>99</th>\n",
       "      <td>Call of Duty: Black Ops 3</td>\n",
       "      <td>XOne</td>\n",
       "      <td>2015</td>\n",
       "      <td>Shooter</td>\n",
       "      <td>4.59</td>\n",
       "      <td>2.11</td>\n",
       "      <td>0.01</td>\n",
       "      <td>0.68</td>\n",
       "      <td>-10.0</td>\n",
       "      <td>-10.0</td>\n",
       "      <td>Unknown</td>\n",
       "      <td>7.39</td>\n",
       "    </tr>\n",
       "    <tr>\n",
       "      <th>...</th>\n",
       "      <td>...</td>\n",
       "      <td>...</td>\n",
       "      <td>...</td>\n",
       "      <td>...</td>\n",
       "      <td>...</td>\n",
       "      <td>...</td>\n",
       "      <td>...</td>\n",
       "      <td>...</td>\n",
       "      <td>...</td>\n",
       "      <td>...</td>\n",
       "      <td>...</td>\n",
       "      <td>...</td>\n",
       "    </tr>\n",
       "    <tr>\n",
       "      <th>16684</th>\n",
       "      <td>7'scarlet</td>\n",
       "      <td>PSV</td>\n",
       "      <td>2016</td>\n",
       "      <td>Adventure</td>\n",
       "      <td>0.00</td>\n",
       "      <td>0.00</td>\n",
       "      <td>0.01</td>\n",
       "      <td>0.00</td>\n",
       "      <td>-10.0</td>\n",
       "      <td>-10.0</td>\n",
       "      <td>Unknown</td>\n",
       "      <td>0.01</td>\n",
       "    </tr>\n",
       "    <tr>\n",
       "      <th>16699</th>\n",
       "      <td>The Longest 5 Minutes</td>\n",
       "      <td>PSV</td>\n",
       "      <td>2016</td>\n",
       "      <td>Action</td>\n",
       "      <td>0.00</td>\n",
       "      <td>0.00</td>\n",
       "      <td>0.01</td>\n",
       "      <td>0.00</td>\n",
       "      <td>-10.0</td>\n",
       "      <td>-10.0</td>\n",
       "      <td>Unknown</td>\n",
       "      <td>0.01</td>\n",
       "    </tr>\n",
       "    <tr>\n",
       "      <th>16703</th>\n",
       "      <td>Strawberry Nauts</td>\n",
       "      <td>PSV</td>\n",
       "      <td>2016</td>\n",
       "      <td>Adventure</td>\n",
       "      <td>0.00</td>\n",
       "      <td>0.00</td>\n",
       "      <td>0.01</td>\n",
       "      <td>0.00</td>\n",
       "      <td>-10.0</td>\n",
       "      <td>-10.0</td>\n",
       "      <td>Unknown</td>\n",
       "      <td>0.01</td>\n",
       "    </tr>\n",
       "    <tr>\n",
       "      <th>16712</th>\n",
       "      <td>Haitaka no Psychedelica</td>\n",
       "      <td>PSV</td>\n",
       "      <td>2016</td>\n",
       "      <td>Adventure</td>\n",
       "      <td>0.00</td>\n",
       "      <td>0.00</td>\n",
       "      <td>0.01</td>\n",
       "      <td>0.00</td>\n",
       "      <td>-10.0</td>\n",
       "      <td>-10.0</td>\n",
       "      <td>Unknown</td>\n",
       "      <td>0.01</td>\n",
       "    </tr>\n",
       "    <tr>\n",
       "      <th>16714</th>\n",
       "      <td>Winning Post 8 2016</td>\n",
       "      <td>PSV</td>\n",
       "      <td>2016</td>\n",
       "      <td>Simulation</td>\n",
       "      <td>0.00</td>\n",
       "      <td>0.00</td>\n",
       "      <td>0.01</td>\n",
       "      <td>0.00</td>\n",
       "      <td>-10.0</td>\n",
       "      <td>-10.0</td>\n",
       "      <td>Unknown</td>\n",
       "      <td>0.01</td>\n",
       "    </tr>\n",
       "  </tbody>\n",
       "</table>\n",
       "<p>767 rows × 12 columns</p>\n",
       "</div>"
      ],
      "text/plain": [
       "                               name platform  year_of_release       genre  \\\n",
       "31        Call of Duty: Black Ops 3      PS4             2015     Shooter   \n",
       "77                          FIFA 16      PS4             2015      Sports   \n",
       "87     Star Wars Battlefront (2015)      PS4             2015     Shooter   \n",
       "94                          FIFA 17      PS4             2016      Sports   \n",
       "99        Call of Duty: Black Ops 3     XOne             2015     Shooter   \n",
       "...                             ...      ...              ...         ...   \n",
       "16684                     7'scarlet      PSV             2016   Adventure   \n",
       "16699         The Longest 5 Minutes      PSV             2016      Action   \n",
       "16703              Strawberry Nauts      PSV             2016   Adventure   \n",
       "16712       Haitaka no Psychedelica      PSV             2016   Adventure   \n",
       "16714           Winning Post 8 2016      PSV             2016  Simulation   \n",
       "\n",
       "       na_sales  eu_sales  jp_sales  other_sales  critic_score  user_score  \\\n",
       "31         6.03      5.86      0.36         2.38         -10.0       -10.0   \n",
       "77         1.12      6.12      0.06         1.28          82.0         4.3   \n",
       "87         2.99      3.49      0.22         1.28         -10.0       -10.0   \n",
       "94         0.66      5.75      0.08         1.11          85.0         5.0   \n",
       "99         4.59      2.11      0.01         0.68         -10.0       -10.0   \n",
       "...         ...       ...       ...          ...           ...         ...   \n",
       "16684      0.00      0.00      0.01         0.00         -10.0       -10.0   \n",
       "16699      0.00      0.00      0.01         0.00         -10.0       -10.0   \n",
       "16703      0.00      0.00      0.01         0.00         -10.0       -10.0   \n",
       "16712      0.00      0.00      0.01         0.00         -10.0       -10.0   \n",
       "16714      0.00      0.00      0.01         0.00         -10.0       -10.0   \n",
       "\n",
       "        rating  total_sales  \n",
       "31     Unknown        14.63  \n",
       "77           E         8.58  \n",
       "87     Unknown         7.98  \n",
       "94           E         7.60  \n",
       "99     Unknown         7.39  \n",
       "...        ...          ...  \n",
       "16684  Unknown         0.01  \n",
       "16699  Unknown         0.01  \n",
       "16703  Unknown         0.01  \n",
       "16712  Unknown         0.01  \n",
       "16714  Unknown         0.01  \n",
       "\n",
       "[767 rows x 12 columns]"
      ]
     },
     "execution_count": 33,
     "metadata": {},
     "output_type": "execute_result"
    }
   ],
   "source": [
    "actual_games = actual_data.query('platform not in [\"3DS\",\"WiiU\", \"PS3\", \"X360\", \"Wii\", \"PSP\"]' )\n",
    "actual_games"
   ]
  },
  {
   "cell_type": "code",
   "execution_count": 34,
   "metadata": {},
   "outputs": [
    {
     "data": {
      "image/png": "[encoded data removed]",
      "text/plain": [
       "<Figure size 1080x648 with 1 Axes>"
      ]
     },
     "metadata": {
      "needs_background": "light"
     },
     "output_type": "display_data"
    }
   ],
   "source": [
    " plt.figure (figsize=(15, 9))\n",
    "(sns.boxplot(data = actual_games, y = 'total_sales', x='platform').set(title = 'Продажи по перспективным платформам', \n",
    " xlabel = 'Платформы', \n",
    " ylabel = 'Общие продажи', ylim=(0, 2)))\n",
    "plt.show()\n",
    "    \n"
   ]
  },
  {
   "cell_type": "markdown",
   "metadata": {},
   "source": [
    "Судя по графику, платформы PC и PSV нам не подходят, у PS4 и XOne распределение продаж примерно на одном уровне, медиана тоже на оном уровне, а также общие продажи у них достаточно высокие."
   ]
  },
  {
   "cell_type": "code",
   "execution_count": 35,
   "metadata": {},
   "outputs": [
    {
     "data": {
      "image/png": "[encoded data removed]",
      "text/plain": [
       "<Figure size 1080x648 with 1 Axes>"
      ]
     },
     "metadata": {
      "needs_background": "light"
     },
     "output_type": "display_data"
    }
   ],
   "source": [
    " plt.figure (figsize=(15, 9))\n",
    "(sns.boxplot(data = actual_data, y = 'total_sales', x='platform').set(title = 'Продажи по перспективным платформам', \n",
    " xlabel = 'Платформы', \n",
    " ylabel = 'Общие продажи', ylim=(0, 2)))\n",
    "plt.show()\n",
    "    "
   ]
  },
  {
   "cell_type": "markdown",
   "metadata": {},
   "source": [
    "Судя по графику к нашим двум платформам стоит добавить еще и WiiU, которую мы ранее отбросили. Она тоже достаточно перспективная."
   ]
  },
  {
   "cell_type": "code",
   "execution_count": 36,
   "metadata": {},
   "outputs": [
    {
     "data": {
      "text/html": [
       "<div>\n",
       "<style scoped>\n",
       "    .dataframe tbody tr th:only-of-type {\n",
       "        vertical-align: middle;\n",
       "    }\n",
       "\n",
       "    .dataframe tbody tr th {\n",
       "        vertical-align: top;\n",
       "    }\n",
       "\n",
       "    .dataframe thead th {\n",
       "        text-align: right;\n",
       "    }\n",
       "</style>\n",
       "<table border=\"1\" class=\"dataframe\">\n",
       "  <thead>\n",
       "    <tr style=\"text-align: right;\">\n",
       "      <th></th>\n",
       "      <th>name</th>\n",
       "      <th>platform</th>\n",
       "      <th>year_of_release</th>\n",
       "      <th>genre</th>\n",
       "      <th>na_sales</th>\n",
       "      <th>eu_sales</th>\n",
       "      <th>jp_sales</th>\n",
       "      <th>other_sales</th>\n",
       "      <th>critic_score</th>\n",
       "      <th>user_score</th>\n",
       "      <th>rating</th>\n",
       "      <th>total_sales</th>\n",
       "    </tr>\n",
       "  </thead>\n",
       "  <tbody>\n",
       "    <tr>\n",
       "      <th>31</th>\n",
       "      <td>Call of Duty: Black Ops 3</td>\n",
       "      <td>PS4</td>\n",
       "      <td>2015</td>\n",
       "      <td>Shooter</td>\n",
       "      <td>6.03</td>\n",
       "      <td>5.86</td>\n",
       "      <td>0.36</td>\n",
       "      <td>2.38</td>\n",
       "      <td>-10.0</td>\n",
       "      <td>-10.0</td>\n",
       "      <td>Unknown</td>\n",
       "      <td>14.63</td>\n",
       "    </tr>\n",
       "    <tr>\n",
       "      <th>77</th>\n",
       "      <td>FIFA 16</td>\n",
       "      <td>PS4</td>\n",
       "      <td>2015</td>\n",
       "      <td>Sports</td>\n",
       "      <td>1.12</td>\n",
       "      <td>6.12</td>\n",
       "      <td>0.06</td>\n",
       "      <td>1.28</td>\n",
       "      <td>82.0</td>\n",
       "      <td>4.3</td>\n",
       "      <td>E</td>\n",
       "      <td>8.58</td>\n",
       "    </tr>\n",
       "    <tr>\n",
       "      <th>87</th>\n",
       "      <td>Star Wars Battlefront (2015)</td>\n",
       "      <td>PS4</td>\n",
       "      <td>2015</td>\n",
       "      <td>Shooter</td>\n",
       "      <td>2.99</td>\n",
       "      <td>3.49</td>\n",
       "      <td>0.22</td>\n",
       "      <td>1.28</td>\n",
       "      <td>-10.0</td>\n",
       "      <td>-10.0</td>\n",
       "      <td>Unknown</td>\n",
       "      <td>7.98</td>\n",
       "    </tr>\n",
       "    <tr>\n",
       "      <th>94</th>\n",
       "      <td>FIFA 17</td>\n",
       "      <td>PS4</td>\n",
       "      <td>2016</td>\n",
       "      <td>Sports</td>\n",
       "      <td>0.66</td>\n",
       "      <td>5.75</td>\n",
       "      <td>0.08</td>\n",
       "      <td>1.11</td>\n",
       "      <td>85.0</td>\n",
       "      <td>5.0</td>\n",
       "      <td>E</td>\n",
       "      <td>7.60</td>\n",
       "    </tr>\n",
       "    <tr>\n",
       "      <th>99</th>\n",
       "      <td>Call of Duty: Black Ops 3</td>\n",
       "      <td>XOne</td>\n",
       "      <td>2015</td>\n",
       "      <td>Shooter</td>\n",
       "      <td>4.59</td>\n",
       "      <td>2.11</td>\n",
       "      <td>0.01</td>\n",
       "      <td>0.68</td>\n",
       "      <td>-10.0</td>\n",
       "      <td>-10.0</td>\n",
       "      <td>Unknown</td>\n",
       "      <td>7.39</td>\n",
       "    </tr>\n",
       "    <tr>\n",
       "      <th>...</th>\n",
       "      <td>...</td>\n",
       "      <td>...</td>\n",
       "      <td>...</td>\n",
       "      <td>...</td>\n",
       "      <td>...</td>\n",
       "      <td>...</td>\n",
       "      <td>...</td>\n",
       "      <td>...</td>\n",
       "      <td>...</td>\n",
       "      <td>...</td>\n",
       "      <td>...</td>\n",
       "      <td>...</td>\n",
       "    </tr>\n",
       "    <tr>\n",
       "      <th>16643</th>\n",
       "      <td>Rugby Challenge 3</td>\n",
       "      <td>XOne</td>\n",
       "      <td>2016</td>\n",
       "      <td>Sports</td>\n",
       "      <td>0.00</td>\n",
       "      <td>0.01</td>\n",
       "      <td>0.00</td>\n",
       "      <td>0.00</td>\n",
       "      <td>-10.0</td>\n",
       "      <td>6.6</td>\n",
       "      <td>E</td>\n",
       "      <td>0.01</td>\n",
       "    </tr>\n",
       "    <tr>\n",
       "      <th>16645</th>\n",
       "      <td>ZombiU</td>\n",
       "      <td>XOne</td>\n",
       "      <td>2016</td>\n",
       "      <td>Action</td>\n",
       "      <td>0.00</td>\n",
       "      <td>0.01</td>\n",
       "      <td>0.00</td>\n",
       "      <td>0.00</td>\n",
       "      <td>-10.0</td>\n",
       "      <td>-10.0</td>\n",
       "      <td>Unknown</td>\n",
       "      <td>0.01</td>\n",
       "    </tr>\n",
       "    <tr>\n",
       "      <th>16652</th>\n",
       "      <td>Fast Racing Neo</td>\n",
       "      <td>WiiU</td>\n",
       "      <td>2016</td>\n",
       "      <td>Action</td>\n",
       "      <td>0.00</td>\n",
       "      <td>0.01</td>\n",
       "      <td>0.00</td>\n",
       "      <td>0.00</td>\n",
       "      <td>81.0</td>\n",
       "      <td>8.5</td>\n",
       "      <td>E</td>\n",
       "      <td>0.01</td>\n",
       "    </tr>\n",
       "    <tr>\n",
       "      <th>16660</th>\n",
       "      <td>Prison Architect</td>\n",
       "      <td>XOne</td>\n",
       "      <td>2016</td>\n",
       "      <td>Action</td>\n",
       "      <td>0.01</td>\n",
       "      <td>0.00</td>\n",
       "      <td>0.00</td>\n",
       "      <td>0.00</td>\n",
       "      <td>74.0</td>\n",
       "      <td>6.7</td>\n",
       "      <td>Unknown</td>\n",
       "      <td>0.01</td>\n",
       "    </tr>\n",
       "    <tr>\n",
       "      <th>16672</th>\n",
       "      <td>Metal Gear Solid V: The Definitive Experience</td>\n",
       "      <td>XOne</td>\n",
       "      <td>2016</td>\n",
       "      <td>Action</td>\n",
       "      <td>0.01</td>\n",
       "      <td>0.00</td>\n",
       "      <td>0.00</td>\n",
       "      <td>0.00</td>\n",
       "      <td>-10.0</td>\n",
       "      <td>-10.0</td>\n",
       "      <td>M</td>\n",
       "      <td>0.01</td>\n",
       "    </tr>\n",
       "  </tbody>\n",
       "</table>\n",
       "<p>510 rows × 12 columns</p>\n",
       "</div>"
      ],
      "text/plain": [
       "                                                name platform  \\\n",
       "31                         Call of Duty: Black Ops 3      PS4   \n",
       "77                                           FIFA 16      PS4   \n",
       "87                      Star Wars Battlefront (2015)      PS4   \n",
       "94                                           FIFA 17      PS4   \n",
       "99                         Call of Duty: Black Ops 3     XOne   \n",
       "...                                              ...      ...   \n",
       "16643                              Rugby Challenge 3     XOne   \n",
       "16645                                         ZombiU     XOne   \n",
       "16652                               Fast Racing Neo      WiiU   \n",
       "16660                               Prison Architect     XOne   \n",
       "16672  Metal Gear Solid V: The Definitive Experience     XOne   \n",
       "\n",
       "       year_of_release    genre  na_sales  eu_sales  jp_sales  other_sales  \\\n",
       "31                2015  Shooter      6.03      5.86      0.36         2.38   \n",
       "77                2015   Sports      1.12      6.12      0.06         1.28   \n",
       "87                2015  Shooter      2.99      3.49      0.22         1.28   \n",
       "94                2016   Sports      0.66      5.75      0.08         1.11   \n",
       "99                2015  Shooter      4.59      2.11      0.01         0.68   \n",
       "...                ...      ...       ...       ...       ...          ...   \n",
       "16643             2016   Sports      0.00      0.01      0.00         0.00   \n",
       "16645             2016   Action      0.00      0.01      0.00         0.00   \n",
       "16652             2016   Action      0.00      0.01      0.00         0.00   \n",
       "16660             2016   Action      0.01      0.00      0.00         0.00   \n",
       "16672             2016   Action      0.01      0.00      0.00         0.00   \n",
       "\n",
       "       critic_score  user_score   rating  total_sales  \n",
       "31            -10.0       -10.0  Unknown        14.63  \n",
       "77             82.0         4.3        E         8.58  \n",
       "87            -10.0       -10.0  Unknown         7.98  \n",
       "94             85.0         5.0        E         7.60  \n",
       "99            -10.0       -10.0  Unknown         7.39  \n",
       "...             ...         ...      ...          ...  \n",
       "16643         -10.0         6.6        E         0.01  \n",
       "16645         -10.0       -10.0  Unknown         0.01  \n",
       "16652          81.0         8.5        E         0.01  \n",
       "16660          74.0         6.7  Unknown         0.01  \n",
       "16672         -10.0       -10.0        M         0.01  \n",
       "\n",
       "[510 rows x 12 columns]"
      ]
     },
     "execution_count": 36,
     "metadata": {},
     "output_type": "execute_result"
    }
   ],
   "source": [
    "actual_games = actual_data.query('platform not in [\"3DS\",\"PC\",\"PSV\", \"PS3\", \"X360\", \"Wii\", \"PSP\"]' )\n",
    "actual_games"
   ]
  },
  {
   "cell_type": "code",
   "execution_count": 37,
   "metadata": {},
   "outputs": [
    {
     "data": {
      "text/html": [
       "<div>\n",
       "<style scoped>\n",
       "    .dataframe tbody tr th:only-of-type {\n",
       "        vertical-align: middle;\n",
       "    }\n",
       "\n",
       "    .dataframe tbody tr th {\n",
       "        vertical-align: top;\n",
       "    }\n",
       "\n",
       "    .dataframe thead th {\n",
       "        text-align: right;\n",
       "    }\n",
       "</style>\n",
       "<table border=\"1\" class=\"dataframe\">\n",
       "  <thead>\n",
       "    <tr style=\"text-align: right;\">\n",
       "      <th></th>\n",
       "      <th>year_of_release</th>\n",
       "      <th>na_sales</th>\n",
       "      <th>eu_sales</th>\n",
       "      <th>jp_sales</th>\n",
       "      <th>other_sales</th>\n",
       "      <th>critic_score</th>\n",
       "      <th>user_score</th>\n",
       "      <th>total_sales</th>\n",
       "    </tr>\n",
       "  </thead>\n",
       "  <tbody>\n",
       "    <tr>\n",
       "      <th>count</th>\n",
       "      <td>510.000000</td>\n",
       "      <td>510.000000</td>\n",
       "      <td>510.000000</td>\n",
       "      <td>510.000000</td>\n",
       "      <td>510.000000</td>\n",
       "      <td>510.000000</td>\n",
       "      <td>510.000000</td>\n",
       "      <td>510.000000</td>\n",
       "    </tr>\n",
       "    <tr>\n",
       "      <th>mean</th>\n",
       "      <td>2015.519608</td>\n",
       "      <td>0.241216</td>\n",
       "      <td>0.231627</td>\n",
       "      <td>0.032059</td>\n",
       "      <td>0.074294</td>\n",
       "      <td>42.537255</td>\n",
       "      <td>1.172157</td>\n",
       "      <td>0.579196</td>\n",
       "    </tr>\n",
       "    <tr>\n",
       "      <th>std</th>\n",
       "      <td>0.500106</td>\n",
       "      <td>0.545178</td>\n",
       "      <td>0.603414</td>\n",
       "      <td>0.095390</td>\n",
       "      <td>0.187350</td>\n",
       "      <td>40.957182</td>\n",
       "      <td>7.998043</td>\n",
       "      <td>1.271565</td>\n",
       "    </tr>\n",
       "    <tr>\n",
       "      <th>min</th>\n",
       "      <td>2015.000000</td>\n",
       "      <td>0.000000</td>\n",
       "      <td>0.000000</td>\n",
       "      <td>0.000000</td>\n",
       "      <td>0.000000</td>\n",
       "      <td>-10.000000</td>\n",
       "      <td>-10.000000</td>\n",
       "      <td>0.010000</td>\n",
       "    </tr>\n",
       "    <tr>\n",
       "      <th>25%</th>\n",
       "      <td>2015.000000</td>\n",
       "      <td>0.010000</td>\n",
       "      <td>0.010000</td>\n",
       "      <td>0.000000</td>\n",
       "      <td>0.000000</td>\n",
       "      <td>-10.000000</td>\n",
       "      <td>-10.000000</td>\n",
       "      <td>0.042500</td>\n",
       "    </tr>\n",
       "    <tr>\n",
       "      <th>50%</th>\n",
       "      <td>2016.000000</td>\n",
       "      <td>0.050000</td>\n",
       "      <td>0.050000</td>\n",
       "      <td>0.000000</td>\n",
       "      <td>0.010000</td>\n",
       "      <td>65.000000</td>\n",
       "      <td>6.100000</td>\n",
       "      <td>0.130000</td>\n",
       "    </tr>\n",
       "    <tr>\n",
       "      <th>75%</th>\n",
       "      <td>2016.000000</td>\n",
       "      <td>0.220000</td>\n",
       "      <td>0.190000</td>\n",
       "      <td>0.030000</td>\n",
       "      <td>0.060000</td>\n",
       "      <td>77.000000</td>\n",
       "      <td>7.500000</td>\n",
       "      <td>0.480000</td>\n",
       "    </tr>\n",
       "    <tr>\n",
       "      <th>max</th>\n",
       "      <td>2016.000000</td>\n",
       "      <td>6.030000</td>\n",
       "      <td>6.120000</td>\n",
       "      <td>1.460000</td>\n",
       "      <td>2.380000</td>\n",
       "      <td>95.000000</td>\n",
       "      <td>9.200000</td>\n",
       "      <td>14.630000</td>\n",
       "    </tr>\n",
       "  </tbody>\n",
       "</table>\n",
       "</div>"
      ],
      "text/plain": [
       "       year_of_release    na_sales    eu_sales    jp_sales  other_sales  \\\n",
       "count       510.000000  510.000000  510.000000  510.000000   510.000000   \n",
       "mean       2015.519608    0.241216    0.231627    0.032059     0.074294   \n",
       "std           0.500106    0.545178    0.603414    0.095390     0.187350   \n",
       "min        2015.000000    0.000000    0.000000    0.000000     0.000000   \n",
       "25%        2015.000000    0.010000    0.010000    0.000000     0.000000   \n",
       "50%        2016.000000    0.050000    0.050000    0.000000     0.010000   \n",
       "75%        2016.000000    0.220000    0.190000    0.030000     0.060000   \n",
       "max        2016.000000    6.030000    6.120000    1.460000     2.380000   \n",
       "\n",
       "       critic_score  user_score  total_sales  \n",
       "count    510.000000  510.000000   510.000000  \n",
       "mean      42.537255    1.172157     0.579196  \n",
       "std       40.957182    7.998043     1.271565  \n",
       "min      -10.000000  -10.000000     0.010000  \n",
       "25%      -10.000000  -10.000000     0.042500  \n",
       "50%       65.000000    6.100000     0.130000  \n",
       "75%       77.000000    7.500000     0.480000  \n",
       "max       95.000000    9.200000    14.630000  "
      ]
     },
     "execution_count": 37,
     "metadata": {},
     "output_type": "execute_result"
    }
   ],
   "source": [
    "actual_games.describe()"
   ]
  },
  {
   "cell_type": "markdown",
   "metadata": {},
   "source": [
    "Посмотрим, как влияют на подажи внутри одной популярной платформы отзывы читателей и критиков. построим диаграмму рассеяния и посчитаем корреляцию между отзывами и продажами. Начнем с PS4."
   ]
  },
  {
   "cell_type": "code",
   "execution_count": 38,
   "metadata": {},
   "outputs": [
    {
     "data": {
      "image/png": "[encoded data removed]",
      "text/plain": [
       "<Figure size 432x288 with 1 Axes>"
      ]
     },
     "metadata": {
      "needs_background": "light"
     },
     "output_type": "display_data"
    },
    {
     "data": {
      "image/png": "[encoded data removed]",
      "text/plain": [
       "<Figure size 432x288 with 1 Axes>"
      ]
     },
     "metadata": {
      "needs_background": "light"
     },
     "output_type": "display_data"
    }
   ],
   "source": [
    "actual_games_PS4 = actual_games.query('platform == \"PS4\" & critic_score != -10 & user_score != -10')\n",
    "actual_games_PS4[actual_games_PS4['user_score'] !='-10'].plot( kind= 'scatter', x='user_score', y='total_sales')\n",
    "actual_games_PS4[actual_games_PS4['critic_score'] != '-10'].plot(kind='scatter', x='critic_score', y='total_sales')\n",
    "plt.show()"
   ]
  },
  {
   "cell_type": "code",
   "execution_count": 39,
   "metadata": {},
   "outputs": [
    {
     "data": {
      "text/html": [
       "<div>\n",
       "<style scoped>\n",
       "    .dataframe tbody tr th:only-of-type {\n",
       "        vertical-align: middle;\n",
       "    }\n",
       "\n",
       "    .dataframe tbody tr th {\n",
       "        vertical-align: top;\n",
       "    }\n",
       "\n",
       "    .dataframe thead th {\n",
       "        text-align: right;\n",
       "    }\n",
       "</style>\n",
       "<table border=\"1\" class=\"dataframe\">\n",
       "  <thead>\n",
       "    <tr style=\"text-align: right;\">\n",
       "      <th></th>\n",
       "      <th>year_of_release</th>\n",
       "      <th>na_sales</th>\n",
       "      <th>eu_sales</th>\n",
       "      <th>jp_sales</th>\n",
       "      <th>other_sales</th>\n",
       "      <th>critic_score</th>\n",
       "      <th>user_score</th>\n",
       "      <th>total_sales</th>\n",
       "    </tr>\n",
       "  </thead>\n",
       "  <tbody>\n",
       "    <tr>\n",
       "      <th>year_of_release</th>\n",
       "      <td>1.000000</td>\n",
       "      <td>-0.151687</td>\n",
       "      <td>-0.081229</td>\n",
       "      <td>-0.143301</td>\n",
       "      <td>-0.125987</td>\n",
       "      <td>-0.019769</td>\n",
       "      <td>-0.000332</td>\n",
       "      <td>-0.124073</td>\n",
       "    </tr>\n",
       "    <tr>\n",
       "      <th>na_sales</th>\n",
       "      <td>-0.151687</td>\n",
       "      <td>1.000000</td>\n",
       "      <td>0.612675</td>\n",
       "      <td>0.495716</td>\n",
       "      <td>0.880278</td>\n",
       "      <td>0.405491</td>\n",
       "      <td>-0.030915</td>\n",
       "      <td>0.848279</td>\n",
       "    </tr>\n",
       "    <tr>\n",
       "      <th>eu_sales</th>\n",
       "      <td>-0.081229</td>\n",
       "      <td>0.612675</td>\n",
       "      <td>1.000000</td>\n",
       "      <td>0.455742</td>\n",
       "      <td>0.914159</td>\n",
       "      <td>0.309869</td>\n",
       "      <td>-0.091554</td>\n",
       "      <td>0.937074</td>\n",
       "    </tr>\n",
       "    <tr>\n",
       "      <th>jp_sales</th>\n",
       "      <td>-0.143301</td>\n",
       "      <td>0.495716</td>\n",
       "      <td>0.455742</td>\n",
       "      <td>1.000000</td>\n",
       "      <td>0.527864</td>\n",
       "      <td>0.366655</td>\n",
       "      <td>0.188618</td>\n",
       "      <td>0.555502</td>\n",
       "    </tr>\n",
       "    <tr>\n",
       "      <th>other_sales</th>\n",
       "      <td>-0.125987</td>\n",
       "      <td>0.880278</td>\n",
       "      <td>0.914159</td>\n",
       "      <td>0.527864</td>\n",
       "      <td>1.000000</td>\n",
       "      <td>0.394093</td>\n",
       "      <td>-0.070394</td>\n",
       "      <td>0.997212</td>\n",
       "    </tr>\n",
       "    <tr>\n",
       "      <th>critic_score</th>\n",
       "      <td>-0.019769</td>\n",
       "      <td>0.405491</td>\n",
       "      <td>0.309869</td>\n",
       "      <td>0.366655</td>\n",
       "      <td>0.394093</td>\n",
       "      <td>1.000000</td>\n",
       "      <td>0.533330</td>\n",
       "      <td>0.392074</td>\n",
       "    </tr>\n",
       "    <tr>\n",
       "      <th>user_score</th>\n",
       "      <td>-0.000332</td>\n",
       "      <td>-0.030915</td>\n",
       "      <td>-0.091554</td>\n",
       "      <td>0.188618</td>\n",
       "      <td>-0.070394</td>\n",
       "      <td>0.533330</td>\n",
       "      <td>1.000000</td>\n",
       "      <td>-0.064368</td>\n",
       "    </tr>\n",
       "    <tr>\n",
       "      <th>total_sales</th>\n",
       "      <td>-0.124073</td>\n",
       "      <td>0.848279</td>\n",
       "      <td>0.937074</td>\n",
       "      <td>0.555502</td>\n",
       "      <td>0.997212</td>\n",
       "      <td>0.392074</td>\n",
       "      <td>-0.064368</td>\n",
       "      <td>1.000000</td>\n",
       "    </tr>\n",
       "  </tbody>\n",
       "</table>\n",
       "</div>"
      ],
      "text/plain": [
       "                 year_of_release  na_sales  eu_sales  jp_sales  other_sales  \\\n",
       "year_of_release         1.000000 -0.151687 -0.081229 -0.143301    -0.125987   \n",
       "na_sales               -0.151687  1.000000  0.612675  0.495716     0.880278   \n",
       "eu_sales               -0.081229  0.612675  1.000000  0.455742     0.914159   \n",
       "jp_sales               -0.143301  0.495716  0.455742  1.000000     0.527864   \n",
       "other_sales            -0.125987  0.880278  0.914159  0.527864     1.000000   \n",
       "critic_score           -0.019769  0.405491  0.309869  0.366655     0.394093   \n",
       "user_score             -0.000332 -0.030915 -0.091554  0.188618    -0.070394   \n",
       "total_sales            -0.124073  0.848279  0.937074  0.555502     0.997212   \n",
       "\n",
       "                 critic_score  user_score  total_sales  \n",
       "year_of_release     -0.019769   -0.000332    -0.124073  \n",
       "na_sales             0.405491   -0.030915     0.848279  \n",
       "eu_sales             0.309869   -0.091554     0.937074  \n",
       "jp_sales             0.366655    0.188618     0.555502  \n",
       "other_sales          0.394093   -0.070394     0.997212  \n",
       "critic_score         1.000000    0.533330     0.392074  \n",
       "user_score           0.533330    1.000000    -0.064368  \n",
       "total_sales          0.392074   -0.064368     1.000000  "
      ]
     },
     "execution_count": 39,
     "metadata": {},
     "output_type": "execute_result"
    }
   ],
   "source": [
    "actual_games_PS4[(actual_games_PS4['critic_score'] !='-10') & (actual_games_PS4['user_score']!='-10')] .corr()"
   ]
  },
  {
   "cell_type": "markdown",
   "metadata": {},
   "source": [
    "Корреляция  продаж с оценкой критиков 0.392074 , корреляция продаж с оценкой пользователей  -0.064368. Сделаем вывод, что чем выше оценка критиков, тем выше продажи. А вот оценка пользователей на продажи не влияет."
   ]
  },
  {
   "cell_type": "markdown",
   "metadata": {},
   "source": [
    "Теперь посмотрим, как обстоят дела с XOne"
   ]
  },
  {
   "cell_type": "code",
   "execution_count": 40,
   "metadata": {},
   "outputs": [
    {
     "data": {
      "image/png": "[encoded data removed]",
      "text/plain": [
       "<Figure size 432x288 with 1 Axes>"
      ]
     },
     "metadata": {
      "needs_background": "light"
     },
     "output_type": "display_data"
    },
    {
     "data": {
      "image/png": "[encoded data removed]",
      "text/plain": [
       "<Figure size 432x288 with 1 Axes>"
      ]
     },
     "metadata": {
      "needs_background": "light"
     },
     "output_type": "display_data"
    }
   ],
   "source": [
    "actual_games_XOne = actual_games.query('platform == \"XOne\" & critic_score != -10 & user_score != -10')\n",
    "actual_games_XOne[actual_games_XOne['user_score'] !='-10'].plot( kind= 'scatter', x='user_score', y='total_sales')\n",
    "actual_games_XOne[actual_games_XOne['critic_score'] != '-10'].plot(kind='scatter', x='critic_score', y='total_sales')\n",
    "plt.show()"
   ]
  },
  {
   "cell_type": "code",
   "execution_count": 41,
   "metadata": {},
   "outputs": [
    {
     "data": {
      "text/html": [
       "<div>\n",
       "<style scoped>\n",
       "    .dataframe tbody tr th:only-of-type {\n",
       "        vertical-align: middle;\n",
       "    }\n",
       "\n",
       "    .dataframe tbody tr th {\n",
       "        vertical-align: top;\n",
       "    }\n",
       "\n",
       "    .dataframe thead th {\n",
       "        text-align: right;\n",
       "    }\n",
       "</style>\n",
       "<table border=\"1\" class=\"dataframe\">\n",
       "  <thead>\n",
       "    <tr style=\"text-align: right;\">\n",
       "      <th></th>\n",
       "      <th>year_of_release</th>\n",
       "      <th>na_sales</th>\n",
       "      <th>eu_sales</th>\n",
       "      <th>jp_sales</th>\n",
       "      <th>other_sales</th>\n",
       "      <th>critic_score</th>\n",
       "      <th>user_score</th>\n",
       "      <th>total_sales</th>\n",
       "    </tr>\n",
       "  </thead>\n",
       "  <tbody>\n",
       "    <tr>\n",
       "      <th>year_of_release</th>\n",
       "      <td>1.000000</td>\n",
       "      <td>-0.284255</td>\n",
       "      <td>-0.165198</td>\n",
       "      <td>-0.245829</td>\n",
       "      <td>-0.285808</td>\n",
       "      <td>-0.001112</td>\n",
       "      <td>0.054484</td>\n",
       "      <td>-0.270562</td>\n",
       "    </tr>\n",
       "    <tr>\n",
       "      <th>na_sales</th>\n",
       "      <td>-0.284255</td>\n",
       "      <td>1.000000</td>\n",
       "      <td>0.553023</td>\n",
       "      <td>0.398726</td>\n",
       "      <td>0.975378</td>\n",
       "      <td>0.397656</td>\n",
       "      <td>-0.040900</td>\n",
       "      <td>0.935263</td>\n",
       "    </tr>\n",
       "    <tr>\n",
       "      <th>eu_sales</th>\n",
       "      <td>-0.165198</td>\n",
       "      <td>0.553023</td>\n",
       "      <td>1.000000</td>\n",
       "      <td>0.407230</td>\n",
       "      <td>0.720626</td>\n",
       "      <td>0.338325</td>\n",
       "      <td>-0.095630</td>\n",
       "      <td>0.812086</td>\n",
       "    </tr>\n",
       "    <tr>\n",
       "      <th>jp_sales</th>\n",
       "      <td>-0.245829</td>\n",
       "      <td>0.398726</td>\n",
       "      <td>0.407230</td>\n",
       "      <td>1.000000</td>\n",
       "      <td>0.434371</td>\n",
       "      <td>0.203343</td>\n",
       "      <td>0.101729</td>\n",
       "      <td>0.456305</td>\n",
       "    </tr>\n",
       "    <tr>\n",
       "      <th>other_sales</th>\n",
       "      <td>-0.285808</td>\n",
       "      <td>0.975378</td>\n",
       "      <td>0.720626</td>\n",
       "      <td>0.434371</td>\n",
       "      <td>1.000000</td>\n",
       "      <td>0.421362</td>\n",
       "      <td>-0.060920</td>\n",
       "      <td>0.989316</td>\n",
       "    </tr>\n",
       "    <tr>\n",
       "      <th>critic_score</th>\n",
       "      <td>-0.001112</td>\n",
       "      <td>0.397656</td>\n",
       "      <td>0.338325</td>\n",
       "      <td>0.203343</td>\n",
       "      <td>0.421362</td>\n",
       "      <td>1.000000</td>\n",
       "      <td>0.459443</td>\n",
       "      <td>0.422519</td>\n",
       "    </tr>\n",
       "    <tr>\n",
       "      <th>user_score</th>\n",
       "      <td>0.054484</td>\n",
       "      <td>-0.040900</td>\n",
       "      <td>-0.095630</td>\n",
       "      <td>0.101729</td>\n",
       "      <td>-0.060920</td>\n",
       "      <td>0.459443</td>\n",
       "      <td>1.000000</td>\n",
       "      <td>-0.068684</td>\n",
       "    </tr>\n",
       "    <tr>\n",
       "      <th>total_sales</th>\n",
       "      <td>-0.270562</td>\n",
       "      <td>0.935263</td>\n",
       "      <td>0.812086</td>\n",
       "      <td>0.456305</td>\n",
       "      <td>0.989316</td>\n",
       "      <td>0.422519</td>\n",
       "      <td>-0.068684</td>\n",
       "      <td>1.000000</td>\n",
       "    </tr>\n",
       "  </tbody>\n",
       "</table>\n",
       "</div>"
      ],
      "text/plain": [
       "                 year_of_release  na_sales  eu_sales  jp_sales  other_sales  \\\n",
       "year_of_release         1.000000 -0.284255 -0.165198 -0.245829    -0.285808   \n",
       "na_sales               -0.284255  1.000000  0.553023  0.398726     0.975378   \n",
       "eu_sales               -0.165198  0.553023  1.000000  0.407230     0.720626   \n",
       "jp_sales               -0.245829  0.398726  0.407230  1.000000     0.434371   \n",
       "other_sales            -0.285808  0.975378  0.720626  0.434371     1.000000   \n",
       "critic_score           -0.001112  0.397656  0.338325  0.203343     0.421362   \n",
       "user_score              0.054484 -0.040900 -0.095630  0.101729    -0.060920   \n",
       "total_sales            -0.270562  0.935263  0.812086  0.456305     0.989316   \n",
       "\n",
       "                 critic_score  user_score  total_sales  \n",
       "year_of_release     -0.001112    0.054484    -0.270562  \n",
       "na_sales             0.397656   -0.040900     0.935263  \n",
       "eu_sales             0.338325   -0.095630     0.812086  \n",
       "jp_sales             0.203343    0.101729     0.456305  \n",
       "other_sales          0.421362   -0.060920     0.989316  \n",
       "critic_score         1.000000    0.459443     0.422519  \n",
       "user_score           0.459443    1.000000    -0.068684  \n",
       "total_sales          0.422519   -0.068684     1.000000  "
      ]
     },
     "execution_count": 41,
     "metadata": {},
     "output_type": "execute_result"
    }
   ],
   "source": [
    "actual_games_XOne[(actual_games_XOne['critic_score'] !='-10') & (actual_games_XOne['user_score']!='-10')] .corr()"
   ]
  },
  {
   "cell_type": "markdown",
   "metadata": {},
   "source": [
    "Наблюдаем ту же самую картину, как и в случае с PS4"
   ]
  },
  {
   "cell_type": "markdown",
   "metadata": {},
   "source": [
    "И у нас осталась платформа WiiU"
   ]
  },
  {
   "cell_type": "code",
   "execution_count": 42,
   "metadata": {},
   "outputs": [
    {
     "data": {
      "image/png": "[encoded data removed]",
      "text/plain": [
       "<Figure size 432x288 with 1 Axes>"
      ]
     },
     "metadata": {
      "needs_background": "light"
     },
     "output_type": "display_data"
    },
    {
     "data": {
      "image/png": "[encoded data removed]",
      "text/plain": [
       "<Figure size 432x288 with 1 Axes>"
      ]
     },
     "metadata": {
      "needs_background": "light"
     },
     "output_type": "display_data"
    }
   ],
   "source": [
    "actual_games_WiiU = actual_games.query('platform == \"WiiU\" & critic_score != -10 & user_score != -10')\n",
    "actual_games_WiiU[actual_games_WiiU['user_score'] !='-10'].plot( kind= 'scatter', x='user_score', y='total_sales')\n",
    "actual_games_WiiU[actual_games_WiiU['critic_score'] != '-10'].plot(kind='scatter', x='critic_score', y='total_sales')\n",
    "plt.show()"
   ]
  },
  {
   "cell_type": "code",
   "execution_count": 43,
   "metadata": {},
   "outputs": [
    {
     "data": {
      "text/html": [
       "<div>\n",
       "<style scoped>\n",
       "    .dataframe tbody tr th:only-of-type {\n",
       "        vertical-align: middle;\n",
       "    }\n",
       "\n",
       "    .dataframe tbody tr th {\n",
       "        vertical-align: top;\n",
       "    }\n",
       "\n",
       "    .dataframe thead th {\n",
       "        text-align: right;\n",
       "    }\n",
       "</style>\n",
       "<table border=\"1\" class=\"dataframe\">\n",
       "  <thead>\n",
       "    <tr style=\"text-align: right;\">\n",
       "      <th></th>\n",
       "      <th>year_of_release</th>\n",
       "      <th>na_sales</th>\n",
       "      <th>eu_sales</th>\n",
       "      <th>jp_sales</th>\n",
       "      <th>other_sales</th>\n",
       "      <th>critic_score</th>\n",
       "      <th>user_score</th>\n",
       "      <th>total_sales</th>\n",
       "    </tr>\n",
       "  </thead>\n",
       "  <tbody>\n",
       "    <tr>\n",
       "      <th>year_of_release</th>\n",
       "      <td>1.000000</td>\n",
       "      <td>-0.162911</td>\n",
       "      <td>-0.206739</td>\n",
       "      <td>-0.181741</td>\n",
       "      <td>-0.175035</td>\n",
       "      <td>0.048534</td>\n",
       "      <td>0.055179</td>\n",
       "      <td>-0.185034</td>\n",
       "    </tr>\n",
       "    <tr>\n",
       "      <th>na_sales</th>\n",
       "      <td>-0.162911</td>\n",
       "      <td>1.000000</td>\n",
       "      <td>0.989843</td>\n",
       "      <td>0.907392</td>\n",
       "      <td>0.999072</td>\n",
       "      <td>0.348668</td>\n",
       "      <td>0.367370</td>\n",
       "      <td>0.987825</td>\n",
       "    </tr>\n",
       "    <tr>\n",
       "      <th>eu_sales</th>\n",
       "      <td>-0.206739</td>\n",
       "      <td>0.989843</td>\n",
       "      <td>1.000000</td>\n",
       "      <td>0.922899</td>\n",
       "      <td>0.991534</td>\n",
       "      <td>0.344203</td>\n",
       "      <td>0.354382</td>\n",
       "      <td>0.991413</td>\n",
       "    </tr>\n",
       "    <tr>\n",
       "      <th>jp_sales</th>\n",
       "      <td>-0.181741</td>\n",
       "      <td>0.907392</td>\n",
       "      <td>0.922899</td>\n",
       "      <td>1.000000</td>\n",
       "      <td>0.911510</td>\n",
       "      <td>0.258331</td>\n",
       "      <td>0.316076</td>\n",
       "      <td>0.959893</td>\n",
       "    </tr>\n",
       "    <tr>\n",
       "      <th>other_sales</th>\n",
       "      <td>-0.175035</td>\n",
       "      <td>0.999072</td>\n",
       "      <td>0.991534</td>\n",
       "      <td>0.911510</td>\n",
       "      <td>1.000000</td>\n",
       "      <td>0.349204</td>\n",
       "      <td>0.369559</td>\n",
       "      <td>0.989325</td>\n",
       "    </tr>\n",
       "    <tr>\n",
       "      <th>critic_score</th>\n",
       "      <td>0.048534</td>\n",
       "      <td>0.348668</td>\n",
       "      <td>0.344203</td>\n",
       "      <td>0.258331</td>\n",
       "      <td>0.349204</td>\n",
       "      <td>1.000000</td>\n",
       "      <td>0.678858</td>\n",
       "      <td>0.325674</td>\n",
       "    </tr>\n",
       "    <tr>\n",
       "      <th>user_score</th>\n",
       "      <td>0.055179</td>\n",
       "      <td>0.367370</td>\n",
       "      <td>0.354382</td>\n",
       "      <td>0.316076</td>\n",
       "      <td>0.369559</td>\n",
       "      <td>0.678858</td>\n",
       "      <td>1.000000</td>\n",
       "      <td>0.354987</td>\n",
       "    </tr>\n",
       "    <tr>\n",
       "      <th>total_sales</th>\n",
       "      <td>-0.185034</td>\n",
       "      <td>0.987825</td>\n",
       "      <td>0.991413</td>\n",
       "      <td>0.959893</td>\n",
       "      <td>0.989325</td>\n",
       "      <td>0.325674</td>\n",
       "      <td>0.354987</td>\n",
       "      <td>1.000000</td>\n",
       "    </tr>\n",
       "  </tbody>\n",
       "</table>\n",
       "</div>"
      ],
      "text/plain": [
       "                 year_of_release  na_sales  eu_sales  jp_sales  other_sales  \\\n",
       "year_of_release         1.000000 -0.162911 -0.206739 -0.181741    -0.175035   \n",
       "na_sales               -0.162911  1.000000  0.989843  0.907392     0.999072   \n",
       "eu_sales               -0.206739  0.989843  1.000000  0.922899     0.991534   \n",
       "jp_sales               -0.181741  0.907392  0.922899  1.000000     0.911510   \n",
       "other_sales            -0.175035  0.999072  0.991534  0.911510     1.000000   \n",
       "critic_score            0.048534  0.348668  0.344203  0.258331     0.349204   \n",
       "user_score              0.055179  0.367370  0.354382  0.316076     0.369559   \n",
       "total_sales            -0.185034  0.987825  0.991413  0.959893     0.989325   \n",
       "\n",
       "                 critic_score  user_score  total_sales  \n",
       "year_of_release      0.048534    0.055179    -0.185034  \n",
       "na_sales             0.348668    0.367370     0.987825  \n",
       "eu_sales             0.344203    0.354382     0.991413  \n",
       "jp_sales             0.258331    0.316076     0.959893  \n",
       "other_sales          0.349204    0.369559     0.989325  \n",
       "critic_score         1.000000    0.678858     0.325674  \n",
       "user_score           0.678858    1.000000     0.354987  \n",
       "total_sales          0.325674    0.354987     1.000000  "
      ]
     },
     "execution_count": 43,
     "metadata": {},
     "output_type": "execute_result"
    }
   ],
   "source": [
    "actual_games_WiiU[(actual_games_WiiU['critic_score'] !='-10') & (actual_games_WiiU['user_score']!='-10')] .corr()"
   ]
  },
  {
   "cell_type": "markdown",
   "metadata": {},
   "source": [
    "А вот тут немного другая картина. Мы видим прямую корреляцию и в случае с критиками и спользователями. Получается, на этой платформе чем выше отзывы критиков и пользователей, тем продажи выше."
   ]
  },
  {
   "cell_type": "markdown",
   "metadata": {},
   "source": [
    "Посмотрим на общее распределние игр по жанрам, какие жанры саме прибыльные."
   ]
  },
  {
   "cell_type": "code",
   "execution_count": 44,
   "metadata": {},
   "outputs": [
    {
     "data": {
      "text/html": [
       "<div>\n",
       "<style scoped>\n",
       "    .dataframe tbody tr th:only-of-type {\n",
       "        vertical-align: middle;\n",
       "    }\n",
       "\n",
       "    .dataframe tbody tr th {\n",
       "        vertical-align: top;\n",
       "    }\n",
       "\n",
       "    .dataframe thead th {\n",
       "        text-align: right;\n",
       "    }\n",
       "</style>\n",
       "<table border=\"1\" class=\"dataframe\">\n",
       "  <thead>\n",
       "    <tr style=\"text-align: right;\">\n",
       "      <th></th>\n",
       "      <th>sum</th>\n",
       "    </tr>\n",
       "    <tr>\n",
       "      <th>genre</th>\n",
       "      <th></th>\n",
       "    </tr>\n",
       "  </thead>\n",
       "  <tbody>\n",
       "    <tr>\n",
       "      <th>Shooter</th>\n",
       "      <td>105.73</td>\n",
       "    </tr>\n",
       "    <tr>\n",
       "      <th>Action</th>\n",
       "      <td>102.13</td>\n",
       "    </tr>\n",
       "    <tr>\n",
       "      <th>Sports</th>\n",
       "      <td>64.33</td>\n",
       "    </tr>\n",
       "    <tr>\n",
       "      <th>Role-Playing</th>\n",
       "      <td>55.82</td>\n",
       "    </tr>\n",
       "    <tr>\n",
       "      <th>Misc</th>\n",
       "      <td>14.17</td>\n",
       "    </tr>\n",
       "    <tr>\n",
       "      <th>Fighting</th>\n",
       "      <td>12.37</td>\n",
       "    </tr>\n",
       "    <tr>\n",
       "      <th>Adventure</th>\n",
       "      <td>11.98</td>\n",
       "    </tr>\n",
       "    <tr>\n",
       "      <th>Racing</th>\n",
       "      <td>10.86</td>\n",
       "    </tr>\n",
       "    <tr>\n",
       "      <th>Platform</th>\n",
       "      <td>9.28</td>\n",
       "    </tr>\n",
       "    <tr>\n",
       "      <th>Simulation</th>\n",
       "      <td>7.55</td>\n",
       "    </tr>\n",
       "    <tr>\n",
       "      <th>Strategy</th>\n",
       "      <td>2.98</td>\n",
       "    </tr>\n",
       "    <tr>\n",
       "      <th>Puzzle</th>\n",
       "      <td>0.72</td>\n",
       "    </tr>\n",
       "  </tbody>\n",
       "</table>\n",
       "</div>"
      ],
      "text/plain": [
       "                 sum\n",
       "genre               \n",
       "Shooter       105.73\n",
       "Action        102.13\n",
       "Sports         64.33\n",
       "Role-Playing   55.82\n",
       "Misc           14.17\n",
       "Fighting       12.37\n",
       "Adventure      11.98\n",
       "Racing         10.86\n",
       "Platform        9.28\n",
       "Simulation      7.55\n",
       "Strategy        2.98\n",
       "Puzzle          0.72"
      ]
     },
     "execution_count": 44,
     "metadata": {},
     "output_type": "execute_result"
    }
   ],
   "source": [
    "actual_data_genre=actual_data.pivot_table(index='genre', values='total_sales', aggfunc={'sum'}).sort_values(by='sum', ascending = False)\n",
    "actual_data_genre"
   ]
  },
  {
   "cell_type": "markdown",
   "metadata": {},
   "source": [
    "Возьмем для изучения 4 самых прибыльных"
   ]
  },
  {
   "cell_type": "code",
   "execution_count": 45,
   "metadata": {},
   "outputs": [
    {
     "data": {
      "text/html": [
       "<div>\n",
       "<style scoped>\n",
       "    .dataframe tbody tr th:only-of-type {\n",
       "        vertical-align: middle;\n",
       "    }\n",
       "\n",
       "    .dataframe tbody tr th {\n",
       "        vertical-align: top;\n",
       "    }\n",
       "\n",
       "    .dataframe thead th {\n",
       "        text-align: right;\n",
       "    }\n",
       "</style>\n",
       "<table border=\"1\" class=\"dataframe\">\n",
       "  <thead>\n",
       "    <tr style=\"text-align: right;\">\n",
       "      <th></th>\n",
       "      <th>name</th>\n",
       "      <th>platform</th>\n",
       "      <th>year_of_release</th>\n",
       "      <th>genre</th>\n",
       "      <th>na_sales</th>\n",
       "      <th>eu_sales</th>\n",
       "      <th>jp_sales</th>\n",
       "      <th>other_sales</th>\n",
       "      <th>critic_score</th>\n",
       "      <th>user_score</th>\n",
       "      <th>rating</th>\n",
       "      <th>total_sales</th>\n",
       "    </tr>\n",
       "  </thead>\n",
       "  <tbody>\n",
       "    <tr>\n",
       "      <th>31</th>\n",
       "      <td>Call of Duty: Black Ops 3</td>\n",
       "      <td>PS4</td>\n",
       "      <td>2015</td>\n",
       "      <td>Shooter</td>\n",
       "      <td>6.03</td>\n",
       "      <td>5.86</td>\n",
       "      <td>0.36</td>\n",
       "      <td>2.38</td>\n",
       "      <td>-10.0</td>\n",
       "      <td>-10.0</td>\n",
       "      <td>Unknown</td>\n",
       "      <td>14.63</td>\n",
       "    </tr>\n",
       "    <tr>\n",
       "      <th>77</th>\n",
       "      <td>FIFA 16</td>\n",
       "      <td>PS4</td>\n",
       "      <td>2015</td>\n",
       "      <td>Sports</td>\n",
       "      <td>1.12</td>\n",
       "      <td>6.12</td>\n",
       "      <td>0.06</td>\n",
       "      <td>1.28</td>\n",
       "      <td>82.0</td>\n",
       "      <td>4.3</td>\n",
       "      <td>E</td>\n",
       "      <td>8.58</td>\n",
       "    </tr>\n",
       "    <tr>\n",
       "      <th>87</th>\n",
       "      <td>Star Wars Battlefront (2015)</td>\n",
       "      <td>PS4</td>\n",
       "      <td>2015</td>\n",
       "      <td>Shooter</td>\n",
       "      <td>2.99</td>\n",
       "      <td>3.49</td>\n",
       "      <td>0.22</td>\n",
       "      <td>1.28</td>\n",
       "      <td>-10.0</td>\n",
       "      <td>-10.0</td>\n",
       "      <td>Unknown</td>\n",
       "      <td>7.98</td>\n",
       "    </tr>\n",
       "    <tr>\n",
       "      <th>94</th>\n",
       "      <td>FIFA 17</td>\n",
       "      <td>PS4</td>\n",
       "      <td>2016</td>\n",
       "      <td>Sports</td>\n",
       "      <td>0.66</td>\n",
       "      <td>5.75</td>\n",
       "      <td>0.08</td>\n",
       "      <td>1.11</td>\n",
       "      <td>85.0</td>\n",
       "      <td>5.0</td>\n",
       "      <td>E</td>\n",
       "      <td>7.60</td>\n",
       "    </tr>\n",
       "    <tr>\n",
       "      <th>99</th>\n",
       "      <td>Call of Duty: Black Ops 3</td>\n",
       "      <td>XOne</td>\n",
       "      <td>2015</td>\n",
       "      <td>Shooter</td>\n",
       "      <td>4.59</td>\n",
       "      <td>2.11</td>\n",
       "      <td>0.01</td>\n",
       "      <td>0.68</td>\n",
       "      <td>-10.0</td>\n",
       "      <td>-10.0</td>\n",
       "      <td>Unknown</td>\n",
       "      <td>7.39</td>\n",
       "    </tr>\n",
       "    <tr>\n",
       "      <th>...</th>\n",
       "      <td>...</td>\n",
       "      <td>...</td>\n",
       "      <td>...</td>\n",
       "      <td>...</td>\n",
       "      <td>...</td>\n",
       "      <td>...</td>\n",
       "      <td>...</td>\n",
       "      <td>...</td>\n",
       "      <td>...</td>\n",
       "      <td>...</td>\n",
       "      <td>...</td>\n",
       "      <td>...</td>\n",
       "    </tr>\n",
       "    <tr>\n",
       "      <th>16677</th>\n",
       "      <td>Aikatsu Stars! My Special Appeal</td>\n",
       "      <td>3DS</td>\n",
       "      <td>2016</td>\n",
       "      <td>Action</td>\n",
       "      <td>0.00</td>\n",
       "      <td>0.00</td>\n",
       "      <td>0.01</td>\n",
       "      <td>0.00</td>\n",
       "      <td>-10.0</td>\n",
       "      <td>-10.0</td>\n",
       "      <td>Unknown</td>\n",
       "      <td>0.01</td>\n",
       "    </tr>\n",
       "    <tr>\n",
       "      <th>16680</th>\n",
       "      <td>Kyoukai no Shirayuki</td>\n",
       "      <td>PSV</td>\n",
       "      <td>2016</td>\n",
       "      <td>Action</td>\n",
       "      <td>0.00</td>\n",
       "      <td>0.00</td>\n",
       "      <td>0.01</td>\n",
       "      <td>0.00</td>\n",
       "      <td>-10.0</td>\n",
       "      <td>-10.0</td>\n",
       "      <td>Unknown</td>\n",
       "      <td>0.01</td>\n",
       "    </tr>\n",
       "    <tr>\n",
       "      <th>16691</th>\n",
       "      <td>Dynasty Warriors: Eiketsuden</td>\n",
       "      <td>PS3</td>\n",
       "      <td>2016</td>\n",
       "      <td>Action</td>\n",
       "      <td>0.00</td>\n",
       "      <td>0.00</td>\n",
       "      <td>0.01</td>\n",
       "      <td>0.00</td>\n",
       "      <td>-10.0</td>\n",
       "      <td>-10.0</td>\n",
       "      <td>Unknown</td>\n",
       "      <td>0.01</td>\n",
       "    </tr>\n",
       "    <tr>\n",
       "      <th>16699</th>\n",
       "      <td>The Longest 5 Minutes</td>\n",
       "      <td>PSV</td>\n",
       "      <td>2016</td>\n",
       "      <td>Action</td>\n",
       "      <td>0.00</td>\n",
       "      <td>0.00</td>\n",
       "      <td>0.01</td>\n",
       "      <td>0.00</td>\n",
       "      <td>-10.0</td>\n",
       "      <td>-10.0</td>\n",
       "      <td>Unknown</td>\n",
       "      <td>0.01</td>\n",
       "    </tr>\n",
       "    <tr>\n",
       "      <th>16710</th>\n",
       "      <td>Samurai Warriors: Sanada Maru</td>\n",
       "      <td>PS3</td>\n",
       "      <td>2016</td>\n",
       "      <td>Action</td>\n",
       "      <td>0.00</td>\n",
       "      <td>0.00</td>\n",
       "      <td>0.01</td>\n",
       "      <td>0.00</td>\n",
       "      <td>-10.0</td>\n",
       "      <td>-10.0</td>\n",
       "      <td>Unknown</td>\n",
       "      <td>0.01</td>\n",
       "    </tr>\n",
       "  </tbody>\n",
       "</table>\n",
       "<p>751 rows × 12 columns</p>\n",
       "</div>"
      ],
      "text/plain": [
       "                                   name platform  year_of_release    genre  \\\n",
       "31            Call of Duty: Black Ops 3      PS4             2015  Shooter   \n",
       "77                              FIFA 16      PS4             2015   Sports   \n",
       "87         Star Wars Battlefront (2015)      PS4             2015  Shooter   \n",
       "94                              FIFA 17      PS4             2016   Sports   \n",
       "99            Call of Duty: Black Ops 3     XOne             2015  Shooter   \n",
       "...                                 ...      ...              ...      ...   \n",
       "16677  Aikatsu Stars! My Special Appeal      3DS             2016   Action   \n",
       "16680              Kyoukai no Shirayuki      PSV             2016   Action   \n",
       "16691      Dynasty Warriors: Eiketsuden      PS3             2016   Action   \n",
       "16699             The Longest 5 Minutes      PSV             2016   Action   \n",
       "16710     Samurai Warriors: Sanada Maru      PS3             2016   Action   \n",
       "\n",
       "       na_sales  eu_sales  jp_sales  other_sales  critic_score  user_score  \\\n",
       "31         6.03      5.86      0.36         2.38         -10.0       -10.0   \n",
       "77         1.12      6.12      0.06         1.28          82.0         4.3   \n",
       "87         2.99      3.49      0.22         1.28         -10.0       -10.0   \n",
       "94         0.66      5.75      0.08         1.11          85.0         5.0   \n",
       "99         4.59      2.11      0.01         0.68         -10.0       -10.0   \n",
       "...         ...       ...       ...          ...           ...         ...   \n",
       "16677      0.00      0.00      0.01         0.00         -10.0       -10.0   \n",
       "16680      0.00      0.00      0.01         0.00         -10.0       -10.0   \n",
       "16691      0.00      0.00      0.01         0.00         -10.0       -10.0   \n",
       "16699      0.00      0.00      0.01         0.00         -10.0       -10.0   \n",
       "16710      0.00      0.00      0.01         0.00         -10.0       -10.0   \n",
       "\n",
       "        rating  total_sales  \n",
       "31     Unknown        14.63  \n",
       "77           E         8.58  \n",
       "87     Unknown         7.98  \n",
       "94           E         7.60  \n",
       "99     Unknown         7.39  \n",
       "...        ...          ...  \n",
       "16677  Unknown         0.01  \n",
       "16680  Unknown         0.01  \n",
       "16691  Unknown         0.01  \n",
       "16699  Unknown         0.01  \n",
       "16710  Unknown         0.01  \n",
       "\n",
       "[751 rows x 12 columns]"
      ]
     },
     "execution_count": 45,
     "metadata": {},
     "output_type": "execute_result"
    }
   ],
   "source": [
    "actual_genre = actual_data.query('genre not in [\"Misc\",\"Fighting\", \"Adventure\", \"Racing\", \"Platform\", \"Simulation\",\"Strategy\",\"Puzzle\"]')\n",
    "actual_genre"
   ]
  },
  {
   "cell_type": "code",
   "execution_count": 46,
   "metadata": {},
   "outputs": [
    {
     "data": {
      "image/png": "[encoded data removed]",
      "text/plain": [
       "<Figure size 1080x648 with 1 Axes>"
      ]
     },
     "metadata": {
      "needs_background": "light"
     },
     "output_type": "display_data"
    }
   ],
   "source": [
    " plt.figure (figsize=(15, 9))\n",
    "(sns.boxplot(data = actual_genre, y = 'total_sales', x='genre').set(title = 'Продажи по жанрам', \n",
    " xlabel = 'Жанры', \n",
    " ylabel = 'Общие продажи', ylim=(0, 6)))\n",
    "plt.show()\n",
    "    \n"
   ]
  },
  {
   "cell_type": "markdown",
   "metadata": {},
   "source": [
    "Видим, что самый популярный жанр это Шутеры, хорошо продаются иакже спортивные и ролевые игры."
   ]
  },
  {
   "cell_type": "markdown",
   "metadata": {},
   "source": [
    "# 3. Составим портрет пользователя каждого региона"
   ]
  },
  {
   "cell_type": "code",
   "execution_count": 47,
   "metadata": {},
   "outputs": [
    {
     "data": {
      "image/png": "[encoded data removed]",
      "text/plain": [
       "<Figure size 1080x360 with 3 Axes>"
      ]
     },
     "metadata": {},
     "output_type": "display_data"
    }
   ],
   "source": [
    "recipe = actual_data.columns[4:7]\n",
    "\n",
    "fig, axs = plt.subplots(1, 3, figsize=(15, 5))\n",
    "fig.suptitle('ТОП-5 платформ в регионах')\n",
    "for  i  in range ( 3 ):\n",
    "    df_i = (actual_data.groupby('platform')[recipe[i]].sum().reset_index().sort_values(recipe[i], ascending= False, ignore_index = True).head()) \n",
    "    axs[i].pie(df_i[recipe[i]], labels = df_i['platform'])\n",
    "    axs[i].pie(df_i[recipe[i]], labels = df_i['platform'], autopct= '%1.1f%%' )\n",
    "    axs[i].set_title(df_i.columns[1].split('_')[0]) \n",
    "plt.show()\n",
    "\n"
   ]
  },
  {
   "cell_type": "code",
   "execution_count": 48,
   "metadata": {},
   "outputs": [
    {
     "data": {
      "image/png": "[encoded data removed]",
      "text/plain": [
       "<Figure size 1080x360 with 3 Axes>"
      ]
     },
     "metadata": {},
     "output_type": "display_data"
    }
   ],
   "source": [
    "recipe = actual_data.columns[4:7]\n",
    "\n",
    "fig, axs = plt.subplots(1, 3, figsize=(15, 5))\n",
    "fig.suptitle('ТОП-5 жанров в регионах')\n",
    "for  i  in range ( 3 ):\n",
    "    df_i = (actual_data.groupby('genre')[recipe[i]].sum().reset_index().sort_values(recipe[i], ascending= False, ignore_index = True).head()) \n",
    "    axs[i].pie(df_i[recipe[i]], labels = df_i['genre'])\n",
    "    axs[i].pie(df_i[recipe[i]], labels = df_i['genre'], autopct= '%1.1f%%' )\n",
    "    axs[i].set_title(df_i.columns[1].split('_')[0]) \n",
    "plt.show()\n"
   ]
  },
  {
   "cell_type": "code",
   "execution_count": 49,
   "metadata": {},
   "outputs": [
    {
     "data": {
      "image/png": "[encoded data removed]",
      "text/plain": [
       "<Figure size 1080x360 with 3 Axes>"
      ]
     },
     "metadata": {},
     "output_type": "display_data"
    }
   ],
   "source": [
    "recipe = actual_data.columns[4:7]\n",
    "\n",
    "fig, axs = plt.subplots(1, 3, figsize=(15, 5))\n",
    "fig.suptitle('ТОП-5 жанров в регионах')\n",
    "for  i  in range ( 3 ):\n",
    "    df_i = (actual_data.groupby('rating')[recipe[i]].sum().reset_index().sort_values(recipe[i], ascending= False, ignore_index = True).head()) \n",
    "    axs[i].pie(df_i[recipe[i]], labels = df_i['rating'])\n",
    "    axs[i].pie(df_i[recipe[i]], labels = df_i['rating'], autopct= '%1.1f%%' )\n",
    "    axs[i].set_title(df_i.columns[1].split('_')[0]) \n",
    "plt.show()"
   ]
  },
  {
   "cell_type": "markdown",
   "metadata": {},
   "source": [
    "Американец: играет в шутеры на PS4\n",
    "Европеец: играет в шутеры и экшн игры на PS4\n",
    "Японец: играет в экшн игры на 3DS. В японии популярны жанры \"без названия\", возможно это какие-то японские игры, не имеющие рейтинга европейской и американской системы оценки."
   ]
  },
  {
   "cell_type": "markdown",
   "metadata": {},
   "source": [
    "# 4. Проверка гипотез."
   ]
  },
  {
   "cell_type": "markdown",
   "metadata": {},
   "source": [
    "Статистика разности  показывант отношение между Нулевой гипетезой и средним выборки. Для осуществления этого определены условия: выборочные средние нормально распределены  , генеральные совокупности не должны быть зависимы друг от друга, дисперсии рассматриваемых равны(мы на всякий случай указываем equal_var=False, если это не так). Но при всем при этом, если эмпирических значений не много, то распределение нулевой гипотезы будет шире нормального (иметь большой разброс). Существует понятие - Количество степеней свободы - это 1- количество наблюдений в выборке. Чтобы каждый раз не проверять количество степеней свободы, принято применять T-test в любом случае, как правило хорошего тона. Ведь он работает на выборке любого размера."
   ]
  },
  {
   "cell_type": "markdown",
   "metadata": {},
   "source": [
    "## 4.1 Но- средние пользовательские рейтинги платформ Xbox One и PC одинаковые.\n",
    "    Н1- средние пользовательские рейтинги платформ Xbox One и PC разные."
   ]
  },
  {
   "cell_type": "code",
   "execution_count": 50,
   "metadata": {},
   "outputs": [],
   "source": [
    "#удалим значения заглушки\n",
    "check = actual_data[actual_data['user_score'] != - 10]\n"
   ]
  },
  {
   "cell_type": "code",
   "execution_count": 51,
   "metadata": {},
   "outputs": [
    {
     "name": "stdout",
     "output_type": "stream",
     "text": [
      "Средний пользовательский рейтинг платформ Xbox One 6.54\n",
      "Средний пользовательский рейтинг платформ PC 6.3\n",
      "p-значение: 0.2946308864003345\n",
      "Не получилось отвергнуть нулевую гипотезу\n"
     ]
    }
   ],
   "source": [
    "print('Средний пользовательский рейтинг платформ Xbox One', round(check.query('platform == \"XOne\"')['user_score'].mean(),2))\n",
    "print('Средний пользовательский рейтинг платформ PC', round(check.query('platform == \"PC\"')['user_score'].mean(),2))\n",
    "\n",
    "from scipy import stats as st\n",
    "\n",
    "alpha = .05 \n",
    "results = st.ttest_ind(\n",
    "    check.query('platform == \"XOne\"')['user_score'],check.query('platform == \"PC\"')['user_score'], equal_var=False)\n",
    "\n",
    "print('p-значение:', results.pvalue)\n",
    "\n",
    "if results.pvalue < alpha:\n",
    "    print(\"Отвергаем нулевую гипотезу\")\n",
    "else:\n",
    "    print(\"Не получилось отвергнуть нулевую гипотезу\") "
   ]
  },
  {
   "cell_type": "markdown",
   "metadata": {},
   "source": [
    "## 4.2 Но- средние пользователькие рейтинги жанров Action и Sport одинаковые.\n",
    "    Н1- средние пользователькие рейтинги жанров Action и Sport разные."
   ]
  },
  {
   "cell_type": "code",
   "execution_count": 52,
   "metadata": {},
   "outputs": [
    {
     "name": "stdout",
     "output_type": "stream",
     "text": [
      "Средний пользовательский рейтинг жанра Action 6.81\n",
      "Средний пользовательский рейтинг жанра Sports 5.2\n",
      "p-значение: 5.97163549920592e-10\n",
      "Отвергаем нулевую гипотезу\n"
     ]
    }
   ],
   "source": [
    "print('Средний пользовательский рейтинг жанра Action', round(check.query('genre == \"Action\"')['user_score'].mean(),2))\n",
    "print('Средний пользовательский рейтинг жанра Sports', round(check.query('genre == \"Sports\"')['user_score'].mean(),2))\n",
    "\n",
    "alpha = .05 \n",
    "results = st.ttest_ind(\n",
    "    check.query('genre == \"Action\"')['user_score'],check.query('genre == \"Sports\"')['user_score'], equal_var=False)\n",
    "\n",
    "print('p-значение:', results.pvalue)\n",
    "\n",
    "if results.pvalue < alpha:\n",
    "    print(\"Отвергаем нулевую гипотезу\")\n",
    "else:\n",
    "    print(\"Не получилось отвергнуть нулевую гипотезу\") "
   ]
  },
  {
   "cell_type": "markdown",
   "metadata": {},
   "source": [
    "# 5. Общий вывод\n",
    "\n",
    "В ПЕРВОМ разделе мы открыли файл, изучили данные и наметили задачи по подготовке данных к исследованию. Которые в дальнейшем и выполнили:\n",
    "\n",
    "- заменили названия столбцов (привели к нижнему регистру)\n",
    "\n",
    "- преобразовали тип данных в столбцах: year_of_release - привели к целочисленному типу int, critic_score и user_score привели к типу float64\n",
    "\n",
    "- изучили пропуски в таблице\n",
    "\n",
    "- Удалили строки с незначительными пропусками в столбцах name , genre и year_of_release\n",
    "\n",
    "- В столбцах user_score, rating, critic_score было огромное количество пропусков(половина всего датасета), убрать такое количество данных не представляется возможным. Поразмышляем, откуда может быть такое количество пропусков в данных. Если бы это была ошибка оператора ввода или машины при обработке данных, врядли эти ошибки занимали бы половину всех данных. Причем пропуски почти всегда повторяются по всем трем столбцам строки, то есть, есть система. Это наводит на мысль, что, может быть, в некоторых странах игры не имеют рейтинга, или составители по стране (игре) просто его не указывают. Тот же вывод напрашивается и на оценку пользователей. Так как такие значения мы не можем заменить ни средним, ни медианой то просто поставили \"Заглушку\" на значения nan, чтобы привести тип данных в строке в типу float.\n",
    "\n",
    "- значение TBD — это сокращение произошло от выражения \"to be determined\". По сути, всё, что требует конкретного ответа, которого вы ещё не знаете, может быть «tbd», то есть это теже nan,  поступили с ними соответственно.\n",
    "\n",
    "- изучили данные по столбцу rating : \n",
    ".Все (E)\n",
    ".Подросток (Т) \n",
    ".Зрелые 17+(М) \n",
    ".Все 10+ (E10+)\n",
    ".Раннее детство (EC) \n",
    ".Старый вариант маркировки E (К-А) \n",
    ".Только для взрослых 18+(АО) \n",
    ".Рейтинг в ожидании (RP)\n",
    " - Удалить строки с пропусками мы не можем, так как они составляют почти половину датасета. В данном случае следует поставить \"заглушку\". Исходя из этого заменили 'RP' и 'nan' на 'Unknown', 'K-A' на 'E'. Можно было бы подумать о замене M на AO, но фильмы для врослых все же отличаются от фильмов для \"взрослых 18+\". Так что оставили как есть.\n",
    " \n",
    "\n",
    "- Посчитали суммарные продажи во всех регионах и записали их в отдельный столбец.\n",
    "\n",
    "Во ВТОРОМ разделе нашего исследования мы проводили исследовательский анализ подготовленных данных.\n",
    "\n",
    "- Начали мы стого, что посмотрели сколько игр выпускалось в разные годы:\n",
    "\n",
    " Максимальный пик выпуска видеоигр пришелся на 2005 и 2010 годы. Незначительный рост также пришелся на 2016 год. Причем рост этот последовал после значительного снижения выпуска. Данные с 1980-1995 вообще не стали брать в расчет, так как доля выпуска игр там минимальная. Спад 2010-2015 годов тоже не подходит для исследовиная, так как в 2015-2016 годах наметился выраженный рост. \n",
    " Для исследования прогнозов на 2017 год мы взяли данные за 2015 год и данные за предыдущий, 2016 год. Хоть мы и имеем информацию что данные по нему неполные.\n",
    " \n",
    "- Далее мы смотрели как меняются продажи по платформам. Выбрали платформы с максимальными продажами и построили распределение по годам. \n",
    " \n",
    " Судя по графикам срок \"жизни\" платформы не превышает 10 лет, а срок популятности 5 лет. Все платформы из топа на момент необходимости исследования уже не популярны.\n",
    " \n",
    "- затем мы смотрели какие платформы лидируют по продажам и выбрали несколько потенциально вприбыльных платформ\n",
    " \n",
    " Судя по графику у PS4 и XOne распределение продаж примерно на одном уровне, медиана тоже на оном уровне, а также общие продажи у них достаточно высокие. После того как мы построили \"ящик с усами\" для наших выбранных платформ мы добавили еще и WiiU, которую мы ранее отбросили. Она тоже достаточно перспективная. А вот платформы PC и PSV нам не подходят.\n",
    "\n",
    " \n",
    " \n",
    "- далее мы изучали как влияют на продажи внутри каждой выбранной нами популярной платфрмы отзывы пользователей и критиков\n",
    "\n",
    "В случае с PS4 корреляция продаж с оценкой критиков 0.392074 , корреляция продаж с оценкой пользователей -0.064368. Сделаем вывод, что чем выше оценка критиков, тем выше продажи. А вот оценка пользователей на продажи не влияет.\n",
    "\n",
    "Теперь посмотрим, как обстоят дела с XOne, наблюдаем ту же самую картину, как и в случае с PS4. Корреляция продаж с оценкой критиков 0.422519 , корреляция продаж с оценкой пользователей -0.068684. Вывод тот же: чем выше оценка критиков, тем выше продажи,а  оценка пользователей на продажи не влияет.\n",
    "\n",
    "И у нас осталась платформа WiiU. Тут мы наблюдаем другую картину. Корреляция продаж с оценкой критиков 0.325674 , корреляция продаж с оценкой пользователей -0.0354987. Мы видим прямую корреляцию и в случае с критиками и с пользователями . Получается, на этой платформе чем выше отзывы критиков и пользователей, тем продажи выше(причем мнение пользователей выше оценивается, чем мнение критиков).\n",
    "\n",
    "В ТРЕТЬЕЙ части нашего исследования, посмотрев на общее распределение игр по жанрам мы увидели, что самый популярный жанр это Шутеры, хорошо продаются также спортивные и ролевые игры.\n",
    "\n",
    "-Построив круговые диаграмы для пользователей каждого региона мы увидели, что:\n",
    " - Американец: играет в шутеры на PS4 \n",
    " - Европеец: играет в шутеры и экшн игры на PS4 \n",
    " - Японец: играет в экшн игры на 3DS. В японии популярны жанры \"без названия\", возможно это какие-то японские игры, не имеющие рейтинга европейской и американской системы оценки.\n",
    "\n",
    "\n",
    "В ЧЕТВЕРТОЙ части исследования нас ждала Проверка гипотез.\n",
    "Так как нулевая гипотеза всегда чему-то равна, мы в оба варианта записали Но, что рейтинги одинаковые, а протиоположная гипотеза соответственно, что рейтинги разные. Обе гипотезы в сумме составляют весь горизонт событий, те 100%. Либо то, либо то.\n",
    "\n",
    "В первом задании мы сравнивали пользовательские рейтинги платформ.\n",
    "4.1 Но- средние пользовательские рейтинги платформ Xbox One и PC одинаковые. Н1- средние пользовательские рейтинги платформ Xbox One и PC разные.\n",
    "\n",
    "Средний пользовательский рейтинг платформ Xbox One 6.54\n",
    "Средний пользовательский рейтинг платформ PC 6.3\n",
    "p-значение: 0.2946308864003345\n",
    "Не получилось отвергнуть нулевую гипотезу\n",
    "\n",
    "Во втором задании мы сравнивали пользовательские рейтинги жанров\n",
    "4.2 Но- средние пользователькие рейтинги жанров Action и Sport одинаковые. Н1- средние пользователькие рейтинги жанров Action и Sport разные.\n",
    "\n",
    "Средний пользовательский рейтинг жанра Action 6.81\n",
    "Средний пользовательский рейтинг жанра Sports 5.2\n",
    "p-значение: 5.97163549920592e-10\n",
    "Отвергаем нулевую гипотезу"
   ]
  }
 ],
 "metadata": {
  "ExecuteTimeLog": [
   {
    "duration": 445,
    "start_time": "2022-10-17T10:56:31.786Z"
   },
   {
    "duration": 47,
    "start_time": "2022-10-17T10:58:08.896Z"
   },
   {
    "duration": 9,
    "start_time": "2022-10-17T10:58:20.123Z"
   },
   {
    "duration": 8,
    "start_time": "2022-10-17T10:58:28.837Z"
   },
   {
    "duration": 98,
    "start_time": "2022-10-17T10:58:37.024Z"
   },
   {
    "duration": 10,
    "start_time": "2022-10-17T10:58:41.646Z"
   },
   {
    "duration": 38,
    "start_time": "2022-10-17T11:00:01.154Z"
   },
   {
    "duration": 81,
    "start_time": "2022-10-17T11:00:20.358Z"
   },
   {
    "duration": 26,
    "start_time": "2022-10-17T11:17:55.916Z"
   },
   {
    "duration": 19,
    "start_time": "2022-10-17T12:33:58.056Z"
   },
   {
    "duration": 10,
    "start_time": "2022-10-17T12:34:33.217Z"
   },
   {
    "duration": 917,
    "start_time": "2022-10-17T12:40:10.775Z"
   },
   {
    "duration": 22,
    "start_time": "2022-10-17T12:40:11.695Z"
   },
   {
    "duration": 15,
    "start_time": "2022-10-17T12:40:11.718Z"
   },
   {
    "duration": 21,
    "start_time": "2022-10-17T12:40:11.736Z"
   },
   {
    "duration": 895,
    "start_time": "2022-10-17T12:40:11.760Z"
   },
   {
    "duration": 53,
    "start_time": "2022-10-17T12:40:12.656Z"
   },
   {
    "duration": 14,
    "start_time": "2022-10-17T12:40:58.443Z"
   },
   {
    "duration": 18,
    "start_time": "2022-10-17T12:41:08.442Z"
   },
   {
    "duration": 18,
    "start_time": "2022-10-17T12:43:05.865Z"
   },
   {
    "duration": 4,
    "start_time": "2022-10-17T13:07:22.942Z"
   },
   {
    "duration": 15,
    "start_time": "2022-10-17T13:07:24.365Z"
   },
   {
    "duration": 13,
    "start_time": "2022-10-17T13:17:54.939Z"
   },
   {
    "duration": 82,
    "start_time": "2022-10-17T13:24:06.115Z"
   },
   {
    "duration": 13,
    "start_time": "2022-10-17T13:28:50.957Z"
   },
   {
    "duration": 14,
    "start_time": "2022-10-17T13:29:39.105Z"
   },
   {
    "duration": 13,
    "start_time": "2022-10-17T13:30:37.619Z"
   },
   {
    "duration": 14,
    "start_time": "2022-10-17T13:31:41.557Z"
   },
   {
    "duration": 57,
    "start_time": "2022-10-17T13:38:39.453Z"
   },
   {
    "duration": 0,
    "start_time": "2022-10-17T13:38:39.512Z"
   },
   {
    "duration": 0,
    "start_time": "2022-10-17T13:38:39.514Z"
   },
   {
    "duration": 0,
    "start_time": "2022-10-17T13:38:39.516Z"
   },
   {
    "duration": 0,
    "start_time": "2022-10-17T13:38:39.517Z"
   },
   {
    "duration": 0,
    "start_time": "2022-10-17T13:38:39.519Z"
   },
   {
    "duration": 0,
    "start_time": "2022-10-17T13:38:39.520Z"
   },
   {
    "duration": 0,
    "start_time": "2022-10-17T13:38:39.522Z"
   },
   {
    "duration": 54,
    "start_time": "2022-10-17T13:38:39.524Z"
   },
   {
    "duration": 681,
    "start_time": "2022-10-17T13:38:48.877Z"
   },
   {
    "duration": 21,
    "start_time": "2022-10-17T13:38:49.872Z"
   },
   {
    "duration": 4,
    "start_time": "2022-10-17T13:38:54.550Z"
   },
   {
    "duration": 16,
    "start_time": "2022-10-17T13:38:56.392Z"
   },
   {
    "duration": 10,
    "start_time": "2022-10-17T13:39:00.469Z"
   },
   {
    "duration": 56,
    "start_time": "2022-10-17T13:39:05.266Z"
   },
   {
    "duration": 17,
    "start_time": "2022-10-17T13:39:14.002Z"
   },
   {
    "duration": 32,
    "start_time": "2022-10-17T13:39:50.285Z"
   },
   {
    "duration": 24,
    "start_time": "2022-10-17T14:10:56.973Z"
   },
   {
    "duration": 16,
    "start_time": "2022-10-17T14:11:04.808Z"
   },
   {
    "duration": 6,
    "start_time": "2022-10-17T14:12:44.092Z"
   },
   {
    "duration": 15,
    "start_time": "2022-10-17T14:16:59.289Z"
   },
   {
    "duration": 17,
    "start_time": "2022-10-17T14:17:02.077Z"
   },
   {
    "duration": 7,
    "start_time": "2022-10-17T14:17:21.650Z"
   },
   {
    "duration": 42,
    "start_time": "2022-10-17T14:21:16.780Z"
   },
   {
    "duration": 7,
    "start_time": "2022-10-17T14:21:37.926Z"
   },
   {
    "duration": 12,
    "start_time": "2022-10-17T14:46:03.208Z"
   },
   {
    "duration": 13,
    "start_time": "2022-10-17T14:46:13.030Z"
   },
   {
    "duration": 5,
    "start_time": "2022-10-17T14:46:58.234Z"
   },
   {
    "duration": 7,
    "start_time": "2022-10-17T14:51:55.197Z"
   },
   {
    "duration": 12,
    "start_time": "2022-10-17T14:52:16.202Z"
   },
   {
    "duration": 5,
    "start_time": "2022-10-17T14:52:18.945Z"
   },
   {
    "duration": 9,
    "start_time": "2022-10-17T15:11:13.673Z"
   },
   {
    "duration": 11,
    "start_time": "2022-10-17T15:11:23.732Z"
   },
   {
    "duration": 6,
    "start_time": "2022-10-17T15:11:50.758Z"
   },
   {
    "duration": 7,
    "start_time": "2022-10-17T15:12:00.929Z"
   },
   {
    "duration": 12,
    "start_time": "2022-10-17T15:13:31.391Z"
   },
   {
    "duration": 8,
    "start_time": "2022-10-17T15:13:56.689Z"
   },
   {
    "duration": 5,
    "start_time": "2022-10-17T15:15:39.770Z"
   },
   {
    "duration": 14,
    "start_time": "2022-10-17T15:15:52.950Z"
   },
   {
    "duration": 7,
    "start_time": "2022-10-17T15:16:48.219Z"
   },
   {
    "duration": 16,
    "start_time": "2022-10-17T15:16:49.351Z"
   },
   {
    "duration": 17,
    "start_time": "2022-10-17T15:17:03.101Z"
   },
   {
    "duration": 982,
    "start_time": "2022-10-18T08:09:37.650Z"
   },
   {
    "duration": 20,
    "start_time": "2022-10-18T08:09:38.634Z"
   },
   {
    "duration": 2,
    "start_time": "2022-10-18T08:09:38.656Z"
   },
   {
    "duration": 16,
    "start_time": "2022-10-18T08:09:38.660Z"
   },
   {
    "duration": 8,
    "start_time": "2022-10-18T08:09:38.677Z"
   },
   {
    "duration": 58,
    "start_time": "2022-10-18T08:09:38.687Z"
   },
   {
    "duration": 14,
    "start_time": "2022-10-18T08:09:38.747Z"
   },
   {
    "duration": 14,
    "start_time": "2022-10-18T08:09:38.763Z"
   },
   {
    "duration": 18,
    "start_time": "2022-10-18T08:09:38.779Z"
   },
   {
    "duration": 23,
    "start_time": "2022-10-18T08:09:38.799Z"
   },
   {
    "duration": 6,
    "start_time": "2022-10-18T08:09:38.824Z"
   },
   {
    "duration": 13,
    "start_time": "2022-10-18T08:09:38.832Z"
   },
   {
    "duration": 4,
    "start_time": "2022-10-18T08:09:38.846Z"
   },
   {
    "duration": 9,
    "start_time": "2022-10-18T08:09:38.852Z"
   },
   {
    "duration": 12,
    "start_time": "2022-10-18T08:09:38.862Z"
   },
   {
    "duration": 7,
    "start_time": "2022-10-18T08:09:38.875Z"
   },
   {
    "duration": 17,
    "start_time": "2022-10-18T08:09:38.884Z"
   },
   {
    "duration": 22,
    "start_time": "2022-10-18T08:09:38.903Z"
   },
   {
    "duration": 18,
    "start_time": "2022-10-18T08:09:38.926Z"
   },
   {
    "duration": 13,
    "start_time": "2022-10-18T08:09:38.946Z"
   },
   {
    "duration": 28,
    "start_time": "2022-10-18T08:09:38.961Z"
   },
   {
    "duration": 30,
    "start_time": "2022-10-18T08:14:07.023Z"
   },
   {
    "duration": 29,
    "start_time": "2022-10-18T08:21:56.231Z"
   },
   {
    "duration": 27,
    "start_time": "2022-10-18T08:22:02.583Z"
   },
   {
    "duration": 613,
    "start_time": "2022-10-18T08:22:10.343Z"
   },
   {
    "duration": 17,
    "start_time": "2022-10-18T08:22:10.958Z"
   },
   {
    "duration": 3,
    "start_time": "2022-10-18T08:22:10.976Z"
   },
   {
    "duration": 18,
    "start_time": "2022-10-18T08:22:10.980Z"
   },
   {
    "duration": 25,
    "start_time": "2022-10-18T08:22:10.999Z"
   },
   {
    "duration": 9,
    "start_time": "2022-10-18T08:22:11.025Z"
   },
   {
    "duration": 52,
    "start_time": "2022-10-18T08:22:11.035Z"
   },
   {
    "duration": 13,
    "start_time": "2022-10-18T08:22:11.088Z"
   },
   {
    "duration": 31,
    "start_time": "2022-10-18T08:22:11.102Z"
   },
   {
    "duration": 15,
    "start_time": "2022-10-18T08:22:11.135Z"
   },
   {
    "duration": 9,
    "start_time": "2022-10-18T08:22:11.151Z"
   },
   {
    "duration": 12,
    "start_time": "2022-10-18T08:22:11.161Z"
   },
   {
    "duration": 12,
    "start_time": "2022-10-18T08:22:11.174Z"
   },
   {
    "duration": 4,
    "start_time": "2022-10-18T08:22:11.187Z"
   },
   {
    "duration": 10,
    "start_time": "2022-10-18T08:22:11.192Z"
   },
   {
    "duration": 27,
    "start_time": "2022-10-18T08:22:11.203Z"
   },
   {
    "duration": 3,
    "start_time": "2022-10-18T08:22:11.232Z"
   },
   {
    "duration": 10,
    "start_time": "2022-10-18T08:22:11.237Z"
   },
   {
    "duration": 8,
    "start_time": "2022-10-18T08:22:11.248Z"
   },
   {
    "duration": 14,
    "start_time": "2022-10-18T08:22:11.257Z"
   },
   {
    "duration": 12,
    "start_time": "2022-10-18T08:22:11.272Z"
   },
   {
    "duration": 5,
    "start_time": "2022-10-18T08:33:31.308Z"
   },
   {
    "duration": 12,
    "start_time": "2022-10-18T08:33:32.635Z"
   },
   {
    "duration": 14,
    "start_time": "2022-10-18T08:33:36.938Z"
   },
   {
    "duration": 2402,
    "start_time": "2022-10-18T08:35:21.272Z"
   },
   {
    "duration": 670,
    "start_time": "2022-10-18T08:35:44.827Z"
   },
   {
    "duration": 19,
    "start_time": "2022-10-18T08:35:45.499Z"
   },
   {
    "duration": 4,
    "start_time": "2022-10-18T08:35:45.519Z"
   },
   {
    "duration": 19,
    "start_time": "2022-10-18T08:35:45.524Z"
   },
   {
    "duration": 28,
    "start_time": "2022-10-18T08:35:45.544Z"
   },
   {
    "duration": 7,
    "start_time": "2022-10-18T08:35:45.574Z"
   },
   {
    "duration": 63,
    "start_time": "2022-10-18T08:35:45.582Z"
   },
   {
    "duration": 14,
    "start_time": "2022-10-18T08:35:45.647Z"
   },
   {
    "duration": 13,
    "start_time": "2022-10-18T08:35:45.663Z"
   },
   {
    "duration": 14,
    "start_time": "2022-10-18T08:35:45.678Z"
   },
   {
    "duration": 29,
    "start_time": "2022-10-18T08:35:45.694Z"
   },
   {
    "duration": 9,
    "start_time": "2022-10-18T08:35:45.724Z"
   },
   {
    "duration": 11,
    "start_time": "2022-10-18T08:35:45.734Z"
   },
   {
    "duration": 3,
    "start_time": "2022-10-18T08:35:45.747Z"
   },
   {
    "duration": 10,
    "start_time": "2022-10-18T08:35:45.752Z"
   },
   {
    "duration": 11,
    "start_time": "2022-10-18T08:35:45.763Z"
   },
   {
    "duration": 4,
    "start_time": "2022-10-18T08:35:45.775Z"
   },
   {
    "duration": 9,
    "start_time": "2022-10-18T08:35:45.781Z"
   },
   {
    "duration": 9,
    "start_time": "2022-10-18T08:35:45.821Z"
   },
   {
    "duration": 15,
    "start_time": "2022-10-18T08:35:45.831Z"
   },
   {
    "duration": 14,
    "start_time": "2022-10-18T08:35:45.848Z"
   },
   {
    "duration": 3379,
    "start_time": "2022-10-18T08:35:45.863Z"
   },
   {
    "duration": 7,
    "start_time": "2022-10-18T08:36:26.880Z"
   },
   {
    "duration": 13,
    "start_time": "2022-10-18T08:36:48.051Z"
   },
   {
    "duration": 14,
    "start_time": "2022-10-18T08:37:05.729Z"
   },
   {
    "duration": 7,
    "start_time": "2022-10-18T08:38:15.041Z"
   },
   {
    "duration": 7,
    "start_time": "2022-10-18T08:39:02.656Z"
   },
   {
    "duration": 613,
    "start_time": "2022-10-18T08:39:22.954Z"
   },
   {
    "duration": 20,
    "start_time": "2022-10-18T08:39:23.568Z"
   },
   {
    "duration": 3,
    "start_time": "2022-10-18T08:39:23.589Z"
   },
   {
    "duration": 15,
    "start_time": "2022-10-18T08:39:23.593Z"
   },
   {
    "duration": 27,
    "start_time": "2022-10-18T08:39:23.609Z"
   },
   {
    "duration": 8,
    "start_time": "2022-10-18T08:39:23.637Z"
   },
   {
    "duration": 48,
    "start_time": "2022-10-18T08:39:23.646Z"
   },
   {
    "duration": 28,
    "start_time": "2022-10-18T08:39:23.696Z"
   },
   {
    "duration": 13,
    "start_time": "2022-10-18T08:39:23.725Z"
   },
   {
    "duration": 12,
    "start_time": "2022-10-18T08:39:23.740Z"
   },
   {
    "duration": 5,
    "start_time": "2022-10-18T08:39:23.754Z"
   },
   {
    "duration": 8,
    "start_time": "2022-10-18T08:39:23.760Z"
   },
   {
    "duration": 12,
    "start_time": "2022-10-18T08:39:23.769Z"
   },
   {
    "duration": 4,
    "start_time": "2022-10-18T08:39:23.782Z"
   },
   {
    "duration": 38,
    "start_time": "2022-10-18T08:39:23.787Z"
   },
   {
    "duration": 10,
    "start_time": "2022-10-18T08:39:23.827Z"
   },
   {
    "duration": 4,
    "start_time": "2022-10-18T08:39:23.839Z"
   },
   {
    "duration": 9,
    "start_time": "2022-10-18T08:39:23.844Z"
   },
   {
    "duration": 8,
    "start_time": "2022-10-18T08:39:23.854Z"
   },
   {
    "duration": 12,
    "start_time": "2022-10-18T08:39:23.864Z"
   },
   {
    "duration": 12,
    "start_time": "2022-10-18T08:39:23.878Z"
   },
   {
    "duration": 33,
    "start_time": "2022-10-18T08:39:23.892Z"
   },
   {
    "duration": 13,
    "start_time": "2022-10-18T08:39:23.927Z"
   },
   {
    "duration": 5,
    "start_time": "2022-10-18T10:33:37.004Z"
   },
   {
    "duration": 177,
    "start_time": "2022-10-18T10:38:01.057Z"
   },
   {
    "duration": 158,
    "start_time": "2022-10-18T10:39:10.894Z"
   },
   {
    "duration": 229,
    "start_time": "2022-10-18T10:42:45.515Z"
   },
   {
    "duration": 224,
    "start_time": "2022-10-18T10:42:58.452Z"
   },
   {
    "duration": 151,
    "start_time": "2022-10-18T10:43:51.122Z"
   },
   {
    "duration": 154,
    "start_time": "2022-10-18T10:44:09.525Z"
   },
   {
    "duration": 6,
    "start_time": "2022-10-18T10:44:12.719Z"
   },
   {
    "duration": 255,
    "start_time": "2022-10-18T10:57:36.617Z"
   },
   {
    "duration": 337,
    "start_time": "2022-10-18T10:57:47.636Z"
   },
   {
    "duration": 8,
    "start_time": "2022-10-18T10:58:38.695Z"
   },
   {
    "duration": 300,
    "start_time": "2022-10-18T10:58:59.614Z"
   },
   {
    "duration": 20,
    "start_time": "2022-10-18T11:00:07.457Z"
   },
   {
    "duration": 18,
    "start_time": "2022-10-18T11:00:46.672Z"
   },
   {
    "duration": 17,
    "start_time": "2022-10-18T11:03:02.133Z"
   },
   {
    "duration": 629,
    "start_time": "2022-10-18T11:03:10.327Z"
   },
   {
    "duration": 290,
    "start_time": "2022-10-18T11:04:34.625Z"
   },
   {
    "duration": 291,
    "start_time": "2022-10-18T11:04:52.556Z"
   },
   {
    "duration": 319,
    "start_time": "2022-10-18T11:05:17.194Z"
   },
   {
    "duration": 316,
    "start_time": "2022-10-18T11:05:30.371Z"
   },
   {
    "duration": 366,
    "start_time": "2022-10-18T11:06:55.438Z"
   },
   {
    "duration": 315,
    "start_time": "2022-10-18T11:07:14.647Z"
   },
   {
    "duration": 296,
    "start_time": "2022-10-18T11:07:31.999Z"
   },
   {
    "duration": 1186,
    "start_time": "2022-10-18T11:12:33.399Z"
   },
   {
    "duration": 8,
    "start_time": "2022-10-18T11:12:59.352Z"
   },
   {
    "duration": 7,
    "start_time": "2022-10-18T11:13:38.224Z"
   },
   {
    "duration": 9,
    "start_time": "2022-10-18T11:13:59.238Z"
   },
   {
    "duration": 9,
    "start_time": "2022-10-18T11:14:25.174Z"
   },
   {
    "duration": 15,
    "start_time": "2022-10-18T11:15:34.352Z"
   },
   {
    "duration": 16,
    "start_time": "2022-10-18T11:15:46.744Z"
   },
   {
    "duration": 28,
    "start_time": "2022-10-18T11:21:51.468Z"
   },
   {
    "duration": 104,
    "start_time": "2022-10-18T11:23:25.838Z"
   },
   {
    "duration": 229,
    "start_time": "2022-10-18T11:24:14.432Z"
   },
   {
    "duration": 1589,
    "start_time": "2022-10-18T11:24:38.841Z"
   },
   {
    "duration": 12,
    "start_time": "2022-10-18T11:31:39.623Z"
   },
   {
    "duration": 1398,
    "start_time": "2022-10-18T11:31:54.813Z"
   },
   {
    "duration": 1484,
    "start_time": "2022-10-18T11:34:56.227Z"
   },
   {
    "duration": 20,
    "start_time": "2022-10-18T11:39:17.923Z"
   },
   {
    "duration": 22,
    "start_time": "2022-10-18T11:39:35.429Z"
   },
   {
    "duration": 1603,
    "start_time": "2022-10-18T11:39:53.572Z"
   },
   {
    "duration": 5,
    "start_time": "2022-10-18T11:49:56.369Z"
   },
   {
    "duration": 21,
    "start_time": "2022-10-18T11:50:04.063Z"
   },
   {
    "duration": 28,
    "start_time": "2022-10-18T11:51:40.049Z"
   },
   {
    "duration": 19,
    "start_time": "2022-10-18T11:51:53.916Z"
   },
   {
    "duration": 18,
    "start_time": "2022-10-18T11:52:34.036Z"
   },
   {
    "duration": 30,
    "start_time": "2022-10-18T11:52:51.873Z"
   },
   {
    "duration": 1270,
    "start_time": "2022-10-18T11:58:22.127Z"
   },
   {
    "duration": 9,
    "start_time": "2022-10-18T11:59:23.625Z"
   },
   {
    "duration": 204,
    "start_time": "2022-10-18T11:59:41.680Z"
   },
   {
    "duration": 18,
    "start_time": "2022-10-18T14:22:44.547Z"
   },
   {
    "duration": 24,
    "start_time": "2022-10-18T14:25:26.688Z"
   },
   {
    "duration": 674,
    "start_time": "2022-10-18T14:25:34.746Z"
   },
   {
    "duration": 21,
    "start_time": "2022-10-18T14:25:35.431Z"
   },
   {
    "duration": 8,
    "start_time": "2022-10-18T14:25:35.454Z"
   },
   {
    "duration": 17,
    "start_time": "2022-10-18T14:25:35.463Z"
   },
   {
    "duration": 26,
    "start_time": "2022-10-18T14:25:35.481Z"
   },
   {
    "duration": 14,
    "start_time": "2022-10-18T14:25:35.508Z"
   },
   {
    "duration": 71,
    "start_time": "2022-10-18T14:25:35.531Z"
   },
   {
    "duration": 14,
    "start_time": "2022-10-18T14:25:35.603Z"
   },
   {
    "duration": 18,
    "start_time": "2022-10-18T14:25:35.619Z"
   },
   {
    "duration": 18,
    "start_time": "2022-10-18T14:25:35.639Z"
   },
   {
    "duration": 5,
    "start_time": "2022-10-18T14:25:35.659Z"
   },
   {
    "duration": 18,
    "start_time": "2022-10-18T14:25:35.665Z"
   },
   {
    "duration": 12,
    "start_time": "2022-10-18T14:25:35.684Z"
   },
   {
    "duration": 11,
    "start_time": "2022-10-18T14:25:35.698Z"
   },
   {
    "duration": 24,
    "start_time": "2022-10-18T14:25:35.710Z"
   },
   {
    "duration": 17,
    "start_time": "2022-10-18T14:25:35.735Z"
   },
   {
    "duration": 6,
    "start_time": "2022-10-18T14:25:35.754Z"
   },
   {
    "duration": 9,
    "start_time": "2022-10-18T14:25:35.761Z"
   },
   {
    "duration": 7,
    "start_time": "2022-10-18T14:25:35.771Z"
   },
   {
    "duration": 15,
    "start_time": "2022-10-18T14:25:35.779Z"
   },
   {
    "duration": 31,
    "start_time": "2022-10-18T14:25:35.795Z"
   },
   {
    "duration": 9,
    "start_time": "2022-10-18T14:25:35.828Z"
   },
   {
    "duration": 30,
    "start_time": "2022-10-18T14:25:35.839Z"
   },
   {
    "duration": 182,
    "start_time": "2022-10-18T14:25:35.870Z"
   },
   {
    "duration": 6,
    "start_time": "2022-10-18T14:25:36.053Z"
   },
   {
    "duration": 53,
    "start_time": "2022-10-18T14:25:36.062Z"
   },
   {
    "duration": 1621,
    "start_time": "2022-10-18T14:25:36.117Z"
   },
   {
    "duration": 4,
    "start_time": "2022-10-18T14:25:37.741Z"
   },
   {
    "duration": 23,
    "start_time": "2022-10-18T14:25:37.747Z"
   },
   {
    "duration": 100,
    "start_time": "2022-10-18T14:25:37.771Z"
   },
   {
    "duration": 0,
    "start_time": "2022-10-18T14:25:37.872Z"
   },
   {
    "duration": 7,
    "start_time": "2022-10-18T14:25:40.671Z"
   },
   {
    "duration": 18,
    "start_time": "2022-10-18T14:27:39.842Z"
   },
   {
    "duration": 17,
    "start_time": "2022-10-18T14:28:19.003Z"
   },
   {
    "duration": 20,
    "start_time": "2022-10-18T14:28:35.960Z"
   },
   {
    "duration": 16,
    "start_time": "2022-10-18T14:28:45.818Z"
   },
   {
    "duration": 191,
    "start_time": "2022-10-18T14:29:06.346Z"
   },
   {
    "duration": 1179,
    "start_time": "2022-10-18T14:30:28.539Z"
   },
   {
    "duration": 7,
    "start_time": "2022-10-18T14:30:41.887Z"
   },
   {
    "duration": 27,
    "start_time": "2022-10-18T14:41:16.831Z"
   },
   {
    "duration": 22,
    "start_time": "2022-10-18T14:41:43.421Z"
   },
   {
    "duration": 13,
    "start_time": "2022-10-18T14:42:20.464Z"
   },
   {
    "duration": 7,
    "start_time": "2022-10-18T14:42:34.775Z"
   },
   {
    "duration": 1322,
    "start_time": "2022-10-18T14:43:12.633Z"
   },
   {
    "duration": 221,
    "start_time": "2022-10-18T14:43:37.192Z"
   },
   {
    "duration": 1143,
    "start_time": "2022-10-18T14:45:36.900Z"
   },
   {
    "duration": 18,
    "start_time": "2022-10-18T14:45:38.045Z"
   },
   {
    "duration": 3,
    "start_time": "2022-10-18T14:45:38.066Z"
   },
   {
    "duration": 18,
    "start_time": "2022-10-18T14:45:38.071Z"
   },
   {
    "duration": 37,
    "start_time": "2022-10-18T14:45:38.091Z"
   },
   {
    "duration": 8,
    "start_time": "2022-10-18T14:45:38.130Z"
   },
   {
    "duration": 56,
    "start_time": "2022-10-18T14:45:38.140Z"
   },
   {
    "duration": 30,
    "start_time": "2022-10-18T14:45:38.198Z"
   },
   {
    "duration": 17,
    "start_time": "2022-10-18T14:45:38.230Z"
   },
   {
    "duration": 17,
    "start_time": "2022-10-18T14:45:38.250Z"
   },
   {
    "duration": 4,
    "start_time": "2022-10-18T14:45:38.269Z"
   },
   {
    "duration": 10,
    "start_time": "2022-10-18T14:45:38.275Z"
   },
   {
    "duration": 45,
    "start_time": "2022-10-18T14:45:38.287Z"
   },
   {
    "duration": 5,
    "start_time": "2022-10-18T14:45:38.334Z"
   },
   {
    "duration": 11,
    "start_time": "2022-10-18T14:45:38.341Z"
   },
   {
    "duration": 11,
    "start_time": "2022-10-18T14:45:38.353Z"
   },
   {
    "duration": 5,
    "start_time": "2022-10-18T14:45:38.365Z"
   },
   {
    "duration": 10,
    "start_time": "2022-10-18T14:45:38.371Z"
   },
   {
    "duration": 8,
    "start_time": "2022-10-18T14:45:38.383Z"
   },
   {
    "duration": 35,
    "start_time": "2022-10-18T14:45:38.392Z"
   },
   {
    "duration": 12,
    "start_time": "2022-10-18T14:45:38.429Z"
   },
   {
    "duration": 5,
    "start_time": "2022-10-18T14:45:38.442Z"
   },
   {
    "duration": 16,
    "start_time": "2022-10-18T14:45:38.448Z"
   },
   {
    "duration": 177,
    "start_time": "2022-10-18T14:45:38.465Z"
   },
   {
    "duration": 5,
    "start_time": "2022-10-18T14:45:38.643Z"
   },
   {
    "duration": 21,
    "start_time": "2022-10-18T14:45:38.650Z"
   },
   {
    "duration": 1549,
    "start_time": "2022-10-18T14:45:38.672Z"
   },
   {
    "duration": 5,
    "start_time": "2022-10-18T14:45:40.224Z"
   },
   {
    "duration": 32,
    "start_time": "2022-10-18T14:45:40.231Z"
   },
   {
    "duration": 10,
    "start_time": "2022-10-18T14:45:40.265Z"
   },
   {
    "duration": 6,
    "start_time": "2022-10-18T14:45:40.277Z"
   },
   {
    "duration": 166,
    "start_time": "2022-10-18T14:45:40.285Z"
   },
   {
    "duration": 108,
    "start_time": "2022-10-18T14:47:19.546Z"
   },
   {
    "duration": 19,
    "start_time": "2022-10-18T14:47:41.890Z"
   },
   {
    "duration": 13,
    "start_time": "2022-10-18T14:48:03.549Z"
   },
   {
    "duration": 17,
    "start_time": "2022-10-18T14:49:50.298Z"
   },
   {
    "duration": 1670,
    "start_time": "2022-10-18T14:51:16.840Z"
   },
   {
    "duration": 1524,
    "start_time": "2022-10-19T08:16:52.055Z"
   },
   {
    "duration": 21,
    "start_time": "2022-10-19T08:16:53.581Z"
   },
   {
    "duration": 3,
    "start_time": "2022-10-19T08:16:53.604Z"
   },
   {
    "duration": 17,
    "start_time": "2022-10-19T08:16:53.609Z"
   },
   {
    "duration": 30,
    "start_time": "2022-10-19T08:16:53.628Z"
   },
   {
    "duration": 9,
    "start_time": "2022-10-19T08:16:53.660Z"
   },
   {
    "duration": 77,
    "start_time": "2022-10-19T08:16:53.670Z"
   },
   {
    "duration": 15,
    "start_time": "2022-10-19T08:16:53.749Z"
   },
   {
    "duration": 31,
    "start_time": "2022-10-19T08:16:53.766Z"
   },
   {
    "duration": 15,
    "start_time": "2022-10-19T08:16:53.800Z"
   },
   {
    "duration": 4,
    "start_time": "2022-10-19T08:16:53.817Z"
   },
   {
    "duration": 16,
    "start_time": "2022-10-19T08:16:53.823Z"
   },
   {
    "duration": 12,
    "start_time": "2022-10-19T08:16:53.840Z"
   },
   {
    "duration": 4,
    "start_time": "2022-10-19T08:16:53.854Z"
   },
   {
    "duration": 8,
    "start_time": "2022-10-19T08:16:53.860Z"
   },
   {
    "duration": 11,
    "start_time": "2022-10-19T08:16:53.896Z"
   },
   {
    "duration": 5,
    "start_time": "2022-10-19T08:16:53.909Z"
   },
   {
    "duration": 9,
    "start_time": "2022-10-19T08:16:53.916Z"
   },
   {
    "duration": 8,
    "start_time": "2022-10-19T08:16:53.928Z"
   },
   {
    "duration": 15,
    "start_time": "2022-10-19T08:16:53.938Z"
   },
   {
    "duration": 50,
    "start_time": "2022-10-19T08:16:53.955Z"
   },
   {
    "duration": 5,
    "start_time": "2022-10-19T08:16:54.006Z"
   },
   {
    "duration": 16,
    "start_time": "2022-10-19T08:16:54.013Z"
   },
   {
    "duration": 206,
    "start_time": "2022-10-19T08:16:54.030Z"
   },
   {
    "duration": 5,
    "start_time": "2022-10-19T08:16:54.238Z"
   },
   {
    "duration": 23,
    "start_time": "2022-10-19T08:16:54.244Z"
   },
   {
    "duration": 1768,
    "start_time": "2022-10-19T08:16:54.268Z"
   },
   {
    "duration": 5,
    "start_time": "2022-10-19T08:16:56.039Z"
   },
   {
    "duration": 34,
    "start_time": "2022-10-19T08:16:56.045Z"
   },
   {
    "duration": 16,
    "start_time": "2022-10-19T08:16:56.080Z"
   },
   {
    "duration": 15,
    "start_time": "2022-10-19T08:16:56.098Z"
   },
   {
    "duration": 1687,
    "start_time": "2022-10-19T08:16:56.115Z"
   },
   {
    "duration": 6,
    "start_time": "2022-10-19T08:18:00.256Z"
   },
   {
    "duration": 22,
    "start_time": "2022-10-19T08:18:02.468Z"
   },
   {
    "duration": 15,
    "start_time": "2022-10-19T08:18:07.651Z"
   },
   {
    "duration": 8,
    "start_time": "2022-10-19T08:18:08.660Z"
   },
   {
    "duration": 1714,
    "start_time": "2022-10-19T08:19:15.072Z"
   },
   {
    "duration": 7,
    "start_time": "2022-10-19T08:19:29.259Z"
   },
   {
    "duration": 24,
    "start_time": "2022-10-19T08:19:30.457Z"
   },
   {
    "duration": 16,
    "start_time": "2022-10-19T08:20:18.066Z"
   },
   {
    "duration": 8,
    "start_time": "2022-10-19T08:20:18.885Z"
   },
   {
    "duration": 1831,
    "start_time": "2022-10-19T08:20:22.492Z"
   },
   {
    "duration": 9,
    "start_time": "2022-10-19T08:26:27.781Z"
   },
   {
    "duration": 9,
    "start_time": "2022-10-19T08:27:50.459Z"
   },
   {
    "duration": 111,
    "start_time": "2022-10-19T08:32:09.885Z"
   },
   {
    "duration": 10,
    "start_time": "2022-10-19T08:32:16.894Z"
   },
   {
    "duration": 10,
    "start_time": "2022-10-19T08:32:24.679Z"
   },
   {
    "duration": 123,
    "start_time": "2022-10-19T08:32:29.995Z"
   },
   {
    "duration": 113,
    "start_time": "2022-10-19T08:32:51.143Z"
   },
   {
    "duration": 5,
    "start_time": "2022-10-19T08:47:37.181Z"
   },
   {
    "duration": 9,
    "start_time": "2022-10-19T08:47:59.973Z"
   },
   {
    "duration": 4,
    "start_time": "2022-10-19T08:48:27.235Z"
   },
   {
    "duration": 71,
    "start_time": "2022-10-19T08:50:35.257Z"
   },
   {
    "duration": 13,
    "start_time": "2022-10-19T08:50:46.070Z"
   },
   {
    "duration": 12,
    "start_time": "2022-10-19T08:51:46.322Z"
   },
   {
    "duration": 122,
    "start_time": "2022-10-19T08:52:50.547Z"
   },
   {
    "duration": 16,
    "start_time": "2022-10-19T08:53:47.642Z"
   },
   {
    "duration": 14,
    "start_time": "2022-10-19T08:54:07.733Z"
   },
   {
    "duration": 73,
    "start_time": "2022-10-19T08:56:09.846Z"
   },
   {
    "duration": 75,
    "start_time": "2022-10-19T08:56:20.763Z"
   },
   {
    "duration": 68,
    "start_time": "2022-10-19T08:56:29.260Z"
   },
   {
    "duration": 16,
    "start_time": "2022-10-19T08:58:23.295Z"
   },
   {
    "duration": 107,
    "start_time": "2022-10-19T09:03:07.587Z"
   },
   {
    "duration": 131,
    "start_time": "2022-10-19T09:04:41.548Z"
   },
   {
    "duration": 117,
    "start_time": "2022-10-19T09:05:51.993Z"
   },
   {
    "duration": 103,
    "start_time": "2022-10-19T09:09:00.836Z"
   },
   {
    "duration": 54,
    "start_time": "2022-10-19T09:14:14.728Z"
   },
   {
    "duration": 180,
    "start_time": "2022-10-19T09:16:07.288Z"
   },
   {
    "duration": 172,
    "start_time": "2022-10-19T09:16:38.657Z"
   },
   {
    "duration": 1283,
    "start_time": "2022-10-19T09:16:57.366Z"
   },
   {
    "duration": 22,
    "start_time": "2022-10-19T09:16:58.651Z"
   },
   {
    "duration": 3,
    "start_time": "2022-10-19T09:16:58.675Z"
   },
   {
    "duration": 18,
    "start_time": "2022-10-19T09:16:58.680Z"
   },
   {
    "duration": 30,
    "start_time": "2022-10-19T09:16:58.700Z"
   },
   {
    "duration": 11,
    "start_time": "2022-10-19T09:16:58.732Z"
   },
   {
    "duration": 79,
    "start_time": "2022-10-19T09:16:58.745Z"
   },
   {
    "duration": 18,
    "start_time": "2022-10-19T09:16:58.826Z"
   },
   {
    "duration": 16,
    "start_time": "2022-10-19T09:16:58.847Z"
   },
   {
    "duration": 36,
    "start_time": "2022-10-19T09:16:58.865Z"
   },
   {
    "duration": 4,
    "start_time": "2022-10-19T09:16:58.903Z"
   },
   {
    "duration": 9,
    "start_time": "2022-10-19T09:16:58.909Z"
   },
   {
    "duration": 14,
    "start_time": "2022-10-19T09:16:58.919Z"
   },
   {
    "duration": 5,
    "start_time": "2022-10-19T09:16:58.935Z"
   },
   {
    "duration": 9,
    "start_time": "2022-10-19T09:16:58.942Z"
   },
   {
    "duration": 46,
    "start_time": "2022-10-19T09:16:58.952Z"
   },
   {
    "duration": 5,
    "start_time": "2022-10-19T09:16:58.999Z"
   },
   {
    "duration": 16,
    "start_time": "2022-10-19T09:16:59.006Z"
   },
   {
    "duration": 9,
    "start_time": "2022-10-19T09:16:59.023Z"
   },
   {
    "duration": 16,
    "start_time": "2022-10-19T09:16:59.033Z"
   },
   {
    "duration": 16,
    "start_time": "2022-10-19T09:16:59.050Z"
   },
   {
    "duration": 32,
    "start_time": "2022-10-19T09:16:59.068Z"
   },
   {
    "duration": 16,
    "start_time": "2022-10-19T09:16:59.101Z"
   },
   {
    "duration": 204,
    "start_time": "2022-10-19T09:16:59.119Z"
   },
   {
    "duration": 5,
    "start_time": "2022-10-19T09:16:59.325Z"
   },
   {
    "duration": 26,
    "start_time": "2022-10-19T09:16:59.331Z"
   },
   {
    "duration": 1778,
    "start_time": "2022-10-19T09:16:59.359Z"
   },
   {
    "duration": 6,
    "start_time": "2022-10-19T09:17:01.140Z"
   },
   {
    "duration": 27,
    "start_time": "2022-10-19T09:17:01.148Z"
   },
   {
    "duration": 35,
    "start_time": "2022-10-19T09:17:01.177Z"
   },
   {
    "duration": 17,
    "start_time": "2022-10-19T09:17:01.213Z"
   },
   {
    "duration": 1854,
    "start_time": "2022-10-19T09:17:01.232Z"
   },
   {
    "duration": 14,
    "start_time": "2022-10-19T09:17:03.088Z"
   },
   {
    "duration": 124,
    "start_time": "2022-10-19T09:17:03.104Z"
   },
   {
    "duration": 286,
    "start_time": "2022-10-19T09:17:03.229Z"
   },
   {
    "duration": 12,
    "start_time": "2022-10-19T09:20:37.358Z"
   },
   {
    "duration": 9,
    "start_time": "2022-10-19T09:23:08.533Z"
   },
   {
    "duration": 8,
    "start_time": "2022-10-19T09:24:51.672Z"
   },
   {
    "duration": 1893,
    "start_time": "2022-10-19T09:28:18.734Z"
   },
   {
    "duration": 10,
    "start_time": "2022-10-19T09:29:05.730Z"
   },
   {
    "duration": 10,
    "start_time": "2022-10-19T09:29:27.429Z"
   },
   {
    "duration": 26,
    "start_time": "2022-10-19T09:32:30.307Z"
   },
   {
    "duration": 16,
    "start_time": "2022-10-19T09:34:45.023Z"
   },
   {
    "duration": 207,
    "start_time": "2022-10-19T09:35:22.502Z"
   },
   {
    "duration": 211,
    "start_time": "2022-10-19T09:35:58.518Z"
   },
   {
    "duration": 214,
    "start_time": "2022-10-19T09:36:30.140Z"
   },
   {
    "duration": 18,
    "start_time": "2022-10-19T09:41:51.031Z"
   },
   {
    "duration": 294,
    "start_time": "2022-10-19T09:42:19.924Z"
   },
   {
    "duration": 26,
    "start_time": "2022-10-19T09:46:52.247Z"
   },
   {
    "duration": 12,
    "start_time": "2022-10-19T09:47:16.643Z"
   },
   {
    "duration": 33,
    "start_time": "2022-10-19T09:47:45.750Z"
   },
   {
    "duration": 95,
    "start_time": "2022-10-19T09:53:15.039Z"
   },
   {
    "duration": 72,
    "start_time": "2022-10-19T09:53:24.309Z"
   },
   {
    "duration": 160,
    "start_time": "2022-10-19T09:53:39.246Z"
   },
   {
    "duration": 147,
    "start_time": "2022-10-19T09:54:09.771Z"
   },
   {
    "duration": 151,
    "start_time": "2022-10-19T09:56:40.965Z"
   },
   {
    "duration": 15,
    "start_time": "2022-10-19T09:58:21.061Z"
   },
   {
    "duration": 9,
    "start_time": "2022-10-19T10:01:49.764Z"
   },
   {
    "duration": 10,
    "start_time": "2022-10-19T10:02:25.091Z"
   },
   {
    "duration": 136,
    "start_time": "2022-10-19T10:02:37.821Z"
   },
   {
    "duration": 148,
    "start_time": "2022-10-19T10:02:42.905Z"
   },
   {
    "duration": 258,
    "start_time": "2022-10-19T10:03:31.288Z"
   },
   {
    "duration": 16,
    "start_time": "2022-10-19T10:03:40.093Z"
   },
   {
    "duration": 16,
    "start_time": "2022-10-19T10:07:15.734Z"
   },
   {
    "duration": 203,
    "start_time": "2022-10-19T10:16:04.480Z"
   },
   {
    "duration": 138,
    "start_time": "2022-10-19T10:16:07.345Z"
   },
   {
    "duration": 16,
    "start_time": "2022-10-19T10:16:11.246Z"
   },
   {
    "duration": 96,
    "start_time": "2022-10-19T10:17:00.570Z"
   },
   {
    "duration": 107,
    "start_time": "2022-10-19T10:17:08.186Z"
   },
   {
    "duration": 120,
    "start_time": "2022-10-19T10:17:14.945Z"
   },
   {
    "duration": 125,
    "start_time": "2022-10-19T10:17:17.877Z"
   },
   {
    "duration": 16,
    "start_time": "2022-10-19T10:17:20.085Z"
   },
   {
    "duration": 135,
    "start_time": "2022-10-19T10:18:15.445Z"
   },
   {
    "duration": 136,
    "start_time": "2022-10-19T10:18:24.076Z"
   },
   {
    "duration": 17,
    "start_time": "2022-10-19T10:18:35.584Z"
   },
   {
    "duration": 14,
    "start_time": "2022-10-19T10:18:40.968Z"
   },
   {
    "duration": 132,
    "start_time": "2022-10-19T10:18:56.380Z"
   },
   {
    "duration": 143,
    "start_time": "2022-10-19T10:19:07.293Z"
   },
   {
    "duration": 15,
    "start_time": "2022-10-19T10:19:16.957Z"
   },
   {
    "duration": 129,
    "start_time": "2022-10-19T10:19:37.836Z"
   },
   {
    "duration": 119,
    "start_time": "2022-10-19T10:19:45.674Z"
   },
   {
    "duration": 260,
    "start_time": "2022-10-19T10:21:21.463Z"
   },
   {
    "duration": 261,
    "start_time": "2022-10-19T10:22:00.276Z"
   },
   {
    "duration": 15,
    "start_time": "2022-10-19T10:22:19.784Z"
   },
   {
    "duration": 320,
    "start_time": "2022-10-19T10:23:00.694Z"
   },
   {
    "duration": 14,
    "start_time": "2022-10-19T10:23:42.166Z"
   },
   {
    "duration": 13,
    "start_time": "2022-10-19T10:31:59.061Z"
   },
   {
    "duration": 18,
    "start_time": "2022-10-19T10:32:14.763Z"
   },
   {
    "duration": 23,
    "start_time": "2022-10-19T10:36:32.359Z"
   },
   {
    "duration": 21,
    "start_time": "2022-10-19T10:37:10.319Z"
   },
   {
    "duration": 27,
    "start_time": "2022-10-19T10:39:17.850Z"
   },
   {
    "duration": 206,
    "start_time": "2022-10-19T10:41:57.851Z"
   },
   {
    "duration": 201,
    "start_time": "2022-10-19T10:42:13.885Z"
   },
   {
    "duration": 210,
    "start_time": "2022-10-19T10:42:34.482Z"
   },
   {
    "duration": 11,
    "start_time": "2022-10-19T10:53:24.758Z"
   },
   {
    "duration": 7,
    "start_time": "2022-10-19T10:53:35.648Z"
   },
   {
    "duration": 7,
    "start_time": "2022-10-19T10:55:19.894Z"
   },
   {
    "duration": 6,
    "start_time": "2022-10-19T10:55:43.270Z"
   },
   {
    "duration": 196,
    "start_time": "2022-10-19T11:01:13.579Z"
   },
   {
    "duration": 178,
    "start_time": "2022-10-19T11:01:20.670Z"
   },
   {
    "duration": 270,
    "start_time": "2022-10-19T11:02:24.427Z"
   },
   {
    "duration": 12,
    "start_time": "2022-10-19T11:04:44.429Z"
   },
   {
    "duration": 13,
    "start_time": "2022-10-19T11:04:55.523Z"
   },
   {
    "duration": 67,
    "start_time": "2022-10-19T11:05:53.876Z"
   },
   {
    "duration": 157,
    "start_time": "2022-10-19T11:05:59.758Z"
   },
   {
    "duration": 52,
    "start_time": "2022-10-19T11:07:59.309Z"
   },
   {
    "duration": 10,
    "start_time": "2022-10-19T11:08:44.910Z"
   },
   {
    "duration": 4468,
    "start_time": "2022-10-19T11:09:12.028Z"
   },
   {
    "duration": 4681,
    "start_time": "2022-10-19T11:14:47.910Z"
   },
   {
    "duration": 106,
    "start_time": "2022-10-19T13:28:37.263Z"
   },
   {
    "duration": 121,
    "start_time": "2022-10-19T13:28:54.987Z"
   },
   {
    "duration": 140,
    "start_time": "2022-10-19T13:30:08.148Z"
   },
   {
    "duration": 109,
    "start_time": "2022-10-19T13:30:44.871Z"
   },
   {
    "duration": 93,
    "start_time": "2022-10-19T13:35:36.575Z"
   },
   {
    "duration": 174,
    "start_time": "2022-10-19T13:37:40.481Z"
   },
   {
    "duration": 82,
    "start_time": "2022-10-19T13:38:41.376Z"
   },
   {
    "duration": 6,
    "start_time": "2022-10-19T13:38:57.723Z"
   },
   {
    "duration": 283,
    "start_time": "2022-10-19T13:40:47.585Z"
   },
   {
    "duration": 270,
    "start_time": "2022-10-19T13:41:09.524Z"
   },
   {
    "duration": 323,
    "start_time": "2022-10-19T13:41:23.614Z"
   },
   {
    "duration": 315,
    "start_time": "2022-10-19T13:41:46.157Z"
   },
   {
    "duration": 330,
    "start_time": "2022-10-19T13:41:52.384Z"
   },
   {
    "duration": 291,
    "start_time": "2022-10-19T13:42:13.746Z"
   },
   {
    "duration": 306,
    "start_time": "2022-10-19T13:42:18.223Z"
   },
   {
    "duration": 369,
    "start_time": "2022-10-19T13:42:23.553Z"
   },
   {
    "duration": 533,
    "start_time": "2022-10-19T13:44:36.371Z"
   },
   {
    "duration": 261,
    "start_time": "2022-10-19T13:44:42.027Z"
   },
   {
    "duration": 346,
    "start_time": "2022-10-19T13:44:47.299Z"
   },
   {
    "duration": 439,
    "start_time": "2022-10-19T13:44:58.077Z"
   },
   {
    "duration": 380,
    "start_time": "2022-10-19T13:45:22.586Z"
   },
   {
    "duration": 526,
    "start_time": "2022-10-19T13:47:54.928Z"
   },
   {
    "duration": 370,
    "start_time": "2022-10-19T13:48:09.666Z"
   },
   {
    "duration": 338,
    "start_time": "2022-10-19T13:49:43.680Z"
   },
   {
    "duration": 4,
    "start_time": "2022-10-19T14:21:33.475Z"
   },
   {
    "duration": 76,
    "start_time": "2022-10-19T14:30:26.699Z"
   },
   {
    "duration": 11,
    "start_time": "2022-10-19T14:30:39.680Z"
   },
   {
    "duration": 5,
    "start_time": "2022-10-19T14:30:51.484Z"
   },
   {
    "duration": 16,
    "start_time": "2022-10-19T14:30:52.985Z"
   },
   {
    "duration": 16,
    "start_time": "2022-10-19T14:31:24.302Z"
   },
   {
    "duration": 1226,
    "start_time": "2022-10-19T14:42:10.053Z"
   },
   {
    "duration": 19,
    "start_time": "2022-10-19T14:42:11.281Z"
   },
   {
    "duration": 2,
    "start_time": "2022-10-19T14:42:11.302Z"
   },
   {
    "duration": 15,
    "start_time": "2022-10-19T14:42:11.306Z"
   },
   {
    "duration": 29,
    "start_time": "2022-10-19T14:42:11.323Z"
   },
   {
    "duration": 8,
    "start_time": "2022-10-19T14:42:11.354Z"
   },
   {
    "duration": 73,
    "start_time": "2022-10-19T14:42:11.364Z"
   },
   {
    "duration": 15,
    "start_time": "2022-10-19T14:42:11.438Z"
   },
   {
    "duration": 15,
    "start_time": "2022-10-19T14:42:11.455Z"
   },
   {
    "duration": 34,
    "start_time": "2022-10-19T14:42:11.472Z"
   },
   {
    "duration": 6,
    "start_time": "2022-10-19T14:42:11.508Z"
   },
   {
    "duration": 15,
    "start_time": "2022-10-19T14:42:11.516Z"
   },
   {
    "duration": 18,
    "start_time": "2022-10-19T14:42:11.533Z"
   },
   {
    "duration": 5,
    "start_time": "2022-10-19T14:42:11.553Z"
   },
   {
    "duration": 13,
    "start_time": "2022-10-19T14:42:11.559Z"
   },
   {
    "duration": 33,
    "start_time": "2022-10-19T14:42:11.574Z"
   },
   {
    "duration": 6,
    "start_time": "2022-10-19T14:42:11.609Z"
   },
   {
    "duration": 12,
    "start_time": "2022-10-19T14:42:11.617Z"
   },
   {
    "duration": 10,
    "start_time": "2022-10-19T14:42:11.631Z"
   },
   {
    "duration": 18,
    "start_time": "2022-10-19T14:42:11.643Z"
   },
   {
    "duration": 46,
    "start_time": "2022-10-19T14:42:11.663Z"
   },
   {
    "duration": 6,
    "start_time": "2022-10-19T14:42:11.710Z"
   },
   {
    "duration": 17,
    "start_time": "2022-10-19T14:42:11.718Z"
   },
   {
    "duration": 223,
    "start_time": "2022-10-19T14:42:11.736Z"
   },
   {
    "duration": 6,
    "start_time": "2022-10-19T14:42:11.961Z"
   },
   {
    "duration": 34,
    "start_time": "2022-10-19T14:42:11.968Z"
   },
   {
    "duration": 1831,
    "start_time": "2022-10-19T14:42:12.003Z"
   },
   {
    "duration": 7,
    "start_time": "2022-10-19T14:42:13.838Z"
   },
   {
    "duration": 25,
    "start_time": "2022-10-19T14:42:13.846Z"
   },
   {
    "duration": 32,
    "start_time": "2022-10-19T14:42:13.873Z"
   },
   {
    "duration": 10,
    "start_time": "2022-10-19T14:42:13.907Z"
   },
   {
    "duration": 1795,
    "start_time": "2022-10-19T14:42:13.919Z"
   },
   {
    "duration": 35,
    "start_time": "2022-10-19T14:42:15.716Z"
   },
   {
    "duration": 215,
    "start_time": "2022-10-19T14:42:15.752Z"
   },
   {
    "duration": 300,
    "start_time": "2022-10-19T14:42:15.969Z"
   },
   {
    "duration": 33,
    "start_time": "2022-10-19T14:42:16.271Z"
   },
   {
    "duration": 31,
    "start_time": "2022-10-19T14:42:16.306Z"
   },
   {
    "duration": 290,
    "start_time": "2022-10-19T14:42:16.339Z"
   },
   {
    "duration": 15,
    "start_time": "2022-10-19T14:42:16.630Z"
   },
   {
    "duration": 309,
    "start_time": "2022-10-19T14:42:16.647Z"
   },
   {
    "duration": 15,
    "start_time": "2022-10-19T14:42:16.958Z"
   },
   {
    "duration": 266,
    "start_time": "2022-10-19T14:42:16.975Z"
   },
   {
    "duration": 17,
    "start_time": "2022-10-19T14:42:17.242Z"
   },
   {
    "duration": 32,
    "start_time": "2022-10-19T14:42:17.261Z"
   },
   {
    "duration": 42,
    "start_time": "2022-10-19T14:42:17.297Z"
   },
   {
    "duration": 211,
    "start_time": "2022-10-19T14:42:17.341Z"
   },
   {
    "duration": 469,
    "start_time": "2022-10-19T14:42:17.554Z"
   },
   {
    "duration": 462,
    "start_time": "2022-10-19T14:42:18.025Z"
   },
   {
    "duration": 371,
    "start_time": "2022-10-19T14:42:18.488Z"
   },
   {
    "duration": 4,
    "start_time": "2022-10-19T14:42:18.861Z"
   },
   {
    "duration": 37,
    "start_time": "2022-10-19T14:42:18.866Z"
   },
   {
    "duration": 34,
    "start_time": "2022-10-19T14:42:18.905Z"
   },
   {
    "duration": 14,
    "start_time": "2022-10-19T14:44:34.617Z"
   },
   {
    "duration": 16,
    "start_time": "2022-10-19T14:45:16.969Z"
   },
   {
    "duration": 15,
    "start_time": "2022-10-19T14:45:33.047Z"
   },
   {
    "duration": 1449,
    "start_time": "2022-10-20T06:46:36.139Z"
   },
   {
    "duration": 19,
    "start_time": "2022-10-20T06:46:37.590Z"
   },
   {
    "duration": 3,
    "start_time": "2022-10-20T06:46:37.610Z"
   },
   {
    "duration": 16,
    "start_time": "2022-10-20T06:46:37.614Z"
   },
   {
    "duration": 27,
    "start_time": "2022-10-20T06:46:37.633Z"
   },
   {
    "duration": 36,
    "start_time": "2022-10-20T06:46:37.662Z"
   },
   {
    "duration": 50,
    "start_time": "2022-10-20T06:46:37.700Z"
   },
   {
    "duration": 16,
    "start_time": "2022-10-20T06:46:37.751Z"
   },
   {
    "duration": 34,
    "start_time": "2022-10-20T06:46:37.769Z"
   },
   {
    "duration": 14,
    "start_time": "2022-10-20T06:46:37.805Z"
   },
   {
    "duration": 5,
    "start_time": "2022-10-20T06:46:37.821Z"
   },
   {
    "duration": 9,
    "start_time": "2022-10-20T06:46:37.828Z"
   },
   {
    "duration": 12,
    "start_time": "2022-10-20T06:46:37.838Z"
   },
   {
    "duration": 5,
    "start_time": "2022-10-20T06:46:37.854Z"
   },
   {
    "duration": 7,
    "start_time": "2022-10-20T06:46:37.896Z"
   },
   {
    "duration": 13,
    "start_time": "2022-10-20T06:46:37.905Z"
   },
   {
    "duration": 5,
    "start_time": "2022-10-20T06:46:37.920Z"
   },
   {
    "duration": 9,
    "start_time": "2022-10-20T06:46:37.927Z"
   },
   {
    "duration": 9,
    "start_time": "2022-10-20T06:46:37.937Z"
   },
   {
    "duration": 49,
    "start_time": "2022-10-20T06:46:37.947Z"
   },
   {
    "duration": 18,
    "start_time": "2022-10-20T06:46:37.998Z"
   },
   {
    "duration": 6,
    "start_time": "2022-10-20T06:46:38.018Z"
   },
   {
    "duration": 21,
    "start_time": "2022-10-20T06:46:38.026Z"
   },
   {
    "duration": 195,
    "start_time": "2022-10-20T06:46:38.049Z"
   },
   {
    "duration": 6,
    "start_time": "2022-10-20T06:46:38.246Z"
   },
   {
    "duration": 19,
    "start_time": "2022-10-20T06:46:38.253Z"
   },
   {
    "duration": 1638,
    "start_time": "2022-10-20T06:46:38.274Z"
   },
   {
    "duration": 6,
    "start_time": "2022-10-20T06:46:39.914Z"
   },
   {
    "duration": 26,
    "start_time": "2022-10-20T06:46:39.921Z"
   },
   {
    "duration": 13,
    "start_time": "2022-10-20T06:46:39.949Z"
   },
   {
    "duration": 6,
    "start_time": "2022-10-20T06:46:39.963Z"
   },
   {
    "duration": 1665,
    "start_time": "2022-10-20T06:46:39.971Z"
   },
   {
    "duration": 24,
    "start_time": "2022-10-20T06:46:41.637Z"
   },
   {
    "duration": 188,
    "start_time": "2022-10-20T06:46:41.662Z"
   },
   {
    "duration": 266,
    "start_time": "2022-10-20T06:46:41.851Z"
   },
   {
    "duration": 24,
    "start_time": "2022-10-20T06:46:42.118Z"
   },
   {
    "duration": 30,
    "start_time": "2022-10-20T06:46:42.143Z"
   },
   {
    "duration": 255,
    "start_time": "2022-10-20T06:46:42.175Z"
   },
   {
    "duration": 13,
    "start_time": "2022-10-20T06:46:42.432Z"
   },
   {
    "duration": 253,
    "start_time": "2022-10-20T06:46:42.447Z"
   },
   {
    "duration": 17,
    "start_time": "2022-10-20T06:46:42.704Z"
   },
   {
    "duration": 254,
    "start_time": "2022-10-20T06:46:42.722Z"
   },
   {
    "duration": 19,
    "start_time": "2022-10-20T06:46:42.977Z"
   },
   {
    "duration": 20,
    "start_time": "2022-10-20T06:46:42.997Z"
   },
   {
    "duration": 24,
    "start_time": "2022-10-20T06:46:43.018Z"
   },
   {
    "duration": 198,
    "start_time": "2022-10-20T06:46:43.043Z"
   },
   {
    "duration": 404,
    "start_time": "2022-10-20T06:46:43.243Z"
   },
   {
    "duration": 350,
    "start_time": "2022-10-20T06:46:43.648Z"
   },
   {
    "duration": 311,
    "start_time": "2022-10-20T06:46:43.999Z"
   },
   {
    "duration": 4,
    "start_time": "2022-10-20T06:46:44.312Z"
   },
   {
    "duration": 15,
    "start_time": "2022-10-20T06:46:44.318Z"
   },
   {
    "duration": 13,
    "start_time": "2022-10-20T06:46:44.334Z"
   },
   {
    "duration": 90,
    "start_time": "2022-10-20T08:09:59.678Z"
   },
   {
    "duration": 1320,
    "start_time": "2022-10-20T08:13:01.176Z"
   },
   {
    "duration": 19,
    "start_time": "2022-10-20T08:13:02.990Z"
   },
   {
    "duration": 77,
    "start_time": "2022-10-20T08:14:50.044Z"
   },
   {
    "duration": 143,
    "start_time": "2022-10-20T12:07:48.123Z"
   },
   {
    "duration": 126,
    "start_time": "2022-10-20T12:10:27.651Z"
   },
   {
    "duration": 72,
    "start_time": "2022-10-20T12:16:38.717Z"
   },
   {
    "duration": 119,
    "start_time": "2022-10-20T12:24:10.197Z"
   },
   {
    "duration": 77,
    "start_time": "2022-10-20T12:26:28.716Z"
   },
   {
    "duration": 79,
    "start_time": "2022-10-20T12:27:25.906Z"
   },
   {
    "duration": 61,
    "start_time": "2022-10-20T14:24:03.203Z"
   },
   {
    "duration": 41,
    "start_time": "2022-10-21T08:05:36.744Z"
   },
   {
    "duration": 1307,
    "start_time": "2022-10-21T08:05:42.444Z"
   },
   {
    "duration": 18,
    "start_time": "2022-10-21T08:05:43.752Z"
   },
   {
    "duration": 2,
    "start_time": "2022-10-21T08:05:43.771Z"
   },
   {
    "duration": 16,
    "start_time": "2022-10-21T08:05:43.775Z"
   },
   {
    "duration": 26,
    "start_time": "2022-10-21T08:05:43.792Z"
   },
   {
    "duration": 8,
    "start_time": "2022-10-21T08:05:43.820Z"
   },
   {
    "duration": 49,
    "start_time": "2022-10-21T08:05:43.830Z"
   },
   {
    "duration": 31,
    "start_time": "2022-10-21T08:05:43.880Z"
   },
   {
    "duration": 19,
    "start_time": "2022-10-21T08:05:43.913Z"
   },
   {
    "duration": 15,
    "start_time": "2022-10-21T08:05:43.935Z"
   },
   {
    "duration": 10,
    "start_time": "2022-10-21T08:05:43.951Z"
   },
   {
    "duration": 14,
    "start_time": "2022-10-21T08:05:43.962Z"
   },
   {
    "duration": 30,
    "start_time": "2022-10-21T08:05:43.978Z"
   },
   {
    "duration": 15,
    "start_time": "2022-10-21T08:05:44.010Z"
   },
   {
    "duration": 8,
    "start_time": "2022-10-21T08:05:44.026Z"
   },
   {
    "duration": 19,
    "start_time": "2022-10-21T08:05:44.035Z"
   },
   {
    "duration": 5,
    "start_time": "2022-10-21T08:05:44.056Z"
   },
   {
    "duration": 29,
    "start_time": "2022-10-21T08:05:44.062Z"
   },
   {
    "duration": 21,
    "start_time": "2022-10-21T08:05:44.094Z"
   },
   {
    "duration": 22,
    "start_time": "2022-10-21T08:05:44.117Z"
   },
   {
    "duration": 16,
    "start_time": "2022-10-21T08:05:44.140Z"
   },
   {
    "duration": 6,
    "start_time": "2022-10-21T08:05:44.164Z"
   },
   {
    "duration": 22,
    "start_time": "2022-10-21T08:05:44.171Z"
   },
   {
    "duration": 190,
    "start_time": "2022-10-21T08:05:44.195Z"
   },
   {
    "duration": 12,
    "start_time": "2022-10-21T08:05:44.389Z"
   },
   {
    "duration": 24,
    "start_time": "2022-10-21T08:05:44.404Z"
   },
   {
    "duration": 1683,
    "start_time": "2022-10-21T08:05:44.430Z"
   },
   {
    "duration": 6,
    "start_time": "2022-10-21T08:05:46.116Z"
   },
   {
    "duration": 25,
    "start_time": "2022-10-21T08:05:46.123Z"
   },
   {
    "duration": 12,
    "start_time": "2022-10-21T08:05:46.149Z"
   },
   {
    "duration": 6,
    "start_time": "2022-10-21T08:05:46.163Z"
   },
   {
    "duration": 1609,
    "start_time": "2022-10-21T08:05:46.171Z"
   },
   {
    "duration": 32,
    "start_time": "2022-10-21T08:05:47.782Z"
   },
   {
    "duration": 184,
    "start_time": "2022-10-21T08:05:47.816Z"
   },
   {
    "duration": 258,
    "start_time": "2022-10-21T08:05:48.001Z"
   },
   {
    "duration": 22,
    "start_time": "2022-10-21T08:05:48.261Z"
   },
   {
    "duration": 39,
    "start_time": "2022-10-21T08:05:48.285Z"
   },
   {
    "duration": 266,
    "start_time": "2022-10-21T08:05:48.325Z"
   },
   {
    "duration": 13,
    "start_time": "2022-10-21T08:05:48.600Z"
   },
   {
    "duration": 246,
    "start_time": "2022-10-21T08:05:48.615Z"
   },
   {
    "duration": 12,
    "start_time": "2022-10-21T08:05:48.863Z"
   },
   {
    "duration": 226,
    "start_time": "2022-10-21T08:05:48.877Z"
   },
   {
    "duration": 13,
    "start_time": "2022-10-21T08:05:49.105Z"
   },
   {
    "duration": 27,
    "start_time": "2022-10-21T08:05:49.120Z"
   },
   {
    "duration": 25,
    "start_time": "2022-10-21T08:05:49.148Z"
   },
   {
    "duration": 170,
    "start_time": "2022-10-21T08:05:49.175Z"
   },
   {
    "duration": 412,
    "start_time": "2022-10-21T08:05:49.347Z"
   },
   {
    "duration": 345,
    "start_time": "2022-10-21T08:05:49.761Z"
   },
   {
    "duration": 325,
    "start_time": "2022-10-21T08:05:50.108Z"
   },
   {
    "duration": 5,
    "start_time": "2022-10-21T08:05:50.434Z"
   },
   {
    "duration": 32,
    "start_time": "2022-10-21T08:05:50.440Z"
   },
   {
    "duration": 17,
    "start_time": "2022-10-21T08:05:50.474Z"
   }
  ],
  "kernelspec": {
   "display_name": "Python 3 (ipykernel)",
   "language": "python",
   "name": "python3"
  },
  "language_info": {
   "codemirror_mode": {
    "name": "ipython",
    "version": 3
   },
   "file_extension": ".py",
   "mimetype": "text/x-python",
   "name": "python",
   "nbconvert_exporter": "python",
   "pygments_lexer": "ipython3",
   "version": "3.9.5"
  },
  "toc": {
   "base_numbering": 1,
   "nav_menu": {},
   "number_sections": true,
   "sideBar": true,
   "skip_h1_title": true,
   "title_cell": "Table of Contents",
   "title_sidebar": "Contents",
   "toc_cell": false,
   "toc_position": {},
   "toc_section_display": true,
   "toc_window_display": false
  }
 },
 "nbformat": 4,
 "nbformat_minor": 2
}
