{
 "cells": [
  {
   "cell_type": "markdown",
   "metadata": {},
   "source": [
    "# Рекомендация тарифов"
   ]
  },
  {
   "cell_type": "markdown",
   "metadata": {},
   "source": [
    "## Откройте и изучите файл"
   ]
  },
  {
   "cell_type": "code",
   "execution_count": 8,
   "metadata": {},
   "outputs": [
    {
     "data": {
      "text/html": [
       "<div>\n",
       "<style scoped>\n",
       "    .dataframe tbody tr th:only-of-type {\n",
       "        vertical-align: middle;\n",
       "    }\n",
       "\n",
       "    .dataframe tbody tr th {\n",
       "        vertical-align: top;\n",
       "    }\n",
       "\n",
       "    .dataframe thead th {\n",
       "        text-align: right;\n",
       "    }\n",
       "</style>\n",
       "<table border=\"1\" class=\"dataframe\">\n",
       "  <thead>\n",
       "    <tr style=\"text-align: right;\">\n",
       "      <th></th>\n",
       "      <th>calls</th>\n",
       "      <th>minutes</th>\n",
       "      <th>messages</th>\n",
       "      <th>mb_used</th>\n",
       "      <th>is_ultra</th>\n",
       "    </tr>\n",
       "  </thead>\n",
       "  <tbody>\n",
       "    <tr>\n",
       "      <th>0</th>\n",
       "      <td>40.0</td>\n",
       "      <td>311.90</td>\n",
       "      <td>83.0</td>\n",
       "      <td>19915.42</td>\n",
       "      <td>0</td>\n",
       "    </tr>\n",
       "    <tr>\n",
       "      <th>1</th>\n",
       "      <td>85.0</td>\n",
       "      <td>516.75</td>\n",
       "      <td>56.0</td>\n",
       "      <td>22696.96</td>\n",
       "      <td>0</td>\n",
       "    </tr>\n",
       "    <tr>\n",
       "      <th>2</th>\n",
       "      <td>77.0</td>\n",
       "      <td>467.66</td>\n",
       "      <td>86.0</td>\n",
       "      <td>21060.45</td>\n",
       "      <td>0</td>\n",
       "    </tr>\n",
       "    <tr>\n",
       "      <th>3</th>\n",
       "      <td>106.0</td>\n",
       "      <td>745.53</td>\n",
       "      <td>81.0</td>\n",
       "      <td>8437.39</td>\n",
       "      <td>1</td>\n",
       "    </tr>\n",
       "    <tr>\n",
       "      <th>4</th>\n",
       "      <td>66.0</td>\n",
       "      <td>418.74</td>\n",
       "      <td>1.0</td>\n",
       "      <td>14502.75</td>\n",
       "      <td>0</td>\n",
       "    </tr>\n",
       "    <tr>\n",
       "      <th>5</th>\n",
       "      <td>58.0</td>\n",
       "      <td>344.56</td>\n",
       "      <td>21.0</td>\n",
       "      <td>15823.37</td>\n",
       "      <td>0</td>\n",
       "    </tr>\n",
       "    <tr>\n",
       "      <th>6</th>\n",
       "      <td>57.0</td>\n",
       "      <td>431.64</td>\n",
       "      <td>20.0</td>\n",
       "      <td>3738.90</td>\n",
       "      <td>1</td>\n",
       "    </tr>\n",
       "    <tr>\n",
       "      <th>7</th>\n",
       "      <td>15.0</td>\n",
       "      <td>132.40</td>\n",
       "      <td>6.0</td>\n",
       "      <td>21911.60</td>\n",
       "      <td>0</td>\n",
       "    </tr>\n",
       "    <tr>\n",
       "      <th>8</th>\n",
       "      <td>7.0</td>\n",
       "      <td>43.39</td>\n",
       "      <td>3.0</td>\n",
       "      <td>2538.67</td>\n",
       "      <td>1</td>\n",
       "    </tr>\n",
       "    <tr>\n",
       "      <th>9</th>\n",
       "      <td>90.0</td>\n",
       "      <td>665.41</td>\n",
       "      <td>38.0</td>\n",
       "      <td>17358.61</td>\n",
       "      <td>0</td>\n",
       "    </tr>\n",
       "  </tbody>\n",
       "</table>\n",
       "</div>"
      ],
      "text/plain": [
       "   calls  minutes  messages   mb_used  is_ultra\n",
       "0   40.0   311.90      83.0  19915.42         0\n",
       "1   85.0   516.75      56.0  22696.96         0\n",
       "2   77.0   467.66      86.0  21060.45         0\n",
       "3  106.0   745.53      81.0   8437.39         1\n",
       "4   66.0   418.74       1.0  14502.75         0\n",
       "5   58.0   344.56      21.0  15823.37         0\n",
       "6   57.0   431.64      20.0   3738.90         1\n",
       "7   15.0   132.40       6.0  21911.60         0\n",
       "8    7.0    43.39       3.0   2538.67         1\n",
       "9   90.0   665.41      38.0  17358.61         0"
      ]
     },
     "execution_count": 8,
     "metadata": {},
     "output_type": "execute_result"
    }
   ],
   "source": [
    "import pandas as pd\n",
    "from sklearn.tree import DecisionTreeRegressor\n",
    "from sklearn.ensemble import RandomForestRegressor\n",
    "from sklearn.linear_model import LinearRegression\n",
    "from sklearn.model_selection import train_test_split\n",
    "from sklearn.metrics import mean_squared_error\n",
    "from sklearn.tree import DecisionTreeClassifier\n",
    "from sklearn.metrics import accuracy_score\n",
    "from sklearn.ensemble import RandomForestClassifier\n",
    "from sklearn.model_selection import train_test_split\n",
    "from joblib import dump\n",
    "from sklearn.linear_model import LogisticRegression \n",
    "df = pd.read_csv('/datasets/users_behavior.csv')\n",
    "df.head(10)"
   ]
  },
  {
   "cell_type": "code",
   "execution_count": 9,
   "metadata": {},
   "outputs": [
    {
     "name": "stdout",
     "output_type": "stream",
     "text": [
      "<class 'pandas.core.frame.DataFrame'>\n",
      "RangeIndex: 3214 entries, 0 to 3213\n",
      "Data columns (total 5 columns):\n",
      " #   Column    Non-Null Count  Dtype  \n",
      "---  ------    --------------  -----  \n",
      " 0   calls     3214 non-null   float64\n",
      " 1   minutes   3214 non-null   float64\n",
      " 2   messages  3214 non-null   float64\n",
      " 3   mb_used   3214 non-null   float64\n",
      " 4   is_ultra  3214 non-null   int64  \n",
      "dtypes: float64(4), int64(1)\n",
      "memory usage: 125.7 KB\n"
     ]
    }
   ],
   "source": [
    "df.info()"
   ]
  },
  {
   "cell_type": "code",
   "execution_count": 10,
   "metadata": {},
   "outputs": [
    {
     "data": {
      "text/plain": [
       "calls       0\n",
       "minutes     0\n",
       "messages    0\n",
       "mb_used     0\n",
       "is_ultra    0\n",
       "dtype: int64"
      ]
     },
     "execution_count": 10,
     "metadata": {},
     "output_type": "execute_result"
    }
   ],
   "source": [
    "df.isna().sum()"
   ]
  },
  {
   "cell_type": "code",
   "execution_count": 11,
   "metadata": {},
   "outputs": [
    {
     "data": {
      "text/plain": [
       "0"
      ]
     },
     "execution_count": 11,
     "metadata": {},
     "output_type": "execute_result"
    }
   ],
   "source": [
    "df.duplicated().sum()"
   ]
  },
  {
   "cell_type": "markdown",
   "metadata": {},
   "source": [
    "Вывод: все библиотеки загрузили, файл открыли. Изучили: с типами данных все в порядке, пропусков нет, дубликатов нет. Можно приступать к следующему шагу проекта - разбивка данных на выборки."
   ]
  },
  {
   "cell_type": "markdown",
   "metadata": {},
   "source": [
    "## Разбейте данные на выборки"
   ]
  },
  {
   "cell_type": "markdown",
   "metadata": {},
   "source": [
    "Разобьем данные на выборки: Обучающую, валидационную, тестовую в соотношении 60-20-20 соотвественно."
   ]
  },
  {
   "cell_type": "code",
   "execution_count": 12,
   "metadata": {},
   "outputs": [
    {
     "name": "stdout",
     "output_type": "stream",
     "text": [
      "(1928, 4) (643, 4) (643, 4)\n",
      "(1928,) (643,) (643,)\n"
     ]
    }
   ],
   "source": [
    "\n",
    "features = df.drop(['is_ultra'], axis=1)\n",
    "target = df['is_ultra']\n",
    "# делим выборку на train, valid на 0,6 и 0,4 соответственно\n",
    "features_train, features_valid, target_train, target_valid= train_test_split(features,target, test_size=0.4, random_state=12345,stratify=target)\n",
    "# делим выборку valid на valid и test 0,4 делим пополам\n",
    "features_valid, features_test, target_valid, target_test = train_test_split(features_valid,target_valid, test_size=0.5, random_state=12345,stratify=target_valid)\n",
    "\n",
    "\n",
    "print(features_train.shape, features_valid.shape, features_test.shape)\n",
    "print(target_train.shape, target_valid.shape, target_test.shape)"
   ]
  },
  {
   "cell_type": "markdown",
   "metadata": {},
   "source": [
    "## Исследуйте модели"
   ]
  },
  {
   "cell_type": "markdown",
   "metadata": {},
   "source": [
    "Исследуем модели:\n",
    "1 Дерево\n",
    "2 Случайный лес\n",
    "3 Логическая регрессия"
   ]
  },
  {
   "cell_type": "markdown",
   "metadata": {},
   "source": [
    "Исследуем модель Дерево"
   ]
  },
  {
   "cell_type": "code",
   "execution_count": 13,
   "metadata": {},
   "outputs": [
    {
     "name": "stdout",
     "output_type": "stream",
     "text": [
      "max_depth = 1 : 0.7402799377916018\n",
      "max_depth = 2 : 0.7729393468118196\n",
      "max_depth = 3 : 0.7776049766718507\n",
      "max_depth = 4 : 0.7542768273716952\n",
      "max_depth = 5 : 0.7853810264385692\n"
     ]
    }
   ],
   "source": [
    "best_model_tree = model\n",
    "for depth in range(1, 6):\n",
    "    model = DecisionTreeClassifier(random_state=12345, max_depth=depth) #  создадим модель, указав max_depth=depth \n",
    "    model.fit(features_train,target_train) #  обучим модель \n",
    "    predictions_valid = model.predict(features_valid) #  найдем предсказания на валидационной выборке \n",
    "\n",
    "    print(\"max_depth =\", depth, \": \", end='')\n",
    "    print(accuracy_score(target_valid, predictions_valid))\n"
   ]
  },
  {
   "cell_type": "markdown",
   "metadata": {},
   "source": [
    "Лучшее значение на глубине 5\n",
    "Попробуем взять больше ветвей\n"
   ]
  },
  {
   "cell_type": "code",
   "execution_count": 14,
   "metadata": {},
   "outputs": [
    {
     "name": "stdout",
     "output_type": "stream",
     "text": [
      "max_depth = 1 : 0.7402799377916018\n",
      "max_depth = 2 : 0.7729393468118196\n",
      "max_depth = 3 : 0.7776049766718507\n",
      "max_depth = 4 : 0.7542768273716952\n",
      "max_depth = 5 : 0.7853810264385692\n",
      "max_depth = 6 : 0.7744945567651633\n",
      "max_depth = 7 : 0.7869362363919129\n",
      "max_depth = 8 : 0.80248833592535\n",
      "max_depth = 9 : 0.7822706065318819\n",
      "max_depth = 10 : 0.7729393468118196\n",
      "max_depth = 11 : 0.7620528771384136\n",
      "max_depth = 12 : 0.7527216174183515\n",
      "max_depth = 13 : 0.744945567651633\n",
      "max_depth = 14 : 0.7558320373250389\n"
     ]
    }
   ],
   "source": [
    "for depth in range(1, 15):\n",
    "    model = DecisionTreeClassifier(random_state=12345, max_depth=depth) #  создадим модель, указав max_depth=depth \n",
    "    model.fit(features_train,target_train) #  обучим модель \n",
    "    predictions_valid = model.predict(features_valid) #  найдем предсказания на валидационной выборке \n",
    "\n",
    "    print(\"max_depth =\", depth, \": \", end='')\n",
    "    print(accuracy_score(target_valid, predictions_valid))"
   ]
  },
  {
   "cell_type": "markdown",
   "metadata": {},
   "source": [
    "Лучшее значение на глубине 8.\n",
    "Остановимся на ней"
   ]
  },
  {
   "cell_type": "markdown",
   "metadata": {},
   "source": [
    "Теперь исследуем модель случайный лес."
   ]
  },
  {
   "cell_type": "code",
   "execution_count": 15,
   "metadata": {},
   "outputs": [
    {
     "name": "stdout",
     "output_type": "stream",
     "text": [
      "Accuracy наилучшей модели на валидационной выборке: 0.7869362363919129\n"
     ]
    }
   ],
   "source": [
    "best_model = None\n",
    "best_result = 0\n",
    "for est in range(1, 11):\n",
    "    model = RandomForestClassifier(random_state=12345, n_estimators=est) # создадим модель с заданным количеством деревьев\n",
    "    model.fit(features_train, target_train) # обучим модель на тренировочной выборке\n",
    "    result = model.score(features_valid, target_valid) # посчитаем качество модели на валидационной выборке\n",
    "    if result > best_result:\n",
    "        best_model = model# сохраним наилучшую модель\n",
    "        best_result = result #  сохраним наилучшее значение метрики accuracy на валидационных данных\n",
    "\n",
    "print(\"Accuracy наилучшей модели на валидационной выборке:\", best_result)"
   ]
  },
  {
   "cell_type": "code",
   "execution_count": 16,
   "metadata": {},
   "outputs": [
    {
     "name": "stdout",
     "output_type": "stream",
     "text": [
      "Accuracy наилучшей модели на валидационной выборке: 0.7993779160186625\n"
     ]
    }
   ],
   "source": [
    "best_model = None\n",
    "best_result = 0\n",
    "for est in range(11, 30):\n",
    "    model = RandomForestClassifier(random_state=12345, n_estimators=est) # создадим модель с заданным количеством деревьев\n",
    "    model.fit(features_train, target_train) # обучите модель на тренировочной выборке\n",
    "    result = model.score(features_valid, target_valid) # посчитайте качество модели на валидационной выборке\n",
    "    if result > best_result:\n",
    "        best_model = model# сохраните наилучшую модель\n",
    "        best_result = result #  сохраните наилучшее значение метрики accuracy на валидационных данных\n",
    "\n",
    "print(\"Accuracy наилучшей модели на валидационной выборке:\", best_result)"
   ]
  },
  {
   "cell_type": "code",
   "execution_count": 17,
   "metadata": {},
   "outputs": [
    {
     "name": "stdout",
     "output_type": "stream",
     "text": [
      "Accuracy наилучшей модели на валидационной выборке: 0.8055987558320373\n"
     ]
    }
   ],
   "source": [
    "best_model_forest = None\n",
    "best_result = 0\n",
    "for est in range(40, 50):\n",
    "    model = RandomForestClassifier(random_state=12345, n_estimators=est) # создадим модель с заданным количеством деревьев\n",
    "    model.fit(features_train, target_train) # обучите модель на тренировочной выборке\n",
    "    result = model.score(features_valid, target_valid) # посчитайте качество модели на валидационной выборке\n",
    "    if result > best_result:\n",
    "        best_model_forest = model\n",
    " # сохраните наилучшую модель\n",
    "        best_result = result #  сохраните наилучшее значение метрики accuracy на валидационных данных\n",
    "\n",
    "print(\"Accuracy наилучшей модели на валидационной выборке:\", best_result)"
   ]
  },
  {
   "cell_type": "markdown",
   "metadata": {},
   "source": [
    "Лучший результат лежит в диапазоне от 40-50. \n"
   ]
  },
  {
   "cell_type": "markdown",
   "metadata": {},
   "source": [
    "Теперь исследуем модель Логическая регрессия"
   ]
  },
  {
   "cell_type": "code",
   "execution_count": 19,
   "metadata": {},
   "outputs": [
    {
     "data": {
      "text/plain": [
       "0.7476664592408214"
      ]
     },
     "execution_count": 19,
     "metadata": {},
     "output_type": "execute_result"
    }
   ],
   "source": [
    "model = LogisticRegression(random_state=12345, solver = 'lbfgs', max_iter = 100)# создадим модель с заданными параметрами, возьмем количество итераций по умолчанию \n",
    "model.fit(features_train, target_train)\n",
    "model_predict = model.predict(features_valid) \n",
    "model.score(features, target) \n"
   ]
  },
  {
   "cell_type": "markdown",
   "metadata": {},
   "source": [
    "Вывод: в этом разделе мы исследовали качество разных моделей. Самое низкое значение accurasy =0.8055987558320373 у нас плучитось на модели Логичкская регрессия.Самое высокое на модели Случайный лес = 0.7947122861586314."
   ]
  },
  {
   "cell_type": "markdown",
   "metadata": {},
   "source": [
    "## Проверьте модель на тестовой выборке"
   ]
  },
  {
   "cell_type": "markdown",
   "metadata": {},
   "source": [
    "Теперь проверим модель на тестовой выборке"
   ]
  },
  {
   "cell_type": "code",
   "execution_count": 20,
   "metadata": {},
   "outputs": [
    {
     "name": "stdout",
     "output_type": "stream",
     "text": [
      "Тестовая выборка: 0.7993779160186625\n"
     ]
    }
   ],
   "source": [
    "\n",
    "test_predictions = best_model_forest.predict(features_test)\n",
    "accuracy_score(target_test, test_predictions) \n",
    "\n",
    "print(\"Тестовая выборка:\", accuracy_score(target_test, test_predictions))\n"
   ]
  },
  {
   "cell_type": "markdown",
   "metadata": {},
   "source": [
    "Значение accurasy на тестовой модели немного уменьшилось. "
   ]
  },
  {
   "cell_type": "markdown",
   "metadata": {},
   "source": [
    "## (бонус) Проверьте модели на адекватность"
   ]
  },
  {
   "cell_type": "code",
   "execution_count": 21,
   "metadata": {},
   "outputs": [
    {
     "data": {
      "text/plain": [
       "0.6936236391912908"
      ]
     },
     "execution_count": 21,
     "metadata": {},
     "output_type": "execute_result"
    }
   ],
   "source": [
    "import numpy as np \n",
    "from sklearn.dummy import DummyClassifier\n",
    "\n",
    "dummy_clf = DummyClassifier ( strategy = \"most_frequent\" )\n",
    "dummy_clf . fit (features_train, target_train)\n",
    "DummyClassifier(strategy='most_frequent') \n",
    "dummy_clf . predict (features)\n",
    "dummy_clf . score (features_test, target_test)"
   ]
  }
 ],
 "metadata": {
  "ExecuteTimeLog": [
   {
    "duration": 1228,
    "start_time": "2022-11-02T10:10:28.582Z"
   },
   {
    "duration": 45,
    "start_time": "2022-11-02T10:12:02.184Z"
   },
   {
    "duration": 10,
    "start_time": "2022-11-02T10:21:13.023Z"
   },
   {
    "duration": 8,
    "start_time": "2022-11-02T10:26:48.511Z"
   },
   {
    "duration": 105,
    "start_time": "2022-11-02T10:27:03.009Z"
   },
   {
    "duration": 39,
    "start_time": "2022-11-02T10:27:54.984Z"
   },
   {
    "duration": 8,
    "start_time": "2022-11-02T10:27:58.956Z"
   },
   {
    "duration": 20,
    "start_time": "2022-11-02T10:28:00.554Z"
   },
   {
    "duration": 47,
    "start_time": "2022-11-02T10:28:41.590Z"
   },
   {
    "duration": 12,
    "start_time": "2022-11-02T10:28:45.349Z"
   },
   {
    "duration": 37,
    "start_time": "2022-11-02T10:28:47.205Z"
   },
   {
    "duration": 11,
    "start_time": "2022-11-02T10:28:58.417Z"
   },
   {
    "duration": 38,
    "start_time": "2022-11-02T10:29:42.155Z"
   },
   {
    "duration": 8,
    "start_time": "2022-11-02T10:29:45.055Z"
   },
   {
    "duration": 35,
    "start_time": "2022-11-02T10:29:46.957Z"
   },
   {
    "duration": 322,
    "start_time": "2022-11-02T10:29:48.525Z"
   },
   {
    "duration": 9,
    "start_time": "2022-11-02T10:30:03.483Z"
   },
   {
    "duration": 40,
    "start_time": "2022-11-02T10:32:28.964Z"
   },
   {
    "duration": 8,
    "start_time": "2022-11-02T10:32:32.228Z"
   },
   {
    "duration": 38,
    "start_time": "2022-11-02T10:32:33.366Z"
   },
   {
    "duration": 310,
    "start_time": "2022-11-02T10:32:34.103Z"
   },
   {
    "duration": 511,
    "start_time": "2022-11-02T10:32:35.145Z"
   },
   {
    "duration": 9,
    "start_time": "2022-11-02T10:56:28.081Z"
   },
   {
    "duration": 11,
    "start_time": "2022-11-02T11:03:39.254Z"
   },
   {
    "duration": 35,
    "start_time": "2022-11-02T11:04:48.006Z"
   },
   {
    "duration": 36,
    "start_time": "2022-11-02T11:05:44.542Z"
   },
   {
    "duration": 34,
    "start_time": "2022-11-02T11:13:10.073Z"
   },
   {
    "duration": 9,
    "start_time": "2022-11-02T11:13:17.812Z"
   },
   {
    "duration": 40,
    "start_time": "2022-11-02T11:13:21.686Z"
   },
   {
    "duration": 64,
    "start_time": "2022-11-02T11:14:48.310Z"
   },
   {
    "duration": 321,
    "start_time": "2022-11-02T11:15:04.626Z"
   },
   {
    "duration": 36,
    "start_time": "2022-11-02T11:15:30.076Z"
   },
   {
    "duration": 67,
    "start_time": "2022-11-02T11:16:19.239Z"
   },
   {
    "duration": 122,
    "start_time": "2022-11-02T11:16:35.032Z"
   },
   {
    "duration": 114,
    "start_time": "2022-11-02T11:16:44.479Z"
   },
   {
    "duration": 76,
    "start_time": "2022-11-02T11:18:42.730Z"
   },
   {
    "duration": 263,
    "start_time": "2022-11-02T11:20:24.137Z"
   },
   {
    "duration": 1823,
    "start_time": "2022-11-02T11:21:17.462Z"
   },
   {
    "duration": 19979,
    "start_time": "2022-11-02T11:21:40.955Z"
   },
   {
    "duration": 11,
    "start_time": "2022-11-02T11:31:44.177Z"
   },
   {
    "duration": 7,
    "start_time": "2022-11-02T11:32:10.716Z"
   },
   {
    "duration": 7,
    "start_time": "2022-11-02T11:32:36.794Z"
   },
   {
    "duration": 9,
    "start_time": "2022-11-02T11:32:42.577Z"
   },
   {
    "duration": 7,
    "start_time": "2022-11-02T11:32:53.553Z"
   },
   {
    "duration": 38,
    "start_time": "2022-11-02T11:35:47.395Z"
   },
   {
    "duration": 107,
    "start_time": "2022-11-02T11:35:49.559Z"
   },
   {
    "duration": 313,
    "start_time": "2022-11-02T11:35:58.988Z"
   },
   {
    "duration": 1766,
    "start_time": "2022-11-02T11:36:02.529Z"
   },
   {
    "duration": 19496,
    "start_time": "2022-11-02T11:36:04.296Z"
   },
   {
    "duration": 987,
    "start_time": "2022-11-02T11:37:13.968Z"
   },
   {
    "duration": 1500,
    "start_time": "2022-11-02T11:37:27.585Z"
   },
   {
    "duration": 17614,
    "start_time": "2022-11-02T11:37:58.428Z"
   },
   {
    "duration": 3098,
    "start_time": "2022-11-02T11:38:53.128Z"
   },
   {
    "duration": 10,
    "start_time": "2022-11-02T11:50:38.844Z"
   },
   {
    "duration": 12,
    "start_time": "2022-11-02T11:50:48.188Z"
   },
   {
    "duration": 13,
    "start_time": "2022-11-02T11:52:00.046Z"
   },
   {
    "duration": 11,
    "start_time": "2022-11-02T11:52:08.881Z"
   },
   {
    "duration": 36,
    "start_time": "2022-11-02T11:52:28.764Z"
   },
   {
    "duration": 37,
    "start_time": "2022-11-02T11:53:35.975Z"
   },
   {
    "duration": 1652,
    "start_time": "2022-11-02T12:01:58.088Z"
   },
   {
    "duration": 1598,
    "start_time": "2022-11-02T12:02:14.661Z"
   },
   {
    "duration": 1198,
    "start_time": "2022-11-02T12:59:42.953Z"
   },
   {
    "duration": 12,
    "start_time": "2022-11-02T12:59:44.153Z"
   },
   {
    "duration": 17,
    "start_time": "2022-11-02T12:59:44.167Z"
   },
   {
    "duration": 12,
    "start_time": "2022-11-02T12:59:44.187Z"
   },
   {
    "duration": 9,
    "start_time": "2022-11-02T12:59:44.200Z"
   },
   {
    "duration": 46,
    "start_time": "2022-11-02T12:59:44.210Z"
   },
   {
    "duration": 138,
    "start_time": "2022-11-02T12:59:44.258Z"
   },
   {
    "duration": 302,
    "start_time": "2022-11-02T12:59:44.398Z"
   },
   {
    "duration": 1629,
    "start_time": "2022-11-02T12:59:44.702Z"
   },
   {
    "duration": 3173,
    "start_time": "2022-11-02T12:59:46.333Z"
   },
   {
    "duration": 55,
    "start_time": "2022-11-02T12:59:49.508Z"
   },
   {
    "duration": 202,
    "start_time": "2022-11-02T12:59:49.565Z"
   },
   {
    "duration": 1813,
    "start_time": "2022-11-02T12:59:49.769Z"
   },
   {
    "duration": 146,
    "start_time": "2022-11-02T12:59:51.584Z"
   },
   {
    "duration": 0,
    "start_time": "2022-11-02T12:59:51.732Z"
   },
   {
    "duration": 110,
    "start_time": "2022-11-02T13:00:44.315Z"
   },
   {
    "duration": 32,
    "start_time": "2022-11-02T13:01:52.089Z"
   },
   {
    "duration": 30,
    "start_time": "2022-11-02T13:01:57.496Z"
   },
   {
    "duration": 95,
    "start_time": "2022-11-02T13:02:14.561Z"
   },
   {
    "duration": 30,
    "start_time": "2022-11-02T13:02:22.132Z"
   },
   {
    "duration": 1558,
    "start_time": "2022-11-02T13:15:37.425Z"
   },
   {
    "duration": 11,
    "start_time": "2022-11-02T13:15:59.001Z"
   },
   {
    "duration": 10,
    "start_time": "2022-11-02T13:16:25.625Z"
   },
   {
    "duration": 12,
    "start_time": "2022-11-02T13:29:05.797Z"
   },
   {
    "duration": 20,
    "start_time": "2022-11-02T13:32:11.524Z"
   },
   {
    "duration": 19,
    "start_time": "2022-11-02T13:32:27.402Z"
   },
   {
    "duration": 11,
    "start_time": "2022-11-02T13:32:50.944Z"
   },
   {
    "duration": 38,
    "start_time": "2022-11-02T13:33:35.763Z"
   },
   {
    "duration": 18,
    "start_time": "2022-11-02T13:34:07.767Z"
   },
   {
    "duration": 19,
    "start_time": "2022-11-02T13:39:59.214Z"
   },
   {
    "duration": 47,
    "start_time": "2022-11-02T13:40:10.665Z"
   },
   {
    "duration": 15,
    "start_time": "2022-11-02T13:40:21.496Z"
   },
   {
    "duration": 12,
    "start_time": "2022-11-02T13:41:47.374Z"
   },
   {
    "duration": 14,
    "start_time": "2022-11-02T13:42:17.148Z"
   },
   {
    "duration": 1342,
    "start_time": "2022-11-02T13:42:24.574Z"
   },
   {
    "duration": 11,
    "start_time": "2022-11-02T13:42:25.918Z"
   },
   {
    "duration": 15,
    "start_time": "2022-11-02T13:42:25.931Z"
   },
   {
    "duration": 17,
    "start_time": "2022-11-02T13:42:25.948Z"
   },
   {
    "duration": 16,
    "start_time": "2022-11-02T13:42:25.967Z"
   },
   {
    "duration": 45,
    "start_time": "2022-11-02T13:42:25.984Z"
   },
   {
    "duration": 140,
    "start_time": "2022-11-02T13:42:26.031Z"
   },
   {
    "duration": 317,
    "start_time": "2022-11-02T13:42:26.173Z"
   },
   {
    "duration": 1750,
    "start_time": "2022-11-02T13:42:26.493Z"
   },
   {
    "duration": 3506,
    "start_time": "2022-11-02T13:42:28.246Z"
   },
   {
    "duration": 104,
    "start_time": "2022-11-02T13:42:31.754Z"
   },
   {
    "duration": 219,
    "start_time": "2022-11-02T13:42:31.860Z"
   },
   {
    "duration": 0,
    "start_time": "2022-11-02T13:42:32.081Z"
   },
   {
    "duration": 0,
    "start_time": "2022-11-02T13:42:32.083Z"
   },
   {
    "duration": 0,
    "start_time": "2022-11-02T13:42:32.084Z"
   },
   {
    "duration": 1366,
    "start_time": "2022-11-02T13:43:23.331Z"
   },
   {
    "duration": 3114,
    "start_time": "2022-11-02T13:43:34.916Z"
   },
   {
    "duration": 1760,
    "start_time": "2022-11-02T13:43:46.921Z"
   },
   {
    "duration": 67,
    "start_time": "2022-11-02T13:44:05.388Z"
   },
   {
    "duration": 44,
    "start_time": "2022-11-02T13:44:16.132Z"
   },
   {
    "duration": 1937,
    "start_time": "2022-11-02T13:45:40.429Z"
   },
   {
    "duration": 549,
    "start_time": "2022-11-02T13:56:40.807Z"
   },
   {
    "duration": 7,
    "start_time": "2022-11-02T13:59:01.291Z"
   },
   {
    "duration": 7,
    "start_time": "2022-11-02T13:59:19.869Z"
   },
   {
    "duration": 6,
    "start_time": "2022-11-02T14:00:24.368Z"
   },
   {
    "duration": 7,
    "start_time": "2022-11-02T14:06:43.529Z"
   },
   {
    "duration": 50,
    "start_time": "2022-11-03T06:34:59.236Z"
   },
   {
    "duration": 1282,
    "start_time": "2022-11-03T06:35:05.410Z"
   },
   {
    "duration": 13,
    "start_time": "2022-11-03T06:35:06.694Z"
   },
   {
    "duration": 16,
    "start_time": "2022-11-03T06:35:06.708Z"
   },
   {
    "duration": 8,
    "start_time": "2022-11-03T06:35:06.727Z"
   },
   {
    "duration": 13,
    "start_time": "2022-11-03T06:35:06.737Z"
   },
   {
    "duration": 43,
    "start_time": "2022-11-03T06:35:06.752Z"
   },
   {
    "duration": 172,
    "start_time": "2022-11-03T06:35:06.798Z"
   },
   {
    "duration": 342,
    "start_time": "2022-11-03T06:35:06.971Z"
   },
   {
    "duration": 1572,
    "start_time": "2022-11-03T06:35:07.316Z"
   },
   {
    "duration": 1738,
    "start_time": "2022-11-03T06:35:08.891Z"
   },
   {
    "duration": 59,
    "start_time": "2022-11-03T06:35:10.631Z"
   },
   {
    "duration": 177,
    "start_time": "2022-11-03T06:35:10.691Z"
   },
   {
    "duration": 401,
    "start_time": "2022-11-03T06:35:10.869Z"
   },
   {
    "duration": 7,
    "start_time": "2022-11-03T06:35:11.272Z"
   },
   {
    "duration": 12,
    "start_time": "2022-11-03T07:04:24.939Z"
   },
   {
    "duration": 126,
    "start_time": "2022-11-03T07:06:40.740Z"
   },
   {
    "duration": 11,
    "start_time": "2022-11-03T07:08:18.142Z"
   },
   {
    "duration": 10,
    "start_time": "2022-11-03T07:08:38.482Z"
   },
   {
    "duration": 2772,
    "start_time": "2022-11-03T09:25:06.352Z"
   },
   {
    "duration": 12,
    "start_time": "2022-11-03T09:25:09.126Z"
   },
   {
    "duration": 15,
    "start_time": "2022-11-03T09:25:09.139Z"
   },
   {
    "duration": 25,
    "start_time": "2022-11-03T09:25:09.156Z"
   },
   {
    "duration": 16,
    "start_time": "2022-11-03T09:25:09.184Z"
   },
   {
    "duration": 48,
    "start_time": "2022-11-03T09:25:09.202Z"
   },
   {
    "duration": 127,
    "start_time": "2022-11-03T09:25:09.253Z"
   },
   {
    "duration": 274,
    "start_time": "2022-11-03T09:25:09.382Z"
   },
   {
    "duration": 1587,
    "start_time": "2022-11-03T09:25:09.658Z"
   },
   {
    "duration": 1814,
    "start_time": "2022-11-03T09:25:11.247Z"
   },
   {
    "duration": 98,
    "start_time": "2022-11-03T09:25:13.062Z"
   },
   {
    "duration": 125,
    "start_time": "2022-11-03T09:25:13.161Z"
   },
   {
    "duration": 171,
    "start_time": "2022-11-03T09:25:13.288Z"
   },
   {
    "duration": 35,
    "start_time": "2022-11-03T09:25:13.461Z"
   },
   {
    "duration": 5,
    "start_time": "2022-11-03T09:25:26.125Z"
   },
   {
    "duration": 54,
    "start_time": "2022-11-03T09:46:04.638Z"
   },
   {
    "duration": 1192,
    "start_time": "2022-11-03T09:46:19.503Z"
   },
   {
    "duration": 12,
    "start_time": "2022-11-03T09:46:20.698Z"
   },
   {
    "duration": 13,
    "start_time": "2022-11-03T09:46:20.712Z"
   },
   {
    "duration": 8,
    "start_time": "2022-11-03T09:46:20.727Z"
   },
   {
    "duration": 20,
    "start_time": "2022-11-03T09:46:20.737Z"
   },
   {
    "duration": 43,
    "start_time": "2022-11-03T09:46:20.759Z"
   },
   {
    "duration": 122,
    "start_time": "2022-11-03T09:46:20.803Z"
   },
   {
    "duration": 256,
    "start_time": "2022-11-03T09:46:20.927Z"
   },
   {
    "duration": 1565,
    "start_time": "2022-11-03T09:46:21.185Z"
   },
   {
    "duration": 1704,
    "start_time": "2022-11-03T09:46:22.753Z"
   },
   {
    "duration": 41,
    "start_time": "2022-11-03T09:46:24.459Z"
   },
   {
    "duration": 131,
    "start_time": "2022-11-03T09:46:24.555Z"
   },
   {
    "duration": 254,
    "start_time": "2022-11-03T09:46:24.688Z"
   },
   {
    "duration": 0,
    "start_time": "2022-11-03T09:46:24.944Z"
   },
   {
    "duration": 14,
    "start_time": "2022-11-03T09:49:57.638Z"
   },
   {
    "duration": 1708,
    "start_time": "2022-11-03T09:51:22.628Z"
   },
   {
    "duration": 22,
    "start_time": "2022-11-03T09:51:49.351Z"
   },
   {
    "duration": 41,
    "start_time": "2022-11-03T10:31:43.789Z"
   },
   {
    "duration": 15,
    "start_time": "2022-11-03T10:31:43.832Z"
   },
   {
    "duration": 9,
    "start_time": "2022-11-03T10:31:43.849Z"
   },
   {
    "duration": 7,
    "start_time": "2022-11-03T10:31:43.860Z"
   },
   {
    "duration": 15,
    "start_time": "2022-11-03T10:31:43.869Z"
   },
   {
    "duration": 44,
    "start_time": "2022-11-03T10:31:43.886Z"
   },
   {
    "duration": 129,
    "start_time": "2022-11-03T10:31:43.932Z"
   },
   {
    "duration": 272,
    "start_time": "2022-11-03T10:31:44.063Z"
   },
   {
    "duration": 1550,
    "start_time": "2022-11-03T10:31:44.337Z"
   },
   {
    "duration": 1776,
    "start_time": "2022-11-03T10:31:45.889Z"
   },
   {
    "duration": 39,
    "start_time": "2022-11-03T10:31:47.667Z"
   },
   {
    "duration": 171,
    "start_time": "2022-11-03T10:31:47.708Z"
   },
   {
    "duration": 1876,
    "start_time": "2022-11-03T10:31:47.881Z"
   },
   {
    "duration": 17,
    "start_time": "2022-11-03T10:31:49.760Z"
   },
   {
    "duration": 7,
    "start_time": "2022-11-03T10:31:49.778Z"
   },
   {
    "duration": 4,
    "start_time": "2022-11-03T10:33:50.132Z"
   },
   {
    "duration": 52,
    "start_time": "2022-11-03T11:07:36.963Z"
   },
   {
    "duration": 1228,
    "start_time": "2022-11-03T11:07:42.156Z"
   },
   {
    "duration": 11,
    "start_time": "2022-11-03T11:07:43.387Z"
   },
   {
    "duration": 24,
    "start_time": "2022-11-03T11:07:43.400Z"
   },
   {
    "duration": 34,
    "start_time": "2022-11-03T11:07:43.427Z"
   },
   {
    "duration": 53,
    "start_time": "2022-11-03T11:07:43.463Z"
   },
   {
    "duration": 64,
    "start_time": "2022-11-03T11:07:43.518Z"
   },
   {
    "duration": 125,
    "start_time": "2022-11-03T11:07:43.584Z"
   },
   {
    "duration": 278,
    "start_time": "2022-11-03T11:07:43.720Z"
   },
   {
    "duration": 1593,
    "start_time": "2022-11-03T11:07:44.000Z"
   },
   {
    "duration": 1725,
    "start_time": "2022-11-03T11:07:45.596Z"
   },
   {
    "duration": 100,
    "start_time": "2022-11-03T11:07:47.323Z"
   },
   {
    "duration": 131,
    "start_time": "2022-11-03T11:07:47.424Z"
   },
   {
    "duration": 1958,
    "start_time": "2022-11-03T11:07:47.557Z"
   },
   {
    "duration": 21,
    "start_time": "2022-11-03T11:07:49.517Z"
   },
   {
    "duration": 38,
    "start_time": "2022-11-03T11:07:49.540Z"
   },
   {
    "duration": 24,
    "start_time": "2022-11-03T11:08:09.125Z"
   },
   {
    "duration": 16,
    "start_time": "2022-11-03T11:08:43.474Z"
   },
   {
    "duration": 6427,
    "start_time": "2022-11-03T15:28:14.033Z"
   },
   {
    "duration": 12,
    "start_time": "2022-11-03T15:28:20.462Z"
   },
   {
    "duration": 22,
    "start_time": "2022-11-03T15:28:20.475Z"
   },
   {
    "duration": 21,
    "start_time": "2022-11-03T15:28:20.499Z"
   },
   {
    "duration": 11,
    "start_time": "2022-11-03T15:28:20.523Z"
   },
   {
    "duration": 34,
    "start_time": "2022-11-03T15:28:20.535Z"
   },
   {
    "duration": 140,
    "start_time": "2022-11-03T15:28:20.571Z"
   },
   {
    "duration": 280,
    "start_time": "2022-11-03T15:28:20.712Z"
   },
   {
    "duration": 1556,
    "start_time": "2022-11-03T15:28:20.994Z"
   },
   {
    "duration": 1755,
    "start_time": "2022-11-03T15:28:22.552Z"
   },
   {
    "duration": 116,
    "start_time": "2022-11-03T15:28:24.308Z"
   },
   {
    "duration": 131,
    "start_time": "2022-11-03T15:28:24.426Z"
   },
   {
    "duration": 67,
    "start_time": "2022-11-03T15:28:24.559Z"
   },
   {
    "duration": 100,
    "start_time": "2022-11-03T15:28:24.629Z"
   },
   {
    "duration": 5,
    "start_time": "2022-11-03T15:30:22.466Z"
   },
   {
    "duration": 39,
    "start_time": "2022-11-03T15:30:26.199Z"
   },
   {
    "duration": 1290,
    "start_time": "2022-11-04T06:05:54.255Z"
   },
   {
    "duration": 12,
    "start_time": "2022-11-04T06:05:55.547Z"
   },
   {
    "duration": 7,
    "start_time": "2022-11-04T06:05:55.560Z"
   },
   {
    "duration": 6,
    "start_time": "2022-11-04T06:05:55.569Z"
   },
   {
    "duration": 11,
    "start_time": "2022-11-04T06:05:55.576Z"
   },
   {
    "duration": 116,
    "start_time": "2022-11-04T06:05:55.623Z"
   },
   {
    "duration": 0,
    "start_time": "2022-11-04T06:05:55.742Z"
   },
   {
    "duration": 0,
    "start_time": "2022-11-04T06:05:55.744Z"
   },
   {
    "duration": 0,
    "start_time": "2022-11-04T06:05:55.745Z"
   },
   {
    "duration": 0,
    "start_time": "2022-11-04T06:05:55.747Z"
   },
   {
    "duration": 0,
    "start_time": "2022-11-04T06:05:55.749Z"
   },
   {
    "duration": 0,
    "start_time": "2022-11-04T06:05:55.751Z"
   },
   {
    "duration": 0,
    "start_time": "2022-11-04T06:05:55.753Z"
   },
   {
    "duration": 0,
    "start_time": "2022-11-04T06:05:55.754Z"
   },
   {
    "duration": 1093,
    "start_time": "2022-11-04T06:06:13.336Z"
   },
   {
    "duration": 10,
    "start_time": "2022-11-04T06:06:14.430Z"
   },
   {
    "duration": 18,
    "start_time": "2022-11-04T06:06:14.441Z"
   },
   {
    "duration": 20,
    "start_time": "2022-11-04T06:06:14.461Z"
   },
   {
    "duration": 19,
    "start_time": "2022-11-04T06:06:14.483Z"
   },
   {
    "duration": 101,
    "start_time": "2022-11-04T06:06:14.504Z"
   },
   {
    "duration": 0,
    "start_time": "2022-11-04T06:06:14.607Z"
   },
   {
    "duration": 0,
    "start_time": "2022-11-04T06:06:14.608Z"
   },
   {
    "duration": 0,
    "start_time": "2022-11-04T06:06:14.609Z"
   },
   {
    "duration": 0,
    "start_time": "2022-11-04T06:06:14.611Z"
   },
   {
    "duration": 0,
    "start_time": "2022-11-04T06:06:14.612Z"
   },
   {
    "duration": 0,
    "start_time": "2022-11-04T06:06:14.613Z"
   },
   {
    "duration": 0,
    "start_time": "2022-11-04T06:06:14.622Z"
   },
   {
    "duration": 0,
    "start_time": "2022-11-04T06:06:14.623Z"
   },
   {
    "duration": 61,
    "start_time": "2022-11-04T06:06:35.363Z"
   },
   {
    "duration": 38,
    "start_time": "2022-11-04T06:06:45.345Z"
   },
   {
    "duration": 12,
    "start_time": "2022-11-04T06:06:45.699Z"
   },
   {
    "duration": 7,
    "start_time": "2022-11-04T06:06:45.901Z"
   },
   {
    "duration": 8,
    "start_time": "2022-11-04T06:06:46.290Z"
   },
   {
    "duration": 10,
    "start_time": "2022-11-04T06:06:48.392Z"
   },
   {
    "duration": 30,
    "start_time": "2022-11-04T06:06:50.483Z"
   },
   {
    "duration": 103,
    "start_time": "2022-11-04T06:06:52.440Z"
   },
   {
    "duration": 227,
    "start_time": "2022-11-04T06:06:55.256Z"
   },
   {
    "duration": 1412,
    "start_time": "2022-11-04T06:06:57.155Z"
   },
   {
    "duration": 1643,
    "start_time": "2022-11-04T06:06:58.568Z"
   },
   {
    "duration": 70,
    "start_time": "2022-11-04T06:07:17.255Z"
   },
   {
    "duration": 40,
    "start_time": "2022-11-04T06:07:19.892Z"
   },
   {
    "duration": 16,
    "start_time": "2022-11-04T06:07:29.278Z"
   },
   {
    "duration": 9,
    "start_time": "2022-11-04T06:08:25.661Z"
   }
  ],
  "kernelspec": {
   "display_name": "Python 3 (ipykernel)",
   "language": "python",
   "name": "python3"
  },
  "language_info": {
   "codemirror_mode": {
    "name": "ipython",
    "version": 3
   },
   "file_extension": ".py",
   "mimetype": "text/x-python",
   "name": "python",
   "nbconvert_exporter": "python",
   "pygments_lexer": "ipython3",
   "version": "3.9.5"
  },
  "toc": {
   "base_numbering": 1,
   "nav_menu": {},
   "number_sections": true,
   "sideBar": true,
   "skip_h1_title": true,
   "title_cell": "Table of Contents",
   "title_sidebar": "Contents",
   "toc_cell": false,
   "toc_position": {},
   "toc_section_display": true,
   "toc_window_display": false
  }
 },
 "nbformat": 4,
 "nbformat_minor": 2
}
